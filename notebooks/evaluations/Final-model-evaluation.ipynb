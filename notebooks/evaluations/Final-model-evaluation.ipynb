{
 "cells": [
  {
   "cell_type": "markdown",
   "metadata": {},
   "source": [
    "# Preamble"
   ]
  },
  {
   "cell_type": "code",
   "execution_count": 2,
   "metadata": {
    "ExecuteTime": {
     "end_time": "2020-07-19T11:24:24.417346Z",
     "start_time": "2020-07-19T11:24:14.523283Z"
    }
   },
   "outputs": [],
   "source": [
    "%load_ext autoreload\n",
    "\n",
    "import os\n",
    "import sys\n",
    "module_path = os.path.abspath(os.path.join('../../../src/'))\n",
    "if module_path not in sys.path:\n",
    "    sys.path.append(module_path)\n",
    "    \n",
    "import torch\n",
    "from tqdm import tqdm\n",
    "from sklearn import metrics\n",
    "\n",
    "import config"
   ]
  },
  {
   "cell_type": "code",
   "execution_count": 3,
   "metadata": {
    "ExecuteTime": {
     "end_time": "2020-07-19T11:24:24.471882Z",
     "start_time": "2020-07-19T11:24:24.421787Z"
    }
   },
   "outputs": [
    {
     "name": "stdout",
     "output_type": "stream",
     "text": [
      "CUDA Available:  True\n"
     ]
    }
   ],
   "source": [
    "# Define what device we are using\n",
    "print(\"CUDA Available: \",torch.cuda.is_available())\n",
    "use_cuda=True\n",
    "device = torch.device(\"cuda\" if (use_cuda and torch.cuda.is_available()) else \"cpu\")"
   ]
  },
  {
   "cell_type": "markdown",
   "metadata": {},
   "source": [
    "# Validating"
   ]
  },
  {
   "cell_type": "code",
   "execution_count": 7,
   "metadata": {
    "ExecuteTime": {
     "end_time": "2020-07-16T23:57:33.010215Z",
     "start_time": "2020-07-16T23:57:33.003880Z"
    }
   },
   "outputs": [],
   "source": [
    "def reportScore(y_true, y_pred):\n",
    "    print(\"\\t\\tAccuracy:\\t\" + str(round(metrics.accuracy_score(y_true,y_pred), 2)))\n",
    "    print(\"\\t\\tPrecision:\\t\" + str(round(metrics.precision_score(y_true,y_pred), 2)))\n",
    "    print(\"\\t\\tRecall:   \\t\" + str(round(metrics.recall_score(y_true,y_pred), 2)))\n",
    "    print(\"\\t\\tF1-score:\\t\" + str(round(metrics.f1_score(y_true,y_pred), 2)))\n",
    "    #tn, fp, fn, tp = metrics.confusion_matrix(y_true,y_pred).ravel()"
   ]
  },
  {
   "cell_type": "code",
   "execution_count": 8,
   "metadata": {
    "ExecuteTime": {
     "end_time": "2020-07-16T23:57:33.627813Z",
     "start_time": "2020-07-16T23:57:33.620431Z"
    }
   },
   "outputs": [],
   "source": [
    "def validate(model, data_split=\"validation\", progress_bar=True):\n",
    "    data_loader = model.get_dataloader(data_split, shuffle=False) \n",
    "    model.eval()\n",
    "\n",
    "    y_true = []\n",
    "    y_pred = []\n",
    "    with torch.no_grad():\n",
    "        for data in tqdm(data_loader,disable=not progress_bar):\n",
    "            data['audio'], data['label'] = data['audio'].to(device), data['label'].to(device)\n",
    "            outputs = model(data)\n",
    "\n",
    "            y_pred.append(torch.max(outputs.data, 1)[1].item())\n",
    "            y_true.append(data['label'].item())\n",
    "            \n",
    "    reportScore(y_true, y_pred)"
   ]
  },
  {
   "cell_type": "code",
   "execution_count": 9,
   "metadata": {
    "ExecuteTime": {
     "end_time": "2020-07-19T11:24:43.925655Z",
     "start_time": "2020-07-19T11:24:43.916320Z"
    }
   },
   "outputs": [],
   "source": [
    "def load_models(models):\n",
    "    loades_models = []\n",
    "    \n",
    "    for (model_path, model_class) in models:\n",
    "        loaded_dict = torch.load(model_path)\n",
    "        model = model_class(loaded_dict['hparams'])\n",
    "        model.model.load_state_dict(loaded_dict[\"state_dict\"])\n",
    "        model = model.eval().cuda()\n",
    "        loades_models.append(model)\n",
    "    return loades_models"
   ]
  },
  {
   "cell_type": "markdown",
   "metadata": {},
   "source": [
    "# Dataset 1"
   ]
  },
  {
   "cell_type": "code",
   "execution_count": 34,
   "metadata": {
    "ExecuteTime": {
     "end_time": "2020-07-19T14:31:56.982885Z",
     "start_time": "2020-07-19T14:31:56.974986Z"
    }
   },
   "outputs": [],
   "source": [
    "from datasets.datasethandler import DatasetHandler \n",
    "datasetHandler = DatasetHandler()"
   ]
  },
  {
   "cell_type": "code",
   "execution_count": 35,
   "metadata": {
    "ExecuteTime": {
     "end_time": "2020-07-19T14:31:57.643871Z",
     "start_time": "2020-07-19T14:31:57.636517Z"
    }
   },
   "outputs": [],
   "source": [
    "from classification.models.M5 import M5PLModule\n",
    "from classification.models.CRNN import CRNNPLModule\n",
    "from classification.models.SpectrogramCNN import SpectrogramCNNPLModule\n",
    "from classification.models.DeepRecursiveCNN import DeepRecursiveCNNPLModule\n",
    "\n",
    "# 8k models\n",
    "from classification.models.SpectrogramCNN_8K import SpectrogramCNN_8KPLModule\n",
    "from classification.models.DeepRecursiveCNN8k import DeepRecursiveCNN8kPLModule\n",
    "from classification.models.CRNN_8k import CRNN8kPLModule"
   ]
  },
  {
   "cell_type": "code",
   "execution_count": 49,
   "metadata": {
    "ExecuteTime": {
     "end_time": "2020-07-20T08:50:16.150402Z",
     "start_time": "2020-07-20T08:50:15.985017Z"
    }
   },
   "outputs": [],
   "source": [
    "models = [# 48k models\n",
    "          ('/nfs/students/summer-term-2020/project-4/SAVED_MODELS/SpectrogramCNN/SpectrogramCNN_optuna_90.5.p', SpectrogramCNNPLModule),\n",
    "          (\"/nfs/students/summer-term-2020/project-4/SAVED_MODELS/DeepRecursiveCNN/DeepRecursiveCNN_vanilla.p\", DeepRecursiveCNNPLModule),\n",
    "          (\"/nfs/students/summer-term-2020/project-4/SAVED_MODELS/CRNN/vanilla_0.878.p\", CRNNPLModule),\n",
    "          \n",
    "          # 8k models\n",
    "          (\"/nfs/students/summer-term-2020/project-4/SAVED_MODELS/M5/M5_vanilla.p\", M5PLModule),\n",
    "          (\"/nfs/students/summer-term-2020/project-4/SAVED_MODELS/SpectrogramCNN_8K/SpectrogramCNN_8k_vanilla_0.8998.p\", SpectrogramCNN_8KPLModule),\n",
    "          (\"/nfs/students/summer-term-2020/project-4/SAVED_MODELS/CRNN8k/CRNN8k_vanilla_0.8951.p\", CRNN8kPLModule),\n",
    "          (\"/nfs/students/summer-term-2020/project-4/SAVED_MODELS/DeepRecursiveCNN8k/optuna_deep8k_0.87.p\", DeepRecursiveCNN8kPLModule)\n",
    "         ]\n",
    "models = load_models(models)"
   ]
  },
  {
   "cell_type": "code",
   "execution_count": 13,
   "metadata": {
    "ExecuteTime": {
     "end_time": "2020-07-16T20:15:33.715470Z",
     "start_time": "2020-07-16T20:15:33.705818Z"
    },
    "scrolled": false
   },
   "outputs": [],
   "source": [
    "for model in models:\n",
    "    datasetHandler.load_datasets(model, old_data=(model.__class__.__name__ == \"M5PLModule\"))"
   ]
  },
  {
   "cell_type": "code",
   "execution_count": 14,
   "metadata": {
    "ExecuteTime": {
     "end_time": "2020-07-16T20:23:01.781042Z",
     "start_time": "2020-07-16T20:15:36.406771Z"
    }
   },
   "outputs": [
    {
     "name": "stdout",
     "output_type": "stream",
     "text": [
      "SpectrogramCNNPLModule\n",
      "\ttraining\n",
      "\t\tAccuracy:\t0.94\n",
      "\t\tPrecision:\t0.94\n",
      "\t\tRecall:   \t0.95\n",
      "\t\tF1-score:\t0.94\n",
      "\tvalidation\n",
      "\t\tAccuracy:\t0.9\n",
      "\t\tPrecision:\t0.9\n",
      "\t\tRecall:   \t0.91\n",
      "\t\tF1-score:\t0.9\n",
      "\ttesting\n",
      "\t\tAccuracy:\t0.9\n",
      "\t\tPrecision:\t0.9\n",
      "\t\tRecall:   \t0.89\n",
      "\t\tF1-score:\t0.9\n",
      "\n",
      "DeepRecursiveCNNPLModule\n",
      "\ttraining\n",
      "\t\tAccuracy:\t0.88\n",
      "\t\tPrecision:\t0.88\n",
      "\t\tRecall:   \t0.89\n",
      "\t\tF1-score:\t0.88\n",
      "\tvalidation\n",
      "\t\tAccuracy:\t0.89\n",
      "\t\tPrecision:\t0.88\n",
      "\t\tRecall:   \t0.9\n",
      "\t\tF1-score:\t0.89\n",
      "\ttesting\n",
      "\t\tAccuracy:\t0.89\n",
      "\t\tPrecision:\t0.89\n",
      "\t\tRecall:   \t0.88\n",
      "\t\tF1-score:\t0.88\n",
      "\n",
      "CRNNPLModule\n",
      "\ttraining\n",
      "\t\tAccuracy:\t0.88\n",
      "\t\tPrecision:\t0.88\n",
      "\t\tRecall:   \t0.89\n",
      "\t\tF1-score:\t0.89\n",
      "\tvalidation\n",
      "\t\tAccuracy:\t0.88\n",
      "\t\tPrecision:\t0.87\n",
      "\t\tRecall:   \t0.88\n",
      "\t\tF1-score:\t0.88\n",
      "\ttesting\n",
      "\t\tAccuracy:\t0.87\n",
      "\t\tPrecision:\t0.88\n",
      "\t\tRecall:   \t0.86\n",
      "\t\tF1-score:\t0.87\n",
      "\n",
      "M5PLModule\n",
      "\ttraining\n",
      "\t\tAccuracy:\t0.89\n",
      "\t\tPrecision:\t0.88\n",
      "\t\tRecall:   \t0.91\n",
      "\t\tF1-score:\t0.89\n",
      "\tvalidation\n",
      "\t\tAccuracy:\t0.87\n",
      "\t\tPrecision:\t0.86\n",
      "\t\tRecall:   \t0.88\n",
      "\t\tF1-score:\t0.87\n",
      "\ttesting\n",
      "\t\tAccuracy:\t0.88\n",
      "\t\tPrecision:\t0.88\n",
      "\t\tRecall:   \t0.88\n",
      "\t\tF1-score:\t0.88\n",
      "\n",
      "SpectrogramCNN_8KPLModule\n",
      "\ttraining\n",
      "\t\tAccuracy:\t0.92\n",
      "\t\tPrecision:\t0.94\n",
      "\t\tRecall:   \t0.91\n",
      "\t\tF1-score:\t0.92\n",
      "\tvalidation\n",
      "\t\tAccuracy:\t0.9\n",
      "\t\tPrecision:\t0.91\n",
      "\t\tRecall:   \t0.88\n",
      "\t\tF1-score:\t0.9\n",
      "\ttesting\n",
      "\t\tAccuracy:\t0.9\n",
      "\t\tPrecision:\t0.92\n",
      "\t\tRecall:   \t0.87\n",
      "\t\tF1-score:\t0.89\n",
      "\n",
      "CRNN8kPLModule\n",
      "\ttraining\n",
      "\t\tAccuracy:\t0.92\n",
      "\t\tPrecision:\t0.92\n",
      "\t\tRecall:   \t0.91\n",
      "\t\tF1-score:\t0.92\n",
      "\tvalidation\n",
      "\t\tAccuracy:\t0.9\n",
      "\t\tPrecision:\t0.89\n",
      "\t\tRecall:   \t0.9\n",
      "\t\tF1-score:\t0.89\n",
      "\ttesting\n",
      "\t\tAccuracy:\t0.9\n",
      "\t\tPrecision:\t0.91\n",
      "\t\tRecall:   \t0.88\n",
      "\t\tF1-score:\t0.89\n",
      "\n",
      "DeepRecursiveCNN8kPLModule\n",
      "\ttraining\n",
      "\t\tAccuracy:\t0.88\n",
      "\t\tPrecision:\t0.88\n",
      "\t\tRecall:   \t0.87\n",
      "\t\tF1-score:\t0.88\n",
      "\tvalidation\n",
      "\t\tAccuracy:\t0.87\n",
      "\t\tPrecision:\t0.87\n",
      "\t\tRecall:   \t0.87\n",
      "\t\tF1-score:\t0.87\n",
      "\ttesting\n",
      "\t\tAccuracy:\t0.87\n",
      "\t\tPrecision:\t0.88\n",
      "\t\tRecall:   \t0.85\n",
      "\t\tF1-score:\t0.87\n",
      "\n"
     ]
    }
   ],
   "source": [
    "for model in models:\n",
    "    print(model.__class__.__name__)\n",
    "    for data_split in [\"training\", \"validation\", \"testing\"]:\n",
    "        print(\"\\t\" + data_split)\n",
    "        validate(model, data_split=data_split, progress_bar=False)\n",
    "    print()"
   ]
  },
  {
   "cell_type": "markdown",
   "metadata": {},
   "source": [
    "# Dataset 2"
   ]
  },
  {
   "cell_type": "code",
   "execution_count": 6,
   "metadata": {
    "ExecuteTime": {
     "end_time": "2020-07-19T11:24:34.631177Z",
     "start_time": "2020-07-19T11:24:34.624642Z"
    }
   },
   "outputs": [],
   "source": [
    "from datasets.datasethandler import DatasetHandler \n",
    "datasetHandler_dataset2 = DatasetHandler()"
   ]
  },
  {
   "cell_type": "code",
   "execution_count": 7,
   "metadata": {
    "ExecuteTime": {
     "end_time": "2020-07-19T11:24:36.337037Z",
     "start_time": "2020-07-19T11:24:36.326796Z"
    }
   },
   "outputs": [],
   "source": [
    "from classification.models.SpectrogramCNN_8K_Dataset2 import SpectrogramCNN_8K_Dataset2_PLModule\n",
    "from classification.models.CRNN_8k_D2 import CRNN8k_D2_PLModule"
   ]
  },
  {
   "cell_type": "code",
   "execution_count": 10,
   "metadata": {
    "ExecuteTime": {
     "end_time": "2020-07-19T11:24:54.819315Z",
     "start_time": "2020-07-19T11:24:47.772714Z"
    }
   },
   "outputs": [],
   "source": [
    "models = [\n",
    "          (\"/nfs/students/summer-term-2020/project-4/SAVED_MODELS/SpectrogramCNN8K_D2/optuna_spec8kd2_0.9144.p\", SpectrogramCNN_8K_Dataset2_PLModule),\n",
    "          (\"/nfs/students/summer-term-2020/project-4/SAVED_MODELS/CRNN8k_D2/optuna_crnn8kd2_0.897.p\", CRNN8k_D2_PLModule)\n",
    "         ]\n",
    "models = load_models(models)"
   ]
  },
  {
   "cell_type": "code",
   "execution_count": 11,
   "metadata": {
    "ExecuteTime": {
     "end_time": "2020-07-19T11:26:08.901137Z",
     "start_time": "2020-07-19T11:25:38.960407Z"
    }
   },
   "outputs": [
    {
     "name": "stdout",
     "output_type": "stream",
     "text": [
      "Loading cached training data of dataset 1 from /nfs/students/summer-term-2020/project-4/data/dataset2/dataset_8k/\n",
      "Loading cached validation data of dataset 1 from /nfs/students/summer-term-2020/project-4/data/dataset2/dataset_8k/\n",
      "Loading cached testing data of dataset 1 from /nfs/students/summer-term-2020/project-4/data/dataset2/dataset_8k/\n"
     ]
    }
   ],
   "source": [
    "for model in models:\n",
    "    datasetHandler_dataset2.load_datasets(model, dataset_id=config.DATASET_CONTROL)"
   ]
  },
  {
   "cell_type": "code",
   "execution_count": 16,
   "metadata": {
    "ExecuteTime": {
     "end_time": "2020-07-17T00:11:15.643832Z",
     "start_time": "2020-07-17T00:08:04.999671Z"
    }
   },
   "outputs": [
    {
     "name": "stdout",
     "output_type": "stream",
     "text": [
      "SpectrogramCNN_8K_Dataset2_PLModule\n",
      "\ttraining\n",
      "\t\tAccuracy:\t0.94\n",
      "\t\tPrecision:\t0.94\n",
      "\t\tRecall:   \t0.95\n",
      "\t\tF1-score:\t0.95\n",
      "\tvalidation\n",
      "\t\tAccuracy:\t0.91\n",
      "\t\tPrecision:\t0.9\n",
      "\t\tRecall:   \t0.93\n",
      "\t\tF1-score:\t0.92\n",
      "\ttesting\n",
      "\t\tAccuracy:\t0.91\n",
      "\t\tPrecision:\t0.9\n",
      "\t\tRecall:   \t0.92\n",
      "\t\tF1-score:\t0.91\n",
      "\n",
      "CRNN8k_D2_PLModule\n",
      "\ttraining\n",
      "\t\tAccuracy:\t0.93\n",
      "\t\tPrecision:\t0.94\n",
      "\t\tRecall:   \t0.91\n",
      "\t\tF1-score:\t0.93\n",
      "\tvalidation\n",
      "\t\tAccuracy:\t0.9\n",
      "\t\tPrecision:\t0.91\n",
      "\t\tRecall:   \t0.88\n",
      "\t\tF1-score:\t0.89\n",
      "\ttesting\n",
      "\t\tAccuracy:\t0.89\n",
      "\t\tPrecision:\t0.9\n",
      "\t\tRecall:   \t0.87\n",
      "\t\tF1-score:\t0.89\n",
      "\n"
     ]
    }
   ],
   "source": [
    "for model in models:\n",
    "    print(model.__class__.__name__)\n",
    "    for data_split in [\"training\", \"validation\", \"testing\"]:\n",
    "        print(\"\\t\" + data_split)\n",
    "        validate(model, data_split=data_split, progress_bar=False)\n",
    "    print()"
   ]
  }
 ],
 "metadata": {
  "kernelspec": {
   "display_name": "Python 3",
   "language": "python",
   "name": "python3"
  },
  "language_info": {
   "codemirror_mode": {
    "name": "ipython",
    "version": 3
   },
   "file_extension": ".py",
   "mimetype": "text/x-python",
   "name": "python",
   "nbconvert_exporter": "python",
   "pygments_lexer": "ipython3",
   "version": "3.7.7"
  },
  "notify_time": "5"
 },
 "nbformat": 4,
 "nbformat_minor": 4
}
