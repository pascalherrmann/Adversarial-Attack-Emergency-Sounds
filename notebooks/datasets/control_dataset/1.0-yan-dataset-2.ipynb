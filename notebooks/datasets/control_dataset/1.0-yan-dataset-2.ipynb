{
 "cells": [
  {
   "cell_type": "markdown",
   "metadata": {},
   "source": [
    "# Preample"
   ]
  },
  {
   "cell_type": "code",
   "execution_count": 1,
   "metadata": {
    "ExecuteTime": {
     "end_time": "2020-07-04T09:01:28.293946Z",
     "start_time": "2020-07-04T09:01:20.384210Z"
    }
   },
   "outputs": [],
   "source": [
    "import json\n",
    "import pandas as pd\n",
    "import numpy as np\n",
    "import youtube_dl\n",
    "import os\n",
    "from moviepy.video.io.ffmpeg_tools import ffmpeg_extract_subclip\n",
    "from multiprocessing import Process\n",
    "import multiprocessing"
   ]
  },
  {
   "cell_type": "markdown",
   "metadata": {},
   "source": [
    "# Load data"
   ]
  },
  {
   "cell_type": "code",
   "execution_count": 2,
   "metadata": {
    "ExecuteTime": {
     "end_time": "2020-07-04T09:01:28.302090Z",
     "start_time": "2020-07-04T09:01:28.298369Z"
    }
   },
   "outputs": [],
   "source": [
    "# paths\n",
    "audioset_path = \"/nfs/students/summer-term-2020/project-4/data/audioset/\"\n",
    "path_ontology = audioset_path + \"ontology/ontology.json\"\n",
    "path_train_unbalanced = audioset_path + \"audioSetCsv/unbalanced_train_segments.csv\"\n",
    "path_train_balanced =  audioset_path + \"audioSetCsv/balanced_train_segments.csv\"\n",
    "path_eval_balanced =  audioset_path + \"audioSetCsv/eval_segments.csv\""
   ]
  },
  {
   "cell_type": "code",
   "execution_count": 3,
   "metadata": {
    "ExecuteTime": {
     "end_time": "2020-07-04T09:01:28.315600Z",
     "start_time": "2020-07-04T09:01:28.306109Z"
    }
   },
   "outputs": [],
   "source": [
    "def loadJsonFile(path):\n",
    "    if path[-5:] == '.json':\n",
    "        return json.load(open(path))\n",
    "    \n",
    "def loadCsvFile(path):\n",
    "    if path[-4:] == '.csv':\n",
    "        names = ['YTID', 'start_seconds', 'end_seconds', 'positive_labels']\n",
    "        return pd.read_csv(open(path), sep=', ', header=None, index_col=0, \n",
    "                           skiprows=3, names=names, engine='python')"
   ]
  },
  {
   "cell_type": "code",
   "execution_count": 4,
   "metadata": {
    "ExecuteTime": {
     "end_time": "2020-07-04T09:01:38.135153Z",
     "start_time": "2020-07-04T09:01:28.319477Z"
    }
   },
   "outputs": [],
   "source": [
    "ontoloy = loadJsonFile(path_ontology)\n",
    "train_unbalanced = loadCsvFile(path_train_unbalanced)\n",
    "train_balanced = loadCsvFile(path_train_balanced)\n",
    "eval_balanced = loadCsvFile(path_eval_balanced)"
   ]
  },
  {
   "cell_type": "markdown",
   "metadata": {},
   "source": [
    "# Analyzing ontology"
   ]
  },
  {
   "cell_type": "markdown",
   "metadata": {},
   "source": [
    "## Find entry"
   ]
  },
  {
   "cell_type": "code",
   "execution_count": 5,
   "metadata": {
    "ExecuteTime": {
     "end_time": "2020-07-04T09:01:38.146291Z",
     "start_time": "2020-07-04T09:01:38.139402Z"
    }
   },
   "outputs": [
    {
     "name": "stdout",
     "output_type": "stream",
     "text": [
      "\t Music (/m/04rlf)\n",
      "\t Musical instrument (/m/04szw)\n",
      "\t Musical ensemble (/m/05229)\n",
      "\t Music genre (/m/0kpv1t)\n",
      "\t Music of Latin America (/m/0g293)\n",
      "\t Music for children (/m/05fw6t)\n",
      "\t Music of Africa (/m/0164x2)\n",
      "\t Music of Asia (/m/028sqc)\n",
      "\t Music of Bollywood (/m/0dq0md)\n",
      "\t Musical concepts (/t/dd00027)\n",
      "\t Musical note (/m/05jcn)\n",
      "\t Music role (/t/dd00028)\n",
      "\t Music mood (/t/dd00030)\n"
     ]
    }
   ],
   "source": [
    "for entry in ontoloy:\n",
    "    if 'Music' in entry['name']:\n",
    "        print(\"\\t \" + entry['name'] + \" (\" + entry['id'] + \")\")"
   ]
  },
  {
   "cell_type": "markdown",
   "metadata": {},
   "source": [
    "## Analyze ontology towards Emergency Vehicle dataset"
   ]
  },
  {
   "cell_type": "code",
   "execution_count": 6,
   "metadata": {
    "ExecuteTime": {
     "end_time": "2020-07-04T09:01:38.154373Z",
     "start_time": "2020-07-04T09:01:38.150233Z"
    }
   },
   "outputs": [],
   "source": [
    "def findChildren(ontology_id):\n",
    "    result = []\n",
    "    for entry in ontoloy:\n",
    "        if entry['id'] == ontology_id:\n",
    "            result.append(ontology_id)\n",
    "            for child_id in entry['child_ids']:\n",
    "                result.extend(findChildren(child_id))\n",
    "    return result"
   ]
  },
  {
   "cell_type": "code",
   "execution_count": 7,
   "metadata": {
    "ExecuteTime": {
     "end_time": "2020-07-04T09:01:38.172721Z",
     "start_time": "2020-07-04T09:01:38.158220Z"
    }
   },
   "outputs": [],
   "source": [
    "positive_ids = []\n",
    "negative1_ids = []\n",
    "\n",
    "# https://research.google.com/audioset/ontology/music_1.html\n",
    "positive_ids.extend(findChildren('/m/04rlf'))\n",
    "\n",
    "# https://research.google.com/audioset/ontology/natural_sounds_1.html\n",
    "negative1_ids.extend([x for x in findChildren('/m/059j3w') if x not in positive_ids])"
   ]
  },
  {
   "cell_type": "code",
   "execution_count": 8,
   "metadata": {
    "ExecuteTime": {
     "end_time": "2020-07-04T09:01:38.180868Z",
     "start_time": "2020-07-04T09:01:38.176441Z"
    }
   },
   "outputs": [],
   "source": [
    "def printChildren(ontology_id, depth, list_of_ids):\n",
    "    for entry in ontoloy:\n",
    "        if entry['id'] == ontology_id and ontology_id in list_of_ids: \n",
    "            print(''.join([\"\\t\" for _ in range(depth)]) + entry['name'] + \" (\" + entry['id'] + \")\")\n",
    "            for child_id in entry['child_ids']:\n",
    "                printChildren(child_id, depth+1, list_of_ids)"
   ]
  },
  {
   "cell_type": "code",
   "execution_count": 9,
   "metadata": {
    "ExecuteTime": {
     "end_time": "2020-07-04T09:01:38.221941Z",
     "start_time": "2020-07-04T09:01:38.184767Z"
    }
   },
   "outputs": [
    {
     "name": "stdout",
     "output_type": "stream",
     "text": [
      "Positive classes:\n",
      "\tMusic (/m/04rlf)\n",
      "\t\tMusical instrument (/m/04szw)\n",
      "\t\t\tPlucked string instrument (/m/0fx80y)\n",
      "\t\t\t\tGuitar (/m/0342h)\n",
      "\t\t\t\t\tElectric guitar (/m/02sgy)\n",
      "\t\t\t\t\tBass guitar (/m/018vs)\n",
      "\t\t\t\t\tAcoustic guitar (/m/042v_gx)\n",
      "\t\t\t\t\tSteel guitar, slide guitar (/m/06w87)\n",
      "\t\t\t\t\tTapping (guitar technique) (/m/01glhc)\n",
      "\t\t\t\t\tStrum (/m/07s0s5r)\n",
      "\t\t\t\tBanjo (/m/018j2)\n",
      "\t\t\t\tSitar (/m/0jtg0)\n",
      "\t\t\t\tMandolin (/m/04rzd)\n",
      "\t\t\t\tZither (/m/01bns_)\n",
      "\t\t\t\tUkulele (/m/07xzm)\n",
      "\t\t\tKeyboard (musical) (/m/05148p4)\n",
      "\t\t\t\tPiano (/m/05r5c)\n",
      "\t\t\t\t\tElectric piano (/m/01s0ps)\n",
      "\t\t\t\t\t\tClavinet (/m/025cbm)\n",
      "\t\t\t\t\t\tRhodes piano (/m/0bxl5)\n",
      "\t\t\t\tOrgan (/m/013y1f)\n",
      "\t\t\t\t\tElectronic organ (/m/03xq_f)\n",
      "\t\t\t\t\tHammond organ (/m/03gvt)\n",
      "\t\t\t\tSynthesizer (/m/0l14qv)\n",
      "\t\t\t\t\tSampler (/m/01v1d8)\n",
      "\t\t\t\t\tMellotron (/m/0gkd1)\n",
      "\t\t\t\tHarpsichord (/m/03q5t)\n",
      "\t\t\tPercussion (/m/0l14md)\n",
      "\t\t\t\tDrum kit (/m/02hnl)\n",
      "\t\t\t\t\tDrum machine (/m/0cfdd)\n",
      "\t\t\t\tDrum (/m/026t6)\n",
      "\t\t\t\t\tSnare drum (/m/06rvn)\n",
      "\t\t\t\t\t\tRimshot (/m/03t3fj)\n",
      "\t\t\t\t\t\tDrum roll (/m/02k_mr)\n",
      "\t\t\t\t\tBass drum (/m/0bm02)\n",
      "\t\t\t\t\tTimpani (/m/011k_j)\n",
      "\t\t\t\t\tTabla (/m/01p970)\n",
      "\t\t\t\tCymbal (/m/01qbl)\n",
      "\t\t\t\t\tHi-hat (/m/03qtq)\n",
      "\t\t\t\t\tCrash cymbal (/m/0bm0k)\n",
      "\t\t\t\tCowbell (/m/0239kh)\n",
      "\t\t\t\tWood block (/m/01sm1g)\n",
      "\t\t\t\tTambourine (/m/07brj)\n",
      "\t\t\t\tRattle (instrument) (/m/05r5wn)\n",
      "\t\t\t\t\tMaraca (/m/0xzly)\n",
      "\t\t\t\tGong (/m/0mbct)\n",
      "\t\t\t\tTubular bells (/m/016622)\n",
      "\t\t\t\tMallet percussion (/m/0j45pbj)\n",
      "\t\t\t\t\tMarimba, xylophone (/m/0dwsp)\n",
      "\t\t\t\t\tGlockenspiel (/m/0dwtp)\n",
      "\t\t\t\t\tVibraphone (/m/0dwt5)\n",
      "\t\t\t\t\tSteelpan (/m/0l156b)\n",
      "\t\t\tOrchestra (/m/05pd6)\n",
      "\t\t\tBrass instrument (/m/01kcd)\n",
      "\t\t\t\tFrench horn (/m/0319l)\n",
      "\t\t\t\tTrumpet (/m/07gql)\n",
      "\t\t\t\tTrombone (/m/07c6l)\n",
      "\t\t\t\tCornet (/m/020w2)\n",
      "\t\t\t\tBugle (/m/0y64j)\n",
      "\t\t\tBowed string instrument (/m/0l14_3)\n",
      "\t\t\t\tString section (/m/02qmj0d)\n",
      "\t\t\t\tViolin, fiddle (/m/07y_7)\n",
      "\t\t\t\t\tPizzicato (/m/0d8_n)\n",
      "\t\t\t\tCello (/m/01xqw)\n",
      "\t\t\t\tDouble bass (/m/02fsn)\n",
      "\t\t\tWind instrument, woodwind instrument (/m/085jw)\n",
      "\t\t\t\tFlute (/m/0l14j_)\n",
      "\t\t\t\tSaxophone (/m/06ncr)\n",
      "\t\t\t\t\tAlto saxophone (/m/02pprs)\n",
      "\t\t\t\t\tSoprano saxophone (/m/03t22m)\n",
      "\t\t\t\tClarinet (/m/01wy6)\n",
      "\t\t\t\tOboe (/m/05kms)\n",
      "\t\t\t\tBassoon (/m/01c3q)\n",
      "\t\t\tHarp (/m/03m5k)\n",
      "\t\t\tChoir (/m/0l14jd)\n",
      "\t\t\tBell (/m/0395lw)\n",
      "\t\t\t\tChurch bell (/m/03w41f)\n",
      "\t\t\t\tCowbell (/m/0239kh)\n",
      "\t\t\t\tJingle bell (/m/027m70_)\n",
      "\t\t\t\tBicycle bell (/m/0gy1t2s)\n",
      "\t\t\t\tTuning fork (/m/07n_g)\n",
      "\t\t\t\tChime (/m/0f8s22)\n",
      "\t\t\t\t\tWind chime (/m/026fgl)\n",
      "\t\t\t\tChange ringing (campanology) (/m/0150b9)\n",
      "\t\t\tHarmonica (/m/03qjg)\n",
      "\t\t\tAccordion (/m/0mkg)\n",
      "\t\t\tBagpipes (/m/0192l)\n",
      "\t\t\tDidgeridoo (/m/02bxd)\n",
      "\t\t\tShofar (/m/0l14l2)\n",
      "\t\t\tTheremin (/m/07kc_)\n",
      "\t\t\tSinging bowl (/m/0l14t7)\n",
      "\t\t\tMusical ensemble (/m/05229)\n",
      "\t\t\tBass (instrument role) (/m/01vj9c)\n",
      "\t\t\tScratching (performance technique) (/m/01hgjl)\n",
      "\t\tMusic genre (/m/0kpv1t)\n",
      "\t\t\tPop music (/m/064t9)\n",
      "\t\t\tHip hop music (/m/0glt670)\n",
      "\t\t\t\tGrime music (/m/04j_h4)\n",
      "\t\t\t\tTrap music (/m/0n8zsc8)\n",
      "\t\t\t\tBeatboxing (/m/02cz_7)\n",
      "\t\t\tRock music (/m/06by7)\n",
      "\t\t\t\tHeavy metal (/m/03lty)\n",
      "\t\t\t\tPunk rock (/m/05r6t)\n",
      "\t\t\t\tGrunge (/m/0dls3)\n",
      "\t\t\t\tProgressive rock (/m/0dl5d)\n",
      "\t\t\t\tRock and roll (/m/07sbbz2)\n",
      "\t\t\t\tPsychedelic rock (/m/05w3f)\n",
      "\t\t\tRhythm and blues (/m/06j6l)\n",
      "\t\t\tSoul music (/m/0gywn)\n",
      "\t\t\tReggae (/m/06cqb)\n",
      "\t\t\t\tDub (/m/0190y4)\n",
      "\t\t\tCountry (/m/01lyv)\n",
      "\t\t\t\tSwing music (/m/015y_n)\n",
      "\t\t\t\tBluegrass (/m/0gg8l)\n",
      "\t\t\tFunk (/m/02x8m)\n",
      "\t\t\tFolk music (/m/02w4v)\n",
      "\t\t\tMiddle Eastern music (/m/06j64v)\n",
      "\t\t\tJazz (/m/03_d0)\n",
      "\t\t\tDisco (/m/026z9)\n",
      "\t\t\tClassical music (/m/0ggq0m)\n",
      "\t\t\t\tOpera (/m/05lls)\n",
      "\t\t\tElectronic music (/m/02lkt)\n",
      "\t\t\t\tHouse music (/m/03mb9)\n",
      "\t\t\t\tTechno (/m/07gxw)\n",
      "\t\t\t\tDubstep (/m/07s72n)\n",
      "\t\t\t\tElectro (/m/029h7y)\n",
      "\t\t\t\tDrum and bass (/m/0283d)\n",
      "\t\t\t\t\tOldschool jungle (/m/01f9gb)\n",
      "\t\t\t\tElectronica (/m/0m0jc)\n",
      "\t\t\t\tElectronic dance music (/m/08cyft)\n",
      "\t\t\t\tAmbient music (/m/0fd3y)\n",
      "\t\t\t\t\tDrone music (/m/052smk)\n",
      "\t\t\t\tTrance music (/m/07lnk)\n",
      "\t\t\t\tNoise music (/m/0m0fw)\n",
      "\t\t\t\tUK garage (/m/0bmfpc)\n",
      "\t\t\tMusic of Latin America (/m/0g293)\n",
      "\t\t\t\tCumbia (/m/02ccj9)\n",
      "\t\t\t\tSalsa music (/m/0ln16)\n",
      "\t\t\t\tSoca music (/m/0kpck)\n",
      "\t\t\t\tKuduro (/m/080nby)\n",
      "\t\t\t\tFunk carioca (/m/05q7ms)\n",
      "\t\t\t\tFlamenco (/m/0326g)\n",
      "\t\t\tBlues (/m/0155w)\n",
      "\t\t\tMusic for children (/m/05fw6t)\n",
      "\t\t\tNew-age music (/m/02v2lh)\n",
      "\t\t\tVocal music (/m/0y4f8)\n",
      "\t\t\t\tA capella (/m/0z9c)\n",
      "\t\t\t\tChant (/m/02bk07)\n",
      "\t\t\t\t\tMantra (/m/01c194)\n",
      "\t\t\t\tBeatboxing (/m/02cz_7)\n",
      "\t\t\tMusic of Africa (/m/0164x2)\n",
      "\t\t\t\tAfrobeat (/m/0145m)\n",
      "\t\t\t\tKwaito (/m/022dgg)\n",
      "\t\t\tChristian music (/m/02mscn)\n",
      "\t\t\t\tGospel music (/m/016cjb)\n",
      "\t\t\tMusic of Asia (/m/028sqc)\n",
      "\t\t\t\tCarnatic music (/m/015vgc)\n",
      "\t\t\t\tMusic of Bollywood (/m/0dq0md)\n",
      "\t\t\tSka (/m/06rqw)\n",
      "\t\t\tTraditional music (/m/02p0sh1)\n",
      "\t\t\tIndependent music (/m/05rwpb)\n",
      "\t\tMusical concepts (/t/dd00027)\n",
      "\t\t\tSong (/m/074ft)\n",
      "\t\t\tMelody (/m/09dsr)\n",
      "\t\t\tMusical note (/m/05jcn)\n",
      "\t\t\tBeat (/m/022c7z)\n",
      "\t\t\t\tDrum beat (/m/05xp3j)\n",
      "\t\t\tChord (/m/01gp74)\n",
      "\t\t\tHarmony (/m/0b128)\n",
      "\t\t\tBassline (/m/021wwz)\n",
      "\t\t\tLoop (/m/0kc2j)\n",
      "\t\t\tDrone (/m/03w6d1)\n",
      "\t\tMusic role (/t/dd00028)\n",
      "\t\t\tBackground music (/m/025td0t)\n",
      "\t\t\tTheme music (/m/02cjck)\n",
      "\t\t\tJingle (music) (/m/03r5q_)\n",
      "\t\t\tSoundtrack music (/m/0l14gg)\n",
      "\t\t\tLullaby (/m/07pkxdp)\n",
      "\t\t\tVideo game music (/m/01z7dr)\n",
      "\t\t\tChristmas music (/m/0140xf)\n",
      "\t\t\tDance music (/m/0ggx5q)\n",
      "\t\t\tWedding music (/m/04wptg)\n",
      "\t\t\tBirthday music (/t/dd00029)\n",
      "\t\tMusic mood (/t/dd00030)\n",
      "\t\t\tHappy music (/t/dd00031)\n",
      "\t\t\tFunny music (/t/dd00032)\n",
      "\t\t\tSad music (/t/dd00033)\n",
      "\t\t\tTender music (/t/dd00034)\n",
      "\t\t\tExciting music (/t/dd00035)\n",
      "\t\t\tAngry music (/t/dd00036)\n",
      "\t\t\tScary music (/t/dd00037)\n",
      "\n",
      "Negative classes 1:\n",
      "\tNatural sounds (/m/059j3w)\n",
      "\t\tWind (/m/03m9d0z)\n",
      "\t\t\tHowl (wind) (/m/07q8f3b)\n",
      "\t\t\tRustling leaves (/m/09t49)\n",
      "\t\t\tWind noise (microphone) (/t/dd00092)\n",
      "\t\tThunderstorm (/m/0jb2l)\n",
      "\t\t\tThunder (/m/0ngt1)\n",
      "\t\tWater (/m/0838f)\n",
      "\t\t\tRain (/m/06mb1)\n",
      "\t\t\t\tRaindrop (/m/07r10fb)\n",
      "\t\t\t\tRain on surface (/t/dd00038)\n",
      "\t\t\tStream (/m/0j6m2)\n",
      "\t\t\tWaterfall (/m/0j2kx)\n",
      "\t\t\tOcean (/m/05kq4)\n",
      "\t\t\t\tWaves, surf (/m/034srq)\n",
      "\t\t\tSteam (/m/06wzb)\n",
      "\t\t\t\tHiss (/m/07rjwbb)\n",
      "\t\t\tGurgling (/m/07swgks)\n",
      "\t\tFire (/m/02_41)\n",
      "\t\t\tCrackle (/m/07pzfmf)\n",
      "\t\t\tWildfire (/m/0fjy1)\n"
     ]
    }
   ],
   "source": [
    "print(\"Positive classes:\")\n",
    "# https://research.google.com/audioset/ontology/music_1.html\n",
    "printChildren('/m/04rlf', 1, positive_ids)\n",
    "    \n",
    "print()\n",
    "print(\"Negative classes 1:\")\n",
    "# https://research.google.com/audioset/ontology/natural_sounds_1.html\n",
    "printChildren('/m/059j3w', 1, negative1_ids)"
   ]
  },
  {
   "cell_type": "markdown",
   "metadata": {},
   "source": [
    "# Creating dataset"
   ]
  },
  {
   "cell_type": "code",
   "execution_count": 10,
   "metadata": {
    "ExecuteTime": {
     "end_time": "2020-07-04T09:01:38.228771Z",
     "start_time": "2020-07-04T09:01:38.225594Z"
    }
   },
   "outputs": [],
   "source": [
    "negative_ids = negative1_ids"
   ]
  },
  {
   "cell_type": "code",
   "execution_count": 11,
   "metadata": {
    "ExecuteTime": {
     "end_time": "2020-07-04T09:01:38.239054Z",
     "start_time": "2020-07-04T09:01:38.233210Z"
    }
   },
   "outputs": [],
   "source": [
    "def binaryClassification(labels):\n",
    "    containsPositiveLabel = False\n",
    "    containsNegativeLabel = False\n",
    "    \n",
    "    for label in labels:\n",
    "        if label in positive_ids:\n",
    "            containsPositiveLabel = True\n",
    "    \n",
    "        if label in negative_ids:\n",
    "            containsNegativeLabel = True\n",
    "            \n",
    "    return containsPositiveLabel, containsNegativeLabel"
   ]
  },
  {
   "cell_type": "code",
   "execution_count": 12,
   "metadata": {
    "ExecuteTime": {
     "end_time": "2020-07-04T09:01:38.404457Z",
     "start_time": "2020-07-04T09:01:38.398107Z"
    }
   },
   "outputs": [],
   "source": [
    "def isPositiveSample(labels):\n",
    "    containsPositiveLabel, containsNegativeLabel = binaryClassification(labels)\n",
    "    # don't exclude samples with negative labels, \n",
    "    # as EM sounds sometimes labeled as siren as well (we deal with multi-labeling here)\n",
    "    return containsPositiveLabel"
   ]
  },
  {
   "cell_type": "code",
   "execution_count": 13,
   "metadata": {
    "ExecuteTime": {
     "end_time": "2020-07-04T09:01:39.039053Z",
     "start_time": "2020-07-04T09:01:39.032478Z"
    }
   },
   "outputs": [],
   "source": [
    "def isNegativeSample(labels):\n",
    "    containsPositiveLabel, containsNegativeLabel = binaryClassification(labels)\n",
    "    return not containsPositiveLabel and containsNegativeLabel"
   ]
  },
  {
   "cell_type": "code",
   "execution_count": 14,
   "metadata": {
    "ExecuteTime": {
     "end_time": "2020-07-04T09:01:40.022782Z",
     "start_time": "2020-07-04T09:01:40.012841Z"
    }
   },
   "outputs": [],
   "source": [
    "def getBinaryDatasetSamples(dataset):\n",
    "    positives = pd.DataFrame(data=None, columns=dataset.columns)\n",
    "    negatives = pd.DataFrame(data=None, columns=dataset.columns)\n",
    "\n",
    "    for index, row in dataset.iterrows():\n",
    "        labels = row['positive_labels'].split(',')\n",
    "\n",
    "        isPositive = isPositiveSample(labels)\n",
    "        isNegative = isNegativeSample(labels)\n",
    "\n",
    "        if isPositive and not isNegative:\n",
    "            positives.loc[index]=row\n",
    "        elif not isPositive and isNegative:\n",
    "            negatives.loc[index]=row\n",
    "            \n",
    "    return positives, negatives"
   ]
  },
  {
   "cell_type": "code",
   "execution_count": null,
   "metadata": {
    "ExecuteTime": {
     "start_time": "2020-07-04T09:01:41.452Z"
    }
   },
   "outputs": [],
   "source": [
    "train_unbalanced_positives, train_unbalanced_negatives = getBinaryDatasetSamples(train_unbalanced)\n",
    "train_balanced_positives, train_balanced_negatives = getBinaryDatasetSamples(train_balanced)\n",
    "eval_balanced_positives, eval_balanced_negatives = getBinaryDatasetSamples(eval_balanced)"
   ]
  },
  {
   "cell_type": "code",
   "execution_count": null,
   "metadata": {
    "ExecuteTime": {
     "start_time": "2020-07-04T09:01:44.061Z"
    }
   },
   "outputs": [],
   "source": [
    "print(len(train_unbalanced_negatives))\n",
    "print(len(train_unbalanced_positives))\n",
    "print()\n",
    "print(len(train_balanced_negatives))\n",
    "print(len(train_balanced_positives))\n",
    "print()\n",
    "print(len(eval_balanced_negatives))\n",
    "print(len(eval_balanced_positives))"
   ]
  },
  {
   "cell_type": "code",
   "execution_count": null,
   "metadata": {
    "ExecuteTime": {
     "start_time": "2020-07-04T09:01:45.086Z"
    }
   },
   "outputs": [],
   "source": [
    "# restrict positives as we have too many/sample from positives [downloading would take too long/too much space]\n",
    "train_unbalanced_positives = train_unbalanced_positives.sample(8000, random_state=42)"
   ]
  },
  {
   "cell_type": "code",
   "execution_count": null,
   "metadata": {
    "ExecuteTime": {
     "start_time": "2020-07-04T09:01:45.912Z"
    }
   },
   "outputs": [],
   "source": [
    "print(len(train_unbalanced_negatives))\n",
    "print(len(train_unbalanced_positives))\n",
    "print()\n",
    "print(len(train_balanced_negatives))\n",
    "print(len(train_balanced_positives))\n",
    "print()\n",
    "print(len(eval_balanced_negatives))\n",
    "print(len(eval_balanced_positives))"
   ]
  },
  {
   "cell_type": "markdown",
   "metadata": {},
   "source": [
    "# Downloading"
   ]
  },
  {
   "cell_type": "code",
   "execution_count": null,
   "metadata": {
    "ExecuteTime": {
     "start_time": "2020-07-04T09:01:48.314Z"
    }
   },
   "outputs": [],
   "source": [
    "ydl_opts = {\n",
    "    'quiet':'True',\n",
    "    'format': 'bestaudio/best',\n",
    "    'ignoreerrors':'True',\n",
    "    'no_warnings':'True',\n",
    "    'postprocessors': [{\n",
    "        'key': 'FFmpegExtractAudio',\n",
    "        'preferredcodec': 'wav',\n",
    "        'preferredquality': '192',\n",
    "    }],\n",
    "    'outtmpl':'tmp/%(id)s.%(ext)s',\n",
    "    }"
   ]
  },
  {
   "cell_type": "code",
   "execution_count": null,
   "metadata": {
    "ExecuteTime": {
     "start_time": "2020-07-04T09:01:49.176Z"
    }
   },
   "outputs": [],
   "source": [
    "def downloadDataset(dataset, save_path):\n",
    "    for index, row in dataset.iterrows():\n",
    "        with youtube_dl.YoutubeDL(ydl_opts) as ydl:\n",
    "            ydl.download(['http://www.youtube.com/watch?v=' + index])\n",
    "\n",
    "        name = index + '.wav'\n",
    "        path_downloaded = './tmp/' + name\n",
    "        path_final = save_path + name\n",
    "        start = row[0]\n",
    "        end = row[1]\n",
    "        \n",
    "        if os.path.exists(path_downloaded):\n",
    "            ffmpeg_extract_subclip(path_downloaded, start, end,targetname=path_final)\n",
    "            os.remove(path_downloaded)"
   ]
  },
  {
   "cell_type": "code",
   "execution_count": null,
   "metadata": {
    "ExecuteTime": {
     "start_time": "2020-07-04T09:01:51.384Z"
    }
   },
   "outputs": [],
   "source": [
    "def downloadDatasetParallelized(dataset, save_path):\n",
    "    num_cpus = multiprocessing.cpu_count()\n",
    "    listOfDfs = [dataset.loc[idx] for idx in np.array_split(dataset.index,num_cpus)]\n",
    "    print(\"Mean chunk size: \" + str(np.mean([len(x) for x in listOfDfs])))\n",
    "    \n",
    "    processes = []\n",
    "    for chunk in listOfDfs:\n",
    "        p = Process(target=downloadDataset, args=(chunk,save_path))\n",
    "        processes.append(p)\n",
    "        p.start()\n",
    "        \n",
    "    for p in processes:\n",
    "        p.join()\n",
    "        \n",
    "    dataset.to_csv(save_path + \"meta.csv\")"
   ]
  },
  {
   "cell_type": "code",
   "execution_count": null,
   "metadata": {
    "ExecuteTime": {
     "start_time": "2020-07-04T09:03:01.538Z"
    }
   },
   "outputs": [],
   "source": [
    "path_train_unbalanced_negatives = \"/nfs/students/summer-term-2020/project-4/data/dataset2/download/training_unbalanced/negative/\"\n",
    "path_train_unbalanced_positives = \"/nfs/students/summer-term-2020/project-4/data/dataset2/download/training_unbalanced/positive/\"\n",
    "\n",
    "path_train_balanced_negatives = \"/nfs/students/summer-term-2020/project-4/data/dataset2/download/training_balanced/negative/\"\n",
    "path_train_balanced_positives = \"/nfs/students/summer-term-2020/project-4/data/dataset2/download/training_balanced/positive/\"\n",
    "\n",
    "path_eval_balanced_negatives = \"/nfs/students/summer-term-2020/project-4/data/dataset2/download/eval_balanced/negative/\"\n",
    "path_eval_balanced_positives = \"/nfs/students/summer-term-2020/project-4/data/dataset2/download/eval_balanced/positive/\""
   ]
  },
  {
   "cell_type": "code",
   "execution_count": null,
   "metadata": {
    "ExecuteTime": {
     "start_time": "2020-07-04T09:03:02.374Z"
    },
    "scrolled": true
   },
   "outputs": [],
   "source": [
    "with open(\"/nfs/homedirs/scholten/results.txt\", \"w\") as f:\n",
    "    f.write(\"START\\n\")\n",
    "    \n",
    "downloadDatasetParallelized(train_unbalanced_negatives, path_train_unbalanced_negatives)\n",
    "downloadDatasetParallelized(train_unbalanced_positives, path_train_unbalanced_positives)\n",
    "\n",
    "downloadDatasetParallelized(train_balanced_negatives, path_train_balanced_negatives)\n",
    "downloadDatasetParallelized(train_balanced_positives, path_train_balanced_positives)\n",
    "\n",
    "downloadDatasetParallelized(eval_balanced_negatives, path_eval_balanced_negatives)\n",
    "downloadDatasetParallelized(eval_balanced_positives, path_eval_balanced_positives)\n",
    "\n",
    "with open(\"/nfs/homedirs/scholten/results.txt\", \"a\") as f:\n",
    "    f.write(\"DONE\\n\")"
   ]
  }
 ],
 "metadata": {
  "kernelspec": {
   "display_name": "Python 3",
   "language": "python",
   "name": "python3"
  },
  "language_info": {
   "codemirror_mode": {
    "name": "ipython",
    "version": 3
   },
   "file_extension": ".py",
   "mimetype": "text/x-python",
   "name": "python",
   "nbconvert_exporter": "python",
   "pygments_lexer": "ipython3",
   "version": "3.8.2"
  },
  "notify_time": "5"
 },
 "nbformat": 4,
 "nbformat_minor": 4
}
