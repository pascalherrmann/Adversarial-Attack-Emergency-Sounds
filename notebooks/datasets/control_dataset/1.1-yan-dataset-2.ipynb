{
 "cells": [
  {
   "cell_type": "markdown",
   "metadata": {},
   "source": [
    "We will analyze https://research.google.com/audioset///dataset/emergency_vehicle.html"
   ]
  },
  {
   "cell_type": "markdown",
   "metadata": {},
   "source": [
    "# Preample"
   ]
  },
  {
   "cell_type": "code",
   "execution_count": 7,
   "metadata": {
    "ExecuteTime": {
     "end_time": "2020-07-16T17:55:53.743402Z",
     "start_time": "2020-07-16T17:55:50.672955Z"
    }
   },
   "outputs": [],
   "source": [
    "import json\n",
    "import pandas as pd\n",
    "import numpy as np\n",
    "import os\n",
    "import librosa\n",
    "import IPython.display as ipd\n",
    "import random\n",
    "from sklearn.model_selection import train_test_split\n",
    "import multiprocessing as mp\n",
    "from tqdm import tqdm\n",
    "from scipy.io import wavfile\n",
    "\n",
    "import torch"
   ]
  },
  {
   "cell_type": "code",
   "execution_count": 5,
   "metadata": {
    "ExecuteTime": {
     "end_time": "2020-07-16T16:52:15.436956Z",
     "start_time": "2020-07-16T16:52:15.433761Z"
    }
   },
   "outputs": [],
   "source": [
    "# reproducibility\n",
    "np.random.seed(1337)\n",
    "random.seed(42)"
   ]
  },
  {
   "cell_type": "markdown",
   "metadata": {},
   "source": [
    "# Train/Valid/Test split"
   ]
  },
  {
   "cell_type": "code",
   "execution_count": 3,
   "metadata": {
    "ExecuteTime": {
     "end_time": "2020-07-04T20:32:21.578904Z",
     "start_time": "2020-07-04T20:32:21.572626Z"
    }
   },
   "outputs": [],
   "source": [
    "path_train_unbalanced_negatives = \"/nfs/students/summer-term-2020/project-4/data/dataset2/download/training_unbalanced/negative/\"\n",
    "path_train_unbalanced_positives = \"/nfs/students/summer-term-2020/project-4/data/dataset2/download/training_unbalanced/positive/\"\n",
    "\n",
    "path_train_balanced_negatives = \"/nfs/students/summer-term-2020/project-4/data/dataset2/download/training_balanced/negative/\"\n",
    "path_train_balanced_positives = \"/nfs/students/summer-term-2020/project-4/data/dataset2/download/training_balanced/positive/\"\n",
    "\n",
    "path_eval_balanced_negatives = \"/nfs/students/summer-term-2020/project-4/data/dataset2/download/eval_balanced/negative/\"\n",
    "path_eval_balanced_positives = \"/nfs/students/summer-term-2020/project-4/data/dataset2/download/eval_balanced/positive/\""
   ]
  },
  {
   "cell_type": "code",
   "execution_count": 4,
   "metadata": {
    "ExecuteTime": {
     "end_time": "2020-07-04T20:32:22.712399Z",
     "start_time": "2020-07-04T20:32:22.706150Z"
    }
   },
   "outputs": [],
   "source": [
    "positive_class_paths = [path_train_unbalanced_positives,\n",
    "                        path_train_balanced_positives,\n",
    "                        path_eval_balanced_positives]\n",
    "\n",
    "negative_class_paths = [path_train_unbalanced_negatives,\n",
    "                        path_train_balanced_negatives,\n",
    "                        path_eval_balanced_negatives]"
   ]
  },
  {
   "cell_type": "code",
   "execution_count": 5,
   "metadata": {
    "ExecuteTime": {
     "end_time": "2020-07-04T20:32:25.548402Z",
     "start_time": "2020-07-04T20:32:25.539177Z"
    }
   },
   "outputs": [],
   "source": [
    "def mergeSources(paths):\n",
    "    class_filenames = []\n",
    "    class_paths=[]\n",
    "\n",
    "    for path in paths:\n",
    "        (dirpath, dirnames, filenames) = next(os.walk(path))\n",
    "\n",
    "        for filename in filenames:\n",
    "            if filename == 'meta.csv':\n",
    "                continue\n",
    "                \n",
    "            if filename not in class_filenames:\n",
    "                class_filenames.append(filename)\n",
    "                class_paths.append(dirpath + filename)\n",
    "                \n",
    "    return class_paths"
   ]
  },
  {
   "cell_type": "code",
   "execution_count": 6,
   "metadata": {
    "ExecuteTime": {
     "end_time": "2020-07-04T20:32:31.199150Z",
     "start_time": "2020-07-04T20:32:26.746753Z"
    }
   },
   "outputs": [],
   "source": [
    "positive_class = mergeSources(positive_class_paths)\n",
    "negative_class = mergeSources(negative_class_paths)"
   ]
  },
  {
   "cell_type": "code",
   "execution_count": 7,
   "metadata": {
    "ExecuteTime": {
     "end_time": "2020-07-04T20:32:35.071485Z",
     "start_time": "2020-07-04T20:32:35.064061Z"
    }
   },
   "outputs": [
    {
     "name": "stdout",
     "output_type": "stream",
     "text": [
      "12866\n",
      "7803\n"
     ]
    }
   ],
   "source": [
    "print(len(positive_class))\n",
    "print(len(negative_class))"
   ]
  },
  {
   "cell_type": "code",
   "execution_count": 8,
   "metadata": {
    "ExecuteTime": {
     "end_time": "2020-07-04T20:32:43.564061Z",
     "start_time": "2020-07-04T20:32:43.557486Z"
    }
   },
   "outputs": [],
   "source": [
    "# remove bad negative samples (we obsereved some files with zero length or only zeros as content)\n",
    "def badSample(path):\n",
    "    try:\n",
    "        _, data = wavfile.read(path)\n",
    "    except:\n",
    "        return False\n",
    "    all_elements_zero = len(np.nonzero(data)[0]) == 0\n",
    "    zero_length = len(data) == 0\n",
    "    return all_elements_zero or zero_length"
   ]
  },
  {
   "cell_type": "code",
   "execution_count": 17,
   "metadata": {
    "ExecuteTime": {
     "end_time": "2020-07-04T20:51:30.102615Z",
     "start_time": "2020-07-04T20:51:30.095244Z"
    }
   },
   "outputs": [],
   "source": [
    "def getGoodSamples(samples):\n",
    "    good_samples = []\n",
    "\n",
    "    for sample in tqdm(samples):\n",
    "        if not badSample(sample):\n",
    "            good_samples.append(sample)\n",
    "    return good_samples"
   ]
  },
  {
   "cell_type": "code",
   "execution_count": null,
   "metadata": {
    "ExecuteTime": {
     "start_time": "2020-07-04T20:33:13.377Z"
    },
    "scrolled": true
   },
   "outputs": [
    {
     "name": "stderr",
     "output_type": "stream",
     "text": [
      " 72%|███████▏  | 5626/7803 [05:16<02:14, 16.15it/s]"
     ]
    }
   ],
   "source": [
    "quality_checked_negative_class = getGoodSamples(negative_class)"
   ]
  },
  {
   "cell_type": "code",
   "execution_count": 16,
   "metadata": {
    "ExecuteTime": {
     "end_time": "2020-07-04T20:51:24.469217Z",
     "start_time": "2020-07-04T20:51:24.460642Z"
    }
   },
   "outputs": [
    {
     "name": "stdout",
     "output_type": "stream",
     "text": [
      "7801\n"
     ]
    }
   ],
   "source": [
    "print(len(quality_checked_negative_class))"
   ]
  },
  {
   "cell_type": "code",
   "execution_count": 14,
   "metadata": {
    "ExecuteTime": {
     "end_time": "2020-07-04T20:51:10.372730Z",
     "start_time": "2020-07-04T20:40:13.024381Z"
    }
   },
   "outputs": [
    {
     "name": "stderr",
     "output_type": "stream",
     "text": [
      "100%|██████████| 12866/12866 [10:57<00:00, 19.57it/s]\n"
     ]
    }
   ],
   "source": [
    "quality_checked_positive_class = getGoodSamples(positive_class)"
   ]
  },
  {
   "cell_type": "code",
   "execution_count": 15,
   "metadata": {
    "ExecuteTime": {
     "end_time": "2020-07-04T20:51:10.381309Z",
     "start_time": "2020-07-04T20:51:10.376531Z"
    }
   },
   "outputs": [
    {
     "name": "stdout",
     "output_type": "stream",
     "text": [
      "12864\n"
     ]
    }
   ],
   "source": [
    "print(len(quality_checked_positive_class))"
   ]
  },
  {
   "cell_type": "code",
   "execution_count": 18,
   "metadata": {
    "ExecuteTime": {
     "end_time": "2020-07-04T20:51:46.836511Z",
     "start_time": "2020-07-04T20:51:46.819372Z"
    }
   },
   "outputs": [],
   "source": [
    "# balancing positive class\n",
    "random.seed(24)\n",
    "balanced_class_size = len(quality_checked_negative_class)\n",
    "balanced_positive_class = random.sample(quality_checked_positive_class, balanced_class_size)"
   ]
  },
  {
   "cell_type": "code",
   "execution_count": 19,
   "metadata": {
    "ExecuteTime": {
     "end_time": "2020-07-04T20:52:02.571762Z",
     "start_time": "2020-07-04T20:52:02.551582Z"
    }
   },
   "outputs": [],
   "source": [
    "# shuffle for similar distribution properties\n",
    "random.seed(1337)\n",
    "full_dataset = balanced_positive_class+quality_checked_negative_class\n",
    "final_dataset = random.sample(full_dataset, len(full_dataset))"
   ]
  },
  {
   "cell_type": "code",
   "execution_count": 20,
   "metadata": {
    "ExecuteTime": {
     "end_time": "2020-07-04T20:52:04.252247Z",
     "start_time": "2020-07-04T20:52:04.236144Z"
    }
   },
   "outputs": [
    {
     "data": {
      "text/plain": [
       "15602"
      ]
     },
     "execution_count": 20,
     "metadata": {},
     "output_type": "execute_result"
    }
   ],
   "source": [
    "len(final_dataset)"
   ]
  },
  {
   "cell_type": "code",
   "execution_count": 21,
   "metadata": {
    "ExecuteTime": {
     "end_time": "2020-07-04T20:52:09.626579Z",
     "start_time": "2020-07-04T20:52:09.611354Z"
    }
   },
   "outputs": [],
   "source": [
    "# final split\n",
    "train_paths, valid_paths, test_paths = np.split(final_dataset, [int(.6*len(final_dataset)), int(.8*len(final_dataset))])"
   ]
  },
  {
   "cell_type": "code",
   "execution_count": 23,
   "metadata": {
    "ExecuteTime": {
     "end_time": "2020-07-04T20:52:26.278286Z",
     "start_time": "2020-07-04T20:52:26.270076Z"
    }
   },
   "outputs": [
    {
     "name": "stdout",
     "output_type": "stream",
     "text": [
      "9361\n",
      "3120\n",
      "3121\n"
     ]
    }
   ],
   "source": [
    "print(len(train_paths))\n",
    "print(len(valid_paths))\n",
    "print(len(test_paths))"
   ]
  },
  {
   "cell_type": "markdown",
   "metadata": {},
   "source": [
    "# Obtain metadata"
   ]
  },
  {
   "cell_type": "code",
   "execution_count": 25,
   "metadata": {
    "ExecuteTime": {
     "end_time": "2020-07-04T20:53:03.682657Z",
     "start_time": "2020-07-04T20:53:03.638363Z"
    }
   },
   "outputs": [],
   "source": [
    "def loadJsonFile(path):\n",
    "    if path[-5:] == '.json':\n",
    "        return json.load(open(path))\n",
    "\n",
    "path_ontology = \"/nfs/students/summer-term-2020/project-4/data/audioset/ontology/ontology.json\"\n",
    "ontology = loadJsonFile(path_ontology)"
   ]
  },
  {
   "cell_type": "code",
   "execution_count": 26,
   "metadata": {
    "ExecuteTime": {
     "end_time": "2020-07-04T20:53:05.807625Z",
     "start_time": "2020-07-04T20:53:05.800807Z"
    }
   },
   "outputs": [],
   "source": [
    "ontology_id_name_mapping = {}\n",
    "\n",
    "for entry in ontology:\n",
    "    ontology_id_name_mapping[entry['id']] = entry['name']"
   ]
  },
  {
   "cell_type": "code",
   "execution_count": 27,
   "metadata": {
    "ExecuteTime": {
     "end_time": "2020-07-04T20:53:07.482908Z",
     "start_time": "2020-07-04T20:53:07.476363Z"
    }
   },
   "outputs": [],
   "source": [
    "def loadMetaFiles(paths):\n",
    "    meta_files = []\n",
    "    for path in paths:\n",
    "        (dirpath, dirnames, filenames) = next(os.walk(path))\n",
    "        for filename in filenames:\n",
    "            if filename != 'meta.csv':\n",
    "                continue\n",
    "            meta_files.append(pd.read_csv(dirpath + filename, index_col=0))\n",
    "        \n",
    "    return pd.concat(meta_files, axis=0)"
   ]
  },
  {
   "cell_type": "code",
   "execution_count": 28,
   "metadata": {
    "ExecuteTime": {
     "end_time": "2020-07-04T20:53:10.676802Z",
     "start_time": "2020-07-04T20:53:09.091364Z"
    }
   },
   "outputs": [],
   "source": [
    "df_meta = loadMetaFiles(positive_class_paths + negative_class_paths)"
   ]
  },
  {
   "cell_type": "code",
   "execution_count": 29,
   "metadata": {
    "ExecuteTime": {
     "end_time": "2020-07-04T20:53:35.981457Z",
     "start_time": "2020-07-04T20:53:35.904727Z"
    }
   },
   "outputs": [
    {
     "data": {
      "text/html": [
       "<div>\n",
       "<style scoped>\n",
       "    .dataframe tbody tr th:only-of-type {\n",
       "        vertical-align: middle;\n",
       "    }\n",
       "\n",
       "    .dataframe tbody tr th {\n",
       "        vertical-align: top;\n",
       "    }\n",
       "\n",
       "    .dataframe thead th {\n",
       "        text-align: right;\n",
       "    }\n",
       "</style>\n",
       "<table border=\"1\" class=\"dataframe\">\n",
       "  <thead>\n",
       "    <tr style=\"text-align: right;\">\n",
       "      <th></th>\n",
       "      <th>start_seconds</th>\n",
       "      <th>end_seconds</th>\n",
       "      <th>positive_labels</th>\n",
       "    </tr>\n",
       "  </thead>\n",
       "  <tbody>\n",
       "    <tr>\n",
       "      <th>j2SKCBQGPXo</th>\n",
       "      <td>30.0</td>\n",
       "      <td>40.0</td>\n",
       "      <td>\"/m/026t6,/m/04rlf,/m/04szw,/m/0cfdd\"</td>\n",
       "    </tr>\n",
       "  </tbody>\n",
       "</table>\n",
       "</div>"
      ],
      "text/plain": [
       "             start_seconds  end_seconds                        positive_labels\n",
       "j2SKCBQGPXo           30.0         40.0  \"/m/026t6,/m/04rlf,/m/04szw,/m/0cfdd\""
      ]
     },
     "execution_count": 29,
     "metadata": {},
     "output_type": "execute_result"
    }
   ],
   "source": [
    "df_meta.head(1)"
   ]
  },
  {
   "cell_type": "code",
   "execution_count": 30,
   "metadata": {
    "ExecuteTime": {
     "end_time": "2020-07-04T20:53:49.183210Z",
     "start_time": "2020-07-04T20:53:49.175887Z"
    }
   },
   "outputs": [
    {
     "data": {
      "text/plain": [
       "'Drum'"
      ]
     },
     "execution_count": 30,
     "metadata": {},
     "output_type": "execute_result"
    }
   ],
   "source": [
    "ontology_id_name_mapping['/m/026t6']"
   ]
  },
  {
   "cell_type": "code",
   "execution_count": 31,
   "metadata": {
    "ExecuteTime": {
     "end_time": "2020-07-04T20:53:54.937131Z",
     "start_time": "2020-07-04T20:53:54.926407Z"
    }
   },
   "outputs": [],
   "source": [
    "def createFinalDataset(datasetFiles):\n",
    "    final_set = []\n",
    "    \n",
    "    for filePath in datasetFiles:\n",
    "        \n",
    "        # (...)/dataset1/download/training_unbalanced/negative/9kHMnPosPzw.wav'\n",
    "        name = filePath.split('/')[-1][:-4]\n",
    "        classification = filePath.split('/')[-2]\n",
    "        source = filePath.split('/')[-3]\n",
    "        \n",
    "        # see samples of df_meta and ontology_id_name_mapping above\n",
    "        labels = df_meta.loc[name]['positive_labels'][1:-1].split(',')\n",
    "        label_names = [ontology_id_name_mapping[label] for label in labels]\n",
    "        \n",
    "        sample = {'youtube_id': name,\n",
    "                  'start_seconds': df_meta.loc[name]['start_seconds'],\n",
    "                  'end_seconds': df_meta.loc[name]['end_seconds'],\n",
    "                  'binary_class': classification,\n",
    "                  'labels': labels,\n",
    "                  'label_names': label_names,\n",
    "                  'source': source, \n",
    "                  'path': filePath}\n",
    "        \n",
    "        final_set.append(sample)\n",
    "        \n",
    "    return final_set"
   ]
  },
  {
   "cell_type": "code",
   "execution_count": 32,
   "metadata": {
    "ExecuteTime": {
     "end_time": "2020-07-04T20:54:09.006515Z",
     "start_time": "2020-07-04T20:54:01.380164Z"
    }
   },
   "outputs": [],
   "source": [
    "train = createFinalDataset(train_paths)\n",
    "valid = createFinalDataset(valid_paths)\n",
    "test = createFinalDataset(test_paths)"
   ]
  },
  {
   "cell_type": "code",
   "execution_count": 33,
   "metadata": {
    "ExecuteTime": {
     "end_time": "2020-07-04T20:54:10.691087Z",
     "start_time": "2020-07-04T20:54:10.681964Z"
    },
    "scrolled": true
   },
   "outputs": [
    {
     "data": {
      "text/plain": [
       "{'youtube_id': 'NnDaIk0xIMU',\n",
       " 'start_seconds': 10.0,\n",
       " 'end_seconds': 20.0,\n",
       " 'binary_class': 'negative',\n",
       " 'labels': ['/m/034srq',\n",
       "  '/m/03m9d0z',\n",
       "  '/m/05kq4',\n",
       "  '/m/06mb1',\n",
       "  '/m/0jb2l',\n",
       "  '/m/0ngt1',\n",
       "  '/t/dd00038',\n",
       "  '/t/dd00092'],\n",
       " 'label_names': ['Waves, surf',\n",
       "  'Wind',\n",
       "  'Ocean',\n",
       "  'Rain',\n",
       "  'Thunderstorm',\n",
       "  'Thunder',\n",
       "  'Rain on surface',\n",
       "  'Wind noise (microphone)'],\n",
       " 'source': 'training_unbalanced',\n",
       " 'path': '/nfs/students/summer-term-2020/project-4/data/dataset2/download/training_unbalanced/negative/NnDaIk0xIMU.wav'}"
      ]
     },
     "execution_count": 33,
     "metadata": {},
     "output_type": "execute_result"
    }
   ],
   "source": [
    "# negative sample\n",
    "train[0]"
   ]
  },
  {
   "cell_type": "code",
   "execution_count": 37,
   "metadata": {
    "ExecuteTime": {
     "end_time": "2020-07-04T20:54:35.689319Z",
     "start_time": "2020-07-04T20:54:35.683404Z"
    }
   },
   "outputs": [
    {
     "data": {
      "text/plain": [
       "{'youtube_id': 'X1ifV2yQLOg',\n",
       " 'start_seconds': 270.0,\n",
       " 'end_seconds': 280.0,\n",
       " 'binary_class': 'positive',\n",
       " 'labels': ['/m/02qldy', '/m/04rlf', '/m/06j64v', '/m/09x0r'],\n",
       " 'label_names': ['Narration, monologue',\n",
       "  'Music',\n",
       "  'Middle Eastern music',\n",
       "  'Speech'],\n",
       " 'source': 'eval_balanced',\n",
       " 'path': '/nfs/students/summer-term-2020/project-4/data/dataset2/download/eval_balanced/positive/X1ifV2yQLOg.wav'}"
      ]
     },
     "execution_count": 37,
     "metadata": {},
     "output_type": "execute_result"
    }
   ],
   "source": [
    "# positive sample\n",
    "train[4]"
   ]
  },
  {
   "cell_type": "markdown",
   "metadata": {},
   "source": [
    "# Save dataset"
   ]
  },
  {
   "cell_type": "code",
   "execution_count": 38,
   "metadata": {
    "ExecuteTime": {
     "end_time": "2020-07-04T20:55:09.131771Z",
     "start_time": "2020-07-04T20:55:09.127761Z"
    }
   },
   "outputs": [],
   "source": [
    "path_training_paths = \"/nfs/students/summer-term-2020/project-4/data/dataset2/finalDataset/training.json\"\n",
    "path_validation_paths = \"/nfs/students/summer-term-2020/project-4/data/dataset2/finalDataset/validation.json\"\n",
    "path_testing_paths = \"/nfs/students/summer-term-2020/project-4/data/dataset2/finalDataset/testing.json\""
   ]
  },
  {
   "cell_type": "code",
   "execution_count": 39,
   "metadata": {
    "ExecuteTime": {
     "end_time": "2020-07-04T20:55:11.095666Z",
     "start_time": "2020-07-04T20:55:11.090876Z"
    }
   },
   "outputs": [],
   "source": [
    "def saveDataset(dataset, path):\n",
    "    f = open(path, \"w\")\n",
    "    f.write(json.dumps(dataset))\n",
    "    f.close()"
   ]
  },
  {
   "cell_type": "code",
   "execution_count": 40,
   "metadata": {
    "ExecuteTime": {
     "end_time": "2020-07-04T20:55:12.625985Z",
     "start_time": "2020-07-04T20:55:12.506683Z"
    }
   },
   "outputs": [],
   "source": [
    "saveDataset(train, path_training_paths)\n",
    "saveDataset(valid, path_validation_paths)\n",
    "saveDataset(test,  path_testing_paths)"
   ]
  },
  {
   "cell_type": "markdown",
   "metadata": {},
   "source": [
    "# Create resampled version with fixed sample rate"
   ]
  },
  {
   "cell_type": "markdown",
   "metadata": {},
   "source": [
    "Note: manual work involved - manually adjust files/paths, sample rate, etc"
   ]
  },
  {
   "cell_type": "code",
   "execution_count": 1,
   "metadata": {
    "ExecuteTime": {
     "end_time": "2020-07-16T17:55:36.251026Z",
     "start_time": "2020-07-16T17:55:36.246075Z"
    }
   },
   "outputs": [],
   "source": [
    "FIXED_SAMPLE_RATE = 8000"
   ]
  },
  {
   "cell_type": "code",
   "execution_count": 2,
   "metadata": {
    "ExecuteTime": {
     "end_time": "2020-07-16T17:55:36.952360Z",
     "start_time": "2020-07-16T17:55:36.948152Z"
    }
   },
   "outputs": [],
   "source": [
    "DATA_PATH = \"/nfs/students/summer-term-2020/project-4/data/dataset2/finalDataset/\"\n",
    "DATA_FILES = [\"training.json\", \"validation.json\", \"testing.json\"]"
   ]
  },
  {
   "cell_type": "code",
   "execution_count": 5,
   "metadata": {
    "ExecuteTime": {
     "end_time": "2020-07-16T17:55:46.048204Z",
     "start_time": "2020-07-16T17:55:45.945885Z"
    }
   },
   "outputs": [],
   "source": [
    "def getJSON(path):\n",
    "    with open(path ) as f:\n",
    "        d = json.load(f)\n",
    "        return d\n",
    "    \n",
    "training, validation, testing = (getJSON(DATA_PATH + DATA_FILES[i]) for i in range(3))"
   ]
  },
  {
   "cell_type": "code",
   "execution_count": null,
   "metadata": {
    "ExecuteTime": {
     "start_time": "2020-07-16T17:55:56.041Z"
    }
   },
   "outputs": [
    {
     "name": "stderr",
     "output_type": "stream",
     "text": [
      "100%|██████████| 9361/9361 [1:00:46<00:00,  2.57it/s]\n",
      "100%|██████████| 3120/3120 [20:03<00:00,  2.59it/s]\n",
      "  3%|▎         | 100/3121 [00:43<18:28,  2.73it/s]"
     ]
    }
   ],
   "source": [
    "for sample in tqdm(training):\n",
    "    sample['data'] = (torch.tensor(librosa.load(sample['path'], sr=FIXED_SAMPLE_RATE)[0]), FIXED_SAMPLE_RATE)\n",
    "\n",
    "for sample in tqdm(validation):\n",
    "    sample['data'] = (torch.tensor(librosa.load(sample['path'], sr=FIXED_SAMPLE_RATE)[0]), FIXED_SAMPLE_RATE)\n",
    "\n",
    "for sample in tqdm(testing):\n",
    "    sample['data'] = (torch.tensor(librosa.load(sample['path'], sr=FIXED_SAMPLE_RATE)[0]), FIXED_SAMPLE_RATE)"
   ]
  },
  {
   "cell_type": "code",
   "execution_count": null,
   "metadata": {
    "ExecuteTime": {
     "start_time": "2020-07-16T17:56:00.018Z"
    }
   },
   "outputs": [],
   "source": [
    "pickle_path = \"/nfs/students/summer-term-2020/project-4/data/dataset2/dataset_8k/\"\n",
    "torch.save(training, open(pickle_path + \"training.pt\",\"wb\"))\n",
    "torch.save(validation, open(pickle_path + \"validation.pt\",\"wb\"))\n",
    "torch.save(testing, open(pickle_path + \"testing.pt\",\"wb\"))"
   ]
  }
 ],
 "metadata": {
  "kernelspec": {
   "display_name": "Python 3",
   "language": "python",
   "name": "python3"
  },
  "language_info": {
   "codemirror_mode": {
    "name": "ipython",
    "version": 3
   },
   "file_extension": ".py",
   "mimetype": "text/x-python",
   "name": "python",
   "nbconvert_exporter": "python",
   "pygments_lexer": "ipython3",
   "version": "3.8.2"
  },
  "notify_time": "5"
 },
 "nbformat": 4,
 "nbformat_minor": 4
}
