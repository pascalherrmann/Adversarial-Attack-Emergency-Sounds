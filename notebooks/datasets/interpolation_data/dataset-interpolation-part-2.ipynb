{
 "cells": [
  {
   "cell_type": "markdown",
   "metadata": {},
   "source": [
    "We will analyze https://research.google.com/audioset///dataset/emergency_vehicle.html"
   ]
  },
  {
   "cell_type": "markdown",
   "metadata": {},
   "source": [
    "# Preample"
   ]
  },
  {
   "cell_type": "code",
   "execution_count": 1,
   "metadata": {
    "ExecuteTime": {
     "end_time": "2020-06-20T21:20:30.826812Z",
     "start_time": "2020-06-20T21:20:21.951854Z"
    }
   },
   "outputs": [],
   "source": [
    "import json\n",
    "import pandas as pd\n",
    "import numpy as np\n",
    "import os\n",
    "import librosa\n",
    "import IPython.display as ipd\n",
    "import random\n",
    "from sklearn.model_selection import train_test_split\n",
    "import multiprocessing as mp\n",
    "from tqdm import tqdm\n",
    "from scipy.io import wavfile"
   ]
  },
  {
   "cell_type": "code",
   "execution_count": 2,
   "metadata": {
    "ExecuteTime": {
     "end_time": "2020-06-20T21:20:30.834280Z",
     "start_time": "2020-06-20T21:20:30.831206Z"
    }
   },
   "outputs": [],
   "source": [
    "# reproducibility\n",
    "np.random.seed(1337)\n",
    "random.seed(42)"
   ]
  },
  {
   "cell_type": "markdown",
   "metadata": {},
   "source": [
    "# Create interpolation dataset"
   ]
  },
  {
   "cell_type": "code",
   "execution_count": 12,
   "metadata": {
    "ExecuteTime": {
     "end_time": "2020-06-20T21:24:47.478114Z",
     "start_time": "2020-06-20T21:24:47.474456Z"
    }
   },
   "outputs": [],
   "source": [
    "path_data = \"/nfs/students/summer-term-2020/project-4/data/interpolation_data/download/\""
   ]
  },
  {
   "cell_type": "code",
   "execution_count": 14,
   "metadata": {
    "ExecuteTime": {
     "end_time": "2020-06-20T21:26:27.820818Z",
     "start_time": "2020-06-20T21:26:27.813156Z"
    }
   },
   "outputs": [],
   "source": [
    "def mergeSources(paths):\n",
    "    class_filenames = []\n",
    "    class_paths=[]\n",
    "\n",
    "    for path in paths:\n",
    "        (dirpath, dirnames, filenames) = next(os.walk(path))\n",
    "\n",
    "        for filename in filenames:\n",
    "            if filename == 'meta.csv':\n",
    "                continue\n",
    "                \n",
    "            if filename not in class_filenames:\n",
    "                class_filenames.append(filename)\n",
    "                class_paths.append(dirpath + filename)\n",
    "                \n",
    "    return class_paths"
   ]
  },
  {
   "cell_type": "code",
   "execution_count": 15,
   "metadata": {
    "ExecuteTime": {
     "end_time": "2020-06-20T21:26:28.424029Z",
     "start_time": "2020-06-20T21:26:28.403236Z"
    }
   },
   "outputs": [],
   "source": [
    "sound_files = mergeSources([path_data])"
   ]
  },
  {
   "cell_type": "code",
   "execution_count": 16,
   "metadata": {
    "ExecuteTime": {
     "end_time": "2020-06-20T21:26:32.235121Z",
     "start_time": "2020-06-20T21:26:32.226768Z"
    }
   },
   "outputs": [
    {
     "name": "stdout",
     "output_type": "stream",
     "text": [
      "1025\n"
     ]
    }
   ],
   "source": [
    "print(len(sound_files))"
   ]
  },
  {
   "cell_type": "code",
   "execution_count": 19,
   "metadata": {
    "ExecuteTime": {
     "end_time": "2020-06-20T21:27:09.814803Z",
     "start_time": "2020-06-20T21:27:09.805249Z"
    }
   },
   "outputs": [],
   "source": [
    "# remove bad samples (we obsereved some files with zero length or only zeros as content)\n",
    "def badSample(path):\n",
    "    try:\n",
    "        _, data = wavfile.read(path)\n",
    "    except:\n",
    "        return False\n",
    "    all_elements_zero = len(np.nonzero(data)[0]) == 0\n",
    "    zero_length = len(data) == 0\n",
    "    return all_elements_zero or zero_length"
   ]
  },
  {
   "cell_type": "code",
   "execution_count": 20,
   "metadata": {
    "ExecuteTime": {
     "end_time": "2020-06-20T21:27:10.418505Z",
     "start_time": "2020-06-20T21:27:10.409886Z"
    }
   },
   "outputs": [],
   "source": [
    "def getGoodNegatives(negatives):\n",
    "    good_negatives = []\n",
    "\n",
    "    for sample in tqdm(negatives):\n",
    "        if not badSample(sample):\n",
    "            good_negatives.append(sample)\n",
    "    return good_negatives"
   ]
  },
  {
   "cell_type": "code",
   "execution_count": 21,
   "metadata": {
    "ExecuteTime": {
     "end_time": "2020-06-20T21:27:21.151226Z",
     "start_time": "2020-06-20T21:27:11.939986Z"
    },
    "scrolled": true
   },
   "outputs": [
    {
     "name": "stderr",
     "output_type": "stream",
     "text": [
      "100%|██████████| 1025/1025 [00:09<00:00, 111.41it/s]\n"
     ]
    }
   ],
   "source": [
    "quality_checked_sounds = getGoodNegatives(sound_files)"
   ]
  },
  {
   "cell_type": "code",
   "execution_count": 22,
   "metadata": {
    "ExecuteTime": {
     "end_time": "2020-06-20T21:27:21.160214Z",
     "start_time": "2020-06-20T21:27:21.155291Z"
    }
   },
   "outputs": [
    {
     "name": "stdout",
     "output_type": "stream",
     "text": [
      "1025\n"
     ]
    }
   ],
   "source": [
    "print(len(quality_checked_sounds))"
   ]
  },
  {
   "cell_type": "markdown",
   "metadata": {},
   "source": [
    "# Obtain metadata"
   ]
  },
  {
   "cell_type": "code",
   "execution_count": 23,
   "metadata": {
    "ExecuteTime": {
     "end_time": "2020-06-20T21:28:00.826138Z",
     "start_time": "2020-06-20T21:28:00.813634Z"
    }
   },
   "outputs": [],
   "source": [
    "def loadJsonFile(path):\n",
    "    if path[-5:] == '.json':\n",
    "        return json.load(open(path))\n",
    "\n",
    "path_ontology = \"/nfs/students/summer-term-2020/project-4/data/dataset1/ontology/ontology.json\"\n",
    "ontology = loadJsonFile(path_ontology)"
   ]
  },
  {
   "cell_type": "code",
   "execution_count": 24,
   "metadata": {
    "ExecuteTime": {
     "end_time": "2020-06-20T21:28:02.991516Z",
     "start_time": "2020-06-20T21:28:02.985610Z"
    }
   },
   "outputs": [],
   "source": [
    "ontology_id_name_mapping = {}\n",
    "\n",
    "for entry in ontology:\n",
    "    ontology_id_name_mapping[entry['id']] = entry['name']"
   ]
  },
  {
   "cell_type": "code",
   "execution_count": 25,
   "metadata": {
    "ExecuteTime": {
     "end_time": "2020-06-20T21:28:06.118939Z",
     "start_time": "2020-06-20T21:28:06.110516Z"
    }
   },
   "outputs": [],
   "source": [
    "def loadMetaFiles(paths):\n",
    "    meta_files = []\n",
    "    for path in paths:\n",
    "        (dirpath, dirnames, filenames) = next(os.walk(path))\n",
    "        for filename in filenames:\n",
    "            if filename != 'meta.csv':\n",
    "                continue\n",
    "            meta_files.append(pd.read_csv(dirpath + filename, index_col=0))\n",
    "        \n",
    "    return pd.concat(meta_files, axis=0)"
   ]
  },
  {
   "cell_type": "code",
   "execution_count": 26,
   "metadata": {
    "ExecuteTime": {
     "end_time": "2020-06-20T21:28:07.095584Z",
     "start_time": "2020-06-20T21:28:07.080417Z"
    }
   },
   "outputs": [],
   "source": [
    "df_meta = loadMetaFiles(['/nfs/students/summer-term-2020/project-4/data/interpolation_data/download/'])"
   ]
  },
  {
   "cell_type": "code",
   "execution_count": 27,
   "metadata": {
    "ExecuteTime": {
     "end_time": "2020-06-20T21:28:07.688633Z",
     "start_time": "2020-06-20T21:28:07.673132Z"
    }
   },
   "outputs": [
    {
     "data": {
      "text/html": [
       "<div>\n",
       "<style scoped>\n",
       "    .dataframe tbody tr th:only-of-type {\n",
       "        vertical-align: middle;\n",
       "    }\n",
       "\n",
       "    .dataframe tbody tr th {\n",
       "        vertical-align: top;\n",
       "    }\n",
       "\n",
       "    .dataframe thead th {\n",
       "        text-align: right;\n",
       "    }\n",
       "</style>\n",
       "<table border=\"1\" class=\"dataframe\">\n",
       "  <thead>\n",
       "    <tr style=\"text-align: right;\">\n",
       "      <th></th>\n",
       "      <th>start_seconds</th>\n",
       "      <th>end_seconds</th>\n",
       "      <th>positive_labels</th>\n",
       "      <th>super_category</th>\n",
       "    </tr>\n",
       "  </thead>\n",
       "  <tbody>\n",
       "    <tr>\n",
       "      <th>1_iz3BvTJug</th>\n",
       "      <td>30.0</td>\n",
       "      <td>40.0</td>\n",
       "      <td>\"/m/04rlf,/m/07s8j8t,/m/07sbbz2,/m/09x0r\"</td>\n",
       "      <td>/m/04rlf</td>\n",
       "    </tr>\n",
       "  </tbody>\n",
       "</table>\n",
       "</div>"
      ],
      "text/plain": [
       "             start_seconds  end_seconds  \\\n",
       "1_iz3BvTJug           30.0         40.0   \n",
       "\n",
       "                                       positive_labels super_category  \n",
       "1_iz3BvTJug  \"/m/04rlf,/m/07s8j8t,/m/07sbbz2,/m/09x0r\"       /m/04rlf  "
      ]
     },
     "execution_count": 27,
     "metadata": {},
     "output_type": "execute_result"
    }
   ],
   "source": [
    "df_meta.head(1)"
   ]
  },
  {
   "cell_type": "code",
   "execution_count": 11,
   "metadata": {
    "ExecuteTime": {
     "end_time": "2020-06-20T21:24:18.039462Z",
     "start_time": "2020-06-20T21:24:18.030519Z"
    }
   },
   "outputs": [
    {
     "data": {
      "text/plain": [
       "'Fire engine, fire truck (siren)'"
      ]
     },
     "execution_count": 11,
     "metadata": {},
     "output_type": "execute_result"
    }
   ],
   "source": [
    "ontology_id_name_mapping['/m/012ndj']"
   ]
  },
  {
   "cell_type": "markdown",
   "metadata": {},
   "source": [
    "# Sort invalid files (those vailed to download)"
   ]
  },
  {
   "cell_type": "code",
   "execution_count": 178,
   "metadata": {
    "ExecuteTime": {
     "end_time": "2020-06-20T21:44:39.511805Z",
     "start_time": "2020-06-20T21:44:39.376301Z"
    }
   },
   "outputs": [
    {
     "name": "stdout",
     "output_type": "stream",
     "text": [
      "Failed to download: 122\n"
     ]
    }
   ],
   "source": [
    "# ensure all files are actually downloaded (sometimes download may fail due to unavailable/blocked videos etc)\n",
    "def getName(path):\n",
    "    return path.split(\"/\")[-1].replace('.wav', '')\n",
    "names = [getName(path) for path in quality_checked_sounds]\n",
    "\n",
    "not_downloaded = []\n",
    "for index, row in df_meta.iterrows():\n",
    "    if index not in names:\n",
    "        not_downloaded.append(index)\n",
    "print(\"Failed to download: \" + str(len(not_downloaded)))\n",
    "\n",
    "df_meta_valid = df_meta.drop(not_downloaded)"
   ]
  },
  {
   "cell_type": "markdown",
   "metadata": {},
   "source": [
    "# Remove those that are in valid/test"
   ]
  },
  {
   "cell_type": "code",
   "execution_count": 214,
   "metadata": {
    "ExecuteTime": {
     "end_time": "2020-06-20T22:04:48.009289Z",
     "start_time": "2020-06-20T22:04:48.004934Z"
    }
   },
   "outputs": [],
   "source": [
    "path_validation_paths = \"/nfs/students/summer-term-2020/project-4/data/dataset1/finalDataset/validation.json\"\n",
    "path_testing_paths = \"/nfs/students/summer-term-2020/project-4/data/dataset1/finalDataset/testing.json\""
   ]
  },
  {
   "cell_type": "code",
   "execution_count": 227,
   "metadata": {
    "ExecuteTime": {
     "end_time": "2020-06-20T22:07:11.590650Z",
     "start_time": "2020-06-20T22:07:11.559264Z"
    }
   },
   "outputs": [],
   "source": [
    "validTestData = json.loads(open(path_validation_paths).read()) + json.loads(open(path_testing_paths).read())\n",
    "validTestNames = [x['path'].split(\"/\")[-1].replace(\".wav\", \"\") for x in validTestData]"
   ]
  },
  {
   "cell_type": "code",
   "execution_count": 230,
   "metadata": {
    "ExecuteTime": {
     "end_time": "2020-06-20T22:08:13.704506Z",
     "start_time": "2020-06-20T22:08:13.510460Z"
    }
   },
   "outputs": [
    {
     "name": "stdout",
     "output_type": "stream",
     "text": [
      "Not valid: 28\n"
     ]
    }
   ],
   "source": [
    "notValid = []\n",
    "for index, row in df_meta_valid.iterrows():\n",
    "    if index in validTestNames:\n",
    "        notValid.append(index)\n",
    "print(\"Not valid: \" + str(len(notValid)))\n",
    "\n",
    "df_meta_valid = df_meta_valid.drop(notValid)"
   ]
  },
  {
   "cell_type": "markdown",
   "metadata": {},
   "source": [
    "# Create dataset"
   ]
  },
  {
   "cell_type": "code",
   "execution_count": 235,
   "metadata": {
    "ExecuteTime": {
     "end_time": "2020-06-20T22:08:38.632423Z",
     "start_time": "2020-06-20T22:08:38.609799Z"
    }
   },
   "outputs": [],
   "source": [
    "final_dataset_meta = df_meta_valid.groupby('super_category', as_index=False).apply(lambda x: x.sample(100, random_state=random_num))"
   ]
  },
  {
   "cell_type": "code",
   "execution_count": 236,
   "metadata": {
    "ExecuteTime": {
     "end_time": "2020-06-20T22:08:39.680148Z",
     "start_time": "2020-06-20T22:08:39.664230Z"
    }
   },
   "outputs": [
    {
     "data": {
      "text/html": [
       "<div>\n",
       "<style scoped>\n",
       "    .dataframe tbody tr th:only-of-type {\n",
       "        vertical-align: middle;\n",
       "    }\n",
       "\n",
       "    .dataframe tbody tr th {\n",
       "        vertical-align: top;\n",
       "    }\n",
       "\n",
       "    .dataframe thead th {\n",
       "        text-align: right;\n",
       "    }\n",
       "</style>\n",
       "<table border=\"1\" class=\"dataframe\">\n",
       "  <thead>\n",
       "    <tr style=\"text-align: right;\">\n",
       "      <th></th>\n",
       "      <th></th>\n",
       "      <th>start_seconds</th>\n",
       "      <th>end_seconds</th>\n",
       "      <th>positive_labels</th>\n",
       "      <th>super_category</th>\n",
       "    </tr>\n",
       "  </thead>\n",
       "  <tbody>\n",
       "    <tr>\n",
       "      <th rowspan=\"5\" valign=\"top\">0</th>\n",
       "      <th>6cX2K0UTgjU</th>\n",
       "      <td>540.0</td>\n",
       "      <td>550.0</td>\n",
       "      <td>\"/m/05x_td,/m/07qv_d5,/m/0912c9,/m/09x0r\"</td>\n",
       "      <td>/m/012f08</td>\n",
       "    </tr>\n",
       "    <tr>\n",
       "      <th>cERFUmgIQS0</th>\n",
       "      <td>30.0</td>\n",
       "      <td>40.0</td>\n",
       "      <td>\"/m/02rhddq,/m/07r04,/m/07yv9\"</td>\n",
       "      <td>/m/012f08</td>\n",
       "    </tr>\n",
       "    <tr>\n",
       "      <th>J6rKfrIq9Ds</th>\n",
       "      <td>100.0</td>\n",
       "      <td>110.0</td>\n",
       "      <td>\"/m/07q2z82,/m/07yv9,/m/0k4j,/t/dd00066,/t/dd0...</td>\n",
       "      <td>/m/012f08</td>\n",
       "    </tr>\n",
       "    <tr>\n",
       "      <th>SE1ik9fxks4</th>\n",
       "      <td>90.0</td>\n",
       "      <td>100.0</td>\n",
       "      <td>\"/m/07q2z82,/m/07yv9,/m/0btp2,/m/0k4j,/m/0ltv\"</td>\n",
       "      <td>/m/012f08</td>\n",
       "    </tr>\n",
       "    <tr>\n",
       "      <th>bJ424-lPwV4</th>\n",
       "      <td>120.0</td>\n",
       "      <td>130.0</td>\n",
       "      <td>\"/m/07yv9,/m/0h9mv,/m/0k4j\"</td>\n",
       "      <td>/m/012f08</td>\n",
       "    </tr>\n",
       "  </tbody>\n",
       "</table>\n",
       "</div>"
      ],
      "text/plain": [
       "               start_seconds  end_seconds  \\\n",
       "0 6cX2K0UTgjU          540.0        550.0   \n",
       "  cERFUmgIQS0           30.0         40.0   \n",
       "  J6rKfrIq9Ds          100.0        110.0   \n",
       "  SE1ik9fxks4           90.0        100.0   \n",
       "  bJ424-lPwV4          120.0        130.0   \n",
       "\n",
       "                                                 positive_labels  \\\n",
       "0 6cX2K0UTgjU          \"/m/05x_td,/m/07qv_d5,/m/0912c9,/m/09x0r\"   \n",
       "  cERFUmgIQS0                     \"/m/02rhddq,/m/07r04,/m/07yv9\"   \n",
       "  J6rKfrIq9Ds  \"/m/07q2z82,/m/07yv9,/m/0k4j,/t/dd00066,/t/dd0...   \n",
       "  SE1ik9fxks4     \"/m/07q2z82,/m/07yv9,/m/0btp2,/m/0k4j,/m/0ltv\"   \n",
       "  bJ424-lPwV4                        \"/m/07yv9,/m/0h9mv,/m/0k4j\"   \n",
       "\n",
       "              super_category  \n",
       "0 6cX2K0UTgjU      /m/012f08  \n",
       "  cERFUmgIQS0      /m/012f08  \n",
       "  J6rKfrIq9Ds      /m/012f08  \n",
       "  SE1ik9fxks4      /m/012f08  \n",
       "  bJ424-lPwV4      /m/012f08  "
      ]
     },
     "execution_count": 236,
     "metadata": {},
     "output_type": "execute_result"
    }
   ],
   "source": [
    "final_dataset_meta.head()"
   ]
  },
  {
   "cell_type": "code",
   "execution_count": 238,
   "metadata": {
    "ExecuteTime": {
     "end_time": "2020-06-20T22:08:57.993472Z",
     "start_time": "2020-06-20T22:08:57.985440Z"
    }
   },
   "outputs": [
    {
     "data": {
      "text/plain": [
       "(600, 4)"
      ]
     },
     "execution_count": 238,
     "metadata": {},
     "output_type": "execute_result"
    }
   ],
   "source": [
    "final_dataset_meta.shape"
   ]
  },
  {
   "cell_type": "code",
   "execution_count": 239,
   "metadata": {
    "ExecuteTime": {
     "end_time": "2020-06-20T22:09:00.497582Z",
     "start_time": "2020-06-20T22:09:00.484715Z"
    },
    "scrolled": true
   },
   "outputs": [
    {
     "data": {
      "text/plain": [
       "start_seconds                                         300\n",
       "end_seconds                                           310\n",
       "positive_labels    \"/m/012f08,/m/07r04,/m/07yv9,/m/0btp2\"\n",
       "super_category                                  /m/012f08\n",
       "Name: (0, gH9or2aQqOg), dtype: object"
      ]
     },
     "execution_count": 239,
     "metadata": {},
     "output_type": "execute_result"
    }
   ],
   "source": [
    "final_dataset_meta.loc[(0, 'gH9or2aQqOg')]"
   ]
  },
  {
   "cell_type": "code",
   "execution_count": 240,
   "metadata": {
    "ExecuteTime": {
     "end_time": "2020-06-20T22:09:02.517301Z",
     "start_time": "2020-06-20T22:09:02.508880Z"
    }
   },
   "outputs": [],
   "source": [
    "def findPath(name):\n",
    "    for path in quality_checked_sounds:\n",
    "        if name in path:\n",
    "            return path"
   ]
  },
  {
   "cell_type": "code",
   "execution_count": 241,
   "metadata": {
    "ExecuteTime": {
     "end_time": "2020-06-20T22:09:04.789605Z",
     "start_time": "2020-06-20T22:09:04.054487Z"
    }
   },
   "outputs": [],
   "source": [
    "final_dataset = []\n",
    "\n",
    "for index, row in final_dataset_meta.iterrows():\n",
    "    name = index[1]\n",
    "    filePath = findPath(name)\n",
    "    \n",
    "    labels = final_dataset_meta.loc[index]['positive_labels'][1:-1].split(',')\n",
    "    label_names = [ontology_id_name_mapping[label] for label in labels]\n",
    "    \n",
    "    sample = {'youtube_id': name,\n",
    "              'start_seconds': final_dataset_meta.loc[index]['start_seconds'],\n",
    "              'end_seconds': final_dataset_meta.loc[index]['end_seconds'],\n",
    "              'category': ontology_id_name_mapping[final_dataset_meta.loc[index]['super_category']],\n",
    "              'labels': labels,\n",
    "               'label_names': label_names,\n",
    "               'path': filePath}\n",
    "    \n",
    "    final_dataset.append(sample)"
   ]
  },
  {
   "cell_type": "code",
   "execution_count": 242,
   "metadata": {
    "ExecuteTime": {
     "end_time": "2020-06-20T22:09:06.866642Z",
     "start_time": "2020-06-20T22:09:06.857852Z"
    },
    "scrolled": true
   },
   "outputs": [
    {
     "data": {
      "text/plain": [
       "{'youtube_id': '_3RHrZDarB4',\n",
       " 'start_seconds': 30.0,\n",
       " 'end_seconds': 40.0,\n",
       " 'category': 'Animal',\n",
       " 'labels': ['/m/068hy', '/m/07qf0zm', '/m/0bt9lr'],\n",
       " 'label_names': ['Domestic animals, pets', 'Howl', 'Dog'],\n",
       " 'path': '/nfs/students/summer-term-2020/project-4/data/interpolation_data/download/_3RHrZDarB4.wav'}"
      ]
     },
     "execution_count": 242,
     "metadata": {},
     "output_type": "execute_result"
    }
   ],
   "source": [
    "# sample\n",
    "final_dataset[-1]"
   ]
  },
  {
   "cell_type": "code",
   "execution_count": 243,
   "metadata": {
    "ExecuteTime": {
     "end_time": "2020-06-20T22:09:13.365926Z",
     "start_time": "2020-06-20T22:09:13.356796Z"
    }
   },
   "outputs": [
    {
     "data": {
      "text/plain": [
       "600"
      ]
     },
     "execution_count": 243,
     "metadata": {},
     "output_type": "execute_result"
    }
   ],
   "source": [
    "len(final_dataset)"
   ]
  },
  {
   "cell_type": "markdown",
   "metadata": {},
   "source": [
    "# Save dataset"
   ]
  },
  {
   "cell_type": "code",
   "execution_count": 244,
   "metadata": {
    "ExecuteTime": {
     "end_time": "2020-06-20T22:09:15.219425Z",
     "start_time": "2020-06-20T22:09:15.212698Z"
    }
   },
   "outputs": [],
   "source": [
    "def saveDataset(dataset, path):\n",
    "    f = open(path, \"w\")\n",
    "    f.write(json.dumps(dataset))\n",
    "    f.close()"
   ]
  },
  {
   "cell_type": "code",
   "execution_count": 245,
   "metadata": {
    "ExecuteTime": {
     "end_time": "2020-06-20T22:09:16.650584Z",
     "start_time": "2020-06-20T22:09:16.645233Z"
    }
   },
   "outputs": [],
   "source": [
    "interpolation_data_path= \"/nfs/students/summer-term-2020/project-4/data/interpolation_data/interpolation_data.json\""
   ]
  },
  {
   "cell_type": "code",
   "execution_count": 246,
   "metadata": {
    "ExecuteTime": {
     "end_time": "2020-06-20T22:09:18.144408Z",
     "start_time": "2020-06-20T22:09:18.114569Z"
    }
   },
   "outputs": [],
   "source": [
    "saveDataset(final_dataset, interpolation_data_path)"
   ]
  },
  {
   "cell_type": "markdown",
   "metadata": {},
   "source": [
    "# Create resampled versions with fixed sample rates"
   ]
  },
  {
   "cell_type": "code",
   "execution_count": 252,
   "metadata": {
    "ExecuteTime": {
     "end_time": "2020-06-20T22:14:50.246910Z",
     "start_time": "2020-06-20T22:14:50.241960Z"
    }
   },
   "outputs": [],
   "source": [
    "import copy\n",
    "import pickle"
   ]
  },
  {
   "cell_type": "code",
   "execution_count": 248,
   "metadata": {
    "ExecuteTime": {
     "end_time": "2020-06-20T22:09:24.360621Z",
     "start_time": "2020-06-20T22:09:24.320478Z"
    }
   },
   "outputs": [],
   "source": [
    "dataset_48k = copy.deepcopy(final_dataset)\n",
    "dataset_8k = copy.deepcopy(final_dataset)"
   ]
  },
  {
   "cell_type": "code",
   "execution_count": 249,
   "metadata": {
    "ExecuteTime": {
     "end_time": "2020-06-20T22:10:59.876643Z",
     "start_time": "2020-06-20T22:09:26.354264Z"
    }
   },
   "outputs": [],
   "source": [
    "for sample in dataset_48k:\n",
    "    sample['data'] = librosa.load(sample['path'], sr=48000)"
   ]
  },
  {
   "cell_type": "code",
   "execution_count": 250,
   "metadata": {
    "ExecuteTime": {
     "end_time": "2020-06-20T22:14:29.802845Z",
     "start_time": "2020-06-20T22:10:59.881571Z"
    }
   },
   "outputs": [],
   "source": [
    "for sample in dataset_8k:\n",
    "    sample['data'] = librosa.load(sample['path'], sr=8000)"
   ]
  },
  {
   "cell_type": "code",
   "execution_count": 253,
   "metadata": {
    "ExecuteTime": {
     "end_time": "2020-06-20T22:14:55.639736Z",
     "start_time": "2020-06-20T22:14:52.172443Z"
    }
   },
   "outputs": [],
   "source": [
    "pickle_path = \"/nfs/students/summer-term-2020/project-4/data/interpolation_data/data_48k/\"\n",
    "pickle.dump(dataset_48k, open(pickle_path + \"interpolation_data_downsampled.p\",\"wb\"))"
   ]
  },
  {
   "cell_type": "code",
   "execution_count": 254,
   "metadata": {
    "ExecuteTime": {
     "end_time": "2020-06-20T22:14:56.763480Z",
     "start_time": "2020-06-20T22:14:56.129908Z"
    }
   },
   "outputs": [],
   "source": [
    "pickle_path = \"/nfs/students/summer-term-2020/project-4/data/interpolation_data/data_8k/\"\n",
    "pickle.dump(dataset_8k, open(pickle_path + \"interpolation_data_downsampled.p\",\"wb\"))"
   ]
  }
 ],
 "metadata": {
  "kernelspec": {
   "display_name": "Python 3",
   "language": "python",
   "name": "python3"
  },
  "language_info": {
   "codemirror_mode": {
    "name": "ipython",
    "version": 3
   },
   "file_extension": ".py",
   "mimetype": "text/x-python",
   "name": "python",
   "nbconvert_exporter": "python",
   "pygments_lexer": "ipython3",
   "version": "3.8.2"
  }
 },
 "nbformat": 4,
 "nbformat_minor": 4
}
