{
 "cells": [
  {
   "cell_type": "markdown",
   "metadata": {},
   "source": [
    "# Train Model\n",
    "\n",
    "\n",
    "This is a generic notebook, that lets you train models of different classes.\n",
    "\n",
    "You can also easily use this notebook to perform adversarial training, or to train a \"smooth\" classifier for randomized smoothing."
   ]
  },
  {
   "cell_type": "markdown",
   "metadata": {},
   "source": [
    "#### Preamble"
   ]
  },
  {
   "cell_type": "code",
   "execution_count": 1,
   "metadata": {},
   "outputs": [],
   "source": [
    "%load_ext autoreload\n",
    "%autoreload 2\n",
    "\n",
    "import os\n",
    "import sys\n",
    "module_path = os.path.abspath(os.path.join('../src/'))\n",
    "if module_path not in sys.path:\n",
    "    sys.path.append(module_path)"
   ]
  },
  {
   "cell_type": "code",
   "execution_count": 2,
   "metadata": {},
   "outputs": [
    {
     "name": "stderr",
     "output_type": "stream",
     "text": [
      "/nfs/homedirs/herrmanp/miniconda3/envs/ml/lib/python3.8/site-packages/librosa/util/decorators.py:9: NumbaDeprecationWarning: An import was requested from a module that has moved location.\n",
      "Import requested from: 'numba.decorators', please update to use 'numba.core.decorators' or pin to Numba version 0.48.0. This alias will not be present in Numba version 0.50.0.\n",
      "  from numba.decorators import jit as optional_jit\n",
      "/nfs/homedirs/herrmanp/miniconda3/envs/ml/lib/python3.8/site-packages/librosa/util/decorators.py:9: NumbaDeprecationWarning: An import was requested from a module that has moved location.\n",
      "Import of 'jit' requested from: 'numba.decorators', please update to use 'numba.core.decorators' or pin to Numba version 0.48.0. This alias will not be present in Numba version 0.50.0.\n",
      "  from numba.decorators import jit as optional_jit\n"
     ]
    }
   ],
   "source": [
    "import numpy as np\n",
    "\n",
    "import torch\n",
    "import pytorch_lightning as pl\n",
    "from pytorch_lightning import loggers\n",
    "\n",
    "\n",
    "import config\n",
    "from utils.RobustnessExperiment import load_module\n",
    "from utils.Visual import show_audio, show_spectogram, show_waveplot\n",
    "\n",
    "from classification.trainer.HyperParamSearch import SaveCallback"
   ]
  },
  {
   "cell_type": "markdown",
   "metadata": {},
   "source": [
    "#### Setup Dataset Handler"
   ]
  },
  {
   "cell_type": "code",
   "execution_count": 3,
   "metadata": {},
   "outputs": [],
   "source": [
    "from datasets.datasethandler import DatasetHandler\n",
    "datasetHandler = DatasetHandler()"
   ]
  },
  {
   "cell_type": "markdown",
   "metadata": {},
   "source": [
    "#### Define Save Callback\n",
    "To always keep the best model"
   ]
  },
  {
   "cell_type": "code",
   "execution_count": 4,
   "metadata": {},
   "outputs": [
    {
     "name": "stdout",
     "output_type": "stream",
     "text": [
      "created models directory!\n"
     ]
    }
   ],
   "source": [
    "cb = SaveCallback(\"best_model.p\")"
   ]
  },
  {
   "cell_type": "markdown",
   "metadata": {},
   "source": [
    "### Train the Model"
   ]
  },
  {
   "cell_type": "code",
   "execution_count": 5,
   "metadata": {},
   "outputs": [
    {
     "name": "stdout",
     "output_type": "stream",
     "text": [
      "Currently Best: None\n",
      "Loading cached training data of dataset 0 from /nfs/students/summer-term-2020/project-4/data/dataset1/dataset_8k/\n",
      "Loading cached validation data of dataset 0 from /nfs/students/summer-term-2020/project-4/data/dataset1/dataset_8k/\n"
     ]
    },
    {
     "name": "stderr",
     "output_type": "stream",
     "text": [
      "GPU available: True, used: True\n",
      "No environment variable for node rank defined. Set as 0.\n",
      "CUDA_VISIBLE_DEVICES: [0]\n",
      "/nfs/homedirs/herrmanp/miniconda3/envs/ml/lib/python3.8/site-packages/pytorch_lightning/utilities/distributed.py:23: RuntimeWarning: You have defined a `val_dataloader()` and have defined a `validation_step()`, you may also want to define `validation_epoch_end()` for accumulating stats.\n",
      "  warnings.warn(*args, **kwargs)\n",
      "Set SLURM handle signals.\n",
      "\n",
      "   | Name                      | Type                  | Params\n",
      "----------------------------------------------------------------\n",
      "0  | model                     | CRNN8k                | 258 K \n",
      "1  | model.spec                | MelspectrogramStretch | 0     \n",
      "2  | model.spec.spectrogram    | Spectrogram           | 0     \n",
      "3  | model.spec.mel_scale      | MelScale              | 0     \n",
      "4  | model.spec.stft           | Spectrogram           | 0     \n",
      "5  | model.spec.random_stretch | RandomTimeStretch     | 0     \n",
      "6  | model.spec.complex_norm   | ComplexNorm           | 0     \n",
      "7  | model.spec.norm           | SpecNormalization     | 0     \n",
      "8  | model.convs               | Sequential            | 213 K \n",
      "9  | model.convs.0             | Conv2d                | 320   \n",
      "10 | model.convs.1             | BatchNorm2d           | 64    \n",
      "11 | model.convs.2             | ELU                   | 0     \n",
      "12 | model.convs.3             | Conv2d                | 9 K   \n",
      "13 | model.convs.4             | BatchNorm2d           | 64    \n",
      "14 | model.convs.5             | ELU                   | 0     \n",
      "15 | model.convs.6             | MaxPool2d             | 0     \n",
      "16 | model.convs.7             | Dropout               | 0     \n",
      "17 | model.convs.8             | Conv2d                | 18 K  \n",
      "18 | model.convs.9             | BatchNorm2d           | 128   \n",
      "19 | model.convs.10            | ELU                   | 0     \n",
      "20 | model.convs.11            | Conv2d                | 36 K  \n",
      "21 | model.convs.12            | BatchNorm2d           | 128   \n",
      "22 | model.convs.13            | ELU                   | 0     \n",
      "23 | model.convs.14            | MaxPool2d             | 0     \n",
      "24 | model.convs.15            | Dropout               | 0     \n",
      "25 | model.convs.16            | Conv2d                | 73 K  \n",
      "26 | model.convs.17            | BatchNorm2d           | 256   \n",
      "27 | model.convs.18            | ELU                   | 0     \n",
      "28 | model.convs.19            | MaxPool2d             | 0     \n",
      "29 | model.convs.20            | Dropout               | 0     \n",
      "30 | model.convs.21            | Conv2d                | 73 K  \n",
      "31 | model.convs.22            | BatchNorm2d           | 128   \n",
      "32 | model.convs.23            | ELU                   | 0     \n",
      "33 | model.convs.24            | MaxPool2d             | 0     \n",
      "34 | model.convs.25            | Dropout               | 0     \n",
      "35 | model.LSTMCell            | LSTMCell              | 45 K  \n",
      "36 | model.dense               | Sequential            | 130   \n",
      "37 | model.dense.0             | Dropout               | 0     \n",
      "38 | model.dense.1             | BatchNorm1d           | 64    \n",
      "39 | model.dense.2             | Linear                | 66    \n",
      "/nfs/homedirs/herrmanp/miniconda3/envs/ml/lib/python3.8/site-packages/pytorch_lightning/utilities/distributed.py:23: UserWarning: The dataloader, val dataloader 0, does not have many workers which may be a bottleneck. Consider increasing the value of the `num_workers` argument` in the `DataLoader` init to improve performance.\n",
      "  warnings.warn(*args, **kwargs)\n"
     ]
    },
    {
     "data": {
      "application/vnd.jupyter.widget-view+json": {
       "model_id": "",
       "version_major": 2,
       "version_minor": 0
      },
      "text/plain": [
       "HBox(children=(FloatProgress(value=1.0, bar_style='info', description='Validation sanity check', layout=Layout…"
      ]
     },
     "metadata": {},
     "output_type": "display_data"
    },
    {
     "name": "stdout",
     "output_type": "stream",
     "text": [
      "Val-Acc=0.03793716656787196\n"
     ]
    },
    {
     "name": "stderr",
     "output_type": "stream",
     "text": [
      "/nfs/homedirs/herrmanp/miniconda3/envs/ml/lib/python3.8/site-packages/pytorch_lightning/utilities/distributed.py:23: UserWarning: The dataloader, train dataloader, does not have many workers which may be a bottleneck. Consider increasing the value of the `num_workers` argument` in the `DataLoader` init to improve performance.\n",
      "  warnings.warn(*args, **kwargs)\n"
     ]
    },
    {
     "data": {
      "application/vnd.jupyter.widget-view+json": {
       "model_id": "405170f2612c4647a0c414feb4443a4c",
       "version_major": 2,
       "version_minor": 0
      },
      "text/plain": [
       "HBox(children=(FloatProgress(value=1.0, bar_style='info', description='Training', layout=Layout(flex='2'), max…"
      ]
     },
     "metadata": {},
     "output_type": "display_data"
    },
    {
     "data": {
      "application/vnd.jupyter.widget-view+json": {
       "model_id": "",
       "version_major": 2,
       "version_minor": 0
      },
      "text/plain": [
       "HBox(children=(FloatProgress(value=1.0, bar_style='info', description='Validating', layout=Layout(flex='2'), m…"
      ]
     },
     "metadata": {},
     "output_type": "display_data"
    },
    {
     "name": "stdout",
     "output_type": "stream",
     "text": [
      "Val-Acc=0.8097213989330172\n",
      "Train-Acc=0.7909090909090909\n",
      "new best val acc 0.8097213989330172\n",
      "Saved model to \"models/best_model.p_0.8097.p\"\n",
      "Saved checkpoint at epoch 1 at \"models/best_model.p_0.8097.p\"\n"
     ]
    },
    {
     "data": {
      "application/vnd.jupyter.widget-view+json": {
       "model_id": "",
       "version_major": 2,
       "version_minor": 0
      },
      "text/plain": [
       "HBox(children=(FloatProgress(value=1.0, bar_style='info', description='Validating', layout=Layout(flex='2'), m…"
      ]
     },
     "metadata": {},
     "output_type": "display_data"
    },
    {
     "name": "stdout",
     "output_type": "stream",
     "text": [
      "Val-Acc=0.8020154119739182\n",
      "Train-Acc=0.824505928853755\n"
     ]
    },
    {
     "data": {
      "application/vnd.jupyter.widget-view+json": {
       "model_id": "",
       "version_major": 2,
       "version_minor": 0
      },
      "text/plain": [
       "HBox(children=(FloatProgress(value=1.0, bar_style='info', description='Validating', layout=Layout(flex='2'), m…"
      ]
     },
     "metadata": {},
     "output_type": "display_data"
    },
    {
     "name": "stdout",
     "output_type": "stream",
     "text": [
      "Val-Acc=0.8535862477771191\n",
      "Train-Acc=0.8312252964426877\n",
      "new best val acc 0.8535862477771191\n",
      "Saved model to \"models/best_model.p_0.8536.p\"\n",
      "Saved checkpoint at epoch 3 at \"models/best_model.p_0.8536.p\"\n",
      "\n"
     ]
    },
    {
     "data": {
      "text/plain": [
       "1"
      ]
     },
     "execution_count": 5,
     "metadata": {},
     "output_type": "execute_result"
    }
   ],
   "source": [
    "# MODELS\n",
    "from classification.models.M5 import M5PLModule\n",
    "from classification.models.SpectrogramCNN_8K import SpectrogramCNN_8KPLModule\n",
    "from classification.models.SpectrogramCNN import SpectrogramCNNPLModule\n",
    "from classification.models.CRNN_8k import CRNN8kPLModule\n",
    "from classification.models.CRNN import CRNNPLModule\n",
    "from classification.models.DeepRecursiveCNN8k import DeepRecursiveCNN8kPLModule\n",
    "from classification.models.DeepRecursiveCNN import DeepRecursiveCNNPLModule\n",
    "\n",
    "# ATTACKS\n",
    "from attacks.pgd import ProjectedGradientDescent, PGD_Real\n",
    "\n",
    "print(\"Currently Best:\", cb.best_val_acc)\n",
    "\n",
    "############################################################\n",
    "##### Specify Hyper Parameters\n",
    "############################################################\n",
    "# these are the best hyperparameters we found for the CRNN8k model.\n",
    "# have a look at the wiki, to find the best hyperparameters for our other models!\n",
    "hparams = {\n",
    " 'batch_size': 64,\n",
    " 'learning_rate': 0.00091159593618428,\n",
    " 'lr_decay': 0.701004802632707,\n",
    " 'weight_decay': 0.020050519680598525,\n",
    " 'p_dropout': 0.18416455677220223,\n",
    " 'lstm_hidden_size': 32,\n",
    " 'epochs': 3 # just for demo - better use ~50\n",
    "}\n",
    "\n",
    "\n",
    "############################################################\n",
    "##### Specify model class\n",
    "############################################################\n",
    "model = CRNN8kPLModule(hparams)\n",
    "datasetHandler.load(model, 'training')\n",
    "datasetHandler.load(model, 'validation')\n",
    "\n",
    "############################################################\n",
    "##### Extra Options\n",
    "############################################################\n",
    "\n",
    "########\n",
    "# uncomment this line, to train a \"smooth\" classifier for randomized smoothing\n",
    "# i.e., add gaussian noise with std=sigma during training\n",
    "########\n",
    "#model.set_smooth(sigma=0.5)\n",
    "\n",
    "########\n",
    "# adversarial training: uncomment here, to train with adversarial samples\n",
    "########\n",
    "#model.setAttack(PGD_Real, {\"norm\": 1, \"epsilon\": 1})\n",
    "#model.setAttack(ProjectedGradientDescent, {\"norm\": \"inf\", \"epsilon\": {\"SAMPLING_MODE\": \"choice\", \"options\": [0.01, 0.1]}})\n",
    "\n",
    "trainer = pl.Trainer(\n",
    "    max_epochs=hparams[\"epochs\"],\n",
    "    logger= loggers.TensorBoardLogger(config.LOG_DIR, name=type(model).__name__),\n",
    "    gpus=1 if torch.cuda.is_available() else None,\n",
    "    callbacks=[cb]\n",
    ")\n",
    "\n",
    "trainer.fit(model)"
   ]
  },
  {
   "cell_type": "markdown",
   "metadata": {},
   "source": [
    "#### Saving a model"
   ]
  },
  {
   "cell_type": "code",
   "execution_count": 6,
   "metadata": {},
   "outputs": [
    {
     "name": "stdout",
     "output_type": "stream",
     "text": [
      "CRNN8kPLModule(\n",
      "  (model): CRNN8k(\n",
      "    (spec): MelspectrogramStretch()\n",
      "    (convs): Sequential(\n",
      "      (0): Conv2d(1, 32, kernel_size=(3, 3), stride=(1, 1))\n",
      "      (1): BatchNorm2d(32, eps=1e-05, momentum=0.1, affine=True, track_running_stats=True)\n",
      "      (2): ELU(alpha=1.0)\n",
      "      (3): Conv2d(32, 32, kernel_size=(3, 3), stride=(1, 1))\n",
      "      (4): BatchNorm2d(32, eps=1e-05, momentum=0.1, affine=True, track_running_stats=True)\n",
      "      (5): ELU(alpha=1.0)\n",
      "      (6): MaxPool2d(kernel_size=2, stride=2, padding=0, dilation=1, ceil_mode=False)\n",
      "      (7): Dropout(p=0.18416455677220223, inplace=False)\n",
      "      (8): Conv2d(32, 64, kernel_size=(3, 3), stride=(1, 1))\n",
      "      (9): BatchNorm2d(64, eps=1e-05, momentum=0.1, affine=True, track_running_stats=True)\n",
      "      (10): ELU(alpha=1.0)\n",
      "      (11): Conv2d(64, 64, kernel_size=(3, 3), stride=(1, 1))\n",
      "      (12): BatchNorm2d(64, eps=1e-05, momentum=0.1, affine=True, track_running_stats=True)\n",
      "      (13): ELU(alpha=1.0)\n",
      "      (14): MaxPool2d(kernel_size=2, stride=2, padding=0, dilation=1, ceil_mode=False)\n",
      "      (15): Dropout(p=0.18416455677220223, inplace=False)\n",
      "      (16): Conv2d(64, 128, kernel_size=(3, 3), stride=(1, 1))\n",
      "      (17): BatchNorm2d(128, eps=1e-05, momentum=0.1, affine=True, track_running_stats=True)\n",
      "      (18): ELU(alpha=1.0)\n",
      "      (19): MaxPool2d(kernel_size=2, stride=2, padding=0, dilation=1, ceil_mode=False)\n",
      "      (20): Dropout(p=0.18416455677220223, inplace=False)\n",
      "      (21): Conv2d(128, 64, kernel_size=(3, 3), stride=(1, 1))\n",
      "      (22): BatchNorm2d(64, eps=1e-05, momentum=0.1, affine=True, track_running_stats=True)\n",
      "      (23): ELU(alpha=1.0)\n",
      "      (24): MaxPool2d(kernel_size=2, stride=2, padding=0, dilation=1, ceil_mode=False)\n",
      "      (25): Dropout(p=0.18416455677220223, inplace=False)\n",
      "    )\n",
      "    (LSTMCell): LSTMCell(320, 32)\n",
      "    (dense): Sequential(\n",
      "      (0): Dropout(p=0.3, inplace=False)\n",
      "      (1): BatchNorm1d(32, eps=1e-05, momentum=0.1, affine=True, track_running_stats=True)\n",
      "      (2): Linear(in_features=32, out_features=2, bias=True)\n",
      "    )\n",
      "  )\n",
      ")\n",
      "parameters: 258850\n",
      "Saved model to \"my_model.p\"\n"
     ]
    }
   ],
   "source": [
    "print(model)\n",
    "print(\"parameters:\", sum(p.numel() for p in model.parameters()))\n",
    "model.save(\"my_model.p\")"
   ]
  },
  {
   "cell_type": "markdown",
   "metadata": {},
   "source": [
    "### Load a model"
   ]
  },
  {
   "cell_type": "code",
   "execution_count": 7,
   "metadata": {},
   "outputs": [
    {
     "name": "stdout",
     "output_type": "stream",
     "text": [
      "{'batch_size': 64, 'learning_rate': 0.0009, 'weight_decay': 0.001, 'lr_decay': 0.95, 'epochs': 50, 'p_dropout': 0.36, 'n_hidden': 10, 'lstm_hidden_size': 64}\n",
      "Accuracy: \t0.87\n",
      "Precision: \t0.89\n",
      "Recall: \t0.83\n",
      "F1-Score: \t0.86\n",
      "\n",
      "VAL-ACC: 1464/1687 (86.78126852400712%)\n",
      "\n",
      "P-Rate: \t0.46\n"
     ]
    },
    {
     "data": {
      "text/plain": [
       "{'tp': array(688),\n",
       " 'fp': array(85),\n",
       " 'tn': array(776),\n",
       " 'fn': array(138),\n",
       " 'correct': array(1464),\n",
       " 'n': 1687,\n",
       " 'acc': 0.8678126852400712,\n",
       " 'prec': 0.890038809831824,\n",
       " 'rec': 0.8329297820823245,\n",
       " 'f1': 0.8605378361475922,\n",
       " 'attack_args': None,\n",
       " 'p_rate': 0.4582098399525785}"
      ]
     },
     "execution_count": 7,
     "metadata": {},
     "output_type": "execute_result"
    }
   ],
   "source": [
    "#model = load_module(\"/nfs/homedirs/herrmanp/shortcut/SAVED_MODELS/CRNN8k/CRNN8k_vanilla_0.8951.p\", CRNN8kPLModule)\n",
    "model = load_module(\"/nfs/homedirs/herrmanp/shortcut/SAVED_MODELS/CRNN8k/CRNN8k_attack_L_inf_eps=0.03_iters=2_v11.p\", CRNN8kPLModule)\n",
    "\n",
    "datasetHandler.load(model, 'validation')    #, old_data = True)\n",
    "datasetHandler.load(model, 'training')      #, old_data = True)\n",
    "\n",
    "print(model.hparams)\n",
    "\n",
    "model.cuda()\n",
    "model.report()"
   ]
  },
  {
   "cell_type": "markdown",
   "metadata": {},
   "source": [
    "# Run a single attack!"
   ]
  },
  {
   "cell_type": "code",
   "execution_count": 8,
   "metadata": {},
   "outputs": [
    {
     "name": "stderr",
     "output_type": "stream",
     "text": [
      "100%|██████████| 85/85 [00:02<00:00, 38.73it/s]\n"
     ]
    },
    {
     "name": "stdout",
     "output_type": "stream",
     "text": [
      "Attack-Parameters:\t{'epsilon': 0.1, 'norm': 'inf'}\n",
      "Early stopping: \tFalse (-1)\n",
      "\n",
      "Successfully attacked:\t109\n",
      "Total attacked: \t1487\n",
      "Total processed:\t1687\n",
      "\n",
      "Success-Rate: \t\t0.07\n",
      "Perturbed Accurracy: \t0.82\n"
     ]
    },
    {
     "data": {
      "text/plain": [
       "{'success_rate': 0.07330195023537324, 'acc': 0.8168346176644932}"
      ]
     },
     "execution_count": 8,
     "metadata": {},
     "output_type": "execute_result"
    }
   ],
   "source": [
    "from attacks.volume import VolumeAttack\n",
    "from attacks.pitch import PitchAttack\n",
    "from attacks.speed import TimeStretchAttack\n",
    "from attacks.pgd import ProjectedGradientDescent, PGD_Real\n",
    "from torch.utils.data import DataLoader, random_split\n",
    "\n",
    "\n",
    "val_dataloader =  DataLoader(model.val_dataloader().dataset, shuffle=True, batch_size=20, num_workers=1)\n",
    "attack = ProjectedGradientDescent(model.model, val_dataloader, {\"epsilon\":0.1, \"norm\": \"inf\"}, early_stopping=-1, device='cuda', save_samples=True)\n",
    "\n",
    "attack.attack()\n",
    "attack.report( )"
   ]
  }
 ],
 "metadata": {
  "kernelspec": {
   "display_name": "Python 3",
   "language": "python",
   "name": "python3"
  },
  "language_info": {
   "codemirror_mode": {
    "name": "ipython",
    "version": 3
   },
   "file_extension": ".py",
   "mimetype": "text/x-python",
   "name": "python",
   "nbconvert_exporter": "python",
   "pygments_lexer": "ipython3",
   "version": "3.8.2"
  }
 },
 "nbformat": 4,
 "nbformat_minor": 4
}
