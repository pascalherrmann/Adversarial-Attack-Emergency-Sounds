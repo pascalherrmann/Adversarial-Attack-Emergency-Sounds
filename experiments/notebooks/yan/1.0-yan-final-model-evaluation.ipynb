{
 "cells": [
  {
   "cell_type": "markdown",
   "metadata": {},
   "source": [
    "# Preamble"
   ]
  },
  {
   "cell_type": "code",
   "execution_count": 22,
   "metadata": {
    "ExecuteTime": {
     "end_time": "2020-07-15T19:50:54.280052Z",
     "start_time": "2020-07-15T19:50:54.269749Z"
    }
   },
   "outputs": [
    {
     "name": "stdout",
     "output_type": "stream",
     "text": [
      "The autoreload extension is already loaded. To reload it, use:\n",
      "  %reload_ext autoreload\n"
     ]
    }
   ],
   "source": [
    "%load_ext autoreload\n",
    "\n",
    "import os\n",
    "import sys\n",
    "module_path = os.path.abspath(os.path.join('../../../src/'))\n",
    "if module_path not in sys.path:\n",
    "    sys.path.append(module_path)\n",
    "    \n",
    "import torch\n",
    "from tqdm import tqdm\n",
    "from sklearn import metrics\n",
    "\n",
    "import config"
   ]
  },
  {
   "cell_type": "code",
   "execution_count": 2,
   "metadata": {
    "ExecuteTime": {
     "end_time": "2020-07-15T19:32:52.665998Z",
     "start_time": "2020-07-15T19:32:52.636228Z"
    }
   },
   "outputs": [
    {
     "name": "stdout",
     "output_type": "stream",
     "text": [
      "CUDA Available:  True\n"
     ]
    }
   ],
   "source": [
    "# Define what device we are using\n",
    "print(\"CUDA Available: \",torch.cuda.is_available())\n",
    "use_cuda=True\n",
    "device = torch.device(\"cuda\" if (use_cuda and torch.cuda.is_available()) else \"cpu\")"
   ]
  },
  {
   "cell_type": "markdown",
   "metadata": {},
   "source": [
    "# Validating"
   ]
  },
  {
   "cell_type": "code",
   "execution_count": 3,
   "metadata": {
    "ExecuteTime": {
     "end_time": "2020-07-15T19:32:52.678859Z",
     "start_time": "2020-07-15T19:32:52.667319Z"
    }
   },
   "outputs": [],
   "source": [
    "def reportScore(y_true, y_pred):\n",
    "    print(\"\\t\\tAccuracy:\\t\" + str(round(metrics.accuracy_score(y_true,y_pred), 2)))\n",
    "    print(\"\\t\\tPrecision:\\t\" + str(round(metrics.precision_score(y_true,y_pred), 2)))\n",
    "    print(\"\\t\\tRecall:   \\t\" + str(round(metrics.recall_score(y_true,y_pred), 2)))\n",
    "    print(\"\\t\\tF1-score:\\t\" + str(round(metrics.f1_score(y_true,y_pred), 2)))\n",
    "    #tn, fp, fn, tp = metrics.confusion_matrix(y_true,y_pred).ravel()"
   ]
  },
  {
   "cell_type": "code",
   "execution_count": 4,
   "metadata": {
    "ExecuteTime": {
     "end_time": "2020-07-15T19:32:52.688801Z",
     "start_time": "2020-07-15T19:32:52.683136Z"
    }
   },
   "outputs": [],
   "source": [
    "def validate(model, data_split=\"validation\", progress_bar=True):\n",
    "    data_loader = model.get_dataloader(data_split, shuffle=False) \n",
    "    model.eval()\n",
    "\n",
    "    y_true = []\n",
    "    y_pred = []\n",
    "    with torch.no_grad():\n",
    "        for data in tqdm(data_loader,disable=not progress_bar):\n",
    "            data['audio'], data['label'] = data['audio'].to(device), data['label'].to(device)\n",
    "            outputs = model(data)\n",
    "\n",
    "            y_pred.append(torch.max(outputs.data, 1)[1].item())\n",
    "            y_true.append(data['label'].item())\n",
    "            \n",
    "    reportScore(y_true, y_pred)"
   ]
  },
  {
   "cell_type": "code",
   "execution_count": 5,
   "metadata": {
    "ExecuteTime": {
     "end_time": "2020-07-15T19:32:52.697009Z",
     "start_time": "2020-07-15T19:32:52.692687Z"
    }
   },
   "outputs": [],
   "source": [
    "def load_models(models):\n",
    "    loades_models = []\n",
    "    \n",
    "    for (model_path, model_class) in models:\n",
    "        loaded_dict = torch.load(model_path)\n",
    "        model = model_class(loaded_dict['hparams'])\n",
    "        model.model.load_state_dict(loaded_dict[\"state_dict\"])\n",
    "        model = model.eval().cuda()\n",
    "        loades_models.append(model)\n",
    "    return loades_models"
   ]
  },
  {
   "cell_type": "markdown",
   "metadata": {},
   "source": [
    "# Dataset 1"
   ]
  },
  {
   "cell_type": "code",
   "execution_count": 6,
   "metadata": {
    "ExecuteTime": {
     "end_time": "2020-07-15T19:32:52.724200Z",
     "start_time": "2020-07-15T19:32:52.708534Z"
    }
   },
   "outputs": [],
   "source": [
    "from datasets.datasethandler import DatasetHandler \n",
    "datasetHandler = DatasetHandler()"
   ]
  },
  {
   "cell_type": "code",
   "execution_count": 13,
   "metadata": {
    "ExecuteTime": {
     "end_time": "2020-07-15T19:42:52.473918Z",
     "start_time": "2020-07-15T19:42:52.446828Z"
    }
   },
   "outputs": [],
   "source": [
    "from classification.models.M5 import M5PLModule\n",
    "from classification.models.CRNN import CRNNPLModule\n",
    "from classification.models.SpectrogramCNN import SpectrogramCNNPLModule\n",
    "from classification.models.DeepRecursiveCNN import DeepRecursiveCNNPLModule\n",
    "\n",
    "# 8k models\n",
    "from classification.models.SpectrogramCNN_8K import SpectrogramCNN_8KPLModule\n",
    "from classification.models.CRNN_8k import CRNN8kPLModule"
   ]
  },
  {
   "cell_type": "code",
   "execution_count": 14,
   "metadata": {
    "ExecuteTime": {
     "end_time": "2020-07-15T19:43:41.418857Z",
     "start_time": "2020-07-15T19:43:41.273216Z"
    }
   },
   "outputs": [],
   "source": [
    "models = [# 48k models\n",
    "          #('/nfs/students/summer-term-2020/project-4/SAVED_MODELS/SpectrogramCNN/SpectrogramCNN_optuna_90.5.p', SpectrogramCNNPLModule),\n",
    "          #(\"/nfs/students/summer-term-2020/project-4/SAVED_MODELS/DeepRecursiveCNN/DeepRecursiveCNN_vanilla.p\", DeepRecursiveCNNPLModule),\n",
    "          #(\"/nfs/students/summer-term-2020/project-4/SAVED_MODELS/CRNN/vanilla_0.878.p\", CRNNPLModule),\n",
    "          \n",
    "          # 8k models\n",
    "          #(\"/nfs/students/summer-term-2020/project-4/SAVED_MODELS/M5/M5_vanilla.p\", M5PLModule),\n",
    "          #(\"/nfs/students/summer-term-2020/project-4/SAVED_MODELS/SpectrogramCNN_8K/SpectrogramCNN_8k_vanilla_0.8998.p\", SpectrogramCNN_8KPLModule),\n",
    "          (\"/nfs/students/summer-term-2020/project-4/SAVED_MODELS/CRNN8k/CRNN8k_vanilla_0.8951.p\", CRNN8kPLModule)\n",
    "         ]\n",
    "models = load_models(models)"
   ]
  },
  {
   "cell_type": "code",
   "execution_count": 15,
   "metadata": {
    "ExecuteTime": {
     "end_time": "2020-07-15T19:43:44.303590Z",
     "start_time": "2020-07-15T19:43:44.297060Z"
    }
   },
   "outputs": [],
   "source": [
    "for model in models:\n",
    "    datasetHandler.load_datasets(model, old_data=(model.__class__.__name__ == \"M5PLModule\"))"
   ]
  },
  {
   "cell_type": "code",
   "execution_count": 16,
   "metadata": {
    "ExecuteTime": {
     "end_time": "2020-07-15T19:44:09.150898Z",
     "start_time": "2020-07-15T19:43:46.750773Z"
    }
   },
   "outputs": [
    {
     "name": "stdout",
     "output_type": "stream",
     "text": [
      "CRNN8kPLModule\n",
      "\ttraining\n",
      "\t\tAccuracy:\t0.91\n",
      "\t\tPrecision:\t0.92\n",
      "\t\tRecall:   \t0.91\n",
      "\t\tF1-score:\t0.91\n",
      "\tvalidation\n",
      "\t\tAccuracy:\t0.9\n",
      "\t\tPrecision:\t0.9\n",
      "\t\tRecall:   \t0.89\n",
      "\t\tF1-score:\t0.89\n",
      "\ttesting\n",
      "\t\tAccuracy:\t0.9\n",
      "\t\tPrecision:\t0.91\n",
      "\t\tRecall:   \t0.88\n",
      "\t\tF1-score:\t0.89\n",
      "\n"
     ]
    }
   ],
   "source": [
    "for model in models:\n",
    "    print(model.__class__.__name__)\n",
    "    for data_split in [\"training\", \"validation\", \"testing\"]:\n",
    "        print(\"\\t\" + data_split)\n",
    "        validate(model, data_split=data_split, progress_bar=False)\n",
    "    print()"
   ]
  },
  {
   "cell_type": "markdown",
   "metadata": {},
   "source": [
    "# Dataset 2"
   ]
  },
  {
   "cell_type": "code",
   "execution_count": 24,
   "metadata": {
    "ExecuteTime": {
     "end_time": "2020-07-15T19:51:06.009736Z",
     "start_time": "2020-07-15T19:51:05.995352Z"
    }
   },
   "outputs": [],
   "source": [
    "from datasets.datasethandler import DatasetHandler \n",
    "datasetHandler_dataset2 = DatasetHandler()"
   ]
  },
  {
   "cell_type": "code",
   "execution_count": 17,
   "metadata": {
    "ExecuteTime": {
     "end_time": "2020-07-15T19:45:15.312646Z",
     "start_time": "2020-07-15T19:45:15.303841Z"
    }
   },
   "outputs": [],
   "source": [
    "from classification.models.SpectrogramCNN_8K_Dataset2 import SpectrogramCNN_8K_Dataset2_PLModule\n",
    "from classification.models.CRNN_8k_D2 import CRNN8k_D2_PLModule"
   ]
  },
  {
   "cell_type": "code",
   "execution_count": 19,
   "metadata": {
    "ExecuteTime": {
     "end_time": "2020-07-15T19:49:54.090069Z",
     "start_time": "2020-07-15T19:49:53.731671Z"
    }
   },
   "outputs": [],
   "source": [
    "models = [\n",
    "          (\"/nfs/students/summer-term-2020/project-4/SAVED_MODELS/SpectrogramCNN_8K_Dataset2/optuna_spec8kd2_0.90.p\", SpectrogramCNN_8K_Dataset2_PLModule),\n",
    "          (\"/nfs/students/summer-term-2020/project-4/SAVED_MODELS/CRNN_8K_Dataset2/optuna_crnn8kd2_0.90.p\", CRNN8k_D2_PLModule)\n",
    "         ]\n",
    "models = load_models(models)"
   ]
  },
  {
   "cell_type": "code",
   "execution_count": 25,
   "metadata": {
    "ExecuteTime": {
     "end_time": "2020-07-15T19:51:18.093560Z",
     "start_time": "2020-07-15T19:51:07.341769Z"
    }
   },
   "outputs": [
    {
     "name": "stdout",
     "output_type": "stream",
     "text": [
      "Loading cached training data of dataset 1 from /nfs/students/summer-term-2020/project-4/data/dataset2/dataset_8k/\n",
      "Loading cached validation data of dataset 1 from /nfs/students/summer-term-2020/project-4/data/dataset2/dataset_8k/\n",
      "Loading cached testing data of dataset 1 from /nfs/students/summer-term-2020/project-4/data/dataset2/dataset_8k/\n"
     ]
    }
   ],
   "source": [
    "for model in models:\n",
    "    datasetHandler_dataset2.load_datasets(model, dataset_id=config.DATASET_CONTROL)"
   ]
  },
  {
   "cell_type": "code",
   "execution_count": 26,
   "metadata": {
    "ExecuteTime": {
     "end_time": "2020-07-15T19:52:06.765006Z",
     "start_time": "2020-07-15T19:51:29.060197Z"
    }
   },
   "outputs": [
    {
     "name": "stdout",
     "output_type": "stream",
     "text": [
      "SpectrogramCNN_8K_Dataset2_PLModule\n",
      "\ttraining\n",
      "\t\tAccuracy:\t0.92\n",
      "\t\tPrecision:\t0.92\n",
      "\t\tRecall:   \t0.92\n",
      "\t\tF1-score:\t0.92\n",
      "\tvalidation\n",
      "\t\tAccuracy:\t0.9\n",
      "\t\tPrecision:\t0.89\n",
      "\t\tRecall:   \t0.91\n",
      "\t\tF1-score:\t0.9\n",
      "\ttesting\n",
      "\t\tAccuracy:\t0.9\n",
      "\t\tPrecision:\t0.9\n",
      "\t\tRecall:   \t0.89\n",
      "\t\tF1-score:\t0.89\n",
      "\n",
      "CRNN8k_D2_PLModule\n",
      "\ttraining\n",
      "\t\tAccuracy:\t0.93\n",
      "\t\tPrecision:\t0.93\n",
      "\t\tRecall:   \t0.93\n",
      "\t\tF1-score:\t0.93\n",
      "\tvalidation\n",
      "\t\tAccuracy:\t0.9\n",
      "\t\tPrecision:\t0.89\n",
      "\t\tRecall:   \t0.9\n",
      "\t\tF1-score:\t0.89\n",
      "\ttesting\n",
      "\t\tAccuracy:\t0.88\n",
      "\t\tPrecision:\t0.89\n",
      "\t\tRecall:   \t0.87\n",
      "\t\tF1-score:\t0.88\n",
      "\n"
     ]
    }
   ],
   "source": [
    "for model in models:\n",
    "    print(model.__class__.__name__)\n",
    "    for data_split in [\"training\", \"validation\", \"testing\"]:\n",
    "        print(\"\\t\" + data_split)\n",
    "        validate(model, data_split=data_split, progress_bar=False)\n",
    "    print()"
   ]
  }
 ],
 "metadata": {
  "kernelspec": {
   "display_name": "Python 3",
   "language": "python",
   "name": "python3"
  },
  "language_info": {
   "codemirror_mode": {
    "name": "ipython",
    "version": 3
   },
   "file_extension": ".py",
   "mimetype": "text/x-python",
   "name": "python",
   "nbconvert_exporter": "python",
   "pygments_lexer": "ipython3",
   "version": "3.8.2"
  },
  "notify_time": "5"
 },
 "nbformat": 4,
 "nbformat_minor": 4
}
