{
 "cells": [
  {
   "cell_type": "code",
   "execution_count": 1,
   "metadata": {
    "ExecuteTime": {
     "end_time": "2020-07-14T21:35:26.717653Z",
     "start_time": "2020-07-14T21:35:26.689685Z"
    }
   },
   "outputs": [],
   "source": [
    "%load_ext autoreload\n",
    "%autoreload 2\n",
    "\n",
    "import os\n",
    "import sys\n",
    "module_path = os.path.abspath(os.path.join('../../../src/'))\n",
    "if module_path not in sys.path:\n",
    "    sys.path.append(module_path)"
   ]
  },
  {
   "cell_type": "code",
   "execution_count": 2,
   "metadata": {
    "ExecuteTime": {
     "end_time": "2020-07-14T21:35:28.673782Z",
     "start_time": "2020-07-14T21:35:28.079588Z"
    }
   },
   "outputs": [],
   "source": [
    "import config\n",
    "from datasets.datasethandler import DatasetHandler\n",
    "datasetHandler = DatasetHandler()"
   ]
  },
  {
   "cell_type": "markdown",
   "metadata": {},
   "source": [
    "# Tutorial: Hyperparameter Search"
   ]
  },
  {
   "cell_type": "code",
   "execution_count": 6,
   "metadata": {
    "ExecuteTime": {
     "end_time": "2020-07-14T21:35:58.621261Z",
     "start_time": "2020-07-14T21:35:58.550499Z"
    }
   },
   "outputs": [],
   "source": [
    "import torch\n",
    "import pytorch_lightning as pl\n",
    "import optuna\n",
    "from optuna.integration import PyTorchLightningPruningCallback\n",
    "\n",
    "from classification.models.M5 import M5PLModule\n",
    "from classification.models.SpectrogramCNN import SpectrogramCNNPLModule\n",
    "from classification.models.DeepRecursiveCNN import DeepRecursiveCNNPLModule\n",
    "from classification.models.MelSpectrogramCNN_8K import MelSpectrogramCNN_8KPLModule\n",
    "\n",
    "from classification.models.SpectrogramCNN_8K_Dataset2 import SpectrogramCNN_8K_Dataset2_PLModule\n",
    "from classification.models.CRNN_8k_D2 import CRNN8k_D2_PLModule\n",
    "from classification.trainer.HyperParamSearch import MetricsCallback, save_model"
   ]
  },
  {
   "cell_type": "code",
   "execution_count": 7,
   "metadata": {
    "ExecuteTime": {
     "end_time": "2020-07-14T21:36:00.874205Z",
     "start_time": "2020-07-14T21:36:00.835880Z"
    }
   },
   "outputs": [],
   "source": [
    "from pytorch_lightning.callbacks import Callback\n",
    "\n",
    "class SaveBestCallback(Callback): \n",
    "    def __init__(self, model_name = \"newest_model\", add_v_number = True):\n",
    "        super().__init__()\n",
    "        self.model_name = model_name\n",
    "        self.best_val_acc = None\n",
    "        self.add_v_number = add_v_number\n",
    "\n",
    "    def on_epoch_end(self, trainer, pl_module):\n",
    "        if not self.best_val_acc or pl_module.val_results_history[-1][\"val_acc\"] > self.best_val_acc:\n",
    "            print(\"new best val acc\", pl_module.val_results_history[-1][\"val_acc\"])\n",
    "            self.best_val_acc = pl_module.val_results_history[-1][\"val_acc\"]\n",
    "            #save_path = self.model_name + (( \"_v{}\".format(trainer.logger.version) +  \"_best.p\") if self.add_v_number else \"\")\n",
    "            save_path = self.model_name + str(pl_module.val_results_history[-1][\"val_acc\"]) + \".p\"\n",
    "            pl_module.save(save_path, overwrite_if_exists=True)\n",
    "            print(\"Saved checkpoint at epoch {} at \\\"{}\\\"\".format((trainer.current_epoch + 1), save_path))\n",
    "\n",
    "cb = SaveBestCallback(\"optuna_crnn8kd2_\", add_v_number = False)"
   ]
  },
  {
   "cell_type": "markdown",
   "metadata": {},
   "source": [
    "### Objective"
   ]
  },
  {
   "cell_type": "code",
   "execution_count": 9,
   "metadata": {
    "ExecuteTime": {
     "end_time": "2020-07-14T21:36:06.140253Z",
     "start_time": "2020-07-14T21:36:06.021488Z"
    }
   },
   "outputs": [
    {
     "name": "stderr",
     "output_type": "stream",
     "text": [
      "[I 2020-07-14 23:36:06,119] Using an existing study with name 'CRNN_8K_D2' instead of creating a new one.\n"
     ]
    }
   ],
   "source": [
    "def objective(trial):\n",
    "    metrics_callback = MetricsCallback()  \n",
    "\n",
    "    # here we sample the hyper params, similar as in our old random search\n",
    "    trial_hparams = {\"batch_size\": 64,\n",
    "                     \"learning_rate\": trial.suggest_loguniform(\"learning_rate\", 1e-6, 1e-1),\n",
    "                     \"p_dropout\": trial.suggest_float(\"p_drop\", 0, 1),\n",
    "                     \"lr_decay\": trial.suggest_float(\"lr_decay\", 0.7, 1),\n",
    "                     \"n_hidden\": trial.suggest_int(\"n_hidden\", 10, 1000),\n",
    "                     \"lstm_hidden_size\": trial.suggest_int(\"n_hidden\", 10, 1000),\n",
    "                     \"weight_decay\": trial.suggest_float(\"weight_decay\", 1e-6, 1e-1)\n",
    "                    }    \n",
    "\n",
    "    model = CRNN8k_D2_PLModule(trial_hparams)\n",
    "    \n",
    "    # create a trainer\n",
    "    trainer = pl.Trainer(\n",
    "        logger=pl.loggers.TensorBoardLogger(config.LOG_DIR, name=type(model.model).__name__),\n",
    "        max_epochs=15,                                                               \n",
    "        gpus=1 if torch.cuda.is_available() else None,\n",
    "        callbacks=[metrics_callback, cb],                                                   # save latest accuracy\n",
    "        early_stop_callback=PyTorchLightningPruningCallback(trial, monitor=\"validation_acc\"), # early stopping\n",
    "    )\n",
    "    \n",
    "    datasetHandler.load(model, 'training', dataset_id=config.DATASET_CONTROL)\n",
    "    datasetHandler.load(model, 'validation', dataset_id=config.DATASET_CONTROL)\n",
    "    trainer.fit(model)\n",
    "\n",
    "    # save model\n",
    "    model.save(\"saved_modelsq/\"+'{}.p'.format(trial.number))\n",
    "\n",
    "    # return validation accuracy from latest model, as that's what we want to minimize by our hyper param search\n",
    "    return metrics_callback.metrics[-1][\"validation_acc\"]\n",
    "\n",
    "pruner = optuna.pruners.MedianPruner()\n",
    "study = optuna.create_study(direction=\"maximize\", pruner=pruner, study_name='CRNN_8K_D2', storage='sqlite:///CRNN_8K_D2_study.db', load_if_exists=True)"
   ]
  },
  {
   "cell_type": "markdown",
   "metadata": {},
   "source": [
    "### Run Search"
   ]
  },
  {
   "cell_type": "code",
   "execution_count": 13,
   "metadata": {
    "ExecuteTime": {
     "end_time": "2020-07-14T23:03:09.867282Z",
     "start_time": "2020-07-14T21:36:31.977530Z"
    },
    "scrolled": true
   },
   "outputs": [
    {
     "name": "stderr",
     "output_type": "stream",
     "text": [
      "GPU available: True, used: True\n",
      "No environment variable for node rank defined. Set as 0.\n",
      "CUDA_VISIBLE_DEVICES: [0]\n",
      "Set SLURM handle signals.\n",
      "\n",
      "   | Name                      | Type                  | Params\n",
      "----------------------------------------------------------------\n",
      "0  | model                     | CRNN8k_D2             | 1 M   \n",
      "1  | model.spec                | MelspectrogramStretch | 0     \n",
      "2  | model.spec.spectrogram    | Spectrogram           | 0     \n",
      "3  | model.spec.mel_scale      | MelScale              | 0     \n",
      "4  | model.spec.stft           | Spectrogram           | 0     \n",
      "5  | model.spec.random_stretch | RandomTimeStretch     | 0     \n",
      "6  | model.spec.complex_norm   | ComplexNorm           | 0     \n",
      "7  | model.spec.norm           | SpecNormalization     | 0     \n",
      "8  | model.convs               | Sequential            | 213 K \n",
      "9  | model.convs.0             | Conv2d                | 320   \n",
      "10 | model.convs.1             | BatchNorm2d           | 64    \n",
      "11 | model.convs.2             | ELU                   | 0     \n",
      "12 | model.convs.3             | Conv2d                | 9 K   \n",
      "13 | model.convs.4             | BatchNorm2d           | 64    \n",
      "14 | model.convs.5             | ELU                   | 0     \n",
      "15 | model.convs.6             | MaxPool2d             | 0     \n",
      "16 | model.convs.7             | Dropout               | 0     \n",
      "17 | model.convs.8             | Conv2d                | 18 K  \n",
      "18 | model.convs.9             | BatchNorm2d           | 128   \n",
      "19 | model.convs.10            | ELU                   | 0     \n",
      "20 | model.convs.11            | Conv2d                | 36 K  \n",
      "21 | model.convs.12            | BatchNorm2d           | 128   \n",
      "22 | model.convs.13            | ELU                   | 0     \n",
      "23 | model.convs.14            | MaxPool2d             | 0     \n",
      "24 | model.convs.15            | Dropout               | 0     \n",
      "25 | model.convs.16            | Conv2d                | 73 K  \n",
      "26 | model.convs.17            | BatchNorm2d           | 256   \n",
      "27 | model.convs.18            | ELU                   | 0     \n",
      "28 | model.convs.19            | MaxPool2d             | 0     \n",
      "29 | model.convs.20            | Dropout               | 0     \n",
      "30 | model.convs.21            | Conv2d                | 73 K  \n",
      "31 | model.convs.22            | BatchNorm2d           | 128   \n",
      "32 | model.convs.23            | ELU                   | 0     \n",
      "33 | model.convs.24            | MaxPool2d             | 0     \n",
      "34 | model.convs.25            | Dropout               | 0     \n",
      "35 | model.LSTMCell            | LSTMCell              | 920 K \n",
      "36 | model.dense               | Sequential            | 1 K   \n",
      "37 | model.dense.0             | Dropout               | 0     \n",
      "38 | model.dense.1             | BatchNorm1d           | 690   \n",
      "39 | model.dense.2             | Linear                | 692   \n"
     ]
    },
    {
     "data": {
      "application/vnd.jupyter.widget-view+json": {
       "model_id": "",
       "version_major": 2,
       "version_minor": 0
      },
      "text/plain": [
       "HBox(children=(FloatProgress(value=1.0, bar_style='info', description='Validation sanity check', layout=Layout…"
      ]
     },
     "metadata": {},
     "output_type": "display_data"
    },
    {
     "name": "stdout",
     "output_type": "stream",
     "text": [
      "Val-Acc=0.03793716656787196\n"
     ]
    },
    {
     "data": {
      "application/vnd.jupyter.widget-view+json": {
       "model_id": "3139e03fd31e4d8ebe37c59b70d53074",
       "version_major": 2,
       "version_minor": 0
      },
      "text/plain": [
       "HBox(children=(FloatProgress(value=1.0, bar_style='info', description='Training', layout=Layout(flex='2'), max…"
      ]
     },
     "metadata": {},
     "output_type": "display_data"
    },
    {
     "data": {
      "application/vnd.jupyter.widget-view+json": {
       "model_id": "",
       "version_major": 2,
       "version_minor": 0
      },
      "text/plain": [
       "HBox(children=(FloatProgress(value=1.0, bar_style='info', description='Validating', layout=Layout(flex='2'), m…"
      ]
     },
     "metadata": {},
     "output_type": "display_data"
    },
    {
     "name": "stdout",
     "output_type": "stream",
     "text": [
      "Val-Acc=0.4896265560165975\n",
      "Train-Acc=0.5191699604743083\n",
      "new best val acc 0.4896265560165975\n",
      "Saved model to \"optuna_crnn8kd2_0.4896265560165975.p\"\n",
      "Saved checkpoint at epoch 1 at \"optuna_crnn8kd2_0.4896265560165975.p\"\n"
     ]
    },
    {
     "data": {
      "application/vnd.jupyter.widget-view+json": {
       "model_id": "",
       "version_major": 2,
       "version_minor": 0
      },
      "text/plain": [
       "HBox(children=(FloatProgress(value=1.0, bar_style='info', description='Validating', layout=Layout(flex='2'), m…"
      ]
     },
     "metadata": {},
     "output_type": "display_data"
    },
    {
     "name": "stdout",
     "output_type": "stream",
     "text": [
      "Val-Acc=0.4896265560165975\n",
      "Train-Acc=0.525098814229249\n"
     ]
    },
    {
     "data": {
      "application/vnd.jupyter.widget-view+json": {
       "model_id": "",
       "version_major": 2,
       "version_minor": 0
      },
      "text/plain": [
       "HBox(children=(FloatProgress(value=1.0, bar_style='info', description='Validating', layout=Layout(flex='2'), m…"
      ]
     },
     "metadata": {},
     "output_type": "display_data"
    },
    {
     "name": "stdout",
     "output_type": "stream",
     "text": [
      "Val-Acc=0.4896265560165975\n",
      "Train-Acc=0.5227272727272727\n"
     ]
    },
    {
     "data": {
      "application/vnd.jupyter.widget-view+json": {
       "model_id": "",
       "version_major": 2,
       "version_minor": 0
      },
      "text/plain": [
       "HBox(children=(FloatProgress(value=1.0, bar_style='info', description='Validating', layout=Layout(flex='2'), m…"
      ]
     },
     "metadata": {},
     "output_type": "display_data"
    },
    {
     "name": "stdout",
     "output_type": "stream",
     "text": [
      "Val-Acc=0.4896265560165975\n",
      "Train-Acc=0.5381422924901186\n"
     ]
    },
    {
     "data": {
      "application/vnd.jupyter.widget-view+json": {
       "model_id": "",
       "version_major": 2,
       "version_minor": 0
      },
      "text/plain": [
       "HBox(children=(FloatProgress(value=1.0, bar_style='info', description='Validating', layout=Layout(flex='2'), m…"
      ]
     },
     "metadata": {},
     "output_type": "display_data"
    },
    {
     "name": "stdout",
     "output_type": "stream",
     "text": [
      "Val-Acc=0.4896265560165975\n",
      "Train-Acc=0.5403162055335968\n"
     ]
    },
    {
     "data": {
      "application/vnd.jupyter.widget-view+json": {
       "model_id": "",
       "version_major": 2,
       "version_minor": 0
      },
      "text/plain": [
       "HBox(children=(FloatProgress(value=1.0, bar_style='info', description='Validating', layout=Layout(flex='2'), m…"
      ]
     },
     "metadata": {},
     "output_type": "display_data"
    },
    {
     "name": "stdout",
     "output_type": "stream",
     "text": [
      "Val-Acc=0.4896265560165975\n",
      "Train-Acc=0.5571146245059289\n"
     ]
    },
    {
     "data": {
      "application/vnd.jupyter.widget-view+json": {
       "model_id": "",
       "version_major": 2,
       "version_minor": 0
      },
      "text/plain": [
       "HBox(children=(FloatProgress(value=1.0, bar_style='info', description='Validating', layout=Layout(flex='2'), m…"
      ]
     },
     "metadata": {},
     "output_type": "display_data"
    },
    {
     "name": "stdout",
     "output_type": "stream",
     "text": [
      "Val-Acc=0.4896265560165975\n",
      "Train-Acc=0.5539525691699605\n"
     ]
    },
    {
     "data": {
      "application/vnd.jupyter.widget-view+json": {
       "model_id": "",
       "version_major": 2,
       "version_minor": 0
      },
      "text/plain": [
       "HBox(children=(FloatProgress(value=1.0, bar_style='info', description='Validating', layout=Layout(flex='2'), m…"
      ]
     },
     "metadata": {},
     "output_type": "display_data"
    },
    {
     "name": "stdout",
     "output_type": "stream",
     "text": [
      "Val-Acc=0.4896265560165975\n",
      "Train-Acc=0.5699604743083004\n"
     ]
    },
    {
     "data": {
      "application/vnd.jupyter.widget-view+json": {
       "model_id": "",
       "version_major": 2,
       "version_minor": 0
      },
      "text/plain": [
       "HBox(children=(FloatProgress(value=1.0, bar_style='info', description='Validating', layout=Layout(flex='2'), m…"
      ]
     },
     "metadata": {},
     "output_type": "display_data"
    },
    {
     "name": "stdout",
     "output_type": "stream",
     "text": [
      "Val-Acc=0.4896265560165975\n",
      "Train-Acc=0.5640316205533596\n"
     ]
    },
    {
     "data": {
      "application/vnd.jupyter.widget-view+json": {
       "model_id": "",
       "version_major": 2,
       "version_minor": 0
      },
      "text/plain": [
       "HBox(children=(FloatProgress(value=1.0, bar_style='info', description='Validating', layout=Layout(flex='2'), m…"
      ]
     },
     "metadata": {},
     "output_type": "display_data"
    },
    {
     "name": "stdout",
     "output_type": "stream",
     "text": [
      "Val-Acc=0.4896265560165975\n",
      "Train-Acc=0.5679841897233202\n"
     ]
    },
    {
     "data": {
      "application/vnd.jupyter.widget-view+json": {
       "model_id": "",
       "version_major": 2,
       "version_minor": 0
      },
      "text/plain": [
       "HBox(children=(FloatProgress(value=1.0, bar_style='info', description='Validating', layout=Layout(flex='2'), m…"
      ]
     },
     "metadata": {},
     "output_type": "display_data"
    },
    {
     "name": "stdout",
     "output_type": "stream",
     "text": [
      "Val-Acc=0.4896265560165975\n",
      "Train-Acc=0.5537549407114625\n"
     ]
    },
    {
     "data": {
      "application/vnd.jupyter.widget-view+json": {
       "model_id": "",
       "version_major": 2,
       "version_minor": 0
      },
      "text/plain": [
       "HBox(children=(FloatProgress(value=1.0, bar_style='info', description='Validating', layout=Layout(flex='2'), m…"
      ]
     },
     "metadata": {},
     "output_type": "display_data"
    },
    {
     "name": "stdout",
     "output_type": "stream",
     "text": [
      "Val-Acc=0.4896265560165975\n",
      "Train-Acc=0.5687747035573123\n"
     ]
    },
    {
     "data": {
      "application/vnd.jupyter.widget-view+json": {
       "model_id": "",
       "version_major": 2,
       "version_minor": 0
      },
      "text/plain": [
       "HBox(children=(FloatProgress(value=1.0, bar_style='info', description='Validating', layout=Layout(flex='2'), m…"
      ]
     },
     "metadata": {},
     "output_type": "display_data"
    },
    {
     "name": "stdout",
     "output_type": "stream",
     "text": [
      "Val-Acc=0.4896265560165975\n",
      "Train-Acc=0.583794466403162\n"
     ]
    },
    {
     "data": {
      "application/vnd.jupyter.widget-view+json": {
       "model_id": "",
       "version_major": 2,
       "version_minor": 0
      },
      "text/plain": [
       "HBox(children=(FloatProgress(value=1.0, bar_style='info', description='Validating', layout=Layout(flex='2'), m…"
      ]
     },
     "metadata": {},
     "output_type": "display_data"
    },
    {
     "name": "stdout",
     "output_type": "stream",
     "text": [
      "Val-Acc=0.4896265560165975\n",
      "Train-Acc=0.5764822134387352\n"
     ]
    },
    {
     "data": {
      "application/vnd.jupyter.widget-view+json": {
       "model_id": "",
       "version_major": 2,
       "version_minor": 0
      },
      "text/plain": [
       "HBox(children=(FloatProgress(value=1.0, bar_style='info', description='Validating', layout=Layout(flex='2'), m…"
      ]
     },
     "metadata": {},
     "output_type": "display_data"
    },
    {
     "name": "stdout",
     "output_type": "stream",
     "text": [
      "Val-Acc=0.4896265560165975\n",
      "Train-Acc=0.5711462450592886\n",
      "\n",
      "Saved model to \"saved_modelsq/3.p\"\n"
     ]
    },
    {
     "name": "stderr",
     "output_type": "stream",
     "text": [
      "[I 2020-07-14 23:38:31,889] Finished trial#3 with value: 0.4896265560165975 with parameters: {'learning_rate': 8.66674663122949e-06, 'p_drop': 0.9431239943268251, 'lr_decay': 0.8822362121378919, 'n_hidden': 345, 'weight_decay': 0.009747992903617093}. Best is trial#0 with value: 0.7611144042679312.\n",
      "GPU available: True, used: True\n",
      "No environment variable for node rank defined. Set as 0.\n",
      "CUDA_VISIBLE_DEVICES: [0]\n",
      "Set SLURM handle signals.\n",
      "\n",
      "   | Name                      | Type                  | Params\n",
      "----------------------------------------------------------------\n",
      "0  | model                     | CRNN8k_D2             | 793 K \n",
      "1  | model.spec                | MelspectrogramStretch | 0     \n",
      "2  | model.spec.spectrogram    | Spectrogram           | 0     \n",
      "3  | model.spec.mel_scale      | MelScale              | 0     \n",
      "4  | model.spec.stft           | Spectrogram           | 0     \n",
      "5  | model.spec.random_stretch | RandomTimeStretch     | 0     \n",
      "6  | model.spec.complex_norm   | ComplexNorm           | 0     \n",
      "7  | model.spec.norm           | SpecNormalization     | 0     \n",
      "8  | model.convs               | Sequential            | 213 K \n",
      "9  | model.convs.0             | Conv2d                | 320   \n",
      "10 | model.convs.1             | BatchNorm2d           | 64    \n",
      "11 | model.convs.2             | ELU                   | 0     \n",
      "12 | model.convs.3             | Conv2d                | 9 K   \n",
      "13 | model.convs.4             | BatchNorm2d           | 64    \n",
      "14 | model.convs.5             | ELU                   | 0     \n",
      "15 | model.convs.6             | MaxPool2d             | 0     \n",
      "16 | model.convs.7             | Dropout               | 0     \n",
      "17 | model.convs.8             | Conv2d                | 18 K  \n",
      "18 | model.convs.9             | BatchNorm2d           | 128   \n",
      "19 | model.convs.10            | ELU                   | 0     \n",
      "20 | model.convs.11            | Conv2d                | 36 K  \n",
      "21 | model.convs.12            | BatchNorm2d           | 128   \n",
      "22 | model.convs.13            | ELU                   | 0     \n",
      "23 | model.convs.14            | MaxPool2d             | 0     \n",
      "24 | model.convs.15            | Dropout               | 0     \n",
      "25 | model.convs.16            | Conv2d                | 73 K  \n",
      "26 | model.convs.17            | BatchNorm2d           | 256   \n",
      "27 | model.convs.18            | ELU                   | 0     \n",
      "28 | model.convs.19            | MaxPool2d             | 0     \n",
      "29 | model.convs.20            | Dropout               | 0     \n",
      "30 | model.convs.21            | Conv2d                | 73 K  \n",
      "31 | model.convs.22            | BatchNorm2d           | 128   \n",
      "32 | model.convs.23            | ELU                   | 0     \n",
      "33 | model.convs.24            | MaxPool2d             | 0     \n",
      "34 | model.convs.25            | Dropout               | 0     \n",
      "35 | model.LSTMCell            | LSTMCell              | 578 K \n",
      "36 | model.dense               | Sequential            | 1 K   \n",
      "37 | model.dense.0             | Dropout               | 0     \n",
      "38 | model.dense.1             | BatchNorm1d           | 504   \n",
      "39 | model.dense.2             | Linear                | 506   \n"
     ]
    },
    {
     "data": {
      "application/vnd.jupyter.widget-view+json": {
       "model_id": "",
       "version_major": 2,
       "version_minor": 0
      },
      "text/plain": [
       "HBox(children=(FloatProgress(value=1.0, bar_style='info', description='Validation sanity check', layout=Layout…"
      ]
     },
     "metadata": {},
     "output_type": "display_data"
    },
    {
     "name": "stdout",
     "output_type": "stream",
     "text": [
      "Val-Acc=0.03793716656787196\n"
     ]
    },
    {
     "data": {
      "application/vnd.jupyter.widget-view+json": {
       "model_id": "1beda8d2bb98480ea24d709e0583b964",
       "version_major": 2,
       "version_minor": 0
      },
      "text/plain": [
       "HBox(children=(FloatProgress(value=1.0, bar_style='info', description='Training', layout=Layout(flex='2'), max…"
      ]
     },
     "metadata": {},
     "output_type": "display_data"
    },
    {
     "data": {
      "application/vnd.jupyter.widget-view+json": {
       "model_id": "",
       "version_major": 2,
       "version_minor": 0
      },
      "text/plain": [
       "HBox(children=(FloatProgress(value=1.0, bar_style='info', description='Validating', layout=Layout(flex='2'), m…"
      ]
     },
     "metadata": {},
     "output_type": "display_data"
    },
    {
     "name": "stdout",
     "output_type": "stream",
     "text": [
      "Val-Acc=0.7646710136336692\n",
      "Train-Acc=0.649802371541502\n",
      "new best val acc 0.7646710136336692\n",
      "Saved model to \"optuna_crnn8kd2_0.7646710136336692.p\"\n",
      "Saved checkpoint at epoch 1 at \"optuna_crnn8kd2_0.7646710136336692.p\"\n"
     ]
    },
    {
     "data": {
      "application/vnd.jupyter.widget-view+json": {
       "model_id": "",
       "version_major": 2,
       "version_minor": 0
      },
      "text/plain": [
       "HBox(children=(FloatProgress(value=1.0, bar_style='info', description='Validating', layout=Layout(flex='2'), m…"
      ]
     },
     "metadata": {},
     "output_type": "display_data"
    },
    {
     "name": "stdout",
     "output_type": "stream",
     "text": [
      "Val-Acc=0.7587433313574392\n",
      "Train-Acc=0.7106719367588933\n"
     ]
    },
    {
     "data": {
      "application/vnd.jupyter.widget-view+json": {
       "model_id": "",
       "version_major": 2,
       "version_minor": 0
      },
      "text/plain": [
       "HBox(children=(FloatProgress(value=1.0, bar_style='info', description='Validating', layout=Layout(flex='2'), m…"
      ]
     },
     "metadata": {},
     "output_type": "display_data"
    },
    {
     "name": "stdout",
     "output_type": "stream",
     "text": [
      "Val-Acc=0.7824540604623592\n",
      "Train-Acc=0.7288537549407115\n",
      "new best val acc 0.7824540604623592\n",
      "Saved model to \"optuna_crnn8kd2_0.7824540604623592.p\"\n",
      "Saved checkpoint at epoch 3 at \"optuna_crnn8kd2_0.7824540604623592.p\"\n"
     ]
    },
    {
     "data": {
      "application/vnd.jupyter.widget-view+json": {
       "model_id": "",
       "version_major": 2,
       "version_minor": 0
      },
      "text/plain": [
       "HBox(children=(FloatProgress(value=1.0, bar_style='info', description='Validating', layout=Layout(flex='2'), m…"
      ]
     },
     "metadata": {},
     "output_type": "display_data"
    },
    {
     "name": "stdout",
     "output_type": "stream",
     "text": [
      "Val-Acc=0.7848251333728512\n",
      "Train-Acc=0.733399209486166\n",
      "new best val acc 0.7848251333728512\n",
      "Saved model to \"optuna_crnn8kd2_0.7848251333728512.p\"\n",
      "Saved checkpoint at epoch 4 at \"optuna_crnn8kd2_0.7848251333728512.p\"\n"
     ]
    },
    {
     "data": {
      "application/vnd.jupyter.widget-view+json": {
       "model_id": "",
       "version_major": 2,
       "version_minor": 0
      },
      "text/plain": [
       "HBox(children=(FloatProgress(value=1.0, bar_style='info', description='Validating', layout=Layout(flex='2'), m…"
      ]
     },
     "metadata": {},
     "output_type": "display_data"
    },
    {
     "name": "stdout",
     "output_type": "stream",
     "text": [
      "Val-Acc=0.7783046828689982\n",
      "Train-Acc=0.7446640316205534\n"
     ]
    },
    {
     "data": {
      "application/vnd.jupyter.widget-view+json": {
       "model_id": "",
       "version_major": 2,
       "version_minor": 0
      },
      "text/plain": [
       "HBox(children=(FloatProgress(value=1.0, bar_style='info', description='Validating', layout=Layout(flex='2'), m…"
      ]
     },
     "metadata": {},
     "output_type": "display_data"
    },
    {
     "name": "stdout",
     "output_type": "stream",
     "text": [
      "Val-Acc=0.7848251333728512\n",
      "Train-Acc=0.7379446640316205\n"
     ]
    },
    {
     "data": {
      "application/vnd.jupyter.widget-view+json": {
       "model_id": "",
       "version_major": 2,
       "version_minor": 0
      },
      "text/plain": [
       "HBox(children=(FloatProgress(value=1.0, bar_style='info', description='Validating', layout=Layout(flex='2'), m…"
      ]
     },
     "metadata": {},
     "output_type": "display_data"
    },
    {
     "name": "stdout",
     "output_type": "stream",
     "text": [
      "Val-Acc=0.7866034380557202\n",
      "Train-Acc=0.7381422924901185\n",
      "new best val acc 0.7866034380557202\n",
      "Saved model to \"optuna_crnn8kd2_0.7866034380557202.p\"\n",
      "Saved checkpoint at epoch 7 at \"optuna_crnn8kd2_0.7866034380557202.p\"\n"
     ]
    },
    {
     "data": {
      "application/vnd.jupyter.widget-view+json": {
       "model_id": "",
       "version_major": 2,
       "version_minor": 0
      },
      "text/plain": [
       "HBox(children=(FloatProgress(value=1.0, bar_style='info', description='Validating', layout=Layout(flex='2'), m…"
      ]
     },
     "metadata": {},
     "output_type": "display_data"
    },
    {
     "name": "stdout",
     "output_type": "stream",
     "text": [
      "Val-Acc=0.7877889745109662\n",
      "Train-Acc=0.741106719367589\n",
      "new best val acc 0.7877889745109662\n",
      "Saved model to \"optuna_crnn8kd2_0.7877889745109662.p\"\n",
      "Saved checkpoint at epoch 8 at \"optuna_crnn8kd2_0.7877889745109662.p\"\n"
     ]
    },
    {
     "data": {
      "application/vnd.jupyter.widget-view+json": {
       "model_id": "",
       "version_major": 2,
       "version_minor": 0
      },
      "text/plain": [
       "HBox(children=(FloatProgress(value=1.0, bar_style='info', description='Validating', layout=Layout(flex='2'), m…"
      ]
     },
     "metadata": {},
     "output_type": "display_data"
    },
    {
     "name": "stdout",
     "output_type": "stream",
     "text": [
      "Val-Acc=0.7824540604623592\n",
      "Train-Acc=0.7438735177865613\n"
     ]
    },
    {
     "data": {
      "application/vnd.jupyter.widget-view+json": {
       "model_id": "",
       "version_major": 2,
       "version_minor": 0
      },
      "text/plain": [
       "HBox(children=(FloatProgress(value=1.0, bar_style='info', description='Validating', layout=Layout(flex='2'), m…"
      ]
     },
     "metadata": {},
     "output_type": "display_data"
    },
    {
     "name": "stdout",
     "output_type": "stream",
     "text": [
      "Val-Acc=0.7907528156490812\n",
      "Train-Acc=0.7458498023715415\n",
      "new best val acc 0.7907528156490812\n",
      "Saved model to \"optuna_crnn8kd2_0.7907528156490812.p\"\n",
      "Saved checkpoint at epoch 10 at \"optuna_crnn8kd2_0.7907528156490812.p\"\n"
     ]
    },
    {
     "data": {
      "application/vnd.jupyter.widget-view+json": {
       "model_id": "",
       "version_major": 2,
       "version_minor": 0
      },
      "text/plain": [
       "HBox(children=(FloatProgress(value=1.0, bar_style='info', description='Validating', layout=Layout(flex='2'), m…"
      ]
     },
     "metadata": {},
     "output_type": "display_data"
    },
    {
     "name": "stdout",
     "output_type": "stream",
     "text": [
      "Val-Acc=0.7866034380557202\n",
      "Train-Acc=0.7462450592885376\n"
     ]
    },
    {
     "data": {
      "application/vnd.jupyter.widget-view+json": {
       "model_id": "",
       "version_major": 2,
       "version_minor": 0
      },
      "text/plain": [
       "HBox(children=(FloatProgress(value=1.0, bar_style='info', description='Validating', layout=Layout(flex='2'), m…"
      ]
     },
     "metadata": {},
     "output_type": "display_data"
    },
    {
     "name": "stdout",
     "output_type": "stream",
     "text": [
      "Val-Acc=0.7818612922347362\n",
      "Train-Acc=0.7517786561264822\n"
     ]
    },
    {
     "data": {
      "application/vnd.jupyter.widget-view+json": {
       "model_id": "",
       "version_major": 2,
       "version_minor": 0
      },
      "text/plain": [
       "HBox(children=(FloatProgress(value=1.0, bar_style='info', description='Validating', layout=Layout(flex='2'), m…"
      ]
     },
     "metadata": {},
     "output_type": "display_data"
    },
    {
     "name": "stdout",
     "output_type": "stream",
     "text": [
      "Val-Acc=0.7877889745109662\n",
      "Train-Acc=0.750197628458498\n"
     ]
    },
    {
     "data": {
      "application/vnd.jupyter.widget-view+json": {
       "model_id": "",
       "version_major": 2,
       "version_minor": 0
      },
      "text/plain": [
       "HBox(children=(FloatProgress(value=1.0, bar_style='info', description='Validating', layout=Layout(flex='2'), m…"
      ]
     },
     "metadata": {},
     "output_type": "display_data"
    },
    {
     "name": "stdout",
     "output_type": "stream",
     "text": [
      "Val-Acc=0.7830468286899822\n",
      "Train-Acc=0.7470355731225297\n"
     ]
    },
    {
     "data": {
      "application/vnd.jupyter.widget-view+json": {
       "model_id": "",
       "version_major": 2,
       "version_minor": 0
      },
      "text/plain": [
       "HBox(children=(FloatProgress(value=1.0, bar_style='info', description='Validating', layout=Layout(flex='2'), m…"
      ]
     },
     "metadata": {},
     "output_type": "display_data"
    },
    {
     "name": "stdout",
     "output_type": "stream",
     "text": [
      "Val-Acc=0.7824540604623592\n",
      "Train-Acc=0.7513833992094862\n",
      "\n",
      "Saved model to \"saved_modelsq/4.p\"\n"
     ]
    },
    {
     "name": "stderr",
     "output_type": "stream",
     "text": [
      "[I 2020-07-14 23:40:32,660] Finished trial#4 with value: 0.7824540604623592 with parameters: {'learning_rate': 2.0389466116718304e-06, 'p_drop': 0.1793451407638964, 'lr_decay': 0.7136670149317942, 'n_hidden': 252, 'weight_decay': 0.010609085788900853}. Best is trial#4 with value: 0.7824540604623592.\n",
      "GPU available: True, used: True\n",
      "No environment variable for node rank defined. Set as 0.\n",
      "CUDA_VISIBLE_DEVICES: [0]\n",
      "Set SLURM handle signals.\n",
      "\n",
      "   | Name                      | Type                  | Params\n",
      "----------------------------------------------------------------\n",
      "0  | model                     | CRNN8k_D2             | 4 M   \n",
      "1  | model.spec                | MelspectrogramStretch | 0     \n",
      "2  | model.spec.spectrogram    | Spectrogram           | 0     \n",
      "3  | model.spec.mel_scale      | MelScale              | 0     \n",
      "4  | model.spec.stft           | Spectrogram           | 0     \n",
      "5  | model.spec.random_stretch | RandomTimeStretch     | 0     \n",
      "6  | model.spec.complex_norm   | ComplexNorm           | 0     \n",
      "7  | model.spec.norm           | SpecNormalization     | 0     \n",
      "8  | model.convs               | Sequential            | 213 K \n",
      "9  | model.convs.0             | Conv2d                | 320   \n",
      "10 | model.convs.1             | BatchNorm2d           | 64    \n",
      "11 | model.convs.2             | ELU                   | 0     \n",
      "12 | model.convs.3             | Conv2d                | 9 K   \n",
      "13 | model.convs.4             | BatchNorm2d           | 64    \n",
      "14 | model.convs.5             | ELU                   | 0     \n",
      "15 | model.convs.6             | MaxPool2d             | 0     \n",
      "16 | model.convs.7             | Dropout               | 0     \n",
      "17 | model.convs.8             | Conv2d                | 18 K  \n",
      "18 | model.convs.9             | BatchNorm2d           | 128   \n",
      "19 | model.convs.10            | ELU                   | 0     \n",
      "20 | model.convs.11            | Conv2d                | 36 K  \n",
      "21 | model.convs.12            | BatchNorm2d           | 128   \n",
      "22 | model.convs.13            | ELU                   | 0     \n",
      "23 | model.convs.14            | MaxPool2d             | 0     \n",
      "24 | model.convs.15            | Dropout               | 0     \n",
      "25 | model.convs.16            | Conv2d                | 73 K  \n",
      "26 | model.convs.17            | BatchNorm2d           | 256   \n",
      "27 | model.convs.18            | ELU                   | 0     \n",
      "28 | model.convs.19            | MaxPool2d             | 0     \n",
      "29 | model.convs.20            | Dropout               | 0     \n",
      "30 | model.convs.21            | Conv2d                | 73 K  \n",
      "31 | model.convs.22            | BatchNorm2d           | 128   \n",
      "32 | model.convs.23            | ELU                   | 0     \n",
      "33 | model.convs.24            | MaxPool2d             | 0     \n",
      "34 | model.convs.25            | Dropout               | 0     \n",
      "35 | model.LSTMCell            | LSTMCell              | 3 M   \n",
      "36 | model.dense               | Sequential            | 3 K   \n",
      "37 | model.dense.0             | Dropout               | 0     \n",
      "38 | model.dense.1             | BatchNorm1d           | 1 K   \n",
      "39 | model.dense.2             | Linear                | 1 K   \n"
     ]
    },
    {
     "data": {
      "application/vnd.jupyter.widget-view+json": {
       "model_id": "",
       "version_major": 2,
       "version_minor": 0
      },
      "text/plain": [
       "HBox(children=(FloatProgress(value=1.0, bar_style='info', description='Validation sanity check', layout=Layout…"
      ]
     },
     "metadata": {},
     "output_type": "display_data"
    },
    {
     "name": "stdout",
     "output_type": "stream",
     "text": [
      "Val-Acc=0.03793716656787196\n"
     ]
    },
    {
     "data": {
      "application/vnd.jupyter.widget-view+json": {
       "model_id": "03ceda00ab5e46dca7df8b82f34ba2fe",
       "version_major": 2,
       "version_minor": 0
      },
      "text/plain": [
       "HBox(children=(FloatProgress(value=1.0, bar_style='info', description='Training', layout=Layout(flex='2'), max…"
      ]
     },
     "metadata": {},
     "output_type": "display_data"
    },
    {
     "data": {
      "application/vnd.jupyter.widget-view+json": {
       "model_id": "",
       "version_major": 2,
       "version_minor": 0
      },
      "text/plain": [
       "HBox(children=(FloatProgress(value=1.0, bar_style='info', description='Validating', layout=Layout(flex='2'), m…"
      ]
     },
     "metadata": {},
     "output_type": "display_data"
    },
    {
     "name": "stdout",
     "output_type": "stream",
     "text": [
      "Val-Acc=0.7954949614700652\n",
      "Train-Acc=0.7581027667984189\n",
      "new best val acc 0.7954949614700652\n",
      "Saved model to \"optuna_crnn8kd2_0.7954949614700652.p\"\n",
      "Saved checkpoint at epoch 1 at \"optuna_crnn8kd2_0.7954949614700652.p\"\n"
     ]
    },
    {
     "data": {
      "application/vnd.jupyter.widget-view+json": {
       "model_id": "",
       "version_major": 2,
       "version_minor": 0
      },
      "text/plain": [
       "HBox(children=(FloatProgress(value=1.0, bar_style='info', description='Validating', layout=Layout(flex='2'), m…"
      ]
     },
     "metadata": {},
     "output_type": "display_data"
    },
    {
     "name": "stdout",
     "output_type": "stream",
     "text": [
      "Val-Acc=0.7664493183165383\n",
      "Train-Acc=0.7741106719367589\n"
     ]
    },
    {
     "data": {
      "application/vnd.jupyter.widget-view+json": {
       "model_id": "",
       "version_major": 2,
       "version_minor": 0
      },
      "text/plain": [
       "HBox(children=(FloatProgress(value=1.0, bar_style='info', description='Validating', layout=Layout(flex='2'), m…"
      ]
     },
     "metadata": {},
     "output_type": "display_data"
    },
    {
     "name": "stdout",
     "output_type": "stream",
     "text": [
      "Val-Acc=0.7794902193242442\n",
      "Train-Acc=0.7792490118577076\n"
     ]
    },
    {
     "data": {
      "application/vnd.jupyter.widget-view+json": {
       "model_id": "",
       "version_major": 2,
       "version_minor": 0
      },
      "text/plain": [
       "HBox(children=(FloatProgress(value=1.0, bar_style='info', description='Validating', layout=Layout(flex='2'), m…"
      ]
     },
     "metadata": {},
     "output_type": "display_data"
    },
    {
     "name": "stdout",
     "output_type": "stream",
     "text": [
      "Val-Acc=0.7818612922347362\n",
      "Train-Acc=0.7812252964426878\n"
     ]
    },
    {
     "data": {
      "application/vnd.jupyter.widget-view+json": {
       "model_id": "",
       "version_major": 2,
       "version_minor": 0
      },
      "text/plain": [
       "HBox(children=(FloatProgress(value=1.0, bar_style='info', description='Validating', layout=Layout(flex='2'), m…"
      ]
     },
     "metadata": {},
     "output_type": "display_data"
    },
    {
     "name": "stdout",
     "output_type": "stream",
     "text": [
      "Val-Acc=0.7824540604623592\n",
      "Train-Acc=0.7782608695652173\n"
     ]
    },
    {
     "data": {
      "application/vnd.jupyter.widget-view+json": {
       "model_id": "",
       "version_major": 2,
       "version_minor": 0
      },
      "text/plain": [
       "HBox(children=(FloatProgress(value=1.0, bar_style='info', description='Validating', layout=Layout(flex='2'), m…"
      ]
     },
     "metadata": {},
     "output_type": "display_data"
    },
    {
     "name": "stdout",
     "output_type": "stream",
     "text": [
      "Val-Acc=0.7783046828689982\n",
      "Train-Acc=0.783201581027668\n"
     ]
    },
    {
     "data": {
      "application/vnd.jupyter.widget-view+json": {
       "model_id": "",
       "version_major": 2,
       "version_minor": 0
      },
      "text/plain": [
       "HBox(children=(FloatProgress(value=1.0, bar_style='info', description='Validating', layout=Layout(flex='2'), m…"
      ]
     },
     "metadata": {},
     "output_type": "display_data"
    },
    {
     "name": "stdout",
     "output_type": "stream",
     "text": [
      "Val-Acc=0.7800829875518672\n",
      "Train-Acc=0.7820158102766799\n"
     ]
    },
    {
     "data": {
      "application/vnd.jupyter.widget-view+json": {
       "model_id": "",
       "version_major": 2,
       "version_minor": 0
      },
      "text/plain": [
       "HBox(children=(FloatProgress(value=1.0, bar_style='info', description='Validating', layout=Layout(flex='2'), m…"
      ]
     },
     "metadata": {},
     "output_type": "display_data"
    },
    {
     "name": "stdout",
     "output_type": "stream",
     "text": [
      "Val-Acc=0.7842323651452282\n",
      "Train-Acc=0.78300395256917\n"
     ]
    },
    {
     "data": {
      "application/vnd.jupyter.widget-view+json": {
       "model_id": "",
       "version_major": 2,
       "version_minor": 0
      },
      "text/plain": [
       "HBox(children=(FloatProgress(value=1.0, bar_style='info', description='Validating', layout=Layout(flex='2'), m…"
      ]
     },
     "metadata": {},
     "output_type": "display_data"
    },
    {
     "name": "stdout",
     "output_type": "stream",
     "text": [
      "Val-Acc=0.7866034380557202\n",
      "Train-Acc=0.7790513833992095\n"
     ]
    },
    {
     "data": {
      "application/vnd.jupyter.widget-view+json": {
       "model_id": "",
       "version_major": 2,
       "version_minor": 0
      },
      "text/plain": [
       "HBox(children=(FloatProgress(value=1.0, bar_style='info', description='Validating', layout=Layout(flex='2'), m…"
      ]
     },
     "metadata": {},
     "output_type": "display_data"
    },
    {
     "name": "stdout",
     "output_type": "stream",
     "text": [
      "Val-Acc=0.7806757557794902\n",
      "Train-Acc=0.7889328063241107\n"
     ]
    },
    {
     "data": {
      "application/vnd.jupyter.widget-view+json": {
       "model_id": "",
       "version_major": 2,
       "version_minor": 0
      },
      "text/plain": [
       "HBox(children=(FloatProgress(value=1.0, bar_style='info', description='Validating', layout=Layout(flex='2'), m…"
      ]
     },
     "metadata": {},
     "output_type": "display_data"
    },
    {
     "name": "stdout",
     "output_type": "stream",
     "text": [
      "Val-Acc=0.7943094250148192\n",
      "Train-Acc=0.7849802371541502\n"
     ]
    },
    {
     "data": {
      "application/vnd.jupyter.widget-view+json": {
       "model_id": "",
       "version_major": 2,
       "version_minor": 0
      },
      "text/plain": [
       "HBox(children=(FloatProgress(value=1.0, bar_style='info', description='Validating', layout=Layout(flex='2'), m…"
      ]
     },
     "metadata": {},
     "output_type": "display_data"
    },
    {
     "name": "stdout",
     "output_type": "stream",
     "text": [
      "Val-Acc=0.7694131594546533\n",
      "Train-Acc=0.7851778656126482\n"
     ]
    },
    {
     "data": {
      "application/vnd.jupyter.widget-view+json": {
       "model_id": "",
       "version_major": 2,
       "version_minor": 0
      },
      "text/plain": [
       "HBox(children=(FloatProgress(value=1.0, bar_style='info', description='Validating', layout=Layout(flex='2'), m…"
      ]
     },
     "metadata": {},
     "output_type": "display_data"
    },
    {
     "name": "stdout",
     "output_type": "stream",
     "text": [
      "Val-Acc=0.8014226437462952\n",
      "Train-Acc=0.7851778656126482\n",
      "new best val acc 0.8014226437462952\n",
      "Saved model to \"optuna_crnn8kd2_0.8014226437462952.p\"\n",
      "Saved checkpoint at epoch 13 at \"optuna_crnn8kd2_0.8014226437462952.p\"\n"
     ]
    },
    {
     "data": {
      "application/vnd.jupyter.widget-view+json": {
       "model_id": "",
       "version_major": 2,
       "version_minor": 0
      },
      "text/plain": [
       "HBox(children=(FloatProgress(value=1.0, bar_style='info', description='Validating', layout=Layout(flex='2'), m…"
      ]
     },
     "metadata": {},
     "output_type": "display_data"
    },
    {
     "name": "stdout",
     "output_type": "stream",
     "text": [
      "Val-Acc=0.7729697688203913\n",
      "Train-Acc=0.7786561264822134\n"
     ]
    },
    {
     "data": {
      "application/vnd.jupyter.widget-view+json": {
       "model_id": "",
       "version_major": 2,
       "version_minor": 0
      },
      "text/plain": [
       "HBox(children=(FloatProgress(value=1.0, bar_style='info', description='Validating', layout=Layout(flex='2'), m…"
      ]
     },
     "metadata": {},
     "output_type": "display_data"
    },
    {
     "name": "stdout",
     "output_type": "stream",
     "text": [
      "Val-Acc=0.7794902193242442\n",
      "Train-Acc=0.7843873517786562\n",
      "\n",
      "Saved model to \"saved_modelsq/5.p\"\n"
     ]
    },
    {
     "name": "stderr",
     "output_type": "stream",
     "text": [
      "[I 2020-07-14 23:42:35,264] Finished trial#5 with value: 0.7794902193242442 with parameters: {'learning_rate': 3.704878410626069e-05, 'p_drop': 0.41382067413544643, 'lr_decay': 0.7019304874150988, 'n_hidden': 825, 'weight_decay': 0.0732444198504291}. Best is trial#4 with value: 0.7824540604623592.\n",
      "GPU available: True, used: True\n",
      "No environment variable for node rank defined. Set as 0.\n",
      "CUDA_VISIBLE_DEVICES: [0]\n",
      "Set SLURM handle signals.\n",
      "\n",
      "   | Name                      | Type                  | Params\n",
      "----------------------------------------------------------------\n",
      "0  | model                     | CRNN8k_D2             | 1 M   \n",
      "1  | model.spec                | MelspectrogramStretch | 0     \n",
      "2  | model.spec.spectrogram    | Spectrogram           | 0     \n",
      "3  | model.spec.mel_scale      | MelScale              | 0     \n",
      "4  | model.spec.stft           | Spectrogram           | 0     \n",
      "5  | model.spec.random_stretch | RandomTimeStretch     | 0     \n",
      "6  | model.spec.complex_norm   | ComplexNorm           | 0     \n",
      "7  | model.spec.norm           | SpecNormalization     | 0     \n",
      "8  | model.convs               | Sequential            | 213 K \n",
      "9  | model.convs.0             | Conv2d                | 320   \n",
      "10 | model.convs.1             | BatchNorm2d           | 64    \n",
      "11 | model.convs.2             | ELU                   | 0     \n",
      "12 | model.convs.3             | Conv2d                | 9 K   \n",
      "13 | model.convs.4             | BatchNorm2d           | 64    \n",
      "14 | model.convs.5             | ELU                   | 0     \n",
      "15 | model.convs.6             | MaxPool2d             | 0     \n",
      "16 | model.convs.7             | Dropout               | 0     \n",
      "17 | model.convs.8             | Conv2d                | 18 K  \n",
      "18 | model.convs.9             | BatchNorm2d           | 128   \n",
      "19 | model.convs.10            | ELU                   | 0     \n",
      "20 | model.convs.11            | Conv2d                | 36 K  \n",
      "21 | model.convs.12            | BatchNorm2d           | 128   \n",
      "22 | model.convs.13            | ELU                   | 0     \n",
      "23 | model.convs.14            | MaxPool2d             | 0     \n",
      "24 | model.convs.15            | Dropout               | 0     \n",
      "25 | model.convs.16            | Conv2d                | 73 K  \n",
      "26 | model.convs.17            | BatchNorm2d           | 256   \n",
      "27 | model.convs.18            | ELU                   | 0     \n",
      "28 | model.convs.19            | MaxPool2d             | 0     \n",
      "29 | model.convs.20            | Dropout               | 0     \n",
      "30 | model.convs.21            | Conv2d                | 73 K  \n",
      "31 | model.convs.22            | BatchNorm2d           | 128   \n",
      "32 | model.convs.23            | ELU                   | 0     \n",
      "33 | model.convs.24            | MaxPool2d             | 0     \n",
      "34 | model.convs.25            | Dropout               | 0     \n",
      "35 | model.LSTMCell            | LSTMCell              | 1 M   \n",
      "36 | model.dense               | Sequential            | 2 K   \n",
      "37 | model.dense.0             | Dropout               | 0     \n",
      "38 | model.dense.1             | BatchNorm1d           | 1 K   \n",
      "39 | model.dense.2             | Linear                | 1 K   \n"
     ]
    },
    {
     "data": {
      "application/vnd.jupyter.widget-view+json": {
       "model_id": "",
       "version_major": 2,
       "version_minor": 0
      },
      "text/plain": [
       "HBox(children=(FloatProgress(value=1.0, bar_style='info', description='Validation sanity check', layout=Layout…"
      ]
     },
     "metadata": {},
     "output_type": "display_data"
    },
    {
     "name": "stdout",
     "output_type": "stream",
     "text": [
      "Val-Acc=0.03793716656787196\n"
     ]
    },
    {
     "data": {
      "application/vnd.jupyter.widget-view+json": {
       "model_id": "260a89b2dcfc445088f7219703aea232",
       "version_major": 2,
       "version_minor": 0
      },
      "text/plain": [
       "HBox(children=(FloatProgress(value=1.0, bar_style='info', description='Training', layout=Layout(flex='2'), max…"
      ]
     },
     "metadata": {},
     "output_type": "display_data"
    },
    {
     "data": {
      "application/vnd.jupyter.widget-view+json": {
       "model_id": "",
       "version_major": 2,
       "version_minor": 0
      },
      "text/plain": [
       "HBox(children=(FloatProgress(value=1.0, bar_style='info', description='Validating', layout=Layout(flex='2'), m…"
      ]
     },
     "metadata": {},
     "output_type": "display_data"
    },
    {
     "name": "stdout",
     "output_type": "stream",
     "text": [
      "Val-Acc=0.4896265560165975\n",
      "Train-Acc=0.5217391304347826\n"
     ]
    },
    {
     "data": {
      "application/vnd.jupyter.widget-view+json": {
       "model_id": "",
       "version_major": 2,
       "version_minor": 0
      },
      "text/plain": [
       "HBox(children=(FloatProgress(value=1.0, bar_style='info', description='Validating', layout=Layout(flex='2'), m…"
      ]
     },
     "metadata": {},
     "output_type": "display_data"
    },
    {
     "name": "stdout",
     "output_type": "stream",
     "text": [
      "Val-Acc=0.5103734439834025\n",
      "Train-Acc=0.5454545454545454\n"
     ]
    },
    {
     "data": {
      "application/vnd.jupyter.widget-view+json": {
       "model_id": "",
       "version_major": 2,
       "version_minor": 0
      },
      "text/plain": [
       "HBox(children=(FloatProgress(value=1.0, bar_style='info', description='Validating', layout=Layout(flex='2'), m…"
      ]
     },
     "metadata": {},
     "output_type": "display_data"
    },
    {
     "name": "stdout",
     "output_type": "stream",
     "text": [
      "Val-Acc=0.5103734439834025\n",
      "Train-Acc=0.5768774703557312\n"
     ]
    },
    {
     "data": {
      "application/vnd.jupyter.widget-view+json": {
       "model_id": "",
       "version_major": 2,
       "version_minor": 0
      },
      "text/plain": [
       "HBox(children=(FloatProgress(value=1.0, bar_style='info', description='Validating', layout=Layout(flex='2'), m…"
      ]
     },
     "metadata": {},
     "output_type": "display_data"
    },
    {
     "name": "stdout",
     "output_type": "stream",
     "text": [
      "Val-Acc=0.5103734439834025\n",
      "Train-Acc=0.591106719367589\n"
     ]
    },
    {
     "data": {
      "application/vnd.jupyter.widget-view+json": {
       "model_id": "",
       "version_major": 2,
       "version_minor": 0
      },
      "text/plain": [
       "HBox(children=(FloatProgress(value=1.0, bar_style='info', description='Validating', layout=Layout(flex='2'), m…"
      ]
     },
     "metadata": {},
     "output_type": "display_data"
    },
    {
     "name": "stdout",
     "output_type": "stream",
     "text": [
      "Val-Acc=0.5103734439834025\n",
      "Train-Acc=0.6094861660079052\n"
     ]
    },
    {
     "data": {
      "application/vnd.jupyter.widget-view+json": {
       "model_id": "",
       "version_major": 2,
       "version_minor": 0
      },
      "text/plain": [
       "HBox(children=(FloatProgress(value=1.0, bar_style='info', description='Validating', layout=Layout(flex='2'), m…"
      ]
     },
     "metadata": {},
     "output_type": "display_data"
    },
    {
     "name": "stdout",
     "output_type": "stream",
     "text": [
      "Val-Acc=0.5103734439834025\n",
      "Train-Acc=0.6055335968379446\n"
     ]
    },
    {
     "data": {
      "application/vnd.jupyter.widget-view+json": {
       "model_id": "",
       "version_major": 2,
       "version_minor": 0
      },
      "text/plain": [
       "HBox(children=(FloatProgress(value=1.0, bar_style='info', description='Validating', layout=Layout(flex='2'), m…"
      ]
     },
     "metadata": {},
     "output_type": "display_data"
    },
    {
     "name": "stdout",
     "output_type": "stream",
     "text": [
      "Val-Acc=0.5103734439834025\n",
      "Train-Acc=0.6205533596837944\n"
     ]
    },
    {
     "data": {
      "application/vnd.jupyter.widget-view+json": {
       "model_id": "",
       "version_major": 2,
       "version_minor": 0
      },
      "text/plain": [
       "HBox(children=(FloatProgress(value=1.0, bar_style='info', description='Validating', layout=Layout(flex='2'), m…"
      ]
     },
     "metadata": {},
     "output_type": "display_data"
    },
    {
     "name": "stdout",
     "output_type": "stream",
     "text": [
      "Val-Acc=0.5103734439834025\n",
      "Train-Acc=0.6142292490118577\n"
     ]
    },
    {
     "data": {
      "application/vnd.jupyter.widget-view+json": {
       "model_id": "",
       "version_major": 2,
       "version_minor": 0
      },
      "text/plain": [
       "HBox(children=(FloatProgress(value=1.0, bar_style='info', description='Validating', layout=Layout(flex='2'), m…"
      ]
     },
     "metadata": {},
     "output_type": "display_data"
    },
    {
     "name": "stdout",
     "output_type": "stream",
     "text": [
      "Val-Acc=0.5103734439834025\n",
      "Train-Acc=0.6282608695652174\n"
     ]
    },
    {
     "data": {
      "application/vnd.jupyter.widget-view+json": {
       "model_id": "",
       "version_major": 2,
       "version_minor": 0
      },
      "text/plain": [
       "HBox(children=(FloatProgress(value=1.0, bar_style='info', description='Validating', layout=Layout(flex='2'), m…"
      ]
     },
     "metadata": {},
     "output_type": "display_data"
    },
    {
     "name": "stdout",
     "output_type": "stream",
     "text": [
      "Val-Acc=0.5103734439834025\n",
      "Train-Acc=0.6391304347826087\n"
     ]
    },
    {
     "data": {
      "application/vnd.jupyter.widget-view+json": {
       "model_id": "",
       "version_major": 2,
       "version_minor": 0
      },
      "text/plain": [
       "HBox(children=(FloatProgress(value=1.0, bar_style='info', description='Validating', layout=Layout(flex='2'), m…"
      ]
     },
     "metadata": {},
     "output_type": "display_data"
    },
    {
     "name": "stdout",
     "output_type": "stream",
     "text": [
      "Val-Acc=0.7166567871962063\n",
      "Train-Acc=0.6442687747035574\n"
     ]
    },
    {
     "data": {
      "application/vnd.jupyter.widget-view+json": {
       "model_id": "",
       "version_major": 2,
       "version_minor": 0
      },
      "text/plain": [
       "HBox(children=(FloatProgress(value=1.0, bar_style='info', description='Validating', layout=Layout(flex='2'), m…"
      ]
     },
     "metadata": {},
     "output_type": "display_data"
    },
    {
     "name": "stdout",
     "output_type": "stream",
     "text": [
      "Val-Acc=0.5103734439834025\n",
      "Train-Acc=0.6324110671936759\n"
     ]
    },
    {
     "data": {
      "application/vnd.jupyter.widget-view+json": {
       "model_id": "",
       "version_major": 2,
       "version_minor": 0
      },
      "text/plain": [
       "HBox(children=(FloatProgress(value=1.0, bar_style='info', description='Validating', layout=Layout(flex='2'), m…"
      ]
     },
     "metadata": {},
     "output_type": "display_data"
    },
    {
     "name": "stdout",
     "output_type": "stream",
     "text": [
      "Val-Acc=0.5103734439834025\n",
      "Train-Acc=0.6294466403162056\n"
     ]
    },
    {
     "data": {
      "application/vnd.jupyter.widget-view+json": {
       "model_id": "",
       "version_major": 2,
       "version_minor": 0
      },
      "text/plain": [
       "HBox(children=(FloatProgress(value=1.0, bar_style='info', description='Validating', layout=Layout(flex='2'), m…"
      ]
     },
     "metadata": {},
     "output_type": "display_data"
    },
    {
     "name": "stdout",
     "output_type": "stream",
     "text": [
      "Val-Acc=0.5103734439834025\n",
      "Train-Acc=0.6316205533596838\n"
     ]
    },
    {
     "data": {
      "application/vnd.jupyter.widget-view+json": {
       "model_id": "",
       "version_major": 2,
       "version_minor": 0
      },
      "text/plain": [
       "HBox(children=(FloatProgress(value=1.0, bar_style='info', description='Validating', layout=Layout(flex='2'), m…"
      ]
     },
     "metadata": {},
     "output_type": "display_data"
    },
    {
     "name": "stdout",
     "output_type": "stream",
     "text": [
      "Val-Acc=0.5103734439834025\n",
      "Train-Acc=0.642094861660079\n",
      "\n",
      "Saved model to \"saved_modelsq/6.p\"\n"
     ]
    },
    {
     "name": "stderr",
     "output_type": "stream",
     "text": [
      "[I 2020-07-14 23:44:37,743] Finished trial#6 with value: 0.5103734439834025 with parameters: {'learning_rate': 9.49060122847055e-06, 'p_drop': 0.913896829983726, 'lr_decay': 0.8029952641922269, 'n_hidden': 500, 'weight_decay': 0.045148857012174186}. Best is trial#4 with value: 0.7824540604623592.\n",
      "GPU available: True, used: True\n",
      "No environment variable for node rank defined. Set as 0.\n",
      "CUDA_VISIBLE_DEVICES: [0]\n",
      "Set SLURM handle signals.\n",
      "\n",
      "   | Name                      | Type                  | Params\n",
      "----------------------------------------------------------------\n",
      "0  | model                     | CRNN8k_D2             | 3 M   \n",
      "1  | model.spec                | MelspectrogramStretch | 0     \n",
      "2  | model.spec.spectrogram    | Spectrogram           | 0     \n",
      "3  | model.spec.mel_scale      | MelScale              | 0     \n",
      "4  | model.spec.stft           | Spectrogram           | 0     \n",
      "5  | model.spec.random_stretch | RandomTimeStretch     | 0     \n",
      "6  | model.spec.complex_norm   | ComplexNorm           | 0     \n",
      "7  | model.spec.norm           | SpecNormalization     | 0     \n",
      "8  | model.convs               | Sequential            | 213 K \n",
      "9  | model.convs.0             | Conv2d                | 320   \n",
      "10 | model.convs.1             | BatchNorm2d           | 64    \n",
      "11 | model.convs.2             | ELU                   | 0     \n",
      "12 | model.convs.3             | Conv2d                | 9 K   \n",
      "13 | model.convs.4             | BatchNorm2d           | 64    \n",
      "14 | model.convs.5             | ELU                   | 0     \n",
      "15 | model.convs.6             | MaxPool2d             | 0     \n",
      "16 | model.convs.7             | Dropout               | 0     \n",
      "17 | model.convs.8             | Conv2d                | 18 K  \n",
      "18 | model.convs.9             | BatchNorm2d           | 128   \n",
      "19 | model.convs.10            | ELU                   | 0     \n",
      "20 | model.convs.11            | Conv2d                | 36 K  \n",
      "21 | model.convs.12            | BatchNorm2d           | 128   \n",
      "22 | model.convs.13            | ELU                   | 0     \n",
      "23 | model.convs.14            | MaxPool2d             | 0     \n",
      "24 | model.convs.15            | Dropout               | 0     \n",
      "25 | model.convs.16            | Conv2d                | 73 K  \n",
      "26 | model.convs.17            | BatchNorm2d           | 256   \n",
      "27 | model.convs.18            | ELU                   | 0     \n",
      "28 | model.convs.19            | MaxPool2d             | 0     \n",
      "29 | model.convs.20            | Dropout               | 0     \n",
      "30 | model.convs.21            | Conv2d                | 73 K  \n",
      "31 | model.convs.22            | BatchNorm2d           | 128   \n",
      "32 | model.convs.23            | ELU                   | 0     \n",
      "33 | model.convs.24            | MaxPool2d             | 0     \n",
      "34 | model.convs.25            | Dropout               | 0     \n",
      "35 | model.LSTMCell            | LSTMCell              | 2 M   \n",
      "36 | model.dense               | Sequential            | 2 K   \n",
      "37 | model.dense.0             | Dropout               | 0     \n",
      "38 | model.dense.1             | BatchNorm1d           | 1 K   \n",
      "39 | model.dense.2             | Linear                | 1 K   \n"
     ]
    },
    {
     "data": {
      "application/vnd.jupyter.widget-view+json": {
       "model_id": "",
       "version_major": 2,
       "version_minor": 0
      },
      "text/plain": [
       "HBox(children=(FloatProgress(value=1.0, bar_style='info', description='Validation sanity check', layout=Layout…"
      ]
     },
     "metadata": {},
     "output_type": "display_data"
    },
    {
     "name": "stdout",
     "output_type": "stream",
     "text": [
      "Val-Acc=0.024303497332542976\n"
     ]
    },
    {
     "data": {
      "application/vnd.jupyter.widget-view+json": {
       "model_id": "caac613c78cd41958d6415d56d81c102",
       "version_major": 2,
       "version_minor": 0
      },
      "text/plain": [
       "HBox(children=(FloatProgress(value=1.0, bar_style='info', description='Training', layout=Layout(flex='2'), max…"
      ]
     },
     "metadata": {},
     "output_type": "display_data"
    },
    {
     "data": {
      "application/vnd.jupyter.widget-view+json": {
       "model_id": "",
       "version_major": 2,
       "version_minor": 0
      },
      "text/plain": [
       "HBox(children=(FloatProgress(value=1.0, bar_style='info', description='Validating', layout=Layout(flex='2'), m…"
      ]
     },
     "metadata": {},
     "output_type": "display_data"
    },
    {
     "name": "stdout",
     "output_type": "stream",
     "text": [
      "Val-Acc=0.5103734439834025\n",
      "Train-Acc=0.5482213438735178\n"
     ]
    },
    {
     "data": {
      "application/vnd.jupyter.widget-view+json": {
       "model_id": "",
       "version_major": 2,
       "version_minor": 0
      },
      "text/plain": [
       "HBox(children=(FloatProgress(value=1.0, bar_style='info', description='Validating', layout=Layout(flex='2'), m…"
      ]
     },
     "metadata": {},
     "output_type": "display_data"
    },
    {
     "name": "stdout",
     "output_type": "stream",
     "text": [
      "Val-Acc=0.5103734439834025\n"
     ]
    },
    {
     "name": "stderr",
     "output_type": "stream",
     "text": [
      "[I 2020-07-14 23:44:54,673] Setting status of trial#7 as TrialState.PRUNED. Trial was pruned at epoch 1.\n",
      "GPU available: True, used: True\n",
      "No environment variable for node rank defined. Set as 0.\n",
      "CUDA_VISIBLE_DEVICES: [0]\n",
      "Set SLURM handle signals.\n",
      "\n",
      "   | Name                      | Type                  | Params\n",
      "----------------------------------------------------------------\n",
      "0  | model                     | CRNN8k_D2             | 1 M   \n",
      "1  | model.spec                | MelspectrogramStretch | 0     \n",
      "2  | model.spec.spectrogram    | Spectrogram           | 0     \n",
      "3  | model.spec.mel_scale      | MelScale              | 0     \n",
      "4  | model.spec.stft           | Spectrogram           | 0     \n",
      "5  | model.spec.random_stretch | RandomTimeStretch     | 0     \n",
      "6  | model.spec.complex_norm   | ComplexNorm           | 0     \n",
      "7  | model.spec.norm           | SpecNormalization     | 0     \n",
      "8  | model.convs               | Sequential            | 213 K \n",
      "9  | model.convs.0             | Conv2d                | 320   \n",
      "10 | model.convs.1             | BatchNorm2d           | 64    \n",
      "11 | model.convs.2             | ELU                   | 0     \n",
      "12 | model.convs.3             | Conv2d                | 9 K   \n",
      "13 | model.convs.4             | BatchNorm2d           | 64    \n",
      "14 | model.convs.5             | ELU                   | 0     \n",
      "15 | model.convs.6             | MaxPool2d             | 0     \n",
      "16 | model.convs.7             | Dropout               | 0     \n",
      "17 | model.convs.8             | Conv2d                | 18 K  \n",
      "18 | model.convs.9             | BatchNorm2d           | 128   \n",
      "19 | model.convs.10            | ELU                   | 0     \n",
      "20 | model.convs.11            | Conv2d                | 36 K  \n",
      "21 | model.convs.12            | BatchNorm2d           | 128   \n",
      "22 | model.convs.13            | ELU                   | 0     \n",
      "23 | model.convs.14            | MaxPool2d             | 0     \n",
      "24 | model.convs.15            | Dropout               | 0     \n",
      "25 | model.convs.16            | Conv2d                | 73 K  \n",
      "26 | model.convs.17            | BatchNorm2d           | 256   \n",
      "27 | model.convs.18            | ELU                   | 0     \n",
      "28 | model.convs.19            | MaxPool2d             | 0     \n",
      "29 | model.convs.20            | Dropout               | 0     \n",
      "30 | model.convs.21            | Conv2d                | 73 K  \n",
      "31 | model.convs.22            | BatchNorm2d           | 128   \n",
      "32 | model.convs.23            | ELU                   | 0     \n",
      "33 | model.convs.24            | MaxPool2d             | 0     \n",
      "34 | model.convs.25            | Dropout               | 0     \n",
      "35 | model.LSTMCell            | LSTMCell              | 1 M   \n",
      "36 | model.dense               | Sequential            | 2 K   \n",
      "37 | model.dense.0             | Dropout               | 0     \n",
      "38 | model.dense.1             | BatchNorm1d           | 1 K   \n",
      "39 | model.dense.2             | Linear                | 1 K   \n"
     ]
    },
    {
     "data": {
      "application/vnd.jupyter.widget-view+json": {
       "model_id": "",
       "version_major": 2,
       "version_minor": 0
      },
      "text/plain": [
       "HBox(children=(FloatProgress(value=1.0, bar_style='info', description='Validation sanity check', layout=Layout…"
      ]
     },
     "metadata": {},
     "output_type": "display_data"
    },
    {
     "name": "stdout",
     "output_type": "stream",
     "text": [
      "Val-Acc=0.053349140486069944\n"
     ]
    },
    {
     "data": {
      "application/vnd.jupyter.widget-view+json": {
       "model_id": "7b949412f2554fb88574f45fb779550a",
       "version_major": 2,
       "version_minor": 0
      },
      "text/plain": [
       "HBox(children=(FloatProgress(value=1.0, bar_style='info', description='Training', layout=Layout(flex='2'), max…"
      ]
     },
     "metadata": {},
     "output_type": "display_data"
    },
    {
     "data": {
      "application/vnd.jupyter.widget-view+json": {
       "model_id": "",
       "version_major": 2,
       "version_minor": 0
      },
      "text/plain": [
       "HBox(children=(FloatProgress(value=1.0, bar_style='info', description='Validating', layout=Layout(flex='2'), m…"
      ]
     },
     "metadata": {},
     "output_type": "display_data"
    },
    {
     "name": "stdout",
     "output_type": "stream",
     "text": [
      "Val-Acc=0.7622999407231772\n",
      "Train-Acc=0.6063241106719368\n"
     ]
    },
    {
     "data": {
      "application/vnd.jupyter.widget-view+json": {
       "model_id": "",
       "version_major": 2,
       "version_minor": 0
      },
      "text/plain": [
       "HBox(children=(FloatProgress(value=1.0, bar_style='info', description='Validating', layout=Layout(flex='2'), m…"
      ]
     },
     "metadata": {},
     "output_type": "display_data"
    },
    {
     "name": "stdout",
     "output_type": "stream",
     "text": [
      "Val-Acc=0.7788974510966212\n",
      "Train-Acc=0.658893280632411\n"
     ]
    },
    {
     "data": {
      "application/vnd.jupyter.widget-view+json": {
       "model_id": "",
       "version_major": 2,
       "version_minor": 0
      },
      "text/plain": [
       "HBox(children=(FloatProgress(value=1.0, bar_style='info', description='Validating', layout=Layout(flex='2'), m…"
      ]
     },
     "metadata": {},
     "output_type": "display_data"
    },
    {
     "name": "stdout",
     "output_type": "stream",
     "text": [
      "Val-Acc=0.7652637818612922\n",
      "Train-Acc=0.6871541501976285\n"
     ]
    },
    {
     "data": {
      "application/vnd.jupyter.widget-view+json": {
       "model_id": "",
       "version_major": 2,
       "version_minor": 0
      },
      "text/plain": [
       "HBox(children=(FloatProgress(value=1.0, bar_style='info', description='Validating', layout=Layout(flex='2'), m…"
      ]
     },
     "metadata": {},
     "output_type": "display_data"
    },
    {
     "name": "stdout",
     "output_type": "stream",
     "text": [
      "Val-Acc=0.7457024303497333\n",
      "Train-Acc=0.6960474308300395\n"
     ]
    },
    {
     "data": {
      "application/vnd.jupyter.widget-view+json": {
       "model_id": "",
       "version_major": 2,
       "version_minor": 0
      },
      "text/plain": [
       "HBox(children=(FloatProgress(value=1.0, bar_style='info', description='Validating', layout=Layout(flex='2'), m…"
      ]
     },
     "metadata": {},
     "output_type": "display_data"
    },
    {
     "name": "stdout",
     "output_type": "stream",
     "text": [
      "Val-Acc=0.7314759928867812\n",
      "Train-Acc=0.7075098814229249\n"
     ]
    },
    {
     "data": {
      "application/vnd.jupyter.widget-view+json": {
       "model_id": "",
       "version_major": 2,
       "version_minor": 0
      },
      "text/plain": [
       "HBox(children=(FloatProgress(value=1.0, bar_style='info', description='Validating', layout=Layout(flex='2'), m…"
      ]
     },
     "metadata": {},
     "output_type": "display_data"
    },
    {
     "name": "stdout",
     "output_type": "stream",
     "text": [
      "Val-Acc=0.7474807350326023\n",
      "Train-Acc=0.7152173913043478\n"
     ]
    },
    {
     "data": {
      "application/vnd.jupyter.widget-view+json": {
       "model_id": "",
       "version_major": 2,
       "version_minor": 0
      },
      "text/plain": [
       "HBox(children=(FloatProgress(value=1.0, bar_style='info', description='Validating', layout=Layout(flex='2'), m…"
      ]
     },
     "metadata": {},
     "output_type": "display_data"
    },
    {
     "name": "stdout",
     "output_type": "stream",
     "text": [
      "Val-Acc=0.7243627741553053\n",
      "Train-Acc=0.7138339920948616\n"
     ]
    },
    {
     "data": {
      "application/vnd.jupyter.widget-view+json": {
       "model_id": "",
       "version_major": 2,
       "version_minor": 0
      },
      "text/plain": [
       "HBox(children=(FloatProgress(value=1.0, bar_style='info', description='Validating', layout=Layout(flex='2'), m…"
      ]
     },
     "metadata": {},
     "output_type": "display_data"
    },
    {
     "name": "stdout",
     "output_type": "stream",
     "text": [
      "Val-Acc=0.6840545346769413\n",
      "Train-Acc=0.7144268774703557\n"
     ]
    },
    {
     "data": {
      "application/vnd.jupyter.widget-view+json": {
       "model_id": "",
       "version_major": 2,
       "version_minor": 0
      },
      "text/plain": [
       "HBox(children=(FloatProgress(value=1.0, bar_style='info', description='Validating', layout=Layout(flex='2'), m…"
      ]
     },
     "metadata": {},
     "output_type": "display_data"
    },
    {
     "name": "stdout",
     "output_type": "stream",
     "text": [
      "Val-Acc=0.6206283343212804\n",
      "Train-Acc=0.7164031620553359\n"
     ]
    },
    {
     "data": {
      "application/vnd.jupyter.widget-view+json": {
       "model_id": "",
       "version_major": 2,
       "version_minor": 0
      },
      "text/plain": [
       "HBox(children=(FloatProgress(value=1.0, bar_style='info', description='Validating', layout=Layout(flex='2'), m…"
      ]
     },
     "metadata": {},
     "output_type": "display_data"
    },
    {
     "name": "stdout",
     "output_type": "stream",
     "text": [
      "Val-Acc=0.7030231179608772\n",
      "Train-Acc=0.7193675889328063\n"
     ]
    },
    {
     "data": {
      "application/vnd.jupyter.widget-view+json": {
       "model_id": "",
       "version_major": 2,
       "version_minor": 0
      },
      "text/plain": [
       "HBox(children=(FloatProgress(value=1.0, bar_style='info', description='Validating', layout=Layout(flex='2'), m…"
      ]
     },
     "metadata": {},
     "output_type": "display_data"
    },
    {
     "name": "stdout",
     "output_type": "stream",
     "text": [
      "Val-Acc=0.7498518079430943\n",
      "Train-Acc=0.7284584980237154\n"
     ]
    },
    {
     "data": {
      "application/vnd.jupyter.widget-view+json": {
       "model_id": "",
       "version_major": 2,
       "version_minor": 0
      },
      "text/plain": [
       "HBox(children=(FloatProgress(value=1.0, bar_style='info', description='Validating', layout=Layout(flex='2'), m…"
      ]
     },
     "metadata": {},
     "output_type": "display_data"
    },
    {
     "name": "stdout",
     "output_type": "stream",
     "text": [
      "Val-Acc=0.6182572614107884\n",
      "Train-Acc=0.7118577075098814\n"
     ]
    },
    {
     "data": {
      "application/vnd.jupyter.widget-view+json": {
       "model_id": "",
       "version_major": 2,
       "version_minor": 0
      },
      "text/plain": [
       "HBox(children=(FloatProgress(value=1.0, bar_style='info', description='Validating', layout=Layout(flex='2'), m…"
      ]
     },
     "metadata": {},
     "output_type": "display_data"
    },
    {
     "name": "stdout",
     "output_type": "stream",
     "text": [
      "Val-Acc=0.7018375815056312\n",
      "Train-Acc=0.7211462450592885\n"
     ]
    },
    {
     "data": {
      "application/vnd.jupyter.widget-view+json": {
       "model_id": "",
       "version_major": 2,
       "version_minor": 0
      },
      "text/plain": [
       "HBox(children=(FloatProgress(value=1.0, bar_style='info', description='Validating', layout=Layout(flex='2'), m…"
      ]
     },
     "metadata": {},
     "output_type": "display_data"
    },
    {
     "name": "stdout",
     "output_type": "stream",
     "text": [
      "Val-Acc=0.6496739774748074\n",
      "Train-Acc=0.724308300395257\n"
     ]
    },
    {
     "data": {
      "application/vnd.jupyter.widget-view+json": {
       "model_id": "",
       "version_major": 2,
       "version_minor": 0
      },
      "text/plain": [
       "HBox(children=(FloatProgress(value=1.0, bar_style='info', description='Validating', layout=Layout(flex='2'), m…"
      ]
     },
     "metadata": {},
     "output_type": "display_data"
    },
    {
     "name": "stdout",
     "output_type": "stream",
     "text": [
      "Val-Acc=0.7178423236514523\n",
      "Train-Acc=0.7229249011857708\n",
      "\n",
      "Saved model to \"saved_modelsq/8.p\"\n"
     ]
    },
    {
     "name": "stderr",
     "output_type": "stream",
     "text": [
      "[I 2020-07-14 23:46:56,866] Finished trial#8 with value: 0.7178423236514523 with parameters: {'learning_rate': 3.411137643582605e-06, 'p_drop': 0.6754057108659437, 'lr_decay': 0.7416992943423791, 'n_hidden': 524, 'weight_decay': 0.07252008716644842}. Best is trial#4 with value: 0.7824540604623592.\n",
      "GPU available: True, used: True\n",
      "No environment variable for node rank defined. Set as 0.\n",
      "CUDA_VISIBLE_DEVICES: [0]\n",
      "Set SLURM handle signals.\n",
      "\n",
      "   | Name                      | Type                  | Params\n",
      "----------------------------------------------------------------\n",
      "0  | model                     | CRNN8k_D2             | 5 M   \n",
      "1  | model.spec                | MelspectrogramStretch | 0     \n",
      "2  | model.spec.spectrogram    | Spectrogram           | 0     \n",
      "3  | model.spec.mel_scale      | MelScale              | 0     \n",
      "4  | model.spec.stft           | Spectrogram           | 0     \n",
      "5  | model.spec.random_stretch | RandomTimeStretch     | 0     \n",
      "6  | model.spec.complex_norm   | ComplexNorm           | 0     \n",
      "7  | model.spec.norm           | SpecNormalization     | 0     \n",
      "8  | model.convs               | Sequential            | 213 K \n",
      "9  | model.convs.0             | Conv2d                | 320   \n",
      "10 | model.convs.1             | BatchNorm2d           | 64    \n",
      "11 | model.convs.2             | ELU                   | 0     \n",
      "12 | model.convs.3             | Conv2d                | 9 K   \n",
      "13 | model.convs.4             | BatchNorm2d           | 64    \n",
      "14 | model.convs.5             | ELU                   | 0     \n",
      "15 | model.convs.6             | MaxPool2d             | 0     \n",
      "16 | model.convs.7             | Dropout               | 0     \n",
      "17 | model.convs.8             | Conv2d                | 18 K  \n",
      "18 | model.convs.9             | BatchNorm2d           | 128   \n",
      "19 | model.convs.10            | ELU                   | 0     \n",
      "20 | model.convs.11            | Conv2d                | 36 K  \n",
      "21 | model.convs.12            | BatchNorm2d           | 128   \n",
      "22 | model.convs.13            | ELU                   | 0     \n",
      "23 | model.convs.14            | MaxPool2d             | 0     \n",
      "24 | model.convs.15            | Dropout               | 0     \n",
      "25 | model.convs.16            | Conv2d                | 73 K  \n",
      "26 | model.convs.17            | BatchNorm2d           | 256   \n",
      "27 | model.convs.18            | ELU                   | 0     \n",
      "28 | model.convs.19            | MaxPool2d             | 0     \n",
      "29 | model.convs.20            | Dropout               | 0     \n",
      "30 | model.convs.21            | Conv2d                | 73 K  \n",
      "31 | model.convs.22            | BatchNorm2d           | 128   \n",
      "32 | model.convs.23            | ELU                   | 0     \n",
      "33 | model.convs.24            | MaxPool2d             | 0     \n",
      "34 | model.convs.25            | Dropout               | 0     \n",
      "35 | model.LSTMCell            | LSTMCell              | 5 M   \n",
      "36 | model.dense               | Sequential            | 3 K   \n",
      "37 | model.dense.0             | Dropout               | 0     \n",
      "38 | model.dense.1             | BatchNorm1d           | 1 K   \n",
      "39 | model.dense.2             | Linear                | 1 K   \n"
     ]
    },
    {
     "data": {
      "application/vnd.jupyter.widget-view+json": {
       "model_id": "",
       "version_major": 2,
       "version_minor": 0
      },
      "text/plain": [
       "HBox(children=(FloatProgress(value=1.0, bar_style='info', description='Validation sanity check', layout=Layout…"
      ]
     },
     "metadata": {},
     "output_type": "display_data"
    },
    {
     "name": "stdout",
     "output_type": "stream",
     "text": [
      "Val-Acc=0.03734439834024896\n"
     ]
    },
    {
     "data": {
      "application/vnd.jupyter.widget-view+json": {
       "model_id": "f0d22da50ce6445fa83af9ec9d580bc4",
       "version_major": 2,
       "version_minor": 0
      },
      "text/plain": [
       "HBox(children=(FloatProgress(value=1.0, bar_style='info', description='Training', layout=Layout(flex='2'), max…"
      ]
     },
     "metadata": {},
     "output_type": "display_data"
    },
    {
     "data": {
      "application/vnd.jupyter.widget-view+json": {
       "model_id": "",
       "version_major": 2,
       "version_minor": 0
      },
      "text/plain": [
       "HBox(children=(FloatProgress(value=1.0, bar_style='info', description='Validating', layout=Layout(flex='2'), m…"
      ]
     },
     "metadata": {},
     "output_type": "display_data"
    },
    {
     "name": "stdout",
     "output_type": "stream",
     "text": [
      "Val-Acc=0.5992886781268524\n",
      "Train-Acc=0.7571146245059288\n"
     ]
    },
    {
     "data": {
      "application/vnd.jupyter.widget-view+json": {
       "model_id": "",
       "version_major": 2,
       "version_minor": 0
      },
      "text/plain": [
       "HBox(children=(FloatProgress(value=1.0, bar_style='info', description='Validating', layout=Layout(flex='2'), m…"
      ]
     },
     "metadata": {},
     "output_type": "display_data"
    },
    {
     "name": "stdout",
     "output_type": "stream",
     "text": [
      "Val-Acc=0.8014226437462952\n",
      "Train-Acc=0.7974308300395256\n"
     ]
    },
    {
     "data": {
      "application/vnd.jupyter.widget-view+json": {
       "model_id": "",
       "version_major": 2,
       "version_minor": 0
      },
      "text/plain": [
       "HBox(children=(FloatProgress(value=1.0, bar_style='info', description='Validating', layout=Layout(flex='2'), m…"
      ]
     },
     "metadata": {},
     "output_type": "display_data"
    },
    {
     "name": "stdout",
     "output_type": "stream",
     "text": [
      "Val-Acc=0.8073503260225252\n",
      "Train-Acc=0.8098814229249012\n",
      "new best val acc 0.8073503260225252\n",
      "Saved model to \"optuna_crnn8kd2_0.8073503260225252.p\"\n",
      "Saved checkpoint at epoch 3 at \"optuna_crnn8kd2_0.8073503260225252.p\"\n"
     ]
    },
    {
     "data": {
      "application/vnd.jupyter.widget-view+json": {
       "model_id": "",
       "version_major": 2,
       "version_minor": 0
      },
      "text/plain": [
       "HBox(children=(FloatProgress(value=1.0, bar_style='info', description='Validating', layout=Layout(flex='2'), m…"
      ]
     },
     "metadata": {},
     "output_type": "display_data"
    },
    {
     "name": "stdout",
     "output_type": "stream",
     "text": [
      "Val-Acc=0.8215767634854771\n",
      "Train-Acc=0.8310276679841897\n",
      "new best val acc 0.8215767634854771\n",
      "Saved model to \"optuna_crnn8kd2_0.8215767634854771.p\"\n",
      "Saved checkpoint at epoch 4 at \"optuna_crnn8kd2_0.8215767634854771.p\"\n"
     ]
    },
    {
     "data": {
      "application/vnd.jupyter.widget-view+json": {
       "model_id": "",
       "version_major": 2,
       "version_minor": 0
      },
      "text/plain": [
       "HBox(children=(FloatProgress(value=1.0, bar_style='info', description='Validating', layout=Layout(flex='2'), m…"
      ]
     },
     "metadata": {},
     "output_type": "display_data"
    },
    {
     "name": "stdout",
     "output_type": "stream",
     "text": [
      "Val-Acc=0.8340248962655602\n",
      "Train-Acc=0.8294466403162055\n",
      "new best val acc 0.8340248962655602\n",
      "Saved model to \"optuna_crnn8kd2_0.8340248962655602.p\"\n",
      "Saved checkpoint at epoch 5 at \"optuna_crnn8kd2_0.8340248962655602.p\"\n"
     ]
    },
    {
     "data": {
      "application/vnd.jupyter.widget-view+json": {
       "model_id": "",
       "version_major": 2,
       "version_minor": 0
      },
      "text/plain": [
       "HBox(children=(FloatProgress(value=1.0, bar_style='info', description='Validating', layout=Layout(flex='2'), m…"
      ]
     },
     "metadata": {},
     "output_type": "display_data"
    },
    {
     "name": "stdout",
     "output_type": "stream",
     "text": [
      "Val-Acc=0.8114997036158862\n",
      "Train-Acc=0.833596837944664\n"
     ]
    },
    {
     "data": {
      "application/vnd.jupyter.widget-view+json": {
       "model_id": "",
       "version_major": 2,
       "version_minor": 0
      },
      "text/plain": [
       "HBox(children=(FloatProgress(value=1.0, bar_style='info', description='Validating', layout=Layout(flex='2'), m…"
      ]
     },
     "metadata": {},
     "output_type": "display_data"
    },
    {
     "name": "stdout",
     "output_type": "stream",
     "text": [
      "Val-Acc=0.8286899822169532\n",
      "Train-Acc=0.8452569169960474\n"
     ]
    },
    {
     "data": {
      "application/vnd.jupyter.widget-view+json": {
       "model_id": "",
       "version_major": 2,
       "version_minor": 0
      },
      "text/plain": [
       "HBox(children=(FloatProgress(value=1.0, bar_style='info', description='Validating', layout=Layout(flex='2'), m…"
      ]
     },
     "metadata": {},
     "output_type": "display_data"
    },
    {
     "name": "stdout",
     "output_type": "stream",
     "text": [
      "Val-Acc=0.8346176644931832\n",
      "Train-Acc=0.8428853754940712\n",
      "new best val acc 0.8346176644931832\n",
      "Saved model to \"optuna_crnn8kd2_0.8346176644931832.p\"\n",
      "Saved checkpoint at epoch 8 at \"optuna_crnn8kd2_0.8346176644931832.p\"\n"
     ]
    },
    {
     "data": {
      "application/vnd.jupyter.widget-view+json": {
       "model_id": "",
       "version_major": 2,
       "version_minor": 0
      },
      "text/plain": [
       "HBox(children=(FloatProgress(value=1.0, bar_style='info', description='Validating', layout=Layout(flex='2'), m…"
      ]
     },
     "metadata": {},
     "output_type": "display_data"
    },
    {
     "name": "stdout",
     "output_type": "stream",
     "text": [
      "Val-Acc=0.8571428571428571\n",
      "Train-Acc=0.8432806324110672\n",
      "new best val acc 0.8571428571428571\n",
      "Saved model to \"optuna_crnn8kd2_0.8571428571428571.p\"\n",
      "Saved checkpoint at epoch 9 at \"optuna_crnn8kd2_0.8571428571428571.p\"\n"
     ]
    },
    {
     "data": {
      "application/vnd.jupyter.widget-view+json": {
       "model_id": "",
       "version_major": 2,
       "version_minor": 0
      },
      "text/plain": [
       "HBox(children=(FloatProgress(value=1.0, bar_style='info', description='Validating', layout=Layout(flex='2'), m…"
      ]
     },
     "metadata": {},
     "output_type": "display_data"
    },
    {
     "name": "stdout",
     "output_type": "stream",
     "text": [
      "Val-Acc=0.8630705394190872\n",
      "Train-Acc=0.8537549407114624\n",
      "new best val acc 0.8630705394190872\n",
      "Saved model to \"optuna_crnn8kd2_0.8630705394190872.p\"\n",
      "Saved checkpoint at epoch 10 at \"optuna_crnn8kd2_0.8630705394190872.p\"\n"
     ]
    },
    {
     "data": {
      "application/vnd.jupyter.widget-view+json": {
       "model_id": "",
       "version_major": 2,
       "version_minor": 0
      },
      "text/plain": [
       "HBox(children=(FloatProgress(value=1.0, bar_style='info', description='Validating', layout=Layout(flex='2'), m…"
      ]
     },
     "metadata": {},
     "output_type": "display_data"
    },
    {
     "name": "stdout",
     "output_type": "stream",
     "text": [
      "Val-Acc=0.8524007113218731\n",
      "Train-Acc=0.8614624505928854\n"
     ]
    },
    {
     "data": {
      "application/vnd.jupyter.widget-view+json": {
       "model_id": "",
       "version_major": 2,
       "version_minor": 0
      },
      "text/plain": [
       "HBox(children=(FloatProgress(value=1.0, bar_style='info', description='Validating', layout=Layout(flex='2'), m…"
      ]
     },
     "metadata": {},
     "output_type": "display_data"
    },
    {
     "name": "stdout",
     "output_type": "stream",
     "text": [
      "Val-Acc=0.8666271487848252\n",
      "Train-Acc=0.8592885375494071\n",
      "new best val acc 0.8666271487848252\n",
      "Saved model to \"optuna_crnn8kd2_0.8666271487848252.p\"\n",
      "Saved checkpoint at epoch 12 at \"optuna_crnn8kd2_0.8666271487848252.p\"\n"
     ]
    },
    {
     "data": {
      "application/vnd.jupyter.widget-view+json": {
       "model_id": "",
       "version_major": 2,
       "version_minor": 0
      },
      "text/plain": [
       "HBox(children=(FloatProgress(value=1.0, bar_style='info', description='Validating', layout=Layout(flex='2'), m…"
      ]
     },
     "metadata": {},
     "output_type": "display_data"
    },
    {
     "name": "stdout",
     "output_type": "stream",
     "text": [
      "Val-Acc=0.8660343805572022\n",
      "Train-Acc=0.866600790513834\n"
     ]
    },
    {
     "data": {
      "application/vnd.jupyter.widget-view+json": {
       "model_id": "",
       "version_major": 2,
       "version_minor": 0
      },
      "text/plain": [
       "HBox(children=(FloatProgress(value=1.0, bar_style='info', description='Validating', layout=Layout(flex='2'), m…"
      ]
     },
     "metadata": {},
     "output_type": "display_data"
    },
    {
     "name": "stdout",
     "output_type": "stream",
     "text": [
      "Val-Acc=0.8755186721991701\n",
      "Train-Acc=0.866798418972332\n",
      "new best val acc 0.8755186721991701\n",
      "Saved model to \"optuna_crnn8kd2_0.8755186721991701.p\"\n",
      "Saved checkpoint at epoch 14 at \"optuna_crnn8kd2_0.8755186721991701.p\"\n"
     ]
    },
    {
     "data": {
      "application/vnd.jupyter.widget-view+json": {
       "model_id": "",
       "version_major": 2,
       "version_minor": 0
      },
      "text/plain": [
       "HBox(children=(FloatProgress(value=1.0, bar_style='info', description='Validating', layout=Layout(flex='2'), m…"
      ]
     },
     "metadata": {},
     "output_type": "display_data"
    },
    {
     "name": "stdout",
     "output_type": "stream",
     "text": [
      "Val-Acc=0.8737403675163011\n",
      "Train-Acc=0.8695652173913043\n",
      "\n",
      "Saved model to \"saved_modelsq/9.p\"\n"
     ]
    },
    {
     "name": "stderr",
     "output_type": "stream",
     "text": [
      "[I 2020-07-14 23:49:01,182] Finished trial#9 with value: 0.8737403675163011 with parameters: {'learning_rate': 0.0036744891555370385, 'p_drop': 0.4607953916162236, 'lr_decay': 0.7415222167273285, 'n_hidden': 997, 'weight_decay': 0.015870815046750114}. Best is trial#9 with value: 0.8737403675163011.\n",
      "GPU available: True, used: True\n",
      "No environment variable for node rank defined. Set as 0.\n",
      "CUDA_VISIBLE_DEVICES: [0]\n",
      "Set SLURM handle signals.\n",
      "\n",
      "   | Name                      | Type                  | Params\n",
      "----------------------------------------------------------------\n",
      "0  | model                     | CRNN8k_D2             | 261 K \n",
      "1  | model.spec                | MelspectrogramStretch | 0     \n",
      "2  | model.spec.spectrogram    | Spectrogram           | 0     \n",
      "3  | model.spec.mel_scale      | MelScale              | 0     \n",
      "4  | model.spec.stft           | Spectrogram           | 0     \n",
      "5  | model.spec.random_stretch | RandomTimeStretch     | 0     \n",
      "6  | model.spec.complex_norm   | ComplexNorm           | 0     \n",
      "7  | model.spec.norm           | SpecNormalization     | 0     \n",
      "8  | model.convs               | Sequential            | 213 K \n",
      "9  | model.convs.0             | Conv2d                | 320   \n",
      "10 | model.convs.1             | BatchNorm2d           | 64    \n",
      "11 | model.convs.2             | ELU                   | 0     \n",
      "12 | model.convs.3             | Conv2d                | 9 K   \n",
      "13 | model.convs.4             | BatchNorm2d           | 64    \n",
      "14 | model.convs.5             | ELU                   | 0     \n",
      "15 | model.convs.6             | MaxPool2d             | 0     \n",
      "16 | model.convs.7             | Dropout               | 0     \n",
      "17 | model.convs.8             | Conv2d                | 18 K  \n",
      "18 | model.convs.9             | BatchNorm2d           | 128   \n",
      "19 | model.convs.10            | ELU                   | 0     \n",
      "20 | model.convs.11            | Conv2d                | 36 K  \n",
      "21 | model.convs.12            | BatchNorm2d           | 128   \n",
      "22 | model.convs.13            | ELU                   | 0     \n",
      "23 | model.convs.14            | MaxPool2d             | 0     \n",
      "24 | model.convs.15            | Dropout               | 0     \n",
      "25 | model.convs.16            | Conv2d                | 73 K  \n",
      "26 | model.convs.17            | BatchNorm2d           | 256   \n",
      "27 | model.convs.18            | ELU                   | 0     \n",
      "28 | model.convs.19            | MaxPool2d             | 0     \n",
      "29 | model.convs.20            | Dropout               | 0     \n",
      "30 | model.convs.21            | Conv2d                | 73 K  \n",
      "31 | model.convs.22            | BatchNorm2d           | 128   \n",
      "32 | model.convs.23            | ELU                   | 0     \n",
      "33 | model.convs.24            | MaxPool2d             | 0     \n",
      "34 | model.convs.25            | Dropout               | 0     \n",
      "35 | model.LSTMCell            | LSTMCell              | 48 K  \n",
      "36 | model.dense               | Sequential            | 138   \n",
      "37 | model.dense.0             | Dropout               | 0     \n",
      "38 | model.dense.1             | BatchNorm1d           | 68    \n",
      "39 | model.dense.2             | Linear                | 70    \n"
     ]
    },
    {
     "data": {
      "application/vnd.jupyter.widget-view+json": {
       "model_id": "",
       "version_major": 2,
       "version_minor": 0
      },
      "text/plain": [
       "HBox(children=(FloatProgress(value=1.0, bar_style='info', description='Validation sanity check', layout=Layout…"
      ]
     },
     "metadata": {},
     "output_type": "display_data"
    },
    {
     "name": "stdout",
     "output_type": "stream",
     "text": [
      "Val-Acc=0.03793716656787196\n"
     ]
    },
    {
     "data": {
      "application/vnd.jupyter.widget-view+json": {
       "model_id": "e43a0e9694cc447a8cd7431070df34ad",
       "version_major": 2,
       "version_minor": 0
      },
      "text/plain": [
       "HBox(children=(FloatProgress(value=1.0, bar_style='info', description='Training', layout=Layout(flex='2'), max…"
      ]
     },
     "metadata": {},
     "output_type": "display_data"
    },
    {
     "data": {
      "application/vnd.jupyter.widget-view+json": {
       "model_id": "",
       "version_major": 2,
       "version_minor": 0
      },
      "text/plain": [
       "HBox(children=(FloatProgress(value=1.0, bar_style='info', description='Validating', layout=Layout(flex='2'), m…"
      ]
     },
     "metadata": {},
     "output_type": "display_data"
    },
    {
     "name": "stdout",
     "output_type": "stream",
     "text": [
      "Val-Acc=0.4896265560165975\n",
      "Train-Acc=0.5488142292490119\n"
     ]
    },
    {
     "data": {
      "application/vnd.jupyter.widget-view+json": {
       "model_id": "",
       "version_major": 2,
       "version_minor": 0
      },
      "text/plain": [
       "HBox(children=(FloatProgress(value=1.0, bar_style='info', description='Validating', layout=Layout(flex='2'), m…"
      ]
     },
     "metadata": {},
     "output_type": "display_data"
    },
    {
     "name": "stdout",
     "output_type": "stream",
     "text": [
      "Val-Acc=0.4896265560165975\n"
     ]
    },
    {
     "name": "stderr",
     "output_type": "stream",
     "text": [
      "[I 2020-07-14 23:49:17,774] Setting status of trial#10 as TrialState.PRUNED. Trial was pruned at epoch 1.\n",
      "GPU available: True, used: True\n",
      "No environment variable for node rank defined. Set as 0.\n",
      "CUDA_VISIBLE_DEVICES: [0]\n",
      "Set SLURM handle signals.\n",
      "\n",
      "   | Name                      | Type                  | Params\n",
      "----------------------------------------------------------------\n",
      "0  | model                     | CRNN8k_D2             | 763 K \n",
      "1  | model.spec                | MelspectrogramStretch | 0     \n",
      "2  | model.spec.spectrogram    | Spectrogram           | 0     \n",
      "3  | model.spec.mel_scale      | MelScale              | 0     \n",
      "4  | model.spec.stft           | Spectrogram           | 0     \n",
      "5  | model.spec.random_stretch | RandomTimeStretch     | 0     \n",
      "6  | model.spec.complex_norm   | ComplexNorm           | 0     \n",
      "7  | model.spec.norm           | SpecNormalization     | 0     \n",
      "8  | model.convs               | Sequential            | 213 K \n",
      "9  | model.convs.0             | Conv2d                | 320   \n",
      "10 | model.convs.1             | BatchNorm2d           | 64    \n",
      "11 | model.convs.2             | ELU                   | 0     \n",
      "12 | model.convs.3             | Conv2d                | 9 K   \n",
      "13 | model.convs.4             | BatchNorm2d           | 64    \n",
      "14 | model.convs.5             | ELU                   | 0     \n",
      "15 | model.convs.6             | MaxPool2d             | 0     \n",
      "16 | model.convs.7             | Dropout               | 0     \n",
      "17 | model.convs.8             | Conv2d                | 18 K  \n",
      "18 | model.convs.9             | BatchNorm2d           | 128   \n",
      "19 | model.convs.10            | ELU                   | 0     \n",
      "20 | model.convs.11            | Conv2d                | 36 K  \n",
      "21 | model.convs.12            | BatchNorm2d           | 128   \n",
      "22 | model.convs.13            | ELU                   | 0     \n",
      "23 | model.convs.14            | MaxPool2d             | 0     \n",
      "24 | model.convs.15            | Dropout               | 0     \n",
      "25 | model.convs.16            | Conv2d                | 73 K  \n",
      "26 | model.convs.17            | BatchNorm2d           | 256   \n",
      "27 | model.convs.18            | ELU                   | 0     \n",
      "28 | model.convs.19            | MaxPool2d             | 0     \n",
      "29 | model.convs.20            | Dropout               | 0     \n",
      "30 | model.convs.21            | Conv2d                | 73 K  \n",
      "31 | model.convs.22            | BatchNorm2d           | 128   \n",
      "32 | model.convs.23            | ELU                   | 0     \n",
      "33 | model.convs.24            | MaxPool2d             | 0     \n",
      "34 | model.convs.25            | Dropout               | 0     \n",
      "35 | model.LSTMCell            | LSTMCell              | 549 K \n",
      "36 | model.dense               | Sequential            | 974   \n",
      "37 | model.dense.0             | Dropout               | 0     \n",
      "38 | model.dense.1             | BatchNorm1d           | 486   \n",
      "39 | model.dense.2             | Linear                | 488   \n"
     ]
    },
    {
     "data": {
      "application/vnd.jupyter.widget-view+json": {
       "model_id": "",
       "version_major": 2,
       "version_minor": 0
      },
      "text/plain": [
       "HBox(children=(FloatProgress(value=1.0, bar_style='info', description='Validation sanity check', layout=Layout…"
      ]
     },
     "metadata": {},
     "output_type": "display_data"
    },
    {
     "name": "stdout",
     "output_type": "stream",
     "text": [
      "Val-Acc=0.03793716656787196\n"
     ]
    },
    {
     "data": {
      "application/vnd.jupyter.widget-view+json": {
       "model_id": "eda2983aa26643a09fcccd3cad1f966d",
       "version_major": 2,
       "version_minor": 0
      },
      "text/plain": [
       "HBox(children=(FloatProgress(value=1.0, bar_style='info', description='Training', layout=Layout(flex='2'), max…"
      ]
     },
     "metadata": {},
     "output_type": "display_data"
    },
    {
     "data": {
      "application/vnd.jupyter.widget-view+json": {
       "model_id": "",
       "version_major": 2,
       "version_minor": 0
      },
      "text/plain": [
       "HBox(children=(FloatProgress(value=1.0, bar_style='info', description='Validating', layout=Layout(flex='2'), m…"
      ]
     },
     "metadata": {},
     "output_type": "display_data"
    },
    {
     "name": "stdout",
     "output_type": "stream",
     "text": [
      "Val-Acc=0.5554238292827505\n",
      "Train-Acc=0.48458498023715413\n"
     ]
    },
    {
     "data": {
      "application/vnd.jupyter.widget-view+json": {
       "model_id": "",
       "version_major": 2,
       "version_minor": 0
      },
      "text/plain": [
       "HBox(children=(FloatProgress(value=1.0, bar_style='info', description='Validating', layout=Layout(flex='2'), m…"
      ]
     },
     "metadata": {},
     "output_type": "display_data"
    },
    {
     "name": "stdout",
     "output_type": "stream",
     "text": [
      "Val-Acc=0.6271487848251334\n"
     ]
    },
    {
     "name": "stderr",
     "output_type": "stream",
     "text": [
      "[I 2020-07-14 23:49:34,599] Setting status of trial#11 as TrialState.PRUNED. Trial was pruned at epoch 1.\n",
      "GPU available: True, used: True\n",
      "No environment variable for node rank defined. Set as 0.\n",
      "CUDA_VISIBLE_DEVICES: [0]\n",
      "Set SLURM handle signals.\n",
      "\n",
      "   | Name                      | Type                  | Params\n",
      "----------------------------------------------------------------\n",
      "0  | model                     | CRNN8k_D2             | 5 M   \n",
      "1  | model.spec                | MelspectrogramStretch | 0     \n",
      "2  | model.spec.spectrogram    | Spectrogram           | 0     \n",
      "3  | model.spec.mel_scale      | MelScale              | 0     \n",
      "4  | model.spec.stft           | Spectrogram           | 0     \n",
      "5  | model.spec.random_stretch | RandomTimeStretch     | 0     \n",
      "6  | model.spec.complex_norm   | ComplexNorm           | 0     \n",
      "7  | model.spec.norm           | SpecNormalization     | 0     \n",
      "8  | model.convs               | Sequential            | 213 K \n",
      "9  | model.convs.0             | Conv2d                | 320   \n",
      "10 | model.convs.1             | BatchNorm2d           | 64    \n",
      "11 | model.convs.2             | ELU                   | 0     \n",
      "12 | model.convs.3             | Conv2d                | 9 K   \n",
      "13 | model.convs.4             | BatchNorm2d           | 64    \n",
      "14 | model.convs.5             | ELU                   | 0     \n",
      "15 | model.convs.6             | MaxPool2d             | 0     \n",
      "16 | model.convs.7             | Dropout               | 0     \n",
      "17 | model.convs.8             | Conv2d                | 18 K  \n",
      "18 | model.convs.9             | BatchNorm2d           | 128   \n",
      "19 | model.convs.10            | ELU                   | 0     \n",
      "20 | model.convs.11            | Conv2d                | 36 K  \n",
      "21 | model.convs.12            | BatchNorm2d           | 128   \n",
      "22 | model.convs.13            | ELU                   | 0     \n",
      "23 | model.convs.14            | MaxPool2d             | 0     \n",
      "24 | model.convs.15            | Dropout               | 0     \n",
      "25 | model.convs.16            | Conv2d                | 73 K  \n",
      "26 | model.convs.17            | BatchNorm2d           | 256   \n",
      "27 | model.convs.18            | ELU                   | 0     \n",
      "28 | model.convs.19            | MaxPool2d             | 0     \n",
      "29 | model.convs.20            | Dropout               | 0     \n",
      "30 | model.convs.21            | Conv2d                | 73 K  \n",
      "31 | model.convs.22            | BatchNorm2d           | 128   \n",
      "32 | model.convs.23            | ELU                   | 0     \n",
      "33 | model.convs.24            | MaxPool2d             | 0     \n",
      "34 | model.convs.25            | Dropout               | 0     \n",
      "35 | model.LSTMCell            | LSTMCell              | 5 M   \n",
      "36 | model.dense               | Sequential            | 3 K   \n",
      "37 | model.dense.0             | Dropout               | 0     \n",
      "38 | model.dense.1             | BatchNorm1d           | 1 K   \n",
      "39 | model.dense.2             | Linear                | 1 K   \n"
     ]
    },
    {
     "data": {
      "application/vnd.jupyter.widget-view+json": {
       "model_id": "",
       "version_major": 2,
       "version_minor": 0
      },
      "text/plain": [
       "HBox(children=(FloatProgress(value=1.0, bar_style='info', description='Validation sanity check', layout=Layout…"
      ]
     },
     "metadata": {},
     "output_type": "display_data"
    },
    {
     "name": "stdout",
     "output_type": "stream",
     "text": [
      "Val-Acc=0.03793716656787196\n"
     ]
    },
    {
     "data": {
      "application/vnd.jupyter.widget-view+json": {
       "model_id": "d22fcebfc8fc4ee0b91f41acb1a83cb6",
       "version_major": 2,
       "version_minor": 0
      },
      "text/plain": [
       "HBox(children=(FloatProgress(value=1.0, bar_style='info', description='Training', layout=Layout(flex='2'), max…"
      ]
     },
     "metadata": {},
     "output_type": "display_data"
    },
    {
     "data": {
      "application/vnd.jupyter.widget-view+json": {
       "model_id": "",
       "version_major": 2,
       "version_minor": 0
      },
      "text/plain": [
       "HBox(children=(FloatProgress(value=1.0, bar_style='info', description='Validating', layout=Layout(flex='2'), m…"
      ]
     },
     "metadata": {},
     "output_type": "display_data"
    },
    {
     "name": "stdout",
     "output_type": "stream",
     "text": [
      "Val-Acc=0.7871962062833432\n",
      "Train-Acc=0.791501976284585\n"
     ]
    },
    {
     "data": {
      "application/vnd.jupyter.widget-view+json": {
       "model_id": "",
       "version_major": 2,
       "version_minor": 0
      },
      "text/plain": [
       "HBox(children=(FloatProgress(value=1.0, bar_style='info', description='Validating', layout=Layout(flex='2'), m…"
      ]
     },
     "metadata": {},
     "output_type": "display_data"
    },
    {
     "name": "stdout",
     "output_type": "stream",
     "text": [
      "Val-Acc=0.7972732661529343\n",
      "Train-Acc=0.8314229249011857\n"
     ]
    },
    {
     "data": {
      "application/vnd.jupyter.widget-view+json": {
       "model_id": "",
       "version_major": 2,
       "version_minor": 0
      },
      "text/plain": [
       "HBox(children=(FloatProgress(value=1.0, bar_style='info', description='Validating', layout=Layout(flex='2'), m…"
      ]
     },
     "metadata": {},
     "output_type": "display_data"
    },
    {
     "name": "stdout",
     "output_type": "stream",
     "text": [
      "Val-Acc=0.8358032009484292\n",
      "Train-Acc=0.8409090909090909\n"
     ]
    },
    {
     "data": {
      "application/vnd.jupyter.widget-view+json": {
       "model_id": "",
       "version_major": 2,
       "version_minor": 0
      },
      "text/plain": [
       "HBox(children=(FloatProgress(value=1.0, bar_style='info', description='Validating', layout=Layout(flex='2'), m…"
      ]
     },
     "metadata": {},
     "output_type": "display_data"
    },
    {
     "name": "stdout",
     "output_type": "stream",
     "text": [
      "Val-Acc=0.8565500889152341\n",
      "Train-Acc=0.8438735177865613\n"
     ]
    },
    {
     "data": {
      "application/vnd.jupyter.widget-view+json": {
       "model_id": "",
       "version_major": 2,
       "version_minor": 0
      },
      "text/plain": [
       "HBox(children=(FloatProgress(value=1.0, bar_style='info', description='Validating', layout=Layout(flex='2'), m…"
      ]
     },
     "metadata": {},
     "output_type": "display_data"
    },
    {
     "name": "stdout",
     "output_type": "stream",
     "text": [
      "Val-Acc=0.8352104327208062\n",
      "Train-Acc=0.8594861660079052\n"
     ]
    },
    {
     "data": {
      "application/vnd.jupyter.widget-view+json": {
       "model_id": "",
       "version_major": 2,
       "version_minor": 0
      },
      "text/plain": [
       "HBox(children=(FloatProgress(value=1.0, bar_style='info', description='Validating', layout=Layout(flex='2'), m…"
      ]
     },
     "metadata": {},
     "output_type": "display_data"
    },
    {
     "name": "stdout",
     "output_type": "stream",
     "text": [
      "Val-Acc=0.8589211618257261\n",
      "Train-Acc=0.8640316205533597\n"
     ]
    },
    {
     "data": {
      "application/vnd.jupyter.widget-view+json": {
       "model_id": "",
       "version_major": 2,
       "version_minor": 0
      },
      "text/plain": [
       "HBox(children=(FloatProgress(value=1.0, bar_style='info', description='Validating', layout=Layout(flex='2'), m…"
      ]
     },
     "metadata": {},
     "output_type": "display_data"
    },
    {
     "name": "stdout",
     "output_type": "stream",
     "text": [
      "Val-Acc=0.8713692946058091\n",
      "Train-Acc=0.867193675889328\n"
     ]
    },
    {
     "data": {
      "application/vnd.jupyter.widget-view+json": {
       "model_id": "",
       "version_major": 2,
       "version_minor": 0
      },
      "text/plain": [
       "HBox(children=(FloatProgress(value=1.0, bar_style='info', description='Validating', layout=Layout(flex='2'), m…"
      ]
     },
     "metadata": {},
     "output_type": "display_data"
    },
    {
     "name": "stdout",
     "output_type": "stream",
     "text": [
      "Val-Acc=0.8678126852400712\n",
      "Train-Acc=0.8750988142292491\n"
     ]
    },
    {
     "data": {
      "application/vnd.jupyter.widget-view+json": {
       "model_id": "",
       "version_major": 2,
       "version_minor": 0
      },
      "text/plain": [
       "HBox(children=(FloatProgress(value=1.0, bar_style='info', description='Validating', layout=Layout(flex='2'), m…"
      ]
     },
     "metadata": {},
     "output_type": "display_data"
    },
    {
     "name": "stdout",
     "output_type": "stream",
     "text": [
      "Val-Acc=0.8719620628334321\n",
      "Train-Acc=0.8701581027667984\n"
     ]
    },
    {
     "data": {
      "application/vnd.jupyter.widget-view+json": {
       "model_id": "",
       "version_major": 2,
       "version_minor": 0
      },
      "text/plain": [
       "HBox(children=(FloatProgress(value=1.0, bar_style='info', description='Validating', layout=Layout(flex='2'), m…"
      ]
     },
     "metadata": {},
     "output_type": "display_data"
    },
    {
     "name": "stdout",
     "output_type": "stream",
     "text": [
      "Val-Acc=0.8713692946058091\n",
      "Train-Acc=0.8794466403162056\n"
     ]
    },
    {
     "data": {
      "application/vnd.jupyter.widget-view+json": {
       "model_id": "",
       "version_major": 2,
       "version_minor": 0
      },
      "text/plain": [
       "HBox(children=(FloatProgress(value=1.0, bar_style='info', description='Validating', layout=Layout(flex='2'), m…"
      ]
     },
     "metadata": {},
     "output_type": "display_data"
    },
    {
     "name": "stdout",
     "output_type": "stream",
     "text": [
      "Val-Acc=0.8618850029638412\n",
      "Train-Acc=0.892094861660079\n"
     ]
    },
    {
     "data": {
      "application/vnd.jupyter.widget-view+json": {
       "model_id": "",
       "version_major": 2,
       "version_minor": 0
      },
      "text/plain": [
       "HBox(children=(FloatProgress(value=1.0, bar_style='info', description='Validating', layout=Layout(flex='2'), m…"
      ]
     },
     "metadata": {},
     "output_type": "display_data"
    },
    {
     "name": "stdout",
     "output_type": "stream",
     "text": [
      "Val-Acc=0.8606994665085952\n",
      "Train-Acc=0.899407114624506\n"
     ]
    },
    {
     "data": {
      "application/vnd.jupyter.widget-view+json": {
       "model_id": "",
       "version_major": 2,
       "version_minor": 0
      },
      "text/plain": [
       "HBox(children=(FloatProgress(value=1.0, bar_style='info', description='Validating', layout=Layout(flex='2'), m…"
      ]
     },
     "metadata": {},
     "output_type": "display_data"
    },
    {
     "name": "stdout",
     "output_type": "stream",
     "text": [
      "Val-Acc=0.8915234143449912\n",
      "Train-Acc=0.8990118577075099\n",
      "new best val acc 0.8915234143449912\n",
      "Saved model to \"optuna_crnn8kd2_0.8915234143449912.p\"\n",
      "Saved checkpoint at epoch 13 at \"optuna_crnn8kd2_0.8915234143449912.p\"\n"
     ]
    },
    {
     "data": {
      "application/vnd.jupyter.widget-view+json": {
       "model_id": "",
       "version_major": 2,
       "version_minor": 0
      },
      "text/plain": [
       "HBox(children=(FloatProgress(value=1.0, bar_style='info', description='Validating', layout=Layout(flex='2'), m…"
      ]
     },
     "metadata": {},
     "output_type": "display_data"
    },
    {
     "name": "stdout",
     "output_type": "stream",
     "text": [
      "Val-Acc=0.8867812685240071\n",
      "Train-Acc=0.9055335968379447\n"
     ]
    },
    {
     "data": {
      "application/vnd.jupyter.widget-view+json": {
       "model_id": "",
       "version_major": 2,
       "version_minor": 0
      },
      "text/plain": [
       "HBox(children=(FloatProgress(value=1.0, bar_style='info', description='Validating', layout=Layout(flex='2'), m…"
      ]
     },
     "metadata": {},
     "output_type": "display_data"
    },
    {
     "name": "stdout",
     "output_type": "stream",
     "text": [
      "Val-Acc=0.8921161825726142\n",
      "Train-Acc=0.9090909090909091\n",
      "new best val acc 0.8921161825726142\n",
      "Saved model to \"optuna_crnn8kd2_0.8921161825726142.p\"\n",
      "Saved checkpoint at epoch 15 at \"optuna_crnn8kd2_0.8921161825726142.p\"\n",
      "\n",
      "Saved model to \"saved_modelsq/12.p\"\n"
     ]
    },
    {
     "name": "stderr",
     "output_type": "stream",
     "text": [
      "[I 2020-07-14 23:51:36,861] Finished trial#12 with value: 0.8921161825726142 with parameters: {'learning_rate': 0.0010185169231450534, 'p_drop': 0.05622857140617371, 'lr_decay': 0.7896649598711148, 'n_hidden': 983, 'weight_decay': 0.02741617536521579}. Best is trial#12 with value: 0.8921161825726142.\n",
      "GPU available: True, used: True\n",
      "No environment variable for node rank defined. Set as 0.\n",
      "CUDA_VISIBLE_DEVICES: [0]\n",
      "Set SLURM handle signals.\n",
      "\n",
      "   | Name                      | Type                  | Params\n",
      "----------------------------------------------------------------\n",
      "0  | model                     | CRNN8k_D2             | 5 M   \n",
      "1  | model.spec                | MelspectrogramStretch | 0     \n",
      "2  | model.spec.spectrogram    | Spectrogram           | 0     \n",
      "3  | model.spec.mel_scale      | MelScale              | 0     \n",
      "4  | model.spec.stft           | Spectrogram           | 0     \n",
      "5  | model.spec.random_stretch | RandomTimeStretch     | 0     \n",
      "6  | model.spec.complex_norm   | ComplexNorm           | 0     \n",
      "7  | model.spec.norm           | SpecNormalization     | 0     \n",
      "8  | model.convs               | Sequential            | 213 K \n",
      "9  | model.convs.0             | Conv2d                | 320   \n",
      "10 | model.convs.1             | BatchNorm2d           | 64    \n",
      "11 | model.convs.2             | ELU                   | 0     \n",
      "12 | model.convs.3             | Conv2d                | 9 K   \n",
      "13 | model.convs.4             | BatchNorm2d           | 64    \n",
      "14 | model.convs.5             | ELU                   | 0     \n",
      "15 | model.convs.6             | MaxPool2d             | 0     \n",
      "16 | model.convs.7             | Dropout               | 0     \n",
      "17 | model.convs.8             | Conv2d                | 18 K  \n",
      "18 | model.convs.9             | BatchNorm2d           | 128   \n",
      "19 | model.convs.10            | ELU                   | 0     \n",
      "20 | model.convs.11            | Conv2d                | 36 K  \n",
      "21 | model.convs.12            | BatchNorm2d           | 128   \n",
      "22 | model.convs.13            | ELU                   | 0     \n",
      "23 | model.convs.14            | MaxPool2d             | 0     \n",
      "24 | model.convs.15            | Dropout               | 0     \n",
      "25 | model.convs.16            | Conv2d                | 73 K  \n",
      "26 | model.convs.17            | BatchNorm2d           | 256   \n",
      "27 | model.convs.18            | ELU                   | 0     \n",
      "28 | model.convs.19            | MaxPool2d             | 0     \n",
      "29 | model.convs.20            | Dropout               | 0     \n",
      "30 | model.convs.21            | Conv2d                | 73 K  \n",
      "31 | model.convs.22            | BatchNorm2d           | 128   \n",
      "32 | model.convs.23            | ELU                   | 0     \n",
      "33 | model.convs.24            | MaxPool2d             | 0     \n",
      "34 | model.convs.25            | Dropout               | 0     \n",
      "35 | model.LSTMCell            | LSTMCell              | 5 M   \n",
      "36 | model.dense               | Sequential            | 3 K   \n",
      "37 | model.dense.0             | Dropout               | 0     \n",
      "38 | model.dense.1             | BatchNorm1d           | 1 K   \n",
      "39 | model.dense.2             | Linear                | 1 K   \n"
     ]
    },
    {
     "data": {
      "application/vnd.jupyter.widget-view+json": {
       "model_id": "",
       "version_major": 2,
       "version_minor": 0
      },
      "text/plain": [
       "HBox(children=(FloatProgress(value=1.0, bar_style='info', description='Validation sanity check', layout=Layout…"
      ]
     },
     "metadata": {},
     "output_type": "display_data"
    },
    {
     "name": "stdout",
     "output_type": "stream",
     "text": [
      "Val-Acc=0.03793716656787196\n"
     ]
    },
    {
     "data": {
      "application/vnd.jupyter.widget-view+json": {
       "model_id": "0daadeed8762445dae3ce9b6934ff7dc",
       "version_major": 2,
       "version_minor": 0
      },
      "text/plain": [
       "HBox(children=(FloatProgress(value=1.0, bar_style='info', description='Training', layout=Layout(flex='2'), max…"
      ]
     },
     "metadata": {},
     "output_type": "display_data"
    },
    {
     "data": {
      "application/vnd.jupyter.widget-view+json": {
       "model_id": "",
       "version_major": 2,
       "version_minor": 0
      },
      "text/plain": [
       "HBox(children=(FloatProgress(value=1.0, bar_style='info', description='Validating', layout=Layout(flex='2'), m…"
      ]
     },
     "metadata": {},
     "output_type": "display_data"
    },
    {
     "name": "stdout",
     "output_type": "stream",
     "text": [
      "Val-Acc=0.8097213989330172\n",
      "Train-Acc=0.783399209486166\n"
     ]
    },
    {
     "data": {
      "application/vnd.jupyter.widget-view+json": {
       "model_id": "",
       "version_major": 2,
       "version_minor": 0
      },
      "text/plain": [
       "HBox(children=(FloatProgress(value=1.0, bar_style='info', description='Validating', layout=Layout(flex='2'), m…"
      ]
     },
     "metadata": {},
     "output_type": "display_data"
    },
    {
     "name": "stdout",
     "output_type": "stream",
     "text": [
      "Val-Acc=0.8275044457617071\n",
      "Train-Acc=0.8343873517786561\n"
     ]
    },
    {
     "data": {
      "application/vnd.jupyter.widget-view+json": {
       "model_id": "",
       "version_major": 2,
       "version_minor": 0
      },
      "text/plain": [
       "HBox(children=(FloatProgress(value=1.0, bar_style='info', description='Validating', layout=Layout(flex='2'), m…"
      ]
     },
     "metadata": {},
     "output_type": "display_data"
    },
    {
     "name": "stdout",
     "output_type": "stream",
     "text": [
      "Val-Acc=0.8298755186721992\n",
      "Train-Acc=0.8369565217391305\n"
     ]
    },
    {
     "data": {
      "application/vnd.jupyter.widget-view+json": {
       "model_id": "",
       "version_major": 2,
       "version_minor": 0
      },
      "text/plain": [
       "HBox(children=(FloatProgress(value=1.0, bar_style='info', description='Validating', layout=Layout(flex='2'), m…"
      ]
     },
     "metadata": {},
     "output_type": "display_data"
    },
    {
     "name": "stdout",
     "output_type": "stream",
     "text": [
      "Val-Acc=0.8464730290456431\n",
      "Train-Acc=0.8476284584980237\n"
     ]
    },
    {
     "data": {
      "application/vnd.jupyter.widget-view+json": {
       "model_id": "",
       "version_major": 2,
       "version_minor": 0
      },
      "text/plain": [
       "HBox(children=(FloatProgress(value=1.0, bar_style='info', description='Validating', layout=Layout(flex='2'), m…"
      ]
     },
     "metadata": {},
     "output_type": "display_data"
    },
    {
     "name": "stdout",
     "output_type": "stream",
     "text": [
      "Val-Acc=0.8518079430942501\n",
      "Train-Acc=0.8488142292490118\n"
     ]
    },
    {
     "data": {
      "application/vnd.jupyter.widget-view+json": {
       "model_id": "",
       "version_major": 2,
       "version_minor": 0
      },
      "text/plain": [
       "HBox(children=(FloatProgress(value=1.0, bar_style='info', description='Validating', layout=Layout(flex='2'), m…"
      ]
     },
     "metadata": {},
     "output_type": "display_data"
    },
    {
     "name": "stdout",
     "output_type": "stream",
     "text": [
      "Val-Acc=0.8500296384113811\n",
      "Train-Acc=0.8654150197628458\n"
     ]
    },
    {
     "data": {
      "application/vnd.jupyter.widget-view+json": {
       "model_id": "",
       "version_major": 2,
       "version_minor": 0
      },
      "text/plain": [
       "HBox(children=(FloatProgress(value=1.0, bar_style='info', description='Validating', layout=Layout(flex='2'), m…"
      ]
     },
     "metadata": {},
     "output_type": "display_data"
    },
    {
     "name": "stdout",
     "output_type": "stream",
     "text": [
      "Val-Acc=0.8701837581505631\n",
      "Train-Acc=0.8713438735177865\n"
     ]
    },
    {
     "data": {
      "application/vnd.jupyter.widget-view+json": {
       "model_id": "",
       "version_major": 2,
       "version_minor": 0
      },
      "text/plain": [
       "HBox(children=(FloatProgress(value=1.0, bar_style='info', description='Validating', layout=Layout(flex='2'), m…"
      ]
     },
     "metadata": {},
     "output_type": "display_data"
    },
    {
     "name": "stdout",
     "output_type": "stream",
     "text": [
      "Val-Acc=0.8725548310610551\n",
      "Train-Acc=0.8741106719367588\n"
     ]
    },
    {
     "data": {
      "application/vnd.jupyter.widget-view+json": {
       "model_id": "",
       "version_major": 2,
       "version_minor": 0
      },
      "text/plain": [
       "HBox(children=(FloatProgress(value=1.0, bar_style='info', description='Validating', layout=Layout(flex='2'), m…"
      ]
     },
     "metadata": {},
     "output_type": "display_data"
    },
    {
     "name": "stdout",
     "output_type": "stream",
     "text": [
      "Val-Acc=0.8832246591582691\n",
      "Train-Acc=0.8691699604743083\n"
     ]
    },
    {
     "data": {
      "application/vnd.jupyter.widget-view+json": {
       "model_id": "",
       "version_major": 2,
       "version_minor": 0
      },
      "text/plain": [
       "HBox(children=(FloatProgress(value=1.0, bar_style='info', description='Validating', layout=Layout(flex='2'), m…"
      ]
     },
     "metadata": {},
     "output_type": "display_data"
    },
    {
     "name": "stdout",
     "output_type": "stream",
     "text": [
      "Val-Acc=0.8826318909306461\n",
      "Train-Acc=0.8796442687747036\n"
     ]
    },
    {
     "data": {
      "application/vnd.jupyter.widget-view+json": {
       "model_id": "",
       "version_major": 2,
       "version_minor": 0
      },
      "text/plain": [
       "HBox(children=(FloatProgress(value=1.0, bar_style='info', description='Validating', layout=Layout(flex='2'), m…"
      ]
     },
     "metadata": {},
     "output_type": "display_data"
    },
    {
     "name": "stdout",
     "output_type": "stream",
     "text": [
      "Val-Acc=0.8796680497925311\n",
      "Train-Acc=0.8741106719367588\n"
     ]
    },
    {
     "data": {
      "application/vnd.jupyter.widget-view+json": {
       "model_id": "",
       "version_major": 2,
       "version_minor": 0
      },
      "text/plain": [
       "HBox(children=(FloatProgress(value=1.0, bar_style='info', description='Validating', layout=Layout(flex='2'), m…"
      ]
     },
     "metadata": {},
     "output_type": "display_data"
    },
    {
     "name": "stdout",
     "output_type": "stream",
     "text": [
      "Val-Acc=0.8713692946058091\n",
      "Train-Acc=0.8881422924901186\n"
     ]
    },
    {
     "data": {
      "application/vnd.jupyter.widget-view+json": {
       "model_id": "",
       "version_major": 2,
       "version_minor": 0
      },
      "text/plain": [
       "HBox(children=(FloatProgress(value=1.0, bar_style='info', description='Validating', layout=Layout(flex='2'), m…"
      ]
     },
     "metadata": {},
     "output_type": "display_data"
    },
    {
     "name": "stdout",
     "output_type": "stream",
     "text": [
      "Val-Acc=0.8772969768820391\n",
      "Train-Acc=0.8905138339920948\n"
     ]
    },
    {
     "data": {
      "application/vnd.jupyter.widget-view+json": {
       "model_id": "",
       "version_major": 2,
       "version_minor": 0
      },
      "text/plain": [
       "HBox(children=(FloatProgress(value=1.0, bar_style='info', description='Validating', layout=Layout(flex='2'), m…"
      ]
     },
     "metadata": {},
     "output_type": "display_data"
    },
    {
     "name": "stdout",
     "output_type": "stream",
     "text": [
      "Val-Acc=0.8832246591582691\n",
      "Train-Acc=0.8974308300395257\n"
     ]
    },
    {
     "data": {
      "application/vnd.jupyter.widget-view+json": {
       "model_id": "",
       "version_major": 2,
       "version_minor": 0
      },
      "text/plain": [
       "HBox(children=(FloatProgress(value=1.0, bar_style='info', description='Validating', layout=Layout(flex='2'), m…"
      ]
     },
     "metadata": {},
     "output_type": "display_data"
    },
    {
     "name": "stdout",
     "output_type": "stream",
     "text": [
      "Val-Acc=0.8867812685240071\n",
      "Train-Acc=0.9023715415019763\n",
      "\n",
      "Saved model to \"saved_modelsq/13.p\"\n"
     ]
    },
    {
     "name": "stderr",
     "output_type": "stream",
     "text": [
      "[I 2020-07-14 23:53:39,601] Finished trial#13 with value: 0.8867812685240071 with parameters: {'learning_rate': 0.0012880420649858328, 'p_drop': 0.1315713218678618, 'lr_decay': 0.7880243162698314, 'n_hidden': 987, 'weight_decay': 0.025118411812095363}. Best is trial#12 with value: 0.8921161825726142.\n",
      "GPU available: True, used: True\n",
      "No environment variable for node rank defined. Set as 0.\n",
      "CUDA_VISIBLE_DEVICES: [0]\n",
      "Set SLURM handle signals.\n",
      "\n",
      "   | Name                      | Type                  | Params\n",
      "----------------------------------------------------------------\n",
      "0  | model                     | CRNN8k_D2             | 5 M   \n",
      "1  | model.spec                | MelspectrogramStretch | 0     \n",
      "2  | model.spec.spectrogram    | Spectrogram           | 0     \n",
      "3  | model.spec.mel_scale      | MelScale              | 0     \n",
      "4  | model.spec.stft           | Spectrogram           | 0     \n",
      "5  | model.spec.random_stretch | RandomTimeStretch     | 0     \n",
      "6  | model.spec.complex_norm   | ComplexNorm           | 0     \n",
      "7  | model.spec.norm           | SpecNormalization     | 0     \n",
      "8  | model.convs               | Sequential            | 213 K \n",
      "9  | model.convs.0             | Conv2d                | 320   \n",
      "10 | model.convs.1             | BatchNorm2d           | 64    \n",
      "11 | model.convs.2             | ELU                   | 0     \n",
      "12 | model.convs.3             | Conv2d                | 9 K   \n",
      "13 | model.convs.4             | BatchNorm2d           | 64    \n",
      "14 | model.convs.5             | ELU                   | 0     \n",
      "15 | model.convs.6             | MaxPool2d             | 0     \n",
      "16 | model.convs.7             | Dropout               | 0     \n",
      "17 | model.convs.8             | Conv2d                | 18 K  \n",
      "18 | model.convs.9             | BatchNorm2d           | 128   \n",
      "19 | model.convs.10            | ELU                   | 0     \n",
      "20 | model.convs.11            | Conv2d                | 36 K  \n",
      "21 | model.convs.12            | BatchNorm2d           | 128   \n",
      "22 | model.convs.13            | ELU                   | 0     \n",
      "23 | model.convs.14            | MaxPool2d             | 0     \n",
      "24 | model.convs.15            | Dropout               | 0     \n",
      "25 | model.convs.16            | Conv2d                | 73 K  \n",
      "26 | model.convs.17            | BatchNorm2d           | 256   \n",
      "27 | model.convs.18            | ELU                   | 0     \n",
      "28 | model.convs.19            | MaxPool2d             | 0     \n",
      "29 | model.convs.20            | Dropout               | 0     \n",
      "30 | model.convs.21            | Conv2d                | 73 K  \n",
      "31 | model.convs.22            | BatchNorm2d           | 128   \n",
      "32 | model.convs.23            | ELU                   | 0     \n",
      "33 | model.convs.24            | MaxPool2d             | 0     \n",
      "34 | model.convs.25            | Dropout               | 0     \n",
      "35 | model.LSTMCell            | LSTMCell              | 5 M   \n",
      "36 | model.dense               | Sequential            | 3 K   \n",
      "37 | model.dense.0             | Dropout               | 0     \n",
      "38 | model.dense.1             | BatchNorm1d           | 1 K   \n",
      "39 | model.dense.2             | Linear                | 1 K   \n"
     ]
    },
    {
     "data": {
      "application/vnd.jupyter.widget-view+json": {
       "model_id": "",
       "version_major": 2,
       "version_minor": 0
      },
      "text/plain": [
       "HBox(children=(FloatProgress(value=1.0, bar_style='info', description='Validation sanity check', layout=Layout…"
      ]
     },
     "metadata": {},
     "output_type": "display_data"
    },
    {
     "name": "stdout",
     "output_type": "stream",
     "text": [
      "Val-Acc=0.03793716656787196\n"
     ]
    },
    {
     "data": {
      "application/vnd.jupyter.widget-view+json": {
       "model_id": "a0d9a7f423e04bb4b9e22439ac10caab",
       "version_major": 2,
       "version_minor": 0
      },
      "text/plain": [
       "HBox(children=(FloatProgress(value=1.0, bar_style='info', description='Training', layout=Layout(flex='2'), max…"
      ]
     },
     "metadata": {},
     "output_type": "display_data"
    },
    {
     "data": {
      "application/vnd.jupyter.widget-view+json": {
       "model_id": "",
       "version_major": 2,
       "version_minor": 0
      },
      "text/plain": [
       "HBox(children=(FloatProgress(value=1.0, bar_style='info', description='Validating', layout=Layout(flex='2'), m…"
      ]
     },
     "metadata": {},
     "output_type": "display_data"
    },
    {
     "name": "stdout",
     "output_type": "stream",
     "text": [
      "Val-Acc=0.8209839952578541\n",
      "Train-Acc=0.8017786561264822\n"
     ]
    },
    {
     "data": {
      "application/vnd.jupyter.widget-view+json": {
       "model_id": "",
       "version_major": 2,
       "version_minor": 0
      },
      "text/plain": [
       "HBox(children=(FloatProgress(value=1.0, bar_style='info', description='Validating', layout=Layout(flex='2'), m…"
      ]
     },
     "metadata": {},
     "output_type": "display_data"
    },
    {
     "name": "stdout",
     "output_type": "stream",
     "text": [
      "Val-Acc=0.8132780082987552\n",
      "Train-Acc=0.8306324110671937\n"
     ]
    },
    {
     "data": {
      "application/vnd.jupyter.widget-view+json": {
       "model_id": "",
       "version_major": 2,
       "version_minor": 0
      },
      "text/plain": [
       "HBox(children=(FloatProgress(value=1.0, bar_style='info', description='Validating', layout=Layout(flex='2'), m…"
      ]
     },
     "metadata": {},
     "output_type": "display_data"
    },
    {
     "name": "stdout",
     "output_type": "stream",
     "text": [
      "Val-Acc=0.8476585655008891\n",
      "Train-Acc=0.8513833992094861\n"
     ]
    },
    {
     "data": {
      "application/vnd.jupyter.widget-view+json": {
       "model_id": "",
       "version_major": 2,
       "version_minor": 0
      },
      "text/plain": [
       "HBox(children=(FloatProgress(value=1.0, bar_style='info', description='Validating', layout=Layout(flex='2'), m…"
      ]
     },
     "metadata": {},
     "output_type": "display_data"
    },
    {
     "name": "stdout",
     "output_type": "stream",
     "text": [
      "Val-Acc=0.8565500889152341\n",
      "Train-Acc=0.8545454545454545\n"
     ]
    },
    {
     "data": {
      "application/vnd.jupyter.widget-view+json": {
       "model_id": "",
       "version_major": 2,
       "version_minor": 0
      },
      "text/plain": [
       "HBox(children=(FloatProgress(value=1.0, bar_style='info', description='Validating', layout=Layout(flex='2'), m…"
      ]
     },
     "metadata": {},
     "output_type": "display_data"
    },
    {
     "name": "stdout",
     "output_type": "stream",
     "text": [
      "Val-Acc=0.8678126852400712\n",
      "Train-Acc=0.8646245059288538\n"
     ]
    },
    {
     "data": {
      "application/vnd.jupyter.widget-view+json": {
       "model_id": "",
       "version_major": 2,
       "version_minor": 0
      },
      "text/plain": [
       "HBox(children=(FloatProgress(value=1.0, bar_style='info', description='Validating', layout=Layout(flex='2'), m…"
      ]
     },
     "metadata": {},
     "output_type": "display_data"
    },
    {
     "name": "stdout",
     "output_type": "stream",
     "text": [
      "Val-Acc=0.8363959691760522\n",
      "Train-Acc=0.8729249011857707\n"
     ]
    },
    {
     "data": {
      "application/vnd.jupyter.widget-view+json": {
       "model_id": "",
       "version_major": 2,
       "version_minor": 0
      },
      "text/plain": [
       "HBox(children=(FloatProgress(value=1.0, bar_style='info', description='Validating', layout=Layout(flex='2'), m…"
      ]
     },
     "metadata": {},
     "output_type": "display_data"
    },
    {
     "name": "stdout",
     "output_type": "stream",
     "text": [
      "Val-Acc=0.8814463544754001\n",
      "Train-Acc=0.8857707509881423\n"
     ]
    },
    {
     "data": {
      "application/vnd.jupyter.widget-view+json": {
       "model_id": "",
       "version_major": 2,
       "version_minor": 0
      },
      "text/plain": [
       "HBox(children=(FloatProgress(value=1.0, bar_style='info', description='Validating', layout=Layout(flex='2'), m…"
      ]
     },
     "metadata": {},
     "output_type": "display_data"
    },
    {
     "name": "stdout",
     "output_type": "stream",
     "text": [
      "Val-Acc=0.7765263781861292\n",
      "Train-Acc=0.8879446640316205\n"
     ]
    },
    {
     "data": {
      "application/vnd.jupyter.widget-view+json": {
       "model_id": "",
       "version_major": 2,
       "version_minor": 0
      },
      "text/plain": [
       "HBox(children=(FloatProgress(value=1.0, bar_style='info', description='Validating', layout=Layout(flex='2'), m…"
      ]
     },
     "metadata": {},
     "output_type": "display_data"
    },
    {
     "name": "stdout",
     "output_type": "stream",
     "text": [
      "Val-Acc=0.8654416123295792\n",
      "Train-Acc=0.8946640316205534\n"
     ]
    },
    {
     "data": {
      "application/vnd.jupyter.widget-view+json": {
       "model_id": "",
       "version_major": 2,
       "version_minor": 0
      },
      "text/plain": [
       "HBox(children=(FloatProgress(value=1.0, bar_style='info', description='Validating', layout=Layout(flex='2'), m…"
      ]
     },
     "metadata": {},
     "output_type": "display_data"
    },
    {
     "name": "stdout",
     "output_type": "stream",
     "text": [
      "Val-Acc=0.8405453467694132\n",
      "Train-Acc=0.9019762845849802\n"
     ]
    },
    {
     "data": {
      "application/vnd.jupyter.widget-view+json": {
       "model_id": "",
       "version_major": 2,
       "version_minor": 0
      },
      "text/plain": [
       "HBox(children=(FloatProgress(value=1.0, bar_style='info', description='Validating', layout=Layout(flex='2'), m…"
      ]
     },
     "metadata": {},
     "output_type": "display_data"
    },
    {
     "name": "stdout",
     "output_type": "stream",
     "text": [
      "Val-Acc=0.8174273858921162\n",
      "Train-Acc=0.916205533596838\n"
     ]
    },
    {
     "data": {
      "application/vnd.jupyter.widget-view+json": {
       "model_id": "",
       "version_major": 2,
       "version_minor": 0
      },
      "text/plain": [
       "HBox(children=(FloatProgress(value=1.0, bar_style='info', description='Validating', layout=Layout(flex='2'), m…"
      ]
     },
     "metadata": {},
     "output_type": "display_data"
    },
    {
     "name": "stdout",
     "output_type": "stream",
     "text": [
      "Val-Acc=0.8684054534676942\n",
      "Train-Acc=0.9217391304347826\n"
     ]
    },
    {
     "data": {
      "application/vnd.jupyter.widget-view+json": {
       "model_id": "",
       "version_major": 2,
       "version_minor": 0
      },
      "text/plain": [
       "HBox(children=(FloatProgress(value=1.0, bar_style='info', description='Validating', layout=Layout(flex='2'), m…"
      ]
     },
     "metadata": {},
     "output_type": "display_data"
    },
    {
     "name": "stdout",
     "output_type": "stream",
     "text": [
      "Val-Acc=0.8630705394190872\n",
      "Train-Acc=0.9365612648221344\n"
     ]
    },
    {
     "data": {
      "application/vnd.jupyter.widget-view+json": {
       "model_id": "",
       "version_major": 2,
       "version_minor": 0
      },
      "text/plain": [
       "HBox(children=(FloatProgress(value=1.0, bar_style='info', description='Validating', layout=Layout(flex='2'), m…"
      ]
     },
     "metadata": {},
     "output_type": "display_data"
    },
    {
     "name": "stdout",
     "output_type": "stream",
     "text": [
      "Val-Acc=0.8678126852400712\n",
      "Train-Acc=0.9539525691699605\n"
     ]
    },
    {
     "data": {
      "application/vnd.jupyter.widget-view+json": {
       "model_id": "",
       "version_major": 2,
       "version_minor": 0
      },
      "text/plain": [
       "HBox(children=(FloatProgress(value=1.0, bar_style='info', description='Validating', layout=Layout(flex='2'), m…"
      ]
     },
     "metadata": {},
     "output_type": "display_data"
    },
    {
     "name": "stdout",
     "output_type": "stream",
     "text": [
      "Val-Acc=0.8695909899229401\n",
      "Train-Acc=0.957905138339921\n",
      "\n",
      "Saved model to \"saved_modelsq/14.p\"\n"
     ]
    },
    {
     "name": "stderr",
     "output_type": "stream",
     "text": [
      "[I 2020-07-14 23:55:40,953] Finished trial#14 with value: 0.8695909899229401 with parameters: {'learning_rate': 0.00046860312108066925, 'p_drop': 0.002244251969427319, 'lr_decay': 0.8191365835233184, 'n_hidden': 990, 'weight_decay': 0.029970313482692457}. Best is trial#12 with value: 0.8921161825726142.\n",
      "GPU available: True, used: True\n",
      "No environment variable for node rank defined. Set as 0.\n",
      "CUDA_VISIBLE_DEVICES: [0]\n",
      "Set SLURM handle signals.\n",
      "\n",
      "   | Name                      | Type                  | Params\n",
      "----------------------------------------------------------------\n",
      "0  | model                     | CRNN8k_D2             | 4 M   \n",
      "1  | model.spec                | MelspectrogramStretch | 0     \n",
      "2  | model.spec.spectrogram    | Spectrogram           | 0     \n",
      "3  | model.spec.mel_scale      | MelScale              | 0     \n",
      "4  | model.spec.stft           | Spectrogram           | 0     \n",
      "5  | model.spec.random_stretch | RandomTimeStretch     | 0     \n",
      "6  | model.spec.complex_norm   | ComplexNorm           | 0     \n",
      "7  | model.spec.norm           | SpecNormalization     | 0     \n",
      "8  | model.convs               | Sequential            | 213 K \n",
      "9  | model.convs.0             | Conv2d                | 320   \n",
      "10 | model.convs.1             | BatchNorm2d           | 64    \n",
      "11 | model.convs.2             | ELU                   | 0     \n",
      "12 | model.convs.3             | Conv2d                | 9 K   \n",
      "13 | model.convs.4             | BatchNorm2d           | 64    \n",
      "14 | model.convs.5             | ELU                   | 0     \n",
      "15 | model.convs.6             | MaxPool2d             | 0     \n",
      "16 | model.convs.7             | Dropout               | 0     \n",
      "17 | model.convs.8             | Conv2d                | 18 K  \n",
      "18 | model.convs.9             | BatchNorm2d           | 128   \n",
      "19 | model.convs.10            | ELU                   | 0     \n",
      "20 | model.convs.11            | Conv2d                | 36 K  \n",
      "21 | model.convs.12            | BatchNorm2d           | 128   \n",
      "22 | model.convs.13            | ELU                   | 0     \n",
      "23 | model.convs.14            | MaxPool2d             | 0     \n",
      "24 | model.convs.15            | Dropout               | 0     \n",
      "25 | model.convs.16            | Conv2d                | 73 K  \n",
      "26 | model.convs.17            | BatchNorm2d           | 256   \n",
      "27 | model.convs.18            | ELU                   | 0     \n",
      "28 | model.convs.19            | MaxPool2d             | 0     \n",
      "29 | model.convs.20            | Dropout               | 0     \n",
      "30 | model.convs.21            | Conv2d                | 73 K  \n",
      "31 | model.convs.22            | BatchNorm2d           | 128   \n",
      "32 | model.convs.23            | ELU                   | 0     \n",
      "33 | model.convs.24            | MaxPool2d             | 0     \n",
      "34 | model.convs.25            | Dropout               | 0     \n",
      "35 | model.LSTMCell            | LSTMCell              | 4 M   \n",
      "36 | model.dense               | Sequential            | 3 K   \n",
      "37 | model.dense.0             | Dropout               | 0     \n",
      "38 | model.dense.1             | BatchNorm1d           | 1 K   \n",
      "39 | model.dense.2             | Linear                | 1 K   \n"
     ]
    },
    {
     "data": {
      "application/vnd.jupyter.widget-view+json": {
       "model_id": "",
       "version_major": 2,
       "version_minor": 0
      },
      "text/plain": [
       "HBox(children=(FloatProgress(value=1.0, bar_style='info', description='Validation sanity check', layout=Layout…"
      ]
     },
     "metadata": {},
     "output_type": "display_data"
    },
    {
     "name": "stdout",
     "output_type": "stream",
     "text": [
      "Val-Acc=0.03793716656787196\n"
     ]
    },
    {
     "data": {
      "application/vnd.jupyter.widget-view+json": {
       "model_id": "ecf8452241c646e1aa24346bafcb0a0d",
       "version_major": 2,
       "version_minor": 0
      },
      "text/plain": [
       "HBox(children=(FloatProgress(value=1.0, bar_style='info', description='Training', layout=Layout(flex='2'), max…"
      ]
     },
     "metadata": {},
     "output_type": "display_data"
    },
    {
     "data": {
      "application/vnd.jupyter.widget-view+json": {
       "model_id": "",
       "version_major": 2,
       "version_minor": 0
      },
      "text/plain": [
       "HBox(children=(FloatProgress(value=1.0, bar_style='info', description='Validating', layout=Layout(flex='2'), m…"
      ]
     },
     "metadata": {},
     "output_type": "display_data"
    },
    {
     "name": "stdout",
     "output_type": "stream",
     "text": [
      "Val-Acc=0.8275044457617071\n",
      "Train-Acc=0.799407114624506\n"
     ]
    },
    {
     "data": {
      "application/vnd.jupyter.widget-view+json": {
       "model_id": "",
       "version_major": 2,
       "version_minor": 0
      },
      "text/plain": [
       "HBox(children=(FloatProgress(value=1.0, bar_style='info', description='Validating', layout=Layout(flex='2'), m…"
      ]
     },
     "metadata": {},
     "output_type": "display_data"
    },
    {
     "name": "stdout",
     "output_type": "stream",
     "text": [
      "Val-Acc=0.8476585655008891\n",
      "Train-Acc=0.8387351778656127\n"
     ]
    },
    {
     "data": {
      "application/vnd.jupyter.widget-view+json": {
       "model_id": "",
       "version_major": 2,
       "version_minor": 0
      },
      "text/plain": [
       "HBox(children=(FloatProgress(value=1.0, bar_style='info', description='Validating', layout=Layout(flex='2'), m…"
      ]
     },
     "metadata": {},
     "output_type": "display_data"
    },
    {
     "name": "stdout",
     "output_type": "stream",
     "text": [
      "Val-Acc=0.8470657972732661\n",
      "Train-Acc=0.8527667984189723\n"
     ]
    },
    {
     "data": {
      "application/vnd.jupyter.widget-view+json": {
       "model_id": "",
       "version_major": 2,
       "version_minor": 0
      },
      "text/plain": [
       "HBox(children=(FloatProgress(value=1.0, bar_style='info', description='Validating', layout=Layout(flex='2'), m…"
      ]
     },
     "metadata": {},
     "output_type": "display_data"
    },
    {
     "name": "stdout",
     "output_type": "stream",
     "text": [
      "Val-Acc=0.8441019561351512\n",
      "Train-Acc=0.8650197628458498\n"
     ]
    },
    {
     "data": {
      "application/vnd.jupyter.widget-view+json": {
       "model_id": "",
       "version_major": 2,
       "version_minor": 0
      },
      "text/plain": [
       "HBox(children=(FloatProgress(value=1.0, bar_style='info', description='Validating', layout=Layout(flex='2'), m…"
      ]
     },
     "metadata": {},
     "output_type": "display_data"
    },
    {
     "name": "stdout",
     "output_type": "stream",
     "text": [
      "Val-Acc=0.8150563129816242\n",
      "Train-Acc=0.8715415019762845\n"
     ]
    },
    {
     "data": {
      "application/vnd.jupyter.widget-view+json": {
       "model_id": "",
       "version_major": 2,
       "version_minor": 0
      },
      "text/plain": [
       "HBox(children=(FloatProgress(value=1.0, bar_style='info', description='Validating', layout=Layout(flex='2'), m…"
      ]
     },
     "metadata": {},
     "output_type": "display_data"
    },
    {
     "name": "stdout",
     "output_type": "stream",
     "text": [
      "Val-Acc=0.8595139300533492\n",
      "Train-Acc=0.8804347826086957\n"
     ]
    },
    {
     "data": {
      "application/vnd.jupyter.widget-view+json": {
       "model_id": "",
       "version_major": 2,
       "version_minor": 0
      },
      "text/plain": [
       "HBox(children=(FloatProgress(value=1.0, bar_style='info', description='Validating', layout=Layout(flex='2'), m…"
      ]
     },
     "metadata": {},
     "output_type": "display_data"
    },
    {
     "name": "stdout",
     "output_type": "stream",
     "text": [
      "Val-Acc=0.8192056905749852\n",
      "Train-Acc=0.8990118577075099\n"
     ]
    },
    {
     "data": {
      "application/vnd.jupyter.widget-view+json": {
       "model_id": "",
       "version_major": 2,
       "version_minor": 0
      },
      "text/plain": [
       "HBox(children=(FloatProgress(value=1.0, bar_style='info', description='Validating', layout=Layout(flex='2'), m…"
      ]
     },
     "metadata": {},
     "output_type": "display_data"
    },
    {
     "name": "stdout",
     "output_type": "stream",
     "text": [
      "Val-Acc=0.8695909899229401\n",
      "Train-Acc=0.9015810276679842\n"
     ]
    },
    {
     "data": {
      "application/vnd.jupyter.widget-view+json": {
       "model_id": "",
       "version_major": 2,
       "version_minor": 0
      },
      "text/plain": [
       "HBox(children=(FloatProgress(value=1.0, bar_style='info', description='Validating', layout=Layout(flex='2'), m…"
      ]
     },
     "metadata": {},
     "output_type": "display_data"
    },
    {
     "name": "stdout",
     "output_type": "stream",
     "text": [
      "Val-Acc=0.8595139300533492\n",
      "Train-Acc=0.9146245059288538\n"
     ]
    },
    {
     "data": {
      "application/vnd.jupyter.widget-view+json": {
       "model_id": "",
       "version_major": 2,
       "version_minor": 0
      },
      "text/plain": [
       "HBox(children=(FloatProgress(value=1.0, bar_style='info', description='Validating', layout=Layout(flex='2'), m…"
      ]
     },
     "metadata": {},
     "output_type": "display_data"
    },
    {
     "name": "stdout",
     "output_type": "stream",
     "text": [
      "Val-Acc=0.8512151748666271\n",
      "Train-Acc=0.9134387351778656\n"
     ]
    },
    {
     "data": {
      "application/vnd.jupyter.widget-view+json": {
       "model_id": "",
       "version_major": 2,
       "version_minor": 0
      },
      "text/plain": [
       "HBox(children=(FloatProgress(value=1.0, bar_style='info', description='Validating', layout=Layout(flex='2'), m…"
      ]
     },
     "metadata": {},
     "output_type": "display_data"
    },
    {
     "name": "stdout",
     "output_type": "stream",
     "text": [
      "Val-Acc=0.8612922347362182\n",
      "Train-Acc=0.9185770750988143\n"
     ]
    },
    {
     "data": {
      "application/vnd.jupyter.widget-view+json": {
       "model_id": "",
       "version_major": 2,
       "version_minor": 0
      },
      "text/plain": [
       "HBox(children=(FloatProgress(value=1.0, bar_style='info', description='Validating', layout=Layout(flex='2'), m…"
      ]
     },
     "metadata": {},
     "output_type": "display_data"
    },
    {
     "name": "stdout",
     "output_type": "stream",
     "text": [
      "Val-Acc=0.8654416123295792\n",
      "Train-Acc=0.924901185770751\n"
     ]
    },
    {
     "data": {
      "application/vnd.jupyter.widget-view+json": {
       "model_id": "",
       "version_major": 2,
       "version_minor": 0
      },
      "text/plain": [
       "HBox(children=(FloatProgress(value=1.0, bar_style='info', description='Validating', layout=Layout(flex='2'), m…"
      ]
     },
     "metadata": {},
     "output_type": "display_data"
    },
    {
     "name": "stdout",
     "output_type": "stream",
     "text": [
      "Val-Acc=0.8595139300533492\n",
      "Train-Acc=0.9294466403162055\n"
     ]
    },
    {
     "data": {
      "application/vnd.jupyter.widget-view+json": {
       "model_id": "",
       "version_major": 2,
       "version_minor": 0
      },
      "text/plain": [
       "HBox(children=(FloatProgress(value=1.0, bar_style='info', description='Validating', layout=Layout(flex='2'), m…"
      ]
     },
     "metadata": {},
     "output_type": "display_data"
    },
    {
     "name": "stdout",
     "output_type": "stream",
     "text": [
      "Val-Acc=0.8565500889152341\n",
      "Train-Acc=0.9339920948616601\n"
     ]
    },
    {
     "data": {
      "application/vnd.jupyter.widget-view+json": {
       "model_id": "",
       "version_major": 2,
       "version_minor": 0
      },
      "text/plain": [
       "HBox(children=(FloatProgress(value=1.0, bar_style='info', description='Validating', layout=Layout(flex='2'), m…"
      ]
     },
     "metadata": {},
     "output_type": "display_data"
    },
    {
     "name": "stdout",
     "output_type": "stream",
     "text": [
      "Val-Acc=0.8648488441019562\n",
      "Train-Acc=0.9377470355731226\n",
      "\n",
      "Saved model to \"saved_modelsq/15.p\"\n"
     ]
    },
    {
     "name": "stderr",
     "output_type": "stream",
     "text": [
      "[I 2020-07-14 23:57:42,316] Finished trial#15 with value: 0.8648488441019562 with parameters: {'learning_rate': 0.00019420209964996735, 'p_drop': 0.004240875340882688, 'lr_decay': 0.7892948998891057, 'n_hidden': 874, 'weight_decay': 0.025595869499846963}. Best is trial#12 with value: 0.8921161825726142.\n",
      "GPU available: True, used: True\n",
      "No environment variable for node rank defined. Set as 0.\n",
      "CUDA_VISIBLE_DEVICES: [0]\n",
      "Set SLURM handle signals.\n",
      "\n",
      "   | Name                      | Type                  | Params\n",
      "----------------------------------------------------------------\n",
      "0  | model                     | CRNN8k_D2             | 5 M   \n",
      "1  | model.spec                | MelspectrogramStretch | 0     \n",
      "2  | model.spec.spectrogram    | Spectrogram           | 0     \n",
      "3  | model.spec.mel_scale      | MelScale              | 0     \n",
      "4  | model.spec.stft           | Spectrogram           | 0     \n",
      "5  | model.spec.random_stretch | RandomTimeStretch     | 0     \n",
      "6  | model.spec.complex_norm   | ComplexNorm           | 0     \n",
      "7  | model.spec.norm           | SpecNormalization     | 0     \n",
      "8  | model.convs               | Sequential            | 213 K \n",
      "9  | model.convs.0             | Conv2d                | 320   \n",
      "10 | model.convs.1             | BatchNorm2d           | 64    \n",
      "11 | model.convs.2             | ELU                   | 0     \n",
      "12 | model.convs.3             | Conv2d                | 9 K   \n",
      "13 | model.convs.4             | BatchNorm2d           | 64    \n",
      "14 | model.convs.5             | ELU                   | 0     \n",
      "15 | model.convs.6             | MaxPool2d             | 0     \n",
      "16 | model.convs.7             | Dropout               | 0     \n",
      "17 | model.convs.8             | Conv2d                | 18 K  \n",
      "18 | model.convs.9             | BatchNorm2d           | 128   \n",
      "19 | model.convs.10            | ELU                   | 0     \n",
      "20 | model.convs.11            | Conv2d                | 36 K  \n",
      "21 | model.convs.12            | BatchNorm2d           | 128   \n",
      "22 | model.convs.13            | ELU                   | 0     \n",
      "23 | model.convs.14            | MaxPool2d             | 0     \n",
      "24 | model.convs.15            | Dropout               | 0     \n",
      "25 | model.convs.16            | Conv2d                | 73 K  \n",
      "26 | model.convs.17            | BatchNorm2d           | 256   \n",
      "27 | model.convs.18            | ELU                   | 0     \n",
      "28 | model.convs.19            | MaxPool2d             | 0     \n",
      "29 | model.convs.20            | Dropout               | 0     \n",
      "30 | model.convs.21            | Conv2d                | 73 K  \n",
      "31 | model.convs.22            | BatchNorm2d           | 128   \n",
      "32 | model.convs.23            | ELU                   | 0     \n",
      "33 | model.convs.24            | MaxPool2d             | 0     \n",
      "34 | model.convs.25            | Dropout               | 0     \n",
      "35 | model.LSTMCell            | LSTMCell              | 5 M   \n",
      "36 | model.dense               | Sequential            | 3 K   \n",
      "37 | model.dense.0             | Dropout               | 0     \n",
      "38 | model.dense.1             | BatchNorm1d           | 1 K   \n",
      "39 | model.dense.2             | Linear                | 1 K   \n"
     ]
    },
    {
     "data": {
      "application/vnd.jupyter.widget-view+json": {
       "model_id": "",
       "version_major": 2,
       "version_minor": 0
      },
      "text/plain": [
       "HBox(children=(FloatProgress(value=1.0, bar_style='info', description='Validation sanity check', layout=Layout…"
      ]
     },
     "metadata": {},
     "output_type": "display_data"
    },
    {
     "name": "stdout",
     "output_type": "stream",
     "text": [
      "Val-Acc=0.03793716656787196\n"
     ]
    },
    {
     "data": {
      "application/vnd.jupyter.widget-view+json": {
       "model_id": "881661ba36f943549869ade7277f29d0",
       "version_major": 2,
       "version_minor": 0
      },
      "text/plain": [
       "HBox(children=(FloatProgress(value=1.0, bar_style='info', description='Training', layout=Layout(flex='2'), max…"
      ]
     },
     "metadata": {},
     "output_type": "display_data"
    },
    {
     "data": {
      "application/vnd.jupyter.widget-view+json": {
       "model_id": "",
       "version_major": 2,
       "version_minor": 0
      },
      "text/plain": [
       "HBox(children=(FloatProgress(value=1.0, bar_style='info', description='Validating', layout=Layout(flex='2'), m…"
      ]
     },
     "metadata": {},
     "output_type": "display_data"
    },
    {
     "name": "stdout",
     "output_type": "stream",
     "text": [
      "Val-Acc=0.5477178423236515\n",
      "Train-Acc=0.7371541501976284\n"
     ]
    },
    {
     "data": {
      "application/vnd.jupyter.widget-view+json": {
       "model_id": "",
       "version_major": 2,
       "version_minor": 0
      },
      "text/plain": [
       "HBox(children=(FloatProgress(value=1.0, bar_style='info', description='Validating', layout=Layout(flex='2'), m…"
      ]
     },
     "metadata": {},
     "output_type": "display_data"
    },
    {
     "name": "stdout",
     "output_type": "stream",
     "text": [
      "Val-Acc=0.6301126259632484\n"
     ]
    },
    {
     "name": "stderr",
     "output_type": "stream",
     "text": [
      "[I 2020-07-14 23:58:00,126] Setting status of trial#16 as TrialState.PRUNED. Trial was pruned at epoch 1.\n",
      "GPU available: True, used: True\n",
      "No environment variable for node rank defined. Set as 0.\n",
      "CUDA_VISIBLE_DEVICES: [0]\n",
      "Set SLURM handle signals.\n",
      "\n",
      "   | Name                      | Type                  | Params\n",
      "----------------------------------------------------------------\n",
      "0  | model                     | CRNN8k_D2             | 4 M   \n",
      "1  | model.spec                | MelspectrogramStretch | 0     \n",
      "2  | model.spec.spectrogram    | Spectrogram           | 0     \n",
      "3  | model.spec.mel_scale      | MelScale              | 0     \n",
      "4  | model.spec.stft           | Spectrogram           | 0     \n",
      "5  | model.spec.random_stretch | RandomTimeStretch     | 0     \n",
      "6  | model.spec.complex_norm   | ComplexNorm           | 0     \n",
      "7  | model.spec.norm           | SpecNormalization     | 0     \n",
      "8  | model.convs               | Sequential            | 213 K \n",
      "9  | model.convs.0             | Conv2d                | 320   \n",
      "10 | model.convs.1             | BatchNorm2d           | 64    \n",
      "11 | model.convs.2             | ELU                   | 0     \n",
      "12 | model.convs.3             | Conv2d                | 9 K   \n",
      "13 | model.convs.4             | BatchNorm2d           | 64    \n",
      "14 | model.convs.5             | ELU                   | 0     \n",
      "15 | model.convs.6             | MaxPool2d             | 0     \n",
      "16 | model.convs.7             | Dropout               | 0     \n",
      "17 | model.convs.8             | Conv2d                | 18 K  \n",
      "18 | model.convs.9             | BatchNorm2d           | 128   \n",
      "19 | model.convs.10            | ELU                   | 0     \n",
      "20 | model.convs.11            | Conv2d                | 36 K  \n",
      "21 | model.convs.12            | BatchNorm2d           | 128   \n",
      "22 | model.convs.13            | ELU                   | 0     \n",
      "23 | model.convs.14            | MaxPool2d             | 0     \n",
      "24 | model.convs.15            | Dropout               | 0     \n",
      "25 | model.convs.16            | Conv2d                | 73 K  \n",
      "26 | model.convs.17            | BatchNorm2d           | 256   \n",
      "27 | model.convs.18            | ELU                   | 0     \n",
      "28 | model.convs.19            | MaxPool2d             | 0     \n",
      "29 | model.convs.20            | Dropout               | 0     \n",
      "30 | model.convs.21            | Conv2d                | 73 K  \n",
      "31 | model.convs.22            | BatchNorm2d           | 128   \n",
      "32 | model.convs.23            | ELU                   | 0     \n",
      "33 | model.convs.24            | MaxPool2d             | 0     \n",
      "34 | model.convs.25            | Dropout               | 0     \n",
      "35 | model.LSTMCell            | LSTMCell              | 3 M   \n",
      "36 | model.dense               | Sequential            | 3 K   \n",
      "37 | model.dense.0             | Dropout               | 0     \n",
      "38 | model.dense.1             | BatchNorm1d           | 1 K   \n",
      "39 | model.dense.2             | Linear                | 1 K   \n"
     ]
    },
    {
     "data": {
      "application/vnd.jupyter.widget-view+json": {
       "model_id": "",
       "version_major": 2,
       "version_minor": 0
      },
      "text/plain": [
       "HBox(children=(FloatProgress(value=1.0, bar_style='info', description='Validation sanity check', layout=Layout…"
      ]
     },
     "metadata": {},
     "output_type": "display_data"
    },
    {
     "name": "stdout",
     "output_type": "stream",
     "text": [
      "Val-Acc=0.03793716656787196\n"
     ]
    },
    {
     "data": {
      "application/vnd.jupyter.widget-view+json": {
       "model_id": "bc28870d07ad4d38b20e1c483a3d7645",
       "version_major": 2,
       "version_minor": 0
      },
      "text/plain": [
       "HBox(children=(FloatProgress(value=1.0, bar_style='info', description='Training', layout=Layout(flex='2'), max…"
      ]
     },
     "metadata": {},
     "output_type": "display_data"
    },
    {
     "data": {
      "application/vnd.jupyter.widget-view+json": {
       "model_id": "",
       "version_major": 2,
       "version_minor": 0
      },
      "text/plain": [
       "HBox(children=(FloatProgress(value=1.0, bar_style='info', description='Validating', layout=Layout(flex='2'), m…"
      ]
     },
     "metadata": {},
     "output_type": "display_data"
    },
    {
     "name": "stdout",
     "output_type": "stream",
     "text": [
      "Val-Acc=0.8239478363959691\n",
      "Train-Acc=0.7903162055335968\n"
     ]
    },
    {
     "data": {
      "application/vnd.jupyter.widget-view+json": {
       "model_id": "",
       "version_major": 2,
       "version_minor": 0
      },
      "text/plain": [
       "HBox(children=(FloatProgress(value=1.0, bar_style='info', description='Validating', layout=Layout(flex='2'), m…"
      ]
     },
     "metadata": {},
     "output_type": "display_data"
    },
    {
     "name": "stdout",
     "output_type": "stream",
     "text": [
      "Val-Acc=0.8375815056312982\n",
      "Train-Acc=0.8284584980237154\n"
     ]
    },
    {
     "data": {
      "application/vnd.jupyter.widget-view+json": {
       "model_id": "",
       "version_major": 2,
       "version_minor": 0
      },
      "text/plain": [
       "HBox(children=(FloatProgress(value=1.0, bar_style='info', description='Validating', layout=Layout(flex='2'), m…"
      ]
     },
     "metadata": {},
     "output_type": "display_data"
    },
    {
     "name": "stdout",
     "output_type": "stream",
     "text": [
      "Val-Acc=0.8642560758743332\n",
      "Train-Acc=0.8393280632411068\n"
     ]
    },
    {
     "data": {
      "application/vnd.jupyter.widget-view+json": {
       "model_id": "",
       "version_major": 2,
       "version_minor": 0
      },
      "text/plain": [
       "HBox(children=(FloatProgress(value=1.0, bar_style='info', description='Validating', layout=Layout(flex='2'), m…"
      ]
     },
     "metadata": {},
     "output_type": "display_data"
    },
    {
     "name": "stdout",
     "output_type": "stream",
     "text": [
      "Val-Acc=0.8529934795494961\n",
      "Train-Acc=0.8507905138339921\n"
     ]
    },
    {
     "data": {
      "application/vnd.jupyter.widget-view+json": {
       "model_id": "",
       "version_major": 2,
       "version_minor": 0
      },
      "text/plain": [
       "HBox(children=(FloatProgress(value=1.0, bar_style='info', description='Validating', layout=Layout(flex='2'), m…"
      ]
     },
     "metadata": {},
     "output_type": "display_data"
    },
    {
     "name": "stdout",
     "output_type": "stream",
     "text": [
      "Val-Acc=0.8684054534676942\n",
      "Train-Acc=0.8608695652173913\n"
     ]
    },
    {
     "data": {
      "application/vnd.jupyter.widget-view+json": {
       "model_id": "",
       "version_major": 2,
       "version_minor": 0
      },
      "text/plain": [
       "HBox(children=(FloatProgress(value=1.0, bar_style='info', description='Validating', layout=Layout(flex='2'), m…"
      ]
     },
     "metadata": {},
     "output_type": "display_data"
    },
    {
     "name": "stdout",
     "output_type": "stream",
     "text": [
      "Val-Acc=0.8624777711914642\n",
      "Train-Acc=0.8658102766798419\n"
     ]
    },
    {
     "data": {
      "application/vnd.jupyter.widget-view+json": {
       "model_id": "",
       "version_major": 2,
       "version_minor": 0
      },
      "text/plain": [
       "HBox(children=(FloatProgress(value=1.0, bar_style='info', description='Validating', layout=Layout(flex='2'), m…"
      ]
     },
     "metadata": {},
     "output_type": "display_data"
    },
    {
     "name": "stdout",
     "output_type": "stream",
     "text": [
      "Val-Acc=0.8737403675163011\n",
      "Train-Acc=0.8735177865612648\n"
     ]
    },
    {
     "data": {
      "application/vnd.jupyter.widget-view+json": {
       "model_id": "",
       "version_major": 2,
       "version_minor": 0
      },
      "text/plain": [
       "HBox(children=(FloatProgress(value=1.0, bar_style='info', description='Validating', layout=Layout(flex='2'), m…"
      ]
     },
     "metadata": {},
     "output_type": "display_data"
    },
    {
     "name": "stdout",
     "output_type": "stream",
     "text": [
      "Val-Acc=0.8790752815649081\n",
      "Train-Acc=0.8735177865612648\n"
     ]
    },
    {
     "data": {
      "application/vnd.jupyter.widget-view+json": {
       "model_id": "",
       "version_major": 2,
       "version_minor": 0
      },
      "text/plain": [
       "HBox(children=(FloatProgress(value=1.0, bar_style='info', description='Validating', layout=Layout(flex='2'), m…"
      ]
     },
     "metadata": {},
     "output_type": "display_data"
    },
    {
     "name": "stdout",
     "output_type": "stream",
     "text": [
      "Val-Acc=0.8867812685240071\n",
      "Train-Acc=0.8758893280632412\n"
     ]
    },
    {
     "data": {
      "application/vnd.jupyter.widget-view+json": {
       "model_id": "",
       "version_major": 2,
       "version_minor": 0
      },
      "text/plain": [
       "HBox(children=(FloatProgress(value=1.0, bar_style='info', description='Validating', layout=Layout(flex='2'), m…"
      ]
     },
     "metadata": {},
     "output_type": "display_data"
    },
    {
     "name": "stdout",
     "output_type": "stream",
     "text": [
      "Val-Acc=0.8808535862477771\n",
      "Train-Acc=0.8891304347826087\n"
     ]
    },
    {
     "data": {
      "application/vnd.jupyter.widget-view+json": {
       "model_id": "",
       "version_major": 2,
       "version_minor": 0
      },
      "text/plain": [
       "HBox(children=(FloatProgress(value=1.0, bar_style='info', description='Validating', layout=Layout(flex='2'), m…"
      ]
     },
     "metadata": {},
     "output_type": "display_data"
    },
    {
     "name": "stdout",
     "output_type": "stream",
     "text": [
      "Val-Acc=0.8796680497925311\n",
      "Train-Acc=0.8861660079051383\n"
     ]
    },
    {
     "data": {
      "application/vnd.jupyter.widget-view+json": {
       "model_id": "",
       "version_major": 2,
       "version_minor": 0
      },
      "text/plain": [
       "HBox(children=(FloatProgress(value=1.0, bar_style='info', description='Validating', layout=Layout(flex='2'), m…"
      ]
     },
     "metadata": {},
     "output_type": "display_data"
    },
    {
     "name": "stdout",
     "output_type": "stream",
     "text": [
      "Val-Acc=0.8861885002963841\n",
      "Train-Acc=0.8911067193675889\n"
     ]
    },
    {
     "data": {
      "application/vnd.jupyter.widget-view+json": {
       "model_id": "",
       "version_major": 2,
       "version_minor": 0
      },
      "text/plain": [
       "HBox(children=(FloatProgress(value=1.0, bar_style='info', description='Validating', layout=Layout(flex='2'), m…"
      ]
     },
     "metadata": {},
     "output_type": "display_data"
    },
    {
     "name": "stdout",
     "output_type": "stream",
     "text": [
      "Val-Acc=0.8861885002963841\n",
      "Train-Acc=0.8934782608695652\n"
     ]
    },
    {
     "data": {
      "application/vnd.jupyter.widget-view+json": {
       "model_id": "",
       "version_major": 2,
       "version_minor": 0
      },
      "text/plain": [
       "HBox(children=(FloatProgress(value=1.0, bar_style='info', description='Validating', layout=Layout(flex='2'), m…"
      ]
     },
     "metadata": {},
     "output_type": "display_data"
    },
    {
     "name": "stdout",
     "output_type": "stream",
     "text": [
      "Val-Acc=0.8855957320687611\n",
      "Train-Acc=0.8964426877470356\n"
     ]
    },
    {
     "data": {
      "application/vnd.jupyter.widget-view+json": {
       "model_id": "",
       "version_major": 2,
       "version_minor": 0
      },
      "text/plain": [
       "HBox(children=(FloatProgress(value=1.0, bar_style='info', description='Validating', layout=Layout(flex='2'), m…"
      ]
     },
     "metadata": {},
     "output_type": "display_data"
    },
    {
     "name": "stdout",
     "output_type": "stream",
     "text": [
      "Val-Acc=0.8867812685240071\n",
      "Train-Acc=0.9\n",
      "\n",
      "Saved model to \"saved_modelsq/17.p\"\n"
     ]
    },
    {
     "name": "stderr",
     "output_type": "stream",
     "text": [
      "[I 2020-07-15 00:00:01,416] Finished trial#17 with value: 0.8867812685240071 with parameters: {'learning_rate': 0.0003430026021984836, 'p_drop': 0.12158585013668866, 'lr_decay': 0.7695111055758911, 'n_hidden': 851, 'weight_decay': 0.03600233694880611}. Best is trial#12 with value: 0.8921161825726142.\n",
      "GPU available: True, used: True\n",
      "No environment variable for node rank defined. Set as 0.\n",
      "CUDA_VISIBLE_DEVICES: [0]\n",
      "Set SLURM handle signals.\n",
      "\n",
      "   | Name                      | Type                  | Params\n",
      "----------------------------------------------------------------\n",
      "0  | model                     | CRNN8k_D2             | 3 M   \n",
      "1  | model.spec                | MelspectrogramStretch | 0     \n",
      "2  | model.spec.spectrogram    | Spectrogram           | 0     \n",
      "3  | model.spec.mel_scale      | MelScale              | 0     \n",
      "4  | model.spec.stft           | Spectrogram           | 0     \n",
      "5  | model.spec.random_stretch | RandomTimeStretch     | 0     \n",
      "6  | model.spec.complex_norm   | ComplexNorm           | 0     \n",
      "7  | model.spec.norm           | SpecNormalization     | 0     \n",
      "8  | model.convs               | Sequential            | 213 K \n",
      "9  | model.convs.0             | Conv2d                | 320   \n",
      "10 | model.convs.1             | BatchNorm2d           | 64    \n",
      "11 | model.convs.2             | ELU                   | 0     \n",
      "12 | model.convs.3             | Conv2d                | 9 K   \n",
      "13 | model.convs.4             | BatchNorm2d           | 64    \n",
      "14 | model.convs.5             | ELU                   | 0     \n",
      "15 | model.convs.6             | MaxPool2d             | 0     \n",
      "16 | model.convs.7             | Dropout               | 0     \n",
      "17 | model.convs.8             | Conv2d                | 18 K  \n",
      "18 | model.convs.9             | BatchNorm2d           | 128   \n",
      "19 | model.convs.10            | ELU                   | 0     \n",
      "20 | model.convs.11            | Conv2d                | 36 K  \n",
      "21 | model.convs.12            | BatchNorm2d           | 128   \n",
      "22 | model.convs.13            | ELU                   | 0     \n",
      "23 | model.convs.14            | MaxPool2d             | 0     \n",
      "24 | model.convs.15            | Dropout               | 0     \n",
      "25 | model.convs.16            | Conv2d                | 73 K  \n",
      "26 | model.convs.17            | BatchNorm2d           | 256   \n",
      "27 | model.convs.18            | ELU                   | 0     \n",
      "28 | model.convs.19            | MaxPool2d             | 0     \n",
      "29 | model.convs.20            | Dropout               | 0     \n",
      "30 | model.convs.21            | Conv2d                | 73 K  \n",
      "31 | model.convs.22            | BatchNorm2d           | 128   \n",
      "32 | model.convs.23            | ELU                   | 0     \n",
      "33 | model.convs.24            | MaxPool2d             | 0     \n",
      "34 | model.convs.25            | Dropout               | 0     \n",
      "35 | model.LSTMCell            | LSTMCell              | 2 M   \n",
      "36 | model.dense               | Sequential            | 2 K   \n",
      "37 | model.dense.0             | Dropout               | 0     \n",
      "38 | model.dense.1             | BatchNorm1d           | 1 K   \n",
      "39 | model.dense.2             | Linear                | 1 K   \n"
     ]
    },
    {
     "data": {
      "application/vnd.jupyter.widget-view+json": {
       "model_id": "",
       "version_major": 2,
       "version_minor": 0
      },
      "text/plain": [
       "HBox(children=(FloatProgress(value=1.0, bar_style='info', description='Validation sanity check', layout=Layout…"
      ]
     },
     "metadata": {},
     "output_type": "display_data"
    },
    {
     "name": "stdout",
     "output_type": "stream",
     "text": [
      "Val-Acc=0.03793716656787196\n"
     ]
    },
    {
     "data": {
      "application/vnd.jupyter.widget-view+json": {
       "model_id": "14845ee5e83241feb5639b3881a310bd",
       "version_major": 2,
       "version_minor": 0
      },
      "text/plain": [
       "HBox(children=(FloatProgress(value=1.0, bar_style='info', description='Training', layout=Layout(flex='2'), max…"
      ]
     },
     "metadata": {},
     "output_type": "display_data"
    },
    {
     "data": {
      "application/vnd.jupyter.widget-view+json": {
       "model_id": "",
       "version_major": 2,
       "version_minor": 0
      },
      "text/plain": [
       "HBox(children=(FloatProgress(value=1.0, bar_style='info', description='Validating', layout=Layout(flex='2'), m…"
      ]
     },
     "metadata": {},
     "output_type": "display_data"
    },
    {
     "name": "stdout",
     "output_type": "stream",
     "text": [
      "Val-Acc=0.7943094250148192\n",
      "Train-Acc=0.7796442687747036\n"
     ]
    },
    {
     "data": {
      "application/vnd.jupyter.widget-view+json": {
       "model_id": "",
       "version_major": 2,
       "version_minor": 0
      },
      "text/plain": [
       "HBox(children=(FloatProgress(value=1.0, bar_style='info', description='Validating', layout=Layout(flex='2'), m…"
      ]
     },
     "metadata": {},
     "output_type": "display_data"
    },
    {
     "name": "stdout",
     "output_type": "stream",
     "text": [
      "Val-Acc=0.8061647895672792\n",
      "Train-Acc=0.8065217391304348\n"
     ]
    },
    {
     "data": {
      "application/vnd.jupyter.widget-view+json": {
       "model_id": "",
       "version_major": 2,
       "version_minor": 0
      },
      "text/plain": [
       "HBox(children=(FloatProgress(value=1.0, bar_style='info', description='Validating', layout=Layout(flex='2'), m…"
      ]
     },
     "metadata": {},
     "output_type": "display_data"
    },
    {
     "name": "stdout",
     "output_type": "stream",
     "text": [
      "Val-Acc=0.8227622999407231\n",
      "Train-Acc=0.8116600790513834\n"
     ]
    },
    {
     "data": {
      "application/vnd.jupyter.widget-view+json": {
       "model_id": "",
       "version_major": 2,
       "version_minor": 0
      },
      "text/plain": [
       "HBox(children=(FloatProgress(value=1.0, bar_style='info', description='Validating', layout=Layout(flex='2'), m…"
      ]
     },
     "metadata": {},
     "output_type": "display_data"
    },
    {
     "name": "stdout",
     "output_type": "stream",
     "text": [
      "Val-Acc=0.7788974510966212\n",
      "Train-Acc=0.8213438735177866\n"
     ]
    },
    {
     "data": {
      "application/vnd.jupyter.widget-view+json": {
       "model_id": "",
       "version_major": 2,
       "version_minor": 0
      },
      "text/plain": [
       "HBox(children=(FloatProgress(value=1.0, bar_style='info', description='Validating', layout=Layout(flex='2'), m…"
      ]
     },
     "metadata": {},
     "output_type": "display_data"
    },
    {
     "name": "stdout",
     "output_type": "stream",
     "text": [
      "Val-Acc=0.8002371072910492\n",
      "Train-Acc=0.8239130434782609\n"
     ]
    },
    {
     "data": {
      "application/vnd.jupyter.widget-view+json": {
       "model_id": "",
       "version_major": 2,
       "version_minor": 0
      },
      "text/plain": [
       "HBox(children=(FloatProgress(value=1.0, bar_style='info', description='Validating', layout=Layout(flex='2'), m…"
      ]
     },
     "metadata": {},
     "output_type": "display_data"
    },
    {
     "name": "stdout",
     "output_type": "stream",
     "text": [
      "Val-Acc=0.8269116775340841\n",
      "Train-Acc=0.8302371541501976\n"
     ]
    },
    {
     "data": {
      "application/vnd.jupyter.widget-view+json": {
       "model_id": "",
       "version_major": 2,
       "version_minor": 0
      },
      "text/plain": [
       "HBox(children=(FloatProgress(value=1.0, bar_style='info', description='Validating', layout=Layout(flex='2'), m…"
      ]
     },
     "metadata": {},
     "output_type": "display_data"
    },
    {
     "name": "stdout",
     "output_type": "stream",
     "text": [
      "Val-Acc=0.8049792531120332\n",
      "Train-Acc=0.833201581027668\n"
     ]
    },
    {
     "data": {
      "application/vnd.jupyter.widget-view+json": {
       "model_id": "",
       "version_major": 2,
       "version_minor": 0
      },
      "text/plain": [
       "HBox(children=(FloatProgress(value=1.0, bar_style='info', description='Validating', layout=Layout(flex='2'), m…"
      ]
     },
     "metadata": {},
     "output_type": "display_data"
    },
    {
     "name": "stdout",
     "output_type": "stream",
     "text": [
      "Val-Acc=0.8612922347362182\n",
      "Train-Acc=0.8391304347826087\n"
     ]
    },
    {
     "data": {
      "application/vnd.jupyter.widget-view+json": {
       "model_id": "",
       "version_major": 2,
       "version_minor": 0
      },
      "text/plain": [
       "HBox(children=(FloatProgress(value=1.0, bar_style='info', description='Validating', layout=Layout(flex='2'), m…"
      ]
     },
     "metadata": {},
     "output_type": "display_data"
    },
    {
     "name": "stdout",
     "output_type": "stream",
     "text": [
      "Val-Acc=0.8488441019561351\n",
      "Train-Acc=0.8456521739130435\n"
     ]
    },
    {
     "data": {
      "application/vnd.jupyter.widget-view+json": {
       "model_id": "",
       "version_major": 2,
       "version_minor": 0
      },
      "text/plain": [
       "HBox(children=(FloatProgress(value=1.0, bar_style='info', description='Validating', layout=Layout(flex='2'), m…"
      ]
     },
     "metadata": {},
     "output_type": "display_data"
    },
    {
     "name": "stdout",
     "output_type": "stream",
     "text": [
      "Val-Acc=0.8524007113218731\n",
      "Train-Acc=0.8446640316205534\n"
     ]
    },
    {
     "data": {
      "application/vnd.jupyter.widget-view+json": {
       "model_id": "",
       "version_major": 2,
       "version_minor": 0
      },
      "text/plain": [
       "HBox(children=(FloatProgress(value=1.0, bar_style='info', description='Validating', layout=Layout(flex='2'), m…"
      ]
     },
     "metadata": {},
     "output_type": "display_data"
    },
    {
     "name": "stdout",
     "output_type": "stream",
     "text": [
      "Val-Acc=0.8577356253704801\n",
      "Train-Acc=0.8513833992094861\n"
     ]
    },
    {
     "data": {
      "application/vnd.jupyter.widget-view+json": {
       "model_id": "",
       "version_major": 2,
       "version_minor": 0
      },
      "text/plain": [
       "HBox(children=(FloatProgress(value=1.0, bar_style='info', description='Validating', layout=Layout(flex='2'), m…"
      ]
     },
     "metadata": {},
     "output_type": "display_data"
    },
    {
     "name": "stdout",
     "output_type": "stream",
     "text": [
      "Val-Acc=0.8227622999407231\n",
      "Train-Acc=0.8478260869565217\n"
     ]
    },
    {
     "data": {
      "application/vnd.jupyter.widget-view+json": {
       "model_id": "",
       "version_major": 2,
       "version_minor": 0
      },
      "text/plain": [
       "HBox(children=(FloatProgress(value=1.0, bar_style='info', description='Validating', layout=Layout(flex='2'), m…"
      ]
     },
     "metadata": {},
     "output_type": "display_data"
    },
    {
     "name": "stdout",
     "output_type": "stream",
     "text": [
      "Val-Acc=0.8529934795494961\n",
      "Train-Acc=0.8610671936758894\n"
     ]
    },
    {
     "data": {
      "application/vnd.jupyter.widget-view+json": {
       "model_id": "",
       "version_major": 2,
       "version_minor": 0
      },
      "text/plain": [
       "HBox(children=(FloatProgress(value=1.0, bar_style='info', description='Validating', layout=Layout(flex='2'), m…"
      ]
     },
     "metadata": {},
     "output_type": "display_data"
    },
    {
     "name": "stdout",
     "output_type": "stream",
     "text": [
      "Val-Acc=0.8595139300533492\n",
      "Train-Acc=0.8610671936758894\n"
     ]
    },
    {
     "data": {
      "application/vnd.jupyter.widget-view+json": {
       "model_id": "",
       "version_major": 2,
       "version_minor": 0
      },
      "text/plain": [
       "HBox(children=(FloatProgress(value=1.0, bar_style='info', description='Validating', layout=Layout(flex='2'), m…"
      ]
     },
     "metadata": {},
     "output_type": "display_data"
    },
    {
     "name": "stdout",
     "output_type": "stream",
     "text": [
      "Val-Acc=0.8565500889152341\n"
     ]
    },
    {
     "name": "stderr",
     "output_type": "stream",
     "text": [
      "[I 2020-07-15 00:02:02,723] Setting status of trial#18 as TrialState.PRUNED. Trial was pruned at epoch 14.\n",
      "GPU available: True, used: True\n",
      "No environment variable for node rank defined. Set as 0.\n",
      "CUDA_VISIBLE_DEVICES: [0]\n",
      "Set SLURM handle signals.\n",
      "\n",
      "   | Name                      | Type                  | Params\n",
      "----------------------------------------------------------------\n",
      "0  | model                     | CRNN8k_D2             | 4 M   \n",
      "1  | model.spec                | MelspectrogramStretch | 0     \n",
      "2  | model.spec.spectrogram    | Spectrogram           | 0     \n",
      "3  | model.spec.mel_scale      | MelScale              | 0     \n",
      "4  | model.spec.stft           | Spectrogram           | 0     \n",
      "5  | model.spec.random_stretch | RandomTimeStretch     | 0     \n",
      "6  | model.spec.complex_norm   | ComplexNorm           | 0     \n",
      "7  | model.spec.norm           | SpecNormalization     | 0     \n",
      "8  | model.convs               | Sequential            | 213 K \n",
      "9  | model.convs.0             | Conv2d                | 320   \n",
      "10 | model.convs.1             | BatchNorm2d           | 64    \n",
      "11 | model.convs.2             | ELU                   | 0     \n",
      "12 | model.convs.3             | Conv2d                | 9 K   \n",
      "13 | model.convs.4             | BatchNorm2d           | 64    \n",
      "14 | model.convs.5             | ELU                   | 0     \n",
      "15 | model.convs.6             | MaxPool2d             | 0     \n",
      "16 | model.convs.7             | Dropout               | 0     \n",
      "17 | model.convs.8             | Conv2d                | 18 K  \n",
      "18 | model.convs.9             | BatchNorm2d           | 128   \n",
      "19 | model.convs.10            | ELU                   | 0     \n",
      "20 | model.convs.11            | Conv2d                | 36 K  \n",
      "21 | model.convs.12            | BatchNorm2d           | 128   \n",
      "22 | model.convs.13            | ELU                   | 0     \n",
      "23 | model.convs.14            | MaxPool2d             | 0     \n",
      "24 | model.convs.15            | Dropout               | 0     \n",
      "25 | model.convs.16            | Conv2d                | 73 K  \n",
      "26 | model.convs.17            | BatchNorm2d           | 256   \n",
      "27 | model.convs.18            | ELU                   | 0     \n",
      "28 | model.convs.19            | MaxPool2d             | 0     \n",
      "29 | model.convs.20            | Dropout               | 0     \n",
      "30 | model.convs.21            | Conv2d                | 73 K  \n",
      "31 | model.convs.22            | BatchNorm2d           | 128   \n",
      "32 | model.convs.23            | ELU                   | 0     \n",
      "33 | model.convs.24            | MaxPool2d             | 0     \n",
      "34 | model.convs.25            | Dropout               | 0     \n",
      "35 | model.LSTMCell            | LSTMCell              | 4 M   \n",
      "36 | model.dense               | Sequential            | 3 K   \n",
      "37 | model.dense.0             | Dropout               | 0     \n",
      "38 | model.dense.1             | BatchNorm1d           | 1 K   \n",
      "39 | model.dense.2             | Linear                | 1 K   \n"
     ]
    },
    {
     "data": {
      "application/vnd.jupyter.widget-view+json": {
       "model_id": "",
       "version_major": 2,
       "version_minor": 0
      },
      "text/plain": [
       "HBox(children=(FloatProgress(value=1.0, bar_style='info', description='Validation sanity check', layout=Layout…"
      ]
     },
     "metadata": {},
     "output_type": "display_data"
    },
    {
     "name": "stdout",
     "output_type": "stream",
     "text": [
      "Val-Acc=0.03793716656787196\n"
     ]
    },
    {
     "data": {
      "application/vnd.jupyter.widget-view+json": {
       "model_id": "e49e2f98c8e04d4ead6ab1959b5190b8",
       "version_major": 2,
       "version_minor": 0
      },
      "text/plain": [
       "HBox(children=(FloatProgress(value=1.0, bar_style='info', description='Training', layout=Layout(flex='2'), max…"
      ]
     },
     "metadata": {},
     "output_type": "display_data"
    },
    {
     "data": {
      "application/vnd.jupyter.widget-view+json": {
       "model_id": "",
       "version_major": 2,
       "version_minor": 0
      },
      "text/plain": [
       "HBox(children=(FloatProgress(value=1.0, bar_style='info', description='Validating', layout=Layout(flex='2'), m…"
      ]
     },
     "metadata": {},
     "output_type": "display_data"
    },
    {
     "name": "stdout",
     "output_type": "stream",
     "text": [
      "Val-Acc=0.8369887374036752\n",
      "Train-Acc=0.7911067193675889\n"
     ]
    },
    {
     "data": {
      "application/vnd.jupyter.widget-view+json": {
       "model_id": "",
       "version_major": 2,
       "version_minor": 0
      },
      "text/plain": [
       "HBox(children=(FloatProgress(value=1.0, bar_style='info', description='Validating', layout=Layout(flex='2'), m…"
      ]
     },
     "metadata": {},
     "output_type": "display_data"
    },
    {
     "name": "stdout",
     "output_type": "stream",
     "text": [
      "Val-Acc=0.8553645524599881\n",
      "Train-Acc=0.8231225296442688\n"
     ]
    },
    {
     "data": {
      "application/vnd.jupyter.widget-view+json": {
       "model_id": "",
       "version_major": 2,
       "version_minor": 0
      },
      "text/plain": [
       "HBox(children=(FloatProgress(value=1.0, bar_style='info', description='Validating', layout=Layout(flex='2'), m…"
      ]
     },
     "metadata": {},
     "output_type": "display_data"
    },
    {
     "name": "stdout",
     "output_type": "stream",
     "text": [
      "Val-Acc=0.8541790160047421\n",
      "Train-Acc=0.8468379446640316\n"
     ]
    },
    {
     "data": {
      "application/vnd.jupyter.widget-view+json": {
       "model_id": "",
       "version_major": 2,
       "version_minor": 0
      },
      "text/plain": [
       "HBox(children=(FloatProgress(value=1.0, bar_style='info', description='Validating', layout=Layout(flex='2'), m…"
      ]
     },
     "metadata": {},
     "output_type": "display_data"
    },
    {
     "name": "stdout",
     "output_type": "stream",
     "text": [
      "Val-Acc=0.8606994665085952\n",
      "Train-Acc=0.8478260869565217\n"
     ]
    },
    {
     "data": {
      "application/vnd.jupyter.widget-view+json": {
       "model_id": "",
       "version_major": 2,
       "version_minor": 0
      },
      "text/plain": [
       "HBox(children=(FloatProgress(value=1.0, bar_style='info', description='Validating', layout=Layout(flex='2'), m…"
      ]
     },
     "metadata": {},
     "output_type": "display_data"
    },
    {
     "name": "stdout",
     "output_type": "stream",
     "text": [
      "Val-Acc=0.8476585655008891\n",
      "Train-Acc=0.8608695652173913\n"
     ]
    },
    {
     "data": {
      "application/vnd.jupyter.widget-view+json": {
       "model_id": "",
       "version_major": 2,
       "version_minor": 0
      },
      "text/plain": [
       "HBox(children=(FloatProgress(value=1.0, bar_style='info', description='Validating', layout=Layout(flex='2'), m…"
      ]
     },
     "metadata": {},
     "output_type": "display_data"
    },
    {
     "name": "stdout",
     "output_type": "stream",
     "text": [
      "Val-Acc=0.8672199170124482\n",
      "Train-Acc=0.8596837944664032\n"
     ]
    },
    {
     "data": {
      "application/vnd.jupyter.widget-view+json": {
       "model_id": "",
       "version_major": 2,
       "version_minor": 0
      },
      "text/plain": [
       "HBox(children=(FloatProgress(value=1.0, bar_style='info', description='Validating', layout=Layout(flex='2'), m…"
      ]
     },
     "metadata": {},
     "output_type": "display_data"
    },
    {
     "name": "stdout",
     "output_type": "stream",
     "text": [
      "Val-Acc=0.8612922347362182\n",
      "Train-Acc=0.8681818181818182\n"
     ]
    },
    {
     "data": {
      "application/vnd.jupyter.widget-view+json": {
       "model_id": "",
       "version_major": 2,
       "version_minor": 0
      },
      "text/plain": [
       "HBox(children=(FloatProgress(value=1.0, bar_style='info', description='Validating', layout=Layout(flex='2'), m…"
      ]
     },
     "metadata": {},
     "output_type": "display_data"
    },
    {
     "name": "stdout",
     "output_type": "stream",
     "text": [
      "Val-Acc=0.8689982216953172\n",
      "Train-Acc=0.8731225296442687\n"
     ]
    },
    {
     "data": {
      "application/vnd.jupyter.widget-view+json": {
       "model_id": "",
       "version_major": 2,
       "version_minor": 0
      },
      "text/plain": [
       "HBox(children=(FloatProgress(value=1.0, bar_style='info', description='Validating', layout=Layout(flex='2'), m…"
      ]
     },
     "metadata": {},
     "output_type": "display_data"
    },
    {
     "name": "stdout",
     "output_type": "stream",
     "text": [
      "Val-Acc=0.8642560758743332\n",
      "Train-Acc=0.8731225296442687\n"
     ]
    },
    {
     "data": {
      "application/vnd.jupyter.widget-view+json": {
       "model_id": "",
       "version_major": 2,
       "version_minor": 0
      },
      "text/plain": [
       "HBox(children=(FloatProgress(value=1.0, bar_style='info', description='Validating', layout=Layout(flex='2'), m…"
      ]
     },
     "metadata": {},
     "output_type": "display_data"
    },
    {
     "name": "stdout",
     "output_type": "stream",
     "text": [
      "Val-Acc=0.8618850029638412\n",
      "Train-Acc=0.8754940711462451\n"
     ]
    },
    {
     "data": {
      "application/vnd.jupyter.widget-view+json": {
       "model_id": "",
       "version_major": 2,
       "version_minor": 0
      },
      "text/plain": [
       "HBox(children=(FloatProgress(value=1.0, bar_style='info', description='Validating', layout=Layout(flex='2'), m…"
      ]
     },
     "metadata": {},
     "output_type": "display_data"
    },
    {
     "name": "stdout",
     "output_type": "stream",
     "text": [
      "Val-Acc=0.8707765263781861\n",
      "Train-Acc=0.8786561264822135\n"
     ]
    },
    {
     "data": {
      "application/vnd.jupyter.widget-view+json": {
       "model_id": "",
       "version_major": 2,
       "version_minor": 0
      },
      "text/plain": [
       "HBox(children=(FloatProgress(value=1.0, bar_style='info', description='Validating', layout=Layout(flex='2'), m…"
      ]
     },
     "metadata": {},
     "output_type": "display_data"
    },
    {
     "name": "stdout",
     "output_type": "stream",
     "text": [
      "Val-Acc=0.8719620628334321\n",
      "Train-Acc=0.8750988142292491\n"
     ]
    },
    {
     "data": {
      "application/vnd.jupyter.widget-view+json": {
       "model_id": "",
       "version_major": 2,
       "version_minor": 0
      },
      "text/plain": [
       "HBox(children=(FloatProgress(value=1.0, bar_style='info', description='Validating', layout=Layout(flex='2'), m…"
      ]
     },
     "metadata": {},
     "output_type": "display_data"
    },
    {
     "name": "stdout",
     "output_type": "stream",
     "text": [
      "Val-Acc=0.8684054534676942\n",
      "Train-Acc=0.8792490118577075\n"
     ]
    },
    {
     "data": {
      "application/vnd.jupyter.widget-view+json": {
       "model_id": "",
       "version_major": 2,
       "version_minor": 0
      },
      "text/plain": [
       "HBox(children=(FloatProgress(value=1.0, bar_style='info', description='Validating', layout=Layout(flex='2'), m…"
      ]
     },
     "metadata": {},
     "output_type": "display_data"
    },
    {
     "name": "stdout",
     "output_type": "stream",
     "text": [
      "Val-Acc=0.8707765263781861\n",
      "Train-Acc=0.8780632411067194\n"
     ]
    },
    {
     "data": {
      "application/vnd.jupyter.widget-view+json": {
       "model_id": "",
       "version_major": 2,
       "version_minor": 0
      },
      "text/plain": [
       "HBox(children=(FloatProgress(value=1.0, bar_style='info', description='Validating', layout=Layout(flex='2'), m…"
      ]
     },
     "metadata": {},
     "output_type": "display_data"
    },
    {
     "name": "stdout",
     "output_type": "stream",
     "text": [
      "Val-Acc=0.8701837581505631\n",
      "Train-Acc=0.8764822134387352\n",
      "\n",
      "Saved model to \"saved_modelsq/19.p\"\n"
     ]
    },
    {
     "name": "stderr",
     "output_type": "stream",
     "text": [
      "[I 2020-07-15 00:04:06,135] Finished trial#19 with value: 0.8701837581505631 with parameters: {'learning_rate': 8.311750850490352e-05, 'p_drop': 0.019979948420426247, 'lr_decay': 0.7550913065200412, 'n_hidden': 862, 'weight_decay': 0.05892584712828884}. Best is trial#12 with value: 0.8921161825726142.\n",
      "GPU available: True, used: True\n",
      "No environment variable for node rank defined. Set as 0.\n",
      "CUDA_VISIBLE_DEVICES: [0]\n",
      "Set SLURM handle signals.\n",
      "\n",
      "   | Name                      | Type                  | Params\n",
      "----------------------------------------------------------------\n",
      "0  | model                     | CRNN8k_D2             | 3 M   \n",
      "1  | model.spec                | MelspectrogramStretch | 0     \n",
      "2  | model.spec.spectrogram    | Spectrogram           | 0     \n",
      "3  | model.spec.mel_scale      | MelScale              | 0     \n",
      "4  | model.spec.stft           | Spectrogram           | 0     \n",
      "5  | model.spec.random_stretch | RandomTimeStretch     | 0     \n",
      "6  | model.spec.complex_norm   | ComplexNorm           | 0     \n",
      "7  | model.spec.norm           | SpecNormalization     | 0     \n",
      "8  | model.convs               | Sequential            | 213 K \n",
      "9  | model.convs.0             | Conv2d                | 320   \n",
      "10 | model.convs.1             | BatchNorm2d           | 64    \n",
      "11 | model.convs.2             | ELU                   | 0     \n",
      "12 | model.convs.3             | Conv2d                | 9 K   \n",
      "13 | model.convs.4             | BatchNorm2d           | 64    \n",
      "14 | model.convs.5             | ELU                   | 0     \n",
      "15 | model.convs.6             | MaxPool2d             | 0     \n",
      "16 | model.convs.7             | Dropout               | 0     \n",
      "17 | model.convs.8             | Conv2d                | 18 K  \n",
      "18 | model.convs.9             | BatchNorm2d           | 128   \n",
      "19 | model.convs.10            | ELU                   | 0     \n",
      "20 | model.convs.11            | Conv2d                | 36 K  \n",
      "21 | model.convs.12            | BatchNorm2d           | 128   \n",
      "22 | model.convs.13            | ELU                   | 0     \n",
      "23 | model.convs.14            | MaxPool2d             | 0     \n",
      "24 | model.convs.15            | Dropout               | 0     \n",
      "25 | model.convs.16            | Conv2d                | 73 K  \n",
      "26 | model.convs.17            | BatchNorm2d           | 256   \n",
      "27 | model.convs.18            | ELU                   | 0     \n",
      "28 | model.convs.19            | MaxPool2d             | 0     \n",
      "29 | model.convs.20            | Dropout               | 0     \n",
      "30 | model.convs.21            | Conv2d                | 73 K  \n",
      "31 | model.convs.22            | BatchNorm2d           | 128   \n",
      "32 | model.convs.23            | ELU                   | 0     \n",
      "33 | model.convs.24            | MaxPool2d             | 0     \n",
      "34 | model.convs.25            | Dropout               | 0     \n",
      "35 | model.LSTMCell            | LSTMCell              | 3 M   \n",
      "36 | model.dense               | Sequential            | 3 K   \n",
      "37 | model.dense.0             | Dropout               | 0     \n",
      "38 | model.dense.1             | BatchNorm1d           | 1 K   \n",
      "39 | model.dense.2             | Linear                | 1 K   \n"
     ]
    },
    {
     "data": {
      "application/vnd.jupyter.widget-view+json": {
       "model_id": "",
       "version_major": 2,
       "version_minor": 0
      },
      "text/plain": [
       "HBox(children=(FloatProgress(value=1.0, bar_style='info', description='Validation sanity check', layout=Layout…"
      ]
     },
     "metadata": {},
     "output_type": "display_data"
    },
    {
     "name": "stdout",
     "output_type": "stream",
     "text": [
      "Val-Acc=0.03793716656787196\n"
     ]
    },
    {
     "data": {
      "application/vnd.jupyter.widget-view+json": {
       "model_id": "d4e66c7f3a7346938b0775064470f626",
       "version_major": 2,
       "version_minor": 0
      },
      "text/plain": [
       "HBox(children=(FloatProgress(value=1.0, bar_style='info', description='Training', layout=Layout(flex='2'), max…"
      ]
     },
     "metadata": {},
     "output_type": "display_data"
    },
    {
     "data": {
      "application/vnd.jupyter.widget-view+json": {
       "model_id": "",
       "version_major": 2,
       "version_minor": 0
      },
      "text/plain": [
       "HBox(children=(FloatProgress(value=1.0, bar_style='info', description='Validating', layout=Layout(flex='2'), m…"
      ]
     },
     "metadata": {},
     "output_type": "display_data"
    },
    {
     "name": "stdout",
     "output_type": "stream",
     "text": [
      "Val-Acc=0.6810906935388263\n",
      "Train-Acc=0.7428853754940712\n"
     ]
    },
    {
     "data": {
      "application/vnd.jupyter.widget-view+json": {
       "model_id": "",
       "version_major": 2,
       "version_minor": 0
      },
      "text/plain": [
       "HBox(children=(FloatProgress(value=1.0, bar_style='info', description='Validating', layout=Layout(flex='2'), m…"
      ]
     },
     "metadata": {},
     "output_type": "display_data"
    },
    {
     "name": "stdout",
     "output_type": "stream",
     "text": [
      "Val-Acc=0.5103734439834025\n"
     ]
    },
    {
     "name": "stderr",
     "output_type": "stream",
     "text": [
      "[I 2020-07-15 00:04:23,091] Setting status of trial#20 as TrialState.PRUNED. Trial was pruned at epoch 1.\n",
      "GPU available: True, used: True\n",
      "No environment variable for node rank defined. Set as 0.\n",
      "CUDA_VISIBLE_DEVICES: [0]\n",
      "Set SLURM handle signals.\n",
      "\n",
      "   | Name                      | Type                  | Params\n",
      "----------------------------------------------------------------\n",
      "0  | model                     | CRNN8k_D2             | 1 M   \n",
      "1  | model.spec                | MelspectrogramStretch | 0     \n",
      "2  | model.spec.spectrogram    | Spectrogram           | 0     \n",
      "3  | model.spec.mel_scale      | MelScale              | 0     \n",
      "4  | model.spec.stft           | Spectrogram           | 0     \n",
      "5  | model.spec.random_stretch | RandomTimeStretch     | 0     \n",
      "6  | model.spec.complex_norm   | ComplexNorm           | 0     \n",
      "7  | model.spec.norm           | SpecNormalization     | 0     \n",
      "8  | model.convs               | Sequential            | 213 K \n",
      "9  | model.convs.0             | Conv2d                | 320   \n",
      "10 | model.convs.1             | BatchNorm2d           | 64    \n",
      "11 | model.convs.2             | ELU                   | 0     \n",
      "12 | model.convs.3             | Conv2d                | 9 K   \n",
      "13 | model.convs.4             | BatchNorm2d           | 64    \n",
      "14 | model.convs.5             | ELU                   | 0     \n",
      "15 | model.convs.6             | MaxPool2d             | 0     \n",
      "16 | model.convs.7             | Dropout               | 0     \n",
      "17 | model.convs.8             | Conv2d                | 18 K  \n",
      "18 | model.convs.9             | BatchNorm2d           | 128   \n",
      "19 | model.convs.10            | ELU                   | 0     \n",
      "20 | model.convs.11            | Conv2d                | 36 K  \n",
      "21 | model.convs.12            | BatchNorm2d           | 128   \n",
      "22 | model.convs.13            | ELU                   | 0     \n",
      "23 | model.convs.14            | MaxPool2d             | 0     \n",
      "24 | model.convs.15            | Dropout               | 0     \n",
      "25 | model.convs.16            | Conv2d                | 73 K  \n",
      "26 | model.convs.17            | BatchNorm2d           | 256   \n",
      "27 | model.convs.18            | ELU                   | 0     \n",
      "28 | model.convs.19            | MaxPool2d             | 0     \n",
      "29 | model.convs.20            | Dropout               | 0     \n",
      "30 | model.convs.21            | Conv2d                | 73 K  \n",
      "31 | model.convs.22            | BatchNorm2d           | 128   \n",
      "32 | model.convs.23            | ELU                   | 0     \n",
      "33 | model.convs.24            | MaxPool2d             | 0     \n",
      "34 | model.convs.25            | Dropout               | 0     \n",
      "35 | model.LSTMCell            | LSTMCell              | 1 M   \n",
      "36 | model.dense               | Sequential            | 2 K   \n",
      "37 | model.dense.0             | Dropout               | 0     \n",
      "38 | model.dense.1             | BatchNorm1d           | 1 K   \n",
      "39 | model.dense.2             | Linear                | 1 K   \n"
     ]
    },
    {
     "data": {
      "application/vnd.jupyter.widget-view+json": {
       "model_id": "",
       "version_major": 2,
       "version_minor": 0
      },
      "text/plain": [
       "HBox(children=(FloatProgress(value=1.0, bar_style='info', description='Validation sanity check', layout=Layout…"
      ]
     },
     "metadata": {},
     "output_type": "display_data"
    },
    {
     "name": "stdout",
     "output_type": "stream",
     "text": [
      "Val-Acc=0.03793716656787196\n"
     ]
    },
    {
     "data": {
      "application/vnd.jupyter.widget-view+json": {
       "model_id": "eab1a25eb3d743b3a91b9f4359b91d3e",
       "version_major": 2,
       "version_minor": 0
      },
      "text/plain": [
       "HBox(children=(FloatProgress(value=1.0, bar_style='info', description='Training', layout=Layout(flex='2'), max…"
      ]
     },
     "metadata": {},
     "output_type": "display_data"
    },
    {
     "data": {
      "application/vnd.jupyter.widget-view+json": {
       "model_id": "",
       "version_major": 2,
       "version_minor": 0
      },
      "text/plain": [
       "HBox(children=(FloatProgress(value=1.0, bar_style='info', description='Validating', layout=Layout(flex='2'), m…"
      ]
     },
     "metadata": {},
     "output_type": "display_data"
    },
    {
     "name": "stdout",
     "output_type": "stream",
     "text": [
      "Val-Acc=0.8275044457617071\n",
      "Train-Acc=0.7770750988142292\n"
     ]
    },
    {
     "data": {
      "application/vnd.jupyter.widget-view+json": {
       "model_id": "",
       "version_major": 2,
       "version_minor": 0
      },
      "text/plain": [
       "HBox(children=(FloatProgress(value=1.0, bar_style='info', description='Validating', layout=Layout(flex='2'), m…"
      ]
     },
     "metadata": {},
     "output_type": "display_data"
    },
    {
     "name": "stdout",
     "output_type": "stream",
     "text": [
      "Val-Acc=0.8174273858921162\n",
      "Train-Acc=0.8090909090909091\n"
     ]
    },
    {
     "data": {
      "application/vnd.jupyter.widget-view+json": {
       "model_id": "",
       "version_major": 2,
       "version_minor": 0
      },
      "text/plain": [
       "HBox(children=(FloatProgress(value=1.0, bar_style='info', description='Validating', layout=Layout(flex='2'), m…"
      ]
     },
     "metadata": {},
     "output_type": "display_data"
    },
    {
     "name": "stdout",
     "output_type": "stream",
     "text": [
      "Val-Acc=0.8423236514522822\n",
      "Train-Acc=0.8260869565217391\n"
     ]
    },
    {
     "data": {
      "application/vnd.jupyter.widget-view+json": {
       "model_id": "",
       "version_major": 2,
       "version_minor": 0
      },
      "text/plain": [
       "HBox(children=(FloatProgress(value=1.0, bar_style='info', description='Validating', layout=Layout(flex='2'), m…"
      ]
     },
     "metadata": {},
     "output_type": "display_data"
    },
    {
     "name": "stdout",
     "output_type": "stream",
     "text": [
      "Val-Acc=0.8559573206876111\n",
      "Train-Acc=0.8446640316205534\n"
     ]
    },
    {
     "data": {
      "application/vnd.jupyter.widget-view+json": {
       "model_id": "",
       "version_major": 2,
       "version_minor": 0
      },
      "text/plain": [
       "HBox(children=(FloatProgress(value=1.0, bar_style='info', description='Validating', layout=Layout(flex='2'), m…"
      ]
     },
     "metadata": {},
     "output_type": "display_data"
    },
    {
     "name": "stdout",
     "output_type": "stream",
     "text": [
      "Val-Acc=0.8630705394190872\n",
      "Train-Acc=0.8474308300395257\n"
     ]
    },
    {
     "data": {
      "application/vnd.jupyter.widget-view+json": {
       "model_id": "",
       "version_major": 2,
       "version_minor": 0
      },
      "text/plain": [
       "HBox(children=(FloatProgress(value=1.0, bar_style='info', description='Validating', layout=Layout(flex='2'), m…"
      ]
     },
     "metadata": {},
     "output_type": "display_data"
    },
    {
     "name": "stdout",
     "output_type": "stream",
     "text": [
      "Val-Acc=0.8642560758743332\n",
      "Train-Acc=0.8523715415019762\n"
     ]
    },
    {
     "data": {
      "application/vnd.jupyter.widget-view+json": {
       "model_id": "",
       "version_major": 2,
       "version_minor": 0
      },
      "text/plain": [
       "HBox(children=(FloatProgress(value=1.0, bar_style='info', description='Validating', layout=Layout(flex='2'), m…"
      ]
     },
     "metadata": {},
     "output_type": "display_data"
    },
    {
     "name": "stdout",
     "output_type": "stream",
     "text": [
      "Val-Acc=0.8684054534676942\n",
      "Train-Acc=0.8565217391304348\n"
     ]
    },
    {
     "data": {
      "application/vnd.jupyter.widget-view+json": {
       "model_id": "",
       "version_major": 2,
       "version_minor": 0
      },
      "text/plain": [
       "HBox(children=(FloatProgress(value=1.0, bar_style='info', description='Validating', layout=Layout(flex='2'), m…"
      ]
     },
     "metadata": {},
     "output_type": "display_data"
    },
    {
     "name": "stdout",
     "output_type": "stream",
     "text": [
      "Val-Acc=0.8684054534676942\n",
      "Train-Acc=0.8594861660079052\n"
     ]
    },
    {
     "data": {
      "application/vnd.jupyter.widget-view+json": {
       "model_id": "",
       "version_major": 2,
       "version_minor": 0
      },
      "text/plain": [
       "HBox(children=(FloatProgress(value=1.0, bar_style='info', description='Validating', layout=Layout(flex='2'), m…"
      ]
     },
     "metadata": {},
     "output_type": "display_data"
    },
    {
     "name": "stdout",
     "output_type": "stream",
     "text": [
      "Val-Acc=0.8684054534676942\n",
      "Train-Acc=0.8622529644268775\n"
     ]
    },
    {
     "data": {
      "application/vnd.jupyter.widget-view+json": {
       "model_id": "",
       "version_major": 2,
       "version_minor": 0
      },
      "text/plain": [
       "HBox(children=(FloatProgress(value=1.0, bar_style='info', description='Validating', layout=Layout(flex='2'), m…"
      ]
     },
     "metadata": {},
     "output_type": "display_data"
    },
    {
     "name": "stdout",
     "output_type": "stream",
     "text": [
      "Val-Acc=0.8689982216953172\n",
      "Train-Acc=0.8652173913043478\n"
     ]
    },
    {
     "data": {
      "application/vnd.jupyter.widget-view+json": {
       "model_id": "",
       "version_major": 2,
       "version_minor": 0
      },
      "text/plain": [
       "HBox(children=(FloatProgress(value=1.0, bar_style='info', description='Validating', layout=Layout(flex='2'), m…"
      ]
     },
     "metadata": {},
     "output_type": "display_data"
    },
    {
     "name": "stdout",
     "output_type": "stream",
     "text": [
      "Val-Acc=0.8719620628334321\n",
      "Train-Acc=0.8652173913043478\n"
     ]
    },
    {
     "data": {
      "application/vnd.jupyter.widget-view+json": {
       "model_id": "",
       "version_major": 2,
       "version_minor": 0
      },
      "text/plain": [
       "HBox(children=(FloatProgress(value=1.0, bar_style='info', description='Validating', layout=Layout(flex='2'), m…"
      ]
     },
     "metadata": {},
     "output_type": "display_data"
    },
    {
     "name": "stdout",
     "output_type": "stream",
     "text": [
      "Val-Acc=0.8689982216953172\n",
      "Train-Acc=0.8624505928853755\n"
     ]
    },
    {
     "data": {
      "application/vnd.jupyter.widget-view+json": {
       "model_id": "",
       "version_major": 2,
       "version_minor": 0
      },
      "text/plain": [
       "HBox(children=(FloatProgress(value=1.0, bar_style='info', description='Validating', layout=Layout(flex='2'), m…"
      ]
     },
     "metadata": {},
     "output_type": "display_data"
    },
    {
     "name": "stdout",
     "output_type": "stream",
     "text": [
      "Val-Acc=0.8672199170124482\n",
      "Train-Acc=0.8683794466403162\n"
     ]
    },
    {
     "data": {
      "application/vnd.jupyter.widget-view+json": {
       "model_id": "",
       "version_major": 2,
       "version_minor": 0
      },
      "text/plain": [
       "HBox(children=(FloatProgress(value=1.0, bar_style='info', description='Validating', layout=Layout(flex='2'), m…"
      ]
     },
     "metadata": {},
     "output_type": "display_data"
    },
    {
     "name": "stdout",
     "output_type": "stream",
     "text": [
      "Val-Acc=0.8707765263781861\n",
      "Train-Acc=0.8673913043478261\n"
     ]
    },
    {
     "data": {
      "application/vnd.jupyter.widget-view+json": {
       "model_id": "",
       "version_major": 2,
       "version_minor": 0
      },
      "text/plain": [
       "HBox(children=(FloatProgress(value=1.0, bar_style='info', description='Validating', layout=Layout(flex='2'), m…"
      ]
     },
     "metadata": {},
     "output_type": "display_data"
    },
    {
     "name": "stdout",
     "output_type": "stream",
     "text": [
      "Val-Acc=0.8672199170124482\n",
      "Train-Acc=0.8727272727272727\n",
      "\n",
      "Saved model to \"saved_modelsq/21.p\"\n"
     ]
    },
    {
     "name": "stderr",
     "output_type": "stream",
     "text": [
      "[I 2020-07-15 00:06:24,258] Finished trial#21 with value: 0.8672199170124482 with parameters: {'learning_rate': 0.0003759654815899238, 'p_drop': 0.30398065501205496, 'lr_decay': 0.7742451892543227, 'n_hidden': 526, 'weight_decay': 0.0020193382786935325}. Best is trial#12 with value: 0.8921161825726142.\n",
      "GPU available: True, used: True\n",
      "No environment variable for node rank defined. Set as 0.\n",
      "CUDA_VISIBLE_DEVICES: [0]\n",
      "Set SLURM handle signals.\n",
      "\n",
      "   | Name                      | Type                  | Params\n",
      "----------------------------------------------------------------\n",
      "0  | model                     | CRNN8k_D2             | 4 M   \n",
      "1  | model.spec                | MelspectrogramStretch | 0     \n",
      "2  | model.spec.spectrogram    | Spectrogram           | 0     \n",
      "3  | model.spec.mel_scale      | MelScale              | 0     \n",
      "4  | model.spec.stft           | Spectrogram           | 0     \n",
      "5  | model.spec.random_stretch | RandomTimeStretch     | 0     \n",
      "6  | model.spec.complex_norm   | ComplexNorm           | 0     \n",
      "7  | model.spec.norm           | SpecNormalization     | 0     \n",
      "8  | model.convs               | Sequential            | 213 K \n",
      "9  | model.convs.0             | Conv2d                | 320   \n",
      "10 | model.convs.1             | BatchNorm2d           | 64    \n",
      "11 | model.convs.2             | ELU                   | 0     \n",
      "12 | model.convs.3             | Conv2d                | 9 K   \n",
      "13 | model.convs.4             | BatchNorm2d           | 64    \n",
      "14 | model.convs.5             | ELU                   | 0     \n",
      "15 | model.convs.6             | MaxPool2d             | 0     \n",
      "16 | model.convs.7             | Dropout               | 0     \n",
      "17 | model.convs.8             | Conv2d                | 18 K  \n",
      "18 | model.convs.9             | BatchNorm2d           | 128   \n",
      "19 | model.convs.10            | ELU                   | 0     \n",
      "20 | model.convs.11            | Conv2d                | 36 K  \n",
      "21 | model.convs.12            | BatchNorm2d           | 128   \n",
      "22 | model.convs.13            | ELU                   | 0     \n",
      "23 | model.convs.14            | MaxPool2d             | 0     \n",
      "24 | model.convs.15            | Dropout               | 0     \n",
      "25 | model.convs.16            | Conv2d                | 73 K  \n",
      "26 | model.convs.17            | BatchNorm2d           | 256   \n",
      "27 | model.convs.18            | ELU                   | 0     \n",
      "28 | model.convs.19            | MaxPool2d             | 0     \n",
      "29 | model.convs.20            | Dropout               | 0     \n",
      "30 | model.convs.21            | Conv2d                | 73 K  \n",
      "31 | model.convs.22            | BatchNorm2d           | 128   \n",
      "32 | model.convs.23            | ELU                   | 0     \n",
      "33 | model.convs.24            | MaxPool2d             | 0     \n",
      "34 | model.convs.25            | Dropout               | 0     \n",
      "35 | model.LSTMCell            | LSTMCell              | 4 M   \n",
      "36 | model.dense               | Sequential            | 3 K   \n",
      "37 | model.dense.0             | Dropout               | 0     \n",
      "38 | model.dense.1             | BatchNorm1d           | 1 K   \n",
      "39 | model.dense.2             | Linear                | 1 K   \n"
     ]
    },
    {
     "data": {
      "application/vnd.jupyter.widget-view+json": {
       "model_id": "",
       "version_major": 2,
       "version_minor": 0
      },
      "text/plain": [
       "HBox(children=(FloatProgress(value=1.0, bar_style='info', description='Validation sanity check', layout=Layout…"
      ]
     },
     "metadata": {},
     "output_type": "display_data"
    },
    {
     "name": "stdout",
     "output_type": "stream",
     "text": [
      "Val-Acc=0.03793716656787196\n"
     ]
    },
    {
     "data": {
      "application/vnd.jupyter.widget-view+json": {
       "model_id": "b5e3991f46254be1b287b409c21787e0",
       "version_major": 2,
       "version_minor": 0
      },
      "text/plain": [
       "HBox(children=(FloatProgress(value=1.0, bar_style='info', description='Training', layout=Layout(flex='2'), max…"
      ]
     },
     "metadata": {},
     "output_type": "display_data"
    },
    {
     "data": {
      "application/vnd.jupyter.widget-view+json": {
       "model_id": "",
       "version_major": 2,
       "version_minor": 0
      },
      "text/plain": [
       "HBox(children=(FloatProgress(value=1.0, bar_style='info', description='Validating', layout=Layout(flex='2'), m…"
      ]
     },
     "metadata": {},
     "output_type": "display_data"
    },
    {
     "name": "stdout",
     "output_type": "stream",
     "text": [
      "Val-Acc=0.7089508002371073\n",
      "Train-Acc=0.7533596837944664\n"
     ]
    },
    {
     "data": {
      "application/vnd.jupyter.widget-view+json": {
       "model_id": "",
       "version_major": 2,
       "version_minor": 0
      },
      "text/plain": [
       "HBox(children=(FloatProgress(value=1.0, bar_style='info', description='Validating', layout=Layout(flex='2'), m…"
      ]
     },
     "metadata": {},
     "output_type": "display_data"
    },
    {
     "name": "stdout",
     "output_type": "stream",
     "text": [
      "Val-Acc=0.6727919383521044\n"
     ]
    },
    {
     "name": "stderr",
     "output_type": "stream",
     "text": [
      "[I 2020-07-15 00:06:40,772] Setting status of trial#22 as TrialState.PRUNED. Trial was pruned at epoch 1.\n",
      "GPU available: True, used: True\n",
      "No environment variable for node rank defined. Set as 0.\n",
      "CUDA_VISIBLE_DEVICES: [0]\n",
      "Set SLURM handle signals.\n",
      "\n",
      "   | Name                      | Type                  | Params\n",
      "----------------------------------------------------------------\n",
      "0  | model                     | CRNN8k_D2             | 5 M   \n",
      "1  | model.spec                | MelspectrogramStretch | 0     \n",
      "2  | model.spec.spectrogram    | Spectrogram           | 0     \n",
      "3  | model.spec.mel_scale      | MelScale              | 0     \n",
      "4  | model.spec.stft           | Spectrogram           | 0     \n",
      "5  | model.spec.random_stretch | RandomTimeStretch     | 0     \n",
      "6  | model.spec.complex_norm   | ComplexNorm           | 0     \n",
      "7  | model.spec.norm           | SpecNormalization     | 0     \n",
      "8  | model.convs               | Sequential            | 213 K \n",
      "9  | model.convs.0             | Conv2d                | 320   \n",
      "10 | model.convs.1             | BatchNorm2d           | 64    \n",
      "11 | model.convs.2             | ELU                   | 0     \n",
      "12 | model.convs.3             | Conv2d                | 9 K   \n",
      "13 | model.convs.4             | BatchNorm2d           | 64    \n",
      "14 | model.convs.5             | ELU                   | 0     \n",
      "15 | model.convs.6             | MaxPool2d             | 0     \n",
      "16 | model.convs.7             | Dropout               | 0     \n",
      "17 | model.convs.8             | Conv2d                | 18 K  \n",
      "18 | model.convs.9             | BatchNorm2d           | 128   \n",
      "19 | model.convs.10            | ELU                   | 0     \n",
      "20 | model.convs.11            | Conv2d                | 36 K  \n",
      "21 | model.convs.12            | BatchNorm2d           | 128   \n",
      "22 | model.convs.13            | ELU                   | 0     \n",
      "23 | model.convs.14            | MaxPool2d             | 0     \n",
      "24 | model.convs.15            | Dropout               | 0     \n",
      "25 | model.convs.16            | Conv2d                | 73 K  \n",
      "26 | model.convs.17            | BatchNorm2d           | 256   \n",
      "27 | model.convs.18            | ELU                   | 0     \n",
      "28 | model.convs.19            | MaxPool2d             | 0     \n",
      "29 | model.convs.20            | Dropout               | 0     \n",
      "30 | model.convs.21            | Conv2d                | 73 K  \n",
      "31 | model.convs.22            | BatchNorm2d           | 128   \n",
      "32 | model.convs.23            | ELU                   | 0     \n",
      "33 | model.convs.24            | MaxPool2d             | 0     \n",
      "34 | model.convs.25            | Dropout               | 0     \n",
      "35 | model.LSTMCell            | LSTMCell              | 4 M   \n",
      "36 | model.dense               | Sequential            | 3 K   \n",
      "37 | model.dense.0             | Dropout               | 0     \n",
      "38 | model.dense.1             | BatchNorm1d           | 1 K   \n",
      "39 | model.dense.2             | Linear                | 1 K   \n"
     ]
    },
    {
     "data": {
      "application/vnd.jupyter.widget-view+json": {
       "model_id": "",
       "version_major": 2,
       "version_minor": 0
      },
      "text/plain": [
       "HBox(children=(FloatProgress(value=1.0, bar_style='info', description='Validation sanity check', layout=Layout…"
      ]
     },
     "metadata": {},
     "output_type": "display_data"
    },
    {
     "name": "stdout",
     "output_type": "stream",
     "text": [
      "Val-Acc=0.03793716656787196\n"
     ]
    },
    {
     "data": {
      "application/vnd.jupyter.widget-view+json": {
       "model_id": "b99071cc4c3d4a7385f40f710c4bc986",
       "version_major": 2,
       "version_minor": 0
      },
      "text/plain": [
       "HBox(children=(FloatProgress(value=1.0, bar_style='info', description='Training', layout=Layout(flex='2'), max…"
      ]
     },
     "metadata": {},
     "output_type": "display_data"
    },
    {
     "data": {
      "application/vnd.jupyter.widget-view+json": {
       "model_id": "",
       "version_major": 2,
       "version_minor": 0
      },
      "text/plain": [
       "HBox(children=(FloatProgress(value=1.0, bar_style='info', description='Validating', layout=Layout(flex='2'), m…"
      ]
     },
     "metadata": {},
     "output_type": "display_data"
    },
    {
     "name": "stdout",
     "output_type": "stream",
     "text": [
      "Val-Acc=0.7860106698280972\n",
      "Train-Acc=0.7839920948616601\n"
     ]
    },
    {
     "data": {
      "application/vnd.jupyter.widget-view+json": {
       "model_id": "",
       "version_major": 2,
       "version_minor": 0
      },
      "text/plain": [
       "HBox(children=(FloatProgress(value=1.0, bar_style='info', description='Validating', layout=Layout(flex='2'), m…"
      ]
     },
     "metadata": {},
     "output_type": "display_data"
    },
    {
     "name": "stdout",
     "output_type": "stream",
     "text": [
      "Val-Acc=0.8085358624777712\n",
      "Train-Acc=0.825296442687747\n"
     ]
    },
    {
     "data": {
      "application/vnd.jupyter.widget-view+json": {
       "model_id": "",
       "version_major": 2,
       "version_minor": 0
      },
      "text/plain": [
       "HBox(children=(FloatProgress(value=1.0, bar_style='info', description='Validating', layout=Layout(flex='2'), m…"
      ]
     },
     "metadata": {},
     "output_type": "display_data"
    },
    {
     "name": "stdout",
     "output_type": "stream",
     "text": [
      "Val-Acc=0.8494368701837581\n",
      "Train-Acc=0.8492094861660079\n"
     ]
    },
    {
     "data": {
      "application/vnd.jupyter.widget-view+json": {
       "model_id": "",
       "version_major": 2,
       "version_minor": 0
      },
      "text/plain": [
       "HBox(children=(FloatProgress(value=1.0, bar_style='info', description='Validating', layout=Layout(flex='2'), m…"
      ]
     },
     "metadata": {},
     "output_type": "display_data"
    },
    {
     "name": "stdout",
     "output_type": "stream",
     "text": [
      "Val-Acc=0.8642560758743332\n",
      "Train-Acc=0.8565217391304348\n"
     ]
    },
    {
     "data": {
      "application/vnd.jupyter.widget-view+json": {
       "model_id": "",
       "version_major": 2,
       "version_minor": 0
      },
      "text/plain": [
       "HBox(children=(FloatProgress(value=1.0, bar_style='info', description='Validating', layout=Layout(flex='2'), m…"
      ]
     },
     "metadata": {},
     "output_type": "display_data"
    },
    {
     "name": "stdout",
     "output_type": "stream",
     "text": [
      "Val-Acc=0.8826318909306461\n",
      "Train-Acc=0.8650197628458498\n"
     ]
    },
    {
     "data": {
      "application/vnd.jupyter.widget-view+json": {
       "model_id": "",
       "version_major": 2,
       "version_minor": 0
      },
      "text/plain": [
       "HBox(children=(FloatProgress(value=1.0, bar_style='info', description='Validating', layout=Layout(flex='2'), m…"
      ]
     },
     "metadata": {},
     "output_type": "display_data"
    },
    {
     "name": "stdout",
     "output_type": "stream",
     "text": [
      "Val-Acc=0.8203912270302312\n",
      "Train-Acc=0.8719367588932806\n"
     ]
    },
    {
     "data": {
      "application/vnd.jupyter.widget-view+json": {
       "model_id": "",
       "version_major": 2,
       "version_minor": 0
      },
      "text/plain": [
       "HBox(children=(FloatProgress(value=1.0, bar_style='info', description='Validating', layout=Layout(flex='2'), m…"
      ]
     },
     "metadata": {},
     "output_type": "display_data"
    },
    {
     "name": "stdout",
     "output_type": "stream",
     "text": [
      "Val-Acc=0.8322465915826912\n",
      "Train-Acc=0.8745059288537549\n"
     ]
    },
    {
     "data": {
      "application/vnd.jupyter.widget-view+json": {
       "model_id": "",
       "version_major": 2,
       "version_minor": 0
      },
      "text/plain": [
       "HBox(children=(FloatProgress(value=1.0, bar_style='info', description='Validating', layout=Layout(flex='2'), m…"
      ]
     },
     "metadata": {},
     "output_type": "display_data"
    },
    {
     "name": "stdout",
     "output_type": "stream",
     "text": [
      "Val-Acc=0.8618850029638412\n",
      "Train-Acc=0.8810276679841897\n"
     ]
    },
    {
     "data": {
      "application/vnd.jupyter.widget-view+json": {
       "model_id": "",
       "version_major": 2,
       "version_minor": 0
      },
      "text/plain": [
       "HBox(children=(FloatProgress(value=1.0, bar_style='info', description='Validating', layout=Layout(flex='2'), m…"
      ]
     },
     "metadata": {},
     "output_type": "display_data"
    },
    {
     "name": "stdout",
     "output_type": "stream",
     "text": [
      "Val-Acc=0.8761114404267931\n",
      "Train-Acc=0.8837944664031621\n"
     ]
    },
    {
     "data": {
      "application/vnd.jupyter.widget-view+json": {
       "model_id": "",
       "version_major": 2,
       "version_minor": 0
      },
      "text/plain": [
       "HBox(children=(FloatProgress(value=1.0, bar_style='info', description='Validating', layout=Layout(flex='2'), m…"
      ]
     },
     "metadata": {},
     "output_type": "display_data"
    },
    {
     "name": "stdout",
     "output_type": "stream",
     "text": [
      "Val-Acc=0.8778897451096621\n",
      "Train-Acc=0.8897233201581027\n"
     ]
    },
    {
     "data": {
      "application/vnd.jupyter.widget-view+json": {
       "model_id": "",
       "version_major": 2,
       "version_minor": 0
      },
      "text/plain": [
       "HBox(children=(FloatProgress(value=1.0, bar_style='info', description='Validating', layout=Layout(flex='2'), m…"
      ]
     },
     "metadata": {},
     "output_type": "display_data"
    },
    {
     "name": "stdout",
     "output_type": "stream",
     "text": [
      "Val-Acc=0.8755186721991701\n",
      "Train-Acc=0.8903162055335968\n"
     ]
    },
    {
     "data": {
      "application/vnd.jupyter.widget-view+json": {
       "model_id": "",
       "version_major": 2,
       "version_minor": 0
      },
      "text/plain": [
       "HBox(children=(FloatProgress(value=1.0, bar_style='info', description='Validating', layout=Layout(flex='2'), m…"
      ]
     },
     "metadata": {},
     "output_type": "display_data"
    },
    {
     "name": "stdout",
     "output_type": "stream",
     "text": [
      "Val-Acc=0.8719620628334321\n",
      "Train-Acc=0.8952569169960475\n"
     ]
    },
    {
     "data": {
      "application/vnd.jupyter.widget-view+json": {
       "model_id": "",
       "version_major": 2,
       "version_minor": 0
      },
      "text/plain": [
       "HBox(children=(FloatProgress(value=1.0, bar_style='info', description='Validating', layout=Layout(flex='2'), m…"
      ]
     },
     "metadata": {},
     "output_type": "display_data"
    },
    {
     "name": "stdout",
     "output_type": "stream",
     "text": [
      "Val-Acc=0.8938944872554832\n",
      "Train-Acc=0.8990118577075099\n",
      "new best val acc 0.8938944872554832\n",
      "Saved model to \"optuna_crnn8kd2_0.8938944872554832.p\"\n",
      "Saved checkpoint at epoch 13 at \"optuna_crnn8kd2_0.8938944872554832.p\"\n"
     ]
    },
    {
     "data": {
      "application/vnd.jupyter.widget-view+json": {
       "model_id": "",
       "version_major": 2,
       "version_minor": 0
      },
      "text/plain": [
       "HBox(children=(FloatProgress(value=1.0, bar_style='info', description='Validating', layout=Layout(flex='2'), m…"
      ]
     },
     "metadata": {},
     "output_type": "display_data"
    },
    {
     "name": "stdout",
     "output_type": "stream",
     "text": [
      "Val-Acc=0.8790752815649081\n",
      "Train-Acc=0.9017786561264822\n"
     ]
    },
    {
     "data": {
      "application/vnd.jupyter.widget-view+json": {
       "model_id": "",
       "version_major": 2,
       "version_minor": 0
      },
      "text/plain": [
       "HBox(children=(FloatProgress(value=1.0, bar_style='info', description='Validating', layout=Layout(flex='2'), m…"
      ]
     },
     "metadata": {},
     "output_type": "display_data"
    },
    {
     "name": "stdout",
     "output_type": "stream",
     "text": [
      "Val-Acc=0.8808535862477771\n",
      "Train-Acc=0.9140316205533597\n",
      "\n",
      "Saved model to \"saved_modelsq/23.p\"\n"
     ]
    },
    {
     "name": "stderr",
     "output_type": "stream",
     "text": [
      "[I 2020-07-15 00:08:43,157] Finished trial#23 with value: 0.8808535862477771 with parameters: {'learning_rate': 0.0009920327966608995, 'p_drop': 0.11566280809929813, 'lr_decay': 0.7769167405292339, 'n_hidden': 953, 'weight_decay': 0.020863607474963235}. Best is trial#12 with value: 0.8921161825726142.\n",
      "GPU available: True, used: True\n",
      "No environment variable for node rank defined. Set as 0.\n",
      "CUDA_VISIBLE_DEVICES: [0]\n",
      "Set SLURM handle signals.\n",
      "\n",
      "   | Name                      | Type                  | Params\n",
      "----------------------------------------------------------------\n",
      "0  | model                     | CRNN8k_D2             | 3 M   \n",
      "1  | model.spec                | MelspectrogramStretch | 0     \n",
      "2  | model.spec.spectrogram    | Spectrogram           | 0     \n",
      "3  | model.spec.mel_scale      | MelScale              | 0     \n",
      "4  | model.spec.stft           | Spectrogram           | 0     \n",
      "5  | model.spec.random_stretch | RandomTimeStretch     | 0     \n",
      "6  | model.spec.complex_norm   | ComplexNorm           | 0     \n",
      "7  | model.spec.norm           | SpecNormalization     | 0     \n",
      "8  | model.convs               | Sequential            | 213 K \n",
      "9  | model.convs.0             | Conv2d                | 320   \n",
      "10 | model.convs.1             | BatchNorm2d           | 64    \n",
      "11 | model.convs.2             | ELU                   | 0     \n",
      "12 | model.convs.3             | Conv2d                | 9 K   \n",
      "13 | model.convs.4             | BatchNorm2d           | 64    \n",
      "14 | model.convs.5             | ELU                   | 0     \n",
      "15 | model.convs.6             | MaxPool2d             | 0     \n",
      "16 | model.convs.7             | Dropout               | 0     \n",
      "17 | model.convs.8             | Conv2d                | 18 K  \n",
      "18 | model.convs.9             | BatchNorm2d           | 128   \n",
      "19 | model.convs.10            | ELU                   | 0     \n",
      "20 | model.convs.11            | Conv2d                | 36 K  \n",
      "21 | model.convs.12            | BatchNorm2d           | 128   \n",
      "22 | model.convs.13            | ELU                   | 0     \n",
      "23 | model.convs.14            | MaxPool2d             | 0     \n",
      "24 | model.convs.15            | Dropout               | 0     \n",
      "25 | model.convs.16            | Conv2d                | 73 K  \n",
      "26 | model.convs.17            | BatchNorm2d           | 256   \n",
      "27 | model.convs.18            | ELU                   | 0     \n",
      "28 | model.convs.19            | MaxPool2d             | 0     \n",
      "29 | model.convs.20            | Dropout               | 0     \n",
      "30 | model.convs.21            | Conv2d                | 73 K  \n",
      "31 | model.convs.22            | BatchNorm2d           | 128   \n",
      "32 | model.convs.23            | ELU                   | 0     \n",
      "33 | model.convs.24            | MaxPool2d             | 0     \n",
      "34 | model.convs.25            | Dropout               | 0     \n",
      "35 | model.LSTMCell            | LSTMCell              | 3 M   \n",
      "36 | model.dense               | Sequential            | 3 K   \n",
      "37 | model.dense.0             | Dropout               | 0     \n",
      "38 | model.dense.1             | BatchNorm1d           | 1 K   \n",
      "39 | model.dense.2             | Linear                | 1 K   \n"
     ]
    },
    {
     "data": {
      "application/vnd.jupyter.widget-view+json": {
       "model_id": "",
       "version_major": 2,
       "version_minor": 0
      },
      "text/plain": [
       "HBox(children=(FloatProgress(value=1.0, bar_style='info', description='Validation sanity check', layout=Layout…"
      ]
     },
     "metadata": {},
     "output_type": "display_data"
    },
    {
     "name": "stdout",
     "output_type": "stream",
     "text": [
      "Val-Acc=0.036751630112625965\n"
     ]
    },
    {
     "data": {
      "application/vnd.jupyter.widget-view+json": {
       "model_id": "ac87ff109aaa4de994f40f42c31e8468",
       "version_major": 2,
       "version_minor": 0
      },
      "text/plain": [
       "HBox(children=(FloatProgress(value=1.0, bar_style='info', description='Training', layout=Layout(flex='2'), max…"
      ]
     },
     "metadata": {},
     "output_type": "display_data"
    },
    {
     "data": {
      "application/vnd.jupyter.widget-view+json": {
       "model_id": "",
       "version_major": 2,
       "version_minor": 0
      },
      "text/plain": [
       "HBox(children=(FloatProgress(value=1.0, bar_style='info', description='Validating', layout=Layout(flex='2'), m…"
      ]
     },
     "metadata": {},
     "output_type": "display_data"
    },
    {
     "name": "stdout",
     "output_type": "stream",
     "text": [
      "Val-Acc=0.8215767634854771\n",
      "Train-Acc=0.7776679841897233\n"
     ]
    },
    {
     "data": {
      "application/vnd.jupyter.widget-view+json": {
       "model_id": "",
       "version_major": 2,
       "version_minor": 0
      },
      "text/plain": [
       "HBox(children=(FloatProgress(value=1.0, bar_style='info', description='Validating', layout=Layout(flex='2'), m…"
      ]
     },
     "metadata": {},
     "output_type": "display_data"
    },
    {
     "name": "stdout",
     "output_type": "stream",
     "text": [
      "Val-Acc=0.8363959691760522\n",
      "Train-Acc=0.8112648221343873\n"
     ]
    },
    {
     "data": {
      "application/vnd.jupyter.widget-view+json": {
       "model_id": "",
       "version_major": 2,
       "version_minor": 0
      },
      "text/plain": [
       "HBox(children=(FloatProgress(value=1.0, bar_style='info', description='Validating', layout=Layout(flex='2'), m…"
      ]
     },
     "metadata": {},
     "output_type": "display_data"
    },
    {
     "name": "stdout",
     "output_type": "stream",
     "text": [
      "Val-Acc=0.8494368701837581\n",
      "Train-Acc=0.8160079051383399\n"
     ]
    },
    {
     "data": {
      "application/vnd.jupyter.widget-view+json": {
       "model_id": "",
       "version_major": 2,
       "version_minor": 0
      },
      "text/plain": [
       "HBox(children=(FloatProgress(value=1.0, bar_style='info', description='Validating', layout=Layout(flex='2'), m…"
      ]
     },
     "metadata": {},
     "output_type": "display_data"
    },
    {
     "name": "stdout",
     "output_type": "stream",
     "text": [
      "Val-Acc=0.8352104327208062\n",
      "Train-Acc=0.8326086956521739\n"
     ]
    },
    {
     "data": {
      "application/vnd.jupyter.widget-view+json": {
       "model_id": "",
       "version_major": 2,
       "version_minor": 0
      },
      "text/plain": [
       "HBox(children=(FloatProgress(value=1.0, bar_style='info', description='Validating', layout=Layout(flex='2'), m…"
      ]
     },
     "metadata": {},
     "output_type": "display_data"
    },
    {
     "name": "stdout",
     "output_type": "stream",
     "text": [
      "Val-Acc=0.8529934795494961\n",
      "Train-Acc=0.8328063241106719\n"
     ]
    },
    {
     "data": {
      "application/vnd.jupyter.widget-view+json": {
       "model_id": "",
       "version_major": 2,
       "version_minor": 0
      },
      "text/plain": [
       "HBox(children=(FloatProgress(value=1.0, bar_style='info', description='Validating', layout=Layout(flex='2'), m…"
      ]
     },
     "metadata": {},
     "output_type": "display_data"
    },
    {
     "name": "stdout",
     "output_type": "stream",
     "text": [
      "Val-Acc=0.8559573206876111\n",
      "Train-Acc=0.8361660079051383\n"
     ]
    },
    {
     "data": {
      "application/vnd.jupyter.widget-view+json": {
       "model_id": "",
       "version_major": 2,
       "version_minor": 0
      },
      "text/plain": [
       "HBox(children=(FloatProgress(value=1.0, bar_style='info', description='Validating', layout=Layout(flex='2'), m…"
      ]
     },
     "metadata": {},
     "output_type": "display_data"
    },
    {
     "name": "stdout",
     "output_type": "stream",
     "text": [
      "Val-Acc=0.8612922347362182\n",
      "Train-Acc=0.8420948616600791\n"
     ]
    },
    {
     "data": {
      "application/vnd.jupyter.widget-view+json": {
       "model_id": "",
       "version_major": 2,
       "version_minor": 0
      },
      "text/plain": [
       "HBox(children=(FloatProgress(value=1.0, bar_style='info', description='Validating', layout=Layout(flex='2'), m…"
      ]
     },
     "metadata": {},
     "output_type": "display_data"
    },
    {
     "name": "stdout",
     "output_type": "stream",
     "text": [
      "Val-Acc=0.8612922347362182\n",
      "Train-Acc=0.8452569169960474\n"
     ]
    },
    {
     "data": {
      "application/vnd.jupyter.widget-view+json": {
       "model_id": "",
       "version_major": 2,
       "version_minor": 0
      },
      "text/plain": [
       "HBox(children=(FloatProgress(value=1.0, bar_style='info', description='Validating', layout=Layout(flex='2'), m…"
      ]
     },
     "metadata": {},
     "output_type": "display_data"
    },
    {
     "name": "stdout",
     "output_type": "stream",
     "text": [
      "Val-Acc=0.8589211618257261\n"
     ]
    },
    {
     "name": "stderr",
     "output_type": "stream",
     "text": [
      "[I 2020-07-15 00:09:58,932] Setting status of trial#24 as TrialState.PRUNED. Trial was pruned at epoch 8.\n",
      "GPU available: True, used: True\n",
      "No environment variable for node rank defined. Set as 0.\n",
      "CUDA_VISIBLE_DEVICES: [0]\n",
      "Set SLURM handle signals.\n",
      "\n",
      "   | Name                      | Type                  | Params\n",
      "----------------------------------------------------------------\n",
      "0  | model                     | CRNN8k_D2             | 5 M   \n",
      "1  | model.spec                | MelspectrogramStretch | 0     \n",
      "2  | model.spec.spectrogram    | Spectrogram           | 0     \n",
      "3  | model.spec.mel_scale      | MelScale              | 0     \n",
      "4  | model.spec.stft           | Spectrogram           | 0     \n",
      "5  | model.spec.random_stretch | RandomTimeStretch     | 0     \n",
      "6  | model.spec.complex_norm   | ComplexNorm           | 0     \n",
      "7  | model.spec.norm           | SpecNormalization     | 0     \n",
      "8  | model.convs               | Sequential            | 213 K \n",
      "9  | model.convs.0             | Conv2d                | 320   \n",
      "10 | model.convs.1             | BatchNorm2d           | 64    \n",
      "11 | model.convs.2             | ELU                   | 0     \n",
      "12 | model.convs.3             | Conv2d                | 9 K   \n",
      "13 | model.convs.4             | BatchNorm2d           | 64    \n",
      "14 | model.convs.5             | ELU                   | 0     \n",
      "15 | model.convs.6             | MaxPool2d             | 0     \n",
      "16 | model.convs.7             | Dropout               | 0     \n",
      "17 | model.convs.8             | Conv2d                | 18 K  \n",
      "18 | model.convs.9             | BatchNorm2d           | 128   \n",
      "19 | model.convs.10            | ELU                   | 0     \n",
      "20 | model.convs.11            | Conv2d                | 36 K  \n",
      "21 | model.convs.12            | BatchNorm2d           | 128   \n",
      "22 | model.convs.13            | ELU                   | 0     \n",
      "23 | model.convs.14            | MaxPool2d             | 0     \n",
      "24 | model.convs.15            | Dropout               | 0     \n",
      "25 | model.convs.16            | Conv2d                | 73 K  \n",
      "26 | model.convs.17            | BatchNorm2d           | 256   \n",
      "27 | model.convs.18            | ELU                   | 0     \n",
      "28 | model.convs.19            | MaxPool2d             | 0     \n",
      "29 | model.convs.20            | Dropout               | 0     \n",
      "30 | model.convs.21            | Conv2d                | 73 K  \n",
      "31 | model.convs.22            | BatchNorm2d           | 128   \n",
      "32 | model.convs.23            | ELU                   | 0     \n",
      "33 | model.convs.24            | MaxPool2d             | 0     \n",
      "34 | model.convs.25            | Dropout               | 0     \n",
      "35 | model.LSTMCell            | LSTMCell              | 5 M   \n",
      "36 | model.dense               | Sequential            | 3 K   \n",
      "37 | model.dense.0             | Dropout               | 0     \n",
      "38 | model.dense.1             | BatchNorm1d           | 1 K   \n",
      "39 | model.dense.2             | Linear                | 1 K   \n"
     ]
    },
    {
     "data": {
      "application/vnd.jupyter.widget-view+json": {
       "model_id": "",
       "version_major": 2,
       "version_minor": 0
      },
      "text/plain": [
       "HBox(children=(FloatProgress(value=1.0, bar_style='info', description='Validation sanity check', layout=Layout…"
      ]
     },
     "metadata": {},
     "output_type": "display_data"
    },
    {
     "name": "stdout",
     "output_type": "stream",
     "text": [
      "Val-Acc=0.03793716656787196\n"
     ]
    },
    {
     "data": {
      "application/vnd.jupyter.widget-view+json": {
       "model_id": "d5ee9ebb4b7846abb8657083b0440c37",
       "version_major": 2,
       "version_minor": 0
      },
      "text/plain": [
       "HBox(children=(FloatProgress(value=1.0, bar_style='info', description='Training', layout=Layout(flex='2'), max…"
      ]
     },
     "metadata": {},
     "output_type": "display_data"
    },
    {
     "data": {
      "application/vnd.jupyter.widget-view+json": {
       "model_id": "",
       "version_major": 2,
       "version_minor": 0
      },
      "text/plain": [
       "HBox(children=(FloatProgress(value=1.0, bar_style='info', description='Validating', layout=Layout(flex='2'), m…"
      ]
     },
     "metadata": {},
     "output_type": "display_data"
    },
    {
     "name": "stdout",
     "output_type": "stream",
     "text": [
      "Val-Acc=0.5103734439834025\n",
      "Train-Acc=0.7324110671936759\n"
     ]
    },
    {
     "data": {
      "application/vnd.jupyter.widget-view+json": {
       "model_id": "",
       "version_major": 2,
       "version_minor": 0
      },
      "text/plain": [
       "HBox(children=(FloatProgress(value=1.0, bar_style='info', description='Validating', layout=Layout(flex='2'), m…"
      ]
     },
     "metadata": {},
     "output_type": "display_data"
    },
    {
     "name": "stdout",
     "output_type": "stream",
     "text": [
      "Val-Acc=0.7925311203319502\n"
     ]
    },
    {
     "name": "stderr",
     "output_type": "stream",
     "text": [
      "[I 2020-07-15 00:10:16,271] Setting status of trial#25 as TrialState.PRUNED. Trial was pruned at epoch 1.\n",
      "GPU available: True, used: True\n",
      "No environment variable for node rank defined. Set as 0.\n",
      "CUDA_VISIBLE_DEVICES: [0]\n",
      "Set SLURM handle signals.\n",
      "\n",
      "   | Name                      | Type                  | Params\n",
      "----------------------------------------------------------------\n",
      "0  | model                     | CRNN8k_D2             | 2 M   \n",
      "1  | model.spec                | MelspectrogramStretch | 0     \n",
      "2  | model.spec.spectrogram    | Spectrogram           | 0     \n",
      "3  | model.spec.mel_scale      | MelScale              | 0     \n",
      "4  | model.spec.stft           | Spectrogram           | 0     \n",
      "5  | model.spec.random_stretch | RandomTimeStretch     | 0     \n",
      "6  | model.spec.complex_norm   | ComplexNorm           | 0     \n",
      "7  | model.spec.norm           | SpecNormalization     | 0     \n",
      "8  | model.convs               | Sequential            | 213 K \n",
      "9  | model.convs.0             | Conv2d                | 320   \n",
      "10 | model.convs.1             | BatchNorm2d           | 64    \n",
      "11 | model.convs.2             | ELU                   | 0     \n",
      "12 | model.convs.3             | Conv2d                | 9 K   \n",
      "13 | model.convs.4             | BatchNorm2d           | 64    \n",
      "14 | model.convs.5             | ELU                   | 0     \n",
      "15 | model.convs.6             | MaxPool2d             | 0     \n",
      "16 | model.convs.7             | Dropout               | 0     \n",
      "17 | model.convs.8             | Conv2d                | 18 K  \n",
      "18 | model.convs.9             | BatchNorm2d           | 128   \n",
      "19 | model.convs.10            | ELU                   | 0     \n",
      "20 | model.convs.11            | Conv2d                | 36 K  \n",
      "21 | model.convs.12            | BatchNorm2d           | 128   \n",
      "22 | model.convs.13            | ELU                   | 0     \n",
      "23 | model.convs.14            | MaxPool2d             | 0     \n",
      "24 | model.convs.15            | Dropout               | 0     \n",
      "25 | model.convs.16            | Conv2d                | 73 K  \n",
      "26 | model.convs.17            | BatchNorm2d           | 256   \n",
      "27 | model.convs.18            | ELU                   | 0     \n",
      "28 | model.convs.19            | MaxPool2d             | 0     \n",
      "29 | model.convs.20            | Dropout               | 0     \n",
      "30 | model.convs.21            | Conv2d                | 73 K  \n",
      "31 | model.convs.22            | BatchNorm2d           | 128   \n",
      "32 | model.convs.23            | ELU                   | 0     \n",
      "33 | model.convs.24            | MaxPool2d             | 0     \n",
      "34 | model.convs.25            | Dropout               | 0     \n",
      "35 | model.LSTMCell            | LSTMCell              | 2 M   \n",
      "36 | model.dense               | Sequential            | 2 K   \n",
      "37 | model.dense.0             | Dropout               | 0     \n",
      "38 | model.dense.1             | BatchNorm1d           | 1 K   \n",
      "39 | model.dense.2             | Linear                | 1 K   \n"
     ]
    },
    {
     "data": {
      "application/vnd.jupyter.widget-view+json": {
       "model_id": "",
       "version_major": 2,
       "version_minor": 0
      },
      "text/plain": [
       "HBox(children=(FloatProgress(value=1.0, bar_style='info', description='Validation sanity check', layout=Layout…"
      ]
     },
     "metadata": {},
     "output_type": "display_data"
    },
    {
     "name": "stdout",
     "output_type": "stream",
     "text": [
      "Val-Acc=0.03793716656787196\n"
     ]
    },
    {
     "data": {
      "application/vnd.jupyter.widget-view+json": {
       "model_id": "b1217b13eda04822a0b63a3346f63e51",
       "version_major": 2,
       "version_minor": 0
      },
      "text/plain": [
       "HBox(children=(FloatProgress(value=1.0, bar_style='info', description='Training', layout=Layout(flex='2'), max…"
      ]
     },
     "metadata": {},
     "output_type": "display_data"
    },
    {
     "data": {
      "application/vnd.jupyter.widget-view+json": {
       "model_id": "",
       "version_major": 2,
       "version_minor": 0
      },
      "text/plain": [
       "HBox(children=(FloatProgress(value=1.0, bar_style='info', description='Validating', layout=Layout(flex='2'), m…"
      ]
     },
     "metadata": {},
     "output_type": "display_data"
    },
    {
     "name": "stdout",
     "output_type": "stream",
     "text": [
      "Val-Acc=0.7433313574392413\n",
      "Train-Acc=0.7835968379446641\n"
     ]
    },
    {
     "data": {
      "application/vnd.jupyter.widget-view+json": {
       "model_id": "",
       "version_major": 2,
       "version_minor": 0
      },
      "text/plain": [
       "HBox(children=(FloatProgress(value=1.0, bar_style='info', description='Validating', layout=Layout(flex='2'), m…"
      ]
     },
     "metadata": {},
     "output_type": "display_data"
    },
    {
     "name": "stdout",
     "output_type": "stream",
     "text": [
      "Val-Acc=0.8405453467694132\n",
      "Train-Acc=0.8175889328063242\n"
     ]
    },
    {
     "data": {
      "application/vnd.jupyter.widget-view+json": {
       "model_id": "",
       "version_major": 2,
       "version_minor": 0
      },
      "text/plain": [
       "HBox(children=(FloatProgress(value=1.0, bar_style='info', description='Validating', layout=Layout(flex='2'), m…"
      ]
     },
     "metadata": {},
     "output_type": "display_data"
    },
    {
     "name": "stdout",
     "output_type": "stream",
     "text": [
      "Val-Acc=0.8061647895672792\n",
      "Train-Acc=0.8359683794466403\n"
     ]
    },
    {
     "data": {
      "application/vnd.jupyter.widget-view+json": {
       "model_id": "",
       "version_major": 2,
       "version_minor": 0
      },
      "text/plain": [
       "HBox(children=(FloatProgress(value=1.0, bar_style='info', description='Validating', layout=Layout(flex='2'), m…"
      ]
     },
     "metadata": {},
     "output_type": "display_data"
    },
    {
     "name": "stdout",
     "output_type": "stream",
     "text": [
      "Val-Acc=0.8322465915826912\n"
     ]
    },
    {
     "name": "stderr",
     "output_type": "stream",
     "text": [
      "[I 2020-07-15 00:10:48,954] Setting status of trial#26 as TrialState.PRUNED. Trial was pruned at epoch 3.\n",
      "GPU available: True, used: True\n",
      "No environment variable for node rank defined. Set as 0.\n",
      "CUDA_VISIBLE_DEVICES: [0]\n",
      "Set SLURM handle signals.\n",
      "\n",
      "   | Name                      | Type                  | Params\n",
      "----------------------------------------------------------------\n",
      "0  | model                     | CRNN8k_D2             | 4 M   \n",
      "1  | model.spec                | MelspectrogramStretch | 0     \n",
      "2  | model.spec.spectrogram    | Spectrogram           | 0     \n",
      "3  | model.spec.mel_scale      | MelScale              | 0     \n",
      "4  | model.spec.stft           | Spectrogram           | 0     \n",
      "5  | model.spec.random_stretch | RandomTimeStretch     | 0     \n",
      "6  | model.spec.complex_norm   | ComplexNorm           | 0     \n",
      "7  | model.spec.norm           | SpecNormalization     | 0     \n",
      "8  | model.convs               | Sequential            | 213 K \n",
      "9  | model.convs.0             | Conv2d                | 320   \n",
      "10 | model.convs.1             | BatchNorm2d           | 64    \n",
      "11 | model.convs.2             | ELU                   | 0     \n",
      "12 | model.convs.3             | Conv2d                | 9 K   \n",
      "13 | model.convs.4             | BatchNorm2d           | 64    \n",
      "14 | model.convs.5             | ELU                   | 0     \n",
      "15 | model.convs.6             | MaxPool2d             | 0     \n",
      "16 | model.convs.7             | Dropout               | 0     \n",
      "17 | model.convs.8             | Conv2d                | 18 K  \n",
      "18 | model.convs.9             | BatchNorm2d           | 128   \n",
      "19 | model.convs.10            | ELU                   | 0     \n",
      "20 | model.convs.11            | Conv2d                | 36 K  \n",
      "21 | model.convs.12            | BatchNorm2d           | 128   \n",
      "22 | model.convs.13            | ELU                   | 0     \n",
      "23 | model.convs.14            | MaxPool2d             | 0     \n",
      "24 | model.convs.15            | Dropout               | 0     \n",
      "25 | model.convs.16            | Conv2d                | 73 K  \n",
      "26 | model.convs.17            | BatchNorm2d           | 256   \n",
      "27 | model.convs.18            | ELU                   | 0     \n",
      "28 | model.convs.19            | MaxPool2d             | 0     \n",
      "29 | model.convs.20            | Dropout               | 0     \n",
      "30 | model.convs.21            | Conv2d                | 73 K  \n",
      "31 | model.convs.22            | BatchNorm2d           | 128   \n",
      "32 | model.convs.23            | ELU                   | 0     \n",
      "33 | model.convs.24            | MaxPool2d             | 0     \n",
      "34 | model.convs.25            | Dropout               | 0     \n",
      "35 | model.LSTMCell            | LSTMCell              | 4 M   \n",
      "36 | model.dense               | Sequential            | 3 K   \n",
      "37 | model.dense.0             | Dropout               | 0     \n",
      "38 | model.dense.1             | BatchNorm1d           | 1 K   \n",
      "39 | model.dense.2             | Linear                | 1 K   \n"
     ]
    },
    {
     "data": {
      "application/vnd.jupyter.widget-view+json": {
       "model_id": "",
       "version_major": 2,
       "version_minor": 0
      },
      "text/plain": [
       "HBox(children=(FloatProgress(value=1.0, bar_style='info', description='Validation sanity check', layout=Layout…"
      ]
     },
     "metadata": {},
     "output_type": "display_data"
    },
    {
     "name": "stdout",
     "output_type": "stream",
     "text": [
      "Val-Acc=0.03319502074688797\n"
     ]
    },
    {
     "data": {
      "application/vnd.jupyter.widget-view+json": {
       "model_id": "0d3d50e28abf4c7fa4f5982b5e1bde71",
       "version_major": 2,
       "version_minor": 0
      },
      "text/plain": [
       "HBox(children=(FloatProgress(value=1.0, bar_style='info', description='Training', layout=Layout(flex='2'), max…"
      ]
     },
     "metadata": {},
     "output_type": "display_data"
    },
    {
     "data": {
      "application/vnd.jupyter.widget-view+json": {
       "model_id": "",
       "version_major": 2,
       "version_minor": 0
      },
      "text/plain": [
       "HBox(children=(FloatProgress(value=1.0, bar_style='info', description='Validating', layout=Layout(flex='2'), m…"
      ]
     },
     "metadata": {},
     "output_type": "display_data"
    },
    {
     "name": "stdout",
     "output_type": "stream",
     "text": [
      "Val-Acc=0.6467101363366924\n",
      "Train-Acc=0.7871541501976285\n"
     ]
    },
    {
     "data": {
      "application/vnd.jupyter.widget-view+json": {
       "model_id": "",
       "version_major": 2,
       "version_minor": 0
      },
      "text/plain": [
       "HBox(children=(FloatProgress(value=1.0, bar_style='info', description='Validating', layout=Layout(flex='2'), m…"
      ]
     },
     "metadata": {},
     "output_type": "display_data"
    },
    {
     "name": "stdout",
     "output_type": "stream",
     "text": [
      "Val-Acc=0.7646710136336692\n"
     ]
    },
    {
     "name": "stderr",
     "output_type": "stream",
     "text": [
      "[I 2020-07-15 00:11:06,665] Setting status of trial#27 as TrialState.PRUNED. Trial was pruned at epoch 1.\n",
      "GPU available: True, used: True\n",
      "No environment variable for node rank defined. Set as 0.\n",
      "CUDA_VISIBLE_DEVICES: [0]\n",
      "Set SLURM handle signals.\n",
      "\n",
      "   | Name                      | Type                  | Params\n",
      "----------------------------------------------------------------\n",
      "0  | model                     | CRNN8k_D2             | 3 M   \n",
      "1  | model.spec                | MelspectrogramStretch | 0     \n",
      "2  | model.spec.spectrogram    | Spectrogram           | 0     \n",
      "3  | model.spec.mel_scale      | MelScale              | 0     \n",
      "4  | model.spec.stft           | Spectrogram           | 0     \n",
      "5  | model.spec.random_stretch | RandomTimeStretch     | 0     \n",
      "6  | model.spec.complex_norm   | ComplexNorm           | 0     \n",
      "7  | model.spec.norm           | SpecNormalization     | 0     \n",
      "8  | model.convs               | Sequential            | 213 K \n",
      "9  | model.convs.0             | Conv2d                | 320   \n",
      "10 | model.convs.1             | BatchNorm2d           | 64    \n",
      "11 | model.convs.2             | ELU                   | 0     \n",
      "12 | model.convs.3             | Conv2d                | 9 K   \n",
      "13 | model.convs.4             | BatchNorm2d           | 64    \n",
      "14 | model.convs.5             | ELU                   | 0     \n",
      "15 | model.convs.6             | MaxPool2d             | 0     \n",
      "16 | model.convs.7             | Dropout               | 0     \n",
      "17 | model.convs.8             | Conv2d                | 18 K  \n",
      "18 | model.convs.9             | BatchNorm2d           | 128   \n",
      "19 | model.convs.10            | ELU                   | 0     \n",
      "20 | model.convs.11            | Conv2d                | 36 K  \n",
      "21 | model.convs.12            | BatchNorm2d           | 128   \n",
      "22 | model.convs.13            | ELU                   | 0     \n",
      "23 | model.convs.14            | MaxPool2d             | 0     \n",
      "24 | model.convs.15            | Dropout               | 0     \n",
      "25 | model.convs.16            | Conv2d                | 73 K  \n",
      "26 | model.convs.17            | BatchNorm2d           | 256   \n",
      "27 | model.convs.18            | ELU                   | 0     \n",
      "28 | model.convs.19            | MaxPool2d             | 0     \n",
      "29 | model.convs.20            | Dropout               | 0     \n",
      "30 | model.convs.21            | Conv2d                | 73 K  \n",
      "31 | model.convs.22            | BatchNorm2d           | 128   \n",
      "32 | model.convs.23            | ELU                   | 0     \n",
      "33 | model.convs.24            | MaxPool2d             | 0     \n",
      "34 | model.convs.25            | Dropout               | 0     \n",
      "35 | model.LSTMCell            | LSTMCell              | 3 M   \n",
      "36 | model.dense               | Sequential            | 3 K   \n",
      "37 | model.dense.0             | Dropout               | 0     \n",
      "38 | model.dense.1             | BatchNorm1d           | 1 K   \n",
      "39 | model.dense.2             | Linear                | 1 K   \n"
     ]
    },
    {
     "data": {
      "application/vnd.jupyter.widget-view+json": {
       "model_id": "",
       "version_major": 2,
       "version_minor": 0
      },
      "text/plain": [
       "HBox(children=(FloatProgress(value=1.0, bar_style='info', description='Validation sanity check', layout=Layout…"
      ]
     },
     "metadata": {},
     "output_type": "display_data"
    },
    {
     "name": "stdout",
     "output_type": "stream",
     "text": [
      "Val-Acc=0.03793716656787196\n"
     ]
    },
    {
     "data": {
      "application/vnd.jupyter.widget-view+json": {
       "model_id": "aed4a6da0baa4c7582a171030fa3876f",
       "version_major": 2,
       "version_minor": 0
      },
      "text/plain": [
       "HBox(children=(FloatProgress(value=1.0, bar_style='info', description='Training', layout=Layout(flex='2'), max…"
      ]
     },
     "metadata": {},
     "output_type": "display_data"
    },
    {
     "data": {
      "application/vnd.jupyter.widget-view+json": {
       "model_id": "",
       "version_major": 2,
       "version_minor": 0
      },
      "text/plain": [
       "HBox(children=(FloatProgress(value=1.0, bar_style='info', description='Validating', layout=Layout(flex='2'), m…"
      ]
     },
     "metadata": {},
     "output_type": "display_data"
    },
    {
     "name": "stdout",
     "output_type": "stream",
     "text": [
      "Val-Acc=0.8292827504445762\n",
      "Train-Acc=0.7940711462450593\n"
     ]
    },
    {
     "data": {
      "application/vnd.jupyter.widget-view+json": {
       "model_id": "",
       "version_major": 2,
       "version_minor": 0
      },
      "text/plain": [
       "HBox(children=(FloatProgress(value=1.0, bar_style='info', description='Validating', layout=Layout(flex='2'), m…"
      ]
     },
     "metadata": {},
     "output_type": "display_data"
    },
    {
     "name": "stdout",
     "output_type": "stream",
     "text": [
      "Val-Acc=0.8138707765263782\n",
      "Train-Acc=0.8286561264822134\n"
     ]
    },
    {
     "data": {
      "application/vnd.jupyter.widget-view+json": {
       "model_id": "",
       "version_major": 2,
       "version_minor": 0
      },
      "text/plain": [
       "HBox(children=(FloatProgress(value=1.0, bar_style='info', description='Validating', layout=Layout(flex='2'), m…"
      ]
     },
     "metadata": {},
     "output_type": "display_data"
    },
    {
     "name": "stdout",
     "output_type": "stream",
     "text": [
      "Val-Acc=0.8678126852400712\n",
      "Train-Acc=0.8484189723320158\n"
     ]
    },
    {
     "data": {
      "application/vnd.jupyter.widget-view+json": {
       "model_id": "",
       "version_major": 2,
       "version_minor": 0
      },
      "text/plain": [
       "HBox(children=(FloatProgress(value=1.0, bar_style='info', description='Validating', layout=Layout(flex='2'), m…"
      ]
     },
     "metadata": {},
     "output_type": "display_data"
    },
    {
     "name": "stdout",
     "output_type": "stream",
     "text": [
      "Val-Acc=0.8553645524599881\n",
      "Train-Acc=0.8557312252964426\n"
     ]
    },
    {
     "data": {
      "application/vnd.jupyter.widget-view+json": {
       "model_id": "",
       "version_major": 2,
       "version_minor": 0
      },
      "text/plain": [
       "HBox(children=(FloatProgress(value=1.0, bar_style='info', description='Validating', layout=Layout(flex='2'), m…"
      ]
     },
     "metadata": {},
     "output_type": "display_data"
    },
    {
     "name": "stdout",
     "output_type": "stream",
     "text": [
      "Val-Acc=0.8666271487848252\n",
      "Train-Acc=0.8648221343873518\n"
     ]
    },
    {
     "data": {
      "application/vnd.jupyter.widget-view+json": {
       "model_id": "",
       "version_major": 2,
       "version_minor": 0
      },
      "text/plain": [
       "HBox(children=(FloatProgress(value=1.0, bar_style='info', description='Validating', layout=Layout(flex='2'), m…"
      ]
     },
     "metadata": {},
     "output_type": "display_data"
    },
    {
     "name": "stdout",
     "output_type": "stream",
     "text": [
      "Val-Acc=0.8660343805572022\n",
      "Train-Acc=0.8796442687747036\n"
     ]
    },
    {
     "data": {
      "application/vnd.jupyter.widget-view+json": {
       "model_id": "",
       "version_major": 2,
       "version_minor": 0
      },
      "text/plain": [
       "HBox(children=(FloatProgress(value=1.0, bar_style='info', description='Validating', layout=Layout(flex='2'), m…"
      ]
     },
     "metadata": {},
     "output_type": "display_data"
    },
    {
     "name": "stdout",
     "output_type": "stream",
     "text": [
      "Val-Acc=0.8850029638411381\n",
      "Train-Acc=0.88300395256917\n"
     ]
    },
    {
     "data": {
      "application/vnd.jupyter.widget-view+json": {
       "model_id": "",
       "version_major": 2,
       "version_minor": 0
      },
      "text/plain": [
       "HBox(children=(FloatProgress(value=1.0, bar_style='info', description='Validating', layout=Layout(flex='2'), m…"
      ]
     },
     "metadata": {},
     "output_type": "display_data"
    },
    {
     "name": "stdout",
     "output_type": "stream",
     "text": [
      "Val-Acc=0.8838174273858921\n",
      "Train-Acc=0.8824110671936759\n"
     ]
    },
    {
     "data": {
      "application/vnd.jupyter.widget-view+json": {
       "model_id": "",
       "version_major": 2,
       "version_minor": 0
      },
      "text/plain": [
       "HBox(children=(FloatProgress(value=1.0, bar_style='info', description='Validating', layout=Layout(flex='2'), m…"
      ]
     },
     "metadata": {},
     "output_type": "display_data"
    },
    {
     "name": "stdout",
     "output_type": "stream",
     "text": [
      "Val-Acc=0.8885595732068761\n",
      "Train-Acc=0.8930830039525691\n"
     ]
    },
    {
     "data": {
      "application/vnd.jupyter.widget-view+json": {
       "model_id": "",
       "version_major": 2,
       "version_minor": 0
      },
      "text/plain": [
       "HBox(children=(FloatProgress(value=1.0, bar_style='info', description='Validating', layout=Layout(flex='2'), m…"
      ]
     },
     "metadata": {},
     "output_type": "display_data"
    },
    {
     "name": "stdout",
     "output_type": "stream",
     "text": [
      "Val-Acc=0.8867812685240071\n",
      "Train-Acc=0.8938735177865612\n"
     ]
    },
    {
     "data": {
      "application/vnd.jupyter.widget-view+json": {
       "model_id": "",
       "version_major": 2,
       "version_minor": 0
      },
      "text/plain": [
       "HBox(children=(FloatProgress(value=1.0, bar_style='info', description='Validating', layout=Layout(flex='2'), m…"
      ]
     },
     "metadata": {},
     "output_type": "display_data"
    },
    {
     "name": "stdout",
     "output_type": "stream",
     "text": [
      "Val-Acc=0.8867812685240071\n",
      "Train-Acc=0.9011857707509882\n"
     ]
    },
    {
     "data": {
      "application/vnd.jupyter.widget-view+json": {
       "model_id": "",
       "version_major": 2,
       "version_minor": 0
      },
      "text/plain": [
       "HBox(children=(FloatProgress(value=1.0, bar_style='info', description='Validating', layout=Layout(flex='2'), m…"
      ]
     },
     "metadata": {},
     "output_type": "display_data"
    },
    {
     "name": "stdout",
     "output_type": "stream",
     "text": [
      "Val-Acc=0.8950800237107291\n",
      "Train-Acc=0.9007905138339921\n",
      "new best val acc 0.8950800237107291\n",
      "Saved model to \"optuna_crnn8kd2_0.8950800237107291.p\"\n",
      "Saved checkpoint at epoch 12 at \"optuna_crnn8kd2_0.8950800237107291.p\"\n"
     ]
    },
    {
     "data": {
      "application/vnd.jupyter.widget-view+json": {
       "model_id": "",
       "version_major": 2,
       "version_minor": 0
      },
      "text/plain": [
       "HBox(children=(FloatProgress(value=1.0, bar_style='info', description='Validating', layout=Layout(flex='2'), m…"
      ]
     },
     "metadata": {},
     "output_type": "display_data"
    },
    {
     "name": "stdout",
     "output_type": "stream",
     "text": [
      "Val-Acc=0.8861885002963841\n",
      "Train-Acc=0.9100790513833992\n"
     ]
    },
    {
     "data": {
      "application/vnd.jupyter.widget-view+json": {
       "model_id": "",
       "version_major": 2,
       "version_minor": 0
      },
      "text/plain": [
       "HBox(children=(FloatProgress(value=1.0, bar_style='info', description='Validating', layout=Layout(flex='2'), m…"
      ]
     },
     "metadata": {},
     "output_type": "display_data"
    },
    {
     "name": "stdout",
     "output_type": "stream",
     "text": [
      "Val-Acc=0.8826318909306461\n",
      "Train-Acc=0.9096837944664031\n"
     ]
    },
    {
     "data": {
      "application/vnd.jupyter.widget-view+json": {
       "model_id": "",
       "version_major": 2,
       "version_minor": 0
      },
      "text/plain": [
       "HBox(children=(FloatProgress(value=1.0, bar_style='info', description='Validating', layout=Layout(flex='2'), m…"
      ]
     },
     "metadata": {},
     "output_type": "display_data"
    },
    {
     "name": "stdout",
     "output_type": "stream",
     "text": [
      "Val-Acc=0.8820391227030231\n",
      "Train-Acc=0.9057312252964427\n",
      "\n",
      "Saved model to \"saved_modelsq/28.p\"\n"
     ]
    },
    {
     "name": "stderr",
     "output_type": "stream",
     "text": [
      "[I 2020-07-15 00:13:07,881] Finished trial#28 with value: 0.8820391227030231 with parameters: {'learning_rate': 0.0005179184100690454, 'p_drop': 0.12765982755107075, 'lr_decay': 0.7310890686258599, 'n_hidden': 774, 'weight_decay': 0.03957029411434362}. Best is trial#12 with value: 0.8921161825726142.\n",
      "GPU available: True, used: True\n",
      "No environment variable for node rank defined. Set as 0.\n",
      "CUDA_VISIBLE_DEVICES: [0]\n",
      "Set SLURM handle signals.\n",
      "\n",
      "   | Name                      | Type                  | Params\n",
      "----------------------------------------------------------------\n",
      "0  | model                     | CRNN8k_D2             | 4 M   \n",
      "1  | model.spec                | MelspectrogramStretch | 0     \n",
      "2  | model.spec.spectrogram    | Spectrogram           | 0     \n",
      "3  | model.spec.mel_scale      | MelScale              | 0     \n",
      "4  | model.spec.stft           | Spectrogram           | 0     \n",
      "5  | model.spec.random_stretch | RandomTimeStretch     | 0     \n",
      "6  | model.spec.complex_norm   | ComplexNorm           | 0     \n",
      "7  | model.spec.norm           | SpecNormalization     | 0     \n",
      "8  | model.convs               | Sequential            | 213 K \n",
      "9  | model.convs.0             | Conv2d                | 320   \n",
      "10 | model.convs.1             | BatchNorm2d           | 64    \n",
      "11 | model.convs.2             | ELU                   | 0     \n",
      "12 | model.convs.3             | Conv2d                | 9 K   \n",
      "13 | model.convs.4             | BatchNorm2d           | 64    \n",
      "14 | model.convs.5             | ELU                   | 0     \n",
      "15 | model.convs.6             | MaxPool2d             | 0     \n",
      "16 | model.convs.7             | Dropout               | 0     \n",
      "17 | model.convs.8             | Conv2d                | 18 K  \n",
      "18 | model.convs.9             | BatchNorm2d           | 128   \n",
      "19 | model.convs.10            | ELU                   | 0     \n",
      "20 | model.convs.11            | Conv2d                | 36 K  \n",
      "21 | model.convs.12            | BatchNorm2d           | 128   \n",
      "22 | model.convs.13            | ELU                   | 0     \n",
      "23 | model.convs.14            | MaxPool2d             | 0     \n",
      "24 | model.convs.15            | Dropout               | 0     \n",
      "25 | model.convs.16            | Conv2d                | 73 K  \n",
      "26 | model.convs.17            | BatchNorm2d           | 256   \n",
      "27 | model.convs.18            | ELU                   | 0     \n",
      "28 | model.convs.19            | MaxPool2d             | 0     \n",
      "29 | model.convs.20            | Dropout               | 0     \n",
      "30 | model.convs.21            | Conv2d                | 73 K  \n",
      "31 | model.convs.22            | BatchNorm2d           | 128   \n",
      "32 | model.convs.23            | ELU                   | 0     \n",
      "33 | model.convs.24            | MaxPool2d             | 0     \n",
      "34 | model.convs.25            | Dropout               | 0     \n",
      "35 | model.LSTMCell            | LSTMCell              | 4 M   \n",
      "36 | model.dense               | Sequential            | 3 K   \n",
      "37 | model.dense.0             | Dropout               | 0     \n",
      "38 | model.dense.1             | BatchNorm1d           | 1 K   \n",
      "39 | model.dense.2             | Linear                | 1 K   \n"
     ]
    },
    {
     "data": {
      "application/vnd.jupyter.widget-view+json": {
       "model_id": "",
       "version_major": 2,
       "version_minor": 0
      },
      "text/plain": [
       "HBox(children=(FloatProgress(value=1.0, bar_style='info', description='Validation sanity check', layout=Layout…"
      ]
     },
     "metadata": {},
     "output_type": "display_data"
    },
    {
     "name": "stdout",
     "output_type": "stream",
     "text": [
      "Val-Acc=0.03793716656787196\n"
     ]
    },
    {
     "data": {
      "application/vnd.jupyter.widget-view+json": {
       "model_id": "b1516a03e333442f99a076687bfffdb6",
       "version_major": 2,
       "version_minor": 0
      },
      "text/plain": [
       "HBox(children=(FloatProgress(value=1.0, bar_style='info', description='Training', layout=Layout(flex='2'), max…"
      ]
     },
     "metadata": {},
     "output_type": "display_data"
    },
    {
     "data": {
      "application/vnd.jupyter.widget-view+json": {
       "model_id": "",
       "version_major": 2,
       "version_minor": 0
      },
      "text/plain": [
       "HBox(children=(FloatProgress(value=1.0, bar_style='info', description='Validating', layout=Layout(flex='2'), m…"
      ]
     },
     "metadata": {},
     "output_type": "display_data"
    },
    {
     "name": "stdout",
     "output_type": "stream",
     "text": [
      "Val-Acc=0.8328393598103142\n",
      "Train-Acc=0.7952569169960474\n"
     ]
    },
    {
     "data": {
      "application/vnd.jupyter.widget-view+json": {
       "model_id": "",
       "version_major": 2,
       "version_minor": 0
      },
      "text/plain": [
       "HBox(children=(FloatProgress(value=1.0, bar_style='info', description='Validating', layout=Layout(flex='2'), m…"
      ]
     },
     "metadata": {},
     "output_type": "display_data"
    },
    {
     "name": "stdout",
     "output_type": "stream",
     "text": [
      "Val-Acc=0.8446947243627742\n",
      "Train-Acc=0.8304347826086956\n"
     ]
    },
    {
     "data": {
      "application/vnd.jupyter.widget-view+json": {
       "model_id": "",
       "version_major": 2,
       "version_minor": 0
      },
      "text/plain": [
       "HBox(children=(FloatProgress(value=1.0, bar_style='info', description='Validating', layout=Layout(flex='2'), m…"
      ]
     },
     "metadata": {},
     "output_type": "display_data"
    },
    {
     "name": "stdout",
     "output_type": "stream",
     "text": [
      "Val-Acc=0.8559573206876111\n",
      "Train-Acc=0.8381422924901186\n"
     ]
    },
    {
     "data": {
      "application/vnd.jupyter.widget-view+json": {
       "model_id": "",
       "version_major": 2,
       "version_minor": 0
      },
      "text/plain": [
       "HBox(children=(FloatProgress(value=1.0, bar_style='info', description='Validating', layout=Layout(flex='2'), m…"
      ]
     },
     "metadata": {},
     "output_type": "display_data"
    },
    {
     "name": "stdout",
     "output_type": "stream",
     "text": [
      "Val-Acc=0.8535862477771191\n",
      "Train-Acc=0.8523715415019762\n"
     ]
    },
    {
     "data": {
      "application/vnd.jupyter.widget-view+json": {
       "model_id": "",
       "version_major": 2,
       "version_minor": 0
      },
      "text/plain": [
       "HBox(children=(FloatProgress(value=1.0, bar_style='info', description='Validating', layout=Layout(flex='2'), m…"
      ]
     },
     "metadata": {},
     "output_type": "display_data"
    },
    {
     "name": "stdout",
     "output_type": "stream",
     "text": [
      "Val-Acc=0.8636633076467102\n",
      "Train-Acc=0.8632411067193676\n"
     ]
    },
    {
     "data": {
      "application/vnd.jupyter.widget-view+json": {
       "model_id": "",
       "version_major": 2,
       "version_minor": 0
      },
      "text/plain": [
       "HBox(children=(FloatProgress(value=1.0, bar_style='info', description='Validating', layout=Layout(flex='2'), m…"
      ]
     },
     "metadata": {},
     "output_type": "display_data"
    },
    {
     "name": "stdout",
     "output_type": "stream",
     "text": [
      "Val-Acc=0.8654416123295792\n",
      "Train-Acc=0.8646245059288538\n"
     ]
    },
    {
     "data": {
      "application/vnd.jupyter.widget-view+json": {
       "model_id": "",
       "version_major": 2,
       "version_minor": 0
      },
      "text/plain": [
       "HBox(children=(FloatProgress(value=1.0, bar_style='info', description='Validating', layout=Layout(flex='2'), m…"
      ]
     },
     "metadata": {},
     "output_type": "display_data"
    },
    {
     "name": "stdout",
     "output_type": "stream",
     "text": [
      "Val-Acc=0.8601066982809722\n",
      "Train-Acc=0.86699604743083\n"
     ]
    },
    {
     "data": {
      "application/vnd.jupyter.widget-view+json": {
       "model_id": "",
       "version_major": 2,
       "version_minor": 0
      },
      "text/plain": [
       "HBox(children=(FloatProgress(value=1.0, bar_style='info', description='Validating', layout=Layout(flex='2'), m…"
      ]
     },
     "metadata": {},
     "output_type": "display_data"
    },
    {
     "name": "stdout",
     "output_type": "stream",
     "text": [
      "Val-Acc=0.8684054534676942\n",
      "Train-Acc=0.8756916996047431\n"
     ]
    },
    {
     "data": {
      "application/vnd.jupyter.widget-view+json": {
       "model_id": "",
       "version_major": 2,
       "version_minor": 0
      },
      "text/plain": [
       "HBox(children=(FloatProgress(value=1.0, bar_style='info', description='Validating', layout=Layout(flex='2'), m…"
      ]
     },
     "metadata": {},
     "output_type": "display_data"
    },
    {
     "name": "stdout",
     "output_type": "stream",
     "text": [
      "Val-Acc=0.8636633076467102\n",
      "Train-Acc=0.8778656126482214\n"
     ]
    },
    {
     "data": {
      "application/vnd.jupyter.widget-view+json": {
       "model_id": "",
       "version_major": 2,
       "version_minor": 0
      },
      "text/plain": [
       "HBox(children=(FloatProgress(value=1.0, bar_style='info', description='Validating', layout=Layout(flex='2'), m…"
      ]
     },
     "metadata": {},
     "output_type": "display_data"
    },
    {
     "name": "stdout",
     "output_type": "stream",
     "text": [
      "Val-Acc=0.8500296384113811\n",
      "Train-Acc=0.8735177865612648\n"
     ]
    },
    {
     "data": {
      "application/vnd.jupyter.widget-view+json": {
       "model_id": "",
       "version_major": 2,
       "version_minor": 0
      },
      "text/plain": [
       "HBox(children=(FloatProgress(value=1.0, bar_style='info', description='Validating', layout=Layout(flex='2'), m…"
      ]
     },
     "metadata": {},
     "output_type": "display_data"
    },
    {
     "name": "stdout",
     "output_type": "stream",
     "text": [
      "Val-Acc=0.8666271487848252\n",
      "Train-Acc=0.8800395256916996\n"
     ]
    },
    {
     "data": {
      "application/vnd.jupyter.widget-view+json": {
       "model_id": "",
       "version_major": 2,
       "version_minor": 0
      },
      "text/plain": [
       "HBox(children=(FloatProgress(value=1.0, bar_style='info', description='Validating', layout=Layout(flex='2'), m…"
      ]
     },
     "metadata": {},
     "output_type": "display_data"
    },
    {
     "name": "stdout",
     "output_type": "stream",
     "text": [
      "Val-Acc=0.8731475992886781\n",
      "Train-Acc=0.8812252964426878\n"
     ]
    },
    {
     "data": {
      "application/vnd.jupyter.widget-view+json": {
       "model_id": "",
       "version_major": 2,
       "version_minor": 0
      },
      "text/plain": [
       "HBox(children=(FloatProgress(value=1.0, bar_style='info', description='Validating', layout=Layout(flex='2'), m…"
      ]
     },
     "metadata": {},
     "output_type": "display_data"
    },
    {
     "name": "stdout",
     "output_type": "stream",
     "text": [
      "Val-Acc=0.8707765263781861\n",
      "Train-Acc=0.8816205533596838\n"
     ]
    },
    {
     "data": {
      "application/vnd.jupyter.widget-view+json": {
       "model_id": "",
       "version_major": 2,
       "version_minor": 0
      },
      "text/plain": [
       "HBox(children=(FloatProgress(value=1.0, bar_style='info', description='Validating', layout=Layout(flex='2'), m…"
      ]
     },
     "metadata": {},
     "output_type": "display_data"
    },
    {
     "name": "stdout",
     "output_type": "stream",
     "text": [
      "Val-Acc=0.8725548310610551\n",
      "Train-Acc=0.8841897233201581\n"
     ]
    },
    {
     "data": {
      "application/vnd.jupyter.widget-view+json": {
       "model_id": "",
       "version_major": 2,
       "version_minor": 0
      },
      "text/plain": [
       "HBox(children=(FloatProgress(value=1.0, bar_style='info', description='Validating', layout=Layout(flex='2'), m…"
      ]
     },
     "metadata": {},
     "output_type": "display_data"
    },
    {
     "name": "stdout",
     "output_type": "stream",
     "text": [
      "Val-Acc=0.8689982216953172\n",
      "Train-Acc=0.8814229249011858\n",
      "\n",
      "Saved model to \"saved_modelsq/29.p\"\n"
     ]
    },
    {
     "name": "stderr",
     "output_type": "stream",
     "text": [
      "[I 2020-07-15 00:15:08,673] Finished trial#29 with value: 0.8689982216953172 with parameters: {'learning_rate': 0.00011763179995769501, 'p_drop': 0.04997154660764448, 'lr_decay': 0.8234389289653113, 'n_hidden': 891, 'weight_decay': 0.026555559808937527}. Best is trial#12 with value: 0.8921161825726142.\n",
      "GPU available: True, used: True\n",
      "No environment variable for node rank defined. Set as 0.\n",
      "CUDA_VISIBLE_DEVICES: [0]\n",
      "Set SLURM handle signals.\n",
      "\n",
      "   | Name                      | Type                  | Params\n",
      "----------------------------------------------------------------\n",
      "0  | model                     | CRNN8k_D2             | 2 M   \n",
      "1  | model.spec                | MelspectrogramStretch | 0     \n",
      "2  | model.spec.spectrogram    | Spectrogram           | 0     \n",
      "3  | model.spec.mel_scale      | MelScale              | 0     \n",
      "4  | model.spec.stft           | Spectrogram           | 0     \n",
      "5  | model.spec.random_stretch | RandomTimeStretch     | 0     \n",
      "6  | model.spec.complex_norm   | ComplexNorm           | 0     \n",
      "7  | model.spec.norm           | SpecNormalization     | 0     \n",
      "8  | model.convs               | Sequential            | 213 K \n",
      "9  | model.convs.0             | Conv2d                | 320   \n",
      "10 | model.convs.1             | BatchNorm2d           | 64    \n",
      "11 | model.convs.2             | ELU                   | 0     \n",
      "12 | model.convs.3             | Conv2d                | 9 K   \n",
      "13 | model.convs.4             | BatchNorm2d           | 64    \n",
      "14 | model.convs.5             | ELU                   | 0     \n",
      "15 | model.convs.6             | MaxPool2d             | 0     \n",
      "16 | model.convs.7             | Dropout               | 0     \n",
      "17 | model.convs.8             | Conv2d                | 18 K  \n",
      "18 | model.convs.9             | BatchNorm2d           | 128   \n",
      "19 | model.convs.10            | ELU                   | 0     \n",
      "20 | model.convs.11            | Conv2d                | 36 K  \n",
      "21 | model.convs.12            | BatchNorm2d           | 128   \n",
      "22 | model.convs.13            | ELU                   | 0     \n",
      "23 | model.convs.14            | MaxPool2d             | 0     \n",
      "24 | model.convs.15            | Dropout               | 0     \n",
      "25 | model.convs.16            | Conv2d                | 73 K  \n",
      "26 | model.convs.17            | BatchNorm2d           | 256   \n",
      "27 | model.convs.18            | ELU                   | 0     \n",
      "28 | model.convs.19            | MaxPool2d             | 0     \n",
      "29 | model.convs.20            | Dropout               | 0     \n",
      "30 | model.convs.21            | Conv2d                | 73 K  \n",
      "31 | model.convs.22            | BatchNorm2d           | 128   \n",
      "32 | model.convs.23            | ELU                   | 0     \n",
      "33 | model.convs.24            | MaxPool2d             | 0     \n",
      "34 | model.convs.25            | Dropout               | 0     \n",
      "35 | model.LSTMCell            | LSTMCell              | 2 M   \n",
      "36 | model.dense               | Sequential            | 2 K   \n",
      "37 | model.dense.0             | Dropout               | 0     \n",
      "38 | model.dense.1             | BatchNorm1d           | 1 K   \n",
      "39 | model.dense.2             | Linear                | 1 K   \n"
     ]
    },
    {
     "data": {
      "application/vnd.jupyter.widget-view+json": {
       "model_id": "",
       "version_major": 2,
       "version_minor": 0
      },
      "text/plain": [
       "HBox(children=(FloatProgress(value=1.0, bar_style='info', description='Validation sanity check', layout=Layout…"
      ]
     },
     "metadata": {},
     "output_type": "display_data"
    },
    {
     "name": "stdout",
     "output_type": "stream",
     "text": [
      "Val-Acc=0.03852993479549496\n"
     ]
    },
    {
     "data": {
      "application/vnd.jupyter.widget-view+json": {
       "model_id": "58f17699827f42f1ab4a4ece84008347",
       "version_major": 2,
       "version_minor": 0
      },
      "text/plain": [
       "HBox(children=(FloatProgress(value=1.0, bar_style='info', description='Training', layout=Layout(flex='2'), max…"
      ]
     },
     "metadata": {},
     "output_type": "display_data"
    },
    {
     "data": {
      "application/vnd.jupyter.widget-view+json": {
       "model_id": "",
       "version_major": 2,
       "version_minor": 0
      },
      "text/plain": [
       "HBox(children=(FloatProgress(value=1.0, bar_style='info', description='Validating', layout=Layout(flex='2'), m…"
      ]
     },
     "metadata": {},
     "output_type": "display_data"
    },
    {
     "name": "stdout",
     "output_type": "stream",
     "text": [
      "Val-Acc=0.5026674570243035\n",
      "Train-Acc=0.758300395256917\n"
     ]
    },
    {
     "data": {
      "application/vnd.jupyter.widget-view+json": {
       "model_id": "",
       "version_major": 2,
       "version_minor": 0
      },
      "text/plain": [
       "HBox(children=(FloatProgress(value=1.0, bar_style='info', description='Validating', layout=Layout(flex='2'), m…"
      ]
     },
     "metadata": {},
     "output_type": "display_data"
    },
    {
     "name": "stdout",
     "output_type": "stream",
     "text": [
      "Val-Acc=0.7711914641375223\n"
     ]
    },
    {
     "name": "stderr",
     "output_type": "stream",
     "text": [
      "[I 2020-07-15 00:15:25,815] Setting status of trial#30 as TrialState.PRUNED. Trial was pruned at epoch 1.\n",
      "GPU available: True, used: True\n",
      "No environment variable for node rank defined. Set as 0.\n",
      "CUDA_VISIBLE_DEVICES: [0]\n",
      "Set SLURM handle signals.\n",
      "\n",
      "   | Name                      | Type                  | Params\n",
      "----------------------------------------------------------------\n",
      "0  | model                     | CRNN8k_D2             | 3 M   \n",
      "1  | model.spec                | MelspectrogramStretch | 0     \n",
      "2  | model.spec.spectrogram    | Spectrogram           | 0     \n",
      "3  | model.spec.mel_scale      | MelScale              | 0     \n",
      "4  | model.spec.stft           | Spectrogram           | 0     \n",
      "5  | model.spec.random_stretch | RandomTimeStretch     | 0     \n",
      "6  | model.spec.complex_norm   | ComplexNorm           | 0     \n",
      "7  | model.spec.norm           | SpecNormalization     | 0     \n",
      "8  | model.convs               | Sequential            | 213 K \n",
      "9  | model.convs.0             | Conv2d                | 320   \n",
      "10 | model.convs.1             | BatchNorm2d           | 64    \n",
      "11 | model.convs.2             | ELU                   | 0     \n",
      "12 | model.convs.3             | Conv2d                | 9 K   \n",
      "13 | model.convs.4             | BatchNorm2d           | 64    \n",
      "14 | model.convs.5             | ELU                   | 0     \n",
      "15 | model.convs.6             | MaxPool2d             | 0     \n",
      "16 | model.convs.7             | Dropout               | 0     \n",
      "17 | model.convs.8             | Conv2d                | 18 K  \n",
      "18 | model.convs.9             | BatchNorm2d           | 128   \n",
      "19 | model.convs.10            | ELU                   | 0     \n",
      "20 | model.convs.11            | Conv2d                | 36 K  \n",
      "21 | model.convs.12            | BatchNorm2d           | 128   \n",
      "22 | model.convs.13            | ELU                   | 0     \n",
      "23 | model.convs.14            | MaxPool2d             | 0     \n",
      "24 | model.convs.15            | Dropout               | 0     \n",
      "25 | model.convs.16            | Conv2d                | 73 K  \n",
      "26 | model.convs.17            | BatchNorm2d           | 256   \n",
      "27 | model.convs.18            | ELU                   | 0     \n",
      "28 | model.convs.19            | MaxPool2d             | 0     \n",
      "29 | model.convs.20            | Dropout               | 0     \n",
      "30 | model.convs.21            | Conv2d                | 73 K  \n",
      "31 | model.convs.22            | BatchNorm2d           | 128   \n",
      "32 | model.convs.23            | ELU                   | 0     \n",
      "33 | model.convs.24            | MaxPool2d             | 0     \n",
      "34 | model.convs.25            | Dropout               | 0     \n",
      "35 | model.LSTMCell            | LSTMCell              | 3 M   \n",
      "36 | model.dense               | Sequential            | 2 K   \n",
      "37 | model.dense.0             | Dropout               | 0     \n",
      "38 | model.dense.1             | BatchNorm1d           | 1 K   \n",
      "39 | model.dense.2             | Linear                | 1 K   \n"
     ]
    },
    {
     "data": {
      "application/vnd.jupyter.widget-view+json": {
       "model_id": "",
       "version_major": 2,
       "version_minor": 0
      },
      "text/plain": [
       "HBox(children=(FloatProgress(value=1.0, bar_style='info', description='Validation sanity check', layout=Layout…"
      ]
     },
     "metadata": {},
     "output_type": "display_data"
    },
    {
     "name": "stdout",
     "output_type": "stream",
     "text": [
      "Val-Acc=0.03793716656787196\n"
     ]
    },
    {
     "data": {
      "application/vnd.jupyter.widget-view+json": {
       "model_id": "7c36c6876dc7400c8fafc40dc06643c8",
       "version_major": 2,
       "version_minor": 0
      },
      "text/plain": [
       "HBox(children=(FloatProgress(value=1.0, bar_style='info', description='Training', layout=Layout(flex='2'), max…"
      ]
     },
     "metadata": {},
     "output_type": "display_data"
    },
    {
     "data": {
      "application/vnd.jupyter.widget-view+json": {
       "model_id": "",
       "version_major": 2,
       "version_minor": 0
      },
      "text/plain": [
       "HBox(children=(FloatProgress(value=1.0, bar_style='info', description='Validating', layout=Layout(flex='2'), m…"
      ]
     },
     "metadata": {},
     "output_type": "display_data"
    },
    {
     "name": "stdout",
     "output_type": "stream",
     "text": [
      "Val-Acc=0.7765263781861292\n",
      "Train-Acc=0.7300395256916996\n"
     ]
    },
    {
     "data": {
      "application/vnd.jupyter.widget-view+json": {
       "model_id": "",
       "version_major": 2,
       "version_minor": 0
      },
      "text/plain": [
       "HBox(children=(FloatProgress(value=1.0, bar_style='info', description='Validating', layout=Layout(flex='2'), m…"
      ]
     },
     "metadata": {},
     "output_type": "display_data"
    },
    {
     "name": "stdout",
     "output_type": "stream",
     "text": [
      "Val-Acc=0.7919383521043272\n"
     ]
    },
    {
     "name": "stderr",
     "output_type": "stream",
     "text": [
      "[I 2020-07-15 00:15:42,699] Setting status of trial#31 as TrialState.PRUNED. Trial was pruned at epoch 1.\n",
      "GPU available: True, used: True\n",
      "No environment variable for node rank defined. Set as 0.\n",
      "CUDA_VISIBLE_DEVICES: [0]\n",
      "Set SLURM handle signals.\n",
      "\n",
      "   | Name                      | Type                  | Params\n",
      "----------------------------------------------------------------\n",
      "0  | model                     | CRNN8k_D2             | 4 M   \n",
      "1  | model.spec                | MelspectrogramStretch | 0     \n",
      "2  | model.spec.spectrogram    | Spectrogram           | 0     \n",
      "3  | model.spec.mel_scale      | MelScale              | 0     \n",
      "4  | model.spec.stft           | Spectrogram           | 0     \n",
      "5  | model.spec.random_stretch | RandomTimeStretch     | 0     \n",
      "6  | model.spec.complex_norm   | ComplexNorm           | 0     \n",
      "7  | model.spec.norm           | SpecNormalization     | 0     \n",
      "8  | model.convs               | Sequential            | 213 K \n",
      "9  | model.convs.0             | Conv2d                | 320   \n",
      "10 | model.convs.1             | BatchNorm2d           | 64    \n",
      "11 | model.convs.2             | ELU                   | 0     \n",
      "12 | model.convs.3             | Conv2d                | 9 K   \n",
      "13 | model.convs.4             | BatchNorm2d           | 64    \n",
      "14 | model.convs.5             | ELU                   | 0     \n",
      "15 | model.convs.6             | MaxPool2d             | 0     \n",
      "16 | model.convs.7             | Dropout               | 0     \n",
      "17 | model.convs.8             | Conv2d                | 18 K  \n",
      "18 | model.convs.9             | BatchNorm2d           | 128   \n",
      "19 | model.convs.10            | ELU                   | 0     \n",
      "20 | model.convs.11            | Conv2d                | 36 K  \n",
      "21 | model.convs.12            | BatchNorm2d           | 128   \n",
      "22 | model.convs.13            | ELU                   | 0     \n",
      "23 | model.convs.14            | MaxPool2d             | 0     \n",
      "24 | model.convs.15            | Dropout               | 0     \n",
      "25 | model.convs.16            | Conv2d                | 73 K  \n",
      "26 | model.convs.17            | BatchNorm2d           | 256   \n",
      "27 | model.convs.18            | ELU                   | 0     \n",
      "28 | model.convs.19            | MaxPool2d             | 0     \n",
      "29 | model.convs.20            | Dropout               | 0     \n",
      "30 | model.convs.21            | Conv2d                | 73 K  \n",
      "31 | model.convs.22            | BatchNorm2d           | 128   \n",
      "32 | model.convs.23            | ELU                   | 0     \n",
      "33 | model.convs.24            | MaxPool2d             | 0     \n",
      "34 | model.convs.25            | Dropout               | 0     \n",
      "35 | model.LSTMCell            | LSTMCell              | 3 M   \n",
      "36 | model.dense               | Sequential            | 3 K   \n",
      "37 | model.dense.0             | Dropout               | 0     \n",
      "38 | model.dense.1             | BatchNorm1d           | 1 K   \n",
      "39 | model.dense.2             | Linear                | 1 K   \n"
     ]
    },
    {
     "data": {
      "application/vnd.jupyter.widget-view+json": {
       "model_id": "",
       "version_major": 2,
       "version_minor": 0
      },
      "text/plain": [
       "HBox(children=(FloatProgress(value=1.0, bar_style='info', description='Validation sanity check', layout=Layout…"
      ]
     },
     "metadata": {},
     "output_type": "display_data"
    },
    {
     "name": "stdout",
     "output_type": "stream",
     "text": [
      "Val-Acc=0.03793716656787196\n"
     ]
    },
    {
     "data": {
      "application/vnd.jupyter.widget-view+json": {
       "model_id": "a566767a7a5b4315ae916f4f88beb4f1",
       "version_major": 2,
       "version_minor": 0
      },
      "text/plain": [
       "HBox(children=(FloatProgress(value=1.0, bar_style='info', description='Training', layout=Layout(flex='2'), max…"
      ]
     },
     "metadata": {},
     "output_type": "display_data"
    },
    {
     "data": {
      "application/vnd.jupyter.widget-view+json": {
       "model_id": "",
       "version_major": 2,
       "version_minor": 0
      },
      "text/plain": [
       "HBox(children=(FloatProgress(value=1.0, bar_style='info', description='Validating', layout=Layout(flex='2'), m…"
      ]
     },
     "metadata": {},
     "output_type": "display_data"
    },
    {
     "name": "stdout",
     "output_type": "stream",
     "text": [
      "Val-Acc=0.5103734439834025\n",
      "Train-Acc=0.658695652173913\n"
     ]
    },
    {
     "data": {
      "application/vnd.jupyter.widget-view+json": {
       "model_id": "",
       "version_major": 2,
       "version_minor": 0
      },
      "text/plain": [
       "HBox(children=(FloatProgress(value=1.0, bar_style='info', description='Validating', layout=Layout(flex='2'), m…"
      ]
     },
     "metadata": {},
     "output_type": "display_data"
    },
    {
     "name": "stdout",
     "output_type": "stream",
     "text": [
      "Val-Acc=0.5145228215767634\n"
     ]
    },
    {
     "name": "stderr",
     "output_type": "stream",
     "text": [
      "[I 2020-07-15 00:15:59,593] Setting status of trial#32 as TrialState.PRUNED. Trial was pruned at epoch 1.\n",
      "GPU available: True, used: True\n",
      "No environment variable for node rank defined. Set as 0.\n",
      "CUDA_VISIBLE_DEVICES: [0]\n",
      "Set SLURM handle signals.\n",
      "\n",
      "   | Name                      | Type                  | Params\n",
      "----------------------------------------------------------------\n",
      "0  | model                     | CRNN8k_D2             | 3 M   \n",
      "1  | model.spec                | MelspectrogramStretch | 0     \n",
      "2  | model.spec.spectrogram    | Spectrogram           | 0     \n",
      "3  | model.spec.mel_scale      | MelScale              | 0     \n",
      "4  | model.spec.stft           | Spectrogram           | 0     \n",
      "5  | model.spec.random_stretch | RandomTimeStretch     | 0     \n",
      "6  | model.spec.complex_norm   | ComplexNorm           | 0     \n",
      "7  | model.spec.norm           | SpecNormalization     | 0     \n",
      "8  | model.convs               | Sequential            | 213 K \n",
      "9  | model.convs.0             | Conv2d                | 320   \n",
      "10 | model.convs.1             | BatchNorm2d           | 64    \n",
      "11 | model.convs.2             | ELU                   | 0     \n",
      "12 | model.convs.3             | Conv2d                | 9 K   \n",
      "13 | model.convs.4             | BatchNorm2d           | 64    \n",
      "14 | model.convs.5             | ELU                   | 0     \n",
      "15 | model.convs.6             | MaxPool2d             | 0     \n",
      "16 | model.convs.7             | Dropout               | 0     \n",
      "17 | model.convs.8             | Conv2d                | 18 K  \n",
      "18 | model.convs.9             | BatchNorm2d           | 128   \n",
      "19 | model.convs.10            | ELU                   | 0     \n",
      "20 | model.convs.11            | Conv2d                | 36 K  \n",
      "21 | model.convs.12            | BatchNorm2d           | 128   \n",
      "22 | model.convs.13            | ELU                   | 0     \n",
      "23 | model.convs.14            | MaxPool2d             | 0     \n",
      "24 | model.convs.15            | Dropout               | 0     \n",
      "25 | model.convs.16            | Conv2d                | 73 K  \n",
      "26 | model.convs.17            | BatchNorm2d           | 256   \n",
      "27 | model.convs.18            | ELU                   | 0     \n",
      "28 | model.convs.19            | MaxPool2d             | 0     \n",
      "29 | model.convs.20            | Dropout               | 0     \n",
      "30 | model.convs.21            | Conv2d                | 73 K  \n",
      "31 | model.convs.22            | BatchNorm2d           | 128   \n",
      "32 | model.convs.23            | ELU                   | 0     \n",
      "33 | model.convs.24            | MaxPool2d             | 0     \n",
      "34 | model.convs.25            | Dropout               | 0     \n",
      "35 | model.LSTMCell            | LSTMCell              | 3 M   \n",
      "36 | model.dense               | Sequential            | 3 K   \n",
      "37 | model.dense.0             | Dropout               | 0     \n",
      "38 | model.dense.1             | BatchNorm1d           | 1 K   \n",
      "39 | model.dense.2             | Linear                | 1 K   \n"
     ]
    },
    {
     "data": {
      "application/vnd.jupyter.widget-view+json": {
       "model_id": "",
       "version_major": 2,
       "version_minor": 0
      },
      "text/plain": [
       "HBox(children=(FloatProgress(value=1.0, bar_style='info', description='Validation sanity check', layout=Layout…"
      ]
     },
     "metadata": {},
     "output_type": "display_data"
    },
    {
     "name": "stdout",
     "output_type": "stream",
     "text": [
      "Val-Acc=0.03793716656787196\n"
     ]
    },
    {
     "data": {
      "application/vnd.jupyter.widget-view+json": {
       "model_id": "8df6fd23c3df428ab189898ff1dbaecb",
       "version_major": 2,
       "version_minor": 0
      },
      "text/plain": [
       "HBox(children=(FloatProgress(value=1.0, bar_style='info', description='Training', layout=Layout(flex='2'), max…"
      ]
     },
     "metadata": {},
     "output_type": "display_data"
    },
    {
     "data": {
      "application/vnd.jupyter.widget-view+json": {
       "model_id": "",
       "version_major": 2,
       "version_minor": 0
      },
      "text/plain": [
       "HBox(children=(FloatProgress(value=1.0, bar_style='info', description='Validating', layout=Layout(flex='2'), m…"
      ]
     },
     "metadata": {},
     "output_type": "display_data"
    },
    {
     "name": "stdout",
     "output_type": "stream",
     "text": [
      "Val-Acc=0.7931238885595732\n",
      "Train-Acc=0.7871541501976285\n"
     ]
    },
    {
     "data": {
      "application/vnd.jupyter.widget-view+json": {
       "model_id": "",
       "version_major": 2,
       "version_minor": 0
      },
      "text/plain": [
       "HBox(children=(FloatProgress(value=1.0, bar_style='info', description='Validating', layout=Layout(flex='2'), m…"
      ]
     },
     "metadata": {},
     "output_type": "display_data"
    },
    {
     "name": "stdout",
     "output_type": "stream",
     "text": [
      "Val-Acc=0.8286899822169532\n",
      "Train-Acc=0.8152173913043478\n"
     ]
    },
    {
     "data": {
      "application/vnd.jupyter.widget-view+json": {
       "model_id": "",
       "version_major": 2,
       "version_minor": 0
      },
      "text/plain": [
       "HBox(children=(FloatProgress(value=1.0, bar_style='info', description='Validating', layout=Layout(flex='2'), m…"
      ]
     },
     "metadata": {},
     "output_type": "display_data"
    },
    {
     "name": "stdout",
     "output_type": "stream",
     "text": [
      "Val-Acc=0.8358032009484292\n"
     ]
    },
    {
     "name": "stderr",
     "output_type": "stream",
     "text": [
      "[I 2020-07-15 00:16:24,039] Setting status of trial#33 as TrialState.PRUNED. Trial was pruned at epoch 2.\n",
      "GPU available: True, used: True\n",
      "No environment variable for node rank defined. Set as 0.\n",
      "CUDA_VISIBLE_DEVICES: [0]\n",
      "Set SLURM handle signals.\n",
      "\n",
      "   | Name                      | Type                  | Params\n",
      "----------------------------------------------------------------\n",
      "0  | model                     | CRNN8k_D2             | 4 M   \n",
      "1  | model.spec                | MelspectrogramStretch | 0     \n",
      "2  | model.spec.spectrogram    | Spectrogram           | 0     \n",
      "3  | model.spec.mel_scale      | MelScale              | 0     \n",
      "4  | model.spec.stft           | Spectrogram           | 0     \n",
      "5  | model.spec.random_stretch | RandomTimeStretch     | 0     \n",
      "6  | model.spec.complex_norm   | ComplexNorm           | 0     \n",
      "7  | model.spec.norm           | SpecNormalization     | 0     \n",
      "8  | model.convs               | Sequential            | 213 K \n",
      "9  | model.convs.0             | Conv2d                | 320   \n",
      "10 | model.convs.1             | BatchNorm2d           | 64    \n",
      "11 | model.convs.2             | ELU                   | 0     \n",
      "12 | model.convs.3             | Conv2d                | 9 K   \n",
      "13 | model.convs.4             | BatchNorm2d           | 64    \n",
      "14 | model.convs.5             | ELU                   | 0     \n",
      "15 | model.convs.6             | MaxPool2d             | 0     \n",
      "16 | model.convs.7             | Dropout               | 0     \n",
      "17 | model.convs.8             | Conv2d                | 18 K  \n",
      "18 | model.convs.9             | BatchNorm2d           | 128   \n",
      "19 | model.convs.10            | ELU                   | 0     \n",
      "20 | model.convs.11            | Conv2d                | 36 K  \n",
      "21 | model.convs.12            | BatchNorm2d           | 128   \n",
      "22 | model.convs.13            | ELU                   | 0     \n",
      "23 | model.convs.14            | MaxPool2d             | 0     \n",
      "24 | model.convs.15            | Dropout               | 0     \n",
      "25 | model.convs.16            | Conv2d                | 73 K  \n",
      "26 | model.convs.17            | BatchNorm2d           | 256   \n",
      "27 | model.convs.18            | ELU                   | 0     \n",
      "28 | model.convs.19            | MaxPool2d             | 0     \n",
      "29 | model.convs.20            | Dropout               | 0     \n",
      "30 | model.convs.21            | Conv2d                | 73 K  \n",
      "31 | model.convs.22            | BatchNorm2d           | 128   \n",
      "32 | model.convs.23            | ELU                   | 0     \n",
      "33 | model.convs.24            | MaxPool2d             | 0     \n",
      "34 | model.convs.25            | Dropout               | 0     \n",
      "35 | model.LSTMCell            | LSTMCell              | 4 M   \n",
      "36 | model.dense               | Sequential            | 3 K   \n",
      "37 | model.dense.0             | Dropout               | 0     \n",
      "38 | model.dense.1             | BatchNorm1d           | 1 K   \n",
      "39 | model.dense.2             | Linear                | 1 K   \n"
     ]
    },
    {
     "data": {
      "application/vnd.jupyter.widget-view+json": {
       "model_id": "",
       "version_major": 2,
       "version_minor": 0
      },
      "text/plain": [
       "HBox(children=(FloatProgress(value=1.0, bar_style='info', description='Validation sanity check', layout=Layout…"
      ]
     },
     "metadata": {},
     "output_type": "display_data"
    },
    {
     "name": "stdout",
     "output_type": "stream",
     "text": [
      "Val-Acc=0.03793716656787196\n"
     ]
    },
    {
     "data": {
      "application/vnd.jupyter.widget-view+json": {
       "model_id": "5a58ae47b4674b9c874d87943741b5d7",
       "version_major": 2,
       "version_minor": 0
      },
      "text/plain": [
       "HBox(children=(FloatProgress(value=1.0, bar_style='info', description='Training', layout=Layout(flex='2'), max…"
      ]
     },
     "metadata": {},
     "output_type": "display_data"
    },
    {
     "data": {
      "application/vnd.jupyter.widget-view+json": {
       "model_id": "",
       "version_major": 2,
       "version_minor": 0
      },
      "text/plain": [
       "HBox(children=(FloatProgress(value=1.0, bar_style='info', description='Validating', layout=Layout(flex='2'), m…"
      ]
     },
     "metadata": {},
     "output_type": "display_data"
    },
    {
     "name": "stdout",
     "output_type": "stream",
     "text": [
      "Val-Acc=0.7848251333728512\n",
      "Train-Acc=0.7885375494071146\n"
     ]
    },
    {
     "data": {
      "application/vnd.jupyter.widget-view+json": {
       "model_id": "",
       "version_major": 2,
       "version_minor": 0
      },
      "text/plain": [
       "HBox(children=(FloatProgress(value=1.0, bar_style='info', description='Validating', layout=Layout(flex='2'), m…"
      ]
     },
     "metadata": {},
     "output_type": "display_data"
    },
    {
     "name": "stdout",
     "output_type": "stream",
     "text": [
      "Val-Acc=0.8322465915826912\n",
      "Train-Acc=0.8231225296442688\n"
     ]
    },
    {
     "data": {
      "application/vnd.jupyter.widget-view+json": {
       "model_id": "",
       "version_major": 2,
       "version_minor": 0
      },
      "text/plain": [
       "HBox(children=(FloatProgress(value=1.0, bar_style='info', description='Validating', layout=Layout(flex='2'), m…"
      ]
     },
     "metadata": {},
     "output_type": "display_data"
    },
    {
     "name": "stdout",
     "output_type": "stream",
     "text": [
      "Val-Acc=0.8055720213396562\n"
     ]
    },
    {
     "name": "stderr",
     "output_type": "stream",
     "text": [
      "[I 2020-07-15 00:16:48,832] Setting status of trial#34 as TrialState.PRUNED. Trial was pruned at epoch 2.\n",
      "GPU available: True, used: True\n",
      "No environment variable for node rank defined. Set as 0.\n",
      "CUDA_VISIBLE_DEVICES: [0]\n",
      "Set SLURM handle signals.\n",
      "\n",
      "   | Name                      | Type                  | Params\n",
      "----------------------------------------------------------------\n",
      "0  | model                     | CRNN8k_D2             | 2 M   \n",
      "1  | model.spec                | MelspectrogramStretch | 0     \n",
      "2  | model.spec.spectrogram    | Spectrogram           | 0     \n",
      "3  | model.spec.mel_scale      | MelScale              | 0     \n",
      "4  | model.spec.stft           | Spectrogram           | 0     \n",
      "5  | model.spec.random_stretch | RandomTimeStretch     | 0     \n",
      "6  | model.spec.complex_norm   | ComplexNorm           | 0     \n",
      "7  | model.spec.norm           | SpecNormalization     | 0     \n",
      "8  | model.convs               | Sequential            | 213 K \n",
      "9  | model.convs.0             | Conv2d                | 320   \n",
      "10 | model.convs.1             | BatchNorm2d           | 64    \n",
      "11 | model.convs.2             | ELU                   | 0     \n",
      "12 | model.convs.3             | Conv2d                | 9 K   \n",
      "13 | model.convs.4             | BatchNorm2d           | 64    \n",
      "14 | model.convs.5             | ELU                   | 0     \n",
      "15 | model.convs.6             | MaxPool2d             | 0     \n",
      "16 | model.convs.7             | Dropout               | 0     \n",
      "17 | model.convs.8             | Conv2d                | 18 K  \n",
      "18 | model.convs.9             | BatchNorm2d           | 128   \n",
      "19 | model.convs.10            | ELU                   | 0     \n",
      "20 | model.convs.11            | Conv2d                | 36 K  \n",
      "21 | model.convs.12            | BatchNorm2d           | 128   \n",
      "22 | model.convs.13            | ELU                   | 0     \n",
      "23 | model.convs.14            | MaxPool2d             | 0     \n",
      "24 | model.convs.15            | Dropout               | 0     \n",
      "25 | model.convs.16            | Conv2d                | 73 K  \n",
      "26 | model.convs.17            | BatchNorm2d           | 256   \n",
      "27 | model.convs.18            | ELU                   | 0     \n",
      "28 | model.convs.19            | MaxPool2d             | 0     \n",
      "29 | model.convs.20            | Dropout               | 0     \n",
      "30 | model.convs.21            | Conv2d                | 73 K  \n",
      "31 | model.convs.22            | BatchNorm2d           | 128   \n",
      "32 | model.convs.23            | ELU                   | 0     \n",
      "33 | model.convs.24            | MaxPool2d             | 0     \n",
      "34 | model.convs.25            | Dropout               | 0     \n",
      "35 | model.LSTMCell            | LSTMCell              | 2 M   \n",
      "36 | model.dense               | Sequential            | 2 K   \n",
      "37 | model.dense.0             | Dropout               | 0     \n",
      "38 | model.dense.1             | BatchNorm1d           | 1 K   \n",
      "39 | model.dense.2             | Linear                | 1 K   \n"
     ]
    },
    {
     "data": {
      "application/vnd.jupyter.widget-view+json": {
       "model_id": "",
       "version_major": 2,
       "version_minor": 0
      },
      "text/plain": [
       "HBox(children=(FloatProgress(value=1.0, bar_style='info', description='Validation sanity check', layout=Layout…"
      ]
     },
     "metadata": {},
     "output_type": "display_data"
    },
    {
     "name": "stdout",
     "output_type": "stream",
     "text": [
      "Val-Acc=0.03793716656787196\n"
     ]
    },
    {
     "data": {
      "application/vnd.jupyter.widget-view+json": {
       "model_id": "74e61c91ecd3462a83e59a599281ff8a",
       "version_major": 2,
       "version_minor": 0
      },
      "text/plain": [
       "HBox(children=(FloatProgress(value=1.0, bar_style='info', description='Training', layout=Layout(flex='2'), max…"
      ]
     },
     "metadata": {},
     "output_type": "display_data"
    },
    {
     "data": {
      "application/vnd.jupyter.widget-view+json": {
       "model_id": "",
       "version_major": 2,
       "version_minor": 0
      },
      "text/plain": [
       "HBox(children=(FloatProgress(value=1.0, bar_style='info', description='Validating', layout=Layout(flex='2'), m…"
      ]
     },
     "metadata": {},
     "output_type": "display_data"
    },
    {
     "name": "stdout",
     "output_type": "stream",
     "text": [
      "Val-Acc=0.8423236514522822\n",
      "Train-Acc=0.8029644268774704\n"
     ]
    },
    {
     "data": {
      "application/vnd.jupyter.widget-view+json": {
       "model_id": "",
       "version_major": 2,
       "version_minor": 0
      },
      "text/plain": [
       "HBox(children=(FloatProgress(value=1.0, bar_style='info', description='Validating', layout=Layout(flex='2'), m…"
      ]
     },
     "metadata": {},
     "output_type": "display_data"
    },
    {
     "name": "stdout",
     "output_type": "stream",
     "text": [
      "Val-Acc=0.8322465915826912\n",
      "Train-Acc=0.8330039525691699\n"
     ]
    },
    {
     "data": {
      "application/vnd.jupyter.widget-view+json": {
       "model_id": "",
       "version_major": 2,
       "version_minor": 0
      },
      "text/plain": [
       "HBox(children=(FloatProgress(value=1.0, bar_style='info', description='Validating', layout=Layout(flex='2'), m…"
      ]
     },
     "metadata": {},
     "output_type": "display_data"
    },
    {
     "name": "stdout",
     "output_type": "stream",
     "text": [
      "Val-Acc=0.8518079430942501\n",
      "Train-Acc=0.8496047430830039\n"
     ]
    },
    {
     "data": {
      "application/vnd.jupyter.widget-view+json": {
       "model_id": "",
       "version_major": 2,
       "version_minor": 0
      },
      "text/plain": [
       "HBox(children=(FloatProgress(value=1.0, bar_style='info', description='Validating', layout=Layout(flex='2'), m…"
      ]
     },
     "metadata": {},
     "output_type": "display_data"
    },
    {
     "name": "stdout",
     "output_type": "stream",
     "text": [
      "Val-Acc=0.8648488441019562\n",
      "Train-Acc=0.8620553359683795\n"
     ]
    },
    {
     "data": {
      "application/vnd.jupyter.widget-view+json": {
       "model_id": "",
       "version_major": 2,
       "version_minor": 0
      },
      "text/plain": [
       "HBox(children=(FloatProgress(value=1.0, bar_style='info', description='Validating', layout=Layout(flex='2'), m…"
      ]
     },
     "metadata": {},
     "output_type": "display_data"
    },
    {
     "name": "stdout",
     "output_type": "stream",
     "text": [
      "Val-Acc=0.8624777711914642\n",
      "Train-Acc=0.8701581027667984\n"
     ]
    },
    {
     "data": {
      "application/vnd.jupyter.widget-view+json": {
       "model_id": "",
       "version_major": 2,
       "version_minor": 0
      },
      "text/plain": [
       "HBox(children=(FloatProgress(value=1.0, bar_style='info', description='Validating', layout=Layout(flex='2'), m…"
      ]
     },
     "metadata": {},
     "output_type": "display_data"
    },
    {
     "name": "stdout",
     "output_type": "stream",
     "text": [
      "Val-Acc=0.8778897451096621\n",
      "Train-Acc=0.8715415019762845\n"
     ]
    },
    {
     "data": {
      "application/vnd.jupyter.widget-view+json": {
       "model_id": "",
       "version_major": 2,
       "version_minor": 0
      },
      "text/plain": [
       "HBox(children=(FloatProgress(value=1.0, bar_style='info', description='Validating', layout=Layout(flex='2'), m…"
      ]
     },
     "metadata": {},
     "output_type": "display_data"
    },
    {
     "name": "stdout",
     "output_type": "stream",
     "text": [
      "Val-Acc=0.8695909899229401\n",
      "Train-Acc=0.8766798418972332\n"
     ]
    },
    {
     "data": {
      "application/vnd.jupyter.widget-view+json": {
       "model_id": "",
       "version_major": 2,
       "version_minor": 0
      },
      "text/plain": [
       "HBox(children=(FloatProgress(value=1.0, bar_style='info', description='Validating', layout=Layout(flex='2'), m…"
      ]
     },
     "metadata": {},
     "output_type": "display_data"
    },
    {
     "name": "stdout",
     "output_type": "stream",
     "text": [
      "Val-Acc=0.8684054534676942\n",
      "Train-Acc=0.8853754940711462\n"
     ]
    },
    {
     "data": {
      "application/vnd.jupyter.widget-view+json": {
       "model_id": "",
       "version_major": 2,
       "version_minor": 0
      },
      "text/plain": [
       "HBox(children=(FloatProgress(value=1.0, bar_style='info', description='Validating', layout=Layout(flex='2'), m…"
      ]
     },
     "metadata": {},
     "output_type": "display_data"
    },
    {
     "name": "stdout",
     "output_type": "stream",
     "text": [
      "Val-Acc=0.8707765263781861\n",
      "Train-Acc=0.8814229249011858\n"
     ]
    },
    {
     "data": {
      "application/vnd.jupyter.widget-view+json": {
       "model_id": "",
       "version_major": 2,
       "version_minor": 0
      },
      "text/plain": [
       "HBox(children=(FloatProgress(value=1.0, bar_style='info', description='Validating', layout=Layout(flex='2'), m…"
      ]
     },
     "metadata": {},
     "output_type": "display_data"
    },
    {
     "name": "stdout",
     "output_type": "stream",
     "text": [
      "Val-Acc=0.8749259039715471\n",
      "Train-Acc=0.8887351778656126\n"
     ]
    },
    {
     "data": {
      "application/vnd.jupyter.widget-view+json": {
       "model_id": "",
       "version_major": 2,
       "version_minor": 0
      },
      "text/plain": [
       "HBox(children=(FloatProgress(value=1.0, bar_style='info', description='Validating', layout=Layout(flex='2'), m…"
      ]
     },
     "metadata": {},
     "output_type": "display_data"
    },
    {
     "name": "stdout",
     "output_type": "stream",
     "text": [
      "Val-Acc=0.8737403675163011\n",
      "Train-Acc=0.8903162055335968\n"
     ]
    },
    {
     "data": {
      "application/vnd.jupyter.widget-view+json": {
       "model_id": "",
       "version_major": 2,
       "version_minor": 0
      },
      "text/plain": [
       "HBox(children=(FloatProgress(value=1.0, bar_style='info', description='Validating', layout=Layout(flex='2'), m…"
      ]
     },
     "metadata": {},
     "output_type": "display_data"
    },
    {
     "name": "stdout",
     "output_type": "stream",
     "text": [
      "Val-Acc=0.8784825133372851\n",
      "Train-Acc=0.8889328063241106\n"
     ]
    },
    {
     "data": {
      "application/vnd.jupyter.widget-view+json": {
       "model_id": "",
       "version_major": 2,
       "version_minor": 0
      },
      "text/plain": [
       "HBox(children=(FloatProgress(value=1.0, bar_style='info', description='Validating', layout=Layout(flex='2'), m…"
      ]
     },
     "metadata": {},
     "output_type": "display_data"
    },
    {
     "name": "stdout",
     "output_type": "stream",
     "text": [
      "Val-Acc=0.8731475992886781\n",
      "Train-Acc=0.8909090909090909\n"
     ]
    },
    {
     "data": {
      "application/vnd.jupyter.widget-view+json": {
       "model_id": "",
       "version_major": 2,
       "version_minor": 0
      },
      "text/plain": [
       "HBox(children=(FloatProgress(value=1.0, bar_style='info', description='Validating', layout=Layout(flex='2'), m…"
      ]
     },
     "metadata": {},
     "output_type": "display_data"
    },
    {
     "name": "stdout",
     "output_type": "stream",
     "text": [
      "Val-Acc=0.8749259039715471\n",
      "Train-Acc=0.8881422924901186\n"
     ]
    },
    {
     "data": {
      "application/vnd.jupyter.widget-view+json": {
       "model_id": "",
       "version_major": 2,
       "version_minor": 0
      },
      "text/plain": [
       "HBox(children=(FloatProgress(value=1.0, bar_style='info', description='Validating', layout=Layout(flex='2'), m…"
      ]
     },
     "metadata": {},
     "output_type": "display_data"
    },
    {
     "name": "stdout",
     "output_type": "stream",
     "text": [
      "Val-Acc=0.8749259039715471\n",
      "Train-Acc=0.892094861660079\n",
      "\n",
      "Saved model to \"saved_modelsq/35.p\"\n"
     ]
    },
    {
     "name": "stderr",
     "output_type": "stream",
     "text": [
      "[I 2020-07-15 00:18:48,182] Finished trial#35 with value: 0.8749259039715471 with parameters: {'learning_rate': 0.0002505620244541964, 'p_drop': 0.049685534043089896, 'lr_decay': 0.7053092365594885, 'n_hidden': 658, 'weight_decay': 0.0072844338612416265}. Best is trial#12 with value: 0.8921161825726142.\n",
      "GPU available: True, used: True\n",
      "No environment variable for node rank defined. Set as 0.\n",
      "CUDA_VISIBLE_DEVICES: [0]\n",
      "Set SLURM handle signals.\n",
      "\n",
      "   | Name                      | Type                  | Params\n",
      "----------------------------------------------------------------\n",
      "0  | model                     | CRNN8k_D2             | 3 M   \n",
      "1  | model.spec                | MelspectrogramStretch | 0     \n",
      "2  | model.spec.spectrogram    | Spectrogram           | 0     \n",
      "3  | model.spec.mel_scale      | MelScale              | 0     \n",
      "4  | model.spec.stft           | Spectrogram           | 0     \n",
      "5  | model.spec.random_stretch | RandomTimeStretch     | 0     \n",
      "6  | model.spec.complex_norm   | ComplexNorm           | 0     \n",
      "7  | model.spec.norm           | SpecNormalization     | 0     \n",
      "8  | model.convs               | Sequential            | 213 K \n",
      "9  | model.convs.0             | Conv2d                | 320   \n",
      "10 | model.convs.1             | BatchNorm2d           | 64    \n",
      "11 | model.convs.2             | ELU                   | 0     \n",
      "12 | model.convs.3             | Conv2d                | 9 K   \n",
      "13 | model.convs.4             | BatchNorm2d           | 64    \n",
      "14 | model.convs.5             | ELU                   | 0     \n",
      "15 | model.convs.6             | MaxPool2d             | 0     \n",
      "16 | model.convs.7             | Dropout               | 0     \n",
      "17 | model.convs.8             | Conv2d                | 18 K  \n",
      "18 | model.convs.9             | BatchNorm2d           | 128   \n",
      "19 | model.convs.10            | ELU                   | 0     \n",
      "20 | model.convs.11            | Conv2d                | 36 K  \n",
      "21 | model.convs.12            | BatchNorm2d           | 128   \n",
      "22 | model.convs.13            | ELU                   | 0     \n",
      "23 | model.convs.14            | MaxPool2d             | 0     \n",
      "24 | model.convs.15            | Dropout               | 0     \n",
      "25 | model.convs.16            | Conv2d                | 73 K  \n",
      "26 | model.convs.17            | BatchNorm2d           | 256   \n",
      "27 | model.convs.18            | ELU                   | 0     \n",
      "28 | model.convs.19            | MaxPool2d             | 0     \n",
      "29 | model.convs.20            | Dropout               | 0     \n",
      "30 | model.convs.21            | Conv2d                | 73 K  \n",
      "31 | model.convs.22            | BatchNorm2d           | 128   \n",
      "32 | model.convs.23            | ELU                   | 0     \n",
      "33 | model.convs.24            | MaxPool2d             | 0     \n",
      "34 | model.convs.25            | Dropout               | 0     \n",
      "35 | model.LSTMCell            | LSTMCell              | 3 M   \n",
      "36 | model.dense               | Sequential            | 3 K   \n",
      "37 | model.dense.0             | Dropout               | 0     \n",
      "38 | model.dense.1             | BatchNorm1d           | 1 K   \n",
      "39 | model.dense.2             | Linear                | 1 K   \n"
     ]
    },
    {
     "data": {
      "application/vnd.jupyter.widget-view+json": {
       "model_id": "",
       "version_major": 2,
       "version_minor": 0
      },
      "text/plain": [
       "HBox(children=(FloatProgress(value=1.0, bar_style='info', description='Validation sanity check', layout=Layout…"
      ]
     },
     "metadata": {},
     "output_type": "display_data"
    },
    {
     "name": "stdout",
     "output_type": "stream",
     "text": [
      "Val-Acc=0.03793716656787196\n"
     ]
    },
    {
     "data": {
      "application/vnd.jupyter.widget-view+json": {
       "model_id": "ceed81d59bf44d2aba34fa28135c55b8",
       "version_major": 2,
       "version_minor": 0
      },
      "text/plain": [
       "HBox(children=(FloatProgress(value=1.0, bar_style='info', description='Training', layout=Layout(flex='2'), max…"
      ]
     },
     "metadata": {},
     "output_type": "display_data"
    },
    {
     "data": {
      "application/vnd.jupyter.widget-view+json": {
       "model_id": "",
       "version_major": 2,
       "version_minor": 0
      },
      "text/plain": [
       "HBox(children=(FloatProgress(value=1.0, bar_style='info', description='Validating', layout=Layout(flex='2'), m…"
      ]
     },
     "metadata": {},
     "output_type": "display_data"
    },
    {
     "name": "stdout",
     "output_type": "stream",
     "text": [
      "Val-Acc=0.3627741553052756\n",
      "Train-Acc=0.7845849802371542\n"
     ]
    },
    {
     "data": {
      "application/vnd.jupyter.widget-view+json": {
       "model_id": "",
       "version_major": 2,
       "version_minor": 0
      },
      "text/plain": [
       "HBox(children=(FloatProgress(value=1.0, bar_style='info', description='Validating', layout=Layout(flex='2'), m…"
      ]
     },
     "metadata": {},
     "output_type": "display_data"
    },
    {
     "name": "stdout",
     "output_type": "stream",
     "text": [
      "Val-Acc=0.8120924718435092\n",
      "Train-Acc=0.7960474308300395\n"
     ]
    },
    {
     "data": {
      "application/vnd.jupyter.widget-view+json": {
       "model_id": "",
       "version_major": 2,
       "version_minor": 0
      },
      "text/plain": [
       "HBox(children=(FloatProgress(value=1.0, bar_style='info', description='Validating', layout=Layout(flex='2'), m…"
      ]
     },
     "metadata": {},
     "output_type": "display_data"
    },
    {
     "name": "stdout",
     "output_type": "stream",
     "text": [
      "Val-Acc=0.7540011855364552\n"
     ]
    },
    {
     "name": "stderr",
     "output_type": "stream",
     "text": [
      "[I 2020-07-15 00:19:12,645] Setting status of trial#36 as TrialState.PRUNED. Trial was pruned at epoch 2.\n",
      "GPU available: True, used: True\n",
      "No environment variable for node rank defined. Set as 0.\n",
      "CUDA_VISIBLE_DEVICES: [0]\n",
      "Set SLURM handle signals.\n",
      "\n",
      "   | Name                      | Type                  | Params\n",
      "----------------------------------------------------------------\n",
      "0  | model                     | CRNN8k_D2             | 4 M   \n",
      "1  | model.spec                | MelspectrogramStretch | 0     \n",
      "2  | model.spec.spectrogram    | Spectrogram           | 0     \n",
      "3  | model.spec.mel_scale      | MelScale              | 0     \n",
      "4  | model.spec.stft           | Spectrogram           | 0     \n",
      "5  | model.spec.random_stretch | RandomTimeStretch     | 0     \n",
      "6  | model.spec.complex_norm   | ComplexNorm           | 0     \n",
      "7  | model.spec.norm           | SpecNormalization     | 0     \n",
      "8  | model.convs               | Sequential            | 213 K \n",
      "9  | model.convs.0             | Conv2d                | 320   \n",
      "10 | model.convs.1             | BatchNorm2d           | 64    \n",
      "11 | model.convs.2             | ELU                   | 0     \n",
      "12 | model.convs.3             | Conv2d                | 9 K   \n",
      "13 | model.convs.4             | BatchNorm2d           | 64    \n",
      "14 | model.convs.5             | ELU                   | 0     \n",
      "15 | model.convs.6             | MaxPool2d             | 0     \n",
      "16 | model.convs.7             | Dropout               | 0     \n",
      "17 | model.convs.8             | Conv2d                | 18 K  \n",
      "18 | model.convs.9             | BatchNorm2d           | 128   \n",
      "19 | model.convs.10            | ELU                   | 0     \n",
      "20 | model.convs.11            | Conv2d                | 36 K  \n",
      "21 | model.convs.12            | BatchNorm2d           | 128   \n",
      "22 | model.convs.13            | ELU                   | 0     \n",
      "23 | model.convs.14            | MaxPool2d             | 0     \n",
      "24 | model.convs.15            | Dropout               | 0     \n",
      "25 | model.convs.16            | Conv2d                | 73 K  \n",
      "26 | model.convs.17            | BatchNorm2d           | 256   \n",
      "27 | model.convs.18            | ELU                   | 0     \n",
      "28 | model.convs.19            | MaxPool2d             | 0     \n",
      "29 | model.convs.20            | Dropout               | 0     \n",
      "30 | model.convs.21            | Conv2d                | 73 K  \n",
      "31 | model.convs.22            | BatchNorm2d           | 128   \n",
      "32 | model.convs.23            | ELU                   | 0     \n",
      "33 | model.convs.24            | MaxPool2d             | 0     \n",
      "34 | model.convs.25            | Dropout               | 0     \n",
      "35 | model.LSTMCell            | LSTMCell              | 4 M   \n",
      "36 | model.dense               | Sequential            | 3 K   \n",
      "37 | model.dense.0             | Dropout               | 0     \n",
      "38 | model.dense.1             | BatchNorm1d           | 1 K   \n",
      "39 | model.dense.2             | Linear                | 1 K   \n"
     ]
    },
    {
     "data": {
      "application/vnd.jupyter.widget-view+json": {
       "model_id": "",
       "version_major": 2,
       "version_minor": 0
      },
      "text/plain": [
       "HBox(children=(FloatProgress(value=1.0, bar_style='info', description='Validation sanity check', layout=Layout…"
      ]
     },
     "metadata": {},
     "output_type": "display_data"
    },
    {
     "name": "stdout",
     "output_type": "stream",
     "text": [
      "Val-Acc=0.03793716656787196\n"
     ]
    },
    {
     "data": {
      "application/vnd.jupyter.widget-view+json": {
       "model_id": "6855d76bfa5a4bff89930116ed74e174",
       "version_major": 2,
       "version_minor": 0
      },
      "text/plain": [
       "HBox(children=(FloatProgress(value=1.0, bar_style='info', description='Training', layout=Layout(flex='2'), max…"
      ]
     },
     "metadata": {},
     "output_type": "display_data"
    },
    {
     "data": {
      "application/vnd.jupyter.widget-view+json": {
       "model_id": "",
       "version_major": 2,
       "version_minor": 0
      },
      "text/plain": [
       "HBox(children=(FloatProgress(value=1.0, bar_style='info', description='Validating', layout=Layout(flex='2'), m…"
      ]
     },
     "metadata": {},
     "output_type": "display_data"
    },
    {
     "name": "stdout",
     "output_type": "stream",
     "text": [
      "Val-Acc=0.6704208654416123\n",
      "Train-Acc=0.76699604743083\n"
     ]
    },
    {
     "data": {
      "application/vnd.jupyter.widget-view+json": {
       "model_id": "",
       "version_major": 2,
       "version_minor": 0
      },
      "text/plain": [
       "HBox(children=(FloatProgress(value=1.0, bar_style='info', description='Validating', layout=Layout(flex='2'), m…"
      ]
     },
     "metadata": {},
     "output_type": "display_data"
    },
    {
     "name": "stdout",
     "output_type": "stream",
     "text": [
      "Val-Acc=0.8144635447540012\n",
      "Train-Acc=0.8114624505928854\n"
     ]
    },
    {
     "data": {
      "application/vnd.jupyter.widget-view+json": {
       "model_id": "",
       "version_major": 2,
       "version_minor": 0
      },
      "text/plain": [
       "HBox(children=(FloatProgress(value=1.0, bar_style='info', description='Validating', layout=Layout(flex='2'), m…"
      ]
     },
     "metadata": {},
     "output_type": "display_data"
    },
    {
     "name": "stdout",
     "output_type": "stream",
     "text": [
      "Val-Acc=0.7717842323651453\n"
     ]
    },
    {
     "name": "stderr",
     "output_type": "stream",
     "text": [
      "[I 2020-07-15 00:19:37,399] Setting status of trial#37 as TrialState.PRUNED. Trial was pruned at epoch 2.\n",
      "GPU available: True, used: True\n",
      "No environment variable for node rank defined. Set as 0.\n",
      "CUDA_VISIBLE_DEVICES: [0]\n",
      "Set SLURM handle signals.\n",
      "\n",
      "   | Name                      | Type                  | Params\n",
      "----------------------------------------------------------------\n",
      "0  | model                     | CRNN8k_D2             | 1 M   \n",
      "1  | model.spec                | MelspectrogramStretch | 0     \n",
      "2  | model.spec.spectrogram    | Spectrogram           | 0     \n",
      "3  | model.spec.mel_scale      | MelScale              | 0     \n",
      "4  | model.spec.stft           | Spectrogram           | 0     \n",
      "5  | model.spec.random_stretch | RandomTimeStretch     | 0     \n",
      "6  | model.spec.complex_norm   | ComplexNorm           | 0     \n",
      "7  | model.spec.norm           | SpecNormalization     | 0     \n",
      "8  | model.convs               | Sequential            | 213 K \n",
      "9  | model.convs.0             | Conv2d                | 320   \n",
      "10 | model.convs.1             | BatchNorm2d           | 64    \n",
      "11 | model.convs.2             | ELU                   | 0     \n",
      "12 | model.convs.3             | Conv2d                | 9 K   \n",
      "13 | model.convs.4             | BatchNorm2d           | 64    \n",
      "14 | model.convs.5             | ELU                   | 0     \n",
      "15 | model.convs.6             | MaxPool2d             | 0     \n",
      "16 | model.convs.7             | Dropout               | 0     \n",
      "17 | model.convs.8             | Conv2d                | 18 K  \n",
      "18 | model.convs.9             | BatchNorm2d           | 128   \n",
      "19 | model.convs.10            | ELU                   | 0     \n",
      "20 | model.convs.11            | Conv2d                | 36 K  \n",
      "21 | model.convs.12            | BatchNorm2d           | 128   \n",
      "22 | model.convs.13            | ELU                   | 0     \n",
      "23 | model.convs.14            | MaxPool2d             | 0     \n",
      "24 | model.convs.15            | Dropout               | 0     \n",
      "25 | model.convs.16            | Conv2d                | 73 K  \n",
      "26 | model.convs.17            | BatchNorm2d           | 256   \n",
      "27 | model.convs.18            | ELU                   | 0     \n",
      "28 | model.convs.19            | MaxPool2d             | 0     \n",
      "29 | model.convs.20            | Dropout               | 0     \n",
      "30 | model.convs.21            | Conv2d                | 73 K  \n",
      "31 | model.convs.22            | BatchNorm2d           | 128   \n",
      "32 | model.convs.23            | ELU                   | 0     \n",
      "33 | model.convs.24            | MaxPool2d             | 0     \n",
      "34 | model.convs.25            | Dropout               | 0     \n",
      "35 | model.LSTMCell            | LSTMCell              | 1 M   \n",
      "36 | model.dense               | Sequential            | 1 K   \n",
      "37 | model.dense.0             | Dropout               | 0     \n",
      "38 | model.dense.1             | BatchNorm1d           | 838   \n",
      "39 | model.dense.2             | Linear                | 840   \n"
     ]
    },
    {
     "data": {
      "application/vnd.jupyter.widget-view+json": {
       "model_id": "",
       "version_major": 2,
       "version_minor": 0
      },
      "text/plain": [
       "HBox(children=(FloatProgress(value=1.0, bar_style='info', description='Validation sanity check', layout=Layout…"
      ]
     },
     "metadata": {},
     "output_type": "display_data"
    },
    {
     "name": "stdout",
     "output_type": "stream",
     "text": [
      "Val-Acc=0.03793716656787196\n"
     ]
    },
    {
     "data": {
      "application/vnd.jupyter.widget-view+json": {
       "model_id": "dad1810eb5884e63a62dcf47faeb8991",
       "version_major": 2,
       "version_minor": 0
      },
      "text/plain": [
       "HBox(children=(FloatProgress(value=1.0, bar_style='info', description='Training', layout=Layout(flex='2'), max…"
      ]
     },
     "metadata": {},
     "output_type": "display_data"
    },
    {
     "data": {
      "application/vnd.jupyter.widget-view+json": {
       "model_id": "",
       "version_major": 2,
       "version_minor": 0
      },
      "text/plain": [
       "HBox(children=(FloatProgress(value=1.0, bar_style='info', description='Validating', layout=Layout(flex='2'), m…"
      ]
     },
     "metadata": {},
     "output_type": "display_data"
    },
    {
     "name": "stdout",
     "output_type": "stream",
     "text": [
      "Val-Acc=0.8215767634854771\n",
      "Train-Acc=0.7877470355731225\n"
     ]
    },
    {
     "data": {
      "application/vnd.jupyter.widget-view+json": {
       "model_id": "",
       "version_major": 2,
       "version_minor": 0
      },
      "text/plain": [
       "HBox(children=(FloatProgress(value=1.0, bar_style='info', description='Validating', layout=Layout(flex='2'), m…"
      ]
     },
     "metadata": {},
     "output_type": "display_data"
    },
    {
     "name": "stdout",
     "output_type": "stream",
     "text": [
      "Val-Acc=0.8263189093064611\n",
      "Train-Acc=0.8132411067193676\n"
     ]
    },
    {
     "data": {
      "application/vnd.jupyter.widget-view+json": {
       "model_id": "",
       "version_major": 2,
       "version_minor": 0
      },
      "text/plain": [
       "HBox(children=(FloatProgress(value=1.0, bar_style='info', description='Validating', layout=Layout(flex='2'), m…"
      ]
     },
     "metadata": {},
     "output_type": "display_data"
    },
    {
     "name": "stdout",
     "output_type": "stream",
     "text": [
      "Val-Acc=0.8322465915826912\n"
     ]
    },
    {
     "name": "stderr",
     "output_type": "stream",
     "text": [
      "[I 2020-07-15 00:20:01,932] Setting status of trial#38 as TrialState.PRUNED. Trial was pruned at epoch 2.\n",
      "GPU available: True, used: True\n",
      "No environment variable for node rank defined. Set as 0.\n",
      "CUDA_VISIBLE_DEVICES: [0]\n",
      "Set SLURM handle signals.\n",
      "\n",
      "   | Name                      | Type                  | Params\n",
      "----------------------------------------------------------------\n",
      "0  | model                     | CRNN8k_D2             | 3 M   \n",
      "1  | model.spec                | MelspectrogramStretch | 0     \n",
      "2  | model.spec.spectrogram    | Spectrogram           | 0     \n",
      "3  | model.spec.mel_scale      | MelScale              | 0     \n",
      "4  | model.spec.stft           | Spectrogram           | 0     \n",
      "5  | model.spec.random_stretch | RandomTimeStretch     | 0     \n",
      "6  | model.spec.complex_norm   | ComplexNorm           | 0     \n",
      "7  | model.spec.norm           | SpecNormalization     | 0     \n",
      "8  | model.convs               | Sequential            | 213 K \n",
      "9  | model.convs.0             | Conv2d                | 320   \n",
      "10 | model.convs.1             | BatchNorm2d           | 64    \n",
      "11 | model.convs.2             | ELU                   | 0     \n",
      "12 | model.convs.3             | Conv2d                | 9 K   \n",
      "13 | model.convs.4             | BatchNorm2d           | 64    \n",
      "14 | model.convs.5             | ELU                   | 0     \n",
      "15 | model.convs.6             | MaxPool2d             | 0     \n",
      "16 | model.convs.7             | Dropout               | 0     \n",
      "17 | model.convs.8             | Conv2d                | 18 K  \n",
      "18 | model.convs.9             | BatchNorm2d           | 128   \n",
      "19 | model.convs.10            | ELU                   | 0     \n",
      "20 | model.convs.11            | Conv2d                | 36 K  \n",
      "21 | model.convs.12            | BatchNorm2d           | 128   \n",
      "22 | model.convs.13            | ELU                   | 0     \n",
      "23 | model.convs.14            | MaxPool2d             | 0     \n",
      "24 | model.convs.15            | Dropout               | 0     \n",
      "25 | model.convs.16            | Conv2d                | 73 K  \n",
      "26 | model.convs.17            | BatchNorm2d           | 256   \n",
      "27 | model.convs.18            | ELU                   | 0     \n",
      "28 | model.convs.19            | MaxPool2d             | 0     \n",
      "29 | model.convs.20            | Dropout               | 0     \n",
      "30 | model.convs.21            | Conv2d                | 73 K  \n",
      "31 | model.convs.22            | BatchNorm2d           | 128   \n",
      "32 | model.convs.23            | ELU                   | 0     \n",
      "33 | model.convs.24            | MaxPool2d             | 0     \n",
      "34 | model.convs.25            | Dropout               | 0     \n",
      "35 | model.LSTMCell            | LSTMCell              | 3 M   \n",
      "36 | model.dense               | Sequential            | 3 K   \n",
      "37 | model.dense.0             | Dropout               | 0     \n",
      "38 | model.dense.1             | BatchNorm1d           | 1 K   \n",
      "39 | model.dense.2             | Linear                | 1 K   \n"
     ]
    },
    {
     "data": {
      "application/vnd.jupyter.widget-view+json": {
       "model_id": "",
       "version_major": 2,
       "version_minor": 0
      },
      "text/plain": [
       "HBox(children=(FloatProgress(value=1.0, bar_style='info', description='Validation sanity check', layout=Layout…"
      ]
     },
     "metadata": {},
     "output_type": "display_data"
    },
    {
     "name": "stdout",
     "output_type": "stream",
     "text": [
      "Val-Acc=0.03793716656787196\n"
     ]
    },
    {
     "data": {
      "application/vnd.jupyter.widget-view+json": {
       "model_id": "313b43cb9aa241bba9c07badf0b70a12",
       "version_major": 2,
       "version_minor": 0
      },
      "text/plain": [
       "HBox(children=(FloatProgress(value=1.0, bar_style='info', description='Training', layout=Layout(flex='2'), max…"
      ]
     },
     "metadata": {},
     "output_type": "display_data"
    },
    {
     "data": {
      "application/vnd.jupyter.widget-view+json": {
       "model_id": "",
       "version_major": 2,
       "version_minor": 0
      },
      "text/plain": [
       "HBox(children=(FloatProgress(value=1.0, bar_style='info', description='Validating', layout=Layout(flex='2'), m…"
      ]
     },
     "metadata": {},
     "output_type": "display_data"
    },
    {
     "name": "stdout",
     "output_type": "stream",
     "text": [
      "Val-Acc=0.7617071724955542\n",
      "Train-Acc=0.7314229249011858\n"
     ]
    },
    {
     "data": {
      "application/vnd.jupyter.widget-view+json": {
       "model_id": "",
       "version_major": 2,
       "version_minor": 0
      },
      "text/plain": [
       "HBox(children=(FloatProgress(value=1.0, bar_style='info', description='Validating', layout=Layout(flex='2'), m…"
      ]
     },
     "metadata": {},
     "output_type": "display_data"
    },
    {
     "name": "stdout",
     "output_type": "stream",
     "text": [
      "Val-Acc=0.7800829875518672\n"
     ]
    },
    {
     "name": "stderr",
     "output_type": "stream",
     "text": [
      "[I 2020-07-15 00:20:18,307] Setting status of trial#39 as TrialState.PRUNED. Trial was pruned at epoch 1.\n",
      "GPU available: True, used: True\n",
      "No environment variable for node rank defined. Set as 0.\n",
      "CUDA_VISIBLE_DEVICES: [0]\n",
      "Set SLURM handle signals.\n",
      "\n",
      "   | Name                      | Type                  | Params\n",
      "----------------------------------------------------------------\n",
      "0  | model                     | CRNN8k_D2             | 4 M   \n",
      "1  | model.spec                | MelspectrogramStretch | 0     \n",
      "2  | model.spec.spectrogram    | Spectrogram           | 0     \n",
      "3  | model.spec.mel_scale      | MelScale              | 0     \n",
      "4  | model.spec.stft           | Spectrogram           | 0     \n",
      "5  | model.spec.random_stretch | RandomTimeStretch     | 0     \n",
      "6  | model.spec.complex_norm   | ComplexNorm           | 0     \n",
      "7  | model.spec.norm           | SpecNormalization     | 0     \n",
      "8  | model.convs               | Sequential            | 213 K \n",
      "9  | model.convs.0             | Conv2d                | 320   \n",
      "10 | model.convs.1             | BatchNorm2d           | 64    \n",
      "11 | model.convs.2             | ELU                   | 0     \n",
      "12 | model.convs.3             | Conv2d                | 9 K   \n",
      "13 | model.convs.4             | BatchNorm2d           | 64    \n",
      "14 | model.convs.5             | ELU                   | 0     \n",
      "15 | model.convs.6             | MaxPool2d             | 0     \n",
      "16 | model.convs.7             | Dropout               | 0     \n",
      "17 | model.convs.8             | Conv2d                | 18 K  \n",
      "18 | model.convs.9             | BatchNorm2d           | 128   \n",
      "19 | model.convs.10            | ELU                   | 0     \n",
      "20 | model.convs.11            | Conv2d                | 36 K  \n",
      "21 | model.convs.12            | BatchNorm2d           | 128   \n",
      "22 | model.convs.13            | ELU                   | 0     \n",
      "23 | model.convs.14            | MaxPool2d             | 0     \n",
      "24 | model.convs.15            | Dropout               | 0     \n",
      "25 | model.convs.16            | Conv2d                | 73 K  \n",
      "26 | model.convs.17            | BatchNorm2d           | 256   \n",
      "27 | model.convs.18            | ELU                   | 0     \n",
      "28 | model.convs.19            | MaxPool2d             | 0     \n",
      "29 | model.convs.20            | Dropout               | 0     \n",
      "30 | model.convs.21            | Conv2d                | 73 K  \n",
      "31 | model.convs.22            | BatchNorm2d           | 128   \n",
      "32 | model.convs.23            | ELU                   | 0     \n",
      "33 | model.convs.24            | MaxPool2d             | 0     \n",
      "34 | model.convs.25            | Dropout               | 0     \n",
      "35 | model.LSTMCell            | LSTMCell              | 3 M   \n",
      "36 | model.dense               | Sequential            | 3 K   \n",
      "37 | model.dense.0             | Dropout               | 0     \n",
      "38 | model.dense.1             | BatchNorm1d           | 1 K   \n",
      "39 | model.dense.2             | Linear                | 1 K   \n"
     ]
    },
    {
     "data": {
      "application/vnd.jupyter.widget-view+json": {
       "model_id": "",
       "version_major": 2,
       "version_minor": 0
      },
      "text/plain": [
       "HBox(children=(FloatProgress(value=1.0, bar_style='info', description='Validation sanity check', layout=Layout…"
      ]
     },
     "metadata": {},
     "output_type": "display_data"
    },
    {
     "name": "stdout",
     "output_type": "stream",
     "text": [
      "Val-Acc=0.03793716656787196\n"
     ]
    },
    {
     "data": {
      "application/vnd.jupyter.widget-view+json": {
       "model_id": "6cb019e5defe4b72a4d40e4326b92dfb",
       "version_major": 2,
       "version_minor": 0
      },
      "text/plain": [
       "HBox(children=(FloatProgress(value=1.0, bar_style='info', description='Training', layout=Layout(flex='2'), max…"
      ]
     },
     "metadata": {},
     "output_type": "display_data"
    },
    {
     "data": {
      "application/vnd.jupyter.widget-view+json": {
       "model_id": "",
       "version_major": 2,
       "version_minor": 0
      },
      "text/plain": [
       "HBox(children=(FloatProgress(value=1.0, bar_style='info', description='Validating', layout=Layout(flex='2'), m…"
      ]
     },
     "metadata": {},
     "output_type": "display_data"
    },
    {
     "name": "stdout",
     "output_type": "stream",
     "text": [
      "Val-Acc=0.7569650266745702\n",
      "Train-Acc=0.775098814229249\n"
     ]
    },
    {
     "data": {
      "application/vnd.jupyter.widget-view+json": {
       "model_id": "",
       "version_major": 2,
       "version_minor": 0
      },
      "text/plain": [
       "HBox(children=(FloatProgress(value=1.0, bar_style='info', description='Validating', layout=Layout(flex='2'), m…"
      ]
     },
     "metadata": {},
     "output_type": "display_data"
    },
    {
     "name": "stdout",
     "output_type": "stream",
     "text": [
      "Val-Acc=0.46769413159454654\n"
     ]
    },
    {
     "name": "stderr",
     "output_type": "stream",
     "text": [
      "[I 2020-07-15 00:20:34,608] Setting status of trial#40 as TrialState.PRUNED. Trial was pruned at epoch 1.\n",
      "GPU available: True, used: True\n",
      "No environment variable for node rank defined. Set as 0.\n",
      "CUDA_VISIBLE_DEVICES: [0]\n",
      "Set SLURM handle signals.\n",
      "\n",
      "   | Name                      | Type                  | Params\n",
      "----------------------------------------------------------------\n",
      "0  | model                     | CRNN8k_D2             | 5 M   \n",
      "1  | model.spec                | MelspectrogramStretch | 0     \n",
      "2  | model.spec.spectrogram    | Spectrogram           | 0     \n",
      "3  | model.spec.mel_scale      | MelScale              | 0     \n",
      "4  | model.spec.stft           | Spectrogram           | 0     \n",
      "5  | model.spec.random_stretch | RandomTimeStretch     | 0     \n",
      "6  | model.spec.complex_norm   | ComplexNorm           | 0     \n",
      "7  | model.spec.norm           | SpecNormalization     | 0     \n",
      "8  | model.convs               | Sequential            | 213 K \n",
      "9  | model.convs.0             | Conv2d                | 320   \n",
      "10 | model.convs.1             | BatchNorm2d           | 64    \n",
      "11 | model.convs.2             | ELU                   | 0     \n",
      "12 | model.convs.3             | Conv2d                | 9 K   \n",
      "13 | model.convs.4             | BatchNorm2d           | 64    \n",
      "14 | model.convs.5             | ELU                   | 0     \n",
      "15 | model.convs.6             | MaxPool2d             | 0     \n",
      "16 | model.convs.7             | Dropout               | 0     \n",
      "17 | model.convs.8             | Conv2d                | 18 K  \n",
      "18 | model.convs.9             | BatchNorm2d           | 128   \n",
      "19 | model.convs.10            | ELU                   | 0     \n",
      "20 | model.convs.11            | Conv2d                | 36 K  \n",
      "21 | model.convs.12            | BatchNorm2d           | 128   \n",
      "22 | model.convs.13            | ELU                   | 0     \n",
      "23 | model.convs.14            | MaxPool2d             | 0     \n",
      "24 | model.convs.15            | Dropout               | 0     \n",
      "25 | model.convs.16            | Conv2d                | 73 K  \n",
      "26 | model.convs.17            | BatchNorm2d           | 256   \n",
      "27 | model.convs.18            | ELU                   | 0     \n",
      "28 | model.convs.19            | MaxPool2d             | 0     \n",
      "29 | model.convs.20            | Dropout               | 0     \n",
      "30 | model.convs.21            | Conv2d                | 73 K  \n",
      "31 | model.convs.22            | BatchNorm2d           | 128   \n",
      "32 | model.convs.23            | ELU                   | 0     \n",
      "33 | model.convs.24            | MaxPool2d             | 0     \n",
      "34 | model.convs.25            | Dropout               | 0     \n",
      "35 | model.LSTMCell            | LSTMCell              | 4 M   \n",
      "36 | model.dense               | Sequential            | 3 K   \n",
      "37 | model.dense.0             | Dropout               | 0     \n",
      "38 | model.dense.1             | BatchNorm1d           | 1 K   \n",
      "39 | model.dense.2             | Linear                | 1 K   \n"
     ]
    },
    {
     "data": {
      "application/vnd.jupyter.widget-view+json": {
       "model_id": "",
       "version_major": 2,
       "version_minor": 0
      },
      "text/plain": [
       "HBox(children=(FloatProgress(value=1.0, bar_style='info', description='Validation sanity check', layout=Layout…"
      ]
     },
     "metadata": {},
     "output_type": "display_data"
    },
    {
     "name": "stdout",
     "output_type": "stream",
     "text": [
      "Val-Acc=0.03852993479549496\n"
     ]
    },
    {
     "data": {
      "application/vnd.jupyter.widget-view+json": {
       "model_id": "f1408486deca4dde9b3a179be0c25d70",
       "version_major": 2,
       "version_minor": 0
      },
      "text/plain": [
       "HBox(children=(FloatProgress(value=1.0, bar_style='info', description='Training', layout=Layout(flex='2'), max…"
      ]
     },
     "metadata": {},
     "output_type": "display_data"
    },
    {
     "data": {
      "application/vnd.jupyter.widget-view+json": {
       "model_id": "",
       "version_major": 2,
       "version_minor": 0
      },
      "text/plain": [
       "HBox(children=(FloatProgress(value=1.0, bar_style='info', description='Validating', layout=Layout(flex='2'), m…"
      ]
     },
     "metadata": {},
     "output_type": "display_data"
    },
    {
     "name": "stdout",
     "output_type": "stream",
     "text": [
      "Val-Acc=0.5151155898043864\n",
      "Train-Acc=0.6871541501976285\n"
     ]
    },
    {
     "data": {
      "application/vnd.jupyter.widget-view+json": {
       "model_id": "",
       "version_major": 2,
       "version_minor": 0
      },
      "text/plain": [
       "HBox(children=(FloatProgress(value=1.0, bar_style='info', description='Validating', layout=Layout(flex='2'), m…"
      ]
     },
     "metadata": {},
     "output_type": "display_data"
    },
    {
     "name": "stdout",
     "output_type": "stream",
     "text": [
      "Val-Acc=0.7225844694724363\n"
     ]
    },
    {
     "name": "stderr",
     "output_type": "stream",
     "text": [
      "[I 2020-07-15 00:20:51,627] Setting status of trial#41 as TrialState.PRUNED. Trial was pruned at epoch 1.\n",
      "GPU available: True, used: True\n",
      "No environment variable for node rank defined. Set as 0.\n",
      "CUDA_VISIBLE_DEVICES: [0]\n",
      "Set SLURM handle signals.\n",
      "\n",
      "   | Name                      | Type                  | Params\n",
      "----------------------------------------------------------------\n",
      "0  | model                     | CRNN8k_D2             | 251 K \n",
      "1  | model.spec                | MelspectrogramStretch | 0     \n",
      "2  | model.spec.spectrogram    | Spectrogram           | 0     \n",
      "3  | model.spec.mel_scale      | MelScale              | 0     \n",
      "4  | model.spec.stft           | Spectrogram           | 0     \n",
      "5  | model.spec.random_stretch | RandomTimeStretch     | 0     \n",
      "6  | model.spec.complex_norm   | ComplexNorm           | 0     \n",
      "7  | model.spec.norm           | SpecNormalization     | 0     \n",
      "8  | model.convs               | Sequential            | 213 K \n",
      "9  | model.convs.0             | Conv2d                | 320   \n",
      "10 | model.convs.1             | BatchNorm2d           | 64    \n",
      "11 | model.convs.2             | ELU                   | 0     \n",
      "12 | model.convs.3             | Conv2d                | 9 K   \n",
      "13 | model.convs.4             | BatchNorm2d           | 64    \n",
      "14 | model.convs.5             | ELU                   | 0     \n",
      "15 | model.convs.6             | MaxPool2d             | 0     \n",
      "16 | model.convs.7             | Dropout               | 0     \n",
      "17 | model.convs.8             | Conv2d                | 18 K  \n",
      "18 | model.convs.9             | BatchNorm2d           | 128   \n",
      "19 | model.convs.10            | ELU                   | 0     \n",
      "20 | model.convs.11            | Conv2d                | 36 K  \n",
      "21 | model.convs.12            | BatchNorm2d           | 128   \n",
      "22 | model.convs.13            | ELU                   | 0     \n",
      "23 | model.convs.14            | MaxPool2d             | 0     \n",
      "24 | model.convs.15            | Dropout               | 0     \n",
      "25 | model.convs.16            | Conv2d                | 73 K  \n",
      "26 | model.convs.17            | BatchNorm2d           | 256   \n",
      "27 | model.convs.18            | ELU                   | 0     \n",
      "28 | model.convs.19            | MaxPool2d             | 0     \n",
      "29 | model.convs.20            | Dropout               | 0     \n",
      "30 | model.convs.21            | Conv2d                | 73 K  \n",
      "31 | model.convs.22            | BatchNorm2d           | 128   \n",
      "32 | model.convs.23            | ELU                   | 0     \n",
      "33 | model.convs.24            | MaxPool2d             | 0     \n",
      "34 | model.convs.25            | Dropout               | 0     \n",
      "35 | model.LSTMCell            | LSTMCell              | 37 K  \n",
      "36 | model.dense               | Sequential            | 110   \n",
      "37 | model.dense.0             | Dropout               | 0     \n",
      "38 | model.dense.1             | BatchNorm1d           | 54    \n",
      "39 | model.dense.2             | Linear                | 56    \n"
     ]
    },
    {
     "data": {
      "application/vnd.jupyter.widget-view+json": {
       "model_id": "",
       "version_major": 2,
       "version_minor": 0
      },
      "text/plain": [
       "HBox(children=(FloatProgress(value=1.0, bar_style='info', description='Validation sanity check', layout=Layout…"
      ]
     },
     "metadata": {},
     "output_type": "display_data"
    },
    {
     "name": "stdout",
     "output_type": "stream",
     "text": [
      "Val-Acc=0.03793716656787196\n"
     ]
    },
    {
     "data": {
      "application/vnd.jupyter.widget-view+json": {
       "model_id": "f7efc952c2844d05867bc79527942ef2",
       "version_major": 2,
       "version_minor": 0
      },
      "text/plain": [
       "HBox(children=(FloatProgress(value=1.0, bar_style='info', description='Training', layout=Layout(flex='2'), max…"
      ]
     },
     "metadata": {},
     "output_type": "display_data"
    },
    {
     "data": {
      "application/vnd.jupyter.widget-view+json": {
       "model_id": "",
       "version_major": 2,
       "version_minor": 0
      },
      "text/plain": [
       "HBox(children=(FloatProgress(value=1.0, bar_style='info', description='Validating', layout=Layout(flex='2'), m…"
      ]
     },
     "metadata": {},
     "output_type": "display_data"
    },
    {
     "name": "stdout",
     "output_type": "stream",
     "text": [
      "Val-Acc=0.8079430942501482\n",
      "Train-Acc=0.7650197628458498\n"
     ]
    },
    {
     "data": {
      "application/vnd.jupyter.widget-view+json": {
       "model_id": "",
       "version_major": 2,
       "version_minor": 0
      },
      "text/plain": [
       "HBox(children=(FloatProgress(value=1.0, bar_style='info', description='Validating', layout=Layout(flex='2'), m…"
      ]
     },
     "metadata": {},
     "output_type": "display_data"
    },
    {
     "name": "stdout",
     "output_type": "stream",
     "text": [
      "Val-Acc=0.8144635447540012\n",
      "Train-Acc=0.7960474308300395\n"
     ]
    },
    {
     "data": {
      "application/vnd.jupyter.widget-view+json": {
       "model_id": "",
       "version_major": 2,
       "version_minor": 0
      },
      "text/plain": [
       "HBox(children=(FloatProgress(value=1.0, bar_style='info', description='Validating', layout=Layout(flex='2'), m…"
      ]
     },
     "metadata": {},
     "output_type": "display_data"
    },
    {
     "name": "stdout",
     "output_type": "stream",
     "text": [
      "Val-Acc=0.8186129223473622\n"
     ]
    },
    {
     "name": "stderr",
     "output_type": "stream",
     "text": [
      "[I 2020-07-15 00:21:15,864] Setting status of trial#42 as TrialState.PRUNED. Trial was pruned at epoch 2.\n",
      "GPU available: True, used: True\n",
      "No environment variable for node rank defined. Set as 0.\n",
      "CUDA_VISIBLE_DEVICES: [0]\n",
      "Set SLURM handle signals.\n",
      "\n",
      "   | Name                      | Type                  | Params\n",
      "----------------------------------------------------------------\n",
      "0  | model                     | CRNN8k_D2             | 5 M   \n",
      "1  | model.spec                | MelspectrogramStretch | 0     \n",
      "2  | model.spec.spectrogram    | Spectrogram           | 0     \n",
      "3  | model.spec.mel_scale      | MelScale              | 0     \n",
      "4  | model.spec.stft           | Spectrogram           | 0     \n",
      "5  | model.spec.random_stretch | RandomTimeStretch     | 0     \n",
      "6  | model.spec.complex_norm   | ComplexNorm           | 0     \n",
      "7  | model.spec.norm           | SpecNormalization     | 0     \n",
      "8  | model.convs               | Sequential            | 213 K \n",
      "9  | model.convs.0             | Conv2d                | 320   \n",
      "10 | model.convs.1             | BatchNorm2d           | 64    \n",
      "11 | model.convs.2             | ELU                   | 0     \n",
      "12 | model.convs.3             | Conv2d                | 9 K   \n",
      "13 | model.convs.4             | BatchNorm2d           | 64    \n",
      "14 | model.convs.5             | ELU                   | 0     \n",
      "15 | model.convs.6             | MaxPool2d             | 0     \n",
      "16 | model.convs.7             | Dropout               | 0     \n",
      "17 | model.convs.8             | Conv2d                | 18 K  \n",
      "18 | model.convs.9             | BatchNorm2d           | 128   \n",
      "19 | model.convs.10            | ELU                   | 0     \n",
      "20 | model.convs.11            | Conv2d                | 36 K  \n",
      "21 | model.convs.12            | BatchNorm2d           | 128   \n",
      "22 | model.convs.13            | ELU                   | 0     \n",
      "23 | model.convs.14            | MaxPool2d             | 0     \n",
      "24 | model.convs.15            | Dropout               | 0     \n",
      "25 | model.convs.16            | Conv2d                | 73 K  \n",
      "26 | model.convs.17            | BatchNorm2d           | 256   \n",
      "27 | model.convs.18            | ELU                   | 0     \n",
      "28 | model.convs.19            | MaxPool2d             | 0     \n",
      "29 | model.convs.20            | Dropout               | 0     \n",
      "30 | model.convs.21            | Conv2d                | 73 K  \n",
      "31 | model.convs.22            | BatchNorm2d           | 128   \n",
      "32 | model.convs.23            | ELU                   | 0     \n",
      "33 | model.convs.24            | MaxPool2d             | 0     \n",
      "34 | model.convs.25            | Dropout               | 0     \n",
      "35 | model.LSTMCell            | LSTMCell              | 4 M   \n",
      "36 | model.dense               | Sequential            | 3 K   \n",
      "37 | model.dense.0             | Dropout               | 0     \n",
      "38 | model.dense.1             | BatchNorm1d           | 1 K   \n",
      "39 | model.dense.2             | Linear                | 1 K   \n"
     ]
    },
    {
     "data": {
      "application/vnd.jupyter.widget-view+json": {
       "model_id": "",
       "version_major": 2,
       "version_minor": 0
      },
      "text/plain": [
       "HBox(children=(FloatProgress(value=1.0, bar_style='info', description='Validation sanity check', layout=Layout…"
      ]
     },
     "metadata": {},
     "output_type": "display_data"
    },
    {
     "name": "stdout",
     "output_type": "stream",
     "text": [
      "Val-Acc=0.03793716656787196\n"
     ]
    },
    {
     "data": {
      "application/vnd.jupyter.widget-view+json": {
       "model_id": "eafe8cdce633434e840f3b2d85767dc6",
       "version_major": 2,
       "version_minor": 0
      },
      "text/plain": [
       "HBox(children=(FloatProgress(value=1.0, bar_style='info', description='Training', layout=Layout(flex='2'), max…"
      ]
     },
     "metadata": {},
     "output_type": "display_data"
    },
    {
     "data": {
      "application/vnd.jupyter.widget-view+json": {
       "model_id": "",
       "version_major": 2,
       "version_minor": 0
      },
      "text/plain": [
       "HBox(children=(FloatProgress(value=1.0, bar_style='info', description='Validating', layout=Layout(flex='2'), m…"
      ]
     },
     "metadata": {},
     "output_type": "display_data"
    },
    {
     "name": "stdout",
     "output_type": "stream",
     "text": [
      "Val-Acc=0.8310610551274452\n",
      "Train-Acc=0.7885375494071146\n"
     ]
    },
    {
     "data": {
      "application/vnd.jupyter.widget-view+json": {
       "model_id": "",
       "version_major": 2,
       "version_minor": 0
      },
      "text/plain": [
       "HBox(children=(FloatProgress(value=1.0, bar_style='info', description='Validating', layout=Layout(flex='2'), m…"
      ]
     },
     "metadata": {},
     "output_type": "display_data"
    },
    {
     "name": "stdout",
     "output_type": "stream",
     "text": [
      "Val-Acc=0.8417308832246592\n",
      "Train-Acc=0.8345849802371541\n"
     ]
    },
    {
     "data": {
      "application/vnd.jupyter.widget-view+json": {
       "model_id": "",
       "version_major": 2,
       "version_minor": 0
      },
      "text/plain": [
       "HBox(children=(FloatProgress(value=1.0, bar_style='info', description='Validating', layout=Layout(flex='2'), m…"
      ]
     },
     "metadata": {},
     "output_type": "display_data"
    },
    {
     "name": "stdout",
     "output_type": "stream",
     "text": [
      "Val-Acc=0.8707765263781861\n",
      "Train-Acc=0.8448616600790514\n"
     ]
    },
    {
     "data": {
      "application/vnd.jupyter.widget-view+json": {
       "model_id": "",
       "version_major": 2,
       "version_minor": 0
      },
      "text/plain": [
       "HBox(children=(FloatProgress(value=1.0, bar_style='info', description='Validating', layout=Layout(flex='2'), m…"
      ]
     },
     "metadata": {},
     "output_type": "display_data"
    },
    {
     "name": "stdout",
     "output_type": "stream",
     "text": [
      "Val-Acc=0.8512151748666271\n",
      "Train-Acc=0.8602766798418973\n"
     ]
    },
    {
     "data": {
      "application/vnd.jupyter.widget-view+json": {
       "model_id": "",
       "version_major": 2,
       "version_minor": 0
      },
      "text/plain": [
       "HBox(children=(FloatProgress(value=1.0, bar_style='info', description='Validating', layout=Layout(flex='2'), m…"
      ]
     },
     "metadata": {},
     "output_type": "display_data"
    },
    {
     "name": "stdout",
     "output_type": "stream",
     "text": [
      "Val-Acc=0.8636633076467102\n",
      "Train-Acc=0.8774703557312253\n"
     ]
    },
    {
     "data": {
      "application/vnd.jupyter.widget-view+json": {
       "model_id": "",
       "version_major": 2,
       "version_minor": 0
      },
      "text/plain": [
       "HBox(children=(FloatProgress(value=1.0, bar_style='info', description='Validating', layout=Layout(flex='2'), m…"
      ]
     },
     "metadata": {},
     "output_type": "display_data"
    },
    {
     "name": "stdout",
     "output_type": "stream",
     "text": [
      "Val-Acc=0.8850029638411381\n",
      "Train-Acc=0.8743083003952569\n"
     ]
    },
    {
     "data": {
      "application/vnd.jupyter.widget-view+json": {
       "model_id": "",
       "version_major": 2,
       "version_minor": 0
      },
      "text/plain": [
       "HBox(children=(FloatProgress(value=1.0, bar_style='info', description='Validating', layout=Layout(flex='2'), m…"
      ]
     },
     "metadata": {},
     "output_type": "display_data"
    },
    {
     "name": "stdout",
     "output_type": "stream",
     "text": [
      "Val-Acc=0.8731475992886781\n",
      "Train-Acc=0.8847826086956522\n"
     ]
    },
    {
     "data": {
      "application/vnd.jupyter.widget-view+json": {
       "model_id": "",
       "version_major": 2,
       "version_minor": 0
      },
      "text/plain": [
       "HBox(children=(FloatProgress(value=1.0, bar_style='info', description='Validating', layout=Layout(flex='2'), m…"
      ]
     },
     "metadata": {},
     "output_type": "display_data"
    },
    {
     "name": "stdout",
     "output_type": "stream",
     "text": [
      "Val-Acc=0.8802608180201541\n",
      "Train-Acc=0.8873517786561265\n"
     ]
    },
    {
     "data": {
      "application/vnd.jupyter.widget-view+json": {
       "model_id": "",
       "version_major": 2,
       "version_minor": 0
      },
      "text/plain": [
       "HBox(children=(FloatProgress(value=1.0, bar_style='info', description='Validating', layout=Layout(flex='2'), m…"
      ]
     },
     "metadata": {},
     "output_type": "display_data"
    },
    {
     "name": "stdout",
     "output_type": "stream",
     "text": [
      "Val-Acc=0.8755186721991701\n",
      "Train-Acc=0.8934782608695652\n"
     ]
    },
    {
     "data": {
      "application/vnd.jupyter.widget-view+json": {
       "model_id": "",
       "version_major": 2,
       "version_minor": 0
      },
      "text/plain": [
       "HBox(children=(FloatProgress(value=1.0, bar_style='info', description='Validating', layout=Layout(flex='2'), m…"
      ]
     },
     "metadata": {},
     "output_type": "display_data"
    },
    {
     "name": "stdout",
     "output_type": "stream",
     "text": [
      "Val-Acc=0.8844101956135151\n",
      "Train-Acc=0.8940711462450592\n"
     ]
    },
    {
     "data": {
      "application/vnd.jupyter.widget-view+json": {
       "model_id": "",
       "version_major": 2,
       "version_minor": 0
      },
      "text/plain": [
       "HBox(children=(FloatProgress(value=1.0, bar_style='info', description='Validating', layout=Layout(flex='2'), m…"
      ]
     },
     "metadata": {},
     "output_type": "display_data"
    },
    {
     "name": "stdout",
     "output_type": "stream",
     "text": [
      "Val-Acc=0.8879668049792531\n",
      "Train-Acc=0.899407114624506\n"
     ]
    },
    {
     "data": {
      "application/vnd.jupyter.widget-view+json": {
       "model_id": "",
       "version_major": 2,
       "version_minor": 0
      },
      "text/plain": [
       "HBox(children=(FloatProgress(value=1.0, bar_style='info', description='Validating', layout=Layout(flex='2'), m…"
      ]
     },
     "metadata": {},
     "output_type": "display_data"
    },
    {
     "name": "stdout",
     "output_type": "stream",
     "text": [
      "Val-Acc=0.8879668049792531\n",
      "Train-Acc=0.9009881422924901\n"
     ]
    },
    {
     "data": {
      "application/vnd.jupyter.widget-view+json": {
       "model_id": "",
       "version_major": 2,
       "version_minor": 0
      },
      "text/plain": [
       "HBox(children=(FloatProgress(value=1.0, bar_style='info', description='Validating', layout=Layout(flex='2'), m…"
      ]
     },
     "metadata": {},
     "output_type": "display_data"
    },
    {
     "name": "stdout",
     "output_type": "stream",
     "text": [
      "Val-Acc=0.8950800237107291\n",
      "Train-Acc=0.9037549407114625\n"
     ]
    },
    {
     "data": {
      "application/vnd.jupyter.widget-view+json": {
       "model_id": "",
       "version_major": 2,
       "version_minor": 0
      },
      "text/plain": [
       "HBox(children=(FloatProgress(value=1.0, bar_style='info', description='Validating', layout=Layout(flex='2'), m…"
      ]
     },
     "metadata": {},
     "output_type": "display_data"
    },
    {
     "name": "stdout",
     "output_type": "stream",
     "text": [
      "Val-Acc=0.8956727919383521\n",
      "Train-Acc=0.9079051383399209\n",
      "new best val acc 0.8956727919383521\n",
      "Saved model to \"optuna_crnn8kd2_0.8956727919383521.p\"\n",
      "Saved checkpoint at epoch 14 at \"optuna_crnn8kd2_0.8956727919383521.p\"\n"
     ]
    },
    {
     "data": {
      "application/vnd.jupyter.widget-view+json": {
       "model_id": "",
       "version_major": 2,
       "version_minor": 0
      },
      "text/plain": [
       "HBox(children=(FloatProgress(value=1.0, bar_style='info', description='Validating', layout=Layout(flex='2'), m…"
      ]
     },
     "metadata": {},
     "output_type": "display_data"
    },
    {
     "name": "stdout",
     "output_type": "stream",
     "text": [
      "Val-Acc=0.8933017190278602\n",
      "Train-Acc=0.9092885375494071\n",
      "\n",
      "Saved model to \"saved_modelsq/43.p\"\n"
     ]
    },
    {
     "name": "stderr",
     "output_type": "stream",
     "text": [
      "[I 2020-07-15 00:23:15,197] Finished trial#43 with value: 0.8933017190278602 with parameters: {'learning_rate': 0.0006944966354259878, 'p_drop': 0.14566410995036227, 'lr_decay': 0.7701556821690759, 'n_hidden': 951, 'weight_decay': 0.020086684067460947}. Best is trial#43 with value: 0.8933017190278602.\n",
      "GPU available: True, used: True\n",
      "No environment variable for node rank defined. Set as 0.\n",
      "CUDA_VISIBLE_DEVICES: [0]\n",
      "Set SLURM handle signals.\n",
      "\n",
      "   | Name                      | Type                  | Params\n",
      "----------------------------------------------------------------\n",
      "0  | model                     | CRNN8k_D2             | 5 M   \n",
      "1  | model.spec                | MelspectrogramStretch | 0     \n",
      "2  | model.spec.spectrogram    | Spectrogram           | 0     \n",
      "3  | model.spec.mel_scale      | MelScale              | 0     \n",
      "4  | model.spec.stft           | Spectrogram           | 0     \n",
      "5  | model.spec.random_stretch | RandomTimeStretch     | 0     \n",
      "6  | model.spec.complex_norm   | ComplexNorm           | 0     \n",
      "7  | model.spec.norm           | SpecNormalization     | 0     \n",
      "8  | model.convs               | Sequential            | 213 K \n",
      "9  | model.convs.0             | Conv2d                | 320   \n",
      "10 | model.convs.1             | BatchNorm2d           | 64    \n",
      "11 | model.convs.2             | ELU                   | 0     \n",
      "12 | model.convs.3             | Conv2d                | 9 K   \n",
      "13 | model.convs.4             | BatchNorm2d           | 64    \n",
      "14 | model.convs.5             | ELU                   | 0     \n",
      "15 | model.convs.6             | MaxPool2d             | 0     \n",
      "16 | model.convs.7             | Dropout               | 0     \n",
      "17 | model.convs.8             | Conv2d                | 18 K  \n",
      "18 | model.convs.9             | BatchNorm2d           | 128   \n",
      "19 | model.convs.10            | ELU                   | 0     \n",
      "20 | model.convs.11            | Conv2d                | 36 K  \n",
      "21 | model.convs.12            | BatchNorm2d           | 128   \n",
      "22 | model.convs.13            | ELU                   | 0     \n",
      "23 | model.convs.14            | MaxPool2d             | 0     \n",
      "24 | model.convs.15            | Dropout               | 0     \n",
      "25 | model.convs.16            | Conv2d                | 73 K  \n",
      "26 | model.convs.17            | BatchNorm2d           | 256   \n",
      "27 | model.convs.18            | ELU                   | 0     \n",
      "28 | model.convs.19            | MaxPool2d             | 0     \n",
      "29 | model.convs.20            | Dropout               | 0     \n",
      "30 | model.convs.21            | Conv2d                | 73 K  \n",
      "31 | model.convs.22            | BatchNorm2d           | 128   \n",
      "32 | model.convs.23            | ELU                   | 0     \n",
      "33 | model.convs.24            | MaxPool2d             | 0     \n",
      "34 | model.convs.25            | Dropout               | 0     \n",
      "35 | model.LSTMCell            | LSTMCell              | 5 M   \n",
      "36 | model.dense               | Sequential            | 3 K   \n",
      "37 | model.dense.0             | Dropout               | 0     \n",
      "38 | model.dense.1             | BatchNorm1d           | 1 K   \n",
      "39 | model.dense.2             | Linear                | 1 K   \n"
     ]
    },
    {
     "data": {
      "application/vnd.jupyter.widget-view+json": {
       "model_id": "",
       "version_major": 2,
       "version_minor": 0
      },
      "text/plain": [
       "HBox(children=(FloatProgress(value=1.0, bar_style='info', description='Validation sanity check', layout=Layout…"
      ]
     },
     "metadata": {},
     "output_type": "display_data"
    },
    {
     "name": "stdout",
     "output_type": "stream",
     "text": [
      "Val-Acc=0.03852993479549496\n"
     ]
    },
    {
     "data": {
      "application/vnd.jupyter.widget-view+json": {
       "model_id": "5f8e8f23bc104be887d59f06cadca70b",
       "version_major": 2,
       "version_minor": 0
      },
      "text/plain": [
       "HBox(children=(FloatProgress(value=1.0, bar_style='info', description='Training', layout=Layout(flex='2'), max…"
      ]
     },
     "metadata": {},
     "output_type": "display_data"
    },
    {
     "data": {
      "application/vnd.jupyter.widget-view+json": {
       "model_id": "",
       "version_major": 2,
       "version_minor": 0
      },
      "text/plain": [
       "HBox(children=(FloatProgress(value=1.0, bar_style='info', description='Validating', layout=Layout(flex='2'), m…"
      ]
     },
     "metadata": {},
     "output_type": "display_data"
    },
    {
     "name": "stdout",
     "output_type": "stream",
     "text": [
      "Val-Acc=0.7664493183165383\n",
      "Train-Acc=0.7903162055335968\n"
     ]
    },
    {
     "data": {
      "application/vnd.jupyter.widget-view+json": {
       "model_id": "",
       "version_major": 2,
       "version_minor": 0
      },
      "text/plain": [
       "HBox(children=(FloatProgress(value=1.0, bar_style='info', description='Validating', layout=Layout(flex='2'), m…"
      ]
     },
     "metadata": {},
     "output_type": "display_data"
    },
    {
     "name": "stdout",
     "output_type": "stream",
     "text": [
      "Val-Acc=0.8452874925903971\n",
      "Train-Acc=0.8272727272727273\n"
     ]
    },
    {
     "data": {
      "application/vnd.jupyter.widget-view+json": {
       "model_id": "",
       "version_major": 2,
       "version_minor": 0
      },
      "text/plain": [
       "HBox(children=(FloatProgress(value=1.0, bar_style='info', description='Validating', layout=Layout(flex='2'), m…"
      ]
     },
     "metadata": {},
     "output_type": "display_data"
    },
    {
     "name": "stdout",
     "output_type": "stream",
     "text": [
      "Val-Acc=0.8334321280379372\n",
      "Train-Acc=0.8450592885375494\n"
     ]
    },
    {
     "data": {
      "application/vnd.jupyter.widget-view+json": {
       "model_id": "",
       "version_major": 2,
       "version_minor": 0
      },
      "text/plain": [
       "HBox(children=(FloatProgress(value=1.0, bar_style='info', description='Validating', layout=Layout(flex='2'), m…"
      ]
     },
     "metadata": {},
     "output_type": "display_data"
    },
    {
     "name": "stdout",
     "output_type": "stream",
     "text": [
      "Val-Acc=0.8547717842323651\n",
      "Train-Acc=0.850395256916996\n"
     ]
    },
    {
     "data": {
      "application/vnd.jupyter.widget-view+json": {
       "model_id": "",
       "version_major": 2,
       "version_minor": 0
      },
      "text/plain": [
       "HBox(children=(FloatProgress(value=1.0, bar_style='info', description='Validating', layout=Layout(flex='2'), m…"
      ]
     },
     "metadata": {},
     "output_type": "display_data"
    },
    {
     "name": "stdout",
     "output_type": "stream",
     "text": [
      "Val-Acc=0.8666271487848252\n",
      "Train-Acc=0.8685770750988142\n"
     ]
    },
    {
     "data": {
      "application/vnd.jupyter.widget-view+json": {
       "model_id": "",
       "version_major": 2,
       "version_minor": 0
      },
      "text/plain": [
       "HBox(children=(FloatProgress(value=1.0, bar_style='info', description='Validating', layout=Layout(flex='2'), m…"
      ]
     },
     "metadata": {},
     "output_type": "display_data"
    },
    {
     "name": "stdout",
     "output_type": "stream",
     "text": [
      "Val-Acc=0.8796680497925311\n",
      "Train-Acc=0.8640316205533597\n"
     ]
    },
    {
     "data": {
      "application/vnd.jupyter.widget-view+json": {
       "model_id": "",
       "version_major": 2,
       "version_minor": 0
      },
      "text/plain": [
       "HBox(children=(FloatProgress(value=1.0, bar_style='info', description='Validating', layout=Layout(flex='2'), m…"
      ]
     },
     "metadata": {},
     "output_type": "display_data"
    },
    {
     "name": "stdout",
     "output_type": "stream",
     "text": [
      "Val-Acc=0.8743331357439241\n",
      "Train-Acc=0.8798418972332016\n"
     ]
    },
    {
     "data": {
      "application/vnd.jupyter.widget-view+json": {
       "model_id": "",
       "version_major": 2,
       "version_minor": 0
      },
      "text/plain": [
       "HBox(children=(FloatProgress(value=1.0, bar_style='info', description='Validating', layout=Layout(flex='2'), m…"
      ]
     },
     "metadata": {},
     "output_type": "display_data"
    },
    {
     "name": "stdout",
     "output_type": "stream",
     "text": [
      "Val-Acc=0.8695909899229401\n",
      "Train-Acc=0.8824110671936759\n"
     ]
    },
    {
     "data": {
      "application/vnd.jupyter.widget-view+json": {
       "model_id": "",
       "version_major": 2,
       "version_minor": 0
      },
      "text/plain": [
       "HBox(children=(FloatProgress(value=1.0, bar_style='info', description='Validating', layout=Layout(flex='2'), m…"
      ]
     },
     "metadata": {},
     "output_type": "display_data"
    },
    {
     "name": "stdout",
     "output_type": "stream",
     "text": [
      "Val-Acc=0.8850029638411381\n",
      "Train-Acc=0.8812252964426878\n"
     ]
    },
    {
     "data": {
      "application/vnd.jupyter.widget-view+json": {
       "model_id": "",
       "version_major": 2,
       "version_minor": 0
      },
      "text/plain": [
       "HBox(children=(FloatProgress(value=1.0, bar_style='info', description='Validating', layout=Layout(flex='2'), m…"
      ]
     },
     "metadata": {},
     "output_type": "display_data"
    },
    {
     "name": "stdout",
     "output_type": "stream",
     "text": [
      "Val-Acc=0.8861885002963841\n",
      "Train-Acc=0.892490118577075\n"
     ]
    },
    {
     "data": {
      "application/vnd.jupyter.widget-view+json": {
       "model_id": "",
       "version_major": 2,
       "version_minor": 0
      },
      "text/plain": [
       "HBox(children=(FloatProgress(value=1.0, bar_style='info', description='Validating', layout=Layout(flex='2'), m…"
      ]
     },
     "metadata": {},
     "output_type": "display_data"
    },
    {
     "name": "stdout",
     "output_type": "stream",
     "text": [
      "Val-Acc=0.8701837581505631\n",
      "Train-Acc=0.8966403162055336\n"
     ]
    },
    {
     "data": {
      "application/vnd.jupyter.widget-view+json": {
       "model_id": "",
       "version_major": 2,
       "version_minor": 0
      },
      "text/plain": [
       "HBox(children=(FloatProgress(value=1.0, bar_style='info', description='Validating', layout=Layout(flex='2'), m…"
      ]
     },
     "metadata": {},
     "output_type": "display_data"
    },
    {
     "name": "stdout",
     "output_type": "stream",
     "text": [
      "Val-Acc=0.8891523414344991\n",
      "Train-Acc=0.8992094861660079\n"
     ]
    },
    {
     "data": {
      "application/vnd.jupyter.widget-view+json": {
       "model_id": "",
       "version_major": 2,
       "version_minor": 0
      },
      "text/plain": [
       "HBox(children=(FloatProgress(value=1.0, bar_style='info', description='Validating', layout=Layout(flex='2'), m…"
      ]
     },
     "metadata": {},
     "output_type": "display_data"
    },
    {
     "name": "stdout",
     "output_type": "stream",
     "text": [
      "Val-Acc=0.8956727919383521\n",
      "Train-Acc=0.9025691699604743\n"
     ]
    },
    {
     "data": {
      "application/vnd.jupyter.widget-view+json": {
       "model_id": "",
       "version_major": 2,
       "version_minor": 0
      },
      "text/plain": [
       "HBox(children=(FloatProgress(value=1.0, bar_style='info', description='Validating', layout=Layout(flex='2'), m…"
      ]
     },
     "metadata": {},
     "output_type": "display_data"
    },
    {
     "name": "stdout",
     "output_type": "stream",
     "text": [
      "Val-Acc=0.8921161825726142\n",
      "Train-Acc=0.9045454545454545\n"
     ]
    },
    {
     "data": {
      "application/vnd.jupyter.widget-view+json": {
       "model_id": "",
       "version_major": 2,
       "version_minor": 0
      },
      "text/plain": [
       "HBox(children=(FloatProgress(value=1.0, bar_style='info', description='Validating', layout=Layout(flex='2'), m…"
      ]
     },
     "metadata": {},
     "output_type": "display_data"
    },
    {
     "name": "stdout",
     "output_type": "stream",
     "text": [
      "Val-Acc=0.8944872554831061\n",
      "Train-Acc=0.9075098814229249\n",
      "\n",
      "Saved model to \"saved_modelsq/44.p\"\n"
     ]
    },
    {
     "name": "stderr",
     "output_type": "stream",
     "text": [
      "[I 2020-07-15 00:25:15,404] Finished trial#44 with value: 0.8944872554831061 with parameters: {'learning_rate': 0.0007190652771348608, 'p_drop': 0.15570993075113893, 'lr_decay': 0.7626277681903325, 'n_hidden': 996, 'weight_decay': 0.017084714300831555}. Best is trial#44 with value: 0.8944872554831061.\n",
      "GPU available: True, used: True\n",
      "No environment variable for node rank defined. Set as 0.\n",
      "CUDA_VISIBLE_DEVICES: [0]\n",
      "Set SLURM handle signals.\n",
      "\n",
      "   | Name                      | Type                  | Params\n",
      "----------------------------------------------------------------\n",
      "0  | model                     | CRNN8k_D2             | 5 M   \n",
      "1  | model.spec                | MelspectrogramStretch | 0     \n",
      "2  | model.spec.spectrogram    | Spectrogram           | 0     \n",
      "3  | model.spec.mel_scale      | MelScale              | 0     \n",
      "4  | model.spec.stft           | Spectrogram           | 0     \n",
      "5  | model.spec.random_stretch | RandomTimeStretch     | 0     \n",
      "6  | model.spec.complex_norm   | ComplexNorm           | 0     \n",
      "7  | model.spec.norm           | SpecNormalization     | 0     \n",
      "8  | model.convs               | Sequential            | 213 K \n",
      "9  | model.convs.0             | Conv2d                | 320   \n",
      "10 | model.convs.1             | BatchNorm2d           | 64    \n",
      "11 | model.convs.2             | ELU                   | 0     \n",
      "12 | model.convs.3             | Conv2d                | 9 K   \n",
      "13 | model.convs.4             | BatchNorm2d           | 64    \n",
      "14 | model.convs.5             | ELU                   | 0     \n",
      "15 | model.convs.6             | MaxPool2d             | 0     \n",
      "16 | model.convs.7             | Dropout               | 0     \n",
      "17 | model.convs.8             | Conv2d                | 18 K  \n",
      "18 | model.convs.9             | BatchNorm2d           | 128   \n",
      "19 | model.convs.10            | ELU                   | 0     \n",
      "20 | model.convs.11            | Conv2d                | 36 K  \n",
      "21 | model.convs.12            | BatchNorm2d           | 128   \n",
      "22 | model.convs.13            | ELU                   | 0     \n",
      "23 | model.convs.14            | MaxPool2d             | 0     \n",
      "24 | model.convs.15            | Dropout               | 0     \n",
      "25 | model.convs.16            | Conv2d                | 73 K  \n",
      "26 | model.convs.17            | BatchNorm2d           | 256   \n",
      "27 | model.convs.18            | ELU                   | 0     \n",
      "28 | model.convs.19            | MaxPool2d             | 0     \n",
      "29 | model.convs.20            | Dropout               | 0     \n",
      "30 | model.convs.21            | Conv2d                | 73 K  \n",
      "31 | model.convs.22            | BatchNorm2d           | 128   \n",
      "32 | model.convs.23            | ELU                   | 0     \n",
      "33 | model.convs.24            | MaxPool2d             | 0     \n",
      "34 | model.convs.25            | Dropout               | 0     \n",
      "35 | model.LSTMCell            | LSTMCell              | 5 M   \n",
      "36 | model.dense               | Sequential            | 3 K   \n",
      "37 | model.dense.0             | Dropout               | 0     \n",
      "38 | model.dense.1             | BatchNorm1d           | 1 K   \n",
      "39 | model.dense.2             | Linear                | 1 K   \n"
     ]
    },
    {
     "data": {
      "application/vnd.jupyter.widget-view+json": {
       "model_id": "",
       "version_major": 2,
       "version_minor": 0
      },
      "text/plain": [
       "HBox(children=(FloatProgress(value=1.0, bar_style='info', description='Validation sanity check', layout=Layout…"
      ]
     },
     "metadata": {},
     "output_type": "display_data"
    },
    {
     "name": "stdout",
     "output_type": "stream",
     "text": [
      "Val-Acc=0.03793716656787196\n"
     ]
    },
    {
     "data": {
      "application/vnd.jupyter.widget-view+json": {
       "model_id": "f3d99f6c57cd4a708a2a02128150c3a9",
       "version_major": 2,
       "version_minor": 0
      },
      "text/plain": [
       "HBox(children=(FloatProgress(value=1.0, bar_style='info', description='Training', layout=Layout(flex='2'), max…"
      ]
     },
     "metadata": {},
     "output_type": "display_data"
    },
    {
     "data": {
      "application/vnd.jupyter.widget-view+json": {
       "model_id": "",
       "version_major": 2,
       "version_minor": 0
      },
      "text/plain": [
       "HBox(children=(FloatProgress(value=1.0, bar_style='info', description='Validating', layout=Layout(flex='2'), m…"
      ]
     },
     "metadata": {},
     "output_type": "display_data"
    },
    {
     "name": "stdout",
     "output_type": "stream",
     "text": [
      "Val-Acc=0.7984588026081803\n",
      "Train-Acc=0.7841897233201581\n"
     ]
    },
    {
     "data": {
      "application/vnd.jupyter.widget-view+json": {
       "model_id": "",
       "version_major": 2,
       "version_minor": 0
      },
      "text/plain": [
       "HBox(children=(FloatProgress(value=1.0, bar_style='info', description='Validating', layout=Layout(flex='2'), m…"
      ]
     },
     "metadata": {},
     "output_type": "display_data"
    },
    {
     "name": "stdout",
     "output_type": "stream",
     "text": [
      "Val-Acc=0.8583283935981031\n",
      "Train-Acc=0.8258893280632411\n"
     ]
    },
    {
     "data": {
      "application/vnd.jupyter.widget-view+json": {
       "model_id": "",
       "version_major": 2,
       "version_minor": 0
      },
      "text/plain": [
       "HBox(children=(FloatProgress(value=1.0, bar_style='info', description='Validating', layout=Layout(flex='2'), m…"
      ]
     },
     "metadata": {},
     "output_type": "display_data"
    },
    {
     "name": "stdout",
     "output_type": "stream",
     "text": [
      "Val-Acc=0.8417308832246592\n",
      "Train-Acc=0.8531620553359683\n"
     ]
    },
    {
     "data": {
      "application/vnd.jupyter.widget-view+json": {
       "model_id": "",
       "version_major": 2,
       "version_minor": 0
      },
      "text/plain": [
       "HBox(children=(FloatProgress(value=1.0, bar_style='info', description='Validating', layout=Layout(flex='2'), m…"
      ]
     },
     "metadata": {},
     "output_type": "display_data"
    },
    {
     "name": "stdout",
     "output_type": "stream",
     "text": [
      "Val-Acc=0.8660343805572022\n",
      "Train-Acc=0.857905138339921\n"
     ]
    },
    {
     "data": {
      "application/vnd.jupyter.widget-view+json": {
       "model_id": "",
       "version_major": 2,
       "version_minor": 0
      },
      "text/plain": [
       "HBox(children=(FloatProgress(value=1.0, bar_style='info', description='Validating', layout=Layout(flex='2'), m…"
      ]
     },
     "metadata": {},
     "output_type": "display_data"
    },
    {
     "name": "stdout",
     "output_type": "stream",
     "text": [
      "Val-Acc=0.8767042086544161\n",
      "Train-Acc=0.8646245059288538\n"
     ]
    },
    {
     "data": {
      "application/vnd.jupyter.widget-view+json": {
       "model_id": "",
       "version_major": 2,
       "version_minor": 0
      },
      "text/plain": [
       "HBox(children=(FloatProgress(value=1.0, bar_style='info', description='Validating', layout=Layout(flex='2'), m…"
      ]
     },
     "metadata": {},
     "output_type": "display_data"
    },
    {
     "name": "stdout",
     "output_type": "stream",
     "text": [
      "Val-Acc=0.8358032009484292\n",
      "Train-Acc=0.8707509881422925\n"
     ]
    },
    {
     "data": {
      "application/vnd.jupyter.widget-view+json": {
       "model_id": "",
       "version_major": 2,
       "version_minor": 0
      },
      "text/plain": [
       "HBox(children=(FloatProgress(value=1.0, bar_style='info', description='Validating', layout=Layout(flex='2'), m…"
      ]
     },
     "metadata": {},
     "output_type": "display_data"
    },
    {
     "name": "stdout",
     "output_type": "stream",
     "text": [
      "Val-Acc=0.8589211618257261\n",
      "Train-Acc=0.8776679841897234\n"
     ]
    },
    {
     "data": {
      "application/vnd.jupyter.widget-view+json": {
       "model_id": "",
       "version_major": 2,
       "version_minor": 0
      },
      "text/plain": [
       "HBox(children=(FloatProgress(value=1.0, bar_style='info', description='Validating', layout=Layout(flex='2'), m…"
      ]
     },
     "metadata": {},
     "output_type": "display_data"
    },
    {
     "name": "stdout",
     "output_type": "stream",
     "text": [
      "Val-Acc=0.8855957320687611\n",
      "Train-Acc=0.8792490118577075\n"
     ]
    },
    {
     "data": {
      "application/vnd.jupyter.widget-view+json": {
       "model_id": "",
       "version_major": 2,
       "version_minor": 0
      },
      "text/plain": [
       "HBox(children=(FloatProgress(value=1.0, bar_style='info', description='Validating', layout=Layout(flex='2'), m…"
      ]
     },
     "metadata": {},
     "output_type": "display_data"
    },
    {
     "name": "stdout",
     "output_type": "stream",
     "text": [
      "Val-Acc=0.8761114404267931\n",
      "Train-Acc=0.8861660079051383\n"
     ]
    },
    {
     "data": {
      "application/vnd.jupyter.widget-view+json": {
       "model_id": "",
       "version_major": 2,
       "version_minor": 0
      },
      "text/plain": [
       "HBox(children=(FloatProgress(value=1.0, bar_style='info', description='Validating', layout=Layout(flex='2'), m…"
      ]
     },
     "metadata": {},
     "output_type": "display_data"
    },
    {
     "name": "stdout",
     "output_type": "stream",
     "text": [
      "Val-Acc=0.8808535862477771\n",
      "Train-Acc=0.8855731225296443\n"
     ]
    },
    {
     "data": {
      "application/vnd.jupyter.widget-view+json": {
       "model_id": "",
       "version_major": 2,
       "version_minor": 0
      },
      "text/plain": [
       "HBox(children=(FloatProgress(value=1.0, bar_style='info', description='Validating', layout=Layout(flex='2'), m…"
      ]
     },
     "metadata": {},
     "output_type": "display_data"
    },
    {
     "name": "stdout",
     "output_type": "stream",
     "text": [
      "Val-Acc=0.8879668049792531\n",
      "Train-Acc=0.892292490118577\n"
     ]
    },
    {
     "data": {
      "application/vnd.jupyter.widget-view+json": {
       "model_id": "",
       "version_major": 2,
       "version_minor": 0
      },
      "text/plain": [
       "HBox(children=(FloatProgress(value=1.0, bar_style='info', description='Validating', layout=Layout(flex='2'), m…"
      ]
     },
     "metadata": {},
     "output_type": "display_data"
    },
    {
     "name": "stdout",
     "output_type": "stream",
     "text": [
      "Val-Acc=0.8820391227030231\n",
      "Train-Acc=0.8956521739130435\n"
     ]
    },
    {
     "data": {
      "application/vnd.jupyter.widget-view+json": {
       "model_id": "",
       "version_major": 2,
       "version_minor": 0
      },
      "text/plain": [
       "HBox(children=(FloatProgress(value=1.0, bar_style='info', description='Validating', layout=Layout(flex='2'), m…"
      ]
     },
     "metadata": {},
     "output_type": "display_data"
    },
    {
     "name": "stdout",
     "output_type": "stream",
     "text": [
      "Val-Acc=0.8861885002963841\n",
      "Train-Acc=0.9003952569169961\n"
     ]
    },
    {
     "data": {
      "application/vnd.jupyter.widget-view+json": {
       "model_id": "",
       "version_major": 2,
       "version_minor": 0
      },
      "text/plain": [
       "HBox(children=(FloatProgress(value=1.0, bar_style='info', description='Validating', layout=Layout(flex='2'), m…"
      ]
     },
     "metadata": {},
     "output_type": "display_data"
    },
    {
     "name": "stdout",
     "output_type": "stream",
     "text": [
      "Val-Acc=0.8879668049792531\n",
      "Train-Acc=0.9013833992094862\n"
     ]
    },
    {
     "data": {
      "application/vnd.jupyter.widget-view+json": {
       "model_id": "",
       "version_major": 2,
       "version_minor": 0
      },
      "text/plain": [
       "HBox(children=(FloatProgress(value=1.0, bar_style='info', description='Validating', layout=Layout(flex='2'), m…"
      ]
     },
     "metadata": {},
     "output_type": "display_data"
    },
    {
     "name": "stdout",
     "output_type": "stream",
     "text": [
      "Val-Acc=0.890337877889745\n",
      "Train-Acc=0.9029644268774704\n",
      "\n",
      "Saved model to \"saved_modelsq/45.p\"\n"
     ]
    },
    {
     "name": "stderr",
     "output_type": "stream",
     "text": [
      "[I 2020-07-15 00:27:16,153] Finished trial#45 with value: 0.890337877889745 with parameters: {'learning_rate': 0.0007647328791839244, 'p_drop': 0.16499526507316614, 'lr_decay': 0.7668781491841077, 'n_hidden': 996, 'weight_decay': 0.01696016103832335}. Best is trial#44 with value: 0.8944872554831061.\n",
      "GPU available: True, used: True\n",
      "No environment variable for node rank defined. Set as 0.\n",
      "CUDA_VISIBLE_DEVICES: [0]\n",
      "Set SLURM handle signals.\n",
      "\n",
      "   | Name                      | Type                  | Params\n",
      "----------------------------------------------------------------\n",
      "0  | model                     | CRNN8k_D2             | 463 K \n",
      "1  | model.spec                | MelspectrogramStretch | 0     \n",
      "2  | model.spec.spectrogram    | Spectrogram           | 0     \n",
      "3  | model.spec.mel_scale      | MelScale              | 0     \n",
      "4  | model.spec.stft           | Spectrogram           | 0     \n",
      "5  | model.spec.random_stretch | RandomTimeStretch     | 0     \n",
      "6  | model.spec.complex_norm   | ComplexNorm           | 0     \n",
      "7  | model.spec.norm           | SpecNormalization     | 0     \n",
      "8  | model.convs               | Sequential            | 213 K \n",
      "9  | model.convs.0             | Conv2d                | 320   \n",
      "10 | model.convs.1             | BatchNorm2d           | 64    \n",
      "11 | model.convs.2             | ELU                   | 0     \n",
      "12 | model.convs.3             | Conv2d                | 9 K   \n",
      "13 | model.convs.4             | BatchNorm2d           | 64    \n",
      "14 | model.convs.5             | ELU                   | 0     \n",
      "15 | model.convs.6             | MaxPool2d             | 0     \n",
      "16 | model.convs.7             | Dropout               | 0     \n",
      "17 | model.convs.8             | Conv2d                | 18 K  \n",
      "18 | model.convs.9             | BatchNorm2d           | 128   \n",
      "19 | model.convs.10            | ELU                   | 0     \n",
      "20 | model.convs.11            | Conv2d                | 36 K  \n",
      "21 | model.convs.12            | BatchNorm2d           | 128   \n",
      "22 | model.convs.13            | ELU                   | 0     \n",
      "23 | model.convs.14            | MaxPool2d             | 0     \n",
      "24 | model.convs.15            | Dropout               | 0     \n",
      "25 | model.convs.16            | Conv2d                | 73 K  \n",
      "26 | model.convs.17            | BatchNorm2d           | 256   \n",
      "27 | model.convs.18            | ELU                   | 0     \n",
      "28 | model.convs.19            | MaxPool2d             | 0     \n",
      "29 | model.convs.20            | Dropout               | 0     \n",
      "30 | model.convs.21            | Conv2d                | 73 K  \n",
      "31 | model.convs.22            | BatchNorm2d           | 128   \n",
      "32 | model.convs.23            | ELU                   | 0     \n",
      "33 | model.convs.24            | MaxPool2d             | 0     \n",
      "34 | model.convs.25            | Dropout               | 0     \n",
      "35 | model.LSTMCell            | LSTMCell              | 249 K \n",
      "36 | model.dense               | Sequential            | 546   \n",
      "37 | model.dense.0             | Dropout               | 0     \n",
      "38 | model.dense.1             | BatchNorm1d           | 272   \n",
      "39 | model.dense.2             | Linear                | 274   \n"
     ]
    },
    {
     "data": {
      "application/vnd.jupyter.widget-view+json": {
       "model_id": "",
       "version_major": 2,
       "version_minor": 0
      },
      "text/plain": [
       "HBox(children=(FloatProgress(value=1.0, bar_style='info', description='Validation sanity check', layout=Layout…"
      ]
     },
     "metadata": {},
     "output_type": "display_data"
    },
    {
     "name": "stdout",
     "output_type": "stream",
     "text": [
      "Val-Acc=0.05216360403082395\n"
     ]
    },
    {
     "data": {
      "application/vnd.jupyter.widget-view+json": {
       "model_id": "f984e7df634a4bf49ce02d584043f5dc",
       "version_major": 2,
       "version_minor": 0
      },
      "text/plain": [
       "HBox(children=(FloatProgress(value=1.0, bar_style='info', description='Training', layout=Layout(flex='2'), max…"
      ]
     },
     "metadata": {},
     "output_type": "display_data"
    },
    {
     "data": {
      "application/vnd.jupyter.widget-view+json": {
       "model_id": "",
       "version_major": 2,
       "version_minor": 0
      },
      "text/plain": [
       "HBox(children=(FloatProgress(value=1.0, bar_style='info', description='Validating', layout=Layout(flex='2'), m…"
      ]
     },
     "metadata": {},
     "output_type": "display_data"
    },
    {
     "name": "stdout",
     "output_type": "stream",
     "text": [
      "Val-Acc=0.8340248962655602\n",
      "Train-Acc=0.7984189723320159\n"
     ]
    },
    {
     "data": {
      "application/vnd.jupyter.widget-view+json": {
       "model_id": "",
       "version_major": 2,
       "version_minor": 0
      },
      "text/plain": [
       "HBox(children=(FloatProgress(value=1.0, bar_style='info', description='Validating', layout=Layout(flex='2'), m…"
      ]
     },
     "metadata": {},
     "output_type": "display_data"
    },
    {
     "name": "stdout",
     "output_type": "stream",
     "text": [
      "Val-Acc=0.8393598103141672\n",
      "Train-Acc=0.8280632411067194\n"
     ]
    },
    {
     "data": {
      "application/vnd.jupyter.widget-view+json": {
       "model_id": "",
       "version_major": 2,
       "version_minor": 0
      },
      "text/plain": [
       "HBox(children=(FloatProgress(value=1.0, bar_style='info', description='Validating', layout=Layout(flex='2'), m…"
      ]
     },
     "metadata": {},
     "output_type": "display_data"
    },
    {
     "name": "stdout",
     "output_type": "stream",
     "text": [
      "Val-Acc=0.8577356253704801\n",
      "Train-Acc=0.8452569169960474\n"
     ]
    },
    {
     "data": {
      "application/vnd.jupyter.widget-view+json": {
       "model_id": "",
       "version_major": 2,
       "version_minor": 0
      },
      "text/plain": [
       "HBox(children=(FloatProgress(value=1.0, bar_style='info', description='Validating', layout=Layout(flex='2'), m…"
      ]
     },
     "metadata": {},
     "output_type": "display_data"
    },
    {
     "name": "stdout",
     "output_type": "stream",
     "text": [
      "Val-Acc=0.8595139300533492\n",
      "Train-Acc=0.8537549407114624\n"
     ]
    },
    {
     "data": {
      "application/vnd.jupyter.widget-view+json": {
       "model_id": "",
       "version_major": 2,
       "version_minor": 0
      },
      "text/plain": [
       "HBox(children=(FloatProgress(value=1.0, bar_style='info', description='Validating', layout=Layout(flex='2'), m…"
      ]
     },
     "metadata": {},
     "output_type": "display_data"
    },
    {
     "name": "stdout",
     "output_type": "stream",
     "text": [
      "Val-Acc=0.8672199170124482\n",
      "Train-Acc=0.8569169960474309\n"
     ]
    },
    {
     "data": {
      "application/vnd.jupyter.widget-view+json": {
       "model_id": "",
       "version_major": 2,
       "version_minor": 0
      },
      "text/plain": [
       "HBox(children=(FloatProgress(value=1.0, bar_style='info', description='Validating', layout=Layout(flex='2'), m…"
      ]
     },
     "metadata": {},
     "output_type": "display_data"
    },
    {
     "name": "stdout",
     "output_type": "stream",
     "text": [
      "Val-Acc=0.8772969768820391\n",
      "Train-Acc=0.8715415019762845\n"
     ]
    },
    {
     "data": {
      "application/vnd.jupyter.widget-view+json": {
       "model_id": "",
       "version_major": 2,
       "version_minor": 0
      },
      "text/plain": [
       "HBox(children=(FloatProgress(value=1.0, bar_style='info', description='Validating', layout=Layout(flex='2'), m…"
      ]
     },
     "metadata": {},
     "output_type": "display_data"
    },
    {
     "name": "stdout",
     "output_type": "stream",
     "text": [
      "Val-Acc=0.8784825133372851\n",
      "Train-Acc=0.8806324110671937\n"
     ]
    },
    {
     "data": {
      "application/vnd.jupyter.widget-view+json": {
       "model_id": "",
       "version_major": 2,
       "version_minor": 0
      },
      "text/plain": [
       "HBox(children=(FloatProgress(value=1.0, bar_style='info', description='Validating', layout=Layout(flex='2'), m…"
      ]
     },
     "metadata": {},
     "output_type": "display_data"
    },
    {
     "name": "stdout",
     "output_type": "stream",
     "text": [
      "Val-Acc=0.8802608180201541\n",
      "Train-Acc=0.8822134387351779\n"
     ]
    },
    {
     "data": {
      "application/vnd.jupyter.widget-view+json": {
       "model_id": "",
       "version_major": 2,
       "version_minor": 0
      },
      "text/plain": [
       "HBox(children=(FloatProgress(value=1.0, bar_style='info', description='Validating', layout=Layout(flex='2'), m…"
      ]
     },
     "metadata": {},
     "output_type": "display_data"
    },
    {
     "name": "stdout",
     "output_type": "stream",
     "text": [
      "Val-Acc=0.8802608180201541\n",
      "Train-Acc=0.8859683794466403\n"
     ]
    },
    {
     "data": {
      "application/vnd.jupyter.widget-view+json": {
       "model_id": "",
       "version_major": 2,
       "version_minor": 0
      },
      "text/plain": [
       "HBox(children=(FloatProgress(value=1.0, bar_style='info', description='Validating', layout=Layout(flex='2'), m…"
      ]
     },
     "metadata": {},
     "output_type": "display_data"
    },
    {
     "name": "stdout",
     "output_type": "stream",
     "text": [
      "Val-Acc=0.890337877889745\n",
      "Train-Acc=0.8895256916996047\n"
     ]
    },
    {
     "data": {
      "application/vnd.jupyter.widget-view+json": {
       "model_id": "",
       "version_major": 2,
       "version_minor": 0
      },
      "text/plain": [
       "HBox(children=(FloatProgress(value=1.0, bar_style='info', description='Validating', layout=Layout(flex='2'), m…"
      ]
     },
     "metadata": {},
     "output_type": "display_data"
    },
    {
     "name": "stdout",
     "output_type": "stream",
     "text": [
      "Val-Acc=0.8855957320687611\n",
      "Train-Acc=0.8911067193675889\n"
     ]
    },
    {
     "data": {
      "application/vnd.jupyter.widget-view+json": {
       "model_id": "",
       "version_major": 2,
       "version_minor": 0
      },
      "text/plain": [
       "HBox(children=(FloatProgress(value=1.0, bar_style='info', description='Validating', layout=Layout(flex='2'), m…"
      ]
     },
     "metadata": {},
     "output_type": "display_data"
    },
    {
     "name": "stdout",
     "output_type": "stream",
     "text": [
      "Val-Acc=0.8933017190278602\n",
      "Train-Acc=0.8942687747035574\n"
     ]
    },
    {
     "data": {
      "application/vnd.jupyter.widget-view+json": {
       "model_id": "",
       "version_major": 2,
       "version_minor": 0
      },
      "text/plain": [
       "HBox(children=(FloatProgress(value=1.0, bar_style='info', description='Validating', layout=Layout(flex='2'), m…"
      ]
     },
     "metadata": {},
     "output_type": "display_data"
    },
    {
     "name": "stdout",
     "output_type": "stream",
     "text": [
      "Val-Acc=0.8915234143449912\n",
      "Train-Acc=0.8948616600790514\n"
     ]
    },
    {
     "data": {
      "application/vnd.jupyter.widget-view+json": {
       "model_id": "",
       "version_major": 2,
       "version_minor": 0
      },
      "text/plain": [
       "HBox(children=(FloatProgress(value=1.0, bar_style='info', description='Validating', layout=Layout(flex='2'), m…"
      ]
     },
     "metadata": {},
     "output_type": "display_data"
    },
    {
     "name": "stdout",
     "output_type": "stream",
     "text": [
      "Val-Acc=0.8933017190278602\n",
      "Train-Acc=0.8972332015810277\n"
     ]
    },
    {
     "data": {
      "application/vnd.jupyter.widget-view+json": {
       "model_id": "",
       "version_major": 2,
       "version_minor": 0
      },
      "text/plain": [
       "HBox(children=(FloatProgress(value=1.0, bar_style='info', description='Validating', layout=Layout(flex='2'), m…"
      ]
     },
     "metadata": {},
     "output_type": "display_data"
    },
    {
     "name": "stdout",
     "output_type": "stream",
     "text": [
      "Val-Acc=0.8933017190278602\n",
      "Train-Acc=0.8972332015810277\n",
      "\n",
      "Saved model to \"saved_modelsq/46.p\"\n"
     ]
    },
    {
     "name": "stderr",
     "output_type": "stream",
     "text": [
      "[I 2020-07-15 00:29:15,102] Finished trial#46 with value: 0.8933017190278602 with parameters: {'learning_rate': 0.0007364588561548853, 'p_drop': 0.16864994797884109, 'lr_decay': 0.766674219045497, 'n_hidden': 136, 'weight_decay': 0.00528234786447742}. Best is trial#44 with value: 0.8944872554831061.\n",
      "GPU available: True, used: True\n",
      "No environment variable for node rank defined. Set as 0.\n",
      "CUDA_VISIBLE_DEVICES: [0]\n",
      "Set SLURM handle signals.\n",
      "\n",
      "   | Name                      | Type                  | Params\n",
      "----------------------------------------------------------------\n",
      "0  | model                     | CRNN8k_D2             | 623 K \n",
      "1  | model.spec                | MelspectrogramStretch | 0     \n",
      "2  | model.spec.spectrogram    | Spectrogram           | 0     \n",
      "3  | model.spec.mel_scale      | MelScale              | 0     \n",
      "4  | model.spec.stft           | Spectrogram           | 0     \n",
      "5  | model.spec.random_stretch | RandomTimeStretch     | 0     \n",
      "6  | model.spec.complex_norm   | ComplexNorm           | 0     \n",
      "7  | model.spec.norm           | SpecNormalization     | 0     \n",
      "8  | model.convs               | Sequential            | 213 K \n",
      "9  | model.convs.0             | Conv2d                | 320   \n",
      "10 | model.convs.1             | BatchNorm2d           | 64    \n",
      "11 | model.convs.2             | ELU                   | 0     \n",
      "12 | model.convs.3             | Conv2d                | 9 K   \n",
      "13 | model.convs.4             | BatchNorm2d           | 64    \n",
      "14 | model.convs.5             | ELU                   | 0     \n",
      "15 | model.convs.6             | MaxPool2d             | 0     \n",
      "16 | model.convs.7             | Dropout               | 0     \n",
      "17 | model.convs.8             | Conv2d                | 18 K  \n",
      "18 | model.convs.9             | BatchNorm2d           | 128   \n",
      "19 | model.convs.10            | ELU                   | 0     \n",
      "20 | model.convs.11            | Conv2d                | 36 K  \n",
      "21 | model.convs.12            | BatchNorm2d           | 128   \n",
      "22 | model.convs.13            | ELU                   | 0     \n",
      "23 | model.convs.14            | MaxPool2d             | 0     \n",
      "24 | model.convs.15            | Dropout               | 0     \n",
      "25 | model.convs.16            | Conv2d                | 73 K  \n",
      "26 | model.convs.17            | BatchNorm2d           | 256   \n",
      "27 | model.convs.18            | ELU                   | 0     \n",
      "28 | model.convs.19            | MaxPool2d             | 0     \n",
      "29 | model.convs.20            | Dropout               | 0     \n",
      "30 | model.convs.21            | Conv2d                | 73 K  \n",
      "31 | model.convs.22            | BatchNorm2d           | 128   \n",
      "32 | model.convs.23            | ELU                   | 0     \n",
      "33 | model.convs.24            | MaxPool2d             | 0     \n",
      "34 | model.convs.25            | Dropout               | 0     \n",
      "35 | model.LSTMCell            | LSTMCell              | 408 K \n",
      "36 | model.dense               | Sequential            | 790   \n",
      "37 | model.dense.0             | Dropout               | 0     \n",
      "38 | model.dense.1             | BatchNorm1d           | 394   \n",
      "39 | model.dense.2             | Linear                | 396   \n"
     ]
    },
    {
     "data": {
      "application/vnd.jupyter.widget-view+json": {
       "model_id": "",
       "version_major": 2,
       "version_minor": 0
      },
      "text/plain": [
       "HBox(children=(FloatProgress(value=1.0, bar_style='info', description='Validation sanity check', layout=Layout…"
      ]
     },
     "metadata": {},
     "output_type": "display_data"
    },
    {
     "name": "stdout",
     "output_type": "stream",
     "text": [
      "Val-Acc=0.03793716656787196\n"
     ]
    },
    {
     "data": {
      "application/vnd.jupyter.widget-view+json": {
       "model_id": "08840d2ac280440fad8a3d3d26c760d4",
       "version_major": 2,
       "version_minor": 0
      },
      "text/plain": [
       "HBox(children=(FloatProgress(value=1.0, bar_style='info', description='Training', layout=Layout(flex='2'), max…"
      ]
     },
     "metadata": {},
     "output_type": "display_data"
    },
    {
     "data": {
      "application/vnd.jupyter.widget-view+json": {
       "model_id": "",
       "version_major": 2,
       "version_minor": 0
      },
      "text/plain": [
       "HBox(children=(FloatProgress(value=1.0, bar_style='info', description='Validating', layout=Layout(flex='2'), m…"
      ]
     },
     "metadata": {},
     "output_type": "display_data"
    },
    {
     "name": "stdout",
     "output_type": "stream",
     "text": [
      "Val-Acc=0.8049792531120332\n",
      "Train-Acc=0.799604743083004\n"
     ]
    },
    {
     "data": {
      "application/vnd.jupyter.widget-view+json": {
       "model_id": "",
       "version_major": 2,
       "version_minor": 0
      },
      "text/plain": [
       "HBox(children=(FloatProgress(value=1.0, bar_style='info', description='Validating', layout=Layout(flex='2'), m…"
      ]
     },
     "metadata": {},
     "output_type": "display_data"
    },
    {
     "name": "stdout",
     "output_type": "stream",
     "text": [
      "Val-Acc=0.8399525785417902\n",
      "Train-Acc=0.8343873517786561\n"
     ]
    },
    {
     "data": {
      "application/vnd.jupyter.widget-view+json": {
       "model_id": "",
       "version_major": 2,
       "version_minor": 0
      },
      "text/plain": [
       "HBox(children=(FloatProgress(value=1.0, bar_style='info', description='Validating', layout=Layout(flex='2'), m…"
      ]
     },
     "metadata": {},
     "output_type": "display_data"
    },
    {
     "name": "stdout",
     "output_type": "stream",
     "text": [
      "Val-Acc=0.8399525785417902\n"
     ]
    },
    {
     "name": "stderr",
     "output_type": "stream",
     "text": [
      "[I 2020-07-15 00:29:39,368] Setting status of trial#47 as TrialState.PRUNED. Trial was pruned at epoch 2.\n",
      "GPU available: True, used: True\n",
      "No environment variable for node rank defined. Set as 0.\n",
      "CUDA_VISIBLE_DEVICES: [0]\n",
      "Set SLURM handle signals.\n",
      "\n",
      "   | Name                      | Type                  | Params\n",
      "----------------------------------------------------------------\n",
      "0  | model                     | CRNN8k_D2             | 551 K \n",
      "1  | model.spec                | MelspectrogramStretch | 0     \n",
      "2  | model.spec.spectrogram    | Spectrogram           | 0     \n",
      "3  | model.spec.mel_scale      | MelScale              | 0     \n",
      "4  | model.spec.stft           | Spectrogram           | 0     \n",
      "5  | model.spec.random_stretch | RandomTimeStretch     | 0     \n",
      "6  | model.spec.complex_norm   | ComplexNorm           | 0     \n",
      "7  | model.spec.norm           | SpecNormalization     | 0     \n",
      "8  | model.convs               | Sequential            | 213 K \n",
      "9  | model.convs.0             | Conv2d                | 320   \n",
      "10 | model.convs.1             | BatchNorm2d           | 64    \n",
      "11 | model.convs.2             | ELU                   | 0     \n",
      "12 | model.convs.3             | Conv2d                | 9 K   \n",
      "13 | model.convs.4             | BatchNorm2d           | 64    \n",
      "14 | model.convs.5             | ELU                   | 0     \n",
      "15 | model.convs.6             | MaxPool2d             | 0     \n",
      "16 | model.convs.7             | Dropout               | 0     \n",
      "17 | model.convs.8             | Conv2d                | 18 K  \n",
      "18 | model.convs.9             | BatchNorm2d           | 128   \n",
      "19 | model.convs.10            | ELU                   | 0     \n",
      "20 | model.convs.11            | Conv2d                | 36 K  \n",
      "21 | model.convs.12            | BatchNorm2d           | 128   \n",
      "22 | model.convs.13            | ELU                   | 0     \n",
      "23 | model.convs.14            | MaxPool2d             | 0     \n",
      "24 | model.convs.15            | Dropout               | 0     \n",
      "25 | model.convs.16            | Conv2d                | 73 K  \n",
      "26 | model.convs.17            | BatchNorm2d           | 256   \n",
      "27 | model.convs.18            | ELU                   | 0     \n",
      "28 | model.convs.19            | MaxPool2d             | 0     \n",
      "29 | model.convs.20            | Dropout               | 0     \n",
      "30 | model.convs.21            | Conv2d                | 73 K  \n",
      "31 | model.convs.22            | BatchNorm2d           | 128   \n",
      "32 | model.convs.23            | ELU                   | 0     \n",
      "33 | model.convs.24            | MaxPool2d             | 0     \n",
      "34 | model.convs.25            | Dropout               | 0     \n",
      "35 | model.LSTMCell            | LSTMCell              | 337 K \n",
      "36 | model.dense               | Sequential            | 686   \n",
      "37 | model.dense.0             | Dropout               | 0     \n",
      "38 | model.dense.1             | BatchNorm1d           | 342   \n",
      "39 | model.dense.2             | Linear                | 344   \n"
     ]
    },
    {
     "data": {
      "application/vnd.jupyter.widget-view+json": {
       "model_id": "",
       "version_major": 2,
       "version_minor": 0
      },
      "text/plain": [
       "HBox(children=(FloatProgress(value=1.0, bar_style='info', description='Validation sanity check', layout=Layout…"
      ]
     },
     "metadata": {},
     "output_type": "display_data"
    },
    {
     "name": "stdout",
     "output_type": "stream",
     "text": [
      "Val-Acc=0.03793716656787196\n"
     ]
    },
    {
     "data": {
      "application/vnd.jupyter.widget-view+json": {
       "model_id": "223dfd298c0e4afe90b9a9ed3579d8f7",
       "version_major": 2,
       "version_minor": 0
      },
      "text/plain": [
       "HBox(children=(FloatProgress(value=1.0, bar_style='info', description='Training', layout=Layout(flex='2'), max…"
      ]
     },
     "metadata": {},
     "output_type": "display_data"
    },
    {
     "data": {
      "application/vnd.jupyter.widget-view+json": {
       "model_id": "",
       "version_major": 2,
       "version_minor": 0
      },
      "text/plain": [
       "HBox(children=(FloatProgress(value=1.0, bar_style='info', description='Validating', layout=Layout(flex='2'), m…"
      ]
     },
     "metadata": {},
     "output_type": "display_data"
    },
    {
     "name": "stdout",
     "output_type": "stream",
     "text": [
      "Val-Acc=0.8174273858921162\n",
      "Train-Acc=0.7741106719367589\n"
     ]
    },
    {
     "data": {
      "application/vnd.jupyter.widget-view+json": {
       "model_id": "",
       "version_major": 2,
       "version_minor": 0
      },
      "text/plain": [
       "HBox(children=(FloatProgress(value=1.0, bar_style='info', description='Validating', layout=Layout(flex='2'), m…"
      ]
     },
     "metadata": {},
     "output_type": "display_data"
    },
    {
     "name": "stdout",
     "output_type": "stream",
     "text": [
      "Val-Acc=0.8328393598103142\n",
      "Train-Acc=0.8110671936758893\n"
     ]
    },
    {
     "data": {
      "application/vnd.jupyter.widget-view+json": {
       "model_id": "",
       "version_major": 2,
       "version_minor": 0
      },
      "text/plain": [
       "HBox(children=(FloatProgress(value=1.0, bar_style='info', description='Validating', layout=Layout(flex='2'), m…"
      ]
     },
     "metadata": {},
     "output_type": "display_data"
    },
    {
     "name": "stdout",
     "output_type": "stream",
     "text": [
      "Val-Acc=0.8553645524599881\n",
      "Train-Acc=0.8280632411067194\n"
     ]
    },
    {
     "data": {
      "application/vnd.jupyter.widget-view+json": {
       "model_id": "",
       "version_major": 2,
       "version_minor": 0
      },
      "text/plain": [
       "HBox(children=(FloatProgress(value=1.0, bar_style='info', description='Validating', layout=Layout(flex='2'), m…"
      ]
     },
     "metadata": {},
     "output_type": "display_data"
    },
    {
     "name": "stdout",
     "output_type": "stream",
     "text": [
      "Val-Acc=0.8458802608180201\n",
      "Train-Acc=0.8355731225296442\n"
     ]
    },
    {
     "data": {
      "application/vnd.jupyter.widget-view+json": {
       "model_id": "",
       "version_major": 2,
       "version_minor": 0
      },
      "text/plain": [
       "HBox(children=(FloatProgress(value=1.0, bar_style='info', description='Validating', layout=Layout(flex='2'), m…"
      ]
     },
     "metadata": {},
     "output_type": "display_data"
    },
    {
     "name": "stdout",
     "output_type": "stream",
     "text": [
      "Val-Acc=0.8678126852400712\n",
      "Train-Acc=0.8490118577075099\n"
     ]
    },
    {
     "data": {
      "application/vnd.jupyter.widget-view+json": {
       "model_id": "",
       "version_major": 2,
       "version_minor": 0
      },
      "text/plain": [
       "HBox(children=(FloatProgress(value=1.0, bar_style='info', description='Validating', layout=Layout(flex='2'), m…"
      ]
     },
     "metadata": {},
     "output_type": "display_data"
    },
    {
     "name": "stdout",
     "output_type": "stream",
     "text": [
      "Val-Acc=0.8666271487848252\n",
      "Train-Acc=0.8545454545454545\n"
     ]
    },
    {
     "data": {
      "application/vnd.jupyter.widget-view+json": {
       "model_id": "",
       "version_major": 2,
       "version_minor": 0
      },
      "text/plain": [
       "HBox(children=(FloatProgress(value=1.0, bar_style='info', description='Validating', layout=Layout(flex='2'), m…"
      ]
     },
     "metadata": {},
     "output_type": "display_data"
    },
    {
     "name": "stdout",
     "output_type": "stream",
     "text": [
      "Val-Acc=0.8672199170124482\n",
      "Train-Acc=0.8616600790513834\n"
     ]
    },
    {
     "data": {
      "application/vnd.jupyter.widget-view+json": {
       "model_id": "",
       "version_major": 2,
       "version_minor": 0
      },
      "text/plain": [
       "HBox(children=(FloatProgress(value=1.0, bar_style='info', description='Validating', layout=Layout(flex='2'), m…"
      ]
     },
     "metadata": {},
     "output_type": "display_data"
    },
    {
     "name": "stdout",
     "output_type": "stream",
     "text": [
      "Val-Acc=0.8778897451096621\n",
      "Train-Acc=0.8658102766798419\n"
     ]
    },
    {
     "data": {
      "application/vnd.jupyter.widget-view+json": {
       "model_id": "",
       "version_major": 2,
       "version_minor": 0
      },
      "text/plain": [
       "HBox(children=(FloatProgress(value=1.0, bar_style='info', description='Validating', layout=Layout(flex='2'), m…"
      ]
     },
     "metadata": {},
     "output_type": "display_data"
    },
    {
     "name": "stdout",
     "output_type": "stream",
     "text": [
      "Val-Acc=0.8737403675163011\n",
      "Train-Acc=0.8717391304347826\n"
     ]
    },
    {
     "data": {
      "application/vnd.jupyter.widget-view+json": {
       "model_id": "",
       "version_major": 2,
       "version_minor": 0
      },
      "text/plain": [
       "HBox(children=(FloatProgress(value=1.0, bar_style='info', description='Validating', layout=Layout(flex='2'), m…"
      ]
     },
     "metadata": {},
     "output_type": "display_data"
    },
    {
     "name": "stdout",
     "output_type": "stream",
     "text": [
      "Val-Acc=0.8790752815649081\n",
      "Train-Acc=0.8743083003952569\n"
     ]
    },
    {
     "data": {
      "application/vnd.jupyter.widget-view+json": {
       "model_id": "",
       "version_major": 2,
       "version_minor": 0
      },
      "text/plain": [
       "HBox(children=(FloatProgress(value=1.0, bar_style='info', description='Validating', layout=Layout(flex='2'), m…"
      ]
     },
     "metadata": {},
     "output_type": "display_data"
    },
    {
     "name": "stdout",
     "output_type": "stream",
     "text": [
      "Val-Acc=0.8832246591582691\n",
      "Train-Acc=0.8737154150197628\n"
     ]
    },
    {
     "data": {
      "application/vnd.jupyter.widget-view+json": {
       "model_id": "",
       "version_major": 2,
       "version_minor": 0
      },
      "text/plain": [
       "HBox(children=(FloatProgress(value=1.0, bar_style='info', description='Validating', layout=Layout(flex='2'), m…"
      ]
     },
     "metadata": {},
     "output_type": "display_data"
    },
    {
     "name": "stdout",
     "output_type": "stream",
     "text": [
      "Val-Acc=0.8820391227030231\n",
      "Train-Acc=0.8752964426877471\n"
     ]
    },
    {
     "data": {
      "application/vnd.jupyter.widget-view+json": {
       "model_id": "",
       "version_major": 2,
       "version_minor": 0
      },
      "text/plain": [
       "HBox(children=(FloatProgress(value=1.0, bar_style='info', description='Validating', layout=Layout(flex='2'), m…"
      ]
     },
     "metadata": {},
     "output_type": "display_data"
    },
    {
     "name": "stdout",
     "output_type": "stream",
     "text": [
      "Val-Acc=0.8772969768820391\n",
      "Train-Acc=0.8741106719367588\n"
     ]
    },
    {
     "data": {
      "application/vnd.jupyter.widget-view+json": {
       "model_id": "",
       "version_major": 2,
       "version_minor": 0
      },
      "text/plain": [
       "HBox(children=(FloatProgress(value=1.0, bar_style='info', description='Validating', layout=Layout(flex='2'), m…"
      ]
     },
     "metadata": {},
     "output_type": "display_data"
    },
    {
     "name": "stdout",
     "output_type": "stream",
     "text": [
      "Val-Acc=0.8850029638411381\n",
      "Train-Acc=0.8766798418972332\n"
     ]
    },
    {
     "data": {
      "application/vnd.jupyter.widget-view+json": {
       "model_id": "",
       "version_major": 2,
       "version_minor": 0
      },
      "text/plain": [
       "HBox(children=(FloatProgress(value=1.0, bar_style='info', description='Validating', layout=Layout(flex='2'), m…"
      ]
     },
     "metadata": {},
     "output_type": "display_data"
    },
    {
     "name": "stdout",
     "output_type": "stream",
     "text": [
      "Val-Acc=0.8719620628334321\n",
      "Train-Acc=0.8806324110671937\n",
      "\n",
      "Saved model to \"saved_modelsq/48.p\"\n"
     ]
    },
    {
     "name": "stderr",
     "output_type": "stream",
     "text": [
      "[I 2020-07-15 00:31:37,479] Finished trial#48 with value: 0.8719620628334321 with parameters: {'learning_rate': 0.0006650314548018776, 'p_drop': 0.34656063880921795, 'lr_decay': 0.7463745542870781, 'n_hidden': 171, 'weight_decay': 0.013582991778166804}. Best is trial#44 with value: 0.8944872554831061.\n",
      "GPU available: True, used: True\n",
      "No environment variable for node rank defined. Set as 0.\n",
      "CUDA_VISIBLE_DEVICES: [0]\n",
      "Set SLURM handle signals.\n",
      "\n",
      "   | Name                      | Type                  | Params\n",
      "----------------------------------------------------------------\n",
      "0  | model                     | CRNN8k_D2             | 1 M   \n",
      "1  | model.spec                | MelspectrogramStretch | 0     \n",
      "2  | model.spec.spectrogram    | Spectrogram           | 0     \n",
      "3  | model.spec.mel_scale      | MelScale              | 0     \n",
      "4  | model.spec.stft           | Spectrogram           | 0     \n",
      "5  | model.spec.random_stretch | RandomTimeStretch     | 0     \n",
      "6  | model.spec.complex_norm   | ComplexNorm           | 0     \n",
      "7  | model.spec.norm           | SpecNormalization     | 0     \n",
      "8  | model.convs               | Sequential            | 213 K \n",
      "9  | model.convs.0             | Conv2d                | 320   \n",
      "10 | model.convs.1             | BatchNorm2d           | 64    \n",
      "11 | model.convs.2             | ELU                   | 0     \n",
      "12 | model.convs.3             | Conv2d                | 9 K   \n",
      "13 | model.convs.4             | BatchNorm2d           | 64    \n",
      "14 | model.convs.5             | ELU                   | 0     \n",
      "15 | model.convs.6             | MaxPool2d             | 0     \n",
      "16 | model.convs.7             | Dropout               | 0     \n",
      "17 | model.convs.8             | Conv2d                | 18 K  \n",
      "18 | model.convs.9             | BatchNorm2d           | 128   \n",
      "19 | model.convs.10            | ELU                   | 0     \n",
      "20 | model.convs.11            | Conv2d                | 36 K  \n",
      "21 | model.convs.12            | BatchNorm2d           | 128   \n",
      "22 | model.convs.13            | ELU                   | 0     \n",
      "23 | model.convs.14            | MaxPool2d             | 0     \n",
      "24 | model.convs.15            | Dropout               | 0     \n",
      "25 | model.convs.16            | Conv2d                | 73 K  \n",
      "26 | model.convs.17            | BatchNorm2d           | 256   \n",
      "27 | model.convs.18            | ELU                   | 0     \n",
      "28 | model.convs.19            | MaxPool2d             | 0     \n",
      "29 | model.convs.20            | Dropout               | 0     \n",
      "30 | model.convs.21            | Conv2d                | 73 K  \n",
      "31 | model.convs.22            | BatchNorm2d           | 128   \n",
      "32 | model.convs.23            | ELU                   | 0     \n",
      "33 | model.convs.24            | MaxPool2d             | 0     \n",
      "34 | model.convs.25            | Dropout               | 0     \n",
      "35 | model.LSTMCell            | LSTMCell              | 880 K \n",
      "36 | model.dense               | Sequential            | 1 K   \n",
      "37 | model.dense.0             | Dropout               | 0     \n",
      "38 | model.dense.1             | BatchNorm1d           | 670   \n",
      "39 | model.dense.2             | Linear                | 672   \n"
     ]
    },
    {
     "data": {
      "application/vnd.jupyter.widget-view+json": {
       "model_id": "",
       "version_major": 2,
       "version_minor": 0
      },
      "text/plain": [
       "HBox(children=(FloatProgress(value=1.0, bar_style='info', description='Validation sanity check', layout=Layout…"
      ]
     },
     "metadata": {},
     "output_type": "display_data"
    },
    {
     "name": "stdout",
     "output_type": "stream",
     "text": [
      "Val-Acc=0.03793716656787196\n"
     ]
    },
    {
     "data": {
      "application/vnd.jupyter.widget-view+json": {
       "model_id": "a9cc3cf6d93e43ba8f3b1791cf746ac9",
       "version_major": 2,
       "version_minor": 0
      },
      "text/plain": [
       "HBox(children=(FloatProgress(value=1.0, bar_style='info', description='Training', layout=Layout(flex='2'), max…"
      ]
     },
     "metadata": {},
     "output_type": "display_data"
    },
    {
     "data": {
      "application/vnd.jupyter.widget-view+json": {
       "model_id": "",
       "version_major": 2,
       "version_minor": 0
      },
      "text/plain": [
       "HBox(children=(FloatProgress(value=1.0, bar_style='info', description='Validating', layout=Layout(flex='2'), m…"
      ]
     },
     "metadata": {},
     "output_type": "display_data"
    },
    {
     "name": "stdout",
     "output_type": "stream",
     "text": [
      "Val-Acc=0.8280972139893301\n",
      "Train-Acc=0.7871541501976285\n"
     ]
    },
    {
     "data": {
      "application/vnd.jupyter.widget-view+json": {
       "model_id": "",
       "version_major": 2,
       "version_minor": 0
      },
      "text/plain": [
       "HBox(children=(FloatProgress(value=1.0, bar_style='info', description='Validating', layout=Layout(flex='2'), m…"
      ]
     },
     "metadata": {},
     "output_type": "display_data"
    },
    {
     "name": "stdout",
     "output_type": "stream",
     "text": [
      "Val-Acc=0.8500296384113811\n",
      "Train-Acc=0.8282608695652174\n"
     ]
    },
    {
     "data": {
      "application/vnd.jupyter.widget-view+json": {
       "model_id": "",
       "version_major": 2,
       "version_minor": 0
      },
      "text/plain": [
       "HBox(children=(FloatProgress(value=1.0, bar_style='info', description='Validating', layout=Layout(flex='2'), m…"
      ]
     },
     "metadata": {},
     "output_type": "display_data"
    },
    {
     "name": "stdout",
     "output_type": "stream",
     "text": [
      "Val-Acc=0.8488441019561351\n",
      "Train-Acc=0.8430830039525692\n"
     ]
    },
    {
     "data": {
      "application/vnd.jupyter.widget-view+json": {
       "model_id": "",
       "version_major": 2,
       "version_minor": 0
      },
      "text/plain": [
       "HBox(children=(FloatProgress(value=1.0, bar_style='info', description='Validating', layout=Layout(flex='2'), m…"
      ]
     },
     "metadata": {},
     "output_type": "display_data"
    },
    {
     "name": "stdout",
     "output_type": "stream",
     "text": [
      "Val-Acc=0.8553645524599881\n",
      "Train-Acc=0.8422924901185771\n"
     ]
    },
    {
     "data": {
      "application/vnd.jupyter.widget-view+json": {
       "model_id": "",
       "version_major": 2,
       "version_minor": 0
      },
      "text/plain": [
       "HBox(children=(FloatProgress(value=1.0, bar_style='info', description='Validating', layout=Layout(flex='2'), m…"
      ]
     },
     "metadata": {},
     "output_type": "display_data"
    },
    {
     "name": "stdout",
     "output_type": "stream",
     "text": [
      "Val-Acc=0.8571428571428571\n"
     ]
    },
    {
     "name": "stderr",
     "output_type": "stream",
     "text": [
      "[I 2020-07-15 00:32:17,495] Setting status of trial#49 as TrialState.PRUNED. Trial was pruned at epoch 4.\n",
      "GPU available: True, used: True\n",
      "No environment variable for node rank defined. Set as 0.\n",
      "CUDA_VISIBLE_DEVICES: [0]\n",
      "Set SLURM handle signals.\n",
      "\n",
      "   | Name                      | Type                  | Params\n",
      "----------------------------------------------------------------\n",
      "0  | model                     | CRNN8k_D2             | 406 K \n",
      "1  | model.spec                | MelspectrogramStretch | 0     \n",
      "2  | model.spec.spectrogram    | Spectrogram           | 0     \n",
      "3  | model.spec.mel_scale      | MelScale              | 0     \n",
      "4  | model.spec.stft           | Spectrogram           | 0     \n",
      "5  | model.spec.random_stretch | RandomTimeStretch     | 0     \n",
      "6  | model.spec.complex_norm   | ComplexNorm           | 0     \n",
      "7  | model.spec.norm           | SpecNormalization     | 0     \n",
      "8  | model.convs               | Sequential            | 213 K \n",
      "9  | model.convs.0             | Conv2d                | 320   \n",
      "10 | model.convs.1             | BatchNorm2d           | 64    \n",
      "11 | model.convs.2             | ELU                   | 0     \n",
      "12 | model.convs.3             | Conv2d                | 9 K   \n",
      "13 | model.convs.4             | BatchNorm2d           | 64    \n",
      "14 | model.convs.5             | ELU                   | 0     \n",
      "15 | model.convs.6             | MaxPool2d             | 0     \n",
      "16 | model.convs.7             | Dropout               | 0     \n",
      "17 | model.convs.8             | Conv2d                | 18 K  \n",
      "18 | model.convs.9             | BatchNorm2d           | 128   \n",
      "19 | model.convs.10            | ELU                   | 0     \n",
      "20 | model.convs.11            | Conv2d                | 36 K  \n",
      "21 | model.convs.12            | BatchNorm2d           | 128   \n",
      "22 | model.convs.13            | ELU                   | 0     \n",
      "23 | model.convs.14            | MaxPool2d             | 0     \n",
      "24 | model.convs.15            | Dropout               | 0     \n",
      "25 | model.convs.16            | Conv2d                | 73 K  \n",
      "26 | model.convs.17            | BatchNorm2d           | 256   \n",
      "27 | model.convs.18            | ELU                   | 0     \n",
      "28 | model.convs.19            | MaxPool2d             | 0     \n",
      "29 | model.convs.20            | Dropout               | 0     \n",
      "30 | model.convs.21            | Conv2d                | 73 K  \n",
      "31 | model.convs.22            | BatchNorm2d           | 128   \n",
      "32 | model.convs.23            | ELU                   | 0     \n",
      "33 | model.convs.24            | MaxPool2d             | 0     \n",
      "34 | model.convs.25            | Dropout               | 0     \n",
      "35 | model.LSTMCell            | LSTMCell              | 192 K \n",
      "36 | model.dense               | Sequential            | 446   \n",
      "37 | model.dense.0             | Dropout               | 0     \n",
      "38 | model.dense.1             | BatchNorm1d           | 222   \n",
      "39 | model.dense.2             | Linear                | 224   \n"
     ]
    },
    {
     "data": {
      "application/vnd.jupyter.widget-view+json": {
       "model_id": "",
       "version_major": 2,
       "version_minor": 0
      },
      "text/plain": [
       "HBox(children=(FloatProgress(value=1.0, bar_style='info', description='Validation sanity check', layout=Layout…"
      ]
     },
     "metadata": {},
     "output_type": "display_data"
    },
    {
     "name": "stdout",
     "output_type": "stream",
     "text": [
      "Val-Acc=0.03793716656787196\n"
     ]
    },
    {
     "data": {
      "application/vnd.jupyter.widget-view+json": {
       "model_id": "2909125b76b74fc2a5e6e6cffd9141ae",
       "version_major": 2,
       "version_minor": 0
      },
      "text/plain": [
       "HBox(children=(FloatProgress(value=1.0, bar_style='info', description='Training', layout=Layout(flex='2'), max…"
      ]
     },
     "metadata": {},
     "output_type": "display_data"
    },
    {
     "data": {
      "application/vnd.jupyter.widget-view+json": {
       "model_id": "",
       "version_major": 2,
       "version_minor": 0
      },
      "text/plain": [
       "HBox(children=(FloatProgress(value=1.0, bar_style='info', description='Validating', layout=Layout(flex='2'), m…"
      ]
     },
     "metadata": {},
     "output_type": "display_data"
    },
    {
     "name": "stdout",
     "output_type": "stream",
     "text": [
      "Val-Acc=0.8363959691760522\n",
      "Train-Acc=0.8027667984189724\n"
     ]
    },
    {
     "data": {
      "application/vnd.jupyter.widget-view+json": {
       "model_id": "",
       "version_major": 2,
       "version_minor": 0
      },
      "text/plain": [
       "HBox(children=(FloatProgress(value=1.0, bar_style='info', description='Validating', layout=Layout(flex='2'), m…"
      ]
     },
     "metadata": {},
     "output_type": "display_data"
    },
    {
     "name": "stdout",
     "output_type": "stream",
     "text": [
      "Val-Acc=0.8405453467694132\n",
      "Train-Acc=0.8355731225296442\n"
     ]
    },
    {
     "data": {
      "application/vnd.jupyter.widget-view+json": {
       "model_id": "",
       "version_major": 2,
       "version_minor": 0
      },
      "text/plain": [
       "HBox(children=(FloatProgress(value=1.0, bar_style='info', description='Validating', layout=Layout(flex='2'), m…"
      ]
     },
     "metadata": {},
     "output_type": "display_data"
    },
    {
     "name": "stdout",
     "output_type": "stream",
     "text": [
      "Val-Acc=0.8524007113218731\n",
      "Train-Acc=0.8488142292490118\n"
     ]
    },
    {
     "data": {
      "application/vnd.jupyter.widget-view+json": {
       "model_id": "",
       "version_major": 2,
       "version_minor": 0
      },
      "text/plain": [
       "HBox(children=(FloatProgress(value=1.0, bar_style='info', description='Validating', layout=Layout(flex='2'), m…"
      ]
     },
     "metadata": {},
     "output_type": "display_data"
    },
    {
     "name": "stdout",
     "output_type": "stream",
     "text": [
      "Val-Acc=0.8642560758743332\n",
      "Train-Acc=0.8650197628458498\n"
     ]
    },
    {
     "data": {
      "application/vnd.jupyter.widget-view+json": {
       "model_id": "",
       "version_major": 2,
       "version_minor": 0
      },
      "text/plain": [
       "HBox(children=(FloatProgress(value=1.0, bar_style='info', description='Validating', layout=Layout(flex='2'), m…"
      ]
     },
     "metadata": {},
     "output_type": "display_data"
    },
    {
     "name": "stdout",
     "output_type": "stream",
     "text": [
      "Val-Acc=0.8749259039715471\n",
      "Train-Acc=0.8662055335968379\n"
     ]
    },
    {
     "data": {
      "application/vnd.jupyter.widget-view+json": {
       "model_id": "",
       "version_major": 2,
       "version_minor": 0
      },
      "text/plain": [
       "HBox(children=(FloatProgress(value=1.0, bar_style='info', description='Validating', layout=Layout(flex='2'), m…"
      ]
     },
     "metadata": {},
     "output_type": "display_data"
    },
    {
     "name": "stdout",
     "output_type": "stream",
     "text": [
      "Val-Acc=0.8707765263781861\n",
      "Train-Acc=0.8741106719367588\n"
     ]
    },
    {
     "data": {
      "application/vnd.jupyter.widget-view+json": {
       "model_id": "",
       "version_major": 2,
       "version_minor": 0
      },
      "text/plain": [
       "HBox(children=(FloatProgress(value=1.0, bar_style='info', description='Validating', layout=Layout(flex='2'), m…"
      ]
     },
     "metadata": {},
     "output_type": "display_data"
    },
    {
     "name": "stdout",
     "output_type": "stream",
     "text": [
      "Val-Acc=0.8814463544754001\n",
      "Train-Acc=0.8768774703557313\n"
     ]
    },
    {
     "data": {
      "application/vnd.jupyter.widget-view+json": {
       "model_id": "",
       "version_major": 2,
       "version_minor": 0
      },
      "text/plain": [
       "HBox(children=(FloatProgress(value=1.0, bar_style='info', description='Validating', layout=Layout(flex='2'), m…"
      ]
     },
     "metadata": {},
     "output_type": "display_data"
    },
    {
     "name": "stdout",
     "output_type": "stream",
     "text": [
      "Val-Acc=0.8707765263781861\n",
      "Train-Acc=0.8899209486166008\n"
     ]
    },
    {
     "data": {
      "application/vnd.jupyter.widget-view+json": {
       "model_id": "",
       "version_major": 2,
       "version_minor": 0
      },
      "text/plain": [
       "HBox(children=(FloatProgress(value=1.0, bar_style='info', description='Validating', layout=Layout(flex='2'), m…"
      ]
     },
     "metadata": {},
     "output_type": "display_data"
    },
    {
     "name": "stdout",
     "output_type": "stream",
     "text": [
      "Val-Acc=0.8737403675163011\n",
      "Train-Acc=0.8798418972332016\n"
     ]
    },
    {
     "data": {
      "application/vnd.jupyter.widget-view+json": {
       "model_id": "",
       "version_major": 2,
       "version_minor": 0
      },
      "text/plain": [
       "HBox(children=(FloatProgress(value=1.0, bar_style='info', description='Validating', layout=Layout(flex='2'), m…"
      ]
     },
     "metadata": {},
     "output_type": "display_data"
    },
    {
     "name": "stdout",
     "output_type": "stream",
     "text": [
      "Val-Acc=0.8885595732068761\n",
      "Train-Acc=0.8798418972332016\n"
     ]
    },
    {
     "data": {
      "application/vnd.jupyter.widget-view+json": {
       "model_id": "",
       "version_major": 2,
       "version_minor": 0
      },
      "text/plain": [
       "HBox(children=(FloatProgress(value=1.0, bar_style='info', description='Validating', layout=Layout(flex='2'), m…"
      ]
     },
     "metadata": {},
     "output_type": "display_data"
    },
    {
     "name": "stdout",
     "output_type": "stream",
     "text": [
      "Val-Acc=0.8802608180201541\n",
      "Train-Acc=0.8887351778656126\n"
     ]
    },
    {
     "data": {
      "application/vnd.jupyter.widget-view+json": {
       "model_id": "",
       "version_major": 2,
       "version_minor": 0
      },
      "text/plain": [
       "HBox(children=(FloatProgress(value=1.0, bar_style='info', description='Validating', layout=Layout(flex='2'), m…"
      ]
     },
     "metadata": {},
     "output_type": "display_data"
    },
    {
     "name": "stdout",
     "output_type": "stream",
     "text": [
      "Val-Acc=0.8897451096621221\n",
      "Train-Acc=0.892292490118577\n"
     ]
    },
    {
     "data": {
      "application/vnd.jupyter.widget-view+json": {
       "model_id": "",
       "version_major": 2,
       "version_minor": 0
      },
      "text/plain": [
       "HBox(children=(FloatProgress(value=1.0, bar_style='info', description='Validating', layout=Layout(flex='2'), m…"
      ]
     },
     "metadata": {},
     "output_type": "display_data"
    },
    {
     "name": "stdout",
     "output_type": "stream",
     "text": [
      "Val-Acc=0.8909306461173682\n",
      "Train-Acc=0.8952569169960475\n"
     ]
    },
    {
     "data": {
      "application/vnd.jupyter.widget-view+json": {
       "model_id": "",
       "version_major": 2,
       "version_minor": 0
      },
      "text/plain": [
       "HBox(children=(FloatProgress(value=1.0, bar_style='info', description='Validating', layout=Layout(flex='2'), m…"
      ]
     },
     "metadata": {},
     "output_type": "display_data"
    },
    {
     "name": "stdout",
     "output_type": "stream",
     "text": [
      "Val-Acc=0.8660343805572022\n",
      "Train-Acc=0.8976284584980238\n"
     ]
    },
    {
     "data": {
      "application/vnd.jupyter.widget-view+json": {
       "model_id": "",
       "version_major": 2,
       "version_minor": 0
      },
      "text/plain": [
       "HBox(children=(FloatProgress(value=1.0, bar_style='info', description='Validating', layout=Layout(flex='2'), m…"
      ]
     },
     "metadata": {},
     "output_type": "display_data"
    },
    {
     "name": "stdout",
     "output_type": "stream",
     "text": [
      "Val-Acc=0.8867812685240071\n",
      "Train-Acc=0.9003952569169961\n",
      "\n",
      "Saved model to \"saved_modelsq/50.p\"\n"
     ]
    },
    {
     "name": "stderr",
     "output_type": "stream",
     "text": [
      "[I 2020-07-15 00:34:15,924] Finished trial#50 with value: 0.8867812685240071 with parameters: {'learning_rate': 0.0007692550840530228, 'p_drop': 0.16630613491056923, 'lr_decay': 0.9005623082571854, 'n_hidden': 111, 'weight_decay': 0.0035824705570719206}. Best is trial#44 with value: 0.8944872554831061.\n",
      "GPU available: True, used: True\n",
      "No environment variable for node rank defined. Set as 0.\n",
      "CUDA_VISIBLE_DEVICES: [0]\n",
      "Set SLURM handle signals.\n",
      "\n",
      "   | Name                      | Type                  | Params\n",
      "----------------------------------------------------------------\n",
      "0  | model                     | CRNN8k_D2             | 1 M   \n",
      "1  | model.spec                | MelspectrogramStretch | 0     \n",
      "2  | model.spec.spectrogram    | Spectrogram           | 0     \n",
      "3  | model.spec.mel_scale      | MelScale              | 0     \n",
      "4  | model.spec.stft           | Spectrogram           | 0     \n",
      "5  | model.spec.random_stretch | RandomTimeStretch     | 0     \n",
      "6  | model.spec.complex_norm   | ComplexNorm           | 0     \n",
      "7  | model.spec.norm           | SpecNormalization     | 0     \n",
      "8  | model.convs               | Sequential            | 213 K \n",
      "9  | model.convs.0             | Conv2d                | 320   \n",
      "10 | model.convs.1             | BatchNorm2d           | 64    \n",
      "11 | model.convs.2             | ELU                   | 0     \n",
      "12 | model.convs.3             | Conv2d                | 9 K   \n",
      "13 | model.convs.4             | BatchNorm2d           | 64    \n",
      "14 | model.convs.5             | ELU                   | 0     \n",
      "15 | model.convs.6             | MaxPool2d             | 0     \n",
      "16 | model.convs.7             | Dropout               | 0     \n",
      "17 | model.convs.8             | Conv2d                | 18 K  \n",
      "18 | model.convs.9             | BatchNorm2d           | 128   \n",
      "19 | model.convs.10            | ELU                   | 0     \n",
      "20 | model.convs.11            | Conv2d                | 36 K  \n",
      "21 | model.convs.12            | BatchNorm2d           | 128   \n",
      "22 | model.convs.13            | ELU                   | 0     \n",
      "23 | model.convs.14            | MaxPool2d             | 0     \n",
      "24 | model.convs.15            | Dropout               | 0     \n",
      "25 | model.convs.16            | Conv2d                | 73 K  \n",
      "26 | model.convs.17            | BatchNorm2d           | 256   \n",
      "27 | model.convs.18            | ELU                   | 0     \n",
      "28 | model.convs.19            | MaxPool2d             | 0     \n",
      "29 | model.convs.20            | Dropout               | 0     \n",
      "30 | model.convs.21            | Conv2d                | 73 K  \n",
      "31 | model.convs.22            | BatchNorm2d           | 128   \n",
      "32 | model.convs.23            | ELU                   | 0     \n",
      "33 | model.convs.24            | MaxPool2d             | 0     \n",
      "34 | model.convs.25            | Dropout               | 0     \n",
      "35 | model.LSTMCell            | LSTMCell              | 940 K \n",
      "36 | model.dense               | Sequential            | 1 K   \n",
      "37 | model.dense.0             | Dropout               | 0     \n",
      "38 | model.dense.1             | BatchNorm1d           | 700   \n",
      "39 | model.dense.2             | Linear                | 702   \n"
     ]
    },
    {
     "data": {
      "application/vnd.jupyter.widget-view+json": {
       "model_id": "",
       "version_major": 2,
       "version_minor": 0
      },
      "text/plain": [
       "HBox(children=(FloatProgress(value=1.0, bar_style='info', description='Validation sanity check', layout=Layout…"
      ]
     },
     "metadata": {},
     "output_type": "display_data"
    },
    {
     "name": "stdout",
     "output_type": "stream",
     "text": [
      "Val-Acc=0.03793716656787196\n"
     ]
    },
    {
     "data": {
      "application/vnd.jupyter.widget-view+json": {
       "model_id": "f0cc4d85eb7d4504af6aaea150f9221c",
       "version_major": 2,
       "version_minor": 0
      },
      "text/plain": [
       "HBox(children=(FloatProgress(value=1.0, bar_style='info', description='Training', layout=Layout(flex='2'), max…"
      ]
     },
     "metadata": {},
     "output_type": "display_data"
    },
    {
     "data": {
      "application/vnd.jupyter.widget-view+json": {
       "model_id": "",
       "version_major": 2,
       "version_minor": 0
      },
      "text/plain": [
       "HBox(children=(FloatProgress(value=1.0, bar_style='info', description='Validating', layout=Layout(flex='2'), m…"
      ]
     },
     "metadata": {},
     "output_type": "display_data"
    },
    {
     "name": "stdout",
     "output_type": "stream",
     "text": [
      "Val-Acc=0.7978660343805573\n",
      "Train-Acc=0.7873517786561265\n"
     ]
    },
    {
     "data": {
      "application/vnd.jupyter.widget-view+json": {
       "model_id": "",
       "version_major": 2,
       "version_minor": 0
      },
      "text/plain": [
       "HBox(children=(FloatProgress(value=1.0, bar_style='info', description='Validating', layout=Layout(flex='2'), m…"
      ]
     },
     "metadata": {},
     "output_type": "display_data"
    },
    {
     "name": "stdout",
     "output_type": "stream",
     "text": [
      "Val-Acc=0.8209839952578541\n"
     ]
    },
    {
     "name": "stderr",
     "output_type": "stream",
     "text": [
      "[I 2020-07-15 00:34:31,986] Setting status of trial#51 as TrialState.PRUNED. Trial was pruned at epoch 1.\n",
      "GPU available: True, used: True\n",
      "No environment variable for node rank defined. Set as 0.\n",
      "CUDA_VISIBLE_DEVICES: [0]\n",
      "Set SLURM handle signals.\n",
      "\n",
      "   | Name                      | Type                  | Params\n",
      "----------------------------------------------------------------\n",
      "0  | model                     | CRNN8k_D2             | 5 M   \n",
      "1  | model.spec                | MelspectrogramStretch | 0     \n",
      "2  | model.spec.spectrogram    | Spectrogram           | 0     \n",
      "3  | model.spec.mel_scale      | MelScale              | 0     \n",
      "4  | model.spec.stft           | Spectrogram           | 0     \n",
      "5  | model.spec.random_stretch | RandomTimeStretch     | 0     \n",
      "6  | model.spec.complex_norm   | ComplexNorm           | 0     \n",
      "7  | model.spec.norm           | SpecNormalization     | 0     \n",
      "8  | model.convs               | Sequential            | 213 K \n",
      "9  | model.convs.0             | Conv2d                | 320   \n",
      "10 | model.convs.1             | BatchNorm2d           | 64    \n",
      "11 | model.convs.2             | ELU                   | 0     \n",
      "12 | model.convs.3             | Conv2d                | 9 K   \n",
      "13 | model.convs.4             | BatchNorm2d           | 64    \n",
      "14 | model.convs.5             | ELU                   | 0     \n",
      "15 | model.convs.6             | MaxPool2d             | 0     \n",
      "16 | model.convs.7             | Dropout               | 0     \n",
      "17 | model.convs.8             | Conv2d                | 18 K  \n",
      "18 | model.convs.9             | BatchNorm2d           | 128   \n",
      "19 | model.convs.10            | ELU                   | 0     \n",
      "20 | model.convs.11            | Conv2d                | 36 K  \n",
      "21 | model.convs.12            | BatchNorm2d           | 128   \n",
      "22 | model.convs.13            | ELU                   | 0     \n",
      "23 | model.convs.14            | MaxPool2d             | 0     \n",
      "24 | model.convs.15            | Dropout               | 0     \n",
      "25 | model.convs.16            | Conv2d                | 73 K  \n",
      "26 | model.convs.17            | BatchNorm2d           | 256   \n",
      "27 | model.convs.18            | ELU                   | 0     \n",
      "28 | model.convs.19            | MaxPool2d             | 0     \n",
      "29 | model.convs.20            | Dropout               | 0     \n",
      "30 | model.convs.21            | Conv2d                | 73 K  \n",
      "31 | model.convs.22            | BatchNorm2d           | 128   \n",
      "32 | model.convs.23            | ELU                   | 0     \n",
      "33 | model.convs.24            | MaxPool2d             | 0     \n",
      "34 | model.convs.25            | Dropout               | 0     \n",
      "35 | model.LSTMCell            | LSTMCell              | 5 M   \n",
      "36 | model.dense               | Sequential            | 3 K   \n",
      "37 | model.dense.0             | Dropout               | 0     \n",
      "38 | model.dense.1             | BatchNorm1d           | 1 K   \n",
      "39 | model.dense.2             | Linear                | 1 K   \n"
     ]
    },
    {
     "data": {
      "application/vnd.jupyter.widget-view+json": {
       "model_id": "",
       "version_major": 2,
       "version_minor": 0
      },
      "text/plain": [
       "HBox(children=(FloatProgress(value=1.0, bar_style='info', description='Validation sanity check', layout=Layout…"
      ]
     },
     "metadata": {},
     "output_type": "display_data"
    },
    {
     "name": "stdout",
     "output_type": "stream",
     "text": [
      "Val-Acc=0.05216360403082395\n"
     ]
    },
    {
     "data": {
      "application/vnd.jupyter.widget-view+json": {
       "model_id": "e78bcaaaa93641c58030db47a80c554c",
       "version_major": 2,
       "version_minor": 0
      },
      "text/plain": [
       "HBox(children=(FloatProgress(value=1.0, bar_style='info', description='Training', layout=Layout(flex='2'), max…"
      ]
     },
     "metadata": {},
     "output_type": "display_data"
    },
    {
     "data": {
      "application/vnd.jupyter.widget-view+json": {
       "model_id": "",
       "version_major": 2,
       "version_minor": 0
      },
      "text/plain": [
       "HBox(children=(FloatProgress(value=1.0, bar_style='info', description='Validating', layout=Layout(flex='2'), m…"
      ]
     },
     "metadata": {},
     "output_type": "display_data"
    },
    {
     "name": "stdout",
     "output_type": "stream",
     "text": [
      "Val-Acc=0.6870183758150563\n",
      "Train-Acc=0.7486166007905138\n"
     ]
    },
    {
     "data": {
      "application/vnd.jupyter.widget-view+json": {
       "model_id": "",
       "version_major": 2,
       "version_minor": 0
      },
      "text/plain": [
       "HBox(children=(FloatProgress(value=1.0, bar_style='info', description='Validating', layout=Layout(flex='2'), m…"
      ]
     },
     "metadata": {},
     "output_type": "display_data"
    },
    {
     "name": "stdout",
     "output_type": "stream",
     "text": [
      "Val-Acc=0.6799051570835803\n"
     ]
    },
    {
     "name": "stderr",
     "output_type": "stream",
     "text": [
      "[I 2020-07-15 00:34:48,993] Setting status of trial#52 as TrialState.PRUNED. Trial was pruned at epoch 1.\n",
      "GPU available: True, used: True\n",
      "No environment variable for node rank defined. Set as 0.\n",
      "CUDA_VISIBLE_DEVICES: [0]\n",
      "Set SLURM handle signals.\n",
      "\n",
      "   | Name                      | Type                  | Params\n",
      "----------------------------------------------------------------\n",
      "0  | model                     | CRNN8k_D2             | 4 M   \n",
      "1  | model.spec                | MelspectrogramStretch | 0     \n",
      "2  | model.spec.spectrogram    | Spectrogram           | 0     \n",
      "3  | model.spec.mel_scale      | MelScale              | 0     \n",
      "4  | model.spec.stft           | Spectrogram           | 0     \n",
      "5  | model.spec.random_stretch | RandomTimeStretch     | 0     \n",
      "6  | model.spec.complex_norm   | ComplexNorm           | 0     \n",
      "7  | model.spec.norm           | SpecNormalization     | 0     \n",
      "8  | model.convs               | Sequential            | 213 K \n",
      "9  | model.convs.0             | Conv2d                | 320   \n",
      "10 | model.convs.1             | BatchNorm2d           | 64    \n",
      "11 | model.convs.2             | ELU                   | 0     \n",
      "12 | model.convs.3             | Conv2d                | 9 K   \n",
      "13 | model.convs.4             | BatchNorm2d           | 64    \n",
      "14 | model.convs.5             | ELU                   | 0     \n",
      "15 | model.convs.6             | MaxPool2d             | 0     \n",
      "16 | model.convs.7             | Dropout               | 0     \n",
      "17 | model.convs.8             | Conv2d                | 18 K  \n",
      "18 | model.convs.9             | BatchNorm2d           | 128   \n",
      "19 | model.convs.10            | ELU                   | 0     \n",
      "20 | model.convs.11            | Conv2d                | 36 K  \n",
      "21 | model.convs.12            | BatchNorm2d           | 128   \n",
      "22 | model.convs.13            | ELU                   | 0     \n",
      "23 | model.convs.14            | MaxPool2d             | 0     \n",
      "24 | model.convs.15            | Dropout               | 0     \n",
      "25 | model.convs.16            | Conv2d                | 73 K  \n",
      "26 | model.convs.17            | BatchNorm2d           | 256   \n",
      "27 | model.convs.18            | ELU                   | 0     \n",
      "28 | model.convs.19            | MaxPool2d             | 0     \n",
      "29 | model.convs.20            | Dropout               | 0     \n",
      "30 | model.convs.21            | Conv2d                | 73 K  \n",
      "31 | model.convs.22            | BatchNorm2d           | 128   \n",
      "32 | model.convs.23            | ELU                   | 0     \n",
      "33 | model.convs.24            | MaxPool2d             | 0     \n",
      "34 | model.convs.25            | Dropout               | 0     \n",
      "35 | model.LSTMCell            | LSTMCell              | 4 M   \n",
      "36 | model.dense               | Sequential            | 3 K   \n",
      "37 | model.dense.0             | Dropout               | 0     \n",
      "38 | model.dense.1             | BatchNorm1d           | 1 K   \n",
      "39 | model.dense.2             | Linear                | 1 K   \n"
     ]
    },
    {
     "data": {
      "application/vnd.jupyter.widget-view+json": {
       "model_id": "",
       "version_major": 2,
       "version_minor": 0
      },
      "text/plain": [
       "HBox(children=(FloatProgress(value=1.0, bar_style='info', description='Validation sanity check', layout=Layout…"
      ]
     },
     "metadata": {},
     "output_type": "display_data"
    },
    {
     "name": "stdout",
     "output_type": "stream",
     "text": [
      "Val-Acc=0.03793716656787196\n"
     ]
    },
    {
     "data": {
      "application/vnd.jupyter.widget-view+json": {
       "model_id": "363127a364834e6cb04a21515e877d1f",
       "version_major": 2,
       "version_minor": 0
      },
      "text/plain": [
       "HBox(children=(FloatProgress(value=1.0, bar_style='info', description='Training', layout=Layout(flex='2'), max…"
      ]
     },
     "metadata": {},
     "output_type": "display_data"
    },
    {
     "data": {
      "application/vnd.jupyter.widget-view+json": {
       "model_id": "",
       "version_major": 2,
       "version_minor": 0
      },
      "text/plain": [
       "HBox(children=(FloatProgress(value=1.0, bar_style='info', description='Validating', layout=Layout(flex='2'), m…"
      ]
     },
     "metadata": {},
     "output_type": "display_data"
    },
    {
     "name": "stdout",
     "output_type": "stream",
     "text": [
      "Val-Acc=0.7960877296976882\n",
      "Train-Acc=0.7889328063241107\n"
     ]
    },
    {
     "data": {
      "application/vnd.jupyter.widget-view+json": {
       "model_id": "",
       "version_major": 2,
       "version_minor": 0
      },
      "text/plain": [
       "HBox(children=(FloatProgress(value=1.0, bar_style='info', description='Validating', layout=Layout(flex='2'), m…"
      ]
     },
     "metadata": {},
     "output_type": "display_data"
    },
    {
     "name": "stdout",
     "output_type": "stream",
     "text": [
      "Val-Acc=0.8441019561351512\n",
      "Train-Acc=0.8219367588932807\n"
     ]
    },
    {
     "data": {
      "application/vnd.jupyter.widget-view+json": {
       "model_id": "",
       "version_major": 2,
       "version_minor": 0
      },
      "text/plain": [
       "HBox(children=(FloatProgress(value=1.0, bar_style='info', description='Validating', layout=Layout(flex='2'), m…"
      ]
     },
     "metadata": {},
     "output_type": "display_data"
    },
    {
     "name": "stdout",
     "output_type": "stream",
     "text": [
      "Val-Acc=0.8535862477771191\n",
      "Train-Acc=0.8476284584980237\n"
     ]
    },
    {
     "data": {
      "application/vnd.jupyter.widget-view+json": {
       "model_id": "",
       "version_major": 2,
       "version_minor": 0
      },
      "text/plain": [
       "HBox(children=(FloatProgress(value=1.0, bar_style='info', description='Validating', layout=Layout(flex='2'), m…"
      ]
     },
     "metadata": {},
     "output_type": "display_data"
    },
    {
     "name": "stdout",
     "output_type": "stream",
     "text": [
      "Val-Acc=0.8606994665085952\n",
      "Train-Acc=0.8521739130434782\n"
     ]
    },
    {
     "data": {
      "application/vnd.jupyter.widget-view+json": {
       "model_id": "",
       "version_major": 2,
       "version_minor": 0
      },
      "text/plain": [
       "HBox(children=(FloatProgress(value=1.0, bar_style='info', description='Validating', layout=Layout(flex='2'), m…"
      ]
     },
     "metadata": {},
     "output_type": "display_data"
    },
    {
     "name": "stdout",
     "output_type": "stream",
     "text": [
      "Val-Acc=0.8500296384113811\n"
     ]
    },
    {
     "name": "stderr",
     "output_type": "stream",
     "text": [
      "[I 2020-07-15 00:35:29,735] Setting status of trial#53 as TrialState.PRUNED. Trial was pruned at epoch 4.\n",
      "GPU available: True, used: True\n",
      "No environment variable for node rank defined. Set as 0.\n",
      "CUDA_VISIBLE_DEVICES: [0]\n",
      "Set SLURM handle signals.\n",
      "\n",
      "   | Name                      | Type                  | Params\n",
      "----------------------------------------------------------------\n",
      "0  | model                     | CRNN8k_D2             | 5 M   \n",
      "1  | model.spec                | MelspectrogramStretch | 0     \n",
      "2  | model.spec.spectrogram    | Spectrogram           | 0     \n",
      "3  | model.spec.mel_scale      | MelScale              | 0     \n",
      "4  | model.spec.stft           | Spectrogram           | 0     \n",
      "5  | model.spec.random_stretch | RandomTimeStretch     | 0     \n",
      "6  | model.spec.complex_norm   | ComplexNorm           | 0     \n",
      "7  | model.spec.norm           | SpecNormalization     | 0     \n",
      "8  | model.convs               | Sequential            | 213 K \n",
      "9  | model.convs.0             | Conv2d                | 320   \n",
      "10 | model.convs.1             | BatchNorm2d           | 64    \n",
      "11 | model.convs.2             | ELU                   | 0     \n",
      "12 | model.convs.3             | Conv2d                | 9 K   \n",
      "13 | model.convs.4             | BatchNorm2d           | 64    \n",
      "14 | model.convs.5             | ELU                   | 0     \n",
      "15 | model.convs.6             | MaxPool2d             | 0     \n",
      "16 | model.convs.7             | Dropout               | 0     \n",
      "17 | model.convs.8             | Conv2d                | 18 K  \n",
      "18 | model.convs.9             | BatchNorm2d           | 128   \n",
      "19 | model.convs.10            | ELU                   | 0     \n",
      "20 | model.convs.11            | Conv2d                | 36 K  \n",
      "21 | model.convs.12            | BatchNorm2d           | 128   \n",
      "22 | model.convs.13            | ELU                   | 0     \n",
      "23 | model.convs.14            | MaxPool2d             | 0     \n",
      "24 | model.convs.15            | Dropout               | 0     \n",
      "25 | model.convs.16            | Conv2d                | 73 K  \n",
      "26 | model.convs.17            | BatchNorm2d           | 256   \n",
      "27 | model.convs.18            | ELU                   | 0     \n",
      "28 | model.convs.19            | MaxPool2d             | 0     \n",
      "29 | model.convs.20            | Dropout               | 0     \n",
      "30 | model.convs.21            | Conv2d                | 73 K  \n",
      "31 | model.convs.22            | BatchNorm2d           | 128   \n",
      "32 | model.convs.23            | ELU                   | 0     \n",
      "33 | model.convs.24            | MaxPool2d             | 0     \n",
      "34 | model.convs.25            | Dropout               | 0     \n",
      "35 | model.LSTMCell            | LSTMCell              | 5 M   \n",
      "36 | model.dense               | Sequential            | 4 K   \n",
      "37 | model.dense.0             | Dropout               | 0     \n",
      "38 | model.dense.1             | BatchNorm1d           | 2 K   \n",
      "39 | model.dense.2             | Linear                | 2 K   \n"
     ]
    },
    {
     "data": {
      "application/vnd.jupyter.widget-view+json": {
       "model_id": "",
       "version_major": 2,
       "version_minor": 0
      },
      "text/plain": [
       "HBox(children=(FloatProgress(value=1.0, bar_style='info', description='Validation sanity check', layout=Layout…"
      ]
     },
     "metadata": {},
     "output_type": "display_data"
    },
    {
     "name": "stdout",
     "output_type": "stream",
     "text": [
      "Val-Acc=0.03793716656787196\n"
     ]
    },
    {
     "data": {
      "application/vnd.jupyter.widget-view+json": {
       "model_id": "d178a86a1a60406cb339b64f5310276d",
       "version_major": 2,
       "version_minor": 0
      },
      "text/plain": [
       "HBox(children=(FloatProgress(value=1.0, bar_style='info', description='Training', layout=Layout(flex='2'), max…"
      ]
     },
     "metadata": {},
     "output_type": "display_data"
    },
    {
     "data": {
      "application/vnd.jupyter.widget-view+json": {
       "model_id": "",
       "version_major": 2,
       "version_minor": 0
      },
      "text/plain": [
       "HBox(children=(FloatProgress(value=1.0, bar_style='info', description='Validating', layout=Layout(flex='2'), m…"
      ]
     },
     "metadata": {},
     "output_type": "display_data"
    },
    {
     "name": "stdout",
     "output_type": "stream",
     "text": [
      "Val-Acc=0.8162418494368702\n",
      "Train-Acc=0.7877470355731225\n"
     ]
    },
    {
     "data": {
      "application/vnd.jupyter.widget-view+json": {
       "model_id": "",
       "version_major": 2,
       "version_minor": 0
      },
      "text/plain": [
       "HBox(children=(FloatProgress(value=1.0, bar_style='info', description='Validating', layout=Layout(flex='2'), m…"
      ]
     },
     "metadata": {},
     "output_type": "display_data"
    },
    {
     "name": "stdout",
     "output_type": "stream",
     "text": [
      "Val-Acc=0.8358032009484292\n",
      "Train-Acc=0.8355731225296442\n"
     ]
    },
    {
     "data": {
      "application/vnd.jupyter.widget-view+json": {
       "model_id": "",
       "version_major": 2,
       "version_minor": 0
      },
      "text/plain": [
       "HBox(children=(FloatProgress(value=1.0, bar_style='info', description='Validating', layout=Layout(flex='2'), m…"
      ]
     },
     "metadata": {},
     "output_type": "display_data"
    },
    {
     "name": "stdout",
     "output_type": "stream",
     "text": [
      "Val-Acc=0.8506224066390041\n",
      "Train-Acc=0.8284584980237154\n"
     ]
    },
    {
     "data": {
      "application/vnd.jupyter.widget-view+json": {
       "model_id": "",
       "version_major": 2,
       "version_minor": 0
      },
      "text/plain": [
       "HBox(children=(FloatProgress(value=1.0, bar_style='info', description='Validating', layout=Layout(flex='2'), m…"
      ]
     },
     "metadata": {},
     "output_type": "display_data"
    },
    {
     "name": "stdout",
     "output_type": "stream",
     "text": [
      "Val-Acc=0.8506224066390041\n"
     ]
    },
    {
     "name": "stderr",
     "output_type": "stream",
     "text": [
      "[I 2020-07-15 00:36:02,255] Setting status of trial#54 as TrialState.PRUNED. Trial was pruned at epoch 3.\n",
      "GPU available: True, used: True\n",
      "No environment variable for node rank defined. Set as 0.\n",
      "CUDA_VISIBLE_DEVICES: [0]\n",
      "Set SLURM handle signals.\n",
      "\n",
      "   | Name                      | Type                  | Params\n",
      "----------------------------------------------------------------\n",
      "0  | model                     | CRNN8k_D2             | 484 K \n",
      "1  | model.spec                | MelspectrogramStretch | 0     \n",
      "2  | model.spec.spectrogram    | Spectrogram           | 0     \n",
      "3  | model.spec.mel_scale      | MelScale              | 0     \n",
      "4  | model.spec.stft           | Spectrogram           | 0     \n",
      "5  | model.spec.random_stretch | RandomTimeStretch     | 0     \n",
      "6  | model.spec.complex_norm   | ComplexNorm           | 0     \n",
      "7  | model.spec.norm           | SpecNormalization     | 0     \n",
      "8  | model.convs               | Sequential            | 213 K \n",
      "9  | model.convs.0             | Conv2d                | 320   \n",
      "10 | model.convs.1             | BatchNorm2d           | 64    \n",
      "11 | model.convs.2             | ELU                   | 0     \n",
      "12 | model.convs.3             | Conv2d                | 9 K   \n",
      "13 | model.convs.4             | BatchNorm2d           | 64    \n",
      "14 | model.convs.5             | ELU                   | 0     \n",
      "15 | model.convs.6             | MaxPool2d             | 0     \n",
      "16 | model.convs.7             | Dropout               | 0     \n",
      "17 | model.convs.8             | Conv2d                | 18 K  \n",
      "18 | model.convs.9             | BatchNorm2d           | 128   \n",
      "19 | model.convs.10            | ELU                   | 0     \n",
      "20 | model.convs.11            | Conv2d                | 36 K  \n",
      "21 | model.convs.12            | BatchNorm2d           | 128   \n",
      "22 | model.convs.13            | ELU                   | 0     \n",
      "23 | model.convs.14            | MaxPool2d             | 0     \n",
      "24 | model.convs.15            | Dropout               | 0     \n",
      "25 | model.convs.16            | Conv2d                | 73 K  \n",
      "26 | model.convs.17            | BatchNorm2d           | 256   \n",
      "27 | model.convs.18            | ELU                   | 0     \n",
      "28 | model.convs.19            | MaxPool2d             | 0     \n",
      "29 | model.convs.20            | Dropout               | 0     \n",
      "30 | model.convs.21            | Conv2d                | 73 K  \n",
      "31 | model.convs.22            | BatchNorm2d           | 128   \n",
      "32 | model.convs.23            | ELU                   | 0     \n",
      "33 | model.convs.24            | MaxPool2d             | 0     \n",
      "34 | model.convs.25            | Dropout               | 0     \n",
      "35 | model.LSTMCell            | LSTMCell              | 270 K \n",
      "36 | model.dense               | Sequential            | 582   \n",
      "37 | model.dense.0             | Dropout               | 0     \n",
      "38 | model.dense.1             | BatchNorm1d           | 290   \n",
      "39 | model.dense.2             | Linear                | 292   \n"
     ]
    },
    {
     "data": {
      "application/vnd.jupyter.widget-view+json": {
       "model_id": "",
       "version_major": 2,
       "version_minor": 0
      },
      "text/plain": [
       "HBox(children=(FloatProgress(value=1.0, bar_style='info', description='Validation sanity check', layout=Layout…"
      ]
     },
     "metadata": {},
     "output_type": "display_data"
    },
    {
     "name": "stdout",
     "output_type": "stream",
     "text": [
      "Val-Acc=0.03793716656787196\n"
     ]
    },
    {
     "data": {
      "application/vnd.jupyter.widget-view+json": {
       "model_id": "4cdf4458a1b74453917fac233641196d",
       "version_major": 2,
       "version_minor": 0
      },
      "text/plain": [
       "HBox(children=(FloatProgress(value=1.0, bar_style='info', description='Training', layout=Layout(flex='2'), max…"
      ]
     },
     "metadata": {},
     "output_type": "display_data"
    },
    {
     "data": {
      "application/vnd.jupyter.widget-view+json": {
       "model_id": "",
       "version_major": 2,
       "version_minor": 0
      },
      "text/plain": [
       "HBox(children=(FloatProgress(value=1.0, bar_style='info', description='Validating', layout=Layout(flex='2'), m…"
      ]
     },
     "metadata": {},
     "output_type": "display_data"
    },
    {
     "name": "stdout",
     "output_type": "stream",
     "text": [
      "Val-Acc=0.7557794902193242\n",
      "Train-Acc=0.7938735177865612\n"
     ]
    },
    {
     "data": {
      "application/vnd.jupyter.widget-view+json": {
       "model_id": "",
       "version_major": 2,
       "version_minor": 0
      },
      "text/plain": [
       "HBox(children=(FloatProgress(value=1.0, bar_style='info', description='Validating', layout=Layout(flex='2'), m…"
      ]
     },
     "metadata": {},
     "output_type": "display_data"
    },
    {
     "name": "stdout",
     "output_type": "stream",
     "text": [
      "Val-Acc=0.8304682868998222\n",
      "Train-Acc=0.8272727272727273\n"
     ]
    },
    {
     "data": {
      "application/vnd.jupyter.widget-view+json": {
       "model_id": "",
       "version_major": 2,
       "version_minor": 0
      },
      "text/plain": [
       "HBox(children=(FloatProgress(value=1.0, bar_style='info', description='Validating', layout=Layout(flex='2'), m…"
      ]
     },
     "metadata": {},
     "output_type": "display_data"
    },
    {
     "name": "stdout",
     "output_type": "stream",
     "text": [
      "Val-Acc=0.7883817427385892\n"
     ]
    },
    {
     "name": "stderr",
     "output_type": "stream",
     "text": [
      "[I 2020-07-15 00:36:26,200] Setting status of trial#55 as TrialState.PRUNED. Trial was pruned at epoch 2.\n",
      "GPU available: True, used: True\n",
      "No environment variable for node rank defined. Set as 0.\n",
      "CUDA_VISIBLE_DEVICES: [0]\n",
      "Set SLURM handle signals.\n",
      "\n",
      "   | Name                      | Type                  | Params\n",
      "----------------------------------------------------------------\n",
      "0  | model                     | CRNN8k_D2             | 303 K \n",
      "1  | model.spec                | MelspectrogramStretch | 0     \n",
      "2  | model.spec.spectrogram    | Spectrogram           | 0     \n",
      "3  | model.spec.mel_scale      | MelScale              | 0     \n",
      "4  | model.spec.stft           | Spectrogram           | 0     \n",
      "5  | model.spec.random_stretch | RandomTimeStretch     | 0     \n",
      "6  | model.spec.complex_norm   | ComplexNorm           | 0     \n",
      "7  | model.spec.norm           | SpecNormalization     | 0     \n",
      "8  | model.convs               | Sequential            | 213 K \n",
      "9  | model.convs.0             | Conv2d                | 320   \n",
      "10 | model.convs.1             | BatchNorm2d           | 64    \n",
      "11 | model.convs.2             | ELU                   | 0     \n",
      "12 | model.convs.3             | Conv2d                | 9 K   \n",
      "13 | model.convs.4             | BatchNorm2d           | 64    \n",
      "14 | model.convs.5             | ELU                   | 0     \n",
      "15 | model.convs.6             | MaxPool2d             | 0     \n",
      "16 | model.convs.7             | Dropout               | 0     \n",
      "17 | model.convs.8             | Conv2d                | 18 K  \n",
      "18 | model.convs.9             | BatchNorm2d           | 128   \n",
      "19 | model.convs.10            | ELU                   | 0     \n",
      "20 | model.convs.11            | Conv2d                | 36 K  \n",
      "21 | model.convs.12            | BatchNorm2d           | 128   \n",
      "22 | model.convs.13            | ELU                   | 0     \n",
      "23 | model.convs.14            | MaxPool2d             | 0     \n",
      "24 | model.convs.15            | Dropout               | 0     \n",
      "25 | model.convs.16            | Conv2d                | 73 K  \n",
      "26 | model.convs.17            | BatchNorm2d           | 256   \n",
      "27 | model.convs.18            | ELU                   | 0     \n",
      "28 | model.convs.19            | MaxPool2d             | 0     \n",
      "29 | model.convs.20            | Dropout               | 0     \n",
      "30 | model.convs.21            | Conv2d                | 73 K  \n",
      "31 | model.convs.22            | BatchNorm2d           | 128   \n",
      "32 | model.convs.23            | ELU                   | 0     \n",
      "33 | model.convs.24            | MaxPool2d             | 0     \n",
      "34 | model.convs.25            | Dropout               | 0     \n",
      "35 | model.LSTMCell            | LSTMCell              | 89 K  \n",
      "36 | model.dense               | Sequential            | 238   \n",
      "37 | model.dense.0             | Dropout               | 0     \n",
      "38 | model.dense.1             | BatchNorm1d           | 118   \n",
      "39 | model.dense.2             | Linear                | 120   \n"
     ]
    },
    {
     "data": {
      "application/vnd.jupyter.widget-view+json": {
       "model_id": "",
       "version_major": 2,
       "version_minor": 0
      },
      "text/plain": [
       "HBox(children=(FloatProgress(value=1.0, bar_style='info', description='Validation sanity check', layout=Layout…"
      ]
     },
     "metadata": {},
     "output_type": "display_data"
    },
    {
     "name": "stdout",
     "output_type": "stream",
     "text": [
      "Val-Acc=0.03734439834024896\n"
     ]
    },
    {
     "data": {
      "application/vnd.jupyter.widget-view+json": {
       "model_id": "1cdd2a616c6146d5a7b02947f249a14e",
       "version_major": 2,
       "version_minor": 0
      },
      "text/plain": [
       "HBox(children=(FloatProgress(value=1.0, bar_style='info', description='Training', layout=Layout(flex='2'), max…"
      ]
     },
     "metadata": {},
     "output_type": "display_data"
    },
    {
     "data": {
      "application/vnd.jupyter.widget-view+json": {
       "model_id": "",
       "version_major": 2,
       "version_minor": 0
      },
      "text/plain": [
       "HBox(children=(FloatProgress(value=1.0, bar_style='info', description='Validating', layout=Layout(flex='2'), m…"
      ]
     },
     "metadata": {},
     "output_type": "display_data"
    },
    {
     "name": "stdout",
     "output_type": "stream",
     "text": [
      "Val-Acc=0.8197984588026082\n",
      "Train-Acc=0.7883399209486166\n"
     ]
    },
    {
     "data": {
      "application/vnd.jupyter.widget-view+json": {
       "model_id": "",
       "version_major": 2,
       "version_minor": 0
      },
      "text/plain": [
       "HBox(children=(FloatProgress(value=1.0, bar_style='info', description='Validating', layout=Layout(flex='2'), m…"
      ]
     },
     "metadata": {},
     "output_type": "display_data"
    },
    {
     "name": "stdout",
     "output_type": "stream",
     "text": [
      "Val-Acc=0.8369887374036752\n",
      "Train-Acc=0.8231225296442688\n"
     ]
    },
    {
     "data": {
      "application/vnd.jupyter.widget-view+json": {
       "model_id": "",
       "version_major": 2,
       "version_minor": 0
      },
      "text/plain": [
       "HBox(children=(FloatProgress(value=1.0, bar_style='info', description='Validating', layout=Layout(flex='2'), m…"
      ]
     },
     "metadata": {},
     "output_type": "display_data"
    },
    {
     "name": "stdout",
     "output_type": "stream",
     "text": [
      "Val-Acc=0.8482513337285121\n",
      "Train-Acc=0.8452569169960474\n"
     ]
    },
    {
     "data": {
      "application/vnd.jupyter.widget-view+json": {
       "model_id": "",
       "version_major": 2,
       "version_minor": 0
      },
      "text/plain": [
       "HBox(children=(FloatProgress(value=1.0, bar_style='info', description='Validating', layout=Layout(flex='2'), m…"
      ]
     },
     "metadata": {},
     "output_type": "display_data"
    },
    {
     "name": "stdout",
     "output_type": "stream",
     "text": [
      "Val-Acc=0.8488441019561351\n"
     ]
    },
    {
     "name": "stderr",
     "output_type": "stream",
     "text": [
      "[I 2020-07-15 00:36:58,230] Setting status of trial#56 as TrialState.PRUNED. Trial was pruned at epoch 3.\n",
      "GPU available: True, used: True\n",
      "No environment variable for node rank defined. Set as 0.\n",
      "CUDA_VISIBLE_DEVICES: [0]\n",
      "Set SLURM handle signals.\n",
      "\n",
      "   | Name                      | Type                  | Params\n",
      "----------------------------------------------------------------\n",
      "0  | model                     | CRNN8k_D2             | 1 M   \n",
      "1  | model.spec                | MelspectrogramStretch | 0     \n",
      "2  | model.spec.spectrogram    | Spectrogram           | 0     \n",
      "3  | model.spec.mel_scale      | MelScale              | 0     \n",
      "4  | model.spec.stft           | Spectrogram           | 0     \n",
      "5  | model.spec.random_stretch | RandomTimeStretch     | 0     \n",
      "6  | model.spec.complex_norm   | ComplexNorm           | 0     \n",
      "7  | model.spec.norm           | SpecNormalization     | 0     \n",
      "8  | model.convs               | Sequential            | 213 K \n",
      "9  | model.convs.0             | Conv2d                | 320   \n",
      "10 | model.convs.1             | BatchNorm2d           | 64    \n",
      "11 | model.convs.2             | ELU                   | 0     \n",
      "12 | model.convs.3             | Conv2d                | 9 K   \n",
      "13 | model.convs.4             | BatchNorm2d           | 64    \n",
      "14 | model.convs.5             | ELU                   | 0     \n",
      "15 | model.convs.6             | MaxPool2d             | 0     \n",
      "16 | model.convs.7             | Dropout               | 0     \n",
      "17 | model.convs.8             | Conv2d                | 18 K  \n",
      "18 | model.convs.9             | BatchNorm2d           | 128   \n",
      "19 | model.convs.10            | ELU                   | 0     \n",
      "20 | model.convs.11            | Conv2d                | 36 K  \n",
      "21 | model.convs.12            | BatchNorm2d           | 128   \n",
      "22 | model.convs.13            | ELU                   | 0     \n",
      "23 | model.convs.14            | MaxPool2d             | 0     \n",
      "24 | model.convs.15            | Dropout               | 0     \n",
      "25 | model.convs.16            | Conv2d                | 73 K  \n",
      "26 | model.convs.17            | BatchNorm2d           | 256   \n",
      "27 | model.convs.18            | ELU                   | 0     \n",
      "28 | model.convs.19            | MaxPool2d             | 0     \n",
      "29 | model.convs.20            | Dropout               | 0     \n",
      "30 | model.convs.21            | Conv2d                | 73 K  \n",
      "31 | model.convs.22            | BatchNorm2d           | 128   \n",
      "32 | model.convs.23            | ELU                   | 0     \n",
      "33 | model.convs.24            | MaxPool2d             | 0     \n",
      "34 | model.convs.25            | Dropout               | 0     \n",
      "35 | model.LSTMCell            | LSTMCell              | 852 K \n",
      "36 | model.dense               | Sequential            | 1 K   \n",
      "37 | model.dense.0             | Dropout               | 0     \n",
      "38 | model.dense.1             | BatchNorm1d           | 656   \n",
      "39 | model.dense.2             | Linear                | 658   \n"
     ]
    },
    {
     "data": {
      "application/vnd.jupyter.widget-view+json": {
       "model_id": "",
       "version_major": 2,
       "version_minor": 0
      },
      "text/plain": [
       "HBox(children=(FloatProgress(value=1.0, bar_style='info', description='Validation sanity check', layout=Layout…"
      ]
     },
     "metadata": {},
     "output_type": "display_data"
    },
    {
     "name": "stdout",
     "output_type": "stream",
     "text": [
      "Val-Acc=0.03793716656787196\n"
     ]
    },
    {
     "data": {
      "application/vnd.jupyter.widget-view+json": {
       "model_id": "955c2ef9e1284f3b8db4c1d27f1ecf61",
       "version_major": 2,
       "version_minor": 0
      },
      "text/plain": [
       "HBox(children=(FloatProgress(value=1.0, bar_style='info', description='Training', layout=Layout(flex='2'), max…"
      ]
     },
     "metadata": {},
     "output_type": "display_data"
    },
    {
     "data": {
      "application/vnd.jupyter.widget-view+json": {
       "model_id": "",
       "version_major": 2,
       "version_minor": 0
      },
      "text/plain": [
       "HBox(children=(FloatProgress(value=1.0, bar_style='info', description='Validating', layout=Layout(flex='2'), m…"
      ]
     },
     "metadata": {},
     "output_type": "display_data"
    },
    {
     "name": "stdout",
     "output_type": "stream",
     "text": [
      "Val-Acc=0.8126852400711322\n",
      "Train-Acc=0.7966403162055335\n"
     ]
    },
    {
     "data": {
      "application/vnd.jupyter.widget-view+json": {
       "model_id": "",
       "version_major": 2,
       "version_minor": 0
      },
      "text/plain": [
       "HBox(children=(FloatProgress(value=1.0, bar_style='info', description='Validating', layout=Layout(flex='2'), m…"
      ]
     },
     "metadata": {},
     "output_type": "display_data"
    },
    {
     "name": "stdout",
     "output_type": "stream",
     "text": [
      "Val-Acc=0.8476585655008891\n",
      "Train-Acc=0.824703557312253\n"
     ]
    },
    {
     "data": {
      "application/vnd.jupyter.widget-view+json": {
       "model_id": "",
       "version_major": 2,
       "version_minor": 0
      },
      "text/plain": [
       "HBox(children=(FloatProgress(value=1.0, bar_style='info', description='Validating', layout=Layout(flex='2'), m…"
      ]
     },
     "metadata": {},
     "output_type": "display_data"
    },
    {
     "name": "stdout",
     "output_type": "stream",
     "text": [
      "Val-Acc=0.8298755186721992\n",
      "Train-Acc=0.8383399209486166\n"
     ]
    },
    {
     "data": {
      "application/vnd.jupyter.widget-view+json": {
       "model_id": "",
       "version_major": 2,
       "version_minor": 0
      },
      "text/plain": [
       "HBox(children=(FloatProgress(value=1.0, bar_style='info', description='Validating', layout=Layout(flex='2'), m…"
      ]
     },
     "metadata": {},
     "output_type": "display_data"
    },
    {
     "name": "stdout",
     "output_type": "stream",
     "text": [
      "Val-Acc=0.8660343805572022\n",
      "Train-Acc=0.8492094861660079\n"
     ]
    },
    {
     "data": {
      "application/vnd.jupyter.widget-view+json": {
       "model_id": "",
       "version_major": 2,
       "version_minor": 0
      },
      "text/plain": [
       "HBox(children=(FloatProgress(value=1.0, bar_style='info', description='Validating', layout=Layout(flex='2'), m…"
      ]
     },
     "metadata": {},
     "output_type": "display_data"
    },
    {
     "name": "stdout",
     "output_type": "stream",
     "text": [
      "Val-Acc=0.8180201541197392\n",
      "Train-Acc=0.857905138339921\n"
     ]
    },
    {
     "data": {
      "application/vnd.jupyter.widget-view+json": {
       "model_id": "",
       "version_major": 2,
       "version_minor": 0
      },
      "text/plain": [
       "HBox(children=(FloatProgress(value=1.0, bar_style='info', description='Validating', layout=Layout(flex='2'), m…"
      ]
     },
     "metadata": {},
     "output_type": "display_data"
    },
    {
     "name": "stdout",
     "output_type": "stream",
     "text": [
      "Val-Acc=0.8684054534676942\n",
      "Train-Acc=0.858102766798419\n"
     ]
    },
    {
     "data": {
      "application/vnd.jupyter.widget-view+json": {
       "model_id": "",
       "version_major": 2,
       "version_minor": 0
      },
      "text/plain": [
       "HBox(children=(FloatProgress(value=1.0, bar_style='info', description='Validating', layout=Layout(flex='2'), m…"
      ]
     },
     "metadata": {},
     "output_type": "display_data"
    },
    {
     "name": "stdout",
     "output_type": "stream",
     "text": [
      "Val-Acc=0.8660343805572022\n",
      "Train-Acc=0.86699604743083\n"
     ]
    },
    {
     "data": {
      "application/vnd.jupyter.widget-view+json": {
       "model_id": "",
       "version_major": 2,
       "version_minor": 0
      },
      "text/plain": [
       "HBox(children=(FloatProgress(value=1.0, bar_style='info', description='Validating', layout=Layout(flex='2'), m…"
      ]
     },
     "metadata": {},
     "output_type": "display_data"
    },
    {
     "name": "stdout",
     "output_type": "stream",
     "text": [
      "Val-Acc=0.8601066982809722\n",
      "Train-Acc=0.8719367588932806\n"
     ]
    },
    {
     "data": {
      "application/vnd.jupyter.widget-view+json": {
       "model_id": "",
       "version_major": 2,
       "version_minor": 0
      },
      "text/plain": [
       "HBox(children=(FloatProgress(value=1.0, bar_style='info', description='Validating', layout=Layout(flex='2'), m…"
      ]
     },
     "metadata": {},
     "output_type": "display_data"
    },
    {
     "name": "stdout",
     "output_type": "stream",
     "text": [
      "Val-Acc=0.8684054534676942\n"
     ]
    },
    {
     "name": "stderr",
     "output_type": "stream",
     "text": [
      "[I 2020-07-15 00:38:09,728] Setting status of trial#57 as TrialState.PRUNED. Trial was pruned at epoch 8.\n",
      "GPU available: True, used: True\n",
      "No environment variable for node rank defined. Set as 0.\n",
      "CUDA_VISIBLE_DEVICES: [0]\n",
      "Set SLURM handle signals.\n",
      "\n",
      "   | Name                      | Type                  | Params\n",
      "----------------------------------------------------------------\n",
      "0  | model                     | CRNN8k_D2             | 391 K \n",
      "1  | model.spec                | MelspectrogramStretch | 0     \n",
      "2  | model.spec.spectrogram    | Spectrogram           | 0     \n",
      "3  | model.spec.mel_scale      | MelScale              | 0     \n",
      "4  | model.spec.stft           | Spectrogram           | 0     \n",
      "5  | model.spec.random_stretch | RandomTimeStretch     | 0     \n",
      "6  | model.spec.complex_norm   | ComplexNorm           | 0     \n",
      "7  | model.spec.norm           | SpecNormalization     | 0     \n",
      "8  | model.convs               | Sequential            | 213 K \n",
      "9  | model.convs.0             | Conv2d                | 320   \n",
      "10 | model.convs.1             | BatchNorm2d           | 64    \n",
      "11 | model.convs.2             | ELU                   | 0     \n",
      "12 | model.convs.3             | Conv2d                | 9 K   \n",
      "13 | model.convs.4             | BatchNorm2d           | 64    \n",
      "14 | model.convs.5             | ELU                   | 0     \n",
      "15 | model.convs.6             | MaxPool2d             | 0     \n",
      "16 | model.convs.7             | Dropout               | 0     \n",
      "17 | model.convs.8             | Conv2d                | 18 K  \n",
      "18 | model.convs.9             | BatchNorm2d           | 128   \n",
      "19 | model.convs.10            | ELU                   | 0     \n",
      "20 | model.convs.11            | Conv2d                | 36 K  \n",
      "21 | model.convs.12            | BatchNorm2d           | 128   \n",
      "22 | model.convs.13            | ELU                   | 0     \n",
      "23 | model.convs.14            | MaxPool2d             | 0     \n",
      "24 | model.convs.15            | Dropout               | 0     \n",
      "25 | model.convs.16            | Conv2d                | 73 K  \n",
      "26 | model.convs.17            | BatchNorm2d           | 256   \n",
      "27 | model.convs.18            | ELU                   | 0     \n",
      "28 | model.convs.19            | MaxPool2d             | 0     \n",
      "29 | model.convs.20            | Dropout               | 0     \n",
      "30 | model.convs.21            | Conv2d                | 73 K  \n",
      "31 | model.convs.22            | BatchNorm2d           | 128   \n",
      "32 | model.convs.23            | ELU                   | 0     \n",
      "33 | model.convs.24            | MaxPool2d             | 0     \n",
      "34 | model.convs.25            | Dropout               | 0     \n",
      "35 | model.LSTMCell            | LSTMCell              | 177 K \n",
      "36 | model.dense               | Sequential            | 418   \n",
      "37 | model.dense.0             | Dropout               | 0     \n",
      "38 | model.dense.1             | BatchNorm1d           | 208   \n",
      "39 | model.dense.2             | Linear                | 210   \n"
     ]
    },
    {
     "data": {
      "application/vnd.jupyter.widget-view+json": {
       "model_id": "",
       "version_major": 2,
       "version_minor": 0
      },
      "text/plain": [
       "HBox(children=(FloatProgress(value=1.0, bar_style='info', description='Validation sanity check', layout=Layout…"
      ]
     },
     "metadata": {},
     "output_type": "display_data"
    },
    {
     "name": "stdout",
     "output_type": "stream",
     "text": [
      "Val-Acc=0.03793716656787196\n"
     ]
    },
    {
     "data": {
      "application/vnd.jupyter.widget-view+json": {
       "model_id": "16a93cc795124182976e4b47b3643782",
       "version_major": 2,
       "version_minor": 0
      },
      "text/plain": [
       "HBox(children=(FloatProgress(value=1.0, bar_style='info', description='Training', layout=Layout(flex='2'), max…"
      ]
     },
     "metadata": {},
     "output_type": "display_data"
    },
    {
     "data": {
      "application/vnd.jupyter.widget-view+json": {
       "model_id": "",
       "version_major": 2,
       "version_minor": 0
      },
      "text/plain": [
       "HBox(children=(FloatProgress(value=1.0, bar_style='info', description='Validating', layout=Layout(flex='2'), m…"
      ]
     },
     "metadata": {},
     "output_type": "display_data"
    },
    {
     "name": "stdout",
     "output_type": "stream",
     "text": [
      "Val-Acc=0.8132780082987552\n",
      "Train-Acc=0.7891304347826087\n"
     ]
    },
    {
     "data": {
      "application/vnd.jupyter.widget-view+json": {
       "model_id": "",
       "version_major": 2,
       "version_minor": 0
      },
      "text/plain": [
       "HBox(children=(FloatProgress(value=1.0, bar_style='info', description='Validating', layout=Layout(flex='2'), m…"
      ]
     },
     "metadata": {},
     "output_type": "display_data"
    },
    {
     "name": "stdout",
     "output_type": "stream",
     "text": [
      "Val-Acc=0.8316538233550682\n",
      "Train-Acc=0.8203557312252965\n"
     ]
    },
    {
     "data": {
      "application/vnd.jupyter.widget-view+json": {
       "model_id": "",
       "version_major": 2,
       "version_minor": 0
      },
      "text/plain": [
       "HBox(children=(FloatProgress(value=1.0, bar_style='info', description='Validating', layout=Layout(flex='2'), m…"
      ]
     },
     "metadata": {},
     "output_type": "display_data"
    },
    {
     "name": "stdout",
     "output_type": "stream",
     "text": [
      "Val-Acc=0.8589211618257261\n",
      "Train-Acc=0.8387351778656127\n"
     ]
    },
    {
     "data": {
      "application/vnd.jupyter.widget-view+json": {
       "model_id": "",
       "version_major": 2,
       "version_minor": 0
      },
      "text/plain": [
       "HBox(children=(FloatProgress(value=1.0, bar_style='info', description='Validating', layout=Layout(flex='2'), m…"
      ]
     },
     "metadata": {},
     "output_type": "display_data"
    },
    {
     "name": "stdout",
     "output_type": "stream",
     "text": [
      "Val-Acc=0.8713692946058091\n",
      "Train-Acc=0.8480237154150198\n"
     ]
    },
    {
     "data": {
      "application/vnd.jupyter.widget-view+json": {
       "model_id": "",
       "version_major": 2,
       "version_minor": 0
      },
      "text/plain": [
       "HBox(children=(FloatProgress(value=1.0, bar_style='info', description='Validating', layout=Layout(flex='2'), m…"
      ]
     },
     "metadata": {},
     "output_type": "display_data"
    },
    {
     "name": "stdout",
     "output_type": "stream",
     "text": [
      "Val-Acc=0.8624777711914642\n",
      "Train-Acc=0.8596837944664032\n"
     ]
    },
    {
     "data": {
      "application/vnd.jupyter.widget-view+json": {
       "model_id": "",
       "version_major": 2,
       "version_minor": 0
      },
      "text/plain": [
       "HBox(children=(FloatProgress(value=1.0, bar_style='info', description='Validating', layout=Layout(flex='2'), m…"
      ]
     },
     "metadata": {},
     "output_type": "display_data"
    },
    {
     "name": "stdout",
     "output_type": "stream",
     "text": [
      "Val-Acc=0.8559573206876111\n",
      "Train-Acc=0.8660079051383399\n"
     ]
    },
    {
     "data": {
      "application/vnd.jupyter.widget-view+json": {
       "model_id": "",
       "version_major": 2,
       "version_minor": 0
      },
      "text/plain": [
       "HBox(children=(FloatProgress(value=1.0, bar_style='info', description='Validating', layout=Layout(flex='2'), m…"
      ]
     },
     "metadata": {},
     "output_type": "display_data"
    },
    {
     "name": "stdout",
     "output_type": "stream",
     "text": [
      "Val-Acc=0.8666271487848252\n",
      "Train-Acc=0.866600790513834\n"
     ]
    },
    {
     "data": {
      "application/vnd.jupyter.widget-view+json": {
       "model_id": "",
       "version_major": 2,
       "version_minor": 0
      },
      "text/plain": [
       "HBox(children=(FloatProgress(value=1.0, bar_style='info', description='Validating', layout=Layout(flex='2'), m…"
      ]
     },
     "metadata": {},
     "output_type": "display_data"
    },
    {
     "name": "stdout",
     "output_type": "stream",
     "text": [
      "Val-Acc=0.8802608180201541\n",
      "Train-Acc=0.8768774703557313\n"
     ]
    },
    {
     "data": {
      "application/vnd.jupyter.widget-view+json": {
       "model_id": "",
       "version_major": 2,
       "version_minor": 0
      },
      "text/plain": [
       "HBox(children=(FloatProgress(value=1.0, bar_style='info', description='Validating', layout=Layout(flex='2'), m…"
      ]
     },
     "metadata": {},
     "output_type": "display_data"
    },
    {
     "name": "stdout",
     "output_type": "stream",
     "text": [
      "Val-Acc=0.8719620628334321\n",
      "Train-Acc=0.8766798418972332\n"
     ]
    },
    {
     "data": {
      "application/vnd.jupyter.widget-view+json": {
       "model_id": "",
       "version_major": 2,
       "version_minor": 0
      },
      "text/plain": [
       "HBox(children=(FloatProgress(value=1.0, bar_style='info', description='Validating', layout=Layout(flex='2'), m…"
      ]
     },
     "metadata": {},
     "output_type": "display_data"
    },
    {
     "name": "stdout",
     "output_type": "stream",
     "text": [
      "Val-Acc=0.8808535862477771\n",
      "Train-Acc=0.8841897233201581\n"
     ]
    },
    {
     "data": {
      "application/vnd.jupyter.widget-view+json": {
       "model_id": "",
       "version_major": 2,
       "version_minor": 0
      },
      "text/plain": [
       "HBox(children=(FloatProgress(value=1.0, bar_style='info', description='Validating', layout=Layout(flex='2'), m…"
      ]
     },
     "metadata": {},
     "output_type": "display_data"
    },
    {
     "name": "stdout",
     "output_type": "stream",
     "text": [
      "Val-Acc=0.8802608180201541\n",
      "Train-Acc=0.8887351778656126\n"
     ]
    },
    {
     "data": {
      "application/vnd.jupyter.widget-view+json": {
       "model_id": "",
       "version_major": 2,
       "version_minor": 0
      },
      "text/plain": [
       "HBox(children=(FloatProgress(value=1.0, bar_style='info', description='Validating', layout=Layout(flex='2'), m…"
      ]
     },
     "metadata": {},
     "output_type": "display_data"
    },
    {
     "name": "stdout",
     "output_type": "stream",
     "text": [
      "Val-Acc=0.8867812685240071\n",
      "Train-Acc=0.8851778656126482\n"
     ]
    },
    {
     "data": {
      "application/vnd.jupyter.widget-view+json": {
       "model_id": "",
       "version_major": 2,
       "version_minor": 0
      },
      "text/plain": [
       "HBox(children=(FloatProgress(value=1.0, bar_style='info', description='Validating', layout=Layout(flex='2'), m…"
      ]
     },
     "metadata": {},
     "output_type": "display_data"
    },
    {
     "name": "stdout",
     "output_type": "stream",
     "text": [
      "Val-Acc=0.8867812685240071\n",
      "Train-Acc=0.8873517786561265\n"
     ]
    },
    {
     "data": {
      "application/vnd.jupyter.widget-view+json": {
       "model_id": "",
       "version_major": 2,
       "version_minor": 0
      },
      "text/plain": [
       "HBox(children=(FloatProgress(value=1.0, bar_style='info', description='Validating', layout=Layout(flex='2'), m…"
      ]
     },
     "metadata": {},
     "output_type": "display_data"
    },
    {
     "name": "stdout",
     "output_type": "stream",
     "text": [
      "Val-Acc=0.8814463544754001\n",
      "Train-Acc=0.8889328063241106\n"
     ]
    },
    {
     "data": {
      "application/vnd.jupyter.widget-view+json": {
       "model_id": "",
       "version_major": 2,
       "version_minor": 0
      },
      "text/plain": [
       "HBox(children=(FloatProgress(value=1.0, bar_style='info', description='Validating', layout=Layout(flex='2'), m…"
      ]
     },
     "metadata": {},
     "output_type": "display_data"
    },
    {
     "name": "stdout",
     "output_type": "stream",
     "text": [
      "Val-Acc=0.8885595732068761\n",
      "Train-Acc=0.892094861660079\n",
      "\n",
      "Saved model to \"saved_modelsq/58.p\"\n"
     ]
    },
    {
     "name": "stderr",
     "output_type": "stream",
     "text": [
      "[I 2020-07-15 00:40:07,541] Finished trial#58 with value: 0.8885595732068761 with parameters: {'learning_rate': 0.0006551542906802063, 'p_drop': 0.28861939251626995, 'lr_decay': 0.8954380068471468, 'n_hidden': 104, 'weight_decay': 0.00021571839024527029}. Best is trial#44 with value: 0.8944872554831061.\n",
      "GPU available: True, used: True\n",
      "No environment variable for node rank defined. Set as 0.\n",
      "CUDA_VISIBLE_DEVICES: [0]\n",
      "Set SLURM handle signals.\n",
      "\n",
      "   | Name                      | Type                  | Params\n",
      "----------------------------------------------------------------\n",
      "0  | model                     | CRNN8k_D2             | 340 K \n",
      "1  | model.spec                | MelspectrogramStretch | 0     \n",
      "2  | model.spec.spectrogram    | Spectrogram           | 0     \n",
      "3  | model.spec.mel_scale      | MelScale              | 0     \n",
      "4  | model.spec.stft           | Spectrogram           | 0     \n",
      "5  | model.spec.random_stretch | RandomTimeStretch     | 0     \n",
      "6  | model.spec.complex_norm   | ComplexNorm           | 0     \n",
      "7  | model.spec.norm           | SpecNormalization     | 0     \n",
      "8  | model.convs               | Sequential            | 213 K \n",
      "9  | model.convs.0             | Conv2d                | 320   \n",
      "10 | model.convs.1             | BatchNorm2d           | 64    \n",
      "11 | model.convs.2             | ELU                   | 0     \n",
      "12 | model.convs.3             | Conv2d                | 9 K   \n",
      "13 | model.convs.4             | BatchNorm2d           | 64    \n",
      "14 | model.convs.5             | ELU                   | 0     \n",
      "15 | model.convs.6             | MaxPool2d             | 0     \n",
      "16 | model.convs.7             | Dropout               | 0     \n",
      "17 | model.convs.8             | Conv2d                | 18 K  \n",
      "18 | model.convs.9             | BatchNorm2d           | 128   \n",
      "19 | model.convs.10            | ELU                   | 0     \n",
      "20 | model.convs.11            | Conv2d                | 36 K  \n",
      "21 | model.convs.12            | BatchNorm2d           | 128   \n",
      "22 | model.convs.13            | ELU                   | 0     \n",
      "23 | model.convs.14            | MaxPool2d             | 0     \n",
      "24 | model.convs.15            | Dropout               | 0     \n",
      "25 | model.convs.16            | Conv2d                | 73 K  \n",
      "26 | model.convs.17            | BatchNorm2d           | 256   \n",
      "27 | model.convs.18            | ELU                   | 0     \n",
      "28 | model.convs.19            | MaxPool2d             | 0     \n",
      "29 | model.convs.20            | Dropout               | 0     \n",
      "30 | model.convs.21            | Conv2d                | 73 K  \n",
      "31 | model.convs.22            | BatchNorm2d           | 128   \n",
      "32 | model.convs.23            | ELU                   | 0     \n",
      "33 | model.convs.24            | MaxPool2d             | 0     \n",
      "34 | model.convs.25            | Dropout               | 0     \n",
      "35 | model.LSTMCell            | LSTMCell              | 126 K \n",
      "36 | model.dense               | Sequential            | 318   \n",
      "37 | model.dense.0             | Dropout               | 0     \n",
      "38 | model.dense.1             | BatchNorm1d           | 158   \n",
      "39 | model.dense.2             | Linear                | 160   \n"
     ]
    },
    {
     "data": {
      "application/vnd.jupyter.widget-view+json": {
       "model_id": "",
       "version_major": 2,
       "version_minor": 0
      },
      "text/plain": [
       "HBox(children=(FloatProgress(value=1.0, bar_style='info', description='Validation sanity check', layout=Layout…"
      ]
     },
     "metadata": {},
     "output_type": "display_data"
    },
    {
     "name": "stdout",
     "output_type": "stream",
     "text": [
      "Val-Acc=0.03793716656787196\n"
     ]
    },
    {
     "data": {
      "application/vnd.jupyter.widget-view+json": {
       "model_id": "2b7b753ca15f457cab0a3c476603c0d1",
       "version_major": 2,
       "version_minor": 0
      },
      "text/plain": [
       "HBox(children=(FloatProgress(value=1.0, bar_style='info', description='Training', layout=Layout(flex='2'), max…"
      ]
     },
     "metadata": {},
     "output_type": "display_data"
    },
    {
     "data": {
      "application/vnd.jupyter.widget-view+json": {
       "model_id": "",
       "version_major": 2,
       "version_minor": 0
      },
      "text/plain": [
       "HBox(children=(FloatProgress(value=1.0, bar_style='info', description='Validating', layout=Layout(flex='2'), m…"
      ]
     },
     "metadata": {},
     "output_type": "display_data"
    },
    {
     "name": "stdout",
     "output_type": "stream",
     "text": [
      "Val-Acc=0.7972732661529343\n",
      "Train-Acc=0.7430830039525692\n"
     ]
    },
    {
     "data": {
      "application/vnd.jupyter.widget-view+json": {
       "model_id": "",
       "version_major": 2,
       "version_minor": 0
      },
      "text/plain": [
       "HBox(children=(FloatProgress(value=1.0, bar_style='info', description='Validating', layout=Layout(flex='2'), m…"
      ]
     },
     "metadata": {},
     "output_type": "display_data"
    },
    {
     "name": "stdout",
     "output_type": "stream",
     "text": [
      "Val-Acc=0.8043864848844102\n"
     ]
    },
    {
     "name": "stderr",
     "output_type": "stream",
     "text": [
      "[I 2020-07-15 00:40:23,515] Setting status of trial#59 as TrialState.PRUNED. Trial was pruned at epoch 1.\n",
      "GPU available: True, used: True\n",
      "No environment variable for node rank defined. Set as 0.\n",
      "CUDA_VISIBLE_DEVICES: [0]\n",
      "Set SLURM handle signals.\n",
      "\n",
      "   | Name                      | Type                  | Params\n",
      "----------------------------------------------------------------\n",
      "0  | model                     | CRNN8k_D2             | 846 K \n",
      "1  | model.spec                | MelspectrogramStretch | 0     \n",
      "2  | model.spec.spectrogram    | Spectrogram           | 0     \n",
      "3  | model.spec.mel_scale      | MelScale              | 0     \n",
      "4  | model.spec.stft           | Spectrogram           | 0     \n",
      "5  | model.spec.random_stretch | RandomTimeStretch     | 0     \n",
      "6  | model.spec.complex_norm   | ComplexNorm           | 0     \n",
      "7  | model.spec.norm           | SpecNormalization     | 0     \n",
      "8  | model.convs               | Sequential            | 213 K \n",
      "9  | model.convs.0             | Conv2d                | 320   \n",
      "10 | model.convs.1             | BatchNorm2d           | 64    \n",
      "11 | model.convs.2             | ELU                   | 0     \n",
      "12 | model.convs.3             | Conv2d                | 9 K   \n",
      "13 | model.convs.4             | BatchNorm2d           | 64    \n",
      "14 | model.convs.5             | ELU                   | 0     \n",
      "15 | model.convs.6             | MaxPool2d             | 0     \n",
      "16 | model.convs.7             | Dropout               | 0     \n",
      "17 | model.convs.8             | Conv2d                | 18 K  \n",
      "18 | model.convs.9             | BatchNorm2d           | 128   \n",
      "19 | model.convs.10            | ELU                   | 0     \n",
      "20 | model.convs.11            | Conv2d                | 36 K  \n",
      "21 | model.convs.12            | BatchNorm2d           | 128   \n",
      "22 | model.convs.13            | ELU                   | 0     \n",
      "23 | model.convs.14            | MaxPool2d             | 0     \n",
      "24 | model.convs.15            | Dropout               | 0     \n",
      "25 | model.convs.16            | Conv2d                | 73 K  \n",
      "26 | model.convs.17            | BatchNorm2d           | 256   \n",
      "27 | model.convs.18            | ELU                   | 0     \n",
      "28 | model.convs.19            | MaxPool2d             | 0     \n",
      "29 | model.convs.20            | Dropout               | 0     \n",
      "30 | model.convs.21            | Conv2d                | 73 K  \n",
      "31 | model.convs.22            | BatchNorm2d           | 128   \n",
      "32 | model.convs.23            | ELU                   | 0     \n",
      "33 | model.convs.24            | MaxPool2d             | 0     \n",
      "34 | model.convs.25            | Dropout               | 0     \n",
      "35 | model.LSTMCell            | LSTMCell              | 632 K \n",
      "36 | model.dense               | Sequential            | 1 K   \n",
      "37 | model.dense.0             | Dropout               | 0     \n",
      "38 | model.dense.1             | BatchNorm1d           | 536   \n",
      "39 | model.dense.2             | Linear                | 538   \n"
     ]
    },
    {
     "data": {
      "application/vnd.jupyter.widget-view+json": {
       "model_id": "",
       "version_major": 2,
       "version_minor": 0
      },
      "text/plain": [
       "HBox(children=(FloatProgress(value=1.0, bar_style='info', description='Validation sanity check', layout=Layout…"
      ]
     },
     "metadata": {},
     "output_type": "display_data"
    },
    {
     "name": "stdout",
     "output_type": "stream",
     "text": [
      "Val-Acc=0.036751630112625965\n"
     ]
    },
    {
     "data": {
      "application/vnd.jupyter.widget-view+json": {
       "model_id": "07025015d0744c559a2e7e840b4cdc9a",
       "version_major": 2,
       "version_minor": 0
      },
      "text/plain": [
       "HBox(children=(FloatProgress(value=1.0, bar_style='info', description='Training', layout=Layout(flex='2'), max…"
      ]
     },
     "metadata": {},
     "output_type": "display_data"
    },
    {
     "data": {
      "application/vnd.jupyter.widget-view+json": {
       "model_id": "",
       "version_major": 2,
       "version_minor": 0
      },
      "text/plain": [
       "HBox(children=(FloatProgress(value=1.0, bar_style='info', description='Validating', layout=Layout(flex='2'), m…"
      ]
     },
     "metadata": {},
     "output_type": "display_data"
    },
    {
     "name": "stdout",
     "output_type": "stream",
     "text": [
      "Val-Acc=0.8257261410788381\n",
      "Train-Acc=0.7841897233201581\n"
     ]
    },
    {
     "data": {
      "application/vnd.jupyter.widget-view+json": {
       "model_id": "",
       "version_major": 2,
       "version_minor": 0
      },
      "text/plain": [
       "HBox(children=(FloatProgress(value=1.0, bar_style='info', description='Validating', layout=Layout(flex='2'), m…"
      ]
     },
     "metadata": {},
     "output_type": "display_data"
    },
    {
     "name": "stdout",
     "output_type": "stream",
     "text": [
      "Val-Acc=0.8192056905749852\n"
     ]
    },
    {
     "name": "stderr",
     "output_type": "stream",
     "text": [
      "[I 2020-07-15 00:40:39,699] Setting status of trial#60 as TrialState.PRUNED. Trial was pruned at epoch 1.\n",
      "GPU available: True, used: True\n",
      "No environment variable for node rank defined. Set as 0.\n",
      "CUDA_VISIBLE_DEVICES: [0]\n",
      "Set SLURM handle signals.\n",
      "\n",
      "   | Name                      | Type                  | Params\n",
      "----------------------------------------------------------------\n",
      "0  | model                     | CRNN8k_D2             | 655 K \n",
      "1  | model.spec                | MelspectrogramStretch | 0     \n",
      "2  | model.spec.spectrogram    | Spectrogram           | 0     \n",
      "3  | model.spec.mel_scale      | MelScale              | 0     \n",
      "4  | model.spec.stft           | Spectrogram           | 0     \n",
      "5  | model.spec.random_stretch | RandomTimeStretch     | 0     \n",
      "6  | model.spec.complex_norm   | ComplexNorm           | 0     \n",
      "7  | model.spec.norm           | SpecNormalization     | 0     \n",
      "8  | model.convs               | Sequential            | 213 K \n",
      "9  | model.convs.0             | Conv2d                | 320   \n",
      "10 | model.convs.1             | BatchNorm2d           | 64    \n",
      "11 | model.convs.2             | ELU                   | 0     \n",
      "12 | model.convs.3             | Conv2d                | 9 K   \n",
      "13 | model.convs.4             | BatchNorm2d           | 64    \n",
      "14 | model.convs.5             | ELU                   | 0     \n",
      "15 | model.convs.6             | MaxPool2d             | 0     \n",
      "16 | model.convs.7             | Dropout               | 0     \n",
      "17 | model.convs.8             | Conv2d                | 18 K  \n",
      "18 | model.convs.9             | BatchNorm2d           | 128   \n",
      "19 | model.convs.10            | ELU                   | 0     \n",
      "20 | model.convs.11            | Conv2d                | 36 K  \n",
      "21 | model.convs.12            | BatchNorm2d           | 128   \n",
      "22 | model.convs.13            | ELU                   | 0     \n",
      "23 | model.convs.14            | MaxPool2d             | 0     \n",
      "24 | model.convs.15            | Dropout               | 0     \n",
      "25 | model.convs.16            | Conv2d                | 73 K  \n",
      "26 | model.convs.17            | BatchNorm2d           | 256   \n",
      "27 | model.convs.18            | ELU                   | 0     \n",
      "28 | model.convs.19            | MaxPool2d             | 0     \n",
      "29 | model.convs.20            | Dropout               | 0     \n",
      "30 | model.convs.21            | Conv2d                | 73 K  \n",
      "31 | model.convs.22            | BatchNorm2d           | 128   \n",
      "32 | model.convs.23            | ELU                   | 0     \n",
      "33 | model.convs.24            | MaxPool2d             | 0     \n",
      "34 | model.convs.25            | Dropout               | 0     \n",
      "35 | model.LSTMCell            | LSTMCell              | 440 K \n",
      "36 | model.dense               | Sequential            | 834   \n",
      "37 | model.dense.0             | Dropout               | 0     \n",
      "38 | model.dense.1             | BatchNorm1d           | 416   \n",
      "39 | model.dense.2             | Linear                | 418   \n"
     ]
    },
    {
     "data": {
      "application/vnd.jupyter.widget-view+json": {
       "model_id": "",
       "version_major": 2,
       "version_minor": 0
      },
      "text/plain": [
       "HBox(children=(FloatProgress(value=1.0, bar_style='info', description='Validation sanity check', layout=Layout…"
      ]
     },
     "metadata": {},
     "output_type": "display_data"
    },
    {
     "name": "stdout",
     "output_type": "stream",
     "text": [
      "Val-Acc=0.03793716656787196\n"
     ]
    },
    {
     "data": {
      "application/vnd.jupyter.widget-view+json": {
       "model_id": "8f08b9da1e8840478f5b610d62f49a18",
       "version_major": 2,
       "version_minor": 0
      },
      "text/plain": [
       "HBox(children=(FloatProgress(value=1.0, bar_style='info', description='Training', layout=Layout(flex='2'), max…"
      ]
     },
     "metadata": {},
     "output_type": "display_data"
    },
    {
     "data": {
      "application/vnd.jupyter.widget-view+json": {
       "model_id": "",
       "version_major": 2,
       "version_minor": 0
      },
      "text/plain": [
       "HBox(children=(FloatProgress(value=1.0, bar_style='info', description='Validating', layout=Layout(flex='2'), m…"
      ]
     },
     "metadata": {},
     "output_type": "display_data"
    },
    {
     "name": "stdout",
     "output_type": "stream",
     "text": [
      "Val-Acc=0.7545939537640782\n",
      "Train-Acc=0.76699604743083\n"
     ]
    },
    {
     "data": {
      "application/vnd.jupyter.widget-view+json": {
       "model_id": "",
       "version_major": 2,
       "version_minor": 0
      },
      "text/plain": [
       "HBox(children=(FloatProgress(value=1.0, bar_style='info', description='Validating', layout=Layout(flex='2'), m…"
      ]
     },
     "metadata": {},
     "output_type": "display_data"
    },
    {
     "name": "stdout",
     "output_type": "stream",
     "text": [
      "Val-Acc=0.7658565500889153\n"
     ]
    },
    {
     "name": "stderr",
     "output_type": "stream",
     "text": [
      "[I 2020-07-15 00:40:56,163] Setting status of trial#61 as TrialState.PRUNED. Trial was pruned at epoch 1.\n",
      "GPU available: True, used: True\n",
      "No environment variable for node rank defined. Set as 0.\n",
      "CUDA_VISIBLE_DEVICES: [0]\n",
      "Set SLURM handle signals.\n",
      "\n",
      "   | Name                      | Type                  | Params\n",
      "----------------------------------------------------------------\n",
      "0  | model                     | CRNN8k_D2             | 5 M   \n",
      "1  | model.spec                | MelspectrogramStretch | 0     \n",
      "2  | model.spec.spectrogram    | Spectrogram           | 0     \n",
      "3  | model.spec.mel_scale      | MelScale              | 0     \n",
      "4  | model.spec.stft           | Spectrogram           | 0     \n",
      "5  | model.spec.random_stretch | RandomTimeStretch     | 0     \n",
      "6  | model.spec.complex_norm   | ComplexNorm           | 0     \n",
      "7  | model.spec.norm           | SpecNormalization     | 0     \n",
      "8  | model.convs               | Sequential            | 213 K \n",
      "9  | model.convs.0             | Conv2d                | 320   \n",
      "10 | model.convs.1             | BatchNorm2d           | 64    \n",
      "11 | model.convs.2             | ELU                   | 0     \n",
      "12 | model.convs.3             | Conv2d                | 9 K   \n",
      "13 | model.convs.4             | BatchNorm2d           | 64    \n",
      "14 | model.convs.5             | ELU                   | 0     \n",
      "15 | model.convs.6             | MaxPool2d             | 0     \n",
      "16 | model.convs.7             | Dropout               | 0     \n",
      "17 | model.convs.8             | Conv2d                | 18 K  \n",
      "18 | model.convs.9             | BatchNorm2d           | 128   \n",
      "19 | model.convs.10            | ELU                   | 0     \n",
      "20 | model.convs.11            | Conv2d                | 36 K  \n",
      "21 | model.convs.12            | BatchNorm2d           | 128   \n",
      "22 | model.convs.13            | ELU                   | 0     \n",
      "23 | model.convs.14            | MaxPool2d             | 0     \n",
      "24 | model.convs.15            | Dropout               | 0     \n",
      "25 | model.convs.16            | Conv2d                | 73 K  \n",
      "26 | model.convs.17            | BatchNorm2d           | 256   \n",
      "27 | model.convs.18            | ELU                   | 0     \n",
      "28 | model.convs.19            | MaxPool2d             | 0     \n",
      "29 | model.convs.20            | Dropout               | 0     \n",
      "30 | model.convs.21            | Conv2d                | 73 K  \n",
      "31 | model.convs.22            | BatchNorm2d           | 128   \n",
      "32 | model.convs.23            | ELU                   | 0     \n",
      "33 | model.convs.24            | MaxPool2d             | 0     \n",
      "34 | model.convs.25            | Dropout               | 0     \n",
      "35 | model.LSTMCell            | LSTMCell              | 4 M   \n",
      "36 | model.dense               | Sequential            | 3 K   \n",
      "37 | model.dense.0             | Dropout               | 0     \n",
      "38 | model.dense.1             | BatchNorm1d           | 1 K   \n",
      "39 | model.dense.2             | Linear                | 1 K   \n"
     ]
    },
    {
     "data": {
      "application/vnd.jupyter.widget-view+json": {
       "model_id": "",
       "version_major": 2,
       "version_minor": 0
      },
      "text/plain": [
       "HBox(children=(FloatProgress(value=1.0, bar_style='info', description='Validation sanity check', layout=Layout…"
      ]
     },
     "metadata": {},
     "output_type": "display_data"
    },
    {
     "name": "stdout",
     "output_type": "stream",
     "text": [
      "Val-Acc=0.03793716656787196\n"
     ]
    },
    {
     "data": {
      "application/vnd.jupyter.widget-view+json": {
       "model_id": "f2de41f0081c4bf79e76d871878ef32b",
       "version_major": 2,
       "version_minor": 0
      },
      "text/plain": [
       "HBox(children=(FloatProgress(value=1.0, bar_style='info', description='Training', layout=Layout(flex='2'), max…"
      ]
     },
     "metadata": {},
     "output_type": "display_data"
    },
    {
     "data": {
      "application/vnd.jupyter.widget-view+json": {
       "model_id": "",
       "version_major": 2,
       "version_minor": 0
      },
      "text/plain": [
       "HBox(children=(FloatProgress(value=1.0, bar_style='info', description='Validating', layout=Layout(flex='2'), m…"
      ]
     },
     "metadata": {},
     "output_type": "display_data"
    },
    {
     "name": "stdout",
     "output_type": "stream",
     "text": [
      "Val-Acc=0.8221695317131001\n",
      "Train-Acc=0.758498023715415\n"
     ]
    },
    {
     "data": {
      "application/vnd.jupyter.widget-view+json": {
       "model_id": "",
       "version_major": 2,
       "version_minor": 0
      },
      "text/plain": [
       "HBox(children=(FloatProgress(value=1.0, bar_style='info', description='Validating', layout=Layout(flex='2'), m…"
      ]
     },
     "metadata": {},
     "output_type": "display_data"
    },
    {
     "name": "stdout",
     "output_type": "stream",
     "text": [
      "Val-Acc=0.8292827504445762\n",
      "Train-Acc=0.8203557312252965\n"
     ]
    },
    {
     "data": {
      "application/vnd.jupyter.widget-view+json": {
       "model_id": "",
       "version_major": 2,
       "version_minor": 0
      },
      "text/plain": [
       "HBox(children=(FloatProgress(value=1.0, bar_style='info', description='Validating', layout=Layout(flex='2'), m…"
      ]
     },
     "metadata": {},
     "output_type": "display_data"
    },
    {
     "name": "stdout",
     "output_type": "stream",
     "text": [
      "Val-Acc=0.7291049199762892\n"
     ]
    },
    {
     "name": "stderr",
     "output_type": "stream",
     "text": [
      "[I 2020-07-15 00:41:21,047] Setting status of trial#62 as TrialState.PRUNED. Trial was pruned at epoch 2.\n",
      "GPU available: True, used: True\n",
      "No environment variable for node rank defined. Set as 0.\n",
      "CUDA_VISIBLE_DEVICES: [0]\n",
      "Set SLURM handle signals.\n",
      "\n",
      "   | Name                      | Type                  | Params\n",
      "----------------------------------------------------------------\n",
      "0  | model                     | CRNN8k_D2             | 366 K \n",
      "1  | model.spec                | MelspectrogramStretch | 0     \n",
      "2  | model.spec.spectrogram    | Spectrogram           | 0     \n",
      "3  | model.spec.mel_scale      | MelScale              | 0     \n",
      "4  | model.spec.stft           | Spectrogram           | 0     \n",
      "5  | model.spec.random_stretch | RandomTimeStretch     | 0     \n",
      "6  | model.spec.complex_norm   | ComplexNorm           | 0     \n",
      "7  | model.spec.norm           | SpecNormalization     | 0     \n",
      "8  | model.convs               | Sequential            | 213 K \n",
      "9  | model.convs.0             | Conv2d                | 320   \n",
      "10 | model.convs.1             | BatchNorm2d           | 64    \n",
      "11 | model.convs.2             | ELU                   | 0     \n",
      "12 | model.convs.3             | Conv2d                | 9 K   \n",
      "13 | model.convs.4             | BatchNorm2d           | 64    \n",
      "14 | model.convs.5             | ELU                   | 0     \n",
      "15 | model.convs.6             | MaxPool2d             | 0     \n",
      "16 | model.convs.7             | Dropout               | 0     \n",
      "17 | model.convs.8             | Conv2d                | 18 K  \n",
      "18 | model.convs.9             | BatchNorm2d           | 128   \n",
      "19 | model.convs.10            | ELU                   | 0     \n",
      "20 | model.convs.11            | Conv2d                | 36 K  \n",
      "21 | model.convs.12            | BatchNorm2d           | 128   \n",
      "22 | model.convs.13            | ELU                   | 0     \n",
      "23 | model.convs.14            | MaxPool2d             | 0     \n",
      "24 | model.convs.15            | Dropout               | 0     \n",
      "25 | model.convs.16            | Conv2d                | 73 K  \n",
      "26 | model.convs.17            | BatchNorm2d           | 256   \n",
      "27 | model.convs.18            | ELU                   | 0     \n",
      "28 | model.convs.19            | MaxPool2d             | 0     \n",
      "29 | model.convs.20            | Dropout               | 0     \n",
      "30 | model.convs.21            | Conv2d                | 73 K  \n",
      "31 | model.convs.22            | BatchNorm2d           | 128   \n",
      "32 | model.convs.23            | ELU                   | 0     \n",
      "33 | model.convs.24            | MaxPool2d             | 0     \n",
      "34 | model.convs.25            | Dropout               | 0     \n",
      "35 | model.LSTMCell            | LSTMCell              | 152 K \n",
      "36 | model.dense               | Sequential            | 370   \n",
      "37 | model.dense.0             | Dropout               | 0     \n",
      "38 | model.dense.1             | BatchNorm1d           | 184   \n",
      "39 | model.dense.2             | Linear                | 186   \n"
     ]
    },
    {
     "data": {
      "application/vnd.jupyter.widget-view+json": {
       "model_id": "",
       "version_major": 2,
       "version_minor": 0
      },
      "text/plain": [
       "HBox(children=(FloatProgress(value=1.0, bar_style='info', description='Validation sanity check', layout=Layout…"
      ]
     },
     "metadata": {},
     "output_type": "display_data"
    },
    {
     "name": "stdout",
     "output_type": "stream",
     "text": [
      "Val-Acc=0.03793716656787196\n"
     ]
    },
    {
     "data": {
      "application/vnd.jupyter.widget-view+json": {
       "model_id": "f50d6b22dbe7406eaccc8f7428a019ac",
       "version_major": 2,
       "version_minor": 0
      },
      "text/plain": [
       "HBox(children=(FloatProgress(value=1.0, bar_style='info', description='Training', layout=Layout(flex='2'), max…"
      ]
     },
     "metadata": {},
     "output_type": "display_data"
    },
    {
     "data": {
      "application/vnd.jupyter.widget-view+json": {
       "model_id": "",
       "version_major": 2,
       "version_minor": 0
      },
      "text/plain": [
       "HBox(children=(FloatProgress(value=1.0, bar_style='info', description='Validating', layout=Layout(flex='2'), m…"
      ]
     },
     "metadata": {},
     "output_type": "display_data"
    },
    {
     "name": "stdout",
     "output_type": "stream",
     "text": [
      "Val-Acc=0.8292827504445762\n",
      "Train-Acc=0.7980237154150197\n"
     ]
    },
    {
     "data": {
      "application/vnd.jupyter.widget-view+json": {
       "model_id": "",
       "version_major": 2,
       "version_minor": 0
      },
      "text/plain": [
       "HBox(children=(FloatProgress(value=1.0, bar_style='info', description='Validating', layout=Layout(flex='2'), m…"
      ]
     },
     "metadata": {},
     "output_type": "display_data"
    },
    {
     "name": "stdout",
     "output_type": "stream",
     "text": [
      "Val-Acc=0.8541790160047421\n",
      "Train-Acc=0.8320158102766798\n"
     ]
    },
    {
     "data": {
      "application/vnd.jupyter.widget-view+json": {
       "model_id": "",
       "version_major": 2,
       "version_minor": 0
      },
      "text/plain": [
       "HBox(children=(FloatProgress(value=1.0, bar_style='info', description='Validating', layout=Layout(flex='2'), m…"
      ]
     },
     "metadata": {},
     "output_type": "display_data"
    },
    {
     "name": "stdout",
     "output_type": "stream",
     "text": [
      "Val-Acc=0.8654416123295792\n",
      "Train-Acc=0.8476284584980237\n"
     ]
    },
    {
     "data": {
      "application/vnd.jupyter.widget-view+json": {
       "model_id": "",
       "version_major": 2,
       "version_minor": 0
      },
      "text/plain": [
       "HBox(children=(FloatProgress(value=1.0, bar_style='info', description='Validating', layout=Layout(flex='2'), m…"
      ]
     },
     "metadata": {},
     "output_type": "display_data"
    },
    {
     "name": "stdout",
     "output_type": "stream",
     "text": [
      "Val-Acc=0.8452874925903971\n",
      "Train-Acc=0.8646245059288538\n"
     ]
    },
    {
     "data": {
      "application/vnd.jupyter.widget-view+json": {
       "model_id": "",
       "version_major": 2,
       "version_minor": 0
      },
      "text/plain": [
       "HBox(children=(FloatProgress(value=1.0, bar_style='info', description='Validating', layout=Layout(flex='2'), m…"
      ]
     },
     "metadata": {},
     "output_type": "display_data"
    },
    {
     "name": "stdout",
     "output_type": "stream",
     "text": [
      "Val-Acc=0.8713692946058091\n",
      "Train-Acc=0.8616600790513834\n"
     ]
    },
    {
     "data": {
      "application/vnd.jupyter.widget-view+json": {
       "model_id": "",
       "version_major": 2,
       "version_minor": 0
      },
      "text/plain": [
       "HBox(children=(FloatProgress(value=1.0, bar_style='info', description='Validating', layout=Layout(flex='2'), m…"
      ]
     },
     "metadata": {},
     "output_type": "display_data"
    },
    {
     "name": "stdout",
     "output_type": "stream",
     "text": [
      "Val-Acc=0.8666271487848252\n",
      "Train-Acc=0.8721343873517786\n"
     ]
    },
    {
     "data": {
      "application/vnd.jupyter.widget-view+json": {
       "model_id": "",
       "version_major": 2,
       "version_minor": 0
      },
      "text/plain": [
       "HBox(children=(FloatProgress(value=1.0, bar_style='info', description='Validating', layout=Layout(flex='2'), m…"
      ]
     },
     "metadata": {},
     "output_type": "display_data"
    },
    {
     "name": "stdout",
     "output_type": "stream",
     "text": [
      "Val-Acc=0.8743331357439241\n",
      "Train-Acc=0.8796442687747036\n"
     ]
    },
    {
     "data": {
      "application/vnd.jupyter.widget-view+json": {
       "model_id": "",
       "version_major": 2,
       "version_minor": 0
      },
      "text/plain": [
       "HBox(children=(FloatProgress(value=1.0, bar_style='info', description='Validating', layout=Layout(flex='2'), m…"
      ]
     },
     "metadata": {},
     "output_type": "display_data"
    },
    {
     "name": "stdout",
     "output_type": "stream",
     "text": [
      "Val-Acc=0.8855957320687611\n",
      "Train-Acc=0.8812252964426878\n"
     ]
    },
    {
     "data": {
      "application/vnd.jupyter.widget-view+json": {
       "model_id": "",
       "version_major": 2,
       "version_minor": 0
      },
      "text/plain": [
       "HBox(children=(FloatProgress(value=1.0, bar_style='info', description='Validating', layout=Layout(flex='2'), m…"
      ]
     },
     "metadata": {},
     "output_type": "display_data"
    },
    {
     "name": "stdout",
     "output_type": "stream",
     "text": [
      "Val-Acc=0.8814463544754001\n",
      "Train-Acc=0.8853754940711462\n"
     ]
    },
    {
     "data": {
      "application/vnd.jupyter.widget-view+json": {
       "model_id": "",
       "version_major": 2,
       "version_minor": 0
      },
      "text/plain": [
       "HBox(children=(FloatProgress(value=1.0, bar_style='info', description='Validating', layout=Layout(flex='2'), m…"
      ]
     },
     "metadata": {},
     "output_type": "display_data"
    },
    {
     "name": "stdout",
     "output_type": "stream",
     "text": [
      "Val-Acc=0.8867812685240071\n",
      "Train-Acc=0.8867588932806324\n"
     ]
    },
    {
     "data": {
      "application/vnd.jupyter.widget-view+json": {
       "model_id": "",
       "version_major": 2,
       "version_minor": 0
      },
      "text/plain": [
       "HBox(children=(FloatProgress(value=1.0, bar_style='info', description='Validating', layout=Layout(flex='2'), m…"
      ]
     },
     "metadata": {},
     "output_type": "display_data"
    },
    {
     "name": "stdout",
     "output_type": "stream",
     "text": [
      "Val-Acc=0.890337877889745\n",
      "Train-Acc=0.8934782608695652\n"
     ]
    },
    {
     "data": {
      "application/vnd.jupyter.widget-view+json": {
       "model_id": "",
       "version_major": 2,
       "version_minor": 0
      },
      "text/plain": [
       "HBox(children=(FloatProgress(value=1.0, bar_style='info', description='Validating', layout=Layout(flex='2'), m…"
      ]
     },
     "metadata": {},
     "output_type": "display_data"
    },
    {
     "name": "stdout",
     "output_type": "stream",
     "text": [
      "Val-Acc=0.8867812685240071\n",
      "Train-Acc=0.8958498023715415\n"
     ]
    },
    {
     "data": {
      "application/vnd.jupyter.widget-view+json": {
       "model_id": "",
       "version_major": 2,
       "version_minor": 0
      },
      "text/plain": [
       "HBox(children=(FloatProgress(value=1.0, bar_style='info', description='Validating', layout=Layout(flex='2'), m…"
      ]
     },
     "metadata": {},
     "output_type": "display_data"
    },
    {
     "name": "stdout",
     "output_type": "stream",
     "text": [
      "Val-Acc=0.8814463544754001\n",
      "Train-Acc=0.8952569169960475\n"
     ]
    },
    {
     "data": {
      "application/vnd.jupyter.widget-view+json": {
       "model_id": "",
       "version_major": 2,
       "version_minor": 0
      },
      "text/plain": [
       "HBox(children=(FloatProgress(value=1.0, bar_style='info', description='Validating', layout=Layout(flex='2'), m…"
      ]
     },
     "metadata": {},
     "output_type": "display_data"
    },
    {
     "name": "stdout",
     "output_type": "stream",
     "text": [
      "Val-Acc=0.8933017190278602\n",
      "Train-Acc=0.9057312252964427\n"
     ]
    },
    {
     "data": {
      "application/vnd.jupyter.widget-view+json": {
       "model_id": "",
       "version_major": 2,
       "version_minor": 0
      },
      "text/plain": [
       "HBox(children=(FloatProgress(value=1.0, bar_style='info', description='Validating', layout=Layout(flex='2'), m…"
      ]
     },
     "metadata": {},
     "output_type": "display_data"
    },
    {
     "name": "stdout",
     "output_type": "stream",
     "text": [
      "Val-Acc=0.8772969768820391\n",
      "Train-Acc=0.9021739130434783\n",
      "\n",
      "Saved model to \"saved_modelsq/63.p\"\n"
     ]
    },
    {
     "name": "stderr",
     "output_type": "stream",
     "text": [
      "[I 2020-07-15 00:43:18,666] Finished trial#63 with value: 0.8772969768820391 with parameters: {'learning_rate': 0.0006785943010783334, 'p_drop': 0.1589946969971555, 'lr_decay': 0.8964594154599395, 'n_hidden': 92, 'weight_decay': 0.0036597693465988575}. Best is trial#44 with value: 0.8944872554831061.\n",
      "GPU available: True, used: True\n",
      "No environment variable for node rank defined. Set as 0.\n",
      "CUDA_VISIBLE_DEVICES: [0]\n",
      "Set SLURM handle signals.\n",
      "\n",
      "   | Name                      | Type                  | Params\n",
      "----------------------------------------------------------------\n",
      "0  | model                     | CRNN8k_D2             | 5 M   \n",
      "1  | model.spec                | MelspectrogramStretch | 0     \n",
      "2  | model.spec.spectrogram    | Spectrogram           | 0     \n",
      "3  | model.spec.mel_scale      | MelScale              | 0     \n",
      "4  | model.spec.stft           | Spectrogram           | 0     \n",
      "5  | model.spec.random_stretch | RandomTimeStretch     | 0     \n",
      "6  | model.spec.complex_norm   | ComplexNorm           | 0     \n",
      "7  | model.spec.norm           | SpecNormalization     | 0     \n",
      "8  | model.convs               | Sequential            | 213 K \n",
      "9  | model.convs.0             | Conv2d                | 320   \n",
      "10 | model.convs.1             | BatchNorm2d           | 64    \n",
      "11 | model.convs.2             | ELU                   | 0     \n",
      "12 | model.convs.3             | Conv2d                | 9 K   \n",
      "13 | model.convs.4             | BatchNorm2d           | 64    \n",
      "14 | model.convs.5             | ELU                   | 0     \n",
      "15 | model.convs.6             | MaxPool2d             | 0     \n",
      "16 | model.convs.7             | Dropout               | 0     \n",
      "17 | model.convs.8             | Conv2d                | 18 K  \n",
      "18 | model.convs.9             | BatchNorm2d           | 128   \n",
      "19 | model.convs.10            | ELU                   | 0     \n",
      "20 | model.convs.11            | Conv2d                | 36 K  \n",
      "21 | model.convs.12            | BatchNorm2d           | 128   \n",
      "22 | model.convs.13            | ELU                   | 0     \n",
      "23 | model.convs.14            | MaxPool2d             | 0     \n",
      "24 | model.convs.15            | Dropout               | 0     \n",
      "25 | model.convs.16            | Conv2d                | 73 K  \n",
      "26 | model.convs.17            | BatchNorm2d           | 256   \n",
      "27 | model.convs.18            | ELU                   | 0     \n",
      "28 | model.convs.19            | MaxPool2d             | 0     \n",
      "29 | model.convs.20            | Dropout               | 0     \n",
      "30 | model.convs.21            | Conv2d                | 73 K  \n",
      "31 | model.convs.22            | BatchNorm2d           | 128   \n",
      "32 | model.convs.23            | ELU                   | 0     \n",
      "33 | model.convs.24            | MaxPool2d             | 0     \n",
      "34 | model.convs.25            | Dropout               | 0     \n",
      "35 | model.LSTMCell            | LSTMCell              | 4 M   \n",
      "36 | model.dense               | Sequential            | 3 K   \n",
      "37 | model.dense.0             | Dropout               | 0     \n",
      "38 | model.dense.1             | BatchNorm1d           | 1 K   \n",
      "39 | model.dense.2             | Linear                | 1 K   \n"
     ]
    },
    {
     "data": {
      "application/vnd.jupyter.widget-view+json": {
       "model_id": "",
       "version_major": 2,
       "version_minor": 0
      },
      "text/plain": [
       "HBox(children=(FloatProgress(value=1.0, bar_style='info', description='Validation sanity check', layout=Layout…"
      ]
     },
     "metadata": {},
     "output_type": "display_data"
    },
    {
     "name": "stdout",
     "output_type": "stream",
     "text": [
      "Val-Acc=0.03793716656787196\n"
     ]
    },
    {
     "data": {
      "application/vnd.jupyter.widget-view+json": {
       "model_id": "e5e36930d0f844c28b3a971fdb86449a",
       "version_major": 2,
       "version_minor": 0
      },
      "text/plain": [
       "HBox(children=(FloatProgress(value=1.0, bar_style='info', description='Training', layout=Layout(flex='2'), max…"
      ]
     },
     "metadata": {},
     "output_type": "display_data"
    },
    {
     "data": {
      "application/vnd.jupyter.widget-view+json": {
       "model_id": "",
       "version_major": 2,
       "version_minor": 0
      },
      "text/plain": [
       "HBox(children=(FloatProgress(value=1.0, bar_style='info', description='Validating', layout=Layout(flex='2'), m…"
      ]
     },
     "metadata": {},
     "output_type": "display_data"
    },
    {
     "name": "stdout",
     "output_type": "stream",
     "text": [
      "Val-Acc=0.8221695317131001\n",
      "Train-Acc=0.7812252964426878\n"
     ]
    },
    {
     "data": {
      "application/vnd.jupyter.widget-view+json": {
       "model_id": "",
       "version_major": 2,
       "version_minor": 0
      },
      "text/plain": [
       "HBox(children=(FloatProgress(value=1.0, bar_style='info', description='Validating', layout=Layout(flex='2'), m…"
      ]
     },
     "metadata": {},
     "output_type": "display_data"
    },
    {
     "name": "stdout",
     "output_type": "stream",
     "text": [
      "Val-Acc=0.8482513337285121\n",
      "Train-Acc=0.8203557312252965\n"
     ]
    },
    {
     "data": {
      "application/vnd.jupyter.widget-view+json": {
       "model_id": "",
       "version_major": 2,
       "version_minor": 0
      },
      "text/plain": [
       "HBox(children=(FloatProgress(value=1.0, bar_style='info', description='Validating', layout=Layout(flex='2'), m…"
      ]
     },
     "metadata": {},
     "output_type": "display_data"
    },
    {
     "name": "stdout",
     "output_type": "stream",
     "text": [
      "Val-Acc=0.8506224066390041\n",
      "Train-Acc=0.8353754940711462\n"
     ]
    },
    {
     "data": {
      "application/vnd.jupyter.widget-view+json": {
       "model_id": "",
       "version_major": 2,
       "version_minor": 0
      },
      "text/plain": [
       "HBox(children=(FloatProgress(value=1.0, bar_style='info', description='Validating', layout=Layout(flex='2'), m…"
      ]
     },
     "metadata": {},
     "output_type": "display_data"
    },
    {
     "name": "stdout",
     "output_type": "stream",
     "text": [
      "Val-Acc=0.8441019561351512\n"
     ]
    },
    {
     "name": "stderr",
     "output_type": "stream",
     "text": [
      "[I 2020-07-15 00:43:52,260] Setting status of trial#64 as TrialState.PRUNED. Trial was pruned at epoch 3.\n",
      "GPU available: True, used: True\n",
      "No environment variable for node rank defined. Set as 0.\n",
      "CUDA_VISIBLE_DEVICES: [0]\n",
      "Set SLURM handle signals.\n",
      "\n",
      "   | Name                      | Type                  | Params\n",
      "----------------------------------------------------------------\n",
      "0  | model                     | CRNN8k_D2             | 4 M   \n",
      "1  | model.spec                | MelspectrogramStretch | 0     \n",
      "2  | model.spec.spectrogram    | Spectrogram           | 0     \n",
      "3  | model.spec.mel_scale      | MelScale              | 0     \n",
      "4  | model.spec.stft           | Spectrogram           | 0     \n",
      "5  | model.spec.random_stretch | RandomTimeStretch     | 0     \n",
      "6  | model.spec.complex_norm   | ComplexNorm           | 0     \n",
      "7  | model.spec.norm           | SpecNormalization     | 0     \n",
      "8  | model.convs               | Sequential            | 213 K \n",
      "9  | model.convs.0             | Conv2d                | 320   \n",
      "10 | model.convs.1             | BatchNorm2d           | 64    \n",
      "11 | model.convs.2             | ELU                   | 0     \n",
      "12 | model.convs.3             | Conv2d                | 9 K   \n",
      "13 | model.convs.4             | BatchNorm2d           | 64    \n",
      "14 | model.convs.5             | ELU                   | 0     \n",
      "15 | model.convs.6             | MaxPool2d             | 0     \n",
      "16 | model.convs.7             | Dropout               | 0     \n",
      "17 | model.convs.8             | Conv2d                | 18 K  \n",
      "18 | model.convs.9             | BatchNorm2d           | 128   \n",
      "19 | model.convs.10            | ELU                   | 0     \n",
      "20 | model.convs.11            | Conv2d                | 36 K  \n",
      "21 | model.convs.12            | BatchNorm2d           | 128   \n",
      "22 | model.convs.13            | ELU                   | 0     \n",
      "23 | model.convs.14            | MaxPool2d             | 0     \n",
      "24 | model.convs.15            | Dropout               | 0     \n",
      "25 | model.convs.16            | Conv2d                | 73 K  \n",
      "26 | model.convs.17            | BatchNorm2d           | 256   \n",
      "27 | model.convs.18            | ELU                   | 0     \n",
      "28 | model.convs.19            | MaxPool2d             | 0     \n",
      "29 | model.convs.20            | Dropout               | 0     \n",
      "30 | model.convs.21            | Conv2d                | 73 K  \n",
      "31 | model.convs.22            | BatchNorm2d           | 128   \n",
      "32 | model.convs.23            | ELU                   | 0     \n",
      "33 | model.convs.24            | MaxPool2d             | 0     \n",
      "34 | model.convs.25            | Dropout               | 0     \n",
      "35 | model.LSTMCell            | LSTMCell              | 4 M   \n",
      "36 | model.dense               | Sequential            | 3 K   \n",
      "37 | model.dense.0             | Dropout               | 0     \n",
      "38 | model.dense.1             | BatchNorm1d           | 1 K   \n",
      "39 | model.dense.2             | Linear                | 1 K   \n"
     ]
    },
    {
     "data": {
      "application/vnd.jupyter.widget-view+json": {
       "model_id": "",
       "version_major": 2,
       "version_minor": 0
      },
      "text/plain": [
       "HBox(children=(FloatProgress(value=1.0, bar_style='info', description='Validation sanity check', layout=Layout…"
      ]
     },
     "metadata": {},
     "output_type": "display_data"
    },
    {
     "name": "stdout",
     "output_type": "stream",
     "text": [
      "Val-Acc=0.03793716656787196\n"
     ]
    },
    {
     "data": {
      "application/vnd.jupyter.widget-view+json": {
       "model_id": "c3201d49fa2445daa727f68391f16a1d",
       "version_major": 2,
       "version_minor": 0
      },
      "text/plain": [
       "HBox(children=(FloatProgress(value=1.0, bar_style='info', description='Training', layout=Layout(flex='2'), max…"
      ]
     },
     "metadata": {},
     "output_type": "display_data"
    },
    {
     "data": {
      "application/vnd.jupyter.widget-view+json": {
       "model_id": "",
       "version_major": 2,
       "version_minor": 0
      },
      "text/plain": [
       "HBox(children=(FloatProgress(value=1.0, bar_style='info', description='Validating', layout=Layout(flex='2'), m…"
      ]
     },
     "metadata": {},
     "output_type": "display_data"
    },
    {
     "name": "stdout",
     "output_type": "stream",
     "text": [
      "Val-Acc=0.8079430942501482\n",
      "Train-Acc=0.7926877470355731\n"
     ]
    },
    {
     "data": {
      "application/vnd.jupyter.widget-view+json": {
       "model_id": "",
       "version_major": 2,
       "version_minor": 0
      },
      "text/plain": [
       "HBox(children=(FloatProgress(value=1.0, bar_style='info', description='Validating', layout=Layout(flex='2'), m…"
      ]
     },
     "metadata": {},
     "output_type": "display_data"
    },
    {
     "name": "stdout",
     "output_type": "stream",
     "text": [
      "Val-Acc=0.8257261410788381\n"
     ]
    },
    {
     "name": "stderr",
     "output_type": "stream",
     "text": [
      "[I 2020-07-15 00:44:09,154] Setting status of trial#65 as TrialState.PRUNED. Trial was pruned at epoch 1.\n",
      "GPU available: True, used: True\n",
      "No environment variable for node rank defined. Set as 0.\n",
      "CUDA_VISIBLE_DEVICES: [0]\n",
      "Set SLURM handle signals.\n",
      "\n",
      "   | Name                      | Type                  | Params\n",
      "----------------------------------------------------------------\n",
      "0  | model                     | CRNN8k_D2             | 226 K \n",
      "1  | model.spec                | MelspectrogramStretch | 0     \n",
      "2  | model.spec.spectrogram    | Spectrogram           | 0     \n",
      "3  | model.spec.mel_scale      | MelScale              | 0     \n",
      "4  | model.spec.stft           | Spectrogram           | 0     \n",
      "5  | model.spec.random_stretch | RandomTimeStretch     | 0     \n",
      "6  | model.spec.complex_norm   | ComplexNorm           | 0     \n",
      "7  | model.spec.norm           | SpecNormalization     | 0     \n",
      "8  | model.convs               | Sequential            | 213 K \n",
      "9  | model.convs.0             | Conv2d                | 320   \n",
      "10 | model.convs.1             | BatchNorm2d           | 64    \n",
      "11 | model.convs.2             | ELU                   | 0     \n",
      "12 | model.convs.3             | Conv2d                | 9 K   \n",
      "13 | model.convs.4             | BatchNorm2d           | 64    \n",
      "14 | model.convs.5             | ELU                   | 0     \n",
      "15 | model.convs.6             | MaxPool2d             | 0     \n",
      "16 | model.convs.7             | Dropout               | 0     \n",
      "17 | model.convs.8             | Conv2d                | 18 K  \n",
      "18 | model.convs.9             | BatchNorm2d           | 128   \n",
      "19 | model.convs.10            | ELU                   | 0     \n",
      "20 | model.convs.11            | Conv2d                | 36 K  \n",
      "21 | model.convs.12            | BatchNorm2d           | 128   \n",
      "22 | model.convs.13            | ELU                   | 0     \n",
      "23 | model.convs.14            | MaxPool2d             | 0     \n",
      "24 | model.convs.15            | Dropout               | 0     \n",
      "25 | model.convs.16            | Conv2d                | 73 K  \n",
      "26 | model.convs.17            | BatchNorm2d           | 256   \n",
      "27 | model.convs.18            | ELU                   | 0     \n",
      "28 | model.convs.19            | MaxPool2d             | 0     \n",
      "29 | model.convs.20            | Dropout               | 0     \n",
      "30 | model.convs.21            | Conv2d                | 73 K  \n",
      "31 | model.convs.22            | BatchNorm2d           | 128   \n",
      "32 | model.convs.23            | ELU                   | 0     \n",
      "33 | model.convs.24            | MaxPool2d             | 0     \n",
      "34 | model.convs.25            | Dropout               | 0     \n",
      "35 | model.LSTMCell            | LSTMCell              | 13 K  \n",
      "36 | model.dense               | Sequential            | 42    \n",
      "37 | model.dense.0             | Dropout               | 0     \n",
      "38 | model.dense.1             | BatchNorm1d           | 20    \n",
      "39 | model.dense.2             | Linear                | 22    \n"
     ]
    },
    {
     "data": {
      "application/vnd.jupyter.widget-view+json": {
       "model_id": "",
       "version_major": 2,
       "version_minor": 0
      },
      "text/plain": [
       "HBox(children=(FloatProgress(value=1.0, bar_style='info', description='Validation sanity check', layout=Layout…"
      ]
     },
     "metadata": {},
     "output_type": "display_data"
    },
    {
     "name": "stdout",
     "output_type": "stream",
     "text": [
      "Val-Acc=0.03793716656787196\n"
     ]
    },
    {
     "data": {
      "application/vnd.jupyter.widget-view+json": {
       "model_id": "3c70d12d32c24a1385a52b071f617f31",
       "version_major": 2,
       "version_minor": 0
      },
      "text/plain": [
       "HBox(children=(FloatProgress(value=1.0, bar_style='info', description='Training', layout=Layout(flex='2'), max…"
      ]
     },
     "metadata": {},
     "output_type": "display_data"
    },
    {
     "data": {
      "application/vnd.jupyter.widget-view+json": {
       "model_id": "",
       "version_major": 2,
       "version_minor": 0
      },
      "text/plain": [
       "HBox(children=(FloatProgress(value=1.0, bar_style='info', description='Validating', layout=Layout(flex='2'), m…"
      ]
     },
     "metadata": {},
     "output_type": "display_data"
    },
    {
     "name": "stdout",
     "output_type": "stream",
     "text": [
      "Val-Acc=0.8067575577949022\n",
      "Train-Acc=0.766403162055336\n"
     ]
    },
    {
     "data": {
      "application/vnd.jupyter.widget-view+json": {
       "model_id": "",
       "version_major": 2,
       "version_minor": 0
      },
      "text/plain": [
       "HBox(children=(FloatProgress(value=1.0, bar_style='info', description='Validating', layout=Layout(flex='2'), m…"
      ]
     },
     "metadata": {},
     "output_type": "display_data"
    },
    {
     "name": "stdout",
     "output_type": "stream",
     "text": [
      "Val-Acc=0.8269116775340841\n"
     ]
    },
    {
     "name": "stderr",
     "output_type": "stream",
     "text": [
      "[I 2020-07-15 00:44:25,744] Setting status of trial#66 as TrialState.PRUNED. Trial was pruned at epoch 1.\n",
      "GPU available: True, used: True\n",
      "No environment variable for node rank defined. Set as 0.\n",
      "CUDA_VISIBLE_DEVICES: [0]\n",
      "Set SLURM handle signals.\n",
      "\n",
      "   | Name                      | Type                  | Params\n",
      "----------------------------------------------------------------\n",
      "0  | model                     | CRNN8k_D2             | 4 M   \n",
      "1  | model.spec                | MelspectrogramStretch | 0     \n",
      "2  | model.spec.spectrogram    | Spectrogram           | 0     \n",
      "3  | model.spec.mel_scale      | MelScale              | 0     \n",
      "4  | model.spec.stft           | Spectrogram           | 0     \n",
      "5  | model.spec.random_stretch | RandomTimeStretch     | 0     \n",
      "6  | model.spec.complex_norm   | ComplexNorm           | 0     \n",
      "7  | model.spec.norm           | SpecNormalization     | 0     \n",
      "8  | model.convs               | Sequential            | 213 K \n",
      "9  | model.convs.0             | Conv2d                | 320   \n",
      "10 | model.convs.1             | BatchNorm2d           | 64    \n",
      "11 | model.convs.2             | ELU                   | 0     \n",
      "12 | model.convs.3             | Conv2d                | 9 K   \n",
      "13 | model.convs.4             | BatchNorm2d           | 64    \n",
      "14 | model.convs.5             | ELU                   | 0     \n",
      "15 | model.convs.6             | MaxPool2d             | 0     \n",
      "16 | model.convs.7             | Dropout               | 0     \n",
      "17 | model.convs.8             | Conv2d                | 18 K  \n",
      "18 | model.convs.9             | BatchNorm2d           | 128   \n",
      "19 | model.convs.10            | ELU                   | 0     \n",
      "20 | model.convs.11            | Conv2d                | 36 K  \n",
      "21 | model.convs.12            | BatchNorm2d           | 128   \n",
      "22 | model.convs.13            | ELU                   | 0     \n",
      "23 | model.convs.14            | MaxPool2d             | 0     \n",
      "24 | model.convs.15            | Dropout               | 0     \n",
      "25 | model.convs.16            | Conv2d                | 73 K  \n",
      "26 | model.convs.17            | BatchNorm2d           | 256   \n",
      "27 | model.convs.18            | ELU                   | 0     \n",
      "28 | model.convs.19            | MaxPool2d             | 0     \n",
      "29 | model.convs.20            | Dropout               | 0     \n",
      "30 | model.convs.21            | Conv2d                | 73 K  \n",
      "31 | model.convs.22            | BatchNorm2d           | 128   \n",
      "32 | model.convs.23            | ELU                   | 0     \n",
      "33 | model.convs.24            | MaxPool2d             | 0     \n",
      "34 | model.convs.25            | Dropout               | 0     \n",
      "35 | model.LSTMCell            | LSTMCell              | 4 M   \n",
      "36 | model.dense               | Sequential            | 3 K   \n",
      "37 | model.dense.0             | Dropout               | 0     \n",
      "38 | model.dense.1             | BatchNorm1d           | 1 K   \n",
      "39 | model.dense.2             | Linear                | 1 K   \n"
     ]
    },
    {
     "data": {
      "application/vnd.jupyter.widget-view+json": {
       "model_id": "",
       "version_major": 2,
       "version_minor": 0
      },
      "text/plain": [
       "HBox(children=(FloatProgress(value=1.0, bar_style='info', description='Validation sanity check', layout=Layout…"
      ]
     },
     "metadata": {},
     "output_type": "display_data"
    },
    {
     "name": "stdout",
     "output_type": "stream",
     "text": [
      "Val-Acc=0.04030823947836396\n"
     ]
    },
    {
     "data": {
      "application/vnd.jupyter.widget-view+json": {
       "model_id": "4851b7e3731944cd8cf75d288650810c",
       "version_major": 2,
       "version_minor": 0
      },
      "text/plain": [
       "HBox(children=(FloatProgress(value=1.0, bar_style='info', description='Training', layout=Layout(flex='2'), max…"
      ]
     },
     "metadata": {},
     "output_type": "display_data"
    },
    {
     "data": {
      "application/vnd.jupyter.widget-view+json": {
       "model_id": "",
       "version_major": 2,
       "version_minor": 0
      },
      "text/plain": [
       "HBox(children=(FloatProgress(value=1.0, bar_style='info', description='Validating', layout=Layout(flex='2'), m…"
      ]
     },
     "metadata": {},
     "output_type": "display_data"
    },
    {
     "name": "stdout",
     "output_type": "stream",
     "text": [
      "Val-Acc=0.8008298755186722\n",
      "Train-Acc=0.7934782608695652\n"
     ]
    },
    {
     "data": {
      "application/vnd.jupyter.widget-view+json": {
       "model_id": "",
       "version_major": 2,
       "version_minor": 0
      },
      "text/plain": [
       "HBox(children=(FloatProgress(value=1.0, bar_style='info', description='Validating', layout=Layout(flex='2'), m…"
      ]
     },
     "metadata": {},
     "output_type": "display_data"
    },
    {
     "name": "stdout",
     "output_type": "stream",
     "text": [
      "Val-Acc=0.8085358624777712\n"
     ]
    },
    {
     "name": "stderr",
     "output_type": "stream",
     "text": [
      "[I 2020-07-15 00:44:42,553] Setting status of trial#67 as TrialState.PRUNED. Trial was pruned at epoch 1.\n",
      "GPU available: True, used: True\n",
      "No environment variable for node rank defined. Set as 0.\n",
      "CUDA_VISIBLE_DEVICES: [0]\n",
      "Set SLURM handle signals.\n",
      "\n",
      "   | Name                      | Type                  | Params\n",
      "----------------------------------------------------------------\n",
      "0  | model                     | CRNN8k_D2             | 1 M   \n",
      "1  | model.spec                | MelspectrogramStretch | 0     \n",
      "2  | model.spec.spectrogram    | Spectrogram           | 0     \n",
      "3  | model.spec.mel_scale      | MelScale              | 0     \n",
      "4  | model.spec.stft           | Spectrogram           | 0     \n",
      "5  | model.spec.random_stretch | RandomTimeStretch     | 0     \n",
      "6  | model.spec.complex_norm   | ComplexNorm           | 0     \n",
      "7  | model.spec.norm           | SpecNormalization     | 0     \n",
      "8  | model.convs               | Sequential            | 213 K \n",
      "9  | model.convs.0             | Conv2d                | 320   \n",
      "10 | model.convs.1             | BatchNorm2d           | 64    \n",
      "11 | model.convs.2             | ELU                   | 0     \n",
      "12 | model.convs.3             | Conv2d                | 9 K   \n",
      "13 | model.convs.4             | BatchNorm2d           | 64    \n",
      "14 | model.convs.5             | ELU                   | 0     \n",
      "15 | model.convs.6             | MaxPool2d             | 0     \n",
      "16 | model.convs.7             | Dropout               | 0     \n",
      "17 | model.convs.8             | Conv2d                | 18 K  \n",
      "18 | model.convs.9             | BatchNorm2d           | 128   \n",
      "19 | model.convs.10            | ELU                   | 0     \n",
      "20 | model.convs.11            | Conv2d                | 36 K  \n",
      "21 | model.convs.12            | BatchNorm2d           | 128   \n",
      "22 | model.convs.13            | ELU                   | 0     \n",
      "23 | model.convs.14            | MaxPool2d             | 0     \n",
      "24 | model.convs.15            | Dropout               | 0     \n",
      "25 | model.convs.16            | Conv2d                | 73 K  \n",
      "26 | model.convs.17            | BatchNorm2d           | 256   \n",
      "27 | model.convs.18            | ELU                   | 0     \n",
      "28 | model.convs.19            | MaxPool2d             | 0     \n",
      "29 | model.convs.20            | Dropout               | 0     \n",
      "30 | model.convs.21            | Conv2d                | 73 K  \n",
      "31 | model.convs.22            | BatchNorm2d           | 128   \n",
      "32 | model.convs.23            | ELU                   | 0     \n",
      "33 | model.convs.24            | MaxPool2d             | 0     \n",
      "34 | model.convs.25            | Dropout               | 0     \n",
      "35 | model.LSTMCell            | LSTMCell              | 1 M   \n",
      "36 | model.dense               | Sequential            | 1 K   \n",
      "37 | model.dense.0             | Dropout               | 0     \n",
      "38 | model.dense.1             | BatchNorm1d           | 980   \n",
      "39 | model.dense.2             | Linear                | 982   \n"
     ]
    },
    {
     "data": {
      "application/vnd.jupyter.widget-view+json": {
       "model_id": "",
       "version_major": 2,
       "version_minor": 0
      },
      "text/plain": [
       "HBox(children=(FloatProgress(value=1.0, bar_style='info', description='Validation sanity check', layout=Layout…"
      ]
     },
     "metadata": {},
     "output_type": "display_data"
    },
    {
     "name": "stdout",
     "output_type": "stream",
     "text": [
      "Val-Acc=0.03793716656787196\n"
     ]
    },
    {
     "data": {
      "application/vnd.jupyter.widget-view+json": {
       "model_id": "536509cbc50f4a1cb020a54aba1059c3",
       "version_major": 2,
       "version_minor": 0
      },
      "text/plain": [
       "HBox(children=(FloatProgress(value=1.0, bar_style='info', description='Training', layout=Layout(flex='2'), max…"
      ]
     },
     "metadata": {},
     "output_type": "display_data"
    },
    {
     "data": {
      "application/vnd.jupyter.widget-view+json": {
       "model_id": "",
       "version_major": 2,
       "version_minor": 0
      },
      "text/plain": [
       "HBox(children=(FloatProgress(value=1.0, bar_style='info', description='Validating', layout=Layout(flex='2'), m…"
      ]
     },
     "metadata": {},
     "output_type": "display_data"
    },
    {
     "name": "stdout",
     "output_type": "stream",
     "text": [
      "Val-Acc=0.8079430942501482\n",
      "Train-Acc=0.7871541501976285\n"
     ]
    },
    {
     "data": {
      "application/vnd.jupyter.widget-view+json": {
       "model_id": "",
       "version_major": 2,
       "version_minor": 0
      },
      "text/plain": [
       "HBox(children=(FloatProgress(value=1.0, bar_style='info', description='Validating', layout=Layout(flex='2'), m…"
      ]
     },
     "metadata": {},
     "output_type": "display_data"
    },
    {
     "name": "stdout",
     "output_type": "stream",
     "text": [
      "Val-Acc=0.8458802608180201\n",
      "Train-Acc=0.8195652173913044\n"
     ]
    },
    {
     "data": {
      "application/vnd.jupyter.widget-view+json": {
       "model_id": "",
       "version_major": 2,
       "version_minor": 0
      },
      "text/plain": [
       "HBox(children=(FloatProgress(value=1.0, bar_style='info', description='Validating', layout=Layout(flex='2'), m…"
      ]
     },
     "metadata": {},
     "output_type": "display_data"
    },
    {
     "name": "stdout",
     "output_type": "stream",
     "text": [
      "Val-Acc=0.8280972139893301\n"
     ]
    },
    {
     "name": "stderr",
     "output_type": "stream",
     "text": [
      "[I 2020-07-15 00:45:06,850] Setting status of trial#68 as TrialState.PRUNED. Trial was pruned at epoch 2.\n",
      "GPU available: True, used: True\n",
      "No environment variable for node rank defined. Set as 0.\n",
      "CUDA_VISIBLE_DEVICES: [0]\n",
      "Set SLURM handle signals.\n",
      "\n",
      "   | Name                      | Type                  | Params\n",
      "----------------------------------------------------------------\n",
      "0  | model                     | CRNN8k_D2             | 5 M   \n",
      "1  | model.spec                | MelspectrogramStretch | 0     \n",
      "2  | model.spec.spectrogram    | Spectrogram           | 0     \n",
      "3  | model.spec.mel_scale      | MelScale              | 0     \n",
      "4  | model.spec.stft           | Spectrogram           | 0     \n",
      "5  | model.spec.random_stretch | RandomTimeStretch     | 0     \n",
      "6  | model.spec.complex_norm   | ComplexNorm           | 0     \n",
      "7  | model.spec.norm           | SpecNormalization     | 0     \n",
      "8  | model.convs               | Sequential            | 213 K \n",
      "9  | model.convs.0             | Conv2d                | 320   \n",
      "10 | model.convs.1             | BatchNorm2d           | 64    \n",
      "11 | model.convs.2             | ELU                   | 0     \n",
      "12 | model.convs.3             | Conv2d                | 9 K   \n",
      "13 | model.convs.4             | BatchNorm2d           | 64    \n",
      "14 | model.convs.5             | ELU                   | 0     \n",
      "15 | model.convs.6             | MaxPool2d             | 0     \n",
      "16 | model.convs.7             | Dropout               | 0     \n",
      "17 | model.convs.8             | Conv2d                | 18 K  \n",
      "18 | model.convs.9             | BatchNorm2d           | 128   \n",
      "19 | model.convs.10            | ELU                   | 0     \n",
      "20 | model.convs.11            | Conv2d                | 36 K  \n",
      "21 | model.convs.12            | BatchNorm2d           | 128   \n",
      "22 | model.convs.13            | ELU                   | 0     \n",
      "23 | model.convs.14            | MaxPool2d             | 0     \n",
      "24 | model.convs.15            | Dropout               | 0     \n",
      "25 | model.convs.16            | Conv2d                | 73 K  \n",
      "26 | model.convs.17            | BatchNorm2d           | 256   \n",
      "27 | model.convs.18            | ELU                   | 0     \n",
      "28 | model.convs.19            | MaxPool2d             | 0     \n",
      "29 | model.convs.20            | Dropout               | 0     \n",
      "30 | model.convs.21            | Conv2d                | 73 K  \n",
      "31 | model.convs.22            | BatchNorm2d           | 128   \n",
      "32 | model.convs.23            | ELU                   | 0     \n",
      "33 | model.convs.24            | MaxPool2d             | 0     \n",
      "34 | model.convs.25            | Dropout               | 0     \n",
      "35 | model.LSTMCell            | LSTMCell              | 5 M   \n",
      "36 | model.dense               | Sequential            | 3 K   \n",
      "37 | model.dense.0             | Dropout               | 0     \n",
      "38 | model.dense.1             | BatchNorm1d           | 1 K   \n",
      "39 | model.dense.2             | Linear                | 1 K   \n"
     ]
    },
    {
     "data": {
      "application/vnd.jupyter.widget-view+json": {
       "model_id": "",
       "version_major": 2,
       "version_minor": 0
      },
      "text/plain": [
       "HBox(children=(FloatProgress(value=1.0, bar_style='info', description='Validation sanity check', layout=Layout…"
      ]
     },
     "metadata": {},
     "output_type": "display_data"
    },
    {
     "name": "stdout",
     "output_type": "stream",
     "text": [
      "Val-Acc=0.03793716656787196\n"
     ]
    },
    {
     "data": {
      "application/vnd.jupyter.widget-view+json": {
       "model_id": "bc64dd4748ee4a75b4840cb1904a1d6e",
       "version_major": 2,
       "version_minor": 0
      },
      "text/plain": [
       "HBox(children=(FloatProgress(value=1.0, bar_style='info', description='Training', layout=Layout(flex='2'), max…"
      ]
     },
     "metadata": {},
     "output_type": "display_data"
    },
    {
     "data": {
      "application/vnd.jupyter.widget-view+json": {
       "model_id": "",
       "version_major": 2,
       "version_minor": 0
      },
      "text/plain": [
       "HBox(children=(FloatProgress(value=1.0, bar_style='info', description='Validating', layout=Layout(flex='2'), m…"
      ]
     },
     "metadata": {},
     "output_type": "display_data"
    },
    {
     "name": "stdout",
     "output_type": "stream",
     "text": [
      "Val-Acc=0.8061647895672792\n",
      "Train-Acc=0.7772727272727272\n"
     ]
    },
    {
     "data": {
      "application/vnd.jupyter.widget-view+json": {
       "model_id": "",
       "version_major": 2,
       "version_minor": 0
      },
      "text/plain": [
       "HBox(children=(FloatProgress(value=1.0, bar_style='info', description='Validating', layout=Layout(flex='2'), m…"
      ]
     },
     "metadata": {},
     "output_type": "display_data"
    },
    {
     "name": "stdout",
     "output_type": "stream",
     "text": [
      "Val-Acc=0.8263189093064611\n"
     ]
    },
    {
     "name": "stderr",
     "output_type": "stream",
     "text": [
      "[I 2020-07-15 00:45:23,512] Setting status of trial#69 as TrialState.PRUNED. Trial was pruned at epoch 1.\n",
      "GPU available: True, used: True\n",
      "No environment variable for node rank defined. Set as 0.\n",
      "CUDA_VISIBLE_DEVICES: [0]\n",
      "Set SLURM handle signals.\n",
      "\n",
      "   | Name                      | Type                  | Params\n",
      "----------------------------------------------------------------\n",
      "0  | model                     | CRNN8k_D2             | 4 M   \n",
      "1  | model.spec                | MelspectrogramStretch | 0     \n",
      "2  | model.spec.spectrogram    | Spectrogram           | 0     \n",
      "3  | model.spec.mel_scale      | MelScale              | 0     \n",
      "4  | model.spec.stft           | Spectrogram           | 0     \n",
      "5  | model.spec.random_stretch | RandomTimeStretch     | 0     \n",
      "6  | model.spec.complex_norm   | ComplexNorm           | 0     \n",
      "7  | model.spec.norm           | SpecNormalization     | 0     \n",
      "8  | model.convs               | Sequential            | 213 K \n",
      "9  | model.convs.0             | Conv2d                | 320   \n",
      "10 | model.convs.1             | BatchNorm2d           | 64    \n",
      "11 | model.convs.2             | ELU                   | 0     \n",
      "12 | model.convs.3             | Conv2d                | 9 K   \n",
      "13 | model.convs.4             | BatchNorm2d           | 64    \n",
      "14 | model.convs.5             | ELU                   | 0     \n",
      "15 | model.convs.6             | MaxPool2d             | 0     \n",
      "16 | model.convs.7             | Dropout               | 0     \n",
      "17 | model.convs.8             | Conv2d                | 18 K  \n",
      "18 | model.convs.9             | BatchNorm2d           | 128   \n",
      "19 | model.convs.10            | ELU                   | 0     \n",
      "20 | model.convs.11            | Conv2d                | 36 K  \n",
      "21 | model.convs.12            | BatchNorm2d           | 128   \n",
      "22 | model.convs.13            | ELU                   | 0     \n",
      "23 | model.convs.14            | MaxPool2d             | 0     \n",
      "24 | model.convs.15            | Dropout               | 0     \n",
      "25 | model.convs.16            | Conv2d                | 73 K  \n",
      "26 | model.convs.17            | BatchNorm2d           | 256   \n",
      "27 | model.convs.18            | ELU                   | 0     \n",
      "28 | model.convs.19            | MaxPool2d             | 0     \n",
      "29 | model.convs.20            | Dropout               | 0     \n",
      "30 | model.convs.21            | Conv2d                | 73 K  \n",
      "31 | model.convs.22            | BatchNorm2d           | 128   \n",
      "32 | model.convs.23            | ELU                   | 0     \n",
      "33 | model.convs.24            | MaxPool2d             | 0     \n",
      "34 | model.convs.25            | Dropout               | 0     \n",
      "35 | model.LSTMCell            | LSTMCell              | 4 M   \n",
      "36 | model.dense               | Sequential            | 3 K   \n",
      "37 | model.dense.0             | Dropout               | 0     \n",
      "38 | model.dense.1             | BatchNorm1d           | 1 K   \n",
      "39 | model.dense.2             | Linear                | 1 K   \n"
     ]
    },
    {
     "data": {
      "application/vnd.jupyter.widget-view+json": {
       "model_id": "",
       "version_major": 2,
       "version_minor": 0
      },
      "text/plain": [
       "HBox(children=(FloatProgress(value=1.0, bar_style='info', description='Validation sanity check', layout=Layout…"
      ]
     },
     "metadata": {},
     "output_type": "display_data"
    },
    {
     "name": "stdout",
     "output_type": "stream",
     "text": [
      "Val-Acc=0.03793716656787196\n"
     ]
    },
    {
     "data": {
      "application/vnd.jupyter.widget-view+json": {
       "model_id": "bed2b633d52e41379d339e3fc06560ae",
       "version_major": 2,
       "version_minor": 0
      },
      "text/plain": [
       "HBox(children=(FloatProgress(value=1.0, bar_style='info', description='Training', layout=Layout(flex='2'), max…"
      ]
     },
     "metadata": {},
     "output_type": "display_data"
    },
    {
     "data": {
      "application/vnd.jupyter.widget-view+json": {
       "model_id": "",
       "version_major": 2,
       "version_minor": 0
      },
      "text/plain": [
       "HBox(children=(FloatProgress(value=1.0, bar_style='info', description='Validating', layout=Layout(flex='2'), m…"
      ]
     },
     "metadata": {},
     "output_type": "display_data"
    },
    {
     "name": "stdout",
     "output_type": "stream",
     "text": [
      "Val-Acc=0.8251333728512151\n",
      "Train-Acc=0.7703557312252964\n"
     ]
    },
    {
     "data": {
      "application/vnd.jupyter.widget-view+json": {
       "model_id": "",
       "version_major": 2,
       "version_minor": 0
      },
      "text/plain": [
       "HBox(children=(FloatProgress(value=1.0, bar_style='info', description='Validating', layout=Layout(flex='2'), m…"
      ]
     },
     "metadata": {},
     "output_type": "display_data"
    },
    {
     "name": "stdout",
     "output_type": "stream",
     "text": [
      "Val-Acc=0.7682276229994073\n"
     ]
    },
    {
     "name": "stderr",
     "output_type": "stream",
     "text": [
      "[I 2020-07-15 00:45:40,105] Setting status of trial#70 as TrialState.PRUNED. Trial was pruned at epoch 1.\n",
      "GPU available: True, used: True\n",
      "No environment variable for node rank defined. Set as 0.\n",
      "CUDA_VISIBLE_DEVICES: [0]\n",
      "Set SLURM handle signals.\n",
      "\n",
      "   | Name                      | Type                  | Params\n",
      "----------------------------------------------------------------\n",
      "0  | model                     | CRNN8k_D2             | 406 K \n",
      "1  | model.spec                | MelspectrogramStretch | 0     \n",
      "2  | model.spec.spectrogram    | Spectrogram           | 0     \n",
      "3  | model.spec.mel_scale      | MelScale              | 0     \n",
      "4  | model.spec.stft           | Spectrogram           | 0     \n",
      "5  | model.spec.random_stretch | RandomTimeStretch     | 0     \n",
      "6  | model.spec.complex_norm   | ComplexNorm           | 0     \n",
      "7  | model.spec.norm           | SpecNormalization     | 0     \n",
      "8  | model.convs               | Sequential            | 213 K \n",
      "9  | model.convs.0             | Conv2d                | 320   \n",
      "10 | model.convs.1             | BatchNorm2d           | 64    \n",
      "11 | model.convs.2             | ELU                   | 0     \n",
      "12 | model.convs.3             | Conv2d                | 9 K   \n",
      "13 | model.convs.4             | BatchNorm2d           | 64    \n",
      "14 | model.convs.5             | ELU                   | 0     \n",
      "15 | model.convs.6             | MaxPool2d             | 0     \n",
      "16 | model.convs.7             | Dropout               | 0     \n",
      "17 | model.convs.8             | Conv2d                | 18 K  \n",
      "18 | model.convs.9             | BatchNorm2d           | 128   \n",
      "19 | model.convs.10            | ELU                   | 0     \n",
      "20 | model.convs.11            | Conv2d                | 36 K  \n",
      "21 | model.convs.12            | BatchNorm2d           | 128   \n",
      "22 | model.convs.13            | ELU                   | 0     \n",
      "23 | model.convs.14            | MaxPool2d             | 0     \n",
      "24 | model.convs.15            | Dropout               | 0     \n",
      "25 | model.convs.16            | Conv2d                | 73 K  \n",
      "26 | model.convs.17            | BatchNorm2d           | 256   \n",
      "27 | model.convs.18            | ELU                   | 0     \n",
      "28 | model.convs.19            | MaxPool2d             | 0     \n",
      "29 | model.convs.20            | Dropout               | 0     \n",
      "30 | model.convs.21            | Conv2d                | 73 K  \n",
      "31 | model.convs.22            | BatchNorm2d           | 128   \n",
      "32 | model.convs.23            | ELU                   | 0     \n",
      "33 | model.convs.24            | MaxPool2d             | 0     \n",
      "34 | model.convs.25            | Dropout               | 0     \n",
      "35 | model.LSTMCell            | LSTMCell              | 192 K \n",
      "36 | model.dense               | Sequential            | 446   \n",
      "37 | model.dense.0             | Dropout               | 0     \n",
      "38 | model.dense.1             | BatchNorm1d           | 222   \n",
      "39 | model.dense.2             | Linear                | 224   \n"
     ]
    },
    {
     "data": {
      "application/vnd.jupyter.widget-view+json": {
       "model_id": "",
       "version_major": 2,
       "version_minor": 0
      },
      "text/plain": [
       "HBox(children=(FloatProgress(value=1.0, bar_style='info', description='Validation sanity check', layout=Layout…"
      ]
     },
     "metadata": {},
     "output_type": "display_data"
    },
    {
     "name": "stdout",
     "output_type": "stream",
     "text": [
      "Val-Acc=0.03793716656787196\n"
     ]
    },
    {
     "data": {
      "application/vnd.jupyter.widget-view+json": {
       "model_id": "da18635455e94667aceb2d3f17aff463",
       "version_major": 2,
       "version_minor": 0
      },
      "text/plain": [
       "HBox(children=(FloatProgress(value=1.0, bar_style='info', description='Training', layout=Layout(flex='2'), max…"
      ]
     },
     "metadata": {},
     "output_type": "display_data"
    },
    {
     "data": {
      "application/vnd.jupyter.widget-view+json": {
       "model_id": "",
       "version_major": 2,
       "version_minor": 0
      },
      "text/plain": [
       "HBox(children=(FloatProgress(value=1.0, bar_style='info', description='Validating', layout=Layout(flex='2'), m…"
      ]
     },
     "metadata": {},
     "output_type": "display_data"
    },
    {
     "name": "stdout",
     "output_type": "stream",
     "text": [
      "Val-Acc=0.8399525785417902\n",
      "Train-Acc=0.7968379446640316\n"
     ]
    },
    {
     "data": {
      "application/vnd.jupyter.widget-view+json": {
       "model_id": "",
       "version_major": 2,
       "version_minor": 0
      },
      "text/plain": [
       "HBox(children=(FloatProgress(value=1.0, bar_style='info', description='Validating', layout=Layout(flex='2'), m…"
      ]
     },
     "metadata": {},
     "output_type": "display_data"
    },
    {
     "name": "stdout",
     "output_type": "stream",
     "text": [
      "Val-Acc=0.8292827504445762\n",
      "Train-Acc=0.833399209486166\n"
     ]
    },
    {
     "data": {
      "application/vnd.jupyter.widget-view+json": {
       "model_id": "",
       "version_major": 2,
       "version_minor": 0
      },
      "text/plain": [
       "HBox(children=(FloatProgress(value=1.0, bar_style='info', description='Validating', layout=Layout(flex='2'), m…"
      ]
     },
     "metadata": {},
     "output_type": "display_data"
    },
    {
     "name": "stdout",
     "output_type": "stream",
     "text": [
      "Val-Acc=0.8559573206876111\n",
      "Train-Acc=0.8496047430830039\n"
     ]
    },
    {
     "data": {
      "application/vnd.jupyter.widget-view+json": {
       "model_id": "",
       "version_major": 2,
       "version_minor": 0
      },
      "text/plain": [
       "HBox(children=(FloatProgress(value=1.0, bar_style='info', description='Validating', layout=Layout(flex='2'), m…"
      ]
     },
     "metadata": {},
     "output_type": "display_data"
    },
    {
     "name": "stdout",
     "output_type": "stream",
     "text": [
      "Val-Acc=0.8595139300533492\n",
      "Train-Acc=0.8622529644268775\n"
     ]
    },
    {
     "data": {
      "application/vnd.jupyter.widget-view+json": {
       "model_id": "",
       "version_major": 2,
       "version_minor": 0
      },
      "text/plain": [
       "HBox(children=(FloatProgress(value=1.0, bar_style='info', description='Validating', layout=Layout(flex='2'), m…"
      ]
     },
     "metadata": {},
     "output_type": "display_data"
    },
    {
     "name": "stdout",
     "output_type": "stream",
     "text": [
      "Val-Acc=0.8707765263781861\n",
      "Train-Acc=0.8750988142292491\n"
     ]
    },
    {
     "data": {
      "application/vnd.jupyter.widget-view+json": {
       "model_id": "",
       "version_major": 2,
       "version_minor": 0
      },
      "text/plain": [
       "HBox(children=(FloatProgress(value=1.0, bar_style='info', description='Validating', layout=Layout(flex='2'), m…"
      ]
     },
     "metadata": {},
     "output_type": "display_data"
    },
    {
     "name": "stdout",
     "output_type": "stream",
     "text": [
      "Val-Acc=0.8618850029638412\n",
      "Train-Acc=0.8695652173913043\n"
     ]
    },
    {
     "data": {
      "application/vnd.jupyter.widget-view+json": {
       "model_id": "",
       "version_major": 2,
       "version_minor": 0
      },
      "text/plain": [
       "HBox(children=(FloatProgress(value=1.0, bar_style='info', description='Validating', layout=Layout(flex='2'), m…"
      ]
     },
     "metadata": {},
     "output_type": "display_data"
    },
    {
     "name": "stdout",
     "output_type": "stream",
     "text": [
      "Val-Acc=0.8802608180201541\n",
      "Train-Acc=0.8820158102766799\n"
     ]
    },
    {
     "data": {
      "application/vnd.jupyter.widget-view+json": {
       "model_id": "",
       "version_major": 2,
       "version_minor": 0
      },
      "text/plain": [
       "HBox(children=(FloatProgress(value=1.0, bar_style='info', description='Validating', layout=Layout(flex='2'), m…"
      ]
     },
     "metadata": {},
     "output_type": "display_data"
    },
    {
     "name": "stdout",
     "output_type": "stream",
     "text": [
      "Val-Acc=0.8772969768820391\n",
      "Train-Acc=0.8782608695652174\n"
     ]
    },
    {
     "data": {
      "application/vnd.jupyter.widget-view+json": {
       "model_id": "",
       "version_major": 2,
       "version_minor": 0
      },
      "text/plain": [
       "HBox(children=(FloatProgress(value=1.0, bar_style='info', description='Validating', layout=Layout(flex='2'), m…"
      ]
     },
     "metadata": {},
     "output_type": "display_data"
    },
    {
     "name": "stdout",
     "output_type": "stream",
     "text": [
      "Val-Acc=0.8826318909306461\n",
      "Train-Acc=0.8871541501976284\n"
     ]
    },
    {
     "data": {
      "application/vnd.jupyter.widget-view+json": {
       "model_id": "",
       "version_major": 2,
       "version_minor": 0
      },
      "text/plain": [
       "HBox(children=(FloatProgress(value=1.0, bar_style='info', description='Validating', layout=Layout(flex='2'), m…"
      ]
     },
     "metadata": {},
     "output_type": "display_data"
    },
    {
     "name": "stdout",
     "output_type": "stream",
     "text": [
      "Val-Acc=0.8535862477771191\n",
      "Train-Acc=0.8926877470355731\n"
     ]
    },
    {
     "data": {
      "application/vnd.jupyter.widget-view+json": {
       "model_id": "",
       "version_major": 2,
       "version_minor": 0
      },
      "text/plain": [
       "HBox(children=(FloatProgress(value=1.0, bar_style='info', description='Validating', layout=Layout(flex='2'), m…"
      ]
     },
     "metadata": {},
     "output_type": "display_data"
    },
    {
     "name": "stdout",
     "output_type": "stream",
     "text": [
      "Val-Acc=0.8642560758743332\n",
      "Train-Acc=0.8869565217391304\n"
     ]
    },
    {
     "data": {
      "application/vnd.jupyter.widget-view+json": {
       "model_id": "",
       "version_major": 2,
       "version_minor": 0
      },
      "text/plain": [
       "HBox(children=(FloatProgress(value=1.0, bar_style='info', description='Validating', layout=Layout(flex='2'), m…"
      ]
     },
     "metadata": {},
     "output_type": "display_data"
    },
    {
     "name": "stdout",
     "output_type": "stream",
     "text": [
      "Val-Acc=0.8867812685240071\n",
      "Train-Acc=0.8851778656126482\n"
     ]
    },
    {
     "data": {
      "application/vnd.jupyter.widget-view+json": {
       "model_id": "",
       "version_major": 2,
       "version_minor": 0
      },
      "text/plain": [
       "HBox(children=(FloatProgress(value=1.0, bar_style='info', description='Validating', layout=Layout(flex='2'), m…"
      ]
     },
     "metadata": {},
     "output_type": "display_data"
    },
    {
     "name": "stdout",
     "output_type": "stream",
     "text": [
      "Val-Acc=0.8867812685240071\n",
      "Train-Acc=0.8968379446640317\n"
     ]
    },
    {
     "data": {
      "application/vnd.jupyter.widget-view+json": {
       "model_id": "",
       "version_major": 2,
       "version_minor": 0
      },
      "text/plain": [
       "HBox(children=(FloatProgress(value=1.0, bar_style='info', description='Validating', layout=Layout(flex='2'), m…"
      ]
     },
     "metadata": {},
     "output_type": "display_data"
    },
    {
     "name": "stdout",
     "output_type": "stream",
     "text": [
      "Val-Acc=0.8808535862477771\n",
      "Train-Acc=0.9011857707509882\n"
     ]
    },
    {
     "data": {
      "application/vnd.jupyter.widget-view+json": {
       "model_id": "",
       "version_major": 2,
       "version_minor": 0
      },
      "text/plain": [
       "HBox(children=(FloatProgress(value=1.0, bar_style='info', description='Validating', layout=Layout(flex='2'), m…"
      ]
     },
     "metadata": {},
     "output_type": "display_data"
    },
    {
     "name": "stdout",
     "output_type": "stream",
     "text": [
      "Val-Acc=0.8891523414344991\n",
      "Train-Acc=0.9031620553359684\n",
      "\n",
      "Saved model to \"saved_modelsq/71.p\"\n"
     ]
    },
    {
     "name": "stderr",
     "output_type": "stream",
     "text": [
      "[I 2020-07-15 00:47:38,183] Finished trial#71 with value: 0.8891523414344991 with parameters: {'learning_rate': 0.001136809748468852, 'p_drop': 0.15693511256766787, 'lr_decay': 0.9736863632921824, 'n_hidden': 111, 'weight_decay': 0.000702712058453174}. Best is trial#44 with value: 0.8944872554831061.\n",
      "GPU available: True, used: True\n",
      "No environment variable for node rank defined. Set as 0.\n",
      "CUDA_VISIBLE_DEVICES: [0]\n",
      "Set SLURM handle signals.\n",
      "\n",
      "   | Name                      | Type                  | Params\n",
      "----------------------------------------------------------------\n",
      "0  | model                     | CRNN8k_D2             | 451 K \n",
      "1  | model.spec                | MelspectrogramStretch | 0     \n",
      "2  | model.spec.spectrogram    | Spectrogram           | 0     \n",
      "3  | model.spec.mel_scale      | MelScale              | 0     \n",
      "4  | model.spec.stft           | Spectrogram           | 0     \n",
      "5  | model.spec.random_stretch | RandomTimeStretch     | 0     \n",
      "6  | model.spec.complex_norm   | ComplexNorm           | 0     \n",
      "7  | model.spec.norm           | SpecNormalization     | 0     \n",
      "8  | model.convs               | Sequential            | 213 K \n",
      "9  | model.convs.0             | Conv2d                | 320   \n",
      "10 | model.convs.1             | BatchNorm2d           | 64    \n",
      "11 | model.convs.2             | ELU                   | 0     \n",
      "12 | model.convs.3             | Conv2d                | 9 K   \n",
      "13 | model.convs.4             | BatchNorm2d           | 64    \n",
      "14 | model.convs.5             | ELU                   | 0     \n",
      "15 | model.convs.6             | MaxPool2d             | 0     \n",
      "16 | model.convs.7             | Dropout               | 0     \n",
      "17 | model.convs.8             | Conv2d                | 18 K  \n",
      "18 | model.convs.9             | BatchNorm2d           | 128   \n",
      "19 | model.convs.10            | ELU                   | 0     \n",
      "20 | model.convs.11            | Conv2d                | 36 K  \n",
      "21 | model.convs.12            | BatchNorm2d           | 128   \n",
      "22 | model.convs.13            | ELU                   | 0     \n",
      "23 | model.convs.14            | MaxPool2d             | 0     \n",
      "24 | model.convs.15            | Dropout               | 0     \n",
      "25 | model.convs.16            | Conv2d                | 73 K  \n",
      "26 | model.convs.17            | BatchNorm2d           | 256   \n",
      "27 | model.convs.18            | ELU                   | 0     \n",
      "28 | model.convs.19            | MaxPool2d             | 0     \n",
      "29 | model.convs.20            | Dropout               | 0     \n",
      "30 | model.convs.21            | Conv2d                | 73 K  \n",
      "31 | model.convs.22            | BatchNorm2d           | 128   \n",
      "32 | model.convs.23            | ELU                   | 0     \n",
      "33 | model.convs.24            | MaxPool2d             | 0     \n",
      "34 | model.convs.25            | Dropout               | 0     \n",
      "35 | model.LSTMCell            | LSTMCell              | 237 K \n",
      "36 | model.dense               | Sequential            | 526   \n",
      "37 | model.dense.0             | Dropout               | 0     \n",
      "38 | model.dense.1             | BatchNorm1d           | 262   \n",
      "39 | model.dense.2             | Linear                | 264   \n"
     ]
    },
    {
     "data": {
      "application/vnd.jupyter.widget-view+json": {
       "model_id": "",
       "version_major": 2,
       "version_minor": 0
      },
      "text/plain": [
       "HBox(children=(FloatProgress(value=1.0, bar_style='info', description='Validation sanity check', layout=Layout…"
      ]
     },
     "metadata": {},
     "output_type": "display_data"
    },
    {
     "name": "stdout",
     "output_type": "stream",
     "text": [
      "Val-Acc=0.03793716656787196\n"
     ]
    },
    {
     "data": {
      "application/vnd.jupyter.widget-view+json": {
       "model_id": "a66d22f43ab943de80eb19b1749051aa",
       "version_major": 2,
       "version_minor": 0
      },
      "text/plain": [
       "HBox(children=(FloatProgress(value=1.0, bar_style='info', description='Training', layout=Layout(flex='2'), max…"
      ]
     },
     "metadata": {},
     "output_type": "display_data"
    },
    {
     "data": {
      "application/vnd.jupyter.widget-view+json": {
       "model_id": "",
       "version_major": 2,
       "version_minor": 0
      },
      "text/plain": [
       "HBox(children=(FloatProgress(value=1.0, bar_style='info', description='Validating', layout=Layout(flex='2'), m…"
      ]
     },
     "metadata": {},
     "output_type": "display_data"
    },
    {
     "name": "stdout",
     "output_type": "stream",
     "text": [
      "Val-Acc=0.8168346176644932\n",
      "Train-Acc=0.7857707509881423\n"
     ]
    },
    {
     "data": {
      "application/vnd.jupyter.widget-view+json": {
       "model_id": "",
       "version_major": 2,
       "version_minor": 0
      },
      "text/plain": [
       "HBox(children=(FloatProgress(value=1.0, bar_style='info', description='Validating', layout=Layout(flex='2'), m…"
      ]
     },
     "metadata": {},
     "output_type": "display_data"
    },
    {
     "name": "stdout",
     "output_type": "stream",
     "text": [
      "Val-Acc=0.8310610551274452\n",
      "Train-Acc=0.8227272727272728\n"
     ]
    },
    {
     "data": {
      "application/vnd.jupyter.widget-view+json": {
       "model_id": "",
       "version_major": 2,
       "version_minor": 0
      },
      "text/plain": [
       "HBox(children=(FloatProgress(value=1.0, bar_style='info', description='Validating', layout=Layout(flex='2'), m…"
      ]
     },
     "metadata": {},
     "output_type": "display_data"
    },
    {
     "name": "stdout",
     "output_type": "stream",
     "text": [
      "Val-Acc=0.8541790160047421\n",
      "Train-Acc=0.8444664031620553\n"
     ]
    },
    {
     "data": {
      "application/vnd.jupyter.widget-view+json": {
       "model_id": "",
       "version_major": 2,
       "version_minor": 0
      },
      "text/plain": [
       "HBox(children=(FloatProgress(value=1.0, bar_style='info', description='Validating', layout=Layout(flex='2'), m…"
      ]
     },
     "metadata": {},
     "output_type": "display_data"
    },
    {
     "name": "stdout",
     "output_type": "stream",
     "text": [
      "Val-Acc=0.8524007113218731\n",
      "Train-Acc=0.8541501976284585\n"
     ]
    },
    {
     "data": {
      "application/vnd.jupyter.widget-view+json": {
       "model_id": "",
       "version_major": 2,
       "version_minor": 0
      },
      "text/plain": [
       "HBox(children=(FloatProgress(value=1.0, bar_style='info', description='Validating', layout=Layout(flex='2'), m…"
      ]
     },
     "metadata": {},
     "output_type": "display_data"
    },
    {
     "name": "stdout",
     "output_type": "stream",
     "text": [
      "Val-Acc=0.8660343805572022\n",
      "Train-Acc=0.8640316205533597\n"
     ]
    },
    {
     "data": {
      "application/vnd.jupyter.widget-view+json": {
       "model_id": "",
       "version_major": 2,
       "version_minor": 0
      },
      "text/plain": [
       "HBox(children=(FloatProgress(value=1.0, bar_style='info', description='Validating', layout=Layout(flex='2'), m…"
      ]
     },
     "metadata": {},
     "output_type": "display_data"
    },
    {
     "name": "stdout",
     "output_type": "stream",
     "text": [
      "Val-Acc=0.8761114404267931\n",
      "Train-Acc=0.8673913043478261\n"
     ]
    },
    {
     "data": {
      "application/vnd.jupyter.widget-view+json": {
       "model_id": "",
       "version_major": 2,
       "version_minor": 0
      },
      "text/plain": [
       "HBox(children=(FloatProgress(value=1.0, bar_style='info', description='Validating', layout=Layout(flex='2'), m…"
      ]
     },
     "metadata": {},
     "output_type": "display_data"
    },
    {
     "name": "stdout",
     "output_type": "stream",
     "text": [
      "Val-Acc=0.8802608180201541\n",
      "Train-Acc=0.8788537549407115\n"
     ]
    },
    {
     "data": {
      "application/vnd.jupyter.widget-view+json": {
       "model_id": "",
       "version_major": 2,
       "version_minor": 0
      },
      "text/plain": [
       "HBox(children=(FloatProgress(value=1.0, bar_style='info', description='Validating', layout=Layout(flex='2'), m…"
      ]
     },
     "metadata": {},
     "output_type": "display_data"
    },
    {
     "name": "stdout",
     "output_type": "stream",
     "text": [
      "Val-Acc=0.8838174273858921\n",
      "Train-Acc=0.8752964426877471\n"
     ]
    },
    {
     "data": {
      "application/vnd.jupyter.widget-view+json": {
       "model_id": "",
       "version_major": 2,
       "version_minor": 0
      },
      "text/plain": [
       "HBox(children=(FloatProgress(value=1.0, bar_style='info', description='Validating', layout=Layout(flex='2'), m…"
      ]
     },
     "metadata": {},
     "output_type": "display_data"
    },
    {
     "name": "stdout",
     "output_type": "stream",
     "text": [
      "Val-Acc=0.8802608180201541\n",
      "Train-Acc=0.8810276679841897\n"
     ]
    },
    {
     "data": {
      "application/vnd.jupyter.widget-view+json": {
       "model_id": "",
       "version_major": 2,
       "version_minor": 0
      },
      "text/plain": [
       "HBox(children=(FloatProgress(value=1.0, bar_style='info', description='Validating', layout=Layout(flex='2'), m…"
      ]
     },
     "metadata": {},
     "output_type": "display_data"
    },
    {
     "name": "stdout",
     "output_type": "stream",
     "text": [
      "Val-Acc=0.8678126852400712\n",
      "Train-Acc=0.8822134387351779\n"
     ]
    },
    {
     "data": {
      "application/vnd.jupyter.widget-view+json": {
       "model_id": "",
       "version_major": 2,
       "version_minor": 0
      },
      "text/plain": [
       "HBox(children=(FloatProgress(value=1.0, bar_style='info', description='Validating', layout=Layout(flex='2'), m…"
      ]
     },
     "metadata": {},
     "output_type": "display_data"
    },
    {
     "name": "stdout",
     "output_type": "stream",
     "text": [
      "Val-Acc=0.8855957320687611\n",
      "Train-Acc=0.8749011857707509\n"
     ]
    },
    {
     "data": {
      "application/vnd.jupyter.widget-view+json": {
       "model_id": "",
       "version_major": 2,
       "version_minor": 0
      },
      "text/plain": [
       "HBox(children=(FloatProgress(value=1.0, bar_style='info', description='Validating', layout=Layout(flex='2'), m…"
      ]
     },
     "metadata": {},
     "output_type": "display_data"
    },
    {
     "name": "stdout",
     "output_type": "stream",
     "text": [
      "Val-Acc=0.8820391227030231\n",
      "Train-Acc=0.8841897233201581\n"
     ]
    },
    {
     "data": {
      "application/vnd.jupyter.widget-view+json": {
       "model_id": "",
       "version_major": 2,
       "version_minor": 0
      },
      "text/plain": [
       "HBox(children=(FloatProgress(value=1.0, bar_style='info', description='Validating', layout=Layout(flex='2'), m…"
      ]
     },
     "metadata": {},
     "output_type": "display_data"
    },
    {
     "name": "stdout",
     "output_type": "stream",
     "text": [
      "Val-Acc=0.8909306461173682\n",
      "Train-Acc=0.8873517786561265\n"
     ]
    },
    {
     "data": {
      "application/vnd.jupyter.widget-view+json": {
       "model_id": "",
       "version_major": 2,
       "version_minor": 0
      },
      "text/plain": [
       "HBox(children=(FloatProgress(value=1.0, bar_style='info', description='Validating', layout=Layout(flex='2'), m…"
      ]
     },
     "metadata": {},
     "output_type": "display_data"
    },
    {
     "name": "stdout",
     "output_type": "stream",
     "text": [
      "Val-Acc=0.8814463544754001\n",
      "Train-Acc=0.8913043478260869\n"
     ]
    },
    {
     "data": {
      "application/vnd.jupyter.widget-view+json": {
       "model_id": "",
       "version_major": 2,
       "version_minor": 0
      },
      "text/plain": [
       "HBox(children=(FloatProgress(value=1.0, bar_style='info', description='Validating', layout=Layout(flex='2'), m…"
      ]
     },
     "metadata": {},
     "output_type": "display_data"
    },
    {
     "name": "stdout",
     "output_type": "stream",
     "text": [
      "Val-Acc=0.8820391227030231\n",
      "Train-Acc=0.8895256916996047\n",
      "\n",
      "Saved model to \"saved_modelsq/72.p\"\n"
     ]
    },
    {
     "name": "stderr",
     "output_type": "stream",
     "text": [
      "[I 2020-07-15 00:49:36,149] Finished trial#72 with value: 0.8820391227030231 with parameters: {'learning_rate': 0.001261235140915541, 'p_drop': 0.2892790118388738, 'lr_decay': 0.969500703232696, 'n_hidden': 131, 'weight_decay': 0.001577411022036655}. Best is trial#44 with value: 0.8944872554831061.\n",
      "GPU available: True, used: True\n",
      "No environment variable for node rank defined. Set as 0.\n",
      "CUDA_VISIBLE_DEVICES: [0]\n",
      "Set SLURM handle signals.\n",
      "\n",
      "   | Name                      | Type                  | Params\n",
      "----------------------------------------------------------------\n",
      "0  | model                     | CRNN8k_D2             | 291 K \n",
      "1  | model.spec                | MelspectrogramStretch | 0     \n",
      "2  | model.spec.spectrogram    | Spectrogram           | 0     \n",
      "3  | model.spec.mel_scale      | MelScale              | 0     \n",
      "4  | model.spec.stft           | Spectrogram           | 0     \n",
      "5  | model.spec.random_stretch | RandomTimeStretch     | 0     \n",
      "6  | model.spec.complex_norm   | ComplexNorm           | 0     \n",
      "7  | model.spec.norm           | SpecNormalization     | 0     \n",
      "8  | model.convs               | Sequential            | 213 K \n",
      "9  | model.convs.0             | Conv2d                | 320   \n",
      "10 | model.convs.1             | BatchNorm2d           | 64    \n",
      "11 | model.convs.2             | ELU                   | 0     \n",
      "12 | model.convs.3             | Conv2d                | 9 K   \n",
      "13 | model.convs.4             | BatchNorm2d           | 64    \n",
      "14 | model.convs.5             | ELU                   | 0     \n",
      "15 | model.convs.6             | MaxPool2d             | 0     \n",
      "16 | model.convs.7             | Dropout               | 0     \n",
      "17 | model.convs.8             | Conv2d                | 18 K  \n",
      "18 | model.convs.9             | BatchNorm2d           | 128   \n",
      "19 | model.convs.10            | ELU                   | 0     \n",
      "20 | model.convs.11            | Conv2d                | 36 K  \n",
      "21 | model.convs.12            | BatchNorm2d           | 128   \n",
      "22 | model.convs.13            | ELU                   | 0     \n",
      "23 | model.convs.14            | MaxPool2d             | 0     \n",
      "24 | model.convs.15            | Dropout               | 0     \n",
      "25 | model.convs.16            | Conv2d                | 73 K  \n",
      "26 | model.convs.17            | BatchNorm2d           | 256   \n",
      "27 | model.convs.18            | ELU                   | 0     \n",
      "28 | model.convs.19            | MaxPool2d             | 0     \n",
      "29 | model.convs.20            | Dropout               | 0     \n",
      "30 | model.convs.21            | Conv2d                | 73 K  \n",
      "31 | model.convs.22            | BatchNorm2d           | 128   \n",
      "32 | model.convs.23            | ELU                   | 0     \n",
      "33 | model.convs.24            | MaxPool2d             | 0     \n",
      "34 | model.convs.25            | Dropout               | 0     \n",
      "35 | model.LSTMCell            | LSTMCell              | 77 K  \n",
      "36 | model.dense               | Sequential            | 210   \n",
      "37 | model.dense.0             | Dropout               | 0     \n",
      "38 | model.dense.1             | BatchNorm1d           | 104   \n",
      "39 | model.dense.2             | Linear                | 106   \n"
     ]
    },
    {
     "data": {
      "application/vnd.jupyter.widget-view+json": {
       "model_id": "",
       "version_major": 2,
       "version_minor": 0
      },
      "text/plain": [
       "HBox(children=(FloatProgress(value=1.0, bar_style='info', description='Validation sanity check', layout=Layout…"
      ]
     },
     "metadata": {},
     "output_type": "display_data"
    },
    {
     "name": "stdout",
     "output_type": "stream",
     "text": [
      "Val-Acc=0.03793716656787196\n"
     ]
    },
    {
     "data": {
      "application/vnd.jupyter.widget-view+json": {
       "model_id": "d51572bd6f1b4152ac69d65de5463837",
       "version_major": 2,
       "version_minor": 0
      },
      "text/plain": [
       "HBox(children=(FloatProgress(value=1.0, bar_style='info', description='Training', layout=Layout(flex='2'), max…"
      ]
     },
     "metadata": {},
     "output_type": "display_data"
    },
    {
     "data": {
      "application/vnd.jupyter.widget-view+json": {
       "model_id": "",
       "version_major": 2,
       "version_minor": 0
      },
      "text/plain": [
       "HBox(children=(FloatProgress(value=1.0, bar_style='info', description='Validating', layout=Layout(flex='2'), m…"
      ]
     },
     "metadata": {},
     "output_type": "display_data"
    },
    {
     "name": "stdout",
     "output_type": "stream",
     "text": [
      "Val-Acc=0.8227622999407231\n",
      "Train-Acc=0.8031620553359684\n"
     ]
    },
    {
     "data": {
      "application/vnd.jupyter.widget-view+json": {
       "model_id": "",
       "version_major": 2,
       "version_minor": 0
      },
      "text/plain": [
       "HBox(children=(FloatProgress(value=1.0, bar_style='info', description='Validating', layout=Layout(flex='2'), m…"
      ]
     },
     "metadata": {},
     "output_type": "display_data"
    },
    {
     "name": "stdout",
     "output_type": "stream",
     "text": [
      "Val-Acc=0.8156490812092472\n"
     ]
    },
    {
     "name": "stderr",
     "output_type": "stream",
     "text": [
      "[I 2020-07-15 00:49:52,359] Setting status of trial#73 as TrialState.PRUNED. Trial was pruned at epoch 1.\n",
      "GPU available: True, used: True\n",
      "No environment variable for node rank defined. Set as 0.\n",
      "CUDA_VISIBLE_DEVICES: [0]\n",
      "Set SLURM handle signals.\n",
      "\n",
      "   | Name                      | Type                  | Params\n",
      "----------------------------------------------------------------\n",
      "0  | model                     | CRNN8k_D2             | 399 K \n",
      "1  | model.spec                | MelspectrogramStretch | 0     \n",
      "2  | model.spec.spectrogram    | Spectrogram           | 0     \n",
      "3  | model.spec.mel_scale      | MelScale              | 0     \n",
      "4  | model.spec.stft           | Spectrogram           | 0     \n",
      "5  | model.spec.random_stretch | RandomTimeStretch     | 0     \n",
      "6  | model.spec.complex_norm   | ComplexNorm           | 0     \n",
      "7  | model.spec.norm           | SpecNormalization     | 0     \n",
      "8  | model.convs               | Sequential            | 213 K \n",
      "9  | model.convs.0             | Conv2d                | 320   \n",
      "10 | model.convs.1             | BatchNorm2d           | 64    \n",
      "11 | model.convs.2             | ELU                   | 0     \n",
      "12 | model.convs.3             | Conv2d                | 9 K   \n",
      "13 | model.convs.4             | BatchNorm2d           | 64    \n",
      "14 | model.convs.5             | ELU                   | 0     \n",
      "15 | model.convs.6             | MaxPool2d             | 0     \n",
      "16 | model.convs.7             | Dropout               | 0     \n",
      "17 | model.convs.8             | Conv2d                | 18 K  \n",
      "18 | model.convs.9             | BatchNorm2d           | 128   \n",
      "19 | model.convs.10            | ELU                   | 0     \n",
      "20 | model.convs.11            | Conv2d                | 36 K  \n",
      "21 | model.convs.12            | BatchNorm2d           | 128   \n",
      "22 | model.convs.13            | ELU                   | 0     \n",
      "23 | model.convs.14            | MaxPool2d             | 0     \n",
      "24 | model.convs.15            | Dropout               | 0     \n",
      "25 | model.convs.16            | Conv2d                | 73 K  \n",
      "26 | model.convs.17            | BatchNorm2d           | 256   \n",
      "27 | model.convs.18            | ELU                   | 0     \n",
      "28 | model.convs.19            | MaxPool2d             | 0     \n",
      "29 | model.convs.20            | Dropout               | 0     \n",
      "30 | model.convs.21            | Conv2d                | 73 K  \n",
      "31 | model.convs.22            | BatchNorm2d           | 128   \n",
      "32 | model.convs.23            | ELU                   | 0     \n",
      "33 | model.convs.24            | MaxPool2d             | 0     \n",
      "34 | model.convs.25            | Dropout               | 0     \n",
      "35 | model.LSTMCell            | LSTMCell              | 185 K \n",
      "36 | model.dense               | Sequential            | 434   \n",
      "37 | model.dense.0             | Dropout               | 0     \n",
      "38 | model.dense.1             | BatchNorm1d           | 216   \n",
      "39 | model.dense.2             | Linear                | 218   \n"
     ]
    },
    {
     "data": {
      "application/vnd.jupyter.widget-view+json": {
       "model_id": "",
       "version_major": 2,
       "version_minor": 0
      },
      "text/plain": [
       "HBox(children=(FloatProgress(value=1.0, bar_style='info', description='Validation sanity check', layout=Layout…"
      ]
     },
     "metadata": {},
     "output_type": "display_data"
    },
    {
     "name": "stdout",
     "output_type": "stream",
     "text": [
      "Val-Acc=0.03793716656787196\n"
     ]
    },
    {
     "data": {
      "application/vnd.jupyter.widget-view+json": {
       "model_id": "b39a6c68f0f54edf9facaaf61d2fbbc5",
       "version_major": 2,
       "version_minor": 0
      },
      "text/plain": [
       "HBox(children=(FloatProgress(value=1.0, bar_style='info', description='Training', layout=Layout(flex='2'), max…"
      ]
     },
     "metadata": {},
     "output_type": "display_data"
    },
    {
     "data": {
      "application/vnd.jupyter.widget-view+json": {
       "model_id": "",
       "version_major": 2,
       "version_minor": 0
      },
      "text/plain": [
       "HBox(children=(FloatProgress(value=1.0, bar_style='info', description='Validating', layout=Layout(flex='2'), m…"
      ]
     },
     "metadata": {},
     "output_type": "display_data"
    },
    {
     "name": "stdout",
     "output_type": "stream",
     "text": [
      "Val-Acc=0.8245406046235921\n",
      "Train-Acc=0.7970355731225296\n"
     ]
    },
    {
     "data": {
      "application/vnd.jupyter.widget-view+json": {
       "model_id": "",
       "version_major": 2,
       "version_minor": 0
      },
      "text/plain": [
       "HBox(children=(FloatProgress(value=1.0, bar_style='info', description='Validating', layout=Layout(flex='2'), m…"
      ]
     },
     "metadata": {},
     "output_type": "display_data"
    },
    {
     "name": "stdout",
     "output_type": "stream",
     "text": [
      "Val-Acc=0.8535862477771191\n",
      "Train-Acc=0.8314229249011857\n"
     ]
    },
    {
     "data": {
      "application/vnd.jupyter.widget-view+json": {
       "model_id": "",
       "version_major": 2,
       "version_minor": 0
      },
      "text/plain": [
       "HBox(children=(FloatProgress(value=1.0, bar_style='info', description='Validating', layout=Layout(flex='2'), m…"
      ]
     },
     "metadata": {},
     "output_type": "display_data"
    },
    {
     "name": "stdout",
     "output_type": "stream",
     "text": [
      "Val-Acc=0.8606994665085952\n",
      "Train-Acc=0.8446640316205534\n"
     ]
    },
    {
     "data": {
      "application/vnd.jupyter.widget-view+json": {
       "model_id": "",
       "version_major": 2,
       "version_minor": 0
      },
      "text/plain": [
       "HBox(children=(FloatProgress(value=1.0, bar_style='info', description='Validating', layout=Layout(flex='2'), m…"
      ]
     },
     "metadata": {},
     "output_type": "display_data"
    },
    {
     "name": "stdout",
     "output_type": "stream",
     "text": [
      "Val-Acc=0.8328393598103142\n",
      "Train-Acc=0.8573122529644269\n"
     ]
    },
    {
     "data": {
      "application/vnd.jupyter.widget-view+json": {
       "model_id": "",
       "version_major": 2,
       "version_minor": 0
      },
      "text/plain": [
       "HBox(children=(FloatProgress(value=1.0, bar_style='info', description='Validating', layout=Layout(flex='2'), m…"
      ]
     },
     "metadata": {},
     "output_type": "display_data"
    },
    {
     "name": "stdout",
     "output_type": "stream",
     "text": [
      "Val-Acc=0.8660343805572022\n",
      "Train-Acc=0.8588932806324111\n"
     ]
    },
    {
     "data": {
      "application/vnd.jupyter.widget-view+json": {
       "model_id": "",
       "version_major": 2,
       "version_minor": 0
      },
      "text/plain": [
       "HBox(children=(FloatProgress(value=1.0, bar_style='info', description='Validating', layout=Layout(flex='2'), m…"
      ]
     },
     "metadata": {},
     "output_type": "display_data"
    },
    {
     "name": "stdout",
     "output_type": "stream",
     "text": [
      "Val-Acc=0.8767042086544161\n",
      "Train-Acc=0.866798418972332\n"
     ]
    },
    {
     "data": {
      "application/vnd.jupyter.widget-view+json": {
       "model_id": "",
       "version_major": 2,
       "version_minor": 0
      },
      "text/plain": [
       "HBox(children=(FloatProgress(value=1.0, bar_style='info', description='Validating', layout=Layout(flex='2'), m…"
      ]
     },
     "metadata": {},
     "output_type": "display_data"
    },
    {
     "name": "stdout",
     "output_type": "stream",
     "text": [
      "Val-Acc=0.8725548310610551\n",
      "Train-Acc=0.8756916996047431\n"
     ]
    },
    {
     "data": {
      "application/vnd.jupyter.widget-view+json": {
       "model_id": "",
       "version_major": 2,
       "version_minor": 0
      },
      "text/plain": [
       "HBox(children=(FloatProgress(value=1.0, bar_style='info', description='Validating', layout=Layout(flex='2'), m…"
      ]
     },
     "metadata": {},
     "output_type": "display_data"
    },
    {
     "name": "stdout",
     "output_type": "stream",
     "text": [
      "Val-Acc=0.8618850029638412\n",
      "Train-Acc=0.8792490118577075\n"
     ]
    },
    {
     "data": {
      "application/vnd.jupyter.widget-view+json": {
       "model_id": "",
       "version_major": 2,
       "version_minor": 0
      },
      "text/plain": [
       "HBox(children=(FloatProgress(value=1.0, bar_style='info', description='Validating', layout=Layout(flex='2'), m…"
      ]
     },
     "metadata": {},
     "output_type": "display_data"
    },
    {
     "name": "stdout",
     "output_type": "stream",
     "text": [
      "Val-Acc=0.8612922347362182\n",
      "Train-Acc=0.8798418972332016\n"
     ]
    },
    {
     "data": {
      "application/vnd.jupyter.widget-view+json": {
       "model_id": "",
       "version_major": 2,
       "version_minor": 0
      },
      "text/plain": [
       "HBox(children=(FloatProgress(value=1.0, bar_style='info', description='Validating', layout=Layout(flex='2'), m…"
      ]
     },
     "metadata": {},
     "output_type": "display_data"
    },
    {
     "name": "stdout",
     "output_type": "stream",
     "text": [
      "Val-Acc=0.8790752815649081\n",
      "Train-Acc=0.8794466403162056\n"
     ]
    },
    {
     "data": {
      "application/vnd.jupyter.widget-view+json": {
       "model_id": "",
       "version_major": 2,
       "version_minor": 0
      },
      "text/plain": [
       "HBox(children=(FloatProgress(value=1.0, bar_style='info', description='Validating', layout=Layout(flex='2'), m…"
      ]
     },
     "metadata": {},
     "output_type": "display_data"
    },
    {
     "name": "stdout",
     "output_type": "stream",
     "text": [
      "Val-Acc=0.8885595732068761\n",
      "Train-Acc=0.8891304347826087\n"
     ]
    },
    {
     "data": {
      "application/vnd.jupyter.widget-view+json": {
       "model_id": "",
       "version_major": 2,
       "version_minor": 0
      },
      "text/plain": [
       "HBox(children=(FloatProgress(value=1.0, bar_style='info', description='Validating', layout=Layout(flex='2'), m…"
      ]
     },
     "metadata": {},
     "output_type": "display_data"
    },
    {
     "name": "stdout",
     "output_type": "stream",
     "text": [
      "Val-Acc=0.8885595732068761\n",
      "Train-Acc=0.8926877470355731\n"
     ]
    },
    {
     "data": {
      "application/vnd.jupyter.widget-view+json": {
       "model_id": "",
       "version_major": 2,
       "version_minor": 0
      },
      "text/plain": [
       "HBox(children=(FloatProgress(value=1.0, bar_style='info', description='Validating', layout=Layout(flex='2'), m…"
      ]
     },
     "metadata": {},
     "output_type": "display_data"
    },
    {
     "name": "stdout",
     "output_type": "stream",
     "text": [
      "Val-Acc=0.8725548310610551\n",
      "Train-Acc=0.8976284584980238\n"
     ]
    },
    {
     "data": {
      "application/vnd.jupyter.widget-view+json": {
       "model_id": "",
       "version_major": 2,
       "version_minor": 0
      },
      "text/plain": [
       "HBox(children=(FloatProgress(value=1.0, bar_style='info', description='Validating', layout=Layout(flex='2'), m…"
      ]
     },
     "metadata": {},
     "output_type": "display_data"
    },
    {
     "name": "stdout",
     "output_type": "stream",
     "text": [
      "Val-Acc=0.8832246591582691\n",
      "Train-Acc=0.8950592885375495\n"
     ]
    },
    {
     "data": {
      "application/vnd.jupyter.widget-view+json": {
       "model_id": "",
       "version_major": 2,
       "version_minor": 0
      },
      "text/plain": [
       "HBox(children=(FloatProgress(value=1.0, bar_style='info', description='Validating', layout=Layout(flex='2'), m…"
      ]
     },
     "metadata": {},
     "output_type": "display_data"
    },
    {
     "name": "stdout",
     "output_type": "stream",
     "text": [
      "Val-Acc=0.8867812685240071\n",
      "Train-Acc=0.899802371541502\n",
      "\n",
      "Saved model to \"saved_modelsq/74.p\"\n"
     ]
    },
    {
     "name": "stderr",
     "output_type": "stream",
     "text": [
      "[I 2020-07-15 00:51:51,052] Finished trial#74 with value: 0.8867812685240071 with parameters: {'learning_rate': 0.00042870060916745456, 'p_drop': 0.14331403748844013, 'lr_decay': 0.9733640660132222, 'n_hidden': 108, 'weight_decay': 0.0003243394517466671}. Best is trial#44 with value: 0.8944872554831061.\n",
      "GPU available: True, used: True\n",
      "No environment variable for node rank defined. Set as 0.\n",
      "CUDA_VISIBLE_DEVICES: [0]\n",
      "Set SLURM handle signals.\n",
      "\n",
      "   | Name                      | Type                  | Params\n",
      "----------------------------------------------------------------\n",
      "0  | model                     | CRNN8k_D2             | 512 K \n",
      "1  | model.spec                | MelspectrogramStretch | 0     \n",
      "2  | model.spec.spectrogram    | Spectrogram           | 0     \n",
      "3  | model.spec.mel_scale      | MelScale              | 0     \n",
      "4  | model.spec.stft           | Spectrogram           | 0     \n",
      "5  | model.spec.random_stretch | RandomTimeStretch     | 0     \n",
      "6  | model.spec.complex_norm   | ComplexNorm           | 0     \n",
      "7  | model.spec.norm           | SpecNormalization     | 0     \n",
      "8  | model.convs               | Sequential            | 213 K \n",
      "9  | model.convs.0             | Conv2d                | 320   \n",
      "10 | model.convs.1             | BatchNorm2d           | 64    \n",
      "11 | model.convs.2             | ELU                   | 0     \n",
      "12 | model.convs.3             | Conv2d                | 9 K   \n",
      "13 | model.convs.4             | BatchNorm2d           | 64    \n",
      "14 | model.convs.5             | ELU                   | 0     \n",
      "15 | model.convs.6             | MaxPool2d             | 0     \n",
      "16 | model.convs.7             | Dropout               | 0     \n",
      "17 | model.convs.8             | Conv2d                | 18 K  \n",
      "18 | model.convs.9             | BatchNorm2d           | 128   \n",
      "19 | model.convs.10            | ELU                   | 0     \n",
      "20 | model.convs.11            | Conv2d                | 36 K  \n",
      "21 | model.convs.12            | BatchNorm2d           | 128   \n",
      "22 | model.convs.13            | ELU                   | 0     \n",
      "23 | model.convs.14            | MaxPool2d             | 0     \n",
      "24 | model.convs.15            | Dropout               | 0     \n",
      "25 | model.convs.16            | Conv2d                | 73 K  \n",
      "26 | model.convs.17            | BatchNorm2d           | 256   \n",
      "27 | model.convs.18            | ELU                   | 0     \n",
      "28 | model.convs.19            | MaxPool2d             | 0     \n",
      "29 | model.convs.20            | Dropout               | 0     \n",
      "30 | model.convs.21            | Conv2d                | 73 K  \n",
      "31 | model.convs.22            | BatchNorm2d           | 128   \n",
      "32 | model.convs.23            | ELU                   | 0     \n",
      "33 | model.convs.24            | MaxPool2d             | 0     \n",
      "34 | model.convs.25            | Dropout               | 0     \n",
      "35 | model.LSTMCell            | LSTMCell              | 298 K \n",
      "36 | model.dense               | Sequential            | 626   \n",
      "37 | model.dense.0             | Dropout               | 0     \n",
      "38 | model.dense.1             | BatchNorm1d           | 312   \n",
      "39 | model.dense.2             | Linear                | 314   \n"
     ]
    },
    {
     "data": {
      "application/vnd.jupyter.widget-view+json": {
       "model_id": "",
       "version_major": 2,
       "version_minor": 0
      },
      "text/plain": [
       "HBox(children=(FloatProgress(value=1.0, bar_style='info', description='Validation sanity check', layout=Layout…"
      ]
     },
     "metadata": {},
     "output_type": "display_data"
    },
    {
     "name": "stdout",
     "output_type": "stream",
     "text": [
      "Val-Acc=0.03793716656787196\n"
     ]
    },
    {
     "data": {
      "application/vnd.jupyter.widget-view+json": {
       "model_id": "26e104ccfdba4147aa0c64e351749c7b",
       "version_major": 2,
       "version_minor": 0
      },
      "text/plain": [
       "HBox(children=(FloatProgress(value=1.0, bar_style='info', description='Training', layout=Layout(flex='2'), max…"
      ]
     },
     "metadata": {},
     "output_type": "display_data"
    },
    {
     "data": {
      "application/vnd.jupyter.widget-view+json": {
       "model_id": "",
       "version_major": 2,
       "version_minor": 0
      },
      "text/plain": [
       "HBox(children=(FloatProgress(value=1.0, bar_style='info', description='Validating', layout=Layout(flex='2'), m…"
      ]
     },
     "metadata": {},
     "output_type": "display_data"
    },
    {
     "name": "stdout",
     "output_type": "stream",
     "text": [
      "Val-Acc=0.8363959691760522\n",
      "Train-Acc=0.7970355731225296\n"
     ]
    },
    {
     "data": {
      "application/vnd.jupyter.widget-view+json": {
       "model_id": "",
       "version_major": 2,
       "version_minor": 0
      },
      "text/plain": [
       "HBox(children=(FloatProgress(value=1.0, bar_style='info', description='Validating', layout=Layout(flex='2'), m…"
      ]
     },
     "metadata": {},
     "output_type": "display_data"
    },
    {
     "name": "stdout",
     "output_type": "stream",
     "text": [
      "Val-Acc=0.8535862477771191\n",
      "Train-Acc=0.8343873517786561\n"
     ]
    },
    {
     "data": {
      "application/vnd.jupyter.widget-view+json": {
       "model_id": "",
       "version_major": 2,
       "version_minor": 0
      },
      "text/plain": [
       "HBox(children=(FloatProgress(value=1.0, bar_style='info', description='Validating', layout=Layout(flex='2'), m…"
      ]
     },
     "metadata": {},
     "output_type": "display_data"
    },
    {
     "name": "stdout",
     "output_type": "stream",
     "text": [
      "Val-Acc=0.8553645524599881\n",
      "Train-Acc=0.8507905138339921\n"
     ]
    },
    {
     "data": {
      "application/vnd.jupyter.widget-view+json": {
       "model_id": "",
       "version_major": 2,
       "version_minor": 0
      },
      "text/plain": [
       "HBox(children=(FloatProgress(value=1.0, bar_style='info', description='Validating', layout=Layout(flex='2'), m…"
      ]
     },
     "metadata": {},
     "output_type": "display_data"
    },
    {
     "name": "stdout",
     "output_type": "stream",
     "text": [
      "Val-Acc=0.8624777711914642\n",
      "Train-Acc=0.8634387351778656\n"
     ]
    },
    {
     "data": {
      "application/vnd.jupyter.widget-view+json": {
       "model_id": "",
       "version_major": 2,
       "version_minor": 0
      },
      "text/plain": [
       "HBox(children=(FloatProgress(value=1.0, bar_style='info', description='Validating', layout=Layout(flex='2'), m…"
      ]
     },
     "metadata": {},
     "output_type": "display_data"
    },
    {
     "name": "stdout",
     "output_type": "stream",
     "text": [
      "Val-Acc=0.8524007113218731\n"
     ]
    },
    {
     "name": "stderr",
     "output_type": "stream",
     "text": [
      "[I 2020-07-15 00:52:31,905] Setting status of trial#75 as TrialState.PRUNED. Trial was pruned at epoch 4.\n",
      "GPU available: True, used: True\n",
      "No environment variable for node rank defined. Set as 0.\n",
      "CUDA_VISIBLE_DEVICES: [0]\n",
      "Set SLURM handle signals.\n",
      "\n",
      "   | Name                      | Type                  | Params\n",
      "----------------------------------------------------------------\n",
      "0  | model                     | CRNN8k_D2             | 423 K \n",
      "1  | model.spec                | MelspectrogramStretch | 0     \n",
      "2  | model.spec.spectrogram    | Spectrogram           | 0     \n",
      "3  | model.spec.mel_scale      | MelScale              | 0     \n",
      "4  | model.spec.stft           | Spectrogram           | 0     \n",
      "5  | model.spec.random_stretch | RandomTimeStretch     | 0     \n",
      "6  | model.spec.complex_norm   | ComplexNorm           | 0     \n",
      "7  | model.spec.norm           | SpecNormalization     | 0     \n",
      "8  | model.convs               | Sequential            | 213 K \n",
      "9  | model.convs.0             | Conv2d                | 320   \n",
      "10 | model.convs.1             | BatchNorm2d           | 64    \n",
      "11 | model.convs.2             | ELU                   | 0     \n",
      "12 | model.convs.3             | Conv2d                | 9 K   \n",
      "13 | model.convs.4             | BatchNorm2d           | 64    \n",
      "14 | model.convs.5             | ELU                   | 0     \n",
      "15 | model.convs.6             | MaxPool2d             | 0     \n",
      "16 | model.convs.7             | Dropout               | 0     \n",
      "17 | model.convs.8             | Conv2d                | 18 K  \n",
      "18 | model.convs.9             | BatchNorm2d           | 128   \n",
      "19 | model.convs.10            | ELU                   | 0     \n",
      "20 | model.convs.11            | Conv2d                | 36 K  \n",
      "21 | model.convs.12            | BatchNorm2d           | 128   \n",
      "22 | model.convs.13            | ELU                   | 0     \n",
      "23 | model.convs.14            | MaxPool2d             | 0     \n",
      "24 | model.convs.15            | Dropout               | 0     \n",
      "25 | model.convs.16            | Conv2d                | 73 K  \n",
      "26 | model.convs.17            | BatchNorm2d           | 256   \n",
      "27 | model.convs.18            | ELU                   | 0     \n",
      "28 | model.convs.19            | MaxPool2d             | 0     \n",
      "29 | model.convs.20            | Dropout               | 0     \n",
      "30 | model.convs.21            | Conv2d                | 73 K  \n",
      "31 | model.convs.22            | BatchNorm2d           | 128   \n",
      "32 | model.convs.23            | ELU                   | 0     \n",
      "33 | model.convs.24            | MaxPool2d             | 0     \n",
      "34 | model.convs.25            | Dropout               | 0     \n",
      "35 | model.LSTMCell            | LSTMCell              | 209 K \n",
      "36 | model.dense               | Sequential            | 478   \n",
      "37 | model.dense.0             | Dropout               | 0     \n",
      "38 | model.dense.1             | BatchNorm1d           | 238   \n",
      "39 | model.dense.2             | Linear                | 240   \n"
     ]
    },
    {
     "data": {
      "application/vnd.jupyter.widget-view+json": {
       "model_id": "",
       "version_major": 2,
       "version_minor": 0
      },
      "text/plain": [
       "HBox(children=(FloatProgress(value=1.0, bar_style='info', description='Validation sanity check', layout=Layout…"
      ]
     },
     "metadata": {},
     "output_type": "display_data"
    },
    {
     "name": "stdout",
     "output_type": "stream",
     "text": [
      "Val-Acc=0.03793716656787196\n"
     ]
    },
    {
     "data": {
      "application/vnd.jupyter.widget-view+json": {
       "model_id": "1f19cc4124674eef981d702250e62fee",
       "version_major": 2,
       "version_minor": 0
      },
      "text/plain": [
       "HBox(children=(FloatProgress(value=1.0, bar_style='info', description='Training', layout=Layout(flex='2'), max…"
      ]
     },
     "metadata": {},
     "output_type": "display_data"
    },
    {
     "data": {
      "application/vnd.jupyter.widget-view+json": {
       "model_id": "",
       "version_major": 2,
       "version_minor": 0
      },
      "text/plain": [
       "HBox(children=(FloatProgress(value=1.0, bar_style='info', description='Validating', layout=Layout(flex='2'), m…"
      ]
     },
     "metadata": {},
     "output_type": "display_data"
    },
    {
     "name": "stdout",
     "output_type": "stream",
     "text": [
      "Val-Acc=0.8352104327208062\n",
      "Train-Acc=0.7928853754940711\n"
     ]
    },
    {
     "data": {
      "application/vnd.jupyter.widget-view+json": {
       "model_id": "",
       "version_major": 2,
       "version_minor": 0
      },
      "text/plain": [
       "HBox(children=(FloatProgress(value=1.0, bar_style='info', description='Validating', layout=Layout(flex='2'), m…"
      ]
     },
     "metadata": {},
     "output_type": "display_data"
    },
    {
     "name": "stdout",
     "output_type": "stream",
     "text": [
      "Val-Acc=0.8203912270302312\n",
      "Train-Acc=0.8357707509881422\n"
     ]
    },
    {
     "data": {
      "application/vnd.jupyter.widget-view+json": {
       "model_id": "",
       "version_major": 2,
       "version_minor": 0
      },
      "text/plain": [
       "HBox(children=(FloatProgress(value=1.0, bar_style='info', description='Validating', layout=Layout(flex='2'), m…"
      ]
     },
     "metadata": {},
     "output_type": "display_data"
    },
    {
     "name": "stdout",
     "output_type": "stream",
     "text": [
      "Val-Acc=0.8340248962655602\n"
     ]
    },
    {
     "name": "stderr",
     "output_type": "stream",
     "text": [
      "[I 2020-07-15 00:52:55,867] Setting status of trial#76 as TrialState.PRUNED. Trial was pruned at epoch 2.\n",
      "GPU available: True, used: True\n",
      "No environment variable for node rank defined. Set as 0.\n",
      "CUDA_VISIBLE_DEVICES: [0]\n",
      "Set SLURM handle signals.\n",
      "\n",
      "   | Name                      | Type                  | Params\n",
      "----------------------------------------------------------------\n",
      "0  | model                     | CRNN8k_D2             | 853 K \n",
      "1  | model.spec                | MelspectrogramStretch | 0     \n",
      "2  | model.spec.spectrogram    | Spectrogram           | 0     \n",
      "3  | model.spec.mel_scale      | MelScale              | 0     \n",
      "4  | model.spec.stft           | Spectrogram           | 0     \n",
      "5  | model.spec.random_stretch | RandomTimeStretch     | 0     \n",
      "6  | model.spec.complex_norm   | ComplexNorm           | 0     \n",
      "7  | model.spec.norm           | SpecNormalization     | 0     \n",
      "8  | model.convs               | Sequential            | 213 K \n",
      "9  | model.convs.0             | Conv2d                | 320   \n",
      "10 | model.convs.1             | BatchNorm2d           | 64    \n",
      "11 | model.convs.2             | ELU                   | 0     \n",
      "12 | model.convs.3             | Conv2d                | 9 K   \n",
      "13 | model.convs.4             | BatchNorm2d           | 64    \n",
      "14 | model.convs.5             | ELU                   | 0     \n",
      "15 | model.convs.6             | MaxPool2d             | 0     \n",
      "16 | model.convs.7             | Dropout               | 0     \n",
      "17 | model.convs.8             | Conv2d                | 18 K  \n",
      "18 | model.convs.9             | BatchNorm2d           | 128   \n",
      "19 | model.convs.10            | ELU                   | 0     \n",
      "20 | model.convs.11            | Conv2d                | 36 K  \n",
      "21 | model.convs.12            | BatchNorm2d           | 128   \n",
      "22 | model.convs.13            | ELU                   | 0     \n",
      "23 | model.convs.14            | MaxPool2d             | 0     \n",
      "24 | model.convs.15            | Dropout               | 0     \n",
      "25 | model.convs.16            | Conv2d                | 73 K  \n",
      "26 | model.convs.17            | BatchNorm2d           | 256   \n",
      "27 | model.convs.18            | ELU                   | 0     \n",
      "28 | model.convs.19            | MaxPool2d             | 0     \n",
      "29 | model.convs.20            | Dropout               | 0     \n",
      "30 | model.convs.21            | Conv2d                | 73 K  \n",
      "31 | model.convs.22            | BatchNorm2d           | 128   \n",
      "32 | model.convs.23            | ELU                   | 0     \n",
      "33 | model.convs.24            | MaxPool2d             | 0     \n",
      "34 | model.convs.25            | Dropout               | 0     \n",
      "35 | model.LSTMCell            | LSTMCell              | 639 K \n",
      "36 | model.dense               | Sequential            | 1 K   \n",
      "37 | model.dense.0             | Dropout               | 0     \n",
      "38 | model.dense.1             | BatchNorm1d           | 540   \n",
      "39 | model.dense.2             | Linear                | 542   \n"
     ]
    },
    {
     "data": {
      "application/vnd.jupyter.widget-view+json": {
       "model_id": "",
       "version_major": 2,
       "version_minor": 0
      },
      "text/plain": [
       "HBox(children=(FloatProgress(value=1.0, bar_style='info', description='Validation sanity check', layout=Layout…"
      ]
     },
     "metadata": {},
     "output_type": "display_data"
    },
    {
     "name": "stdout",
     "output_type": "stream",
     "text": [
      "Val-Acc=0.03793716656787196\n"
     ]
    },
    {
     "data": {
      "application/vnd.jupyter.widget-view+json": {
       "model_id": "1f1c7ec254a449fdb8e93c35034b13c2",
       "version_major": 2,
       "version_minor": 0
      },
      "text/plain": [
       "HBox(children=(FloatProgress(value=1.0, bar_style='info', description='Training', layout=Layout(flex='2'), max…"
      ]
     },
     "metadata": {},
     "output_type": "display_data"
    },
    {
     "data": {
      "application/vnd.jupyter.widget-view+json": {
       "model_id": "",
       "version_major": 2,
       "version_minor": 0
      },
      "text/plain": [
       "HBox(children=(FloatProgress(value=1.0, bar_style='info', description='Validating', layout=Layout(flex='2'), m…"
      ]
     },
     "metadata": {},
     "output_type": "display_data"
    },
    {
     "name": "stdout",
     "output_type": "stream",
     "text": [
      "Val-Acc=0.8393598103141672\n",
      "Train-Acc=0.8015810276679842\n"
     ]
    },
    {
     "data": {
      "application/vnd.jupyter.widget-view+json": {
       "model_id": "",
       "version_major": 2,
       "version_minor": 0
      },
      "text/plain": [
       "HBox(children=(FloatProgress(value=1.0, bar_style='info', description='Validating', layout=Layout(flex='2'), m…"
      ]
     },
     "metadata": {},
     "output_type": "display_data"
    },
    {
     "name": "stdout",
     "output_type": "stream",
     "text": [
      "Val-Acc=0.8435091879075282\n",
      "Train-Acc=0.8426877470355731\n"
     ]
    },
    {
     "data": {
      "application/vnd.jupyter.widget-view+json": {
       "model_id": "",
       "version_major": 2,
       "version_minor": 0
      },
      "text/plain": [
       "HBox(children=(FloatProgress(value=1.0, bar_style='info', description='Validating', layout=Layout(flex='2'), m…"
      ]
     },
     "metadata": {},
     "output_type": "display_data"
    },
    {
     "name": "stdout",
     "output_type": "stream",
     "text": [
      "Val-Acc=0.8630705394190872\n",
      "Train-Acc=0.850592885375494\n"
     ]
    },
    {
     "data": {
      "application/vnd.jupyter.widget-view+json": {
       "model_id": "",
       "version_major": 2,
       "version_minor": 0
      },
      "text/plain": [
       "HBox(children=(FloatProgress(value=1.0, bar_style='info', description='Validating', layout=Layout(flex='2'), m…"
      ]
     },
     "metadata": {},
     "output_type": "display_data"
    },
    {
     "name": "stdout",
     "output_type": "stream",
     "text": [
      "Val-Acc=0.8601066982809722\n",
      "Train-Acc=0.8701581027667984\n"
     ]
    },
    {
     "data": {
      "application/vnd.jupyter.widget-view+json": {
       "model_id": "",
       "version_major": 2,
       "version_minor": 0
      },
      "text/plain": [
       "HBox(children=(FloatProgress(value=1.0, bar_style='info', description='Validating', layout=Layout(flex='2'), m…"
      ]
     },
     "metadata": {},
     "output_type": "display_data"
    },
    {
     "name": "stdout",
     "output_type": "stream",
     "text": [
      "Val-Acc=0.8666271487848252\n",
      "Train-Acc=0.8752964426877471\n"
     ]
    },
    {
     "data": {
      "application/vnd.jupyter.widget-view+json": {
       "model_id": "",
       "version_major": 2,
       "version_minor": 0
      },
      "text/plain": [
       "HBox(children=(FloatProgress(value=1.0, bar_style='info', description='Validating', layout=Layout(flex='2'), m…"
      ]
     },
     "metadata": {},
     "output_type": "display_data"
    },
    {
     "name": "stdout",
     "output_type": "stream",
     "text": [
      "Val-Acc=0.8684054534676942\n",
      "Train-Acc=0.8875494071146245\n"
     ]
    },
    {
     "data": {
      "application/vnd.jupyter.widget-view+json": {
       "model_id": "",
       "version_major": 2,
       "version_minor": 0
      },
      "text/plain": [
       "HBox(children=(FloatProgress(value=1.0, bar_style='info', description='Validating', layout=Layout(flex='2'), m…"
      ]
     },
     "metadata": {},
     "output_type": "display_data"
    },
    {
     "name": "stdout",
     "output_type": "stream",
     "text": [
      "Val-Acc=0.8749259039715471\n",
      "Train-Acc=0.8974308300395257\n"
     ]
    },
    {
     "data": {
      "application/vnd.jupyter.widget-view+json": {
       "model_id": "",
       "version_major": 2,
       "version_minor": 0
      },
      "text/plain": [
       "HBox(children=(FloatProgress(value=1.0, bar_style='info', description='Validating', layout=Layout(flex='2'), m…"
      ]
     },
     "metadata": {},
     "output_type": "display_data"
    },
    {
     "name": "stdout",
     "output_type": "stream",
     "text": [
      "Val-Acc=0.8707765263781861\n",
      "Train-Acc=0.899802371541502\n"
     ]
    },
    {
     "data": {
      "application/vnd.jupyter.widget-view+json": {
       "model_id": "",
       "version_major": 2,
       "version_minor": 0
      },
      "text/plain": [
       "HBox(children=(FloatProgress(value=1.0, bar_style='info', description='Validating', layout=Layout(flex='2'), m…"
      ]
     },
     "metadata": {},
     "output_type": "display_data"
    },
    {
     "name": "stdout",
     "output_type": "stream",
     "text": [
      "Val-Acc=0.8743331357439241\n",
      "Train-Acc=0.9\n"
     ]
    },
    {
     "data": {
      "application/vnd.jupyter.widget-view+json": {
       "model_id": "",
       "version_major": 2,
       "version_minor": 0
      },
      "text/plain": [
       "HBox(children=(FloatProgress(value=1.0, bar_style='info', description='Validating', layout=Layout(flex='2'), m…"
      ]
     },
     "metadata": {},
     "output_type": "display_data"
    },
    {
     "name": "stdout",
     "output_type": "stream",
     "text": [
      "Val-Acc=0.8707765263781861\n",
      "Train-Acc=0.9049407114624506\n"
     ]
    },
    {
     "data": {
      "application/vnd.jupyter.widget-view+json": {
       "model_id": "",
       "version_major": 2,
       "version_minor": 0
      },
      "text/plain": [
       "HBox(children=(FloatProgress(value=1.0, bar_style='info', description='Validating', layout=Layout(flex='2'), m…"
      ]
     },
     "metadata": {},
     "output_type": "display_data"
    },
    {
     "name": "stdout",
     "output_type": "stream",
     "text": [
      "Val-Acc=0.8737403675163011\n",
      "Train-Acc=0.9138339920948617\n"
     ]
    },
    {
     "data": {
      "application/vnd.jupyter.widget-view+json": {
       "model_id": "",
       "version_major": 2,
       "version_minor": 0
      },
      "text/plain": [
       "HBox(children=(FloatProgress(value=1.0, bar_style='info', description='Validating', layout=Layout(flex='2'), m…"
      ]
     },
     "metadata": {},
     "output_type": "display_data"
    },
    {
     "name": "stdout",
     "output_type": "stream",
     "text": [
      "Val-Acc=0.8725548310610551\n"
     ]
    },
    {
     "name": "stderr",
     "output_type": "stream",
     "text": [
      "[I 2020-07-15 00:54:31,290] Setting status of trial#77 as TrialState.PRUNED. Trial was pruned at epoch 11.\n",
      "GPU available: True, used: True\n",
      "No environment variable for node rank defined. Set as 0.\n",
      "CUDA_VISIBLE_DEVICES: [0]\n",
      "Set SLURM handle signals.\n",
      "\n",
      "   | Name                      | Type                  | Params\n",
      "----------------------------------------------------------------\n",
      "0  | model                     | CRNN8k_D2             | 697 K \n",
      "1  | model.spec                | MelspectrogramStretch | 0     \n",
      "2  | model.spec.spectrogram    | Spectrogram           | 0     \n",
      "3  | model.spec.mel_scale      | MelScale              | 0     \n",
      "4  | model.spec.stft           | Spectrogram           | 0     \n",
      "5  | model.spec.random_stretch | RandomTimeStretch     | 0     \n",
      "6  | model.spec.complex_norm   | ComplexNorm           | 0     \n",
      "7  | model.spec.norm           | SpecNormalization     | 0     \n",
      "8  | model.convs               | Sequential            | 213 K \n",
      "9  | model.convs.0             | Conv2d                | 320   \n",
      "10 | model.convs.1             | BatchNorm2d           | 64    \n",
      "11 | model.convs.2             | ELU                   | 0     \n",
      "12 | model.convs.3             | Conv2d                | 9 K   \n",
      "13 | model.convs.4             | BatchNorm2d           | 64    \n",
      "14 | model.convs.5             | ELU                   | 0     \n",
      "15 | model.convs.6             | MaxPool2d             | 0     \n",
      "16 | model.convs.7             | Dropout               | 0     \n",
      "17 | model.convs.8             | Conv2d                | 18 K  \n",
      "18 | model.convs.9             | BatchNorm2d           | 128   \n",
      "19 | model.convs.10            | ELU                   | 0     \n",
      "20 | model.convs.11            | Conv2d                | 36 K  \n",
      "21 | model.convs.12            | BatchNorm2d           | 128   \n",
      "22 | model.convs.13            | ELU                   | 0     \n",
      "23 | model.convs.14            | MaxPool2d             | 0     \n",
      "24 | model.convs.15            | Dropout               | 0     \n",
      "25 | model.convs.16            | Conv2d                | 73 K  \n",
      "26 | model.convs.17            | BatchNorm2d           | 256   \n",
      "27 | model.convs.18            | ELU                   | 0     \n",
      "28 | model.convs.19            | MaxPool2d             | 0     \n",
      "29 | model.convs.20            | Dropout               | 0     \n",
      "30 | model.convs.21            | Conv2d                | 73 K  \n",
      "31 | model.convs.22            | BatchNorm2d           | 128   \n",
      "32 | model.convs.23            | ELU                   | 0     \n",
      "33 | model.convs.24            | MaxPool2d             | 0     \n",
      "34 | model.convs.25            | Dropout               | 0     \n",
      "35 | model.LSTMCell            | LSTMCell              | 483 K \n",
      "36 | model.dense               | Sequential            | 890   \n",
      "37 | model.dense.0             | Dropout               | 0     \n",
      "38 | model.dense.1             | BatchNorm1d           | 444   \n",
      "39 | model.dense.2             | Linear                | 446   \n"
     ]
    },
    {
     "data": {
      "application/vnd.jupyter.widget-view+json": {
       "model_id": "",
       "version_major": 2,
       "version_minor": 0
      },
      "text/plain": [
       "HBox(children=(FloatProgress(value=1.0, bar_style='info', description='Validation sanity check', layout=Layout…"
      ]
     },
     "metadata": {},
     "output_type": "display_data"
    },
    {
     "name": "stdout",
     "output_type": "stream",
     "text": [
      "Val-Acc=0.03793716656787196\n"
     ]
    },
    {
     "data": {
      "application/vnd.jupyter.widget-view+json": {
       "model_id": "66df4473bca24d90a56b0e1e32b7b18b",
       "version_major": 2,
       "version_minor": 0
      },
      "text/plain": [
       "HBox(children=(FloatProgress(value=1.0, bar_style='info', description='Training', layout=Layout(flex='2'), max…"
      ]
     },
     "metadata": {},
     "output_type": "display_data"
    },
    {
     "data": {
      "application/vnd.jupyter.widget-view+json": {
       "model_id": "",
       "version_major": 2,
       "version_minor": 0
      },
      "text/plain": [
       "HBox(children=(FloatProgress(value=1.0, bar_style='info', description='Validating', layout=Layout(flex='2'), m…"
      ]
     },
     "metadata": {},
     "output_type": "display_data"
    },
    {
     "name": "stdout",
     "output_type": "stream",
     "text": [
      "Val-Acc=0.8352104327208062\n",
      "Train-Acc=0.7792490118577076\n"
     ]
    },
    {
     "data": {
      "application/vnd.jupyter.widget-view+json": {
       "model_id": "",
       "version_major": 2,
       "version_minor": 0
      },
      "text/plain": [
       "HBox(children=(FloatProgress(value=1.0, bar_style='info', description='Validating', layout=Layout(flex='2'), m…"
      ]
     },
     "metadata": {},
     "output_type": "display_data"
    },
    {
     "name": "stdout",
     "output_type": "stream",
     "text": [
      "Val-Acc=0.8541790160047421\n",
      "Train-Acc=0.8393280632411068\n"
     ]
    },
    {
     "data": {
      "application/vnd.jupyter.widget-view+json": {
       "model_id": "",
       "version_major": 2,
       "version_minor": 0
      },
      "text/plain": [
       "HBox(children=(FloatProgress(value=1.0, bar_style='info', description='Validating', layout=Layout(flex='2'), m…"
      ]
     },
     "metadata": {},
     "output_type": "display_data"
    },
    {
     "name": "stdout",
     "output_type": "stream",
     "text": [
      "Val-Acc=0.8429164196799052\n",
      "Train-Acc=0.8507905138339921\n"
     ]
    },
    {
     "data": {
      "application/vnd.jupyter.widget-view+json": {
       "model_id": "",
       "version_major": 2,
       "version_minor": 0
      },
      "text/plain": [
       "HBox(children=(FloatProgress(value=1.0, bar_style='info', description='Validating', layout=Layout(flex='2'), m…"
      ]
     },
     "metadata": {},
     "output_type": "display_data"
    },
    {
     "name": "stdout",
     "output_type": "stream",
     "text": [
      "Val-Acc=0.8535862477771191\n",
      "Train-Acc=0.8606719367588933\n"
     ]
    },
    {
     "data": {
      "application/vnd.jupyter.widget-view+json": {
       "model_id": "",
       "version_major": 2,
       "version_minor": 0
      },
      "text/plain": [
       "HBox(children=(FloatProgress(value=1.0, bar_style='info', description='Validating', layout=Layout(flex='2'), m…"
      ]
     },
     "metadata": {},
     "output_type": "display_data"
    },
    {
     "name": "stdout",
     "output_type": "stream",
     "text": [
      "Val-Acc=0.8719620628334321\n",
      "Train-Acc=0.8460474308300395\n"
     ]
    },
    {
     "data": {
      "application/vnd.jupyter.widget-view+json": {
       "model_id": "",
       "version_major": 2,
       "version_minor": 0
      },
      "text/plain": [
       "HBox(children=(FloatProgress(value=1.0, bar_style='info', description='Validating', layout=Layout(flex='2'), m…"
      ]
     },
     "metadata": {},
     "output_type": "display_data"
    },
    {
     "name": "stdout",
     "output_type": "stream",
     "text": [
      "Val-Acc=0.8767042086544161\n",
      "Train-Acc=0.8721343873517786\n"
     ]
    },
    {
     "data": {
      "application/vnd.jupyter.widget-view+json": {
       "model_id": "",
       "version_major": 2,
       "version_minor": 0
      },
      "text/plain": [
       "HBox(children=(FloatProgress(value=1.0, bar_style='info', description='Validating', layout=Layout(flex='2'), m…"
      ]
     },
     "metadata": {},
     "output_type": "display_data"
    },
    {
     "name": "stdout",
     "output_type": "stream",
     "text": [
      "Val-Acc=0.8618850029638412\n",
      "Train-Acc=0.8786561264822135\n"
     ]
    },
    {
     "data": {
      "application/vnd.jupyter.widget-view+json": {
       "model_id": "",
       "version_major": 2,
       "version_minor": 0
      },
      "text/plain": [
       "HBox(children=(FloatProgress(value=1.0, bar_style='info', description='Validating', layout=Layout(flex='2'), m…"
      ]
     },
     "metadata": {},
     "output_type": "display_data"
    },
    {
     "name": "stdout",
     "output_type": "stream",
     "text": [
      "Val-Acc=0.8808535862477771\n",
      "Train-Acc=0.8747035573122529\n"
     ]
    },
    {
     "data": {
      "application/vnd.jupyter.widget-view+json": {
       "model_id": "",
       "version_major": 2,
       "version_minor": 0
      },
      "text/plain": [
       "HBox(children=(FloatProgress(value=1.0, bar_style='info', description='Validating', layout=Layout(flex='2'), m…"
      ]
     },
     "metadata": {},
     "output_type": "display_data"
    },
    {
     "name": "stdout",
     "output_type": "stream",
     "text": [
      "Val-Acc=0.8731475992886781\n",
      "Train-Acc=0.8871541501976284\n"
     ]
    },
    {
     "data": {
      "application/vnd.jupyter.widget-view+json": {
       "model_id": "",
       "version_major": 2,
       "version_minor": 0
      },
      "text/plain": [
       "HBox(children=(FloatProgress(value=1.0, bar_style='info', description='Validating', layout=Layout(flex='2'), m…"
      ]
     },
     "metadata": {},
     "output_type": "display_data"
    },
    {
     "name": "stdout",
     "output_type": "stream",
     "text": [
      "Val-Acc=0.8820391227030231\n",
      "Train-Acc=0.8794466403162056\n"
     ]
    },
    {
     "data": {
      "application/vnd.jupyter.widget-view+json": {
       "model_id": "",
       "version_major": 2,
       "version_minor": 0
      },
      "text/plain": [
       "HBox(children=(FloatProgress(value=1.0, bar_style='info', description='Validating', layout=Layout(flex='2'), m…"
      ]
     },
     "metadata": {},
     "output_type": "display_data"
    },
    {
     "name": "stdout",
     "output_type": "stream",
     "text": [
      "Val-Acc=0.8719620628334321\n",
      "Train-Acc=0.8881422924901186\n"
     ]
    },
    {
     "data": {
      "application/vnd.jupyter.widget-view+json": {
       "model_id": "",
       "version_major": 2,
       "version_minor": 0
      },
      "text/plain": [
       "HBox(children=(FloatProgress(value=1.0, bar_style='info', description='Validating', layout=Layout(flex='2'), m…"
      ]
     },
     "metadata": {},
     "output_type": "display_data"
    },
    {
     "name": "stdout",
     "output_type": "stream",
     "text": [
      "Val-Acc=0.8749259039715471\n",
      "Train-Acc=0.891897233201581\n"
     ]
    },
    {
     "data": {
      "application/vnd.jupyter.widget-view+json": {
       "model_id": "",
       "version_major": 2,
       "version_minor": 0
      },
      "text/plain": [
       "HBox(children=(FloatProgress(value=1.0, bar_style='info', description='Validating', layout=Layout(flex='2'), m…"
      ]
     },
     "metadata": {},
     "output_type": "display_data"
    },
    {
     "name": "stdout",
     "output_type": "stream",
     "text": [
      "Val-Acc=0.8879668049792531\n",
      "Train-Acc=0.899802371541502\n"
     ]
    },
    {
     "data": {
      "application/vnd.jupyter.widget-view+json": {
       "model_id": "",
       "version_major": 2,
       "version_minor": 0
      },
      "text/plain": [
       "HBox(children=(FloatProgress(value=1.0, bar_style='info', description='Validating', layout=Layout(flex='2'), m…"
      ]
     },
     "metadata": {},
     "output_type": "display_data"
    },
    {
     "name": "stdout",
     "output_type": "stream",
     "text": [
      "Val-Acc=0.8790752815649081\n",
      "Train-Acc=0.8948616600790514\n"
     ]
    },
    {
     "data": {
      "application/vnd.jupyter.widget-view+json": {
       "model_id": "",
       "version_major": 2,
       "version_minor": 0
      },
      "text/plain": [
       "HBox(children=(FloatProgress(value=1.0, bar_style='info', description='Validating', layout=Layout(flex='2'), m…"
      ]
     },
     "metadata": {},
     "output_type": "display_data"
    },
    {
     "name": "stdout",
     "output_type": "stream",
     "text": [
      "Val-Acc=0.8755186721991701\n",
      "Train-Acc=0.9009881422924901\n",
      "\n",
      "Saved model to \"saved_modelsq/78.p\"\n"
     ]
    },
    {
     "name": "stderr",
     "output_type": "stream",
     "text": [
      "[I 2020-07-15 00:56:31,124] Finished trial#78 with value: 0.8755186721991701 with parameters: {'learning_rate': 0.001993300425304484, 'p_drop': 0.22176861112781265, 'lr_decay': 0.9634916072018286, 'n_hidden': 222, 'weight_decay': 0.00023382674441724607}. Best is trial#44 with value: 0.8944872554831061.\n",
      "GPU available: True, used: True\n",
      "No environment variable for node rank defined. Set as 0.\n",
      "CUDA_VISIBLE_DEVICES: [0]\n",
      "Set SLURM handle signals.\n",
      "\n",
      "   | Name                      | Type                  | Params\n",
      "----------------------------------------------------------------\n",
      "0  | model                     | CRNN8k_D2             | 553 K \n",
      "1  | model.spec                | MelspectrogramStretch | 0     \n",
      "2  | model.spec.spectrogram    | Spectrogram           | 0     \n",
      "3  | model.spec.mel_scale      | MelScale              | 0     \n",
      "4  | model.spec.stft           | Spectrogram           | 0     \n",
      "5  | model.spec.random_stretch | RandomTimeStretch     | 0     \n",
      "6  | model.spec.complex_norm   | ComplexNorm           | 0     \n",
      "7  | model.spec.norm           | SpecNormalization     | 0     \n",
      "8  | model.convs               | Sequential            | 213 K \n",
      "9  | model.convs.0             | Conv2d                | 320   \n",
      "10 | model.convs.1             | BatchNorm2d           | 64    \n",
      "11 | model.convs.2             | ELU                   | 0     \n",
      "12 | model.convs.3             | Conv2d                | 9 K   \n",
      "13 | model.convs.4             | BatchNorm2d           | 64    \n",
      "14 | model.convs.5             | ELU                   | 0     \n",
      "15 | model.convs.6             | MaxPool2d             | 0     \n",
      "16 | model.convs.7             | Dropout               | 0     \n",
      "17 | model.convs.8             | Conv2d                | 18 K  \n",
      "18 | model.convs.9             | BatchNorm2d           | 128   \n",
      "19 | model.convs.10            | ELU                   | 0     \n",
      "20 | model.convs.11            | Conv2d                | 36 K  \n",
      "21 | model.convs.12            | BatchNorm2d           | 128   \n",
      "22 | model.convs.13            | ELU                   | 0     \n",
      "23 | model.convs.14            | MaxPool2d             | 0     \n",
      "24 | model.convs.15            | Dropout               | 0     \n",
      "25 | model.convs.16            | Conv2d                | 73 K  \n",
      "26 | model.convs.17            | BatchNorm2d           | 256   \n",
      "27 | model.convs.18            | ELU                   | 0     \n",
      "28 | model.convs.19            | MaxPool2d             | 0     \n",
      "29 | model.convs.20            | Dropout               | 0     \n",
      "30 | model.convs.21            | Conv2d                | 73 K  \n",
      "31 | model.convs.22            | BatchNorm2d           | 128   \n",
      "32 | model.convs.23            | ELU                   | 0     \n",
      "33 | model.convs.24            | MaxPool2d             | 0     \n",
      "34 | model.convs.25            | Dropout               | 0     \n",
      "35 | model.LSTMCell            | LSTMCell              | 339 K \n",
      "36 | model.dense               | Sequential            | 690   \n",
      "37 | model.dense.0             | Dropout               | 0     \n",
      "38 | model.dense.1             | BatchNorm1d           | 344   \n",
      "39 | model.dense.2             | Linear                | 346   \n"
     ]
    },
    {
     "data": {
      "application/vnd.jupyter.widget-view+json": {
       "model_id": "",
       "version_major": 2,
       "version_minor": 0
      },
      "text/plain": [
       "HBox(children=(FloatProgress(value=1.0, bar_style='info', description='Validation sanity check', layout=Layout…"
      ]
     },
     "metadata": {},
     "output_type": "display_data"
    },
    {
     "name": "stdout",
     "output_type": "stream",
     "text": [
      "Val-Acc=0.036751630112625965\n"
     ]
    },
    {
     "data": {
      "application/vnd.jupyter.widget-view+json": {
       "model_id": "35de5c60a1514fa789255365af88b780",
       "version_major": 2,
       "version_minor": 0
      },
      "text/plain": [
       "HBox(children=(FloatProgress(value=1.0, bar_style='info', description='Training', layout=Layout(flex='2'), max…"
      ]
     },
     "metadata": {},
     "output_type": "display_data"
    },
    {
     "data": {
      "application/vnd.jupyter.widget-view+json": {
       "model_id": "",
       "version_major": 2,
       "version_minor": 0
      },
      "text/plain": [
       "HBox(children=(FloatProgress(value=1.0, bar_style='info', description='Validating', layout=Layout(flex='2'), m…"
      ]
     },
     "metadata": {},
     "output_type": "display_data"
    },
    {
     "name": "stdout",
     "output_type": "stream",
     "text": [
      "Val-Acc=0.8138707765263782\n",
      "Train-Acc=0.7818181818181819\n"
     ]
    },
    {
     "data": {
      "application/vnd.jupyter.widget-view+json": {
       "model_id": "",
       "version_major": 2,
       "version_minor": 0
      },
      "text/plain": [
       "HBox(children=(FloatProgress(value=1.0, bar_style='info', description='Validating', layout=Layout(flex='2'), m…"
      ]
     },
     "metadata": {},
     "output_type": "display_data"
    },
    {
     "name": "stdout",
     "output_type": "stream",
     "text": [
      "Val-Acc=0.8352104327208062\n",
      "Train-Acc=0.8110671936758893\n"
     ]
    },
    {
     "data": {
      "application/vnd.jupyter.widget-view+json": {
       "model_id": "",
       "version_major": 2,
       "version_minor": 0
      },
      "text/plain": [
       "HBox(children=(FloatProgress(value=1.0, bar_style='info', description='Validating', layout=Layout(flex='2'), m…"
      ]
     },
     "metadata": {},
     "output_type": "display_data"
    },
    {
     "name": "stdout",
     "output_type": "stream",
     "text": [
      "Val-Acc=0.8435091879075282\n"
     ]
    },
    {
     "name": "stderr",
     "output_type": "stream",
     "text": [
      "[I 2020-07-15 00:56:55,229] Setting status of trial#79 as TrialState.PRUNED. Trial was pruned at epoch 2.\n",
      "GPU available: True, used: True\n",
      "No environment variable for node rank defined. Set as 0.\n",
      "CUDA_VISIBLE_DEVICES: [0]\n",
      "Set SLURM handle signals.\n",
      "\n",
      "   | Name                      | Type                  | Params\n",
      "----------------------------------------------------------------\n",
      "0  | model                     | CRNN8k_D2             | 321 K \n",
      "1  | model.spec                | MelspectrogramStretch | 0     \n",
      "2  | model.spec.spectrogram    | Spectrogram           | 0     \n",
      "3  | model.spec.mel_scale      | MelScale              | 0     \n",
      "4  | model.spec.stft           | Spectrogram           | 0     \n",
      "5  | model.spec.random_stretch | RandomTimeStretch     | 0     \n",
      "6  | model.spec.complex_norm   | ComplexNorm           | 0     \n",
      "7  | model.spec.norm           | SpecNormalization     | 0     \n",
      "8  | model.convs               | Sequential            | 213 K \n",
      "9  | model.convs.0             | Conv2d                | 320   \n",
      "10 | model.convs.1             | BatchNorm2d           | 64    \n",
      "11 | model.convs.2             | ELU                   | 0     \n",
      "12 | model.convs.3             | Conv2d                | 9 K   \n",
      "13 | model.convs.4             | BatchNorm2d           | 64    \n",
      "14 | model.convs.5             | ELU                   | 0     \n",
      "15 | model.convs.6             | MaxPool2d             | 0     \n",
      "16 | model.convs.7             | Dropout               | 0     \n",
      "17 | model.convs.8             | Conv2d                | 18 K  \n",
      "18 | model.convs.9             | BatchNorm2d           | 128   \n",
      "19 | model.convs.10            | ELU                   | 0     \n",
      "20 | model.convs.11            | Conv2d                | 36 K  \n",
      "21 | model.convs.12            | BatchNorm2d           | 128   \n",
      "22 | model.convs.13            | ELU                   | 0     \n",
      "23 | model.convs.14            | MaxPool2d             | 0     \n",
      "24 | model.convs.15            | Dropout               | 0     \n",
      "25 | model.convs.16            | Conv2d                | 73 K  \n",
      "26 | model.convs.17            | BatchNorm2d           | 256   \n",
      "27 | model.convs.18            | ELU                   | 0     \n",
      "28 | model.convs.19            | MaxPool2d             | 0     \n",
      "29 | model.convs.20            | Dropout               | 0     \n",
      "30 | model.convs.21            | Conv2d                | 73 K  \n",
      "31 | model.convs.22            | BatchNorm2d           | 128   \n",
      "32 | model.convs.23            | ELU                   | 0     \n",
      "33 | model.convs.24            | MaxPool2d             | 0     \n",
      "34 | model.convs.25            | Dropout               | 0     \n",
      "35 | model.LSTMCell            | LSTMCell              | 107 K \n",
      "36 | model.dense               | Sequential            | 278   \n",
      "37 | model.dense.0             | Dropout               | 0     \n",
      "38 | model.dense.1             | BatchNorm1d           | 138   \n",
      "39 | model.dense.2             | Linear                | 140   \n"
     ]
    },
    {
     "data": {
      "application/vnd.jupyter.widget-view+json": {
       "model_id": "",
       "version_major": 2,
       "version_minor": 0
      },
      "text/plain": [
       "HBox(children=(FloatProgress(value=1.0, bar_style='info', description='Validation sanity check', layout=Layout…"
      ]
     },
     "metadata": {},
     "output_type": "display_data"
    },
    {
     "name": "stdout",
     "output_type": "stream",
     "text": [
      "Val-Acc=0.03793716656787196\n"
     ]
    },
    {
     "data": {
      "application/vnd.jupyter.widget-view+json": {
       "model_id": "22b1052bb03c44258fb64dbba70a5b1d",
       "version_major": 2,
       "version_minor": 0
      },
      "text/plain": [
       "HBox(children=(FloatProgress(value=1.0, bar_style='info', description='Training', layout=Layout(flex='2'), max…"
      ]
     },
     "metadata": {},
     "output_type": "display_data"
    },
    {
     "data": {
      "application/vnd.jupyter.widget-view+json": {
       "model_id": "",
       "version_major": 2,
       "version_minor": 0
      },
      "text/plain": [
       "HBox(children=(FloatProgress(value=1.0, bar_style='info', description='Validating', layout=Layout(flex='2'), m…"
      ]
     },
     "metadata": {},
     "output_type": "display_data"
    },
    {
     "name": "stdout",
     "output_type": "stream",
     "text": [
      "Val-Acc=0.8221695317131001\n",
      "Train-Acc=0.8035573122529645\n"
     ]
    },
    {
     "data": {
      "application/vnd.jupyter.widget-view+json": {
       "model_id": "",
       "version_major": 2,
       "version_minor": 0
      },
      "text/plain": [
       "HBox(children=(FloatProgress(value=1.0, bar_style='info', description='Validating', layout=Layout(flex='2'), m…"
      ]
     },
     "metadata": {},
     "output_type": "display_data"
    },
    {
     "name": "stdout",
     "output_type": "stream",
     "text": [
      "Val-Acc=0.8482513337285121\n",
      "Train-Acc=0.8399209486166008\n"
     ]
    },
    {
     "data": {
      "application/vnd.jupyter.widget-view+json": {
       "model_id": "",
       "version_major": 2,
       "version_minor": 0
      },
      "text/plain": [
       "HBox(children=(FloatProgress(value=1.0, bar_style='info', description='Validating', layout=Layout(flex='2'), m…"
      ]
     },
     "metadata": {},
     "output_type": "display_data"
    },
    {
     "name": "stdout",
     "output_type": "stream",
     "text": [
      "Val-Acc=0.8488441019561351\n"
     ]
    },
    {
     "name": "stderr",
     "output_type": "stream",
     "text": [
      "[I 2020-07-15 00:57:19,052] Setting status of trial#80 as TrialState.PRUNED. Trial was pruned at epoch 2.\n",
      "GPU available: True, used: True\n",
      "No environment variable for node rank defined. Set as 0.\n",
      "CUDA_VISIBLE_DEVICES: [0]\n",
      "Set SLURM handle signals.\n",
      "\n",
      "   | Name                      | Type                  | Params\n",
      "----------------------------------------------------------------\n",
      "0  | model                     | CRNN8k_D2             | 228 K \n",
      "1  | model.spec                | MelspectrogramStretch | 0     \n",
      "2  | model.spec.spectrogram    | Spectrogram           | 0     \n",
      "3  | model.spec.mel_scale      | MelScale              | 0     \n",
      "4  | model.spec.stft           | Spectrogram           | 0     \n",
      "5  | model.spec.random_stretch | RandomTimeStretch     | 0     \n",
      "6  | model.spec.complex_norm   | ComplexNorm           | 0     \n",
      "7  | model.spec.norm           | SpecNormalization     | 0     \n",
      "8  | model.convs               | Sequential            | 213 K \n",
      "9  | model.convs.0             | Conv2d                | 320   \n",
      "10 | model.convs.1             | BatchNorm2d           | 64    \n",
      "11 | model.convs.2             | ELU                   | 0     \n",
      "12 | model.convs.3             | Conv2d                | 9 K   \n",
      "13 | model.convs.4             | BatchNorm2d           | 64    \n",
      "14 | model.convs.5             | ELU                   | 0     \n",
      "15 | model.convs.6             | MaxPool2d             | 0     \n",
      "16 | model.convs.7             | Dropout               | 0     \n",
      "17 | model.convs.8             | Conv2d                | 18 K  \n",
      "18 | model.convs.9             | BatchNorm2d           | 128   \n",
      "19 | model.convs.10            | ELU                   | 0     \n",
      "20 | model.convs.11            | Conv2d                | 36 K  \n",
      "21 | model.convs.12            | BatchNorm2d           | 128   \n",
      "22 | model.convs.13            | ELU                   | 0     \n",
      "23 | model.convs.14            | MaxPool2d             | 0     \n",
      "24 | model.convs.15            | Dropout               | 0     \n",
      "25 | model.convs.16            | Conv2d                | 73 K  \n",
      "26 | model.convs.17            | BatchNorm2d           | 256   \n",
      "27 | model.convs.18            | ELU                   | 0     \n",
      "28 | model.convs.19            | MaxPool2d             | 0     \n",
      "29 | model.convs.20            | Dropout               | 0     \n",
      "30 | model.convs.21            | Conv2d                | 73 K  \n",
      "31 | model.convs.22            | BatchNorm2d           | 128   \n",
      "32 | model.convs.23            | ELU                   | 0     \n",
      "33 | model.convs.24            | MaxPool2d             | 0     \n",
      "34 | model.convs.25            | Dropout               | 0     \n",
      "35 | model.LSTMCell            | LSTMCell              | 14 K  \n",
      "36 | model.dense               | Sequential            | 46    \n",
      "37 | model.dense.0             | Dropout               | 0     \n",
      "38 | model.dense.1             | BatchNorm1d           | 22    \n",
      "39 | model.dense.2             | Linear                | 24    \n"
     ]
    },
    {
     "data": {
      "application/vnd.jupyter.widget-view+json": {
       "model_id": "",
       "version_major": 2,
       "version_minor": 0
      },
      "text/plain": [
       "HBox(children=(FloatProgress(value=1.0, bar_style='info', description='Validation sanity check', layout=Layout…"
      ]
     },
     "metadata": {},
     "output_type": "display_data"
    },
    {
     "name": "stdout",
     "output_type": "stream",
     "text": [
      "Val-Acc=0.03793716656787196\n"
     ]
    },
    {
     "data": {
      "application/vnd.jupyter.widget-view+json": {
       "model_id": "c9f641a145f4427886cc922e7a30b626",
       "version_major": 2,
       "version_minor": 0
      },
      "text/plain": [
       "HBox(children=(FloatProgress(value=1.0, bar_style='info', description='Training', layout=Layout(flex='2'), max…"
      ]
     },
     "metadata": {},
     "output_type": "display_data"
    },
    {
     "data": {
      "application/vnd.jupyter.widget-view+json": {
       "model_id": "",
       "version_major": 2,
       "version_minor": 0
      },
      "text/plain": [
       "HBox(children=(FloatProgress(value=1.0, bar_style='info', description='Validating', layout=Layout(flex='2'), m…"
      ]
     },
     "metadata": {},
     "output_type": "display_data"
    },
    {
     "name": "stdout",
     "output_type": "stream",
     "text": [
      "Val-Acc=0.8055720213396562\n",
      "Train-Acc=0.7557312252964427\n"
     ]
    },
    {
     "data": {
      "application/vnd.jupyter.widget-view+json": {
       "model_id": "",
       "version_major": 2,
       "version_minor": 0
      },
      "text/plain": [
       "HBox(children=(FloatProgress(value=1.0, bar_style='info', description='Validating', layout=Layout(flex='2'), m…"
      ]
     },
     "metadata": {},
     "output_type": "display_data"
    },
    {
     "name": "stdout",
     "output_type": "stream",
     "text": [
      "Val-Acc=0.8227622999407231\n"
     ]
    },
    {
     "name": "stderr",
     "output_type": "stream",
     "text": [
      "[I 2020-07-15 00:57:36,083] Setting status of trial#81 as TrialState.PRUNED. Trial was pruned at epoch 1.\n",
      "GPU available: True, used: True\n",
      "No environment variable for node rank defined. Set as 0.\n",
      "CUDA_VISIBLE_DEVICES: [0]\n",
      "Set SLURM handle signals.\n",
      "\n",
      "   | Name                      | Type                  | Params\n",
      "----------------------------------------------------------------\n",
      "0  | model                     | CRNN8k_D2             | 586 K \n",
      "1  | model.spec                | MelspectrogramStretch | 0     \n",
      "2  | model.spec.spectrogram    | Spectrogram           | 0     \n",
      "3  | model.spec.mel_scale      | MelScale              | 0     \n",
      "4  | model.spec.stft           | Spectrogram           | 0     \n",
      "5  | model.spec.random_stretch | RandomTimeStretch     | 0     \n",
      "6  | model.spec.complex_norm   | ComplexNorm           | 0     \n",
      "7  | model.spec.norm           | SpecNormalization     | 0     \n",
      "8  | model.convs               | Sequential            | 213 K \n",
      "9  | model.convs.0             | Conv2d                | 320   \n",
      "10 | model.convs.1             | BatchNorm2d           | 64    \n",
      "11 | model.convs.2             | ELU                   | 0     \n",
      "12 | model.convs.3             | Conv2d                | 9 K   \n",
      "13 | model.convs.4             | BatchNorm2d           | 64    \n",
      "14 | model.convs.5             | ELU                   | 0     \n",
      "15 | model.convs.6             | MaxPool2d             | 0     \n",
      "16 | model.convs.7             | Dropout               | 0     \n",
      "17 | model.convs.8             | Conv2d                | 18 K  \n",
      "18 | model.convs.9             | BatchNorm2d           | 128   \n",
      "19 | model.convs.10            | ELU                   | 0     \n",
      "20 | model.convs.11            | Conv2d                | 36 K  \n",
      "21 | model.convs.12            | BatchNorm2d           | 128   \n",
      "22 | model.convs.13            | ELU                   | 0     \n",
      "23 | model.convs.14            | MaxPool2d             | 0     \n",
      "24 | model.convs.15            | Dropout               | 0     \n",
      "25 | model.convs.16            | Conv2d                | 73 K  \n",
      "26 | model.convs.17            | BatchNorm2d           | 256   \n",
      "27 | model.convs.18            | ELU                   | 0     \n",
      "28 | model.convs.19            | MaxPool2d             | 0     \n",
      "29 | model.convs.20            | Dropout               | 0     \n",
      "30 | model.convs.21            | Conv2d                | 73 K  \n",
      "31 | model.convs.22            | BatchNorm2d           | 128   \n",
      "32 | model.convs.23            | ELU                   | 0     \n",
      "33 | model.convs.24            | MaxPool2d             | 0     \n",
      "34 | model.convs.25            | Dropout               | 0     \n",
      "35 | model.LSTMCell            | LSTMCell              | 372 K \n",
      "36 | model.dense               | Sequential            | 738   \n",
      "37 | model.dense.0             | Dropout               | 0     \n",
      "38 | model.dense.1             | BatchNorm1d           | 368   \n",
      "39 | model.dense.2             | Linear                | 370   \n"
     ]
    },
    {
     "data": {
      "application/vnd.jupyter.widget-view+json": {
       "model_id": "",
       "version_major": 2,
       "version_minor": 0
      },
      "text/plain": [
       "HBox(children=(FloatProgress(value=1.0, bar_style='info', description='Validation sanity check', layout=Layout…"
      ]
     },
     "metadata": {},
     "output_type": "display_data"
    },
    {
     "name": "stdout",
     "output_type": "stream",
     "text": [
      "Val-Acc=0.03793716656787196\n"
     ]
    },
    {
     "data": {
      "application/vnd.jupyter.widget-view+json": {
       "model_id": "02e75e6339d1452f9c604f4de43c215e",
       "version_major": 2,
       "version_minor": 0
      },
      "text/plain": [
       "HBox(children=(FloatProgress(value=1.0, bar_style='info', description='Training', layout=Layout(flex='2'), max…"
      ]
     },
     "metadata": {},
     "output_type": "display_data"
    },
    {
     "data": {
      "application/vnd.jupyter.widget-view+json": {
       "model_id": "",
       "version_major": 2,
       "version_minor": 0
      },
      "text/plain": [
       "HBox(children=(FloatProgress(value=1.0, bar_style='info', description='Validating', layout=Layout(flex='2'), m…"
      ]
     },
     "metadata": {},
     "output_type": "display_data"
    },
    {
     "name": "stdout",
     "output_type": "stream",
     "text": [
      "Val-Acc=0.8316538233550682\n",
      "Train-Acc=0.7867588932806324\n"
     ]
    },
    {
     "data": {
      "application/vnd.jupyter.widget-view+json": {
       "model_id": "",
       "version_major": 2,
       "version_minor": 0
      },
      "text/plain": [
       "HBox(children=(FloatProgress(value=1.0, bar_style='info', description='Validating', layout=Layout(flex='2'), m…"
      ]
     },
     "metadata": {},
     "output_type": "display_data"
    },
    {
     "name": "stdout",
     "output_type": "stream",
     "text": [
      "Val-Acc=0.8441019561351512\n",
      "Train-Acc=0.8260869565217391\n"
     ]
    },
    {
     "data": {
      "application/vnd.jupyter.widget-view+json": {
       "model_id": "",
       "version_major": 2,
       "version_minor": 0
      },
      "text/plain": [
       "HBox(children=(FloatProgress(value=1.0, bar_style='info', description='Validating', layout=Layout(flex='2'), m…"
      ]
     },
     "metadata": {},
     "output_type": "display_data"
    },
    {
     "name": "stdout",
     "output_type": "stream",
     "text": [
      "Val-Acc=0.7664493183165383\n"
     ]
    },
    {
     "name": "stderr",
     "output_type": "stream",
     "text": [
      "[I 2020-07-15 00:58:00,621] Setting status of trial#82 as TrialState.PRUNED. Trial was pruned at epoch 2.\n",
      "GPU available: True, used: True\n",
      "No environment variable for node rank defined. Set as 0.\n",
      "CUDA_VISIBLE_DEVICES: [0]\n",
      "Set SLURM handle signals.\n",
      "\n",
      "   | Name                      | Type                  | Params\n",
      "----------------------------------------------------------------\n",
      "0  | model                     | CRNN8k_D2             | 274 K \n",
      "1  | model.spec                | MelspectrogramStretch | 0     \n",
      "2  | model.spec.spectrogram    | Spectrogram           | 0     \n",
      "3  | model.spec.mel_scale      | MelScale              | 0     \n",
      "4  | model.spec.stft           | Spectrogram           | 0     \n",
      "5  | model.spec.random_stretch | RandomTimeStretch     | 0     \n",
      "6  | model.spec.complex_norm   | ComplexNorm           | 0     \n",
      "7  | model.spec.norm           | SpecNormalization     | 0     \n",
      "8  | model.convs               | Sequential            | 213 K \n",
      "9  | model.convs.0             | Conv2d                | 320   \n",
      "10 | model.convs.1             | BatchNorm2d           | 64    \n",
      "11 | model.convs.2             | ELU                   | 0     \n",
      "12 | model.convs.3             | Conv2d                | 9 K   \n",
      "13 | model.convs.4             | BatchNorm2d           | 64    \n",
      "14 | model.convs.5             | ELU                   | 0     \n",
      "15 | model.convs.6             | MaxPool2d             | 0     \n",
      "16 | model.convs.7             | Dropout               | 0     \n",
      "17 | model.convs.8             | Conv2d                | 18 K  \n",
      "18 | model.convs.9             | BatchNorm2d           | 128   \n",
      "19 | model.convs.10            | ELU                   | 0     \n",
      "20 | model.convs.11            | Conv2d                | 36 K  \n",
      "21 | model.convs.12            | BatchNorm2d           | 128   \n",
      "22 | model.convs.13            | ELU                   | 0     \n",
      "23 | model.convs.14            | MaxPool2d             | 0     \n",
      "24 | model.convs.15            | Dropout               | 0     \n",
      "25 | model.convs.16            | Conv2d                | 73 K  \n",
      "26 | model.convs.17            | BatchNorm2d           | 256   \n",
      "27 | model.convs.18            | ELU                   | 0     \n",
      "28 | model.convs.19            | MaxPool2d             | 0     \n",
      "29 | model.convs.20            | Dropout               | 0     \n",
      "30 | model.convs.21            | Conv2d                | 73 K  \n",
      "31 | model.convs.22            | BatchNorm2d           | 128   \n",
      "32 | model.convs.23            | ELU                   | 0     \n",
      "33 | model.convs.24            | MaxPool2d             | 0     \n",
      "34 | model.convs.25            | Dropout               | 0     \n",
      "35 | model.LSTMCell            | LSTMCell              | 61 K  \n",
      "36 | model.dense               | Sequential            | 170   \n",
      "37 | model.dense.0             | Dropout               | 0     \n",
      "38 | model.dense.1             | BatchNorm1d           | 84    \n",
      "39 | model.dense.2             | Linear                | 86    \n"
     ]
    },
    {
     "data": {
      "application/vnd.jupyter.widget-view+json": {
       "model_id": "",
       "version_major": 2,
       "version_minor": 0
      },
      "text/plain": [
       "HBox(children=(FloatProgress(value=1.0, bar_style='info', description='Validation sanity check', layout=Layout…"
      ]
     },
     "metadata": {},
     "output_type": "display_data"
    },
    {
     "name": "stdout",
     "output_type": "stream",
     "text": [
      "Val-Acc=0.03793716656787196\n"
     ]
    },
    {
     "data": {
      "application/vnd.jupyter.widget-view+json": {
       "model_id": "a00d055b06074d63bb15c80be7090e16",
       "version_major": 2,
       "version_minor": 0
      },
      "text/plain": [
       "HBox(children=(FloatProgress(value=1.0, bar_style='info', description='Training', layout=Layout(flex='2'), max…"
      ]
     },
     "metadata": {},
     "output_type": "display_data"
    },
    {
     "data": {
      "application/vnd.jupyter.widget-view+json": {
       "model_id": "",
       "version_major": 2,
       "version_minor": 0
      },
      "text/plain": [
       "HBox(children=(FloatProgress(value=1.0, bar_style='info', description='Validating', layout=Layout(flex='2'), m…"
      ]
     },
     "metadata": {},
     "output_type": "display_data"
    },
    {
     "name": "stdout",
     "output_type": "stream",
     "text": [
      "Val-Acc=0.8292827504445762\n",
      "Train-Acc=0.7938735177865612\n"
     ]
    },
    {
     "data": {
      "application/vnd.jupyter.widget-view+json": {
       "model_id": "",
       "version_major": 2,
       "version_minor": 0
      },
      "text/plain": [
       "HBox(children=(FloatProgress(value=1.0, bar_style='info', description='Validating', layout=Layout(flex='2'), m…"
      ]
     },
     "metadata": {},
     "output_type": "display_data"
    },
    {
     "name": "stdout",
     "output_type": "stream",
     "text": [
      "Val-Acc=0.8464730290456431\n",
      "Train-Acc=0.8227272727272728\n"
     ]
    },
    {
     "data": {
      "application/vnd.jupyter.widget-view+json": {
       "model_id": "",
       "version_major": 2,
       "version_minor": 0
      },
      "text/plain": [
       "HBox(children=(FloatProgress(value=1.0, bar_style='info', description='Validating', layout=Layout(flex='2'), m…"
      ]
     },
     "metadata": {},
     "output_type": "display_data"
    },
    {
     "name": "stdout",
     "output_type": "stream",
     "text": [
      "Val-Acc=0.8506224066390041\n",
      "Train-Acc=0.83399209486166\n"
     ]
    },
    {
     "data": {
      "application/vnd.jupyter.widget-view+json": {
       "model_id": "",
       "version_major": 2,
       "version_minor": 0
      },
      "text/plain": [
       "HBox(children=(FloatProgress(value=1.0, bar_style='info', description='Validating', layout=Layout(flex='2'), m…"
      ]
     },
     "metadata": {},
     "output_type": "display_data"
    },
    {
     "name": "stdout",
     "output_type": "stream",
     "text": [
      "Val-Acc=0.8512151748666271\n"
     ]
    },
    {
     "name": "stderr",
     "output_type": "stream",
     "text": [
      "[I 2020-07-15 00:58:33,070] Setting status of trial#83 as TrialState.PRUNED. Trial was pruned at epoch 3.\n",
      "GPU available: True, used: True\n",
      "No environment variable for node rank defined. Set as 0.\n",
      "CUDA_VISIBLE_DEVICES: [0]\n",
      "Set SLURM handle signals.\n",
      "\n",
      "   | Name                      | Type                  | Params\n",
      "----------------------------------------------------------------\n",
      "0  | model                     | CRNN8k_D2             | 386 K \n",
      "1  | model.spec                | MelspectrogramStretch | 0     \n",
      "2  | model.spec.spectrogram    | Spectrogram           | 0     \n",
      "3  | model.spec.mel_scale      | MelScale              | 0     \n",
      "4  | model.spec.stft           | Spectrogram           | 0     \n",
      "5  | model.spec.random_stretch | RandomTimeStretch     | 0     \n",
      "6  | model.spec.complex_norm   | ComplexNorm           | 0     \n",
      "7  | model.spec.norm           | SpecNormalization     | 0     \n",
      "8  | model.convs               | Sequential            | 213 K \n",
      "9  | model.convs.0             | Conv2d                | 320   \n",
      "10 | model.convs.1             | BatchNorm2d           | 64    \n",
      "11 | model.convs.2             | ELU                   | 0     \n",
      "12 | model.convs.3             | Conv2d                | 9 K   \n",
      "13 | model.convs.4             | BatchNorm2d           | 64    \n",
      "14 | model.convs.5             | ELU                   | 0     \n",
      "15 | model.convs.6             | MaxPool2d             | 0     \n",
      "16 | model.convs.7             | Dropout               | 0     \n",
      "17 | model.convs.8             | Conv2d                | 18 K  \n",
      "18 | model.convs.9             | BatchNorm2d           | 128   \n",
      "19 | model.convs.10            | ELU                   | 0     \n",
      "20 | model.convs.11            | Conv2d                | 36 K  \n",
      "21 | model.convs.12            | BatchNorm2d           | 128   \n",
      "22 | model.convs.13            | ELU                   | 0     \n",
      "23 | model.convs.14            | MaxPool2d             | 0     \n",
      "24 | model.convs.15            | Dropout               | 0     \n",
      "25 | model.convs.16            | Conv2d                | 73 K  \n",
      "26 | model.convs.17            | BatchNorm2d           | 256   \n",
      "27 | model.convs.18            | ELU                   | 0     \n",
      "28 | model.convs.19            | MaxPool2d             | 0     \n",
      "29 | model.convs.20            | Dropout               | 0     \n",
      "30 | model.convs.21            | Conv2d                | 73 K  \n",
      "31 | model.convs.22            | BatchNorm2d           | 128   \n",
      "32 | model.convs.23            | ELU                   | 0     \n",
      "33 | model.convs.24            | MaxPool2d             | 0     \n",
      "34 | model.convs.25            | Dropout               | 0     \n",
      "35 | model.LSTMCell            | LSTMCell              | 172 K \n",
      "36 | model.dense               | Sequential            | 410   \n",
      "37 | model.dense.0             | Dropout               | 0     \n",
      "38 | model.dense.1             | BatchNorm1d           | 204   \n",
      "39 | model.dense.2             | Linear                | 206   \n"
     ]
    },
    {
     "data": {
      "application/vnd.jupyter.widget-view+json": {
       "model_id": "",
       "version_major": 2,
       "version_minor": 0
      },
      "text/plain": [
       "HBox(children=(FloatProgress(value=1.0, bar_style='info', description='Validation sanity check', layout=Layout…"
      ]
     },
     "metadata": {},
     "output_type": "display_data"
    },
    {
     "name": "stdout",
     "output_type": "stream",
     "text": [
      "Val-Acc=0.03793716656787196\n"
     ]
    },
    {
     "data": {
      "application/vnd.jupyter.widget-view+json": {
       "model_id": "d5b974cf5ffa43c2b1c941e779c2b6e9",
       "version_major": 2,
       "version_minor": 0
      },
      "text/plain": [
       "HBox(children=(FloatProgress(value=1.0, bar_style='info', description='Training', layout=Layout(flex='2'), max…"
      ]
     },
     "metadata": {},
     "output_type": "display_data"
    },
    {
     "data": {
      "application/vnd.jupyter.widget-view+json": {
       "model_id": "",
       "version_major": 2,
       "version_minor": 0
      },
      "text/plain": [
       "HBox(children=(FloatProgress(value=1.0, bar_style='info', description='Validating', layout=Layout(flex='2'), m…"
      ]
     },
     "metadata": {},
     "output_type": "display_data"
    },
    {
     "name": "stdout",
     "output_type": "stream",
     "text": [
      "Val-Acc=0.8280972139893301\n",
      "Train-Acc=0.7897233201581028\n"
     ]
    },
    {
     "data": {
      "application/vnd.jupyter.widget-view+json": {
       "model_id": "",
       "version_major": 2,
       "version_minor": 0
      },
      "text/plain": [
       "HBox(children=(FloatProgress(value=1.0, bar_style='info', description='Validating', layout=Layout(flex='2'), m…"
      ]
     },
     "metadata": {},
     "output_type": "display_data"
    },
    {
     "name": "stdout",
     "output_type": "stream",
     "text": [
      "Val-Acc=0.8411381149970362\n",
      "Train-Acc=0.8262845849802372\n"
     ]
    },
    {
     "data": {
      "application/vnd.jupyter.widget-view+json": {
       "model_id": "",
       "version_major": 2,
       "version_minor": 0
      },
      "text/plain": [
       "HBox(children=(FloatProgress(value=1.0, bar_style='info', description='Validating', layout=Layout(flex='2'), m…"
      ]
     },
     "metadata": {},
     "output_type": "display_data"
    },
    {
     "name": "stdout",
     "output_type": "stream",
     "text": [
      "Val-Acc=0.8488441019561351\n"
     ]
    },
    {
     "name": "stderr",
     "output_type": "stream",
     "text": [
      "[I 2020-07-15 00:58:57,310] Setting status of trial#84 as TrialState.PRUNED. Trial was pruned at epoch 2.\n",
      "GPU available: True, used: True\n",
      "No environment variable for node rank defined. Set as 0.\n",
      "CUDA_VISIBLE_DEVICES: [0]\n",
      "Set SLURM handle signals.\n",
      "\n",
      "   | Name                      | Type                  | Params\n",
      "----------------------------------------------------------------\n",
      "0  | model                     | CRNN8k_D2             | 4 M   \n",
      "1  | model.spec                | MelspectrogramStretch | 0     \n",
      "2  | model.spec.spectrogram    | Spectrogram           | 0     \n",
      "3  | model.spec.mel_scale      | MelScale              | 0     \n",
      "4  | model.spec.stft           | Spectrogram           | 0     \n",
      "5  | model.spec.random_stretch | RandomTimeStretch     | 0     \n",
      "6  | model.spec.complex_norm   | ComplexNorm           | 0     \n",
      "7  | model.spec.norm           | SpecNormalization     | 0     \n",
      "8  | model.convs               | Sequential            | 213 K \n",
      "9  | model.convs.0             | Conv2d                | 320   \n",
      "10 | model.convs.1             | BatchNorm2d           | 64    \n",
      "11 | model.convs.2             | ELU                   | 0     \n",
      "12 | model.convs.3             | Conv2d                | 9 K   \n",
      "13 | model.convs.4             | BatchNorm2d           | 64    \n",
      "14 | model.convs.5             | ELU                   | 0     \n",
      "15 | model.convs.6             | MaxPool2d             | 0     \n",
      "16 | model.convs.7             | Dropout               | 0     \n",
      "17 | model.convs.8             | Conv2d                | 18 K  \n",
      "18 | model.convs.9             | BatchNorm2d           | 128   \n",
      "19 | model.convs.10            | ELU                   | 0     \n",
      "20 | model.convs.11            | Conv2d                | 36 K  \n",
      "21 | model.convs.12            | BatchNorm2d           | 128   \n",
      "22 | model.convs.13            | ELU                   | 0     \n",
      "23 | model.convs.14            | MaxPool2d             | 0     \n",
      "24 | model.convs.15            | Dropout               | 0     \n",
      "25 | model.convs.16            | Conv2d                | 73 K  \n",
      "26 | model.convs.17            | BatchNorm2d           | 256   \n",
      "27 | model.convs.18            | ELU                   | 0     \n",
      "28 | model.convs.19            | MaxPool2d             | 0     \n",
      "29 | model.convs.20            | Dropout               | 0     \n",
      "30 | model.convs.21            | Conv2d                | 73 K  \n",
      "31 | model.convs.22            | BatchNorm2d           | 128   \n",
      "32 | model.convs.23            | ELU                   | 0     \n",
      "33 | model.convs.24            | MaxPool2d             | 0     \n",
      "34 | model.convs.25            | Dropout               | 0     \n",
      "35 | model.LSTMCell            | LSTMCell              | 3 M   \n",
      "36 | model.dense               | Sequential            | 3 K   \n",
      "37 | model.dense.0             | Dropout               | 0     \n",
      "38 | model.dense.1             | BatchNorm1d           | 1 K   \n",
      "39 | model.dense.2             | Linear                | 1 K   \n"
     ]
    },
    {
     "data": {
      "application/vnd.jupyter.widget-view+json": {
       "model_id": "",
       "version_major": 2,
       "version_minor": 0
      },
      "text/plain": [
       "HBox(children=(FloatProgress(value=1.0, bar_style='info', description='Validation sanity check', layout=Layout…"
      ]
     },
     "metadata": {},
     "output_type": "display_data"
    },
    {
     "name": "stdout",
     "output_type": "stream",
     "text": [
      "Val-Acc=0.03793716656787196\n"
     ]
    },
    {
     "data": {
      "application/vnd.jupyter.widget-view+json": {
       "model_id": "e9bfebf38d18453f8c8b7d4421f5654a",
       "version_major": 2,
       "version_minor": 0
      },
      "text/plain": [
       "HBox(children=(FloatProgress(value=1.0, bar_style='info', description='Training', layout=Layout(flex='2'), max…"
      ]
     },
     "metadata": {},
     "output_type": "display_data"
    },
    {
     "data": {
      "application/vnd.jupyter.widget-view+json": {
       "model_id": "",
       "version_major": 2,
       "version_minor": 0
      },
      "text/plain": [
       "HBox(children=(FloatProgress(value=1.0, bar_style='info', description='Validating', layout=Layout(flex='2'), m…"
      ]
     },
     "metadata": {},
     "output_type": "display_data"
    },
    {
     "name": "stdout",
     "output_type": "stream",
     "text": [
      "Val-Acc=0.7741553052756373\n",
      "Train-Acc=0.7849802371541502\n"
     ]
    },
    {
     "data": {
      "application/vnd.jupyter.widget-view+json": {
       "model_id": "",
       "version_major": 2,
       "version_minor": 0
      },
      "text/plain": [
       "HBox(children=(FloatProgress(value=1.0, bar_style='info', description='Validating', layout=Layout(flex='2'), m…"
      ]
     },
     "metadata": {},
     "output_type": "display_data"
    },
    {
     "name": "stdout",
     "output_type": "stream",
     "text": [
      "Val-Acc=0.7836395969176052\n"
     ]
    },
    {
     "name": "stderr",
     "output_type": "stream",
     "text": [
      "[I 2020-07-15 00:59:15,221] Setting status of trial#85 as TrialState.PRUNED. Trial was pruned at epoch 1.\n",
      "GPU available: True, used: True\n",
      "No environment variable for node rank defined. Set as 0.\n",
      "CUDA_VISIBLE_DEVICES: [0]\n",
      "Set SLURM handle signals.\n",
      "\n",
      "   | Name                      | Type                  | Params\n",
      "----------------------------------------------------------------\n",
      "0  | model                     | CRNN8k_D2             | 4 M   \n",
      "1  | model.spec                | MelspectrogramStretch | 0     \n",
      "2  | model.spec.spectrogram    | Spectrogram           | 0     \n",
      "3  | model.spec.mel_scale      | MelScale              | 0     \n",
      "4  | model.spec.stft           | Spectrogram           | 0     \n",
      "5  | model.spec.random_stretch | RandomTimeStretch     | 0     \n",
      "6  | model.spec.complex_norm   | ComplexNorm           | 0     \n",
      "7  | model.spec.norm           | SpecNormalization     | 0     \n",
      "8  | model.convs               | Sequential            | 213 K \n",
      "9  | model.convs.0             | Conv2d                | 320   \n",
      "10 | model.convs.1             | BatchNorm2d           | 64    \n",
      "11 | model.convs.2             | ELU                   | 0     \n",
      "12 | model.convs.3             | Conv2d                | 9 K   \n",
      "13 | model.convs.4             | BatchNorm2d           | 64    \n",
      "14 | model.convs.5             | ELU                   | 0     \n",
      "15 | model.convs.6             | MaxPool2d             | 0     \n",
      "16 | model.convs.7             | Dropout               | 0     \n",
      "17 | model.convs.8             | Conv2d                | 18 K  \n",
      "18 | model.convs.9             | BatchNorm2d           | 128   \n",
      "19 | model.convs.10            | ELU                   | 0     \n",
      "20 | model.convs.11            | Conv2d                | 36 K  \n",
      "21 | model.convs.12            | BatchNorm2d           | 128   \n",
      "22 | model.convs.13            | ELU                   | 0     \n",
      "23 | model.convs.14            | MaxPool2d             | 0     \n",
      "24 | model.convs.15            | Dropout               | 0     \n",
      "25 | model.convs.16            | Conv2d                | 73 K  \n",
      "26 | model.convs.17            | BatchNorm2d           | 256   \n",
      "27 | model.convs.18            | ELU                   | 0     \n",
      "28 | model.convs.19            | MaxPool2d             | 0     \n",
      "29 | model.convs.20            | Dropout               | 0     \n",
      "30 | model.convs.21            | Conv2d                | 73 K  \n",
      "31 | model.convs.22            | BatchNorm2d           | 128   \n",
      "32 | model.convs.23            | ELU                   | 0     \n",
      "33 | model.convs.24            | MaxPool2d             | 0     \n",
      "34 | model.convs.25            | Dropout               | 0     \n",
      "35 | model.LSTMCell            | LSTMCell              | 4 M   \n",
      "36 | model.dense               | Sequential            | 3 K   \n",
      "37 | model.dense.0             | Dropout               | 0     \n",
      "38 | model.dense.1             | BatchNorm1d           | 1 K   \n",
      "39 | model.dense.2             | Linear                | 1 K   \n"
     ]
    },
    {
     "data": {
      "application/vnd.jupyter.widget-view+json": {
       "model_id": "",
       "version_major": 2,
       "version_minor": 0
      },
      "text/plain": [
       "HBox(children=(FloatProgress(value=1.0, bar_style='info', description='Validation sanity check', layout=Layout…"
      ]
     },
     "metadata": {},
     "output_type": "display_data"
    },
    {
     "name": "stdout",
     "output_type": "stream",
     "text": [
      "Val-Acc=0.03793716656787196\n"
     ]
    },
    {
     "data": {
      "application/vnd.jupyter.widget-view+json": {
       "model_id": "75593196145a45d681e63631a6744992",
       "version_major": 2,
       "version_minor": 0
      },
      "text/plain": [
       "HBox(children=(FloatProgress(value=1.0, bar_style='info', description='Training', layout=Layout(flex='2'), max…"
      ]
     },
     "metadata": {},
     "output_type": "display_data"
    },
    {
     "data": {
      "application/vnd.jupyter.widget-view+json": {
       "model_id": "",
       "version_major": 2,
       "version_minor": 0
      },
      "text/plain": [
       "HBox(children=(FloatProgress(value=1.0, bar_style='info', description='Validating', layout=Layout(flex='2'), m…"
      ]
     },
     "metadata": {},
     "output_type": "display_data"
    },
    {
     "name": "stdout",
     "output_type": "stream",
     "text": [
      "Val-Acc=0.8156490812092472\n",
      "Train-Acc=0.7891304347826087\n"
     ]
    },
    {
     "data": {
      "application/vnd.jupyter.widget-view+json": {
       "model_id": "",
       "version_major": 2,
       "version_minor": 0
      },
      "text/plain": [
       "HBox(children=(FloatProgress(value=1.0, bar_style='info', description='Validating', layout=Layout(flex='2'), m…"
      ]
     },
     "metadata": {},
     "output_type": "display_data"
    },
    {
     "name": "stdout",
     "output_type": "stream",
     "text": [
      "Val-Acc=0.8340248962655602\n",
      "Train-Acc=0.8209486166007905\n"
     ]
    },
    {
     "data": {
      "application/vnd.jupyter.widget-view+json": {
       "model_id": "",
       "version_major": 2,
       "version_minor": 0
      },
      "text/plain": [
       "HBox(children=(FloatProgress(value=1.0, bar_style='info', description='Validating', layout=Layout(flex='2'), m…"
      ]
     },
     "metadata": {},
     "output_type": "display_data"
    },
    {
     "name": "stdout",
     "output_type": "stream",
     "text": [
      "Val-Acc=0.8429164196799052\n"
     ]
    },
    {
     "name": "stderr",
     "output_type": "stream",
     "text": [
      "[I 2020-07-15 00:59:41,280] Setting status of trial#86 as TrialState.PRUNED. Trial was pruned at epoch 2.\n",
      "GPU available: True, used: True\n",
      "No environment variable for node rank defined. Set as 0.\n",
      "CUDA_VISIBLE_DEVICES: [0]\n",
      "Set SLURM handle signals.\n",
      "\n",
      "   | Name                      | Type                  | Params\n",
      "----------------------------------------------------------------\n",
      "0  | model                     | CRNN8k_D2             | 458 K \n",
      "1  | model.spec                | MelspectrogramStretch | 0     \n",
      "2  | model.spec.spectrogram    | Spectrogram           | 0     \n",
      "3  | model.spec.mel_scale      | MelScale              | 0     \n",
      "4  | model.spec.stft           | Spectrogram           | 0     \n",
      "5  | model.spec.random_stretch | RandomTimeStretch     | 0     \n",
      "6  | model.spec.complex_norm   | ComplexNorm           | 0     \n",
      "7  | model.spec.norm           | SpecNormalization     | 0     \n",
      "8  | model.convs               | Sequential            | 213 K \n",
      "9  | model.convs.0             | Conv2d                | 320   \n",
      "10 | model.convs.1             | BatchNorm2d           | 64    \n",
      "11 | model.convs.2             | ELU                   | 0     \n",
      "12 | model.convs.3             | Conv2d                | 9 K   \n",
      "13 | model.convs.4             | BatchNorm2d           | 64    \n",
      "14 | model.convs.5             | ELU                   | 0     \n",
      "15 | model.convs.6             | MaxPool2d             | 0     \n",
      "16 | model.convs.7             | Dropout               | 0     \n",
      "17 | model.convs.8             | Conv2d                | 18 K  \n",
      "18 | model.convs.9             | BatchNorm2d           | 128   \n",
      "19 | model.convs.10            | ELU                   | 0     \n",
      "20 | model.convs.11            | Conv2d                | 36 K  \n",
      "21 | model.convs.12            | BatchNorm2d           | 128   \n",
      "22 | model.convs.13            | ELU                   | 0     \n",
      "23 | model.convs.14            | MaxPool2d             | 0     \n",
      "24 | model.convs.15            | Dropout               | 0     \n",
      "25 | model.convs.16            | Conv2d                | 73 K  \n",
      "26 | model.convs.17            | BatchNorm2d           | 256   \n",
      "27 | model.convs.18            | ELU                   | 0     \n",
      "28 | model.convs.19            | MaxPool2d             | 0     \n",
      "29 | model.convs.20            | Dropout               | 0     \n",
      "30 | model.convs.21            | Conv2d                | 73 K  \n",
      "31 | model.convs.22            | BatchNorm2d           | 128   \n",
      "32 | model.convs.23            | ELU                   | 0     \n",
      "33 | model.convs.24            | MaxPool2d             | 0     \n",
      "34 | model.convs.25            | Dropout               | 0     \n",
      "35 | model.LSTMCell            | LSTMCell              | 244 K \n",
      "36 | model.dense               | Sequential            | 538   \n",
      "37 | model.dense.0             | Dropout               | 0     \n",
      "38 | model.dense.1             | BatchNorm1d           | 268   \n",
      "39 | model.dense.2             | Linear                | 270   \n"
     ]
    },
    {
     "data": {
      "application/vnd.jupyter.widget-view+json": {
       "model_id": "",
       "version_major": 2,
       "version_minor": 0
      },
      "text/plain": [
       "HBox(children=(FloatProgress(value=1.0, bar_style='info', description='Validation sanity check', layout=Layout…"
      ]
     },
     "metadata": {},
     "output_type": "display_data"
    },
    {
     "name": "stdout",
     "output_type": "stream",
     "text": [
      "Val-Acc=0.03793716656787196\n"
     ]
    },
    {
     "data": {
      "application/vnd.jupyter.widget-view+json": {
       "model_id": "98d3bd24143d4579bfd883d81f940419",
       "version_major": 2,
       "version_minor": 0
      },
      "text/plain": [
       "HBox(children=(FloatProgress(value=1.0, bar_style='info', description='Training', layout=Layout(flex='2'), max…"
      ]
     },
     "metadata": {},
     "output_type": "display_data"
    },
    {
     "data": {
      "application/vnd.jupyter.widget-view+json": {
       "model_id": "",
       "version_major": 2,
       "version_minor": 0
      },
      "text/plain": [
       "HBox(children=(FloatProgress(value=1.0, bar_style='info', description='Validating', layout=Layout(flex='2'), m…"
      ]
     },
     "metadata": {},
     "output_type": "display_data"
    },
    {
     "name": "stdout",
     "output_type": "stream",
     "text": [
      "Val-Acc=0.8067575577949022\n",
      "Train-Acc=0.7592885375494071\n"
     ]
    },
    {
     "data": {
      "application/vnd.jupyter.widget-view+json": {
       "model_id": "",
       "version_major": 2,
       "version_minor": 0
      },
      "text/plain": [
       "HBox(children=(FloatProgress(value=1.0, bar_style='info', description='Validating', layout=Layout(flex='2'), m…"
      ]
     },
     "metadata": {},
     "output_type": "display_data"
    },
    {
     "name": "stdout",
     "output_type": "stream",
     "text": [
      "Val-Acc=0.8245406046235921\n"
     ]
    },
    {
     "name": "stderr",
     "output_type": "stream",
     "text": [
      "[I 2020-07-15 00:59:57,764] Setting status of trial#87 as TrialState.PRUNED. Trial was pruned at epoch 1.\n",
      "GPU available: True, used: True\n",
      "No environment variable for node rank defined. Set as 0.\n",
      "CUDA_VISIBLE_DEVICES: [0]\n",
      "Set SLURM handle signals.\n",
      "\n",
      "   | Name                      | Type                  | Params\n",
      "----------------------------------------------------------------\n",
      "0  | model                     | CRNN8k_D2             | 5 M   \n",
      "1  | model.spec                | MelspectrogramStretch | 0     \n",
      "2  | model.spec.spectrogram    | Spectrogram           | 0     \n",
      "3  | model.spec.mel_scale      | MelScale              | 0     \n",
      "4  | model.spec.stft           | Spectrogram           | 0     \n",
      "5  | model.spec.random_stretch | RandomTimeStretch     | 0     \n",
      "6  | model.spec.complex_norm   | ComplexNorm           | 0     \n",
      "7  | model.spec.norm           | SpecNormalization     | 0     \n",
      "8  | model.convs               | Sequential            | 213 K \n",
      "9  | model.convs.0             | Conv2d                | 320   \n",
      "10 | model.convs.1             | BatchNorm2d           | 64    \n",
      "11 | model.convs.2             | ELU                   | 0     \n",
      "12 | model.convs.3             | Conv2d                | 9 K   \n",
      "13 | model.convs.4             | BatchNorm2d           | 64    \n",
      "14 | model.convs.5             | ELU                   | 0     \n",
      "15 | model.convs.6             | MaxPool2d             | 0     \n",
      "16 | model.convs.7             | Dropout               | 0     \n",
      "17 | model.convs.8             | Conv2d                | 18 K  \n",
      "18 | model.convs.9             | BatchNorm2d           | 128   \n",
      "19 | model.convs.10            | ELU                   | 0     \n",
      "20 | model.convs.11            | Conv2d                | 36 K  \n",
      "21 | model.convs.12            | BatchNorm2d           | 128   \n",
      "22 | model.convs.13            | ELU                   | 0     \n",
      "23 | model.convs.14            | MaxPool2d             | 0     \n",
      "24 | model.convs.15            | Dropout               | 0     \n",
      "25 | model.convs.16            | Conv2d                | 73 K  \n",
      "26 | model.convs.17            | BatchNorm2d           | 256   \n",
      "27 | model.convs.18            | ELU                   | 0     \n",
      "28 | model.convs.19            | MaxPool2d             | 0     \n",
      "29 | model.convs.20            | Dropout               | 0     \n",
      "30 | model.convs.21            | Conv2d                | 73 K  \n",
      "31 | model.convs.22            | BatchNorm2d           | 128   \n",
      "32 | model.convs.23            | ELU                   | 0     \n",
      "33 | model.convs.24            | MaxPool2d             | 0     \n",
      "34 | model.convs.25            | Dropout               | 0     \n",
      "35 | model.LSTMCell            | LSTMCell              | 5 M   \n",
      "36 | model.dense               | Sequential            | 3 K   \n",
      "37 | model.dense.0             | Dropout               | 0     \n",
      "38 | model.dense.1             | BatchNorm1d           | 1 K   \n",
      "39 | model.dense.2             | Linear                | 1 K   \n"
     ]
    },
    {
     "data": {
      "application/vnd.jupyter.widget-view+json": {
       "model_id": "",
       "version_major": 2,
       "version_minor": 0
      },
      "text/plain": [
       "HBox(children=(FloatProgress(value=1.0, bar_style='info', description='Validation sanity check', layout=Layout…"
      ]
     },
     "metadata": {},
     "output_type": "display_data"
    },
    {
     "name": "stdout",
     "output_type": "stream",
     "text": [
      "Val-Acc=0.03793716656787196\n"
     ]
    },
    {
     "data": {
      "application/vnd.jupyter.widget-view+json": {
       "model_id": "b2ae58a8d3c84e348b6eb13309944d0d",
       "version_major": 2,
       "version_minor": 0
      },
      "text/plain": [
       "HBox(children=(FloatProgress(value=1.0, bar_style='info', description='Training', layout=Layout(flex='2'), max…"
      ]
     },
     "metadata": {},
     "output_type": "display_data"
    },
    {
     "data": {
      "application/vnd.jupyter.widget-view+json": {
       "model_id": "",
       "version_major": 2,
       "version_minor": 0
      },
      "text/plain": [
       "HBox(children=(FloatProgress(value=1.0, bar_style='info', description='Validating', layout=Layout(flex='2'), m…"
      ]
     },
     "metadata": {},
     "output_type": "display_data"
    },
    {
     "name": "stdout",
     "output_type": "stream",
     "text": [
      "Val-Acc=0.8334321280379372\n",
      "Train-Acc=0.782608695652174\n"
     ]
    },
    {
     "data": {
      "application/vnd.jupyter.widget-view+json": {
       "model_id": "",
       "version_major": 2,
       "version_minor": 0
      },
      "text/plain": [
       "HBox(children=(FloatProgress(value=1.0, bar_style='info', description='Validating', layout=Layout(flex='2'), m…"
      ]
     },
     "metadata": {},
     "output_type": "display_data"
    },
    {
     "name": "stdout",
     "output_type": "stream",
     "text": [
      "Val-Acc=0.8601066982809722\n",
      "Train-Acc=0.8260869565217391\n"
     ]
    },
    {
     "data": {
      "application/vnd.jupyter.widget-view+json": {
       "model_id": "",
       "version_major": 2,
       "version_minor": 0
      },
      "text/plain": [
       "HBox(children=(FloatProgress(value=1.0, bar_style='info', description='Validating', layout=Layout(flex='2'), m…"
      ]
     },
     "metadata": {},
     "output_type": "display_data"
    },
    {
     "name": "stdout",
     "output_type": "stream",
     "text": [
      "Val-Acc=0.8014226437462952\n",
      "Train-Acc=0.8478260869565217\n"
     ]
    },
    {
     "data": {
      "application/vnd.jupyter.widget-view+json": {
       "model_id": "",
       "version_major": 2,
       "version_minor": 0
      },
      "text/plain": [
       "HBox(children=(FloatProgress(value=1.0, bar_style='info', description='Validating', layout=Layout(flex='2'), m…"
      ]
     },
     "metadata": {},
     "output_type": "display_data"
    },
    {
     "name": "stdout",
     "output_type": "stream",
     "text": [
      "Val-Acc=0.8565500889152341\n",
      "Train-Acc=0.8535573122529644\n"
     ]
    },
    {
     "data": {
      "application/vnd.jupyter.widget-view+json": {
       "model_id": "",
       "version_major": 2,
       "version_minor": 0
      },
      "text/plain": [
       "HBox(children=(FloatProgress(value=1.0, bar_style='info', description='Validating', layout=Layout(flex='2'), m…"
      ]
     },
     "metadata": {},
     "output_type": "display_data"
    },
    {
     "name": "stdout",
     "output_type": "stream",
     "text": [
      "Val-Acc=0.8583283935981031\n"
     ]
    },
    {
     "name": "stderr",
     "output_type": "stream",
     "text": [
      "[I 2020-07-15 01:00:39,293] Setting status of trial#88 as TrialState.PRUNED. Trial was pruned at epoch 4.\n",
      "GPU available: True, used: True\n",
      "No environment variable for node rank defined. Set as 0.\n",
      "CUDA_VISIBLE_DEVICES: [0]\n",
      "Set SLURM handle signals.\n",
      "\n",
      "   | Name                      | Type                  | Params\n",
      "----------------------------------------------------------------\n",
      "0  | model                     | CRNN8k_D2             | 744 K \n",
      "1  | model.spec                | MelspectrogramStretch | 0     \n",
      "2  | model.spec.spectrogram    | Spectrogram           | 0     \n",
      "3  | model.spec.mel_scale      | MelScale              | 0     \n",
      "4  | model.spec.stft           | Spectrogram           | 0     \n",
      "5  | model.spec.random_stretch | RandomTimeStretch     | 0     \n",
      "6  | model.spec.complex_norm   | ComplexNorm           | 0     \n",
      "7  | model.spec.norm           | SpecNormalization     | 0     \n",
      "8  | model.convs               | Sequential            | 213 K \n",
      "9  | model.convs.0             | Conv2d                | 320   \n",
      "10 | model.convs.1             | BatchNorm2d           | 64    \n",
      "11 | model.convs.2             | ELU                   | 0     \n",
      "12 | model.convs.3             | Conv2d                | 9 K   \n",
      "13 | model.convs.4             | BatchNorm2d           | 64    \n",
      "14 | model.convs.5             | ELU                   | 0     \n",
      "15 | model.convs.6             | MaxPool2d             | 0     \n",
      "16 | model.convs.7             | Dropout               | 0     \n",
      "17 | model.convs.8             | Conv2d                | 18 K  \n",
      "18 | model.convs.9             | BatchNorm2d           | 128   \n",
      "19 | model.convs.10            | ELU                   | 0     \n",
      "20 | model.convs.11            | Conv2d                | 36 K  \n",
      "21 | model.convs.12            | BatchNorm2d           | 128   \n",
      "22 | model.convs.13            | ELU                   | 0     \n",
      "23 | model.convs.14            | MaxPool2d             | 0     \n",
      "24 | model.convs.15            | Dropout               | 0     \n",
      "25 | model.convs.16            | Conv2d                | 73 K  \n",
      "26 | model.convs.17            | BatchNorm2d           | 256   \n",
      "27 | model.convs.18            | ELU                   | 0     \n",
      "28 | model.convs.19            | MaxPool2d             | 0     \n",
      "29 | model.convs.20            | Dropout               | 0     \n",
      "30 | model.convs.21            | Conv2d                | 73 K  \n",
      "31 | model.convs.22            | BatchNorm2d           | 128   \n",
      "32 | model.convs.23            | ELU                   | 0     \n",
      "33 | model.convs.24            | MaxPool2d             | 0     \n",
      "34 | model.convs.25            | Dropout               | 0     \n",
      "35 | model.LSTMCell            | LSTMCell              | 529 K \n",
      "36 | model.dense               | Sequential            | 950   \n",
      "37 | model.dense.0             | Dropout               | 0     \n",
      "38 | model.dense.1             | BatchNorm1d           | 474   \n",
      "39 | model.dense.2             | Linear                | 476   \n"
     ]
    },
    {
     "data": {
      "application/vnd.jupyter.widget-view+json": {
       "model_id": "",
       "version_major": 2,
       "version_minor": 0
      },
      "text/plain": [
       "HBox(children=(FloatProgress(value=1.0, bar_style='info', description='Validation sanity check', layout=Layout…"
      ]
     },
     "metadata": {},
     "output_type": "display_data"
    },
    {
     "name": "stdout",
     "output_type": "stream",
     "text": [
      "Val-Acc=0.03793716656787196\n"
     ]
    },
    {
     "data": {
      "application/vnd.jupyter.widget-view+json": {
       "model_id": "29a1554ecfc34476b35efbee7b803336",
       "version_major": 2,
       "version_minor": 0
      },
      "text/plain": [
       "HBox(children=(FloatProgress(value=1.0, bar_style='info', description='Training', layout=Layout(flex='2'), max…"
      ]
     },
     "metadata": {},
     "output_type": "display_data"
    },
    {
     "data": {
      "application/vnd.jupyter.widget-view+json": {
       "model_id": "",
       "version_major": 2,
       "version_minor": 0
      },
      "text/plain": [
       "HBox(children=(FloatProgress(value=1.0, bar_style='info', description='Validating', layout=Layout(flex='2'), m…"
      ]
     },
     "metadata": {},
     "output_type": "display_data"
    },
    {
     "name": "stdout",
     "output_type": "stream",
     "text": [
      "Val-Acc=0.8197984588026082\n",
      "Train-Acc=0.7867588932806324\n"
     ]
    },
    {
     "data": {
      "application/vnd.jupyter.widget-view+json": {
       "model_id": "",
       "version_major": 2,
       "version_minor": 0
      },
      "text/plain": [
       "HBox(children=(FloatProgress(value=1.0, bar_style='info', description='Validating', layout=Layout(flex='2'), m…"
      ]
     },
     "metadata": {},
     "output_type": "display_data"
    },
    {
     "name": "stdout",
     "output_type": "stream",
     "text": [
      "Val-Acc=0.8387670420865442\n",
      "Train-Acc=0.8146245059288537\n"
     ]
    },
    {
     "data": {
      "application/vnd.jupyter.widget-view+json": {
       "model_id": "",
       "version_major": 2,
       "version_minor": 0
      },
      "text/plain": [
       "HBox(children=(FloatProgress(value=1.0, bar_style='info', description='Validating', layout=Layout(flex='2'), m…"
      ]
     },
     "metadata": {},
     "output_type": "display_data"
    },
    {
     "name": "stdout",
     "output_type": "stream",
     "text": [
      "Val-Acc=0.8518079430942501\n",
      "Train-Acc=0.8219367588932807\n"
     ]
    },
    {
     "data": {
      "application/vnd.jupyter.widget-view+json": {
       "model_id": "",
       "version_major": 2,
       "version_minor": 0
      },
      "text/plain": [
       "HBox(children=(FloatProgress(value=1.0, bar_style='info', description='Validating', layout=Layout(flex='2'), m…"
      ]
     },
     "metadata": {},
     "output_type": "display_data"
    },
    {
     "name": "stdout",
     "output_type": "stream",
     "text": [
      "Val-Acc=0.8524007113218731\n"
     ]
    },
    {
     "name": "stderr",
     "output_type": "stream",
     "text": [
      "[I 2020-07-15 01:01:16,025] Setting status of trial#89 as TrialState.PRUNED. Trial was pruned at epoch 3.\n",
      "GPU available: True, used: True\n",
      "No environment variable for node rank defined. Set as 0.\n",
      "CUDA_VISIBLE_DEVICES: [0]\n",
      "Set SLURM handle signals.\n",
      "\n",
      "   | Name                      | Type                  | Params\n",
      "----------------------------------------------------------------\n",
      "0  | model                     | CRNN8k_D2             | 4 M   \n",
      "1  | model.spec                | MelspectrogramStretch | 0     \n",
      "2  | model.spec.spectrogram    | Spectrogram           | 0     \n",
      "3  | model.spec.mel_scale      | MelScale              | 0     \n",
      "4  | model.spec.stft           | Spectrogram           | 0     \n",
      "5  | model.spec.random_stretch | RandomTimeStretch     | 0     \n",
      "6  | model.spec.complex_norm   | ComplexNorm           | 0     \n",
      "7  | model.spec.norm           | SpecNormalization     | 0     \n",
      "8  | model.convs               | Sequential            | 213 K \n",
      "9  | model.convs.0             | Conv2d                | 320   \n",
      "10 | model.convs.1             | BatchNorm2d           | 64    \n",
      "11 | model.convs.2             | ELU                   | 0     \n",
      "12 | model.convs.3             | Conv2d                | 9 K   \n",
      "13 | model.convs.4             | BatchNorm2d           | 64    \n",
      "14 | model.convs.5             | ELU                   | 0     \n",
      "15 | model.convs.6             | MaxPool2d             | 0     \n",
      "16 | model.convs.7             | Dropout               | 0     \n",
      "17 | model.convs.8             | Conv2d                | 18 K  \n",
      "18 | model.convs.9             | BatchNorm2d           | 128   \n",
      "19 | model.convs.10            | ELU                   | 0     \n",
      "20 | model.convs.11            | Conv2d                | 36 K  \n",
      "21 | model.convs.12            | BatchNorm2d           | 128   \n",
      "22 | model.convs.13            | ELU                   | 0     \n",
      "23 | model.convs.14            | MaxPool2d             | 0     \n",
      "24 | model.convs.15            | Dropout               | 0     \n",
      "25 | model.convs.16            | Conv2d                | 73 K  \n",
      "26 | model.convs.17            | BatchNorm2d           | 256   \n",
      "27 | model.convs.18            | ELU                   | 0     \n",
      "28 | model.convs.19            | MaxPool2d             | 0     \n",
      "29 | model.convs.20            | Dropout               | 0     \n",
      "30 | model.convs.21            | Conv2d                | 73 K  \n",
      "31 | model.convs.22            | BatchNorm2d           | 128   \n",
      "32 | model.convs.23            | ELU                   | 0     \n",
      "33 | model.convs.24            | MaxPool2d             | 0     \n",
      "34 | model.convs.25            | Dropout               | 0     \n",
      "35 | model.LSTMCell            | LSTMCell              | 4 M   \n",
      "36 | model.dense               | Sequential            | 3 K   \n",
      "37 | model.dense.0             | Dropout               | 0     \n",
      "38 | model.dense.1             | BatchNorm1d           | 1 K   \n",
      "39 | model.dense.2             | Linear                | 1 K   \n"
     ]
    },
    {
     "data": {
      "application/vnd.jupyter.widget-view+json": {
       "model_id": "",
       "version_major": 2,
       "version_minor": 0
      },
      "text/plain": [
       "HBox(children=(FloatProgress(value=1.0, bar_style='info', description='Validation sanity check', layout=Layout…"
      ]
     },
     "metadata": {},
     "output_type": "display_data"
    },
    {
     "name": "stdout",
     "output_type": "stream",
     "text": [
      "Val-Acc=0.03793716656787196\n"
     ]
    },
    {
     "data": {
      "application/vnd.jupyter.widget-view+json": {
       "model_id": "511198dfffd34b54a001b628cea81ffc",
       "version_major": 2,
       "version_minor": 0
      },
      "text/plain": [
       "HBox(children=(FloatProgress(value=1.0, bar_style='info', description='Training', layout=Layout(flex='2'), max…"
      ]
     },
     "metadata": {},
     "output_type": "display_data"
    },
    {
     "data": {
      "application/vnd.jupyter.widget-view+json": {
       "model_id": "",
       "version_major": 2,
       "version_minor": 0
      },
      "text/plain": [
       "HBox(children=(FloatProgress(value=1.0, bar_style='info', description='Validating', layout=Layout(flex='2'), m…"
      ]
     },
     "metadata": {},
     "output_type": "display_data"
    },
    {
     "name": "stdout",
     "output_type": "stream",
     "text": [
      "Val-Acc=0.8375815056312982\n",
      "Train-Acc=0.7814229249011858\n"
     ]
    },
    {
     "data": {
      "application/vnd.jupyter.widget-view+json": {
       "model_id": "",
       "version_major": 2,
       "version_minor": 0
      },
      "text/plain": [
       "HBox(children=(FloatProgress(value=1.0, bar_style='info', description='Validating', layout=Layout(flex='2'), m…"
      ]
     },
     "metadata": {},
     "output_type": "display_data"
    },
    {
     "name": "stdout",
     "output_type": "stream",
     "text": [
      "Val-Acc=0.8263189093064611\n",
      "Train-Acc=0.8306324110671937\n"
     ]
    },
    {
     "data": {
      "application/vnd.jupyter.widget-view+json": {
       "model_id": "",
       "version_major": 2,
       "version_minor": 0
      },
      "text/plain": [
       "HBox(children=(FloatProgress(value=1.0, bar_style='info', description='Validating', layout=Layout(flex='2'), m…"
      ]
     },
     "metadata": {},
     "output_type": "display_data"
    },
    {
     "name": "stdout",
     "output_type": "stream",
     "text": [
      "Val-Acc=0.8168346176644932\n"
     ]
    },
    {
     "name": "stderr",
     "output_type": "stream",
     "text": [
      "[I 2020-07-15 01:01:53,093] Setting status of trial#90 as TrialState.PRUNED. Trial was pruned at epoch 2.\n",
      "GPU available: True, used: True\n",
      "No environment variable for node rank defined. Set as 0.\n",
      "CUDA_VISIBLE_DEVICES: [0]\n",
      "Set SLURM handle signals.\n",
      "\n",
      "   | Name                      | Type                  | Params\n",
      "----------------------------------------------------------------\n",
      "0  | model                     | CRNN8k_D2             | 5 M   \n",
      "1  | model.spec                | MelspectrogramStretch | 0     \n",
      "2  | model.spec.spectrogram    | Spectrogram           | 0     \n",
      "3  | model.spec.mel_scale      | MelScale              | 0     \n",
      "4  | model.spec.stft           | Spectrogram           | 0     \n",
      "5  | model.spec.random_stretch | RandomTimeStretch     | 0     \n",
      "6  | model.spec.complex_norm   | ComplexNorm           | 0     \n",
      "7  | model.spec.norm           | SpecNormalization     | 0     \n",
      "8  | model.convs               | Sequential            | 213 K \n",
      "9  | model.convs.0             | Conv2d                | 320   \n",
      "10 | model.convs.1             | BatchNorm2d           | 64    \n",
      "11 | model.convs.2             | ELU                   | 0     \n",
      "12 | model.convs.3             | Conv2d                | 9 K   \n",
      "13 | model.convs.4             | BatchNorm2d           | 64    \n",
      "14 | model.convs.5             | ELU                   | 0     \n",
      "15 | model.convs.6             | MaxPool2d             | 0     \n",
      "16 | model.convs.7             | Dropout               | 0     \n",
      "17 | model.convs.8             | Conv2d                | 18 K  \n",
      "18 | model.convs.9             | BatchNorm2d           | 128   \n",
      "19 | model.convs.10            | ELU                   | 0     \n",
      "20 | model.convs.11            | Conv2d                | 36 K  \n",
      "21 | model.convs.12            | BatchNorm2d           | 128   \n",
      "22 | model.convs.13            | ELU                   | 0     \n",
      "23 | model.convs.14            | MaxPool2d             | 0     \n",
      "24 | model.convs.15            | Dropout               | 0     \n",
      "25 | model.convs.16            | Conv2d                | 73 K  \n",
      "26 | model.convs.17            | BatchNorm2d           | 256   \n",
      "27 | model.convs.18            | ELU                   | 0     \n",
      "28 | model.convs.19            | MaxPool2d             | 0     \n",
      "29 | model.convs.20            | Dropout               | 0     \n",
      "30 | model.convs.21            | Conv2d                | 73 K  \n",
      "31 | model.convs.22            | BatchNorm2d           | 128   \n",
      "32 | model.convs.23            | ELU                   | 0     \n",
      "33 | model.convs.24            | MaxPool2d             | 0     \n",
      "34 | model.convs.25            | Dropout               | 0     \n",
      "35 | model.LSTMCell            | LSTMCell              | 5 M   \n",
      "36 | model.dense               | Sequential            | 4 K   \n",
      "37 | model.dense.0             | Dropout               | 0     \n",
      "38 | model.dense.1             | BatchNorm1d           | 2 K   \n",
      "39 | model.dense.2             | Linear                | 2 K   \n"
     ]
    },
    {
     "data": {
      "application/vnd.jupyter.widget-view+json": {
       "model_id": "",
       "version_major": 2,
       "version_minor": 0
      },
      "text/plain": [
       "HBox(children=(FloatProgress(value=1.0, bar_style='info', description='Validation sanity check', layout=Layout…"
      ]
     },
     "metadata": {},
     "output_type": "display_data"
    },
    {
     "name": "stdout",
     "output_type": "stream",
     "text": [
      "Val-Acc=0.03793716656787196\n"
     ]
    },
    {
     "data": {
      "application/vnd.jupyter.widget-view+json": {
       "model_id": "b0b14c2e36524d0f8d061c502ac63764",
       "version_major": 2,
       "version_minor": 0
      },
      "text/plain": [
       "HBox(children=(FloatProgress(value=1.0, bar_style='info', description='Training', layout=Layout(flex='2'), max…"
      ]
     },
     "metadata": {},
     "output_type": "display_data"
    },
    {
     "data": {
      "application/vnd.jupyter.widget-view+json": {
       "model_id": "",
       "version_major": 2,
       "version_minor": 0
      },
      "text/plain": [
       "HBox(children=(FloatProgress(value=1.0, bar_style='info', description='Validating', layout=Layout(flex='2'), m…"
      ]
     },
     "metadata": {},
     "output_type": "display_data"
    },
    {
     "name": "stdout",
     "output_type": "stream",
     "text": [
      "Val-Acc=0.8322465915826912\n",
      "Train-Acc=0.7893280632411067\n"
     ]
    },
    {
     "data": {
      "application/vnd.jupyter.widget-view+json": {
       "model_id": "",
       "version_major": 2,
       "version_minor": 0
      },
      "text/plain": [
       "HBox(children=(FloatProgress(value=1.0, bar_style='info', description='Validating', layout=Layout(flex='2'), m…"
      ]
     },
     "metadata": {},
     "output_type": "display_data"
    },
    {
     "name": "stdout",
     "output_type": "stream",
     "text": [
      "Val-Acc=0.8381742738589212\n",
      "Train-Acc=0.8209486166007905\n"
     ]
    },
    {
     "data": {
      "application/vnd.jupyter.widget-view+json": {
       "model_id": "",
       "version_major": 2,
       "version_minor": 0
      },
      "text/plain": [
       "HBox(children=(FloatProgress(value=1.0, bar_style='info', description='Validating', layout=Layout(flex='2'), m…"
      ]
     },
     "metadata": {},
     "output_type": "display_data"
    },
    {
     "name": "stdout",
     "output_type": "stream",
     "text": [
      "Val-Acc=0.8322465915826912\n"
     ]
    },
    {
     "name": "stderr",
     "output_type": "stream",
     "text": [
      "[I 2020-07-15 01:02:18,424] Setting status of trial#91 as TrialState.PRUNED. Trial was pruned at epoch 2.\n",
      "GPU available: True, used: True\n",
      "No environment variable for node rank defined. Set as 0.\n",
      "CUDA_VISIBLE_DEVICES: [0]\n",
      "Set SLURM handle signals.\n",
      "\n",
      "   | Name                      | Type                  | Params\n",
      "----------------------------------------------------------------\n",
      "0  | model                     | CRNN8k_D2             | 257 K \n",
      "1  | model.spec                | MelspectrogramStretch | 0     \n",
      "2  | model.spec.spectrogram    | Spectrogram           | 0     \n",
      "3  | model.spec.mel_scale      | MelScale              | 0     \n",
      "4  | model.spec.stft           | Spectrogram           | 0     \n",
      "5  | model.spec.random_stretch | RandomTimeStretch     | 0     \n",
      "6  | model.spec.complex_norm   | ComplexNorm           | 0     \n",
      "7  | model.spec.norm           | SpecNormalization     | 0     \n",
      "8  | model.convs               | Sequential            | 213 K \n",
      "9  | model.convs.0             | Conv2d                | 320   \n",
      "10 | model.convs.1             | BatchNorm2d           | 64    \n",
      "11 | model.convs.2             | ELU                   | 0     \n",
      "12 | model.convs.3             | Conv2d                | 9 K   \n",
      "13 | model.convs.4             | BatchNorm2d           | 64    \n",
      "14 | model.convs.5             | ELU                   | 0     \n",
      "15 | model.convs.6             | MaxPool2d             | 0     \n",
      "16 | model.convs.7             | Dropout               | 0     \n",
      "17 | model.convs.8             | Conv2d                | 18 K  \n",
      "18 | model.convs.9             | BatchNorm2d           | 128   \n",
      "19 | model.convs.10            | ELU                   | 0     \n",
      "20 | model.convs.11            | Conv2d                | 36 K  \n",
      "21 | model.convs.12            | BatchNorm2d           | 128   \n",
      "22 | model.convs.13            | ELU                   | 0     \n",
      "23 | model.convs.14            | MaxPool2d             | 0     \n",
      "24 | model.convs.15            | Dropout               | 0     \n",
      "25 | model.convs.16            | Conv2d                | 73 K  \n",
      "26 | model.convs.17            | BatchNorm2d           | 256   \n",
      "27 | model.convs.18            | ELU                   | 0     \n",
      "28 | model.convs.19            | MaxPool2d             | 0     \n",
      "29 | model.convs.20            | Dropout               | 0     \n",
      "30 | model.convs.21            | Conv2d                | 73 K  \n",
      "31 | model.convs.22            | BatchNorm2d           | 128   \n",
      "32 | model.convs.23            | ELU                   | 0     \n",
      "33 | model.convs.24            | MaxPool2d             | 0     \n",
      "34 | model.convs.25            | Dropout               | 0     \n",
      "35 | model.LSTMCell            | LSTMCell              | 43 K  \n",
      "36 | model.dense               | Sequential            | 126   \n",
      "37 | model.dense.0             | Dropout               | 0     \n",
      "38 | model.dense.1             | BatchNorm1d           | 62    \n",
      "39 | model.dense.2             | Linear                | 64    \n"
     ]
    },
    {
     "data": {
      "application/vnd.jupyter.widget-view+json": {
       "model_id": "",
       "version_major": 2,
       "version_minor": 0
      },
      "text/plain": [
       "HBox(children=(FloatProgress(value=1.0, bar_style='info', description='Validation sanity check', layout=Layout…"
      ]
     },
     "metadata": {},
     "output_type": "display_data"
    },
    {
     "name": "stdout",
     "output_type": "stream",
     "text": [
      "Val-Acc=0.033787788974510964\n"
     ]
    },
    {
     "data": {
      "application/vnd.jupyter.widget-view+json": {
       "model_id": "96c96c6f943849eb886ea6bfdb57de5c",
       "version_major": 2,
       "version_minor": 0
      },
      "text/plain": [
       "HBox(children=(FloatProgress(value=1.0, bar_style='info', description='Training', layout=Layout(flex='2'), max…"
      ]
     },
     "metadata": {},
     "output_type": "display_data"
    },
    {
     "data": {
      "application/vnd.jupyter.widget-view+json": {
       "model_id": "",
       "version_major": 2,
       "version_minor": 0
      },
      "text/plain": [
       "HBox(children=(FloatProgress(value=1.0, bar_style='info', description='Validating', layout=Layout(flex='2'), m…"
      ]
     },
     "metadata": {},
     "output_type": "display_data"
    },
    {
     "name": "stdout",
     "output_type": "stream",
     "text": [
      "Val-Acc=0.7048014226437463\n",
      "Train-Acc=0.6579051383399209\n"
     ]
    },
    {
     "data": {
      "application/vnd.jupyter.widget-view+json": {
       "model_id": "",
       "version_major": 2,
       "version_minor": 0
      },
      "text/plain": [
       "HBox(children=(FloatProgress(value=1.0, bar_style='info', description='Validating', layout=Layout(flex='2'), m…"
      ]
     },
     "metadata": {},
     "output_type": "display_data"
    },
    {
     "name": "stdout",
     "output_type": "stream",
     "text": [
      "Val-Acc=0.7694131594546533\n"
     ]
    },
    {
     "name": "stderr",
     "output_type": "stream",
     "text": [
      "[I 2020-07-15 01:02:35,440] Setting status of trial#92 as TrialState.PRUNED. Trial was pruned at epoch 1.\n",
      "GPU available: True, used: True\n",
      "No environment variable for node rank defined. Set as 0.\n",
      "CUDA_VISIBLE_DEVICES: [0]\n",
      "Set SLURM handle signals.\n",
      "\n",
      "   | Name                      | Type                  | Params\n",
      "----------------------------------------------------------------\n",
      "0  | model                     | CRNN8k_D2             | 380 K \n",
      "1  | model.spec                | MelspectrogramStretch | 0     \n",
      "2  | model.spec.spectrogram    | Spectrogram           | 0     \n",
      "3  | model.spec.mel_scale      | MelScale              | 0     \n",
      "4  | model.spec.stft           | Spectrogram           | 0     \n",
      "5  | model.spec.random_stretch | RandomTimeStretch     | 0     \n",
      "6  | model.spec.complex_norm   | ComplexNorm           | 0     \n",
      "7  | model.spec.norm           | SpecNormalization     | 0     \n",
      "8  | model.convs               | Sequential            | 213 K \n",
      "9  | model.convs.0             | Conv2d                | 320   \n",
      "10 | model.convs.1             | BatchNorm2d           | 64    \n",
      "11 | model.convs.2             | ELU                   | 0     \n",
      "12 | model.convs.3             | Conv2d                | 9 K   \n",
      "13 | model.convs.4             | BatchNorm2d           | 64    \n",
      "14 | model.convs.5             | ELU                   | 0     \n",
      "15 | model.convs.6             | MaxPool2d             | 0     \n",
      "16 | model.convs.7             | Dropout               | 0     \n",
      "17 | model.convs.8             | Conv2d                | 18 K  \n",
      "18 | model.convs.9             | BatchNorm2d           | 128   \n",
      "19 | model.convs.10            | ELU                   | 0     \n",
      "20 | model.convs.11            | Conv2d                | 36 K  \n",
      "21 | model.convs.12            | BatchNorm2d           | 128   \n",
      "22 | model.convs.13            | ELU                   | 0     \n",
      "23 | model.convs.14            | MaxPool2d             | 0     \n",
      "24 | model.convs.15            | Dropout               | 0     \n",
      "25 | model.convs.16            | Conv2d                | 73 K  \n",
      "26 | model.convs.17            | BatchNorm2d           | 256   \n",
      "27 | model.convs.18            | ELU                   | 0     \n",
      "28 | model.convs.19            | MaxPool2d             | 0     \n",
      "29 | model.convs.20            | Dropout               | 0     \n",
      "30 | model.convs.21            | Conv2d                | 73 K  \n",
      "31 | model.convs.22            | BatchNorm2d           | 128   \n",
      "32 | model.convs.23            | ELU                   | 0     \n",
      "33 | model.convs.24            | MaxPool2d             | 0     \n",
      "34 | model.convs.25            | Dropout               | 0     \n",
      "35 | model.LSTMCell            | LSTMCell              | 166 K \n",
      "36 | model.dense               | Sequential            | 398   \n",
      "37 | model.dense.0             | Dropout               | 0     \n",
      "38 | model.dense.1             | BatchNorm1d           | 198   \n",
      "39 | model.dense.2             | Linear                | 200   \n"
     ]
    },
    {
     "data": {
      "application/vnd.jupyter.widget-view+json": {
       "model_id": "",
       "version_major": 2,
       "version_minor": 0
      },
      "text/plain": [
       "HBox(children=(FloatProgress(value=1.0, bar_style='info', description='Validation sanity check', layout=Layout…"
      ]
     },
     "metadata": {},
     "output_type": "display_data"
    },
    {
     "name": "stdout",
     "output_type": "stream",
     "text": [
      "Val-Acc=0.03793716656787196\n"
     ]
    },
    {
     "data": {
      "application/vnd.jupyter.widget-view+json": {
       "model_id": "673f8a6b7cba417a9eadad020ca5f387",
       "version_major": 2,
       "version_minor": 0
      },
      "text/plain": [
       "HBox(children=(FloatProgress(value=1.0, bar_style='info', description='Training', layout=Layout(flex='2'), max…"
      ]
     },
     "metadata": {},
     "output_type": "display_data"
    },
    {
     "data": {
      "application/vnd.jupyter.widget-view+json": {
       "model_id": "",
       "version_major": 2,
       "version_minor": 0
      },
      "text/plain": [
       "HBox(children=(FloatProgress(value=1.0, bar_style='info', description='Validating', layout=Layout(flex='2'), m…"
      ]
     },
     "metadata": {},
     "output_type": "display_data"
    },
    {
     "name": "stdout",
     "output_type": "stream",
     "text": [
      "Val-Acc=0.8257261410788381\n",
      "Train-Acc=0.791699604743083\n"
     ]
    },
    {
     "data": {
      "application/vnd.jupyter.widget-view+json": {
       "model_id": "",
       "version_major": 2,
       "version_minor": 0
      },
      "text/plain": [
       "HBox(children=(FloatProgress(value=1.0, bar_style='info', description='Validating', layout=Layout(flex='2'), m…"
      ]
     },
     "metadata": {},
     "output_type": "display_data"
    },
    {
     "name": "stdout",
     "output_type": "stream",
     "text": [
      "Val-Acc=0.8393598103141672\n",
      "Train-Acc=0.8256916996047431\n"
     ]
    },
    {
     "data": {
      "application/vnd.jupyter.widget-view+json": {
       "model_id": "",
       "version_major": 2,
       "version_minor": 0
      },
      "text/plain": [
       "HBox(children=(FloatProgress(value=1.0, bar_style='info', description='Validating', layout=Layout(flex='2'), m…"
      ]
     },
     "metadata": {},
     "output_type": "display_data"
    },
    {
     "name": "stdout",
     "output_type": "stream",
     "text": [
      "Val-Acc=0.8565500889152341\n",
      "Train-Acc=0.8484189723320158\n"
     ]
    },
    {
     "data": {
      "application/vnd.jupyter.widget-view+json": {
       "model_id": "b9bc6087771f4aaa8c89d9a685f28e0c",
       "version_major": 2,
       "version_minor": 0
      },
      "text/plain": [
       "HBox(children=(FloatProgress(value=1.0, bar_style='info', description='Validating', layout=Layout(flex='2'), m…"
      ]
     },
     "metadata": {},
     "output_type": "display_data"
    },
    {
     "name": "stderr",
     "output_type": "stream",
     "text": [
      "Detected KeyboardInterrupt, attempting graceful shutdown...\n"
     ]
    },
    {
     "name": "stdout",
     "output_type": "stream",
     "text": [
      "\n",
      "Saved model to \"saved_modelsq/93.p\"\n"
     ]
    },
    {
     "name": "stderr",
     "output_type": "stream",
     "text": [
      "Exception ignored in: <function tqdm.__del__ at 0x7f637d070430>\n",
      "Traceback (most recent call last):\n",
      "  File \"/nfs/students/summer-term-2020/project-4/yan/.conda/envs/cnn_project/lib/python3.8/site-packages/tqdm/std.py\", line 1085, in __del__\n",
      "    def __del__(self):\n",
      "KeyboardInterrupt: \n",
      "[I 2020-07-15 01:03:07,563] Finished trial#93 with value: 0.8565500889152341 with parameters: {'learning_rate': 0.0007355082893104371, 'p_drop': 0.15782142156207, 'lr_decay': 0.790924682678241, 'n_hidden': 99, 'weight_decay': 0.003289985446402963}. Best is trial#44 with value: 0.8944872554831061.\n",
      "GPU available: True, used: True\n",
      "No environment variable for node rank defined. Set as 0.\n",
      "CUDA_VISIBLE_DEVICES: [0]\n",
      "Set SLURM handle signals.\n",
      "\n",
      "   | Name                      | Type                  | Params\n",
      "----------------------------------------------------------------\n",
      "0  | model                     | CRNN8k_D2             | 5 M   \n",
      "1  | model.spec                | MelspectrogramStretch | 0     \n",
      "2  | model.spec.spectrogram    | Spectrogram           | 0     \n",
      "3  | model.spec.mel_scale      | MelScale              | 0     \n",
      "4  | model.spec.stft           | Spectrogram           | 0     \n",
      "5  | model.spec.random_stretch | RandomTimeStretch     | 0     \n",
      "6  | model.spec.complex_norm   | ComplexNorm           | 0     \n",
      "7  | model.spec.norm           | SpecNormalization     | 0     \n",
      "8  | model.convs               | Sequential            | 213 K \n",
      "9  | model.convs.0             | Conv2d                | 320   \n",
      "10 | model.convs.1             | BatchNorm2d           | 64    \n",
      "11 | model.convs.2             | ELU                   | 0     \n",
      "12 | model.convs.3             | Conv2d                | 9 K   \n",
      "13 | model.convs.4             | BatchNorm2d           | 64    \n",
      "14 | model.convs.5             | ELU                   | 0     \n",
      "15 | model.convs.6             | MaxPool2d             | 0     \n",
      "16 | model.convs.7             | Dropout               | 0     \n",
      "17 | model.convs.8             | Conv2d                | 18 K  \n",
      "18 | model.convs.9             | BatchNorm2d           | 128   \n",
      "19 | model.convs.10            | ELU                   | 0     \n",
      "20 | model.convs.11            | Conv2d                | 36 K  \n",
      "21 | model.convs.12            | BatchNorm2d           | 128   \n",
      "22 | model.convs.13            | ELU                   | 0     \n",
      "23 | model.convs.14            | MaxPool2d             | 0     \n",
      "24 | model.convs.15            | Dropout               | 0     \n",
      "25 | model.convs.16            | Conv2d                | 73 K  \n",
      "26 | model.convs.17            | BatchNorm2d           | 256   \n",
      "27 | model.convs.18            | ELU                   | 0     \n",
      "28 | model.convs.19            | MaxPool2d             | 0     \n",
      "29 | model.convs.20            | Dropout               | 0     \n",
      "30 | model.convs.21            | Conv2d                | 73 K  \n",
      "31 | model.convs.22            | BatchNorm2d           | 128   \n",
      "32 | model.convs.23            | ELU                   | 0     \n",
      "33 | model.convs.24            | MaxPool2d             | 0     \n",
      "34 | model.convs.25            | Dropout               | 0     \n",
      "35 | model.LSTMCell            | LSTMCell              | 5 M   \n",
      "36 | model.dense               | Sequential            | 3 K   \n",
      "37 | model.dense.0             | Dropout               | 0     \n",
      "38 | model.dense.1             | BatchNorm1d           | 1 K   \n",
      "39 | model.dense.2             | Linear                | 1 K   \n"
     ]
    },
    {
     "data": {
      "application/vnd.jupyter.widget-view+json": {
       "model_id": "",
       "version_major": 2,
       "version_minor": 0
      },
      "text/plain": [
       "HBox(children=(FloatProgress(value=1.0, bar_style='info', description='Validation sanity check', layout=Layout…"
      ]
     },
     "metadata": {},
     "output_type": "display_data"
    },
    {
     "name": "stdout",
     "output_type": "stream",
     "text": [
      "Val-Acc=0.03793716656787196\n"
     ]
    },
    {
     "data": {
      "application/vnd.jupyter.widget-view+json": {
       "model_id": "80ebbe3f72c74bab9bcf7a022e3cfa5f",
       "version_major": 2,
       "version_minor": 0
      },
      "text/plain": [
       "HBox(children=(FloatProgress(value=1.0, bar_style='info', description='Training', layout=Layout(flex='2'), max…"
      ]
     },
     "metadata": {},
     "output_type": "display_data"
    },
    {
     "name": "stderr",
     "output_type": "stream",
     "text": [
      "Detected KeyboardInterrupt, attempting graceful shutdown...\n"
     ]
    },
    {
     "name": "stdout",
     "output_type": "stream",
     "text": [
      "\n"
     ]
    },
    {
     "ename": "KeyboardInterrupt",
     "evalue": "",
     "output_type": "error",
     "traceback": [
      "\u001b[0;31m---------------------------------------------------------------------------\u001b[0m",
      "\u001b[0;31mKeyboardInterrupt\u001b[0m                         Traceback (most recent call last)",
      "\u001b[0;32m<ipython-input-13-ce1c854bb182>\u001b[0m in \u001b[0;36m<module>\u001b[0;34m\u001b[0m\n\u001b[0;32m----> 1\u001b[0;31m \u001b[0mstudy\u001b[0m\u001b[0;34m.\u001b[0m\u001b[0moptimize\u001b[0m\u001b[0;34m(\u001b[0m\u001b[0mobjective\u001b[0m\u001b[0;34m,\u001b[0m \u001b[0mn_trials\u001b[0m\u001b[0;34m=\u001b[0m\u001b[0;36m2000\u001b[0m\u001b[0;34m,\u001b[0m \u001b[0mtimeout\u001b[0m\u001b[0;34m=\u001b[0m\u001b[0;36m1.5\u001b[0m\u001b[0;34m*\u001b[0m\u001b[0;36m21600\u001b[0m\u001b[0;34m)\u001b[0m \u001b[0;31m#9h\u001b[0m\u001b[0;34m\u001b[0m\u001b[0;34m\u001b[0m\u001b[0m\n\u001b[0m",
      "\u001b[0;32m/nfs/students/summer-term-2020/project-4/yan/.conda/envs/cnn_project/lib/python3.8/site-packages/optuna/study.py\u001b[0m in \u001b[0;36moptimize\u001b[0;34m(self, func, n_trials, timeout, n_jobs, catch, callbacks, gc_after_trial, show_progress_bar)\u001b[0m\n\u001b[1;32m    336\u001b[0m         \u001b[0;32mtry\u001b[0m\u001b[0;34m:\u001b[0m\u001b[0;34m\u001b[0m\u001b[0;34m\u001b[0m\u001b[0m\n\u001b[1;32m    337\u001b[0m             \u001b[0;32mif\u001b[0m \u001b[0mn_jobs\u001b[0m \u001b[0;34m==\u001b[0m \u001b[0;36m1\u001b[0m\u001b[0;34m:\u001b[0m\u001b[0;34m\u001b[0m\u001b[0;34m\u001b[0m\u001b[0m\n\u001b[0;32m--> 338\u001b[0;31m                 self._optimize_sequential(\n\u001b[0m\u001b[1;32m    339\u001b[0m                     \u001b[0mfunc\u001b[0m\u001b[0;34m,\u001b[0m \u001b[0mn_trials\u001b[0m\u001b[0;34m,\u001b[0m \u001b[0mtimeout\u001b[0m\u001b[0;34m,\u001b[0m \u001b[0mcatch\u001b[0m\u001b[0;34m,\u001b[0m \u001b[0mcallbacks\u001b[0m\u001b[0;34m,\u001b[0m \u001b[0mgc_after_trial\u001b[0m\u001b[0;34m,\u001b[0m \u001b[0;32mNone\u001b[0m\u001b[0;34m\u001b[0m\u001b[0;34m\u001b[0m\u001b[0m\n\u001b[1;32m    340\u001b[0m                 )\n",
      "\u001b[0;32m/nfs/students/summer-term-2020/project-4/yan/.conda/envs/cnn_project/lib/python3.8/site-packages/optuna/study.py\u001b[0m in \u001b[0;36m_optimize_sequential\u001b[0;34m(self, func, n_trials, timeout, catch, callbacks, gc_after_trial, time_start)\u001b[0m\n\u001b[1;32m    680\u001b[0m                     \u001b[0;32mbreak\u001b[0m\u001b[0;34m\u001b[0m\u001b[0;34m\u001b[0m\u001b[0m\n\u001b[1;32m    681\u001b[0m \u001b[0;34m\u001b[0m\u001b[0m\n\u001b[0;32m--> 682\u001b[0;31m             \u001b[0mself\u001b[0m\u001b[0;34m.\u001b[0m\u001b[0m_run_trial_and_callbacks\u001b[0m\u001b[0;34m(\u001b[0m\u001b[0mfunc\u001b[0m\u001b[0;34m,\u001b[0m \u001b[0mcatch\u001b[0m\u001b[0;34m,\u001b[0m \u001b[0mcallbacks\u001b[0m\u001b[0;34m,\u001b[0m \u001b[0mgc_after_trial\u001b[0m\u001b[0;34m)\u001b[0m\u001b[0;34m\u001b[0m\u001b[0;34m\u001b[0m\u001b[0m\n\u001b[0m\u001b[1;32m    683\u001b[0m \u001b[0;34m\u001b[0m\u001b[0m\n\u001b[1;32m    684\u001b[0m             \u001b[0mself\u001b[0m\u001b[0;34m.\u001b[0m\u001b[0m_progress_bar\u001b[0m\u001b[0;34m.\u001b[0m\u001b[0mupdate\u001b[0m\u001b[0;34m(\u001b[0m\u001b[0;34m(\u001b[0m\u001b[0mdatetime\u001b[0m\u001b[0;34m.\u001b[0m\u001b[0mdatetime\u001b[0m\u001b[0;34m.\u001b[0m\u001b[0mnow\u001b[0m\u001b[0;34m(\u001b[0m\u001b[0;34m)\u001b[0m \u001b[0;34m-\u001b[0m \u001b[0mtime_start\u001b[0m\u001b[0;34m)\u001b[0m\u001b[0;34m.\u001b[0m\u001b[0mtotal_seconds\u001b[0m\u001b[0;34m(\u001b[0m\u001b[0;34m)\u001b[0m\u001b[0;34m)\u001b[0m\u001b[0;34m\u001b[0m\u001b[0;34m\u001b[0m\u001b[0m\n",
      "\u001b[0;32m/nfs/students/summer-term-2020/project-4/yan/.conda/envs/cnn_project/lib/python3.8/site-packages/optuna/study.py\u001b[0m in \u001b[0;36m_run_trial_and_callbacks\u001b[0;34m(self, func, catch, callbacks, gc_after_trial)\u001b[0m\n\u001b[1;32m    711\u001b[0m         \u001b[0;31m# type: (...) -> None\u001b[0m\u001b[0;34m\u001b[0m\u001b[0;34m\u001b[0m\u001b[0;34m\u001b[0m\u001b[0m\n\u001b[1;32m    712\u001b[0m \u001b[0;34m\u001b[0m\u001b[0m\n\u001b[0;32m--> 713\u001b[0;31m         \u001b[0mtrial\u001b[0m \u001b[0;34m=\u001b[0m \u001b[0mself\u001b[0m\u001b[0;34m.\u001b[0m\u001b[0m_run_trial\u001b[0m\u001b[0;34m(\u001b[0m\u001b[0mfunc\u001b[0m\u001b[0;34m,\u001b[0m \u001b[0mcatch\u001b[0m\u001b[0;34m,\u001b[0m \u001b[0mgc_after_trial\u001b[0m\u001b[0;34m)\u001b[0m\u001b[0;34m\u001b[0m\u001b[0;34m\u001b[0m\u001b[0m\n\u001b[0m\u001b[1;32m    714\u001b[0m         \u001b[0;32mif\u001b[0m \u001b[0mcallbacks\u001b[0m \u001b[0;32mis\u001b[0m \u001b[0;32mnot\u001b[0m \u001b[0;32mNone\u001b[0m\u001b[0;34m:\u001b[0m\u001b[0;34m\u001b[0m\u001b[0;34m\u001b[0m\u001b[0m\n\u001b[1;32m    715\u001b[0m             \u001b[0mfrozen_trial\u001b[0m \u001b[0;34m=\u001b[0m \u001b[0mcopy\u001b[0m\u001b[0;34m.\u001b[0m\u001b[0mdeepcopy\u001b[0m\u001b[0;34m(\u001b[0m\u001b[0mself\u001b[0m\u001b[0;34m.\u001b[0m\u001b[0m_storage\u001b[0m\u001b[0;34m.\u001b[0m\u001b[0mget_trial\u001b[0m\u001b[0;34m(\u001b[0m\u001b[0mtrial\u001b[0m\u001b[0;34m.\u001b[0m\u001b[0m_trial_id\u001b[0m\u001b[0;34m)\u001b[0m\u001b[0;34m)\u001b[0m\u001b[0;34m\u001b[0m\u001b[0;34m\u001b[0m\u001b[0m\n",
      "\u001b[0;32m/nfs/students/summer-term-2020/project-4/yan/.conda/envs/cnn_project/lib/python3.8/site-packages/optuna/study.py\u001b[0m in \u001b[0;36m_run_trial\u001b[0;34m(self, func, catch, gc_after_trial)\u001b[0m\n\u001b[1;32m    732\u001b[0m \u001b[0;34m\u001b[0m\u001b[0m\n\u001b[1;32m    733\u001b[0m         \u001b[0;32mtry\u001b[0m\u001b[0;34m:\u001b[0m\u001b[0;34m\u001b[0m\u001b[0;34m\u001b[0m\u001b[0m\n\u001b[0;32m--> 734\u001b[0;31m             \u001b[0mresult\u001b[0m \u001b[0;34m=\u001b[0m \u001b[0mfunc\u001b[0m\u001b[0;34m(\u001b[0m\u001b[0mtrial\u001b[0m\u001b[0;34m)\u001b[0m\u001b[0;34m\u001b[0m\u001b[0;34m\u001b[0m\u001b[0m\n\u001b[0m\u001b[1;32m    735\u001b[0m         \u001b[0;32mexcept\u001b[0m \u001b[0mexceptions\u001b[0m\u001b[0;34m.\u001b[0m\u001b[0mTrialPruned\u001b[0m \u001b[0;32mas\u001b[0m \u001b[0me\u001b[0m\u001b[0;34m:\u001b[0m\u001b[0;34m\u001b[0m\u001b[0;34m\u001b[0m\u001b[0m\n\u001b[1;32m    736\u001b[0m             message = \"Setting status of trial#{} as {}. {}\".format(\n",
      "\u001b[0;32m<ipython-input-9-3026b5c2d0ac>\u001b[0m in \u001b[0;36mobjective\u001b[0;34m(trial)\u001b[0m\n\u001b[1;32m     28\u001b[0m \u001b[0;34m\u001b[0m\u001b[0m\n\u001b[1;32m     29\u001b[0m     \u001b[0;31m# save model\u001b[0m\u001b[0;34m\u001b[0m\u001b[0;34m\u001b[0m\u001b[0;34m\u001b[0m\u001b[0m\n\u001b[0;32m---> 30\u001b[0;31m     \u001b[0mmodel\u001b[0m\u001b[0;34m.\u001b[0m\u001b[0msave\u001b[0m\u001b[0;34m(\u001b[0m\u001b[0;34m\"saved_modelsq/\"\u001b[0m\u001b[0;34m+\u001b[0m\u001b[0;34m'{}.p'\u001b[0m\u001b[0;34m.\u001b[0m\u001b[0mformat\u001b[0m\u001b[0;34m(\u001b[0m\u001b[0mtrial\u001b[0m\u001b[0;34m.\u001b[0m\u001b[0mnumber\u001b[0m\u001b[0;34m)\u001b[0m\u001b[0;34m)\u001b[0m\u001b[0;34m\u001b[0m\u001b[0;34m\u001b[0m\u001b[0m\n\u001b[0m\u001b[1;32m     31\u001b[0m \u001b[0;34m\u001b[0m\u001b[0m\n\u001b[1;32m     32\u001b[0m     \u001b[0;31m# return validation accuracy from latest model, as that's what we want to minimize by our hyper param search\u001b[0m\u001b[0;34m\u001b[0m\u001b[0;34m\u001b[0m\u001b[0;34m\u001b[0m\u001b[0m\n",
      "\u001b[0;32m~/ml-lab-git/src/classification/trainer/GeneralPLModule.py\u001b[0m in \u001b[0;36msave\u001b[0;34m(self, path, overwrite_if_exists)\u001b[0m\n\u001b[1;32m    113\u001b[0m             \u001b[0;32mraise\u001b[0m \u001b[0mValueError\u001b[0m\u001b[0;34m(\u001b[0m\u001b[0;34m'Model path \\\"{}\\\" already exists'\u001b[0m\u001b[0;34m.\u001b[0m\u001b[0mformat\u001b[0m\u001b[0;34m(\u001b[0m\u001b[0mpath\u001b[0m\u001b[0;34m)\u001b[0m\u001b[0;34m)\u001b[0m\u001b[0;34m\u001b[0m\u001b[0;34m\u001b[0m\u001b[0m\n\u001b[1;32m    114\u001b[0m \u001b[0;34m\u001b[0m\u001b[0m\n\u001b[0;32m--> 115\u001b[0;31m         \u001b[0mtorch\u001b[0m\u001b[0;34m.\u001b[0m\u001b[0msave\u001b[0m\u001b[0;34m(\u001b[0m \u001b[0;34m{\u001b[0m\u001b[0;34m\"state_dict\"\u001b[0m\u001b[0;34m:\u001b[0m \u001b[0mself\u001b[0m\u001b[0;34m.\u001b[0m\u001b[0mmodel\u001b[0m\u001b[0;34m.\u001b[0m\u001b[0mstate_dict\u001b[0m\u001b[0;34m(\u001b[0m\u001b[0;34m)\u001b[0m\u001b[0;34m,\u001b[0m \u001b[0;34m\"hparams\"\u001b[0m\u001b[0;34m:\u001b[0m \u001b[0mself\u001b[0m\u001b[0;34m.\u001b[0m\u001b[0mhparams\u001b[0m\u001b[0;34m,\u001b[0m \u001b[0;34m\"attack_args\"\u001b[0m\u001b[0;34m:\u001b[0m \u001b[0;32mNone\u001b[0m \u001b[0;32mif\u001b[0m \u001b[0;32mnot\u001b[0m \u001b[0mself\u001b[0m\u001b[0;34m.\u001b[0m\u001b[0mattack\u001b[0m \u001b[0;32melse\u001b[0m \u001b[0mself\u001b[0m\u001b[0;34m.\u001b[0m\u001b[0mattack\u001b[0m\u001b[0;34m.\u001b[0m\u001b[0mattack_parameters\u001b[0m\u001b[0;34m,\u001b[0m \u001b[0;34m\"class\"\u001b[0m\u001b[0;34m:\u001b[0m \u001b[0mtype\u001b[0m\u001b[0;34m(\u001b[0m\u001b[0mself\u001b[0m\u001b[0;34m)\u001b[0m\u001b[0;34m}\u001b[0m\u001b[0;34m,\u001b[0m \u001b[0mpath\u001b[0m\u001b[0;34m)\u001b[0m\u001b[0;34m\u001b[0m\u001b[0;34m\u001b[0m\u001b[0m\n\u001b[0m\u001b[1;32m    116\u001b[0m         \u001b[0mprint\u001b[0m\u001b[0;34m(\u001b[0m\u001b[0;34m\"Saved model to \\\"{}\\\"\"\u001b[0m\u001b[0;34m.\u001b[0m\u001b[0mformat\u001b[0m\u001b[0;34m(\u001b[0m\u001b[0mpath\u001b[0m\u001b[0;34m)\u001b[0m\u001b[0;34m)\u001b[0m\u001b[0;34m\u001b[0m\u001b[0;34m\u001b[0m\u001b[0m\n\u001b[1;32m    117\u001b[0m \u001b[0;34m\u001b[0m\u001b[0m\n",
      "\u001b[0;32m/nfs/students/summer-term-2020/project-4/yan/.conda/envs/cnn_project/lib/python3.8/site-packages/torch/serialization.py\u001b[0m in \u001b[0;36msave\u001b[0;34m(obj, f, pickle_module, pickle_protocol, _use_new_zipfile_serialization)\u001b[0m\n\u001b[1;32m    368\u001b[0m \u001b[0;34m\u001b[0m\u001b[0m\n\u001b[1;32m    369\u001b[0m     \u001b[0;32mwith\u001b[0m \u001b[0m_open_file_like\u001b[0m\u001b[0;34m(\u001b[0m\u001b[0mf\u001b[0m\u001b[0;34m,\u001b[0m \u001b[0;34m'wb'\u001b[0m\u001b[0;34m)\u001b[0m \u001b[0;32mas\u001b[0m \u001b[0mopened_file\u001b[0m\u001b[0;34m:\u001b[0m\u001b[0;34m\u001b[0m\u001b[0;34m\u001b[0m\u001b[0m\n\u001b[0;32m--> 370\u001b[0;31m         \u001b[0m_legacy_save\u001b[0m\u001b[0;34m(\u001b[0m\u001b[0mobj\u001b[0m\u001b[0;34m,\u001b[0m \u001b[0mopened_file\u001b[0m\u001b[0;34m,\u001b[0m \u001b[0mpickle_module\u001b[0m\u001b[0;34m,\u001b[0m \u001b[0mpickle_protocol\u001b[0m\u001b[0;34m)\u001b[0m\u001b[0;34m\u001b[0m\u001b[0;34m\u001b[0m\u001b[0m\n\u001b[0m\u001b[1;32m    371\u001b[0m \u001b[0;34m\u001b[0m\u001b[0m\n\u001b[1;32m    372\u001b[0m \u001b[0;34m\u001b[0m\u001b[0m\n",
      "\u001b[0;32m/nfs/students/summer-term-2020/project-4/yan/.conda/envs/cnn_project/lib/python3.8/site-packages/torch/serialization.py\u001b[0m in \u001b[0;36m__exit__\u001b[0;34m(self, *args)\u001b[0m\n\u001b[1;32m    216\u001b[0m \u001b[0;34m\u001b[0m\u001b[0m\n\u001b[1;32m    217\u001b[0m     \u001b[0;32mdef\u001b[0m \u001b[0m__exit__\u001b[0m\u001b[0;34m(\u001b[0m\u001b[0mself\u001b[0m\u001b[0;34m,\u001b[0m \u001b[0;34m*\u001b[0m\u001b[0margs\u001b[0m\u001b[0;34m)\u001b[0m\u001b[0;34m:\u001b[0m\u001b[0;34m\u001b[0m\u001b[0;34m\u001b[0m\u001b[0m\n\u001b[0;32m--> 218\u001b[0;31m         \u001b[0mself\u001b[0m\u001b[0;34m.\u001b[0m\u001b[0mfile_like\u001b[0m\u001b[0;34m.\u001b[0m\u001b[0mclose\u001b[0m\u001b[0;34m(\u001b[0m\u001b[0;34m)\u001b[0m\u001b[0;34m\u001b[0m\u001b[0;34m\u001b[0m\u001b[0m\n\u001b[0m\u001b[1;32m    219\u001b[0m \u001b[0;34m\u001b[0m\u001b[0m\n\u001b[1;32m    220\u001b[0m \u001b[0;34m\u001b[0m\u001b[0m\n",
      "\u001b[0;31mKeyboardInterrupt\u001b[0m: "
     ]
    }
   ],
   "source": [
    "study.optimize(objective, n_trials=2000, timeout=1.5*21600) #9h"
   ]
  },
  {
   "cell_type": "code",
   "execution_count": 12,
   "metadata": {
    "ExecuteTime": {
     "end_time": "2020-07-14T21:36:29.468180Z",
     "start_time": "2020-07-14T21:36:29.296129Z"
    }
   },
   "outputs": [],
   "source": [
    "#!mkdir saved_modelsq"
   ]
  },
  {
   "cell_type": "code",
   "execution_count": 14,
   "metadata": {
    "ExecuteTime": {
     "end_time": "2020-07-14T23:03:14.124001Z",
     "start_time": "2020-07-14T23:03:13.754582Z"
    }
   },
   "outputs": [
    {
     "name": "stdout",
     "output_type": "stream",
     "text": [
      "Number of finished trials: 95\n",
      "Best trial:\n",
      "  Value: 0.8944872554831061\n",
      "  Params: \n",
      "    learning_rate: 0.0007190652771348608\n",
      "    lr_decay: 0.7626277681903325\n",
      "    n_hidden: 996\n",
      "    p_drop: 0.15570993075113893\n",
      "    weight_decay: 0.017084714300831555\n"
     ]
    }
   ],
   "source": [
    "print(\"Number of finished trials: {}\".format(len(study.trials)))\n",
    "print(\"Best trial:\")\n",
    "best_trial = study.best_trial\n",
    "print(\"  Value: {}\".format(best_trial.value))\n",
    "print(\"  Params: \")\n",
    "for key, value in best_trial.params.items():\n",
    "    print(\"    {}: {}\".format(key, value))"
   ]
  }
 ],
 "metadata": {
  "kernelspec": {
   "display_name": "Python 3",
   "language": "python",
   "name": "python3"
  },
  "language_info": {
   "codemirror_mode": {
    "name": "ipython",
    "version": 3
   },
   "file_extension": ".py",
   "mimetype": "text/x-python",
   "name": "python",
   "nbconvert_exporter": "python",
   "pygments_lexer": "ipython3",
   "version": "3.8.2"
  }
 },
 "nbformat": 4,
 "nbformat_minor": 4
}
