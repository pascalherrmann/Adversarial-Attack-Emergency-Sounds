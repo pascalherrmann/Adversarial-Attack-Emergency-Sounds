{
 "cells": [
  {
   "cell_type": "code",
   "execution_count": 1,
   "metadata": {
    "ExecuteTime": {
     "end_time": "2020-07-20T16:22:27.031798Z",
     "start_time": "2020-07-20T16:22:27.008973Z"
    }
   },
   "outputs": [],
   "source": [
    "%load_ext autoreload\n",
    "%autoreload 2\n",
    "\n",
    "import os\n",
    "import sys\n",
    "module_path = os.path.abspath(os.path.join('../../../src/'))\n",
    "if module_path not in sys.path:\n",
    "    sys.path.append(module_path)"
   ]
  },
  {
   "cell_type": "code",
   "execution_count": 2,
   "metadata": {
    "ExecuteTime": {
     "end_time": "2020-07-20T16:22:27.644261Z",
     "start_time": "2020-07-20T16:22:27.035771Z"
    }
   },
   "outputs": [],
   "source": [
    "import config\n",
    "from datasets.datasethandler import DatasetHandler\n",
    "datasetHandler = DatasetHandler()"
   ]
  },
  {
   "cell_type": "markdown",
   "metadata": {},
   "source": [
    "# Tutorial: Hyperparameter Search"
   ]
  },
  {
   "cell_type": "code",
   "execution_count": 3,
   "metadata": {
    "ExecuteTime": {
     "end_time": "2020-07-20T16:22:29.218288Z",
     "start_time": "2020-07-20T16:22:27.648869Z"
    }
   },
   "outputs": [],
   "source": [
    "import torch\n",
    "import pytorch_lightning as pl\n",
    "import optuna\n",
    "from optuna.integration import PyTorchLightningPruningCallback\n",
    "\n",
    "from classification.models.M5 import M5PLModule\n",
    "from classification.models.SpectrogramCNN import SpectrogramCNNPLModule\n",
    "from classification.models.DeepRecursiveCNN import DeepRecursiveCNNPLModule\n",
    "#from classification.models.MelSpectrogramCNN_8K import MelSpectrogramCNN_8KPLModule\n",
    "from classification.models.DeepRecursiveCNN8k import DeepRecursiveCNN8kPLModule\n",
    "\n",
    "from classification.models.SpectrogramCNN_8K_Dataset2 import SpectrogramCNN_8K_Dataset2_PLModule\n",
    "from classification.models.CRNN_8k_D2 import CRNN8k_D2_PLModule\n",
    "from classification.trainer.HyperParamSearch import MetricsCallback, save_model\n",
    "\n",
    "from classification.models.AblationModel import AblationModelPLModule"
   ]
  },
  {
   "cell_type": "code",
   "execution_count": 4,
   "metadata": {
    "ExecuteTime": {
     "end_time": "2020-07-20T16:22:29.248514Z",
     "start_time": "2020-07-20T16:22:29.222261Z"
    }
   },
   "outputs": [],
   "source": [
    "from pytorch_lightning.callbacks import Callback\n",
    "\n",
    "class SaveBestCallback(Callback): \n",
    "    def __init__(self, model_name = \"newest_model\", add_v_number = True):\n",
    "        super().__init__()\n",
    "        self.model_name = model_name\n",
    "        self.best_val_acc = None\n",
    "        self.add_v_number = add_v_number\n",
    "\n",
    "    def on_epoch_end(self, trainer, pl_module):\n",
    "        if not self.best_val_acc or pl_module.val_results_history[-1][\"val_acc\"] > self.best_val_acc:\n",
    "            print(\"new best val acc\", pl_module.val_results_history[-1][\"val_acc\"])\n",
    "            self.best_val_acc = pl_module.val_results_history[-1][\"val_acc\"]\n",
    "            #save_path = self.model_name + (( \"_v{}\".format(trainer.logger.version) +  \"_best.p\") if self.add_v_number else \"\")\n",
    "            save_path = self.model_name + str(pl_module.val_results_history[-1][\"val_acc\"]) + \".p\"\n",
    "            pl_module.save(save_path, overwrite_if_exists=True)\n",
    "            print(\"Saved checkpoint at epoch {} at \\\"{}\\\"\".format((trainer.current_epoch + 1), save_path))\n",
    "\n",
    "cb = SaveBestCallback(\"optuna_ablationNormal_\", add_v_number = False)"
   ]
  },
  {
   "cell_type": "markdown",
   "metadata": {},
   "source": [
    "### Objective"
   ]
  },
  {
   "cell_type": "code",
   "execution_count": 5,
   "metadata": {
    "ExecuteTime": {
     "end_time": "2020-07-20T16:22:29.511734Z",
     "start_time": "2020-07-20T16:22:29.252246Z"
    }
   },
   "outputs": [
    {
     "name": "stderr",
     "output_type": "stream",
     "text": [
      "[I 2020-07-20 18:22:29,488] A new study created with name: ablationNormal_study\n"
     ]
    }
   ],
   "source": [
    "def objective(trial):\n",
    "    metrics_callback = MetricsCallback()  \n",
    "\n",
    "    # here we sample the hyper params, similar as in our old random search\n",
    "    trial_hparams = {\"batch_size\": 32,\n",
    "                     \"learning_rate\": trial.suggest_loguniform(\"learning_rate\", 1e-6, 1e-1),\n",
    "                     \"p_dropout\": trial.suggest_float(\"p_drop\", 0, 1),\n",
    "                     \"lr_decay\": trial.suggest_float(\"lr_decay\", 0.7, 1),\n",
    "                     \"n_hidden\": trial.suggest_int(\"n_hidden\", 10, 1000),\n",
    "                     #\"lstm_hidden_size\": trial.suggest_int(\"lstm_hidden_size\", 10, 1000),\n",
    "                     \"weight_decay\": trial.suggest_float(\"weight_decay\", 1e-6, 1e-1),\n",
    "                     \"normal_spectrogram\": True\n",
    "                    }    \n",
    "\n",
    "    model = AblationModelPLModule(trial_hparams)\n",
    "    \n",
    "    # create a trainer\n",
    "    trainer = pl.Trainer(\n",
    "        logger=pl.loggers.TensorBoardLogger(config.LOG_DIR, name=type(model.model).__name__),\n",
    "        max_epochs=20,                                                               \n",
    "        gpus=1 if torch.cuda.is_available() else None,\n",
    "        callbacks=[metrics_callback, cb],                                                   # save latest accuracy\n",
    "        early_stop_callback=PyTorchLightningPruningCallback(trial, monitor=\"validation_acc\"), # early stopping\n",
    "    )\n",
    "    \n",
    "    datasetHandler.load(model, 'training')#, dataset_id=config.DATASET_CONTROL)\n",
    "    datasetHandler.load(model, 'validation')#,  dataset_id=config.DATASET_CONTROL)\n",
    "    trainer.fit(model)\n",
    "\n",
    "    # save model\n",
    "    model.save(\"saved_modelsq/\"+'{}.p'.format(trial.number))\n",
    "\n",
    "    # return validation accuracy from latest model, as that's what we want to minimize by our hyper param search\n",
    "    return metrics_callback.metrics[-1][\"validation_acc\"]\n",
    "\n",
    "pruner = optuna.pruners.MedianPruner()\n",
    "study = optuna.create_study(direction=\"maximize\", pruner=pruner, study_name='ablationNormal_study', storage='sqlite:///ablationNormal_study.db', load_if_exists=True)"
   ]
  },
  {
   "cell_type": "code",
   "execution_count": 6,
   "metadata": {
    "ExecuteTime": {
     "end_time": "2020-07-20T16:22:29.537691Z",
     "start_time": "2020-07-20T16:22:29.515250Z"
    }
   },
   "outputs": [],
   "source": [
    "#!mkdir saved_modelsq"
   ]
  },
  {
   "cell_type": "markdown",
   "metadata": {},
   "source": [
    "### Run Search"
   ]
  },
  {
   "cell_type": "code",
   "execution_count": 7,
   "metadata": {
    "ExecuteTime": {
     "end_time": "2020-07-20T18:24:28.116170Z",
     "start_time": "2020-07-20T16:22:29.541495Z"
    },
    "scrolled": true
   },
   "outputs": [
    {
     "name": "stderr",
     "output_type": "stream",
     "text": [
      "GPU available: True, used: True\n",
      "No environment variable for node rank defined. Set as 0.\n",
      "CUDA_VISIBLE_DEVICES: [0]\n"
     ]
    },
    {
     "name": "stdout",
     "output_type": "stream",
     "text": [
      "Loading cached training data of dataset 0 from /nfs/students/summer-term-2020/project-4/data/dataset1/dataset_8k/\n",
      "Loading cached validation data of dataset 0 from /nfs/students/summer-term-2020/project-4/data/dataset1/dataset_8k/\n"
     ]
    },
    {
     "name": "stderr",
     "output_type": "stream",
     "text": [
      "/nfs/students/summer-term-2020/project-4/yan/.conda/envs/cnn_project/lib/python3.8/site-packages/pytorch_lightning/utilities/distributed.py:23: RuntimeWarning: You have defined a `val_dataloader()` and have defined a `validation_step()`, you may also want to define `validation_epoch_end()` for accumulating stats.\n",
      "  warnings.warn(*args, **kwargs)\n",
      "Set SLURM handle signals.\n",
      "\n",
      "   | Name           | Type          | Params\n",
      "---------------------------------------------\n",
      "0  | model          | AblationModel | 124 K \n",
      "1  | model.convs    | Sequential    | 114 K \n",
      "2  | model.convs.0  | BatchNorm2d   | 2     \n",
      "3  | model.convs.1  | Conv2d        | 1 K   \n",
      "4  | model.convs.2  | BatchNorm2d   | 20    \n",
      "5  | model.convs.3  | PReLU         | 1     \n",
      "6  | model.convs.4  | MaxPool2d     | 0     \n",
      "7  | model.convs.5  | Dropout       | 0     \n",
      "8  | model.convs.6  | Conv2d        | 20 K  \n",
      "9  | model.convs.7  | BatchNorm2d   | 40    \n",
      "10 | model.convs.8  | PReLU         | 1     \n",
      "11 | model.convs.9  | MaxPool2d     | 0     \n",
      "12 | model.convs.10 | Dropout       | 0     \n",
      "13 | model.convs.11 | Conv2d        | 80 K  \n",
      "14 | model.convs.12 | BatchNorm2d   | 80    \n",
      "15 | model.convs.13 | PReLU         | 1     \n",
      "16 | model.convs.14 | MaxPool2d     | 0     \n",
      "17 | model.convs.15 | Dropout       | 0     \n",
      "18 | model.convs.16 | Conv2d        | 12 K  \n",
      "19 | model.convs.17 | BatchNorm2d   | 160   \n",
      "20 | model.convs.18 | PReLU         | 1     \n",
      "21 | model.convs.19 | MaxPool2d     | 0     \n",
      "22 | model.convs.20 | Dropout       | 0     \n",
      "23 | model.dense    | Sequential    | 9 K   \n",
      "24 | model.dense.0  | Linear        | 9 K   \n",
      "25 | model.dense.1  | PReLU         | 1     \n",
      "26 | model.dense.2  | Dropout       | 0     \n",
      "27 | model.dense.3  | Linear        | 238   \n",
      "/nfs/students/summer-term-2020/project-4/yan/.conda/envs/cnn_project/lib/python3.8/site-packages/pytorch_lightning/utilities/distributed.py:23: UserWarning: The dataloader, val dataloader 0, does not have many workers which may be a bottleneck. Consider increasing the value of the `num_workers` argument` in the `DataLoader` init to improve performance.\n",
      "  warnings.warn(*args, **kwargs)\n"
     ]
    },
    {
     "data": {
      "application/vnd.jupyter.widget-view+json": {
       "model_id": "",
       "version_major": 2,
       "version_minor": 0
      },
      "text/plain": [
       "HBox(children=(FloatProgress(value=1.0, bar_style='info', description='Validation sanity check', layout=Layout…"
      ]
     },
     "metadata": {},
     "output_type": "display_data"
    },
    {
     "name": "stdout",
     "output_type": "stream",
     "text": [
      "Val-Acc=0.016004742145820983\n"
     ]
    },
    {
     "name": "stderr",
     "output_type": "stream",
     "text": [
      "/nfs/students/summer-term-2020/project-4/yan/.conda/envs/cnn_project/lib/python3.8/site-packages/pytorch_lightning/utilities/distributed.py:23: UserWarning: The dataloader, train dataloader, does not have many workers which may be a bottleneck. Consider increasing the value of the `num_workers` argument` in the `DataLoader` init to improve performance.\n",
      "  warnings.warn(*args, **kwargs)\n"
     ]
    },
    {
     "data": {
      "application/vnd.jupyter.widget-view+json": {
       "model_id": "c31d483c29164e7298813d29dbec189b",
       "version_major": 2,
       "version_minor": 0
      },
      "text/plain": [
       "HBox(children=(FloatProgress(value=1.0, bar_style='info', description='Training', layout=Layout(flex='2'), max…"
      ]
     },
     "metadata": {},
     "output_type": "display_data"
    },
    {
     "data": {
      "application/vnd.jupyter.widget-view+json": {
       "model_id": "",
       "version_major": 2,
       "version_minor": 0
      },
      "text/plain": [
       "HBox(children=(FloatProgress(value=1.0, bar_style='info', description='Validating', layout=Layout(flex='2'), m…"
      ]
     },
     "metadata": {},
     "output_type": "display_data"
    },
    {
     "name": "stdout",
     "output_type": "stream",
     "text": [
      "Val-Acc=0.6004742145820984\n",
      "Train-Acc=0.616600790513834\n",
      "new best val acc 0.6004742145820984\n",
      "Saved model to \"optuna_ablationNormal_0.6004742145820984.p\"\n",
      "Saved checkpoint at epoch 1 at \"optuna_ablationNormal_0.6004742145820984.p\"\n"
     ]
    },
    {
     "data": {
      "application/vnd.jupyter.widget-view+json": {
       "model_id": "",
       "version_major": 2,
       "version_minor": 0
      },
      "text/plain": [
       "HBox(children=(FloatProgress(value=1.0, bar_style='info', description='Validating', layout=Layout(flex='2'), m…"
      ]
     },
     "metadata": {},
     "output_type": "display_data"
    },
    {
     "name": "stdout",
     "output_type": "stream",
     "text": [
      "Val-Acc=0.6111440426793124\n",
      "Train-Acc=0.6808300395256917\n",
      "new best val acc 0.6111440426793124\n",
      "Saved model to \"optuna_ablationNormal_0.6111440426793124.p\"\n",
      "Saved checkpoint at epoch 2 at \"optuna_ablationNormal_0.6111440426793124.p\"\n"
     ]
    },
    {
     "data": {
      "application/vnd.jupyter.widget-view+json": {
       "model_id": "",
       "version_major": 2,
       "version_minor": 0
      },
      "text/plain": [
       "HBox(children=(FloatProgress(value=1.0, bar_style='info', description='Validating', layout=Layout(flex='2'), m…"
      ]
     },
     "metadata": {},
     "output_type": "display_data"
    },
    {
     "name": "stdout",
     "output_type": "stream",
     "text": [
      "Val-Acc=0.6247777119146414\n",
      "Train-Acc=0.6907114624505929\n",
      "new best val acc 0.6247777119146414\n",
      "Saved model to \"optuna_ablationNormal_0.6247777119146414.p\"\n",
      "Saved checkpoint at epoch 3 at \"optuna_ablationNormal_0.6247777119146414.p\"\n"
     ]
    },
    {
     "data": {
      "application/vnd.jupyter.widget-view+json": {
       "model_id": "",
       "version_major": 2,
       "version_minor": 0
      },
      "text/plain": [
       "HBox(children=(FloatProgress(value=1.0, bar_style='info', description='Validating', layout=Layout(flex='2'), m…"
      ]
     },
     "metadata": {},
     "output_type": "display_data"
    },
    {
     "name": "stdout",
     "output_type": "stream",
     "text": [
      "Val-Acc=0.6129223473621814\n",
      "Train-Acc=0.6994071146245059\n"
     ]
    },
    {
     "data": {
      "application/vnd.jupyter.widget-view+json": {
       "model_id": "",
       "version_major": 2,
       "version_minor": 0
      },
      "text/plain": [
       "HBox(children=(FloatProgress(value=1.0, bar_style='info', description='Validating', layout=Layout(flex='2'), m…"
      ]
     },
     "metadata": {},
     "output_type": "display_data"
    },
    {
     "name": "stdout",
     "output_type": "stream",
     "text": [
      "Val-Acc=0.6301126259632484\n",
      "Train-Acc=0.7057312252964427\n",
      "new best val acc 0.6301126259632484\n",
      "Saved model to \"optuna_ablationNormal_0.6301126259632484.p\"\n",
      "Saved checkpoint at epoch 5 at \"optuna_ablationNormal_0.6301126259632484.p\"\n"
     ]
    },
    {
     "data": {
      "application/vnd.jupyter.widget-view+json": {
       "model_id": "",
       "version_major": 2,
       "version_minor": 0
      },
      "text/plain": [
       "HBox(children=(FloatProgress(value=1.0, bar_style='info', description='Validating', layout=Layout(flex='2'), m…"
      ]
     },
     "metadata": {},
     "output_type": "display_data"
    },
    {
     "name": "stdout",
     "output_type": "stream",
     "text": [
      "Val-Acc=0.6431535269709544\n",
      "Train-Acc=0.7061264822134388\n",
      "new best val acc 0.6431535269709544\n",
      "Saved model to \"optuna_ablationNormal_0.6431535269709544.p\"\n",
      "Saved checkpoint at epoch 6 at \"optuna_ablationNormal_0.6431535269709544.p\"\n"
     ]
    },
    {
     "data": {
      "application/vnd.jupyter.widget-view+json": {
       "model_id": "",
       "version_major": 2,
       "version_minor": 0
      },
      "text/plain": [
       "HBox(children=(FloatProgress(value=1.0, bar_style='info', description='Validating', layout=Layout(flex='2'), m…"
      ]
     },
     "metadata": {},
     "output_type": "display_data"
    },
    {
     "name": "stdout",
     "output_type": "stream",
     "text": [
      "Val-Acc=0.6591582691167753\n",
      "Train-Acc=0.7126482213438735\n",
      "new best val acc 0.6591582691167753\n",
      "Saved model to \"optuna_ablationNormal_0.6591582691167753.p\"\n",
      "Saved checkpoint at epoch 7 at \"optuna_ablationNormal_0.6591582691167753.p\"\n"
     ]
    },
    {
     "data": {
      "application/vnd.jupyter.widget-view+json": {
       "model_id": "",
       "version_major": 2,
       "version_minor": 0
      },
      "text/plain": [
       "HBox(children=(FloatProgress(value=1.0, bar_style='info', description='Validating', layout=Layout(flex='2'), m…"
      ]
     },
     "metadata": {},
     "output_type": "display_data"
    },
    {
     "name": "stdout",
     "output_type": "stream",
     "text": [
      "Val-Acc=0.6301126259632484\n",
      "Train-Acc=0.7112648221343874\n"
     ]
    },
    {
     "data": {
      "application/vnd.jupyter.widget-view+json": {
       "model_id": "",
       "version_major": 2,
       "version_minor": 0
      },
      "text/plain": [
       "HBox(children=(FloatProgress(value=1.0, bar_style='info', description='Validating', layout=Layout(flex='2'), m…"
      ]
     },
     "metadata": {},
     "output_type": "display_data"
    },
    {
     "name": "stdout",
     "output_type": "stream",
     "text": [
      "Val-Acc=0.6556016597510373\n",
      "Train-Acc=0.7136363636363636\n"
     ]
    },
    {
     "data": {
      "application/vnd.jupyter.widget-view+json": {
       "model_id": "",
       "version_major": 2,
       "version_minor": 0
      },
      "text/plain": [
       "HBox(children=(FloatProgress(value=1.0, bar_style='info', description='Validating', layout=Layout(flex='2'), m…"
      ]
     },
     "metadata": {},
     "output_type": "display_data"
    },
    {
     "name": "stdout",
     "output_type": "stream",
     "text": [
      "Val-Acc=0.6253704801422644\n",
      "Train-Acc=0.7094861660079052\n"
     ]
    },
    {
     "data": {
      "application/vnd.jupyter.widget-view+json": {
       "model_id": "",
       "version_major": 2,
       "version_minor": 0
      },
      "text/plain": [
       "HBox(children=(FloatProgress(value=1.0, bar_style='info', description='Validating', layout=Layout(flex='2'), m…"
      ]
     },
     "metadata": {},
     "output_type": "display_data"
    },
    {
     "name": "stdout",
     "output_type": "stream",
     "text": [
      "Val-Acc=0.6253704801422644\n",
      "Train-Acc=0.7138339920948616\n"
     ]
    },
    {
     "data": {
      "application/vnd.jupyter.widget-view+json": {
       "model_id": "",
       "version_major": 2,
       "version_minor": 0
      },
      "text/plain": [
       "HBox(children=(FloatProgress(value=1.0, bar_style='info', description='Validating', layout=Layout(flex='2'), m…"
      ]
     },
     "metadata": {},
     "output_type": "display_data"
    },
    {
     "name": "stdout",
     "output_type": "stream",
     "text": [
      "Val-Acc=0.6698280972139893\n",
      "Train-Acc=0.7108695652173913\n",
      "new best val acc 0.6698280972139893\n",
      "Saved model to \"optuna_ablationNormal_0.6698280972139893.p\"\n",
      "Saved checkpoint at epoch 12 at \"optuna_ablationNormal_0.6698280972139893.p\"\n"
     ]
    },
    {
     "data": {
      "application/vnd.jupyter.widget-view+json": {
       "model_id": "",
       "version_major": 2,
       "version_minor": 0
      },
      "text/plain": [
       "HBox(children=(FloatProgress(value=1.0, bar_style='info', description='Validating', layout=Layout(flex='2'), m…"
      ]
     },
     "metadata": {},
     "output_type": "display_data"
    },
    {
     "name": "stdout",
     "output_type": "stream",
     "text": [
      "Val-Acc=0.6573799644339063\n",
      "Train-Acc=0.708102766798419\n"
     ]
    },
    {
     "data": {
      "application/vnd.jupyter.widget-view+json": {
       "model_id": "",
       "version_major": 2,
       "version_minor": 0
      },
      "text/plain": [
       "HBox(children=(FloatProgress(value=1.0, bar_style='info', description='Validating', layout=Layout(flex='2'), m…"
      ]
     },
     "metadata": {},
     "output_type": "display_data"
    },
    {
     "name": "stdout",
     "output_type": "stream",
     "text": [
      "Val-Acc=0.6449318316538234\n",
      "Train-Acc=0.7132411067193676\n"
     ]
    },
    {
     "data": {
      "application/vnd.jupyter.widget-view+json": {
       "model_id": "",
       "version_major": 2,
       "version_minor": 0
      },
      "text/plain": [
       "HBox(children=(FloatProgress(value=1.0, bar_style='info', description='Validating', layout=Layout(flex='2'), m…"
      ]
     },
     "metadata": {},
     "output_type": "display_data"
    },
    {
     "name": "stdout",
     "output_type": "stream",
     "text": [
      "Val-Acc=0.6330764671013633\n",
      "Train-Acc=0.708102766798419\n"
     ]
    },
    {
     "data": {
      "application/vnd.jupyter.widget-view+json": {
       "model_id": "",
       "version_major": 2,
       "version_minor": 0
      },
      "text/plain": [
       "HBox(children=(FloatProgress(value=1.0, bar_style='info', description='Validating', layout=Layout(flex='2'), m…"
      ]
     },
     "metadata": {},
     "output_type": "display_data"
    },
    {
     "name": "stdout",
     "output_type": "stream",
     "text": [
      "Val-Acc=0.6621221102548903\n",
      "Train-Acc=0.7116600790513834\n"
     ]
    },
    {
     "data": {
      "application/vnd.jupyter.widget-view+json": {
       "model_id": "",
       "version_major": 2,
       "version_minor": 0
      },
      "text/plain": [
       "HBox(children=(FloatProgress(value=1.0, bar_style='info', description='Validating', layout=Layout(flex='2'), m…"
      ]
     },
     "metadata": {},
     "output_type": "display_data"
    },
    {
     "name": "stdout",
     "output_type": "stream",
     "text": [
      "Val-Acc=0.6514522821576764\n",
      "Train-Acc=0.7110671936758893\n"
     ]
    },
    {
     "data": {
      "application/vnd.jupyter.widget-view+json": {
       "model_id": "",
       "version_major": 2,
       "version_minor": 0
      },
      "text/plain": [
       "HBox(children=(FloatProgress(value=1.0, bar_style='info', description='Validating', layout=Layout(flex='2'), m…"
      ]
     },
     "metadata": {},
     "output_type": "display_data"
    },
    {
     "name": "stdout",
     "output_type": "stream",
     "text": [
      "Val-Acc=0.6443390634262004\n",
      "Train-Acc=0.7134387351778656\n"
     ]
    },
    {
     "data": {
      "application/vnd.jupyter.widget-view+json": {
       "model_id": "",
       "version_major": 2,
       "version_minor": 0
      },
      "text/plain": [
       "HBox(children=(FloatProgress(value=1.0, bar_style='info', description='Validating', layout=Layout(flex='2'), m…"
      ]
     },
     "metadata": {},
     "output_type": "display_data"
    },
    {
     "name": "stdout",
     "output_type": "stream",
     "text": [
      "Val-Acc=0.6336692353289863\n",
      "Train-Acc=0.7108695652173913\n"
     ]
    },
    {
     "data": {
      "application/vnd.jupyter.widget-view+json": {
       "model_id": "",
       "version_major": 2,
       "version_minor": 0
      },
      "text/plain": [
       "HBox(children=(FloatProgress(value=1.0, bar_style='info', description='Validating', layout=Layout(flex='2'), m…"
      ]
     },
     "metadata": {},
     "output_type": "display_data"
    },
    {
     "name": "stdout",
     "output_type": "stream",
     "text": [
      "Val-Acc=0.6419679905157084\n",
      "Train-Acc=0.7162055335968379\n",
      "\n",
      "Saved model to \"saved_modelsq/0.p\"\n"
     ]
    },
    {
     "name": "stderr",
     "output_type": "stream",
     "text": [
      "[I 2020-07-20 18:25:22,657] Finished trial#0 with value: 0.6419679905157084 with parameters: {'learning_rate': 3.26345999778142e-05, 'p_drop': 0.48607329779933095, 'lr_decay': 0.7059450814233099, 'n_hidden': 118, 'weight_decay': 0.0378469749405299}. Best is trial#0 with value: 0.6419679905157084.\n",
      "GPU available: True, used: True\n",
      "No environment variable for node rank defined. Set as 0.\n",
      "CUDA_VISIBLE_DEVICES: [0]\n",
      "Set SLURM handle signals.\n",
      "\n",
      "   | Name           | Type          | Params\n",
      "---------------------------------------------\n",
      "0  | model          | AblationModel | 161 K \n",
      "1  | model.convs    | Sequential    | 114 K \n",
      "2  | model.convs.0  | BatchNorm2d   | 2     \n",
      "3  | model.convs.1  | Conv2d        | 1 K   \n",
      "4  | model.convs.2  | BatchNorm2d   | 20    \n",
      "5  | model.convs.3  | PReLU         | 1     \n",
      "6  | model.convs.4  | MaxPool2d     | 0     \n",
      "7  | model.convs.5  | Dropout       | 0     \n",
      "8  | model.convs.6  | Conv2d        | 20 K  \n",
      "9  | model.convs.7  | BatchNorm2d   | 40    \n",
      "10 | model.convs.8  | PReLU         | 1     \n",
      "11 | model.convs.9  | MaxPool2d     | 0     \n",
      "12 | model.convs.10 | Dropout       | 0     \n",
      "13 | model.convs.11 | Conv2d        | 80 K  \n",
      "14 | model.convs.12 | BatchNorm2d   | 80    \n",
      "15 | model.convs.13 | PReLU         | 1     \n",
      "16 | model.convs.14 | MaxPool2d     | 0     \n",
      "17 | model.convs.15 | Dropout       | 0     \n",
      "18 | model.convs.16 | Conv2d        | 12 K  \n",
      "19 | model.convs.17 | BatchNorm2d   | 160   \n",
      "20 | model.convs.18 | PReLU         | 1     \n",
      "21 | model.convs.19 | MaxPool2d     | 0     \n",
      "22 | model.convs.20 | Dropout       | 0     \n",
      "23 | model.dense    | Sequential    | 46 K  \n",
      "24 | model.dense.0  | Linear        | 45 K  \n",
      "25 | model.dense.1  | PReLU         | 1     \n",
      "26 | model.dense.2  | Dropout       | 0     \n",
      "27 | model.dense.3  | Linear        | 1 K   \n"
     ]
    },
    {
     "data": {
      "application/vnd.jupyter.widget-view+json": {
       "model_id": "",
       "version_major": 2,
       "version_minor": 0
      },
      "text/plain": [
       "HBox(children=(FloatProgress(value=1.0, bar_style='info', description='Validation sanity check', layout=Layout…"
      ]
     },
     "metadata": {},
     "output_type": "display_data"
    },
    {
     "name": "stdout",
     "output_type": "stream",
     "text": [
      "Val-Acc=0.02074688796680498\n"
     ]
    },
    {
     "data": {
      "application/vnd.jupyter.widget-view+json": {
       "model_id": "b1c193720c5540f7bd71e975351ef5a6",
       "version_major": 2,
       "version_minor": 0
      },
      "text/plain": [
       "HBox(children=(FloatProgress(value=1.0, bar_style='info', description='Training', layout=Layout(flex='2'), max…"
      ]
     },
     "metadata": {},
     "output_type": "display_data"
    },
    {
     "data": {
      "application/vnd.jupyter.widget-view+json": {
       "model_id": "",
       "version_major": 2,
       "version_minor": 0
      },
      "text/plain": [
       "HBox(children=(FloatProgress(value=1.0, bar_style='info', description='Validating', layout=Layout(flex='2'), m…"
      ]
     },
     "metadata": {},
     "output_type": "display_data"
    },
    {
     "name": "stdout",
     "output_type": "stream",
     "text": [
      "Val-Acc=0.6413752222880854\n",
      "Train-Acc=0.5879446640316206\n"
     ]
    },
    {
     "data": {
      "application/vnd.jupyter.widget-view+json": {
       "model_id": "",
       "version_major": 2,
       "version_minor": 0
      },
      "text/plain": [
       "HBox(children=(FloatProgress(value=1.0, bar_style='info', description='Validating', layout=Layout(flex='2'), m…"
      ]
     },
     "metadata": {},
     "output_type": "display_data"
    },
    {
     "name": "stdout",
     "output_type": "stream",
     "text": [
      "Val-Acc=0.5779490219324244\n",
      "Train-Acc=0.6464426877470356\n"
     ]
    },
    {
     "data": {
      "application/vnd.jupyter.widget-view+json": {
       "model_id": "",
       "version_major": 2,
       "version_minor": 0
      },
      "text/plain": [
       "HBox(children=(FloatProgress(value=1.0, bar_style='info', description='Validating', layout=Layout(flex='2'), m…"
      ]
     },
     "metadata": {},
     "output_type": "display_data"
    },
    {
     "name": "stdout",
     "output_type": "stream",
     "text": [
      "Val-Acc=0.5269709543568465\n",
      "Train-Acc=0.6608695652173913\n"
     ]
    },
    {
     "data": {
      "application/vnd.jupyter.widget-view+json": {
       "model_id": "",
       "version_major": 2,
       "version_minor": 0
      },
      "text/plain": [
       "HBox(children=(FloatProgress(value=1.0, bar_style='info', description='Validating', layout=Layout(flex='2'), m…"
      ]
     },
     "metadata": {},
     "output_type": "display_data"
    },
    {
     "name": "stdout",
     "output_type": "stream",
     "text": [
      "Val-Acc=0.6135151155898044\n",
      "Train-Acc=0.6614624505928853\n"
     ]
    },
    {
     "data": {
      "application/vnd.jupyter.widget-view+json": {
       "model_id": "",
       "version_major": 2,
       "version_minor": 0
      },
      "text/plain": [
       "HBox(children=(FloatProgress(value=1.0, bar_style='info', description='Validating', layout=Layout(flex='2'), m…"
      ]
     },
     "metadata": {},
     "output_type": "display_data"
    },
    {
     "name": "stdout",
     "output_type": "stream",
     "text": [
      "Val-Acc=0.4896265560165975\n",
      "Train-Acc=0.6436758893280632\n"
     ]
    },
    {
     "data": {
      "application/vnd.jupyter.widget-view+json": {
       "model_id": "",
       "version_major": 2,
       "version_minor": 0
      },
      "text/plain": [
       "HBox(children=(FloatProgress(value=1.0, bar_style='info', description='Validating', layout=Layout(flex='2'), m…"
      ]
     },
     "metadata": {},
     "output_type": "display_data"
    },
    {
     "name": "stdout",
     "output_type": "stream",
     "text": [
      "Val-Acc=0.5293420272673385\n",
      "Train-Acc=0.6529644268774704\n"
     ]
    },
    {
     "data": {
      "application/vnd.jupyter.widget-view+json": {
       "model_id": "",
       "version_major": 2,
       "version_minor": 0
      },
      "text/plain": [
       "HBox(children=(FloatProgress(value=1.0, bar_style='info', description='Validating', layout=Layout(flex='2'), m…"
      ]
     },
     "metadata": {},
     "output_type": "display_data"
    },
    {
     "name": "stdout",
     "output_type": "stream",
     "text": [
      "Val-Acc=0.6970954356846473\n",
      "Train-Acc=0.7051383399209487\n",
      "new best val acc 0.6970954356846473\n",
      "Saved model to \"optuna_ablationNormal_0.6970954356846473.p\"\n",
      "Saved checkpoint at epoch 7 at \"optuna_ablationNormal_0.6970954356846473.p\"\n"
     ]
    },
    {
     "data": {
      "application/vnd.jupyter.widget-view+json": {
       "model_id": "",
       "version_major": 2,
       "version_minor": 0
      },
      "text/plain": [
       "HBox(children=(FloatProgress(value=1.0, bar_style='info', description='Validating', layout=Layout(flex='2'), m…"
      ]
     },
     "metadata": {},
     "output_type": "display_data"
    },
    {
     "name": "stdout",
     "output_type": "stream",
     "text": [
      "Val-Acc=0.6846473029045643\n",
      "Train-Acc=0.73300395256917\n"
     ]
    },
    {
     "data": {
      "application/vnd.jupyter.widget-view+json": {
       "model_id": "",
       "version_major": 2,
       "version_minor": 0
      },
      "text/plain": [
       "HBox(children=(FloatProgress(value=1.0, bar_style='info', description='Validating', layout=Layout(flex='2'), m…"
      ]
     },
     "metadata": {},
     "output_type": "display_data"
    },
    {
     "name": "stdout",
     "output_type": "stream",
     "text": [
      "Val-Acc=0.5494961470065205\n",
      "Train-Acc=0.740909090909091\n"
     ]
    },
    {
     "data": {
      "application/vnd.jupyter.widget-view+json": {
       "model_id": "",
       "version_major": 2,
       "version_minor": 0
      },
      "text/plain": [
       "HBox(children=(FloatProgress(value=1.0, bar_style='info', description='Validating', layout=Layout(flex='2'), m…"
      ]
     },
     "metadata": {},
     "output_type": "display_data"
    },
    {
     "name": "stdout",
     "output_type": "stream",
     "text": [
      "Val-Acc=0.4914048606994665\n",
      "Train-Acc=0.7529644268774703\n"
     ]
    },
    {
     "data": {
      "application/vnd.jupyter.widget-view+json": {
       "model_id": "",
       "version_major": 2,
       "version_minor": 0
      },
      "text/plain": [
       "HBox(children=(FloatProgress(value=1.0, bar_style='info', description='Validating', layout=Layout(flex='2'), m…"
      ]
     },
     "metadata": {},
     "output_type": "display_data"
    },
    {
     "name": "stdout",
     "output_type": "stream",
     "text": [
      "Val-Acc=0.7445168938944873\n",
      "Train-Acc=0.7677865612648221\n",
      "new best val acc 0.7445168938944873\n",
      "Saved model to \"optuna_ablationNormal_0.7445168938944873.p\"\n",
      "Saved checkpoint at epoch 11 at \"optuna_ablationNormal_0.7445168938944873.p\"\n"
     ]
    },
    {
     "data": {
      "application/vnd.jupyter.widget-view+json": {
       "model_id": "",
       "version_major": 2,
       "version_minor": 0
      },
      "text/plain": [
       "HBox(children=(FloatProgress(value=1.0, bar_style='info', description='Validating', layout=Layout(flex='2'), m…"
      ]
     },
     "metadata": {},
     "output_type": "display_data"
    },
    {
     "name": "stdout",
     "output_type": "stream",
     "text": [
      "Val-Acc=0.6633076467101363\n",
      "Train-Acc=0.76699604743083\n"
     ]
    },
    {
     "data": {
      "application/vnd.jupyter.widget-view+json": {
       "model_id": "",
       "version_major": 2,
       "version_minor": 0
      },
      "text/plain": [
       "HBox(children=(FloatProgress(value=1.0, bar_style='info', description='Validating', layout=Layout(flex='2'), m…"
      ]
     },
     "metadata": {},
     "output_type": "display_data"
    },
    {
     "name": "stdout",
     "output_type": "stream",
     "text": [
      "Val-Acc=0.6965026674570243\n",
      "Train-Acc=0.7713438735177865\n"
     ]
    },
    {
     "data": {
      "application/vnd.jupyter.widget-view+json": {
       "model_id": "",
       "version_major": 2,
       "version_minor": 0
      },
      "text/plain": [
       "HBox(children=(FloatProgress(value=1.0, bar_style='info', description='Validating', layout=Layout(flex='2'), m…"
      ]
     },
     "metadata": {},
     "output_type": "display_data"
    },
    {
     "name": "stdout",
     "output_type": "stream",
     "text": [
      "Val-Acc=0.6508595139300534\n",
      "Train-Acc=0.7800395256916997\n"
     ]
    },
    {
     "data": {
      "application/vnd.jupyter.widget-view+json": {
       "model_id": "",
       "version_major": 2,
       "version_minor": 0
      },
      "text/plain": [
       "HBox(children=(FloatProgress(value=1.0, bar_style='info', description='Validating', layout=Layout(flex='2'), m…"
      ]
     },
     "metadata": {},
     "output_type": "display_data"
    },
    {
     "name": "stdout",
     "output_type": "stream",
     "text": [
      "Val-Acc=0.6929460580912863\n",
      "Train-Acc=0.7857707509881423\n"
     ]
    },
    {
     "data": {
      "application/vnd.jupyter.widget-view+json": {
       "model_id": "",
       "version_major": 2,
       "version_minor": 0
      },
      "text/plain": [
       "HBox(children=(FloatProgress(value=1.0, bar_style='info', description='Validating', layout=Layout(flex='2'), m…"
      ]
     },
     "metadata": {},
     "output_type": "display_data"
    },
    {
     "name": "stdout",
     "output_type": "stream",
     "text": [
      "Val-Acc=0.7166567871962063\n",
      "Train-Acc=0.7930830039525691\n"
     ]
    },
    {
     "data": {
      "application/vnd.jupyter.widget-view+json": {
       "model_id": "",
       "version_major": 2,
       "version_minor": 0
      },
      "text/plain": [
       "HBox(children=(FloatProgress(value=1.0, bar_style='info', description='Validating', layout=Layout(flex='2'), m…"
      ]
     },
     "metadata": {},
     "output_type": "display_data"
    },
    {
     "name": "stdout",
     "output_type": "stream",
     "text": [
      "Val-Acc=0.7528156490812092\n",
      "Train-Acc=0.7853754940711463\n",
      "new best val acc 0.7528156490812092\n",
      "Saved model to \"optuna_ablationNormal_0.7528156490812092.p\"\n",
      "Saved checkpoint at epoch 17 at \"optuna_ablationNormal_0.7528156490812092.p\"\n"
     ]
    },
    {
     "data": {
      "application/vnd.jupyter.widget-view+json": {
       "model_id": "",
       "version_major": 2,
       "version_minor": 0
      },
      "text/plain": [
       "HBox(children=(FloatProgress(value=1.0, bar_style='info', description='Validating', layout=Layout(flex='2'), m…"
      ]
     },
     "metadata": {},
     "output_type": "display_data"
    },
    {
     "name": "stdout",
     "output_type": "stream",
     "text": [
      "Val-Acc=0.7557794902193242\n",
      "Train-Acc=0.7897233201581028\n",
      "new best val acc 0.7557794902193242\n",
      "Saved model to \"optuna_ablationNormal_0.7557794902193242.p\"\n",
      "Saved checkpoint at epoch 18 at \"optuna_ablationNormal_0.7557794902193242.p\"\n"
     ]
    },
    {
     "data": {
      "application/vnd.jupyter.widget-view+json": {
       "model_id": "",
       "version_major": 2,
       "version_minor": 0
      },
      "text/plain": [
       "HBox(children=(FloatProgress(value=1.0, bar_style='info', description='Validating', layout=Layout(flex='2'), m…"
      ]
     },
     "metadata": {},
     "output_type": "display_data"
    },
    {
     "name": "stdout",
     "output_type": "stream",
     "text": [
      "Val-Acc=0.6923532898636633\n",
      "Train-Acc=0.7859683794466403\n"
     ]
    },
    {
     "data": {
      "application/vnd.jupyter.widget-view+json": {
       "model_id": "",
       "version_major": 2,
       "version_minor": 0
      },
      "text/plain": [
       "HBox(children=(FloatProgress(value=1.0, bar_style='info', description='Validating', layout=Layout(flex='2'), m…"
      ]
     },
     "metadata": {},
     "output_type": "display_data"
    },
    {
     "name": "stdout",
     "output_type": "stream",
     "text": [
      "Val-Acc=0.7581505631298162\n",
      "Train-Acc=0.7932806324110672\n",
      "new best val acc 0.7581505631298162\n",
      "Saved model to \"optuna_ablationNormal_0.7581505631298162.p\"\n",
      "Saved checkpoint at epoch 20 at \"optuna_ablationNormal_0.7581505631298162.p\"\n",
      "\n",
      "Saved model to \"saved_modelsq/1.p\"\n"
     ]
    },
    {
     "name": "stderr",
     "output_type": "stream",
     "text": [
      "[I 2020-07-20 18:28:13,714] Finished trial#1 with value: 0.7581505631298162 with parameters: {'learning_rate': 0.05278264839690792, 'p_drop': 0.3602776340663548, 'lr_decay': 0.7112403156350906, 'n_hidden': 565, 'weight_decay': 0.026922718724209392}. Best is trial#1 with value: 0.7581505631298162.\n",
      "GPU available: True, used: True\n",
      "No environment variable for node rank defined. Set as 0.\n",
      "CUDA_VISIBLE_DEVICES: [0]\n",
      "Set SLURM handle signals.\n",
      "\n",
      "   | Name           | Type          | Params\n",
      "---------------------------------------------\n",
      "0  | model          | AblationModel | 181 K \n",
      "1  | model.convs    | Sequential    | 114 K \n",
      "2  | model.convs.0  | BatchNorm2d   | 2     \n",
      "3  | model.convs.1  | Conv2d        | 1 K   \n",
      "4  | model.convs.2  | BatchNorm2d   | 20    \n",
      "5  | model.convs.3  | PReLU         | 1     \n",
      "6  | model.convs.4  | MaxPool2d     | 0     \n",
      "7  | model.convs.5  | Dropout       | 0     \n",
      "8  | model.convs.6  | Conv2d        | 20 K  \n",
      "9  | model.convs.7  | BatchNorm2d   | 40    \n",
      "10 | model.convs.8  | PReLU         | 1     \n",
      "11 | model.convs.9  | MaxPool2d     | 0     \n",
      "12 | model.convs.10 | Dropout       | 0     \n",
      "13 | model.convs.11 | Conv2d        | 80 K  \n",
      "14 | model.convs.12 | BatchNorm2d   | 80    \n",
      "15 | model.convs.13 | PReLU         | 1     \n",
      "16 | model.convs.14 | MaxPool2d     | 0     \n",
      "17 | model.convs.15 | Dropout       | 0     \n",
      "18 | model.convs.16 | Conv2d        | 12 K  \n",
      "19 | model.convs.17 | BatchNorm2d   | 160   \n",
      "20 | model.convs.18 | PReLU         | 1     \n",
      "21 | model.convs.19 | MaxPool2d     | 0     \n",
      "22 | model.convs.20 | Dropout       | 0     \n",
      "23 | model.dense    | Sequential    | 67 K  \n",
      "24 | model.dense.0  | Linear        | 65 K  \n",
      "25 | model.dense.1  | PReLU         | 1     \n",
      "26 | model.dense.2  | Dropout       | 0     \n",
      "27 | model.dense.3  | Linear        | 1 K   \n"
     ]
    },
    {
     "data": {
      "application/vnd.jupyter.widget-view+json": {
       "model_id": "",
       "version_major": 2,
       "version_minor": 0
      },
      "text/plain": [
       "HBox(children=(FloatProgress(value=1.0, bar_style='info', description='Validation sanity check', layout=Layout…"
      ]
     },
     "metadata": {},
     "output_type": "display_data"
    },
    {
     "name": "stdout",
     "output_type": "stream",
     "text": [
      "Val-Acc=0.018375815056312982\n"
     ]
    },
    {
     "data": {
      "application/vnd.jupyter.widget-view+json": {
       "model_id": "49e23feacb1a4f9aa15c5836e932be7b",
       "version_major": 2,
       "version_minor": 0
      },
      "text/plain": [
       "HBox(children=(FloatProgress(value=1.0, bar_style='info', description='Training', layout=Layout(flex='2'), max…"
      ]
     },
     "metadata": {},
     "output_type": "display_data"
    },
    {
     "data": {
      "application/vnd.jupyter.widget-view+json": {
       "model_id": "",
       "version_major": 2,
       "version_minor": 0
      },
      "text/plain": [
       "HBox(children=(FloatProgress(value=1.0, bar_style='info', description='Validating', layout=Layout(flex='2'), m…"
      ]
     },
     "metadata": {},
     "output_type": "display_data"
    },
    {
     "name": "stdout",
     "output_type": "stream",
     "text": [
      "Val-Acc=0.7812685240071132\n",
      "Train-Acc=0.733399209486166\n",
      "new best val acc 0.7812685240071132\n",
      "Saved model to \"optuna_ablationNormal_0.7812685240071132.p\"\n",
      "Saved checkpoint at epoch 1 at \"optuna_ablationNormal_0.7812685240071132.p\"\n"
     ]
    },
    {
     "data": {
      "application/vnd.jupyter.widget-view+json": {
       "model_id": "",
       "version_major": 2,
       "version_minor": 0
      },
      "text/plain": [
       "HBox(children=(FloatProgress(value=1.0, bar_style='info', description='Validating', layout=Layout(flex='2'), m…"
      ]
     },
     "metadata": {},
     "output_type": "display_data"
    },
    {
     "name": "stdout",
     "output_type": "stream",
     "text": [
      "Val-Acc=0.7504445761707172\n",
      "Train-Acc=0.7622529644268775\n"
     ]
    },
    {
     "data": {
      "application/vnd.jupyter.widget-view+json": {
       "model_id": "",
       "version_major": 2,
       "version_minor": 0
      },
      "text/plain": [
       "HBox(children=(FloatProgress(value=1.0, bar_style='info', description='Validating', layout=Layout(flex='2'), m…"
      ]
     },
     "metadata": {},
     "output_type": "display_data"
    },
    {
     "name": "stdout",
     "output_type": "stream",
     "text": [
      "Val-Acc=0.7296976882039122\n",
      "Train-Acc=0.7839920948616601\n"
     ]
    },
    {
     "data": {
      "application/vnd.jupyter.widget-view+json": {
       "model_id": "",
       "version_major": 2,
       "version_minor": 0
      },
      "text/plain": [
       "HBox(children=(FloatProgress(value=1.0, bar_style='info', description='Validating', layout=Layout(flex='2'), m…"
      ]
     },
     "metadata": {},
     "output_type": "display_data"
    },
    {
     "name": "stdout",
     "output_type": "stream",
     "text": [
      "Val-Acc=0.7296976882039122\n",
      "Train-Acc=0.7818181818181819\n"
     ]
    },
    {
     "data": {
      "application/vnd.jupyter.widget-view+json": {
       "model_id": "",
       "version_major": 2,
       "version_minor": 0
      },
      "text/plain": [
       "HBox(children=(FloatProgress(value=1.0, bar_style='info', description='Validating', layout=Layout(flex='2'), m…"
      ]
     },
     "metadata": {},
     "output_type": "display_data"
    },
    {
     "name": "stdout",
     "output_type": "stream",
     "text": [
      "Val-Acc=0.5892116182572614\n",
      "Train-Acc=0.8160079051383399\n"
     ]
    },
    {
     "data": {
      "application/vnd.jupyter.widget-view+json": {
       "model_id": "",
       "version_major": 2,
       "version_minor": 0
      },
      "text/plain": [
       "HBox(children=(FloatProgress(value=1.0, bar_style='info', description='Validating', layout=Layout(flex='2'), m…"
      ]
     },
     "metadata": {},
     "output_type": "display_data"
    },
    {
     "name": "stdout",
     "output_type": "stream",
     "text": [
      "Val-Acc=0.6727919383521044\n",
      "Train-Acc=0.8175889328063242\n"
     ]
    },
    {
     "data": {
      "application/vnd.jupyter.widget-view+json": {
       "model_id": "",
       "version_major": 2,
       "version_minor": 0
      },
      "text/plain": [
       "HBox(children=(FloatProgress(value=1.0, bar_style='info', description='Validating', layout=Layout(flex='2'), m…"
      ]
     },
     "metadata": {},
     "output_type": "display_data"
    },
    {
     "name": "stdout",
     "output_type": "stream",
     "text": [
      "Val-Acc=0.7208061647895673\n",
      "Train-Acc=0.8280632411067194\n"
     ]
    },
    {
     "data": {
      "application/vnd.jupyter.widget-view+json": {
       "model_id": "",
       "version_major": 2,
       "version_minor": 0
      },
      "text/plain": [
       "HBox(children=(FloatProgress(value=1.0, bar_style='info', description='Validating', layout=Layout(flex='2'), m…"
      ]
     },
     "metadata": {},
     "output_type": "display_data"
    },
    {
     "name": "stdout",
     "output_type": "stream",
     "text": [
      "Val-Acc=0.8079430942501482\n",
      "Train-Acc=0.8353754940711462\n",
      "new best val acc 0.8079430942501482\n",
      "Saved model to \"optuna_ablationNormal_0.8079430942501482.p\"\n",
      "Saved checkpoint at epoch 8 at \"optuna_ablationNormal_0.8079430942501482.p\"\n"
     ]
    },
    {
     "data": {
      "application/vnd.jupyter.widget-view+json": {
       "model_id": "",
       "version_major": 2,
       "version_minor": 0
      },
      "text/plain": [
       "HBox(children=(FloatProgress(value=1.0, bar_style='info', description='Validating', layout=Layout(flex='2'), m…"
      ]
     },
     "metadata": {},
     "output_type": "display_data"
    },
    {
     "name": "stdout",
     "output_type": "stream",
     "text": [
      "Val-Acc=0.7403675163011263\n",
      "Train-Acc=0.8288537549407115\n"
     ]
    },
    {
     "data": {
      "application/vnd.jupyter.widget-view+json": {
       "model_id": "",
       "version_major": 2,
       "version_minor": 0
      },
      "text/plain": [
       "HBox(children=(FloatProgress(value=1.0, bar_style='info', description='Validating', layout=Layout(flex='2'), m…"
      ]
     },
     "metadata": {},
     "output_type": "display_data"
    },
    {
     "name": "stdout",
     "output_type": "stream",
     "text": [
      "Val-Acc=0.7954949614700652\n",
      "Train-Acc=0.841897233201581\n"
     ]
    },
    {
     "data": {
      "application/vnd.jupyter.widget-view+json": {
       "model_id": "",
       "version_major": 2,
       "version_minor": 0
      },
      "text/plain": [
       "HBox(children=(FloatProgress(value=1.0, bar_style='info', description='Validating', layout=Layout(flex='2'), m…"
      ]
     },
     "metadata": {},
     "output_type": "display_data"
    },
    {
     "name": "stdout",
     "output_type": "stream",
     "text": [
      "Val-Acc=0.7954949614700652\n",
      "Train-Acc=0.8486166007905138\n"
     ]
    },
    {
     "data": {
      "application/vnd.jupyter.widget-view+json": {
       "model_id": "",
       "version_major": 2,
       "version_minor": 0
      },
      "text/plain": [
       "HBox(children=(FloatProgress(value=1.0, bar_style='info', description='Validating', layout=Layout(flex='2'), m…"
      ]
     },
     "metadata": {},
     "output_type": "display_data"
    },
    {
     "name": "stdout",
     "output_type": "stream",
     "text": [
      "Val-Acc=0.7166567871962063\n",
      "Train-Acc=0.8482213438735178\n"
     ]
    },
    {
     "data": {
      "application/vnd.jupyter.widget-view+json": {
       "model_id": "",
       "version_major": 2,
       "version_minor": 0
      },
      "text/plain": [
       "HBox(children=(FloatProgress(value=1.0, bar_style='info', description='Validating', layout=Layout(flex='2'), m…"
      ]
     },
     "metadata": {},
     "output_type": "display_data"
    },
    {
     "name": "stdout",
     "output_type": "stream",
     "text": [
      "Val-Acc=0.8103141671606402\n",
      "Train-Acc=0.850592885375494\n",
      "new best val acc 0.8103141671606402\n",
      "Saved model to \"optuna_ablationNormal_0.8103141671606402.p\"\n",
      "Saved checkpoint at epoch 13 at \"optuna_ablationNormal_0.8103141671606402.p\"\n"
     ]
    },
    {
     "data": {
      "application/vnd.jupyter.widget-view+json": {
       "model_id": "",
       "version_major": 2,
       "version_minor": 0
      },
      "text/plain": [
       "HBox(children=(FloatProgress(value=1.0, bar_style='info', description='Validating', layout=Layout(flex='2'), m…"
      ]
     },
     "metadata": {},
     "output_type": "display_data"
    },
    {
     "name": "stdout",
     "output_type": "stream",
     "text": [
      "Val-Acc=0.8215767634854771\n",
      "Train-Acc=0.8527667984189723\n",
      "new best val acc 0.8215767634854771\n",
      "Saved model to \"optuna_ablationNormal_0.8215767634854771.p\"\n",
      "Saved checkpoint at epoch 14 at \"optuna_ablationNormal_0.8215767634854771.p\"\n"
     ]
    },
    {
     "data": {
      "application/vnd.jupyter.widget-view+json": {
       "model_id": "",
       "version_major": 2,
       "version_minor": 0
      },
      "text/plain": [
       "HBox(children=(FloatProgress(value=1.0, bar_style='info', description='Validating', layout=Layout(flex='2'), m…"
      ]
     },
     "metadata": {},
     "output_type": "display_data"
    },
    {
     "name": "stdout",
     "output_type": "stream",
     "text": [
      "Val-Acc=0.6615293420272673\n",
      "Train-Acc=0.8567193675889329\n"
     ]
    },
    {
     "data": {
      "application/vnd.jupyter.widget-view+json": {
       "model_id": "",
       "version_major": 2,
       "version_minor": 0
      },
      "text/plain": [
       "HBox(children=(FloatProgress(value=1.0, bar_style='info', description='Validating', layout=Layout(flex='2'), m…"
      ]
     },
     "metadata": {},
     "output_type": "display_data"
    },
    {
     "name": "stdout",
     "output_type": "stream",
     "text": [
      "Val-Acc=0.7670420865441613\n",
      "Train-Acc=0.8588932806324111\n"
     ]
    },
    {
     "data": {
      "application/vnd.jupyter.widget-view+json": {
       "model_id": "",
       "version_major": 2,
       "version_minor": 0
      },
      "text/plain": [
       "HBox(children=(FloatProgress(value=1.0, bar_style='info', description='Validating', layout=Layout(flex='2'), m…"
      ]
     },
     "metadata": {},
     "output_type": "display_data"
    },
    {
     "name": "stdout",
     "output_type": "stream",
     "text": [
      "Val-Acc=0.7694131594546533\n",
      "Train-Acc=0.8689723320158103\n"
     ]
    },
    {
     "data": {
      "application/vnd.jupyter.widget-view+json": {
       "model_id": "",
       "version_major": 2,
       "version_minor": 0
      },
      "text/plain": [
       "HBox(children=(FloatProgress(value=1.0, bar_style='info', description='Validating', layout=Layout(flex='2'), m…"
      ]
     },
     "metadata": {},
     "output_type": "display_data"
    },
    {
     "name": "stdout",
     "output_type": "stream",
     "text": [
      "Val-Acc=0.6970954356846473\n",
      "Train-Acc=0.8685770750988142\n"
     ]
    },
    {
     "data": {
      "application/vnd.jupyter.widget-view+json": {
       "model_id": "",
       "version_major": 2,
       "version_minor": 0
      },
      "text/plain": [
       "HBox(children=(FloatProgress(value=1.0, bar_style='info', description='Validating', layout=Layout(flex='2'), m…"
      ]
     },
     "metadata": {},
     "output_type": "display_data"
    },
    {
     "name": "stdout",
     "output_type": "stream",
     "text": [
      "Val-Acc=0.7682276229994073\n",
      "Train-Acc=0.8693675889328063\n"
     ]
    },
    {
     "data": {
      "application/vnd.jupyter.widget-view+json": {
       "model_id": "",
       "version_major": 2,
       "version_minor": 0
      },
      "text/plain": [
       "HBox(children=(FloatProgress(value=1.0, bar_style='info', description='Validating', layout=Layout(flex='2'), m…"
      ]
     },
     "metadata": {},
     "output_type": "display_data"
    },
    {
     "name": "stdout",
     "output_type": "stream",
     "text": [
      "Val-Acc=0.7824540604623592\n",
      "Train-Acc=0.8709486166007905\n",
      "\n",
      "Saved model to \"saved_modelsq/2.p\"\n"
     ]
    },
    {
     "name": "stderr",
     "output_type": "stream",
     "text": [
      "[I 2020-07-20 18:31:04,617] Finished trial#2 with value: 0.7824540604623592 with parameters: {'learning_rate': 0.0013597239537075493, 'p_drop': 0.050727567592751543, 'lr_decay': 0.7816808444906203, 'n_hidden': 810, 'weight_decay': 0.03209572331984964}. Best is trial#2 with value: 0.7824540604623592.\n",
      "GPU available: True, used: True\n",
      "No environment variable for node rank defined. Set as 0.\n",
      "CUDA_VISIBLE_DEVICES: [0]\n",
      "Set SLURM handle signals.\n",
      "\n",
      "   | Name           | Type          | Params\n",
      "---------------------------------------------\n",
      "0  | model          | AblationModel | 134 K \n",
      "1  | model.convs    | Sequential    | 114 K \n",
      "2  | model.convs.0  | BatchNorm2d   | 2     \n",
      "3  | model.convs.1  | Conv2d        | 1 K   \n",
      "4  | model.convs.2  | BatchNorm2d   | 20    \n",
      "5  | model.convs.3  | PReLU         | 1     \n",
      "6  | model.convs.4  | MaxPool2d     | 0     \n",
      "7  | model.convs.5  | Dropout       | 0     \n",
      "8  | model.convs.6  | Conv2d        | 20 K  \n",
      "9  | model.convs.7  | BatchNorm2d   | 40    \n",
      "10 | model.convs.8  | PReLU         | 1     \n",
      "11 | model.convs.9  | MaxPool2d     | 0     \n",
      "12 | model.convs.10 | Dropout       | 0     \n",
      "13 | model.convs.11 | Conv2d        | 80 K  \n",
      "14 | model.convs.12 | BatchNorm2d   | 80    \n",
      "15 | model.convs.13 | PReLU         | 1     \n",
      "16 | model.convs.14 | MaxPool2d     | 0     \n",
      "17 | model.convs.15 | Dropout       | 0     \n",
      "18 | model.convs.16 | Conv2d        | 12 K  \n",
      "19 | model.convs.17 | BatchNorm2d   | 160   \n",
      "20 | model.convs.18 | PReLU         | 1     \n",
      "21 | model.convs.19 | MaxPool2d     | 0     \n",
      "22 | model.convs.20 | Dropout       | 0     \n",
      "23 | model.dense    | Sequential    | 20 K  \n",
      "24 | model.dense.0  | Linear        | 20 K  \n",
      "25 | model.dense.1  | PReLU         | 1     \n",
      "26 | model.dense.2  | Dropout       | 0     \n",
      "27 | model.dense.3  | Linear        | 498   \n"
     ]
    },
    {
     "data": {
      "application/vnd.jupyter.widget-view+json": {
       "model_id": "",
       "version_major": 2,
       "version_minor": 0
      },
      "text/plain": [
       "HBox(children=(FloatProgress(value=1.0, bar_style='info', description='Validation sanity check', layout=Layout…"
      ]
     },
     "metadata": {},
     "output_type": "display_data"
    },
    {
     "name": "stdout",
     "output_type": "stream",
     "text": [
      "Val-Acc=0.015411973918197985\n"
     ]
    },
    {
     "data": {
      "application/vnd.jupyter.widget-view+json": {
       "model_id": "7653e3de3729486dbd944052a3923f60",
       "version_major": 2,
       "version_minor": 0
      },
      "text/plain": [
       "HBox(children=(FloatProgress(value=1.0, bar_style='info', description='Training', layout=Layout(flex='2'), max…"
      ]
     },
     "metadata": {},
     "output_type": "display_data"
    },
    {
     "data": {
      "application/vnd.jupyter.widget-view+json": {
       "model_id": "",
       "version_major": 2,
       "version_minor": 0
      },
      "text/plain": [
       "HBox(children=(FloatProgress(value=1.0, bar_style='info', description='Validating', layout=Layout(flex='2'), m…"
      ]
     },
     "metadata": {},
     "output_type": "display_data"
    },
    {
     "name": "stdout",
     "output_type": "stream",
     "text": [
      "Val-Acc=0.5216360403082395\n",
      "Train-Acc=0.6980237154150197\n"
     ]
    },
    {
     "data": {
      "application/vnd.jupyter.widget-view+json": {
       "model_id": "",
       "version_major": 2,
       "version_minor": 0
      },
      "text/plain": [
       "HBox(children=(FloatProgress(value=1.0, bar_style='info', description='Validating', layout=Layout(flex='2'), m…"
      ]
     },
     "metadata": {},
     "output_type": "display_data"
    },
    {
     "name": "stdout",
     "output_type": "stream",
     "text": [
      "Val-Acc=0.5998814463544754\n",
      "Train-Acc=0.7351778656126482\n"
     ]
    },
    {
     "data": {
      "application/vnd.jupyter.widget-view+json": {
       "model_id": "",
       "version_major": 2,
       "version_minor": 0
      },
      "text/plain": [
       "HBox(children=(FloatProgress(value=1.0, bar_style='info', description='Validating', layout=Layout(flex='2'), m…"
      ]
     },
     "metadata": {},
     "output_type": "display_data"
    },
    {
     "name": "stdout",
     "output_type": "stream",
     "text": [
      "Val-Acc=0.6372258446947243\n",
      "Train-Acc=0.7397233201581027\n"
     ]
    },
    {
     "data": {
      "application/vnd.jupyter.widget-view+json": {
       "model_id": "",
       "version_major": 2,
       "version_minor": 0
      },
      "text/plain": [
       "HBox(children=(FloatProgress(value=1.0, bar_style='info', description='Validating', layout=Layout(flex='2'), m…"
      ]
     },
     "metadata": {},
     "output_type": "display_data"
    },
    {
     "name": "stdout",
     "output_type": "stream",
     "text": [
      "Val-Acc=0.5903971547125074\n",
      "Train-Acc=0.7458498023715415\n"
     ]
    },
    {
     "data": {
      "application/vnd.jupyter.widget-view+json": {
       "model_id": "",
       "version_major": 2,
       "version_minor": 0
      },
      "text/plain": [
       "HBox(children=(FloatProgress(value=1.0, bar_style='info', description='Validating', layout=Layout(flex='2'), m…"
      ]
     },
     "metadata": {},
     "output_type": "display_data"
    },
    {
     "name": "stdout",
     "output_type": "stream",
     "text": [
      "Val-Acc=0.6953171310017783\n",
      "Train-Acc=0.7529644268774703\n"
     ]
    },
    {
     "data": {
      "application/vnd.jupyter.widget-view+json": {
       "model_id": "",
       "version_major": 2,
       "version_minor": 0
      },
      "text/plain": [
       "HBox(children=(FloatProgress(value=1.0, bar_style='info', description='Validating', layout=Layout(flex='2'), m…"
      ]
     },
     "metadata": {},
     "output_type": "display_data"
    },
    {
     "name": "stdout",
     "output_type": "stream",
     "text": [
      "Val-Acc=0.7694131594546533\n",
      "Train-Acc=0.7573122529644268\n"
     ]
    },
    {
     "data": {
      "application/vnd.jupyter.widget-view+json": {
       "model_id": "",
       "version_major": 2,
       "version_minor": 0
      },
      "text/plain": [
       "HBox(children=(FloatProgress(value=1.0, bar_style='info', description='Validating', layout=Layout(flex='2'), m…"
      ]
     },
     "metadata": {},
     "output_type": "display_data"
    },
    {
     "name": "stdout",
     "output_type": "stream",
     "text": [
      "Val-Acc=0.7818612922347362\n",
      "Train-Acc=0.7575098814229249\n"
     ]
    },
    {
     "data": {
      "application/vnd.jupyter.widget-view+json": {
       "model_id": "",
       "version_major": 2,
       "version_minor": 0
      },
      "text/plain": [
       "HBox(children=(FloatProgress(value=1.0, bar_style='info', description='Validating', layout=Layout(flex='2'), m…"
      ]
     },
     "metadata": {},
     "output_type": "display_data"
    },
    {
     "name": "stdout",
     "output_type": "stream",
     "text": [
      "Val-Acc=0.7842323651452282\n",
      "Train-Acc=0.7739130434782608\n"
     ]
    },
    {
     "data": {
      "application/vnd.jupyter.widget-view+json": {
       "model_id": "",
       "version_major": 2,
       "version_minor": 0
      },
      "text/plain": [
       "HBox(children=(FloatProgress(value=1.0, bar_style='info', description='Validating', layout=Layout(flex='2'), m…"
      ]
     },
     "metadata": {},
     "output_type": "display_data"
    },
    {
     "name": "stdout",
     "output_type": "stream",
     "text": [
      "Val-Acc=0.7575577949021932\n",
      "Train-Acc=0.7768774703557312\n"
     ]
    },
    {
     "data": {
      "application/vnd.jupyter.widget-view+json": {
       "model_id": "",
       "version_major": 2,
       "version_minor": 0
      },
      "text/plain": [
       "HBox(children=(FloatProgress(value=1.0, bar_style='info', description='Validating', layout=Layout(flex='2'), m…"
      ]
     },
     "metadata": {},
     "output_type": "display_data"
    },
    {
     "name": "stdout",
     "output_type": "stream",
     "text": [
      "Val-Acc=0.7338470657972732\n",
      "Train-Acc=0.766798418972332\n"
     ]
    },
    {
     "data": {
      "application/vnd.jupyter.widget-view+json": {
       "model_id": "",
       "version_major": 2,
       "version_minor": 0
      },
      "text/plain": [
       "HBox(children=(FloatProgress(value=1.0, bar_style='info', description='Validating', layout=Layout(flex='2'), m…"
      ]
     },
     "metadata": {},
     "output_type": "display_data"
    },
    {
     "name": "stdout",
     "output_type": "stream",
     "text": [
      "Val-Acc=0.7379964433906343\n",
      "Train-Acc=0.7691699604743083\n"
     ]
    },
    {
     "data": {
      "application/vnd.jupyter.widget-view+json": {
       "model_id": "",
       "version_major": 2,
       "version_minor": 0
      },
      "text/plain": [
       "HBox(children=(FloatProgress(value=1.0, bar_style='info', description='Validating', layout=Layout(flex='2'), m…"
      ]
     },
     "metadata": {},
     "output_type": "display_data"
    },
    {
     "name": "stdout",
     "output_type": "stream",
     "text": [
      "Val-Acc=0.4943687018375815\n",
      "Train-Acc=0.7703557312252964\n"
     ]
    },
    {
     "data": {
      "application/vnd.jupyter.widget-view+json": {
       "model_id": "",
       "version_major": 2,
       "version_minor": 0
      },
      "text/plain": [
       "HBox(children=(FloatProgress(value=1.0, bar_style='info', description='Validating', layout=Layout(flex='2'), m…"
      ]
     },
     "metadata": {},
     "output_type": "display_data"
    },
    {
     "name": "stdout",
     "output_type": "stream",
     "text": [
      "Val-Acc=0.7617071724955542\n",
      "Train-Acc=0.7814229249011858\n"
     ]
    },
    {
     "data": {
      "application/vnd.jupyter.widget-view+json": {
       "model_id": "",
       "version_major": 2,
       "version_minor": 0
      },
      "text/plain": [
       "HBox(children=(FloatProgress(value=1.0, bar_style='info', description='Validating', layout=Layout(flex='2'), m…"
      ]
     },
     "metadata": {},
     "output_type": "display_data"
    },
    {
     "name": "stdout",
     "output_type": "stream",
     "text": [
      "Val-Acc=0.6781268524007114\n",
      "Train-Acc=0.7889328063241107\n"
     ]
    },
    {
     "data": {
      "application/vnd.jupyter.widget-view+json": {
       "model_id": "",
       "version_major": 2,
       "version_minor": 0
      },
      "text/plain": [
       "HBox(children=(FloatProgress(value=1.0, bar_style='info', description='Validating', layout=Layout(flex='2'), m…"
      ]
     },
     "metadata": {},
     "output_type": "display_data"
    },
    {
     "name": "stdout",
     "output_type": "stream",
     "text": [
      "Val-Acc=0.7522228808535862\n",
      "Train-Acc=0.7845849802371542\n"
     ]
    },
    {
     "data": {
      "application/vnd.jupyter.widget-view+json": {
       "model_id": "",
       "version_major": 2,
       "version_minor": 0
      },
      "text/plain": [
       "HBox(children=(FloatProgress(value=1.0, bar_style='info', description='Validating', layout=Layout(flex='2'), m…"
      ]
     },
     "metadata": {},
     "output_type": "display_data"
    },
    {
     "name": "stdout",
     "output_type": "stream",
     "text": [
      "Val-Acc=0.7468879668049793\n",
      "Train-Acc=0.7881422924901186\n"
     ]
    },
    {
     "data": {
      "application/vnd.jupyter.widget-view+json": {
       "model_id": "",
       "version_major": 2,
       "version_minor": 0
      },
      "text/plain": [
       "HBox(children=(FloatProgress(value=1.0, bar_style='info', description='Validating', layout=Layout(flex='2'), m…"
      ]
     },
     "metadata": {},
     "output_type": "display_data"
    },
    {
     "name": "stdout",
     "output_type": "stream",
     "text": [
      "Val-Acc=0.7474807350326023\n",
      "Train-Acc=0.7895256916996047\n"
     ]
    },
    {
     "data": {
      "application/vnd.jupyter.widget-view+json": {
       "model_id": "",
       "version_major": 2,
       "version_minor": 0
      },
      "text/plain": [
       "HBox(children=(FloatProgress(value=1.0, bar_style='info', description='Validating', layout=Layout(flex='2'), m…"
      ]
     },
     "metadata": {},
     "output_type": "display_data"
    },
    {
     "name": "stdout",
     "output_type": "stream",
     "text": [
      "Val-Acc=0.6218138707765264\n",
      "Train-Acc=0.7798418972332016\n"
     ]
    },
    {
     "data": {
      "application/vnd.jupyter.widget-view+json": {
       "model_id": "",
       "version_major": 2,
       "version_minor": 0
      },
      "text/plain": [
       "HBox(children=(FloatProgress(value=1.0, bar_style='info', description='Validating', layout=Layout(flex='2'), m…"
      ]
     },
     "metadata": {},
     "output_type": "display_data"
    },
    {
     "name": "stdout",
     "output_type": "stream",
     "text": [
      "Val-Acc=0.7575577949021932\n",
      "Train-Acc=0.7851778656126482\n"
     ]
    },
    {
     "data": {
      "application/vnd.jupyter.widget-view+json": {
       "model_id": "",
       "version_major": 2,
       "version_minor": 0
      },
      "text/plain": [
       "HBox(children=(FloatProgress(value=1.0, bar_style='info', description='Validating', layout=Layout(flex='2'), m…"
      ]
     },
     "metadata": {},
     "output_type": "display_data"
    },
    {
     "name": "stdout",
     "output_type": "stream",
     "text": [
      "Val-Acc=0.7178423236514523\n",
      "Train-Acc=0.7970355731225296\n",
      "\n",
      "Saved model to \"saved_modelsq/3.p\"\n"
     ]
    },
    {
     "name": "stderr",
     "output_type": "stream",
     "text": [
      "[I 2020-07-20 18:33:56,337] Finished trial#3 with value: 0.7178423236514523 with parameters: {'learning_rate': 0.00949692819245819, 'p_drop': 0.1739792578048206, 'lr_decay': 0.9069301879281659, 'n_hidden': 248, 'weight_decay': 0.021666772419937277}. Best is trial#2 with value: 0.7824540604623592.\n",
      "GPU available: True, used: True\n",
      "No environment variable for node rank defined. Set as 0.\n",
      "CUDA_VISIBLE_DEVICES: [0]\n",
      "Set SLURM handle signals.\n",
      "\n",
      "   | Name           | Type          | Params\n",
      "---------------------------------------------\n",
      "0  | model          | AblationModel | 154 K \n",
      "1  | model.convs    | Sequential    | 114 K \n",
      "2  | model.convs.0  | BatchNorm2d   | 2     \n",
      "3  | model.convs.1  | Conv2d        | 1 K   \n",
      "4  | model.convs.2  | BatchNorm2d   | 20    \n",
      "5  | model.convs.3  | PReLU         | 1     \n",
      "6  | model.convs.4  | MaxPool2d     | 0     \n",
      "7  | model.convs.5  | Dropout       | 0     \n",
      "8  | model.convs.6  | Conv2d        | 20 K  \n",
      "9  | model.convs.7  | BatchNorm2d   | 40    \n",
      "10 | model.convs.8  | PReLU         | 1     \n",
      "11 | model.convs.9  | MaxPool2d     | 0     \n",
      "12 | model.convs.10 | Dropout       | 0     \n",
      "13 | model.convs.11 | Conv2d        | 80 K  \n",
      "14 | model.convs.12 | BatchNorm2d   | 80    \n",
      "15 | model.convs.13 | PReLU         | 1     \n",
      "16 | model.convs.14 | MaxPool2d     | 0     \n",
      "17 | model.convs.15 | Dropout       | 0     \n",
      "18 | model.convs.16 | Conv2d        | 12 K  \n",
      "19 | model.convs.17 | BatchNorm2d   | 160   \n",
      "20 | model.convs.18 | PReLU         | 1     \n",
      "21 | model.convs.19 | MaxPool2d     | 0     \n",
      "22 | model.convs.20 | Dropout       | 0     \n",
      "23 | model.dense    | Sequential    | 40 K  \n",
      "24 | model.dense.0  | Linear        | 39 K  \n",
      "25 | model.dense.1  | PReLU         | 1     \n",
      "26 | model.dense.2  | Dropout       | 0     \n",
      "27 | model.dense.3  | Linear        | 980   \n"
     ]
    },
    {
     "data": {
      "application/vnd.jupyter.widget-view+json": {
       "model_id": "",
       "version_major": 2,
       "version_minor": 0
      },
      "text/plain": [
       "HBox(children=(FloatProgress(value=1.0, bar_style='info', description='Validation sanity check', layout=Layout…"
      ]
     },
     "metadata": {},
     "output_type": "display_data"
    },
    {
     "name": "stdout",
     "output_type": "stream",
     "text": [
      "Val-Acc=0.018375815056312982\n"
     ]
    },
    {
     "data": {
      "application/vnd.jupyter.widget-view+json": {
       "model_id": "2e3d5d3a671d4460b8982700c961ea92",
       "version_major": 2,
       "version_minor": 0
      },
      "text/plain": [
       "HBox(children=(FloatProgress(value=1.0, bar_style='info', description='Training', layout=Layout(flex='2'), max…"
      ]
     },
     "metadata": {},
     "output_type": "display_data"
    },
    {
     "data": {
      "application/vnd.jupyter.widget-view+json": {
       "model_id": "",
       "version_major": 2,
       "version_minor": 0
      },
      "text/plain": [
       "HBox(children=(FloatProgress(value=1.0, bar_style='info', description='Validating', layout=Layout(flex='2'), m…"
      ]
     },
     "metadata": {},
     "output_type": "display_data"
    },
    {
     "name": "stdout",
     "output_type": "stream",
     "text": [
      "Val-Acc=0.6526378186129224\n",
      "Train-Acc=0.6857707509881423\n"
     ]
    },
    {
     "data": {
      "application/vnd.jupyter.widget-view+json": {
       "model_id": "",
       "version_major": 2,
       "version_minor": 0
      },
      "text/plain": [
       "HBox(children=(FloatProgress(value=1.0, bar_style='info', description='Validating', layout=Layout(flex='2'), m…"
      ]
     },
     "metadata": {},
     "output_type": "display_data"
    },
    {
     "name": "stdout",
     "output_type": "stream",
     "text": [
      "Val-Acc=0.7492590397154713\n",
      "Train-Acc=0.7399209486166007\n"
     ]
    },
    {
     "data": {
      "application/vnd.jupyter.widget-view+json": {
       "model_id": "",
       "version_major": 2,
       "version_minor": 0
      },
      "text/plain": [
       "HBox(children=(FloatProgress(value=1.0, bar_style='info', description='Validating', layout=Layout(flex='2'), m…"
      ]
     },
     "metadata": {},
     "output_type": "display_data"
    },
    {
     "name": "stdout",
     "output_type": "stream",
     "text": [
      "Val-Acc=0.7095435684647303\n",
      "Train-Acc=0.7577075098814229\n"
     ]
    },
    {
     "data": {
      "application/vnd.jupyter.widget-view+json": {
       "model_id": "",
       "version_major": 2,
       "version_minor": 0
      },
      "text/plain": [
       "HBox(children=(FloatProgress(value=1.0, bar_style='info', description='Validating', layout=Layout(flex='2'), m…"
      ]
     },
     "metadata": {},
     "output_type": "display_data"
    },
    {
     "name": "stdout",
     "output_type": "stream",
     "text": [
      "Val-Acc=0.7480735032602253\n",
      "Train-Acc=0.7652173913043478\n"
     ]
    },
    {
     "data": {
      "application/vnd.jupyter.widget-view+json": {
       "model_id": "",
       "version_major": 2,
       "version_minor": 0
      },
      "text/plain": [
       "HBox(children=(FloatProgress(value=1.0, bar_style='info', description='Validating', layout=Layout(flex='2'), m…"
      ]
     },
     "metadata": {},
     "output_type": "display_data"
    },
    {
     "name": "stdout",
     "output_type": "stream",
     "text": [
      "Val-Acc=0.7516301126259632\n",
      "Train-Acc=0.7806324110671937\n"
     ]
    },
    {
     "data": {
      "application/vnd.jupyter.widget-view+json": {
       "model_id": "",
       "version_major": 2,
       "version_minor": 0
      },
      "text/plain": [
       "HBox(children=(FloatProgress(value=1.0, bar_style='info', description='Validating', layout=Layout(flex='2'), m…"
      ]
     },
     "metadata": {},
     "output_type": "display_data"
    },
    {
     "name": "stdout",
     "output_type": "stream",
     "text": [
      "Val-Acc=0.7741553052756373\n",
      "Train-Acc=0.7646245059288538\n"
     ]
    },
    {
     "data": {
      "application/vnd.jupyter.widget-view+json": {
       "model_id": "",
       "version_major": 2,
       "version_minor": 0
      },
      "text/plain": [
       "HBox(children=(FloatProgress(value=1.0, bar_style='info', description='Validating', layout=Layout(flex='2'), m…"
      ]
     },
     "metadata": {},
     "output_type": "display_data"
    },
    {
     "name": "stdout",
     "output_type": "stream",
     "text": [
      "Val-Acc=0.7557794902193242\n",
      "Train-Acc=0.7893280632411067\n"
     ]
    },
    {
     "data": {
      "application/vnd.jupyter.widget-view+json": {
       "model_id": "",
       "version_major": 2,
       "version_minor": 0
      },
      "text/plain": [
       "HBox(children=(FloatProgress(value=1.0, bar_style='info', description='Validating', layout=Layout(flex='2'), m…"
      ]
     },
     "metadata": {},
     "output_type": "display_data"
    },
    {
     "name": "stdout",
     "output_type": "stream",
     "text": [
      "Val-Acc=0.7777119146413752\n",
      "Train-Acc=0.8025691699604743\n"
     ]
    },
    {
     "data": {
      "application/vnd.jupyter.widget-view+json": {
       "model_id": "",
       "version_major": 2,
       "version_minor": 0
      },
      "text/plain": [
       "HBox(children=(FloatProgress(value=1.0, bar_style='info', description='Validating', layout=Layout(flex='2'), m…"
      ]
     },
     "metadata": {},
     "output_type": "display_data"
    },
    {
     "name": "stdout",
     "output_type": "stream",
     "text": [
      "Val-Acc=0.7575577949021932\n",
      "Train-Acc=0.7847826086956522\n"
     ]
    },
    {
     "data": {
      "application/vnd.jupyter.widget-view+json": {
       "model_id": "",
       "version_major": 2,
       "version_minor": 0
      },
      "text/plain": [
       "HBox(children=(FloatProgress(value=1.0, bar_style='info', description='Validating', layout=Layout(flex='2'), m…"
      ]
     },
     "metadata": {},
     "output_type": "display_data"
    },
    {
     "name": "stdout",
     "output_type": "stream",
     "text": [
      "Val-Acc=0.7729697688203913\n",
      "Train-Acc=0.8059288537549407\n"
     ]
    },
    {
     "data": {
      "application/vnd.jupyter.widget-view+json": {
       "model_id": "",
       "version_major": 2,
       "version_minor": 0
      },
      "text/plain": [
       "HBox(children=(FloatProgress(value=1.0, bar_style='info', description='Validating', layout=Layout(flex='2'), m…"
      ]
     },
     "metadata": {},
     "output_type": "display_data"
    },
    {
     "name": "stdout",
     "output_type": "stream",
     "text": [
      "Val-Acc=0.7717842323651453\n",
      "Train-Acc=0.8116600790513834\n"
     ]
    },
    {
     "data": {
      "application/vnd.jupyter.widget-view+json": {
       "model_id": "",
       "version_major": 2,
       "version_minor": 0
      },
      "text/plain": [
       "HBox(children=(FloatProgress(value=1.0, bar_style='info', description='Validating', layout=Layout(flex='2'), m…"
      ]
     },
     "metadata": {},
     "output_type": "display_data"
    },
    {
     "name": "stdout",
     "output_type": "stream",
     "text": [
      "Val-Acc=0.8020154119739182\n",
      "Train-Acc=0.8073122529644269\n"
     ]
    },
    {
     "data": {
      "application/vnd.jupyter.widget-view+json": {
       "model_id": "",
       "version_major": 2,
       "version_minor": 0
      },
      "text/plain": [
       "HBox(children=(FloatProgress(value=1.0, bar_style='info', description='Validating', layout=Layout(flex='2'), m…"
      ]
     },
     "metadata": {},
     "output_type": "display_data"
    },
    {
     "name": "stdout",
     "output_type": "stream",
     "text": [
      "Val-Acc=0.8316538233550682\n",
      "Train-Acc=0.8181818181818182\n",
      "new best val acc 0.8316538233550682\n",
      "Saved model to \"optuna_ablationNormal_0.8316538233550682.p\"\n",
      "Saved checkpoint at epoch 13 at \"optuna_ablationNormal_0.8316538233550682.p\"\n"
     ]
    },
    {
     "data": {
      "application/vnd.jupyter.widget-view+json": {
       "model_id": "",
       "version_major": 2,
       "version_minor": 0
      },
      "text/plain": [
       "HBox(children=(FloatProgress(value=1.0, bar_style='info', description='Validating', layout=Layout(flex='2'), m…"
      ]
     },
     "metadata": {},
     "output_type": "display_data"
    },
    {
     "name": "stdout",
     "output_type": "stream",
     "text": [
      "Val-Acc=0.7753408417308832\n",
      "Train-Acc=0.8185770750988143\n"
     ]
    },
    {
     "data": {
      "application/vnd.jupyter.widget-view+json": {
       "model_id": "",
       "version_major": 2,
       "version_minor": 0
      },
      "text/plain": [
       "HBox(children=(FloatProgress(value=1.0, bar_style='info', description='Validating', layout=Layout(flex='2'), m…"
      ]
     },
     "metadata": {},
     "output_type": "display_data"
    },
    {
     "name": "stdout",
     "output_type": "stream",
     "text": [
      "Val-Acc=0.8020154119739182\n",
      "Train-Acc=0.8177865612648222\n"
     ]
    },
    {
     "data": {
      "application/vnd.jupyter.widget-view+json": {
       "model_id": "",
       "version_major": 2,
       "version_minor": 0
      },
      "text/plain": [
       "HBox(children=(FloatProgress(value=1.0, bar_style='info', description='Validating', layout=Layout(flex='2'), m…"
      ]
     },
     "metadata": {},
     "output_type": "display_data"
    },
    {
     "name": "stdout",
     "output_type": "stream",
     "text": [
      "Val-Acc=0.8227622999407231\n",
      "Train-Acc=0.824505928853755\n"
     ]
    },
    {
     "data": {
      "application/vnd.jupyter.widget-view+json": {
       "model_id": "",
       "version_major": 2,
       "version_minor": 0
      },
      "text/plain": [
       "HBox(children=(FloatProgress(value=1.0, bar_style='info', description='Validating', layout=Layout(flex='2'), m…"
      ]
     },
     "metadata": {},
     "output_type": "display_data"
    },
    {
     "name": "stdout",
     "output_type": "stream",
     "text": [
      "Val-Acc=0.7943094250148192\n",
      "Train-Acc=0.8225296442687747\n"
     ]
    },
    {
     "data": {
      "application/vnd.jupyter.widget-view+json": {
       "model_id": "",
       "version_major": 2,
       "version_minor": 0
      },
      "text/plain": [
       "HBox(children=(FloatProgress(value=1.0, bar_style='info', description='Validating', layout=Layout(flex='2'), m…"
      ]
     },
     "metadata": {},
     "output_type": "display_data"
    },
    {
     "name": "stdout",
     "output_type": "stream",
     "text": [
      "Val-Acc=0.8251333728512151\n",
      "Train-Acc=0.8278656126482213\n"
     ]
    },
    {
     "data": {
      "application/vnd.jupyter.widget-view+json": {
       "model_id": "",
       "version_major": 2,
       "version_minor": 0
      },
      "text/plain": [
       "HBox(children=(FloatProgress(value=1.0, bar_style='info', description='Validating', layout=Layout(flex='2'), m…"
      ]
     },
     "metadata": {},
     "output_type": "display_data"
    },
    {
     "name": "stdout",
     "output_type": "stream",
     "text": [
      "Val-Acc=0.8304682868998222\n",
      "Train-Acc=0.825296442687747\n"
     ]
    },
    {
     "data": {
      "application/vnd.jupyter.widget-view+json": {
       "model_id": "",
       "version_major": 2,
       "version_minor": 0
      },
      "text/plain": [
       "HBox(children=(FloatProgress(value=1.0, bar_style='info', description='Validating', layout=Layout(flex='2'), m…"
      ]
     },
     "metadata": {},
     "output_type": "display_data"
    },
    {
     "name": "stdout",
     "output_type": "stream",
     "text": [
      "Val-Acc=0.7504445761707172\n",
      "Train-Acc=0.825296442687747\n",
      "\n",
      "Saved model to \"saved_modelsq/4.p\"\n"
     ]
    },
    {
     "name": "stderr",
     "output_type": "stream",
     "text": [
      "[I 2020-07-20 18:36:47,239] Finished trial#4 with value: 0.7504445761707172 with parameters: {'learning_rate': 0.0005559360445493178, 'p_drop': 0.5701991825207613, 'lr_decay': 0.8649675819310669, 'n_hidden': 489, 'weight_decay': 0.08183611045559935}. Best is trial#2 with value: 0.7824540604623592.\n",
      "GPU available: True, used: True\n",
      "No environment variable for node rank defined. Set as 0.\n",
      "CUDA_VISIBLE_DEVICES: [0]\n",
      "Set SLURM handle signals.\n",
      "\n",
      "   | Name           | Type          | Params\n",
      "---------------------------------------------\n",
      "0  | model          | AblationModel | 171 K \n",
      "1  | model.convs    | Sequential    | 114 K \n",
      "2  | model.convs.0  | BatchNorm2d   | 2     \n",
      "3  | model.convs.1  | Conv2d        | 1 K   \n",
      "4  | model.convs.2  | BatchNorm2d   | 20    \n",
      "5  | model.convs.3  | PReLU         | 1     \n",
      "6  | model.convs.4  | MaxPool2d     | 0     \n",
      "7  | model.convs.5  | Dropout       | 0     \n",
      "8  | model.convs.6  | Conv2d        | 20 K  \n",
      "9  | model.convs.7  | BatchNorm2d   | 40    \n",
      "10 | model.convs.8  | PReLU         | 1     \n",
      "11 | model.convs.9  | MaxPool2d     | 0     \n",
      "12 | model.convs.10 | Dropout       | 0     \n",
      "13 | model.convs.11 | Conv2d        | 80 K  \n",
      "14 | model.convs.12 | BatchNorm2d   | 80    \n",
      "15 | model.convs.13 | PReLU         | 1     \n",
      "16 | model.convs.14 | MaxPool2d     | 0     \n",
      "17 | model.convs.15 | Dropout       | 0     \n",
      "18 | model.convs.16 | Conv2d        | 12 K  \n",
      "19 | model.convs.17 | BatchNorm2d   | 160   \n",
      "20 | model.convs.18 | PReLU         | 1     \n",
      "21 | model.convs.19 | MaxPool2d     | 0     \n",
      "22 | model.convs.20 | Dropout       | 0     \n",
      "23 | model.dense    | Sequential    | 57 K  \n",
      "24 | model.dense.0  | Linear        | 55 K  \n",
      "25 | model.dense.1  | PReLU         | 1     \n",
      "26 | model.dense.2  | Dropout       | 0     \n",
      "27 | model.dense.3  | Linear        | 1 K   \n"
     ]
    },
    {
     "data": {
      "application/vnd.jupyter.widget-view+json": {
       "model_id": "",
       "version_major": 2,
       "version_minor": 0
      },
      "text/plain": [
       "HBox(children=(FloatProgress(value=1.0, bar_style='info', description='Validation sanity check', layout=Layout…"
      ]
     },
     "metadata": {},
     "output_type": "display_data"
    },
    {
     "name": "stdout",
     "output_type": "stream",
     "text": [
      "Val-Acc=0.01956135151155898\n"
     ]
    },
    {
     "data": {
      "application/vnd.jupyter.widget-view+json": {
       "model_id": "c9cccc6bde754c6aadf9cd1ba48bcc33",
       "version_major": 2,
       "version_minor": 0
      },
      "text/plain": [
       "HBox(children=(FloatProgress(value=1.0, bar_style='info', description='Training', layout=Layout(flex='2'), max…"
      ]
     },
     "metadata": {},
     "output_type": "display_data"
    },
    {
     "data": {
      "application/vnd.jupyter.widget-view+json": {
       "model_id": "",
       "version_major": 2,
       "version_minor": 0
      },
      "text/plain": [
       "HBox(children=(FloatProgress(value=1.0, bar_style='info', description='Validating', layout=Layout(flex='2'), m…"
      ]
     },
     "metadata": {},
     "output_type": "display_data"
    },
    {
     "name": "stdout",
     "output_type": "stream",
     "text": [
      "Val-Acc=0.5394190871369294\n",
      "Train-Acc=0.575296442687747\n"
     ]
    },
    {
     "data": {
      "application/vnd.jupyter.widget-view+json": {
       "model_id": "",
       "version_major": 2,
       "version_minor": 0
      },
      "text/plain": [
       "HBox(children=(FloatProgress(value=1.0, bar_style='info', description='Validating', layout=Layout(flex='2'), m…"
      ]
     },
     "metadata": {},
     "output_type": "display_data"
    },
    {
     "name": "stdout",
     "output_type": "stream",
     "text": [
      "Val-Acc=0.5311203319502075\n"
     ]
    },
    {
     "name": "stderr",
     "output_type": "stream",
     "text": [
      "[I 2020-07-20 18:37:04,666] Setting status of trial#5 as TrialState.PRUNED. Trial was pruned at epoch 1.\n",
      "GPU available: True, used: True\n",
      "No environment variable for node rank defined. Set as 0.\n",
      "CUDA_VISIBLE_DEVICES: [0]\n",
      "Set SLURM handle signals.\n",
      "\n",
      "   | Name           | Type          | Params\n",
      "---------------------------------------------\n",
      "0  | model          | AblationModel | 142 K \n",
      "1  | model.convs    | Sequential    | 114 K \n",
      "2  | model.convs.0  | BatchNorm2d   | 2     \n",
      "3  | model.convs.1  | Conv2d        | 1 K   \n",
      "4  | model.convs.2  | BatchNorm2d   | 20    \n",
      "5  | model.convs.3  | PReLU         | 1     \n",
      "6  | model.convs.4  | MaxPool2d     | 0     \n",
      "7  | model.convs.5  | Dropout       | 0     \n",
      "8  | model.convs.6  | Conv2d        | 20 K  \n",
      "9  | model.convs.7  | BatchNorm2d   | 40    \n",
      "10 | model.convs.8  | PReLU         | 1     \n",
      "11 | model.convs.9  | MaxPool2d     | 0     \n",
      "12 | model.convs.10 | Dropout       | 0     \n",
      "13 | model.convs.11 | Conv2d        | 80 K  \n",
      "14 | model.convs.12 | BatchNorm2d   | 80    \n",
      "15 | model.convs.13 | PReLU         | 1     \n",
      "16 | model.convs.14 | MaxPool2d     | 0     \n",
      "17 | model.convs.15 | Dropout       | 0     \n",
      "18 | model.convs.16 | Conv2d        | 12 K  \n",
      "19 | model.convs.17 | BatchNorm2d   | 160   \n",
      "20 | model.convs.18 | PReLU         | 1     \n",
      "21 | model.convs.19 | MaxPool2d     | 0     \n",
      "22 | model.convs.20 | Dropout       | 0     \n",
      "23 | model.dense    | Sequential    | 27 K  \n",
      "24 | model.dense.0  | Linear        | 27 K  \n",
      "25 | model.dense.1  | PReLU         | 1     \n",
      "26 | model.dense.2  | Dropout       | 0     \n",
      "27 | model.dense.3  | Linear        | 672   \n"
     ]
    },
    {
     "data": {
      "application/vnd.jupyter.widget-view+json": {
       "model_id": "",
       "version_major": 2,
       "version_minor": 0
      },
      "text/plain": [
       "HBox(children=(FloatProgress(value=1.0, bar_style='info', description='Validation sanity check', layout=Layout…"
      ]
     },
     "metadata": {},
     "output_type": "display_data"
    },
    {
     "name": "stdout",
     "output_type": "stream",
     "text": [
      "Val-Acc=0.016004742145820983\n"
     ]
    },
    {
     "data": {
      "application/vnd.jupyter.widget-view+json": {
       "model_id": "ee4c5e7eeeea41188b1252ab66fcc469",
       "version_major": 2,
       "version_minor": 0
      },
      "text/plain": [
       "HBox(children=(FloatProgress(value=1.0, bar_style='info', description='Training', layout=Layout(flex='2'), max…"
      ]
     },
     "metadata": {},
     "output_type": "display_data"
    },
    {
     "data": {
      "application/vnd.jupyter.widget-view+json": {
       "model_id": "",
       "version_major": 2,
       "version_minor": 0
      },
      "text/plain": [
       "HBox(children=(FloatProgress(value=1.0, bar_style='info', description='Validating', layout=Layout(flex='2'), m…"
      ]
     },
     "metadata": {},
     "output_type": "display_data"
    },
    {
     "name": "stdout",
     "output_type": "stream",
     "text": [
      "Val-Acc=0.6526378186129224\n",
      "Train-Acc=0.7094861660079052\n"
     ]
    },
    {
     "data": {
      "application/vnd.jupyter.widget-view+json": {
       "model_id": "",
       "version_major": 2,
       "version_minor": 0
      },
      "text/plain": [
       "HBox(children=(FloatProgress(value=1.0, bar_style='info', description='Validating', layout=Layout(flex='2'), m…"
      ]
     },
     "metadata": {},
     "output_type": "display_data"
    },
    {
     "name": "stdout",
     "output_type": "stream",
     "text": [
      "Val-Acc=0.6680497925311203\n",
      "Train-Acc=0.7432806324110672\n"
     ]
    },
    {
     "data": {
      "application/vnd.jupyter.widget-view+json": {
       "model_id": "",
       "version_major": 2,
       "version_minor": 0
      },
      "text/plain": [
       "HBox(children=(FloatProgress(value=1.0, bar_style='info', description='Validating', layout=Layout(flex='2'), m…"
      ]
     },
     "metadata": {},
     "output_type": "display_data"
    },
    {
     "name": "stdout",
     "output_type": "stream",
     "text": [
      "Val-Acc=0.7107291049199763\n",
      "Train-Acc=0.7573122529644268\n"
     ]
    },
    {
     "data": {
      "application/vnd.jupyter.widget-view+json": {
       "model_id": "",
       "version_major": 2,
       "version_minor": 0
      },
      "text/plain": [
       "HBox(children=(FloatProgress(value=1.0, bar_style='info', description='Validating', layout=Layout(flex='2'), m…"
      ]
     },
     "metadata": {},
     "output_type": "display_data"
    },
    {
     "name": "stdout",
     "output_type": "stream",
     "text": [
      "Val-Acc=0.7682276229994073\n",
      "Train-Acc=0.7699604743083004\n"
     ]
    },
    {
     "data": {
      "application/vnd.jupyter.widget-view+json": {
       "model_id": "",
       "version_major": 2,
       "version_minor": 0
      },
      "text/plain": [
       "HBox(children=(FloatProgress(value=1.0, bar_style='info', description='Validating', layout=Layout(flex='2'), m…"
      ]
     },
     "metadata": {},
     "output_type": "display_data"
    },
    {
     "name": "stdout",
     "output_type": "stream",
     "text": [
      "Val-Acc=0.6384113811499703\n",
      "Train-Acc=0.7810276679841898\n"
     ]
    },
    {
     "data": {
      "application/vnd.jupyter.widget-view+json": {
       "model_id": "",
       "version_major": 2,
       "version_minor": 0
      },
      "text/plain": [
       "HBox(children=(FloatProgress(value=1.0, bar_style='info', description='Validating', layout=Layout(flex='2'), m…"
      ]
     },
     "metadata": {},
     "output_type": "display_data"
    },
    {
     "name": "stdout",
     "output_type": "stream",
     "text": [
      "Val-Acc=0.5002963841138115\n",
      "Train-Acc=0.7877470355731225\n"
     ]
    },
    {
     "data": {
      "application/vnd.jupyter.widget-view+json": {
       "model_id": "",
       "version_major": 2,
       "version_minor": 0
      },
      "text/plain": [
       "HBox(children=(FloatProgress(value=1.0, bar_style='info', description='Validating', layout=Layout(flex='2'), m…"
      ]
     },
     "metadata": {},
     "output_type": "display_data"
    },
    {
     "name": "stdout",
     "output_type": "stream",
     "text": [
      "Val-Acc=0.5002963841138115\n",
      "Train-Acc=0.7909090909090909\n"
     ]
    },
    {
     "data": {
      "application/vnd.jupyter.widget-view+json": {
       "model_id": "",
       "version_major": 2,
       "version_minor": 0
      },
      "text/plain": [
       "HBox(children=(FloatProgress(value=1.0, bar_style='info', description='Validating', layout=Layout(flex='2'), m…"
      ]
     },
     "metadata": {},
     "output_type": "display_data"
    },
    {
     "name": "stdout",
     "output_type": "stream",
     "text": [
      "Val-Acc=0.7409602845287493\n"
     ]
    },
    {
     "name": "stderr",
     "output_type": "stream",
     "text": [
      "[I 2020-07-20 18:38:13,196] Setting status of trial#6 as TrialState.PRUNED. Trial was pruned at epoch 7.\n",
      "GPU available: True, used: True\n",
      "No environment variable for node rank defined. Set as 0.\n",
      "CUDA_VISIBLE_DEVICES: [0]\n",
      "Set SLURM handle signals.\n",
      "\n",
      "   | Name           | Type          | Params\n",
      "---------------------------------------------\n",
      "0  | model          | AblationModel | 158 K \n",
      "1  | model.convs    | Sequential    | 114 K \n",
      "2  | model.convs.0  | BatchNorm2d   | 2     \n",
      "3  | model.convs.1  | Conv2d        | 1 K   \n",
      "4  | model.convs.2  | BatchNorm2d   | 20    \n",
      "5  | model.convs.3  | PReLU         | 1     \n",
      "6  | model.convs.4  | MaxPool2d     | 0     \n",
      "7  | model.convs.5  | Dropout       | 0     \n",
      "8  | model.convs.6  | Conv2d        | 20 K  \n",
      "9  | model.convs.7  | BatchNorm2d   | 40    \n",
      "10 | model.convs.8  | PReLU         | 1     \n",
      "11 | model.convs.9  | MaxPool2d     | 0     \n",
      "12 | model.convs.10 | Dropout       | 0     \n",
      "13 | model.convs.11 | Conv2d        | 80 K  \n",
      "14 | model.convs.12 | BatchNorm2d   | 80    \n",
      "15 | model.convs.13 | PReLU         | 1     \n",
      "16 | model.convs.14 | MaxPool2d     | 0     \n",
      "17 | model.convs.15 | Dropout       | 0     \n",
      "18 | model.convs.16 | Conv2d        | 12 K  \n",
      "19 | model.convs.17 | BatchNorm2d   | 160   \n",
      "20 | model.convs.18 | PReLU         | 1     \n",
      "21 | model.convs.19 | MaxPool2d     | 0     \n",
      "22 | model.convs.20 | Dropout       | 0     \n",
      "23 | model.dense    | Sequential    | 44 K  \n",
      "24 | model.dense.0  | Linear        | 43 K  \n",
      "25 | model.dense.1  | PReLU         | 1     \n",
      "26 | model.dense.2  | Dropout       | 0     \n",
      "27 | model.dense.3  | Linear        | 1 K   \n"
     ]
    },
    {
     "data": {
      "application/vnd.jupyter.widget-view+json": {
       "model_id": "",
       "version_major": 2,
       "version_minor": 0
      },
      "text/plain": [
       "HBox(children=(FloatProgress(value=1.0, bar_style='info', description='Validation sanity check', layout=Layout…"
      ]
     },
     "metadata": {},
     "output_type": "display_data"
    },
    {
     "name": "stdout",
     "output_type": "stream",
     "text": [
      "Val-Acc=0.018375815056312982\n"
     ]
    },
    {
     "data": {
      "application/vnd.jupyter.widget-view+json": {
       "model_id": "a749bc7746254449a57e7bca843cc661",
       "version_major": 2,
       "version_minor": 0
      },
      "text/plain": [
       "HBox(children=(FloatProgress(value=1.0, bar_style='info', description='Training', layout=Layout(flex='2'), max…"
      ]
     },
     "metadata": {},
     "output_type": "display_data"
    },
    {
     "data": {
      "application/vnd.jupyter.widget-view+json": {
       "model_id": "",
       "version_major": 2,
       "version_minor": 0
      },
      "text/plain": [
       "HBox(children=(FloatProgress(value=1.0, bar_style='info', description='Validating', layout=Layout(flex='2'), m…"
      ]
     },
     "metadata": {},
     "output_type": "display_data"
    },
    {
     "name": "stdout",
     "output_type": "stream",
     "text": [
      "Val-Acc=0.5678719620628334\n",
      "Train-Acc=0.7162055335968379\n"
     ]
    },
    {
     "data": {
      "application/vnd.jupyter.widget-view+json": {
       "model_id": "",
       "version_major": 2,
       "version_minor": 0
      },
      "text/plain": [
       "HBox(children=(FloatProgress(value=1.0, bar_style='info', description='Validating', layout=Layout(flex='2'), m…"
      ]
     },
     "metadata": {},
     "output_type": "display_data"
    },
    {
     "name": "stdout",
     "output_type": "stream",
     "text": [
      "Val-Acc=0.7125074096028453\n",
      "Train-Acc=0.766403162055336\n"
     ]
    },
    {
     "data": {
      "application/vnd.jupyter.widget-view+json": {
       "model_id": "",
       "version_major": 2,
       "version_minor": 0
      },
      "text/plain": [
       "HBox(children=(FloatProgress(value=1.0, bar_style='info', description='Validating', layout=Layout(flex='2'), m…"
      ]
     },
     "metadata": {},
     "output_type": "display_data"
    },
    {
     "name": "stdout",
     "output_type": "stream",
     "text": [
      "Val-Acc=0.6704208654416123\n",
      "Train-Acc=0.7824110671936759\n"
     ]
    },
    {
     "data": {
      "application/vnd.jupyter.widget-view+json": {
       "model_id": "",
       "version_major": 2,
       "version_minor": 0
      },
      "text/plain": [
       "HBox(children=(FloatProgress(value=1.0, bar_style='info', description='Validating', layout=Layout(flex='2'), m…"
      ]
     },
     "metadata": {},
     "output_type": "display_data"
    },
    {
     "name": "stdout",
     "output_type": "stream",
     "text": [
      "Val-Acc=0.7326615293420272\n",
      "Train-Acc=0.7897233201581028\n"
     ]
    },
    {
     "data": {
      "application/vnd.jupyter.widget-view+json": {
       "model_id": "",
       "version_major": 2,
       "version_minor": 0
      },
      "text/plain": [
       "HBox(children=(FloatProgress(value=1.0, bar_style='info', description='Validating', layout=Layout(flex='2'), m…"
      ]
     },
     "metadata": {},
     "output_type": "display_data"
    },
    {
     "name": "stdout",
     "output_type": "stream",
     "text": [
      "Val-Acc=0.6615293420272673\n",
      "Train-Acc=0.8007905138339921\n"
     ]
    },
    {
     "data": {
      "application/vnd.jupyter.widget-view+json": {
       "model_id": "",
       "version_major": 2,
       "version_minor": 0
      },
      "text/plain": [
       "HBox(children=(FloatProgress(value=1.0, bar_style='info', description='Validating', layout=Layout(flex='2'), m…"
      ]
     },
     "metadata": {},
     "output_type": "display_data"
    },
    {
     "name": "stdout",
     "output_type": "stream",
     "text": [
      "Val-Acc=0.6318909306461173\n",
      "Train-Acc=0.8043478260869565\n"
     ]
    },
    {
     "data": {
      "application/vnd.jupyter.widget-view+json": {
       "model_id": "",
       "version_major": 2,
       "version_minor": 0
      },
      "text/plain": [
       "HBox(children=(FloatProgress(value=1.0, bar_style='info', description='Validating', layout=Layout(flex='2'), m…"
      ]
     },
     "metadata": {},
     "output_type": "display_data"
    },
    {
     "name": "stdout",
     "output_type": "stream",
     "text": [
      "Val-Acc=0.5915826911677534\n",
      "Train-Acc=0.8096837944664032\n"
     ]
    },
    {
     "data": {
      "application/vnd.jupyter.widget-view+json": {
       "model_id": "",
       "version_major": 2,
       "version_minor": 0
      },
      "text/plain": [
       "HBox(children=(FloatProgress(value=1.0, bar_style='info', description='Validating', layout=Layout(flex='2'), m…"
      ]
     },
     "metadata": {},
     "output_type": "display_data"
    },
    {
     "name": "stdout",
     "output_type": "stream",
     "text": [
      "Val-Acc=0.8061647895672792\n",
      "Train-Acc=0.8177865612648222\n"
     ]
    },
    {
     "data": {
      "application/vnd.jupyter.widget-view+json": {
       "model_id": "",
       "version_major": 2,
       "version_minor": 0
      },
      "text/plain": [
       "HBox(children=(FloatProgress(value=1.0, bar_style='info', description='Validating', layout=Layout(flex='2'), m…"
      ]
     },
     "metadata": {},
     "output_type": "display_data"
    },
    {
     "name": "stdout",
     "output_type": "stream",
     "text": [
      "Val-Acc=0.6141078838174274\n",
      "Train-Acc=0.8209486166007905\n"
     ]
    },
    {
     "data": {
      "application/vnd.jupyter.widget-view+json": {
       "model_id": "",
       "version_major": 2,
       "version_minor": 0
      },
      "text/plain": [
       "HBox(children=(FloatProgress(value=1.0, bar_style='info', description='Validating', layout=Layout(flex='2'), m…"
      ]
     },
     "metadata": {},
     "output_type": "display_data"
    },
    {
     "name": "stdout",
     "output_type": "stream",
     "text": [
      "Val-Acc=0.6710136336692353\n",
      "Train-Acc=0.8219367588932807\n"
     ]
    },
    {
     "data": {
      "application/vnd.jupyter.widget-view+json": {
       "model_id": "",
       "version_major": 2,
       "version_minor": 0
      },
      "text/plain": [
       "HBox(children=(FloatProgress(value=1.0, bar_style='info', description='Validating', layout=Layout(flex='2'), m…"
      ]
     },
     "metadata": {},
     "output_type": "display_data"
    },
    {
     "name": "stdout",
     "output_type": "stream",
     "text": [
      "Val-Acc=0.6982809721398933\n",
      "Train-Acc=0.8280632411067194\n"
     ]
    },
    {
     "data": {
      "application/vnd.jupyter.widget-view+json": {
       "model_id": "",
       "version_major": 2,
       "version_minor": 0
      },
      "text/plain": [
       "HBox(children=(FloatProgress(value=1.0, bar_style='info', description='Validating', layout=Layout(flex='2'), m…"
      ]
     },
     "metadata": {},
     "output_type": "display_data"
    },
    {
     "name": "stdout",
     "output_type": "stream",
     "text": [
      "Val-Acc=0.8292827504445762\n",
      "Train-Acc=0.8318181818181818\n"
     ]
    },
    {
     "data": {
      "application/vnd.jupyter.widget-view+json": {
       "model_id": "",
       "version_major": 2,
       "version_minor": 0
      },
      "text/plain": [
       "HBox(children=(FloatProgress(value=1.0, bar_style='info', description='Validating', layout=Layout(flex='2'), m…"
      ]
     },
     "metadata": {},
     "output_type": "display_data"
    },
    {
     "name": "stdout",
     "output_type": "stream",
     "text": [
      "Val-Acc=0.7949021932424422\n",
      "Train-Acc=0.833596837944664\n"
     ]
    },
    {
     "data": {
      "application/vnd.jupyter.widget-view+json": {
       "model_id": "",
       "version_major": 2,
       "version_minor": 0
      },
      "text/plain": [
       "HBox(children=(FloatProgress(value=1.0, bar_style='info', description='Validating', layout=Layout(flex='2'), m…"
      ]
     },
     "metadata": {},
     "output_type": "display_data"
    },
    {
     "name": "stdout",
     "output_type": "stream",
     "text": [
      "Val-Acc=0.7854179016004742\n",
      "Train-Acc=0.8341897233201581\n"
     ]
    },
    {
     "data": {
      "application/vnd.jupyter.widget-view+json": {
       "model_id": "",
       "version_major": 2,
       "version_minor": 0
      },
      "text/plain": [
       "HBox(children=(FloatProgress(value=1.0, bar_style='info', description='Validating', layout=Layout(flex='2'), m…"
      ]
     },
     "metadata": {},
     "output_type": "display_data"
    },
    {
     "name": "stdout",
     "output_type": "stream",
     "text": [
      "Val-Acc=0.8097213989330172\n",
      "Train-Acc=0.8341897233201581\n"
     ]
    },
    {
     "data": {
      "application/vnd.jupyter.widget-view+json": {
       "model_id": "",
       "version_major": 2,
       "version_minor": 0
      },
      "text/plain": [
       "HBox(children=(FloatProgress(value=1.0, bar_style='info', description='Validating', layout=Layout(flex='2'), m…"
      ]
     },
     "metadata": {},
     "output_type": "display_data"
    },
    {
     "name": "stdout",
     "output_type": "stream",
     "text": [
      "Val-Acc=0.7622999407231772\n",
      "Train-Acc=0.833794466403162\n"
     ]
    },
    {
     "data": {
      "application/vnd.jupyter.widget-view+json": {
       "model_id": "",
       "version_major": 2,
       "version_minor": 0
      },
      "text/plain": [
       "HBox(children=(FloatProgress(value=1.0, bar_style='info', description='Validating', layout=Layout(flex='2'), m…"
      ]
     },
     "metadata": {},
     "output_type": "display_data"
    },
    {
     "name": "stdout",
     "output_type": "stream",
     "text": [
      "Val-Acc=0.7326615293420272\n",
      "Train-Acc=0.8397233201581028\n"
     ]
    },
    {
     "data": {
      "application/vnd.jupyter.widget-view+json": {
       "model_id": "",
       "version_major": 2,
       "version_minor": 0
      },
      "text/plain": [
       "HBox(children=(FloatProgress(value=1.0, bar_style='info', description='Validating', layout=Layout(flex='2'), m…"
      ]
     },
     "metadata": {},
     "output_type": "display_data"
    },
    {
     "name": "stdout",
     "output_type": "stream",
     "text": [
      "Val-Acc=0.7676348547717843\n",
      "Train-Acc=0.8424901185770751\n"
     ]
    },
    {
     "data": {
      "application/vnd.jupyter.widget-view+json": {
       "model_id": "",
       "version_major": 2,
       "version_minor": 0
      },
      "text/plain": [
       "HBox(children=(FloatProgress(value=1.0, bar_style='info', description='Validating', layout=Layout(flex='2'), m…"
      ]
     },
     "metadata": {},
     "output_type": "display_data"
    },
    {
     "name": "stdout",
     "output_type": "stream",
     "text": [
      "Val-Acc=0.7664493183165383\n",
      "Train-Acc=0.8466403162055336\n"
     ]
    },
    {
     "data": {
      "application/vnd.jupyter.widget-view+json": {
       "model_id": "",
       "version_major": 2,
       "version_minor": 0
      },
      "text/plain": [
       "HBox(children=(FloatProgress(value=1.0, bar_style='info', description='Validating', layout=Layout(flex='2'), m…"
      ]
     },
     "metadata": {},
     "output_type": "display_data"
    },
    {
     "name": "stdout",
     "output_type": "stream",
     "text": [
      "Val-Acc=0.7842323651452282\n",
      "Train-Acc=0.8452569169960474\n",
      "\n",
      "Saved model to \"saved_modelsq/7.p\"\n"
     ]
    },
    {
     "name": "stderr",
     "output_type": "stream",
     "text": [
      "[I 2020-07-20 18:41:04,121] Finished trial#7 with value: 0.7842323651452282 with parameters: {'learning_rate': 0.0028867745500220855, 'p_drop': 0.5262357624849395, 'lr_decay': 0.7795891786891888, 'n_hidden': 536, 'weight_decay': 0.014039744776747957}. Best is trial#7 with value: 0.7842323651452282.\n",
      "GPU available: True, used: True\n",
      "No environment variable for node rank defined. Set as 0.\n",
      "CUDA_VISIBLE_DEVICES: [0]\n",
      "Set SLURM handle signals.\n",
      "\n",
      "   | Name           | Type          | Params\n",
      "---------------------------------------------\n",
      "0  | model          | AblationModel | 151 K \n",
      "1  | model.convs    | Sequential    | 114 K \n",
      "2  | model.convs.0  | BatchNorm2d   | 2     \n",
      "3  | model.convs.1  | Conv2d        | 1 K   \n",
      "4  | model.convs.2  | BatchNorm2d   | 20    \n",
      "5  | model.convs.3  | PReLU         | 1     \n",
      "6  | model.convs.4  | MaxPool2d     | 0     \n",
      "7  | model.convs.5  | Dropout       | 0     \n",
      "8  | model.convs.6  | Conv2d        | 20 K  \n",
      "9  | model.convs.7  | BatchNorm2d   | 40    \n",
      "10 | model.convs.8  | PReLU         | 1     \n",
      "11 | model.convs.9  | MaxPool2d     | 0     \n",
      "12 | model.convs.10 | Dropout       | 0     \n",
      "13 | model.convs.11 | Conv2d        | 80 K  \n",
      "14 | model.convs.12 | BatchNorm2d   | 80    \n",
      "15 | model.convs.13 | PReLU         | 1     \n",
      "16 | model.convs.14 | MaxPool2d     | 0     \n",
      "17 | model.convs.15 | Dropout       | 0     \n",
      "18 | model.convs.16 | Conv2d        | 12 K  \n",
      "19 | model.convs.17 | BatchNorm2d   | 160   \n",
      "20 | model.convs.18 | PReLU         | 1     \n",
      "21 | model.convs.19 | MaxPool2d     | 0     \n",
      "22 | model.convs.20 | Dropout       | 0     \n",
      "23 | model.dense    | Sequential    | 37 K  \n",
      "24 | model.dense.0  | Linear        | 36 K  \n",
      "25 | model.dense.1  | PReLU         | 1     \n",
      "26 | model.dense.2  | Dropout       | 0     \n",
      "27 | model.dense.3  | Linear        | 896   \n"
     ]
    },
    {
     "data": {
      "application/vnd.jupyter.widget-view+json": {
       "model_id": "",
       "version_major": 2,
       "version_minor": 0
      },
      "text/plain": [
       "HBox(children=(FloatProgress(value=1.0, bar_style='info', description='Validation sanity check', layout=Layout…"
      ]
     },
     "metadata": {},
     "output_type": "display_data"
    },
    {
     "name": "stdout",
     "output_type": "stream",
     "text": [
      "Val-Acc=0.01956135151155898\n"
     ]
    },
    {
     "data": {
      "application/vnd.jupyter.widget-view+json": {
       "model_id": "47775e6d68234e71a126e0799a0ed5d1",
       "version_major": 2,
       "version_minor": 0
      },
      "text/plain": [
       "HBox(children=(FloatProgress(value=1.0, bar_style='info', description='Training', layout=Layout(flex='2'), max…"
      ]
     },
     "metadata": {},
     "output_type": "display_data"
    },
    {
     "data": {
      "application/vnd.jupyter.widget-view+json": {
       "model_id": "",
       "version_major": 2,
       "version_minor": 0
      },
      "text/plain": [
       "HBox(children=(FloatProgress(value=1.0, bar_style='info', description='Validating', layout=Layout(flex='2'), m…"
      ]
     },
     "metadata": {},
     "output_type": "display_data"
    },
    {
     "name": "stdout",
     "output_type": "stream",
     "text": [
      "Val-Acc=0.7178423236514523\n",
      "Train-Acc=0.707905138339921\n"
     ]
    },
    {
     "data": {
      "application/vnd.jupyter.widget-view+json": {
       "model_id": "",
       "version_major": 2,
       "version_minor": 0
      },
      "text/plain": [
       "HBox(children=(FloatProgress(value=1.0, bar_style='info', description='Validating', layout=Layout(flex='2'), m…"
      ]
     },
     "metadata": {},
     "output_type": "display_data"
    },
    {
     "name": "stdout",
     "output_type": "stream",
     "text": [
      "Val-Acc=0.6941315945465323\n",
      "Train-Acc=0.7387351778656126\n"
     ]
    },
    {
     "data": {
      "application/vnd.jupyter.widget-view+json": {
       "model_id": "",
       "version_major": 2,
       "version_minor": 0
      },
      "text/plain": [
       "HBox(children=(FloatProgress(value=1.0, bar_style='info', description='Validating', layout=Layout(flex='2'), m…"
      ]
     },
     "metadata": {},
     "output_type": "display_data"
    },
    {
     "name": "stdout",
     "output_type": "stream",
     "text": [
      "Val-Acc=0.6425607587433314\n",
      "Train-Acc=0.7420948616600791\n"
     ]
    },
    {
     "data": {
      "application/vnd.jupyter.widget-view+json": {
       "model_id": "",
       "version_major": 2,
       "version_minor": 0
      },
      "text/plain": [
       "HBox(children=(FloatProgress(value=1.0, bar_style='info', description='Validating', layout=Layout(flex='2'), m…"
      ]
     },
     "metadata": {},
     "output_type": "display_data"
    },
    {
     "name": "stdout",
     "output_type": "stream",
     "text": [
      "Val-Acc=0.7350326022525193\n",
      "Train-Acc=0.7743083003952569\n"
     ]
    },
    {
     "data": {
      "application/vnd.jupyter.widget-view+json": {
       "model_id": "",
       "version_major": 2,
       "version_minor": 0
      },
      "text/plain": [
       "HBox(children=(FloatProgress(value=1.0, bar_style='info', description='Validating', layout=Layout(flex='2'), m…"
      ]
     },
     "metadata": {},
     "output_type": "display_data"
    },
    {
     "name": "stdout",
     "output_type": "stream",
     "text": [
      "Val-Acc=0.7202133965619443\n",
      "Train-Acc=0.7780632411067193\n"
     ]
    },
    {
     "data": {
      "application/vnd.jupyter.widget-view+json": {
       "model_id": "",
       "version_major": 2,
       "version_minor": 0
      },
      "text/plain": [
       "HBox(children=(FloatProgress(value=1.0, bar_style='info', description='Validating', layout=Layout(flex='2'), m…"
      ]
     },
     "metadata": {},
     "output_type": "display_data"
    },
    {
     "name": "stdout",
     "output_type": "stream",
     "text": [
      "Val-Acc=0.5512744516893895\n",
      "Train-Acc=0.7727272727272727\n"
     ]
    },
    {
     "data": {
      "application/vnd.jupyter.widget-view+json": {
       "model_id": "",
       "version_major": 2,
       "version_minor": 0
      },
      "text/plain": [
       "HBox(children=(FloatProgress(value=1.0, bar_style='info', description='Validating', layout=Layout(flex='2'), m…"
      ]
     },
     "metadata": {},
     "output_type": "display_data"
    },
    {
     "name": "stdout",
     "output_type": "stream",
     "text": [
      "Val-Acc=0.6117368109069354\n",
      "Train-Acc=0.7877470355731225\n"
     ]
    },
    {
     "data": {
      "application/vnd.jupyter.widget-view+json": {
       "model_id": "",
       "version_major": 2,
       "version_minor": 0
      },
      "text/plain": [
       "HBox(children=(FloatProgress(value=1.0, bar_style='info', description='Validating', layout=Layout(flex='2'), m…"
      ]
     },
     "metadata": {},
     "output_type": "display_data"
    },
    {
     "name": "stdout",
     "output_type": "stream",
     "text": [
      "Val-Acc=0.6218138707765264\n"
     ]
    },
    {
     "name": "stderr",
     "output_type": "stream",
     "text": [
      "[I 2020-07-20 18:42:12,619] Setting status of trial#8 as TrialState.PRUNED. Trial was pruned at epoch 7.\n",
      "GPU available: True, used: True\n",
      "No environment variable for node rank defined. Set as 0.\n",
      "CUDA_VISIBLE_DEVICES: [0]\n",
      "Set SLURM handle signals.\n",
      "\n",
      "   | Name           | Type          | Params\n",
      "---------------------------------------------\n",
      "0  | model          | AblationModel | 137 K \n",
      "1  | model.convs    | Sequential    | 114 K \n",
      "2  | model.convs.0  | BatchNorm2d   | 2     \n",
      "3  | model.convs.1  | Conv2d        | 1 K   \n",
      "4  | model.convs.2  | BatchNorm2d   | 20    \n",
      "5  | model.convs.3  | PReLU         | 1     \n",
      "6  | model.convs.4  | MaxPool2d     | 0     \n",
      "7  | model.convs.5  | Dropout       | 0     \n",
      "8  | model.convs.6  | Conv2d        | 20 K  \n",
      "9  | model.convs.7  | BatchNorm2d   | 40    \n",
      "10 | model.convs.8  | PReLU         | 1     \n",
      "11 | model.convs.9  | MaxPool2d     | 0     \n",
      "12 | model.convs.10 | Dropout       | 0     \n",
      "13 | model.convs.11 | Conv2d        | 80 K  \n",
      "14 | model.convs.12 | BatchNorm2d   | 80    \n",
      "15 | model.convs.13 | PReLU         | 1     \n",
      "16 | model.convs.14 | MaxPool2d     | 0     \n",
      "17 | model.convs.15 | Dropout       | 0     \n",
      "18 | model.convs.16 | Conv2d        | 12 K  \n",
      "19 | model.convs.17 | BatchNorm2d   | 160   \n",
      "20 | model.convs.18 | PReLU         | 1     \n",
      "21 | model.convs.19 | MaxPool2d     | 0     \n",
      "22 | model.convs.20 | Dropout       | 0     \n",
      "23 | model.dense    | Sequential    | 23 K  \n",
      "24 | model.dense.0  | Linear        | 23 K  \n",
      "25 | model.dense.1  | PReLU         | 1     \n",
      "26 | model.dense.2  | Dropout       | 0     \n",
      "27 | model.dense.3  | Linear        | 572   \n"
     ]
    },
    {
     "data": {
      "application/vnd.jupyter.widget-view+json": {
       "model_id": "",
       "version_major": 2,
       "version_minor": 0
      },
      "text/plain": [
       "HBox(children=(FloatProgress(value=1.0, bar_style='info', description='Validation sanity check', layout=Layout…"
      ]
     },
     "metadata": {},
     "output_type": "display_data"
    },
    {
     "name": "stdout",
     "output_type": "stream",
     "text": [
      "Val-Acc=0.01956135151155898\n"
     ]
    },
    {
     "data": {
      "application/vnd.jupyter.widget-view+json": {
       "model_id": "407d18ed434a40068fa046daab6013f7",
       "version_major": 2,
       "version_minor": 0
      },
      "text/plain": [
       "HBox(children=(FloatProgress(value=1.0, bar_style='info', description='Training', layout=Layout(flex='2'), max…"
      ]
     },
     "metadata": {},
     "output_type": "display_data"
    },
    {
     "data": {
      "application/vnd.jupyter.widget-view+json": {
       "model_id": "",
       "version_major": 2,
       "version_minor": 0
      },
      "text/plain": [
       "HBox(children=(FloatProgress(value=1.0, bar_style='info', description='Validating', layout=Layout(flex='2'), m…"
      ]
     },
     "metadata": {},
     "output_type": "display_data"
    },
    {
     "name": "stdout",
     "output_type": "stream",
     "text": [
      "Val-Acc=0.6354475400118553\n",
      "Train-Acc=0.6863636363636364\n"
     ]
    },
    {
     "data": {
      "application/vnd.jupyter.widget-view+json": {
       "model_id": "",
       "version_major": 2,
       "version_minor": 0
      },
      "text/plain": [
       "HBox(children=(FloatProgress(value=1.0, bar_style='info', description='Validating', layout=Layout(flex='2'), m…"
      ]
     },
     "metadata": {},
     "output_type": "display_data"
    },
    {
     "name": "stdout",
     "output_type": "stream",
     "text": [
      "Val-Acc=0.7036158861885004\n",
      "Train-Acc=0.7353754940711462\n"
     ]
    },
    {
     "data": {
      "application/vnd.jupyter.widget-view+json": {
       "model_id": "",
       "version_major": 2,
       "version_minor": 0
      },
      "text/plain": [
       "HBox(children=(FloatProgress(value=1.0, bar_style='info', description='Validating', layout=Layout(flex='2'), m…"
      ]
     },
     "metadata": {},
     "output_type": "display_data"
    },
    {
     "name": "stdout",
     "output_type": "stream",
     "text": [
      "Val-Acc=0.7296976882039122\n",
      "Train-Acc=0.7571146245059288\n"
     ]
    },
    {
     "data": {
      "application/vnd.jupyter.widget-view+json": {
       "model_id": "",
       "version_major": 2,
       "version_minor": 0
      },
      "text/plain": [
       "HBox(children=(FloatProgress(value=1.0, bar_style='info', description='Validating', layout=Layout(flex='2'), m…"
      ]
     },
     "metadata": {},
     "output_type": "display_data"
    },
    {
     "name": "stdout",
     "output_type": "stream",
     "text": [
      "Val-Acc=0.7457024303497333\n",
      "Train-Acc=0.7699604743083004\n"
     ]
    },
    {
     "data": {
      "application/vnd.jupyter.widget-view+json": {
       "model_id": "",
       "version_major": 2,
       "version_minor": 0
      },
      "text/plain": [
       "HBox(children=(FloatProgress(value=1.0, bar_style='info', description='Validating', layout=Layout(flex='2'), m…"
      ]
     },
     "metadata": {},
     "output_type": "display_data"
    },
    {
     "name": "stdout",
     "output_type": "stream",
     "text": [
      "Val-Acc=0.7640782454060462\n",
      "Train-Acc=0.7847826086956522\n"
     ]
    },
    {
     "data": {
      "application/vnd.jupyter.widget-view+json": {
       "model_id": "",
       "version_major": 2,
       "version_minor": 0
      },
      "text/plain": [
       "HBox(children=(FloatProgress(value=1.0, bar_style='info', description='Validating', layout=Layout(flex='2'), m…"
      ]
     },
     "metadata": {},
     "output_type": "display_data"
    },
    {
     "name": "stdout",
     "output_type": "stream",
     "text": [
      "Val-Acc=0.7540011855364552\n",
      "Train-Acc=0.7851778656126482\n"
     ]
    },
    {
     "data": {
      "application/vnd.jupyter.widget-view+json": {
       "model_id": "",
       "version_major": 2,
       "version_minor": 0
      },
      "text/plain": [
       "HBox(children=(FloatProgress(value=1.0, bar_style='info', description='Validating', layout=Layout(flex='2'), m…"
      ]
     },
     "metadata": {},
     "output_type": "display_data"
    },
    {
     "name": "stdout",
     "output_type": "stream",
     "text": [
      "Val-Acc=0.7285121517486662\n",
      "Train-Acc=0.7903162055335968\n"
     ]
    },
    {
     "data": {
      "application/vnd.jupyter.widget-view+json": {
       "model_id": "",
       "version_major": 2,
       "version_minor": 0
      },
      "text/plain": [
       "HBox(children=(FloatProgress(value=1.0, bar_style='info', description='Validating', layout=Layout(flex='2'), m…"
      ]
     },
     "metadata": {},
     "output_type": "display_data"
    },
    {
     "name": "stdout",
     "output_type": "stream",
     "text": [
      "Val-Acc=0.7545939537640782\n"
     ]
    },
    {
     "name": "stderr",
     "output_type": "stream",
     "text": [
      "[I 2020-07-20 18:43:21,503] Setting status of trial#9 as TrialState.PRUNED. Trial was pruned at epoch 7.\n",
      "GPU available: True, used: True\n",
      "No environment variable for node rank defined. Set as 0.\n",
      "CUDA_VISIBLE_DEVICES: [0]\n",
      "Set SLURM handle signals.\n",
      "\n",
      "   | Name           | Type          | Params\n",
      "---------------------------------------------\n",
      "0  | model          | AblationModel | 189 K \n",
      "1  | model.convs    | Sequential    | 114 K \n",
      "2  | model.convs.0  | BatchNorm2d   | 2     \n",
      "3  | model.convs.1  | Conv2d        | 1 K   \n",
      "4  | model.convs.2  | BatchNorm2d   | 20    \n",
      "5  | model.convs.3  | PReLU         | 1     \n",
      "6  | model.convs.4  | MaxPool2d     | 0     \n",
      "7  | model.convs.5  | Dropout       | 0     \n",
      "8  | model.convs.6  | Conv2d        | 20 K  \n",
      "9  | model.convs.7  | BatchNorm2d   | 40    \n",
      "10 | model.convs.8  | PReLU         | 1     \n",
      "11 | model.convs.9  | MaxPool2d     | 0     \n",
      "12 | model.convs.10 | Dropout       | 0     \n",
      "13 | model.convs.11 | Conv2d        | 80 K  \n",
      "14 | model.convs.12 | BatchNorm2d   | 80    \n",
      "15 | model.convs.13 | PReLU         | 1     \n",
      "16 | model.convs.14 | MaxPool2d     | 0     \n",
      "17 | model.convs.15 | Dropout       | 0     \n",
      "18 | model.convs.16 | Conv2d        | 12 K  \n",
      "19 | model.convs.17 | BatchNorm2d   | 160   \n",
      "20 | model.convs.18 | PReLU         | 1     \n",
      "21 | model.convs.19 | MaxPool2d     | 0     \n",
      "22 | model.convs.20 | Dropout       | 0     \n",
      "23 | model.dense    | Sequential    | 75 K  \n",
      "24 | model.dense.0  | Linear        | 73 K  \n",
      "25 | model.dense.1  | PReLU         | 1     \n",
      "26 | model.dense.2  | Dropout       | 0     \n",
      "27 | model.dense.3  | Linear        | 1 K   \n"
     ]
    },
    {
     "data": {
      "application/vnd.jupyter.widget-view+json": {
       "model_id": "",
       "version_major": 2,
       "version_minor": 0
      },
      "text/plain": [
       "HBox(children=(FloatProgress(value=1.0, bar_style='info', description='Validation sanity check', layout=Layout…"
      ]
     },
     "metadata": {},
     "output_type": "display_data"
    },
    {
     "name": "stdout",
     "output_type": "stream",
     "text": [
      "Val-Acc=0.018375815056312982\n"
     ]
    },
    {
     "data": {
      "application/vnd.jupyter.widget-view+json": {
       "model_id": "483a8532bd8e4cbebaecee5f4a21147a",
       "version_major": 2,
       "version_minor": 0
      },
      "text/plain": [
       "HBox(children=(FloatProgress(value=1.0, bar_style='info', description='Training', layout=Layout(flex='2'), max…"
      ]
     },
     "metadata": {},
     "output_type": "display_data"
    },
    {
     "data": {
      "application/vnd.jupyter.widget-view+json": {
       "model_id": "",
       "version_major": 2,
       "version_minor": 0
      },
      "text/plain": [
       "HBox(children=(FloatProgress(value=1.0, bar_style='info', description='Validating', layout=Layout(flex='2'), m…"
      ]
     },
     "metadata": {},
     "output_type": "display_data"
    },
    {
     "name": "stdout",
     "output_type": "stream",
     "text": [
      "Val-Acc=0.5103734439834025\n",
      "Train-Acc=0.4808300395256917\n"
     ]
    },
    {
     "data": {
      "application/vnd.jupyter.widget-view+json": {
       "model_id": "",
       "version_major": 2,
       "version_minor": 0
      },
      "text/plain": [
       "HBox(children=(FloatProgress(value=1.0, bar_style='info', description='Validating', layout=Layout(flex='2'), m…"
      ]
     },
     "metadata": {},
     "output_type": "display_data"
    },
    {
     "name": "stdout",
     "output_type": "stream",
     "text": [
      "Val-Acc=0.4890337877889745\n"
     ]
    },
    {
     "name": "stderr",
     "output_type": "stream",
     "text": [
      "[I 2020-07-20 18:43:39,067] Setting status of trial#10 as TrialState.PRUNED. Trial was pruned at epoch 1.\n",
      "GPU available: True, used: True\n",
      "No environment variable for node rank defined. Set as 0.\n",
      "CUDA_VISIBLE_DEVICES: [0]\n",
      "Set SLURM handle signals.\n",
      "\n",
      "   | Name           | Type          | Params\n",
      "---------------------------------------------\n",
      "0  | model          | AblationModel | 187 K \n",
      "1  | model.convs    | Sequential    | 114 K \n",
      "2  | model.convs.0  | BatchNorm2d   | 2     \n",
      "3  | model.convs.1  | Conv2d        | 1 K   \n",
      "4  | model.convs.2  | BatchNorm2d   | 20    \n",
      "5  | model.convs.3  | PReLU         | 1     \n",
      "6  | model.convs.4  | MaxPool2d     | 0     \n",
      "7  | model.convs.5  | Dropout       | 0     \n",
      "8  | model.convs.6  | Conv2d        | 20 K  \n",
      "9  | model.convs.7  | BatchNorm2d   | 40    \n",
      "10 | model.convs.8  | PReLU         | 1     \n",
      "11 | model.convs.9  | MaxPool2d     | 0     \n",
      "12 | model.convs.10 | Dropout       | 0     \n",
      "13 | model.convs.11 | Conv2d        | 80 K  \n",
      "14 | model.convs.12 | BatchNorm2d   | 80    \n",
      "15 | model.convs.13 | PReLU         | 1     \n",
      "16 | model.convs.14 | MaxPool2d     | 0     \n",
      "17 | model.convs.15 | Dropout       | 0     \n",
      "18 | model.convs.16 | Conv2d        | 12 K  \n",
      "19 | model.convs.17 | BatchNorm2d   | 160   \n",
      "20 | model.convs.18 | PReLU         | 1     \n",
      "21 | model.convs.19 | MaxPool2d     | 0     \n",
      "22 | model.convs.20 | Dropout       | 0     \n",
      "23 | model.dense    | Sequential    | 73 K  \n",
      "24 | model.dense.0  | Linear        | 71 K  \n",
      "25 | model.dense.1  | PReLU         | 1     \n",
      "26 | model.dense.2  | Dropout       | 0     \n",
      "27 | model.dense.3  | Linear        | 1 K   \n"
     ]
    },
    {
     "data": {
      "application/vnd.jupyter.widget-view+json": {
       "model_id": "",
       "version_major": 2,
       "version_minor": 0
      },
      "text/plain": [
       "HBox(children=(FloatProgress(value=1.0, bar_style='info', description='Validation sanity check', layout=Layout…"
      ]
     },
     "metadata": {},
     "output_type": "display_data"
    },
    {
     "name": "stdout",
     "output_type": "stream",
     "text": [
      "Val-Acc=0.02015411973918198\n"
     ]
    },
    {
     "data": {
      "application/vnd.jupyter.widget-view+json": {
       "model_id": "52e7dd4c6ea64fea87426ac7d5cb4683",
       "version_major": 2,
       "version_minor": 0
      },
      "text/plain": [
       "HBox(children=(FloatProgress(value=1.0, bar_style='info', description='Training', layout=Layout(flex='2'), max…"
      ]
     },
     "metadata": {},
     "output_type": "display_data"
    },
    {
     "data": {
      "application/vnd.jupyter.widget-view+json": {
       "model_id": "",
       "version_major": 2,
       "version_minor": 0
      },
      "text/plain": [
       "HBox(children=(FloatProgress(value=1.0, bar_style='info', description='Validating', layout=Layout(flex='2'), m…"
      ]
     },
     "metadata": {},
     "output_type": "display_data"
    },
    {
     "name": "stdout",
     "output_type": "stream",
     "text": [
      "Val-Acc=0.7670420865441613\n",
      "Train-Acc=0.7569169960474308\n"
     ]
    },
    {
     "data": {
      "application/vnd.jupyter.widget-view+json": {
       "model_id": "",
       "version_major": 2,
       "version_minor": 0
      },
      "text/plain": [
       "HBox(children=(FloatProgress(value=1.0, bar_style='info', description='Validating', layout=Layout(flex='2'), m…"
      ]
     },
     "metadata": {},
     "output_type": "display_data"
    },
    {
     "name": "stdout",
     "output_type": "stream",
     "text": [
      "Val-Acc=0.7599288678126852\n",
      "Train-Acc=0.7982213438735178\n"
     ]
    },
    {
     "data": {
      "application/vnd.jupyter.widget-view+json": {
       "model_id": "",
       "version_major": 2,
       "version_minor": 0
      },
      "text/plain": [
       "HBox(children=(FloatProgress(value=1.0, bar_style='info', description='Validating', layout=Layout(flex='2'), m…"
      ]
     },
     "metadata": {},
     "output_type": "display_data"
    },
    {
     "name": "stdout",
     "output_type": "stream",
     "text": [
      "Val-Acc=0.7978660343805573\n",
      "Train-Acc=0.816798418972332\n"
     ]
    },
    {
     "data": {
      "application/vnd.jupyter.widget-view+json": {
       "model_id": "",
       "version_major": 2,
       "version_minor": 0
      },
      "text/plain": [
       "HBox(children=(FloatProgress(value=1.0, bar_style='info', description='Validating', layout=Layout(flex='2'), m…"
      ]
     },
     "metadata": {},
     "output_type": "display_data"
    },
    {
     "name": "stdout",
     "output_type": "stream",
     "text": [
      "Val-Acc=0.8097213989330172\n",
      "Train-Acc=0.8268774703557312\n"
     ]
    },
    {
     "data": {
      "application/vnd.jupyter.widget-view+json": {
       "model_id": "",
       "version_major": 2,
       "version_minor": 0
      },
      "text/plain": [
       "HBox(children=(FloatProgress(value=1.0, bar_style='info', description='Validating', layout=Layout(flex='2'), m…"
      ]
     },
     "metadata": {},
     "output_type": "display_data"
    },
    {
     "name": "stdout",
     "output_type": "stream",
     "text": [
      "Val-Acc=0.7208061647895673\n",
      "Train-Acc=0.8314229249011857\n"
     ]
    },
    {
     "data": {
      "application/vnd.jupyter.widget-view+json": {
       "model_id": "",
       "version_major": 2,
       "version_minor": 0
      },
      "text/plain": [
       "HBox(children=(FloatProgress(value=1.0, bar_style='info', description='Validating', layout=Layout(flex='2'), m…"
      ]
     },
     "metadata": {},
     "output_type": "display_data"
    },
    {
     "name": "stdout",
     "output_type": "stream",
     "text": [
      "Val-Acc=0.8156490812092472\n",
      "Train-Acc=0.8371541501976285\n"
     ]
    },
    {
     "data": {
      "application/vnd.jupyter.widget-view+json": {
       "model_id": "",
       "version_major": 2,
       "version_minor": 0
      },
      "text/plain": [
       "HBox(children=(FloatProgress(value=1.0, bar_style='info', description='Validating', layout=Layout(flex='2'), m…"
      ]
     },
     "metadata": {},
     "output_type": "display_data"
    },
    {
     "name": "stdout",
     "output_type": "stream",
     "text": [
      "Val-Acc=0.7557794902193242\n",
      "Train-Acc=0.8470355731225296\n"
     ]
    },
    {
     "data": {
      "application/vnd.jupyter.widget-view+json": {
       "model_id": "",
       "version_major": 2,
       "version_minor": 0
      },
      "text/plain": [
       "HBox(children=(FloatProgress(value=1.0, bar_style='info', description='Validating', layout=Layout(flex='2'), m…"
      ]
     },
     "metadata": {},
     "output_type": "display_data"
    },
    {
     "name": "stdout",
     "output_type": "stream",
     "text": [
      "Val-Acc=0.8097213989330172\n",
      "Train-Acc=0.850395256916996\n"
     ]
    },
    {
     "data": {
      "application/vnd.jupyter.widget-view+json": {
       "model_id": "",
       "version_major": 2,
       "version_minor": 0
      },
      "text/plain": [
       "HBox(children=(FloatProgress(value=1.0, bar_style='info', description='Validating', layout=Layout(flex='2'), m…"
      ]
     },
     "metadata": {},
     "output_type": "display_data"
    },
    {
     "name": "stdout",
     "output_type": "stream",
     "text": [
      "Val-Acc=0.7676348547717843\n",
      "Train-Acc=0.8468379446640316\n"
     ]
    },
    {
     "data": {
      "application/vnd.jupyter.widget-view+json": {
       "model_id": "",
       "version_major": 2,
       "version_minor": 0
      },
      "text/plain": [
       "HBox(children=(FloatProgress(value=1.0, bar_style='info', description='Validating', layout=Layout(flex='2'), m…"
      ]
     },
     "metadata": {},
     "output_type": "display_data"
    },
    {
     "name": "stdout",
     "output_type": "stream",
     "text": [
      "Val-Acc=0.7824540604623592\n",
      "Train-Acc=0.8658102766798419\n"
     ]
    },
    {
     "data": {
      "application/vnd.jupyter.widget-view+json": {
       "model_id": "",
       "version_major": 2,
       "version_minor": 0
      },
      "text/plain": [
       "HBox(children=(FloatProgress(value=1.0, bar_style='info', description='Validating', layout=Layout(flex='2'), m…"
      ]
     },
     "metadata": {},
     "output_type": "display_data"
    },
    {
     "name": "stdout",
     "output_type": "stream",
     "text": [
      "Val-Acc=0.7996443390634262\n",
      "Train-Acc=0.866798418972332\n"
     ]
    },
    {
     "data": {
      "application/vnd.jupyter.widget-view+json": {
       "model_id": "",
       "version_major": 2,
       "version_minor": 0
      },
      "text/plain": [
       "HBox(children=(FloatProgress(value=1.0, bar_style='info', description='Validating', layout=Layout(flex='2'), m…"
      ]
     },
     "metadata": {},
     "output_type": "display_data"
    },
    {
     "name": "stdout",
     "output_type": "stream",
     "text": [
      "Val-Acc=0.8369887374036752\n",
      "Train-Acc=0.8723320158102766\n",
      "new best val acc 0.8369887374036752\n",
      "Saved model to \"optuna_ablationNormal_0.8369887374036752.p\"\n",
      "Saved checkpoint at epoch 12 at \"optuna_ablationNormal_0.8369887374036752.p\"\n"
     ]
    },
    {
     "data": {
      "application/vnd.jupyter.widget-view+json": {
       "model_id": "",
       "version_major": 2,
       "version_minor": 0
      },
      "text/plain": [
       "HBox(children=(FloatProgress(value=1.0, bar_style='info', description='Validating', layout=Layout(flex='2'), m…"
      ]
     },
     "metadata": {},
     "output_type": "display_data"
    },
    {
     "name": "stdout",
     "output_type": "stream",
     "text": [
      "Val-Acc=0.7765263781861292\n",
      "Train-Acc=0.8743083003952569\n"
     ]
    },
    {
     "data": {
      "application/vnd.jupyter.widget-view+json": {
       "model_id": "",
       "version_major": 2,
       "version_minor": 0
      },
      "text/plain": [
       "HBox(children=(FloatProgress(value=1.0, bar_style='info', description='Validating', layout=Layout(flex='2'), m…"
      ]
     },
     "metadata": {},
     "output_type": "display_data"
    },
    {
     "name": "stdout",
     "output_type": "stream",
     "text": [
      "Val-Acc=0.8162418494368702\n",
      "Train-Acc=0.8733201581027668\n"
     ]
    },
    {
     "data": {
      "application/vnd.jupyter.widget-view+json": {
       "model_id": "",
       "version_major": 2,
       "version_minor": 0
      },
      "text/plain": [
       "HBox(children=(FloatProgress(value=1.0, bar_style='info', description='Validating', layout=Layout(flex='2'), m…"
      ]
     },
     "metadata": {},
     "output_type": "display_data"
    },
    {
     "name": "stdout",
     "output_type": "stream",
     "text": [
      "Val-Acc=0.8245406046235921\n",
      "Train-Acc=0.8747035573122529\n"
     ]
    },
    {
     "data": {
      "application/vnd.jupyter.widget-view+json": {
       "model_id": "",
       "version_major": 2,
       "version_minor": 0
      },
      "text/plain": [
       "HBox(children=(FloatProgress(value=1.0, bar_style='info', description='Validating', layout=Layout(flex='2'), m…"
      ]
     },
     "metadata": {},
     "output_type": "display_data"
    },
    {
     "name": "stdout",
     "output_type": "stream",
     "text": [
      "Val-Acc=0.8209839952578541\n",
      "Train-Acc=0.8774703557312253\n"
     ]
    },
    {
     "data": {
      "application/vnd.jupyter.widget-view+json": {
       "model_id": "",
       "version_major": 2,
       "version_minor": 0
      },
      "text/plain": [
       "HBox(children=(FloatProgress(value=1.0, bar_style='info', description='Validating', layout=Layout(flex='2'), m…"
      ]
     },
     "metadata": {},
     "output_type": "display_data"
    },
    {
     "name": "stdout",
     "output_type": "stream",
     "text": [
      "Val-Acc=0.8280972139893301\n",
      "Train-Acc=0.8776679841897234\n"
     ]
    },
    {
     "data": {
      "application/vnd.jupyter.widget-view+json": {
       "model_id": "",
       "version_major": 2,
       "version_minor": 0
      },
      "text/plain": [
       "HBox(children=(FloatProgress(value=1.0, bar_style='info', description='Validating', layout=Layout(flex='2'), m…"
      ]
     },
     "metadata": {},
     "output_type": "display_data"
    },
    {
     "name": "stdout",
     "output_type": "stream",
     "text": [
      "Val-Acc=0.8269116775340841\n",
      "Train-Acc=0.8812252964426878\n"
     ]
    },
    {
     "data": {
      "application/vnd.jupyter.widget-view+json": {
       "model_id": "",
       "version_major": 2,
       "version_minor": 0
      },
      "text/plain": [
       "HBox(children=(FloatProgress(value=1.0, bar_style='info', description='Validating', layout=Layout(flex='2'), m…"
      ]
     },
     "metadata": {},
     "output_type": "display_data"
    },
    {
     "name": "stdout",
     "output_type": "stream",
     "text": [
      "Val-Acc=0.8209839952578541\n",
      "Train-Acc=0.8752964426877471\n"
     ]
    },
    {
     "data": {
      "application/vnd.jupyter.widget-view+json": {
       "model_id": "",
       "version_major": 2,
       "version_minor": 0
      },
      "text/plain": [
       "HBox(children=(FloatProgress(value=1.0, bar_style='info', description='Validating', layout=Layout(flex='2'), m…"
      ]
     },
     "metadata": {},
     "output_type": "display_data"
    },
    {
     "name": "stdout",
     "output_type": "stream",
     "text": [
      "Val-Acc=0.8233550681683461\n",
      "Train-Acc=0.8853754940711462\n",
      "\n",
      "Saved model to \"saved_modelsq/11.p\"\n"
     ]
    },
    {
     "name": "stderr",
     "output_type": "stream",
     "text": [
      "[I 2020-07-20 18:46:30,629] Finished trial#11 with value: 0.8233550681683461 with parameters: {'learning_rate': 0.0017442898507839422, 'p_drop': 0.0031051041953285355, 'lr_decay': 0.7744208022509665, 'n_hidden': 887, 'weight_decay': 0.000910696454874977}. Best is trial#11 with value: 0.8233550681683461.\n",
      "GPU available: True, used: True\n",
      "No environment variable for node rank defined. Set as 0.\n",
      "CUDA_VISIBLE_DEVICES: [0]\n",
      "Set SLURM handle signals.\n",
      "\n",
      "   | Name           | Type          | Params\n",
      "---------------------------------------------\n",
      "0  | model          | AblationModel | 190 K \n",
      "1  | model.convs    | Sequential    | 114 K \n",
      "2  | model.convs.0  | BatchNorm2d   | 2     \n",
      "3  | model.convs.1  | Conv2d        | 1 K   \n",
      "4  | model.convs.2  | BatchNorm2d   | 20    \n",
      "5  | model.convs.3  | PReLU         | 1     \n",
      "6  | model.convs.4  | MaxPool2d     | 0     \n",
      "7  | model.convs.5  | Dropout       | 0     \n",
      "8  | model.convs.6  | Conv2d        | 20 K  \n",
      "9  | model.convs.7  | BatchNorm2d   | 40    \n",
      "10 | model.convs.8  | PReLU         | 1     \n",
      "11 | model.convs.9  | MaxPool2d     | 0     \n",
      "12 | model.convs.10 | Dropout       | 0     \n",
      "13 | model.convs.11 | Conv2d        | 80 K  \n",
      "14 | model.convs.12 | BatchNorm2d   | 80    \n",
      "15 | model.convs.13 | PReLU         | 1     \n",
      "16 | model.convs.14 | MaxPool2d     | 0     \n",
      "17 | model.convs.15 | Dropout       | 0     \n",
      "18 | model.convs.16 | Conv2d        | 12 K  \n",
      "19 | model.convs.17 | BatchNorm2d   | 160   \n",
      "20 | model.convs.18 | PReLU         | 1     \n",
      "21 | model.convs.19 | MaxPool2d     | 0     \n",
      "22 | model.convs.20 | Dropout       | 0     \n",
      "23 | model.dense    | Sequential    | 76 K  \n",
      "24 | model.dense.0  | Linear        | 74 K  \n",
      "25 | model.dense.1  | PReLU         | 1     \n",
      "26 | model.dense.2  | Dropout       | 0     \n",
      "27 | model.dense.3  | Linear        | 1 K   \n"
     ]
    },
    {
     "data": {
      "application/vnd.jupyter.widget-view+json": {
       "model_id": "",
       "version_major": 2,
       "version_minor": 0
      },
      "text/plain": [
       "HBox(children=(FloatProgress(value=1.0, bar_style='info', description='Validation sanity check', layout=Layout…"
      ]
     },
     "metadata": {},
     "output_type": "display_data"
    },
    {
     "name": "stdout",
     "output_type": "stream",
     "text": [
      "Val-Acc=0.01956135151155898\n"
     ]
    },
    {
     "data": {
      "application/vnd.jupyter.widget-view+json": {
       "model_id": "21045c6ab9e2476ebf3b0f281764011f",
       "version_major": 2,
       "version_minor": 0
      },
      "text/plain": [
       "HBox(children=(FloatProgress(value=1.0, bar_style='info', description='Training', layout=Layout(flex='2'), max…"
      ]
     },
     "metadata": {},
     "output_type": "display_data"
    },
    {
     "data": {
      "application/vnd.jupyter.widget-view+json": {
       "model_id": "",
       "version_major": 2,
       "version_minor": 0
      },
      "text/plain": [
       "HBox(children=(FloatProgress(value=1.0, bar_style='info', description='Validating', layout=Layout(flex='2'), m…"
      ]
     },
     "metadata": {},
     "output_type": "display_data"
    },
    {
     "name": "stdout",
     "output_type": "stream",
     "text": [
      "Val-Acc=0.6419679905157084\n",
      "Train-Acc=0.6944664031620553\n"
     ]
    },
    {
     "data": {
      "application/vnd.jupyter.widget-view+json": {
       "model_id": "",
       "version_major": 2,
       "version_minor": 0
      },
      "text/plain": [
       "HBox(children=(FloatProgress(value=1.0, bar_style='info', description='Validating', layout=Layout(flex='2'), m…"
      ]
     },
     "metadata": {},
     "output_type": "display_data"
    },
    {
     "name": "stdout",
     "output_type": "stream",
     "text": [
      "Val-Acc=0.7219917012448133\n",
      "Train-Acc=0.7359683794466403\n"
     ]
    },
    {
     "data": {
      "application/vnd.jupyter.widget-view+json": {
       "model_id": "",
       "version_major": 2,
       "version_minor": 0
      },
      "text/plain": [
       "HBox(children=(FloatProgress(value=1.0, bar_style='info', description='Validating', layout=Layout(flex='2'), m…"
      ]
     },
     "metadata": {},
     "output_type": "display_data"
    },
    {
     "name": "stdout",
     "output_type": "stream",
     "text": [
      "Val-Acc=0.7368109069353883\n",
      "Train-Acc=0.7527667984189723\n"
     ]
    },
    {
     "data": {
      "application/vnd.jupyter.widget-view+json": {
       "model_id": "",
       "version_major": 2,
       "version_minor": 0
      },
      "text/plain": [
       "HBox(children=(FloatProgress(value=1.0, bar_style='info', description='Validating', layout=Layout(flex='2'), m…"
      ]
     },
     "metadata": {},
     "output_type": "display_data"
    },
    {
     "name": "stdout",
     "output_type": "stream",
     "text": [
      "Val-Acc=0.7030231179608772\n",
      "Train-Acc=0.7705533596837945\n"
     ]
    },
    {
     "data": {
      "application/vnd.jupyter.widget-view+json": {
       "model_id": "",
       "version_major": 2,
       "version_minor": 0
      },
      "text/plain": [
       "HBox(children=(FloatProgress(value=1.0, bar_style='info', description='Validating', layout=Layout(flex='2'), m…"
      ]
     },
     "metadata": {},
     "output_type": "display_data"
    },
    {
     "name": "stdout",
     "output_type": "stream",
     "text": [
      "Val-Acc=0.6775340841730884\n",
      "Train-Acc=0.7812252964426878\n"
     ]
    },
    {
     "data": {
      "application/vnd.jupyter.widget-view+json": {
       "model_id": "",
       "version_major": 2,
       "version_minor": 0
      },
      "text/plain": [
       "HBox(children=(FloatProgress(value=1.0, bar_style='info', description='Validating', layout=Layout(flex='2'), m…"
      ]
     },
     "metadata": {},
     "output_type": "display_data"
    },
    {
     "name": "stdout",
     "output_type": "stream",
     "text": [
      "Val-Acc=0.7806757557794902\n",
      "Train-Acc=0.7885375494071146\n"
     ]
    },
    {
     "data": {
      "application/vnd.jupyter.widget-view+json": {
       "model_id": "",
       "version_major": 2,
       "version_minor": 0
      },
      "text/plain": [
       "HBox(children=(FloatProgress(value=1.0, bar_style='info', description='Validating', layout=Layout(flex='2'), m…"
      ]
     },
     "metadata": {},
     "output_type": "display_data"
    },
    {
     "name": "stdout",
     "output_type": "stream",
     "text": [
      "Val-Acc=0.6947243627741553\n",
      "Train-Acc=0.7907114624505929\n"
     ]
    },
    {
     "data": {
      "application/vnd.jupyter.widget-view+json": {
       "model_id": "",
       "version_major": 2,
       "version_minor": 0
      },
      "text/plain": [
       "HBox(children=(FloatProgress(value=1.0, bar_style='info', description='Validating', layout=Layout(flex='2'), m…"
      ]
     },
     "metadata": {},
     "output_type": "display_data"
    },
    {
     "name": "stdout",
     "output_type": "stream",
     "text": [
      "Val-Acc=0.7403675163011263\n"
     ]
    },
    {
     "name": "stderr",
     "output_type": "stream",
     "text": [
      "[I 2020-07-20 18:47:39,204] Setting status of trial#12 as TrialState.PRUNED. Trial was pruned at epoch 7.\n",
      "GPU available: True, used: True\n",
      "No environment variable for node rank defined. Set as 0.\n",
      "CUDA_VISIBLE_DEVICES: [0]\n",
      "Set SLURM handle signals.\n",
      "\n",
      "   | Name           | Type          | Params\n",
      "---------------------------------------------\n",
      "0  | model          | AblationModel | 173 K \n",
      "1  | model.convs    | Sequential    | 114 K \n",
      "2  | model.convs.0  | BatchNorm2d   | 2     \n",
      "3  | model.convs.1  | Conv2d        | 1 K   \n",
      "4  | model.convs.2  | BatchNorm2d   | 20    \n",
      "5  | model.convs.3  | PReLU         | 1     \n",
      "6  | model.convs.4  | MaxPool2d     | 0     \n",
      "7  | model.convs.5  | Dropout       | 0     \n",
      "8  | model.convs.6  | Conv2d        | 20 K  \n",
      "9  | model.convs.7  | BatchNorm2d   | 40    \n",
      "10 | model.convs.8  | PReLU         | 1     \n",
      "11 | model.convs.9  | MaxPool2d     | 0     \n",
      "12 | model.convs.10 | Dropout       | 0     \n",
      "13 | model.convs.11 | Conv2d        | 80 K  \n",
      "14 | model.convs.12 | BatchNorm2d   | 80    \n",
      "15 | model.convs.13 | PReLU         | 1     \n",
      "16 | model.convs.14 | MaxPool2d     | 0     \n",
      "17 | model.convs.15 | Dropout       | 0     \n",
      "18 | model.convs.16 | Conv2d        | 12 K  \n",
      "19 | model.convs.17 | BatchNorm2d   | 160   \n",
      "20 | model.convs.18 | PReLU         | 1     \n",
      "21 | model.convs.19 | MaxPool2d     | 0     \n",
      "22 | model.convs.20 | Dropout       | 0     \n",
      "23 | model.dense    | Sequential    | 59 K  \n",
      "24 | model.dense.0  | Linear        | 58 K  \n",
      "25 | model.dense.1  | PReLU         | 1     \n",
      "26 | model.dense.2  | Dropout       | 0     \n",
      "27 | model.dense.3  | Linear        | 1 K   \n"
     ]
    },
    {
     "data": {
      "application/vnd.jupyter.widget-view+json": {
       "model_id": "",
       "version_major": 2,
       "version_minor": 0
      },
      "text/plain": [
       "HBox(children=(FloatProgress(value=1.0, bar_style='info', description='Validation sanity check', layout=Layout…"
      ]
     },
     "metadata": {},
     "output_type": "display_data"
    },
    {
     "name": "stdout",
     "output_type": "stream",
     "text": [
      "Val-Acc=0.02074688796680498\n"
     ]
    },
    {
     "data": {
      "application/vnd.jupyter.widget-view+json": {
       "model_id": "6b1df6099cac4cedbcfba395905bc3cc",
       "version_major": 2,
       "version_minor": 0
      },
      "text/plain": [
       "HBox(children=(FloatProgress(value=1.0, bar_style='info', description='Training', layout=Layout(flex='2'), max…"
      ]
     },
     "metadata": {},
     "output_type": "display_data"
    },
    {
     "data": {
      "application/vnd.jupyter.widget-view+json": {
       "model_id": "",
       "version_major": 2,
       "version_minor": 0
      },
      "text/plain": [
       "HBox(children=(FloatProgress(value=1.0, bar_style='info', description='Validating', layout=Layout(flex='2'), m…"
      ]
     },
     "metadata": {},
     "output_type": "display_data"
    },
    {
     "name": "stdout",
     "output_type": "stream",
     "text": [
      "Val-Acc=0.4902193242442205\n",
      "Train-Acc=0.6247035573122529\n"
     ]
    },
    {
     "data": {
      "application/vnd.jupyter.widget-view+json": {
       "model_id": "",
       "version_major": 2,
       "version_minor": 0
      },
      "text/plain": [
       "HBox(children=(FloatProgress(value=1.0, bar_style='info', description='Validating', layout=Layout(flex='2'), m…"
      ]
     },
     "metadata": {},
     "output_type": "display_data"
    },
    {
     "name": "stdout",
     "output_type": "stream",
     "text": [
      "Val-Acc=0.7314759928867812\n",
      "Train-Acc=0.6741106719367589\n"
     ]
    },
    {
     "data": {
      "application/vnd.jupyter.widget-view+json": {
       "model_id": "",
       "version_major": 2,
       "version_minor": 0
      },
      "text/plain": [
       "HBox(children=(FloatProgress(value=1.0, bar_style='info', description='Validating', layout=Layout(flex='2'), m…"
      ]
     },
     "metadata": {},
     "output_type": "display_data"
    },
    {
     "name": "stdout",
     "output_type": "stream",
     "text": [
      "Val-Acc=0.7089508002371073\n",
      "Train-Acc=0.7225296442687748\n"
     ]
    },
    {
     "data": {
      "application/vnd.jupyter.widget-view+json": {
       "model_id": "",
       "version_major": 2,
       "version_minor": 0
      },
      "text/plain": [
       "HBox(children=(FloatProgress(value=1.0, bar_style='info', description='Validating', layout=Layout(flex='2'), m…"
      ]
     },
     "metadata": {},
     "output_type": "display_data"
    },
    {
     "name": "stdout",
     "output_type": "stream",
     "text": [
      "Val-Acc=0.7344398340248963\n",
      "Train-Acc=0.7225296442687748\n"
     ]
    },
    {
     "data": {
      "application/vnd.jupyter.widget-view+json": {
       "model_id": "",
       "version_major": 2,
       "version_minor": 0
      },
      "text/plain": [
       "HBox(children=(FloatProgress(value=1.0, bar_style='info', description='Validating', layout=Layout(flex='2'), m…"
      ]
     },
     "metadata": {},
     "output_type": "display_data"
    },
    {
     "name": "stdout",
     "output_type": "stream",
     "text": [
      "Val-Acc=0.6289270895080024\n",
      "Train-Acc=0.7440711462450593\n"
     ]
    },
    {
     "data": {
      "application/vnd.jupyter.widget-view+json": {
       "model_id": "",
       "version_major": 2,
       "version_minor": 0
      },
      "text/plain": [
       "HBox(children=(FloatProgress(value=1.0, bar_style='info', description='Validating', layout=Layout(flex='2'), m…"
      ]
     },
     "metadata": {},
     "output_type": "display_data"
    },
    {
     "name": "stdout",
     "output_type": "stream",
     "text": [
      "Val-Acc=0.5198577356253705\n",
      "Train-Acc=0.7454545454545455\n"
     ]
    },
    {
     "data": {
      "application/vnd.jupyter.widget-view+json": {
       "model_id": "",
       "version_major": 2,
       "version_minor": 0
      },
      "text/plain": [
       "HBox(children=(FloatProgress(value=1.0, bar_style='info', description='Validating', layout=Layout(flex='2'), m…"
      ]
     },
     "metadata": {},
     "output_type": "display_data"
    },
    {
     "name": "stdout",
     "output_type": "stream",
     "text": [
      "Val-Acc=0.5536455245998815\n",
      "Train-Acc=0.7351778656126482\n"
     ]
    },
    {
     "data": {
      "application/vnd.jupyter.widget-view+json": {
       "model_id": "",
       "version_major": 2,
       "version_minor": 0
      },
      "text/plain": [
       "HBox(children=(FloatProgress(value=1.0, bar_style='info', description='Validating', layout=Layout(flex='2'), m…"
      ]
     },
     "metadata": {},
     "output_type": "display_data"
    },
    {
     "name": "stdout",
     "output_type": "stream",
     "text": [
      "Val-Acc=0.5737996443390634\n"
     ]
    },
    {
     "name": "stderr",
     "output_type": "stream",
     "text": [
      "[I 2020-07-20 18:48:47,866] Setting status of trial#13 as TrialState.PRUNED. Trial was pruned at epoch 7.\n",
      "GPU available: True, used: True\n",
      "No environment variable for node rank defined. Set as 0.\n",
      "CUDA_VISIBLE_DEVICES: [0]\n",
      "Set SLURM handle signals.\n",
      "\n",
      "   | Name           | Type          | Params\n",
      "---------------------------------------------\n",
      "0  | model          | AblationModel | 166 K \n",
      "1  | model.convs    | Sequential    | 114 K \n",
      "2  | model.convs.0  | BatchNorm2d   | 2     \n",
      "3  | model.convs.1  | Conv2d        | 1 K   \n",
      "4  | model.convs.2  | BatchNorm2d   | 20    \n",
      "5  | model.convs.3  | PReLU         | 1     \n",
      "6  | model.convs.4  | MaxPool2d     | 0     \n",
      "7  | model.convs.5  | Dropout       | 0     \n",
      "8  | model.convs.6  | Conv2d        | 20 K  \n",
      "9  | model.convs.7  | BatchNorm2d   | 40    \n",
      "10 | model.convs.8  | PReLU         | 1     \n",
      "11 | model.convs.9  | MaxPool2d     | 0     \n",
      "12 | model.convs.10 | Dropout       | 0     \n",
      "13 | model.convs.11 | Conv2d        | 80 K  \n",
      "14 | model.convs.12 | BatchNorm2d   | 80    \n",
      "15 | model.convs.13 | PReLU         | 1     \n",
      "16 | model.convs.14 | MaxPool2d     | 0     \n",
      "17 | model.convs.15 | Dropout       | 0     \n",
      "18 | model.convs.16 | Conv2d        | 12 K  \n",
      "19 | model.convs.17 | BatchNorm2d   | 160   \n",
      "20 | model.convs.18 | PReLU         | 1     \n",
      "21 | model.convs.19 | MaxPool2d     | 0     \n",
      "22 | model.convs.20 | Dropout       | 0     \n",
      "23 | model.dense    | Sequential    | 51 K  \n",
      "24 | model.dense.0  | Linear        | 50 K  \n",
      "25 | model.dense.1  | PReLU         | 1     \n",
      "26 | model.dense.2  | Dropout       | 0     \n",
      "27 | model.dense.3  | Linear        | 1 K   \n"
     ]
    },
    {
     "data": {
      "application/vnd.jupyter.widget-view+json": {
       "model_id": "",
       "version_major": 2,
       "version_minor": 0
      },
      "text/plain": [
       "HBox(children=(FloatProgress(value=1.0, bar_style='info', description='Validation sanity check', layout=Layout…"
      ]
     },
     "metadata": {},
     "output_type": "display_data"
    },
    {
     "name": "stdout",
     "output_type": "stream",
     "text": [
      "Val-Acc=0.018375815056312982\n"
     ]
    },
    {
     "data": {
      "application/vnd.jupyter.widget-view+json": {
       "model_id": "95b8018651474353a68309edccb26977",
       "version_major": 2,
       "version_minor": 0
      },
      "text/plain": [
       "HBox(children=(FloatProgress(value=1.0, bar_style='info', description='Training', layout=Layout(flex='2'), max…"
      ]
     },
     "metadata": {},
     "output_type": "display_data"
    },
    {
     "data": {
      "application/vnd.jupyter.widget-view+json": {
       "model_id": "",
       "version_major": 2,
       "version_minor": 0
      },
      "text/plain": [
       "HBox(children=(FloatProgress(value=1.0, bar_style='info', description='Validating', layout=Layout(flex='2'), m…"
      ]
     },
     "metadata": {},
     "output_type": "display_data"
    },
    {
     "name": "stdout",
     "output_type": "stream",
     "text": [
      "Val-Acc=0.5228215767634855\n",
      "Train-Acc=0.6215415019762845\n"
     ]
    },
    {
     "data": {
      "application/vnd.jupyter.widget-view+json": {
       "model_id": "",
       "version_major": 2,
       "version_minor": 0
      },
      "text/plain": [
       "HBox(children=(FloatProgress(value=1.0, bar_style='info', description='Validating', layout=Layout(flex='2'), m…"
      ]
     },
     "metadata": {},
     "output_type": "display_data"
    },
    {
     "name": "stdout",
     "output_type": "stream",
     "text": [
      "Val-Acc=0.5370480142264374\n"
     ]
    },
    {
     "name": "stderr",
     "output_type": "stream",
     "text": [
      "[I 2020-07-20 18:49:05,455] Setting status of trial#14 as TrialState.PRUNED. Trial was pruned at epoch 1.\n",
      "GPU available: True, used: True\n",
      "No environment variable for node rank defined. Set as 0.\n",
      "CUDA_VISIBLE_DEVICES: [0]\n",
      "Set SLURM handle signals.\n",
      "\n",
      "   | Name           | Type          | Params\n",
      "---------------------------------------------\n",
      "0  | model          | AblationModel | 181 K \n",
      "1  | model.convs    | Sequential    | 114 K \n",
      "2  | model.convs.0  | BatchNorm2d   | 2     \n",
      "3  | model.convs.1  | Conv2d        | 1 K   \n",
      "4  | model.convs.2  | BatchNorm2d   | 20    \n",
      "5  | model.convs.3  | PReLU         | 1     \n",
      "6  | model.convs.4  | MaxPool2d     | 0     \n",
      "7  | model.convs.5  | Dropout       | 0     \n",
      "8  | model.convs.6  | Conv2d        | 20 K  \n",
      "9  | model.convs.7  | BatchNorm2d   | 40    \n",
      "10 | model.convs.8  | PReLU         | 1     \n",
      "11 | model.convs.9  | MaxPool2d     | 0     \n",
      "12 | model.convs.10 | Dropout       | 0     \n",
      "13 | model.convs.11 | Conv2d        | 80 K  \n",
      "14 | model.convs.12 | BatchNorm2d   | 80    \n",
      "15 | model.convs.13 | PReLU         | 1     \n",
      "16 | model.convs.14 | MaxPool2d     | 0     \n",
      "17 | model.convs.15 | Dropout       | 0     \n",
      "18 | model.convs.16 | Conv2d        | 12 K  \n",
      "19 | model.convs.17 | BatchNorm2d   | 160   \n",
      "20 | model.convs.18 | PReLU         | 1     \n",
      "21 | model.convs.19 | MaxPool2d     | 0     \n",
      "22 | model.convs.20 | Dropout       | 0     \n",
      "23 | model.dense    | Sequential    | 66 K  \n",
      "24 | model.dense.0  | Linear        | 65 K  \n",
      "25 | model.dense.1  | PReLU         | 1     \n",
      "26 | model.dense.2  | Dropout       | 0     \n",
      "27 | model.dense.3  | Linear        | 1 K   \n"
     ]
    },
    {
     "data": {
      "application/vnd.jupyter.widget-view+json": {
       "model_id": "",
       "version_major": 2,
       "version_minor": 0
      },
      "text/plain": [
       "HBox(children=(FloatProgress(value=1.0, bar_style='info', description='Validation sanity check', layout=Layout…"
      ]
     },
     "metadata": {},
     "output_type": "display_data"
    },
    {
     "name": "stdout",
     "output_type": "stream",
     "text": [
      "Val-Acc=0.018375815056312982\n"
     ]
    },
    {
     "data": {
      "application/vnd.jupyter.widget-view+json": {
       "model_id": "03acbe381d3a492fbd2ca4005a2b4532",
       "version_major": 2,
       "version_minor": 0
      },
      "text/plain": [
       "HBox(children=(FloatProgress(value=1.0, bar_style='info', description='Training', layout=Layout(flex='2'), max…"
      ]
     },
     "metadata": {},
     "output_type": "display_data"
    },
    {
     "data": {
      "application/vnd.jupyter.widget-view+json": {
       "model_id": "",
       "version_major": 2,
       "version_minor": 0
      },
      "text/plain": [
       "HBox(children=(FloatProgress(value=1.0, bar_style='info', description='Validating', layout=Layout(flex='2'), m…"
      ]
     },
     "metadata": {},
     "output_type": "display_data"
    },
    {
     "name": "stdout",
     "output_type": "stream",
     "text": [
      "Val-Acc=0.7842323651452282\n",
      "Train-Acc=0.7395256916996047\n"
     ]
    },
    {
     "data": {
      "application/vnd.jupyter.widget-view+json": {
       "model_id": "",
       "version_major": 2,
       "version_minor": 0
      },
      "text/plain": [
       "HBox(children=(FloatProgress(value=1.0, bar_style='info', description='Validating', layout=Layout(flex='2'), m…"
      ]
     },
     "metadata": {},
     "output_type": "display_data"
    },
    {
     "name": "stdout",
     "output_type": "stream",
     "text": [
      "Val-Acc=0.7871962062833432\n",
      "Train-Acc=0.7782608695652173\n"
     ]
    },
    {
     "data": {
      "application/vnd.jupyter.widget-view+json": {
       "model_id": "",
       "version_major": 2,
       "version_minor": 0
      },
      "text/plain": [
       "HBox(children=(FloatProgress(value=1.0, bar_style='info', description='Validating', layout=Layout(flex='2'), m…"
      ]
     },
     "metadata": {},
     "output_type": "display_data"
    },
    {
     "name": "stdout",
     "output_type": "stream",
     "text": [
      "Val-Acc=0.6247777119146414\n",
      "Train-Acc=0.8009881422924902\n"
     ]
    },
    {
     "data": {
      "application/vnd.jupyter.widget-view+json": {
       "model_id": "",
       "version_major": 2,
       "version_minor": 0
      },
      "text/plain": [
       "HBox(children=(FloatProgress(value=1.0, bar_style='info', description='Validating', layout=Layout(flex='2'), m…"
      ]
     },
     "metadata": {},
     "output_type": "display_data"
    },
    {
     "name": "stdout",
     "output_type": "stream",
     "text": [
      "Val-Acc=0.7581505631298162\n",
      "Train-Acc=0.808695652173913\n"
     ]
    },
    {
     "data": {
      "application/vnd.jupyter.widget-view+json": {
       "model_id": "",
       "version_major": 2,
       "version_minor": 0
      },
      "text/plain": [
       "HBox(children=(FloatProgress(value=1.0, bar_style='info', description='Validating', layout=Layout(flex='2'), m…"
      ]
     },
     "metadata": {},
     "output_type": "display_data"
    },
    {
     "name": "stdout",
     "output_type": "stream",
     "text": [
      "Val-Acc=0.7747480735032602\n",
      "Train-Acc=0.8122529644268774\n"
     ]
    },
    {
     "data": {
      "application/vnd.jupyter.widget-view+json": {
       "model_id": "",
       "version_major": 2,
       "version_minor": 0
      },
      "text/plain": [
       "HBox(children=(FloatProgress(value=1.0, bar_style='info', description='Validating', layout=Layout(flex='2'), m…"
      ]
     },
     "metadata": {},
     "output_type": "display_data"
    },
    {
     "name": "stdout",
     "output_type": "stream",
     "text": [
      "Val-Acc=0.4902193242442205\n",
      "Train-Acc=0.8219367588932807\n"
     ]
    },
    {
     "data": {
      "application/vnd.jupyter.widget-view+json": {
       "model_id": "",
       "version_major": 2,
       "version_minor": 0
      },
      "text/plain": [
       "HBox(children=(FloatProgress(value=1.0, bar_style='info', description='Validating', layout=Layout(flex='2'), m…"
      ]
     },
     "metadata": {},
     "output_type": "display_data"
    },
    {
     "name": "stdout",
     "output_type": "stream",
     "text": [
      "Val-Acc=0.4943687018375815\n",
      "Train-Acc=0.8314229249011857\n"
     ]
    },
    {
     "data": {
      "application/vnd.jupyter.widget-view+json": {
       "model_id": "",
       "version_major": 2,
       "version_minor": 0
      },
      "text/plain": [
       "HBox(children=(FloatProgress(value=1.0, bar_style='info', description='Validating', layout=Layout(flex='2'), m…"
      ]
     },
     "metadata": {},
     "output_type": "display_data"
    },
    {
     "name": "stdout",
     "output_type": "stream",
     "text": [
      "Val-Acc=0.7136929460580913\n",
      "Train-Acc=0.8304347826086956\n"
     ]
    },
    {
     "data": {
      "application/vnd.jupyter.widget-view+json": {
       "model_id": "",
       "version_major": 2,
       "version_minor": 0
      },
      "text/plain": [
       "HBox(children=(FloatProgress(value=1.0, bar_style='info', description='Validating', layout=Layout(flex='2'), m…"
      ]
     },
     "metadata": {},
     "output_type": "display_data"
    },
    {
     "name": "stdout",
     "output_type": "stream",
     "text": [
      "Val-Acc=0.5643153526970954\n",
      "Train-Acc=0.8347826086956521\n"
     ]
    },
    {
     "data": {
      "application/vnd.jupyter.widget-view+json": {
       "model_id": "",
       "version_major": 2,
       "version_minor": 0
      },
      "text/plain": [
       "HBox(children=(FloatProgress(value=1.0, bar_style='info', description='Validating', layout=Layout(flex='2'), m…"
      ]
     },
     "metadata": {},
     "output_type": "display_data"
    },
    {
     "name": "stdout",
     "output_type": "stream",
     "text": [
      "Val-Acc=0.6816834617664493\n",
      "Train-Acc=0.8391304347826087\n"
     ]
    },
    {
     "data": {
      "application/vnd.jupyter.widget-view+json": {
       "model_id": "",
       "version_major": 2,
       "version_minor": 0
      },
      "text/plain": [
       "HBox(children=(FloatProgress(value=1.0, bar_style='info', description='Validating', layout=Layout(flex='2'), m…"
      ]
     },
     "metadata": {},
     "output_type": "display_data"
    },
    {
     "name": "stdout",
     "output_type": "stream",
     "text": [
      "Val-Acc=0.7557794902193242\n",
      "Train-Acc=0.8399209486166008\n"
     ]
    },
    {
     "data": {
      "application/vnd.jupyter.widget-view+json": {
       "model_id": "",
       "version_major": 2,
       "version_minor": 0
      },
      "text/plain": [
       "HBox(children=(FloatProgress(value=1.0, bar_style='info', description='Validating', layout=Layout(flex='2'), m…"
      ]
     },
     "metadata": {},
     "output_type": "display_data"
    },
    {
     "name": "stdout",
     "output_type": "stream",
     "text": [
      "Val-Acc=0.5026674570243035\n",
      "Train-Acc=0.8371541501976285\n"
     ]
    },
    {
     "data": {
      "application/vnd.jupyter.widget-view+json": {
       "model_id": "",
       "version_major": 2,
       "version_minor": 0
      },
      "text/plain": [
       "HBox(children=(FloatProgress(value=1.0, bar_style='info', description='Validating', layout=Layout(flex='2'), m…"
      ]
     },
     "metadata": {},
     "output_type": "display_data"
    },
    {
     "name": "stdout",
     "output_type": "stream",
     "text": [
      "Val-Acc=0.7362181387077653\n",
      "Train-Acc=0.8468379446640316\n"
     ]
    },
    {
     "data": {
      "application/vnd.jupyter.widget-view+json": {
       "model_id": "",
       "version_major": 2,
       "version_minor": 0
      },
      "text/plain": [
       "HBox(children=(FloatProgress(value=1.0, bar_style='info', description='Validating', layout=Layout(flex='2'), m…"
      ]
     },
     "metadata": {},
     "output_type": "display_data"
    },
    {
     "name": "stdout",
     "output_type": "stream",
     "text": [
      "Val-Acc=0.6923532898636633\n",
      "Train-Acc=0.8482213438735178\n"
     ]
    },
    {
     "data": {
      "application/vnd.jupyter.widget-view+json": {
       "model_id": "",
       "version_major": 2,
       "version_minor": 0
      },
      "text/plain": [
       "HBox(children=(FloatProgress(value=1.0, bar_style='info', description='Validating', layout=Layout(flex='2'), m…"
      ]
     },
     "metadata": {},
     "output_type": "display_data"
    },
    {
     "name": "stdout",
     "output_type": "stream",
     "text": [
      "Val-Acc=0.6455245998814464\n",
      "Train-Acc=0.8543478260869565\n"
     ]
    },
    {
     "data": {
      "application/vnd.jupyter.widget-view+json": {
       "model_id": "",
       "version_major": 2,
       "version_minor": 0
      },
      "text/plain": [
       "HBox(children=(FloatProgress(value=1.0, bar_style='info', description='Validating', layout=Layout(flex='2'), m…"
      ]
     },
     "metadata": {},
     "output_type": "display_data"
    },
    {
     "name": "stdout",
     "output_type": "stream",
     "text": [
      "Val-Acc=0.7113218731475993\n",
      "Train-Acc=0.8561264822134388\n"
     ]
    },
    {
     "data": {
      "application/vnd.jupyter.widget-view+json": {
       "model_id": "",
       "version_major": 2,
       "version_minor": 0
      },
      "text/plain": [
       "HBox(children=(FloatProgress(value=1.0, bar_style='info', description='Validating', layout=Layout(flex='2'), m…"
      ]
     },
     "metadata": {},
     "output_type": "display_data"
    },
    {
     "name": "stdout",
     "output_type": "stream",
     "text": [
      "Val-Acc=0.7949021932424422\n",
      "Train-Acc=0.85\n"
     ]
    },
    {
     "data": {
      "application/vnd.jupyter.widget-view+json": {
       "model_id": "",
       "version_major": 2,
       "version_minor": 0
      },
      "text/plain": [
       "HBox(children=(FloatProgress(value=1.0, bar_style='info', description='Validating', layout=Layout(flex='2'), m…"
      ]
     },
     "metadata": {},
     "output_type": "display_data"
    },
    {
     "name": "stdout",
     "output_type": "stream",
     "text": [
      "Val-Acc=0.6561944279786603\n",
      "Train-Acc=0.8545454545454545\n"
     ]
    },
    {
     "data": {
      "application/vnd.jupyter.widget-view+json": {
       "model_id": "",
       "version_major": 2,
       "version_minor": 0
      },
      "text/plain": [
       "HBox(children=(FloatProgress(value=1.0, bar_style='info', description='Validating', layout=Layout(flex='2'), m…"
      ]
     },
     "metadata": {},
     "output_type": "display_data"
    },
    {
     "name": "stdout",
     "output_type": "stream",
     "text": [
      "Val-Acc=0.7836395969176052\n",
      "Train-Acc=0.8600790513833992\n"
     ]
    },
    {
     "data": {
      "application/vnd.jupyter.widget-view+json": {
       "model_id": "",
       "version_major": 2,
       "version_minor": 0
      },
      "text/plain": [
       "HBox(children=(FloatProgress(value=1.0, bar_style='info', description='Validating', layout=Layout(flex='2'), m…"
      ]
     },
     "metadata": {},
     "output_type": "display_data"
    },
    {
     "name": "stdout",
     "output_type": "stream",
     "text": [
      "Val-Acc=0.8547717842323651\n",
      "Train-Acc=0.8624505928853755\n",
      "new best val acc 0.8547717842323651\n",
      "Saved model to \"optuna_ablationNormal_0.8547717842323651.p\"\n",
      "Saved checkpoint at epoch 20 at \"optuna_ablationNormal_0.8547717842323651.p\"\n",
      "\n",
      "Saved model to \"saved_modelsq/15.p\"\n"
     ]
    },
    {
     "name": "stderr",
     "output_type": "stream",
     "text": [
      "[I 2020-07-20 18:51:56,606] Finished trial#15 with value: 0.8547717842323651 with parameters: {'learning_rate': 0.0024470656335387657, 'p_drop': 0.2203248539385273, 'lr_decay': 0.9166646985741235, 'n_hidden': 805, 'weight_decay': 0.0018798793701111658}. Best is trial#15 with value: 0.8547717842323651.\n",
      "GPU available: True, used: True\n",
      "No environment variable for node rank defined. Set as 0.\n",
      "CUDA_VISIBLE_DEVICES: [0]\n",
      "Set SLURM handle signals.\n",
      "\n",
      "   | Name           | Type          | Params\n",
      "---------------------------------------------\n",
      "0  | model          | AblationModel | 197 K \n",
      "1  | model.convs    | Sequential    | 114 K \n",
      "2  | model.convs.0  | BatchNorm2d   | 2     \n",
      "3  | model.convs.1  | Conv2d        | 1 K   \n",
      "4  | model.convs.2  | BatchNorm2d   | 20    \n",
      "5  | model.convs.3  | PReLU         | 1     \n",
      "6  | model.convs.4  | MaxPool2d     | 0     \n",
      "7  | model.convs.5  | Dropout       | 0     \n",
      "8  | model.convs.6  | Conv2d        | 20 K  \n",
      "9  | model.convs.7  | BatchNorm2d   | 40    \n",
      "10 | model.convs.8  | PReLU         | 1     \n",
      "11 | model.convs.9  | MaxPool2d     | 0     \n",
      "12 | model.convs.10 | Dropout       | 0     \n",
      "13 | model.convs.11 | Conv2d        | 80 K  \n",
      "14 | model.convs.12 | BatchNorm2d   | 80    \n",
      "15 | model.convs.13 | PReLU         | 1     \n",
      "16 | model.convs.14 | MaxPool2d     | 0     \n",
      "17 | model.convs.15 | Dropout       | 0     \n",
      "18 | model.convs.16 | Conv2d        | 12 K  \n",
      "19 | model.convs.17 | BatchNorm2d   | 160   \n",
      "20 | model.convs.18 | PReLU         | 1     \n",
      "21 | model.convs.19 | MaxPool2d     | 0     \n",
      "22 | model.convs.20 | Dropout       | 0     \n",
      "23 | model.dense    | Sequential    | 82 K  \n",
      "24 | model.dense.0  | Linear        | 80 K  \n",
      "25 | model.dense.1  | PReLU         | 1     \n",
      "26 | model.dense.2  | Dropout       | 0     \n",
      "27 | model.dense.3  | Linear        | 1 K   \n"
     ]
    },
    {
     "data": {
      "application/vnd.jupyter.widget-view+json": {
       "model_id": "",
       "version_major": 2,
       "version_minor": 0
      },
      "text/plain": [
       "HBox(children=(FloatProgress(value=1.0, bar_style='info', description='Validation sanity check', layout=Layout…"
      ]
     },
     "metadata": {},
     "output_type": "display_data"
    },
    {
     "name": "stdout",
     "output_type": "stream",
     "text": [
      "Val-Acc=0.022525192649673977\n"
     ]
    },
    {
     "data": {
      "application/vnd.jupyter.widget-view+json": {
       "model_id": "0ef58855b5db4bfebbfb10380bcc21f1",
       "version_major": 2,
       "version_minor": 0
      },
      "text/plain": [
       "HBox(children=(FloatProgress(value=1.0, bar_style='info', description='Training', layout=Layout(flex='2'), max…"
      ]
     },
     "metadata": {},
     "output_type": "display_data"
    },
    {
     "data": {
      "application/vnd.jupyter.widget-view+json": {
       "model_id": "",
       "version_major": 2,
       "version_minor": 0
      },
      "text/plain": [
       "HBox(children=(FloatProgress(value=1.0, bar_style='info', description='Validating', layout=Layout(flex='2'), m…"
      ]
     },
     "metadata": {},
     "output_type": "display_data"
    },
    {
     "name": "stdout",
     "output_type": "stream",
     "text": [
      "Val-Acc=0.7368109069353883\n",
      "Train-Acc=0.7288537549407115\n"
     ]
    },
    {
     "data": {
      "application/vnd.jupyter.widget-view+json": {
       "model_id": "",
       "version_major": 2,
       "version_minor": 0
      },
      "text/plain": [
       "HBox(children=(FloatProgress(value=1.0, bar_style='info', description='Validating', layout=Layout(flex='2'), m…"
      ]
     },
     "metadata": {},
     "output_type": "display_data"
    },
    {
     "name": "stdout",
     "output_type": "stream",
     "text": [
      "Val-Acc=0.6834617664493183\n",
      "Train-Acc=0.7889328063241107\n"
     ]
    },
    {
     "data": {
      "application/vnd.jupyter.widget-view+json": {
       "model_id": "",
       "version_major": 2,
       "version_minor": 0
      },
      "text/plain": [
       "HBox(children=(FloatProgress(value=1.0, bar_style='info', description='Validating', layout=Layout(flex='2'), m…"
      ]
     },
     "metadata": {},
     "output_type": "display_data"
    },
    {
     "name": "stdout",
     "output_type": "stream",
     "text": [
      "Val-Acc=0.7291049199762892\n",
      "Train-Acc=0.7901185770750988\n"
     ]
    },
    {
     "data": {
      "application/vnd.jupyter.widget-view+json": {
       "model_id": "",
       "version_major": 2,
       "version_minor": 0
      },
      "text/plain": [
       "HBox(children=(FloatProgress(value=1.0, bar_style='info', description='Validating', layout=Layout(flex='2'), m…"
      ]
     },
     "metadata": {},
     "output_type": "display_data"
    },
    {
     "name": "stdout",
     "output_type": "stream",
     "text": [
      "Val-Acc=0.7196206283343213\n",
      "Train-Acc=0.799604743083004\n"
     ]
    },
    {
     "data": {
      "application/vnd.jupyter.widget-view+json": {
       "model_id": "",
       "version_major": 2,
       "version_minor": 0
      },
      "text/plain": [
       "HBox(children=(FloatProgress(value=1.0, bar_style='info', description='Validating', layout=Layout(flex='2'), m…"
      ]
     },
     "metadata": {},
     "output_type": "display_data"
    },
    {
     "name": "stdout",
     "output_type": "stream",
     "text": [
      "Val-Acc=0.7652637818612922\n",
      "Train-Acc=0.8088932806324111\n"
     ]
    },
    {
     "data": {
      "application/vnd.jupyter.widget-view+json": {
       "model_id": "",
       "version_major": 2,
       "version_minor": 0
      },
      "text/plain": [
       "HBox(children=(FloatProgress(value=1.0, bar_style='info', description='Validating', layout=Layout(flex='2'), m…"
      ]
     },
     "metadata": {},
     "output_type": "display_data"
    },
    {
     "name": "stdout",
     "output_type": "stream",
     "text": [
      "Val-Acc=0.6781268524007114\n",
      "Train-Acc=0.8118577075098814\n"
     ]
    },
    {
     "data": {
      "application/vnd.jupyter.widget-view+json": {
       "model_id": "",
       "version_major": 2,
       "version_minor": 0
      },
      "text/plain": [
       "HBox(children=(FloatProgress(value=1.0, bar_style='info', description='Validating', layout=Layout(flex='2'), m…"
      ]
     },
     "metadata": {},
     "output_type": "display_data"
    },
    {
     "name": "stdout",
     "output_type": "stream",
     "text": [
      "Val-Acc=0.6929460580912863\n",
      "Train-Acc=0.8193675889328064\n"
     ]
    },
    {
     "data": {
      "application/vnd.jupyter.widget-view+json": {
       "model_id": "",
       "version_major": 2,
       "version_minor": 0
      },
      "text/plain": [
       "HBox(children=(FloatProgress(value=1.0, bar_style='info', description='Validating', layout=Layout(flex='2'), m…"
      ]
     },
     "metadata": {},
     "output_type": "display_data"
    },
    {
     "name": "stdout",
     "output_type": "stream",
     "text": [
      "Val-Acc=0.8156490812092472\n",
      "Train-Acc=0.8193675889328064\n"
     ]
    },
    {
     "data": {
      "application/vnd.jupyter.widget-view+json": {
       "model_id": "",
       "version_major": 2,
       "version_minor": 0
      },
      "text/plain": [
       "HBox(children=(FloatProgress(value=1.0, bar_style='info', description='Validating', layout=Layout(flex='2'), m…"
      ]
     },
     "metadata": {},
     "output_type": "display_data"
    },
    {
     "name": "stdout",
     "output_type": "stream",
     "text": [
      "Val-Acc=0.7617071724955542\n",
      "Train-Acc=0.824703557312253\n"
     ]
    },
    {
     "data": {
      "application/vnd.jupyter.widget-view+json": {
       "model_id": "",
       "version_major": 2,
       "version_minor": 0
      },
      "text/plain": [
       "HBox(children=(FloatProgress(value=1.0, bar_style='info', description='Validating', layout=Layout(flex='2'), m…"
      ]
     },
     "metadata": {},
     "output_type": "display_data"
    },
    {
     "name": "stdout",
     "output_type": "stream",
     "text": [
      "Val-Acc=0.6627148784825133\n",
      "Train-Acc=0.8310276679841897\n"
     ]
    },
    {
     "data": {
      "application/vnd.jupyter.widget-view+json": {
       "model_id": "",
       "version_major": 2,
       "version_minor": 0
      },
      "text/plain": [
       "HBox(children=(FloatProgress(value=1.0, bar_style='info', description='Validating', layout=Layout(flex='2'), m…"
      ]
     },
     "metadata": {},
     "output_type": "display_data"
    },
    {
     "name": "stdout",
     "output_type": "stream",
     "text": [
      "Val-Acc=0.7658565500889153\n",
      "Train-Acc=0.8217391304347826\n"
     ]
    },
    {
     "data": {
      "application/vnd.jupyter.widget-view+json": {
       "model_id": "",
       "version_major": 2,
       "version_minor": 0
      },
      "text/plain": [
       "HBox(children=(FloatProgress(value=1.0, bar_style='info', description='Validating', layout=Layout(flex='2'), m…"
      ]
     },
     "metadata": {},
     "output_type": "display_data"
    },
    {
     "name": "stdout",
     "output_type": "stream",
     "text": [
      "Val-Acc=0.7812685240071132\n",
      "Train-Acc=0.8328063241106719\n"
     ]
    },
    {
     "data": {
      "application/vnd.jupyter.widget-view+json": {
       "model_id": "",
       "version_major": 2,
       "version_minor": 0
      },
      "text/plain": [
       "HBox(children=(FloatProgress(value=1.0, bar_style='info', description='Validating', layout=Layout(flex='2'), m…"
      ]
     },
     "metadata": {},
     "output_type": "display_data"
    },
    {
     "name": "stdout",
     "output_type": "stream",
     "text": [
      "Val-Acc=0.7901600474214582\n",
      "Train-Acc=0.8403162055335969\n"
     ]
    },
    {
     "data": {
      "application/vnd.jupyter.widget-view+json": {
       "model_id": "",
       "version_major": 2,
       "version_minor": 0
      },
      "text/plain": [
       "HBox(children=(FloatProgress(value=1.0, bar_style='info', description='Validating', layout=Layout(flex='2'), m…"
      ]
     },
     "metadata": {},
     "output_type": "display_data"
    },
    {
     "name": "stdout",
     "output_type": "stream",
     "text": [
      "Val-Acc=0.8352104327208062\n",
      "Train-Acc=0.8375494071146246\n"
     ]
    },
    {
     "data": {
      "application/vnd.jupyter.widget-view+json": {
       "model_id": "",
       "version_major": 2,
       "version_minor": 0
      },
      "text/plain": [
       "HBox(children=(FloatProgress(value=1.0, bar_style='info', description='Validating', layout=Layout(flex='2'), m…"
      ]
     },
     "metadata": {},
     "output_type": "display_data"
    },
    {
     "name": "stdout",
     "output_type": "stream",
     "text": [
      "Val-Acc=0.6680497925311203\n",
      "Train-Acc=0.8353754940711462\n"
     ]
    },
    {
     "data": {
      "application/vnd.jupyter.widget-view+json": {
       "model_id": "",
       "version_major": 2,
       "version_minor": 0
      },
      "text/plain": [
       "HBox(children=(FloatProgress(value=1.0, bar_style='info', description='Validating', layout=Layout(flex='2'), m…"
      ]
     },
     "metadata": {},
     "output_type": "display_data"
    },
    {
     "name": "stdout",
     "output_type": "stream",
     "text": [
      "Val-Acc=0.8482513337285121\n",
      "Train-Acc=0.841304347826087\n"
     ]
    },
    {
     "data": {
      "application/vnd.jupyter.widget-view+json": {
       "model_id": "",
       "version_major": 2,
       "version_minor": 0
      },
      "text/plain": [
       "HBox(children=(FloatProgress(value=1.0, bar_style='info', description='Validating', layout=Layout(flex='2'), m…"
      ]
     },
     "metadata": {},
     "output_type": "display_data"
    },
    {
     "name": "stdout",
     "output_type": "stream",
     "text": [
      "Val-Acc=0.8120924718435092\n",
      "Train-Acc=0.841106719367589\n"
     ]
    },
    {
     "data": {
      "application/vnd.jupyter.widget-view+json": {
       "model_id": "",
       "version_major": 2,
       "version_minor": 0
      },
      "text/plain": [
       "HBox(children=(FloatProgress(value=1.0, bar_style='info', description='Validating', layout=Layout(flex='2'), m…"
      ]
     },
     "metadata": {},
     "output_type": "display_data"
    },
    {
     "name": "stdout",
     "output_type": "stream",
     "text": [
      "Val-Acc=0.8269116775340841\n",
      "Train-Acc=0.8466403162055336\n"
     ]
    },
    {
     "data": {
      "application/vnd.jupyter.widget-view+json": {
       "model_id": "",
       "version_major": 2,
       "version_minor": 0
      },
      "text/plain": [
       "HBox(children=(FloatProgress(value=1.0, bar_style='info', description='Validating', layout=Layout(flex='2'), m…"
      ]
     },
     "metadata": {},
     "output_type": "display_data"
    },
    {
     "name": "stdout",
     "output_type": "stream",
     "text": [
      "Val-Acc=0.7634854771784232\n",
      "Train-Acc=0.8515810276679842\n"
     ]
    },
    {
     "data": {
      "application/vnd.jupyter.widget-view+json": {
       "model_id": "",
       "version_major": 2,
       "version_minor": 0
      },
      "text/plain": [
       "HBox(children=(FloatProgress(value=1.0, bar_style='info', description='Validating', layout=Layout(flex='2'), m…"
      ]
     },
     "metadata": {},
     "output_type": "display_data"
    },
    {
     "name": "stdout",
     "output_type": "stream",
     "text": [
      "Val-Acc=0.7842323651452282\n",
      "Train-Acc=0.8561264822134388\n",
      "\n",
      "Saved model to \"saved_modelsq/16.p\"\n"
     ]
    },
    {
     "name": "stderr",
     "output_type": "stream",
     "text": [
      "[I 2020-07-20 18:54:48,042] Finished trial#16 with value: 0.7842323651452282 with parameters: {'learning_rate': 0.00016130481807376113, 'p_drop': 0.026043418918366337, 'lr_decay': 0.9580049688396135, 'n_hidden': 997, 'weight_decay': 0.09334045045049563}. Best is trial#15 with value: 0.8547717842323651.\n",
      "GPU available: True, used: True\n",
      "No environment variable for node rank defined. Set as 0.\n",
      "CUDA_VISIBLE_DEVICES: [0]\n",
      "Set SLURM handle signals.\n",
      "\n",
      "   | Name           | Type          | Params\n",
      "---------------------------------------------\n",
      "0  | model          | AblationModel | 182 K \n",
      "1  | model.convs    | Sequential    | 114 K \n",
      "2  | model.convs.0  | BatchNorm2d   | 2     \n",
      "3  | model.convs.1  | Conv2d        | 1 K   \n",
      "4  | model.convs.2  | BatchNorm2d   | 20    \n",
      "5  | model.convs.3  | PReLU         | 1     \n",
      "6  | model.convs.4  | MaxPool2d     | 0     \n",
      "7  | model.convs.5  | Dropout       | 0     \n",
      "8  | model.convs.6  | Conv2d        | 20 K  \n",
      "9  | model.convs.7  | BatchNorm2d   | 40    \n",
      "10 | model.convs.8  | PReLU         | 1     \n",
      "11 | model.convs.9  | MaxPool2d     | 0     \n",
      "12 | model.convs.10 | Dropout       | 0     \n",
      "13 | model.convs.11 | Conv2d        | 80 K  \n",
      "14 | model.convs.12 | BatchNorm2d   | 80    \n",
      "15 | model.convs.13 | PReLU         | 1     \n",
      "16 | model.convs.14 | MaxPool2d     | 0     \n",
      "17 | model.convs.15 | Dropout       | 0     \n",
      "18 | model.convs.16 | Conv2d        | 12 K  \n",
      "19 | model.convs.17 | BatchNorm2d   | 160   \n",
      "20 | model.convs.18 | PReLU         | 1     \n",
      "21 | model.convs.19 | MaxPool2d     | 0     \n",
      "22 | model.convs.20 | Dropout       | 0     \n",
      "23 | model.dense    | Sequential    | 68 K  \n",
      "24 | model.dense.0  | Linear        | 66 K  \n",
      "25 | model.dense.1  | PReLU         | 1     \n",
      "26 | model.dense.2  | Dropout       | 0     \n",
      "27 | model.dense.3  | Linear        | 1 K   \n"
     ]
    },
    {
     "data": {
      "application/vnd.jupyter.widget-view+json": {
       "model_id": "",
       "version_major": 2,
       "version_minor": 0
      },
      "text/plain": [
       "HBox(children=(FloatProgress(value=1.0, bar_style='info', description='Validation sanity check', layout=Layout…"
      ]
     },
     "metadata": {},
     "output_type": "display_data"
    },
    {
     "name": "stdout",
     "output_type": "stream",
     "text": [
      "Val-Acc=0.01956135151155898\n"
     ]
    },
    {
     "data": {
      "application/vnd.jupyter.widget-view+json": {
       "model_id": "ee36060803084894b47d13b326dbf073",
       "version_major": 2,
       "version_minor": 0
      },
      "text/plain": [
       "HBox(children=(FloatProgress(value=1.0, bar_style='info', description='Training', layout=Layout(flex='2'), max…"
      ]
     },
     "metadata": {},
     "output_type": "display_data"
    },
    {
     "data": {
      "application/vnd.jupyter.widget-view+json": {
       "model_id": "",
       "version_major": 2,
       "version_minor": 0
      },
      "text/plain": [
       "HBox(children=(FloatProgress(value=1.0, bar_style='info', description='Validating', layout=Layout(flex='2'), m…"
      ]
     },
     "metadata": {},
     "output_type": "display_data"
    },
    {
     "name": "stdout",
     "output_type": "stream",
     "text": [
      "Val-Acc=0.7172495554238293\n",
      "Train-Acc=0.7559288537549407\n"
     ]
    },
    {
     "data": {
      "application/vnd.jupyter.widget-view+json": {
       "model_id": "",
       "version_major": 2,
       "version_minor": 0
      },
      "text/plain": [
       "HBox(children=(FloatProgress(value=1.0, bar_style='info', description='Validating', layout=Layout(flex='2'), m…"
      ]
     },
     "metadata": {},
     "output_type": "display_data"
    },
    {
     "name": "stdout",
     "output_type": "stream",
     "text": [
      "Val-Acc=0.7403675163011263\n",
      "Train-Acc=0.792292490118577\n"
     ]
    },
    {
     "data": {
      "application/vnd.jupyter.widget-view+json": {
       "model_id": "",
       "version_major": 2,
       "version_minor": 0
      },
      "text/plain": [
       "HBox(children=(FloatProgress(value=1.0, bar_style='info', description='Validating', layout=Layout(flex='2'), m…"
      ]
     },
     "metadata": {},
     "output_type": "display_data"
    },
    {
     "name": "stdout",
     "output_type": "stream",
     "text": [
      "Val-Acc=0.7273266152934202\n",
      "Train-Acc=0.8102766798418972\n"
     ]
    },
    {
     "data": {
      "application/vnd.jupyter.widget-view+json": {
       "model_id": "",
       "version_major": 2,
       "version_minor": 0
      },
      "text/plain": [
       "HBox(children=(FloatProgress(value=1.0, bar_style='info', description='Validating', layout=Layout(flex='2'), m…"
      ]
     },
     "metadata": {},
     "output_type": "display_data"
    },
    {
     "name": "stdout",
     "output_type": "stream",
     "text": [
      "Val-Acc=0.7379964433906343\n",
      "Train-Acc=0.8193675889328064\n"
     ]
    },
    {
     "data": {
      "application/vnd.jupyter.widget-view+json": {
       "model_id": "",
       "version_major": 2,
       "version_minor": 0
      },
      "text/plain": [
       "HBox(children=(FloatProgress(value=1.0, bar_style='info', description='Validating', layout=Layout(flex='2'), m…"
      ]
     },
     "metadata": {},
     "output_type": "display_data"
    },
    {
     "name": "stdout",
     "output_type": "stream",
     "text": [
      "Val-Acc=0.8269116775340841\n",
      "Train-Acc=0.8292490118577075\n"
     ]
    },
    {
     "data": {
      "application/vnd.jupyter.widget-view+json": {
       "model_id": "",
       "version_major": 2,
       "version_minor": 0
      },
      "text/plain": [
       "HBox(children=(FloatProgress(value=1.0, bar_style='info', description='Validating', layout=Layout(flex='2'), m…"
      ]
     },
     "metadata": {},
     "output_type": "display_data"
    },
    {
     "name": "stdout",
     "output_type": "stream",
     "text": [
      "Val-Acc=0.8073503260225252\n",
      "Train-Acc=0.833794466403162\n"
     ]
    },
    {
     "data": {
      "application/vnd.jupyter.widget-view+json": {
       "model_id": "",
       "version_major": 2,
       "version_minor": 0
      },
      "text/plain": [
       "HBox(children=(FloatProgress(value=1.0, bar_style='info', description='Validating', layout=Layout(flex='2'), m…"
      ]
     },
     "metadata": {},
     "output_type": "display_data"
    },
    {
     "name": "stdout",
     "output_type": "stream",
     "text": [
      "Val-Acc=0.7729697688203913\n",
      "Train-Acc=0.8367588932806325\n"
     ]
    },
    {
     "data": {
      "application/vnd.jupyter.widget-view+json": {
       "model_id": "",
       "version_major": 2,
       "version_minor": 0
      },
      "text/plain": [
       "HBox(children=(FloatProgress(value=1.0, bar_style='info', description='Validating', layout=Layout(flex='2'), m…"
      ]
     },
     "metadata": {},
     "output_type": "display_data"
    },
    {
     "name": "stdout",
     "output_type": "stream",
     "text": [
      "Val-Acc=0.7528156490812092\n",
      "Train-Acc=0.8328063241106719\n"
     ]
    },
    {
     "data": {
      "application/vnd.jupyter.widget-view+json": {
       "model_id": "",
       "version_major": 2,
       "version_minor": 0
      },
      "text/plain": [
       "HBox(children=(FloatProgress(value=1.0, bar_style='info', description='Validating', layout=Layout(flex='2'), m…"
      ]
     },
     "metadata": {},
     "output_type": "display_data"
    },
    {
     "name": "stdout",
     "output_type": "stream",
     "text": [
      "Val-Acc=0.7824540604623592\n",
      "Train-Acc=0.8450592885375494\n"
     ]
    },
    {
     "data": {
      "application/vnd.jupyter.widget-view+json": {
       "model_id": "",
       "version_major": 2,
       "version_minor": 0
      },
      "text/plain": [
       "HBox(children=(FloatProgress(value=1.0, bar_style='info', description='Validating', layout=Layout(flex='2'), m…"
      ]
     },
     "metadata": {},
     "output_type": "display_data"
    },
    {
     "name": "stdout",
     "output_type": "stream",
     "text": [
      "Val-Acc=0.7504445761707172\n",
      "Train-Acc=0.8527667984189723\n"
     ]
    },
    {
     "data": {
      "application/vnd.jupyter.widget-view+json": {
       "model_id": "",
       "version_major": 2,
       "version_minor": 0
      },
      "text/plain": [
       "HBox(children=(FloatProgress(value=1.0, bar_style='info', description='Validating', layout=Layout(flex='2'), m…"
      ]
     },
     "metadata": {},
     "output_type": "display_data"
    },
    {
     "name": "stdout",
     "output_type": "stream",
     "text": [
      "Val-Acc=0.8132780082987552\n",
      "Train-Acc=0.8472332015810277\n"
     ]
    },
    {
     "data": {
      "application/vnd.jupyter.widget-view+json": {
       "model_id": "",
       "version_major": 2,
       "version_minor": 0
      },
      "text/plain": [
       "HBox(children=(FloatProgress(value=1.0, bar_style='info', description='Validating', layout=Layout(flex='2'), m…"
      ]
     },
     "metadata": {},
     "output_type": "display_data"
    },
    {
     "name": "stdout",
     "output_type": "stream",
     "text": [
      "Val-Acc=0.7059869590989923\n",
      "Train-Acc=0.8472332015810277\n"
     ]
    },
    {
     "data": {
      "application/vnd.jupyter.widget-view+json": {
       "model_id": "",
       "version_major": 2,
       "version_minor": 0
      },
      "text/plain": [
       "HBox(children=(FloatProgress(value=1.0, bar_style='info', description='Validating', layout=Layout(flex='2'), m…"
      ]
     },
     "metadata": {},
     "output_type": "display_data"
    },
    {
     "name": "stdout",
     "output_type": "stream",
     "text": [
      "Val-Acc=0.8476585655008891\n",
      "Train-Acc=0.857509881422925\n"
     ]
    },
    {
     "data": {
      "application/vnd.jupyter.widget-view+json": {
       "model_id": "",
       "version_major": 2,
       "version_minor": 0
      },
      "text/plain": [
       "HBox(children=(FloatProgress(value=1.0, bar_style='info', description='Validating', layout=Layout(flex='2'), m…"
      ]
     },
     "metadata": {},
     "output_type": "display_data"
    },
    {
     "name": "stdout",
     "output_type": "stream",
     "text": [
      "Val-Acc=0.8571428571428571\n",
      "Train-Acc=0.8612648221343874\n",
      "new best val acc 0.8571428571428571\n",
      "Saved model to \"optuna_ablationNormal_0.8571428571428571.p\"\n",
      "Saved checkpoint at epoch 14 at \"optuna_ablationNormal_0.8571428571428571.p\"\n"
     ]
    },
    {
     "data": {
      "application/vnd.jupyter.widget-view+json": {
       "model_id": "",
       "version_major": 2,
       "version_minor": 0
      },
      "text/plain": [
       "HBox(children=(FloatProgress(value=1.0, bar_style='info', description='Validating', layout=Layout(flex='2'), m…"
      ]
     },
     "metadata": {},
     "output_type": "display_data"
    },
    {
     "name": "stdout",
     "output_type": "stream",
     "text": [
      "Val-Acc=0.7788974510966212\n",
      "Train-Acc=0.8634387351778656\n"
     ]
    },
    {
     "data": {
      "application/vnd.jupyter.widget-view+json": {
       "model_id": "",
       "version_major": 2,
       "version_minor": 0
      },
      "text/plain": [
       "HBox(children=(FloatProgress(value=1.0, bar_style='info', description='Validating', layout=Layout(flex='2'), m…"
      ]
     },
     "metadata": {},
     "output_type": "display_data"
    },
    {
     "name": "stdout",
     "output_type": "stream",
     "text": [
      "Val-Acc=0.5737996443390634\n",
      "Train-Acc=0.8590909090909091\n"
     ]
    },
    {
     "data": {
      "application/vnd.jupyter.widget-view+json": {
       "model_id": "",
       "version_major": 2,
       "version_minor": 0
      },
      "text/plain": [
       "HBox(children=(FloatProgress(value=1.0, bar_style='info', description='Validating', layout=Layout(flex='2'), m…"
      ]
     },
     "metadata": {},
     "output_type": "display_data"
    },
    {
     "name": "stdout",
     "output_type": "stream",
     "text": [
      "Val-Acc=0.7812685240071132\n",
      "Train-Acc=0.8656126482213439\n"
     ]
    },
    {
     "data": {
      "application/vnd.jupyter.widget-view+json": {
       "model_id": "",
       "version_major": 2,
       "version_minor": 0
      },
      "text/plain": [
       "HBox(children=(FloatProgress(value=1.0, bar_style='info', description='Validating', layout=Layout(flex='2'), m…"
      ]
     },
     "metadata": {},
     "output_type": "display_data"
    },
    {
     "name": "stdout",
     "output_type": "stream",
     "text": [
      "Val-Acc=0.8399525785417902\n",
      "Train-Acc=0.8660079051383399\n"
     ]
    },
    {
     "data": {
      "application/vnd.jupyter.widget-view+json": {
       "model_id": "",
       "version_major": 2,
       "version_minor": 0
      },
      "text/plain": [
       "HBox(children=(FloatProgress(value=1.0, bar_style='info', description='Validating', layout=Layout(flex='2'), m…"
      ]
     },
     "metadata": {},
     "output_type": "display_data"
    },
    {
     "name": "stdout",
     "output_type": "stream",
     "text": [
      "Val-Acc=0.8435091879075282\n",
      "Train-Acc=0.8679841897233201\n"
     ]
    },
    {
     "data": {
      "application/vnd.jupyter.widget-view+json": {
       "model_id": "",
       "version_major": 2,
       "version_minor": 0
      },
      "text/plain": [
       "HBox(children=(FloatProgress(value=1.0, bar_style='info', description='Validating', layout=Layout(flex='2'), m…"
      ]
     },
     "metadata": {},
     "output_type": "display_data"
    },
    {
     "name": "stdout",
     "output_type": "stream",
     "text": [
      "Val-Acc=0.8707765263781861\n",
      "Train-Acc=0.8695652173913043\n",
      "new best val acc 0.8707765263781861\n",
      "Saved model to \"optuna_ablationNormal_0.8707765263781861.p\"\n",
      "Saved checkpoint at epoch 20 at \"optuna_ablationNormal_0.8707765263781861.p\"\n",
      "\n",
      "Saved model to \"saved_modelsq/17.p\"\n"
     ]
    },
    {
     "name": "stderr",
     "output_type": "stream",
     "text": [
      "[I 2020-07-20 18:57:39,316] Finished trial#17 with value: 0.8707765263781861 with parameters: {'learning_rate': 0.001130722521874597, 'p_drop': 0.2126022956703681, 'lr_decay': 0.9254289926146729, 'n_hidden': 823, 'weight_decay': 0.0011007407642843825}. Best is trial#17 with value: 0.8707765263781861.\n",
      "GPU available: True, used: True\n",
      "No environment variable for node rank defined. Set as 0.\n",
      "CUDA_VISIBLE_DEVICES: [0]\n",
      "Set SLURM handle signals.\n",
      "\n",
      "   | Name           | Type          | Params\n",
      "---------------------------------------------\n",
      "0  | model          | AblationModel | 179 K \n",
      "1  | model.convs    | Sequential    | 114 K \n",
      "2  | model.convs.0  | BatchNorm2d   | 2     \n",
      "3  | model.convs.1  | Conv2d        | 1 K   \n",
      "4  | model.convs.2  | BatchNorm2d   | 20    \n",
      "5  | model.convs.3  | PReLU         | 1     \n",
      "6  | model.convs.4  | MaxPool2d     | 0     \n",
      "7  | model.convs.5  | Dropout       | 0     \n",
      "8  | model.convs.6  | Conv2d        | 20 K  \n",
      "9  | model.convs.7  | BatchNorm2d   | 40    \n",
      "10 | model.convs.8  | PReLU         | 1     \n",
      "11 | model.convs.9  | MaxPool2d     | 0     \n",
      "12 | model.convs.10 | Dropout       | 0     \n",
      "13 | model.convs.11 | Conv2d        | 80 K  \n",
      "14 | model.convs.12 | BatchNorm2d   | 80    \n",
      "15 | model.convs.13 | PReLU         | 1     \n",
      "16 | model.convs.14 | MaxPool2d     | 0     \n",
      "17 | model.convs.15 | Dropout       | 0     \n",
      "18 | model.convs.16 | Conv2d        | 12 K  \n",
      "19 | model.convs.17 | BatchNorm2d   | 160   \n",
      "20 | model.convs.18 | PReLU         | 1     \n",
      "21 | model.convs.19 | MaxPool2d     | 0     \n",
      "22 | model.convs.20 | Dropout       | 0     \n",
      "23 | model.dense    | Sequential    | 64 K  \n",
      "24 | model.dense.0  | Linear        | 63 K  \n",
      "25 | model.dense.1  | PReLU         | 1     \n",
      "26 | model.dense.2  | Dropout       | 0     \n",
      "27 | model.dense.3  | Linear        | 1 K   \n"
     ]
    },
    {
     "data": {
      "application/vnd.jupyter.widget-view+json": {
       "model_id": "",
       "version_major": 2,
       "version_minor": 0
      },
      "text/plain": [
       "HBox(children=(FloatProgress(value=1.0, bar_style='info', description='Validation sanity check', layout=Layout…"
      ]
     },
     "metadata": {},
     "output_type": "display_data"
    },
    {
     "name": "stdout",
     "output_type": "stream",
     "text": [
      "Val-Acc=0.013040901007705987\n"
     ]
    },
    {
     "data": {
      "application/vnd.jupyter.widget-view+json": {
       "model_id": "af04779b2fc84281a7f5ab02b0932fd7",
       "version_major": 2,
       "version_minor": 0
      },
      "text/plain": [
       "HBox(children=(FloatProgress(value=1.0, bar_style='info', description='Training', layout=Layout(flex='2'), max…"
      ]
     },
     "metadata": {},
     "output_type": "display_data"
    },
    {
     "data": {
      "application/vnd.jupyter.widget-view+json": {
       "model_id": "",
       "version_major": 2,
       "version_minor": 0
      },
      "text/plain": [
       "HBox(children=(FloatProgress(value=1.0, bar_style='info', description='Validating', layout=Layout(flex='2'), m…"
      ]
     },
     "metadata": {},
     "output_type": "display_data"
    },
    {
     "name": "stdout",
     "output_type": "stream",
     "text": [
      "Val-Acc=0.6087729697688203\n",
      "Train-Acc=0.5731225296442688\n"
     ]
    },
    {
     "data": {
      "application/vnd.jupyter.widget-view+json": {
       "model_id": "",
       "version_major": 2,
       "version_minor": 0
      },
      "text/plain": [
       "HBox(children=(FloatProgress(value=1.0, bar_style='info', description='Validating', layout=Layout(flex='2'), m…"
      ]
     },
     "metadata": {},
     "output_type": "display_data"
    },
    {
     "name": "stdout",
     "output_type": "stream",
     "text": [
      "Val-Acc=0.6307053941908713\n"
     ]
    },
    {
     "name": "stderr",
     "output_type": "stream",
     "text": [
      "[I 2020-07-20 18:57:56,734] Setting status of trial#18 as TrialState.PRUNED. Trial was pruned at epoch 1.\n",
      "GPU available: True, used: True\n",
      "No environment variable for node rank defined. Set as 0.\n",
      "CUDA_VISIBLE_DEVICES: [0]\n",
      "Set SLURM handle signals.\n",
      "\n",
      "   | Name           | Type          | Params\n",
      "---------------------------------------------\n",
      "0  | model          | AblationModel | 194 K \n",
      "1  | model.convs    | Sequential    | 114 K \n",
      "2  | model.convs.0  | BatchNorm2d   | 2     \n",
      "3  | model.convs.1  | Conv2d        | 1 K   \n",
      "4  | model.convs.2  | BatchNorm2d   | 20    \n",
      "5  | model.convs.3  | PReLU         | 1     \n",
      "6  | model.convs.4  | MaxPool2d     | 0     \n",
      "7  | model.convs.5  | Dropout       | 0     \n",
      "8  | model.convs.6  | Conv2d        | 20 K  \n",
      "9  | model.convs.7  | BatchNorm2d   | 40    \n",
      "10 | model.convs.8  | PReLU         | 1     \n",
      "11 | model.convs.9  | MaxPool2d     | 0     \n",
      "12 | model.convs.10 | Dropout       | 0     \n",
      "13 | model.convs.11 | Conv2d        | 80 K  \n",
      "14 | model.convs.12 | BatchNorm2d   | 80    \n",
      "15 | model.convs.13 | PReLU         | 1     \n",
      "16 | model.convs.14 | MaxPool2d     | 0     \n",
      "17 | model.convs.15 | Dropout       | 0     \n",
      "18 | model.convs.16 | Conv2d        | 12 K  \n",
      "19 | model.convs.17 | BatchNorm2d   | 160   \n",
      "20 | model.convs.18 | PReLU         | 1     \n",
      "21 | model.convs.19 | MaxPool2d     | 0     \n",
      "22 | model.convs.20 | Dropout       | 0     \n",
      "23 | model.dense    | Sequential    | 80 K  \n",
      "24 | model.dense.0  | Linear        | 78 K  \n",
      "25 | model.dense.1  | PReLU         | 1     \n",
      "26 | model.dense.2  | Dropout       | 0     \n",
      "27 | model.dense.3  | Linear        | 1 K   \n"
     ]
    },
    {
     "data": {
      "application/vnd.jupyter.widget-view+json": {
       "model_id": "",
       "version_major": 2,
       "version_minor": 0
      },
      "text/plain": [
       "HBox(children=(FloatProgress(value=1.0, bar_style='info', description='Validation sanity check', layout=Layout…"
      ]
     },
     "metadata": {},
     "output_type": "display_data"
    },
    {
     "name": "stdout",
     "output_type": "stream",
     "text": [
      "Val-Acc=0.01956135151155898\n"
     ]
    },
    {
     "data": {
      "application/vnd.jupyter.widget-view+json": {
       "model_id": "34439073c2254ea38a41a923ab35ff07",
       "version_major": 2,
       "version_minor": 0
      },
      "text/plain": [
       "HBox(children=(FloatProgress(value=1.0, bar_style='info', description='Training', layout=Layout(flex='2'), max…"
      ]
     },
     "metadata": {},
     "output_type": "display_data"
    },
    {
     "data": {
      "application/vnd.jupyter.widget-view+json": {
       "model_id": "",
       "version_major": 2,
       "version_minor": 0
      },
      "text/plain": [
       "HBox(children=(FloatProgress(value=1.0, bar_style='info', description='Validating', layout=Layout(flex='2'), m…"
      ]
     },
     "metadata": {},
     "output_type": "display_data"
    },
    {
     "name": "stdout",
     "output_type": "stream",
     "text": [
      "Val-Acc=0.7451096621221103\n",
      "Train-Acc=0.7464426877470356\n"
     ]
    },
    {
     "data": {
      "application/vnd.jupyter.widget-view+json": {
       "model_id": "",
       "version_major": 2,
       "version_minor": 0
      },
      "text/plain": [
       "HBox(children=(FloatProgress(value=1.0, bar_style='info', description='Validating', layout=Layout(flex='2'), m…"
      ]
     },
     "metadata": {},
     "output_type": "display_data"
    },
    {
     "name": "stdout",
     "output_type": "stream",
     "text": [
      "Val-Acc=0.7492590397154713\n",
      "Train-Acc=0.7863636363636364\n"
     ]
    },
    {
     "data": {
      "application/vnd.jupyter.widget-view+json": {
       "model_id": "",
       "version_major": 2,
       "version_minor": 0
      },
      "text/plain": [
       "HBox(children=(FloatProgress(value=1.0, bar_style='info', description='Validating', layout=Layout(flex='2'), m…"
      ]
     },
     "metadata": {},
     "output_type": "display_data"
    },
    {
     "name": "stdout",
     "output_type": "stream",
     "text": [
      "Val-Acc=0.7362181387077653\n",
      "Train-Acc=0.8043478260869565\n"
     ]
    },
    {
     "data": {
      "application/vnd.jupyter.widget-view+json": {
       "model_id": "",
       "version_major": 2,
       "version_minor": 0
      },
      "text/plain": [
       "HBox(children=(FloatProgress(value=1.0, bar_style='info', description='Validating', layout=Layout(flex='2'), m…"
      ]
     },
     "metadata": {},
     "output_type": "display_data"
    },
    {
     "name": "stdout",
     "output_type": "stream",
     "text": [
      "Val-Acc=0.8061647895672792\n",
      "Train-Acc=0.8102766798418972\n"
     ]
    },
    {
     "data": {
      "application/vnd.jupyter.widget-view+json": {
       "model_id": "",
       "version_major": 2,
       "version_minor": 0
      },
      "text/plain": [
       "HBox(children=(FloatProgress(value=1.0, bar_style='info', description='Validating', layout=Layout(flex='2'), m…"
      ]
     },
     "metadata": {},
     "output_type": "display_data"
    },
    {
     "name": "stdout",
     "output_type": "stream",
     "text": [
      "Val-Acc=0.8233550681683461\n",
      "Train-Acc=0.8235177865612648\n"
     ]
    },
    {
     "data": {
      "application/vnd.jupyter.widget-view+json": {
       "model_id": "",
       "version_major": 2,
       "version_minor": 0
      },
      "text/plain": [
       "HBox(children=(FloatProgress(value=1.0, bar_style='info', description='Validating', layout=Layout(flex='2'), m…"
      ]
     },
     "metadata": {},
     "output_type": "display_data"
    },
    {
     "name": "stdout",
     "output_type": "stream",
     "text": [
      "Val-Acc=0.8298755186721992\n",
      "Train-Acc=0.824505928853755\n"
     ]
    },
    {
     "data": {
      "application/vnd.jupyter.widget-view+json": {
       "model_id": "",
       "version_major": 2,
       "version_minor": 0
      },
      "text/plain": [
       "HBox(children=(FloatProgress(value=1.0, bar_style='info', description='Validating', layout=Layout(flex='2'), m…"
      ]
     },
     "metadata": {},
     "output_type": "display_data"
    },
    {
     "name": "stdout",
     "output_type": "stream",
     "text": [
      "Val-Acc=0.7296976882039122\n",
      "Train-Acc=0.8286561264822134\n"
     ]
    },
    {
     "data": {
      "application/vnd.jupyter.widget-view+json": {
       "model_id": "",
       "version_major": 2,
       "version_minor": 0
      },
      "text/plain": [
       "HBox(children=(FloatProgress(value=1.0, bar_style='info', description='Validating', layout=Layout(flex='2'), m…"
      ]
     },
     "metadata": {},
     "output_type": "display_data"
    },
    {
     "name": "stdout",
     "output_type": "stream",
     "text": [
      "Val-Acc=0.8328393598103142\n",
      "Train-Acc=0.8369565217391305\n"
     ]
    },
    {
     "data": {
      "application/vnd.jupyter.widget-view+json": {
       "model_id": "",
       "version_major": 2,
       "version_minor": 0
      },
      "text/plain": [
       "HBox(children=(FloatProgress(value=1.0, bar_style='info', description='Validating', layout=Layout(flex='2'), m…"
      ]
     },
     "metadata": {},
     "output_type": "display_data"
    },
    {
     "name": "stdout",
     "output_type": "stream",
     "text": [
      "Val-Acc=0.8251333728512151\n",
      "Train-Acc=0.8375494071146246\n"
     ]
    },
    {
     "data": {
      "application/vnd.jupyter.widget-view+json": {
       "model_id": "",
       "version_major": 2,
       "version_minor": 0
      },
      "text/plain": [
       "HBox(children=(FloatProgress(value=1.0, bar_style='info', description='Validating', layout=Layout(flex='2'), m…"
      ]
     },
     "metadata": {},
     "output_type": "display_data"
    },
    {
     "name": "stdout",
     "output_type": "stream",
     "text": [
      "Val-Acc=0.7842323651452282\n",
      "Train-Acc=0.8403162055335969\n"
     ]
    },
    {
     "data": {
      "application/vnd.jupyter.widget-view+json": {
       "model_id": "",
       "version_major": 2,
       "version_minor": 0
      },
      "text/plain": [
       "HBox(children=(FloatProgress(value=1.0, bar_style='info', description='Validating', layout=Layout(flex='2'), m…"
      ]
     },
     "metadata": {},
     "output_type": "display_data"
    },
    {
     "name": "stdout",
     "output_type": "stream",
     "text": [
      "Val-Acc=0.8363959691760522\n",
      "Train-Acc=0.8527667984189723\n"
     ]
    },
    {
     "data": {
      "application/vnd.jupyter.widget-view+json": {
       "model_id": "",
       "version_major": 2,
       "version_minor": 0
      },
      "text/plain": [
       "HBox(children=(FloatProgress(value=1.0, bar_style='info', description='Validating', layout=Layout(flex='2'), m…"
      ]
     },
     "metadata": {},
     "output_type": "display_data"
    },
    {
     "name": "stdout",
     "output_type": "stream",
     "text": [
      "Val-Acc=0.5595732068761115\n",
      "Train-Acc=0.8397233201581028\n"
     ]
    },
    {
     "data": {
      "application/vnd.jupyter.widget-view+json": {
       "model_id": "",
       "version_major": 2,
       "version_minor": 0
      },
      "text/plain": [
       "HBox(children=(FloatProgress(value=1.0, bar_style='info', description='Validating', layout=Layout(flex='2'), m…"
      ]
     },
     "metadata": {},
     "output_type": "display_data"
    },
    {
     "name": "stdout",
     "output_type": "stream",
     "text": [
      "Val-Acc=0.7255483106105513\n",
      "Train-Acc=0.8490118577075099\n"
     ]
    },
    {
     "data": {
      "application/vnd.jupyter.widget-view+json": {
       "model_id": "",
       "version_major": 2,
       "version_minor": 0
      },
      "text/plain": [
       "HBox(children=(FloatProgress(value=1.0, bar_style='info', description='Validating', layout=Layout(flex='2'), m…"
      ]
     },
     "metadata": {},
     "output_type": "display_data"
    },
    {
     "name": "stdout",
     "output_type": "stream",
     "text": [
      "Val-Acc=0.7646710136336692\n",
      "Train-Acc=0.8573122529644269\n"
     ]
    },
    {
     "data": {
      "application/vnd.jupyter.widget-view+json": {
       "model_id": "",
       "version_major": 2,
       "version_minor": 0
      },
      "text/plain": [
       "HBox(children=(FloatProgress(value=1.0, bar_style='info', description='Validating', layout=Layout(flex='2'), m…"
      ]
     },
     "metadata": {},
     "output_type": "display_data"
    },
    {
     "name": "stdout",
     "output_type": "stream",
     "text": [
      "Val-Acc=0.8524007113218731\n",
      "Train-Acc=0.8462450592885375\n"
     ]
    },
    {
     "data": {
      "application/vnd.jupyter.widget-view+json": {
       "model_id": "",
       "version_major": 2,
       "version_minor": 0
      },
      "text/plain": [
       "HBox(children=(FloatProgress(value=1.0, bar_style='info', description='Validating', layout=Layout(flex='2'), m…"
      ]
     },
     "metadata": {},
     "output_type": "display_data"
    },
    {
     "name": "stdout",
     "output_type": "stream",
     "text": [
      "Val-Acc=0.7978660343805573\n",
      "Train-Acc=0.8490118577075099\n"
     ]
    },
    {
     "data": {
      "application/vnd.jupyter.widget-view+json": {
       "model_id": "",
       "version_major": 2,
       "version_minor": 0
      },
      "text/plain": [
       "HBox(children=(FloatProgress(value=1.0, bar_style='info', description='Validating', layout=Layout(flex='2'), m…"
      ]
     },
     "metadata": {},
     "output_type": "display_data"
    },
    {
     "name": "stdout",
     "output_type": "stream",
     "text": [
      "Val-Acc=0.7711914641375223\n",
      "Train-Acc=0.8525691699604743\n"
     ]
    },
    {
     "data": {
      "application/vnd.jupyter.widget-view+json": {
       "model_id": "",
       "version_major": 2,
       "version_minor": 0
      },
      "text/plain": [
       "HBox(children=(FloatProgress(value=1.0, bar_style='info', description='Validating', layout=Layout(flex='2'), m…"
      ]
     },
     "metadata": {},
     "output_type": "display_data"
    },
    {
     "name": "stdout",
     "output_type": "stream",
     "text": [
      "Val-Acc=0.7860106698280972\n",
      "Train-Acc=0.8590909090909091\n"
     ]
    },
    {
     "data": {
      "application/vnd.jupyter.widget-view+json": {
       "model_id": "",
       "version_major": 2,
       "version_minor": 0
      },
      "text/plain": [
       "HBox(children=(FloatProgress(value=1.0, bar_style='info', description='Validating', layout=Layout(flex='2'), m…"
      ]
     },
     "metadata": {},
     "output_type": "display_data"
    },
    {
     "name": "stdout",
     "output_type": "stream",
     "text": [
      "Val-Acc=0.5666864256075874\n",
      "Train-Acc=0.8565217391304348\n"
     ]
    },
    {
     "data": {
      "application/vnd.jupyter.widget-view+json": {
       "model_id": "",
       "version_major": 2,
       "version_minor": 0
      },
      "text/plain": [
       "HBox(children=(FloatProgress(value=1.0, bar_style='info', description='Validating', layout=Layout(flex='2'), m…"
      ]
     },
     "metadata": {},
     "output_type": "display_data"
    },
    {
     "name": "stdout",
     "output_type": "stream",
     "text": [
      "Val-Acc=0.8180201541197392\n",
      "Train-Acc=0.8628458498023716\n",
      "\n",
      "Saved model to \"saved_modelsq/19.p\"\n"
     ]
    },
    {
     "name": "stderr",
     "output_type": "stream",
     "text": [
      "[I 2020-07-20 19:00:48,319] Finished trial#19 with value: 0.8180201541197392 with parameters: {'learning_rate': 0.0007205011970326634, 'p_drop': 0.2625475001285715, 'lr_decay': 0.9957305363836795, 'n_hidden': 972, 'weight_decay': 0.0004223557271436137}. Best is trial#17 with value: 0.8707765263781861.\n",
      "GPU available: True, used: True\n",
      "No environment variable for node rank defined. Set as 0.\n",
      "CUDA_VISIBLE_DEVICES: [0]\n",
      "Set SLURM handle signals.\n",
      "\n",
      "   | Name           | Type          | Params\n",
      "---------------------------------------------\n",
      "0  | model          | AblationModel | 182 K \n",
      "1  | model.convs    | Sequential    | 114 K \n",
      "2  | model.convs.0  | BatchNorm2d   | 2     \n",
      "3  | model.convs.1  | Conv2d        | 1 K   \n",
      "4  | model.convs.2  | BatchNorm2d   | 20    \n",
      "5  | model.convs.3  | PReLU         | 1     \n",
      "6  | model.convs.4  | MaxPool2d     | 0     \n",
      "7  | model.convs.5  | Dropout       | 0     \n",
      "8  | model.convs.6  | Conv2d        | 20 K  \n",
      "9  | model.convs.7  | BatchNorm2d   | 40    \n",
      "10 | model.convs.8  | PReLU         | 1     \n",
      "11 | model.convs.9  | MaxPool2d     | 0     \n",
      "12 | model.convs.10 | Dropout       | 0     \n",
      "13 | model.convs.11 | Conv2d        | 80 K  \n",
      "14 | model.convs.12 | BatchNorm2d   | 80    \n",
      "15 | model.convs.13 | PReLU         | 1     \n",
      "16 | model.convs.14 | MaxPool2d     | 0     \n",
      "17 | model.convs.15 | Dropout       | 0     \n",
      "18 | model.convs.16 | Conv2d        | 12 K  \n",
      "19 | model.convs.17 | BatchNorm2d   | 160   \n",
      "20 | model.convs.18 | PReLU         | 1     \n",
      "21 | model.convs.19 | MaxPool2d     | 0     \n",
      "22 | model.convs.20 | Dropout       | 0     \n",
      "23 | model.dense    | Sequential    | 68 K  \n",
      "24 | model.dense.0  | Linear        | 66 K  \n",
      "25 | model.dense.1  | PReLU         | 1     \n",
      "26 | model.dense.2  | Dropout       | 0     \n",
      "27 | model.dense.3  | Linear        | 1 K   \n"
     ]
    },
    {
     "data": {
      "application/vnd.jupyter.widget-view+json": {
       "model_id": "",
       "version_major": 2,
       "version_minor": 0
      },
      "text/plain": [
       "HBox(children=(FloatProgress(value=1.0, bar_style='info', description='Validation sanity check', layout=Layout…"
      ]
     },
     "metadata": {},
     "output_type": "display_data"
    },
    {
     "name": "stdout",
     "output_type": "stream",
     "text": [
      "Val-Acc=0.01956135151155898\n"
     ]
    },
    {
     "data": {
      "application/vnd.jupyter.widget-view+json": {
       "model_id": "3a7523df993a4f64bdd0c5946da88610",
       "version_major": 2,
       "version_minor": 0
      },
      "text/plain": [
       "HBox(children=(FloatProgress(value=1.0, bar_style='info', description='Training', layout=Layout(flex='2'), max…"
      ]
     },
     "metadata": {},
     "output_type": "display_data"
    },
    {
     "data": {
      "application/vnd.jupyter.widget-view+json": {
       "model_id": "",
       "version_major": 2,
       "version_minor": 0
      },
      "text/plain": [
       "HBox(children=(FloatProgress(value=1.0, bar_style='info', description='Validating', layout=Layout(flex='2'), m…"
      ]
     },
     "metadata": {},
     "output_type": "display_data"
    },
    {
     "name": "stdout",
     "output_type": "stream",
     "text": [
      "Val-Acc=0.7421458209839953\n",
      "Train-Acc=0.7260869565217392\n"
     ]
    },
    {
     "data": {
      "application/vnd.jupyter.widget-view+json": {
       "model_id": "",
       "version_major": 2,
       "version_minor": 0
      },
      "text/plain": [
       "HBox(children=(FloatProgress(value=1.0, bar_style='info', description='Validating', layout=Layout(flex='2'), m…"
      ]
     },
     "metadata": {},
     "output_type": "display_data"
    },
    {
     "name": "stdout",
     "output_type": "stream",
     "text": [
      "Val-Acc=0.7510373443983402\n",
      "Train-Acc=0.7523715415019763\n"
     ]
    },
    {
     "data": {
      "application/vnd.jupyter.widget-view+json": {
       "model_id": "",
       "version_major": 2,
       "version_minor": 0
      },
      "text/plain": [
       "HBox(children=(FloatProgress(value=1.0, bar_style='info', description='Validating', layout=Layout(flex='2'), m…"
      ]
     },
     "metadata": {},
     "output_type": "display_data"
    },
    {
     "name": "stdout",
     "output_type": "stream",
     "text": [
      "Val-Acc=0.7688203912270303\n",
      "Train-Acc=0.758498023715415\n"
     ]
    },
    {
     "data": {
      "application/vnd.jupyter.widget-view+json": {
       "model_id": "",
       "version_major": 2,
       "version_minor": 0
      },
      "text/plain": [
       "HBox(children=(FloatProgress(value=1.0, bar_style='info', description='Validating', layout=Layout(flex='2'), m…"
      ]
     },
     "metadata": {},
     "output_type": "display_data"
    },
    {
     "name": "stdout",
     "output_type": "stream",
     "text": [
      "Val-Acc=0.7949021932424422\n",
      "Train-Acc=0.7812252964426878\n"
     ]
    },
    {
     "data": {
      "application/vnd.jupyter.widget-view+json": {
       "model_id": "",
       "version_major": 2,
       "version_minor": 0
      },
      "text/plain": [
       "HBox(children=(FloatProgress(value=1.0, bar_style='info', description='Validating', layout=Layout(flex='2'), m…"
      ]
     },
     "metadata": {},
     "output_type": "display_data"
    },
    {
     "name": "stdout",
     "output_type": "stream",
     "text": [
      "Val-Acc=0.4949614700652045\n",
      "Train-Acc=0.7875494071146245\n"
     ]
    },
    {
     "data": {
      "application/vnd.jupyter.widget-view+json": {
       "model_id": "",
       "version_major": 2,
       "version_minor": 0
      },
      "text/plain": [
       "HBox(children=(FloatProgress(value=1.0, bar_style='info', description='Validating', layout=Layout(flex='2'), m…"
      ]
     },
     "metadata": {},
     "output_type": "display_data"
    },
    {
     "name": "stdout",
     "output_type": "stream",
     "text": [
      "Val-Acc=0.7225844694724363\n",
      "Train-Acc=0.7897233201581028\n"
     ]
    },
    {
     "data": {
      "application/vnd.jupyter.widget-view+json": {
       "model_id": "",
       "version_major": 2,
       "version_minor": 0
      },
      "text/plain": [
       "HBox(children=(FloatProgress(value=1.0, bar_style='info', description='Validating', layout=Layout(flex='2'), m…"
      ]
     },
     "metadata": {},
     "output_type": "display_data"
    },
    {
     "name": "stdout",
     "output_type": "stream",
     "text": [
      "Val-Acc=0.5257854179016005\n",
      "Train-Acc=0.8027667984189724\n"
     ]
    },
    {
     "data": {
      "application/vnd.jupyter.widget-view+json": {
       "model_id": "",
       "version_major": 2,
       "version_minor": 0
      },
      "text/plain": [
       "HBox(children=(FloatProgress(value=1.0, bar_style='info', description='Validating', layout=Layout(flex='2'), m…"
      ]
     },
     "metadata": {},
     "output_type": "display_data"
    },
    {
     "name": "stdout",
     "output_type": "stream",
     "text": [
      "Val-Acc=0.7747480735032602\n",
      "Train-Acc=0.8001976284584981\n"
     ]
    },
    {
     "data": {
      "application/vnd.jupyter.widget-view+json": {
       "model_id": "",
       "version_major": 2,
       "version_minor": 0
      },
      "text/plain": [
       "HBox(children=(FloatProgress(value=1.0, bar_style='info', description='Validating', layout=Layout(flex='2'), m…"
      ]
     },
     "metadata": {},
     "output_type": "display_data"
    },
    {
     "name": "stdout",
     "output_type": "stream",
     "text": [
      "Val-Acc=0.7065797273266153\n",
      "Train-Acc=0.8039525691699605\n"
     ]
    },
    {
     "data": {
      "application/vnd.jupyter.widget-view+json": {
       "model_id": "",
       "version_major": 2,
       "version_minor": 0
      },
      "text/plain": [
       "HBox(children=(FloatProgress(value=1.0, bar_style='info', description='Validating', layout=Layout(flex='2'), m…"
      ]
     },
     "metadata": {},
     "output_type": "display_data"
    },
    {
     "name": "stdout",
     "output_type": "stream",
     "text": [
      "Val-Acc=0.7676348547717843\n",
      "Train-Acc=0.8057312252964427\n"
     ]
    },
    {
     "data": {
      "application/vnd.jupyter.widget-view+json": {
       "model_id": "",
       "version_major": 2,
       "version_minor": 0
      },
      "text/plain": [
       "HBox(children=(FloatProgress(value=1.0, bar_style='info', description='Validating', layout=Layout(flex='2'), m…"
      ]
     },
     "metadata": {},
     "output_type": "display_data"
    },
    {
     "name": "stdout",
     "output_type": "stream",
     "text": [
      "Val-Acc=0.5139300533491404\n",
      "Train-Acc=0.8021739130434783\n"
     ]
    },
    {
     "data": {
      "application/vnd.jupyter.widget-view+json": {
       "model_id": "",
       "version_major": 2,
       "version_minor": 0
      },
      "text/plain": [
       "HBox(children=(FloatProgress(value=1.0, bar_style='info', description='Validating', layout=Layout(flex='2'), m…"
      ]
     },
     "metadata": {},
     "output_type": "display_data"
    },
    {
     "name": "stdout",
     "output_type": "stream",
     "text": [
      "Val-Acc=0.7243627741553053\n",
      "Train-Acc=0.8197628458498024\n"
     ]
    },
    {
     "data": {
      "application/vnd.jupyter.widget-view+json": {
       "model_id": "",
       "version_major": 2,
       "version_minor": 0
      },
      "text/plain": [
       "HBox(children=(FloatProgress(value=1.0, bar_style='info', description='Validating', layout=Layout(flex='2'), m…"
      ]
     },
     "metadata": {},
     "output_type": "display_data"
    },
    {
     "name": "stdout",
     "output_type": "stream",
     "text": [
      "Val-Acc=0.7415530527563723\n",
      "Train-Acc=0.8233201581027668\n"
     ]
    },
    {
     "data": {
      "application/vnd.jupyter.widget-view+json": {
       "model_id": "",
       "version_major": 2,
       "version_minor": 0
      },
      "text/plain": [
       "HBox(children=(FloatProgress(value=1.0, bar_style='info', description='Validating', layout=Layout(flex='2'), m…"
      ]
     },
     "metadata": {},
     "output_type": "display_data"
    },
    {
     "name": "stdout",
     "output_type": "stream",
     "text": [
      "Val-Acc=0.8032009484291642\n",
      "Train-Acc=0.8231225296442688\n"
     ]
    },
    {
     "data": {
      "application/vnd.jupyter.widget-view+json": {
       "model_id": "",
       "version_major": 2,
       "version_minor": 0
      },
      "text/plain": [
       "HBox(children=(FloatProgress(value=1.0, bar_style='info', description='Validating', layout=Layout(flex='2'), m…"
      ]
     },
     "metadata": {},
     "output_type": "display_data"
    },
    {
     "name": "stdout",
     "output_type": "stream",
     "text": [
      "Val-Acc=0.7225844694724363\n",
      "Train-Acc=0.8296442687747035\n"
     ]
    },
    {
     "data": {
      "application/vnd.jupyter.widget-view+json": {
       "model_id": "",
       "version_major": 2,
       "version_minor": 0
      },
      "text/plain": [
       "HBox(children=(FloatProgress(value=1.0, bar_style='info', description='Validating', layout=Layout(flex='2'), m…"
      ]
     },
     "metadata": {},
     "output_type": "display_data"
    },
    {
     "name": "stdout",
     "output_type": "stream",
     "text": [
      "Val-Acc=0.7036158861885004\n",
      "Train-Acc=0.8310276679841897\n"
     ]
    },
    {
     "data": {
      "application/vnd.jupyter.widget-view+json": {
       "model_id": "",
       "version_major": 2,
       "version_minor": 0
      },
      "text/plain": [
       "HBox(children=(FloatProgress(value=1.0, bar_style='info', description='Validating', layout=Layout(flex='2'), m…"
      ]
     },
     "metadata": {},
     "output_type": "display_data"
    },
    {
     "name": "stdout",
     "output_type": "stream",
     "text": [
      "Val-Acc=0.5868405453467694\n",
      "Train-Acc=0.8292490118577075\n"
     ]
    },
    {
     "data": {
      "application/vnd.jupyter.widget-view+json": {
       "model_id": "",
       "version_major": 2,
       "version_minor": 0
      },
      "text/plain": [
       "HBox(children=(FloatProgress(value=1.0, bar_style='info', description='Validating', layout=Layout(flex='2'), m…"
      ]
     },
     "metadata": {},
     "output_type": "display_data"
    },
    {
     "name": "stdout",
     "output_type": "stream",
     "text": [
      "Val-Acc=0.7729697688203913\n",
      "Train-Acc=0.8361660079051383\n"
     ]
    },
    {
     "data": {
      "application/vnd.jupyter.widget-view+json": {
       "model_id": "",
       "version_major": 2,
       "version_minor": 0
      },
      "text/plain": [
       "HBox(children=(FloatProgress(value=1.0, bar_style='info', description='Validating', layout=Layout(flex='2'), m…"
      ]
     },
     "metadata": {},
     "output_type": "display_data"
    },
    {
     "name": "stdout",
     "output_type": "stream",
     "text": [
      "Val-Acc=0.6941315945465323\n",
      "Train-Acc=0.833794466403162\n"
     ]
    },
    {
     "data": {
      "application/vnd.jupyter.widget-view+json": {
       "model_id": "",
       "version_major": 2,
       "version_minor": 0
      },
      "text/plain": [
       "HBox(children=(FloatProgress(value=1.0, bar_style='info', description='Validating', layout=Layout(flex='2'), m…"
      ]
     },
     "metadata": {},
     "output_type": "display_data"
    },
    {
     "name": "stdout",
     "output_type": "stream",
     "text": [
      "Val-Acc=0.7397747480735033\n",
      "Train-Acc=0.8359683794466403\n",
      "\n",
      "Saved model to \"saved_modelsq/20.p\"\n"
     ]
    },
    {
     "name": "stderr",
     "output_type": "stream",
     "text": [
      "[I 2020-07-20 19:03:37,230] Finished trial#20 with value: 0.7397747480735033 with parameters: {'learning_rate': 0.006454533785508014, 'p_drop': 0.09418600749595708, 'lr_decay': 0.9152010351530707, 'n_hidden': 823, 'weight_decay': 0.010728951246793093}. Best is trial#17 with value: 0.8707765263781861.\n",
      "GPU available: True, used: True\n",
      "No environment variable for node rank defined. Set as 0.\n",
      "CUDA_VISIBLE_DEVICES: [0]\n",
      "Set SLURM handle signals.\n",
      "\n",
      "   | Name           | Type          | Params\n",
      "---------------------------------------------\n",
      "0  | model          | AblationModel | 186 K \n",
      "1  | model.convs    | Sequential    | 114 K \n",
      "2  | model.convs.0  | BatchNorm2d   | 2     \n",
      "3  | model.convs.1  | Conv2d        | 1 K   \n",
      "4  | model.convs.2  | BatchNorm2d   | 20    \n",
      "5  | model.convs.3  | PReLU         | 1     \n",
      "6  | model.convs.4  | MaxPool2d     | 0     \n",
      "7  | model.convs.5  | Dropout       | 0     \n",
      "8  | model.convs.6  | Conv2d        | 20 K  \n",
      "9  | model.convs.7  | BatchNorm2d   | 40    \n",
      "10 | model.convs.8  | PReLU         | 1     \n",
      "11 | model.convs.9  | MaxPool2d     | 0     \n",
      "12 | model.convs.10 | Dropout       | 0     \n",
      "13 | model.convs.11 | Conv2d        | 80 K  \n",
      "14 | model.convs.12 | BatchNorm2d   | 80    \n",
      "15 | model.convs.13 | PReLU         | 1     \n",
      "16 | model.convs.14 | MaxPool2d     | 0     \n",
      "17 | model.convs.15 | Dropout       | 0     \n",
      "18 | model.convs.16 | Conv2d        | 12 K  \n",
      "19 | model.convs.17 | BatchNorm2d   | 160   \n",
      "20 | model.convs.18 | PReLU         | 1     \n",
      "21 | model.convs.19 | MaxPool2d     | 0     \n",
      "22 | model.convs.20 | Dropout       | 0     \n",
      "23 | model.dense    | Sequential    | 72 K  \n",
      "24 | model.dense.0  | Linear        | 70 K  \n",
      "25 | model.dense.1  | PReLU         | 1     \n",
      "26 | model.dense.2  | Dropout       | 0     \n",
      "27 | model.dense.3  | Linear        | 1 K   \n"
     ]
    },
    {
     "data": {
      "application/vnd.jupyter.widget-view+json": {
       "model_id": "",
       "version_major": 2,
       "version_minor": 0
      },
      "text/plain": [
       "HBox(children=(FloatProgress(value=1.0, bar_style='info', description='Validation sanity check', layout=Layout…"
      ]
     },
     "metadata": {},
     "output_type": "display_data"
    },
    {
     "name": "stdout",
     "output_type": "stream",
     "text": [
      "Val-Acc=0.016004742145820983\n"
     ]
    },
    {
     "data": {
      "application/vnd.jupyter.widget-view+json": {
       "model_id": "59e62b9a78e944b886a88f0e2f9f5811",
       "version_major": 2,
       "version_minor": 0
      },
      "text/plain": [
       "HBox(children=(FloatProgress(value=1.0, bar_style='info', description='Training', layout=Layout(flex='2'), max…"
      ]
     },
     "metadata": {},
     "output_type": "display_data"
    },
    {
     "data": {
      "application/vnd.jupyter.widget-view+json": {
       "model_id": "",
       "version_major": 2,
       "version_minor": 0
      },
      "text/plain": [
       "HBox(children=(FloatProgress(value=1.0, bar_style='info', description='Validating', layout=Layout(flex='2'), m…"
      ]
     },
     "metadata": {},
     "output_type": "display_data"
    },
    {
     "name": "stdout",
     "output_type": "stream",
     "text": [
      "Val-Acc=0.7368109069353883\n",
      "Train-Acc=0.7577075098814229\n"
     ]
    },
    {
     "data": {
      "application/vnd.jupyter.widget-view+json": {
       "model_id": "",
       "version_major": 2,
       "version_minor": 0
      },
      "text/plain": [
       "HBox(children=(FloatProgress(value=1.0, bar_style='info', description='Validating', layout=Layout(flex='2'), m…"
      ]
     },
     "metadata": {},
     "output_type": "display_data"
    },
    {
     "name": "stdout",
     "output_type": "stream",
     "text": [
      "Val-Acc=0.8037937166567872\n",
      "Train-Acc=0.792094861660079\n"
     ]
    },
    {
     "data": {
      "application/vnd.jupyter.widget-view+json": {
       "model_id": "",
       "version_major": 2,
       "version_minor": 0
      },
      "text/plain": [
       "HBox(children=(FloatProgress(value=1.0, bar_style='info', description='Validating', layout=Layout(flex='2'), m…"
      ]
     },
     "metadata": {},
     "output_type": "display_data"
    },
    {
     "name": "stdout",
     "output_type": "stream",
     "text": [
      "Val-Acc=0.6864256075874333\n",
      "Train-Acc=0.808498023715415\n"
     ]
    },
    {
     "data": {
      "application/vnd.jupyter.widget-view+json": {
       "model_id": "",
       "version_major": 2,
       "version_minor": 0
      },
      "text/plain": [
       "HBox(children=(FloatProgress(value=1.0, bar_style='info', description='Validating', layout=Layout(flex='2'), m…"
      ]
     },
     "metadata": {},
     "output_type": "display_data"
    },
    {
     "name": "stdout",
     "output_type": "stream",
     "text": [
      "Val-Acc=0.8334321280379372\n",
      "Train-Acc=0.8195652173913044\n"
     ]
    },
    {
     "data": {
      "application/vnd.jupyter.widget-view+json": {
       "model_id": "",
       "version_major": 2,
       "version_minor": 0
      },
      "text/plain": [
       "HBox(children=(FloatProgress(value=1.0, bar_style='info', description='Validating', layout=Layout(flex='2'), m…"
      ]
     },
     "metadata": {},
     "output_type": "display_data"
    },
    {
     "name": "stdout",
     "output_type": "stream",
     "text": [
      "Val-Acc=0.7717842323651453\n",
      "Train-Acc=0.8203557312252965\n"
     ]
    },
    {
     "data": {
      "application/vnd.jupyter.widget-view+json": {
       "model_id": "",
       "version_major": 2,
       "version_minor": 0
      },
      "text/plain": [
       "HBox(children=(FloatProgress(value=1.0, bar_style='info', description='Validating', layout=Layout(flex='2'), m…"
      ]
     },
     "metadata": {},
     "output_type": "display_data"
    },
    {
     "name": "stdout",
     "output_type": "stream",
     "text": [
      "Val-Acc=0.7563722584469472\n",
      "Train-Acc=0.8328063241106719\n"
     ]
    },
    {
     "data": {
      "application/vnd.jupyter.widget-view+json": {
       "model_id": "",
       "version_major": 2,
       "version_minor": 0
      },
      "text/plain": [
       "HBox(children=(FloatProgress(value=1.0, bar_style='info', description='Validating', layout=Layout(flex='2'), m…"
      ]
     },
     "metadata": {},
     "output_type": "display_data"
    },
    {
     "name": "stdout",
     "output_type": "stream",
     "text": [
      "Val-Acc=0.5026674570243035\n",
      "Train-Acc=0.8363636363636363\n"
     ]
    },
    {
     "data": {
      "application/vnd.jupyter.widget-view+json": {
       "model_id": "",
       "version_major": 2,
       "version_minor": 0
      },
      "text/plain": [
       "HBox(children=(FloatProgress(value=1.0, bar_style='info', description='Validating', layout=Layout(flex='2'), m…"
      ]
     },
     "metadata": {},
     "output_type": "display_data"
    },
    {
     "name": "stdout",
     "output_type": "stream",
     "text": [
      "Val-Acc=0.6935388263189093\n",
      "Train-Acc=0.8420948616600791\n"
     ]
    },
    {
     "data": {
      "application/vnd.jupyter.widget-view+json": {
       "model_id": "",
       "version_major": 2,
       "version_minor": 0
      },
      "text/plain": [
       "HBox(children=(FloatProgress(value=1.0, bar_style='info', description='Validating', layout=Layout(flex='2'), m…"
      ]
     },
     "metadata": {},
     "output_type": "display_data"
    },
    {
     "name": "stdout",
     "output_type": "stream",
     "text": [
      "Val-Acc=0.5583876704208655\n",
      "Train-Acc=0.8355731225296442\n"
     ]
    },
    {
     "data": {
      "application/vnd.jupyter.widget-view+json": {
       "model_id": "",
       "version_major": 2,
       "version_minor": 0
      },
      "text/plain": [
       "HBox(children=(FloatProgress(value=1.0, bar_style='info', description='Validating', layout=Layout(flex='2'), m…"
      ]
     },
     "metadata": {},
     "output_type": "display_data"
    },
    {
     "name": "stdout",
     "output_type": "stream",
     "text": [
      "Val-Acc=0.7136929460580913\n",
      "Train-Acc=0.8488142292490118\n"
     ]
    },
    {
     "data": {
      "application/vnd.jupyter.widget-view+json": {
       "model_id": "",
       "version_major": 2,
       "version_minor": 0
      },
      "text/plain": [
       "HBox(children=(FloatProgress(value=1.0, bar_style='info', description='Validating', layout=Layout(flex='2'), m…"
      ]
     },
     "metadata": {},
     "output_type": "display_data"
    },
    {
     "name": "stdout",
     "output_type": "stream",
     "text": [
      "Val-Acc=0.7771191464137522\n",
      "Train-Acc=0.8525691699604743\n"
     ]
    },
    {
     "data": {
      "application/vnd.jupyter.widget-view+json": {
       "model_id": "",
       "version_major": 2,
       "version_minor": 0
      },
      "text/plain": [
       "HBox(children=(FloatProgress(value=1.0, bar_style='info', description='Validating', layout=Layout(flex='2'), m…"
      ]
     },
     "metadata": {},
     "output_type": "display_data"
    },
    {
     "name": "stdout",
     "output_type": "stream",
     "text": [
      "Val-Acc=0.7172495554238293\n",
      "Train-Acc=0.8529644268774703\n"
     ]
    },
    {
     "data": {
      "application/vnd.jupyter.widget-view+json": {
       "model_id": "",
       "version_major": 2,
       "version_minor": 0
      },
      "text/plain": [
       "HBox(children=(FloatProgress(value=1.0, bar_style='info', description='Validating', layout=Layout(flex='2'), m…"
      ]
     },
     "metadata": {},
     "output_type": "display_data"
    },
    {
     "name": "stdout",
     "output_type": "stream",
     "text": [
      "Val-Acc=0.7131001778304683\n",
      "Train-Acc=0.8646245059288538\n"
     ]
    },
    {
     "data": {
      "application/vnd.jupyter.widget-view+json": {
       "model_id": "",
       "version_major": 2,
       "version_minor": 0
      },
      "text/plain": [
       "HBox(children=(FloatProgress(value=1.0, bar_style='info', description='Validating', layout=Layout(flex='2'), m…"
      ]
     },
     "metadata": {},
     "output_type": "display_data"
    },
    {
     "name": "stdout",
     "output_type": "stream",
     "text": [
      "Val-Acc=0.8114997036158862\n",
      "Train-Acc=0.8634387351778656\n"
     ]
    },
    {
     "data": {
      "application/vnd.jupyter.widget-view+json": {
       "model_id": "",
       "version_major": 2,
       "version_minor": 0
      },
      "text/plain": [
       "HBox(children=(FloatProgress(value=1.0, bar_style='info', description='Validating', layout=Layout(flex='2'), m…"
      ]
     },
     "metadata": {},
     "output_type": "display_data"
    },
    {
     "name": "stdout",
     "output_type": "stream",
     "text": [
      "Val-Acc=0.8286899822169532\n",
      "Train-Acc=0.8723320158102766\n"
     ]
    },
    {
     "data": {
      "application/vnd.jupyter.widget-view+json": {
       "model_id": "",
       "version_major": 2,
       "version_minor": 0
      },
      "text/plain": [
       "HBox(children=(FloatProgress(value=1.0, bar_style='info', description='Validating', layout=Layout(flex='2'), m…"
      ]
     },
     "metadata": {},
     "output_type": "display_data"
    },
    {
     "name": "stdout",
     "output_type": "stream",
     "text": [
      "Val-Acc=0.8138707765263782\n",
      "Train-Acc=0.8683794466403162\n"
     ]
    },
    {
     "data": {
      "application/vnd.jupyter.widget-view+json": {
       "model_id": "",
       "version_major": 2,
       "version_minor": 0
      },
      "text/plain": [
       "HBox(children=(FloatProgress(value=1.0, bar_style='info', description='Validating', layout=Layout(flex='2'), m…"
      ]
     },
     "metadata": {},
     "output_type": "display_data"
    },
    {
     "name": "stdout",
     "output_type": "stream",
     "text": [
      "Val-Acc=0.6532305868405454\n",
      "Train-Acc=0.8711462450592885\n"
     ]
    },
    {
     "data": {
      "application/vnd.jupyter.widget-view+json": {
       "model_id": "",
       "version_major": 2,
       "version_minor": 0
      },
      "text/plain": [
       "HBox(children=(FloatProgress(value=1.0, bar_style='info', description='Validating', layout=Layout(flex='2'), m…"
      ]
     },
     "metadata": {},
     "output_type": "display_data"
    },
    {
     "name": "stdout",
     "output_type": "stream",
     "text": [
      "Val-Acc=0.8363959691760522\n",
      "Train-Acc=0.8760869565217392\n"
     ]
    },
    {
     "data": {
      "application/vnd.jupyter.widget-view+json": {
       "model_id": "",
       "version_major": 2,
       "version_minor": 0
      },
      "text/plain": [
       "HBox(children=(FloatProgress(value=1.0, bar_style='info', description='Validating', layout=Layout(flex='2'), m…"
      ]
     },
     "metadata": {},
     "output_type": "display_data"
    },
    {
     "name": "stdout",
     "output_type": "stream",
     "text": [
      "Val-Acc=0.8618850029638412\n",
      "Train-Acc=0.8729249011857707\n"
     ]
    },
    {
     "data": {
      "application/vnd.jupyter.widget-view+json": {
       "model_id": "",
       "version_major": 2,
       "version_minor": 0
      },
      "text/plain": [
       "HBox(children=(FloatProgress(value=1.0, bar_style='info', description='Validating', layout=Layout(flex='2'), m…"
      ]
     },
     "metadata": {},
     "output_type": "display_data"
    },
    {
     "name": "stdout",
     "output_type": "stream",
     "text": [
      "Val-Acc=0.7409602845287493\n",
      "Train-Acc=0.8798418972332016\n",
      "\n",
      "Saved model to \"saved_modelsq/21.p\"\n"
     ]
    },
    {
     "name": "stderr",
     "output_type": "stream",
     "text": [
      "[I 2020-07-20 19:06:24,413] Finished trial#21 with value: 0.7409602845287493 with parameters: {'learning_rate': 0.001940329448470528, 'p_drop': 0.01817002963197996, 'lr_decay': 0.8877174676147858, 'n_hidden': 874, 'weight_decay': 0.00287831239596769}. Best is trial#17 with value: 0.8707765263781861.\n",
      "GPU available: True, used: True\n",
      "No environment variable for node rank defined. Set as 0.\n",
      "CUDA_VISIBLE_DEVICES: [0]\n",
      "Set SLURM handle signals.\n",
      "\n",
      "   | Name           | Type          | Params\n",
      "---------------------------------------------\n",
      "0  | model          | AblationModel | 173 K \n",
      "1  | model.convs    | Sequential    | 114 K \n",
      "2  | model.convs.0  | BatchNorm2d   | 2     \n",
      "3  | model.convs.1  | Conv2d        | 1 K   \n",
      "4  | model.convs.2  | BatchNorm2d   | 20    \n",
      "5  | model.convs.3  | PReLU         | 1     \n",
      "6  | model.convs.4  | MaxPool2d     | 0     \n",
      "7  | model.convs.5  | Dropout       | 0     \n",
      "8  | model.convs.6  | Conv2d        | 20 K  \n",
      "9  | model.convs.7  | BatchNorm2d   | 40    \n",
      "10 | model.convs.8  | PReLU         | 1     \n",
      "11 | model.convs.9  | MaxPool2d     | 0     \n",
      "12 | model.convs.10 | Dropout       | 0     \n",
      "13 | model.convs.11 | Conv2d        | 80 K  \n",
      "14 | model.convs.12 | BatchNorm2d   | 80    \n",
      "15 | model.convs.13 | PReLU         | 1     \n",
      "16 | model.convs.14 | MaxPool2d     | 0     \n",
      "17 | model.convs.15 | Dropout       | 0     \n",
      "18 | model.convs.16 | Conv2d        | 12 K  \n",
      "19 | model.convs.17 | BatchNorm2d   | 160   \n",
      "20 | model.convs.18 | PReLU         | 1     \n",
      "21 | model.convs.19 | MaxPool2d     | 0     \n",
      "22 | model.convs.20 | Dropout       | 0     \n",
      "23 | model.dense    | Sequential    | 58 K  \n",
      "24 | model.dense.0  | Linear        | 57 K  \n",
      "25 | model.dense.1  | PReLU         | 1     \n",
      "26 | model.dense.2  | Dropout       | 0     \n",
      "27 | model.dense.3  | Linear        | 1 K   \n"
     ]
    },
    {
     "data": {
      "application/vnd.jupyter.widget-view+json": {
       "model_id": "",
       "version_major": 2,
       "version_minor": 0
      },
      "text/plain": [
       "HBox(children=(FloatProgress(value=1.0, bar_style='info', description='Validation sanity check', layout=Layout…"
      ]
     },
     "metadata": {},
     "output_type": "display_data"
    },
    {
     "name": "stdout",
     "output_type": "stream",
     "text": [
      "Val-Acc=0.01778304682868998\n"
     ]
    },
    {
     "data": {
      "application/vnd.jupyter.widget-view+json": {
       "model_id": "81bb09967d5b467abc58ab1610303de2",
       "version_major": 2,
       "version_minor": 0
      },
      "text/plain": [
       "HBox(children=(FloatProgress(value=1.0, bar_style='info', description='Training', layout=Layout(flex='2'), max…"
      ]
     },
     "metadata": {},
     "output_type": "display_data"
    },
    {
     "data": {
      "application/vnd.jupyter.widget-view+json": {
       "model_id": "",
       "version_major": 2,
       "version_minor": 0
      },
      "text/plain": [
       "HBox(children=(FloatProgress(value=1.0, bar_style='info', description='Validating', layout=Layout(flex='2'), m…"
      ]
     },
     "metadata": {},
     "output_type": "display_data"
    },
    {
     "name": "stdout",
     "output_type": "stream",
     "text": [
      "Val-Acc=0.6052163604030824\n",
      "Train-Acc=0.700790513833992\n"
     ]
    },
    {
     "data": {
      "application/vnd.jupyter.widget-view+json": {
       "model_id": "",
       "version_major": 2,
       "version_minor": 0
      },
      "text/plain": [
       "HBox(children=(FloatProgress(value=1.0, bar_style='info', description='Validating', layout=Layout(flex='2'), m…"
      ]
     },
     "metadata": {},
     "output_type": "display_data"
    },
    {
     "name": "stdout",
     "output_type": "stream",
     "text": [
      "Val-Acc=0.5743924125666864\n"
     ]
    },
    {
     "name": "stderr",
     "output_type": "stream",
     "text": [
      "[I 2020-07-20 19:06:41,439] Setting status of trial#22 as TrialState.PRUNED. Trial was pruned at epoch 1.\n",
      "GPU available: True, used: True\n",
      "No environment variable for node rank defined. Set as 0.\n",
      "CUDA_VISIBLE_DEVICES: [0]\n",
      "Set SLURM handle signals.\n",
      "\n",
      "   | Name           | Type          | Params\n",
      "---------------------------------------------\n",
      "0  | model          | AblationModel | 196 K \n",
      "1  | model.convs    | Sequential    | 114 K \n",
      "2  | model.convs.0  | BatchNorm2d   | 2     \n",
      "3  | model.convs.1  | Conv2d        | 1 K   \n",
      "4  | model.convs.2  | BatchNorm2d   | 20    \n",
      "5  | model.convs.3  | PReLU         | 1     \n",
      "6  | model.convs.4  | MaxPool2d     | 0     \n",
      "7  | model.convs.5  | Dropout       | 0     \n",
      "8  | model.convs.6  | Conv2d        | 20 K  \n",
      "9  | model.convs.7  | BatchNorm2d   | 40    \n",
      "10 | model.convs.8  | PReLU         | 1     \n",
      "11 | model.convs.9  | MaxPool2d     | 0     \n",
      "12 | model.convs.10 | Dropout       | 0     \n",
      "13 | model.convs.11 | Conv2d        | 80 K  \n",
      "14 | model.convs.12 | BatchNorm2d   | 80    \n",
      "15 | model.convs.13 | PReLU         | 1     \n",
      "16 | model.convs.14 | MaxPool2d     | 0     \n",
      "17 | model.convs.15 | Dropout       | 0     \n",
      "18 | model.convs.16 | Conv2d        | 12 K  \n",
      "19 | model.convs.17 | BatchNorm2d   | 160   \n",
      "20 | model.convs.18 | PReLU         | 1     \n",
      "21 | model.convs.19 | MaxPool2d     | 0     \n",
      "22 | model.convs.20 | Dropout       | 0     \n",
      "23 | model.dense    | Sequential    | 82 K  \n",
      "24 | model.dense.0  | Linear        | 80 K  \n",
      "25 | model.dense.1  | PReLU         | 1     \n",
      "26 | model.dense.2  | Dropout       | 0     \n",
      "27 | model.dense.3  | Linear        | 1 K   \n"
     ]
    },
    {
     "data": {
      "application/vnd.jupyter.widget-view+json": {
       "model_id": "",
       "version_major": 2,
       "version_minor": 0
      },
      "text/plain": [
       "HBox(children=(FloatProgress(value=1.0, bar_style='info', description='Validation sanity check', layout=Layout…"
      ]
     },
     "metadata": {},
     "output_type": "display_data"
    },
    {
     "name": "stdout",
     "output_type": "stream",
     "text": [
      "Val-Acc=0.015411973918197985\n"
     ]
    },
    {
     "data": {
      "application/vnd.jupyter.widget-view+json": {
       "model_id": "a8a1937c2d414fa4970ba5961620e84e",
       "version_major": 2,
       "version_minor": 0
      },
      "text/plain": [
       "HBox(children=(FloatProgress(value=1.0, bar_style='info', description='Training', layout=Layout(flex='2'), max…"
      ]
     },
     "metadata": {},
     "output_type": "display_data"
    },
    {
     "data": {
      "application/vnd.jupyter.widget-view+json": {
       "model_id": "",
       "version_major": 2,
       "version_minor": 0
      },
      "text/plain": [
       "HBox(children=(FloatProgress(value=1.0, bar_style='info', description='Validating', layout=Layout(flex='2'), m…"
      ]
     },
     "metadata": {},
     "output_type": "display_data"
    },
    {
     "name": "stdout",
     "output_type": "stream",
     "text": [
      "Val-Acc=0.7557794902193242\n",
      "Train-Acc=0.717193675889328\n"
     ]
    },
    {
     "data": {
      "application/vnd.jupyter.widget-view+json": {
       "model_id": "",
       "version_major": 2,
       "version_minor": 0
      },
      "text/plain": [
       "HBox(children=(FloatProgress(value=1.0, bar_style='info', description='Validating', layout=Layout(flex='2'), m…"
      ]
     },
     "metadata": {},
     "output_type": "display_data"
    },
    {
     "name": "stdout",
     "output_type": "stream",
     "text": [
      "Val-Acc=0.7599288678126852\n",
      "Train-Acc=0.78300395256917\n"
     ]
    },
    {
     "data": {
      "application/vnd.jupyter.widget-view+json": {
       "model_id": "",
       "version_major": 2,
       "version_minor": 0
      },
      "text/plain": [
       "HBox(children=(FloatProgress(value=1.0, bar_style='info', description='Validating', layout=Layout(flex='2'), m…"
      ]
     },
     "metadata": {},
     "output_type": "display_data"
    },
    {
     "name": "stdout",
     "output_type": "stream",
     "text": [
      "Val-Acc=0.7634854771784232\n",
      "Train-Acc=0.791699604743083\n"
     ]
    },
    {
     "data": {
      "application/vnd.jupyter.widget-view+json": {
       "model_id": "",
       "version_major": 2,
       "version_minor": 0
      },
      "text/plain": [
       "HBox(children=(FloatProgress(value=1.0, bar_style='info', description='Validating', layout=Layout(flex='2'), m…"
      ]
     },
     "metadata": {},
     "output_type": "display_data"
    },
    {
     "name": "stdout",
     "output_type": "stream",
     "text": [
      "Val-Acc=0.8008298755186722\n",
      "Train-Acc=0.8021739130434783\n"
     ]
    },
    {
     "data": {
      "application/vnd.jupyter.widget-view+json": {
       "model_id": "",
       "version_major": 2,
       "version_minor": 0
      },
      "text/plain": [
       "HBox(children=(FloatProgress(value=1.0, bar_style='info', description='Validating', layout=Layout(flex='2'), m…"
      ]
     },
     "metadata": {},
     "output_type": "display_data"
    },
    {
     "name": "stdout",
     "output_type": "stream",
     "text": [
      "Val-Acc=0.6710136336692353\n",
      "Train-Acc=0.8130434782608695\n"
     ]
    },
    {
     "data": {
      "application/vnd.jupyter.widget-view+json": {
       "model_id": "",
       "version_major": 2,
       "version_minor": 0
      },
      "text/plain": [
       "HBox(children=(FloatProgress(value=1.0, bar_style='info', description='Validating', layout=Layout(flex='2'), m…"
      ]
     },
     "metadata": {},
     "output_type": "display_data"
    },
    {
     "name": "stdout",
     "output_type": "stream",
     "text": [
      "Val-Acc=0.7836395969176052\n",
      "Train-Acc=0.8118577075098814\n"
     ]
    },
    {
     "data": {
      "application/vnd.jupyter.widget-view+json": {
       "model_id": "",
       "version_major": 2,
       "version_minor": 0
      },
      "text/plain": [
       "HBox(children=(FloatProgress(value=1.0, bar_style='info', description='Validating', layout=Layout(flex='2'), m…"
      ]
     },
     "metadata": {},
     "output_type": "display_data"
    },
    {
     "name": "stdout",
     "output_type": "stream",
     "text": [
      "Val-Acc=0.7954949614700652\n",
      "Train-Acc=0.8177865612648222\n"
     ]
    },
    {
     "data": {
      "application/vnd.jupyter.widget-view+json": {
       "model_id": "",
       "version_major": 2,
       "version_minor": 0
      },
      "text/plain": [
       "HBox(children=(FloatProgress(value=1.0, bar_style='info', description='Validating', layout=Layout(flex='2'), m…"
      ]
     },
     "metadata": {},
     "output_type": "display_data"
    },
    {
     "name": "stdout",
     "output_type": "stream",
     "text": [
      "Val-Acc=0.7640782454060462\n",
      "Train-Acc=0.8207509881422925\n"
     ]
    },
    {
     "data": {
      "application/vnd.jupyter.widget-view+json": {
       "model_id": "",
       "version_major": 2,
       "version_minor": 0
      },
      "text/plain": [
       "HBox(children=(FloatProgress(value=1.0, bar_style='info', description='Validating', layout=Layout(flex='2'), m…"
      ]
     },
     "metadata": {},
     "output_type": "display_data"
    },
    {
     "name": "stdout",
     "output_type": "stream",
     "text": [
      "Val-Acc=0.7705986959098993\n",
      "Train-Acc=0.8286561264822134\n"
     ]
    },
    {
     "data": {
      "application/vnd.jupyter.widget-view+json": {
       "model_id": "",
       "version_major": 2,
       "version_minor": 0
      },
      "text/plain": [
       "HBox(children=(FloatProgress(value=1.0, bar_style='info', description='Validating', layout=Layout(flex='2'), m…"
      ]
     },
     "metadata": {},
     "output_type": "display_data"
    },
    {
     "name": "stdout",
     "output_type": "stream",
     "text": [
      "Val-Acc=0.7919383521043272\n",
      "Train-Acc=0.8270750988142292\n"
     ]
    },
    {
     "data": {
      "application/vnd.jupyter.widget-view+json": {
       "model_id": "",
       "version_major": 2,
       "version_minor": 0
      },
      "text/plain": [
       "HBox(children=(FloatProgress(value=1.0, bar_style='info', description='Validating', layout=Layout(flex='2'), m…"
      ]
     },
     "metadata": {},
     "output_type": "display_data"
    },
    {
     "name": "stdout",
     "output_type": "stream",
     "text": [
      "Val-Acc=0.7622999407231772\n",
      "Train-Acc=0.8276679841897233\n"
     ]
    },
    {
     "data": {
      "application/vnd.jupyter.widget-view+json": {
       "model_id": "",
       "version_major": 2,
       "version_minor": 0
      },
      "text/plain": [
       "HBox(children=(FloatProgress(value=1.0, bar_style='info', description='Validating', layout=Layout(flex='2'), m…"
      ]
     },
     "metadata": {},
     "output_type": "display_data"
    },
    {
     "name": "stdout",
     "output_type": "stream",
     "text": [
      "Val-Acc=0.8126852400711322\n",
      "Train-Acc=0.8341897233201581\n"
     ]
    },
    {
     "data": {
      "application/vnd.jupyter.widget-view+json": {
       "model_id": "",
       "version_major": 2,
       "version_minor": 0
      },
      "text/plain": [
       "HBox(children=(FloatProgress(value=1.0, bar_style='info', description='Validating', layout=Layout(flex='2'), m…"
      ]
     },
     "metadata": {},
     "output_type": "display_data"
    },
    {
     "name": "stdout",
     "output_type": "stream",
     "text": [
      "Val-Acc=0.7937166567871962\n",
      "Train-Acc=0.8306324110671937\n"
     ]
    },
    {
     "data": {
      "application/vnd.jupyter.widget-view+json": {
       "model_id": "",
       "version_major": 2,
       "version_minor": 0
      },
      "text/plain": [
       "HBox(children=(FloatProgress(value=1.0, bar_style='info', description='Validating', layout=Layout(flex='2'), m…"
      ]
     },
     "metadata": {},
     "output_type": "display_data"
    },
    {
     "name": "stdout",
     "output_type": "stream",
     "text": [
      "Val-Acc=0.7848251333728512\n",
      "Train-Acc=0.8314229249011857\n"
     ]
    },
    {
     "data": {
      "application/vnd.jupyter.widget-view+json": {
       "model_id": "",
       "version_major": 2,
       "version_minor": 0
      },
      "text/plain": [
       "HBox(children=(FloatProgress(value=1.0, bar_style='info', description='Validating', layout=Layout(flex='2'), m…"
      ]
     },
     "metadata": {},
     "output_type": "display_data"
    },
    {
     "name": "stdout",
     "output_type": "stream",
     "text": [
      "Val-Acc=0.7723770005927683\n",
      "Train-Acc=0.8357707509881422\n"
     ]
    },
    {
     "data": {
      "application/vnd.jupyter.widget-view+json": {
       "model_id": "",
       "version_major": 2,
       "version_minor": 0
      },
      "text/plain": [
       "HBox(children=(FloatProgress(value=1.0, bar_style='info', description='Validating', layout=Layout(flex='2'), m…"
      ]
     },
     "metadata": {},
     "output_type": "display_data"
    },
    {
     "name": "stdout",
     "output_type": "stream",
     "text": [
      "Val-Acc=0.7747480735032602\n",
      "Train-Acc=0.8363636363636363\n"
     ]
    },
    {
     "data": {
      "application/vnd.jupyter.widget-view+json": {
       "model_id": "",
       "version_major": 2,
       "version_minor": 0
      },
      "text/plain": [
       "HBox(children=(FloatProgress(value=1.0, bar_style='info', description='Validating', layout=Layout(flex='2'), m…"
      ]
     },
     "metadata": {},
     "output_type": "display_data"
    },
    {
     "name": "stdout",
     "output_type": "stream",
     "text": [
      "Val-Acc=0.8079430942501482\n",
      "Train-Acc=0.8371541501976285\n"
     ]
    },
    {
     "data": {
      "application/vnd.jupyter.widget-view+json": {
       "model_id": "",
       "version_major": 2,
       "version_minor": 0
      },
      "text/plain": [
       "HBox(children=(FloatProgress(value=1.0, bar_style='info', description='Validating', layout=Layout(flex='2'), m…"
      ]
     },
     "metadata": {},
     "output_type": "display_data"
    },
    {
     "name": "stdout",
     "output_type": "stream",
     "text": [
      "Val-Acc=0.6982809721398933\n",
      "Train-Acc=0.8326086956521739\n"
     ]
    },
    {
     "data": {
      "application/vnd.jupyter.widget-view+json": {
       "model_id": "",
       "version_major": 2,
       "version_minor": 0
      },
      "text/plain": [
       "HBox(children=(FloatProgress(value=1.0, bar_style='info', description='Validating', layout=Layout(flex='2'), m…"
      ]
     },
     "metadata": {},
     "output_type": "display_data"
    },
    {
     "name": "stdout",
     "output_type": "stream",
     "text": [
      "Val-Acc=0.7830468286899822\n",
      "Train-Acc=0.8363636363636363\n"
     ]
    },
    {
     "data": {
      "application/vnd.jupyter.widget-view+json": {
       "model_id": "",
       "version_major": 2,
       "version_minor": 0
      },
      "text/plain": [
       "HBox(children=(FloatProgress(value=1.0, bar_style='info', description='Validating', layout=Layout(flex='2'), m…"
      ]
     },
     "metadata": {},
     "output_type": "display_data"
    },
    {
     "name": "stdout",
     "output_type": "stream",
     "text": [
      "Val-Acc=0.8458802608180201\n",
      "Train-Acc=0.8393280632411068\n",
      "\n",
      "Saved model to \"saved_modelsq/23.p\"\n"
     ]
    },
    {
     "name": "stderr",
     "output_type": "stream",
     "text": [
      "[I 2020-07-20 19:09:28,449] Finished trial#23 with value: 0.8458802608180201 with parameters: {'learning_rate': 0.00021405429141858984, 'p_drop': 0.284012373715048, 'lr_decay': 0.8399089881049153, 'n_hidden': 993, 'weight_decay': 0.01792344243654316}. Best is trial#17 with value: 0.8707765263781861.\n",
      "GPU available: True, used: True\n",
      "No environment variable for node rank defined. Set as 0.\n",
      "CUDA_VISIBLE_DEVICES: [0]\n",
      "Set SLURM handle signals.\n",
      "\n",
      "   | Name           | Type          | Params\n",
      "---------------------------------------------\n",
      "0  | model          | AblationModel | 196 K \n",
      "1  | model.convs    | Sequential    | 114 K \n",
      "2  | model.convs.0  | BatchNorm2d   | 2     \n",
      "3  | model.convs.1  | Conv2d        | 1 K   \n",
      "4  | model.convs.2  | BatchNorm2d   | 20    \n",
      "5  | model.convs.3  | PReLU         | 1     \n",
      "6  | model.convs.4  | MaxPool2d     | 0     \n",
      "7  | model.convs.5  | Dropout       | 0     \n",
      "8  | model.convs.6  | Conv2d        | 20 K  \n",
      "9  | model.convs.7  | BatchNorm2d   | 40    \n",
      "10 | model.convs.8  | PReLU         | 1     \n",
      "11 | model.convs.9  | MaxPool2d     | 0     \n",
      "12 | model.convs.10 | Dropout       | 0     \n",
      "13 | model.convs.11 | Conv2d        | 80 K  \n",
      "14 | model.convs.12 | BatchNorm2d   | 80    \n",
      "15 | model.convs.13 | PReLU         | 1     \n",
      "16 | model.convs.14 | MaxPool2d     | 0     \n",
      "17 | model.convs.15 | Dropout       | 0     \n",
      "18 | model.convs.16 | Conv2d        | 12 K  \n",
      "19 | model.convs.17 | BatchNorm2d   | 160   \n",
      "20 | model.convs.18 | PReLU         | 1     \n",
      "21 | model.convs.19 | MaxPool2d     | 0     \n",
      "22 | model.convs.20 | Dropout       | 0     \n",
      "23 | model.dense    | Sequential    | 81 K  \n",
      "24 | model.dense.0  | Linear        | 79 K  \n",
      "25 | model.dense.1  | PReLU         | 1     \n",
      "26 | model.dense.2  | Dropout       | 0     \n",
      "27 | model.dense.3  | Linear        | 1 K   \n"
     ]
    },
    {
     "data": {
      "application/vnd.jupyter.widget-view+json": {
       "model_id": "",
       "version_major": 2,
       "version_minor": 0
      },
      "text/plain": [
       "HBox(children=(FloatProgress(value=1.0, bar_style='info', description='Validation sanity check', layout=Layout…"
      ]
     },
     "metadata": {},
     "output_type": "display_data"
    },
    {
     "name": "stdout",
     "output_type": "stream",
     "text": [
      "Val-Acc=0.01956135151155898\n"
     ]
    },
    {
     "data": {
      "application/vnd.jupyter.widget-view+json": {
       "model_id": "2a252ba9b7c647d48880d99cfdce1e5c",
       "version_major": 2,
       "version_minor": 0
      },
      "text/plain": [
       "HBox(children=(FloatProgress(value=1.0, bar_style='info', description='Training', layout=Layout(flex='2'), max…"
      ]
     },
     "metadata": {},
     "output_type": "display_data"
    },
    {
     "data": {
      "application/vnd.jupyter.widget-view+json": {
       "model_id": "",
       "version_major": 2,
       "version_minor": 0
      },
      "text/plain": [
       "HBox(children=(FloatProgress(value=1.0, bar_style='info', description='Validating', layout=Layout(flex='2'), m…"
      ]
     },
     "metadata": {},
     "output_type": "display_data"
    },
    {
     "name": "stdout",
     "output_type": "stream",
     "text": [
      "Val-Acc=0.6911677534084173\n",
      "Train-Acc=0.7021739130434783\n"
     ]
    },
    {
     "data": {
      "application/vnd.jupyter.widget-view+json": {
       "model_id": "",
       "version_major": 2,
       "version_minor": 0
      },
      "text/plain": [
       "HBox(children=(FloatProgress(value=1.0, bar_style='info', description='Validating', layout=Layout(flex='2'), m…"
      ]
     },
     "metadata": {},
     "output_type": "display_data"
    },
    {
     "name": "stdout",
     "output_type": "stream",
     "text": [
      "Val-Acc=0.7593360995850622\n",
      "Train-Acc=0.7573122529644268\n"
     ]
    },
    {
     "data": {
      "application/vnd.jupyter.widget-view+json": {
       "model_id": "",
       "version_major": 2,
       "version_minor": 0
      },
      "text/plain": [
       "HBox(children=(FloatProgress(value=1.0, bar_style='info', description='Validating', layout=Layout(flex='2'), m…"
      ]
     },
     "metadata": {},
     "output_type": "display_data"
    },
    {
     "name": "stdout",
     "output_type": "stream",
     "text": [
      "Val-Acc=0.7344398340248963\n",
      "Train-Acc=0.7818181818181819\n"
     ]
    },
    {
     "data": {
      "application/vnd.jupyter.widget-view+json": {
       "model_id": "",
       "version_major": 2,
       "version_minor": 0
      },
      "text/plain": [
       "HBox(children=(FloatProgress(value=1.0, bar_style='info', description='Validating', layout=Layout(flex='2'), m…"
      ]
     },
     "metadata": {},
     "output_type": "display_data"
    },
    {
     "name": "stdout",
     "output_type": "stream",
     "text": [
      "Val-Acc=0.7433313574392413\n",
      "Train-Acc=0.792094861660079\n"
     ]
    },
    {
     "data": {
      "application/vnd.jupyter.widget-view+json": {
       "model_id": "",
       "version_major": 2,
       "version_minor": 0
      },
      "text/plain": [
       "HBox(children=(FloatProgress(value=1.0, bar_style='info', description='Validating', layout=Layout(flex='2'), m…"
      ]
     },
     "metadata": {},
     "output_type": "display_data"
    },
    {
     "name": "stdout",
     "output_type": "stream",
     "text": [
      "Val-Acc=0.7457024303497333\n",
      "Train-Acc=0.799802371541502\n"
     ]
    },
    {
     "data": {
      "application/vnd.jupyter.widget-view+json": {
       "model_id": "",
       "version_major": 2,
       "version_minor": 0
      },
      "text/plain": [
       "HBox(children=(FloatProgress(value=1.0, bar_style='info', description='Validating', layout=Layout(flex='2'), m…"
      ]
     },
     "metadata": {},
     "output_type": "display_data"
    },
    {
     "name": "stdout",
     "output_type": "stream",
     "text": [
      "Val-Acc=0.7765263781861292\n",
      "Train-Acc=0.8033596837944664\n"
     ]
    },
    {
     "data": {
      "application/vnd.jupyter.widget-view+json": {
       "model_id": "",
       "version_major": 2,
       "version_minor": 0
      },
      "text/plain": [
       "HBox(children=(FloatProgress(value=1.0, bar_style='info', description='Validating', layout=Layout(flex='2'), m…"
      ]
     },
     "metadata": {},
     "output_type": "display_data"
    },
    {
     "name": "stdout",
     "output_type": "stream",
     "text": [
      "Val-Acc=0.7711914641375223\n",
      "Train-Acc=0.8043478260869565\n"
     ]
    },
    {
     "data": {
      "application/vnd.jupyter.widget-view+json": {
       "model_id": "",
       "version_major": 2,
       "version_minor": 0
      },
      "text/plain": [
       "HBox(children=(FloatProgress(value=1.0, bar_style='info', description='Validating', layout=Layout(flex='2'), m…"
      ]
     },
     "metadata": {},
     "output_type": "display_data"
    },
    {
     "name": "stdout",
     "output_type": "stream",
     "text": [
      "Val-Acc=0.7628927089508002\n",
      "Train-Acc=0.8029644268774704\n"
     ]
    },
    {
     "data": {
      "application/vnd.jupyter.widget-view+json": {
       "model_id": "",
       "version_major": 2,
       "version_minor": 0
      },
      "text/plain": [
       "HBox(children=(FloatProgress(value=1.0, bar_style='info', description='Validating', layout=Layout(flex='2'), m…"
      ]
     },
     "metadata": {},
     "output_type": "display_data"
    },
    {
     "name": "stdout",
     "output_type": "stream",
     "text": [
      "Val-Acc=0.7581505631298162\n",
      "Train-Acc=0.8021739130434783\n"
     ]
    },
    {
     "data": {
      "application/vnd.jupyter.widget-view+json": {
       "model_id": "",
       "version_major": 2,
       "version_minor": 0
      },
      "text/plain": [
       "HBox(children=(FloatProgress(value=1.0, bar_style='info', description='Validating', layout=Layout(flex='2'), m…"
      ]
     },
     "metadata": {},
     "output_type": "display_data"
    },
    {
     "name": "stdout",
     "output_type": "stream",
     "text": [
      "Val-Acc=0.8073503260225252\n",
      "Train-Acc=0.808695652173913\n"
     ]
    },
    {
     "data": {
      "application/vnd.jupyter.widget-view+json": {
       "model_id": "",
       "version_major": 2,
       "version_minor": 0
      },
      "text/plain": [
       "HBox(children=(FloatProgress(value=1.0, bar_style='info', description='Validating', layout=Layout(flex='2'), m…"
      ]
     },
     "metadata": {},
     "output_type": "display_data"
    },
    {
     "name": "stdout",
     "output_type": "stream",
     "text": [
      "Val-Acc=0.7836395969176052\n",
      "Train-Acc=0.8100790513833992\n"
     ]
    },
    {
     "data": {
      "application/vnd.jupyter.widget-view+json": {
       "model_id": "",
       "version_major": 2,
       "version_minor": 0
      },
      "text/plain": [
       "HBox(children=(FloatProgress(value=1.0, bar_style='info', description='Validating', layout=Layout(flex='2'), m…"
      ]
     },
     "metadata": {},
     "output_type": "display_data"
    },
    {
     "name": "stdout",
     "output_type": "stream",
     "text": [
      "Val-Acc=0.7498518079430943\n",
      "Train-Acc=0.8124505928853755\n"
     ]
    },
    {
     "data": {
      "application/vnd.jupyter.widget-view+json": {
       "model_id": "",
       "version_major": 2,
       "version_minor": 0
      },
      "text/plain": [
       "HBox(children=(FloatProgress(value=1.0, bar_style='info', description='Validating', layout=Layout(flex='2'), m…"
      ]
     },
     "metadata": {},
     "output_type": "display_data"
    },
    {
     "name": "stdout",
     "output_type": "stream",
     "text": [
      "Val-Acc=0.8073503260225252\n",
      "Train-Acc=0.8207509881422925\n"
     ]
    },
    {
     "data": {
      "application/vnd.jupyter.widget-view+json": {
       "model_id": "",
       "version_major": 2,
       "version_minor": 0
      },
      "text/plain": [
       "HBox(children=(FloatProgress(value=1.0, bar_style='info', description='Validating', layout=Layout(flex='2'), m…"
      ]
     },
     "metadata": {},
     "output_type": "display_data"
    },
    {
     "name": "stdout",
     "output_type": "stream",
     "text": [
      "Val-Acc=0.7931238885595732\n",
      "Train-Acc=0.8106719367588933\n"
     ]
    },
    {
     "data": {
      "application/vnd.jupyter.widget-view+json": {
       "model_id": "",
       "version_major": 2,
       "version_minor": 0
      },
      "text/plain": [
       "HBox(children=(FloatProgress(value=1.0, bar_style='info', description='Validating', layout=Layout(flex='2'), m…"
      ]
     },
     "metadata": {},
     "output_type": "display_data"
    },
    {
     "name": "stdout",
     "output_type": "stream",
     "text": [
      "Val-Acc=0.7705986959098993\n",
      "Train-Acc=0.8181818181818182\n"
     ]
    },
    {
     "data": {
      "application/vnd.jupyter.widget-view+json": {
       "model_id": "",
       "version_major": 2,
       "version_minor": 0
      },
      "text/plain": [
       "HBox(children=(FloatProgress(value=1.0, bar_style='info', description='Validating', layout=Layout(flex='2'), m…"
      ]
     },
     "metadata": {},
     "output_type": "display_data"
    },
    {
     "name": "stdout",
     "output_type": "stream",
     "text": [
      "Val-Acc=0.8026081802015412\n",
      "Train-Acc=0.8118577075098814\n"
     ]
    },
    {
     "data": {
      "application/vnd.jupyter.widget-view+json": {
       "model_id": "",
       "version_major": 2,
       "version_minor": 0
      },
      "text/plain": [
       "HBox(children=(FloatProgress(value=1.0, bar_style='info', description='Validating', layout=Layout(flex='2'), m…"
      ]
     },
     "metadata": {},
     "output_type": "display_data"
    },
    {
     "name": "stdout",
     "output_type": "stream",
     "text": [
      "Val-Acc=0.7895672791938352\n",
      "Train-Acc=0.8175889328063242\n"
     ]
    },
    {
     "data": {
      "application/vnd.jupyter.widget-view+json": {
       "model_id": "",
       "version_major": 2,
       "version_minor": 0
      },
      "text/plain": [
       "HBox(children=(FloatProgress(value=1.0, bar_style='info', description='Validating', layout=Layout(flex='2'), m…"
      ]
     },
     "metadata": {},
     "output_type": "display_data"
    },
    {
     "name": "stdout",
     "output_type": "stream",
     "text": [
      "Val-Acc=0.7741553052756373\n",
      "Train-Acc=0.8100790513833992\n"
     ]
    },
    {
     "data": {
      "application/vnd.jupyter.widget-view+json": {
       "model_id": "",
       "version_major": 2,
       "version_minor": 0
      },
      "text/plain": [
       "HBox(children=(FloatProgress(value=1.0, bar_style='info', description='Validating', layout=Layout(flex='2'), m…"
      ]
     },
     "metadata": {},
     "output_type": "display_data"
    },
    {
     "name": "stdout",
     "output_type": "stream",
     "text": [
      "Val-Acc=0.7664493183165383\n",
      "Train-Acc=0.8227272727272728\n"
     ]
    },
    {
     "data": {
      "application/vnd.jupyter.widget-view+json": {
       "model_id": "",
       "version_major": 2,
       "version_minor": 0
      },
      "text/plain": [
       "HBox(children=(FloatProgress(value=1.0, bar_style='info', description='Validating', layout=Layout(flex='2'), m…"
      ]
     },
     "metadata": {},
     "output_type": "display_data"
    },
    {
     "name": "stdout",
     "output_type": "stream",
     "text": [
      "Val-Acc=0.7978660343805573\n",
      "Train-Acc=0.8197628458498024\n",
      "\n",
      "Saved model to \"saved_modelsq/24.p\"\n"
     ]
    },
    {
     "name": "stderr",
     "output_type": "stream",
     "text": [
      "[I 2020-07-20 19:12:15,846] Finished trial#24 with value: 0.7978660343805573 with parameters: {'learning_rate': 0.00018255300217820427, 'p_drop': 0.4243600347331111, 'lr_decay': 0.8342694849275587, 'n_hidden': 985, 'weight_decay': 0.019184321485439762}. Best is trial#17 with value: 0.8707765263781861.\n",
      "GPU available: True, used: True\n",
      "No environment variable for node rank defined. Set as 0.\n",
      "CUDA_VISIBLE_DEVICES: [0]\n",
      "Set SLURM handle signals.\n",
      "\n",
      "   | Name           | Type          | Params\n",
      "---------------------------------------------\n",
      "0  | model          | AblationModel | 177 K \n",
      "1  | model.convs    | Sequential    | 114 K \n",
      "2  | model.convs.0  | BatchNorm2d   | 2     \n",
      "3  | model.convs.1  | Conv2d        | 1 K   \n",
      "4  | model.convs.2  | BatchNorm2d   | 20    \n",
      "5  | model.convs.3  | PReLU         | 1     \n",
      "6  | model.convs.4  | MaxPool2d     | 0     \n",
      "7  | model.convs.5  | Dropout       | 0     \n",
      "8  | model.convs.6  | Conv2d        | 20 K  \n",
      "9  | model.convs.7  | BatchNorm2d   | 40    \n",
      "10 | model.convs.8  | PReLU         | 1     \n",
      "11 | model.convs.9  | MaxPool2d     | 0     \n",
      "12 | model.convs.10 | Dropout       | 0     \n",
      "13 | model.convs.11 | Conv2d        | 80 K  \n",
      "14 | model.convs.12 | BatchNorm2d   | 80    \n",
      "15 | model.convs.13 | PReLU         | 1     \n",
      "16 | model.convs.14 | MaxPool2d     | 0     \n",
      "17 | model.convs.15 | Dropout       | 0     \n",
      "18 | model.convs.16 | Conv2d        | 12 K  \n",
      "19 | model.convs.17 | BatchNorm2d   | 160   \n",
      "20 | model.convs.18 | PReLU         | 1     \n",
      "21 | model.convs.19 | MaxPool2d     | 0     \n",
      "22 | model.convs.20 | Dropout       | 0     \n",
      "23 | model.dense    | Sequential    | 63 K  \n",
      "24 | model.dense.0  | Linear        | 61 K  \n",
      "25 | model.dense.1  | PReLU         | 1     \n",
      "26 | model.dense.2  | Dropout       | 0     \n",
      "27 | model.dense.3  | Linear        | 1 K   \n"
     ]
    },
    {
     "data": {
      "application/vnd.jupyter.widget-view+json": {
       "model_id": "",
       "version_major": 2,
       "version_minor": 0
      },
      "text/plain": [
       "HBox(children=(FloatProgress(value=1.0, bar_style='info', description='Validation sanity check', layout=Layout…"
      ]
     },
     "metadata": {},
     "output_type": "display_data"
    },
    {
     "name": "stdout",
     "output_type": "stream",
     "text": [
      "Val-Acc=0.023710729104919975\n"
     ]
    },
    {
     "data": {
      "application/vnd.jupyter.widget-view+json": {
       "model_id": "ef3be14c0ae046a2bfd7799951dd3f92",
       "version_major": 2,
       "version_minor": 0
      },
      "text/plain": [
       "HBox(children=(FloatProgress(value=1.0, bar_style='info', description='Training', layout=Layout(flex='2'), max…"
      ]
     },
     "metadata": {},
     "output_type": "display_data"
    },
    {
     "data": {
      "application/vnd.jupyter.widget-view+json": {
       "model_id": "",
       "version_major": 2,
       "version_minor": 0
      },
      "text/plain": [
       "HBox(children=(FloatProgress(value=1.0, bar_style='info', description='Validating', layout=Layout(flex='2'), m…"
      ]
     },
     "metadata": {},
     "output_type": "display_data"
    },
    {
     "name": "stdout",
     "output_type": "stream",
     "text": [
      "Val-Acc=0.6378186129223473\n",
      "Train-Acc=0.6675889328063241\n"
     ]
    },
    {
     "data": {
      "application/vnd.jupyter.widget-view+json": {
       "model_id": "",
       "version_major": 2,
       "version_minor": 0
      },
      "text/plain": [
       "HBox(children=(FloatProgress(value=1.0, bar_style='info', description='Validating', layout=Layout(flex='2'), m…"
      ]
     },
     "metadata": {},
     "output_type": "display_data"
    },
    {
     "name": "stdout",
     "output_type": "stream",
     "text": [
      "Val-Acc=0.6312981624184943\n"
     ]
    },
    {
     "name": "stderr",
     "output_type": "stream",
     "text": [
      "[I 2020-07-20 19:12:32,815] Setting status of trial#25 as TrialState.PRUNED. Trial was pruned at epoch 1.\n",
      "GPU available: True, used: True\n",
      "No environment variable for node rank defined. Set as 0.\n",
      "CUDA_VISIBLE_DEVICES: [0]\n",
      "Set SLURM handle signals.\n",
      "\n",
      "   | Name           | Type          | Params\n",
      "---------------------------------------------\n",
      "0  | model          | AblationModel | 167 K \n",
      "1  | model.convs    | Sequential    | 114 K \n",
      "2  | model.convs.0  | BatchNorm2d   | 2     \n",
      "3  | model.convs.1  | Conv2d        | 1 K   \n",
      "4  | model.convs.2  | BatchNorm2d   | 20    \n",
      "5  | model.convs.3  | PReLU         | 1     \n",
      "6  | model.convs.4  | MaxPool2d     | 0     \n",
      "7  | model.convs.5  | Dropout       | 0     \n",
      "8  | model.convs.6  | Conv2d        | 20 K  \n",
      "9  | model.convs.7  | BatchNorm2d   | 40    \n",
      "10 | model.convs.8  | PReLU         | 1     \n",
      "11 | model.convs.9  | MaxPool2d     | 0     \n",
      "12 | model.convs.10 | Dropout       | 0     \n",
      "13 | model.convs.11 | Conv2d        | 80 K  \n",
      "14 | model.convs.12 | BatchNorm2d   | 80    \n",
      "15 | model.convs.13 | PReLU         | 1     \n",
      "16 | model.convs.14 | MaxPool2d     | 0     \n",
      "17 | model.convs.15 | Dropout       | 0     \n",
      "18 | model.convs.16 | Conv2d        | 12 K  \n",
      "19 | model.convs.17 | BatchNorm2d   | 160   \n",
      "20 | model.convs.18 | PReLU         | 1     \n",
      "21 | model.convs.19 | MaxPool2d     | 0     \n",
      "22 | model.convs.20 | Dropout       | 0     \n",
      "23 | model.dense    | Sequential    | 53 K  \n",
      "24 | model.dense.0  | Linear        | 51 K  \n",
      "25 | model.dense.1  | PReLU         | 1     \n",
      "26 | model.dense.2  | Dropout       | 0     \n",
      "27 | model.dense.3  | Linear        | 1 K   \n"
     ]
    },
    {
     "data": {
      "application/vnd.jupyter.widget-view+json": {
       "model_id": "",
       "version_major": 2,
       "version_minor": 0
      },
      "text/plain": [
       "HBox(children=(FloatProgress(value=1.0, bar_style='info', description='Validation sanity check', layout=Layout…"
      ]
     },
     "metadata": {},
     "output_type": "display_data"
    },
    {
     "name": "stdout",
     "output_type": "stream",
     "text": [
      "Val-Acc=0.02133965619442798\n"
     ]
    },
    {
     "data": {
      "application/vnd.jupyter.widget-view+json": {
       "model_id": "9c2735f712c94779bd683445265f54c9",
       "version_major": 2,
       "version_minor": 0
      },
      "text/plain": [
       "HBox(children=(FloatProgress(value=1.0, bar_style='info', description='Training', layout=Layout(flex='2'), max…"
      ]
     },
     "metadata": {},
     "output_type": "display_data"
    },
    {
     "data": {
      "application/vnd.jupyter.widget-view+json": {
       "model_id": "",
       "version_major": 2,
       "version_minor": 0
      },
      "text/plain": [
       "HBox(children=(FloatProgress(value=1.0, bar_style='info', description='Validating', layout=Layout(flex='2'), m…"
      ]
     },
     "metadata": {},
     "output_type": "display_data"
    },
    {
     "name": "stdout",
     "output_type": "stream",
     "text": [
      "Val-Acc=0.7379964433906343\n",
      "Train-Acc=0.7351778656126482\n"
     ]
    },
    {
     "data": {
      "application/vnd.jupyter.widget-view+json": {
       "model_id": "",
       "version_major": 2,
       "version_minor": 0
      },
      "text/plain": [
       "HBox(children=(FloatProgress(value=1.0, bar_style='info', description='Validating', layout=Layout(flex='2'), m…"
      ]
     },
     "metadata": {},
     "output_type": "display_data"
    },
    {
     "name": "stdout",
     "output_type": "stream",
     "text": [
      "Val-Acc=0.7694131594546533\n",
      "Train-Acc=0.7794466403162056\n"
     ]
    },
    {
     "data": {
      "application/vnd.jupyter.widget-view+json": {
       "model_id": "",
       "version_major": 2,
       "version_minor": 0
      },
      "text/plain": [
       "HBox(children=(FloatProgress(value=1.0, bar_style='info', description='Validating', layout=Layout(flex='2'), m…"
      ]
     },
     "metadata": {},
     "output_type": "display_data"
    },
    {
     "name": "stdout",
     "output_type": "stream",
     "text": [
      "Val-Acc=0.7136929460580913\n",
      "Train-Acc=0.7938735177865612\n"
     ]
    },
    {
     "data": {
      "application/vnd.jupyter.widget-view+json": {
       "model_id": "",
       "version_major": 2,
       "version_minor": 0
      },
      "text/plain": [
       "HBox(children=(FloatProgress(value=1.0, bar_style='info', description='Validating', layout=Layout(flex='2'), m…"
      ]
     },
     "metadata": {},
     "output_type": "display_data"
    },
    {
     "name": "stdout",
     "output_type": "stream",
     "text": [
      "Val-Acc=0.7563722584469472\n",
      "Train-Acc=0.8077075098814229\n"
     ]
    },
    {
     "data": {
      "application/vnd.jupyter.widget-view+json": {
       "model_id": "",
       "version_major": 2,
       "version_minor": 0
      },
      "text/plain": [
       "HBox(children=(FloatProgress(value=1.0, bar_style='info', description='Validating', layout=Layout(flex='2'), m…"
      ]
     },
     "metadata": {},
     "output_type": "display_data"
    },
    {
     "name": "stdout",
     "output_type": "stream",
     "text": [
      "Val-Acc=0.7474807350326023\n",
      "Train-Acc=0.8142292490118577\n"
     ]
    },
    {
     "data": {
      "application/vnd.jupyter.widget-view+json": {
       "model_id": "",
       "version_major": 2,
       "version_minor": 0
      },
      "text/plain": [
       "HBox(children=(FloatProgress(value=1.0, bar_style='info', description='Validating', layout=Layout(flex='2'), m…"
      ]
     },
     "metadata": {},
     "output_type": "display_data"
    },
    {
     "name": "stdout",
     "output_type": "stream",
     "text": [
      "Val-Acc=0.7285121517486662\n",
      "Train-Acc=0.8225296442687747\n"
     ]
    },
    {
     "data": {
      "application/vnd.jupyter.widget-view+json": {
       "model_id": "",
       "version_major": 2,
       "version_minor": 0
      },
      "text/plain": [
       "HBox(children=(FloatProgress(value=1.0, bar_style='info', description='Validating', layout=Layout(flex='2'), m…"
      ]
     },
     "metadata": {},
     "output_type": "display_data"
    },
    {
     "name": "stdout",
     "output_type": "stream",
     "text": [
      "Val-Acc=0.7190278601066983\n",
      "Train-Acc=0.8215415019762846\n"
     ]
    },
    {
     "data": {
      "application/vnd.jupyter.widget-view+json": {
       "model_id": "",
       "version_major": 2,
       "version_minor": 0
      },
      "text/plain": [
       "HBox(children=(FloatProgress(value=1.0, bar_style='info', description='Validating', layout=Layout(flex='2'), m…"
      ]
     },
     "metadata": {},
     "output_type": "display_data"
    },
    {
     "name": "stdout",
     "output_type": "stream",
     "text": [
      "Val-Acc=0.7338470657972732\n"
     ]
    },
    {
     "name": "stderr",
     "output_type": "stream",
     "text": [
      "[I 2020-07-20 19:13:39,576] Setting status of trial#26 as TrialState.PRUNED. Trial was pruned at epoch 7.\n",
      "GPU available: True, used: True\n",
      "No environment variable for node rank defined. Set as 0.\n",
      "CUDA_VISIBLE_DEVICES: [0]\n",
      "Set SLURM handle signals.\n",
      "\n",
      "   | Name           | Type          | Params\n",
      "---------------------------------------------\n",
      "0  | model          | AblationModel | 196 K \n",
      "1  | model.convs    | Sequential    | 114 K \n",
      "2  | model.convs.0  | BatchNorm2d   | 2     \n",
      "3  | model.convs.1  | Conv2d        | 1 K   \n",
      "4  | model.convs.2  | BatchNorm2d   | 20    \n",
      "5  | model.convs.3  | PReLU         | 1     \n",
      "6  | model.convs.4  | MaxPool2d     | 0     \n",
      "7  | model.convs.5  | Dropout       | 0     \n",
      "8  | model.convs.6  | Conv2d        | 20 K  \n",
      "9  | model.convs.7  | BatchNorm2d   | 40    \n",
      "10 | model.convs.8  | PReLU         | 1     \n",
      "11 | model.convs.9  | MaxPool2d     | 0     \n",
      "12 | model.convs.10 | Dropout       | 0     \n",
      "13 | model.convs.11 | Conv2d        | 80 K  \n",
      "14 | model.convs.12 | BatchNorm2d   | 80    \n",
      "15 | model.convs.13 | PReLU         | 1     \n",
      "16 | model.convs.14 | MaxPool2d     | 0     \n",
      "17 | model.convs.15 | Dropout       | 0     \n",
      "18 | model.convs.16 | Conv2d        | 12 K  \n",
      "19 | model.convs.17 | BatchNorm2d   | 160   \n",
      "20 | model.convs.18 | PReLU         | 1     \n",
      "21 | model.convs.19 | MaxPool2d     | 0     \n",
      "22 | model.convs.20 | Dropout       | 0     \n",
      "23 | model.dense    | Sequential    | 81 K  \n",
      "24 | model.dense.0  | Linear        | 79 K  \n",
      "25 | model.dense.1  | PReLU         | 1     \n",
      "26 | model.dense.2  | Dropout       | 0     \n",
      "27 | model.dense.3  | Linear        | 1 K   \n"
     ]
    },
    {
     "data": {
      "application/vnd.jupyter.widget-view+json": {
       "model_id": "",
       "version_major": 2,
       "version_minor": 0
      },
      "text/plain": [
       "HBox(children=(FloatProgress(value=1.0, bar_style='info', description='Validation sanity check', layout=Layout…"
      ]
     },
     "metadata": {},
     "output_type": "display_data"
    },
    {
     "name": "stdout",
     "output_type": "stream",
     "text": [
      "Val-Acc=0.018375815056312982\n"
     ]
    },
    {
     "data": {
      "application/vnd.jupyter.widget-view+json": {
       "model_id": "217fecaddfc8467a9afe70d82da5159c",
       "version_major": 2,
       "version_minor": 0
      },
      "text/plain": [
       "HBox(children=(FloatProgress(value=1.0, bar_style='info', description='Training', layout=Layout(flex='2'), max…"
      ]
     },
     "metadata": {},
     "output_type": "display_data"
    },
    {
     "data": {
      "application/vnd.jupyter.widget-view+json": {
       "model_id": "",
       "version_major": 2,
       "version_minor": 0
      },
      "text/plain": [
       "HBox(children=(FloatProgress(value=1.0, bar_style='info', description='Validating', layout=Layout(flex='2'), m…"
      ]
     },
     "metadata": {},
     "output_type": "display_data"
    },
    {
     "name": "stdout",
     "output_type": "stream",
     "text": [
      "Val-Acc=0.5192649673977475\n",
      "Train-Acc=0.7037549407114625\n"
     ]
    },
    {
     "data": {
      "application/vnd.jupyter.widget-view+json": {
       "model_id": "",
       "version_major": 2,
       "version_minor": 0
      },
      "text/plain": [
       "HBox(children=(FloatProgress(value=1.0, bar_style='info', description='Validating', layout=Layout(flex='2'), m…"
      ]
     },
     "metadata": {},
     "output_type": "display_data"
    },
    {
     "name": "stdout",
     "output_type": "stream",
     "text": [
      "Val-Acc=0.6799051570835803\n"
     ]
    },
    {
     "name": "stderr",
     "output_type": "stream",
     "text": [
      "[I 2020-07-20 19:13:56,675] Setting status of trial#27 as TrialState.PRUNED. Trial was pruned at epoch 1.\n",
      "GPU available: True, used: True\n",
      "No environment variable for node rank defined. Set as 0.\n",
      "CUDA_VISIBLE_DEVICES: [0]\n",
      "Set SLURM handle signals.\n",
      "\n",
      "   | Name           | Type          | Params\n",
      "---------------------------------------------\n",
      "0  | model          | AblationModel | 186 K \n",
      "1  | model.convs    | Sequential    | 114 K \n",
      "2  | model.convs.0  | BatchNorm2d   | 2     \n",
      "3  | model.convs.1  | Conv2d        | 1 K   \n",
      "4  | model.convs.2  | BatchNorm2d   | 20    \n",
      "5  | model.convs.3  | PReLU         | 1     \n",
      "6  | model.convs.4  | MaxPool2d     | 0     \n",
      "7  | model.convs.5  | Dropout       | 0     \n",
      "8  | model.convs.6  | Conv2d        | 20 K  \n",
      "9  | model.convs.7  | BatchNorm2d   | 40    \n",
      "10 | model.convs.8  | PReLU         | 1     \n",
      "11 | model.convs.9  | MaxPool2d     | 0     \n",
      "12 | model.convs.10 | Dropout       | 0     \n",
      "13 | model.convs.11 | Conv2d        | 80 K  \n",
      "14 | model.convs.12 | BatchNorm2d   | 80    \n",
      "15 | model.convs.13 | PReLU         | 1     \n",
      "16 | model.convs.14 | MaxPool2d     | 0     \n",
      "17 | model.convs.15 | Dropout       | 0     \n",
      "18 | model.convs.16 | Conv2d        | 12 K  \n",
      "19 | model.convs.17 | BatchNorm2d   | 160   \n",
      "20 | model.convs.18 | PReLU         | 1     \n",
      "21 | model.convs.19 | MaxPool2d     | 0     \n",
      "22 | model.convs.20 | Dropout       | 0     \n",
      "23 | model.dense    | Sequential    | 72 K  \n",
      "24 | model.dense.0  | Linear        | 70 K  \n",
      "25 | model.dense.1  | PReLU         | 1     \n",
      "26 | model.dense.2  | Dropout       | 0     \n",
      "27 | model.dense.3  | Linear        | 1 K   \n"
     ]
    },
    {
     "data": {
      "application/vnd.jupyter.widget-view+json": {
       "model_id": "",
       "version_major": 2,
       "version_minor": 0
      },
      "text/plain": [
       "HBox(children=(FloatProgress(value=1.0, bar_style='info', description='Validation sanity check', layout=Layout…"
      ]
     },
     "metadata": {},
     "output_type": "display_data"
    },
    {
     "name": "stdout",
     "output_type": "stream",
     "text": [
      "Val-Acc=0.01896858328393598\n"
     ]
    },
    {
     "data": {
      "application/vnd.jupyter.widget-view+json": {
       "model_id": "725e81b705ad4804967d27ce8e1011a7",
       "version_major": 2,
       "version_minor": 0
      },
      "text/plain": [
       "HBox(children=(FloatProgress(value=1.0, bar_style='info', description='Training', layout=Layout(flex='2'), max…"
      ]
     },
     "metadata": {},
     "output_type": "display_data"
    },
    {
     "data": {
      "application/vnd.jupyter.widget-view+json": {
       "model_id": "",
       "version_major": 2,
       "version_minor": 0
      },
      "text/plain": [
       "HBox(children=(FloatProgress(value=1.0, bar_style='info', description='Validating', layout=Layout(flex='2'), m…"
      ]
     },
     "metadata": {},
     "output_type": "display_data"
    },
    {
     "name": "stdout",
     "output_type": "stream",
     "text": [
      "Val-Acc=0.7540011855364552\n",
      "Train-Acc=0.7233201581027668\n"
     ]
    },
    {
     "data": {
      "application/vnd.jupyter.widget-view+json": {
       "model_id": "",
       "version_major": 2,
       "version_minor": 0
      },
      "text/plain": [
       "HBox(children=(FloatProgress(value=1.0, bar_style='info', description='Validating', layout=Layout(flex='2'), m…"
      ]
     },
     "metadata": {},
     "output_type": "display_data"
    },
    {
     "name": "stdout",
     "output_type": "stream",
     "text": [
      "Val-Acc=0.7688203912270303\n",
      "Train-Acc=0.7685770750988142\n"
     ]
    },
    {
     "data": {
      "application/vnd.jupyter.widget-view+json": {
       "model_id": "",
       "version_major": 2,
       "version_minor": 0
      },
      "text/plain": [
       "HBox(children=(FloatProgress(value=1.0, bar_style='info', description='Validating', layout=Layout(flex='2'), m…"
      ]
     },
     "metadata": {},
     "output_type": "display_data"
    },
    {
     "name": "stdout",
     "output_type": "stream",
     "text": [
      "Val-Acc=0.6887966804979253\n",
      "Train-Acc=0.7859683794466403\n"
     ]
    },
    {
     "data": {
      "application/vnd.jupyter.widget-view+json": {
       "model_id": "",
       "version_major": 2,
       "version_minor": 0
      },
      "text/plain": [
       "HBox(children=(FloatProgress(value=1.0, bar_style='info', description='Validating', layout=Layout(flex='2'), m…"
      ]
     },
     "metadata": {},
     "output_type": "display_data"
    },
    {
     "name": "stdout",
     "output_type": "stream",
     "text": [
      "Val-Acc=0.7486662714878483\n",
      "Train-Acc=0.7875494071146245\n"
     ]
    },
    {
     "data": {
      "application/vnd.jupyter.widget-view+json": {
       "model_id": "",
       "version_major": 2,
       "version_minor": 0
      },
      "text/plain": [
       "HBox(children=(FloatProgress(value=1.0, bar_style='info', description='Validating', layout=Layout(flex='2'), m…"
      ]
     },
     "metadata": {},
     "output_type": "display_data"
    },
    {
     "name": "stdout",
     "output_type": "stream",
     "text": [
      "Val-Acc=0.7379964433906343\n",
      "Train-Acc=0.8051383399209486\n"
     ]
    },
    {
     "data": {
      "application/vnd.jupyter.widget-view+json": {
       "model_id": "",
       "version_major": 2,
       "version_minor": 0
      },
      "text/plain": [
       "HBox(children=(FloatProgress(value=1.0, bar_style='info', description='Validating', layout=Layout(flex='2'), m…"
      ]
     },
     "metadata": {},
     "output_type": "display_data"
    },
    {
     "name": "stdout",
     "output_type": "stream",
     "text": [
      "Val-Acc=0.8049792531120332\n",
      "Train-Acc=0.8039525691699605\n"
     ]
    },
    {
     "data": {
      "application/vnd.jupyter.widget-view+json": {
       "model_id": "",
       "version_major": 2,
       "version_minor": 0
      },
      "text/plain": [
       "HBox(children=(FloatProgress(value=1.0, bar_style='info', description='Validating', layout=Layout(flex='2'), m…"
      ]
     },
     "metadata": {},
     "output_type": "display_data"
    },
    {
     "name": "stdout",
     "output_type": "stream",
     "text": [
      "Val-Acc=0.8340248962655602\n",
      "Train-Acc=0.8104743083003952\n"
     ]
    },
    {
     "data": {
      "application/vnd.jupyter.widget-view+json": {
       "model_id": "",
       "version_major": 2,
       "version_minor": 0
      },
      "text/plain": [
       "HBox(children=(FloatProgress(value=1.0, bar_style='info', description='Validating', layout=Layout(flex='2'), m…"
      ]
     },
     "metadata": {},
     "output_type": "display_data"
    },
    {
     "name": "stdout",
     "output_type": "stream",
     "text": [
      "Val-Acc=0.8043864848844102\n",
      "Train-Acc=0.8187747035573123\n"
     ]
    },
    {
     "data": {
      "application/vnd.jupyter.widget-view+json": {
       "model_id": "",
       "version_major": 2,
       "version_minor": 0
      },
      "text/plain": [
       "HBox(children=(FloatProgress(value=1.0, bar_style='info', description='Validating', layout=Layout(flex='2'), m…"
      ]
     },
     "metadata": {},
     "output_type": "display_data"
    },
    {
     "name": "stdout",
     "output_type": "stream",
     "text": [
      "Val-Acc=0.8215767634854771\n",
      "Train-Acc=0.8266798418972332\n"
     ]
    },
    {
     "data": {
      "application/vnd.jupyter.widget-view+json": {
       "model_id": "",
       "version_major": 2,
       "version_minor": 0
      },
      "text/plain": [
       "HBox(children=(FloatProgress(value=1.0, bar_style='info', description='Validating', layout=Layout(flex='2'), m…"
      ]
     },
     "metadata": {},
     "output_type": "display_data"
    },
    {
     "name": "stdout",
     "output_type": "stream",
     "text": [
      "Val-Acc=0.7901600474214582\n",
      "Train-Acc=0.8223320158102767\n"
     ]
    },
    {
     "data": {
      "application/vnd.jupyter.widget-view+json": {
       "model_id": "",
       "version_major": 2,
       "version_minor": 0
      },
      "text/plain": [
       "HBox(children=(FloatProgress(value=1.0, bar_style='info', description='Validating', layout=Layout(flex='2'), m…"
      ]
     },
     "metadata": {},
     "output_type": "display_data"
    },
    {
     "name": "stdout",
     "output_type": "stream",
     "text": [
      "Val-Acc=0.7522228808535862\n",
      "Train-Acc=0.8211462450592886\n"
     ]
    },
    {
     "data": {
      "application/vnd.jupyter.widget-view+json": {
       "model_id": "",
       "version_major": 2,
       "version_minor": 0
      },
      "text/plain": [
       "HBox(children=(FloatProgress(value=1.0, bar_style='info', description='Validating', layout=Layout(flex='2'), m…"
      ]
     },
     "metadata": {},
     "output_type": "display_data"
    },
    {
     "name": "stdout",
     "output_type": "stream",
     "text": [
      "Val-Acc=0.7836395969176052\n",
      "Train-Acc=0.8322134387351778\n"
     ]
    },
    {
     "data": {
      "application/vnd.jupyter.widget-view+json": {
       "model_id": "",
       "version_major": 2,
       "version_minor": 0
      },
      "text/plain": [
       "HBox(children=(FloatProgress(value=1.0, bar_style='info', description='Validating', layout=Layout(flex='2'), m…"
      ]
     },
     "metadata": {},
     "output_type": "display_data"
    },
    {
     "name": "stdout",
     "output_type": "stream",
     "text": [
      "Val-Acc=0.7889745109662122\n",
      "Train-Acc=0.8373517786561265\n"
     ]
    },
    {
     "data": {
      "application/vnd.jupyter.widget-view+json": {
       "model_id": "",
       "version_major": 2,
       "version_minor": 0
      },
      "text/plain": [
       "HBox(children=(FloatProgress(value=1.0, bar_style='info', description='Validating', layout=Layout(flex='2'), m…"
      ]
     },
     "metadata": {},
     "output_type": "display_data"
    },
    {
     "name": "stdout",
     "output_type": "stream",
     "text": [
      "Val-Acc=0.8156490812092472\n",
      "Train-Acc=0.8318181818181818\n"
     ]
    },
    {
     "data": {
      "application/vnd.jupyter.widget-view+json": {
       "model_id": "",
       "version_major": 2,
       "version_minor": 0
      },
      "text/plain": [
       "HBox(children=(FloatProgress(value=1.0, bar_style='info', description='Validating', layout=Layout(flex='2'), m…"
      ]
     },
     "metadata": {},
     "output_type": "display_data"
    },
    {
     "name": "stdout",
     "output_type": "stream",
     "text": [
      "Val-Acc=0.6953171310017783\n",
      "Train-Acc=0.8373517786561265\n"
     ]
    },
    {
     "data": {
      "application/vnd.jupyter.widget-view+json": {
       "model_id": "",
       "version_major": 2,
       "version_minor": 0
      },
      "text/plain": [
       "HBox(children=(FloatProgress(value=1.0, bar_style='info', description='Validating', layout=Layout(flex='2'), m…"
      ]
     },
     "metadata": {},
     "output_type": "display_data"
    },
    {
     "name": "stdout",
     "output_type": "stream",
     "text": [
      "Val-Acc=0.7990515708358032\n",
      "Train-Acc=0.8343873517786561\n"
     ]
    },
    {
     "data": {
      "application/vnd.jupyter.widget-view+json": {
       "model_id": "",
       "version_major": 2,
       "version_minor": 0
      },
      "text/plain": [
       "HBox(children=(FloatProgress(value=1.0, bar_style='info', description='Validating', layout=Layout(flex='2'), m…"
      ]
     },
     "metadata": {},
     "output_type": "display_data"
    },
    {
     "name": "stdout",
     "output_type": "stream",
     "text": [
      "Val-Acc=0.7889745109662122\n",
      "Train-Acc=0.8405138339920949\n"
     ]
    },
    {
     "data": {
      "application/vnd.jupyter.widget-view+json": {
       "model_id": "",
       "version_major": 2,
       "version_minor": 0
      },
      "text/plain": [
       "HBox(children=(FloatProgress(value=1.0, bar_style='info', description='Validating', layout=Layout(flex='2'), m…"
      ]
     },
     "metadata": {},
     "output_type": "display_data"
    },
    {
     "name": "stdout",
     "output_type": "stream",
     "text": [
      "Val-Acc=0.8186129223473622\n",
      "Train-Acc=0.8395256916996048\n"
     ]
    },
    {
     "data": {
      "application/vnd.jupyter.widget-view+json": {
       "model_id": "",
       "version_major": 2,
       "version_minor": 0
      },
      "text/plain": [
       "HBox(children=(FloatProgress(value=1.0, bar_style='info', description='Validating', layout=Layout(flex='2'), m…"
      ]
     },
     "metadata": {},
     "output_type": "display_data"
    },
    {
     "name": "stdout",
     "output_type": "stream",
     "text": [
      "Val-Acc=0.7860106698280972\n",
      "Train-Acc=0.8393280632411068\n"
     ]
    },
    {
     "data": {
      "application/vnd.jupyter.widget-view+json": {
       "model_id": "",
       "version_major": 2,
       "version_minor": 0
      },
      "text/plain": [
       "HBox(children=(FloatProgress(value=1.0, bar_style='info', description='Validating', layout=Layout(flex='2'), m…"
      ]
     },
     "metadata": {},
     "output_type": "display_data"
    },
    {
     "name": "stdout",
     "output_type": "stream",
     "text": [
      "Val-Acc=0.7788974510966212\n",
      "Train-Acc=0.841699604743083\n",
      "\n",
      "Saved model to \"saved_modelsq/28.p\"\n"
     ]
    },
    {
     "name": "stderr",
     "output_type": "stream",
     "text": [
      "[I 2020-07-20 19:16:43,517] Finished trial#28 with value: 0.7788974510966212 with parameters: {'learning_rate': 0.00024533369752039716, 'p_drop': 0.28066842679358345, 'lr_decay': 0.9406692425266893, 'n_hidden': 873, 'weight_decay': 0.02769030860842895}. Best is trial#17 with value: 0.8707765263781861.\n",
      "GPU available: True, used: True\n",
      "No environment variable for node rank defined. Set as 0.\n",
      "CUDA_VISIBLE_DEVICES: [0]\n",
      "Set SLURM handle signals.\n",
      "\n",
      "   | Name           | Type          | Params\n",
      "---------------------------------------------\n",
      "0  | model          | AblationModel | 116 K \n",
      "1  | model.convs    | Sequential    | 114 K \n",
      "2  | model.convs.0  | BatchNorm2d   | 2     \n",
      "3  | model.convs.1  | Conv2d        | 1 K   \n",
      "4  | model.convs.2  | BatchNorm2d   | 20    \n",
      "5  | model.convs.3  | PReLU         | 1     \n",
      "6  | model.convs.4  | MaxPool2d     | 0     \n",
      "7  | model.convs.5  | Dropout       | 0     \n",
      "8  | model.convs.6  | Conv2d        | 20 K  \n",
      "9  | model.convs.7  | BatchNorm2d   | 40    \n",
      "10 | model.convs.8  | PReLU         | 1     \n",
      "11 | model.convs.9  | MaxPool2d     | 0     \n",
      "12 | model.convs.10 | Dropout       | 0     \n",
      "13 | model.convs.11 | Conv2d        | 80 K  \n",
      "14 | model.convs.12 | BatchNorm2d   | 80    \n",
      "15 | model.convs.13 | PReLU         | 1     \n",
      "16 | model.convs.14 | MaxPool2d     | 0     \n",
      "17 | model.convs.15 | Dropout       | 0     \n",
      "18 | model.convs.16 | Conv2d        | 12 K  \n",
      "19 | model.convs.17 | BatchNorm2d   | 160   \n",
      "20 | model.convs.18 | PReLU         | 1     \n",
      "21 | model.convs.19 | MaxPool2d     | 0     \n",
      "22 | model.convs.20 | Dropout       | 0     \n",
      "23 | model.dense    | Sequential    | 2 K   \n",
      "24 | model.dense.0  | Linear        | 2 K   \n",
      "25 | model.dense.1  | PReLU         | 1     \n",
      "26 | model.dense.2  | Dropout       | 0     \n",
      "27 | model.dense.3  | Linear        | 66    \n"
     ]
    },
    {
     "data": {
      "application/vnd.jupyter.widget-view+json": {
       "model_id": "",
       "version_major": 2,
       "version_minor": 0
      },
      "text/plain": [
       "HBox(children=(FloatProgress(value=1.0, bar_style='info', description='Validation sanity check', layout=Layout…"
      ]
     },
     "metadata": {},
     "output_type": "display_data"
    },
    {
     "name": "stdout",
     "output_type": "stream",
     "text": [
      "Val-Acc=0.02074688796680498\n"
     ]
    },
    {
     "data": {
      "application/vnd.jupyter.widget-view+json": {
       "model_id": "52091f699726463485b3429a7833d8a3",
       "version_major": 2,
       "version_minor": 0
      },
      "text/plain": [
       "HBox(children=(FloatProgress(value=1.0, bar_style='info', description='Training', layout=Layout(flex='2'), max…"
      ]
     },
     "metadata": {},
     "output_type": "display_data"
    },
    {
     "data": {
      "application/vnd.jupyter.widget-view+json": {
       "model_id": "",
       "version_major": 2,
       "version_minor": 0
      },
      "text/plain": [
       "HBox(children=(FloatProgress(value=1.0, bar_style='info', description='Validating', layout=Layout(flex='2'), m…"
      ]
     },
     "metadata": {},
     "output_type": "display_data"
    },
    {
     "name": "stdout",
     "output_type": "stream",
     "text": [
      "Val-Acc=0.6615293420272673\n",
      "Train-Acc=0.5843873517786561\n"
     ]
    },
    {
     "data": {
      "application/vnd.jupyter.widget-view+json": {
       "model_id": "",
       "version_major": 2,
       "version_minor": 0
      },
      "text/plain": [
       "HBox(children=(FloatProgress(value=1.0, bar_style='info', description='Validating', layout=Layout(flex='2'), m…"
      ]
     },
     "metadata": {},
     "output_type": "display_data"
    },
    {
     "name": "stdout",
     "output_type": "stream",
     "text": [
      "Val-Acc=0.6473029045643154\n"
     ]
    },
    {
     "name": "stderr",
     "output_type": "stream",
     "text": [
      "[I 2020-07-20 19:17:00,536] Setting status of trial#29 as TrialState.PRUNED. Trial was pruned at epoch 1.\n",
      "GPU available: True, used: True\n",
      "No environment variable for node rank defined. Set as 0.\n",
      "CUDA_VISIBLE_DEVICES: [0]\n",
      "Set SLURM handle signals.\n",
      "\n",
      "   | Name           | Type          | Params\n",
      "---------------------------------------------\n",
      "0  | model          | AblationModel | 183 K \n",
      "1  | model.convs    | Sequential    | 114 K \n",
      "2  | model.convs.0  | BatchNorm2d   | 2     \n",
      "3  | model.convs.1  | Conv2d        | 1 K   \n",
      "4  | model.convs.2  | BatchNorm2d   | 20    \n",
      "5  | model.convs.3  | PReLU         | 1     \n",
      "6  | model.convs.4  | MaxPool2d     | 0     \n",
      "7  | model.convs.5  | Dropout       | 0     \n",
      "8  | model.convs.6  | Conv2d        | 20 K  \n",
      "9  | model.convs.7  | BatchNorm2d   | 40    \n",
      "10 | model.convs.8  | PReLU         | 1     \n",
      "11 | model.convs.9  | MaxPool2d     | 0     \n",
      "12 | model.convs.10 | Dropout       | 0     \n",
      "13 | model.convs.11 | Conv2d        | 80 K  \n",
      "14 | model.convs.12 | BatchNorm2d   | 80    \n",
      "15 | model.convs.13 | PReLU         | 1     \n",
      "16 | model.convs.14 | MaxPool2d     | 0     \n",
      "17 | model.convs.15 | Dropout       | 0     \n",
      "18 | model.convs.16 | Conv2d        | 12 K  \n",
      "19 | model.convs.17 | BatchNorm2d   | 160   \n",
      "20 | model.convs.18 | PReLU         | 1     \n",
      "21 | model.convs.19 | MaxPool2d     | 0     \n",
      "22 | model.convs.20 | Dropout       | 0     \n",
      "23 | model.dense    | Sequential    | 69 K  \n",
      "24 | model.dense.0  | Linear        | 67 K  \n",
      "25 | model.dense.1  | PReLU         | 1     \n",
      "26 | model.dense.2  | Dropout       | 0     \n",
      "27 | model.dense.3  | Linear        | 1 K   \n"
     ]
    },
    {
     "data": {
      "application/vnd.jupyter.widget-view+json": {
       "model_id": "",
       "version_major": 2,
       "version_minor": 0
      },
      "text/plain": [
       "HBox(children=(FloatProgress(value=1.0, bar_style='info', description='Validation sanity check', layout=Layout…"
      ]
     },
     "metadata": {},
     "output_type": "display_data"
    },
    {
     "name": "stdout",
     "output_type": "stream",
     "text": [
      "Val-Acc=0.016597510373443983\n"
     ]
    },
    {
     "data": {
      "application/vnd.jupyter.widget-view+json": {
       "model_id": "30a25b1fba864c60bca9ad471a58c2b8",
       "version_major": 2,
       "version_minor": 0
      },
      "text/plain": [
       "HBox(children=(FloatProgress(value=1.0, bar_style='info', description='Training', layout=Layout(flex='2'), max…"
      ]
     },
     "metadata": {},
     "output_type": "display_data"
    },
    {
     "data": {
      "application/vnd.jupyter.widget-view+json": {
       "model_id": "",
       "version_major": 2,
       "version_minor": 0
      },
      "text/plain": [
       "HBox(children=(FloatProgress(value=1.0, bar_style='info', description='Validating', layout=Layout(flex='2'), m…"
      ]
     },
     "metadata": {},
     "output_type": "display_data"
    },
    {
     "name": "stdout",
     "output_type": "stream",
     "text": [
      "Val-Acc=0.6899822169531713\n",
      "Train-Acc=0.6875494071146245\n"
     ]
    },
    {
     "data": {
      "application/vnd.jupyter.widget-view+json": {
       "model_id": "",
       "version_major": 2,
       "version_minor": 0
      },
      "text/plain": [
       "HBox(children=(FloatProgress(value=1.0, bar_style='info', description='Validating', layout=Layout(flex='2'), m…"
      ]
     },
     "metadata": {},
     "output_type": "display_data"
    },
    {
     "name": "stdout",
     "output_type": "stream",
     "text": [
      "Val-Acc=0.7071724955542383\n"
     ]
    },
    {
     "name": "stderr",
     "output_type": "stream",
     "text": [
      "[I 2020-07-20 19:17:17,648] Setting status of trial#30 as TrialState.PRUNED. Trial was pruned at epoch 1.\n",
      "GPU available: True, used: True\n",
      "No environment variable for node rank defined. Set as 0.\n",
      "CUDA_VISIBLE_DEVICES: [0]\n",
      "Set SLURM handle signals.\n",
      "\n",
      "   | Name           | Type          | Params\n",
      "---------------------------------------------\n",
      "0  | model          | AblationModel | 188 K \n",
      "1  | model.convs    | Sequential    | 114 K \n",
      "2  | model.convs.0  | BatchNorm2d   | 2     \n",
      "3  | model.convs.1  | Conv2d        | 1 K   \n",
      "4  | model.convs.2  | BatchNorm2d   | 20    \n",
      "5  | model.convs.3  | PReLU         | 1     \n",
      "6  | model.convs.4  | MaxPool2d     | 0     \n",
      "7  | model.convs.5  | Dropout       | 0     \n",
      "8  | model.convs.6  | Conv2d        | 20 K  \n",
      "9  | model.convs.7  | BatchNorm2d   | 40    \n",
      "10 | model.convs.8  | PReLU         | 1     \n",
      "11 | model.convs.9  | MaxPool2d     | 0     \n",
      "12 | model.convs.10 | Dropout       | 0     \n",
      "13 | model.convs.11 | Conv2d        | 80 K  \n",
      "14 | model.convs.12 | BatchNorm2d   | 80    \n",
      "15 | model.convs.13 | PReLU         | 1     \n",
      "16 | model.convs.14 | MaxPool2d     | 0     \n",
      "17 | model.convs.15 | Dropout       | 0     \n",
      "18 | model.convs.16 | Conv2d        | 12 K  \n",
      "19 | model.convs.17 | BatchNorm2d   | 160   \n",
      "20 | model.convs.18 | PReLU         | 1     \n",
      "21 | model.convs.19 | MaxPool2d     | 0     \n",
      "22 | model.convs.20 | Dropout       | 0     \n",
      "23 | model.dense    | Sequential    | 74 K  \n",
      "24 | model.dense.0  | Linear        | 72 K  \n",
      "25 | model.dense.1  | PReLU         | 1     \n",
      "26 | model.dense.2  | Dropout       | 0     \n",
      "27 | model.dense.3  | Linear        | 1 K   \n"
     ]
    },
    {
     "data": {
      "application/vnd.jupyter.widget-view+json": {
       "model_id": "",
       "version_major": 2,
       "version_minor": 0
      },
      "text/plain": [
       "HBox(children=(FloatProgress(value=1.0, bar_style='info', description='Validation sanity check', layout=Layout…"
      ]
     },
     "metadata": {},
     "output_type": "display_data"
    },
    {
     "name": "stdout",
     "output_type": "stream",
     "text": [
      "Val-Acc=0.016597510373443983\n"
     ]
    },
    {
     "data": {
      "application/vnd.jupyter.widget-view+json": {
       "model_id": "c53f580182f94eeda83be64e1f6182c0",
       "version_major": 2,
       "version_minor": 0
      },
      "text/plain": [
       "HBox(children=(FloatProgress(value=1.0, bar_style='info', description='Training', layout=Layout(flex='2'), max…"
      ]
     },
     "metadata": {},
     "output_type": "display_data"
    },
    {
     "data": {
      "application/vnd.jupyter.widget-view+json": {
       "model_id": "",
       "version_major": 2,
       "version_minor": 0
      },
      "text/plain": [
       "HBox(children=(FloatProgress(value=1.0, bar_style='info', description='Validating', layout=Layout(flex='2'), m…"
      ]
     },
     "metadata": {},
     "output_type": "display_data"
    },
    {
     "name": "stdout",
     "output_type": "stream",
     "text": [
      "Val-Acc=0.7747480735032602\n",
      "Train-Acc=0.7545454545454545\n"
     ]
    },
    {
     "data": {
      "application/vnd.jupyter.widget-view+json": {
       "model_id": "",
       "version_major": 2,
       "version_minor": 0
      },
      "text/plain": [
       "HBox(children=(FloatProgress(value=1.0, bar_style='info', description='Validating', layout=Layout(flex='2'), m…"
      ]
     },
     "metadata": {},
     "output_type": "display_data"
    },
    {
     "name": "stdout",
     "output_type": "stream",
     "text": [
      "Val-Acc=0.7379964433906343\n",
      "Train-Acc=0.7964426877470355\n"
     ]
    },
    {
     "data": {
      "application/vnd.jupyter.widget-view+json": {
       "model_id": "",
       "version_major": 2,
       "version_minor": 0
      },
      "text/plain": [
       "HBox(children=(FloatProgress(value=1.0, bar_style='info', description='Validating', layout=Layout(flex='2'), m…"
      ]
     },
     "metadata": {},
     "output_type": "display_data"
    },
    {
     "name": "stdout",
     "output_type": "stream",
     "text": [
      "Val-Acc=0.7765263781861292\n",
      "Train-Acc=0.8104743083003952\n"
     ]
    },
    {
     "data": {
      "application/vnd.jupyter.widget-view+json": {
       "model_id": "",
       "version_major": 2,
       "version_minor": 0
      },
      "text/plain": [
       "HBox(children=(FloatProgress(value=1.0, bar_style='info', description='Validating', layout=Layout(flex='2'), m…"
      ]
     },
     "metadata": {},
     "output_type": "display_data"
    },
    {
     "name": "stdout",
     "output_type": "stream",
     "text": [
      "Val-Acc=0.8114997036158862\n",
      "Train-Acc=0.8195652173913044\n"
     ]
    },
    {
     "data": {
      "application/vnd.jupyter.widget-view+json": {
       "model_id": "",
       "version_major": 2,
       "version_minor": 0
      },
      "text/plain": [
       "HBox(children=(FloatProgress(value=1.0, bar_style='info', description='Validating', layout=Layout(flex='2'), m…"
      ]
     },
     "metadata": {},
     "output_type": "display_data"
    },
    {
     "name": "stdout",
     "output_type": "stream",
     "text": [
      "Val-Acc=0.8079430942501482\n",
      "Train-Acc=0.8235177865612648\n"
     ]
    },
    {
     "data": {
      "application/vnd.jupyter.widget-view+json": {
       "model_id": "",
       "version_major": 2,
       "version_minor": 0
      },
      "text/plain": [
       "HBox(children=(FloatProgress(value=1.0, bar_style='info', description='Validating', layout=Layout(flex='2'), m…"
      ]
     },
     "metadata": {},
     "output_type": "display_data"
    },
    {
     "name": "stdout",
     "output_type": "stream",
     "text": [
      "Val-Acc=0.8091286307053942\n",
      "Train-Acc=0.824901185770751\n"
     ]
    },
    {
     "data": {
      "application/vnd.jupyter.widget-view+json": {
       "model_id": "",
       "version_major": 2,
       "version_minor": 0
      },
      "text/plain": [
       "HBox(children=(FloatProgress(value=1.0, bar_style='info', description='Validating', layout=Layout(flex='2'), m…"
      ]
     },
     "metadata": {},
     "output_type": "display_data"
    },
    {
     "name": "stdout",
     "output_type": "stream",
     "text": [
      "Val-Acc=0.7190278601066983\n",
      "Train-Acc=0.833794466403162\n"
     ]
    },
    {
     "data": {
      "application/vnd.jupyter.widget-view+json": {
       "model_id": "",
       "version_major": 2,
       "version_minor": 0
      },
      "text/plain": [
       "HBox(children=(FloatProgress(value=1.0, bar_style='info', description='Validating', layout=Layout(flex='2'), m…"
      ]
     },
     "metadata": {},
     "output_type": "display_data"
    },
    {
     "name": "stdout",
     "output_type": "stream",
     "text": [
      "Val-Acc=0.7830468286899822\n",
      "Train-Acc=0.833596837944664\n"
     ]
    },
    {
     "data": {
      "application/vnd.jupyter.widget-view+json": {
       "model_id": "",
       "version_major": 2,
       "version_minor": 0
      },
      "text/plain": [
       "HBox(children=(FloatProgress(value=1.0, bar_style='info', description='Validating', layout=Layout(flex='2'), m…"
      ]
     },
     "metadata": {},
     "output_type": "display_data"
    },
    {
     "name": "stdout",
     "output_type": "stream",
     "text": [
      "Val-Acc=0.7397747480735033\n",
      "Train-Acc=0.841897233201581\n"
     ]
    },
    {
     "data": {
      "application/vnd.jupyter.widget-view+json": {
       "model_id": "",
       "version_major": 2,
       "version_minor": 0
      },
      "text/plain": [
       "HBox(children=(FloatProgress(value=1.0, bar_style='info', description='Validating', layout=Layout(flex='2'), m…"
      ]
     },
     "metadata": {},
     "output_type": "display_data"
    },
    {
     "name": "stdout",
     "output_type": "stream",
     "text": [
      "Val-Acc=0.7249555423829283\n",
      "Train-Acc=0.8355731225296442\n"
     ]
    },
    {
     "data": {
      "application/vnd.jupyter.widget-view+json": {
       "model_id": "",
       "version_major": 2,
       "version_minor": 0
      },
      "text/plain": [
       "HBox(children=(FloatProgress(value=1.0, bar_style='info', description='Validating', layout=Layout(flex='2'), m…"
      ]
     },
     "metadata": {},
     "output_type": "display_data"
    },
    {
     "name": "stdout",
     "output_type": "stream",
     "text": [
      "Val-Acc=0.8192056905749852\n",
      "Train-Acc=0.8450592885375494\n"
     ]
    },
    {
     "data": {
      "application/vnd.jupyter.widget-view+json": {
       "model_id": "",
       "version_major": 2,
       "version_minor": 0
      },
      "text/plain": [
       "HBox(children=(FloatProgress(value=1.0, bar_style='info', description='Validating', layout=Layout(flex='2'), m…"
      ]
     },
     "metadata": {},
     "output_type": "display_data"
    },
    {
     "name": "stdout",
     "output_type": "stream",
     "text": [
      "Val-Acc=0.7937166567871962\n",
      "Train-Acc=0.8490118577075099\n"
     ]
    },
    {
     "data": {
      "application/vnd.jupyter.widget-view+json": {
       "model_id": "",
       "version_major": 2,
       "version_minor": 0
      },
      "text/plain": [
       "HBox(children=(FloatProgress(value=1.0, bar_style='info', description='Validating', layout=Layout(flex='2'), m…"
      ]
     },
     "metadata": {},
     "output_type": "display_data"
    },
    {
     "name": "stdout",
     "output_type": "stream",
     "text": [
      "Val-Acc=0.8251333728512151\n",
      "Train-Acc=0.8573122529644269\n"
     ]
    },
    {
     "data": {
      "application/vnd.jupyter.widget-view+json": {
       "model_id": "",
       "version_major": 2,
       "version_minor": 0
      },
      "text/plain": [
       "HBox(children=(FloatProgress(value=1.0, bar_style='info', description='Validating', layout=Layout(flex='2'), m…"
      ]
     },
     "metadata": {},
     "output_type": "display_data"
    },
    {
     "name": "stdout",
     "output_type": "stream",
     "text": [
      "Val-Acc=0.8132780082987552\n",
      "Train-Acc=0.8557312252964426\n"
     ]
    },
    {
     "data": {
      "application/vnd.jupyter.widget-view+json": {
       "model_id": "",
       "version_major": 2,
       "version_minor": 0
      },
      "text/plain": [
       "HBox(children=(FloatProgress(value=1.0, bar_style='info', description='Validating', layout=Layout(flex='2'), m…"
      ]
     },
     "metadata": {},
     "output_type": "display_data"
    },
    {
     "name": "stdout",
     "output_type": "stream",
     "text": [
      "Val-Acc=0.8197984588026082\n",
      "Train-Acc=0.8559288537549408\n"
     ]
    },
    {
     "data": {
      "application/vnd.jupyter.widget-view+json": {
       "model_id": "",
       "version_major": 2,
       "version_minor": 0
      },
      "text/plain": [
       "HBox(children=(FloatProgress(value=1.0, bar_style='info', description='Validating', layout=Layout(flex='2'), m…"
      ]
     },
     "metadata": {},
     "output_type": "display_data"
    },
    {
     "name": "stdout",
     "output_type": "stream",
     "text": [
      "Val-Acc=0.8150563129816242\n",
      "Train-Acc=0.8624505928853755\n"
     ]
    },
    {
     "data": {
      "application/vnd.jupyter.widget-view+json": {
       "model_id": "",
       "version_major": 2,
       "version_minor": 0
      },
      "text/plain": [
       "HBox(children=(FloatProgress(value=1.0, bar_style='info', description='Validating', layout=Layout(flex='2'), m…"
      ]
     },
     "metadata": {},
     "output_type": "display_data"
    },
    {
     "name": "stdout",
     "output_type": "stream",
     "text": [
      "Val-Acc=0.8097213989330172\n",
      "Train-Acc=0.8648221343873518\n"
     ]
    },
    {
     "data": {
      "application/vnd.jupyter.widget-view+json": {
       "model_id": "",
       "version_major": 2,
       "version_minor": 0
      },
      "text/plain": [
       "HBox(children=(FloatProgress(value=1.0, bar_style='info', description='Validating', layout=Layout(flex='2'), m…"
      ]
     },
     "metadata": {},
     "output_type": "display_data"
    },
    {
     "name": "stdout",
     "output_type": "stream",
     "text": [
      "Val-Acc=0.8120924718435092\n",
      "Train-Acc=0.8616600790513834\n"
     ]
    },
    {
     "data": {
      "application/vnd.jupyter.widget-view+json": {
       "model_id": "",
       "version_major": 2,
       "version_minor": 0
      },
      "text/plain": [
       "HBox(children=(FloatProgress(value=1.0, bar_style='info', description='Validating', layout=Layout(flex='2'), m…"
      ]
     },
     "metadata": {},
     "output_type": "display_data"
    },
    {
     "name": "stdout",
     "output_type": "stream",
     "text": [
      "Val-Acc=0.8197984588026082\n",
      "Train-Acc=0.86699604743083\n"
     ]
    },
    {
     "data": {
      "application/vnd.jupyter.widget-view+json": {
       "model_id": "",
       "version_major": 2,
       "version_minor": 0
      },
      "text/plain": [
       "HBox(children=(FloatProgress(value=1.0, bar_style='info', description='Validating', layout=Layout(flex='2'), m…"
      ]
     },
     "metadata": {},
     "output_type": "display_data"
    },
    {
     "name": "stdout",
     "output_type": "stream",
     "text": [
      "Val-Acc=0.8079430942501482\n",
      "Train-Acc=0.8689723320158103\n",
      "\n",
      "Saved model to \"saved_modelsq/31.p\"\n"
     ]
    },
    {
     "name": "stderr",
     "output_type": "stream",
     "text": [
      "[I 2020-07-20 19:20:04,504] Finished trial#31 with value: 0.8079430942501482 with parameters: {'learning_rate': 0.0013892627104918575, 'p_drop': 0.0839318860616115, 'lr_decay': 0.8343906366442609, 'n_hidden': 893, 'weight_decay': 0.006808895799616618}. Best is trial#17 with value: 0.8707765263781861.\n",
      "GPU available: True, used: True\n",
      "No environment variable for node rank defined. Set as 0.\n",
      "CUDA_VISIBLE_DEVICES: [0]\n",
      "Set SLURM handle signals.\n",
      "\n",
      "   | Name           | Type          | Params\n",
      "---------------------------------------------\n",
      "0  | model          | AblationModel | 193 K \n",
      "1  | model.convs    | Sequential    | 114 K \n",
      "2  | model.convs.0  | BatchNorm2d   | 2     \n",
      "3  | model.convs.1  | Conv2d        | 1 K   \n",
      "4  | model.convs.2  | BatchNorm2d   | 20    \n",
      "5  | model.convs.3  | PReLU         | 1     \n",
      "6  | model.convs.4  | MaxPool2d     | 0     \n",
      "7  | model.convs.5  | Dropout       | 0     \n",
      "8  | model.convs.6  | Conv2d        | 20 K  \n",
      "9  | model.convs.7  | BatchNorm2d   | 40    \n",
      "10 | model.convs.8  | PReLU         | 1     \n",
      "11 | model.convs.9  | MaxPool2d     | 0     \n",
      "12 | model.convs.10 | Dropout       | 0     \n",
      "13 | model.convs.11 | Conv2d        | 80 K  \n",
      "14 | model.convs.12 | BatchNorm2d   | 80    \n",
      "15 | model.convs.13 | PReLU         | 1     \n",
      "16 | model.convs.14 | MaxPool2d     | 0     \n",
      "17 | model.convs.15 | Dropout       | 0     \n",
      "18 | model.convs.16 | Conv2d        | 12 K  \n",
      "19 | model.convs.17 | BatchNorm2d   | 160   \n",
      "20 | model.convs.18 | PReLU         | 1     \n",
      "21 | model.convs.19 | MaxPool2d     | 0     \n",
      "22 | model.convs.20 | Dropout       | 0     \n",
      "23 | model.dense    | Sequential    | 78 K  \n",
      "24 | model.dense.0  | Linear        | 76 K  \n",
      "25 | model.dense.1  | PReLU         | 1     \n",
      "26 | model.dense.2  | Dropout       | 0     \n",
      "27 | model.dense.3  | Linear        | 1 K   \n"
     ]
    },
    {
     "data": {
      "application/vnd.jupyter.widget-view+json": {
       "model_id": "",
       "version_major": 2,
       "version_minor": 0
      },
      "text/plain": [
       "HBox(children=(FloatProgress(value=1.0, bar_style='info', description='Validation sanity check', layout=Layout…"
      ]
     },
     "metadata": {},
     "output_type": "display_data"
    },
    {
     "name": "stdout",
     "output_type": "stream",
     "text": [
      "Val-Acc=0.01956135151155898\n"
     ]
    },
    {
     "data": {
      "application/vnd.jupyter.widget-view+json": {
       "model_id": "f3977ec0243040db86d8ae01a6e8af9d",
       "version_major": 2,
       "version_minor": 0
      },
      "text/plain": [
       "HBox(children=(FloatProgress(value=1.0, bar_style='info', description='Training', layout=Layout(flex='2'), max…"
      ]
     },
     "metadata": {},
     "output_type": "display_data"
    },
    {
     "data": {
      "application/vnd.jupyter.widget-view+json": {
       "model_id": "",
       "version_major": 2,
       "version_minor": 0
      },
      "text/plain": [
       "HBox(children=(FloatProgress(value=1.0, bar_style='info', description='Validating', layout=Layout(flex='2'), m…"
      ]
     },
     "metadata": {},
     "output_type": "display_data"
    },
    {
     "name": "stdout",
     "output_type": "stream",
     "text": [
      "Val-Acc=0.6603438055720213\n",
      "Train-Acc=0.7537549407114624\n"
     ]
    },
    {
     "data": {
      "application/vnd.jupyter.widget-view+json": {
       "model_id": "",
       "version_major": 2,
       "version_minor": 0
      },
      "text/plain": [
       "HBox(children=(FloatProgress(value=1.0, bar_style='info', description='Validating', layout=Layout(flex='2'), m…"
      ]
     },
     "metadata": {},
     "output_type": "display_data"
    },
    {
     "name": "stdout",
     "output_type": "stream",
     "text": [
      "Val-Acc=0.7534084173088322\n",
      "Train-Acc=0.791699604743083\n"
     ]
    },
    {
     "data": {
      "application/vnd.jupyter.widget-view+json": {
       "model_id": "",
       "version_major": 2,
       "version_minor": 0
      },
      "text/plain": [
       "HBox(children=(FloatProgress(value=1.0, bar_style='info', description='Validating', layout=Layout(flex='2'), m…"
      ]
     },
     "metadata": {},
     "output_type": "display_data"
    },
    {
     "name": "stdout",
     "output_type": "stream",
     "text": [
      "Val-Acc=0.8168346176644932\n",
      "Train-Acc=0.7966403162055335\n"
     ]
    },
    {
     "name": "stderr",
     "output_type": "stream",
     "text": [
      "IOPub message rate exceeded.\n",
      "The notebook server will temporarily stop sending output\n",
      "to the client in order to avoid crashing it.\n",
      "To change this limit, set the config variable\n",
      "`--NotebookApp.iopub_msg_rate_limit`.\n",
      "\n",
      "Current values:\n",
      "NotebookApp.iopub_msg_rate_limit=1000.0 (msgs/sec)\n",
      "NotebookApp.rate_limit_window=3.0 (secs)\n",
      "\n"
     ]
    },
    {
     "data": {
      "application/vnd.jupyter.widget-view+json": {
       "model_id": "",
       "version_major": 2,
       "version_minor": 0
      },
      "text/plain": [
       "HBox(children=(FloatProgress(value=1.0, bar_style='info', description='Validating', layout=Layout(flex='2'), m…"
      ]
     },
     "metadata": {},
     "output_type": "display_data"
    },
    {
     "name": "stdout",
     "output_type": "stream",
     "text": [
      "Val-Acc=0.7996443390634262\n",
      "Train-Acc=0.8254940711462451\n"
     ]
    },
    {
     "data": {
      "application/vnd.jupyter.widget-view+json": {
       "model_id": "",
       "version_major": 2,
       "version_minor": 0
      },
      "text/plain": [
       "HBox(children=(FloatProgress(value=1.0, bar_style='info', description='Validating', layout=Layout(flex='2'), m…"
      ]
     },
     "metadata": {},
     "output_type": "display_data"
    },
    {
     "name": "stdout",
     "output_type": "stream",
     "text": [
      "Val-Acc=0.7379964433906343\n",
      "Train-Acc=0.8288537549407115\n"
     ]
    },
    {
     "data": {
      "application/vnd.jupyter.widget-view+json": {
       "model_id": "",
       "version_major": 2,
       "version_minor": 0
      },
      "text/plain": [
       "HBox(children=(FloatProgress(value=1.0, bar_style='info', description='Validating', layout=Layout(flex='2'), m…"
      ]
     },
     "metadata": {},
     "output_type": "display_data"
    },
    {
     "name": "stdout",
     "output_type": "stream",
     "text": [
      "Val-Acc=0.7670420865441613\n",
      "Train-Acc=0.8286561264822134\n"
     ]
    },
    {
     "data": {
      "application/vnd.jupyter.widget-view+json": {
       "model_id": "",
       "version_major": 2,
       "version_minor": 0
      },
      "text/plain": [
       "HBox(children=(FloatProgress(value=1.0, bar_style='info', description='Validating', layout=Layout(flex='2'), m…"
      ]
     },
     "metadata": {},
     "output_type": "display_data"
    },
    {
     "name": "stdout",
     "output_type": "stream",
     "text": [
      "Val-Acc=0.7296976882039122\n",
      "Train-Acc=0.8276679841897233\n"
     ]
    },
    {
     "data": {
      "application/vnd.jupyter.widget-view+json": {
       "model_id": "",
       "version_major": 2,
       "version_minor": 0
      },
      "text/plain": [
       "HBox(children=(FloatProgress(value=1.0, bar_style='info', description='Validating', layout=Layout(flex='2'), m…"
      ]
     },
     "metadata": {},
     "output_type": "display_data"
    },
    {
     "name": "stdout",
     "output_type": "stream",
     "text": [
      "Val-Acc=0.6538233550681684\n",
      "Train-Acc=0.8308300395256917\n"
     ]
    },
    {
     "data": {
      "application/vnd.jupyter.widget-view+json": {
       "model_id": "",
       "version_major": 2,
       "version_minor": 0
      },
      "text/plain": [
       "HBox(children=(FloatProgress(value=1.0, bar_style='info', description='Validating', layout=Layout(flex='2'), m…"
      ]
     },
     "metadata": {},
     "output_type": "display_data"
    },
    {
     "name": "stdout",
     "output_type": "stream",
     "text": [
      "Val-Acc=0.5969176052163604\n",
      "Train-Acc=0.8318181818181818\n"
     ]
    },
    {
     "data": {
      "application/vnd.jupyter.widget-view+json": {
       "model_id": "",
       "version_major": 2,
       "version_minor": 0
      },
      "text/plain": [
       "HBox(children=(FloatProgress(value=1.0, bar_style='info', description='Validating', layout=Layout(flex='2'), m…"
      ]
     },
     "metadata": {},
     "output_type": "display_data"
    },
    {
     "name": "stdout",
     "output_type": "stream",
     "text": [
      "Val-Acc=0.7848251333728512\n",
      "Train-Acc=0.8363636363636363\n"
     ]
    },
    {
     "data": {
      "application/vnd.jupyter.widget-view+json": {
       "model_id": "",
       "version_major": 2,
       "version_minor": 0
      },
      "text/plain": [
       "HBox(children=(FloatProgress(value=1.0, bar_style='info', description='Validating', layout=Layout(flex='2'), m…"
      ]
     },
     "metadata": {},
     "output_type": "display_data"
    },
    {
     "name": "stdout",
     "output_type": "stream",
     "text": [
      "Val-Acc=0.7006520450503853\n",
      "Train-Acc=0.8389328063241107\n"
     ]
    },
    {
     "data": {
      "application/vnd.jupyter.widget-view+json": {
       "model_id": "",
       "version_major": 2,
       "version_minor": 0
      },
      "text/plain": [
       "HBox(children=(FloatProgress(value=1.0, bar_style='info', description='Validating', layout=Layout(flex='2'), m…"
      ]
     },
     "metadata": {},
     "output_type": "display_data"
    },
    {
     "name": "stdout",
     "output_type": "stream",
     "text": [
      "Val-Acc=0.8138707765263782\n",
      "Train-Acc=0.8373517786561265\n"
     ]
    },
    {
     "data": {
      "application/vnd.jupyter.widget-view+json": {
       "model_id": "",
       "version_major": 2,
       "version_minor": 0
      },
      "text/plain": [
       "HBox(children=(FloatProgress(value=1.0, bar_style='info', description='Validating', layout=Layout(flex='2'), m…"
      ]
     },
     "metadata": {},
     "output_type": "display_data"
    },
    {
     "name": "stdout",
     "output_type": "stream",
     "text": [
      "Val-Acc=0.7160640189685833\n",
      "Train-Acc=0.8385375494071147\n"
     ]
    },
    {
     "data": {
      "application/vnd.jupyter.widget-view+json": {
       "model_id": "",
       "version_major": 2,
       "version_minor": 0
      },
      "text/plain": [
       "HBox(children=(FloatProgress(value=1.0, bar_style='info', description='Validating', layout=Layout(flex='2'), m…"
      ]
     },
     "metadata": {},
     "output_type": "display_data"
    },
    {
     "name": "stdout",
     "output_type": "stream",
     "text": [
      "Val-Acc=0.8535862477771191\n",
      "Train-Acc=0.8452569169960474\n"
     ]
    },
    {
     "data": {
      "application/vnd.jupyter.widget-view+json": {
       "model_id": "",
       "version_major": 2,
       "version_minor": 0
      },
      "text/plain": [
       "HBox(children=(FloatProgress(value=1.0, bar_style='info', description='Validating', layout=Layout(flex='2'), m…"
      ]
     },
     "metadata": {},
     "output_type": "display_data"
    },
    {
     "name": "stdout",
     "output_type": "stream",
     "text": [
      "Val-Acc=0.7142857142857143\n",
      "Train-Acc=0.8480237154150198\n"
     ]
    },
    {
     "data": {
      "application/vnd.jupyter.widget-view+json": {
       "model_id": "",
       "version_major": 2,
       "version_minor": 0
      },
      "text/plain": [
       "HBox(children=(FloatProgress(value=1.0, bar_style='info', description='Validating', layout=Layout(flex='2'), m…"
      ]
     },
     "metadata": {},
     "output_type": "display_data"
    },
    {
     "name": "stdout",
     "output_type": "stream",
     "text": [
      "Val-Acc=0.6633076467101363\n",
      "Train-Acc=0.8553359683794466\n"
     ]
    },
    {
     "data": {
      "application/vnd.jupyter.widget-view+json": {
       "model_id": "",
       "version_major": 2,
       "version_minor": 0
      },
      "text/plain": [
       "HBox(children=(FloatProgress(value=1.0, bar_style='info', description='Validating', layout=Layout(flex='2'), m…"
      ]
     },
     "metadata": {},
     "output_type": "display_data"
    },
    {
     "name": "stdout",
     "output_type": "stream",
     "text": [
      "Val-Acc=0.8553645524599881\n",
      "Train-Acc=0.8490118577075099\n",
      "\n",
      "Saved model to \"saved_modelsq/32.p\"\n"
     ]
    },
    {
     "name": "stderr",
     "output_type": "stream",
     "text": [
      "[I 2020-07-20 19:22:51,376] Finished trial#32 with value: 0.8553645524599881 with parameters: {'learning_rate': 0.00043708969749395684, 'p_drop': 0.0033510362307936914, 'lr_decay': 0.9723312335728946, 'n_hidden': 949, 'weight_decay': 0.025498725849505802}. Best is trial#17 with value: 0.8707765263781861.\n",
      "GPU available: True, used: True\n",
      "No environment variable for node rank defined. Set as 0.\n",
      "CUDA_VISIBLE_DEVICES: [0]\n",
      "Set SLURM handle signals.\n",
      "\n",
      "   | Name           | Type          | Params\n",
      "---------------------------------------------\n",
      "0  | model          | AblationModel | 193 K \n",
      "1  | model.convs    | Sequential    | 114 K \n",
      "2  | model.convs.0  | BatchNorm2d   | 2     \n",
      "3  | model.convs.1  | Conv2d        | 1 K   \n",
      "4  | model.convs.2  | BatchNorm2d   | 20    \n",
      "5  | model.convs.3  | PReLU         | 1     \n",
      "6  | model.convs.4  | MaxPool2d     | 0     \n",
      "7  | model.convs.5  | Dropout       | 0     \n",
      "8  | model.convs.6  | Conv2d        | 20 K  \n",
      "9  | model.convs.7  | BatchNorm2d   | 40    \n",
      "10 | model.convs.8  | PReLU         | 1     \n",
      "11 | model.convs.9  | MaxPool2d     | 0     \n",
      "12 | model.convs.10 | Dropout       | 0     \n",
      "13 | model.convs.11 | Conv2d        | 80 K  \n",
      "14 | model.convs.12 | BatchNorm2d   | 80    \n",
      "15 | model.convs.13 | PReLU         | 1     \n",
      "16 | model.convs.14 | MaxPool2d     | 0     \n",
      "17 | model.convs.15 | Dropout       | 0     \n",
      "18 | model.convs.16 | Conv2d        | 12 K  \n",
      "19 | model.convs.17 | BatchNorm2d   | 160   \n",
      "20 | model.convs.18 | PReLU         | 1     \n",
      "21 | model.convs.19 | MaxPool2d     | 0     \n",
      "22 | model.convs.20 | Dropout       | 0     \n",
      "23 | model.dense    | Sequential    | 79 K  \n",
      "24 | model.dense.0  | Linear        | 77 K  \n",
      "25 | model.dense.1  | PReLU         | 1     \n",
      "26 | model.dense.2  | Dropout       | 0     \n",
      "27 | model.dense.3  | Linear        | 1 K   \n"
     ]
    },
    {
     "data": {
      "application/vnd.jupyter.widget-view+json": {
       "model_id": "",
       "version_major": 2,
       "version_minor": 0
      },
      "text/plain": [
       "HBox(children=(FloatProgress(value=1.0, bar_style='info', description='Validation sanity check', layout=Layout…"
      ]
     },
     "metadata": {},
     "output_type": "display_data"
    },
    {
     "name": "stdout",
     "output_type": "stream",
     "text": [
      "Val-Acc=0.024896265560165973\n"
     ]
    },
    {
     "data": {
      "application/vnd.jupyter.widget-view+json": {
       "model_id": "b0aaf9d4f2a3430180058e0a5b4ebcc9",
       "version_major": 2,
       "version_minor": 0
      },
      "text/plain": [
       "HBox(children=(FloatProgress(value=1.0, bar_style='info', description='Training', layout=Layout(flex='2'), max…"
      ]
     },
     "metadata": {},
     "output_type": "display_data"
    },
    {
     "data": {
      "application/vnd.jupyter.widget-view+json": {
       "model_id": "",
       "version_major": 2,
       "version_minor": 0
      },
      "text/plain": [
       "HBox(children=(FloatProgress(value=1.0, bar_style='info', description='Validating', layout=Layout(flex='2'), m…"
      ]
     },
     "metadata": {},
     "output_type": "display_data"
    },
    {
     "name": "stdout",
     "output_type": "stream",
     "text": [
      "Val-Acc=0.5838767042086545\n",
      "Train-Acc=0.7521739130434782\n"
     ]
    },
    {
     "data": {
      "application/vnd.jupyter.widget-view+json": {
       "model_id": "",
       "version_major": 2,
       "version_minor": 0
      },
      "text/plain": [
       "HBox(children=(FloatProgress(value=1.0, bar_style='info', description='Validating', layout=Layout(flex='2'), m…"
      ]
     },
     "metadata": {},
     "output_type": "display_data"
    },
    {
     "name": "stdout",
     "output_type": "stream",
     "text": [
      "Val-Acc=0.7308832246591582\n"
     ]
    },
    {
     "name": "stderr",
     "output_type": "stream",
     "text": [
      "[I 2020-07-20 19:23:08,357] Setting status of trial#33 as TrialState.PRUNED. Trial was pruned at epoch 1.\n",
      "GPU available: True, used: True\n",
      "No environment variable for node rank defined. Set as 0.\n",
      "CUDA_VISIBLE_DEVICES: [0]\n",
      "Set SLURM handle signals.\n",
      "\n",
      "   | Name           | Type          | Params\n",
      "---------------------------------------------\n",
      "0  | model          | AblationModel | 179 K \n",
      "1  | model.convs    | Sequential    | 114 K \n",
      "2  | model.convs.0  | BatchNorm2d   | 2     \n",
      "3  | model.convs.1  | Conv2d        | 1 K   \n",
      "4  | model.convs.2  | BatchNorm2d   | 20    \n",
      "5  | model.convs.3  | PReLU         | 1     \n",
      "6  | model.convs.4  | MaxPool2d     | 0     \n",
      "7  | model.convs.5  | Dropout       | 0     \n",
      "8  | model.convs.6  | Conv2d        | 20 K  \n",
      "9  | model.convs.7  | BatchNorm2d   | 40    \n",
      "10 | model.convs.8  | PReLU         | 1     \n",
      "11 | model.convs.9  | MaxPool2d     | 0     \n",
      "12 | model.convs.10 | Dropout       | 0     \n",
      "13 | model.convs.11 | Conv2d        | 80 K  \n",
      "14 | model.convs.12 | BatchNorm2d   | 80    \n",
      "15 | model.convs.13 | PReLU         | 1     \n",
      "16 | model.convs.14 | MaxPool2d     | 0     \n",
      "17 | model.convs.15 | Dropout       | 0     \n",
      "18 | model.convs.16 | Conv2d        | 12 K  \n",
      "19 | model.convs.17 | BatchNorm2d   | 160   \n",
      "20 | model.convs.18 | PReLU         | 1     \n",
      "21 | model.convs.19 | MaxPool2d     | 0     \n",
      "22 | model.convs.20 | Dropout       | 0     \n",
      "23 | model.dense    | Sequential    | 64 K  \n",
      "24 | model.dense.0  | Linear        | 63 K  \n",
      "25 | model.dense.1  | PReLU         | 1     \n",
      "26 | model.dense.2  | Dropout       | 0     \n",
      "27 | model.dense.3  | Linear        | 1 K   \n"
     ]
    },
    {
     "data": {
      "application/vnd.jupyter.widget-view+json": {
       "model_id": "",
       "version_major": 2,
       "version_minor": 0
      },
      "text/plain": [
       "HBox(children=(FloatProgress(value=1.0, bar_style='info', description='Validation sanity check', layout=Layout…"
      ]
     },
     "metadata": {},
     "output_type": "display_data"
    },
    {
     "name": "stdout",
     "output_type": "stream",
     "text": [
      "Val-Acc=0.018375815056312982\n"
     ]
    },
    {
     "data": {
      "application/vnd.jupyter.widget-view+json": {
       "model_id": "374b25bd28484fe6955f0c59785575dc",
       "version_major": 2,
       "version_minor": 0
      },
      "text/plain": [
       "HBox(children=(FloatProgress(value=1.0, bar_style='info', description='Training', layout=Layout(flex='2'), max…"
      ]
     },
     "metadata": {},
     "output_type": "display_data"
    },
    {
     "data": {
      "application/vnd.jupyter.widget-view+json": {
       "model_id": "",
       "version_major": 2,
       "version_minor": 0
      },
      "text/plain": [
       "HBox(children=(FloatProgress(value=1.0, bar_style='info', description='Validating', layout=Layout(flex='2'), m…"
      ]
     },
     "metadata": {},
     "output_type": "display_data"
    },
    {
     "name": "stdout",
     "output_type": "stream",
     "text": [
      "Val-Acc=0.7077652637818613\n",
      "Train-Acc=0.7124505928853755\n"
     ]
    },
    {
     "data": {
      "application/vnd.jupyter.widget-view+json": {
       "model_id": "",
       "version_major": 2,
       "version_minor": 0
      },
      "text/plain": [
       "HBox(children=(FloatProgress(value=1.0, bar_style='info', description='Validating', layout=Layout(flex='2'), m…"
      ]
     },
     "metadata": {},
     "output_type": "display_data"
    },
    {
     "name": "stdout",
     "output_type": "stream",
     "text": [
      "Val-Acc=0.7646710136336692\n",
      "Train-Acc=0.7790513833992095\n"
     ]
    },
    {
     "data": {
      "application/vnd.jupyter.widget-view+json": {
       "model_id": "",
       "version_major": 2,
       "version_minor": 0
      },
      "text/plain": [
       "HBox(children=(FloatProgress(value=1.0, bar_style='info', description='Validating', layout=Layout(flex='2'), m…"
      ]
     },
     "metadata": {},
     "output_type": "display_data"
    },
    {
     "name": "stdout",
     "output_type": "stream",
     "text": [
      "Val-Acc=0.7818612922347362\n",
      "Train-Acc=0.7911067193675889\n"
     ]
    },
    {
     "data": {
      "application/vnd.jupyter.widget-view+json": {
       "model_id": "",
       "version_major": 2,
       "version_minor": 0
      },
      "text/plain": [
       "HBox(children=(FloatProgress(value=1.0, bar_style='info', description='Validating', layout=Layout(flex='2'), m…"
      ]
     },
     "metadata": {},
     "output_type": "display_data"
    },
    {
     "name": "stdout",
     "output_type": "stream",
     "text": [
      "Val-Acc=0.7457024303497333\n",
      "Train-Acc=0.7948616600790513\n"
     ]
    },
    {
     "data": {
      "application/vnd.jupyter.widget-view+json": {
       "model_id": "",
       "version_major": 2,
       "version_minor": 0
      },
      "text/plain": [
       "HBox(children=(FloatProgress(value=1.0, bar_style='info', description='Validating', layout=Layout(flex='2'), m…"
      ]
     },
     "metadata": {},
     "output_type": "display_data"
    },
    {
     "name": "stdout",
     "output_type": "stream",
     "text": [
      "Val-Acc=0.7889745109662122\n",
      "Train-Acc=0.8144268774703557\n"
     ]
    },
    {
     "data": {
      "application/vnd.jupyter.widget-view+json": {
       "model_id": "",
       "version_major": 2,
       "version_minor": 0
      },
      "text/plain": [
       "HBox(children=(FloatProgress(value=1.0, bar_style='info', description='Validating', layout=Layout(flex='2'), m…"
      ]
     },
     "metadata": {},
     "output_type": "display_data"
    },
    {
     "name": "stdout",
     "output_type": "stream",
     "text": [
      "Val-Acc=0.8168346176644932\n",
      "Train-Acc=0.8132411067193676\n"
     ]
    },
    {
     "data": {
      "application/vnd.jupyter.widget-view+json": {
       "model_id": "",
       "version_major": 2,
       "version_minor": 0
      },
      "text/plain": [
       "HBox(children=(FloatProgress(value=1.0, bar_style='info', description='Validating', layout=Layout(flex='2'), m…"
      ]
     },
     "metadata": {},
     "output_type": "display_data"
    },
    {
     "name": "stdout",
     "output_type": "stream",
     "text": [
      "Val-Acc=0.7729697688203913\n",
      "Train-Acc=0.8140316205533596\n"
     ]
    },
    {
     "data": {
      "application/vnd.jupyter.widget-view+json": {
       "model_id": "",
       "version_major": 2,
       "version_minor": 0
      },
      "text/plain": [
       "HBox(children=(FloatProgress(value=1.0, bar_style='info', description='Validating', layout=Layout(flex='2'), m…"
      ]
     },
     "metadata": {},
     "output_type": "display_data"
    },
    {
     "name": "stdout",
     "output_type": "stream",
     "text": [
      "Val-Acc=0.7694131594546533\n",
      "Train-Acc=0.8211462450592886\n"
     ]
    },
    {
     "data": {
      "application/vnd.jupyter.widget-view+json": {
       "model_id": "",
       "version_major": 2,
       "version_minor": 0
      },
      "text/plain": [
       "HBox(children=(FloatProgress(value=1.0, bar_style='info', description='Validating', layout=Layout(flex='2'), m…"
      ]
     },
     "metadata": {},
     "output_type": "display_data"
    },
    {
     "name": "stdout",
     "output_type": "stream",
     "text": [
      "Val-Acc=0.7486662714878483\n",
      "Train-Acc=0.8201581027667985\n"
     ]
    },
    {
     "data": {
      "application/vnd.jupyter.widget-view+json": {
       "model_id": "",
       "version_major": 2,
       "version_minor": 0
      },
      "text/plain": [
       "HBox(children=(FloatProgress(value=1.0, bar_style='info', description='Validating', layout=Layout(flex='2'), m…"
      ]
     },
     "metadata": {},
     "output_type": "display_data"
    },
    {
     "name": "stdout",
     "output_type": "stream",
     "text": [
      "Val-Acc=0.7871962062833432\n",
      "Train-Acc=0.8231225296442688\n"
     ]
    },
    {
     "data": {
      "application/vnd.jupyter.widget-view+json": {
       "model_id": "",
       "version_major": 2,
       "version_minor": 0
      },
      "text/plain": [
       "HBox(children=(FloatProgress(value=1.0, bar_style='info', description='Validating', layout=Layout(flex='2'), m…"
      ]
     },
     "metadata": {},
     "output_type": "display_data"
    },
    {
     "name": "stdout",
     "output_type": "stream",
     "text": [
      "Val-Acc=0.7516301126259632\n",
      "Train-Acc=0.8310276679841897\n"
     ]
    },
    {
     "data": {
      "application/vnd.jupyter.widget-view+json": {
       "model_id": "",
       "version_major": 2,
       "version_minor": 0
      },
      "text/plain": [
       "HBox(children=(FloatProgress(value=1.0, bar_style='info', description='Validating', layout=Layout(flex='2'), m…"
      ]
     },
     "metadata": {},
     "output_type": "display_data"
    },
    {
     "name": "stdout",
     "output_type": "stream",
     "text": [
      "Val-Acc=0.8203912270302312\n",
      "Train-Acc=0.833794466403162\n"
     ]
    },
    {
     "data": {
      "application/vnd.jupyter.widget-view+json": {
       "model_id": "",
       "version_major": 2,
       "version_minor": 0
      },
      "text/plain": [
       "HBox(children=(FloatProgress(value=1.0, bar_style='info', description='Validating', layout=Layout(flex='2'), m…"
      ]
     },
     "metadata": {},
     "output_type": "display_data"
    },
    {
     "name": "stdout",
     "output_type": "stream",
     "text": [
      "Val-Acc=0.7528156490812092\n",
      "Train-Acc=0.8258893280632411\n"
     ]
    },
    {
     "data": {
      "application/vnd.jupyter.widget-view+json": {
       "model_id": "",
       "version_major": 2,
       "version_minor": 0
      },
      "text/plain": [
       "HBox(children=(FloatProgress(value=1.0, bar_style='info', description='Validating', layout=Layout(flex='2'), m…"
      ]
     },
     "metadata": {},
     "output_type": "display_data"
    },
    {
     "name": "stdout",
     "output_type": "stream",
     "text": [
      "Val-Acc=0.7753408417308832\n",
      "Train-Acc=0.8361660079051383\n"
     ]
    },
    {
     "data": {
      "application/vnd.jupyter.widget-view+json": {
       "model_id": "",
       "version_major": 2,
       "version_minor": 0
      },
      "text/plain": [
       "HBox(children=(FloatProgress(value=1.0, bar_style='info', description='Validating', layout=Layout(flex='2'), m…"
      ]
     },
     "metadata": {},
     "output_type": "display_data"
    },
    {
     "name": "stdout",
     "output_type": "stream",
     "text": [
      "Val-Acc=0.7622999407231772\n",
      "Train-Acc=0.8314229249011857\n"
     ]
    },
    {
     "data": {
      "application/vnd.jupyter.widget-view+json": {
       "model_id": "",
       "version_major": 2,
       "version_minor": 0
      },
      "text/plain": [
       "HBox(children=(FloatProgress(value=1.0, bar_style='info', description='Validating', layout=Layout(flex='2'), m…"
      ]
     },
     "metadata": {},
     "output_type": "display_data"
    },
    {
     "name": "stdout",
     "output_type": "stream",
     "text": [
      "Val-Acc=0.7978660343805573\n",
      "Train-Acc=0.8458498023715415\n"
     ]
    },
    {
     "data": {
      "application/vnd.jupyter.widget-view+json": {
       "model_id": "",
       "version_major": 2,
       "version_minor": 0
      },
      "text/plain": [
       "HBox(children=(FloatProgress(value=1.0, bar_style='info', description='Validating', layout=Layout(flex='2'), m…"
      ]
     },
     "metadata": {},
     "output_type": "display_data"
    },
    {
     "name": "stdout",
     "output_type": "stream",
     "text": [
      "Val-Acc=0.7943094250148192\n",
      "Train-Acc=0.8357707509881422\n"
     ]
    },
    {
     "data": {
      "application/vnd.jupyter.widget-view+json": {
       "model_id": "",
       "version_major": 2,
       "version_minor": 0
      },
      "text/plain": [
       "HBox(children=(FloatProgress(value=1.0, bar_style='info', description='Validating', layout=Layout(flex='2'), m…"
      ]
     },
     "metadata": {},
     "output_type": "display_data"
    },
    {
     "name": "stdout",
     "output_type": "stream",
     "text": [
      "Val-Acc=0.7889745109662122\n",
      "Train-Acc=0.8430830039525692\n"
     ]
    },
    {
     "data": {
      "application/vnd.jupyter.widget-view+json": {
       "model_id": "",
       "version_major": 2,
       "version_minor": 0
      },
      "text/plain": [
       "HBox(children=(FloatProgress(value=1.0, bar_style='info', description='Validating', layout=Layout(flex='2'), m…"
      ]
     },
     "metadata": {},
     "output_type": "display_data"
    },
    {
     "name": "stdout",
     "output_type": "stream",
     "text": [
      "Val-Acc=0.7871962062833432\n",
      "Train-Acc=0.841106719367589\n"
     ]
    },
    {
     "data": {
      "application/vnd.jupyter.widget-view+json": {
       "model_id": "",
       "version_major": 2,
       "version_minor": 0
      },
      "text/plain": [
       "HBox(children=(FloatProgress(value=1.0, bar_style='info', description='Validating', layout=Layout(flex='2'), m…"
      ]
     },
     "metadata": {},
     "output_type": "display_data"
    },
    {
     "name": "stdout",
     "output_type": "stream",
     "text": [
      "Val-Acc=0.7747480735032602\n",
      "Train-Acc=0.8369565217391305\n",
      "\n",
      "Saved model to \"saved_modelsq/34.p\"\n"
     ]
    },
    {
     "name": "stderr",
     "output_type": "stream",
     "text": [
      "[I 2020-07-20 19:25:55,981] Finished trial#34 with value: 0.7747480735032602 with parameters: {'learning_rate': 0.00010426904639493412, 'p_drop': 0.08278959421985238, 'lr_decay': 0.9648773107585059, 'n_hidden': 781, 'weight_decay': 0.03837904701155582}. Best is trial#17 with value: 0.8707765263781861.\n",
      "GPU available: True, used: True\n",
      "No environment variable for node rank defined. Set as 0.\n",
      "CUDA_VISIBLE_DEVICES: [0]\n",
      "Set SLURM handle signals.\n",
      "\n",
      "   | Name           | Type          | Params\n",
      "---------------------------------------------\n",
      "0  | model          | AblationModel | 163 K \n",
      "1  | model.convs    | Sequential    | 114 K \n",
      "2  | model.convs.0  | BatchNorm2d   | 2     \n",
      "3  | model.convs.1  | Conv2d        | 1 K   \n",
      "4  | model.convs.2  | BatchNorm2d   | 20    \n",
      "5  | model.convs.3  | PReLU         | 1     \n",
      "6  | model.convs.4  | MaxPool2d     | 0     \n",
      "7  | model.convs.5  | Dropout       | 0     \n",
      "8  | model.convs.6  | Conv2d        | 20 K  \n",
      "9  | model.convs.7  | BatchNorm2d   | 40    \n",
      "10 | model.convs.8  | PReLU         | 1     \n",
      "11 | model.convs.9  | MaxPool2d     | 0     \n",
      "12 | model.convs.10 | Dropout       | 0     \n",
      "13 | model.convs.11 | Conv2d        | 80 K  \n",
      "14 | model.convs.12 | BatchNorm2d   | 80    \n",
      "15 | model.convs.13 | PReLU         | 1     \n",
      "16 | model.convs.14 | MaxPool2d     | 0     \n",
      "17 | model.convs.15 | Dropout       | 0     \n",
      "18 | model.convs.16 | Conv2d        | 12 K  \n",
      "19 | model.convs.17 | BatchNorm2d   | 160   \n",
      "20 | model.convs.18 | PReLU         | 1     \n",
      "21 | model.convs.19 | MaxPool2d     | 0     \n",
      "22 | model.convs.20 | Dropout       | 0     \n",
      "23 | model.dense    | Sequential    | 49 K  \n",
      "24 | model.dense.0  | Linear        | 48 K  \n",
      "25 | model.dense.1  | PReLU         | 1     \n",
      "26 | model.dense.2  | Dropout       | 0     \n",
      "27 | model.dense.3  | Linear        | 1 K   \n"
     ]
    },
    {
     "data": {
      "application/vnd.jupyter.widget-view+json": {
       "model_id": "",
       "version_major": 2,
       "version_minor": 0
      },
      "text/plain": [
       "HBox(children=(FloatProgress(value=1.0, bar_style='info', description='Validation sanity check', layout=Layout…"
      ]
     },
     "metadata": {},
     "output_type": "display_data"
    },
    {
     "name": "stdout",
     "output_type": "stream",
     "text": [
      "Val-Acc=0.01956135151155898\n"
     ]
    },
    {
     "data": {
      "application/vnd.jupyter.widget-view+json": {
       "model_id": "029af68589324b33b3fafe16196278be",
       "version_major": 2,
       "version_minor": 0
      },
      "text/plain": [
       "HBox(children=(FloatProgress(value=1.0, bar_style='info', description='Training', layout=Layout(flex='2'), max…"
      ]
     },
     "metadata": {},
     "output_type": "display_data"
    },
    {
     "data": {
      "application/vnd.jupyter.widget-view+json": {
       "model_id": "",
       "version_major": 2,
       "version_minor": 0
      },
      "text/plain": [
       "HBox(children=(FloatProgress(value=1.0, bar_style='info', description='Validating', layout=Layout(flex='2'), m…"
      ]
     },
     "metadata": {},
     "output_type": "display_data"
    },
    {
     "name": "stdout",
     "output_type": "stream",
     "text": [
      "Val-Acc=0.6514522821576764\n",
      "Train-Acc=0.7379446640316205\n"
     ]
    },
    {
     "data": {
      "application/vnd.jupyter.widget-view+json": {
       "model_id": "",
       "version_major": 2,
       "version_minor": 0
      },
      "text/plain": [
       "HBox(children=(FloatProgress(value=1.0, bar_style='info', description='Validating', layout=Layout(flex='2'), m…"
      ]
     },
     "metadata": {},
     "output_type": "display_data"
    },
    {
     "name": "stdout",
     "output_type": "stream",
     "text": [
      "Val-Acc=0.7996443390634262\n",
      "Train-Acc=0.792094861660079\n"
     ]
    },
    {
     "data": {
      "application/vnd.jupyter.widget-view+json": {
       "model_id": "",
       "version_major": 2,
       "version_minor": 0
      },
      "text/plain": [
       "HBox(children=(FloatProgress(value=1.0, bar_style='info', description='Validating', layout=Layout(flex='2'), m…"
      ]
     },
     "metadata": {},
     "output_type": "display_data"
    },
    {
     "name": "stdout",
     "output_type": "stream",
     "text": [
      "Val-Acc=0.7587433313574392\n",
      "Train-Acc=0.8021739130434783\n"
     ]
    },
    {
     "data": {
      "application/vnd.jupyter.widget-view+json": {
       "model_id": "",
       "version_major": 2,
       "version_minor": 0
      },
      "text/plain": [
       "HBox(children=(FloatProgress(value=1.0, bar_style='info', description='Validating', layout=Layout(flex='2'), m…"
      ]
     },
     "metadata": {},
     "output_type": "display_data"
    },
    {
     "name": "stdout",
     "output_type": "stream",
     "text": [
      "Val-Acc=0.5903971547125074\n",
      "Train-Acc=0.8092885375494071\n"
     ]
    },
    {
     "data": {
      "application/vnd.jupyter.widget-view+json": {
       "model_id": "",
       "version_major": 2,
       "version_minor": 0
      },
      "text/plain": [
       "HBox(children=(FloatProgress(value=1.0, bar_style='info', description='Validating', layout=Layout(flex='2'), m…"
      ]
     },
     "metadata": {},
     "output_type": "display_data"
    },
    {
     "name": "stdout",
     "output_type": "stream",
     "text": [
      "Val-Acc=0.7800829875518672\n",
      "Train-Acc=0.8029644268774704\n"
     ]
    },
    {
     "data": {
      "application/vnd.jupyter.widget-view+json": {
       "model_id": "",
       "version_major": 2,
       "version_minor": 0
      },
      "text/plain": [
       "HBox(children=(FloatProgress(value=1.0, bar_style='info', description='Validating', layout=Layout(flex='2'), m…"
      ]
     },
     "metadata": {},
     "output_type": "display_data"
    },
    {
     "name": "stdout",
     "output_type": "stream",
     "text": [
      "Val-Acc=0.7551867219917012\n",
      "Train-Acc=0.8166007905138339\n"
     ]
    },
    {
     "data": {
      "application/vnd.jupyter.widget-view+json": {
       "model_id": "",
       "version_major": 2,
       "version_minor": 0
      },
      "text/plain": [
       "HBox(children=(FloatProgress(value=1.0, bar_style='info', description='Validating', layout=Layout(flex='2'), m…"
      ]
     },
     "metadata": {},
     "output_type": "display_data"
    },
    {
     "name": "stdout",
     "output_type": "stream",
     "text": [
      "Val-Acc=0.8144635447540012\n",
      "Train-Acc=0.8158102766798419\n"
     ]
    },
    {
     "data": {
      "application/vnd.jupyter.widget-view+json": {
       "model_id": "",
       "version_major": 2,
       "version_minor": 0
      },
      "text/plain": [
       "HBox(children=(FloatProgress(value=1.0, bar_style='info', description='Validating', layout=Layout(flex='2'), m…"
      ]
     },
     "metadata": {},
     "output_type": "display_data"
    },
    {
     "name": "stdout",
     "output_type": "stream",
     "text": [
      "Val-Acc=0.7551867219917012\n",
      "Train-Acc=0.8213438735177866\n"
     ]
    },
    {
     "data": {
      "application/vnd.jupyter.widget-view+json": {
       "model_id": "",
       "version_major": 2,
       "version_minor": 0
      },
      "text/plain": [
       "HBox(children=(FloatProgress(value=1.0, bar_style='info', description='Validating', layout=Layout(flex='2'), m…"
      ]
     },
     "metadata": {},
     "output_type": "display_data"
    },
    {
     "name": "stdout",
     "output_type": "stream",
     "text": [
      "Val-Acc=0.8162418494368702\n",
      "Train-Acc=0.8294466403162055\n"
     ]
    },
    {
     "data": {
      "application/vnd.jupyter.widget-view+json": {
       "model_id": "",
       "version_major": 2,
       "version_minor": 0
      },
      "text/plain": [
       "HBox(children=(FloatProgress(value=1.0, bar_style='info', description='Validating', layout=Layout(flex='2'), m…"
      ]
     },
     "metadata": {},
     "output_type": "display_data"
    },
    {
     "name": "stdout",
     "output_type": "stream",
     "text": [
      "Val-Acc=0.7984588026081803\n",
      "Train-Acc=0.8308300395256917\n"
     ]
    },
    {
     "data": {
      "application/vnd.jupyter.widget-view+json": {
       "model_id": "",
       "version_major": 2,
       "version_minor": 0
      },
      "text/plain": [
       "HBox(children=(FloatProgress(value=1.0, bar_style='info', description='Validating', layout=Layout(flex='2'), m…"
      ]
     },
     "metadata": {},
     "output_type": "display_data"
    },
    {
     "name": "stdout",
     "output_type": "stream",
     "text": [
      "Val-Acc=0.7534084173088322\n",
      "Train-Acc=0.8276679841897233\n"
     ]
    },
    {
     "data": {
      "application/vnd.jupyter.widget-view+json": {
       "model_id": "",
       "version_major": 2,
       "version_minor": 0
      },
      "text/plain": [
       "HBox(children=(FloatProgress(value=1.0, bar_style='info', description='Validating', layout=Layout(flex='2'), m…"
      ]
     },
     "metadata": {},
     "output_type": "display_data"
    },
    {
     "name": "stdout",
     "output_type": "stream",
     "text": [
      "Val-Acc=0.7296976882039122\n",
      "Train-Acc=0.8264822134387352\n"
     ]
    },
    {
     "data": {
      "application/vnd.jupyter.widget-view+json": {
       "model_id": "",
       "version_major": 2,
       "version_minor": 0
      },
      "text/plain": [
       "HBox(children=(FloatProgress(value=1.0, bar_style='info', description='Validating', layout=Layout(flex='2'), m…"
      ]
     },
     "metadata": {},
     "output_type": "display_data"
    },
    {
     "name": "stdout",
     "output_type": "stream",
     "text": [
      "Val-Acc=0.8547717842323651\n",
      "Train-Acc=0.8369565217391305\n"
     ]
    },
    {
     "data": {
      "application/vnd.jupyter.widget-view+json": {
       "model_id": "",
       "version_major": 2,
       "version_minor": 0
      },
      "text/plain": [
       "HBox(children=(FloatProgress(value=1.0, bar_style='info', description='Validating', layout=Layout(flex='2'), m…"
      ]
     },
     "metadata": {},
     "output_type": "display_data"
    },
    {
     "name": "stdout",
     "output_type": "stream",
     "text": [
      "Val-Acc=0.6822762299940723\n",
      "Train-Acc=0.83399209486166\n"
     ]
    },
    {
     "data": {
      "application/vnd.jupyter.widget-view+json": {
       "model_id": "",
       "version_major": 2,
       "version_minor": 0
      },
      "text/plain": [
       "HBox(children=(FloatProgress(value=1.0, bar_style='info', description='Validating', layout=Layout(flex='2'), m…"
      ]
     },
     "metadata": {},
     "output_type": "display_data"
    },
    {
     "name": "stdout",
     "output_type": "stream",
     "text": [
      "Val-Acc=0.7984588026081803\n",
      "Train-Acc=0.841106719367589\n"
     ]
    },
    {
     "data": {
      "application/vnd.jupyter.widget-view+json": {
       "model_id": "",
       "version_major": 2,
       "version_minor": 0
      },
      "text/plain": [
       "HBox(children=(FloatProgress(value=1.0, bar_style='info', description='Validating', layout=Layout(flex='2'), m…"
      ]
     },
     "metadata": {},
     "output_type": "display_data"
    },
    {
     "name": "stdout",
     "output_type": "stream",
     "text": [
      "Val-Acc=0.7966804979253111\n",
      "Train-Acc=0.8452569169960474\n"
     ]
    },
    {
     "data": {
      "application/vnd.jupyter.widget-view+json": {
       "model_id": "",
       "version_major": 2,
       "version_minor": 0
      },
      "text/plain": [
       "HBox(children=(FloatProgress(value=1.0, bar_style='info', description='Validating', layout=Layout(flex='2'), m…"
      ]
     },
     "metadata": {},
     "output_type": "display_data"
    },
    {
     "name": "stdout",
     "output_type": "stream",
     "text": [
      "Val-Acc=0.7646710136336692\n",
      "Train-Acc=0.8531620553359683\n"
     ]
    },
    {
     "data": {
      "application/vnd.jupyter.widget-view+json": {
       "model_id": "",
       "version_major": 2,
       "version_minor": 0
      },
      "text/plain": [
       "HBox(children=(FloatProgress(value=1.0, bar_style='info', description='Validating', layout=Layout(flex='2'), m…"
      ]
     },
     "metadata": {},
     "output_type": "display_data"
    },
    {
     "name": "stdout",
     "output_type": "stream",
     "text": [
      "Val-Acc=0.7794902193242442\n",
      "Train-Acc=0.8440711462450593\n"
     ]
    },
    {
     "data": {
      "application/vnd.jupyter.widget-view+json": {
       "model_id": "",
       "version_major": 2,
       "version_minor": 0
      },
      "text/plain": [
       "HBox(children=(FloatProgress(value=1.0, bar_style='info', description='Validating', layout=Layout(flex='2'), m…"
      ]
     },
     "metadata": {},
     "output_type": "display_data"
    },
    {
     "name": "stdout",
     "output_type": "stream",
     "text": [
      "Val-Acc=0.8014226437462952\n",
      "Train-Acc=0.8492094861660079\n"
     ]
    },
    {
     "data": {
      "application/vnd.jupyter.widget-view+json": {
       "model_id": "",
       "version_major": 2,
       "version_minor": 0
      },
      "text/plain": [
       "HBox(children=(FloatProgress(value=1.0, bar_style='info', description='Validating', layout=Layout(flex='2'), m…"
      ]
     },
     "metadata": {},
     "output_type": "display_data"
    },
    {
     "name": "stdout",
     "output_type": "stream",
     "text": [
      "Val-Acc=0.7771191464137522\n",
      "Train-Acc=0.8494071146245059\n",
      "\n",
      "Saved model to \"saved_modelsq/35.p\"\n"
     ]
    },
    {
     "name": "stderr",
     "output_type": "stream",
     "text": [
      "[I 2020-07-20 19:28:43,698] Finished trial#35 with value: 0.7771191464137522 with parameters: {'learning_rate': 0.0008362850429557097, 'p_drop': 0.1828477548710855, 'lr_decay': 0.8996933791785469, 'n_hidden': 598, 'weight_decay': 0.02275349486408572}. Best is trial#17 with value: 0.8707765263781861.\n",
      "GPU available: True, used: True\n",
      "No environment variable for node rank defined. Set as 0.\n",
      "CUDA_VISIBLE_DEVICES: [0]\n",
      "Set SLURM handle signals.\n",
      "\n",
      "   | Name           | Type          | Params\n",
      "---------------------------------------------\n",
      "0  | model          | AblationModel | 183 K \n",
      "1  | model.convs    | Sequential    | 114 K \n",
      "2  | model.convs.0  | BatchNorm2d   | 2     \n",
      "3  | model.convs.1  | Conv2d        | 1 K   \n",
      "4  | model.convs.2  | BatchNorm2d   | 20    \n",
      "5  | model.convs.3  | PReLU         | 1     \n",
      "6  | model.convs.4  | MaxPool2d     | 0     \n",
      "7  | model.convs.5  | Dropout       | 0     \n",
      "8  | model.convs.6  | Conv2d        | 20 K  \n",
      "9  | model.convs.7  | BatchNorm2d   | 40    \n",
      "10 | model.convs.8  | PReLU         | 1     \n",
      "11 | model.convs.9  | MaxPool2d     | 0     \n",
      "12 | model.convs.10 | Dropout       | 0     \n",
      "13 | model.convs.11 | Conv2d        | 80 K  \n",
      "14 | model.convs.12 | BatchNorm2d   | 80    \n",
      "15 | model.convs.13 | PReLU         | 1     \n",
      "16 | model.convs.14 | MaxPool2d     | 0     \n",
      "17 | model.convs.15 | Dropout       | 0     \n",
      "18 | model.convs.16 | Conv2d        | 12 K  \n",
      "19 | model.convs.17 | BatchNorm2d   | 160   \n",
      "20 | model.convs.18 | PReLU         | 1     \n",
      "21 | model.convs.19 | MaxPool2d     | 0     \n",
      "22 | model.convs.20 | Dropout       | 0     \n",
      "23 | model.dense    | Sequential    | 69 K  \n",
      "24 | model.dense.0  | Linear        | 67 K  \n",
      "25 | model.dense.1  | PReLU         | 1     \n",
      "26 | model.dense.2  | Dropout       | 0     \n",
      "27 | model.dense.3  | Linear        | 1 K   \n"
     ]
    },
    {
     "data": {
      "application/vnd.jupyter.widget-view+json": {
       "model_id": "",
       "version_major": 2,
       "version_minor": 0
      },
      "text/plain": [
       "HBox(children=(FloatProgress(value=1.0, bar_style='info', description='Validation sanity check', layout=Layout…"
      ]
     },
     "metadata": {},
     "output_type": "display_data"
    },
    {
     "name": "stdout",
     "output_type": "stream",
     "text": [
      "Val-Acc=0.018375815056312982\n"
     ]
    },
    {
     "data": {
      "application/vnd.jupyter.widget-view+json": {
       "model_id": "6f94587175a34ade93444efb306dd2a0",
       "version_major": 2,
       "version_minor": 0
      },
      "text/plain": [
       "HBox(children=(FloatProgress(value=1.0, bar_style='info', description='Training', layout=Layout(flex='2'), max…"
      ]
     },
     "metadata": {},
     "output_type": "display_data"
    },
    {
     "data": {
      "application/vnd.jupyter.widget-view+json": {
       "model_id": "",
       "version_major": 2,
       "version_minor": 0
      },
      "text/plain": [
       "HBox(children=(FloatProgress(value=1.0, bar_style='info', description='Validating', layout=Layout(flex='2'), m…"
      ]
     },
     "metadata": {},
     "output_type": "display_data"
    },
    {
     "name": "stdout",
     "output_type": "stream",
     "text": [
      "Val-Acc=0.6152934202726734\n",
      "Train-Acc=0.6304347826086957\n"
     ]
    },
    {
     "data": {
      "application/vnd.jupyter.widget-view+json": {
       "model_id": "",
       "version_major": 2,
       "version_minor": 0
      },
      "text/plain": [
       "HBox(children=(FloatProgress(value=1.0, bar_style='info', description='Validating', layout=Layout(flex='2'), m…"
      ]
     },
     "metadata": {},
     "output_type": "display_data"
    },
    {
     "name": "stdout",
     "output_type": "stream",
     "text": [
      "Val-Acc=0.5489033787788975\n"
     ]
    },
    {
     "name": "stderr",
     "output_type": "stream",
     "text": [
      "[I 2020-07-20 19:29:00,798] Setting status of trial#36 as TrialState.PRUNED. Trial was pruned at epoch 1.\n",
      "GPU available: True, used: True\n",
      "No environment variable for node rank defined. Set as 0.\n",
      "CUDA_VISIBLE_DEVICES: [0]\n",
      "Set SLURM handle signals.\n",
      "\n",
      "   | Name           | Type          | Params\n",
      "---------------------------------------------\n",
      "0  | model          | AblationModel | 191 K \n",
      "1  | model.convs    | Sequential    | 114 K \n",
      "2  | model.convs.0  | BatchNorm2d   | 2     \n",
      "3  | model.convs.1  | Conv2d        | 1 K   \n",
      "4  | model.convs.2  | BatchNorm2d   | 20    \n",
      "5  | model.convs.3  | PReLU         | 1     \n",
      "6  | model.convs.4  | MaxPool2d     | 0     \n",
      "7  | model.convs.5  | Dropout       | 0     \n",
      "8  | model.convs.6  | Conv2d        | 20 K  \n",
      "9  | model.convs.7  | BatchNorm2d   | 40    \n",
      "10 | model.convs.8  | PReLU         | 1     \n",
      "11 | model.convs.9  | MaxPool2d     | 0     \n",
      "12 | model.convs.10 | Dropout       | 0     \n",
      "13 | model.convs.11 | Conv2d        | 80 K  \n",
      "14 | model.convs.12 | BatchNorm2d   | 80    \n",
      "15 | model.convs.13 | PReLU         | 1     \n",
      "16 | model.convs.14 | MaxPool2d     | 0     \n",
      "17 | model.convs.15 | Dropout       | 0     \n",
      "18 | model.convs.16 | Conv2d        | 12 K  \n",
      "19 | model.convs.17 | BatchNorm2d   | 160   \n",
      "20 | model.convs.18 | PReLU         | 1     \n",
      "21 | model.convs.19 | MaxPool2d     | 0     \n",
      "22 | model.convs.20 | Dropout       | 0     \n",
      "23 | model.dense    | Sequential    | 77 K  \n",
      "24 | model.dense.0  | Linear        | 75 K  \n",
      "25 | model.dense.1  | PReLU         | 1     \n",
      "26 | model.dense.2  | Dropout       | 0     \n",
      "27 | model.dense.3  | Linear        | 1 K   \n"
     ]
    },
    {
     "data": {
      "application/vnd.jupyter.widget-view+json": {
       "model_id": "",
       "version_major": 2,
       "version_minor": 0
      },
      "text/plain": [
       "HBox(children=(FloatProgress(value=1.0, bar_style='info', description='Validation sanity check', layout=Layout…"
      ]
     },
     "metadata": {},
     "output_type": "display_data"
    },
    {
     "name": "stdout",
     "output_type": "stream",
     "text": [
      "Val-Acc=0.02133965619442798\n"
     ]
    },
    {
     "data": {
      "application/vnd.jupyter.widget-view+json": {
       "model_id": "4a0bd7e222594074ae48e4201c9613f8",
       "version_major": 2,
       "version_minor": 0
      },
      "text/plain": [
       "HBox(children=(FloatProgress(value=1.0, bar_style='info', description='Training', layout=Layout(flex='2'), max…"
      ]
     },
     "metadata": {},
     "output_type": "display_data"
    },
    {
     "data": {
      "application/vnd.jupyter.widget-view+json": {
       "model_id": "",
       "version_major": 2,
       "version_minor": 0
      },
      "text/plain": [
       "HBox(children=(FloatProgress(value=1.0, bar_style='info', description='Validating', layout=Layout(flex='2'), m…"
      ]
     },
     "metadata": {},
     "output_type": "display_data"
    },
    {
     "name": "stdout",
     "output_type": "stream",
     "text": [
      "Val-Acc=0.7006520450503853\n",
      "Train-Acc=0.7270750988142293\n"
     ]
    },
    {
     "data": {
      "application/vnd.jupyter.widget-view+json": {
       "model_id": "",
       "version_major": 2,
       "version_minor": 0
      },
      "text/plain": [
       "HBox(children=(FloatProgress(value=1.0, bar_style='info', description='Validating', layout=Layout(flex='2'), m…"
      ]
     },
     "metadata": {},
     "output_type": "display_data"
    },
    {
     "name": "stdout",
     "output_type": "stream",
     "text": [
      "Val-Acc=0.6022525192649674\n"
     ]
    },
    {
     "name": "stderr",
     "output_type": "stream",
     "text": [
      "[I 2020-07-20 19:29:17,997] Setting status of trial#37 as TrialState.PRUNED. Trial was pruned at epoch 1.\n",
      "GPU available: True, used: True\n",
      "No environment variable for node rank defined. Set as 0.\n",
      "CUDA_VISIBLE_DEVICES: [0]\n",
      "Set SLURM handle signals.\n",
      "\n",
      "   | Name           | Type          | Params\n",
      "---------------------------------------------\n",
      "0  | model          | AblationModel | 169 K \n",
      "1  | model.convs    | Sequential    | 114 K \n",
      "2  | model.convs.0  | BatchNorm2d   | 2     \n",
      "3  | model.convs.1  | Conv2d        | 1 K   \n",
      "4  | model.convs.2  | BatchNorm2d   | 20    \n",
      "5  | model.convs.3  | PReLU         | 1     \n",
      "6  | model.convs.4  | MaxPool2d     | 0     \n",
      "7  | model.convs.5  | Dropout       | 0     \n",
      "8  | model.convs.6  | Conv2d        | 20 K  \n",
      "9  | model.convs.7  | BatchNorm2d   | 40    \n",
      "10 | model.convs.8  | PReLU         | 1     \n",
      "11 | model.convs.9  | MaxPool2d     | 0     \n",
      "12 | model.convs.10 | Dropout       | 0     \n",
      "13 | model.convs.11 | Conv2d        | 80 K  \n",
      "14 | model.convs.12 | BatchNorm2d   | 80    \n",
      "15 | model.convs.13 | PReLU         | 1     \n",
      "16 | model.convs.14 | MaxPool2d     | 0     \n",
      "17 | model.convs.15 | Dropout       | 0     \n",
      "18 | model.convs.16 | Conv2d        | 12 K  \n",
      "19 | model.convs.17 | BatchNorm2d   | 160   \n",
      "20 | model.convs.18 | PReLU         | 1     \n",
      "21 | model.convs.19 | MaxPool2d     | 0     \n",
      "22 | model.convs.20 | Dropout       | 0     \n",
      "23 | model.dense    | Sequential    | 55 K  \n",
      "24 | model.dense.0  | Linear        | 54 K  \n",
      "25 | model.dense.1  | PReLU         | 1     \n",
      "26 | model.dense.2  | Dropout       | 0     \n",
      "27 | model.dense.3  | Linear        | 1 K   \n"
     ]
    },
    {
     "data": {
      "application/vnd.jupyter.widget-view+json": {
       "model_id": "",
       "version_major": 2,
       "version_minor": 0
      },
      "text/plain": [
       "HBox(children=(FloatProgress(value=1.0, bar_style='info', description='Validation sanity check', layout=Layout…"
      ]
     },
     "metadata": {},
     "output_type": "display_data"
    },
    {
     "name": "stdout",
     "output_type": "stream",
     "text": [
      "Val-Acc=0.01956135151155898\n"
     ]
    },
    {
     "data": {
      "application/vnd.jupyter.widget-view+json": {
       "model_id": "b1c9209dc05a4b8498da807a4b248f8b",
       "version_major": 2,
       "version_minor": 0
      },
      "text/plain": [
       "HBox(children=(FloatProgress(value=1.0, bar_style='info', description='Training', layout=Layout(flex='2'), max…"
      ]
     },
     "metadata": {},
     "output_type": "display_data"
    },
    {
     "data": {
      "application/vnd.jupyter.widget-view+json": {
       "model_id": "",
       "version_major": 2,
       "version_minor": 0
      },
      "text/plain": [
       "HBox(children=(FloatProgress(value=1.0, bar_style='info', description='Validating', layout=Layout(flex='2'), m…"
      ]
     },
     "metadata": {},
     "output_type": "display_data"
    },
    {
     "name": "stdout",
     "output_type": "stream",
     "text": [
      "Val-Acc=0.7480735032602253\n",
      "Train-Acc=0.7146245059288537\n"
     ]
    },
    {
     "data": {
      "application/vnd.jupyter.widget-view+json": {
       "model_id": "",
       "version_major": 2,
       "version_minor": 0
      },
      "text/plain": [
       "HBox(children=(FloatProgress(value=1.0, bar_style='info', description='Validating', layout=Layout(flex='2'), m…"
      ]
     },
     "metadata": {},
     "output_type": "display_data"
    },
    {
     "name": "stdout",
     "output_type": "stream",
     "text": [
      "Val-Acc=0.7788974510966212\n",
      "Train-Acc=0.758695652173913\n"
     ]
    },
    {
     "data": {
      "application/vnd.jupyter.widget-view+json": {
       "model_id": "",
       "version_major": 2,
       "version_minor": 0
      },
      "text/plain": [
       "HBox(children=(FloatProgress(value=1.0, bar_style='info', description='Validating', layout=Layout(flex='2'), m…"
      ]
     },
     "metadata": {},
     "output_type": "display_data"
    },
    {
     "name": "stdout",
     "output_type": "stream",
     "text": [
      "Val-Acc=0.7646710136336692\n",
      "Train-Acc=0.7745059288537549\n"
     ]
    },
    {
     "data": {
      "application/vnd.jupyter.widget-view+json": {
       "model_id": "",
       "version_major": 2,
       "version_minor": 0
      },
      "text/plain": [
       "HBox(children=(FloatProgress(value=1.0, bar_style='info', description='Validating', layout=Layout(flex='2'), m…"
      ]
     },
     "metadata": {},
     "output_type": "display_data"
    },
    {
     "name": "stdout",
     "output_type": "stream",
     "text": [
      "Val-Acc=0.7996443390634262\n",
      "Train-Acc=0.7907114624505929\n"
     ]
    },
    {
     "data": {
      "application/vnd.jupyter.widget-view+json": {
       "model_id": "",
       "version_major": 2,
       "version_minor": 0
      },
      "text/plain": [
       "HBox(children=(FloatProgress(value=1.0, bar_style='info', description='Validating', layout=Layout(flex='2'), m…"
      ]
     },
     "metadata": {},
     "output_type": "display_data"
    },
    {
     "name": "stdout",
     "output_type": "stream",
     "text": [
      "Val-Acc=0.7759336099585062\n",
      "Train-Acc=0.8067193675889328\n"
     ]
    },
    {
     "data": {
      "application/vnd.jupyter.widget-view+json": {
       "model_id": "",
       "version_major": 2,
       "version_minor": 0
      },
      "text/plain": [
       "HBox(children=(FloatProgress(value=1.0, bar_style='info', description='Validating', layout=Layout(flex='2'), m…"
      ]
     },
     "metadata": {},
     "output_type": "display_data"
    },
    {
     "name": "stdout",
     "output_type": "stream",
     "text": [
      "Val-Acc=0.5880260818020154\n",
      "Train-Acc=0.8029644268774704\n"
     ]
    },
    {
     "data": {
      "application/vnd.jupyter.widget-view+json": {
       "model_id": "",
       "version_major": 2,
       "version_minor": 0
      },
      "text/plain": [
       "HBox(children=(FloatProgress(value=1.0, bar_style='info', description='Validating', layout=Layout(flex='2'), m…"
      ]
     },
     "metadata": {},
     "output_type": "display_data"
    },
    {
     "name": "stdout",
     "output_type": "stream",
     "text": [
      "Val-Acc=0.7806757557794902\n",
      "Train-Acc=0.808498023715415\n"
     ]
    },
    {
     "data": {
      "application/vnd.jupyter.widget-view+json": {
       "model_id": "",
       "version_major": 2,
       "version_minor": 0
      },
      "text/plain": [
       "HBox(children=(FloatProgress(value=1.0, bar_style='info', description='Validating', layout=Layout(flex='2'), m…"
      ]
     },
     "metadata": {},
     "output_type": "display_data"
    },
    {
     "name": "stdout",
     "output_type": "stream",
     "text": [
      "Val-Acc=0.8085358624777712\n",
      "Train-Acc=0.8094861660079051\n"
     ]
    },
    {
     "data": {
      "application/vnd.jupyter.widget-view+json": {
       "model_id": "",
       "version_major": 2,
       "version_minor": 0
      },
      "text/plain": [
       "HBox(children=(FloatProgress(value=1.0, bar_style='info', description='Validating', layout=Layout(flex='2'), m…"
      ]
     },
     "metadata": {},
     "output_type": "display_data"
    },
    {
     "name": "stdout",
     "output_type": "stream",
     "text": [
      "Val-Acc=0.8322465915826912\n",
      "Train-Acc=0.8124505928853755\n"
     ]
    },
    {
     "data": {
      "application/vnd.jupyter.widget-view+json": {
       "model_id": "",
       "version_major": 2,
       "version_minor": 0
      },
      "text/plain": [
       "HBox(children=(FloatProgress(value=1.0, bar_style='info', description='Validating', layout=Layout(flex='2'), m…"
      ]
     },
     "metadata": {},
     "output_type": "display_data"
    },
    {
     "name": "stdout",
     "output_type": "stream",
     "text": [
      "Val-Acc=0.6982809721398933\n",
      "Train-Acc=0.8152173913043478\n"
     ]
    },
    {
     "data": {
      "application/vnd.jupyter.widget-view+json": {
       "model_id": "",
       "version_major": 2,
       "version_minor": 0
      },
      "text/plain": [
       "HBox(children=(FloatProgress(value=1.0, bar_style='info', description='Validating', layout=Layout(flex='2'), m…"
      ]
     },
     "metadata": {},
     "output_type": "display_data"
    },
    {
     "name": "stdout",
     "output_type": "stream",
     "text": [
      "Val-Acc=0.8002371072910492\n",
      "Train-Acc=0.8223320158102767\n"
     ]
    },
    {
     "data": {
      "application/vnd.jupyter.widget-view+json": {
       "model_id": "",
       "version_major": 2,
       "version_minor": 0
      },
      "text/plain": [
       "HBox(children=(FloatProgress(value=1.0, bar_style='info', description='Validating', layout=Layout(flex='2'), m…"
      ]
     },
     "metadata": {},
     "output_type": "display_data"
    },
    {
     "name": "stdout",
     "output_type": "stream",
     "text": [
      "Val-Acc=0.7960877296976882\n",
      "Train-Acc=0.8152173913043478\n"
     ]
    },
    {
     "data": {
      "application/vnd.jupyter.widget-view+json": {
       "model_id": "",
       "version_major": 2,
       "version_minor": 0
      },
      "text/plain": [
       "HBox(children=(FloatProgress(value=1.0, bar_style='info', description='Validating', layout=Layout(flex='2'), m…"
      ]
     },
     "metadata": {},
     "output_type": "display_data"
    },
    {
     "name": "stdout",
     "output_type": "stream",
     "text": [
      "Val-Acc=0.7996443390634262\n",
      "Train-Acc=0.8144268774703557\n"
     ]
    },
    {
     "data": {
      "application/vnd.jupyter.widget-view+json": {
       "model_id": "",
       "version_major": 2,
       "version_minor": 0
      },
      "text/plain": [
       "HBox(children=(FloatProgress(value=1.0, bar_style='info', description='Validating', layout=Layout(flex='2'), m…"
      ]
     },
     "metadata": {},
     "output_type": "display_data"
    },
    {
     "name": "stdout",
     "output_type": "stream",
     "text": [
      "Val-Acc=0.7516301126259632\n",
      "Train-Acc=0.81699604743083\n"
     ]
    },
    {
     "data": {
      "application/vnd.jupyter.widget-view+json": {
       "model_id": "",
       "version_major": 2,
       "version_minor": 0
      },
      "text/plain": [
       "HBox(children=(FloatProgress(value=1.0, bar_style='info', description='Validating', layout=Layout(flex='2'), m…"
      ]
     },
     "metadata": {},
     "output_type": "display_data"
    },
    {
     "name": "stdout",
     "output_type": "stream",
     "text": [
      "Val-Acc=0.8097213989330172\n",
      "Train-Acc=0.8221343873517787\n"
     ]
    },
    {
     "data": {
      "application/vnd.jupyter.widget-view+json": {
       "model_id": "",
       "version_major": 2,
       "version_minor": 0
      },
      "text/plain": [
       "HBox(children=(FloatProgress(value=1.0, bar_style='info', description='Validating', layout=Layout(flex='2'), m…"
      ]
     },
     "metadata": {},
     "output_type": "display_data"
    },
    {
     "name": "stdout",
     "output_type": "stream",
     "text": [
      "Val-Acc=0.8156490812092472\n",
      "Train-Acc=0.8268774703557312\n"
     ]
    },
    {
     "data": {
      "application/vnd.jupyter.widget-view+json": {
       "model_id": "",
       "version_major": 2,
       "version_minor": 0
      },
      "text/plain": [
       "HBox(children=(FloatProgress(value=1.0, bar_style='info', description='Validating', layout=Layout(flex='2'), m…"
      ]
     },
     "metadata": {},
     "output_type": "display_data"
    },
    {
     "name": "stdout",
     "output_type": "stream",
     "text": [
      "Val-Acc=0.7954949614700652\n",
      "Train-Acc=0.8183794466403163\n"
     ]
    },
    {
     "data": {
      "application/vnd.jupyter.widget-view+json": {
       "model_id": "",
       "version_major": 2,
       "version_minor": 0
      },
      "text/plain": [
       "HBox(children=(FloatProgress(value=1.0, bar_style='info', description='Validating', layout=Layout(flex='2'), m…"
      ]
     },
     "metadata": {},
     "output_type": "display_data"
    },
    {
     "name": "stdout",
     "output_type": "stream",
     "text": [
      "Val-Acc=0.8174273858921162\n",
      "Train-Acc=0.824703557312253\n"
     ]
    },
    {
     "data": {
      "application/vnd.jupyter.widget-view+json": {
       "model_id": "",
       "version_major": 2,
       "version_minor": 0
      },
      "text/plain": [
       "HBox(children=(FloatProgress(value=1.0, bar_style='info', description='Validating', layout=Layout(flex='2'), m…"
      ]
     },
     "metadata": {},
     "output_type": "display_data"
    },
    {
     "name": "stdout",
     "output_type": "stream",
     "text": [
      "Val-Acc=0.8328393598103142\n",
      "Train-Acc=0.8227272727272728\n"
     ]
    },
    {
     "data": {
      "application/vnd.jupyter.widget-view+json": {
       "model_id": "",
       "version_major": 2,
       "version_minor": 0
      },
      "text/plain": [
       "HBox(children=(FloatProgress(value=1.0, bar_style='info', description='Validating', layout=Layout(flex='2'), m…"
      ]
     },
     "metadata": {},
     "output_type": "display_data"
    },
    {
     "name": "stdout",
     "output_type": "stream",
     "text": [
      "Val-Acc=0.7516301126259632\n",
      "Train-Acc=0.8288537549407115\n",
      "\n",
      "Saved model to \"saved_modelsq/38.p\"\n"
     ]
    },
    {
     "name": "stderr",
     "output_type": "stream",
     "text": [
      "[I 2020-07-20 19:32:06,124] Finished trial#38 with value: 0.7516301126259632 with parameters: {'learning_rate': 0.00033293511584921815, 'p_drop': 0.49039897144370864, 'lr_decay': 0.9735798611246572, 'n_hidden': 667, 'weight_decay': 0.025545584729315177}. Best is trial#17 with value: 0.8707765263781861.\n",
      "GPU available: True, used: True\n",
      "No environment variable for node rank defined. Set as 0.\n",
      "CUDA_VISIBLE_DEVICES: [0]\n",
      "Set SLURM handle signals.\n",
      "\n",
      "   | Name           | Type          | Params\n",
      "---------------------------------------------\n",
      "0  | model          | AblationModel | 174 K \n",
      "1  | model.convs    | Sequential    | 114 K \n",
      "2  | model.convs.0  | BatchNorm2d   | 2     \n",
      "3  | model.convs.1  | Conv2d        | 1 K   \n",
      "4  | model.convs.2  | BatchNorm2d   | 20    \n",
      "5  | model.convs.3  | PReLU         | 1     \n",
      "6  | model.convs.4  | MaxPool2d     | 0     \n",
      "7  | model.convs.5  | Dropout       | 0     \n",
      "8  | model.convs.6  | Conv2d        | 20 K  \n",
      "9  | model.convs.7  | BatchNorm2d   | 40    \n",
      "10 | model.convs.8  | PReLU         | 1     \n",
      "11 | model.convs.9  | MaxPool2d     | 0     \n",
      "12 | model.convs.10 | Dropout       | 0     \n",
      "13 | model.convs.11 | Conv2d        | 80 K  \n",
      "14 | model.convs.12 | BatchNorm2d   | 80    \n",
      "15 | model.convs.13 | PReLU         | 1     \n",
      "16 | model.convs.14 | MaxPool2d     | 0     \n",
      "17 | model.convs.15 | Dropout       | 0     \n",
      "18 | model.convs.16 | Conv2d        | 12 K  \n",
      "19 | model.convs.17 | BatchNorm2d   | 160   \n",
      "20 | model.convs.18 | PReLU         | 1     \n",
      "21 | model.convs.19 | MaxPool2d     | 0     \n",
      "22 | model.convs.20 | Dropout       | 0     \n",
      "23 | model.dense    | Sequential    | 60 K  \n",
      "24 | model.dense.0  | Linear        | 59 K  \n",
      "25 | model.dense.1  | PReLU         | 1     \n",
      "26 | model.dense.2  | Dropout       | 0     \n",
      "27 | model.dense.3  | Linear        | 1 K   \n"
     ]
    },
    {
     "data": {
      "application/vnd.jupyter.widget-view+json": {
       "model_id": "",
       "version_major": 2,
       "version_minor": 0
      },
      "text/plain": [
       "HBox(children=(FloatProgress(value=1.0, bar_style='info', description='Validation sanity check', layout=Layout…"
      ]
     },
     "metadata": {},
     "output_type": "display_data"
    },
    {
     "name": "stdout",
     "output_type": "stream",
     "text": [
      "Val-Acc=0.025489033787788974\n"
     ]
    },
    {
     "data": {
      "application/vnd.jupyter.widget-view+json": {
       "model_id": "ceffa02d3fa74be19e68fa7a30b666bb",
       "version_major": 2,
       "version_minor": 0
      },
      "text/plain": [
       "HBox(children=(FloatProgress(value=1.0, bar_style='info', description='Training', layout=Layout(flex='2'), max…"
      ]
     },
     "metadata": {},
     "output_type": "display_data"
    },
    {
     "data": {
      "application/vnd.jupyter.widget-view+json": {
       "model_id": "",
       "version_major": 2,
       "version_minor": 0
      },
      "text/plain": [
       "HBox(children=(FloatProgress(value=1.0, bar_style='info', description='Validating', layout=Layout(flex='2'), m…"
      ]
     },
     "metadata": {},
     "output_type": "display_data"
    },
    {
     "name": "stdout",
     "output_type": "stream",
     "text": [
      "Val-Acc=0.7510373443983402\n",
      "Train-Acc=0.7377470355731225\n"
     ]
    },
    {
     "data": {
      "application/vnd.jupyter.widget-view+json": {
       "model_id": "",
       "version_major": 2,
       "version_minor": 0
      },
      "text/plain": [
       "HBox(children=(FloatProgress(value=1.0, bar_style='info', description='Validating', layout=Layout(flex='2'), m…"
      ]
     },
     "metadata": {},
     "output_type": "display_data"
    },
    {
     "name": "stdout",
     "output_type": "stream",
     "text": [
      "Val-Acc=0.7492590397154713\n",
      "Train-Acc=0.7796442687747036\n"
     ]
    },
    {
     "data": {
      "application/vnd.jupyter.widget-view+json": {
       "model_id": "",
       "version_major": 2,
       "version_minor": 0
      },
      "text/plain": [
       "HBox(children=(FloatProgress(value=1.0, bar_style='info', description='Validating', layout=Layout(flex='2'), m…"
      ]
     },
     "metadata": {},
     "output_type": "display_data"
    },
    {
     "name": "stdout",
     "output_type": "stream",
     "text": [
      "Val-Acc=0.6277415530527564\n",
      "Train-Acc=0.7808300395256917\n"
     ]
    },
    {
     "data": {
      "application/vnd.jupyter.widget-view+json": {
       "model_id": "",
       "version_major": 2,
       "version_minor": 0
      },
      "text/plain": [
       "HBox(children=(FloatProgress(value=1.0, bar_style='info', description='Validating', layout=Layout(flex='2'), m…"
      ]
     },
     "metadata": {},
     "output_type": "display_data"
    },
    {
     "name": "stdout",
     "output_type": "stream",
     "text": [
      "Val-Acc=0.6799051570835803\n",
      "Train-Acc=0.7952569169960474\n"
     ]
    },
    {
     "data": {
      "application/vnd.jupyter.widget-view+json": {
       "model_id": "",
       "version_major": 2,
       "version_minor": 0
      },
      "text/plain": [
       "HBox(children=(FloatProgress(value=1.0, bar_style='info', description='Validating', layout=Layout(flex='2'), m…"
      ]
     },
     "metadata": {},
     "output_type": "display_data"
    },
    {
     "name": "stdout",
     "output_type": "stream",
     "text": [
      "Val-Acc=0.6348547717842323\n"
     ]
    },
    {
     "name": "stderr",
     "output_type": "stream",
     "text": [
      "[I 2020-07-20 19:32:48,563] Setting status of trial#39 as TrialState.PRUNED. Trial was pruned at epoch 4.\n",
      "GPU available: True, used: True\n",
      "No environment variable for node rank defined. Set as 0.\n",
      "CUDA_VISIBLE_DEVICES: [0]\n",
      "Set SLURM handle signals.\n",
      "\n",
      "   | Name           | Type          | Params\n",
      "---------------------------------------------\n",
      "0  | model          | AblationModel | 149 K \n",
      "1  | model.convs    | Sequential    | 114 K \n",
      "2  | model.convs.0  | BatchNorm2d   | 2     \n",
      "3  | model.convs.1  | Conv2d        | 1 K   \n",
      "4  | model.convs.2  | BatchNorm2d   | 20    \n",
      "5  | model.convs.3  | PReLU         | 1     \n",
      "6  | model.convs.4  | MaxPool2d     | 0     \n",
      "7  | model.convs.5  | Dropout       | 0     \n",
      "8  | model.convs.6  | Conv2d        | 20 K  \n",
      "9  | model.convs.7  | BatchNorm2d   | 40    \n",
      "10 | model.convs.8  | PReLU         | 1     \n",
      "11 | model.convs.9  | MaxPool2d     | 0     \n",
      "12 | model.convs.10 | Dropout       | 0     \n",
      "13 | model.convs.11 | Conv2d        | 80 K  \n",
      "14 | model.convs.12 | BatchNorm2d   | 80    \n",
      "15 | model.convs.13 | PReLU         | 1     \n",
      "16 | model.convs.14 | MaxPool2d     | 0     \n",
      "17 | model.convs.15 | Dropout       | 0     \n",
      "18 | model.convs.16 | Conv2d        | 12 K  \n",
      "19 | model.convs.17 | BatchNorm2d   | 160   \n",
      "20 | model.convs.18 | PReLU         | 1     \n",
      "21 | model.convs.19 | MaxPool2d     | 0     \n",
      "22 | model.convs.20 | Dropout       | 0     \n",
      "23 | model.dense    | Sequential    | 35 K  \n",
      "24 | model.dense.0  | Linear        | 34 K  \n",
      "25 | model.dense.1  | PReLU         | 1     \n",
      "26 | model.dense.2  | Dropout       | 0     \n",
      "27 | model.dense.3  | Linear        | 850   \n"
     ]
    },
    {
     "data": {
      "application/vnd.jupyter.widget-view+json": {
       "model_id": "",
       "version_major": 2,
       "version_minor": 0
      },
      "text/plain": [
       "HBox(children=(FloatProgress(value=1.0, bar_style='info', description='Validation sanity check', layout=Layout…"
      ]
     },
     "metadata": {},
     "output_type": "display_data"
    },
    {
     "name": "stdout",
     "output_type": "stream",
     "text": [
      "Val-Acc=0.011855364552459988\n"
     ]
    },
    {
     "data": {
      "application/vnd.jupyter.widget-view+json": {
       "model_id": "d591fa0f73e64043b2b1f04ad9468306",
       "version_major": 2,
       "version_minor": 0
      },
      "text/plain": [
       "HBox(children=(FloatProgress(value=1.0, bar_style='info', description='Training', layout=Layout(flex='2'), max…"
      ]
     },
     "metadata": {},
     "output_type": "display_data"
    },
    {
     "data": {
      "application/vnd.jupyter.widget-view+json": {
       "model_id": "",
       "version_major": 2,
       "version_minor": 0
      },
      "text/plain": [
       "HBox(children=(FloatProgress(value=1.0, bar_style='info', description='Validating', layout=Layout(flex='2'), m…"
      ]
     },
     "metadata": {},
     "output_type": "display_data"
    },
    {
     "name": "stdout",
     "output_type": "stream",
     "text": [
      "Val-Acc=0.6615293420272673\n",
      "Train-Acc=0.6926877470355731\n"
     ]
    },
    {
     "data": {
      "application/vnd.jupyter.widget-view+json": {
       "model_id": "",
       "version_major": 2,
       "version_minor": 0
      },
      "text/plain": [
       "HBox(children=(FloatProgress(value=1.0, bar_style='info', description='Validating', layout=Layout(flex='2'), m…"
      ]
     },
     "metadata": {},
     "output_type": "display_data"
    },
    {
     "name": "stdout",
     "output_type": "stream",
     "text": [
      "Val-Acc=0.6390041493775933\n"
     ]
    },
    {
     "name": "stderr",
     "output_type": "stream",
     "text": [
      "[I 2020-07-20 19:33:05,792] Setting status of trial#40 as TrialState.PRUNED. Trial was pruned at epoch 1.\n",
      "GPU available: True, used: True\n",
      "No environment variable for node rank defined. Set as 0.\n",
      "CUDA_VISIBLE_DEVICES: [0]\n",
      "Set SLURM handle signals.\n",
      "\n",
      "   | Name           | Type          | Params\n",
      "---------------------------------------------\n",
      "0  | model          | AblationModel | 186 K \n",
      "1  | model.convs    | Sequential    | 114 K \n",
      "2  | model.convs.0  | BatchNorm2d   | 2     \n",
      "3  | model.convs.1  | Conv2d        | 1 K   \n",
      "4  | model.convs.2  | BatchNorm2d   | 20    \n",
      "5  | model.convs.3  | PReLU         | 1     \n",
      "6  | model.convs.4  | MaxPool2d     | 0     \n",
      "7  | model.convs.5  | Dropout       | 0     \n",
      "8  | model.convs.6  | Conv2d        | 20 K  \n",
      "9  | model.convs.7  | BatchNorm2d   | 40    \n",
      "10 | model.convs.8  | PReLU         | 1     \n",
      "11 | model.convs.9  | MaxPool2d     | 0     \n",
      "12 | model.convs.10 | Dropout       | 0     \n",
      "13 | model.convs.11 | Conv2d        | 80 K  \n",
      "14 | model.convs.12 | BatchNorm2d   | 80    \n",
      "15 | model.convs.13 | PReLU         | 1     \n",
      "16 | model.convs.14 | MaxPool2d     | 0     \n",
      "17 | model.convs.15 | Dropout       | 0     \n",
      "18 | model.convs.16 | Conv2d        | 12 K  \n",
      "19 | model.convs.17 | BatchNorm2d   | 160   \n",
      "20 | model.convs.18 | PReLU         | 1     \n",
      "21 | model.convs.19 | MaxPool2d     | 0     \n",
      "22 | model.convs.20 | Dropout       | 0     \n",
      "23 | model.dense    | Sequential    | 71 K  \n",
      "24 | model.dense.0  | Linear        | 70 K  \n",
      "25 | model.dense.1  | PReLU         | 1     \n",
      "26 | model.dense.2  | Dropout       | 0     \n",
      "27 | model.dense.3  | Linear        | 1 K   \n"
     ]
    },
    {
     "data": {
      "application/vnd.jupyter.widget-view+json": {
       "model_id": "",
       "version_major": 2,
       "version_minor": 0
      },
      "text/plain": [
       "HBox(children=(FloatProgress(value=1.0, bar_style='info', description='Validation sanity check', layout=Layout…"
      ]
     },
     "metadata": {},
     "output_type": "display_data"
    },
    {
     "name": "stdout",
     "output_type": "stream",
     "text": [
      "Val-Acc=0.01956135151155898\n"
     ]
    },
    {
     "data": {
      "application/vnd.jupyter.widget-view+json": {
       "model_id": "923014bfd67940b293b7f660efa67051",
       "version_major": 2,
       "version_minor": 0
      },
      "text/plain": [
       "HBox(children=(FloatProgress(value=1.0, bar_style='info', description='Training', layout=Layout(flex='2'), max…"
      ]
     },
     "metadata": {},
     "output_type": "display_data"
    },
    {
     "data": {
      "application/vnd.jupyter.widget-view+json": {
       "model_id": "",
       "version_major": 2,
       "version_minor": 0
      },
      "text/plain": [
       "HBox(children=(FloatProgress(value=1.0, bar_style='info', description='Validating', layout=Layout(flex='2'), m…"
      ]
     },
     "metadata": {},
     "output_type": "display_data"
    },
    {
     "name": "stdout",
     "output_type": "stream",
     "text": [
      "Val-Acc=0.7344398340248963\n",
      "Train-Acc=0.7523715415019763\n"
     ]
    },
    {
     "data": {
      "application/vnd.jupyter.widget-view+json": {
       "model_id": "",
       "version_major": 2,
       "version_minor": 0
      },
      "text/plain": [
       "HBox(children=(FloatProgress(value=1.0, bar_style='info', description='Validating', layout=Layout(flex='2'), m…"
      ]
     },
     "metadata": {},
     "output_type": "display_data"
    },
    {
     "name": "stdout",
     "output_type": "stream",
     "text": [
      "Val-Acc=0.7723770005927683\n",
      "Train-Acc=0.7835968379446641\n"
     ]
    },
    {
     "data": {
      "application/vnd.jupyter.widget-view+json": {
       "model_id": "",
       "version_major": 2,
       "version_minor": 0
      },
      "text/plain": [
       "HBox(children=(FloatProgress(value=1.0, bar_style='info', description='Validating', layout=Layout(flex='2'), m…"
      ]
     },
     "metadata": {},
     "output_type": "display_data"
    },
    {
     "name": "stdout",
     "output_type": "stream",
     "text": [
      "Val-Acc=0.7243627741553053\n",
      "Train-Acc=0.7980237154150197\n"
     ]
    },
    {
     "data": {
      "application/vnd.jupyter.widget-view+json": {
       "model_id": "",
       "version_major": 2,
       "version_minor": 0
      },
      "text/plain": [
       "HBox(children=(FloatProgress(value=1.0, bar_style='info', description='Validating', layout=Layout(flex='2'), m…"
      ]
     },
     "metadata": {},
     "output_type": "display_data"
    },
    {
     "name": "stdout",
     "output_type": "stream",
     "text": [
      "Val-Acc=0.7296976882039122\n",
      "Train-Acc=0.8102766798418972\n"
     ]
    },
    {
     "data": {
      "application/vnd.jupyter.widget-view+json": {
       "model_id": "",
       "version_major": 2,
       "version_minor": 0
      },
      "text/plain": [
       "HBox(children=(FloatProgress(value=1.0, bar_style='info', description='Validating', layout=Layout(flex='2'), m…"
      ]
     },
     "metadata": {},
     "output_type": "display_data"
    },
    {
     "name": "stdout",
     "output_type": "stream",
     "text": [
      "Val-Acc=0.8358032009484292\n",
      "Train-Acc=0.8146245059288537\n"
     ]
    },
    {
     "data": {
      "application/vnd.jupyter.widget-view+json": {
       "model_id": "",
       "version_major": 2,
       "version_minor": 0
      },
      "text/plain": [
       "HBox(children=(FloatProgress(value=1.0, bar_style='info', description='Validating', layout=Layout(flex='2'), m…"
      ]
     },
     "metadata": {},
     "output_type": "display_data"
    },
    {
     "name": "stdout",
     "output_type": "stream",
     "text": [
      "Val-Acc=0.6656787196206283\n",
      "Train-Acc=0.8237154150197629\n"
     ]
    },
    {
     "data": {
      "application/vnd.jupyter.widget-view+json": {
       "model_id": "",
       "version_major": 2,
       "version_minor": 0
      },
      "text/plain": [
       "HBox(children=(FloatProgress(value=1.0, bar_style='info', description='Validating', layout=Layout(flex='2'), m…"
      ]
     },
     "metadata": {},
     "output_type": "display_data"
    },
    {
     "name": "stdout",
     "output_type": "stream",
     "text": [
      "Val-Acc=0.6745702430349734\n",
      "Train-Acc=0.8357707509881422\n"
     ]
    },
    {
     "data": {
      "application/vnd.jupyter.widget-view+json": {
       "model_id": "",
       "version_major": 2,
       "version_minor": 0
      },
      "text/plain": [
       "HBox(children=(FloatProgress(value=1.0, bar_style='info', description='Validating', layout=Layout(flex='2'), m…"
      ]
     },
     "metadata": {},
     "output_type": "display_data"
    },
    {
     "name": "stdout",
     "output_type": "stream",
     "text": [
      "Val-Acc=0.8203912270302312\n",
      "Train-Acc=0.8367588932806325\n"
     ]
    },
    {
     "data": {
      "application/vnd.jupyter.widget-view+json": {
       "model_id": "",
       "version_major": 2,
       "version_minor": 0
      },
      "text/plain": [
       "HBox(children=(FloatProgress(value=1.0, bar_style='info', description='Validating', layout=Layout(flex='2'), m…"
      ]
     },
     "metadata": {},
     "output_type": "display_data"
    },
    {
     "name": "stdout",
     "output_type": "stream",
     "text": [
      "Val-Acc=0.7249555423829283\n",
      "Train-Acc=0.850197628458498\n"
     ]
    },
    {
     "data": {
      "application/vnd.jupyter.widget-view+json": {
       "model_id": "",
       "version_major": 2,
       "version_minor": 0
      },
      "text/plain": [
       "HBox(children=(FloatProgress(value=1.0, bar_style='info', description='Validating', layout=Layout(flex='2'), m…"
      ]
     },
     "metadata": {},
     "output_type": "display_data"
    },
    {
     "name": "stdout",
     "output_type": "stream",
     "text": [
      "Val-Acc=0.7788974510966212\n",
      "Train-Acc=0.8555335968379446\n"
     ]
    },
    {
     "data": {
      "application/vnd.jupyter.widget-view+json": {
       "model_id": "",
       "version_major": 2,
       "version_minor": 0
      },
      "text/plain": [
       "HBox(children=(FloatProgress(value=1.0, bar_style='info', description='Validating', layout=Layout(flex='2'), m…"
      ]
     },
     "metadata": {},
     "output_type": "display_data"
    },
    {
     "name": "stdout",
     "output_type": "stream",
     "text": [
      "Val-Acc=0.7640782454060462\n",
      "Train-Acc=0.8561264822134388\n"
     ]
    },
    {
     "data": {
      "application/vnd.jupyter.widget-view+json": {
       "model_id": "",
       "version_major": 2,
       "version_minor": 0
      },
      "text/plain": [
       "HBox(children=(FloatProgress(value=1.0, bar_style='info', description='Validating', layout=Layout(flex='2'), m…"
      ]
     },
     "metadata": {},
     "output_type": "display_data"
    },
    {
     "name": "stdout",
     "output_type": "stream",
     "text": [
      "Val-Acc=0.8032009484291642\n",
      "Train-Acc=0.8557312252964426\n"
     ]
    },
    {
     "data": {
      "application/vnd.jupyter.widget-view+json": {
       "model_id": "",
       "version_major": 2,
       "version_minor": 0
      },
      "text/plain": [
       "HBox(children=(FloatProgress(value=1.0, bar_style='info', description='Validating', layout=Layout(flex='2'), m…"
      ]
     },
     "metadata": {},
     "output_type": "display_data"
    },
    {
     "name": "stdout",
     "output_type": "stream",
     "text": [
      "Val-Acc=0.8138707765263782\n",
      "Train-Acc=0.8610671936758894\n"
     ]
    },
    {
     "data": {
      "application/vnd.jupyter.widget-view+json": {
       "model_id": "",
       "version_major": 2,
       "version_minor": 0
      },
      "text/plain": [
       "HBox(children=(FloatProgress(value=1.0, bar_style='info', description='Validating', layout=Layout(flex='2'), m…"
      ]
     },
     "metadata": {},
     "output_type": "display_data"
    },
    {
     "name": "stdout",
     "output_type": "stream",
     "text": [
      "Val-Acc=0.7830468286899822\n",
      "Train-Acc=0.8701581027667984\n"
     ]
    },
    {
     "data": {
      "application/vnd.jupyter.widget-view+json": {
       "model_id": "",
       "version_major": 2,
       "version_minor": 0
      },
      "text/plain": [
       "HBox(children=(FloatProgress(value=1.0, bar_style='info', description='Validating', layout=Layout(flex='2'), m…"
      ]
     },
     "metadata": {},
     "output_type": "display_data"
    },
    {
     "name": "stdout",
     "output_type": "stream",
     "text": [
      "Val-Acc=0.7735625370480143\n",
      "Train-Acc=0.8715415019762845\n"
     ]
    },
    {
     "data": {
      "application/vnd.jupyter.widget-view+json": {
       "model_id": "",
       "version_major": 2,
       "version_minor": 0
      },
      "text/plain": [
       "HBox(children=(FloatProgress(value=1.0, bar_style='info', description='Validating', layout=Layout(flex='2'), m…"
      ]
     },
     "metadata": {},
     "output_type": "display_data"
    },
    {
     "name": "stdout",
     "output_type": "stream",
     "text": [
      "Val-Acc=0.8441019561351512\n",
      "Train-Acc=0.8725296442687747\n"
     ]
    },
    {
     "data": {
      "application/vnd.jupyter.widget-view+json": {
       "model_id": "",
       "version_major": 2,
       "version_minor": 0
      },
      "text/plain": [
       "HBox(children=(FloatProgress(value=1.0, bar_style='info', description='Validating', layout=Layout(flex='2'), m…"
      ]
     },
     "metadata": {},
     "output_type": "display_data"
    },
    {
     "name": "stdout",
     "output_type": "stream",
     "text": [
      "Val-Acc=0.8026081802015412\n",
      "Train-Acc=0.8766798418972332\n"
     ]
    },
    {
     "data": {
      "application/vnd.jupyter.widget-view+json": {
       "model_id": "",
       "version_major": 2,
       "version_minor": 0
      },
      "text/plain": [
       "HBox(children=(FloatProgress(value=1.0, bar_style='info', description='Validating', layout=Layout(flex='2'), m…"
      ]
     },
     "metadata": {},
     "output_type": "display_data"
    },
    {
     "name": "stdout",
     "output_type": "stream",
     "text": [
      "Val-Acc=0.8114997036158862\n",
      "Train-Acc=0.8711462450592885\n"
     ]
    },
    {
     "data": {
      "application/vnd.jupyter.widget-view+json": {
       "model_id": "",
       "version_major": 2,
       "version_minor": 0
      },
      "text/plain": [
       "HBox(children=(FloatProgress(value=1.0, bar_style='info', description='Validating', layout=Layout(flex='2'), m…"
      ]
     },
     "metadata": {},
     "output_type": "display_data"
    },
    {
     "name": "stdout",
     "output_type": "stream",
     "text": [
      "Val-Acc=0.7877889745109662\n",
      "Train-Acc=0.8725296442687747\n"
     ]
    },
    {
     "data": {
      "application/vnd.jupyter.widget-view+json": {
       "model_id": "",
       "version_major": 2,
       "version_minor": 0
      },
      "text/plain": [
       "HBox(children=(FloatProgress(value=1.0, bar_style='info', description='Validating', layout=Layout(flex='2'), m…"
      ]
     },
     "metadata": {},
     "output_type": "display_data"
    },
    {
     "name": "stdout",
     "output_type": "stream",
     "text": [
      "Val-Acc=0.8322465915826912\n",
      "Train-Acc=0.8768774703557313\n",
      "\n",
      "Saved model to \"saved_modelsq/41.p\"\n"
     ]
    },
    {
     "name": "stderr",
     "output_type": "stream",
     "text": [
      "[I 2020-07-20 19:36:00,706] Finished trial#41 with value: 0.8322465915826912 with parameters: {'learning_rate': 0.0016729605400437127, 'p_drop': 0.022178260960545496, 'lr_decay': 0.7156083773016105, 'n_hidden': 865, 'weight_decay': 0.017920256143634964}. Best is trial#17 with value: 0.8707765263781861.\n",
      "GPU available: True, used: True\n",
      "No environment variable for node rank defined. Set as 0.\n",
      "CUDA_VISIBLE_DEVICES: [0]\n",
      "Set SLURM handle signals.\n",
      "\n",
      "   | Name           | Type          | Params\n",
      "---------------------------------------------\n",
      "0  | model          | AblationModel | 197 K \n",
      "1  | model.convs    | Sequential    | 114 K \n",
      "2  | model.convs.0  | BatchNorm2d   | 2     \n",
      "3  | model.convs.1  | Conv2d        | 1 K   \n",
      "4  | model.convs.2  | BatchNorm2d   | 20    \n",
      "5  | model.convs.3  | PReLU         | 1     \n",
      "6  | model.convs.4  | MaxPool2d     | 0     \n",
      "7  | model.convs.5  | Dropout       | 0     \n",
      "8  | model.convs.6  | Conv2d        | 20 K  \n",
      "9  | model.convs.7  | BatchNorm2d   | 40    \n",
      "10 | model.convs.8  | PReLU         | 1     \n",
      "11 | model.convs.9  | MaxPool2d     | 0     \n",
      "12 | model.convs.10 | Dropout       | 0     \n",
      "13 | model.convs.11 | Conv2d        | 80 K  \n",
      "14 | model.convs.12 | BatchNorm2d   | 80    \n",
      "15 | model.convs.13 | PReLU         | 1     \n",
      "16 | model.convs.14 | MaxPool2d     | 0     \n",
      "17 | model.convs.15 | Dropout       | 0     \n",
      "18 | model.convs.16 | Conv2d        | 12 K  \n",
      "19 | model.convs.17 | BatchNorm2d   | 160   \n",
      "20 | model.convs.18 | PReLU         | 1     \n",
      "21 | model.convs.19 | MaxPool2d     | 0     \n",
      "22 | model.convs.20 | Dropout       | 0     \n",
      "23 | model.dense    | Sequential    | 82 K  \n",
      "24 | model.dense.0  | Linear        | 80 K  \n",
      "25 | model.dense.1  | PReLU         | 1     \n",
      "26 | model.dense.2  | Dropout       | 0     \n",
      "27 | model.dense.3  | Linear        | 1 K   \n"
     ]
    },
    {
     "data": {
      "application/vnd.jupyter.widget-view+json": {
       "model_id": "",
       "version_major": 2,
       "version_minor": 0
      },
      "text/plain": [
       "HBox(children=(FloatProgress(value=1.0, bar_style='info', description='Validation sanity check', layout=Layout…"
      ]
     },
     "metadata": {},
     "output_type": "display_data"
    },
    {
     "name": "stdout",
     "output_type": "stream",
     "text": [
      "Val-Acc=0.022525192649673977\n"
     ]
    },
    {
     "data": {
      "application/vnd.jupyter.widget-view+json": {
       "model_id": "6dee94cbb9d84ff2b2fea7f9f3ce7843",
       "version_major": 2,
       "version_minor": 0
      },
      "text/plain": [
       "HBox(children=(FloatProgress(value=1.0, bar_style='info', description='Training', layout=Layout(flex='2'), max…"
      ]
     },
     "metadata": {},
     "output_type": "display_data"
    },
    {
     "data": {
      "application/vnd.jupyter.widget-view+json": {
       "model_id": "",
       "version_major": 2,
       "version_minor": 0
      },
      "text/plain": [
       "HBox(children=(FloatProgress(value=1.0, bar_style='info', description='Validating', layout=Layout(flex='2'), m…"
      ]
     },
     "metadata": {},
     "output_type": "display_data"
    },
    {
     "name": "stdout",
     "output_type": "stream",
     "text": [
      "Val-Acc=0.6751630112625964\n",
      "Train-Acc=0.7363636363636363\n"
     ]
    },
    {
     "data": {
      "application/vnd.jupyter.widget-view+json": {
       "model_id": "",
       "version_major": 2,
       "version_minor": 0
      },
      "text/plain": [
       "HBox(children=(FloatProgress(value=1.0, bar_style='info', description='Validating', layout=Layout(flex='2'), m…"
      ]
     },
     "metadata": {},
     "output_type": "display_data"
    },
    {
     "name": "stdout",
     "output_type": "stream",
     "text": [
      "Val-Acc=0.5358624777711914\n"
     ]
    },
    {
     "name": "stderr",
     "output_type": "stream",
     "text": [
      "[I 2020-07-20 19:36:17,862] Setting status of trial#42 as TrialState.PRUNED. Trial was pruned at epoch 1.\n",
      "GPU available: True, used: True\n",
      "No environment variable for node rank defined. Set as 0.\n",
      "CUDA_VISIBLE_DEVICES: [0]\n",
      "Set SLURM handle signals.\n",
      "\n",
      "   | Name           | Type          | Params\n",
      "---------------------------------------------\n",
      "0  | model          | AblationModel | 180 K \n",
      "1  | model.convs    | Sequential    | 114 K \n",
      "2  | model.convs.0  | BatchNorm2d   | 2     \n",
      "3  | model.convs.1  | Conv2d        | 1 K   \n",
      "4  | model.convs.2  | BatchNorm2d   | 20    \n",
      "5  | model.convs.3  | PReLU         | 1     \n",
      "6  | model.convs.4  | MaxPool2d     | 0     \n",
      "7  | model.convs.5  | Dropout       | 0     \n",
      "8  | model.convs.6  | Conv2d        | 20 K  \n",
      "9  | model.convs.7  | BatchNorm2d   | 40    \n",
      "10 | model.convs.8  | PReLU         | 1     \n",
      "11 | model.convs.9  | MaxPool2d     | 0     \n",
      "12 | model.convs.10 | Dropout       | 0     \n",
      "13 | model.convs.11 | Conv2d        | 80 K  \n",
      "14 | model.convs.12 | BatchNorm2d   | 80    \n",
      "15 | model.convs.13 | PReLU         | 1     \n",
      "16 | model.convs.14 | MaxPool2d     | 0     \n",
      "17 | model.convs.15 | Dropout       | 0     \n",
      "18 | model.convs.16 | Conv2d        | 12 K  \n",
      "19 | model.convs.17 | BatchNorm2d   | 160   \n",
      "20 | model.convs.18 | PReLU         | 1     \n",
      "21 | model.convs.19 | MaxPool2d     | 0     \n",
      "22 | model.convs.20 | Dropout       | 0     \n",
      "23 | model.dense    | Sequential    | 66 K  \n",
      "24 | model.dense.0  | Linear        | 64 K  \n",
      "25 | model.dense.1  | PReLU         | 1     \n",
      "26 | model.dense.2  | Dropout       | 0     \n",
      "27 | model.dense.3  | Linear        | 1 K   \n"
     ]
    },
    {
     "data": {
      "application/vnd.jupyter.widget-view+json": {
       "model_id": "",
       "version_major": 2,
       "version_minor": 0
      },
      "text/plain": [
       "HBox(children=(FloatProgress(value=1.0, bar_style='info', description='Validation sanity check', layout=Layout…"
      ]
     },
     "metadata": {},
     "output_type": "display_data"
    },
    {
     "name": "stdout",
     "output_type": "stream",
     "text": [
      "Val-Acc=0.02133965619442798\n"
     ]
    },
    {
     "data": {
      "application/vnd.jupyter.widget-view+json": {
       "model_id": "1b4ca5a99d8242aa9cb84753f12386c1",
       "version_major": 2,
       "version_minor": 0
      },
      "text/plain": [
       "HBox(children=(FloatProgress(value=1.0, bar_style='info', description='Training', layout=Layout(flex='2'), max…"
      ]
     },
     "metadata": {},
     "output_type": "display_data"
    },
    {
     "data": {
      "application/vnd.jupyter.widget-view+json": {
       "model_id": "",
       "version_major": 2,
       "version_minor": 0
      },
      "text/plain": [
       "HBox(children=(FloatProgress(value=1.0, bar_style='info', description='Validating', layout=Layout(flex='2'), m…"
      ]
     },
     "metadata": {},
     "output_type": "display_data"
    },
    {
     "name": "stdout",
     "output_type": "stream",
     "text": [
      "Val-Acc=0.7018375815056312\n",
      "Train-Acc=0.7450592885375494\n"
     ]
    },
    {
     "data": {
      "application/vnd.jupyter.widget-view+json": {
       "model_id": "",
       "version_major": 2,
       "version_minor": 0
      },
      "text/plain": [
       "HBox(children=(FloatProgress(value=1.0, bar_style='info', description='Validating', layout=Layout(flex='2'), m…"
      ]
     },
     "metadata": {},
     "output_type": "display_data"
    },
    {
     "name": "stdout",
     "output_type": "stream",
     "text": [
      "Val-Acc=0.7332542975696502\n"
     ]
    },
    {
     "name": "stderr",
     "output_type": "stream",
     "text": [
      "[I 2020-07-20 19:36:37,143] Setting status of trial#43 as TrialState.PRUNED. Trial was pruned at epoch 1.\n",
      "GPU available: True, used: True\n",
      "No environment variable for node rank defined. Set as 0.\n",
      "CUDA_VISIBLE_DEVICES: [0]\n",
      "Set SLURM handle signals.\n",
      "\n",
      "   | Name           | Type          | Params\n",
      "---------------------------------------------\n",
      "0  | model          | AblationModel | 184 K \n",
      "1  | model.convs    | Sequential    | 114 K \n",
      "2  | model.convs.0  | BatchNorm2d   | 2     \n",
      "3  | model.convs.1  | Conv2d        | 1 K   \n",
      "4  | model.convs.2  | BatchNorm2d   | 20    \n",
      "5  | model.convs.3  | PReLU         | 1     \n",
      "6  | model.convs.4  | MaxPool2d     | 0     \n",
      "7  | model.convs.5  | Dropout       | 0     \n",
      "8  | model.convs.6  | Conv2d        | 20 K  \n",
      "9  | model.convs.7  | BatchNorm2d   | 40    \n",
      "10 | model.convs.8  | PReLU         | 1     \n",
      "11 | model.convs.9  | MaxPool2d     | 0     \n",
      "12 | model.convs.10 | Dropout       | 0     \n",
      "13 | model.convs.11 | Conv2d        | 80 K  \n",
      "14 | model.convs.12 | BatchNorm2d   | 80    \n",
      "15 | model.convs.13 | PReLU         | 1     \n",
      "16 | model.convs.14 | MaxPool2d     | 0     \n",
      "17 | model.convs.15 | Dropout       | 0     \n",
      "18 | model.convs.16 | Conv2d        | 12 K  \n",
      "19 | model.convs.17 | BatchNorm2d   | 160   \n",
      "20 | model.convs.18 | PReLU         | 1     \n",
      "21 | model.convs.19 | MaxPool2d     | 0     \n",
      "22 | model.convs.20 | Dropout       | 0     \n",
      "23 | model.dense    | Sequential    | 70 K  \n",
      "24 | model.dense.0  | Linear        | 68 K  \n",
      "25 | model.dense.1  | PReLU         | 1     \n",
      "26 | model.dense.2  | Dropout       | 0     \n",
      "27 | model.dense.3  | Linear        | 1 K   \n"
     ]
    },
    {
     "data": {
      "application/vnd.jupyter.widget-view+json": {
       "model_id": "",
       "version_major": 2,
       "version_minor": 0
      },
      "text/plain": [
       "HBox(children=(FloatProgress(value=1.0, bar_style='info', description='Validation sanity check', layout=Layout…"
      ]
     },
     "metadata": {},
     "output_type": "display_data"
    },
    {
     "name": "stdout",
     "output_type": "stream",
     "text": [
      "Val-Acc=0.012448132780082987\n"
     ]
    },
    {
     "data": {
      "application/vnd.jupyter.widget-view+json": {
       "model_id": "86d5dc2ad2404a56a9f5579ff88bd642",
       "version_major": 2,
       "version_minor": 0
      },
      "text/plain": [
       "HBox(children=(FloatProgress(value=1.0, bar_style='info', description='Training', layout=Layout(flex='2'), max…"
      ]
     },
     "metadata": {},
     "output_type": "display_data"
    },
    {
     "data": {
      "application/vnd.jupyter.widget-view+json": {
       "model_id": "",
       "version_major": 2,
       "version_minor": 0
      },
      "text/plain": [
       "HBox(children=(FloatProgress(value=1.0, bar_style='info', description='Validating', layout=Layout(flex='2'), m…"
      ]
     },
     "metadata": {},
     "output_type": "display_data"
    },
    {
     "name": "stdout",
     "output_type": "stream",
     "text": [
      "Val-Acc=0.4896265560165975\n",
      "Train-Acc=0.7073122529644269\n"
     ]
    },
    {
     "data": {
      "application/vnd.jupyter.widget-view+json": {
       "model_id": "",
       "version_major": 2,
       "version_minor": 0
      },
      "text/plain": [
       "HBox(children=(FloatProgress(value=1.0, bar_style='info', description='Validating', layout=Layout(flex='2'), m…"
      ]
     },
     "metadata": {},
     "output_type": "display_data"
    },
    {
     "name": "stdout",
     "output_type": "stream",
     "text": [
      "Val-Acc=0.4896265560165975\n"
     ]
    },
    {
     "name": "stderr",
     "output_type": "stream",
     "text": [
      "[I 2020-07-20 19:36:54,582] Setting status of trial#44 as TrialState.PRUNED. Trial was pruned at epoch 1.\n",
      "GPU available: True, used: True\n",
      "No environment variable for node rank defined. Set as 0.\n",
      "CUDA_VISIBLE_DEVICES: [0]\n",
      "Set SLURM handle signals.\n",
      "\n",
      "   | Name           | Type          | Params\n",
      "---------------------------------------------\n",
      "0  | model          | AblationModel | 128 K \n",
      "1  | model.convs    | Sequential    | 114 K \n",
      "2  | model.convs.0  | BatchNorm2d   | 2     \n",
      "3  | model.convs.1  | Conv2d        | 1 K   \n",
      "4  | model.convs.2  | BatchNorm2d   | 20    \n",
      "5  | model.convs.3  | PReLU         | 1     \n",
      "6  | model.convs.4  | MaxPool2d     | 0     \n",
      "7  | model.convs.5  | Dropout       | 0     \n",
      "8  | model.convs.6  | Conv2d        | 20 K  \n",
      "9  | model.convs.7  | BatchNorm2d   | 40    \n",
      "10 | model.convs.8  | PReLU         | 1     \n",
      "11 | model.convs.9  | MaxPool2d     | 0     \n",
      "12 | model.convs.10 | Dropout       | 0     \n",
      "13 | model.convs.11 | Conv2d        | 80 K  \n",
      "14 | model.convs.12 | BatchNorm2d   | 80    \n",
      "15 | model.convs.13 | PReLU         | 1     \n",
      "16 | model.convs.14 | MaxPool2d     | 0     \n",
      "17 | model.convs.15 | Dropout       | 0     \n",
      "18 | model.convs.16 | Conv2d        | 12 K  \n",
      "19 | model.convs.17 | BatchNorm2d   | 160   \n",
      "20 | model.convs.18 | PReLU         | 1     \n",
      "21 | model.convs.19 | MaxPool2d     | 0     \n",
      "22 | model.convs.20 | Dropout       | 0     \n",
      "23 | model.dense    | Sequential    | 14 K  \n",
      "24 | model.dense.0  | Linear        | 13 K  \n",
      "25 | model.dense.1  | PReLU         | 1     \n",
      "26 | model.dense.2  | Dropout       | 0     \n",
      "27 | model.dense.3  | Linear        | 342   \n"
     ]
    },
    {
     "data": {
      "application/vnd.jupyter.widget-view+json": {
       "model_id": "",
       "version_major": 2,
       "version_minor": 0
      },
      "text/plain": [
       "HBox(children=(FloatProgress(value=1.0, bar_style='info', description='Validation sanity check', layout=Layout…"
      ]
     },
     "metadata": {},
     "output_type": "display_data"
    },
    {
     "name": "stdout",
     "output_type": "stream",
     "text": [
      "Val-Acc=0.01778304682868998\n"
     ]
    },
    {
     "data": {
      "application/vnd.jupyter.widget-view+json": {
       "model_id": "34cfa522ccdf4cfe9eb4575f42db4833",
       "version_major": 2,
       "version_minor": 0
      },
      "text/plain": [
       "HBox(children=(FloatProgress(value=1.0, bar_style='info', description='Training', layout=Layout(flex='2'), max…"
      ]
     },
     "metadata": {},
     "output_type": "display_data"
    },
    {
     "data": {
      "application/vnd.jupyter.widget-view+json": {
       "model_id": "",
       "version_major": 2,
       "version_minor": 0
      },
      "text/plain": [
       "HBox(children=(FloatProgress(value=1.0, bar_style='info', description='Validating', layout=Layout(flex='2'), m…"
      ]
     },
     "metadata": {},
     "output_type": "display_data"
    },
    {
     "name": "stdout",
     "output_type": "stream",
     "text": [
      "Val-Acc=0.6911677534084173\n",
      "Train-Acc=0.7292490118577075\n"
     ]
    },
    {
     "data": {
      "application/vnd.jupyter.widget-view+json": {
       "model_id": "",
       "version_major": 2,
       "version_minor": 0
      },
      "text/plain": [
       "HBox(children=(FloatProgress(value=1.0, bar_style='info', description='Validating', layout=Layout(flex='2'), m…"
      ]
     },
     "metadata": {},
     "output_type": "display_data"
    },
    {
     "name": "stdout",
     "output_type": "stream",
     "text": [
      "Val-Acc=0.7670420865441613\n",
      "Train-Acc=0.7776679841897233\n"
     ]
    },
    {
     "data": {
      "application/vnd.jupyter.widget-view+json": {
       "model_id": "",
       "version_major": 2,
       "version_minor": 0
      },
      "text/plain": [
       "HBox(children=(FloatProgress(value=1.0, bar_style='info', description='Validating', layout=Layout(flex='2'), m…"
      ]
     },
     "metadata": {},
     "output_type": "display_data"
    },
    {
     "name": "stdout",
     "output_type": "stream",
     "text": [
      "Val-Acc=0.7267338470657972\n",
      "Train-Acc=0.7859683794466403\n"
     ]
    },
    {
     "data": {
      "application/vnd.jupyter.widget-view+json": {
       "model_id": "",
       "version_major": 2,
       "version_minor": 0
      },
      "text/plain": [
       "HBox(children=(FloatProgress(value=1.0, bar_style='info', description='Validating', layout=Layout(flex='2'), m…"
      ]
     },
     "metadata": {},
     "output_type": "display_data"
    },
    {
     "name": "stdout",
     "output_type": "stream",
     "text": [
      "Val-Acc=0.7735625370480143\n",
      "Train-Acc=0.8035573122529645\n"
     ]
    },
    {
     "data": {
      "application/vnd.jupyter.widget-view+json": {
       "model_id": "",
       "version_major": 2,
       "version_minor": 0
      },
      "text/plain": [
       "HBox(children=(FloatProgress(value=1.0, bar_style='info', description='Validating', layout=Layout(flex='2'), m…"
      ]
     },
     "metadata": {},
     "output_type": "display_data"
    },
    {
     "name": "stdout",
     "output_type": "stream",
     "text": [
      "Val-Acc=0.7824540604623592\n",
      "Train-Acc=0.8057312252964427\n"
     ]
    },
    {
     "data": {
      "application/vnd.jupyter.widget-view+json": {
       "model_id": "",
       "version_major": 2,
       "version_minor": 0
      },
      "text/plain": [
       "HBox(children=(FloatProgress(value=1.0, bar_style='info', description='Validating', layout=Layout(flex='2'), m…"
      ]
     },
     "metadata": {},
     "output_type": "display_data"
    },
    {
     "name": "stdout",
     "output_type": "stream",
     "text": [
      "Val-Acc=0.7439241256668643\n",
      "Train-Acc=0.8132411067193676\n"
     ]
    },
    {
     "data": {
      "application/vnd.jupyter.widget-view+json": {
       "model_id": "",
       "version_major": 2,
       "version_minor": 0
      },
      "text/plain": [
       "HBox(children=(FloatProgress(value=1.0, bar_style='info', description='Validating', layout=Layout(flex='2'), m…"
      ]
     },
     "metadata": {},
     "output_type": "display_data"
    },
    {
     "name": "stdout",
     "output_type": "stream",
     "text": [
      "Val-Acc=0.6876111440426793\n",
      "Train-Acc=0.81699604743083\n"
     ]
    },
    {
     "data": {
      "application/vnd.jupyter.widget-view+json": {
       "model_id": "",
       "version_major": 2,
       "version_minor": 0
      },
      "text/plain": [
       "HBox(children=(FloatProgress(value=1.0, bar_style='info', description='Validating', layout=Layout(flex='2'), m…"
      ]
     },
     "metadata": {},
     "output_type": "display_data"
    },
    {
     "name": "stdout",
     "output_type": "stream",
     "text": [
      "Val-Acc=0.7759336099585062\n",
      "Train-Acc=0.8152173913043478\n"
     ]
    },
    {
     "data": {
      "application/vnd.jupyter.widget-view+json": {
       "model_id": "",
       "version_major": 2,
       "version_minor": 0
      },
      "text/plain": [
       "HBox(children=(FloatProgress(value=1.0, bar_style='info', description='Validating', layout=Layout(flex='2'), m…"
      ]
     },
     "metadata": {},
     "output_type": "display_data"
    },
    {
     "name": "stdout",
     "output_type": "stream",
     "text": [
      "Val-Acc=0.6947243627741553\n",
      "Train-Acc=0.8215415019762846\n"
     ]
    },
    {
     "data": {
      "application/vnd.jupyter.widget-view+json": {
       "model_id": "",
       "version_major": 2,
       "version_minor": 0
      },
      "text/plain": [
       "HBox(children=(FloatProgress(value=1.0, bar_style='info', description='Validating', layout=Layout(flex='2'), m…"
      ]
     },
     "metadata": {},
     "output_type": "display_data"
    },
    {
     "name": "stdout",
     "output_type": "stream",
     "text": [
      "Val-Acc=0.7972732661529343\n",
      "Train-Acc=0.8353754940711462\n"
     ]
    },
    {
     "data": {
      "application/vnd.jupyter.widget-view+json": {
       "model_id": "",
       "version_major": 2,
       "version_minor": 0
      },
      "text/plain": [
       "HBox(children=(FloatProgress(value=1.0, bar_style='info', description='Validating', layout=Layout(flex='2'), m…"
      ]
     },
     "metadata": {},
     "output_type": "display_data"
    },
    {
     "name": "stdout",
     "output_type": "stream",
     "text": [
      "Val-Acc=0.7954949614700652\n",
      "Train-Acc=0.8371541501976285\n"
     ]
    },
    {
     "data": {
      "application/vnd.jupyter.widget-view+json": {
       "model_id": "",
       "version_major": 2,
       "version_minor": 0
      },
      "text/plain": [
       "HBox(children=(FloatProgress(value=1.0, bar_style='info', description='Validating', layout=Layout(flex='2'), m…"
      ]
     },
     "metadata": {},
     "output_type": "display_data"
    },
    {
     "name": "stdout",
     "output_type": "stream",
     "text": [
      "Val-Acc=0.7581505631298162\n",
      "Train-Acc=0.8401185770750988\n"
     ]
    },
    {
     "data": {
      "application/vnd.jupyter.widget-view+json": {
       "model_id": "",
       "version_major": 2,
       "version_minor": 0
      },
      "text/plain": [
       "HBox(children=(FloatProgress(value=1.0, bar_style='info', description='Validating', layout=Layout(flex='2'), m…"
      ]
     },
     "metadata": {},
     "output_type": "display_data"
    },
    {
     "name": "stdout",
     "output_type": "stream",
     "text": [
      "Val-Acc=0.8174273858921162\n",
      "Train-Acc=0.833794466403162\n"
     ]
    },
    {
     "data": {
      "application/vnd.jupyter.widget-view+json": {
       "model_id": "",
       "version_major": 2,
       "version_minor": 0
      },
      "text/plain": [
       "HBox(children=(FloatProgress(value=1.0, bar_style='info', description='Validating', layout=Layout(flex='2'), m…"
      ]
     },
     "metadata": {},
     "output_type": "display_data"
    },
    {
     "name": "stdout",
     "output_type": "stream",
     "text": [
      "Val-Acc=0.7943094250148192\n",
      "Train-Acc=0.8446640316205534\n"
     ]
    },
    {
     "data": {
      "application/vnd.jupyter.widget-view+json": {
       "model_id": "",
       "version_major": 2,
       "version_minor": 0
      },
      "text/plain": [
       "HBox(children=(FloatProgress(value=1.0, bar_style='info', description='Validating', layout=Layout(flex='2'), m…"
      ]
     },
     "metadata": {},
     "output_type": "display_data"
    },
    {
     "name": "stdout",
     "output_type": "stream",
     "text": [
      "Val-Acc=0.7492590397154713\n",
      "Train-Acc=0.841897233201581\n"
     ]
    },
    {
     "data": {
      "application/vnd.jupyter.widget-view+json": {
       "model_id": "",
       "version_major": 2,
       "version_minor": 0
      },
      "text/plain": [
       "HBox(children=(FloatProgress(value=1.0, bar_style='info', description='Validating', layout=Layout(flex='2'), m…"
      ]
     },
     "metadata": {},
     "output_type": "display_data"
    },
    {
     "name": "stdout",
     "output_type": "stream",
     "text": [
      "Val-Acc=0.7208061647895673\n",
      "Train-Acc=0.8367588932806325\n"
     ]
    },
    {
     "data": {
      "application/vnd.jupyter.widget-view+json": {
       "model_id": "",
       "version_major": 2,
       "version_minor": 0
      },
      "text/plain": [
       "HBox(children=(FloatProgress(value=1.0, bar_style='info', description='Validating', layout=Layout(flex='2'), m…"
      ]
     },
     "metadata": {},
     "output_type": "display_data"
    },
    {
     "name": "stdout",
     "output_type": "stream",
     "text": [
      "Val-Acc=0.8174273858921162\n",
      "Train-Acc=0.8454545454545455\n"
     ]
    },
    {
     "data": {
      "application/vnd.jupyter.widget-view+json": {
       "model_id": "",
       "version_major": 2,
       "version_minor": 0
      },
      "text/plain": [
       "HBox(children=(FloatProgress(value=1.0, bar_style='info', description='Validating', layout=Layout(flex='2'), m…"
      ]
     },
     "metadata": {},
     "output_type": "display_data"
    },
    {
     "name": "stdout",
     "output_type": "stream",
     "text": [
      "Val-Acc=0.7646710136336692\n",
      "Train-Acc=0.841106719367589\n"
     ]
    },
    {
     "data": {
      "application/vnd.jupyter.widget-view+json": {
       "model_id": "",
       "version_major": 2,
       "version_minor": 0
      },
      "text/plain": [
       "HBox(children=(FloatProgress(value=1.0, bar_style='info', description='Validating', layout=Layout(flex='2'), m…"
      ]
     },
     "metadata": {},
     "output_type": "display_data"
    },
    {
     "name": "stdout",
     "output_type": "stream",
     "text": [
      "Val-Acc=0.7824540604623592\n",
      "Train-Acc=0.8474308300395257\n"
     ]
    },
    {
     "data": {
      "application/vnd.jupyter.widget-view+json": {
       "model_id": "",
       "version_major": 2,
       "version_minor": 0
      },
      "text/plain": [
       "HBox(children=(FloatProgress(value=1.0, bar_style='info', description='Validating', layout=Layout(flex='2'), m…"
      ]
     },
     "metadata": {},
     "output_type": "display_data"
    },
    {
     "name": "stdout",
     "output_type": "stream",
     "text": [
      "Val-Acc=0.7255483106105513\n",
      "Train-Acc=0.8509881422924901\n",
      "\n",
      "Saved model to \"saved_modelsq/45.p\"\n"
     ]
    },
    {
     "name": "stderr",
     "output_type": "stream",
     "text": [
      "[I 2020-07-20 19:39:48,658] Finished trial#45 with value: 0.7255483106105513 with parameters: {'learning_rate': 0.00022369616029259585, 'p_drop': 0.1729334019409498, 'lr_decay': 0.9152809628234012, 'n_hidden': 170, 'weight_decay': 0.03055540595516321}. Best is trial#17 with value: 0.8707765263781861.\n",
      "GPU available: True, used: True\n",
      "No environment variable for node rank defined. Set as 0.\n",
      "CUDA_VISIBLE_DEVICES: [0]\n",
      "Set SLURM handle signals.\n",
      "\n",
      "   | Name           | Type          | Params\n",
      "---------------------------------------------\n",
      "0  | model          | AblationModel | 191 K \n",
      "1  | model.convs    | Sequential    | 114 K \n",
      "2  | model.convs.0  | BatchNorm2d   | 2     \n",
      "3  | model.convs.1  | Conv2d        | 1 K   \n",
      "4  | model.convs.2  | BatchNorm2d   | 20    \n",
      "5  | model.convs.3  | PReLU         | 1     \n",
      "6  | model.convs.4  | MaxPool2d     | 0     \n",
      "7  | model.convs.5  | Dropout       | 0     \n",
      "8  | model.convs.6  | Conv2d        | 20 K  \n",
      "9  | model.convs.7  | BatchNorm2d   | 40    \n",
      "10 | model.convs.8  | PReLU         | 1     \n",
      "11 | model.convs.9  | MaxPool2d     | 0     \n",
      "12 | model.convs.10 | Dropout       | 0     \n",
      "13 | model.convs.11 | Conv2d        | 80 K  \n",
      "14 | model.convs.12 | BatchNorm2d   | 80    \n",
      "15 | model.convs.13 | PReLU         | 1     \n",
      "16 | model.convs.14 | MaxPool2d     | 0     \n",
      "17 | model.convs.15 | Dropout       | 0     \n",
      "18 | model.convs.16 | Conv2d        | 12 K  \n",
      "19 | model.convs.17 | BatchNorm2d   | 160   \n",
      "20 | model.convs.18 | PReLU         | 1     \n",
      "21 | model.convs.19 | MaxPool2d     | 0     \n",
      "22 | model.convs.20 | Dropout       | 0     \n",
      "23 | model.dense    | Sequential    | 77 K  \n",
      "24 | model.dense.0  | Linear        | 75 K  \n",
      "25 | model.dense.1  | PReLU         | 1     \n",
      "26 | model.dense.2  | Dropout       | 0     \n",
      "27 | model.dense.3  | Linear        | 1 K   \n"
     ]
    },
    {
     "data": {
      "application/vnd.jupyter.widget-view+json": {
       "model_id": "",
       "version_major": 2,
       "version_minor": 0
      },
      "text/plain": [
       "HBox(children=(FloatProgress(value=1.0, bar_style='info', description='Validation sanity check', layout=Layout…"
      ]
     },
     "metadata": {},
     "output_type": "display_data"
    },
    {
     "name": "stdout",
     "output_type": "stream",
     "text": [
      "Val-Acc=0.01956135151155898\n"
     ]
    },
    {
     "data": {
      "application/vnd.jupyter.widget-view+json": {
       "model_id": "e76c4897114649e1af53929ab9f4b15e",
       "version_major": 2,
       "version_minor": 0
      },
      "text/plain": [
       "HBox(children=(FloatProgress(value=1.0, bar_style='info', description='Training', layout=Layout(flex='2'), max…"
      ]
     },
     "metadata": {},
     "output_type": "display_data"
    },
    {
     "data": {
      "application/vnd.jupyter.widget-view+json": {
       "model_id": "",
       "version_major": 2,
       "version_minor": 0
      },
      "text/plain": [
       "HBox(children=(FloatProgress(value=1.0, bar_style='info', description='Validating', layout=Layout(flex='2'), m…"
      ]
     },
     "metadata": {},
     "output_type": "display_data"
    },
    {
     "name": "stdout",
     "output_type": "stream",
     "text": [
      "Val-Acc=0.6704208654416123\n",
      "Train-Acc=0.7438735177865613\n"
     ]
    },
    {
     "data": {
      "application/vnd.jupyter.widget-view+json": {
       "model_id": "",
       "version_major": 2,
       "version_minor": 0
      },
      "text/plain": [
       "HBox(children=(FloatProgress(value=1.0, bar_style='info', description='Validating', layout=Layout(flex='2'), m…"
      ]
     },
     "metadata": {},
     "output_type": "display_data"
    },
    {
     "name": "stdout",
     "output_type": "stream",
     "text": [
      "Val-Acc=0.7403675163011263\n"
     ]
    },
    {
     "name": "stderr",
     "output_type": "stream",
     "text": [
      "[I 2020-07-20 19:40:05,812] Setting status of trial#46 as TrialState.PRUNED. Trial was pruned at epoch 1.\n",
      "GPU available: True, used: True\n",
      "No environment variable for node rank defined. Set as 0.\n",
      "CUDA_VISIBLE_DEVICES: [0]\n",
      "Set SLURM handle signals.\n",
      "\n",
      "   | Name           | Type          | Params\n",
      "---------------------------------------------\n",
      "0  | model          | AblationModel | 176 K \n",
      "1  | model.convs    | Sequential    | 114 K \n",
      "2  | model.convs.0  | BatchNorm2d   | 2     \n",
      "3  | model.convs.1  | Conv2d        | 1 K   \n",
      "4  | model.convs.2  | BatchNorm2d   | 20    \n",
      "5  | model.convs.3  | PReLU         | 1     \n",
      "6  | model.convs.4  | MaxPool2d     | 0     \n",
      "7  | model.convs.5  | Dropout       | 0     \n",
      "8  | model.convs.6  | Conv2d        | 20 K  \n",
      "9  | model.convs.7  | BatchNorm2d   | 40    \n",
      "10 | model.convs.8  | PReLU         | 1     \n",
      "11 | model.convs.9  | MaxPool2d     | 0     \n",
      "12 | model.convs.10 | Dropout       | 0     \n",
      "13 | model.convs.11 | Conv2d        | 80 K  \n",
      "14 | model.convs.12 | BatchNorm2d   | 80    \n",
      "15 | model.convs.13 | PReLU         | 1     \n",
      "16 | model.convs.14 | MaxPool2d     | 0     \n",
      "17 | model.convs.15 | Dropout       | 0     \n",
      "18 | model.convs.16 | Conv2d        | 12 K  \n",
      "19 | model.convs.17 | BatchNorm2d   | 160   \n",
      "20 | model.convs.18 | PReLU         | 1     \n",
      "21 | model.convs.19 | MaxPool2d     | 0     \n",
      "22 | model.convs.20 | Dropout       | 0     \n",
      "23 | model.dense    | Sequential    | 62 K  \n",
      "24 | model.dense.0  | Linear        | 60 K  \n",
      "25 | model.dense.1  | PReLU         | 1     \n",
      "26 | model.dense.2  | Dropout       | 0     \n",
      "27 | model.dense.3  | Linear        | 1 K   \n"
     ]
    },
    {
     "data": {
      "application/vnd.jupyter.widget-view+json": {
       "model_id": "",
       "version_major": 2,
       "version_minor": 0
      },
      "text/plain": [
       "HBox(children=(FloatProgress(value=1.0, bar_style='info', description='Validation sanity check', layout=Layout…"
      ]
     },
     "metadata": {},
     "output_type": "display_data"
    },
    {
     "name": "stdout",
     "output_type": "stream",
     "text": [
      "Val-Acc=0.01956135151155898\n"
     ]
    },
    {
     "data": {
      "application/vnd.jupyter.widget-view+json": {
       "model_id": "08fca83f90e14fc799ff0b042045d836",
       "version_major": 2,
       "version_minor": 0
      },
      "text/plain": [
       "HBox(children=(FloatProgress(value=1.0, bar_style='info', description='Training', layout=Layout(flex='2'), max…"
      ]
     },
     "metadata": {},
     "output_type": "display_data"
    },
    {
     "data": {
      "application/vnd.jupyter.widget-view+json": {
       "model_id": "",
       "version_major": 2,
       "version_minor": 0
      },
      "text/plain": [
       "HBox(children=(FloatProgress(value=1.0, bar_style='info', description='Validating', layout=Layout(flex='2'), m…"
      ]
     },
     "metadata": {},
     "output_type": "display_data"
    },
    {
     "name": "stdout",
     "output_type": "stream",
     "text": [
      "Val-Acc=0.7273266152934202\n",
      "Train-Acc=0.7476284584980237\n"
     ]
    },
    {
     "data": {
      "application/vnd.jupyter.widget-view+json": {
       "model_id": "",
       "version_major": 2,
       "version_minor": 0
      },
      "text/plain": [
       "HBox(children=(FloatProgress(value=1.0, bar_style='info', description='Validating', layout=Layout(flex='2'), m…"
      ]
     },
     "metadata": {},
     "output_type": "display_data"
    },
    {
     "name": "stdout",
     "output_type": "stream",
     "text": [
      "Val-Acc=0.5998814463544754\n"
     ]
    },
    {
     "name": "stderr",
     "output_type": "stream",
     "text": [
      "[I 2020-07-20 19:40:27,778] Setting status of trial#47 as TrialState.PRUNED. Trial was pruned at epoch 1.\n",
      "GPU available: True, used: True\n",
      "No environment variable for node rank defined. Set as 0.\n",
      "CUDA_VISIBLE_DEVICES: [0]\n",
      "Set SLURM handle signals.\n",
      "\n",
      "   | Name           | Type          | Params\n",
      "---------------------------------------------\n",
      "0  | model          | AblationModel | 186 K \n",
      "1  | model.convs    | Sequential    | 114 K \n",
      "2  | model.convs.0  | BatchNorm2d   | 2     \n",
      "3  | model.convs.1  | Conv2d        | 1 K   \n",
      "4  | model.convs.2  | BatchNorm2d   | 20    \n",
      "5  | model.convs.3  | PReLU         | 1     \n",
      "6  | model.convs.4  | MaxPool2d     | 0     \n",
      "7  | model.convs.5  | Dropout       | 0     \n",
      "8  | model.convs.6  | Conv2d        | 20 K  \n",
      "9  | model.convs.7  | BatchNorm2d   | 40    \n",
      "10 | model.convs.8  | PReLU         | 1     \n",
      "11 | model.convs.9  | MaxPool2d     | 0     \n",
      "12 | model.convs.10 | Dropout       | 0     \n",
      "13 | model.convs.11 | Conv2d        | 80 K  \n",
      "14 | model.convs.12 | BatchNorm2d   | 80    \n",
      "15 | model.convs.13 | PReLU         | 1     \n",
      "16 | model.convs.14 | MaxPool2d     | 0     \n",
      "17 | model.convs.15 | Dropout       | 0     \n",
      "18 | model.convs.16 | Conv2d        | 12 K  \n",
      "19 | model.convs.17 | BatchNorm2d   | 160   \n",
      "20 | model.convs.18 | PReLU         | 1     \n",
      "21 | model.convs.19 | MaxPool2d     | 0     \n",
      "22 | model.convs.20 | Dropout       | 0     \n",
      "23 | model.dense    | Sequential    | 72 K  \n",
      "24 | model.dense.0  | Linear        | 70 K  \n",
      "25 | model.dense.1  | PReLU         | 1     \n",
      "26 | model.dense.2  | Dropout       | 0     \n",
      "27 | model.dense.3  | Linear        | 1 K   \n"
     ]
    },
    {
     "data": {
      "application/vnd.jupyter.widget-view+json": {
       "model_id": "",
       "version_major": 2,
       "version_minor": 0
      },
      "text/plain": [
       "HBox(children=(FloatProgress(value=1.0, bar_style='info', description='Validation sanity check', layout=Layout…"
      ]
     },
     "metadata": {},
     "output_type": "display_data"
    },
    {
     "name": "stdout",
     "output_type": "stream",
     "text": [
      "Val-Acc=0.01956135151155898\n"
     ]
    },
    {
     "data": {
      "application/vnd.jupyter.widget-view+json": {
       "model_id": "6d85b177b8ce4ea684b81a33d061c0f5",
       "version_major": 2,
       "version_minor": 0
      },
      "text/plain": [
       "HBox(children=(FloatProgress(value=1.0, bar_style='info', description='Training', layout=Layout(flex='2'), max…"
      ]
     },
     "metadata": {},
     "output_type": "display_data"
    },
    {
     "data": {
      "application/vnd.jupyter.widget-view+json": {
       "model_id": "",
       "version_major": 2,
       "version_minor": 0
      },
      "text/plain": [
       "HBox(children=(FloatProgress(value=1.0, bar_style='info', description='Validating', layout=Layout(flex='2'), m…"
      ]
     },
     "metadata": {},
     "output_type": "display_data"
    },
    {
     "name": "stdout",
     "output_type": "stream",
     "text": [
      "Val-Acc=0.6982809721398933\n",
      "Train-Acc=0.7094861660079052\n"
     ]
    },
    {
     "data": {
      "application/vnd.jupyter.widget-view+json": {
       "model_id": "",
       "version_major": 2,
       "version_minor": 0
      },
      "text/plain": [
       "HBox(children=(FloatProgress(value=1.0, bar_style='info', description='Validating', layout=Layout(flex='2'), m…"
      ]
     },
     "metadata": {},
     "output_type": "display_data"
    },
    {
     "name": "stdout",
     "output_type": "stream",
     "text": [
      "Val-Acc=0.7480735032602253\n"
     ]
    },
    {
     "name": "stderr",
     "output_type": "stream",
     "text": [
      "[I 2020-07-20 19:40:45,036] Setting status of trial#48 as TrialState.PRUNED. Trial was pruned at epoch 1.\n",
      "GPU available: True, used: True\n",
      "No environment variable for node rank defined. Set as 0.\n",
      "CUDA_VISIBLE_DEVICES: [0]\n",
      "Set SLURM handle signals.\n",
      "\n",
      "   | Name           | Type          | Params\n",
      "---------------------------------------------\n",
      "0  | model          | AblationModel | 190 K \n",
      "1  | model.convs    | Sequential    | 114 K \n",
      "2  | model.convs.0  | BatchNorm2d   | 2     \n",
      "3  | model.convs.1  | Conv2d        | 1 K   \n",
      "4  | model.convs.2  | BatchNorm2d   | 20    \n",
      "5  | model.convs.3  | PReLU         | 1     \n",
      "6  | model.convs.4  | MaxPool2d     | 0     \n",
      "7  | model.convs.5  | Dropout       | 0     \n",
      "8  | model.convs.6  | Conv2d        | 20 K  \n",
      "9  | model.convs.7  | BatchNorm2d   | 40    \n",
      "10 | model.convs.8  | PReLU         | 1     \n",
      "11 | model.convs.9  | MaxPool2d     | 0     \n",
      "12 | model.convs.10 | Dropout       | 0     \n",
      "13 | model.convs.11 | Conv2d        | 80 K  \n",
      "14 | model.convs.12 | BatchNorm2d   | 80    \n",
      "15 | model.convs.13 | PReLU         | 1     \n",
      "16 | model.convs.14 | MaxPool2d     | 0     \n",
      "17 | model.convs.15 | Dropout       | 0     \n",
      "18 | model.convs.16 | Conv2d        | 12 K  \n",
      "19 | model.convs.17 | BatchNorm2d   | 160   \n",
      "20 | model.convs.18 | PReLU         | 1     \n",
      "21 | model.convs.19 | MaxPool2d     | 0     \n",
      "22 | model.convs.20 | Dropout       | 0     \n",
      "23 | model.dense    | Sequential    | 76 K  \n",
      "24 | model.dense.0  | Linear        | 74 K  \n",
      "25 | model.dense.1  | PReLU         | 1     \n",
      "26 | model.dense.2  | Dropout       | 0     \n",
      "27 | model.dense.3  | Linear        | 1 K   \n"
     ]
    },
    {
     "data": {
      "application/vnd.jupyter.widget-view+json": {
       "model_id": "",
       "version_major": 2,
       "version_minor": 0
      },
      "text/plain": [
       "HBox(children=(FloatProgress(value=1.0, bar_style='info', description='Validation sanity check', layout=Layout…"
      ]
     },
     "metadata": {},
     "output_type": "display_data"
    },
    {
     "name": "stdout",
     "output_type": "stream",
     "text": [
      "Val-Acc=0.01956135151155898\n"
     ]
    },
    {
     "data": {
      "application/vnd.jupyter.widget-view+json": {
       "model_id": "6f0fc727df3a40dda938770f663f31d0",
       "version_major": 2,
       "version_minor": 0
      },
      "text/plain": [
       "HBox(children=(FloatProgress(value=1.0, bar_style='info', description='Training', layout=Layout(flex='2'), max…"
      ]
     },
     "metadata": {},
     "output_type": "display_data"
    },
    {
     "data": {
      "application/vnd.jupyter.widget-view+json": {
       "model_id": "",
       "version_major": 2,
       "version_minor": 0
      },
      "text/plain": [
       "HBox(children=(FloatProgress(value=1.0, bar_style='info', description='Validating', layout=Layout(flex='2'), m…"
      ]
     },
     "metadata": {},
     "output_type": "display_data"
    },
    {
     "name": "stdout",
     "output_type": "stream",
     "text": [
      "Val-Acc=0.6911677534084173\n",
      "Train-Acc=0.6954545454545454\n"
     ]
    },
    {
     "data": {
      "application/vnd.jupyter.widget-view+json": {
       "model_id": "",
       "version_major": 2,
       "version_minor": 0
      },
      "text/plain": [
       "HBox(children=(FloatProgress(value=1.0, bar_style='info', description='Validating', layout=Layout(flex='2'), m…"
      ]
     },
     "metadata": {},
     "output_type": "display_data"
    },
    {
     "name": "stdout",
     "output_type": "stream",
     "text": [
      "Val-Acc=0.6864256075874333\n"
     ]
    },
    {
     "name": "stderr",
     "output_type": "stream",
     "text": [
      "[I 2020-07-20 19:41:02,611] Setting status of trial#49 as TrialState.PRUNED. Trial was pruned at epoch 1.\n",
      "GPU available: True, used: True\n",
      "No environment variable for node rank defined. Set as 0.\n",
      "CUDA_VISIBLE_DEVICES: [0]\n",
      "Set SLURM handle signals.\n",
      "\n",
      "   | Name           | Type          | Params\n",
      "---------------------------------------------\n",
      "0  | model          | AblationModel | 160 K \n",
      "1  | model.convs    | Sequential    | 114 K \n",
      "2  | model.convs.0  | BatchNorm2d   | 2     \n",
      "3  | model.convs.1  | Conv2d        | 1 K   \n",
      "4  | model.convs.2  | BatchNorm2d   | 20    \n",
      "5  | model.convs.3  | PReLU         | 1     \n",
      "6  | model.convs.4  | MaxPool2d     | 0     \n",
      "7  | model.convs.5  | Dropout       | 0     \n",
      "8  | model.convs.6  | Conv2d        | 20 K  \n",
      "9  | model.convs.7  | BatchNorm2d   | 40    \n",
      "10 | model.convs.8  | PReLU         | 1     \n",
      "11 | model.convs.9  | MaxPool2d     | 0     \n",
      "12 | model.convs.10 | Dropout       | 0     \n",
      "13 | model.convs.11 | Conv2d        | 80 K  \n",
      "14 | model.convs.12 | BatchNorm2d   | 80    \n",
      "15 | model.convs.13 | PReLU         | 1     \n",
      "16 | model.convs.14 | MaxPool2d     | 0     \n",
      "17 | model.convs.15 | Dropout       | 0     \n",
      "18 | model.convs.16 | Conv2d        | 12 K  \n",
      "19 | model.convs.17 | BatchNorm2d   | 160   \n",
      "20 | model.convs.18 | PReLU         | 1     \n",
      "21 | model.convs.19 | MaxPool2d     | 0     \n",
      "22 | model.convs.20 | Dropout       | 0     \n",
      "23 | model.dense    | Sequential    | 46 K  \n",
      "24 | model.dense.0  | Linear        | 45 K  \n",
      "25 | model.dense.1  | PReLU         | 1     \n",
      "26 | model.dense.2  | Dropout       | 0     \n",
      "27 | model.dense.3  | Linear        | 1 K   \n"
     ]
    },
    {
     "data": {
      "application/vnd.jupyter.widget-view+json": {
       "model_id": "",
       "version_major": 2,
       "version_minor": 0
      },
      "text/plain": [
       "HBox(children=(FloatProgress(value=1.0, bar_style='info', description='Validation sanity check', layout=Layout…"
      ]
     },
     "metadata": {},
     "output_type": "display_data"
    },
    {
     "name": "stdout",
     "output_type": "stream",
     "text": [
      "Val-Acc=0.015411973918197985\n"
     ]
    },
    {
     "data": {
      "application/vnd.jupyter.widget-view+json": {
       "model_id": "d63db96799f44a41988f7ac61db89a89",
       "version_major": 2,
       "version_minor": 0
      },
      "text/plain": [
       "HBox(children=(FloatProgress(value=1.0, bar_style='info', description='Training', layout=Layout(flex='2'), max…"
      ]
     },
     "metadata": {},
     "output_type": "display_data"
    },
    {
     "data": {
      "application/vnd.jupyter.widget-view+json": {
       "model_id": "",
       "version_major": 2,
       "version_minor": 0
      },
      "text/plain": [
       "HBox(children=(FloatProgress(value=1.0, bar_style='info', description='Validating', layout=Layout(flex='2'), m…"
      ]
     },
     "metadata": {},
     "output_type": "display_data"
    },
    {
     "name": "stdout",
     "output_type": "stream",
     "text": [
      "Val-Acc=0.6680497925311203\n",
      "Train-Acc=0.7124505928853755\n"
     ]
    },
    {
     "data": {
      "application/vnd.jupyter.widget-view+json": {
       "model_id": "",
       "version_major": 2,
       "version_minor": 0
      },
      "text/plain": [
       "HBox(children=(FloatProgress(value=1.0, bar_style='info', description='Validating', layout=Layout(flex='2'), m…"
      ]
     },
     "metadata": {},
     "output_type": "display_data"
    },
    {
     "name": "stdout",
     "output_type": "stream",
     "text": [
      "Val-Acc=0.6810906935388263\n"
     ]
    },
    {
     "name": "stderr",
     "output_type": "stream",
     "text": [
      "[I 2020-07-20 19:41:19,880] Setting status of trial#50 as TrialState.PRUNED. Trial was pruned at epoch 1.\n",
      "GPU available: True, used: True\n",
      "No environment variable for node rank defined. Set as 0.\n",
      "CUDA_VISIBLE_DEVICES: [0]\n",
      "Set SLURM handle signals.\n",
      "\n",
      "   | Name           | Type          | Params\n",
      "---------------------------------------------\n",
      "0  | model          | AblationModel | 193 K \n",
      "1  | model.convs    | Sequential    | 114 K \n",
      "2  | model.convs.0  | BatchNorm2d   | 2     \n",
      "3  | model.convs.1  | Conv2d        | 1 K   \n",
      "4  | model.convs.2  | BatchNorm2d   | 20    \n",
      "5  | model.convs.3  | PReLU         | 1     \n",
      "6  | model.convs.4  | MaxPool2d     | 0     \n",
      "7  | model.convs.5  | Dropout       | 0     \n",
      "8  | model.convs.6  | Conv2d        | 20 K  \n",
      "9  | model.convs.7  | BatchNorm2d   | 40    \n",
      "10 | model.convs.8  | PReLU         | 1     \n",
      "11 | model.convs.9  | MaxPool2d     | 0     \n",
      "12 | model.convs.10 | Dropout       | 0     \n",
      "13 | model.convs.11 | Conv2d        | 80 K  \n",
      "14 | model.convs.12 | BatchNorm2d   | 80    \n",
      "15 | model.convs.13 | PReLU         | 1     \n",
      "16 | model.convs.14 | MaxPool2d     | 0     \n",
      "17 | model.convs.15 | Dropout       | 0     \n",
      "18 | model.convs.16 | Conv2d        | 12 K  \n",
      "19 | model.convs.17 | BatchNorm2d   | 160   \n",
      "20 | model.convs.18 | PReLU         | 1     \n",
      "21 | model.convs.19 | MaxPool2d     | 0     \n",
      "22 | model.convs.20 | Dropout       | 0     \n",
      "23 | model.dense    | Sequential    | 79 K  \n",
      "24 | model.dense.0  | Linear        | 77 K  \n",
      "25 | model.dense.1  | PReLU         | 1     \n",
      "26 | model.dense.2  | Dropout       | 0     \n",
      "27 | model.dense.3  | Linear        | 1 K   \n"
     ]
    },
    {
     "data": {
      "application/vnd.jupyter.widget-view+json": {
       "model_id": "",
       "version_major": 2,
       "version_minor": 0
      },
      "text/plain": [
       "HBox(children=(FloatProgress(value=1.0, bar_style='info', description='Validation sanity check', layout=Layout…"
      ]
     },
     "metadata": {},
     "output_type": "display_data"
    },
    {
     "name": "stdout",
     "output_type": "stream",
     "text": [
      "Val-Acc=0.018375815056312982\n"
     ]
    },
    {
     "data": {
      "application/vnd.jupyter.widget-view+json": {
       "model_id": "c792cb85903642ef8f9b73a8ca6bbd62",
       "version_major": 2,
       "version_minor": 0
      },
      "text/plain": [
       "HBox(children=(FloatProgress(value=1.0, bar_style='info', description='Training', layout=Layout(flex='2'), max…"
      ]
     },
     "metadata": {},
     "output_type": "display_data"
    },
    {
     "data": {
      "application/vnd.jupyter.widget-view+json": {
       "model_id": "",
       "version_major": 2,
       "version_minor": 0
      },
      "text/plain": [
       "HBox(children=(FloatProgress(value=1.0, bar_style='info', description='Validating', layout=Layout(flex='2'), m…"
      ]
     },
     "metadata": {},
     "output_type": "display_data"
    },
    {
     "name": "stdout",
     "output_type": "stream",
     "text": [
      "Val-Acc=0.7184350918790753\n",
      "Train-Acc=0.7480237154150198\n"
     ]
    },
    {
     "data": {
      "application/vnd.jupyter.widget-view+json": {
       "model_id": "",
       "version_major": 2,
       "version_minor": 0
      },
      "text/plain": [
       "HBox(children=(FloatProgress(value=1.0, bar_style='info', description='Validating', layout=Layout(flex='2'), m…"
      ]
     },
     "metadata": {},
     "output_type": "display_data"
    },
    {
     "name": "stdout",
     "output_type": "stream",
     "text": [
      "Val-Acc=0.7735625370480143\n",
      "Train-Acc=0.7741106719367589\n"
     ]
    },
    {
     "data": {
      "application/vnd.jupyter.widget-view+json": {
       "model_id": "",
       "version_major": 2,
       "version_minor": 0
      },
      "text/plain": [
       "HBox(children=(FloatProgress(value=1.0, bar_style='info', description='Validating', layout=Layout(flex='2'), m…"
      ]
     },
     "metadata": {},
     "output_type": "display_data"
    },
    {
     "name": "stdout",
     "output_type": "stream",
     "text": [
      "Val-Acc=0.7498518079430943\n",
      "Train-Acc=0.8057312252964427\n"
     ]
    },
    {
     "data": {
      "application/vnd.jupyter.widget-view+json": {
       "model_id": "",
       "version_major": 2,
       "version_minor": 0
      },
      "text/plain": [
       "HBox(children=(FloatProgress(value=1.0, bar_style='info', description='Validating', layout=Layout(flex='2'), m…"
      ]
     },
     "metadata": {},
     "output_type": "display_data"
    },
    {
     "name": "stdout",
     "output_type": "stream",
     "text": [
      "Val-Acc=0.6923532898636633\n",
      "Train-Acc=0.8187747035573123\n"
     ]
    },
    {
     "data": {
      "application/vnd.jupyter.widget-view+json": {
       "model_id": "",
       "version_major": 2,
       "version_minor": 0
      },
      "text/plain": [
       "HBox(children=(FloatProgress(value=1.0, bar_style='info', description='Validating', layout=Layout(flex='2'), m…"
      ]
     },
     "metadata": {},
     "output_type": "display_data"
    },
    {
     "name": "stdout",
     "output_type": "stream",
     "text": [
      "Val-Acc=0.7457024303497333\n",
      "Train-Acc=0.8227272727272728\n"
     ]
    },
    {
     "data": {
      "application/vnd.jupyter.widget-view+json": {
       "model_id": "",
       "version_major": 2,
       "version_minor": 0
      },
      "text/plain": [
       "HBox(children=(FloatProgress(value=1.0, bar_style='info', description='Validating', layout=Layout(flex='2'), m…"
      ]
     },
     "metadata": {},
     "output_type": "display_data"
    },
    {
     "name": "stdout",
     "output_type": "stream",
     "text": [
      "Val-Acc=0.8020154119739182\n",
      "Train-Acc=0.8377470355731226\n"
     ]
    },
    {
     "data": {
      "application/vnd.jupyter.widget-view+json": {
       "model_id": "",
       "version_major": 2,
       "version_minor": 0
      },
      "text/plain": [
       "HBox(children=(FloatProgress(value=1.0, bar_style='info', description='Validating', layout=Layout(flex='2'), m…"
      ]
     },
     "metadata": {},
     "output_type": "display_data"
    },
    {
     "name": "stdout",
     "output_type": "stream",
     "text": [
      "Val-Acc=0.6793123888559573\n",
      "Train-Acc=0.8424901185770751\n"
     ]
    },
    {
     "data": {
      "application/vnd.jupyter.widget-view+json": {
       "model_id": "",
       "version_major": 2,
       "version_minor": 0
      },
      "text/plain": [
       "HBox(children=(FloatProgress(value=1.0, bar_style='info', description='Validating', layout=Layout(flex='2'), m…"
      ]
     },
     "metadata": {},
     "output_type": "display_data"
    },
    {
     "name": "stdout",
     "output_type": "stream",
     "text": [
      "Val-Acc=0.8168346176644932\n",
      "Train-Acc=0.8470355731225296\n"
     ]
    },
    {
     "data": {
      "application/vnd.jupyter.widget-view+json": {
       "model_id": "",
       "version_major": 2,
       "version_minor": 0
      },
      "text/plain": [
       "HBox(children=(FloatProgress(value=1.0, bar_style='info', description='Validating', layout=Layout(flex='2'), m…"
      ]
     },
     "metadata": {},
     "output_type": "display_data"
    },
    {
     "name": "stdout",
     "output_type": "stream",
     "text": [
      "Val-Acc=0.7688203912270303\n",
      "Train-Acc=0.8488142292490118\n"
     ]
    },
    {
     "data": {
      "application/vnd.jupyter.widget-view+json": {
       "model_id": "",
       "version_major": 2,
       "version_minor": 0
      },
      "text/plain": [
       "HBox(children=(FloatProgress(value=1.0, bar_style='info', description='Validating', layout=Layout(flex='2'), m…"
      ]
     },
     "metadata": {},
     "output_type": "display_data"
    },
    {
     "name": "stdout",
     "output_type": "stream",
     "text": [
      "Val-Acc=0.7522228808535862\n",
      "Train-Acc=0.8541501976284585\n"
     ]
    },
    {
     "data": {
      "application/vnd.jupyter.widget-view+json": {
       "model_id": "",
       "version_major": 2,
       "version_minor": 0
      },
      "text/plain": [
       "HBox(children=(FloatProgress(value=1.0, bar_style='info', description='Validating', layout=Layout(flex='2'), m…"
      ]
     },
     "metadata": {},
     "output_type": "display_data"
    },
    {
     "name": "stdout",
     "output_type": "stream",
     "text": [
      "Val-Acc=0.7705986959098993\n",
      "Train-Acc=0.8600790513833992\n"
     ]
    },
    {
     "data": {
      "application/vnd.jupyter.widget-view+json": {
       "model_id": "",
       "version_major": 2,
       "version_minor": 0
      },
      "text/plain": [
       "HBox(children=(FloatProgress(value=1.0, bar_style='info', description='Validating', layout=Layout(flex='2'), m…"
      ]
     },
     "metadata": {},
     "output_type": "display_data"
    },
    {
     "name": "stdout",
     "output_type": "stream",
     "text": [
      "Val-Acc=0.7765263781861292\n",
      "Train-Acc=0.866798418972332\n"
     ]
    },
    {
     "data": {
      "application/vnd.jupyter.widget-view+json": {
       "model_id": "",
       "version_major": 2,
       "version_minor": 0
      },
      "text/plain": [
       "HBox(children=(FloatProgress(value=1.0, bar_style='info', description='Validating', layout=Layout(flex='2'), m…"
      ]
     },
     "metadata": {},
     "output_type": "display_data"
    },
    {
     "name": "stdout",
     "output_type": "stream",
     "text": [
      "Val-Acc=0.8156490812092472\n",
      "Train-Acc=0.8681818181818182\n"
     ]
    },
    {
     "data": {
      "application/vnd.jupyter.widget-view+json": {
       "model_id": "",
       "version_major": 2,
       "version_minor": 0
      },
      "text/plain": [
       "HBox(children=(FloatProgress(value=1.0, bar_style='info', description='Validating', layout=Layout(flex='2'), m…"
      ]
     },
     "metadata": {},
     "output_type": "display_data"
    },
    {
     "name": "stdout",
     "output_type": "stream",
     "text": [
      "Val-Acc=0.8180201541197392\n",
      "Train-Acc=0.8709486166007905\n"
     ]
    },
    {
     "data": {
      "application/vnd.jupyter.widget-view+json": {
       "model_id": "",
       "version_major": 2,
       "version_minor": 0
      },
      "text/plain": [
       "HBox(children=(FloatProgress(value=1.0, bar_style='info', description='Validating', layout=Layout(flex='2'), m…"
      ]
     },
     "metadata": {},
     "output_type": "display_data"
    },
    {
     "name": "stdout",
     "output_type": "stream",
     "text": [
      "Val-Acc=0.8114997036158862\n",
      "Train-Acc=0.8713438735177865\n"
     ]
    },
    {
     "data": {
      "application/vnd.jupyter.widget-view+json": {
       "model_id": "",
       "version_major": 2,
       "version_minor": 0
      },
      "text/plain": [
       "HBox(children=(FloatProgress(value=1.0, bar_style='info', description='Validating', layout=Layout(flex='2'), m…"
      ]
     },
     "metadata": {},
     "output_type": "display_data"
    },
    {
     "name": "stdout",
     "output_type": "stream",
     "text": [
      "Val-Acc=0.8174273858921162\n",
      "Train-Acc=0.8749011857707509\n"
     ]
    },
    {
     "data": {
      "application/vnd.jupyter.widget-view+json": {
       "model_id": "",
       "version_major": 2,
       "version_minor": 0
      },
      "text/plain": [
       "HBox(children=(FloatProgress(value=1.0, bar_style='info', description='Validating', layout=Layout(flex='2'), m…"
      ]
     },
     "metadata": {},
     "output_type": "display_data"
    },
    {
     "name": "stdout",
     "output_type": "stream",
     "text": [
      "Val-Acc=0.8322465915826912\n",
      "Train-Acc=0.8760869565217392\n"
     ]
    },
    {
     "data": {
      "application/vnd.jupyter.widget-view+json": {
       "model_id": "",
       "version_major": 2,
       "version_minor": 0
      },
      "text/plain": [
       "HBox(children=(FloatProgress(value=1.0, bar_style='info', description='Validating', layout=Layout(flex='2'), m…"
      ]
     },
     "metadata": {},
     "output_type": "display_data"
    },
    {
     "name": "stdout",
     "output_type": "stream",
     "text": [
      "Val-Acc=0.7824540604623592\n",
      "Train-Acc=0.8747035573122529\n"
     ]
    },
    {
     "data": {
      "application/vnd.jupyter.widget-view+json": {
       "model_id": "",
       "version_major": 2,
       "version_minor": 0
      },
      "text/plain": [
       "HBox(children=(FloatProgress(value=1.0, bar_style='info', description='Validating', layout=Layout(flex='2'), m…"
      ]
     },
     "metadata": {},
     "output_type": "display_data"
    },
    {
     "name": "stdout",
     "output_type": "stream",
     "text": [
      "Val-Acc=0.8126852400711322\n",
      "Train-Acc=0.8782608695652174\n"
     ]
    },
    {
     "data": {
      "application/vnd.jupyter.widget-view+json": {
       "model_id": "",
       "version_major": 2,
       "version_minor": 0
      },
      "text/plain": [
       "HBox(children=(FloatProgress(value=1.0, bar_style='info', description='Validating', layout=Layout(flex='2'), m…"
      ]
     },
     "metadata": {},
     "output_type": "display_data"
    },
    {
     "name": "stdout",
     "output_type": "stream",
     "text": [
      "Val-Acc=0.8061647895672792\n",
      "Train-Acc=0.8822134387351779\n",
      "\n",
      "Saved model to \"saved_modelsq/51.p\"\n"
     ]
    },
    {
     "name": "stderr",
     "output_type": "stream",
     "text": [
      "[I 2020-07-20 19:44:11,919] Finished trial#51 with value: 0.8061647895672792 with parameters: {'learning_rate': 0.0018565370123272199, 'p_drop': 0.0019420113421844132, 'lr_decay': 0.7326996082446573, 'n_hidden': 956, 'weight_decay': 0.010792481102198846}. Best is trial#17 with value: 0.8707765263781861.\n",
      "GPU available: True, used: True\n",
      "No environment variable for node rank defined. Set as 0.\n",
      "CUDA_VISIBLE_DEVICES: [0]\n",
      "Set SLURM handle signals.\n",
      "\n",
      "   | Name           | Type          | Params\n",
      "---------------------------------------------\n",
      "0  | model          | AblationModel | 187 K \n",
      "1  | model.convs    | Sequential    | 114 K \n",
      "2  | model.convs.0  | BatchNorm2d   | 2     \n",
      "3  | model.convs.1  | Conv2d        | 1 K   \n",
      "4  | model.convs.2  | BatchNorm2d   | 20    \n",
      "5  | model.convs.3  | PReLU         | 1     \n",
      "6  | model.convs.4  | MaxPool2d     | 0     \n",
      "7  | model.convs.5  | Dropout       | 0     \n",
      "8  | model.convs.6  | Conv2d        | 20 K  \n",
      "9  | model.convs.7  | BatchNorm2d   | 40    \n",
      "10 | model.convs.8  | PReLU         | 1     \n",
      "11 | model.convs.9  | MaxPool2d     | 0     \n",
      "12 | model.convs.10 | Dropout       | 0     \n",
      "13 | model.convs.11 | Conv2d        | 80 K  \n",
      "14 | model.convs.12 | BatchNorm2d   | 80    \n",
      "15 | model.convs.13 | PReLU         | 1     \n",
      "16 | model.convs.14 | MaxPool2d     | 0     \n",
      "17 | model.convs.15 | Dropout       | 0     \n",
      "18 | model.convs.16 | Conv2d        | 12 K  \n",
      "19 | model.convs.17 | BatchNorm2d   | 160   \n",
      "20 | model.convs.18 | PReLU         | 1     \n",
      "21 | model.convs.19 | MaxPool2d     | 0     \n",
      "22 | model.convs.20 | Dropout       | 0     \n",
      "23 | model.dense    | Sequential    | 72 K  \n",
      "24 | model.dense.0  | Linear        | 71 K  \n",
      "25 | model.dense.1  | PReLU         | 1     \n",
      "26 | model.dense.2  | Dropout       | 0     \n",
      "27 | model.dense.3  | Linear        | 1 K   \n"
     ]
    },
    {
     "data": {
      "application/vnd.jupyter.widget-view+json": {
       "model_id": "",
       "version_major": 2,
       "version_minor": 0
      },
      "text/plain": [
       "HBox(children=(FloatProgress(value=1.0, bar_style='info', description='Validation sanity check', layout=Layout…"
      ]
     },
     "metadata": {},
     "output_type": "display_data"
    },
    {
     "name": "stdout",
     "output_type": "stream",
     "text": [
      "Val-Acc=0.01778304682868998\n"
     ]
    },
    {
     "data": {
      "application/vnd.jupyter.widget-view+json": {
       "model_id": "8eda65cc88d747a5a9ffd65d8df898d2",
       "version_major": 2,
       "version_minor": 0
      },
      "text/plain": [
       "HBox(children=(FloatProgress(value=1.0, bar_style='info', description='Training', layout=Layout(flex='2'), max…"
      ]
     },
     "metadata": {},
     "output_type": "display_data"
    },
    {
     "data": {
      "application/vnd.jupyter.widget-view+json": {
       "model_id": "",
       "version_major": 2,
       "version_minor": 0
      },
      "text/plain": [
       "HBox(children=(FloatProgress(value=1.0, bar_style='info', description='Validating', layout=Layout(flex='2'), m…"
      ]
     },
     "metadata": {},
     "output_type": "display_data"
    },
    {
     "name": "stdout",
     "output_type": "stream",
     "text": [
      "Val-Acc=0.7765263781861292\n",
      "Train-Acc=0.7454545454545455\n"
     ]
    },
    {
     "data": {
      "application/vnd.jupyter.widget-view+json": {
       "model_id": "",
       "version_major": 2,
       "version_minor": 0
      },
      "text/plain": [
       "HBox(children=(FloatProgress(value=1.0, bar_style='info', description='Validating', layout=Layout(flex='2'), m…"
      ]
     },
     "metadata": {},
     "output_type": "display_data"
    },
    {
     "name": "stdout",
     "output_type": "stream",
     "text": [
      "Val-Acc=0.8097213989330172\n",
      "Train-Acc=0.791699604743083\n"
     ]
    },
    {
     "data": {
      "application/vnd.jupyter.widget-view+json": {
       "model_id": "",
       "version_major": 2,
       "version_minor": 0
      },
      "text/plain": [
       "HBox(children=(FloatProgress(value=1.0, bar_style='info', description='Validating', layout=Layout(flex='2'), m…"
      ]
     },
     "metadata": {},
     "output_type": "display_data"
    },
    {
     "name": "stdout",
     "output_type": "stream",
     "text": [
      "Val-Acc=0.8138707765263782\n",
      "Train-Acc=0.7990118577075099\n"
     ]
    },
    {
     "data": {
      "application/vnd.jupyter.widget-view+json": {
       "model_id": "",
       "version_major": 2,
       "version_minor": 0
      },
      "text/plain": [
       "HBox(children=(FloatProgress(value=1.0, bar_style='info', description='Validating', layout=Layout(flex='2'), m…"
      ]
     },
     "metadata": {},
     "output_type": "display_data"
    },
    {
     "name": "stdout",
     "output_type": "stream",
     "text": [
      "Val-Acc=0.8233550681683461\n",
      "Train-Acc=0.8237154150197629\n"
     ]
    },
    {
     "data": {
      "application/vnd.jupyter.widget-view+json": {
       "model_id": "",
       "version_major": 2,
       "version_minor": 0
      },
      "text/plain": [
       "HBox(children=(FloatProgress(value=1.0, bar_style='info', description='Validating', layout=Layout(flex='2'), m…"
      ]
     },
     "metadata": {},
     "output_type": "display_data"
    },
    {
     "name": "stdout",
     "output_type": "stream",
     "text": [
      "Val-Acc=0.6804979253112033\n",
      "Train-Acc=0.824901185770751\n"
     ]
    },
    {
     "data": {
      "application/vnd.jupyter.widget-view+json": {
       "model_id": "",
       "version_major": 2,
       "version_minor": 0
      },
      "text/plain": [
       "HBox(children=(FloatProgress(value=1.0, bar_style='info', description='Validating', layout=Layout(flex='2'), m…"
      ]
     },
     "metadata": {},
     "output_type": "display_data"
    },
    {
     "name": "stdout",
     "output_type": "stream",
     "text": [
      "Val-Acc=0.5103734439834025\n",
      "Train-Acc=0.8306324110671937\n"
     ]
    },
    {
     "data": {
      "application/vnd.jupyter.widget-view+json": {
       "model_id": "",
       "version_major": 2,
       "version_minor": 0
      },
      "text/plain": [
       "HBox(children=(FloatProgress(value=1.0, bar_style='info', description='Validating', layout=Layout(flex='2'), m…"
      ]
     },
     "metadata": {},
     "output_type": "display_data"
    },
    {
     "name": "stdout",
     "output_type": "stream",
     "text": [
      "Val-Acc=0.7457024303497333\n",
      "Train-Acc=0.8395256916996048\n"
     ]
    },
    {
     "data": {
      "application/vnd.jupyter.widget-view+json": {
       "model_id": "",
       "version_major": 2,
       "version_minor": 0
      },
      "text/plain": [
       "HBox(children=(FloatProgress(value=1.0, bar_style='info', description='Validating', layout=Layout(flex='2'), m…"
      ]
     },
     "metadata": {},
     "output_type": "display_data"
    },
    {
     "name": "stdout",
     "output_type": "stream",
     "text": [
      "Val-Acc=0.8097213989330172\n",
      "Train-Acc=0.8460474308300395\n"
     ]
    },
    {
     "data": {
      "application/vnd.jupyter.widget-view+json": {
       "model_id": "",
       "version_major": 2,
       "version_minor": 0
      },
      "text/plain": [
       "HBox(children=(FloatProgress(value=1.0, bar_style='info', description='Validating', layout=Layout(flex='2'), m…"
      ]
     },
     "metadata": {},
     "output_type": "display_data"
    },
    {
     "name": "stdout",
     "output_type": "stream",
     "text": [
      "Val-Acc=0.7617071724955542\n",
      "Train-Acc=0.8476284584980237\n"
     ]
    },
    {
     "data": {
      "application/vnd.jupyter.widget-view+json": {
       "model_id": "",
       "version_major": 2,
       "version_minor": 0
      },
      "text/plain": [
       "HBox(children=(FloatProgress(value=1.0, bar_style='info', description='Validating', layout=Layout(flex='2'), m…"
      ]
     },
     "metadata": {},
     "output_type": "display_data"
    },
    {
     "name": "stdout",
     "output_type": "stream",
     "text": [
      "Val-Acc=0.8014226437462952\n",
      "Train-Acc=0.8592885375494071\n"
     ]
    },
    {
     "data": {
      "application/vnd.jupyter.widget-view+json": {
       "model_id": "",
       "version_major": 2,
       "version_minor": 0
      },
      "text/plain": [
       "HBox(children=(FloatProgress(value=1.0, bar_style='info', description='Validating', layout=Layout(flex='2'), m…"
      ]
     },
     "metadata": {},
     "output_type": "display_data"
    },
    {
     "name": "stdout",
     "output_type": "stream",
     "text": [
      "Val-Acc=0.7273266152934202\n",
      "Train-Acc=0.8588932806324111\n"
     ]
    },
    {
     "data": {
      "application/vnd.jupyter.widget-view+json": {
       "model_id": "",
       "version_major": 2,
       "version_minor": 0
      },
      "text/plain": [
       "HBox(children=(FloatProgress(value=1.0, bar_style='info', description='Validating', layout=Layout(flex='2'), m…"
      ]
     },
     "metadata": {},
     "output_type": "display_data"
    },
    {
     "name": "stdout",
     "output_type": "stream",
     "text": [
      "Val-Acc=0.7960877296976882\n",
      "Train-Acc=0.8624505928853755\n"
     ]
    },
    {
     "data": {
      "application/vnd.jupyter.widget-view+json": {
       "model_id": "",
       "version_major": 2,
       "version_minor": 0
      },
      "text/plain": [
       "HBox(children=(FloatProgress(value=1.0, bar_style='info', description='Validating', layout=Layout(flex='2'), m…"
      ]
     },
     "metadata": {},
     "output_type": "display_data"
    },
    {
     "name": "stdout",
     "output_type": "stream",
     "text": [
      "Val-Acc=0.7759336099585062\n",
      "Train-Acc=0.8737154150197628\n"
     ]
    },
    {
     "data": {
      "application/vnd.jupyter.widget-view+json": {
       "model_id": "",
       "version_major": 2,
       "version_minor": 0
      },
      "text/plain": [
       "HBox(children=(FloatProgress(value=1.0, bar_style='info', description='Validating', layout=Layout(flex='2'), m…"
      ]
     },
     "metadata": {},
     "output_type": "display_data"
    },
    {
     "name": "stdout",
     "output_type": "stream",
     "text": [
      "Val-Acc=0.7931238885595732\n",
      "Train-Acc=0.8741106719367588\n"
     ]
    },
    {
     "data": {
      "application/vnd.jupyter.widget-view+json": {
       "model_id": "",
       "version_major": 2,
       "version_minor": 0
      },
      "text/plain": [
       "HBox(children=(FloatProgress(value=1.0, bar_style='info', description='Validating', layout=Layout(flex='2'), m…"
      ]
     },
     "metadata": {},
     "output_type": "display_data"
    },
    {
     "name": "stdout",
     "output_type": "stream",
     "text": [
      "Val-Acc=0.8239478363959691\n",
      "Train-Acc=0.8715415019762845\n"
     ]
    },
    {
     "data": {
      "application/vnd.jupyter.widget-view+json": {
       "model_id": "",
       "version_major": 2,
       "version_minor": 0
      },
      "text/plain": [
       "HBox(children=(FloatProgress(value=1.0, bar_style='info', description='Validating', layout=Layout(flex='2'), m…"
      ]
     },
     "metadata": {},
     "output_type": "display_data"
    },
    {
     "name": "stdout",
     "output_type": "stream",
     "text": [
      "Val-Acc=0.8239478363959691\n",
      "Train-Acc=0.8796442687747036\n"
     ]
    },
    {
     "data": {
      "application/vnd.jupyter.widget-view+json": {
       "model_id": "",
       "version_major": 2,
       "version_minor": 0
      },
      "text/plain": [
       "HBox(children=(FloatProgress(value=1.0, bar_style='info', description='Validating', layout=Layout(flex='2'), m…"
      ]
     },
     "metadata": {},
     "output_type": "display_data"
    },
    {
     "name": "stdout",
     "output_type": "stream",
     "text": [
      "Val-Acc=0.8292827504445762\n",
      "Train-Acc=0.8812252964426878\n"
     ]
    },
    {
     "data": {
      "application/vnd.jupyter.widget-view+json": {
       "model_id": "",
       "version_major": 2,
       "version_minor": 0
      },
      "text/plain": [
       "HBox(children=(FloatProgress(value=1.0, bar_style='info', description='Validating', layout=Layout(flex='2'), m…"
      ]
     },
     "metadata": {},
     "output_type": "display_data"
    },
    {
     "name": "stdout",
     "output_type": "stream",
     "text": [
      "Val-Acc=0.8215767634854771\n",
      "Train-Acc=0.8784584980237155\n"
     ]
    },
    {
     "data": {
      "application/vnd.jupyter.widget-view+json": {
       "model_id": "",
       "version_major": 2,
       "version_minor": 0
      },
      "text/plain": [
       "HBox(children=(FloatProgress(value=1.0, bar_style='info', description='Validating', layout=Layout(flex='2'), m…"
      ]
     },
     "metadata": {},
     "output_type": "display_data"
    },
    {
     "name": "stdout",
     "output_type": "stream",
     "text": [
      "Val-Acc=0.8227622999407231\n",
      "Train-Acc=0.8808300395256917\n"
     ]
    },
    {
     "data": {
      "application/vnd.jupyter.widget-view+json": {
       "model_id": "",
       "version_major": 2,
       "version_minor": 0
      },
      "text/plain": [
       "HBox(children=(FloatProgress(value=1.0, bar_style='info', description='Validating', layout=Layout(flex='2'), m…"
      ]
     },
     "metadata": {},
     "output_type": "display_data"
    },
    {
     "name": "stdout",
     "output_type": "stream",
     "text": [
      "Val-Acc=0.8215767634854771\n",
      "Train-Acc=0.88300395256917\n",
      "\n",
      "Saved model to \"saved_modelsq/52.p\"\n"
     ]
    },
    {
     "name": "stderr",
     "output_type": "stream",
     "text": [
      "[I 2020-07-20 19:47:03,750] Finished trial#52 with value: 0.8215767634854771 with parameters: {'learning_rate': 0.0029560687034420395, 'p_drop': 0.04201412091717306, 'lr_decay': 0.7754837494092245, 'n_hidden': 877, 'weight_decay': 0.0030264052623219188}. Best is trial#17 with value: 0.8707765263781861.\n",
      "GPU available: True, used: True\n",
      "No environment variable for node rank defined. Set as 0.\n",
      "CUDA_VISIBLE_DEVICES: [0]\n",
      "Set SLURM handle signals.\n",
      "\n",
      "   | Name           | Type          | Params\n",
      "---------------------------------------------\n",
      "0  | model          | AblationModel | 181 K \n",
      "1  | model.convs    | Sequential    | 114 K \n",
      "2  | model.convs.0  | BatchNorm2d   | 2     \n",
      "3  | model.convs.1  | Conv2d        | 1 K   \n",
      "4  | model.convs.2  | BatchNorm2d   | 20    \n",
      "5  | model.convs.3  | PReLU         | 1     \n",
      "6  | model.convs.4  | MaxPool2d     | 0     \n",
      "7  | model.convs.5  | Dropout       | 0     \n",
      "8  | model.convs.6  | Conv2d        | 20 K  \n",
      "9  | model.convs.7  | BatchNorm2d   | 40    \n",
      "10 | model.convs.8  | PReLU         | 1     \n",
      "11 | model.convs.9  | MaxPool2d     | 0     \n",
      "12 | model.convs.10 | Dropout       | 0     \n",
      "13 | model.convs.11 | Conv2d        | 80 K  \n",
      "14 | model.convs.12 | BatchNorm2d   | 80    \n",
      "15 | model.convs.13 | PReLU         | 1     \n",
      "16 | model.convs.14 | MaxPool2d     | 0     \n",
      "17 | model.convs.15 | Dropout       | 0     \n",
      "18 | model.convs.16 | Conv2d        | 12 K  \n",
      "19 | model.convs.17 | BatchNorm2d   | 160   \n",
      "20 | model.convs.18 | PReLU         | 1     \n",
      "21 | model.convs.19 | MaxPool2d     | 0     \n",
      "22 | model.convs.20 | Dropout       | 0     \n",
      "23 | model.dense    | Sequential    | 67 K  \n",
      "24 | model.dense.0  | Linear        | 65 K  \n",
      "25 | model.dense.1  | PReLU         | 1     \n",
      "26 | model.dense.2  | Dropout       | 0     \n",
      "27 | model.dense.3  | Linear        | 1 K   \n"
     ]
    },
    {
     "data": {
      "application/vnd.jupyter.widget-view+json": {
       "model_id": "",
       "version_major": 2,
       "version_minor": 0
      },
      "text/plain": [
       "HBox(children=(FloatProgress(value=1.0, bar_style='info', description='Validation sanity check', layout=Layout…"
      ]
     },
     "metadata": {},
     "output_type": "display_data"
    },
    {
     "name": "stdout",
     "output_type": "stream",
     "text": [
      "Val-Acc=0.01896858328393598\n"
     ]
    },
    {
     "data": {
      "application/vnd.jupyter.widget-view+json": {
       "model_id": "7a1af98e725b42aa8656d46129b7534c",
       "version_major": 2,
       "version_minor": 0
      },
      "text/plain": [
       "HBox(children=(FloatProgress(value=1.0, bar_style='info', description='Training', layout=Layout(flex='2'), max…"
      ]
     },
     "metadata": {},
     "output_type": "display_data"
    },
    {
     "data": {
      "application/vnd.jupyter.widget-view+json": {
       "model_id": "",
       "version_major": 2,
       "version_minor": 0
      },
      "text/plain": [
       "HBox(children=(FloatProgress(value=1.0, bar_style='info', description='Validating', layout=Layout(flex='2'), m…"
      ]
     },
     "metadata": {},
     "output_type": "display_data"
    },
    {
     "name": "stdout",
     "output_type": "stream",
     "text": [
      "Val-Acc=0.5103734439834025\n",
      "Train-Acc=0.557905138339921\n"
     ]
    },
    {
     "data": {
      "application/vnd.jupyter.widget-view+json": {
       "model_id": "",
       "version_major": 2,
       "version_minor": 0
      },
      "text/plain": [
       "HBox(children=(FloatProgress(value=1.0, bar_style='info', description='Validating', layout=Layout(flex='2'), m…"
      ]
     },
     "metadata": {},
     "output_type": "display_data"
    },
    {
     "name": "stdout",
     "output_type": "stream",
     "text": [
      "Val-Acc=0.5103734439834025\n"
     ]
    },
    {
     "name": "stderr",
     "output_type": "stream",
     "text": [
      "[I 2020-07-20 19:47:20,937] Setting status of trial#53 as TrialState.PRUNED. Trial was pruned at epoch 1.\n",
      "GPU available: True, used: True\n",
      "No environment variable for node rank defined. Set as 0.\n",
      "CUDA_VISIBLE_DEVICES: [0]\n",
      "Set SLURM handle signals.\n",
      "\n",
      "   | Name           | Type          | Params\n",
      "---------------------------------------------\n",
      "0  | model          | AblationModel | 197 K \n",
      "1  | model.convs    | Sequential    | 114 K \n",
      "2  | model.convs.0  | BatchNorm2d   | 2     \n",
      "3  | model.convs.1  | Conv2d        | 1 K   \n",
      "4  | model.convs.2  | BatchNorm2d   | 20    \n",
      "5  | model.convs.3  | PReLU         | 1     \n",
      "6  | model.convs.4  | MaxPool2d     | 0     \n",
      "7  | model.convs.5  | Dropout       | 0     \n",
      "8  | model.convs.6  | Conv2d        | 20 K  \n",
      "9  | model.convs.7  | BatchNorm2d   | 40    \n",
      "10 | model.convs.8  | PReLU         | 1     \n",
      "11 | model.convs.9  | MaxPool2d     | 0     \n",
      "12 | model.convs.10 | Dropout       | 0     \n",
      "13 | model.convs.11 | Conv2d        | 80 K  \n",
      "14 | model.convs.12 | BatchNorm2d   | 80    \n",
      "15 | model.convs.13 | PReLU         | 1     \n",
      "16 | model.convs.14 | MaxPool2d     | 0     \n",
      "17 | model.convs.15 | Dropout       | 0     \n",
      "18 | model.convs.16 | Conv2d        | 12 K  \n",
      "19 | model.convs.17 | BatchNorm2d   | 160   \n",
      "20 | model.convs.18 | PReLU         | 1     \n",
      "21 | model.convs.19 | MaxPool2d     | 0     \n",
      "22 | model.convs.20 | Dropout       | 0     \n",
      "23 | model.dense    | Sequential    | 82 K  \n",
      "24 | model.dense.0  | Linear        | 80 K  \n",
      "25 | model.dense.1  | PReLU         | 1     \n",
      "26 | model.dense.2  | Dropout       | 0     \n",
      "27 | model.dense.3  | Linear        | 2 K   \n"
     ]
    },
    {
     "data": {
      "application/vnd.jupyter.widget-view+json": {
       "model_id": "",
       "version_major": 2,
       "version_minor": 0
      },
      "text/plain": [
       "HBox(children=(FloatProgress(value=1.0, bar_style='info', description='Validation sanity check', layout=Layout…"
      ]
     },
     "metadata": {},
     "output_type": "display_data"
    },
    {
     "name": "stdout",
     "output_type": "stream",
     "text": [
      "Val-Acc=0.01956135151155898\n"
     ]
    },
    {
     "data": {
      "application/vnd.jupyter.widget-view+json": {
       "model_id": "601687d274384b4189f339975cc8899d",
       "version_major": 2,
       "version_minor": 0
      },
      "text/plain": [
       "HBox(children=(FloatProgress(value=1.0, bar_style='info', description='Training', layout=Layout(flex='2'), max…"
      ]
     },
     "metadata": {},
     "output_type": "display_data"
    },
    {
     "data": {
      "application/vnd.jupyter.widget-view+json": {
       "model_id": "",
       "version_major": 2,
       "version_minor": 0
      },
      "text/plain": [
       "HBox(children=(FloatProgress(value=1.0, bar_style='info', description='Validating', layout=Layout(flex='2'), m…"
      ]
     },
     "metadata": {},
     "output_type": "display_data"
    },
    {
     "name": "stdout",
     "output_type": "stream",
     "text": [
      "Val-Acc=0.6147006520450504\n",
      "Train-Acc=0.7\n"
     ]
    },
    {
     "data": {
      "application/vnd.jupyter.widget-view+json": {
       "model_id": "",
       "version_major": 2,
       "version_minor": 0
      },
      "text/plain": [
       "HBox(children=(FloatProgress(value=1.0, bar_style='info', description='Validating', layout=Layout(flex='2'), m…"
      ]
     },
     "metadata": {},
     "output_type": "display_data"
    },
    {
     "name": "stdout",
     "output_type": "stream",
     "text": [
      "Val-Acc=0.4896265560165975\n"
     ]
    },
    {
     "name": "stderr",
     "output_type": "stream",
     "text": [
      "[I 2020-07-20 19:47:38,249] Setting status of trial#54 as TrialState.PRUNED. Trial was pruned at epoch 1.\n",
      "GPU available: True, used: True\n",
      "No environment variable for node rank defined. Set as 0.\n",
      "CUDA_VISIBLE_DEVICES: [0]\n",
      "Set SLURM handle signals.\n",
      "\n",
      "   | Name           | Type          | Params\n",
      "---------------------------------------------\n",
      "0  | model          | AblationModel | 189 K \n",
      "1  | model.convs    | Sequential    | 114 K \n",
      "2  | model.convs.0  | BatchNorm2d   | 2     \n",
      "3  | model.convs.1  | Conv2d        | 1 K   \n",
      "4  | model.convs.2  | BatchNorm2d   | 20    \n",
      "5  | model.convs.3  | PReLU         | 1     \n",
      "6  | model.convs.4  | MaxPool2d     | 0     \n",
      "7  | model.convs.5  | Dropout       | 0     \n",
      "8  | model.convs.6  | Conv2d        | 20 K  \n",
      "9  | model.convs.7  | BatchNorm2d   | 40    \n",
      "10 | model.convs.8  | PReLU         | 1     \n",
      "11 | model.convs.9  | MaxPool2d     | 0     \n",
      "12 | model.convs.10 | Dropout       | 0     \n",
      "13 | model.convs.11 | Conv2d        | 80 K  \n",
      "14 | model.convs.12 | BatchNorm2d   | 80    \n",
      "15 | model.convs.13 | PReLU         | 1     \n",
      "16 | model.convs.14 | MaxPool2d     | 0     \n",
      "17 | model.convs.15 | Dropout       | 0     \n",
      "18 | model.convs.16 | Conv2d        | 12 K  \n",
      "19 | model.convs.17 | BatchNorm2d   | 160   \n",
      "20 | model.convs.18 | PReLU         | 1     \n",
      "21 | model.convs.19 | MaxPool2d     | 0     \n",
      "22 | model.convs.20 | Dropout       | 0     \n",
      "23 | model.dense    | Sequential    | 75 K  \n",
      "24 | model.dense.0  | Linear        | 73 K  \n",
      "25 | model.dense.1  | PReLU         | 1     \n",
      "26 | model.dense.2  | Dropout       | 0     \n",
      "27 | model.dense.3  | Linear        | 1 K   \n"
     ]
    },
    {
     "data": {
      "application/vnd.jupyter.widget-view+json": {
       "model_id": "",
       "version_major": 2,
       "version_minor": 0
      },
      "text/plain": [
       "HBox(children=(FloatProgress(value=1.0, bar_style='info', description='Validation sanity check', layout=Layout…"
      ]
     },
     "metadata": {},
     "output_type": "display_data"
    },
    {
     "name": "stdout",
     "output_type": "stream",
     "text": [
      "Val-Acc=0.02015411973918198\n"
     ]
    },
    {
     "data": {
      "application/vnd.jupyter.widget-view+json": {
       "model_id": "a15da6589d7841f293986a87106c9a12",
       "version_major": 2,
       "version_minor": 0
      },
      "text/plain": [
       "HBox(children=(FloatProgress(value=1.0, bar_style='info', description='Training', layout=Layout(flex='2'), max…"
      ]
     },
     "metadata": {},
     "output_type": "display_data"
    },
    {
     "data": {
      "application/vnd.jupyter.widget-view+json": {
       "model_id": "",
       "version_major": 2,
       "version_minor": 0
      },
      "text/plain": [
       "HBox(children=(FloatProgress(value=1.0, bar_style='info', description='Validating', layout=Layout(flex='2'), m…"
      ]
     },
     "metadata": {},
     "output_type": "display_data"
    },
    {
     "name": "stdout",
     "output_type": "stream",
     "text": [
      "Val-Acc=0.7652637818612922\n",
      "Train-Acc=0.7318181818181818\n"
     ]
    },
    {
     "data": {
      "application/vnd.jupyter.widget-view+json": {
       "model_id": "",
       "version_major": 2,
       "version_minor": 0
      },
      "text/plain": [
       "HBox(children=(FloatProgress(value=1.0, bar_style='info', description='Validating', layout=Layout(flex='2'), m…"
      ]
     },
     "metadata": {},
     "output_type": "display_data"
    },
    {
     "name": "stdout",
     "output_type": "stream",
     "text": [
      "Val-Acc=0.5056312981624185\n",
      "Train-Acc=0.7723320158102767\n"
     ]
    },
    {
     "data": {
      "application/vnd.jupyter.widget-view+json": {
       "model_id": "",
       "version_major": 2,
       "version_minor": 0
      },
      "text/plain": [
       "HBox(children=(FloatProgress(value=1.0, bar_style='info', description='Validating', layout=Layout(flex='2'), m…"
      ]
     },
     "metadata": {},
     "output_type": "display_data"
    },
    {
     "name": "stdout",
     "output_type": "stream",
     "text": [
      "Val-Acc=0.7711914641375223\n",
      "Train-Acc=0.7974308300395256\n"
     ]
    },
    {
     "data": {
      "application/vnd.jupyter.widget-view+json": {
       "model_id": "",
       "version_major": 2,
       "version_minor": 0
      },
      "text/plain": [
       "HBox(children=(FloatProgress(value=1.0, bar_style='info', description='Validating', layout=Layout(flex='2'), m…"
      ]
     },
     "metadata": {},
     "output_type": "display_data"
    },
    {
     "name": "stdout",
     "output_type": "stream",
     "text": [
      "Val-Acc=0.4973325429756965\n",
      "Train-Acc=0.8156126482213438\n"
     ]
    },
    {
     "data": {
      "application/vnd.jupyter.widget-view+json": {
       "model_id": "",
       "version_major": 2,
       "version_minor": 0
      },
      "text/plain": [
       "HBox(children=(FloatProgress(value=1.0, bar_style='info', description='Validating', layout=Layout(flex='2'), m…"
      ]
     },
     "metadata": {},
     "output_type": "display_data"
    },
    {
     "name": "stdout",
     "output_type": "stream",
     "text": [
      "Val-Acc=0.4991108476585655\n",
      "Train-Acc=0.8266798418972332\n"
     ]
    },
    {
     "data": {
      "application/vnd.jupyter.widget-view+json": {
       "model_id": "",
       "version_major": 2,
       "version_minor": 0
      },
      "text/plain": [
       "HBox(children=(FloatProgress(value=1.0, bar_style='info', description='Validating', layout=Layout(flex='2'), m…"
      ]
     },
     "metadata": {},
     "output_type": "display_data"
    },
    {
     "name": "stdout",
     "output_type": "stream",
     "text": [
      "Val-Acc=0.7611144042679312\n",
      "Train-Acc=0.8343873517786561\n"
     ]
    },
    {
     "data": {
      "application/vnd.jupyter.widget-view+json": {
       "model_id": "",
       "version_major": 2,
       "version_minor": 0
      },
      "text/plain": [
       "HBox(children=(FloatProgress(value=1.0, bar_style='info', description='Validating', layout=Layout(flex='2'), m…"
      ]
     },
     "metadata": {},
     "output_type": "display_data"
    },
    {
     "name": "stdout",
     "output_type": "stream",
     "text": [
      "Val-Acc=0.5091879075281565\n",
      "Train-Acc=0.8428853754940712\n"
     ]
    },
    {
     "data": {
      "application/vnd.jupyter.widget-view+json": {
       "model_id": "",
       "version_major": 2,
       "version_minor": 0
      },
      "text/plain": [
       "HBox(children=(FloatProgress(value=1.0, bar_style='info', description='Validating', layout=Layout(flex='2'), m…"
      ]
     },
     "metadata": {},
     "output_type": "display_data"
    },
    {
     "name": "stdout",
     "output_type": "stream",
     "text": [
      "Val-Acc=0.8197984588026082\n",
      "Train-Acc=0.8488142292490118\n"
     ]
    },
    {
     "data": {
      "application/vnd.jupyter.widget-view+json": {
       "model_id": "",
       "version_major": 2,
       "version_minor": 0
      },
      "text/plain": [
       "HBox(children=(FloatProgress(value=1.0, bar_style='info', description='Validating', layout=Layout(flex='2'), m…"
      ]
     },
     "metadata": {},
     "output_type": "display_data"
    },
    {
     "name": "stdout",
     "output_type": "stream",
     "text": [
      "Val-Acc=0.5068168346176645\n",
      "Train-Acc=0.8458498023715415\n"
     ]
    },
    {
     "data": {
      "application/vnd.jupyter.widget-view+json": {
       "model_id": "",
       "version_major": 2,
       "version_minor": 0
      },
      "text/plain": [
       "HBox(children=(FloatProgress(value=1.0, bar_style='info', description='Validating', layout=Layout(flex='2'), m…"
      ]
     },
     "metadata": {},
     "output_type": "display_data"
    },
    {
     "name": "stdout",
     "output_type": "stream",
     "text": [
      "Val-Acc=0.8162418494368702\n",
      "Train-Acc=0.8569169960474309\n"
     ]
    },
    {
     "data": {
      "application/vnd.jupyter.widget-view+json": {
       "model_id": "",
       "version_major": 2,
       "version_minor": 0
      },
      "text/plain": [
       "HBox(children=(FloatProgress(value=1.0, bar_style='info', description='Validating', layout=Layout(flex='2'), m…"
      ]
     },
     "metadata": {},
     "output_type": "display_data"
    },
    {
     "name": "stdout",
     "output_type": "stream",
     "text": [
      "Val-Acc=0.5293420272673385\n",
      "Train-Acc=0.8555335968379446\n"
     ]
    },
    {
     "data": {
      "application/vnd.jupyter.widget-view+json": {
       "model_id": "",
       "version_major": 2,
       "version_minor": 0
      },
      "text/plain": [
       "HBox(children=(FloatProgress(value=1.0, bar_style='info', description='Validating', layout=Layout(flex='2'), m…"
      ]
     },
     "metadata": {},
     "output_type": "display_data"
    },
    {
     "name": "stdout",
     "output_type": "stream",
     "text": [
      "Val-Acc=0.8482513337285121\n",
      "Train-Acc=0.858102766798419\n"
     ]
    },
    {
     "data": {
      "application/vnd.jupyter.widget-view+json": {
       "model_id": "",
       "version_major": 2,
       "version_minor": 0
      },
      "text/plain": [
       "HBox(children=(FloatProgress(value=1.0, bar_style='info', description='Validating', layout=Layout(flex='2'), m…"
      ]
     },
     "metadata": {},
     "output_type": "display_data"
    },
    {
     "name": "stdout",
     "output_type": "stream",
     "text": [
      "Val-Acc=0.5951393005334914\n",
      "Train-Acc=0.8626482213438735\n"
     ]
    },
    {
     "data": {
      "application/vnd.jupyter.widget-view+json": {
       "model_id": "",
       "version_major": 2,
       "version_minor": 0
      },
      "text/plain": [
       "HBox(children=(FloatProgress(value=1.0, bar_style='info', description='Validating', layout=Layout(flex='2'), m…"
      ]
     },
     "metadata": {},
     "output_type": "display_data"
    },
    {
     "name": "stdout",
     "output_type": "stream",
     "text": [
      "Val-Acc=0.8334321280379372\n",
      "Train-Acc=0.866798418972332\n"
     ]
    },
    {
     "data": {
      "application/vnd.jupyter.widget-view+json": {
       "model_id": "",
       "version_major": 2,
       "version_minor": 0
      },
      "text/plain": [
       "HBox(children=(FloatProgress(value=1.0, bar_style='info', description='Validating', layout=Layout(flex='2'), m…"
      ]
     },
     "metadata": {},
     "output_type": "display_data"
    },
    {
     "name": "stdout",
     "output_type": "stream",
     "text": [
      "Val-Acc=0.8026081802015412\n",
      "Train-Acc=0.8632411067193676\n"
     ]
    },
    {
     "data": {
      "application/vnd.jupyter.widget-view+json": {
       "model_id": "",
       "version_major": 2,
       "version_minor": 0
      },
      "text/plain": [
       "HBox(children=(FloatProgress(value=1.0, bar_style='info', description='Validating', layout=Layout(flex='2'), m…"
      ]
     },
     "metadata": {},
     "output_type": "display_data"
    },
    {
     "name": "stdout",
     "output_type": "stream",
     "text": [
      "Val-Acc=0.5328986366330765\n",
      "Train-Acc=0.8681818181818182\n"
     ]
    },
    {
     "data": {
      "application/vnd.jupyter.widget-view+json": {
       "model_id": "",
       "version_major": 2,
       "version_minor": 0
      },
      "text/plain": [
       "HBox(children=(FloatProgress(value=1.0, bar_style='info', description='Validating', layout=Layout(flex='2'), m…"
      ]
     },
     "metadata": {},
     "output_type": "display_data"
    },
    {
     "name": "stdout",
     "output_type": "stream",
     "text": [
      "Val-Acc=0.8251333728512151\n",
      "Train-Acc=0.8701581027667984\n"
     ]
    },
    {
     "data": {
      "application/vnd.jupyter.widget-view+json": {
       "model_id": "",
       "version_major": 2,
       "version_minor": 0
      },
      "text/plain": [
       "HBox(children=(FloatProgress(value=1.0, bar_style='info', description='Validating', layout=Layout(flex='2'), m…"
      ]
     },
     "metadata": {},
     "output_type": "display_data"
    },
    {
     "name": "stdout",
     "output_type": "stream",
     "text": [
      "Val-Acc=0.8144635447540012\n",
      "Train-Acc=0.8731225296442687\n"
     ]
    },
    {
     "data": {
      "application/vnd.jupyter.widget-view+json": {
       "model_id": "",
       "version_major": 2,
       "version_minor": 0
      },
      "text/plain": [
       "HBox(children=(FloatProgress(value=1.0, bar_style='info', description='Validating', layout=Layout(flex='2'), m…"
      ]
     },
     "metadata": {},
     "output_type": "display_data"
    },
    {
     "name": "stdout",
     "output_type": "stream",
     "text": [
      "Val-Acc=0.8251333728512151\n",
      "Train-Acc=0.8774703557312253\n"
     ]
    },
    {
     "data": {
      "application/vnd.jupyter.widget-view+json": {
       "model_id": "",
       "version_major": 2,
       "version_minor": 0
      },
      "text/plain": [
       "HBox(children=(FloatProgress(value=1.0, bar_style='info', description='Validating', layout=Layout(flex='2'), m…"
      ]
     },
     "metadata": {},
     "output_type": "display_data"
    },
    {
     "name": "stdout",
     "output_type": "stream",
     "text": [
      "Val-Acc=0.7907528156490812\n",
      "Train-Acc=0.8752964426877471\n",
      "\n",
      "Saved model to \"saved_modelsq/55.p\"\n"
     ]
    },
    {
     "name": "stderr",
     "output_type": "stream",
     "text": [
      "[I 2020-07-20 19:50:27,806] Finished trial#55 with value: 0.7907528156490812 with parameters: {'learning_rate': 0.00515048194859379, 'p_drop': 0.1704700046413556, 'lr_decay': 0.8853109117374546, 'n_hidden': 909, 'weight_decay': 7.122232600751603e-05}. Best is trial#17 with value: 0.8707765263781861.\n",
      "GPU available: True, used: True\n",
      "No environment variable for node rank defined. Set as 0.\n",
      "CUDA_VISIBLE_DEVICES: [0]\n",
      "Set SLURM handle signals.\n",
      "\n",
      "   | Name           | Type          | Params\n",
      "---------------------------------------------\n",
      "0  | model          | AblationModel | 171 K \n",
      "1  | model.convs    | Sequential    | 114 K \n",
      "2  | model.convs.0  | BatchNorm2d   | 2     \n",
      "3  | model.convs.1  | Conv2d        | 1 K   \n",
      "4  | model.convs.2  | BatchNorm2d   | 20    \n",
      "5  | model.convs.3  | PReLU         | 1     \n",
      "6  | model.convs.4  | MaxPool2d     | 0     \n",
      "7  | model.convs.5  | Dropout       | 0     \n",
      "8  | model.convs.6  | Conv2d        | 20 K  \n",
      "9  | model.convs.7  | BatchNorm2d   | 40    \n",
      "10 | model.convs.8  | PReLU         | 1     \n",
      "11 | model.convs.9  | MaxPool2d     | 0     \n",
      "12 | model.convs.10 | Dropout       | 0     \n",
      "13 | model.convs.11 | Conv2d        | 80 K  \n",
      "14 | model.convs.12 | BatchNorm2d   | 80    \n",
      "15 | model.convs.13 | PReLU         | 1     \n",
      "16 | model.convs.14 | MaxPool2d     | 0     \n",
      "17 | model.convs.15 | Dropout       | 0     \n",
      "18 | model.convs.16 | Conv2d        | 12 K  \n",
      "19 | model.convs.17 | BatchNorm2d   | 160   \n",
      "20 | model.convs.18 | PReLU         | 1     \n",
      "21 | model.convs.19 | MaxPool2d     | 0     \n",
      "22 | model.convs.20 | Dropout       | 0     \n",
      "23 | model.dense    | Sequential    | 56 K  \n",
      "24 | model.dense.0  | Linear        | 55 K  \n",
      "25 | model.dense.1  | PReLU         | 1     \n",
      "26 | model.dense.2  | Dropout       | 0     \n",
      "27 | model.dense.3  | Linear        | 1 K   \n"
     ]
    },
    {
     "data": {
      "application/vnd.jupyter.widget-view+json": {
       "model_id": "",
       "version_major": 2,
       "version_minor": 0
      },
      "text/plain": [
       "HBox(children=(FloatProgress(value=1.0, bar_style='info', description='Validation sanity check', layout=Layout…"
      ]
     },
     "metadata": {},
     "output_type": "display_data"
    },
    {
     "name": "stdout",
     "output_type": "stream",
     "text": [
      "Val-Acc=0.01778304682868998\n"
     ]
    },
    {
     "data": {
      "application/vnd.jupyter.widget-view+json": {
       "model_id": "4b35075987d9445bb5990d8a1b495f4b",
       "version_major": 2,
       "version_minor": 0
      },
      "text/plain": [
       "HBox(children=(FloatProgress(value=1.0, bar_style='info', description='Training', layout=Layout(flex='2'), max…"
      ]
     },
     "metadata": {},
     "output_type": "display_data"
    },
    {
     "data": {
      "application/vnd.jupyter.widget-view+json": {
       "model_id": "",
       "version_major": 2,
       "version_minor": 0
      },
      "text/plain": [
       "HBox(children=(FloatProgress(value=1.0, bar_style='info', description='Validating', layout=Layout(flex='2'), m…"
      ]
     },
     "metadata": {},
     "output_type": "display_data"
    },
    {
     "name": "stdout",
     "output_type": "stream",
     "text": [
      "Val-Acc=0.7765263781861292\n",
      "Train-Acc=0.7573122529644268\n"
     ]
    },
    {
     "data": {
      "application/vnd.jupyter.widget-view+json": {
       "model_id": "",
       "version_major": 2,
       "version_minor": 0
      },
      "text/plain": [
       "HBox(children=(FloatProgress(value=1.0, bar_style='info', description='Validating', layout=Layout(flex='2'), m…"
      ]
     },
     "metadata": {},
     "output_type": "display_data"
    },
    {
     "name": "stdout",
     "output_type": "stream",
     "text": [
      "Val-Acc=0.7800829875518672\n",
      "Train-Acc=0.78300395256917\n"
     ]
    },
    {
     "data": {
      "application/vnd.jupyter.widget-view+json": {
       "model_id": "",
       "version_major": 2,
       "version_minor": 0
      },
      "text/plain": [
       "HBox(children=(FloatProgress(value=1.0, bar_style='info', description='Validating', layout=Layout(flex='2'), m…"
      ]
     },
     "metadata": {},
     "output_type": "display_data"
    },
    {
     "name": "stdout",
     "output_type": "stream",
     "text": [
      "Val-Acc=0.7545939537640782\n",
      "Train-Acc=0.7932806324110672\n"
     ]
    },
    {
     "data": {
      "application/vnd.jupyter.widget-view+json": {
       "model_id": "",
       "version_major": 2,
       "version_minor": 0
      },
      "text/plain": [
       "HBox(children=(FloatProgress(value=1.0, bar_style='info', description='Validating', layout=Layout(flex='2'), m…"
      ]
     },
     "metadata": {},
     "output_type": "display_data"
    },
    {
     "name": "stdout",
     "output_type": "stream",
     "text": [
      "Val-Acc=0.6307053941908713\n",
      "Train-Acc=0.8073122529644269\n"
     ]
    },
    {
     "data": {
      "application/vnd.jupyter.widget-view+json": {
       "model_id": "",
       "version_major": 2,
       "version_minor": 0
      },
      "text/plain": [
       "HBox(children=(FloatProgress(value=1.0, bar_style='info', description='Validating', layout=Layout(flex='2'), m…"
      ]
     },
     "metadata": {},
     "output_type": "display_data"
    },
    {
     "name": "stdout",
     "output_type": "stream",
     "text": [
      "Val-Acc=0.6893894487255483\n",
      "Train-Acc=0.8217391304347826\n"
     ]
    },
    {
     "data": {
      "application/vnd.jupyter.widget-view+json": {
       "model_id": "",
       "version_major": 2,
       "version_minor": 0
      },
      "text/plain": [
       "HBox(children=(FloatProgress(value=1.0, bar_style='info', description='Validating', layout=Layout(flex='2'), m…"
      ]
     },
     "metadata": {},
     "output_type": "display_data"
    },
    {
     "name": "stdout",
     "output_type": "stream",
     "text": [
      "Val-Acc=0.7391819798458803\n",
      "Train-Acc=0.8266798418972332\n"
     ]
    },
    {
     "data": {
      "application/vnd.jupyter.widget-view+json": {
       "model_id": "",
       "version_major": 2,
       "version_minor": 0
      },
      "text/plain": [
       "HBox(children=(FloatProgress(value=1.0, bar_style='info', description='Validating', layout=Layout(flex='2'), m…"
      ]
     },
     "metadata": {},
     "output_type": "display_data"
    },
    {
     "name": "stdout",
     "output_type": "stream",
     "text": [
      "Val-Acc=0.7735625370480143\n",
      "Train-Acc=0.8284584980237154\n"
     ]
    },
    {
     "data": {
      "application/vnd.jupyter.widget-view+json": {
       "model_id": "",
       "version_major": 2,
       "version_minor": 0
      },
      "text/plain": [
       "HBox(children=(FloatProgress(value=1.0, bar_style='info', description='Validating', layout=Layout(flex='2'), m…"
      ]
     },
     "metadata": {},
     "output_type": "display_data"
    },
    {
     "name": "stdout",
     "output_type": "stream",
     "text": [
      "Val-Acc=0.7717842323651453\n"
     ]
    },
    {
     "name": "stderr",
     "output_type": "stream",
     "text": [
      "[I 2020-07-20 19:51:35,438] Setting status of trial#56 as TrialState.PRUNED. Trial was pruned at epoch 7.\n",
      "GPU available: True, used: True\n",
      "No environment variable for node rank defined. Set as 0.\n",
      "CUDA_VISIBLE_DEVICES: [0]\n",
      "Set SLURM handle signals.\n",
      "\n",
      "   | Name           | Type          | Params\n",
      "---------------------------------------------\n",
      "0  | model          | AblationModel | 184 K \n",
      "1  | model.convs    | Sequential    | 114 K \n",
      "2  | model.convs.0  | BatchNorm2d   | 2     \n",
      "3  | model.convs.1  | Conv2d        | 1 K   \n",
      "4  | model.convs.2  | BatchNorm2d   | 20    \n",
      "5  | model.convs.3  | PReLU         | 1     \n",
      "6  | model.convs.4  | MaxPool2d     | 0     \n",
      "7  | model.convs.5  | Dropout       | 0     \n",
      "8  | model.convs.6  | Conv2d        | 20 K  \n",
      "9  | model.convs.7  | BatchNorm2d   | 40    \n",
      "10 | model.convs.8  | PReLU         | 1     \n",
      "11 | model.convs.9  | MaxPool2d     | 0     \n",
      "12 | model.convs.10 | Dropout       | 0     \n",
      "13 | model.convs.11 | Conv2d        | 80 K  \n",
      "14 | model.convs.12 | BatchNorm2d   | 80    \n",
      "15 | model.convs.13 | PReLU         | 1     \n",
      "16 | model.convs.14 | MaxPool2d     | 0     \n",
      "17 | model.convs.15 | Dropout       | 0     \n",
      "18 | model.convs.16 | Conv2d        | 12 K  \n",
      "19 | model.convs.17 | BatchNorm2d   | 160   \n",
      "20 | model.convs.18 | PReLU         | 1     \n",
      "21 | model.convs.19 | MaxPool2d     | 0     \n",
      "22 | model.convs.20 | Dropout       | 0     \n",
      "23 | model.dense    | Sequential    | 70 K  \n",
      "24 | model.dense.0  | Linear        | 68 K  \n",
      "25 | model.dense.1  | PReLU         | 1     \n",
      "26 | model.dense.2  | Dropout       | 0     \n",
      "27 | model.dense.3  | Linear        | 1 K   \n"
     ]
    },
    {
     "data": {
      "application/vnd.jupyter.widget-view+json": {
       "model_id": "",
       "version_major": 2,
       "version_minor": 0
      },
      "text/plain": [
       "HBox(children=(FloatProgress(value=1.0, bar_style='info', description='Validation sanity check', layout=Layout…"
      ]
     },
     "metadata": {},
     "output_type": "display_data"
    },
    {
     "name": "stdout",
     "output_type": "stream",
     "text": [
      "Val-Acc=0.013633669235328987\n"
     ]
    },
    {
     "data": {
      "application/vnd.jupyter.widget-view+json": {
       "model_id": "532846276d9c46cbbcb3339853262b3b",
       "version_major": 2,
       "version_minor": 0
      },
      "text/plain": [
       "HBox(children=(FloatProgress(value=1.0, bar_style='info', description='Training', layout=Layout(flex='2'), max…"
      ]
     },
     "metadata": {},
     "output_type": "display_data"
    },
    {
     "data": {
      "application/vnd.jupyter.widget-view+json": {
       "model_id": "",
       "version_major": 2,
       "version_minor": 0
      },
      "text/plain": [
       "HBox(children=(FloatProgress(value=1.0, bar_style='info', description='Validating', layout=Layout(flex='2'), m…"
      ]
     },
     "metadata": {},
     "output_type": "display_data"
    },
    {
     "name": "stdout",
     "output_type": "stream",
     "text": [
      "Val-Acc=0.7492590397154713\n",
      "Train-Acc=0.7138339920948616\n"
     ]
    },
    {
     "data": {
      "application/vnd.jupyter.widget-view+json": {
       "model_id": "",
       "version_major": 2,
       "version_minor": 0
      },
      "text/plain": [
       "HBox(children=(FloatProgress(value=1.0, bar_style='info', description='Validating', layout=Layout(flex='2'), m…"
      ]
     },
     "metadata": {},
     "output_type": "display_data"
    },
    {
     "name": "stdout",
     "output_type": "stream",
     "text": [
      "Val-Acc=0.7688203912270303\n",
      "Train-Acc=0.7675889328063241\n"
     ]
    },
    {
     "data": {
      "application/vnd.jupyter.widget-view+json": {
       "model_id": "",
       "version_major": 2,
       "version_minor": 0
      },
      "text/plain": [
       "HBox(children=(FloatProgress(value=1.0, bar_style='info', description='Validating', layout=Layout(flex='2'), m…"
      ]
     },
     "metadata": {},
     "output_type": "display_data"
    },
    {
     "name": "stdout",
     "output_type": "stream",
     "text": [
      "Val-Acc=0.6733847065797274\n",
      "Train-Acc=0.7879446640316206\n"
     ]
    },
    {
     "data": {
      "application/vnd.jupyter.widget-view+json": {
       "model_id": "",
       "version_major": 2,
       "version_minor": 0
      },
      "text/plain": [
       "HBox(children=(FloatProgress(value=1.0, bar_style='info', description='Validating', layout=Layout(flex='2'), m…"
      ]
     },
     "metadata": {},
     "output_type": "display_data"
    },
    {
     "name": "stdout",
     "output_type": "stream",
     "text": [
      "Val-Acc=0.7397747480735033\n",
      "Train-Acc=0.8013833992094862\n"
     ]
    },
    {
     "data": {
      "application/vnd.jupyter.widget-view+json": {
       "model_id": "",
       "version_major": 2,
       "version_minor": 0
      },
      "text/plain": [
       "HBox(children=(FloatProgress(value=1.0, bar_style='info', description='Validating', layout=Layout(flex='2'), m…"
      ]
     },
     "metadata": {},
     "output_type": "display_data"
    },
    {
     "name": "stdout",
     "output_type": "stream",
     "text": [
      "Val-Acc=0.8002371072910492\n",
      "Train-Acc=0.8092885375494071\n"
     ]
    },
    {
     "data": {
      "application/vnd.jupyter.widget-view+json": {
       "model_id": "",
       "version_major": 2,
       "version_minor": 0
      },
      "text/plain": [
       "HBox(children=(FloatProgress(value=1.0, bar_style='info', description='Validating', layout=Layout(flex='2'), m…"
      ]
     },
     "metadata": {},
     "output_type": "display_data"
    },
    {
     "name": "stdout",
     "output_type": "stream",
     "text": [
      "Val-Acc=0.7285121517486662\n",
      "Train-Acc=0.8156126482213438\n"
     ]
    },
    {
     "data": {
      "application/vnd.jupyter.widget-view+json": {
       "model_id": "",
       "version_major": 2,
       "version_minor": 0
      },
      "text/plain": [
       "HBox(children=(FloatProgress(value=1.0, bar_style='info', description='Validating', layout=Layout(flex='2'), m…"
      ]
     },
     "metadata": {},
     "output_type": "display_data"
    },
    {
     "name": "stdout",
     "output_type": "stream",
     "text": [
      "Val-Acc=0.7670420865441613\n",
      "Train-Acc=0.8166007905138339\n"
     ]
    },
    {
     "data": {
      "application/vnd.jupyter.widget-view+json": {
       "model_id": "",
       "version_major": 2,
       "version_minor": 0
      },
      "text/plain": [
       "HBox(children=(FloatProgress(value=1.0, bar_style='info', description='Validating', layout=Layout(flex='2'), m…"
      ]
     },
     "metadata": {},
     "output_type": "display_data"
    },
    {
     "name": "stdout",
     "output_type": "stream",
     "text": [
      "Val-Acc=0.7907528156490812\n",
      "Train-Acc=0.8243083003952569\n"
     ]
    },
    {
     "data": {
      "application/vnd.jupyter.widget-view+json": {
       "model_id": "",
       "version_major": 2,
       "version_minor": 0
      },
      "text/plain": [
       "HBox(children=(FloatProgress(value=1.0, bar_style='info', description='Validating', layout=Layout(flex='2'), m…"
      ]
     },
     "metadata": {},
     "output_type": "display_data"
    },
    {
     "name": "stdout",
     "output_type": "stream",
     "text": [
      "Val-Acc=0.8120924718435092\n",
      "Train-Acc=0.8296442687747035\n"
     ]
    },
    {
     "data": {
      "application/vnd.jupyter.widget-view+json": {
       "model_id": "",
       "version_major": 2,
       "version_minor": 0
      },
      "text/plain": [
       "HBox(children=(FloatProgress(value=1.0, bar_style='info', description='Validating', layout=Layout(flex='2'), m…"
      ]
     },
     "metadata": {},
     "output_type": "display_data"
    },
    {
     "name": "stdout",
     "output_type": "stream",
     "text": [
      "Val-Acc=0.8109069353882632\n",
      "Train-Acc=0.8235177865612648\n"
     ]
    },
    {
     "data": {
      "application/vnd.jupyter.widget-view+json": {
       "model_id": "",
       "version_major": 2,
       "version_minor": 0
      },
      "text/plain": [
       "HBox(children=(FloatProgress(value=1.0, bar_style='info', description='Validating', layout=Layout(flex='2'), m…"
      ]
     },
     "metadata": {},
     "output_type": "display_data"
    },
    {
     "name": "stdout",
     "output_type": "stream",
     "text": [
      "Val-Acc=0.7931238885595732\n",
      "Train-Acc=0.8330039525691699\n"
     ]
    },
    {
     "data": {
      "application/vnd.jupyter.widget-view+json": {
       "model_id": "",
       "version_major": 2,
       "version_minor": 0
      },
      "text/plain": [
       "HBox(children=(FloatProgress(value=1.0, bar_style='info', description='Validating', layout=Layout(flex='2'), m…"
      ]
     },
     "metadata": {},
     "output_type": "display_data"
    },
    {
     "name": "stdout",
     "output_type": "stream",
     "text": [
      "Val-Acc=0.7990515708358032\n",
      "Train-Acc=0.8300395256916996\n"
     ]
    },
    {
     "data": {
      "application/vnd.jupyter.widget-view+json": {
       "model_id": "",
       "version_major": 2,
       "version_minor": 0
      },
      "text/plain": [
       "HBox(children=(FloatProgress(value=1.0, bar_style='info', description='Validating', layout=Layout(flex='2'), m…"
      ]
     },
     "metadata": {},
     "output_type": "display_data"
    },
    {
     "name": "stdout",
     "output_type": "stream",
     "text": [
      "Val-Acc=0.7836395969176052\n",
      "Train-Acc=0.8284584980237154\n"
     ]
    },
    {
     "data": {
      "application/vnd.jupyter.widget-view+json": {
       "model_id": "",
       "version_major": 2,
       "version_minor": 0
      },
      "text/plain": [
       "HBox(children=(FloatProgress(value=1.0, bar_style='info', description='Validating', layout=Layout(flex='2'), m…"
      ]
     },
     "metadata": {},
     "output_type": "display_data"
    },
    {
     "name": "stdout",
     "output_type": "stream",
     "text": [
      "Val-Acc=0.8055720213396562\n",
      "Train-Acc=0.8310276679841897\n"
     ]
    },
    {
     "data": {
      "application/vnd.jupyter.widget-view+json": {
       "model_id": "",
       "version_major": 2,
       "version_minor": 0
      },
      "text/plain": [
       "HBox(children=(FloatProgress(value=1.0, bar_style='info', description='Validating', layout=Layout(flex='2'), m…"
      ]
     },
     "metadata": {},
     "output_type": "display_data"
    },
    {
     "name": "stdout",
     "output_type": "stream",
     "text": [
      "Val-Acc=0.7528156490812092\n",
      "Train-Acc=0.8302371541501976\n"
     ]
    },
    {
     "data": {
      "application/vnd.jupyter.widget-view+json": {
       "model_id": "",
       "version_major": 2,
       "version_minor": 0
      },
      "text/plain": [
       "HBox(children=(FloatProgress(value=1.0, bar_style='info', description='Validating', layout=Layout(flex='2'), m…"
      ]
     },
     "metadata": {},
     "output_type": "display_data"
    },
    {
     "name": "stdout",
     "output_type": "stream",
     "text": [
      "Val-Acc=0.7379964433906343\n",
      "Train-Acc=0.8355731225296442\n"
     ]
    },
    {
     "data": {
      "application/vnd.jupyter.widget-view+json": {
       "model_id": "",
       "version_major": 2,
       "version_minor": 0
      },
      "text/plain": [
       "HBox(children=(FloatProgress(value=1.0, bar_style='info', description='Validating', layout=Layout(flex='2'), m…"
      ]
     },
     "metadata": {},
     "output_type": "display_data"
    },
    {
     "name": "stdout",
     "output_type": "stream",
     "text": [
      "Val-Acc=0.7279193835210432\n",
      "Train-Acc=0.8304347826086956\n"
     ]
    },
    {
     "data": {
      "application/vnd.jupyter.widget-view+json": {
       "model_id": "",
       "version_major": 2,
       "version_minor": 0
      },
      "text/plain": [
       "HBox(children=(FloatProgress(value=1.0, bar_style='info', description='Validating', layout=Layout(flex='2'), m…"
      ]
     },
     "metadata": {},
     "output_type": "display_data"
    },
    {
     "name": "stdout",
     "output_type": "stream",
     "text": [
      "Val-Acc=0.7895672791938352\n",
      "Train-Acc=0.83399209486166\n"
     ]
    },
    {
     "data": {
      "application/vnd.jupyter.widget-view+json": {
       "model_id": "",
       "version_major": 2,
       "version_minor": 0
      },
      "text/plain": [
       "HBox(children=(FloatProgress(value=1.0, bar_style='info', description='Validating', layout=Layout(flex='2'), m…"
      ]
     },
     "metadata": {},
     "output_type": "display_data"
    },
    {
     "name": "stdout",
     "output_type": "stream",
     "text": [
      "Val-Acc=0.7723770005927683\n",
      "Train-Acc=0.8387351778656127\n"
     ]
    },
    {
     "data": {
      "application/vnd.jupyter.widget-view+json": {
       "model_id": "",
       "version_major": 2,
       "version_minor": 0
      },
      "text/plain": [
       "HBox(children=(FloatProgress(value=1.0, bar_style='info', description='Validating', layout=Layout(flex='2'), m…"
      ]
     },
     "metadata": {},
     "output_type": "display_data"
    },
    {
     "name": "stdout",
     "output_type": "stream",
     "text": [
      "Val-Acc=0.7777119146413752\n",
      "Train-Acc=0.8365612648221344\n",
      "\n",
      "Saved model to \"saved_modelsq/57.p\"\n"
     ]
    },
    {
     "name": "stderr",
     "output_type": "stream",
     "text": [
      "[I 2020-07-20 19:54:26,138] Finished trial#57 with value: 0.7777119146413752 with parameters: {'learning_rate': 0.0002763302767448434, 'p_drop': 0.28412293421764073, 'lr_decay': 0.7447695817519837, 'n_hidden': 851, 'weight_decay': 0.035327310333213416}. Best is trial#17 with value: 0.8707765263781861.\n",
      "GPU available: True, used: True\n",
      "No environment variable for node rank defined. Set as 0.\n",
      "CUDA_VISIBLE_DEVICES: [0]\n",
      "Set SLURM handle signals.\n",
      "\n",
      "   | Name           | Type          | Params\n",
      "---------------------------------------------\n",
      "0  | model          | AblationModel | 178 K \n",
      "1  | model.convs    | Sequential    | 114 K \n",
      "2  | model.convs.0  | BatchNorm2d   | 2     \n",
      "3  | model.convs.1  | Conv2d        | 1 K   \n",
      "4  | model.convs.2  | BatchNorm2d   | 20    \n",
      "5  | model.convs.3  | PReLU         | 1     \n",
      "6  | model.convs.4  | MaxPool2d     | 0     \n",
      "7  | model.convs.5  | Dropout       | 0     \n",
      "8  | model.convs.6  | Conv2d        | 20 K  \n",
      "9  | model.convs.7  | BatchNorm2d   | 40    \n",
      "10 | model.convs.8  | PReLU         | 1     \n",
      "11 | model.convs.9  | MaxPool2d     | 0     \n",
      "12 | model.convs.10 | Dropout       | 0     \n",
      "13 | model.convs.11 | Conv2d        | 80 K  \n",
      "14 | model.convs.12 | BatchNorm2d   | 80    \n",
      "15 | model.convs.13 | PReLU         | 1     \n",
      "16 | model.convs.14 | MaxPool2d     | 0     \n",
      "17 | model.convs.15 | Dropout       | 0     \n",
      "18 | model.convs.16 | Conv2d        | 12 K  \n",
      "19 | model.convs.17 | BatchNorm2d   | 160   \n",
      "20 | model.convs.18 | PReLU         | 1     \n",
      "21 | model.convs.19 | MaxPool2d     | 0     \n",
      "22 | model.convs.20 | Dropout       | 0     \n",
      "23 | model.dense    | Sequential    | 64 K  \n",
      "24 | model.dense.0  | Linear        | 62 K  \n",
      "25 | model.dense.1  | PReLU         | 1     \n",
      "26 | model.dense.2  | Dropout       | 0     \n",
      "27 | model.dense.3  | Linear        | 1 K   \n"
     ]
    },
    {
     "data": {
      "application/vnd.jupyter.widget-view+json": {
       "model_id": "",
       "version_major": 2,
       "version_minor": 0
      },
      "text/plain": [
       "HBox(children=(FloatProgress(value=1.0, bar_style='info', description='Validation sanity check', layout=Layout…"
      ]
     },
     "metadata": {},
     "output_type": "display_data"
    },
    {
     "name": "stdout",
     "output_type": "stream",
     "text": [
      "Val-Acc=0.015411973918197985\n"
     ]
    },
    {
     "data": {
      "application/vnd.jupyter.widget-view+json": {
       "model_id": "9e9f6893b87f4ac5b0c033cd0eba1a56",
       "version_major": 2,
       "version_minor": 0
      },
      "text/plain": [
       "HBox(children=(FloatProgress(value=1.0, bar_style='info', description='Training', layout=Layout(flex='2'), max…"
      ]
     },
     "metadata": {},
     "output_type": "display_data"
    },
    {
     "data": {
      "application/vnd.jupyter.widget-view+json": {
       "model_id": "",
       "version_major": 2,
       "version_minor": 0
      },
      "text/plain": [
       "HBox(children=(FloatProgress(value=1.0, bar_style='info', description='Validating', layout=Layout(flex='2'), m…"
      ]
     },
     "metadata": {},
     "output_type": "display_data"
    },
    {
     "name": "stdout",
     "output_type": "stream",
     "text": [
      "Val-Acc=0.7083580320094843\n",
      "Train-Acc=0.7057312252964427\n"
     ]
    },
    {
     "data": {
      "application/vnd.jupyter.widget-view+json": {
       "model_id": "",
       "version_major": 2,
       "version_minor": 0
      },
      "text/plain": [
       "HBox(children=(FloatProgress(value=1.0, bar_style='info', description='Validating', layout=Layout(flex='2'), m…"
      ]
     },
     "metadata": {},
     "output_type": "display_data"
    },
    {
     "name": "stdout",
     "output_type": "stream",
     "text": [
      "Val-Acc=0.7504445761707172\n"
     ]
    },
    {
     "name": "stderr",
     "output_type": "stream",
     "text": [
      "[I 2020-07-20 19:54:43,514] Setting status of trial#58 as TrialState.PRUNED. Trial was pruned at epoch 1.\n",
      "GPU available: True, used: True\n",
      "No environment variable for node rank defined. Set as 0.\n",
      "CUDA_VISIBLE_DEVICES: [0]\n",
      "Set SLURM handle signals.\n",
      "\n",
      "   | Name           | Type          | Params\n",
      "---------------------------------------------\n",
      "0  | model          | AblationModel | 194 K \n",
      "1  | model.convs    | Sequential    | 114 K \n",
      "2  | model.convs.0  | BatchNorm2d   | 2     \n",
      "3  | model.convs.1  | Conv2d        | 1 K   \n",
      "4  | model.convs.2  | BatchNorm2d   | 20    \n",
      "5  | model.convs.3  | PReLU         | 1     \n",
      "6  | model.convs.4  | MaxPool2d     | 0     \n",
      "7  | model.convs.5  | Dropout       | 0     \n",
      "8  | model.convs.6  | Conv2d        | 20 K  \n",
      "9  | model.convs.7  | BatchNorm2d   | 40    \n",
      "10 | model.convs.8  | PReLU         | 1     \n",
      "11 | model.convs.9  | MaxPool2d     | 0     \n",
      "12 | model.convs.10 | Dropout       | 0     \n",
      "13 | model.convs.11 | Conv2d        | 80 K  \n",
      "14 | model.convs.12 | BatchNorm2d   | 80    \n",
      "15 | model.convs.13 | PReLU         | 1     \n",
      "16 | model.convs.14 | MaxPool2d     | 0     \n",
      "17 | model.convs.15 | Dropout       | 0     \n",
      "18 | model.convs.16 | Conv2d        | 12 K  \n",
      "19 | model.convs.17 | BatchNorm2d   | 160   \n",
      "20 | model.convs.18 | PReLU         | 1     \n",
      "21 | model.convs.19 | MaxPool2d     | 0     \n",
      "22 | model.convs.20 | Dropout       | 0     \n",
      "23 | model.dense    | Sequential    | 80 K  \n",
      "24 | model.dense.0  | Linear        | 78 K  \n",
      "25 | model.dense.1  | PReLU         | 1     \n",
      "26 | model.dense.2  | Dropout       | 0     \n",
      "27 | model.dense.3  | Linear        | 1 K   \n"
     ]
    },
    {
     "data": {
      "application/vnd.jupyter.widget-view+json": {
       "model_id": "",
       "version_major": 2,
       "version_minor": 0
      },
      "text/plain": [
       "HBox(children=(FloatProgress(value=1.0, bar_style='info', description='Validation sanity check', layout=Layout…"
      ]
     },
     "metadata": {},
     "output_type": "display_data"
    },
    {
     "name": "stdout",
     "output_type": "stream",
     "text": [
      "Val-Acc=0.01956135151155898\n"
     ]
    },
    {
     "data": {
      "application/vnd.jupyter.widget-view+json": {
       "model_id": "6a93aa98a20d4bdaafd3b8c5f2f84a9a",
       "version_major": 2,
       "version_minor": 0
      },
      "text/plain": [
       "HBox(children=(FloatProgress(value=1.0, bar_style='info', description='Training', layout=Layout(flex='2'), max…"
      ]
     },
     "metadata": {},
     "output_type": "display_data"
    },
    {
     "data": {
      "application/vnd.jupyter.widget-view+json": {
       "model_id": "",
       "version_major": 2,
       "version_minor": 0
      },
      "text/plain": [
       "HBox(children=(FloatProgress(value=1.0, bar_style='info', description='Validating', layout=Layout(flex='2'), m…"
      ]
     },
     "metadata": {},
     "output_type": "display_data"
    },
    {
     "name": "stdout",
     "output_type": "stream",
     "text": [
      "Val-Acc=0.7516301126259632\n",
      "Train-Acc=0.7215415019762846\n"
     ]
    },
    {
     "data": {
      "application/vnd.jupyter.widget-view+json": {
       "model_id": "",
       "version_major": 2,
       "version_minor": 0
      },
      "text/plain": [
       "HBox(children=(FloatProgress(value=1.0, bar_style='info', description='Validating', layout=Layout(flex='2'), m…"
      ]
     },
     "metadata": {},
     "output_type": "display_data"
    },
    {
     "name": "stdout",
     "output_type": "stream",
     "text": [
      "Val-Acc=0.7806757557794902\n",
      "Train-Acc=0.7634387351778656\n"
     ]
    },
    {
     "data": {
      "application/vnd.jupyter.widget-view+json": {
       "model_id": "",
       "version_major": 2,
       "version_minor": 0
      },
      "text/plain": [
       "HBox(children=(FloatProgress(value=1.0, bar_style='info', description='Validating', layout=Layout(flex='2'), m…"
      ]
     },
     "metadata": {},
     "output_type": "display_data"
    },
    {
     "name": "stdout",
     "output_type": "stream",
     "text": [
      "Val-Acc=0.7652637818612922\n",
      "Train-Acc=0.7796442687747036\n"
     ]
    },
    {
     "data": {
      "application/vnd.jupyter.widget-view+json": {
       "model_id": "",
       "version_major": 2,
       "version_minor": 0
      },
      "text/plain": [
       "HBox(children=(FloatProgress(value=1.0, bar_style='info', description='Validating', layout=Layout(flex='2'), m…"
      ]
     },
     "metadata": {},
     "output_type": "display_data"
    },
    {
     "name": "stdout",
     "output_type": "stream",
     "text": [
      "Val-Acc=0.7255483106105513\n",
      "Train-Acc=0.7897233201581028\n"
     ]
    },
    {
     "data": {
      "application/vnd.jupyter.widget-view+json": {
       "model_id": "",
       "version_major": 2,
       "version_minor": 0
      },
      "text/plain": [
       "HBox(children=(FloatProgress(value=1.0, bar_style='info', description='Validating', layout=Layout(flex='2'), m…"
      ]
     },
     "metadata": {},
     "output_type": "display_data"
    },
    {
     "name": "stdout",
     "output_type": "stream",
     "text": [
      "Val-Acc=0.7113218731475993\n",
      "Train-Acc=0.7960474308300395\n"
     ]
    },
    {
     "data": {
      "application/vnd.jupyter.widget-view+json": {
       "model_id": "",
       "version_major": 2,
       "version_minor": 0
      },
      "text/plain": [
       "HBox(children=(FloatProgress(value=1.0, bar_style='info', description='Validating', layout=Layout(flex='2'), m…"
      ]
     },
     "metadata": {},
     "output_type": "display_data"
    },
    {
     "name": "stdout",
     "output_type": "stream",
     "text": [
      "Val-Acc=0.7148784825133373\n",
      "Train-Acc=0.8031620553359684\n"
     ]
    },
    {
     "data": {
      "application/vnd.jupyter.widget-view+json": {
       "model_id": "",
       "version_major": 2,
       "version_minor": 0
      },
      "text/plain": [
       "HBox(children=(FloatProgress(value=1.0, bar_style='info', description='Validating', layout=Layout(flex='2'), m…"
      ]
     },
     "metadata": {},
     "output_type": "display_data"
    },
    {
     "name": "stdout",
     "output_type": "stream",
     "text": [
      "Val-Acc=0.7705986959098993\n",
      "Train-Acc=0.8023715415019763\n"
     ]
    },
    {
     "data": {
      "application/vnd.jupyter.widget-view+json": {
       "model_id": "",
       "version_major": 2,
       "version_minor": 0
      },
      "text/plain": [
       "HBox(children=(FloatProgress(value=1.0, bar_style='info', description='Validating', layout=Layout(flex='2'), m…"
      ]
     },
     "metadata": {},
     "output_type": "display_data"
    },
    {
     "name": "stdout",
     "output_type": "stream",
     "text": [
      "Val-Acc=0.7415530527563723\n"
     ]
    },
    {
     "name": "stderr",
     "output_type": "stream",
     "text": [
      "[I 2020-07-20 19:55:51,742] Setting status of trial#59 as TrialState.PRUNED. Trial was pruned at epoch 7.\n",
      "GPU available: True, used: True\n",
      "No environment variable for node rank defined. Set as 0.\n",
      "CUDA_VISIBLE_DEVICES: [0]\n",
      "Set SLURM handle signals.\n",
      "\n",
      "   | Name           | Type          | Params\n",
      "---------------------------------------------\n",
      "0  | model          | AblationModel | 174 K \n",
      "1  | model.convs    | Sequential    | 114 K \n",
      "2  | model.convs.0  | BatchNorm2d   | 2     \n",
      "3  | model.convs.1  | Conv2d        | 1 K   \n",
      "4  | model.convs.2  | BatchNorm2d   | 20    \n",
      "5  | model.convs.3  | PReLU         | 1     \n",
      "6  | model.convs.4  | MaxPool2d     | 0     \n",
      "7  | model.convs.5  | Dropout       | 0     \n",
      "8  | model.convs.6  | Conv2d        | 20 K  \n",
      "9  | model.convs.7  | BatchNorm2d   | 40    \n",
      "10 | model.convs.8  | PReLU         | 1     \n",
      "11 | model.convs.9  | MaxPool2d     | 0     \n",
      "12 | model.convs.10 | Dropout       | 0     \n",
      "13 | model.convs.11 | Conv2d        | 80 K  \n",
      "14 | model.convs.12 | BatchNorm2d   | 80    \n",
      "15 | model.convs.13 | PReLU         | 1     \n",
      "16 | model.convs.14 | MaxPool2d     | 0     \n",
      "17 | model.convs.15 | Dropout       | 0     \n",
      "18 | model.convs.16 | Conv2d        | 12 K  \n",
      "19 | model.convs.17 | BatchNorm2d   | 160   \n",
      "20 | model.convs.18 | PReLU         | 1     \n",
      "21 | model.convs.19 | MaxPool2d     | 0     \n",
      "22 | model.convs.20 | Dropout       | 0     \n",
      "23 | model.dense    | Sequential    | 60 K  \n",
      "24 | model.dense.0  | Linear        | 58 K  \n",
      "25 | model.dense.1  | PReLU         | 1     \n",
      "26 | model.dense.2  | Dropout       | 0     \n",
      "27 | model.dense.3  | Linear        | 1 K   \n"
     ]
    },
    {
     "data": {
      "application/vnd.jupyter.widget-view+json": {
       "model_id": "",
       "version_major": 2,
       "version_minor": 0
      },
      "text/plain": [
       "HBox(children=(FloatProgress(value=1.0, bar_style='info', description='Validation sanity check', layout=Layout…"
      ]
     },
     "metadata": {},
     "output_type": "display_data"
    },
    {
     "name": "stdout",
     "output_type": "stream",
     "text": [
      "Val-Acc=0.01896858328393598\n"
     ]
    },
    {
     "data": {
      "application/vnd.jupyter.widget-view+json": {
       "model_id": "c5b7d87bd3d24e709f72d468b27f5437",
       "version_major": 2,
       "version_minor": 0
      },
      "text/plain": [
       "HBox(children=(FloatProgress(value=1.0, bar_style='info', description='Training', layout=Layout(flex='2'), max…"
      ]
     },
     "metadata": {},
     "output_type": "display_data"
    },
    {
     "data": {
      "application/vnd.jupyter.widget-view+json": {
       "model_id": "",
       "version_major": 2,
       "version_minor": 0
      },
      "text/plain": [
       "HBox(children=(FloatProgress(value=1.0, bar_style='info', description='Validating', layout=Layout(flex='2'), m…"
      ]
     },
     "metadata": {},
     "output_type": "display_data"
    },
    {
     "name": "stdout",
     "output_type": "stream",
     "text": [
      "Val-Acc=0.7338470657972732\n",
      "Train-Acc=0.6857707509881423\n"
     ]
    },
    {
     "data": {
      "application/vnd.jupyter.widget-view+json": {
       "model_id": "",
       "version_major": 2,
       "version_minor": 0
      },
      "text/plain": [
       "HBox(children=(FloatProgress(value=1.0, bar_style='info', description='Validating', layout=Layout(flex='2'), m…"
      ]
     },
     "metadata": {},
     "output_type": "display_data"
    },
    {
     "name": "stdout",
     "output_type": "stream",
     "text": [
      "Val-Acc=0.6674570243034973\n"
     ]
    },
    {
     "name": "stderr",
     "output_type": "stream",
     "text": [
      "[I 2020-07-20 19:56:09,270] Setting status of trial#60 as TrialState.PRUNED. Trial was pruned at epoch 1.\n",
      "GPU available: True, used: True\n",
      "No environment variable for node rank defined. Set as 0.\n",
      "CUDA_VISIBLE_DEVICES: [0]\n",
      "Set SLURM handle signals.\n",
      "\n",
      "   | Name           | Type          | Params\n",
      "---------------------------------------------\n",
      "0  | model          | AblationModel | 188 K \n",
      "1  | model.convs    | Sequential    | 114 K \n",
      "2  | model.convs.0  | BatchNorm2d   | 2     \n",
      "3  | model.convs.1  | Conv2d        | 1 K   \n",
      "4  | model.convs.2  | BatchNorm2d   | 20    \n",
      "5  | model.convs.3  | PReLU         | 1     \n",
      "6  | model.convs.4  | MaxPool2d     | 0     \n",
      "7  | model.convs.5  | Dropout       | 0     \n",
      "8  | model.convs.6  | Conv2d        | 20 K  \n",
      "9  | model.convs.7  | BatchNorm2d   | 40    \n",
      "10 | model.convs.8  | PReLU         | 1     \n",
      "11 | model.convs.9  | MaxPool2d     | 0     \n",
      "12 | model.convs.10 | Dropout       | 0     \n",
      "13 | model.convs.11 | Conv2d        | 80 K  \n",
      "14 | model.convs.12 | BatchNorm2d   | 80    \n",
      "15 | model.convs.13 | PReLU         | 1     \n",
      "16 | model.convs.14 | MaxPool2d     | 0     \n",
      "17 | model.convs.15 | Dropout       | 0     \n",
      "18 | model.convs.16 | Conv2d        | 12 K  \n",
      "19 | model.convs.17 | BatchNorm2d   | 160   \n",
      "20 | model.convs.18 | PReLU         | 1     \n",
      "21 | model.convs.19 | MaxPool2d     | 0     \n",
      "22 | model.convs.20 | Dropout       | 0     \n",
      "23 | model.dense    | Sequential    | 74 K  \n",
      "24 | model.dense.0  | Linear        | 72 K  \n",
      "25 | model.dense.1  | PReLU         | 1     \n",
      "26 | model.dense.2  | Dropout       | 0     \n",
      "27 | model.dense.3  | Linear        | 1 K   \n"
     ]
    },
    {
     "data": {
      "application/vnd.jupyter.widget-view+json": {
       "model_id": "",
       "version_major": 2,
       "version_minor": 0
      },
      "text/plain": [
       "HBox(children=(FloatProgress(value=1.0, bar_style='info', description='Validation sanity check', layout=Layout…"
      ]
     },
     "metadata": {},
     "output_type": "display_data"
    },
    {
     "name": "stdout",
     "output_type": "stream",
     "text": [
      "Val-Acc=0.01956135151155898\n"
     ]
    },
    {
     "data": {
      "application/vnd.jupyter.widget-view+json": {
       "model_id": "4f4f0aa610df4b81bd64761ebec5c259",
       "version_major": 2,
       "version_minor": 0
      },
      "text/plain": [
       "HBox(children=(FloatProgress(value=1.0, bar_style='info', description='Training', layout=Layout(flex='2'), max…"
      ]
     },
     "metadata": {},
     "output_type": "display_data"
    },
    {
     "data": {
      "application/vnd.jupyter.widget-view+json": {
       "model_id": "",
       "version_major": 2,
       "version_minor": 0
      },
      "text/plain": [
       "HBox(children=(FloatProgress(value=1.0, bar_style='info', description='Validating', layout=Layout(flex='2'), m…"
      ]
     },
     "metadata": {},
     "output_type": "display_data"
    },
    {
     "name": "stdout",
     "output_type": "stream",
     "text": [
      "Val-Acc=0.7403675163011263\n",
      "Train-Acc=0.7646245059288538\n"
     ]
    },
    {
     "data": {
      "application/vnd.jupyter.widget-view+json": {
       "model_id": "",
       "version_major": 2,
       "version_minor": 0
      },
      "text/plain": [
       "HBox(children=(FloatProgress(value=1.0, bar_style='info', description='Validating', layout=Layout(flex='2'), m…"
      ]
     },
     "metadata": {},
     "output_type": "display_data"
    },
    {
     "name": "stdout",
     "output_type": "stream",
     "text": [
      "Val-Acc=0.5411973918197984\n"
     ]
    },
    {
     "name": "stderr",
     "output_type": "stream",
     "text": [
      "[I 2020-07-20 19:56:26,518] Setting status of trial#61 as TrialState.PRUNED. Trial was pruned at epoch 1.\n",
      "GPU available: True, used: True\n",
      "No environment variable for node rank defined. Set as 0.\n",
      "CUDA_VISIBLE_DEVICES: [0]\n",
      "Set SLURM handle signals.\n",
      "\n",
      "   | Name           | Type          | Params\n",
      "---------------------------------------------\n",
      "0  | model          | AblationModel | 185 K \n",
      "1  | model.convs    | Sequential    | 114 K \n",
      "2  | model.convs.0  | BatchNorm2d   | 2     \n",
      "3  | model.convs.1  | Conv2d        | 1 K   \n",
      "4  | model.convs.2  | BatchNorm2d   | 20    \n",
      "5  | model.convs.3  | PReLU         | 1     \n",
      "6  | model.convs.4  | MaxPool2d     | 0     \n",
      "7  | model.convs.5  | Dropout       | 0     \n",
      "8  | model.convs.6  | Conv2d        | 20 K  \n",
      "9  | model.convs.7  | BatchNorm2d   | 40    \n",
      "10 | model.convs.8  | PReLU         | 1     \n",
      "11 | model.convs.9  | MaxPool2d     | 0     \n",
      "12 | model.convs.10 | Dropout       | 0     \n",
      "13 | model.convs.11 | Conv2d        | 80 K  \n",
      "14 | model.convs.12 | BatchNorm2d   | 80    \n",
      "15 | model.convs.13 | PReLU         | 1     \n",
      "16 | model.convs.14 | MaxPool2d     | 0     \n",
      "17 | model.convs.15 | Dropout       | 0     \n",
      "18 | model.convs.16 | Conv2d        | 12 K  \n",
      "19 | model.convs.17 | BatchNorm2d   | 160   \n",
      "20 | model.convs.18 | PReLU         | 1     \n",
      "21 | model.convs.19 | MaxPool2d     | 0     \n",
      "22 | model.convs.20 | Dropout       | 0     \n",
      "23 | model.dense    | Sequential    | 71 K  \n",
      "24 | model.dense.0  | Linear        | 69 K  \n",
      "25 | model.dense.1  | PReLU         | 1     \n",
      "26 | model.dense.2  | Dropout       | 0     \n",
      "27 | model.dense.3  | Linear        | 1 K   \n"
     ]
    },
    {
     "data": {
      "application/vnd.jupyter.widget-view+json": {
       "model_id": "",
       "version_major": 2,
       "version_minor": 0
      },
      "text/plain": [
       "HBox(children=(FloatProgress(value=1.0, bar_style='info', description='Validation sanity check', layout=Layout…"
      ]
     },
     "metadata": {},
     "output_type": "display_data"
    },
    {
     "name": "stdout",
     "output_type": "stream",
     "text": [
      "Val-Acc=0.022525192649673977\n"
     ]
    },
    {
     "data": {
      "application/vnd.jupyter.widget-view+json": {
       "model_id": "441a22dc172040b6ad7b19e66a6ba879",
       "version_major": 2,
       "version_minor": 0
      },
      "text/plain": [
       "HBox(children=(FloatProgress(value=1.0, bar_style='info', description='Training', layout=Layout(flex='2'), max…"
      ]
     },
     "metadata": {},
     "output_type": "display_data"
    },
    {
     "data": {
      "application/vnd.jupyter.widget-view+json": {
       "model_id": "",
       "version_major": 2,
       "version_minor": 0
      },
      "text/plain": [
       "HBox(children=(FloatProgress(value=1.0, bar_style='info', description='Validating', layout=Layout(flex='2'), m…"
      ]
     },
     "metadata": {},
     "output_type": "display_data"
    },
    {
     "name": "stdout",
     "output_type": "stream",
     "text": [
      "Val-Acc=0.7617071724955542\n",
      "Train-Acc=0.7474308300395257\n"
     ]
    },
    {
     "data": {
      "application/vnd.jupyter.widget-view+json": {
       "model_id": "",
       "version_major": 2,
       "version_minor": 0
      },
      "text/plain": [
       "HBox(children=(FloatProgress(value=1.0, bar_style='info', description='Validating', layout=Layout(flex='2'), m…"
      ]
     },
     "metadata": {},
     "output_type": "display_data"
    },
    {
     "name": "stdout",
     "output_type": "stream",
     "text": [
      "Val-Acc=0.6615293420272673\n",
      "Train-Acc=0.7747035573122529\n"
     ]
    },
    {
     "data": {
      "application/vnd.jupyter.widget-view+json": {
       "model_id": "",
       "version_major": 2,
       "version_minor": 0
      },
      "text/plain": [
       "HBox(children=(FloatProgress(value=1.0, bar_style='info', description='Validating', layout=Layout(flex='2'), m…"
      ]
     },
     "metadata": {},
     "output_type": "display_data"
    },
    {
     "name": "stdout",
     "output_type": "stream",
     "text": [
      "Val-Acc=0.6828689982216953\n",
      "Train-Acc=0.783201581027668\n"
     ]
    },
    {
     "data": {
      "application/vnd.jupyter.widget-view+json": {
       "model_id": "",
       "version_major": 2,
       "version_minor": 0
      },
      "text/plain": [
       "HBox(children=(FloatProgress(value=1.0, bar_style='info', description='Validating', layout=Layout(flex='2'), m…"
      ]
     },
     "metadata": {},
     "output_type": "display_data"
    },
    {
     "name": "stdout",
     "output_type": "stream",
     "text": [
      "Val-Acc=0.7877889745109662\n",
      "Train-Acc=0.8094861660079051\n"
     ]
    },
    {
     "data": {
      "application/vnd.jupyter.widget-view+json": {
       "model_id": "",
       "version_major": 2,
       "version_minor": 0
      },
      "text/plain": [
       "HBox(children=(FloatProgress(value=1.0, bar_style='info', description='Validating', layout=Layout(flex='2'), m…"
      ]
     },
     "metadata": {},
     "output_type": "display_data"
    },
    {
     "name": "stdout",
     "output_type": "stream",
     "text": [
      "Val-Acc=0.7083580320094843\n",
      "Train-Acc=0.8207509881422925\n"
     ]
    },
    {
     "data": {
      "application/vnd.jupyter.widget-view+json": {
       "model_id": "",
       "version_major": 2,
       "version_minor": 0
      },
      "text/plain": [
       "HBox(children=(FloatProgress(value=1.0, bar_style='info', description='Validating', layout=Layout(flex='2'), m…"
      ]
     },
     "metadata": {},
     "output_type": "display_data"
    },
    {
     "name": "stdout",
     "output_type": "stream",
     "text": [
      "Val-Acc=0.7409602845287493\n",
      "Train-Acc=0.8341897233201581\n"
     ]
    },
    {
     "data": {
      "application/vnd.jupyter.widget-view+json": {
       "model_id": "",
       "version_major": 2,
       "version_minor": 0
      },
      "text/plain": [
       "HBox(children=(FloatProgress(value=1.0, bar_style='info', description='Validating', layout=Layout(flex='2'), m…"
      ]
     },
     "metadata": {},
     "output_type": "display_data"
    },
    {
     "name": "stdout",
     "output_type": "stream",
     "text": [
      "Val-Acc=0.7516301126259632\n",
      "Train-Acc=0.8365612648221344\n"
     ]
    },
    {
     "data": {
      "application/vnd.jupyter.widget-view+json": {
       "model_id": "",
       "version_major": 2,
       "version_minor": 0
      },
      "text/plain": [
       "HBox(children=(FloatProgress(value=1.0, bar_style='info', description='Validating', layout=Layout(flex='2'), m…"
      ]
     },
     "metadata": {},
     "output_type": "display_data"
    },
    {
     "name": "stdout",
     "output_type": "stream",
     "text": [
      "Val-Acc=0.7794902193242442\n",
      "Train-Acc=0.8468379446640316\n"
     ]
    },
    {
     "data": {
      "application/vnd.jupyter.widget-view+json": {
       "model_id": "",
       "version_major": 2,
       "version_minor": 0
      },
      "text/plain": [
       "HBox(children=(FloatProgress(value=1.0, bar_style='info', description='Validating', layout=Layout(flex='2'), m…"
      ]
     },
     "metadata": {},
     "output_type": "display_data"
    },
    {
     "name": "stdout",
     "output_type": "stream",
     "text": [
      "Val-Acc=0.8138707765263782\n",
      "Train-Acc=0.8584980237154151\n"
     ]
    },
    {
     "data": {
      "application/vnd.jupyter.widget-view+json": {
       "model_id": "",
       "version_major": 2,
       "version_minor": 0
      },
      "text/plain": [
       "HBox(children=(FloatProgress(value=1.0, bar_style='info', description='Validating', layout=Layout(flex='2'), m…"
      ]
     },
     "metadata": {},
     "output_type": "display_data"
    },
    {
     "name": "stdout",
     "output_type": "stream",
     "text": [
      "Val-Acc=0.8008298755186722\n",
      "Train-Acc=0.858102766798419\n"
     ]
    },
    {
     "data": {
      "application/vnd.jupyter.widget-view+json": {
       "model_id": "",
       "version_major": 2,
       "version_minor": 0
      },
      "text/plain": [
       "HBox(children=(FloatProgress(value=1.0, bar_style='info', description='Validating', layout=Layout(flex='2'), m…"
      ]
     },
     "metadata": {},
     "output_type": "display_data"
    },
    {
     "name": "stdout",
     "output_type": "stream",
     "text": [
      "Val-Acc=0.7818612922347362\n",
      "Train-Acc=0.8634387351778656\n"
     ]
    },
    {
     "data": {
      "application/vnd.jupyter.widget-view+json": {
       "model_id": "",
       "version_major": 2,
       "version_minor": 0
      },
      "text/plain": [
       "HBox(children=(FloatProgress(value=1.0, bar_style='info', description='Validating', layout=Layout(flex='2'), m…"
      ]
     },
     "metadata": {},
     "output_type": "display_data"
    },
    {
     "name": "stdout",
     "output_type": "stream",
     "text": [
      "Val-Acc=0.8067575577949022\n",
      "Train-Acc=0.8673913043478261\n"
     ]
    },
    {
     "data": {
      "application/vnd.jupyter.widget-view+json": {
       "model_id": "",
       "version_major": 2,
       "version_minor": 0
      },
      "text/plain": [
       "HBox(children=(FloatProgress(value=1.0, bar_style='info', description='Validating', layout=Layout(flex='2'), m…"
      ]
     },
     "metadata": {},
     "output_type": "display_data"
    },
    {
     "name": "stdout",
     "output_type": "stream",
     "text": [
      "Val-Acc=0.7919383521043272\n",
      "Train-Acc=0.8709486166007905\n"
     ]
    },
    {
     "data": {
      "application/vnd.jupyter.widget-view+json": {
       "model_id": "",
       "version_major": 2,
       "version_minor": 0
      },
      "text/plain": [
       "HBox(children=(FloatProgress(value=1.0, bar_style='info', description='Validating', layout=Layout(flex='2'), m…"
      ]
     },
     "metadata": {},
     "output_type": "display_data"
    },
    {
     "name": "stdout",
     "output_type": "stream",
     "text": [
      "Val-Acc=0.8091286307053942\n",
      "Train-Acc=0.8721343873517786\n"
     ]
    },
    {
     "data": {
      "application/vnd.jupyter.widget-view+json": {
       "model_id": "",
       "version_major": 2,
       "version_minor": 0
      },
      "text/plain": [
       "HBox(children=(FloatProgress(value=1.0, bar_style='info', description='Validating', layout=Layout(flex='2'), m…"
      ]
     },
     "metadata": {},
     "output_type": "display_data"
    },
    {
     "name": "stdout",
     "output_type": "stream",
     "text": [
      "Val-Acc=0.8571428571428571\n",
      "Train-Acc=0.8768774703557313\n"
     ]
    },
    {
     "data": {
      "application/vnd.jupyter.widget-view+json": {
       "model_id": "",
       "version_major": 2,
       "version_minor": 0
      },
      "text/plain": [
       "HBox(children=(FloatProgress(value=1.0, bar_style='info', description='Validating', layout=Layout(flex='2'), m…"
      ]
     },
     "metadata": {},
     "output_type": "display_data"
    },
    {
     "name": "stdout",
     "output_type": "stream",
     "text": [
      "Val-Acc=0.7848251333728512\n",
      "Train-Acc=0.8806324110671937\n"
     ]
    },
    {
     "data": {
      "application/vnd.jupyter.widget-view+json": {
       "model_id": "",
       "version_major": 2,
       "version_minor": 0
      },
      "text/plain": [
       "HBox(children=(FloatProgress(value=1.0, bar_style='info', description='Validating', layout=Layout(flex='2'), m…"
      ]
     },
     "metadata": {},
     "output_type": "display_data"
    },
    {
     "name": "stdout",
     "output_type": "stream",
     "text": [
      "Val-Acc=0.8049792531120332\n",
      "Train-Acc=0.8796442687747036\n"
     ]
    },
    {
     "data": {
      "application/vnd.jupyter.widget-view+json": {
       "model_id": "",
       "version_major": 2,
       "version_minor": 0
      },
      "text/plain": [
       "HBox(children=(FloatProgress(value=1.0, bar_style='info', description='Validating', layout=Layout(flex='2'), m…"
      ]
     },
     "metadata": {},
     "output_type": "display_data"
    },
    {
     "name": "stdout",
     "output_type": "stream",
     "text": [
      "Val-Acc=0.7984588026081803\n",
      "Train-Acc=0.8776679841897234\n"
     ]
    },
    {
     "data": {
      "application/vnd.jupyter.widget-view+json": {
       "model_id": "",
       "version_major": 2,
       "version_minor": 0
      },
      "text/plain": [
       "HBox(children=(FloatProgress(value=1.0, bar_style='info', description='Validating', layout=Layout(flex='2'), m…"
      ]
     },
     "metadata": {},
     "output_type": "display_data"
    },
    {
     "name": "stdout",
     "output_type": "stream",
     "text": [
      "Val-Acc=0.8221695317131001\n",
      "Train-Acc=0.8786561264822135\n"
     ]
    },
    {
     "data": {
      "application/vnd.jupyter.widget-view+json": {
       "model_id": "",
       "version_major": 2,
       "version_minor": 0
      },
      "text/plain": [
       "HBox(children=(FloatProgress(value=1.0, bar_style='info', description='Validating', layout=Layout(flex='2'), m…"
      ]
     },
     "metadata": {},
     "output_type": "display_data"
    },
    {
     "name": "stdout",
     "output_type": "stream",
     "text": [
      "Val-Acc=0.8340248962655602\n",
      "Train-Acc=0.883201581027668\n",
      "\n",
      "Saved model to \"saved_modelsq/62.p\"\n"
     ]
    },
    {
     "name": "stderr",
     "output_type": "stream",
     "text": [
      "[I 2020-07-20 19:59:15,320] Finished trial#62 with value: 0.8340248962655602 with parameters: {'learning_rate': 0.0021082711199964014, 'p_drop': 0.026940789062208075, 'lr_decay': 0.7312412298465735, 'n_hidden': 864, 'weight_decay': 0.00798674678971405}. Best is trial#17 with value: 0.8707765263781861.\n",
      "GPU available: True, used: True\n",
      "No environment variable for node rank defined. Set as 0.\n",
      "CUDA_VISIBLE_DEVICES: [0]\n",
      "Set SLURM handle signals.\n",
      "\n",
      "   | Name           | Type          | Params\n",
      "---------------------------------------------\n",
      "0  | model          | AblationModel | 182 K \n",
      "1  | model.convs    | Sequential    | 114 K \n",
      "2  | model.convs.0  | BatchNorm2d   | 2     \n",
      "3  | model.convs.1  | Conv2d        | 1 K   \n",
      "4  | model.convs.2  | BatchNorm2d   | 20    \n",
      "5  | model.convs.3  | PReLU         | 1     \n",
      "6  | model.convs.4  | MaxPool2d     | 0     \n",
      "7  | model.convs.5  | Dropout       | 0     \n",
      "8  | model.convs.6  | Conv2d        | 20 K  \n",
      "9  | model.convs.7  | BatchNorm2d   | 40    \n",
      "10 | model.convs.8  | PReLU         | 1     \n",
      "11 | model.convs.9  | MaxPool2d     | 0     \n",
      "12 | model.convs.10 | Dropout       | 0     \n",
      "13 | model.convs.11 | Conv2d        | 80 K  \n",
      "14 | model.convs.12 | BatchNorm2d   | 80    \n",
      "15 | model.convs.13 | PReLU         | 1     \n",
      "16 | model.convs.14 | MaxPool2d     | 0     \n",
      "17 | model.convs.15 | Dropout       | 0     \n",
      "18 | model.convs.16 | Conv2d        | 12 K  \n",
      "19 | model.convs.17 | BatchNorm2d   | 160   \n",
      "20 | model.convs.18 | PReLU         | 1     \n",
      "21 | model.convs.19 | MaxPool2d     | 0     \n",
      "22 | model.convs.20 | Dropout       | 0     \n",
      "23 | model.dense    | Sequential    | 67 K  \n",
      "24 | model.dense.0  | Linear        | 66 K  \n",
      "25 | model.dense.1  | PReLU         | 1     \n",
      "26 | model.dense.2  | Dropout       | 0     \n",
      "27 | model.dense.3  | Linear        | 1 K   \n"
     ]
    },
    {
     "data": {
      "application/vnd.jupyter.widget-view+json": {
       "model_id": "",
       "version_major": 2,
       "version_minor": 0
      },
      "text/plain": [
       "HBox(children=(FloatProgress(value=1.0, bar_style='info', description='Validation sanity check', layout=Layout…"
      ]
     },
     "metadata": {},
     "output_type": "display_data"
    },
    {
     "name": "stdout",
     "output_type": "stream",
     "text": [
      "Val-Acc=0.01956135151155898\n"
     ]
    },
    {
     "data": {
      "application/vnd.jupyter.widget-view+json": {
       "model_id": "4cca10f95cb9472cbb24364c5df4b79e",
       "version_major": 2,
       "version_minor": 0
      },
      "text/plain": [
       "HBox(children=(FloatProgress(value=1.0, bar_style='info', description='Training', layout=Layout(flex='2'), max…"
      ]
     },
     "metadata": {},
     "output_type": "display_data"
    },
    {
     "data": {
      "application/vnd.jupyter.widget-view+json": {
       "model_id": "",
       "version_major": 2,
       "version_minor": 0
      },
      "text/plain": [
       "HBox(children=(FloatProgress(value=1.0, bar_style='info', description='Validating', layout=Layout(flex='2'), m…"
      ]
     },
     "metadata": {},
     "output_type": "display_data"
    },
    {
     "name": "stdout",
     "output_type": "stream",
     "text": [
      "Val-Acc=0.7788974510966212\n",
      "Train-Acc=0.7434782608695653\n"
     ]
    },
    {
     "data": {
      "application/vnd.jupyter.widget-view+json": {
       "model_id": "",
       "version_major": 2,
       "version_minor": 0
      },
      "text/plain": [
       "HBox(children=(FloatProgress(value=1.0, bar_style='info', description='Validating', layout=Layout(flex='2'), m…"
      ]
     },
     "metadata": {},
     "output_type": "display_data"
    },
    {
     "name": "stdout",
     "output_type": "stream",
     "text": [
      "Val-Acc=0.7534084173088322\n",
      "Train-Acc=0.7788537549407115\n"
     ]
    },
    {
     "data": {
      "application/vnd.jupyter.widget-view+json": {
       "model_id": "",
       "version_major": 2,
       "version_minor": 0
      },
      "text/plain": [
       "HBox(children=(FloatProgress(value=1.0, bar_style='info', description='Validating', layout=Layout(flex='2'), m…"
      ]
     },
     "metadata": {},
     "output_type": "display_data"
    },
    {
     "name": "stdout",
     "output_type": "stream",
     "text": [
      "Val-Acc=0.5927682276229994\n",
      "Train-Acc=0.7972332015810276\n"
     ]
    },
    {
     "data": {
      "application/vnd.jupyter.widget-view+json": {
       "model_id": "",
       "version_major": 2,
       "version_minor": 0
      },
      "text/plain": [
       "HBox(children=(FloatProgress(value=1.0, bar_style='info', description='Validating', layout=Layout(flex='2'), m…"
      ]
     },
     "metadata": {},
     "output_type": "display_data"
    },
    {
     "name": "stdout",
     "output_type": "stream",
     "text": [
      "Val-Acc=0.7243627741553053\n",
      "Train-Acc=0.8130434782608695\n"
     ]
    },
    {
     "data": {
      "application/vnd.jupyter.widget-view+json": {
       "model_id": "",
       "version_major": 2,
       "version_minor": 0
      },
      "text/plain": [
       "HBox(children=(FloatProgress(value=1.0, bar_style='info', description='Validating', layout=Layout(flex='2'), m…"
      ]
     },
     "metadata": {},
     "output_type": "display_data"
    },
    {
     "name": "stdout",
     "output_type": "stream",
     "text": [
      "Val-Acc=0.7866034380557202\n",
      "Train-Acc=0.8209486166007905\n"
     ]
    },
    {
     "data": {
      "application/vnd.jupyter.widget-view+json": {
       "model_id": "",
       "version_major": 2,
       "version_minor": 0
      },
      "text/plain": [
       "HBox(children=(FloatProgress(value=1.0, bar_style='info', description='Validating', layout=Layout(flex='2'), m…"
      ]
     },
     "metadata": {},
     "output_type": "display_data"
    },
    {
     "name": "stdout",
     "output_type": "stream",
     "text": [
      "Val-Acc=0.7581505631298162\n",
      "Train-Acc=0.8254940711462451\n"
     ]
    },
    {
     "data": {
      "application/vnd.jupyter.widget-view+json": {
       "model_id": "",
       "version_major": 2,
       "version_minor": 0
      },
      "text/plain": [
       "HBox(children=(FloatProgress(value=1.0, bar_style='info', description='Validating', layout=Layout(flex='2'), m…"
      ]
     },
     "metadata": {},
     "output_type": "display_data"
    },
    {
     "name": "stdout",
     "output_type": "stream",
     "text": [
      "Val-Acc=0.7243627741553053\n",
      "Train-Acc=0.833596837944664\n"
     ]
    },
    {
     "data": {
      "application/vnd.jupyter.widget-view+json": {
       "model_id": "",
       "version_major": 2,
       "version_minor": 0
      },
      "text/plain": [
       "HBox(children=(FloatProgress(value=1.0, bar_style='info', description='Validating', layout=Layout(flex='2'), m…"
      ]
     },
     "metadata": {},
     "output_type": "display_data"
    },
    {
     "name": "stdout",
     "output_type": "stream",
     "text": [
      "Val-Acc=0.7285121517486662\n",
      "Train-Acc=0.8381422924901186\n"
     ]
    },
    {
     "data": {
      "application/vnd.jupyter.widget-view+json": {
       "model_id": "",
       "version_major": 2,
       "version_minor": 0
      },
      "text/plain": [
       "HBox(children=(FloatProgress(value=1.0, bar_style='info', description='Validating', layout=Layout(flex='2'), m…"
      ]
     },
     "metadata": {},
     "output_type": "display_data"
    },
    {
     "name": "stdout",
     "output_type": "stream",
     "text": [
      "Val-Acc=0.8091286307053942\n",
      "Train-Acc=0.8466403162055336\n"
     ]
    },
    {
     "data": {
      "application/vnd.jupyter.widget-view+json": {
       "model_id": "",
       "version_major": 2,
       "version_minor": 0
      },
      "text/plain": [
       "HBox(children=(FloatProgress(value=1.0, bar_style='info', description='Validating', layout=Layout(flex='2'), m…"
      ]
     },
     "metadata": {},
     "output_type": "display_data"
    },
    {
     "name": "stdout",
     "output_type": "stream",
     "text": [
      "Val-Acc=0.7545939537640782\n",
      "Train-Acc=0.8476284584980237\n"
     ]
    },
    {
     "data": {
      "application/vnd.jupyter.widget-view+json": {
       "model_id": "",
       "version_major": 2,
       "version_minor": 0
      },
      "text/plain": [
       "HBox(children=(FloatProgress(value=1.0, bar_style='info', description='Validating', layout=Layout(flex='2'), m…"
      ]
     },
     "metadata": {},
     "output_type": "display_data"
    },
    {
     "name": "stdout",
     "output_type": "stream",
     "text": [
      "Val-Acc=0.7907528156490812\n",
      "Train-Acc=0.8567193675889329\n"
     ]
    },
    {
     "data": {
      "application/vnd.jupyter.widget-view+json": {
       "model_id": "",
       "version_major": 2,
       "version_minor": 0
      },
      "text/plain": [
       "HBox(children=(FloatProgress(value=1.0, bar_style='info', description='Validating', layout=Layout(flex='2'), m…"
      ]
     },
     "metadata": {},
     "output_type": "display_data"
    },
    {
     "name": "stdout",
     "output_type": "stream",
     "text": [
      "Val-Acc=0.7949021932424422\n",
      "Train-Acc=0.857509881422925\n"
     ]
    },
    {
     "data": {
      "application/vnd.jupyter.widget-view+json": {
       "model_id": "",
       "version_major": 2,
       "version_minor": 0
      },
      "text/plain": [
       "HBox(children=(FloatProgress(value=1.0, bar_style='info', description='Validating', layout=Layout(flex='2'), m…"
      ]
     },
     "metadata": {},
     "output_type": "display_data"
    },
    {
     "name": "stdout",
     "output_type": "stream",
     "text": [
      "Val-Acc=0.8126852400711322\n",
      "Train-Acc=0.8555335968379446\n"
     ]
    },
    {
     "data": {
      "application/vnd.jupyter.widget-view+json": {
       "model_id": "",
       "version_major": 2,
       "version_minor": 0
      },
      "text/plain": [
       "HBox(children=(FloatProgress(value=1.0, bar_style='info', description='Validating', layout=Layout(flex='2'), m…"
      ]
     },
     "metadata": {},
     "output_type": "display_data"
    },
    {
     "name": "stdout",
     "output_type": "stream",
     "text": [
      "Val-Acc=0.7777119146413752\n",
      "Train-Acc=0.8614624505928854\n"
     ]
    },
    {
     "data": {
      "application/vnd.jupyter.widget-view+json": {
       "model_id": "",
       "version_major": 2,
       "version_minor": 0
      },
      "text/plain": [
       "HBox(children=(FloatProgress(value=1.0, bar_style='info', description='Validating', layout=Layout(flex='2'), m…"
      ]
     },
     "metadata": {},
     "output_type": "display_data"
    },
    {
     "name": "stdout",
     "output_type": "stream",
     "text": [
      "Val-Acc=0.7860106698280972\n",
      "Train-Acc=0.8634387351778656\n"
     ]
    },
    {
     "data": {
      "application/vnd.jupyter.widget-view+json": {
       "model_id": "",
       "version_major": 2,
       "version_minor": 0
      },
      "text/plain": [
       "HBox(children=(FloatProgress(value=1.0, bar_style='info', description='Validating', layout=Layout(flex='2'), m…"
      ]
     },
     "metadata": {},
     "output_type": "display_data"
    },
    {
     "name": "stdout",
     "output_type": "stream",
     "text": [
      "Val-Acc=0.7960877296976882\n",
      "Train-Acc=0.8616600790513834\n"
     ]
    },
    {
     "data": {
      "application/vnd.jupyter.widget-view+json": {
       "model_id": "",
       "version_major": 2,
       "version_minor": 0
      },
      "text/plain": [
       "HBox(children=(FloatProgress(value=1.0, bar_style='info', description='Validating', layout=Layout(flex='2'), m…"
      ]
     },
     "metadata": {},
     "output_type": "display_data"
    },
    {
     "name": "stdout",
     "output_type": "stream",
     "text": [
      "Val-Acc=0.7824540604623592\n",
      "Train-Acc=0.8648221343873518\n"
     ]
    },
    {
     "data": {
      "application/vnd.jupyter.widget-view+json": {
       "model_id": "",
       "version_major": 2,
       "version_minor": 0
      },
      "text/plain": [
       "HBox(children=(FloatProgress(value=1.0, bar_style='info', description='Validating', layout=Layout(flex='2'), m…"
      ]
     },
     "metadata": {},
     "output_type": "display_data"
    },
    {
     "name": "stdout",
     "output_type": "stream",
     "text": [
      "Val-Acc=0.8014226437462952\n",
      "Train-Acc=0.8703557312252964\n"
     ]
    },
    {
     "data": {
      "application/vnd.jupyter.widget-view+json": {
       "model_id": "",
       "version_major": 2,
       "version_minor": 0
      },
      "text/plain": [
       "HBox(children=(FloatProgress(value=1.0, bar_style='info', description='Validating', layout=Layout(flex='2'), m…"
      ]
     },
     "metadata": {},
     "output_type": "display_data"
    },
    {
     "name": "stdout",
     "output_type": "stream",
     "text": [
      "Val-Acc=0.7806757557794902\n",
      "Train-Acc=0.8650197628458498\n"
     ]
    },
    {
     "data": {
      "application/vnd.jupyter.widget-view+json": {
       "model_id": "",
       "version_major": 2,
       "version_minor": 0
      },
      "text/plain": [
       "HBox(children=(FloatProgress(value=1.0, bar_style='info', description='Validating', layout=Layout(flex='2'), m…"
      ]
     },
     "metadata": {},
     "output_type": "display_data"
    },
    {
     "name": "stdout",
     "output_type": "stream",
     "text": [
      "Val-Acc=0.7457024303497333\n",
      "Train-Acc=0.8646245059288538\n",
      "\n",
      "Saved model to \"saved_modelsq/63.p\"\n"
     ]
    },
    {
     "name": "stderr",
     "output_type": "stream",
     "text": [
      "[I 2020-07-20 20:02:03,757] Finished trial#63 with value: 0.7457024303497333 with parameters: {'learning_rate': 0.002080252556546339, 'p_drop': 0.07057854054531106, 'lr_decay': 0.7339295152030265, 'n_hidden': 817, 'weight_decay': 0.008996961480570853}. Best is trial#17 with value: 0.8707765263781861.\n",
      "GPU available: True, used: True\n",
      "No environment variable for node rank defined. Set as 0.\n",
      "CUDA_VISIBLE_DEVICES: [0]\n",
      "Set SLURM handle signals.\n",
      "\n",
      "   | Name           | Type          | Params\n",
      "---------------------------------------------\n",
      "0  | model          | AblationModel | 192 K \n",
      "1  | model.convs    | Sequential    | 114 K \n",
      "2  | model.convs.0  | BatchNorm2d   | 2     \n",
      "3  | model.convs.1  | Conv2d        | 1 K   \n",
      "4  | model.convs.2  | BatchNorm2d   | 20    \n",
      "5  | model.convs.3  | PReLU         | 1     \n",
      "6  | model.convs.4  | MaxPool2d     | 0     \n",
      "7  | model.convs.5  | Dropout       | 0     \n",
      "8  | model.convs.6  | Conv2d        | 20 K  \n",
      "9  | model.convs.7  | BatchNorm2d   | 40    \n",
      "10 | model.convs.8  | PReLU         | 1     \n",
      "11 | model.convs.9  | MaxPool2d     | 0     \n",
      "12 | model.convs.10 | Dropout       | 0     \n",
      "13 | model.convs.11 | Conv2d        | 80 K  \n",
      "14 | model.convs.12 | BatchNorm2d   | 80    \n",
      "15 | model.convs.13 | PReLU         | 1     \n",
      "16 | model.convs.14 | MaxPool2d     | 0     \n",
      "17 | model.convs.15 | Dropout       | 0     \n",
      "18 | model.convs.16 | Conv2d        | 12 K  \n",
      "19 | model.convs.17 | BatchNorm2d   | 160   \n",
      "20 | model.convs.18 | PReLU         | 1     \n",
      "21 | model.convs.19 | MaxPool2d     | 0     \n",
      "22 | model.convs.20 | Dropout       | 0     \n",
      "23 | model.dense    | Sequential    | 78 K  \n",
      "24 | model.dense.0  | Linear        | 76 K  \n",
      "25 | model.dense.1  | PReLU         | 1     \n",
      "26 | model.dense.2  | Dropout       | 0     \n",
      "27 | model.dense.3  | Linear        | 1 K   \n"
     ]
    },
    {
     "data": {
      "application/vnd.jupyter.widget-view+json": {
       "model_id": "",
       "version_major": 2,
       "version_minor": 0
      },
      "text/plain": [
       "HBox(children=(FloatProgress(value=1.0, bar_style='info', description='Validation sanity check', layout=Layout…"
      ]
     },
     "metadata": {},
     "output_type": "display_data"
    },
    {
     "name": "stdout",
     "output_type": "stream",
     "text": [
      "Val-Acc=0.016597510373443983\n"
     ]
    },
    {
     "data": {
      "application/vnd.jupyter.widget-view+json": {
       "model_id": "3b29f920e874421abec0d4a63e996356",
       "version_major": 2,
       "version_minor": 0
      },
      "text/plain": [
       "HBox(children=(FloatProgress(value=1.0, bar_style='info', description='Training', layout=Layout(flex='2'), max…"
      ]
     },
     "metadata": {},
     "output_type": "display_data"
    },
    {
     "data": {
      "application/vnd.jupyter.widget-view+json": {
       "model_id": "",
       "version_major": 2,
       "version_minor": 0
      },
      "text/plain": [
       "HBox(children=(FloatProgress(value=1.0, bar_style='info', description='Validating', layout=Layout(flex='2'), m…"
      ]
     },
     "metadata": {},
     "output_type": "display_data"
    },
    {
     "name": "stdout",
     "output_type": "stream",
     "text": [
      "Val-Acc=0.4961470065204505\n",
      "Train-Acc=0.7090909090909091\n"
     ]
    },
    {
     "data": {
      "application/vnd.jupyter.widget-view+json": {
       "model_id": "",
       "version_major": 2,
       "version_minor": 0
      },
      "text/plain": [
       "HBox(children=(FloatProgress(value=1.0, bar_style='info', description='Validating', layout=Layout(flex='2'), m…"
      ]
     },
     "metadata": {},
     "output_type": "display_data"
    },
    {
     "name": "stdout",
     "output_type": "stream",
     "text": [
      "Val-Acc=0.4908120924718435\n"
     ]
    },
    {
     "name": "stderr",
     "output_type": "stream",
     "text": [
      "[I 2020-07-20 20:02:20,974] Setting status of trial#64 as TrialState.PRUNED. Trial was pruned at epoch 1.\n",
      "GPU available: True, used: True\n",
      "No environment variable for node rank defined. Set as 0.\n",
      "CUDA_VISIBLE_DEVICES: [0]\n",
      "Set SLURM handle signals.\n",
      "\n",
      "   | Name           | Type          | Params\n",
      "---------------------------------------------\n",
      "0  | model          | AblationModel | 185 K \n",
      "1  | model.convs    | Sequential    | 114 K \n",
      "2  | model.convs.0  | BatchNorm2d   | 2     \n",
      "3  | model.convs.1  | Conv2d        | 1 K   \n",
      "4  | model.convs.2  | BatchNorm2d   | 20    \n",
      "5  | model.convs.3  | PReLU         | 1     \n",
      "6  | model.convs.4  | MaxPool2d     | 0     \n",
      "7  | model.convs.5  | Dropout       | 0     \n",
      "8  | model.convs.6  | Conv2d        | 20 K  \n",
      "9  | model.convs.7  | BatchNorm2d   | 40    \n",
      "10 | model.convs.8  | PReLU         | 1     \n",
      "11 | model.convs.9  | MaxPool2d     | 0     \n",
      "12 | model.convs.10 | Dropout       | 0     \n",
      "13 | model.convs.11 | Conv2d        | 80 K  \n",
      "14 | model.convs.12 | BatchNorm2d   | 80    \n",
      "15 | model.convs.13 | PReLU         | 1     \n",
      "16 | model.convs.14 | MaxPool2d     | 0     \n",
      "17 | model.convs.15 | Dropout       | 0     \n",
      "18 | model.convs.16 | Conv2d        | 12 K  \n",
      "19 | model.convs.17 | BatchNorm2d   | 160   \n",
      "20 | model.convs.18 | PReLU         | 1     \n",
      "21 | model.convs.19 | MaxPool2d     | 0     \n",
      "22 | model.convs.20 | Dropout       | 0     \n",
      "23 | model.dense    | Sequential    | 71 K  \n",
      "24 | model.dense.0  | Linear        | 69 K  \n",
      "25 | model.dense.1  | PReLU         | 1     \n",
      "26 | model.dense.2  | Dropout       | 0     \n",
      "27 | model.dense.3  | Linear        | 1 K   \n"
     ]
    },
    {
     "data": {
      "application/vnd.jupyter.widget-view+json": {
       "model_id": "",
       "version_major": 2,
       "version_minor": 0
      },
      "text/plain": [
       "HBox(children=(FloatProgress(value=1.0, bar_style='info', description='Validation sanity check', layout=Layout…"
      ]
     },
     "metadata": {},
     "output_type": "display_data"
    },
    {
     "name": "stdout",
     "output_type": "stream",
     "text": [
      "Val-Acc=0.013633669235328987\n"
     ]
    },
    {
     "data": {
      "application/vnd.jupyter.widget-view+json": {
       "model_id": "dbf433138bf6470293f15babc72a7294",
       "version_major": 2,
       "version_minor": 0
      },
      "text/plain": [
       "HBox(children=(FloatProgress(value=1.0, bar_style='info', description='Training', layout=Layout(flex='2'), max…"
      ]
     },
     "metadata": {},
     "output_type": "display_data"
    },
    {
     "data": {
      "application/vnd.jupyter.widget-view+json": {
       "model_id": "",
       "version_major": 2,
       "version_minor": 0
      },
      "text/plain": [
       "HBox(children=(FloatProgress(value=1.0, bar_style='info', description='Validating', layout=Layout(flex='2'), m…"
      ]
     },
     "metadata": {},
     "output_type": "display_data"
    },
    {
     "name": "stdout",
     "output_type": "stream",
     "text": [
      "Val-Acc=0.6644931831653823\n",
      "Train-Acc=0.7432806324110672\n"
     ]
    },
    {
     "data": {
      "application/vnd.jupyter.widget-view+json": {
       "model_id": "",
       "version_major": 2,
       "version_minor": 0
      },
      "text/plain": [
       "HBox(children=(FloatProgress(value=1.0, bar_style='info', description='Validating', layout=Layout(flex='2'), m…"
      ]
     },
     "metadata": {},
     "output_type": "display_data"
    },
    {
     "name": "stdout",
     "output_type": "stream",
     "text": [
      "Val-Acc=0.7741553052756373\n",
      "Train-Acc=0.792094861660079\n"
     ]
    },
    {
     "data": {
      "application/vnd.jupyter.widget-view+json": {
       "model_id": "",
       "version_major": 2,
       "version_minor": 0
      },
      "text/plain": [
       "HBox(children=(FloatProgress(value=1.0, bar_style='info', description='Validating', layout=Layout(flex='2'), m…"
      ]
     },
     "metadata": {},
     "output_type": "display_data"
    },
    {
     "name": "stdout",
     "output_type": "stream",
     "text": [
      "Val-Acc=0.7800829875518672\n",
      "Train-Acc=0.7966403162055335\n"
     ]
    },
    {
     "data": {
      "application/vnd.jupyter.widget-view+json": {
       "model_id": "",
       "version_major": 2,
       "version_minor": 0
      },
      "text/plain": [
       "HBox(children=(FloatProgress(value=1.0, bar_style='info', description='Validating', layout=Layout(flex='2'), m…"
      ]
     },
     "metadata": {},
     "output_type": "display_data"
    },
    {
     "name": "stdout",
     "output_type": "stream",
     "text": [
      "Val-Acc=0.8269116775340841\n",
      "Train-Acc=0.8110671936758893\n"
     ]
    },
    {
     "data": {
      "application/vnd.jupyter.widget-view+json": {
       "model_id": "",
       "version_major": 2,
       "version_minor": 0
      },
      "text/plain": [
       "HBox(children=(FloatProgress(value=1.0, bar_style='info', description='Validating', layout=Layout(flex='2'), m…"
      ]
     },
     "metadata": {},
     "output_type": "display_data"
    },
    {
     "name": "stdout",
     "output_type": "stream",
     "text": [
      "Val-Acc=0.7670420865441613\n",
      "Train-Acc=0.8187747035573123\n"
     ]
    },
    {
     "data": {
      "application/vnd.jupyter.widget-view+json": {
       "model_id": "",
       "version_major": 2,
       "version_minor": 0
      },
      "text/plain": [
       "HBox(children=(FloatProgress(value=1.0, bar_style='info', description='Validating', layout=Layout(flex='2'), m…"
      ]
     },
     "metadata": {},
     "output_type": "display_data"
    },
    {
     "name": "stdout",
     "output_type": "stream",
     "text": [
      "Val-Acc=0.7095435684647303\n",
      "Train-Acc=0.8183794466403163\n"
     ]
    },
    {
     "data": {
      "application/vnd.jupyter.widget-view+json": {
       "model_id": "",
       "version_major": 2,
       "version_minor": 0
      },
      "text/plain": [
       "HBox(children=(FloatProgress(value=1.0, bar_style='info', description='Validating', layout=Layout(flex='2'), m…"
      ]
     },
     "metadata": {},
     "output_type": "display_data"
    },
    {
     "name": "stdout",
     "output_type": "stream",
     "text": [
      "Val-Acc=0.8026081802015412\n",
      "Train-Acc=0.8292490118577075\n"
     ]
    },
    {
     "data": {
      "application/vnd.jupyter.widget-view+json": {
       "model_id": "",
       "version_major": 2,
       "version_minor": 0
      },
      "text/plain": [
       "HBox(children=(FloatProgress(value=1.0, bar_style='info', description='Validating', layout=Layout(flex='2'), m…"
      ]
     },
     "metadata": {},
     "output_type": "display_data"
    },
    {
     "name": "stdout",
     "output_type": "stream",
     "text": [
      "Val-Acc=0.7943094250148192\n",
      "Train-Acc=0.8367588932806325\n"
     ]
    },
    {
     "data": {
      "application/vnd.jupyter.widget-view+json": {
       "model_id": "",
       "version_major": 2,
       "version_minor": 0
      },
      "text/plain": [
       "HBox(children=(FloatProgress(value=1.0, bar_style='info', description='Validating', layout=Layout(flex='2'), m…"
      ]
     },
     "metadata": {},
     "output_type": "display_data"
    },
    {
     "name": "stdout",
     "output_type": "stream",
     "text": [
      "Val-Acc=0.7071724955542383\n",
      "Train-Acc=0.8381422924901186\n"
     ]
    },
    {
     "data": {
      "application/vnd.jupyter.widget-view+json": {
       "model_id": "",
       "version_major": 2,
       "version_minor": 0
      },
      "text/plain": [
       "HBox(children=(FloatProgress(value=1.0, bar_style='info', description='Validating', layout=Layout(flex='2'), m…"
      ]
     },
     "metadata": {},
     "output_type": "display_data"
    },
    {
     "name": "stdout",
     "output_type": "stream",
     "text": [
      "Val-Acc=0.7557794902193242\n",
      "Train-Acc=0.8341897233201581\n"
     ]
    },
    {
     "data": {
      "application/vnd.jupyter.widget-view+json": {
       "model_id": "",
       "version_major": 2,
       "version_minor": 0
      },
      "text/plain": [
       "HBox(children=(FloatProgress(value=1.0, bar_style='info', description='Validating', layout=Layout(flex='2'), m…"
      ]
     },
     "metadata": {},
     "output_type": "display_data"
    },
    {
     "name": "stdout",
     "output_type": "stream",
     "text": [
      "Val-Acc=0.7830468286899822\n",
      "Train-Acc=0.8393280632411068\n"
     ]
    },
    {
     "data": {
      "application/vnd.jupyter.widget-view+json": {
       "model_id": "",
       "version_major": 2,
       "version_minor": 0
      },
      "text/plain": [
       "HBox(children=(FloatProgress(value=1.0, bar_style='info', description='Validating', layout=Layout(flex='2'), m…"
      ]
     },
     "metadata": {},
     "output_type": "display_data"
    },
    {
     "name": "stdout",
     "output_type": "stream",
     "text": [
      "Val-Acc=0.7830468286899822\n",
      "Train-Acc=0.8494071146245059\n"
     ]
    },
    {
     "data": {
      "application/vnd.jupyter.widget-view+json": {
       "model_id": "",
       "version_major": 2,
       "version_minor": 0
      },
      "text/plain": [
       "HBox(children=(FloatProgress(value=1.0, bar_style='info', description='Validating', layout=Layout(flex='2'), m…"
      ]
     },
     "metadata": {},
     "output_type": "display_data"
    },
    {
     "name": "stdout",
     "output_type": "stream",
     "text": [
      "Val-Acc=0.7462951985773563\n",
      "Train-Acc=0.8450592885375494\n"
     ]
    },
    {
     "data": {
      "application/vnd.jupyter.widget-view+json": {
       "model_id": "",
       "version_major": 2,
       "version_minor": 0
      },
      "text/plain": [
       "HBox(children=(FloatProgress(value=1.0, bar_style='info', description='Validating', layout=Layout(flex='2'), m…"
      ]
     },
     "metadata": {},
     "output_type": "display_data"
    },
    {
     "name": "stdout",
     "output_type": "stream",
     "text": [
      "Val-Acc=0.7587433313574392\n",
      "Train-Acc=0.849802371541502\n"
     ]
    },
    {
     "data": {
      "application/vnd.jupyter.widget-view+json": {
       "model_id": "",
       "version_major": 2,
       "version_minor": 0
      },
      "text/plain": [
       "HBox(children=(FloatProgress(value=1.0, bar_style='info', description='Validating', layout=Layout(flex='2'), m…"
      ]
     },
     "metadata": {},
     "output_type": "display_data"
    },
    {
     "name": "stdout",
     "output_type": "stream",
     "text": [
      "Val-Acc=0.7943094250148192\n",
      "Train-Acc=0.8488142292490118\n"
     ]
    },
    {
     "data": {
      "application/vnd.jupyter.widget-view+json": {
       "model_id": "",
       "version_major": 2,
       "version_minor": 0
      },
      "text/plain": [
       "HBox(children=(FloatProgress(value=1.0, bar_style='info', description='Validating', layout=Layout(flex='2'), m…"
      ]
     },
     "metadata": {},
     "output_type": "display_data"
    },
    {
     "name": "stdout",
     "output_type": "stream",
     "text": [
      "Val-Acc=0.8286899822169532\n",
      "Train-Acc=0.8460474308300395\n"
     ]
    },
    {
     "data": {
      "application/vnd.jupyter.widget-view+json": {
       "model_id": "",
       "version_major": 2,
       "version_minor": 0
      },
      "text/plain": [
       "HBox(children=(FloatProgress(value=1.0, bar_style='info', description='Validating', layout=Layout(flex='2'), m…"
      ]
     },
     "metadata": {},
     "output_type": "display_data"
    },
    {
     "name": "stdout",
     "output_type": "stream",
     "text": [
      "Val-Acc=0.7848251333728512\n",
      "Train-Acc=0.8513833992094861\n"
     ]
    },
    {
     "data": {
      "application/vnd.jupyter.widget-view+json": {
       "model_id": "",
       "version_major": 2,
       "version_minor": 0
      },
      "text/plain": [
       "HBox(children=(FloatProgress(value=1.0, bar_style='info', description='Validating', layout=Layout(flex='2'), m…"
      ]
     },
     "metadata": {},
     "output_type": "display_data"
    },
    {
     "name": "stdout",
     "output_type": "stream",
     "text": [
      "Val-Acc=0.7931238885595732\n",
      "Train-Acc=0.8537549407114624\n"
     ]
    },
    {
     "data": {
      "application/vnd.jupyter.widget-view+json": {
       "model_id": "",
       "version_major": 2,
       "version_minor": 0
      },
      "text/plain": [
       "HBox(children=(FloatProgress(value=1.0, bar_style='info', description='Validating', layout=Layout(flex='2'), m…"
      ]
     },
     "metadata": {},
     "output_type": "display_data"
    },
    {
     "name": "stdout",
     "output_type": "stream",
     "text": [
      "Val-Acc=0.7800829875518672\n",
      "Train-Acc=0.8535573122529644\n"
     ]
    },
    {
     "data": {
      "application/vnd.jupyter.widget-view+json": {
       "model_id": "",
       "version_major": 2,
       "version_minor": 0
      },
      "text/plain": [
       "HBox(children=(FloatProgress(value=1.0, bar_style='info', description='Validating', layout=Layout(flex='2'), m…"
      ]
     },
     "metadata": {},
     "output_type": "display_data"
    },
    {
     "name": "stdout",
     "output_type": "stream",
     "text": [
      "Val-Acc=0.7314759928867812\n",
      "Train-Acc=0.8565217391304348\n",
      "\n",
      "Saved model to \"saved_modelsq/65.p\"\n"
     ]
    },
    {
     "name": "stderr",
     "output_type": "stream",
     "text": [
      "[I 2020-07-20 20:05:09,393] Finished trial#65 with value: 0.7314759928867812 with parameters: {'learning_rate': 0.0010746996496843921, 'p_drop': 0.14442630936798992, 'lr_decay': 0.7264570948004344, 'n_hidden': 856, 'weight_decay': 0.015856916303058757}. Best is trial#17 with value: 0.8707765263781861.\n",
      "GPU available: True, used: True\n",
      "No environment variable for node rank defined. Set as 0.\n",
      "CUDA_VISIBLE_DEVICES: [0]\n",
      "Set SLURM handle signals.\n",
      "\n",
      "   | Name           | Type          | Params\n",
      "---------------------------------------------\n",
      "0  | model          | AblationModel | 179 K \n",
      "1  | model.convs    | Sequential    | 114 K \n",
      "2  | model.convs.0  | BatchNorm2d   | 2     \n",
      "3  | model.convs.1  | Conv2d        | 1 K   \n",
      "4  | model.convs.2  | BatchNorm2d   | 20    \n",
      "5  | model.convs.3  | PReLU         | 1     \n",
      "6  | model.convs.4  | MaxPool2d     | 0     \n",
      "7  | model.convs.5  | Dropout       | 0     \n",
      "8  | model.convs.6  | Conv2d        | 20 K  \n",
      "9  | model.convs.7  | BatchNorm2d   | 40    \n",
      "10 | model.convs.8  | PReLU         | 1     \n",
      "11 | model.convs.9  | MaxPool2d     | 0     \n",
      "12 | model.convs.10 | Dropout       | 0     \n",
      "13 | model.convs.11 | Conv2d        | 80 K  \n",
      "14 | model.convs.12 | BatchNorm2d   | 80    \n",
      "15 | model.convs.13 | PReLU         | 1     \n",
      "16 | model.convs.14 | MaxPool2d     | 0     \n",
      "17 | model.convs.15 | Dropout       | 0     \n",
      "18 | model.convs.16 | Conv2d        | 12 K  \n",
      "19 | model.convs.17 | BatchNorm2d   | 160   \n",
      "20 | model.convs.18 | PReLU         | 1     \n",
      "21 | model.convs.19 | MaxPool2d     | 0     \n",
      "22 | model.convs.20 | Dropout       | 0     \n",
      "23 | model.dense    | Sequential    | 64 K  \n",
      "24 | model.dense.0  | Linear        | 63 K  \n",
      "25 | model.dense.1  | PReLU         | 1     \n",
      "26 | model.dense.2  | Dropout       | 0     \n",
      "27 | model.dense.3  | Linear        | 1 K   \n"
     ]
    },
    {
     "data": {
      "application/vnd.jupyter.widget-view+json": {
       "model_id": "",
       "version_major": 2,
       "version_minor": 0
      },
      "text/plain": [
       "HBox(children=(FloatProgress(value=1.0, bar_style='info', description='Validation sanity check', layout=Layout…"
      ]
     },
     "metadata": {},
     "output_type": "display_data"
    },
    {
     "name": "stdout",
     "output_type": "stream",
     "text": [
      "Val-Acc=0.016597510373443983\n"
     ]
    },
    {
     "data": {
      "application/vnd.jupyter.widget-view+json": {
       "model_id": "bb87046ba9904d1ca81764caf7bbf8c7",
       "version_major": 2,
       "version_minor": 0
      },
      "text/plain": [
       "HBox(children=(FloatProgress(value=1.0, bar_style='info', description='Training', layout=Layout(flex='2'), max…"
      ]
     },
     "metadata": {},
     "output_type": "display_data"
    },
    {
     "data": {
      "application/vnd.jupyter.widget-view+json": {
       "model_id": "",
       "version_major": 2,
       "version_minor": 0
      },
      "text/plain": [
       "HBox(children=(FloatProgress(value=1.0, bar_style='info', description='Validating', layout=Layout(flex='2'), m…"
      ]
     },
     "metadata": {},
     "output_type": "display_data"
    },
    {
     "name": "stdout",
     "output_type": "stream",
     "text": [
      "Val-Acc=0.7741553052756373\n",
      "Train-Acc=0.7579051383399209\n"
     ]
    },
    {
     "data": {
      "application/vnd.jupyter.widget-view+json": {
       "model_id": "",
       "version_major": 2,
       "version_minor": 0
      },
      "text/plain": [
       "HBox(children=(FloatProgress(value=1.0, bar_style='info', description='Validating', layout=Layout(flex='2'), m…"
      ]
     },
     "metadata": {},
     "output_type": "display_data"
    },
    {
     "name": "stdout",
     "output_type": "stream",
     "text": [
      "Val-Acc=0.7800829875518672\n",
      "Train-Acc=0.7924901185770751\n"
     ]
    },
    {
     "data": {
      "application/vnd.jupyter.widget-view+json": {
       "model_id": "",
       "version_major": 2,
       "version_minor": 0
      },
      "text/plain": [
       "HBox(children=(FloatProgress(value=1.0, bar_style='info', description='Validating', layout=Layout(flex='2'), m…"
      ]
     },
     "metadata": {},
     "output_type": "display_data"
    },
    {
     "name": "stdout",
     "output_type": "stream",
     "text": [
      "Val-Acc=0.7451096621221103\n",
      "Train-Acc=0.8019762845849803\n"
     ]
    },
    {
     "data": {
      "application/vnd.jupyter.widget-view+json": {
       "model_id": "",
       "version_major": 2,
       "version_minor": 0
      },
      "text/plain": [
       "HBox(children=(FloatProgress(value=1.0, bar_style='info', description='Validating', layout=Layout(flex='2'), m…"
      ]
     },
     "metadata": {},
     "output_type": "display_data"
    },
    {
     "name": "stdout",
     "output_type": "stream",
     "text": [
      "Val-Acc=0.7640782454060462\n",
      "Train-Acc=0.8118577075098814\n"
     ]
    },
    {
     "data": {
      "application/vnd.jupyter.widget-view+json": {
       "model_id": "",
       "version_major": 2,
       "version_minor": 0
      },
      "text/plain": [
       "HBox(children=(FloatProgress(value=1.0, bar_style='info', description='Validating', layout=Layout(flex='2'), m…"
      ]
     },
     "metadata": {},
     "output_type": "display_data"
    },
    {
     "name": "stdout",
     "output_type": "stream",
     "text": [
      "Val-Acc=0.7480735032602253\n",
      "Train-Acc=0.8162055335968379\n"
     ]
    },
    {
     "data": {
      "application/vnd.jupyter.widget-view+json": {
       "model_id": "",
       "version_major": 2,
       "version_minor": 0
      },
      "text/plain": [
       "HBox(children=(FloatProgress(value=1.0, bar_style='info', description='Validating', layout=Layout(flex='2'), m…"
      ]
     },
     "metadata": {},
     "output_type": "display_data"
    },
    {
     "name": "stdout",
     "output_type": "stream",
     "text": [
      "Val-Acc=0.7379964433906343\n",
      "Train-Acc=0.8276679841897233\n"
     ]
    },
    {
     "data": {
      "application/vnd.jupyter.widget-view+json": {
       "model_id": "",
       "version_major": 2,
       "version_minor": 0
      },
      "text/plain": [
       "HBox(children=(FloatProgress(value=1.0, bar_style='info', description='Validating', layout=Layout(flex='2'), m…"
      ]
     },
     "metadata": {},
     "output_type": "display_data"
    },
    {
     "name": "stdout",
     "output_type": "stream",
     "text": [
      "Val-Acc=0.7569650266745702\n",
      "Train-Acc=0.833794466403162\n"
     ]
    },
    {
     "data": {
      "application/vnd.jupyter.widget-view+json": {
       "model_id": "",
       "version_major": 2,
       "version_minor": 0
      },
      "text/plain": [
       "HBox(children=(FloatProgress(value=1.0, bar_style='info', description='Validating', layout=Layout(flex='2'), m…"
      ]
     },
     "metadata": {},
     "output_type": "display_data"
    },
    {
     "name": "stdout",
     "output_type": "stream",
     "text": [
      "Val-Acc=0.7208061647895673\n"
     ]
    },
    {
     "name": "stderr",
     "output_type": "stream",
     "text": [
      "[I 2020-07-20 20:06:16,864] Setting status of trial#66 as TrialState.PRUNED. Trial was pruned at epoch 7.\n",
      "GPU available: True, used: True\n",
      "No environment variable for node rank defined. Set as 0.\n",
      "CUDA_VISIBLE_DEVICES: [0]\n",
      "Set SLURM handle signals.\n",
      "\n",
      "   | Name           | Type          | Params\n",
      "---------------------------------------------\n",
      "0  | model          | AblationModel | 189 K \n",
      "1  | model.convs    | Sequential    | 114 K \n",
      "2  | model.convs.0  | BatchNorm2d   | 2     \n",
      "3  | model.convs.1  | Conv2d        | 1 K   \n",
      "4  | model.convs.2  | BatchNorm2d   | 20    \n",
      "5  | model.convs.3  | PReLU         | 1     \n",
      "6  | model.convs.4  | MaxPool2d     | 0     \n",
      "7  | model.convs.5  | Dropout       | 0     \n",
      "8  | model.convs.6  | Conv2d        | 20 K  \n",
      "9  | model.convs.7  | BatchNorm2d   | 40    \n",
      "10 | model.convs.8  | PReLU         | 1     \n",
      "11 | model.convs.9  | MaxPool2d     | 0     \n",
      "12 | model.convs.10 | Dropout       | 0     \n",
      "13 | model.convs.11 | Conv2d        | 80 K  \n",
      "14 | model.convs.12 | BatchNorm2d   | 80    \n",
      "15 | model.convs.13 | PReLU         | 1     \n",
      "16 | model.convs.14 | MaxPool2d     | 0     \n",
      "17 | model.convs.15 | Dropout       | 0     \n",
      "18 | model.convs.16 | Conv2d        | 12 K  \n",
      "19 | model.convs.17 | BatchNorm2d   | 160   \n",
      "20 | model.convs.18 | PReLU         | 1     \n",
      "21 | model.convs.19 | MaxPool2d     | 0     \n",
      "22 | model.convs.20 | Dropout       | 0     \n",
      "23 | model.dense    | Sequential    | 75 K  \n",
      "24 | model.dense.0  | Linear        | 73 K  \n",
      "25 | model.dense.1  | PReLU         | 1     \n",
      "26 | model.dense.2  | Dropout       | 0     \n",
      "27 | model.dense.3  | Linear        | 1 K   \n"
     ]
    },
    {
     "data": {
      "application/vnd.jupyter.widget-view+json": {
       "model_id": "",
       "version_major": 2,
       "version_minor": 0
      },
      "text/plain": [
       "HBox(children=(FloatProgress(value=1.0, bar_style='info', description='Validation sanity check', layout=Layout…"
      ]
     },
     "metadata": {},
     "output_type": "display_data"
    },
    {
     "name": "stdout",
     "output_type": "stream",
     "text": [
      "Val-Acc=0.02074688796680498\n"
     ]
    },
    {
     "data": {
      "application/vnd.jupyter.widget-view+json": {
       "model_id": "d25ba46812ea47a8a6a4830c33ccf814",
       "version_major": 2,
       "version_minor": 0
      },
      "text/plain": [
       "HBox(children=(FloatProgress(value=1.0, bar_style='info', description='Training', layout=Layout(flex='2'), max…"
      ]
     },
     "metadata": {},
     "output_type": "display_data"
    },
    {
     "data": {
      "application/vnd.jupyter.widget-view+json": {
       "model_id": "",
       "version_major": 2,
       "version_minor": 0
      },
      "text/plain": [
       "HBox(children=(FloatProgress(value=1.0, bar_style='info', description='Validating', layout=Layout(flex='2'), m…"
      ]
     },
     "metadata": {},
     "output_type": "display_data"
    },
    {
     "name": "stdout",
     "output_type": "stream",
     "text": [
      "Val-Acc=0.5761707172495554\n",
      "Train-Acc=0.6881422924901186\n"
     ]
    },
    {
     "data": {
      "application/vnd.jupyter.widget-view+json": {
       "model_id": "",
       "version_major": 2,
       "version_minor": 0
      },
      "text/plain": [
       "HBox(children=(FloatProgress(value=1.0, bar_style='info', description='Validating', layout=Layout(flex='2'), m…"
      ]
     },
     "metadata": {},
     "output_type": "display_data"
    },
    {
     "name": "stdout",
     "output_type": "stream",
     "text": [
      "Val-Acc=0.6810906935388263\n"
     ]
    },
    {
     "name": "stderr",
     "output_type": "stream",
     "text": [
      "[I 2020-07-20 20:06:34,459] Setting status of trial#67 as TrialState.PRUNED. Trial was pruned at epoch 1.\n",
      "GPU available: True, used: True\n",
      "No environment variable for node rank defined. Set as 0.\n",
      "CUDA_VISIBLE_DEVICES: [0]\n",
      "Set SLURM handle signals.\n",
      "\n",
      "   | Name           | Type          | Params\n",
      "---------------------------------------------\n",
      "0  | model          | AblationModel | 176 K \n",
      "1  | model.convs    | Sequential    | 114 K \n",
      "2  | model.convs.0  | BatchNorm2d   | 2     \n",
      "3  | model.convs.1  | Conv2d        | 1 K   \n",
      "4  | model.convs.2  | BatchNorm2d   | 20    \n",
      "5  | model.convs.3  | PReLU         | 1     \n",
      "6  | model.convs.4  | MaxPool2d     | 0     \n",
      "7  | model.convs.5  | Dropout       | 0     \n",
      "8  | model.convs.6  | Conv2d        | 20 K  \n",
      "9  | model.convs.7  | BatchNorm2d   | 40    \n",
      "10 | model.convs.8  | PReLU         | 1     \n",
      "11 | model.convs.9  | MaxPool2d     | 0     \n",
      "12 | model.convs.10 | Dropout       | 0     \n",
      "13 | model.convs.11 | Conv2d        | 80 K  \n",
      "14 | model.convs.12 | BatchNorm2d   | 80    \n",
      "15 | model.convs.13 | PReLU         | 1     \n",
      "16 | model.convs.14 | MaxPool2d     | 0     \n",
      "17 | model.convs.15 | Dropout       | 0     \n",
      "18 | model.convs.16 | Conv2d        | 12 K  \n",
      "19 | model.convs.17 | BatchNorm2d   | 160   \n",
      "20 | model.convs.18 | PReLU         | 1     \n",
      "21 | model.convs.19 | MaxPool2d     | 0     \n",
      "22 | model.convs.20 | Dropout       | 0     \n",
      "23 | model.dense    | Sequential    | 62 K  \n",
      "24 | model.dense.0  | Linear        | 61 K  \n",
      "25 | model.dense.1  | PReLU         | 1     \n",
      "26 | model.dense.2  | Dropout       | 0     \n",
      "27 | model.dense.3  | Linear        | 1 K   \n"
     ]
    },
    {
     "data": {
      "application/vnd.jupyter.widget-view+json": {
       "model_id": "",
       "version_major": 2,
       "version_minor": 0
      },
      "text/plain": [
       "HBox(children=(FloatProgress(value=1.0, bar_style='info', description='Validation sanity check', layout=Layout…"
      ]
     },
     "metadata": {},
     "output_type": "display_data"
    },
    {
     "name": "stdout",
     "output_type": "stream",
     "text": [
      "Val-Acc=0.016597510373443983\n"
     ]
    },
    {
     "data": {
      "application/vnd.jupyter.widget-view+json": {
       "model_id": "fccb3b68274d4f88bcfbad66a8c8dd55",
       "version_major": 2,
       "version_minor": 0
      },
      "text/plain": [
       "HBox(children=(FloatProgress(value=1.0, bar_style='info', description='Training', layout=Layout(flex='2'), max…"
      ]
     },
     "metadata": {},
     "output_type": "display_data"
    },
    {
     "data": {
      "application/vnd.jupyter.widget-view+json": {
       "model_id": "",
       "version_major": 2,
       "version_minor": 0
      },
      "text/plain": [
       "HBox(children=(FloatProgress(value=1.0, bar_style='info', description='Validating', layout=Layout(flex='2'), m…"
      ]
     },
     "metadata": {},
     "output_type": "display_data"
    },
    {
     "name": "stdout",
     "output_type": "stream",
     "text": [
      "Val-Acc=0.5933609958506224\n",
      "Train-Acc=0.7286561264822135\n"
     ]
    },
    {
     "data": {
      "application/vnd.jupyter.widget-view+json": {
       "model_id": "",
       "version_major": 2,
       "version_minor": 0
      },
      "text/plain": [
       "HBox(children=(FloatProgress(value=1.0, bar_style='info', description='Validating', layout=Layout(flex='2'), m…"
      ]
     },
     "metadata": {},
     "output_type": "display_data"
    },
    {
     "name": "stdout",
     "output_type": "stream",
     "text": [
      "Val-Acc=0.7611144042679312\n",
      "Train-Acc=0.75\n"
     ]
    },
    {
     "data": {
      "application/vnd.jupyter.widget-view+json": {
       "model_id": "",
       "version_major": 2,
       "version_minor": 0
      },
      "text/plain": [
       "HBox(children=(FloatProgress(value=1.0, bar_style='info', description='Validating', layout=Layout(flex='2'), m…"
      ]
     },
     "metadata": {},
     "output_type": "display_data"
    },
    {
     "name": "stdout",
     "output_type": "stream",
     "text": [
      "Val-Acc=0.5714285714285714\n",
      "Train-Acc=0.7466403162055336\n"
     ]
    },
    {
     "data": {
      "application/vnd.jupyter.widget-view+json": {
       "model_id": "",
       "version_major": 2,
       "version_minor": 0
      },
      "text/plain": [
       "HBox(children=(FloatProgress(value=1.0, bar_style='info', description='Validating', layout=Layout(flex='2'), m…"
      ]
     },
     "metadata": {},
     "output_type": "display_data"
    },
    {
     "name": "stdout",
     "output_type": "stream",
     "text": [
      "Val-Acc=0.7172495554238293\n",
      "Train-Acc=0.7675889328063241\n"
     ]
    },
    {
     "data": {
      "application/vnd.jupyter.widget-view+json": {
       "model_id": "",
       "version_major": 2,
       "version_minor": 0
      },
      "text/plain": [
       "HBox(children=(FloatProgress(value=1.0, bar_style='info', description='Validating', layout=Layout(flex='2'), m…"
      ]
     },
     "metadata": {},
     "output_type": "display_data"
    },
    {
     "name": "stdout",
     "output_type": "stream",
     "text": [
      "Val-Acc=0.5133372851215174\n",
      "Train-Acc=0.7729249011857707\n"
     ]
    },
    {
     "data": {
      "application/vnd.jupyter.widget-view+json": {
       "model_id": "",
       "version_major": 2,
       "version_minor": 0
      },
      "text/plain": [
       "HBox(children=(FloatProgress(value=1.0, bar_style='info', description='Validating', layout=Layout(flex='2'), m…"
      ]
     },
     "metadata": {},
     "output_type": "display_data"
    },
    {
     "name": "stdout",
     "output_type": "stream",
     "text": [
      "Val-Acc=0.7219917012448133\n",
      "Train-Acc=0.7772727272727272\n"
     ]
    },
    {
     "data": {
      "application/vnd.jupyter.widget-view+json": {
       "model_id": "",
       "version_major": 2,
       "version_minor": 0
      },
      "text/plain": [
       "HBox(children=(FloatProgress(value=1.0, bar_style='info', description='Validating', layout=Layout(flex='2'), m…"
      ]
     },
     "metadata": {},
     "output_type": "display_data"
    },
    {
     "name": "stdout",
     "output_type": "stream",
     "text": [
      "Val-Acc=0.5180794309425015\n",
      "Train-Acc=0.7808300395256917\n"
     ]
    },
    {
     "data": {
      "application/vnd.jupyter.widget-view+json": {
       "model_id": "",
       "version_major": 2,
       "version_minor": 0
      },
      "text/plain": [
       "HBox(children=(FloatProgress(value=1.0, bar_style='info', description='Validating', layout=Layout(flex='2'), m…"
      ]
     },
     "metadata": {},
     "output_type": "display_data"
    },
    {
     "name": "stdout",
     "output_type": "stream",
     "text": [
      "Val-Acc=0.49259039715471253\n"
     ]
    },
    {
     "name": "stderr",
     "output_type": "stream",
     "text": [
      "[I 2020-07-20 20:07:41,994] Setting status of trial#68 as TrialState.PRUNED. Trial was pruned at epoch 7.\n",
      "GPU available: True, used: True\n",
      "No environment variable for node rank defined. Set as 0.\n",
      "CUDA_VISIBLE_DEVICES: [0]\n",
      "Set SLURM handle signals.\n",
      "\n",
      "   | Name           | Type          | Params\n",
      "---------------------------------------------\n",
      "0  | model          | AblationModel | 195 K \n",
      "1  | model.convs    | Sequential    | 114 K \n",
      "2  | model.convs.0  | BatchNorm2d   | 2     \n",
      "3  | model.convs.1  | Conv2d        | 1 K   \n",
      "4  | model.convs.2  | BatchNorm2d   | 20    \n",
      "5  | model.convs.3  | PReLU         | 1     \n",
      "6  | model.convs.4  | MaxPool2d     | 0     \n",
      "7  | model.convs.5  | Dropout       | 0     \n",
      "8  | model.convs.6  | Conv2d        | 20 K  \n",
      "9  | model.convs.7  | BatchNorm2d   | 40    \n",
      "10 | model.convs.8  | PReLU         | 1     \n",
      "11 | model.convs.9  | MaxPool2d     | 0     \n",
      "12 | model.convs.10 | Dropout       | 0     \n",
      "13 | model.convs.11 | Conv2d        | 80 K  \n",
      "14 | model.convs.12 | BatchNorm2d   | 80    \n",
      "15 | model.convs.13 | PReLU         | 1     \n",
      "16 | model.convs.14 | MaxPool2d     | 0     \n",
      "17 | model.convs.15 | Dropout       | 0     \n",
      "18 | model.convs.16 | Conv2d        | 12 K  \n",
      "19 | model.convs.17 | BatchNorm2d   | 160   \n",
      "20 | model.convs.18 | PReLU         | 1     \n",
      "21 | model.convs.19 | MaxPool2d     | 0     \n",
      "22 | model.convs.20 | Dropout       | 0     \n",
      "23 | model.dense    | Sequential    | 81 K  \n",
      "24 | model.dense.0  | Linear        | 79 K  \n",
      "25 | model.dense.1  | PReLU         | 1     \n",
      "26 | model.dense.2  | Dropout       | 0     \n",
      "27 | model.dense.3  | Linear        | 1 K   \n"
     ]
    },
    {
     "data": {
      "application/vnd.jupyter.widget-view+json": {
       "model_id": "",
       "version_major": 2,
       "version_minor": 0
      },
      "text/plain": [
       "HBox(children=(FloatProgress(value=1.0, bar_style='info', description='Validation sanity check', layout=Layout…"
      ]
     },
     "metadata": {},
     "output_type": "display_data"
    },
    {
     "name": "stdout",
     "output_type": "stream",
     "text": [
      "Val-Acc=0.018375815056312982\n"
     ]
    },
    {
     "data": {
      "application/vnd.jupyter.widget-view+json": {
       "model_id": "3f9b501c3ad04a6aba1bd57b6034e23e",
       "version_major": 2,
       "version_minor": 0
      },
      "text/plain": [
       "HBox(children=(FloatProgress(value=1.0, bar_style='info', description='Training', layout=Layout(flex='2'), max…"
      ]
     },
     "metadata": {},
     "output_type": "display_data"
    },
    {
     "data": {
      "application/vnd.jupyter.widget-view+json": {
       "model_id": "",
       "version_major": 2,
       "version_minor": 0
      },
      "text/plain": [
       "HBox(children=(FloatProgress(value=1.0, bar_style='info', description='Validating', layout=Layout(flex='2'), m…"
      ]
     },
     "metadata": {},
     "output_type": "display_data"
    },
    {
     "name": "stdout",
     "output_type": "stream",
     "text": [
      "Val-Acc=0.7279193835210432\n",
      "Train-Acc=0.7373517786561264\n"
     ]
    },
    {
     "data": {
      "application/vnd.jupyter.widget-view+json": {
       "model_id": "",
       "version_major": 2,
       "version_minor": 0
      },
      "text/plain": [
       "HBox(children=(FloatProgress(value=1.0, bar_style='info', description='Validating', layout=Layout(flex='2'), m…"
      ]
     },
     "metadata": {},
     "output_type": "display_data"
    },
    {
     "name": "stdout",
     "output_type": "stream",
     "text": [
      "Val-Acc=0.7528156490812092\n"
     ]
    },
    {
     "name": "stderr",
     "output_type": "stream",
     "text": [
      "[I 2020-07-20 20:07:59,299] Setting status of trial#69 as TrialState.PRUNED. Trial was pruned at epoch 1.\n",
      "GPU available: True, used: True\n",
      "No environment variable for node rank defined. Set as 0.\n",
      "CUDA_VISIBLE_DEVICES: [0]\n",
      "Set SLURM handle signals.\n",
      "\n",
      "   | Name           | Type          | Params\n",
      "---------------------------------------------\n",
      "0  | model          | AblationModel | 182 K \n",
      "1  | model.convs    | Sequential    | 114 K \n",
      "2  | model.convs.0  | BatchNorm2d   | 2     \n",
      "3  | model.convs.1  | Conv2d        | 1 K   \n",
      "4  | model.convs.2  | BatchNorm2d   | 20    \n",
      "5  | model.convs.3  | PReLU         | 1     \n",
      "6  | model.convs.4  | MaxPool2d     | 0     \n",
      "7  | model.convs.5  | Dropout       | 0     \n",
      "8  | model.convs.6  | Conv2d        | 20 K  \n",
      "9  | model.convs.7  | BatchNorm2d   | 40    \n",
      "10 | model.convs.8  | PReLU         | 1     \n",
      "11 | model.convs.9  | MaxPool2d     | 0     \n",
      "12 | model.convs.10 | Dropout       | 0     \n",
      "13 | model.convs.11 | Conv2d        | 80 K  \n",
      "14 | model.convs.12 | BatchNorm2d   | 80    \n",
      "15 | model.convs.13 | PReLU         | 1     \n",
      "16 | model.convs.14 | MaxPool2d     | 0     \n",
      "17 | model.convs.15 | Dropout       | 0     \n",
      "18 | model.convs.16 | Conv2d        | 12 K  \n",
      "19 | model.convs.17 | BatchNorm2d   | 160   \n",
      "20 | model.convs.18 | PReLU         | 1     \n",
      "21 | model.convs.19 | MaxPool2d     | 0     \n",
      "22 | model.convs.20 | Dropout       | 0     \n",
      "23 | model.dense    | Sequential    | 68 K  \n",
      "24 | model.dense.0  | Linear        | 66 K  \n",
      "25 | model.dense.1  | PReLU         | 1     \n",
      "26 | model.dense.2  | Dropout       | 0     \n",
      "27 | model.dense.3  | Linear        | 1 K   \n"
     ]
    },
    {
     "data": {
      "application/vnd.jupyter.widget-view+json": {
       "model_id": "",
       "version_major": 2,
       "version_minor": 0
      },
      "text/plain": [
       "HBox(children=(FloatProgress(value=1.0, bar_style='info', description='Validation sanity check', layout=Layout…"
      ]
     },
     "metadata": {},
     "output_type": "display_data"
    },
    {
     "name": "stdout",
     "output_type": "stream",
     "text": [
      "Val-Acc=0.02074688796680498\n"
     ]
    },
    {
     "data": {
      "application/vnd.jupyter.widget-view+json": {
       "model_id": "66e08ba00f034da5b4be15c54565357a",
       "version_major": 2,
       "version_minor": 0
      },
      "text/plain": [
       "HBox(children=(FloatProgress(value=1.0, bar_style='info', description='Training', layout=Layout(flex='2'), max…"
      ]
     },
     "metadata": {},
     "output_type": "display_data"
    },
    {
     "data": {
      "application/vnd.jupyter.widget-view+json": {
       "model_id": "",
       "version_major": 2,
       "version_minor": 0
      },
      "text/plain": [
       "HBox(children=(FloatProgress(value=1.0, bar_style='info', description='Validating', layout=Layout(flex='2'), m…"
      ]
     },
     "metadata": {},
     "output_type": "display_data"
    },
    {
     "name": "stdout",
     "output_type": "stream",
     "text": [
      "Val-Acc=0.5204505038529935\n",
      "Train-Acc=0.616403162055336\n"
     ]
    },
    {
     "data": {
      "application/vnd.jupyter.widget-view+json": {
       "model_id": "",
       "version_major": 2,
       "version_minor": 0
      },
      "text/plain": [
       "HBox(children=(FloatProgress(value=1.0, bar_style='info', description='Validating', layout=Layout(flex='2'), m…"
      ]
     },
     "metadata": {},
     "output_type": "display_data"
    },
    {
     "name": "stdout",
     "output_type": "stream",
     "text": [
      "Val-Acc=0.5163011262596325\n"
     ]
    },
    {
     "name": "stderr",
     "output_type": "stream",
     "text": [
      "[I 2020-07-20 20:08:16,588] Setting status of trial#70 as TrialState.PRUNED. Trial was pruned at epoch 1.\n",
      "GPU available: True, used: True\n",
      "No environment variable for node rank defined. Set as 0.\n",
      "CUDA_VISIBLE_DEVICES: [0]\n",
      "Set SLURM handle signals.\n",
      "\n",
      "   | Name           | Type          | Params\n",
      "---------------------------------------------\n",
      "0  | model          | AblationModel | 187 K \n",
      "1  | model.convs    | Sequential    | 114 K \n",
      "2  | model.convs.0  | BatchNorm2d   | 2     \n",
      "3  | model.convs.1  | Conv2d        | 1 K   \n",
      "4  | model.convs.2  | BatchNorm2d   | 20    \n",
      "5  | model.convs.3  | PReLU         | 1     \n",
      "6  | model.convs.4  | MaxPool2d     | 0     \n",
      "7  | model.convs.5  | Dropout       | 0     \n",
      "8  | model.convs.6  | Conv2d        | 20 K  \n",
      "9  | model.convs.7  | BatchNorm2d   | 40    \n",
      "10 | model.convs.8  | PReLU         | 1     \n",
      "11 | model.convs.9  | MaxPool2d     | 0     \n",
      "12 | model.convs.10 | Dropout       | 0     \n",
      "13 | model.convs.11 | Conv2d        | 80 K  \n",
      "14 | model.convs.12 | BatchNorm2d   | 80    \n",
      "15 | model.convs.13 | PReLU         | 1     \n",
      "16 | model.convs.14 | MaxPool2d     | 0     \n",
      "17 | model.convs.15 | Dropout       | 0     \n",
      "18 | model.convs.16 | Conv2d        | 12 K  \n",
      "19 | model.convs.17 | BatchNorm2d   | 160   \n",
      "20 | model.convs.18 | PReLU         | 1     \n",
      "21 | model.convs.19 | MaxPool2d     | 0     \n",
      "22 | model.convs.20 | Dropout       | 0     \n",
      "23 | model.dense    | Sequential    | 73 K  \n",
      "24 | model.dense.0  | Linear        | 71 K  \n",
      "25 | model.dense.1  | PReLU         | 1     \n",
      "26 | model.dense.2  | Dropout       | 0     \n",
      "27 | model.dense.3  | Linear        | 1 K   \n"
     ]
    },
    {
     "data": {
      "application/vnd.jupyter.widget-view+json": {
       "model_id": "",
       "version_major": 2,
       "version_minor": 0
      },
      "text/plain": [
       "HBox(children=(FloatProgress(value=1.0, bar_style='info', description='Validation sanity check', layout=Layout…"
      ]
     },
     "metadata": {},
     "output_type": "display_data"
    },
    {
     "name": "stdout",
     "output_type": "stream",
     "text": [
      "Val-Acc=0.02133965619442798\n"
     ]
    },
    {
     "data": {
      "application/vnd.jupyter.widget-view+json": {
       "model_id": "fe0aa3457f1741b18d6c696d025a5c17",
       "version_major": 2,
       "version_minor": 0
      },
      "text/plain": [
       "HBox(children=(FloatProgress(value=1.0, bar_style='info', description='Training', layout=Layout(flex='2'), max…"
      ]
     },
     "metadata": {},
     "output_type": "display_data"
    },
    {
     "data": {
      "application/vnd.jupyter.widget-view+json": {
       "model_id": "",
       "version_major": 2,
       "version_minor": 0
      },
      "text/plain": [
       "HBox(children=(FloatProgress(value=1.0, bar_style='info', description='Validating', layout=Layout(flex='2'), m…"
      ]
     },
     "metadata": {},
     "output_type": "display_data"
    },
    {
     "name": "stdout",
     "output_type": "stream",
     "text": [
      "Val-Acc=0.5732068761114404\n",
      "Train-Acc=0.7543478260869565\n"
     ]
    },
    {
     "data": {
      "application/vnd.jupyter.widget-view+json": {
       "model_id": "",
       "version_major": 2,
       "version_minor": 0
      },
      "text/plain": [
       "HBox(children=(FloatProgress(value=1.0, bar_style='info', description='Validating', layout=Layout(flex='2'), m…"
      ]
     },
     "metadata": {},
     "output_type": "display_data"
    },
    {
     "name": "stdout",
     "output_type": "stream",
     "text": [
      "Val-Acc=0.5133372851215174\n"
     ]
    },
    {
     "name": "stderr",
     "output_type": "stream",
     "text": [
      "[I 2020-07-20 20:08:33,837] Setting status of trial#71 as TrialState.PRUNED. Trial was pruned at epoch 1.\n",
      "GPU available: True, used: True\n",
      "No environment variable for node rank defined. Set as 0.\n",
      "CUDA_VISIBLE_DEVICES: [0]\n",
      "Set SLURM handle signals.\n",
      "\n",
      "   | Name           | Type          | Params\n",
      "---------------------------------------------\n",
      "0  | model          | AblationModel | 186 K \n",
      "1  | model.convs    | Sequential    | 114 K \n",
      "2  | model.convs.0  | BatchNorm2d   | 2     \n",
      "3  | model.convs.1  | Conv2d        | 1 K   \n",
      "4  | model.convs.2  | BatchNorm2d   | 20    \n",
      "5  | model.convs.3  | PReLU         | 1     \n",
      "6  | model.convs.4  | MaxPool2d     | 0     \n",
      "7  | model.convs.5  | Dropout       | 0     \n",
      "8  | model.convs.6  | Conv2d        | 20 K  \n",
      "9  | model.convs.7  | BatchNorm2d   | 40    \n",
      "10 | model.convs.8  | PReLU         | 1     \n",
      "11 | model.convs.9  | MaxPool2d     | 0     \n",
      "12 | model.convs.10 | Dropout       | 0     \n",
      "13 | model.convs.11 | Conv2d        | 80 K  \n",
      "14 | model.convs.12 | BatchNorm2d   | 80    \n",
      "15 | model.convs.13 | PReLU         | 1     \n",
      "16 | model.convs.14 | MaxPool2d     | 0     \n",
      "17 | model.convs.15 | Dropout       | 0     \n",
      "18 | model.convs.16 | Conv2d        | 12 K  \n",
      "19 | model.convs.17 | BatchNorm2d   | 160   \n",
      "20 | model.convs.18 | PReLU         | 1     \n",
      "21 | model.convs.19 | MaxPool2d     | 0     \n",
      "22 | model.convs.20 | Dropout       | 0     \n",
      "23 | model.dense    | Sequential    | 72 K  \n",
      "24 | model.dense.0  | Linear        | 70 K  \n",
      "25 | model.dense.1  | PReLU         | 1     \n",
      "26 | model.dense.2  | Dropout       | 0     \n",
      "27 | model.dense.3  | Linear        | 1 K   \n"
     ]
    },
    {
     "data": {
      "application/vnd.jupyter.widget-view+json": {
       "model_id": "",
       "version_major": 2,
       "version_minor": 0
      },
      "text/plain": [
       "HBox(children=(FloatProgress(value=1.0, bar_style='info', description='Validation sanity check', layout=Layout…"
      ]
     },
     "metadata": {},
     "output_type": "display_data"
    },
    {
     "name": "stdout",
     "output_type": "stream",
     "text": [
      "Val-Acc=0.016004742145820983\n"
     ]
    },
    {
     "data": {
      "application/vnd.jupyter.widget-view+json": {
       "model_id": "26b53c22a51842e184d9c996f678b1d1",
       "version_major": 2,
       "version_minor": 0
      },
      "text/plain": [
       "HBox(children=(FloatProgress(value=1.0, bar_style='info', description='Training', layout=Layout(flex='2'), max…"
      ]
     },
     "metadata": {},
     "output_type": "display_data"
    },
    {
     "data": {
      "application/vnd.jupyter.widget-view+json": {
       "model_id": "",
       "version_major": 2,
       "version_minor": 0
      },
      "text/plain": [
       "HBox(children=(FloatProgress(value=1.0, bar_style='info', description='Validating', layout=Layout(flex='2'), m…"
      ]
     },
     "metadata": {},
     "output_type": "display_data"
    },
    {
     "name": "stdout",
     "output_type": "stream",
     "text": [
      "Val-Acc=0.7439241256668643\n",
      "Train-Acc=0.7452569169960475\n"
     ]
    },
    {
     "data": {
      "application/vnd.jupyter.widget-view+json": {
       "model_id": "",
       "version_major": 2,
       "version_minor": 0
      },
      "text/plain": [
       "HBox(children=(FloatProgress(value=1.0, bar_style='info', description='Validating', layout=Layout(flex='2'), m…"
      ]
     },
     "metadata": {},
     "output_type": "display_data"
    },
    {
     "name": "stdout",
     "output_type": "stream",
     "text": [
      "Val-Acc=0.7759336099585062\n",
      "Train-Acc=0.7656126482213439\n"
     ]
    },
    {
     "data": {
      "application/vnd.jupyter.widget-view+json": {
       "model_id": "",
       "version_major": 2,
       "version_minor": 0
      },
      "text/plain": [
       "HBox(children=(FloatProgress(value=1.0, bar_style='info', description='Validating', layout=Layout(flex='2'), m…"
      ]
     },
     "metadata": {},
     "output_type": "display_data"
    },
    {
     "name": "stdout",
     "output_type": "stream",
     "text": [
      "Val-Acc=0.5927682276229994\n",
      "Train-Acc=0.7804347826086957\n"
     ]
    },
    {
     "data": {
      "application/vnd.jupyter.widget-view+json": {
       "model_id": "",
       "version_major": 2,
       "version_minor": 0
      },
      "text/plain": [
       "HBox(children=(FloatProgress(value=1.0, bar_style='info', description='Validating', layout=Layout(flex='2'), m…"
      ]
     },
     "metadata": {},
     "output_type": "display_data"
    },
    {
     "name": "stdout",
     "output_type": "stream",
     "text": [
      "Val-Acc=0.6953171310017783\n",
      "Train-Acc=0.8029644268774704\n"
     ]
    },
    {
     "data": {
      "application/vnd.jupyter.widget-view+json": {
       "model_id": "",
       "version_major": 2,
       "version_minor": 0
      },
      "text/plain": [
       "HBox(children=(FloatProgress(value=1.0, bar_style='info', description='Validating', layout=Layout(flex='2'), m…"
      ]
     },
     "metadata": {},
     "output_type": "display_data"
    },
    {
     "name": "stdout",
     "output_type": "stream",
     "text": [
      "Val-Acc=0.7611144042679312\n",
      "Train-Acc=0.8175889328063242\n"
     ]
    },
    {
     "data": {
      "application/vnd.jupyter.widget-view+json": {
       "model_id": "",
       "version_major": 2,
       "version_minor": 0
      },
      "text/plain": [
       "HBox(children=(FloatProgress(value=1.0, bar_style='info', description='Validating', layout=Layout(flex='2'), m…"
      ]
     },
     "metadata": {},
     "output_type": "display_data"
    },
    {
     "name": "stdout",
     "output_type": "stream",
     "text": [
      "Val-Acc=0.6751630112625964\n",
      "Train-Acc=0.833596837944664\n"
     ]
    },
    {
     "data": {
      "application/vnd.jupyter.widget-view+json": {
       "model_id": "",
       "version_major": 2,
       "version_minor": 0
      },
      "text/plain": [
       "HBox(children=(FloatProgress(value=1.0, bar_style='info', description='Validating', layout=Layout(flex='2'), m…"
      ]
     },
     "metadata": {},
     "output_type": "display_data"
    },
    {
     "name": "stdout",
     "output_type": "stream",
     "text": [
      "Val-Acc=0.7575577949021932\n",
      "Train-Acc=0.8324110671936759\n"
     ]
    },
    {
     "data": {
      "application/vnd.jupyter.widget-view+json": {
       "model_id": "",
       "version_major": 2,
       "version_minor": 0
      },
      "text/plain": [
       "HBox(children=(FloatProgress(value=1.0, bar_style='info', description='Validating', layout=Layout(flex='2'), m…"
      ]
     },
     "metadata": {},
     "output_type": "display_data"
    },
    {
     "name": "stdout",
     "output_type": "stream",
     "text": [
      "Val-Acc=0.7972732661529343\n",
      "Train-Acc=0.8426877470355731\n"
     ]
    },
    {
     "data": {
      "application/vnd.jupyter.widget-view+json": {
       "model_id": "",
       "version_major": 2,
       "version_minor": 0
      },
      "text/plain": [
       "HBox(children=(FloatProgress(value=1.0, bar_style='info', description='Validating', layout=Layout(flex='2'), m…"
      ]
     },
     "metadata": {},
     "output_type": "display_data"
    },
    {
     "name": "stdout",
     "output_type": "stream",
     "text": [
      "Val-Acc=0.7279193835210432\n",
      "Train-Acc=0.8407114624505929\n"
     ]
    },
    {
     "data": {
      "application/vnd.jupyter.widget-view+json": {
       "model_id": "",
       "version_major": 2,
       "version_minor": 0
      },
      "text/plain": [
       "HBox(children=(FloatProgress(value=1.0, bar_style='info', description='Validating', layout=Layout(flex='2'), m…"
      ]
     },
     "metadata": {},
     "output_type": "display_data"
    },
    {
     "name": "stdout",
     "output_type": "stream",
     "text": [
      "Val-Acc=0.8358032009484292\n",
      "Train-Acc=0.8547430830039525\n"
     ]
    },
    {
     "data": {
      "application/vnd.jupyter.widget-view+json": {
       "model_id": "",
       "version_major": 2,
       "version_minor": 0
      },
      "text/plain": [
       "HBox(children=(FloatProgress(value=1.0, bar_style='info', description='Validating', layout=Layout(flex='2'), m…"
      ]
     },
     "metadata": {},
     "output_type": "display_data"
    },
    {
     "name": "stdout",
     "output_type": "stream",
     "text": [
      "Val-Acc=0.8476585655008891\n",
      "Train-Acc=0.8519762845849802\n"
     ]
    },
    {
     "data": {
      "application/vnd.jupyter.widget-view+json": {
       "model_id": "",
       "version_major": 2,
       "version_minor": 0
      },
      "text/plain": [
       "HBox(children=(FloatProgress(value=1.0, bar_style='info', description='Validating', layout=Layout(flex='2'), m…"
      ]
     },
     "metadata": {},
     "output_type": "display_data"
    },
    {
     "name": "stdout",
     "output_type": "stream",
     "text": [
      "Val-Acc=0.7824540604623592\n",
      "Train-Acc=0.8549407114624505\n"
     ]
    },
    {
     "data": {
      "application/vnd.jupyter.widget-view+json": {
       "model_id": "",
       "version_major": 2,
       "version_minor": 0
      },
      "text/plain": [
       "HBox(children=(FloatProgress(value=1.0, bar_style='info', description='Validating', layout=Layout(flex='2'), m…"
      ]
     },
     "metadata": {},
     "output_type": "display_data"
    },
    {
     "name": "stdout",
     "output_type": "stream",
     "text": [
      "Val-Acc=0.7705986959098993\n",
      "Train-Acc=0.8606719367588933\n"
     ]
    },
    {
     "data": {
      "application/vnd.jupyter.widget-view+json": {
       "model_id": "",
       "version_major": 2,
       "version_minor": 0
      },
      "text/plain": [
       "HBox(children=(FloatProgress(value=1.0, bar_style='info', description='Validating', layout=Layout(flex='2'), m…"
      ]
     },
     "metadata": {},
     "output_type": "display_data"
    },
    {
     "name": "stdout",
     "output_type": "stream",
     "text": [
      "Val-Acc=0.7972732661529343\n",
      "Train-Acc=0.8614624505928854\n"
     ]
    },
    {
     "data": {
      "application/vnd.jupyter.widget-view+json": {
       "model_id": "",
       "version_major": 2,
       "version_minor": 0
      },
      "text/plain": [
       "HBox(children=(FloatProgress(value=1.0, bar_style='info', description='Validating', layout=Layout(flex='2'), m…"
      ]
     },
     "metadata": {},
     "output_type": "display_data"
    },
    {
     "name": "stdout",
     "output_type": "stream",
     "text": [
      "Val-Acc=0.7302904564315352\n",
      "Train-Acc=0.8618577075098814\n"
     ]
    },
    {
     "data": {
      "application/vnd.jupyter.widget-view+json": {
       "model_id": "",
       "version_major": 2,
       "version_minor": 0
      },
      "text/plain": [
       "HBox(children=(FloatProgress(value=1.0, bar_style='info', description='Validating', layout=Layout(flex='2'), m…"
      ]
     },
     "metadata": {},
     "output_type": "display_data"
    },
    {
     "name": "stdout",
     "output_type": "stream",
     "text": [
      "Val-Acc=0.8002371072910492\n",
      "Train-Acc=0.8695652173913043\n"
     ]
    },
    {
     "data": {
      "application/vnd.jupyter.widget-view+json": {
       "model_id": "",
       "version_major": 2,
       "version_minor": 0
      },
      "text/plain": [
       "HBox(children=(FloatProgress(value=1.0, bar_style='info', description='Validating', layout=Layout(flex='2'), m…"
      ]
     },
     "metadata": {},
     "output_type": "display_data"
    },
    {
     "name": "stdout",
     "output_type": "stream",
     "text": [
      "Val-Acc=0.7800829875518672\n",
      "Train-Acc=0.8729249011857707\n"
     ]
    },
    {
     "data": {
      "application/vnd.jupyter.widget-view+json": {
       "model_id": "",
       "version_major": 2,
       "version_minor": 0
      },
      "text/plain": [
       "HBox(children=(FloatProgress(value=1.0, bar_style='info', description='Validating', layout=Layout(flex='2'), m…"
      ]
     },
     "metadata": {},
     "output_type": "display_data"
    },
    {
     "name": "stdout",
     "output_type": "stream",
     "text": [
      "Val-Acc=0.7877889745109662\n",
      "Train-Acc=0.8717391304347826\n"
     ]
    },
    {
     "data": {
      "application/vnd.jupyter.widget-view+json": {
       "model_id": "",
       "version_major": 2,
       "version_minor": 0
      },
      "text/plain": [
       "HBox(children=(FloatProgress(value=1.0, bar_style='info', description='Validating', layout=Layout(flex='2'), m…"
      ]
     },
     "metadata": {},
     "output_type": "display_data"
    },
    {
     "name": "stdout",
     "output_type": "stream",
     "text": [
      "Val-Acc=0.7895672791938352\n",
      "Train-Acc=0.8756916996047431\n"
     ]
    },
    {
     "data": {
      "application/vnd.jupyter.widget-view+json": {
       "model_id": "",
       "version_major": 2,
       "version_minor": 0
      },
      "text/plain": [
       "HBox(children=(FloatProgress(value=1.0, bar_style='info', description='Validating', layout=Layout(flex='2'), m…"
      ]
     },
     "metadata": {},
     "output_type": "display_data"
    },
    {
     "name": "stdout",
     "output_type": "stream",
     "text": [
      "Val-Acc=0.7931238885595732\n",
      "Train-Acc=0.8725296442687747\n",
      "\n",
      "Saved model to \"saved_modelsq/72.p\"\n"
     ]
    },
    {
     "name": "stderr",
     "output_type": "stream",
     "text": [
      "[I 2020-07-20 20:11:22,252] Finished trial#72 with value: 0.7931238885595732 with parameters: {'learning_rate': 0.003242986192604936, 'p_drop': 0.05432587656111207, 'lr_decay': 0.773352375289431, 'n_hidden': 869, 'weight_decay': 0.006496788463776257}. Best is trial#17 with value: 0.8707765263781861.\n",
      "GPU available: True, used: True\n",
      "No environment variable for node rank defined. Set as 0.\n",
      "CUDA_VISIBLE_DEVICES: [0]\n",
      "Set SLURM handle signals.\n",
      "\n",
      "   | Name           | Type          | Params\n",
      "---------------------------------------------\n",
      "0  | model          | AblationModel | 191 K \n",
      "1  | model.convs    | Sequential    | 114 K \n",
      "2  | model.convs.0  | BatchNorm2d   | 2     \n",
      "3  | model.convs.1  | Conv2d        | 1 K   \n",
      "4  | model.convs.2  | BatchNorm2d   | 20    \n",
      "5  | model.convs.3  | PReLU         | 1     \n",
      "6  | model.convs.4  | MaxPool2d     | 0     \n",
      "7  | model.convs.5  | Dropout       | 0     \n",
      "8  | model.convs.6  | Conv2d        | 20 K  \n",
      "9  | model.convs.7  | BatchNorm2d   | 40    \n",
      "10 | model.convs.8  | PReLU         | 1     \n",
      "11 | model.convs.9  | MaxPool2d     | 0     \n",
      "12 | model.convs.10 | Dropout       | 0     \n",
      "13 | model.convs.11 | Conv2d        | 80 K  \n",
      "14 | model.convs.12 | BatchNorm2d   | 80    \n",
      "15 | model.convs.13 | PReLU         | 1     \n",
      "16 | model.convs.14 | MaxPool2d     | 0     \n",
      "17 | model.convs.15 | Dropout       | 0     \n",
      "18 | model.convs.16 | Conv2d        | 12 K  \n",
      "19 | model.convs.17 | BatchNorm2d   | 160   \n",
      "20 | model.convs.18 | PReLU         | 1     \n",
      "21 | model.convs.19 | MaxPool2d     | 0     \n",
      "22 | model.convs.20 | Dropout       | 0     \n",
      "23 | model.dense    | Sequential    | 77 K  \n",
      "24 | model.dense.0  | Linear        | 75 K  \n",
      "25 | model.dense.1  | PReLU         | 1     \n",
      "26 | model.dense.2  | Dropout       | 0     \n",
      "27 | model.dense.3  | Linear        | 1 K   \n"
     ]
    },
    {
     "data": {
      "application/vnd.jupyter.widget-view+json": {
       "model_id": "",
       "version_major": 2,
       "version_minor": 0
      },
      "text/plain": [
       "HBox(children=(FloatProgress(value=1.0, bar_style='info', description='Validation sanity check', layout=Layout…"
      ]
     },
     "metadata": {},
     "output_type": "display_data"
    },
    {
     "name": "stdout",
     "output_type": "stream",
     "text": [
      "Val-Acc=0.018375815056312982\n"
     ]
    },
    {
     "data": {
      "application/vnd.jupyter.widget-view+json": {
       "model_id": "b394805550db4071a183527bfa142413",
       "version_major": 2,
       "version_minor": 0
      },
      "text/plain": [
       "HBox(children=(FloatProgress(value=1.0, bar_style='info', description='Training', layout=Layout(flex='2'), max…"
      ]
     },
     "metadata": {},
     "output_type": "display_data"
    },
    {
     "data": {
      "application/vnd.jupyter.widget-view+json": {
       "model_id": "",
       "version_major": 2,
       "version_minor": 0
      },
      "text/plain": [
       "HBox(children=(FloatProgress(value=1.0, bar_style='info', description='Validating', layout=Layout(flex='2'), m…"
      ]
     },
     "metadata": {},
     "output_type": "display_data"
    },
    {
     "name": "stdout",
     "output_type": "stream",
     "text": [
      "Val-Acc=0.7350326022525193\n",
      "Train-Acc=0.7351778656126482\n"
     ]
    },
    {
     "data": {
      "application/vnd.jupyter.widget-view+json": {
       "model_id": "",
       "version_major": 2,
       "version_minor": 0
      },
      "text/plain": [
       "HBox(children=(FloatProgress(value=1.0, bar_style='info', description='Validating', layout=Layout(flex='2'), m…"
      ]
     },
     "metadata": {},
     "output_type": "display_data"
    },
    {
     "name": "stdout",
     "output_type": "stream",
     "text": [
      "Val-Acc=0.7314759928867812\n"
     ]
    },
    {
     "name": "stderr",
     "output_type": "stream",
     "text": [
      "[I 2020-07-20 20:11:39,377] Setting status of trial#73 as TrialState.PRUNED. Trial was pruned at epoch 1.\n",
      "GPU available: True, used: True\n",
      "No environment variable for node rank defined. Set as 0.\n",
      "CUDA_VISIBLE_DEVICES: [0]\n",
      "Set SLURM handle signals.\n",
      "\n",
      "   | Name           | Type          | Params\n",
      "---------------------------------------------\n",
      "0  | model          | AblationModel | 188 K \n",
      "1  | model.convs    | Sequential    | 114 K \n",
      "2  | model.convs.0  | BatchNorm2d   | 2     \n",
      "3  | model.convs.1  | Conv2d        | 1 K   \n",
      "4  | model.convs.2  | BatchNorm2d   | 20    \n",
      "5  | model.convs.3  | PReLU         | 1     \n",
      "6  | model.convs.4  | MaxPool2d     | 0     \n",
      "7  | model.convs.5  | Dropout       | 0     \n",
      "8  | model.convs.6  | Conv2d        | 20 K  \n",
      "9  | model.convs.7  | BatchNorm2d   | 40    \n",
      "10 | model.convs.8  | PReLU         | 1     \n",
      "11 | model.convs.9  | MaxPool2d     | 0     \n",
      "12 | model.convs.10 | Dropout       | 0     \n",
      "13 | model.convs.11 | Conv2d        | 80 K  \n",
      "14 | model.convs.12 | BatchNorm2d   | 80    \n",
      "15 | model.convs.13 | PReLU         | 1     \n",
      "16 | model.convs.14 | MaxPool2d     | 0     \n",
      "17 | model.convs.15 | Dropout       | 0     \n",
      "18 | model.convs.16 | Conv2d        | 12 K  \n",
      "19 | model.convs.17 | BatchNorm2d   | 160   \n",
      "20 | model.convs.18 | PReLU         | 1     \n",
      "21 | model.convs.19 | MaxPool2d     | 0     \n",
      "22 | model.convs.20 | Dropout       | 0     \n",
      "23 | model.dense    | Sequential    | 74 K  \n",
      "24 | model.dense.0  | Linear        | 72 K  \n",
      "25 | model.dense.1  | PReLU         | 1     \n",
      "26 | model.dense.2  | Dropout       | 0     \n",
      "27 | model.dense.3  | Linear        | 1 K   \n"
     ]
    },
    {
     "data": {
      "application/vnd.jupyter.widget-view+json": {
       "model_id": "",
       "version_major": 2,
       "version_minor": 0
      },
      "text/plain": [
       "HBox(children=(FloatProgress(value=1.0, bar_style='info', description='Validation sanity check', layout=Layout…"
      ]
     },
     "metadata": {},
     "output_type": "display_data"
    },
    {
     "name": "stdout",
     "output_type": "stream",
     "text": [
      "Val-Acc=0.022525192649673977\n"
     ]
    },
    {
     "data": {
      "application/vnd.jupyter.widget-view+json": {
       "model_id": "55e36cbe42b645e9a10d80ee7b8fe560",
       "version_major": 2,
       "version_minor": 0
      },
      "text/plain": [
       "HBox(children=(FloatProgress(value=1.0, bar_style='info', description='Training', layout=Layout(flex='2'), max…"
      ]
     },
     "metadata": {},
     "output_type": "display_data"
    },
    {
     "data": {
      "application/vnd.jupyter.widget-view+json": {
       "model_id": "",
       "version_major": 2,
       "version_minor": 0
      },
      "text/plain": [
       "HBox(children=(FloatProgress(value=1.0, bar_style='info', description='Validating', layout=Layout(flex='2'), m…"
      ]
     },
     "metadata": {},
     "output_type": "display_data"
    },
    {
     "name": "stdout",
     "output_type": "stream",
     "text": [
      "Val-Acc=0.7581505631298162\n",
      "Train-Acc=0.7486166007905138\n"
     ]
    },
    {
     "data": {
      "application/vnd.jupyter.widget-view+json": {
       "model_id": "",
       "version_major": 2,
       "version_minor": 0
      },
      "text/plain": [
       "HBox(children=(FloatProgress(value=1.0, bar_style='info', description='Validating', layout=Layout(flex='2'), m…"
      ]
     },
     "metadata": {},
     "output_type": "display_data"
    },
    {
     "name": "stdout",
     "output_type": "stream",
     "text": [
      "Val-Acc=0.7949021932424422\n",
      "Train-Acc=0.7887351778656126\n"
     ]
    },
    {
     "data": {
      "application/vnd.jupyter.widget-view+json": {
       "model_id": "",
       "version_major": 2,
       "version_minor": 0
      },
      "text/plain": [
       "HBox(children=(FloatProgress(value=1.0, bar_style='info', description='Validating', layout=Layout(flex='2'), m…"
      ]
     },
     "metadata": {},
     "output_type": "display_data"
    },
    {
     "name": "stdout",
     "output_type": "stream",
     "text": [
      "Val-Acc=0.7705986959098993\n",
      "Train-Acc=0.8150197628458498\n"
     ]
    },
    {
     "data": {
      "application/vnd.jupyter.widget-view+json": {
       "model_id": "",
       "version_major": 2,
       "version_minor": 0
      },
      "text/plain": [
       "HBox(children=(FloatProgress(value=1.0, bar_style='info', description='Validating', layout=Layout(flex='2'), m…"
      ]
     },
     "metadata": {},
     "output_type": "display_data"
    },
    {
     "name": "stdout",
     "output_type": "stream",
     "text": [
      "Val-Acc=0.8186129223473622\n",
      "Train-Acc=0.8203557312252965\n"
     ]
    },
    {
     "data": {
      "application/vnd.jupyter.widget-view+json": {
       "model_id": "",
       "version_major": 2,
       "version_minor": 0
      },
      "text/plain": [
       "HBox(children=(FloatProgress(value=1.0, bar_style='info', description='Validating', layout=Layout(flex='2'), m…"
      ]
     },
     "metadata": {},
     "output_type": "display_data"
    },
    {
     "name": "stdout",
     "output_type": "stream",
     "text": [
      "Val-Acc=0.8263189093064611\n",
      "Train-Acc=0.8225296442687747\n"
     ]
    },
    {
     "data": {
      "application/vnd.jupyter.widget-view+json": {
       "model_id": "",
       "version_major": 2,
       "version_minor": 0
      },
      "text/plain": [
       "HBox(children=(FloatProgress(value=1.0, bar_style='info', description='Validating', layout=Layout(flex='2'), m…"
      ]
     },
     "metadata": {},
     "output_type": "display_data"
    },
    {
     "name": "stdout",
     "output_type": "stream",
     "text": [
      "Val-Acc=0.7765263781861292\n",
      "Train-Acc=0.8262845849802372\n"
     ]
    },
    {
     "name": "stderr",
     "output_type": "stream",
     "text": [
      "IOPub message rate exceeded.\n",
      "The notebook server will temporarily stop sending output\n",
      "to the client in order to avoid crashing it.\n",
      "To change this limit, set the config variable\n",
      "`--NotebookApp.iopub_msg_rate_limit`.\n",
      "\n",
      "Current values:\n",
      "NotebookApp.iopub_msg_rate_limit=1000.0 (msgs/sec)\n",
      "NotebookApp.rate_limit_window=3.0 (secs)\n",
      "\n"
     ]
    },
    {
     "data": {
      "application/vnd.jupyter.widget-view+json": {
       "model_id": "",
       "version_major": 2,
       "version_minor": 0
      },
      "text/plain": [
       "HBox(children=(FloatProgress(value=1.0, bar_style='info', description='Validating', layout=Layout(flex='2'), m…"
      ]
     },
     "metadata": {},
     "output_type": "display_data"
    },
    {
     "name": "stdout",
     "output_type": "stream",
     "text": [
      "Val-Acc=0.8168346176644932\n",
      "Train-Acc=0.8367588932806325\n"
     ]
    },
    {
     "data": {
      "application/vnd.jupyter.widget-view+json": {
       "model_id": "",
       "version_major": 2,
       "version_minor": 0
      },
      "text/plain": [
       "HBox(children=(FloatProgress(value=1.0, bar_style='info', description='Validating', layout=Layout(flex='2'), m…"
      ]
     },
     "metadata": {},
     "output_type": "display_data"
    },
    {
     "name": "stdout",
     "output_type": "stream",
     "text": [
      "Val-Acc=0.7925311203319502\n",
      "Train-Acc=0.8446640316205534\n"
     ]
    },
    {
     "data": {
      "application/vnd.jupyter.widget-view+json": {
       "model_id": "",
       "version_major": 2,
       "version_minor": 0
      },
      "text/plain": [
       "HBox(children=(FloatProgress(value=1.0, bar_style='info', description='Validating', layout=Layout(flex='2'), m…"
      ]
     },
     "metadata": {},
     "output_type": "display_data"
    },
    {
     "name": "stdout",
     "output_type": "stream",
     "text": [
      "Val-Acc=0.7883817427385892\n",
      "Train-Acc=0.8551383399209486\n"
     ]
    },
    {
     "data": {
      "application/vnd.jupyter.widget-view+json": {
       "model_id": "",
       "version_major": 2,
       "version_minor": 0
      },
      "text/plain": [
       "HBox(children=(FloatProgress(value=1.0, bar_style='info', description='Validating', layout=Layout(flex='2'), m…"
      ]
     },
     "metadata": {},
     "output_type": "display_data"
    },
    {
     "name": "stdout",
     "output_type": "stream",
     "text": [
      "Val-Acc=0.7984588026081803\n",
      "Train-Acc=0.8446640316205534\n"
     ]
    },
    {
     "data": {
      "application/vnd.jupyter.widget-view+json": {
       "model_id": "",
       "version_major": 2,
       "version_minor": 0
      },
      "text/plain": [
       "HBox(children=(FloatProgress(value=1.0, bar_style='info', description='Validating', layout=Layout(flex='2'), m…"
      ]
     },
     "metadata": {},
     "output_type": "display_data"
    },
    {
     "name": "stdout",
     "output_type": "stream",
     "text": [
      "Val-Acc=0.7913455838767042\n",
      "Train-Acc=0.85\n"
     ]
    },
    {
     "data": {
      "application/vnd.jupyter.widget-view+json": {
       "model_id": "",
       "version_major": 2,
       "version_minor": 0
      },
      "text/plain": [
       "HBox(children=(FloatProgress(value=1.0, bar_style='info', description='Validating', layout=Layout(flex='2'), m…"
      ]
     },
     "metadata": {},
     "output_type": "display_data"
    },
    {
     "name": "stdout",
     "output_type": "stream",
     "text": [
      "Val-Acc=0.8150563129816242\n",
      "Train-Acc=0.8557312252964426\n"
     ]
    },
    {
     "data": {
      "application/vnd.jupyter.widget-view+json": {
       "model_id": "",
       "version_major": 2,
       "version_minor": 0
      },
      "text/plain": [
       "HBox(children=(FloatProgress(value=1.0, bar_style='info', description='Validating', layout=Layout(flex='2'), m…"
      ]
     },
     "metadata": {},
     "output_type": "display_data"
    },
    {
     "name": "stdout",
     "output_type": "stream",
     "text": [
      "Val-Acc=0.7960877296976882\n",
      "Train-Acc=0.8525691699604743\n"
     ]
    },
    {
     "data": {
      "application/vnd.jupyter.widget-view+json": {
       "model_id": "",
       "version_major": 2,
       "version_minor": 0
      },
      "text/plain": [
       "HBox(children=(FloatProgress(value=1.0, bar_style='info', description='Validating', layout=Layout(flex='2'), m…"
      ]
     },
     "metadata": {},
     "output_type": "display_data"
    },
    {
     "name": "stdout",
     "output_type": "stream",
     "text": [
      "Val-Acc=0.8174273858921162\n",
      "Train-Acc=0.8539525691699604\n"
     ]
    },
    {
     "data": {
      "application/vnd.jupyter.widget-view+json": {
       "model_id": "",
       "version_major": 2,
       "version_minor": 0
      },
      "text/plain": [
       "HBox(children=(FloatProgress(value=1.0, bar_style='info', description='Validating', layout=Layout(flex='2'), m…"
      ]
     },
     "metadata": {},
     "output_type": "display_data"
    },
    {
     "name": "stdout",
     "output_type": "stream",
     "text": [
      "Val-Acc=0.8114997036158862\n",
      "Train-Acc=0.8519762845849802\n"
     ]
    },
    {
     "data": {
      "application/vnd.jupyter.widget-view+json": {
       "model_id": "",
       "version_major": 2,
       "version_minor": 0
      },
      "text/plain": [
       "HBox(children=(FloatProgress(value=1.0, bar_style='info', description='Validating', layout=Layout(flex='2'), m…"
      ]
     },
     "metadata": {},
     "output_type": "display_data"
    },
    {
     "name": "stdout",
     "output_type": "stream",
     "text": [
      "Val-Acc=0.8103141671606402\n",
      "Train-Acc=0.8559288537549408\n"
     ]
    },
    {
     "data": {
      "application/vnd.jupyter.widget-view+json": {
       "model_id": "",
       "version_major": 2,
       "version_minor": 0
      },
      "text/plain": [
       "HBox(children=(FloatProgress(value=1.0, bar_style='info', description='Validating', layout=Layout(flex='2'), m…"
      ]
     },
     "metadata": {},
     "output_type": "display_data"
    },
    {
     "name": "stdout",
     "output_type": "stream",
     "text": [
      "Val-Acc=0.8055720213396562\n",
      "Train-Acc=0.8565217391304348\n"
     ]
    },
    {
     "data": {
      "application/vnd.jupyter.widget-view+json": {
       "model_id": "",
       "version_major": 2,
       "version_minor": 0
      },
      "text/plain": [
       "HBox(children=(FloatProgress(value=1.0, bar_style='info', description='Validating', layout=Layout(flex='2'), m…"
      ]
     },
     "metadata": {},
     "output_type": "display_data"
    },
    {
     "name": "stdout",
     "output_type": "stream",
     "text": [
      "Val-Acc=0.8085358624777712\n",
      "Train-Acc=0.8555335968379446\n",
      "\n",
      "Saved model to \"saved_modelsq/74.p\"\n"
     ]
    },
    {
     "name": "stderr",
     "output_type": "stream",
     "text": [
      "[I 2020-07-20 20:14:50,482] Finished trial#74 with value: 0.8085358624777712 with parameters: {'learning_rate': 0.0007257578891285577, 'p_drop': 0.08291111020978734, 'lr_decay': 0.7392767744583119, 'n_hidden': 893, 'weight_decay': 0.011213930238762729}. Best is trial#17 with value: 0.8707765263781861.\n",
      "GPU available: True, used: True\n",
      "No environment variable for node rank defined. Set as 0.\n",
      "CUDA_VISIBLE_DEVICES: [0]\n",
      "Set SLURM handle signals.\n",
      "\n",
      "   | Name           | Type          | Params\n",
      "---------------------------------------------\n",
      "0  | model          | AblationModel | 184 K \n",
      "1  | model.convs    | Sequential    | 114 K \n",
      "2  | model.convs.0  | BatchNorm2d   | 2     \n",
      "3  | model.convs.1  | Conv2d        | 1 K   \n",
      "4  | model.convs.2  | BatchNorm2d   | 20    \n",
      "5  | model.convs.3  | PReLU         | 1     \n",
      "6  | model.convs.4  | MaxPool2d     | 0     \n",
      "7  | model.convs.5  | Dropout       | 0     \n",
      "8  | model.convs.6  | Conv2d        | 20 K  \n",
      "9  | model.convs.7  | BatchNorm2d   | 40    \n",
      "10 | model.convs.8  | PReLU         | 1     \n",
      "11 | model.convs.9  | MaxPool2d     | 0     \n",
      "12 | model.convs.10 | Dropout       | 0     \n",
      "13 | model.convs.11 | Conv2d        | 80 K  \n",
      "14 | model.convs.12 | BatchNorm2d   | 80    \n",
      "15 | model.convs.13 | PReLU         | 1     \n",
      "16 | model.convs.14 | MaxPool2d     | 0     \n",
      "17 | model.convs.15 | Dropout       | 0     \n",
      "18 | model.convs.16 | Conv2d        | 12 K  \n",
      "19 | model.convs.17 | BatchNorm2d   | 160   \n",
      "20 | model.convs.18 | PReLU         | 1     \n",
      "21 | model.convs.19 | MaxPool2d     | 0     \n",
      "22 | model.convs.20 | Dropout       | 0     \n",
      "23 | model.dense    | Sequential    | 69 K  \n",
      "24 | model.dense.0  | Linear        | 68 K  \n",
      "25 | model.dense.1  | PReLU         | 1     \n",
      "26 | model.dense.2  | Dropout       | 0     \n",
      "27 | model.dense.3  | Linear        | 1 K   \n"
     ]
    },
    {
     "data": {
      "application/vnd.jupyter.widget-view+json": {
       "model_id": "",
       "version_major": 2,
       "version_minor": 0
      },
      "text/plain": [
       "HBox(children=(FloatProgress(value=1.0, bar_style='info', description='Validation sanity check', layout=Layout…"
      ]
     },
     "metadata": {},
     "output_type": "display_data"
    },
    {
     "name": "stdout",
     "output_type": "stream",
     "text": [
      "Val-Acc=0.02133965619442798\n"
     ]
    },
    {
     "data": {
      "application/vnd.jupyter.widget-view+json": {
       "model_id": "6174c7761bb74ae9aedd70dd7f14a874",
       "version_major": 2,
       "version_minor": 0
      },
      "text/plain": [
       "HBox(children=(FloatProgress(value=1.0, bar_style='info', description='Training', layout=Layout(flex='2'), max…"
      ]
     },
     "metadata": {},
     "output_type": "display_data"
    },
    {
     "data": {
      "application/vnd.jupyter.widget-view+json": {
       "model_id": "",
       "version_major": 2,
       "version_minor": 0
      },
      "text/plain": [
       "HBox(children=(FloatProgress(value=1.0, bar_style='info', description='Validating', layout=Layout(flex='2'), m…"
      ]
     },
     "metadata": {},
     "output_type": "display_data"
    },
    {
     "name": "stdout",
     "output_type": "stream",
     "text": [
      "Val-Acc=0.6804979253112033\n",
      "Train-Acc=0.7519762845849802\n"
     ]
    },
    {
     "data": {
      "application/vnd.jupyter.widget-view+json": {
       "model_id": "",
       "version_major": 2,
       "version_minor": 0
      },
      "text/plain": [
       "HBox(children=(FloatProgress(value=1.0, bar_style='info', description='Validating', layout=Layout(flex='2'), m…"
      ]
     },
     "metadata": {},
     "output_type": "display_data"
    },
    {
     "name": "stdout",
     "output_type": "stream",
     "text": [
      "Val-Acc=0.7966804979253111\n",
      "Train-Acc=0.7968379446640316\n"
     ]
    },
    {
     "data": {
      "application/vnd.jupyter.widget-view+json": {
       "model_id": "",
       "version_major": 2,
       "version_minor": 0
      },
      "text/plain": [
       "HBox(children=(FloatProgress(value=1.0, bar_style='info', description='Validating', layout=Layout(flex='2'), m…"
      ]
     },
     "metadata": {},
     "output_type": "display_data"
    },
    {
     "name": "stdout",
     "output_type": "stream",
     "text": [
      "Val-Acc=0.7664493183165383\n",
      "Train-Acc=0.7422924901185771\n"
     ]
    },
    {
     "data": {
      "application/vnd.jupyter.widget-view+json": {
       "model_id": "",
       "version_major": 2,
       "version_minor": 0
      },
      "text/plain": [
       "HBox(children=(FloatProgress(value=1.0, bar_style='info', description='Validating', layout=Layout(flex='2'), m…"
      ]
     },
     "metadata": {},
     "output_type": "display_data"
    },
    {
     "name": "stdout",
     "output_type": "stream",
     "text": [
      "Val-Acc=0.7433313574392413\n",
      "Train-Acc=0.7851778656126482\n"
     ]
    },
    {
     "data": {
      "application/vnd.jupyter.widget-view+json": {
       "model_id": "",
       "version_major": 2,
       "version_minor": 0
      },
      "text/plain": [
       "HBox(children=(FloatProgress(value=1.0, bar_style='info', description='Validating', layout=Layout(flex='2'), m…"
      ]
     },
     "metadata": {},
     "output_type": "display_data"
    },
    {
     "name": "stdout",
     "output_type": "stream",
     "text": [
      "Val-Acc=0.7178423236514523\n",
      "Train-Acc=0.7946640316205533\n"
     ]
    },
    {
     "data": {
      "application/vnd.jupyter.widget-view+json": {
       "model_id": "",
       "version_major": 2,
       "version_minor": 0
      },
      "text/plain": [
       "HBox(children=(FloatProgress(value=1.0, bar_style='info', description='Validating', layout=Layout(flex='2'), m…"
      ]
     },
     "metadata": {},
     "output_type": "display_data"
    },
    {
     "name": "stdout",
     "output_type": "stream",
     "text": [
      "Val-Acc=0.7830468286899822\n",
      "Train-Acc=0.8088932806324111\n"
     ]
    },
    {
     "data": {
      "application/vnd.jupyter.widget-view+json": {
       "model_id": "",
       "version_major": 2,
       "version_minor": 0
      },
      "text/plain": [
       "HBox(children=(FloatProgress(value=1.0, bar_style='info', description='Validating', layout=Layout(flex='2'), m…"
      ]
     },
     "metadata": {},
     "output_type": "display_data"
    },
    {
     "name": "stdout",
     "output_type": "stream",
     "text": [
      "Val-Acc=0.7688203912270303\n",
      "Train-Acc=0.8154150197628458\n"
     ]
    },
    {
     "data": {
      "application/vnd.jupyter.widget-view+json": {
       "model_id": "",
       "version_major": 2,
       "version_minor": 0
      },
      "text/plain": [
       "HBox(children=(FloatProgress(value=1.0, bar_style='info', description='Validating', layout=Layout(flex='2'), m…"
      ]
     },
     "metadata": {},
     "output_type": "display_data"
    },
    {
     "name": "stdout",
     "output_type": "stream",
     "text": [
      "Val-Acc=0.8043864848844102\n",
      "Train-Acc=0.8203557312252965\n"
     ]
    },
    {
     "data": {
      "application/vnd.jupyter.widget-view+json": {
       "model_id": "",
       "version_major": 2,
       "version_minor": 0
      },
      "text/plain": [
       "HBox(children=(FloatProgress(value=1.0, bar_style='info', description='Validating', layout=Layout(flex='2'), m…"
      ]
     },
     "metadata": {},
     "output_type": "display_data"
    },
    {
     "name": "stdout",
     "output_type": "stream",
     "text": [
      "Val-Acc=0.8286899822169532\n",
      "Train-Acc=0.824901185770751\n"
     ]
    },
    {
     "data": {
      "application/vnd.jupyter.widget-view+json": {
       "model_id": "",
       "version_major": 2,
       "version_minor": 0
      },
      "text/plain": [
       "HBox(children=(FloatProgress(value=1.0, bar_style='info', description='Validating', layout=Layout(flex='2'), m…"
      ]
     },
     "metadata": {},
     "output_type": "display_data"
    },
    {
     "name": "stdout",
     "output_type": "stream",
     "text": [
      "Val-Acc=0.7753408417308832\n",
      "Train-Acc=0.8286561264822134\n"
     ]
    },
    {
     "data": {
      "application/vnd.jupyter.widget-view+json": {
       "model_id": "",
       "version_major": 2,
       "version_minor": 0
      },
      "text/plain": [
       "HBox(children=(FloatProgress(value=1.0, bar_style='info', description='Validating', layout=Layout(flex='2'), m…"
      ]
     },
     "metadata": {},
     "output_type": "display_data"
    },
    {
     "name": "stdout",
     "output_type": "stream",
     "text": [
      "Val-Acc=0.8215767634854771\n",
      "Train-Acc=0.8310276679841897\n"
     ]
    },
    {
     "data": {
      "application/vnd.jupyter.widget-view+json": {
       "model_id": "",
       "version_major": 2,
       "version_minor": 0
      },
      "text/plain": [
       "HBox(children=(FloatProgress(value=1.0, bar_style='info', description='Validating', layout=Layout(flex='2'), m…"
      ]
     },
     "metadata": {},
     "output_type": "display_data"
    },
    {
     "name": "stdout",
     "output_type": "stream",
     "text": [
      "Val-Acc=0.7522228808535862\n",
      "Train-Acc=0.8361660079051383\n"
     ]
    },
    {
     "data": {
      "application/vnd.jupyter.widget-view+json": {
       "model_id": "",
       "version_major": 2,
       "version_minor": 0
      },
      "text/plain": [
       "HBox(children=(FloatProgress(value=1.0, bar_style='info', description='Validating', layout=Layout(flex='2'), m…"
      ]
     },
     "metadata": {},
     "output_type": "display_data"
    },
    {
     "name": "stdout",
     "output_type": "stream",
     "text": [
      "Val-Acc=0.8298755186721992\n",
      "Train-Acc=0.8401185770750988\n"
     ]
    },
    {
     "data": {
      "application/vnd.jupyter.widget-view+json": {
       "model_id": "",
       "version_major": 2,
       "version_minor": 0
      },
      "text/plain": [
       "HBox(children=(FloatProgress(value=1.0, bar_style='info', description='Validating', layout=Layout(flex='2'), m…"
      ]
     },
     "metadata": {},
     "output_type": "display_data"
    },
    {
     "name": "stdout",
     "output_type": "stream",
     "text": [
      "Val-Acc=0.8275044457617071\n",
      "Train-Acc=0.8365612648221344\n"
     ]
    },
    {
     "data": {
      "application/vnd.jupyter.widget-view+json": {
       "model_id": "",
       "version_major": 2,
       "version_minor": 0
      },
      "text/plain": [
       "HBox(children=(FloatProgress(value=1.0, bar_style='info', description='Validating', layout=Layout(flex='2'), m…"
      ]
     },
     "metadata": {},
     "output_type": "display_data"
    },
    {
     "name": "stdout",
     "output_type": "stream",
     "text": [
      "Val-Acc=0.7771191464137522\n",
      "Train-Acc=0.8343873517786561\n"
     ]
    },
    {
     "data": {
      "application/vnd.jupyter.widget-view+json": {
       "model_id": "",
       "version_major": 2,
       "version_minor": 0
      },
      "text/plain": [
       "HBox(children=(FloatProgress(value=1.0, bar_style='info', description='Validating', layout=Layout(flex='2'), m…"
      ]
     },
     "metadata": {},
     "output_type": "display_data"
    },
    {
     "name": "stdout",
     "output_type": "stream",
     "text": [
      "Val-Acc=0.7877889745109662\n",
      "Train-Acc=0.8424901185770751\n"
     ]
    },
    {
     "data": {
      "application/vnd.jupyter.widget-view+json": {
       "model_id": "",
       "version_major": 2,
       "version_minor": 0
      },
      "text/plain": [
       "HBox(children=(FloatProgress(value=1.0, bar_style='info', description='Validating', layout=Layout(flex='2'), m…"
      ]
     },
     "metadata": {},
     "output_type": "display_data"
    },
    {
     "name": "stdout",
     "output_type": "stream",
     "text": [
      "Val-Acc=0.7883817427385892\n",
      "Train-Acc=0.8482213438735178\n"
     ]
    },
    {
     "data": {
      "application/vnd.jupyter.widget-view+json": {
       "model_id": "",
       "version_major": 2,
       "version_minor": 0
      },
      "text/plain": [
       "HBox(children=(FloatProgress(value=1.0, bar_style='info', description='Validating', layout=Layout(flex='2'), m…"
      ]
     },
     "metadata": {},
     "output_type": "display_data"
    },
    {
     "name": "stdout",
     "output_type": "stream",
     "text": [
      "Val-Acc=0.8168346176644932\n",
      "Train-Acc=0.841304347826087\n"
     ]
    },
    {
     "data": {
      "application/vnd.jupyter.widget-view+json": {
       "model_id": "",
       "version_major": 2,
       "version_minor": 0
      },
      "text/plain": [
       "HBox(children=(FloatProgress(value=1.0, bar_style='info', description='Validating', layout=Layout(flex='2'), m…"
      ]
     },
     "metadata": {},
     "output_type": "display_data"
    },
    {
     "name": "stdout",
     "output_type": "stream",
     "text": [
      "Val-Acc=0.7806757557794902\n",
      "Train-Acc=0.8450592885375494\n"
     ]
    },
    {
     "data": {
      "application/vnd.jupyter.widget-view+json": {
       "model_id": "",
       "version_major": 2,
       "version_minor": 0
      },
      "text/plain": [
       "HBox(children=(FloatProgress(value=1.0, bar_style='info', description='Validating', layout=Layout(flex='2'), m…"
      ]
     },
     "metadata": {},
     "output_type": "display_data"
    },
    {
     "name": "stdout",
     "output_type": "stream",
     "text": [
      "Val-Acc=0.8316538233550682\n",
      "Train-Acc=0.8472332015810277\n"
     ]
    },
    {
     "data": {
      "application/vnd.jupyter.widget-view+json": {
       "model_id": "",
       "version_major": 2,
       "version_minor": 0
      },
      "text/plain": [
       "HBox(children=(FloatProgress(value=1.0, bar_style='info', description='Validating', layout=Layout(flex='2'), m…"
      ]
     },
     "metadata": {},
     "output_type": "display_data"
    },
    {
     "name": "stdout",
     "output_type": "stream",
     "text": [
      "Val-Acc=0.7741553052756373\n",
      "Train-Acc=0.8488142292490118\n"
     ]
    },
    {
     "data": {
      "application/vnd.jupyter.widget-view+json": {
       "model_id": "",
       "version_major": 2,
       "version_minor": 0
      },
      "text/plain": [
       "HBox(children=(FloatProgress(value=1.0, bar_style='info', description='Validating', layout=Layout(flex='2'), m…"
      ]
     },
     "metadata": {},
     "output_type": "display_data"
    },
    {
     "name": "stdout",
     "output_type": "stream",
     "text": [
      "Val-Acc=0.7777119146413752\n",
      "Train-Acc=0.8525691699604743\n",
      "\n",
      "Saved model to \"saved_modelsq/76.p\"\n"
     ]
    },
    {
     "name": "stderr",
     "output_type": "stream",
     "text": [
      "[I 2020-07-20 20:21:39,109] Finished trial#76 with value: 0.7777119146413752 with parameters: {'learning_rate': 0.00041121308812448276, 'p_drop': 0.28571691133117716, 'lr_decay': 0.8746773294048995, 'n_hidden': 790, 'weight_decay': 0.00782930040465634}. Best is trial#17 with value: 0.8707765263781861.\n",
      "GPU available: True, used: True\n",
      "No environment variable for node rank defined. Set as 0.\n",
      "CUDA_VISIBLE_DEVICES: [0]\n",
      "Set SLURM handle signals.\n",
      "\n",
      "   | Name           | Type          | Params\n",
      "---------------------------------------------\n",
      "0  | model          | AblationModel | 193 K \n",
      "1  | model.convs    | Sequential    | 114 K \n",
      "2  | model.convs.0  | BatchNorm2d   | 2     \n",
      "3  | model.convs.1  | Conv2d        | 1 K   \n",
      "4  | model.convs.2  | BatchNorm2d   | 20    \n",
      "5  | model.convs.3  | PReLU         | 1     \n",
      "6  | model.convs.4  | MaxPool2d     | 0     \n",
      "7  | model.convs.5  | Dropout       | 0     \n",
      "8  | model.convs.6  | Conv2d        | 20 K  \n",
      "9  | model.convs.7  | BatchNorm2d   | 40    \n",
      "10 | model.convs.8  | PReLU         | 1     \n",
      "11 | model.convs.9  | MaxPool2d     | 0     \n",
      "12 | model.convs.10 | Dropout       | 0     \n",
      "13 | model.convs.11 | Conv2d        | 80 K  \n",
      "14 | model.convs.12 | BatchNorm2d   | 80    \n",
      "15 | model.convs.13 | PReLU         | 1     \n",
      "16 | model.convs.14 | MaxPool2d     | 0     \n",
      "17 | model.convs.15 | Dropout       | 0     \n",
      "18 | model.convs.16 | Conv2d        | 12 K  \n",
      "19 | model.convs.17 | BatchNorm2d   | 160   \n",
      "20 | model.convs.18 | PReLU         | 1     \n",
      "21 | model.convs.19 | MaxPool2d     | 0     \n",
      "22 | model.convs.20 | Dropout       | 0     \n",
      "23 | model.dense    | Sequential    | 79 K  \n",
      "24 | model.dense.0  | Linear        | 77 K  \n",
      "25 | model.dense.1  | PReLU         | 1     \n",
      "26 | model.dense.2  | Dropout       | 0     \n",
      "27 | model.dense.3  | Linear        | 1 K   \n"
     ]
    },
    {
     "data": {
      "application/vnd.jupyter.widget-view+json": {
       "model_id": "",
       "version_major": 2,
       "version_minor": 0
      },
      "text/plain": [
       "HBox(children=(FloatProgress(value=1.0, bar_style='info', description='Validation sanity check', layout=Layout…"
      ]
     },
     "metadata": {},
     "output_type": "display_data"
    },
    {
     "name": "stdout",
     "output_type": "stream",
     "text": [
      "Val-Acc=0.02133965619442798\n"
     ]
    },
    {
     "data": {
      "application/vnd.jupyter.widget-view+json": {
       "model_id": "ae54cc8894e44ea49609cd8d6e0c7fd5",
       "version_major": 2,
       "version_minor": 0
      },
      "text/plain": [
       "HBox(children=(FloatProgress(value=1.0, bar_style='info', description='Training', layout=Layout(flex='2'), max…"
      ]
     },
     "metadata": {},
     "output_type": "display_data"
    },
    {
     "data": {
      "application/vnd.jupyter.widget-view+json": {
       "model_id": "",
       "version_major": 2,
       "version_minor": 0
      },
      "text/plain": [
       "HBox(children=(FloatProgress(value=1.0, bar_style='info', description='Validating', layout=Layout(flex='2'), m…"
      ]
     },
     "metadata": {},
     "output_type": "display_data"
    },
    {
     "name": "stdout",
     "output_type": "stream",
     "text": [
      "Val-Acc=0.7640782454060462\n",
      "Train-Acc=0.7567193675889328\n"
     ]
    },
    {
     "data": {
      "application/vnd.jupyter.widget-view+json": {
       "model_id": "",
       "version_major": 2,
       "version_minor": 0
      },
      "text/plain": [
       "HBox(children=(FloatProgress(value=1.0, bar_style='info', description='Validating', layout=Layout(flex='2'), m…"
      ]
     },
     "metadata": {},
     "output_type": "display_data"
    },
    {
     "name": "stdout",
     "output_type": "stream",
     "text": [
      "Val-Acc=0.7012448132780082\n",
      "Train-Acc=0.792094861660079\n"
     ]
    },
    {
     "data": {
      "application/vnd.jupyter.widget-view+json": {
       "model_id": "",
       "version_major": 2,
       "version_minor": 0
      },
      "text/plain": [
       "HBox(children=(FloatProgress(value=1.0, bar_style='info', description='Validating', layout=Layout(flex='2'), m…"
      ]
     },
     "metadata": {},
     "output_type": "display_data"
    },
    {
     "name": "stdout",
     "output_type": "stream",
     "text": [
      "Val-Acc=0.7125074096028453\n",
      "Train-Acc=0.8063241106719368\n"
     ]
    },
    {
     "data": {
      "application/vnd.jupyter.widget-view+json": {
       "model_id": "",
       "version_major": 2,
       "version_minor": 0
      },
      "text/plain": [
       "HBox(children=(FloatProgress(value=1.0, bar_style='info', description='Validating', layout=Layout(flex='2'), m…"
      ]
     },
     "metadata": {},
     "output_type": "display_data"
    },
    {
     "name": "stdout",
     "output_type": "stream",
     "text": [
      "Val-Acc=0.6834617664493183\n",
      "Train-Acc=0.8221343873517787\n"
     ]
    },
    {
     "data": {
      "application/vnd.jupyter.widget-view+json": {
       "model_id": "",
       "version_major": 2,
       "version_minor": 0
      },
      "text/plain": [
       "HBox(children=(FloatProgress(value=1.0, bar_style='info', description='Validating', layout=Layout(flex='2'), m…"
      ]
     },
     "metadata": {},
     "output_type": "display_data"
    },
    {
     "name": "stdout",
     "output_type": "stream",
     "text": [
      "Val-Acc=0.7504445761707172\n"
     ]
    },
    {
     "name": "stderr",
     "output_type": "stream",
     "text": [
      "[I 2020-07-20 20:22:22,943] Setting status of trial#77 as TrialState.PRUNED. Trial was pruned at epoch 4.\n",
      "GPU available: True, used: True\n",
      "No environment variable for node rank defined. Set as 0.\n",
      "CUDA_VISIBLE_DEVICES: [0]\n",
      "Set SLURM handle signals.\n",
      "\n",
      "   | Name           | Type          | Params\n",
      "---------------------------------------------\n",
      "0  | model          | AblationModel | 185 K \n",
      "1  | model.convs    | Sequential    | 114 K \n",
      "2  | model.convs.0  | BatchNorm2d   | 2     \n",
      "3  | model.convs.1  | Conv2d        | 1 K   \n",
      "4  | model.convs.2  | BatchNorm2d   | 20    \n",
      "5  | model.convs.3  | PReLU         | 1     \n",
      "6  | model.convs.4  | MaxPool2d     | 0     \n",
      "7  | model.convs.5  | Dropout       | 0     \n",
      "8  | model.convs.6  | Conv2d        | 20 K  \n",
      "9  | model.convs.7  | BatchNorm2d   | 40    \n",
      "10 | model.convs.8  | PReLU         | 1     \n",
      "11 | model.convs.9  | MaxPool2d     | 0     \n",
      "12 | model.convs.10 | Dropout       | 0     \n",
      "13 | model.convs.11 | Conv2d        | 80 K  \n",
      "14 | model.convs.12 | BatchNorm2d   | 80    \n",
      "15 | model.convs.13 | PReLU         | 1     \n",
      "16 | model.convs.14 | MaxPool2d     | 0     \n",
      "17 | model.convs.15 | Dropout       | 0     \n",
      "18 | model.convs.16 | Conv2d        | 12 K  \n",
      "19 | model.convs.17 | BatchNorm2d   | 160   \n",
      "20 | model.convs.18 | PReLU         | 1     \n",
      "21 | model.convs.19 | MaxPool2d     | 0     \n",
      "22 | model.convs.20 | Dropout       | 0     \n",
      "23 | model.dense    | Sequential    | 71 K  \n",
      "24 | model.dense.0  | Linear        | 69 K  \n",
      "25 | model.dense.1  | PReLU         | 1     \n",
      "26 | model.dense.2  | Dropout       | 0     \n",
      "27 | model.dense.3  | Linear        | 1 K   \n"
     ]
    },
    {
     "data": {
      "application/vnd.jupyter.widget-view+json": {
       "model_id": "",
       "version_major": 2,
       "version_minor": 0
      },
      "text/plain": [
       "HBox(children=(FloatProgress(value=1.0, bar_style='info', description='Validation sanity check', layout=Layout…"
      ]
     },
     "metadata": {},
     "output_type": "display_data"
    },
    {
     "name": "stdout",
     "output_type": "stream",
     "text": [
      "Val-Acc=0.02015411973918198\n"
     ]
    },
    {
     "data": {
      "application/vnd.jupyter.widget-view+json": {
       "model_id": "f148bbedeb8c4b1887f3e086de5eac21",
       "version_major": 2,
       "version_minor": 0
      },
      "text/plain": [
       "HBox(children=(FloatProgress(value=1.0, bar_style='info', description='Training', layout=Layout(flex='2'), max…"
      ]
     },
     "metadata": {},
     "output_type": "display_data"
    },
    {
     "data": {
      "application/vnd.jupyter.widget-view+json": {
       "model_id": "",
       "version_major": 2,
       "version_minor": 0
      },
      "text/plain": [
       "HBox(children=(FloatProgress(value=1.0, bar_style='info', description='Validating', layout=Layout(flex='2'), m…"
      ]
     },
     "metadata": {},
     "output_type": "display_data"
    },
    {
     "name": "stdout",
     "output_type": "stream",
     "text": [
      "Val-Acc=0.5263781861292235\n",
      "Train-Acc=0.6897233201581028\n"
     ]
    },
    {
     "data": {
      "application/vnd.jupyter.widget-view+json": {
       "model_id": "",
       "version_major": 2,
       "version_minor": 0
      },
      "text/plain": [
       "HBox(children=(FloatProgress(value=1.0, bar_style='info', description='Validating', layout=Layout(flex='2'), m…"
      ]
     },
     "metadata": {},
     "output_type": "display_data"
    },
    {
     "name": "stdout",
     "output_type": "stream",
     "text": [
      "Val-Acc=0.5951393005334914\n"
     ]
    },
    {
     "name": "stderr",
     "output_type": "stream",
     "text": [
      "[I 2020-07-20 20:22:41,791] Setting status of trial#78 as TrialState.PRUNED. Trial was pruned at epoch 1.\n",
      "GPU available: True, used: True\n",
      "No environment variable for node rank defined. Set as 0.\n",
      "CUDA_VISIBLE_DEVICES: [0]\n",
      "Set SLURM handle signals.\n",
      "\n",
      "   | Name           | Type          | Params\n",
      "---------------------------------------------\n",
      "0  | model          | AblationModel | 189 K \n",
      "1  | model.convs    | Sequential    | 114 K \n",
      "2  | model.convs.0  | BatchNorm2d   | 2     \n",
      "3  | model.convs.1  | Conv2d        | 1 K   \n",
      "4  | model.convs.2  | BatchNorm2d   | 20    \n",
      "5  | model.convs.3  | PReLU         | 1     \n",
      "6  | model.convs.4  | MaxPool2d     | 0     \n",
      "7  | model.convs.5  | Dropout       | 0     \n",
      "8  | model.convs.6  | Conv2d        | 20 K  \n",
      "9  | model.convs.7  | BatchNorm2d   | 40    \n",
      "10 | model.convs.8  | PReLU         | 1     \n",
      "11 | model.convs.9  | MaxPool2d     | 0     \n",
      "12 | model.convs.10 | Dropout       | 0     \n",
      "13 | model.convs.11 | Conv2d        | 80 K  \n",
      "14 | model.convs.12 | BatchNorm2d   | 80    \n",
      "15 | model.convs.13 | PReLU         | 1     \n",
      "16 | model.convs.14 | MaxPool2d     | 0     \n",
      "17 | model.convs.15 | Dropout       | 0     \n",
      "18 | model.convs.16 | Conv2d        | 12 K  \n",
      "19 | model.convs.17 | BatchNorm2d   | 160   \n",
      "20 | model.convs.18 | PReLU         | 1     \n",
      "21 | model.convs.19 | MaxPool2d     | 0     \n",
      "22 | model.convs.20 | Dropout       | 0     \n",
      "23 | model.dense    | Sequential    | 74 K  \n",
      "24 | model.dense.0  | Linear        | 73 K  \n",
      "25 | model.dense.1  | PReLU         | 1     \n",
      "26 | model.dense.2  | Dropout       | 0     \n",
      "27 | model.dense.3  | Linear        | 1 K   \n"
     ]
    },
    {
     "data": {
      "application/vnd.jupyter.widget-view+json": {
       "model_id": "",
       "version_major": 2,
       "version_minor": 0
      },
      "text/plain": [
       "HBox(children=(FloatProgress(value=1.0, bar_style='info', description='Validation sanity check', layout=Layout…"
      ]
     },
     "metadata": {},
     "output_type": "display_data"
    },
    {
     "name": "stdout",
     "output_type": "stream",
     "text": [
      "Val-Acc=0.01956135151155898\n"
     ]
    },
    {
     "data": {
      "application/vnd.jupyter.widget-view+json": {
       "model_id": "f779f3b3ece04fe18a602920fcd21da4",
       "version_major": 2,
       "version_minor": 0
      },
      "text/plain": [
       "HBox(children=(FloatProgress(value=1.0, bar_style='info', description='Training', layout=Layout(flex='2'), max…"
      ]
     },
     "metadata": {},
     "output_type": "display_data"
    },
    {
     "data": {
      "application/vnd.jupyter.widget-view+json": {
       "model_id": "",
       "version_major": 2,
       "version_minor": 0
      },
      "text/plain": [
       "HBox(children=(FloatProgress(value=1.0, bar_style='info', description='Validating', layout=Layout(flex='2'), m…"
      ]
     },
     "metadata": {},
     "output_type": "display_data"
    },
    {
     "name": "stdout",
     "output_type": "stream",
     "text": [
      "Val-Acc=0.7486662714878483\n",
      "Train-Acc=0.7446640316205534\n"
     ]
    },
    {
     "data": {
      "application/vnd.jupyter.widget-view+json": {
       "model_id": "",
       "version_major": 2,
       "version_minor": 0
      },
      "text/plain": [
       "HBox(children=(FloatProgress(value=1.0, bar_style='info', description='Validating', layout=Layout(flex='2'), m…"
      ]
     },
     "metadata": {},
     "output_type": "display_data"
    },
    {
     "name": "stdout",
     "output_type": "stream",
     "text": [
      "Val-Acc=0.7480735032602253\n"
     ]
    },
    {
     "name": "stderr",
     "output_type": "stream",
     "text": [
      "[I 2020-07-20 20:22:59,753] Setting status of trial#79 as TrialState.PRUNED. Trial was pruned at epoch 1.\n",
      "GPU available: True, used: True\n",
      "No environment variable for node rank defined. Set as 0.\n",
      "CUDA_VISIBLE_DEVICES: [0]\n",
      "Set SLURM handle signals.\n",
      "\n",
      "   | Name           | Type          | Params\n",
      "---------------------------------------------\n",
      "0  | model          | AblationModel | 194 K \n",
      "1  | model.convs    | Sequential    | 114 K \n",
      "2  | model.convs.0  | BatchNorm2d   | 2     \n",
      "3  | model.convs.1  | Conv2d        | 1 K   \n",
      "4  | model.convs.2  | BatchNorm2d   | 20    \n",
      "5  | model.convs.3  | PReLU         | 1     \n",
      "6  | model.convs.4  | MaxPool2d     | 0     \n",
      "7  | model.convs.5  | Dropout       | 0     \n",
      "8  | model.convs.6  | Conv2d        | 20 K  \n",
      "9  | model.convs.7  | BatchNorm2d   | 40    \n",
      "10 | model.convs.8  | PReLU         | 1     \n",
      "11 | model.convs.9  | MaxPool2d     | 0     \n",
      "12 | model.convs.10 | Dropout       | 0     \n",
      "13 | model.convs.11 | Conv2d        | 80 K  \n",
      "14 | model.convs.12 | BatchNorm2d   | 80    \n",
      "15 | model.convs.13 | PReLU         | 1     \n",
      "16 | model.convs.14 | MaxPool2d     | 0     \n",
      "17 | model.convs.15 | Dropout       | 0     \n",
      "18 | model.convs.16 | Conv2d        | 12 K  \n",
      "19 | model.convs.17 | BatchNorm2d   | 160   \n",
      "20 | model.convs.18 | PReLU         | 1     \n",
      "21 | model.convs.19 | MaxPool2d     | 0     \n",
      "22 | model.convs.20 | Dropout       | 0     \n",
      "23 | model.dense    | Sequential    | 80 K  \n",
      "24 | model.dense.0  | Linear        | 78 K  \n",
      "25 | model.dense.1  | PReLU         | 1     \n",
      "26 | model.dense.2  | Dropout       | 0     \n",
      "27 | model.dense.3  | Linear        | 1 K   \n"
     ]
    },
    {
     "data": {
      "application/vnd.jupyter.widget-view+json": {
       "model_id": "",
       "version_major": 2,
       "version_minor": 0
      },
      "text/plain": [
       "HBox(children=(FloatProgress(value=1.0, bar_style='info', description='Validation sanity check', layout=Layout…"
      ]
     },
     "metadata": {},
     "output_type": "display_data"
    },
    {
     "name": "stdout",
     "output_type": "stream",
     "text": [
      "Val-Acc=0.01778304682868998\n"
     ]
    },
    {
     "data": {
      "application/vnd.jupyter.widget-view+json": {
       "model_id": "86c6d900769248dd98bdd6c8e8b0c815",
       "version_major": 2,
       "version_minor": 0
      },
      "text/plain": [
       "HBox(children=(FloatProgress(value=1.0, bar_style='info', description='Training', layout=Layout(flex='2'), max…"
      ]
     },
     "metadata": {},
     "output_type": "display_data"
    },
    {
     "data": {
      "application/vnd.jupyter.widget-view+json": {
       "model_id": "",
       "version_major": 2,
       "version_minor": 0
      },
      "text/plain": [
       "HBox(children=(FloatProgress(value=1.0, bar_style='info', description='Validating', layout=Layout(flex='2'), m…"
      ]
     },
     "metadata": {},
     "output_type": "display_data"
    },
    {
     "name": "stdout",
     "output_type": "stream",
     "text": [
      "Val-Acc=0.7362181387077653\n",
      "Train-Acc=0.7448616600790514\n"
     ]
    },
    {
     "data": {
      "application/vnd.jupyter.widget-view+json": {
       "model_id": "",
       "version_major": 2,
       "version_minor": 0
      },
      "text/plain": [
       "HBox(children=(FloatProgress(value=1.0, bar_style='info', description='Validating', layout=Layout(flex='2'), m…"
      ]
     },
     "metadata": {},
     "output_type": "display_data"
    },
    {
     "name": "stdout",
     "output_type": "stream",
     "text": [
      "Val-Acc=0.7332542975696502\n"
     ]
    },
    {
     "name": "stderr",
     "output_type": "stream",
     "text": [
      "[I 2020-07-20 20:23:17,668] Setting status of trial#80 as TrialState.PRUNED. Trial was pruned at epoch 1.\n",
      "GPU available: True, used: True\n",
      "No environment variable for node rank defined. Set as 0.\n",
      "CUDA_VISIBLE_DEVICES: [0]\n",
      "Set SLURM handle signals.\n",
      "\n",
      "   | Name           | Type          | Params\n",
      "---------------------------------------------\n",
      "0  | model          | AblationModel | 196 K \n",
      "1  | model.convs    | Sequential    | 114 K \n",
      "2  | model.convs.0  | BatchNorm2d   | 2     \n",
      "3  | model.convs.1  | Conv2d        | 1 K   \n",
      "4  | model.convs.2  | BatchNorm2d   | 20    \n",
      "5  | model.convs.3  | PReLU         | 1     \n",
      "6  | model.convs.4  | MaxPool2d     | 0     \n",
      "7  | model.convs.5  | Dropout       | 0     \n",
      "8  | model.convs.6  | Conv2d        | 20 K  \n",
      "9  | model.convs.7  | BatchNorm2d   | 40    \n",
      "10 | model.convs.8  | PReLU         | 1     \n",
      "11 | model.convs.9  | MaxPool2d     | 0     \n",
      "12 | model.convs.10 | Dropout       | 0     \n",
      "13 | model.convs.11 | Conv2d        | 80 K  \n",
      "14 | model.convs.12 | BatchNorm2d   | 80    \n",
      "15 | model.convs.13 | PReLU         | 1     \n",
      "16 | model.convs.14 | MaxPool2d     | 0     \n",
      "17 | model.convs.15 | Dropout       | 0     \n",
      "18 | model.convs.16 | Conv2d        | 12 K  \n",
      "19 | model.convs.17 | BatchNorm2d   | 160   \n",
      "20 | model.convs.18 | PReLU         | 1     \n",
      "21 | model.convs.19 | MaxPool2d     | 0     \n",
      "22 | model.convs.20 | Dropout       | 0     \n",
      "23 | model.dense    | Sequential    | 82 K  \n",
      "24 | model.dense.0  | Linear        | 80 K  \n",
      "25 | model.dense.1  | PReLU         | 1     \n",
      "26 | model.dense.2  | Dropout       | 0     \n",
      "27 | model.dense.3  | Linear        | 1 K   \n"
     ]
    },
    {
     "data": {
      "application/vnd.jupyter.widget-view+json": {
       "model_id": "",
       "version_major": 2,
       "version_minor": 0
      },
      "text/plain": [
       "HBox(children=(FloatProgress(value=1.0, bar_style='info', description='Validation sanity check', layout=Layout…"
      ]
     },
     "metadata": {},
     "output_type": "display_data"
    },
    {
     "name": "stdout",
     "output_type": "stream",
     "text": [
      "Val-Acc=0.01956135151155898\n"
     ]
    },
    {
     "data": {
      "application/vnd.jupyter.widget-view+json": {
       "model_id": "eb63e81456b2418299d7347eeb4ec2f3",
       "version_major": 2,
       "version_minor": 0
      },
      "text/plain": [
       "HBox(children=(FloatProgress(value=1.0, bar_style='info', description='Training', layout=Layout(flex='2'), max…"
      ]
     },
     "metadata": {},
     "output_type": "display_data"
    },
    {
     "data": {
      "application/vnd.jupyter.widget-view+json": {
       "model_id": "",
       "version_major": 2,
       "version_minor": 0
      },
      "text/plain": [
       "HBox(children=(FloatProgress(value=1.0, bar_style='info', description='Validating', layout=Layout(flex='2'), m…"
      ]
     },
     "metadata": {},
     "output_type": "display_data"
    },
    {
     "name": "stdout",
     "output_type": "stream",
     "text": [
      "Val-Acc=0.6970954356846473\n",
      "Train-Acc=0.7513833992094862\n"
     ]
    },
    {
     "data": {
      "application/vnd.jupyter.widget-view+json": {
       "model_id": "",
       "version_major": 2,
       "version_minor": 0
      },
      "text/plain": [
       "HBox(children=(FloatProgress(value=1.0, bar_style='info', description='Validating', layout=Layout(flex='2'), m…"
      ]
     },
     "metadata": {},
     "output_type": "display_data"
    },
    {
     "name": "stdout",
     "output_type": "stream",
     "text": [
      "Val-Acc=0.7409602845287493\n"
     ]
    },
    {
     "name": "stderr",
     "output_type": "stream",
     "text": [
      "[I 2020-07-20 20:23:35,659] Setting status of trial#81 as TrialState.PRUNED. Trial was pruned at epoch 1.\n",
      "GPU available: True, used: True\n",
      "No environment variable for node rank defined. Set as 0.\n",
      "CUDA_VISIBLE_DEVICES: [0]\n",
      "Set SLURM handle signals.\n",
      "\n",
      "   | Name           | Type          | Params\n",
      "---------------------------------------------\n",
      "0  | model          | AblationModel | 191 K \n",
      "1  | model.convs    | Sequential    | 114 K \n",
      "2  | model.convs.0  | BatchNorm2d   | 2     \n",
      "3  | model.convs.1  | Conv2d        | 1 K   \n",
      "4  | model.convs.2  | BatchNorm2d   | 20    \n",
      "5  | model.convs.3  | PReLU         | 1     \n",
      "6  | model.convs.4  | MaxPool2d     | 0     \n",
      "7  | model.convs.5  | Dropout       | 0     \n",
      "8  | model.convs.6  | Conv2d        | 20 K  \n",
      "9  | model.convs.7  | BatchNorm2d   | 40    \n",
      "10 | model.convs.8  | PReLU         | 1     \n",
      "11 | model.convs.9  | MaxPool2d     | 0     \n",
      "12 | model.convs.10 | Dropout       | 0     \n",
      "13 | model.convs.11 | Conv2d        | 80 K  \n",
      "14 | model.convs.12 | BatchNorm2d   | 80    \n",
      "15 | model.convs.13 | PReLU         | 1     \n",
      "16 | model.convs.14 | MaxPool2d     | 0     \n",
      "17 | model.convs.15 | Dropout       | 0     \n",
      "18 | model.convs.16 | Conv2d        | 12 K  \n",
      "19 | model.convs.17 | BatchNorm2d   | 160   \n",
      "20 | model.convs.18 | PReLU         | 1     \n",
      "21 | model.convs.19 | MaxPool2d     | 0     \n",
      "22 | model.convs.20 | Dropout       | 0     \n",
      "23 | model.dense    | Sequential    | 77 K  \n",
      "24 | model.dense.0  | Linear        | 75 K  \n",
      "25 | model.dense.1  | PReLU         | 1     \n",
      "26 | model.dense.2  | Dropout       | 0     \n",
      "27 | model.dense.3  | Linear        | 1 K   \n"
     ]
    },
    {
     "data": {
      "application/vnd.jupyter.widget-view+json": {
       "model_id": "",
       "version_major": 2,
       "version_minor": 0
      },
      "text/plain": [
       "HBox(children=(FloatProgress(value=1.0, bar_style='info', description='Validation sanity check', layout=Layout…"
      ]
     },
     "metadata": {},
     "output_type": "display_data"
    },
    {
     "name": "stdout",
     "output_type": "stream",
     "text": [
      "Val-Acc=0.018375815056312982\n"
     ]
    },
    {
     "data": {
      "application/vnd.jupyter.widget-view+json": {
       "model_id": "7d68cbb090ce492fb55de7427a6a2b24",
       "version_major": 2,
       "version_minor": 0
      },
      "text/plain": [
       "HBox(children=(FloatProgress(value=1.0, bar_style='info', description='Training', layout=Layout(flex='2'), max…"
      ]
     },
     "metadata": {},
     "output_type": "display_data"
    },
    {
     "data": {
      "application/vnd.jupyter.widget-view+json": {
       "model_id": "",
       "version_major": 2,
       "version_minor": 0
      },
      "text/plain": [
       "HBox(children=(FloatProgress(value=1.0, bar_style='info', description='Validating', layout=Layout(flex='2'), m…"
      ]
     },
     "metadata": {},
     "output_type": "display_data"
    },
    {
     "name": "stdout",
     "output_type": "stream",
     "text": [
      "Val-Acc=0.7605216360403082\n",
      "Train-Acc=0.7278656126482214\n"
     ]
    },
    {
     "data": {
      "application/vnd.jupyter.widget-view+json": {
       "model_id": "",
       "version_major": 2,
       "version_minor": 0
      },
      "text/plain": [
       "HBox(children=(FloatProgress(value=1.0, bar_style='info', description='Validating', layout=Layout(flex='2'), m…"
      ]
     },
     "metadata": {},
     "output_type": "display_data"
    },
    {
     "name": "stdout",
     "output_type": "stream",
     "text": [
      "Val-Acc=0.7457024303497333\n",
      "Train-Acc=0.7863636363636364\n"
     ]
    },
    {
     "data": {
      "application/vnd.jupyter.widget-view+json": {
       "model_id": "",
       "version_major": 2,
       "version_minor": 0
      },
      "text/plain": [
       "HBox(children=(FloatProgress(value=1.0, bar_style='info', description='Validating', layout=Layout(flex='2'), m…"
      ]
     },
     "metadata": {},
     "output_type": "display_data"
    },
    {
     "name": "stdout",
     "output_type": "stream",
     "text": [
      "Val-Acc=0.7960877296976882\n",
      "Train-Acc=0.7905138339920948\n"
     ]
    },
    {
     "data": {
      "application/vnd.jupyter.widget-view+json": {
       "model_id": "",
       "version_major": 2,
       "version_minor": 0
      },
      "text/plain": [
       "HBox(children=(FloatProgress(value=1.0, bar_style='info', description='Validating', layout=Layout(flex='2'), m…"
      ]
     },
     "metadata": {},
     "output_type": "display_data"
    },
    {
     "name": "stdout",
     "output_type": "stream",
     "text": [
      "Val-Acc=0.7818612922347362\n",
      "Train-Acc=0.7976284584980237\n"
     ]
    },
    {
     "data": {
      "application/vnd.jupyter.widget-view+json": {
       "model_id": "",
       "version_major": 2,
       "version_minor": 0
      },
      "text/plain": [
       "HBox(children=(FloatProgress(value=1.0, bar_style='info', description='Validating', layout=Layout(flex='2'), m…"
      ]
     },
     "metadata": {},
     "output_type": "display_data"
    },
    {
     "name": "stdout",
     "output_type": "stream",
     "text": [
      "Val-Acc=0.7279193835210432\n",
      "Train-Acc=0.8098814229249012\n"
     ]
    },
    {
     "data": {
      "application/vnd.jupyter.widget-view+json": {
       "model_id": "31ba61c85c654a7d903aee018514923e",
       "version_major": 2,
       "version_minor": 0
      },
      "text/plain": [
       "HBox(children=(FloatProgress(value=1.0, bar_style='info', description='Validating', layout=Layout(flex='2'), m…"
      ]
     },
     "metadata": {},
     "output_type": "display_data"
    },
    {
     "name": "stderr",
     "output_type": "stream",
     "text": [
      "Detected KeyboardInterrupt, attempting graceful shutdown...\n"
     ]
    },
    {
     "name": "stdout",
     "output_type": "stream",
     "text": [
      "\n",
      "Saved model to \"saved_modelsq/82.p\"\n"
     ]
    },
    {
     "name": "stderr",
     "output_type": "stream",
     "text": [
      "Exception ignored in: <function tqdm.__del__ at 0x7f53edc16550>\n",
      "Traceback (most recent call last):\n",
      "  File \"/nfs/students/summer-term-2020/project-4/yan/.conda/envs/cnn_project/lib/python3.8/site-packages/tqdm/std.py\", line 1085, in __del__\n",
      "    def __del__(self):\n",
      "KeyboardInterrupt: \n",
      "ERROR:root:Internal Python error in the inspect module.\n",
      "Below is the traceback from this internal error.\n",
      "\n"
     ]
    },
    {
     "name": "stdout",
     "output_type": "stream",
     "text": [
      "Traceback (most recent call last):\n",
      "  File \"/nfs/students/summer-term-2020/project-4/yan/.conda/envs/cnn_project/lib/python3.8/site-packages/IPython/core/interactiveshell.py\", line 3331, in run_code\n",
      "    exec(code_obj, self.user_global_ns, self.user_ns)\n",
      "  File \"<ipython-input-7-ce1c854bb182>\", line 1, in <module>\n",
      "    study.optimize(objective, n_trials=2000, timeout=1.5*21600) #9h\n",
      "  File \"/nfs/students/summer-term-2020/project-4/yan/.conda/envs/cnn_project/lib/python3.8/site-packages/optuna/study.py\", line 338, in optimize\n",
      "    self._optimize_sequential(\n",
      "  File \"/nfs/students/summer-term-2020/project-4/yan/.conda/envs/cnn_project/lib/python3.8/site-packages/optuna/study.py\", line 682, in _optimize_sequential\n",
      "    self._run_trial_and_callbacks(func, catch, callbacks, gc_after_trial)\n",
      "  File \"/nfs/students/summer-term-2020/project-4/yan/.conda/envs/cnn_project/lib/python3.8/site-packages/optuna/study.py\", line 713, in _run_trial_and_callbacks\n",
      "    trial = self._run_trial(func, catch, gc_after_trial)\n",
      "  File \"/nfs/students/summer-term-2020/project-4/yan/.conda/envs/cnn_project/lib/python3.8/site-packages/optuna/study.py\", line 798, in _run_trial\n",
      "    self._log_completed_trial(trial, result)\n",
      "  File \"/nfs/students/summer-term-2020/project-4/yan/.conda/envs/cnn_project/lib/python3.8/site-packages/optuna/study.py\", line 808, in _log_completed_trial\n",
      "    trial.number, result, trial.params, self.best_trial.number, self.best_value\n",
      "  File \"/nfs/students/summer-term-2020/project-4/yan/.conda/envs/cnn_project/lib/python3.8/site-packages/optuna/study.py\", line 83, in best_value\n",
      "    best_value = self.best_trial.value\n",
      "  File \"/nfs/students/summer-term-2020/project-4/yan/.conda/envs/cnn_project/lib/python3.8/site-packages/optuna/study.py\", line 97, in best_trial\n",
      "    return copy.deepcopy(self._storage.get_best_trial(self._study_id))\n",
      "  File \"/nfs/students/summer-term-2020/project-4/yan/.conda/envs/cnn_project/lib/python3.8/site-packages/optuna/storages/cached_storage.py\", line 258, in get_best_trial\n",
      "    return self._backend.get_best_trial(study_id)\n",
      "  File \"/nfs/students/summer-term-2020/project-4/yan/.conda/envs/cnn_project/lib/python3.8/site-packages/optuna/storages/rdb/storage.py\", line 992, in get_best_trial\n",
      "    trial = models.TrialModel.find_max_value_trial(study_id, session)\n",
      "  File \"/nfs/students/summer-term-2020/project-4/yan/.conda/envs/cnn_project/lib/python3.8/site-packages/optuna/storages/rdb/models.py\", line 189, in find_max_value_trial\n",
      "    session.query(cls)\n",
      "  File \"/nfs/students/summer-term-2020/project-4/yan/.conda/envs/cnn_project/lib/python3.8/site-packages/sqlalchemy/orm/query.py\", line 3427, in one_or_none\n",
      "    ret = list(self)\n",
      "KeyboardInterrupt\n",
      "\n",
      "During handling of the above exception, another exception occurred:\n",
      "\n",
      "Traceback (most recent call last):\n",
      "  File \"/nfs/students/summer-term-2020/project-4/yan/.conda/envs/cnn_project/lib/python3.8/site-packages/IPython/core/interactiveshell.py\", line 2044, in showtraceback\n",
      "    stb = value._render_traceback_()\n",
      "AttributeError: 'KeyboardInterrupt' object has no attribute '_render_traceback_'\n",
      "\n",
      "During handling of the above exception, another exception occurred:\n",
      "\n",
      "Traceback (most recent call last):\n",
      "  File \"/nfs/students/summer-term-2020/project-4/yan/.conda/envs/cnn_project/lib/python3.8/site-packages/IPython/core/ultratb.py\", line 1148, in get_records\n",
      "    return _fixed_getinnerframes(etb, number_of_lines_of_context, tb_offset)\n",
      "  File \"/nfs/students/summer-term-2020/project-4/yan/.conda/envs/cnn_project/lib/python3.8/site-packages/IPython/core/ultratb.py\", line 316, in wrapped\n",
      "    return f(*args, **kwargs)\n",
      "  File \"/nfs/students/summer-term-2020/project-4/yan/.conda/envs/cnn_project/lib/python3.8/site-packages/IPython/core/ultratb.py\", line 350, in _fixed_getinnerframes\n",
      "    records = fix_frame_records_filenames(inspect.getinnerframes(etb, context))\n",
      "  File \"/nfs/students/summer-term-2020/project-4/yan/.conda/envs/cnn_project/lib/python3.8/inspect.py\", line 1503, in getinnerframes\n",
      "    frameinfo = (tb.tb_frame,) + getframeinfo(tb, context)\n",
      "  File \"/nfs/students/summer-term-2020/project-4/yan/.conda/envs/cnn_project/lib/python3.8/inspect.py\", line 1461, in getframeinfo\n",
      "    filename = getsourcefile(frame) or getfile(frame)\n",
      "  File \"/nfs/students/summer-term-2020/project-4/yan/.conda/envs/cnn_project/lib/python3.8/inspect.py\", line 708, in getsourcefile\n",
      "    if getattr(getmodule(object, filename), '__loader__', None) is not None:\n",
      "  File \"/nfs/students/summer-term-2020/project-4/yan/.conda/envs/cnn_project/lib/python3.8/inspect.py\", line 754, in getmodule\n",
      "    os.path.realpath(f)] = module.__name__\n",
      "  File \"/nfs/students/summer-term-2020/project-4/yan/.conda/envs/cnn_project/lib/python3.8/posixpath.py\", line 391, in realpath\n",
      "    path, ok = _joinrealpath(filename[:0], filename, {})\n",
      "  File \"/nfs/students/summer-term-2020/project-4/yan/.conda/envs/cnn_project/lib/python3.8/posixpath.py\", line 425, in _joinrealpath\n",
      "    if not islink(newpath):\n",
      "  File \"/nfs/students/summer-term-2020/project-4/yan/.conda/envs/cnn_project/lib/python3.8/posixpath.py\", line 167, in islink\n",
      "    st = os.lstat(path)\n",
      "KeyboardInterrupt\n"
     ]
    },
    {
     "ename": "KeyboardInterrupt",
     "evalue": "",
     "output_type": "error",
     "traceback": [
      "\u001b[0;31m---------------------------------------------------------------------------\u001b[0m"
     ]
    }
   ],
   "source": [
    "study.optimize(objective, n_trials=2000, timeout=1.5*21600) #9h"
   ]
  },
  {
   "cell_type": "code",
   "execution_count": null,
   "metadata": {
    "ExecuteTime": {
     "end_time": "2020-07-20T18:24:28.117821Z",
     "start_time": "2020-07-20T16:22:27.484Z"
    }
   },
   "outputs": [],
   "source": [
    "print(\"Number of finished trials: {}\".format(len(study.trials)))\n",
    "print(\"Best trial:\")\n",
    "best_trial = study.best_trial\n",
    "print(\"  Value: {}\".format(best_trial.value))\n",
    "print(\"  Params: \")\n",
    "for key, value in best_trial.params.items():\n",
    "    print(\"    {}: {}\".format(key, value))"
   ]
  }
 ],
 "metadata": {
  "kernelspec": {
   "display_name": "Python 3",
   "language": "python",
   "name": "python3"
  },
  "language_info": {
   "codemirror_mode": {
    "name": "ipython",
    "version": 3
   },
   "file_extension": ".py",
   "mimetype": "text/x-python",
   "name": "python",
   "nbconvert_exporter": "python",
   "pygments_lexer": "ipython3",
   "version": "3.8.2"
  }
 },
 "nbformat": 4,
 "nbformat_minor": 4
}
