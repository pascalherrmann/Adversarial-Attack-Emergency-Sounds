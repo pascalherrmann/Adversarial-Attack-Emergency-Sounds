{
 "cells": [
  {
   "cell_type": "code",
   "execution_count": 1,
   "metadata": {
    "ExecuteTime": {
     "end_time": "2020-06-13T22:27:28.171825Z",
     "start_time": "2020-06-13T22:27:27.595810Z"
    }
   },
   "outputs": [],
   "source": [
    "%load_ext autoreload\n",
    "%autoreload 2\n",
    "import torch\n",
    "\n",
    "import os\n",
    "import sys\n",
    "module_path = os.path.abspath(os.path.join('../../../src/'))\n",
    "if module_path not in sys.path:\n",
    "    sys.path.append(module_path)\n",
    "    \n",
    "device = 'cuda' if torch.cuda.is_available() else 'cpu'"
   ]
  },
  {
   "cell_type": "markdown",
   "metadata": {
    "heading_collapsed": true
   },
   "source": [
    "# Load models"
   ]
  },
  {
   "cell_type": "code",
   "execution_count": 4,
   "metadata": {
    "ExecuteTime": {
     "end_time": "2020-06-13T22:27:37.140570Z",
     "start_time": "2020-06-13T22:27:37.112268Z"
    },
    "hidden": true
   },
   "outputs": [],
   "source": [
    "from classification.models.crnn.model import AudioCRNN\n",
    "from classification.models.SpectrogramCNN import SpectrogramCNN\n",
    "from classification.models.DeepRecursiveCNN import DeepRecursiveCNN\n",
    "from classification.models.M5 import M5\n",
    "\n",
    "models = {}"
   ]
  },
  {
   "cell_type": "code",
   "execution_count": 6,
   "metadata": {
    "ExecuteTime": {
     "end_time": "2020-06-13T22:05:19.496619Z",
     "start_time": "2020-06-13T22:05:19.416392Z"
    },
    "hidden": true
   },
   "outputs": [],
   "source": [
    "state_dict_path = '/nfs/students/summer-term-2020/project-4/data/models/SpectrogramBasedCNN.pt'\n",
    "\n",
    "model = SpectrogramCNN()\n",
    "model.load_state_dict(torch.load(state_dict_path))\n",
    "model = model.cuda()\n",
    "model = model.eval()\n",
    "\n",
    "models[model.__class__.__name__] = model"
   ]
  },
  {
   "cell_type": "code",
   "execution_count": 5,
   "metadata": {
    "ExecuteTime": {
     "end_time": "2020-06-13T22:00:02.404497Z",
     "start_time": "2020-06-13T22:00:02.145489Z"
    },
    "hidden": true
   },
   "outputs": [],
   "source": [
    "model_state_dict_path = \"/nfs/students/summer-term-2020/project-4/yan/models/best_model_state_dict.pt\"\n",
    "model = DeepRecursiveCNN()\n",
    "model.load_state_dict(torch.load(model_state_dict_path))\n",
    "model = model.eval()\n",
    "\n",
    "models[model.__class__.__name__] = model"
   ]
  },
  {
   "cell_type": "code",
   "execution_count": 6,
   "metadata": {
    "ExecuteTime": {
     "end_time": "2020-06-13T22:00:03.278770Z",
     "start_time": "2020-06-13T22:00:02.409583Z"
    },
    "hidden": true
   },
   "outputs": [],
   "source": [
    "res_path = '/nfs/students/summer-term-2020/project-4/data/models/crnn.pth'\n",
    "checkpoint = torch.load(res_path)\n",
    "model = AudioCRNN(checkpoint['classes'], checkpoint['config'])\n",
    "model.load_state_dict(checkpoint['state_dict'])\n",
    "model = model.eval().cuda()\n",
    "\n",
    "models[model.__class__.__name__] = model"
   ]
  },
  {
   "cell_type": "code",
   "execution_count": 5,
   "metadata": {
    "ExecuteTime": {
     "end_time": "2020-06-13T22:27:41.046168Z",
     "start_time": "2020-06-13T22:27:39.455975Z"
    },
    "hidden": true
   },
   "outputs": [],
   "source": [
    "loaded_dict = torch.load(\"/nfs/homedirs/herrmanp/project-4/experiments/notebooks/pascal/adv_totaly_hig_50epochs.pt\")\n",
    "model = M5(loaded_dict[\"hparams\"])\n",
    "model.load_state_dict(loaded_dict[\"state_dict\"])\n",
    "model = model.eval().cuda()\n",
    "\n",
    "models[model.__class__.__name__] = model"
   ]
  },
  {
   "cell_type": "code",
   "execution_count": 6,
   "metadata": {
    "ExecuteTime": {
     "end_time": "2020-06-13T22:27:41.067528Z",
     "start_time": "2020-06-13T22:27:41.050348Z"
    },
    "hidden": true
   },
   "outputs": [],
   "source": [
    "fast_model = {'M5': models['M5']}"
   ]
  },
  {
   "cell_type": "markdown",
   "metadata": {},
   "source": [
    "# Load Data"
   ]
  },
  {
   "cell_type": "code",
   "execution_count": 7,
   "metadata": {
    "ExecuteTime": {
     "end_time": "2020-06-13T22:27:45.139356Z",
     "start_time": "2020-06-13T22:27:44.798829Z"
    }
   },
   "outputs": [],
   "source": [
    "from datasets.datasethandler import DatasetHandler\n",
    "datasetHandler = DatasetHandler()"
   ]
  },
  {
   "cell_type": "code",
   "execution_count": 8,
   "metadata": {
    "ExecuteTime": {
     "end_time": "2020-06-13T22:27:46.204417Z",
     "start_time": "2020-06-13T22:27:45.855535Z"
    }
   },
   "outputs": [
    {
     "name": "stdout",
     "output_type": "stream",
     "text": [
      "Loading cached val data from /nfs/students/summer-term-2020/project-4/data/data_8k\n"
     ]
    }
   ],
   "source": [
    "for model_name in models:\n",
    "    #datasetHandler.load(models[model_name], 'training')\n",
    "    datasetHandler.load(models[model_name], 'validation')"
   ]
  },
  {
   "cell_type": "markdown",
   "metadata": {},
   "source": [
    "# Attacks"
   ]
  },
  {
   "cell_type": "markdown",
   "metadata": {
    "heading_collapsed": true
   },
   "source": [
    "## FGSM"
   ]
  },
  {
   "cell_type": "code",
   "execution_count": 9,
   "metadata": {
    "ExecuteTime": {
     "end_time": "2020-06-13T22:27:55.262071Z",
     "start_time": "2020-06-13T22:27:48.823758Z"
    },
    "hidden": true,
    "scrolled": true
   },
   "outputs": [
    {
     "name": "stderr",
     "output_type": "stream",
     "text": [
      "100%|██████████| 563/563 [00:05<00:00, 96.15it/s] "
     ]
    },
    {
     "name": "stdout",
     "output_type": "stream",
     "text": [
      "M5\n",
      "Attack-Parameters:\t{'epsilon': 0.001, 'num_iter': 1}\n",
      "Early stopping: \tFalse (-1)\n",
      "\n",
      "Successfully attacked:\t35\n",
      "Total attacked: \t1356\n",
      "Total processed:\t1687\n",
      "\n",
      "Success-Rate: \t\t0.03\n",
      "Perturbed Accurracy: \t0.78\n",
      "{'success_rate': 0.025811209439528023, 'acc': 0.7830468286899822}\n",
      "\n"
     ]
    },
    {
     "name": "stderr",
     "output_type": "stream",
     "text": [
      "\n"
     ]
    }
   ],
   "source": [
    "from attacks.pgd import ProjectedGradientDescent\n",
    "\n",
    "attack_parameters = {'epsilon': 0.001, 'num_iter': 1}\n",
    "attacks = {}\n",
    "\n",
    "for model_name in models:\n",
    "    valid_loader = models[model_name].getDataLoader('validation', batch_size=3)\n",
    "    fgsm = ProjectedGradientDescent(model, valid_loader, attack_parameters, save_samples=False)\n",
    "    fgsm.attack()\n",
    "    attacks[model_name] = fgsm\n",
    "    \n",
    "for model_name in attacks:\n",
    "    print(model_name)\n",
    "    print(attacks[model_name].report())\n",
    "    print()"
   ]
  },
  {
   "cell_type": "markdown",
   "metadata": {
    "heading_collapsed": true
   },
   "source": [
    "## PGD "
   ]
  },
  {
   "cell_type": "code",
   "execution_count": 9,
   "metadata": {
    "ExecuteTime": {
     "end_time": "2020-06-13T13:53:54.951997Z",
     "start_time": "2020-06-13T13:53:43.359627Z"
    },
    "hidden": true
   },
   "outputs": [
    {
     "name": "stderr",
     "output_type": "stream",
     "text": [
      "100%|██████████| 563/563 [00:10<00:00, 51.20it/s]"
     ]
    },
    {
     "name": "stdout",
     "output_type": "stream",
     "text": [
      "M5\n",
      "Attack-Parameters:\t{'epsilon': 0.001, 'num_iter': 3}\n",
      "Early stopping: \tFalse (-1)\n",
      "\n",
      "Successfully attacked:\t92\n",
      "Total attacked: \t1356\n",
      "Total processed:\t1687\n",
      "\n",
      "Success-Rate: \t\t0.07\n",
      "Perturbed Accurracy: \t0.75\n",
      "\n"
     ]
    },
    {
     "name": "stderr",
     "output_type": "stream",
     "text": [
      "\n"
     ]
    }
   ],
   "source": [
    "from attacks.pgd import ProjectedGradientDescent\n",
    "\n",
    "attack_parameters = {'epsilon': 0.001, 'num_iter': 3}\n",
    "attacks = {}\n",
    "\n",
    "for model_name in models:\n",
    "    valid_loader = models[model_name].getDataLoader('validation', batch_size=3)\n",
    "    fgsm = ProjectedGradientDescent(model, valid_loader, attack_parameters, save_samples=False)\n",
    "    fgsm.attack()\n",
    "    attacks[model_name] = fgsm\n",
    "    \n",
    "for model_name in attacks:\n",
    "    print(model_name)\n",
    "    attacks[model_name].report()\n",
    "    print()"
   ]
  },
  {
   "cell_type": "code",
   "execution_count": null,
   "metadata": {
    "hidden": true
   },
   "outputs": [],
   "source": [
    "# pgd.showAdversarialExample(sr=FIXED_SAMPLE_RATE, target_class=1)"
   ]
  },
  {
   "cell_type": "markdown",
   "metadata": {
    "heading_collapsed": true
   },
   "source": [
    "## Volume attacks"
   ]
  },
  {
   "cell_type": "code",
   "execution_count": 33,
   "metadata": {
    "ExecuteTime": {
     "end_time": "2020-06-13T17:08:13.202997Z",
     "start_time": "2020-06-13T17:04:32.605675Z"
    },
    "hidden": true,
    "scrolled": true
   },
   "outputs": [
    {
     "name": "stderr",
     "output_type": "stream",
     "text": [
      "100%|██████████| 169/169 [01:32<00:00,  1.83it/s]\n",
      "100%|██████████| 169/169 [01:36<00:00,  1.76it/s]\n",
      "100%|██████████| 169/169 [00:25<00:00,  6.67it/s]"
     ]
    },
    {
     "name": "stdout",
     "output_type": "stream",
     "text": [
      "SpectrogramCNN\n",
      "Attack-Parameters:\t{'epsilon': 0.1, 'num_iter': 10}\n",
      "Early stopping: \tFalse (-1)\n",
      "\n",
      "Successfully attacked:\t129\n",
      "Total attacked: \t823\n",
      "Total processed:\t1687\n",
      "\n",
      "Success-Rate: \t\t0.16\n",
      "Perturbed Accurracy: \t0.41\n",
      "\n",
      "DeepRecursiveCNN\n",
      "Attack-Parameters:\t{'epsilon': 0.1, 'num_iter': 10}\n",
      "Early stopping: \tFalse (-1)\n",
      "\n",
      "Successfully attacked:\t129\n",
      "Total attacked: \t823\n",
      "Total processed:\t1687\n",
      "\n",
      "Success-Rate: \t\t0.16\n",
      "Perturbed Accurracy: \t0.41\n",
      "\n",
      "M5\n",
      "Attack-Parameters:\t{'epsilon': 0.1, 'num_iter': 10}\n",
      "Early stopping: \tFalse (-1)\n",
      "\n",
      "Successfully attacked:\t96\n",
      "Total attacked: \t1356\n",
      "Total processed:\t1687\n",
      "\n",
      "Success-Rate: \t\t0.07\n",
      "Perturbed Accurracy: \t0.75\n",
      "\n"
     ]
    },
    {
     "name": "stderr",
     "output_type": "stream",
     "text": [
      "\n"
     ]
    }
   ],
   "source": [
    "from attacks.volume import VolumeAttack\n",
    "\n",
    "attack_parameters = {'epsilon': 0.1, 'num_iter': 10}\n",
    "attacks = {}\n",
    "\n",
    "for model_name in models:\n",
    "    valid_loader = models[model_name].getDataLoader('validation', batch_size=10)\n",
    "    attack = VolumeAttack(model, valid_loader, attack_parameters, save_samples=False)\n",
    "    attack.attack()\n",
    "    attacks[model_name] = attack\n",
    "    \n",
    "for model_name in attacks:\n",
    "    print(model_name)\n",
    "    attacks[model_name].report()\n",
    "    print()"
   ]
  },
  {
   "cell_type": "markdown",
   "metadata": {
    "heading_collapsed": true
   },
   "source": [
    "## Interpolation attack"
   ]
  },
  {
   "cell_type": "code",
   "execution_count": 60,
   "metadata": {
    "ExecuteTime": {
     "end_time": "2020-06-13T17:25:43.400298Z",
     "start_time": "2020-06-13T17:25:21.211845Z"
    },
    "hidden": true,
    "scrolled": true
   },
   "outputs": [
    {
     "name": "stderr",
     "output_type": "stream",
     "text": [
      "100%|██████████| 85/85 [00:21<00:00,  3.90it/s]\n"
     ]
    }
   ],
   "source": [
    "from attacks.interpolation import InterpolationAttack\n",
    "\n",
    "attacks = {}\n",
    "\n",
    "for model_name in fast_model:\n",
    "    valid_loader = models[model_name].getDataLoader('validation', batch_size=20)\n",
    "    test_sound = 0.2*next(iter(valid_loader))['audio'][0]\n",
    "    attack_parameters = {'epsilon': 0.2, 'num_iter': 10, 'overlay_sound': test_sound}\n",
    "    attack = InterpolationAttack(model, valid_loader, attack_parameters, save_samples=False)\n",
    "    attack.attack()\n",
    "    attacks[model_name] = attack"
   ]
  },
  {
   "cell_type": "code",
   "execution_count": 59,
   "metadata": {
    "ExecuteTime": {
     "end_time": "2020-06-13T17:25:05.473913Z",
     "start_time": "2020-06-13T17:25:05.446834Z"
    },
    "hidden": true
   },
   "outputs": [
    {
     "name": "stdout",
     "output_type": "stream",
     "text": [
      "M5\n",
      "Attack-Parameters:\t{'epsilon': 0.2, 'num_iter': 10, 'overlay_sound': tensor([-0.0449, -0.0255, -0.0231,  ..., -0.0050,  0.0054, -0.0017])}\n",
      "Early stopping: \tFalse (-1)\n",
      "\n",
      "Successfully attacked:\t7\n",
      "Total attacked: \t1356\n",
      "Total processed:\t1687\n",
      "\n",
      "Success-Rate: \t\t0.01\n",
      "Perturbed Accurracy: \t0.8\n",
      "\n"
     ]
    }
   ],
   "source": [
    "for model_name in attacks:\n",
    "    print(model_name)\n",
    "    attacks[model_name].report()\n",
    "    print()"
   ]
  },
  {
   "cell_type": "markdown",
   "metadata": {
    "heading_collapsed": true
   },
   "source": [
    "## Time stretching attack "
   ]
  },
  {
   "cell_type": "code",
   "execution_count": 61,
   "metadata": {
    "ExecuteTime": {
     "end_time": "2020-06-13T22:50:25.506605Z",
     "start_time": "2020-06-13T22:49:43.147888Z"
    },
    "hidden": true
   },
   "outputs": [
    {
     "name": "stderr",
     "output_type": "stream",
     "text": [
      "100%|██████████| 57/57 [00:42<00:00,  1.35it/s]\n"
     ]
    }
   ],
   "source": [
    "from attacks.speed import TimeStretchAttack\n",
    "\n",
    "attack_parameters = {'num_iter': 30, 'lower': 0.5, 'upper': 1.5}\n",
    "attacks = {}\n",
    "\n",
    "for model_name in fast_model:\n",
    "    valid_loader = models[model_name].getDataLoader('validation', batch_size=30)\n",
    "    attack = TimeStretchAttack(model, valid_loader, attack_parameters, early_stopping=10)\n",
    "    attack.attack()\n",
    "    attacks[model_name] = attack"
   ]
  },
  {
   "cell_type": "code",
   "execution_count": 65,
   "metadata": {
    "ExecuteTime": {
     "end_time": "2020-06-13T22:51:16.063073Z",
     "start_time": "2020-06-13T22:51:16.026281Z"
    },
    "hidden": true
   },
   "outputs": [],
   "source": [
    "# attacks['M5'].showAdversarialExample(target_class=1)"
   ]
  },
  {
   "cell_type": "code",
   "execution_count": 66,
   "metadata": {
    "ExecuteTime": {
     "end_time": "2020-06-13T22:51:18.084961Z",
     "start_time": "2020-06-13T22:51:18.044370Z"
    },
    "hidden": true
   },
   "outputs": [
    {
     "name": "stdout",
     "output_type": "stream",
     "text": [
      "M5\n",
      "Attack-Parameters:\t{'num_iter': 30, 'lower': 0.5, 'upper': 1.5}\n",
      "Early stopping: \tFalse (-1)\n",
      "\n",
      "Successfully attacked:\t108\n",
      "Total attacked: \t1356\n",
      "Total processed:\t1687\n",
      "\n",
      "Success-Rate: \t\t0.08\n",
      "Perturbed Accurracy: \t0.74\n",
      "\n"
     ]
    }
   ],
   "source": [
    "#tsa.showAdversarialExample(target_class=0)\n",
    "for model_name in attacks:\n",
    "    print(model_name)\n",
    "    attacks[model_name].report()\n",
    "    print()"
   ]
  },
  {
   "cell_type": "markdown",
   "metadata": {
    "heading_collapsed": true
   },
   "source": [
    "## Pitch attack"
   ]
  },
  {
   "cell_type": "code",
   "execution_count": 55,
   "metadata": {
    "ExecuteTime": {
     "end_time": "2020-06-13T22:46:30.875821Z",
     "start_time": "2020-06-13T22:46:11.053348Z"
    },
    "hidden": true,
    "scrolled": true
   },
   "outputs": [
    {
     "name": "stderr",
     "output_type": "stream",
     "text": [
      "  5%|▌         | 3/57 [00:19<05:52,  6.53s/it]"
     ]
    },
    {
     "name": "stdout",
     "output_type": "stream",
     "text": [
      "Early stopping\n"
     ]
    },
    {
     "name": "stderr",
     "output_type": "stream",
     "text": [
      "\n"
     ]
    }
   ],
   "source": [
    "from attacks.pitch import PitchAttack\n",
    "\n",
    "attack_parameters = {'num_iter': 5, 'lower': -1, 'upper': 5}\n",
    "attacks = {}\n",
    "\n",
    "for model_name in fast_model:\n",
    "    valid_loader = models[model_name].getDataLoader('validation', batch_size=30)\n",
    "    attack = PitchAttack(model, valid_loader, attack_parameters, early_stopping=10)\n",
    "    attack.attack()\n",
    "    attacks[model_name] = attack"
   ]
  },
  {
   "cell_type": "code",
   "execution_count": 58,
   "metadata": {
    "ExecuteTime": {
     "end_time": "2020-06-13T22:47:19.777822Z",
     "start_time": "2020-06-13T22:47:19.476692Z"
    },
    "hidden": true
   },
   "outputs": [],
   "source": [
    "#attacks['M5'].showAdversarialExample(target_class=1)"
   ]
  },
  {
   "cell_type": "code",
   "execution_count": 57,
   "metadata": {
    "ExecuteTime": {
     "end_time": "2020-06-13T22:46:40.865487Z",
     "start_time": "2020-06-13T22:46:40.821334Z"
    },
    "hidden": true,
    "scrolled": true
   },
   "outputs": [
    {
     "name": "stdout",
     "output_type": "stream",
     "text": [
      "Attack-Parameters:\t{'num_iter': 5, 'lower': -1, 'upper': 5}\n",
      "Early stopping: \tTrue (10)\n",
      "\n",
      "Successfully attacked:\t14\n",
      "Total attacked: \t95\n",
      "Total processed:\t120\n",
      "\n",
      "Success-Rate: \t\t0.15\n",
      "Perturbed Accurracy: \t0.68\n"
     ]
    },
    {
     "data": {
      "text/plain": [
       "{'success_rate': 0.14736842105263157, 'acc': 0.675}"
      ]
     },
     "execution_count": 57,
     "metadata": {},
     "output_type": "execute_result"
    }
   ],
   "source": [
    "attacks['M5'].report()"
   ]
  }
 ],
 "metadata": {
  "kernelspec": {
   "display_name": "Python 3",
   "language": "python",
   "name": "python3"
  },
  "language_info": {
   "codemirror_mode": {
    "name": "ipython",
    "version": 3
   },
   "file_extension": ".py",
   "mimetype": "text/x-python",
   "name": "python",
   "nbconvert_exporter": "python",
   "pygments_lexer": "ipython3",
   "version": "3.8.2"
  },
  "notify_time": "5"
 },
 "nbformat": 4,
 "nbformat_minor": 4
}
