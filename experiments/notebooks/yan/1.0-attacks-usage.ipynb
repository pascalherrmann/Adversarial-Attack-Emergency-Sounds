{
 "cells": [
  {
   "cell_type": "code",
   "execution_count": 1,
   "metadata": {
    "ExecuteTime": {
     "end_time": "2020-06-11T12:50:17.225471Z",
     "start_time": "2020-06-11T12:50:14.039621Z"
    }
   },
   "outputs": [],
   "source": [
    "%load_ext autoreload\n",
    "%autoreload 2\n",
    "import torch\n",
    "\n",
    "import os\n",
    "import sys\n",
    "module_path = os.path.abspath(os.path.join('../../../src/'))\n",
    "if module_path not in sys.path:\n",
    "    sys.path.append(module_path)\n",
    "    \n",
    "device = 'cuda' if torch.cuda.is_available() else 'cpu'"
   ]
  },
  {
   "cell_type": "markdown",
   "metadata": {},
   "source": [
    "# Load model/data"
   ]
  },
  {
   "cell_type": "code",
   "execution_count": 2,
   "metadata": {
    "ExecuteTime": {
     "end_time": "2020-06-11T12:50:29.645495Z",
     "start_time": "2020-06-11T12:50:17.233664Z"
    }
   },
   "outputs": [],
   "source": [
    "from datasets.audioset import Audioset\n",
    "from torchvision import transforms\n",
    "from torch.utils.data import DataLoader\n",
    "from datasets.EmergencyDataset import EmergencyDataset\n",
    "\n",
    "audio_set_valA = Audioset(split_mode='validation', fixed_padding=True)\n",
    "#audio_set_valB = Audioset(split_mode='validation', fixed_padding=False)\n",
    "#emergency_set_val = EmergencyDataset('val')\n",
    "# val_loader = DataLoader(audio_set_val, batch_size=2, collate_fn=audio_set_val.pad_seq)\n",
    "# valid_loader = DataLoader(audio_set_valA, batch_size=1)\n",
    "# valid_loader = DataLoader(audio_set_valA, batch_size=1)"
   ]
  },
  {
   "cell_type": "code",
   "execution_count": 29,
   "metadata": {
    "ExecuteTime": {
     "end_time": "2020-06-10T15:26:43.262314Z",
     "start_time": "2020-06-10T15:26:43.151452Z"
    }
   },
   "outputs": [],
   "source": [
    "from classification.models.crnn.model import AudioCRNN\n",
    "# val_loader = DataLoader(audio_set_val, batch_size=2, collate_fn=audio_set_val.pad_seq)\n",
    "\n",
    "res_path = '/nfs/students/summer-term-2020/project-4/data/models/crnn.pth'\n",
    "checkpoint = torch.load(res_path)\n",
    "\n",
    "model = AudioCRNN(checkpoint['classes'], checkpoint['config'])\n",
    "model.load_state_dict(checkpoint['state_dict'])\n",
    "model = model.eval().cuda()"
   ]
  },
  {
   "cell_type": "code",
   "execution_count": 13,
   "metadata": {
    "ExecuteTime": {
     "end_time": "2020-06-11T12:58:24.048937Z",
     "start_time": "2020-06-11T12:58:23.939645Z"
    }
   },
   "outputs": [],
   "source": [
    "from classification.models.SpectrogramCNN import SpectrogramCNN\n",
    "\n",
    "state_dict_path = '/nfs/students/summer-term-2020/project-4/data/models/SpectrogramBasedCNN.pt'\n",
    "\n",
    "model = SpectrogramCNN()\n",
    "model.load_state_dict(torch.load(state_dict_path))\n",
    "model = model.cuda()\n",
    "model = model.eval()"
   ]
  },
  {
   "cell_type": "code",
   "execution_count": 3,
   "metadata": {
    "ExecuteTime": {
     "end_time": "2020-06-11T12:50:31.996239Z",
     "start_time": "2020-06-11T12:50:29.651237Z"
    }
   },
   "outputs": [],
   "source": [
    "from classification.models.DeepRecursiveCNN import DeepRecursiveCNN\n",
    "\n",
    "model_state_dict_path = \"/nfs/students/summer-term-2020/project-4/yan/models/best_model_state_dict.pt\"\n",
    "model = DeepRecursiveCNN()\n",
    "model.load_state_dict(torch.load(model_state_dict_path))\n",
    "model = model.eval()"
   ]
  },
  {
   "cell_type": "code",
   "execution_count": 40,
   "metadata": {
    "ExecuteTime": {
     "end_time": "2020-06-10T15:34:06.491780Z",
     "start_time": "2020-06-10T15:34:06.055067Z"
    }
   },
   "outputs": [],
   "source": [
    "from classification.models.M5 import M5\n",
    "\n",
    "loaded_dict = torch.load(\"/nfs/homedirs/herrmanp/project-4/experiments/notebooks/pascal/adv_totaly_hig_50epochs.pt\")\n",
    "model = M5(loaded_dict[\"hparams\"])\n",
    "model.load_state_dict(loaded_dict[\"state_dict\"])\n",
    "model = model.eval().cuda()"
   ]
  },
  {
   "cell_type": "markdown",
   "metadata": {},
   "source": [
    "## FGSM"
   ]
  },
  {
   "cell_type": "code",
   "execution_count": 71,
   "metadata": {
    "ExecuteTime": {
     "end_time": "2020-06-11T13:40:27.279577Z",
     "start_time": "2020-06-11T13:40:12.336702Z"
    },
    "scrolled": true
   },
   "outputs": [
    {
     "name": "stderr",
     "output_type": "stream",
     "text": [
      "100%|██████████| 169/169 [00:13<00:00, 12.64it/s]\n"
     ]
    }
   ],
   "source": [
    "from attacks.fga import FastGradientAttack\n",
    "\n",
    "valid_loader = DataLoader(audio_set_valA, batch_size=10)\n",
    "#val_loader = DataLoader(audio_set_valB, batch_size=1, collate_fn=audio_set_val.pad_seq)\n",
    "#valid_loader = DataLoader(emergency_set_val, batch_size=1)\n",
    "\n",
    "attack_parameters = {'epsilon': 0.001}\n",
    "\n",
    "fgsm = FastGradientAttack(model, valid_loader, attack_parameters)\n",
    "fgsm.attack()"
   ]
  },
  {
   "cell_type": "code",
   "execution_count": 74,
   "metadata": {
    "ExecuteTime": {
     "end_time": "2020-06-11T13:40:59.241060Z",
     "start_time": "2020-06-11T13:40:59.216441Z"
    }
   },
   "outputs": [],
   "source": [
    "# fgsm.showAdversarialExample(target_class=1)"
   ]
  },
  {
   "cell_type": "code",
   "execution_count": 75,
   "metadata": {
    "ExecuteTime": {
     "end_time": "2020-06-11T13:41:02.573606Z",
     "start_time": "2020-06-11T13:41:02.548288Z"
    }
   },
   "outputs": [
    {
     "name": "stdout",
     "output_type": "stream",
     "text": [
      "Attack-Parameters:\t{'epsilon': 0.001}\n",
      "Early stopping: \tFalse (-1)\n",
      "\n",
      "Successfully attacked:\t20\n",
      "Total attacked: \t1483\n",
      "Total processed:\t1687\n",
      "\n",
      "Success-Rate: \t\t0.01\n",
      "Perturbed Accurracy: \t0.87\n"
     ]
    }
   ],
   "source": [
    "fgsm.report()"
   ]
  },
  {
   "cell_type": "markdown",
   "metadata": {},
   "source": [
    "## PGD"
   ]
  },
  {
   "cell_type": "code",
   "execution_count": 34,
   "metadata": {
    "ExecuteTime": {
     "end_time": "2020-06-10T15:29:35.872311Z",
     "start_time": "2020-06-10T15:29:08.795350Z"
    }
   },
   "outputs": [
    {
     "name": "stderr",
     "output_type": "stream",
     "text": [
      " 20%|██        | 343/1687 [00:26<01:44, 12.89it/s]"
     ]
    },
    {
     "name": "stdout",
     "output_type": "stream",
     "text": [
      "Early stopping\n"
     ]
    },
    {
     "name": "stderr",
     "output_type": "stream",
     "text": [
      "\n"
     ]
    }
   ],
   "source": [
    "from attacks.pgd import PGD\n",
    "\n",
    "#valid_loader = DataLoader(audio_set_val, batch_size=1)\n",
    "valid_loader = DataLoader(emergency_set_val, batch_size=1)\n",
    "attack_parameters = {'epsilon': 0.5, 'num_iter': 30}\n",
    "\n",
    "pgd = PGD(model, valid_loader, attack_parameters, early_stopping=20)\n",
    "pgd.attack()"
   ]
  },
  {
   "cell_type": "code",
   "execution_count": null,
   "metadata": {},
   "outputs": [],
   "source": [
    "# pgd.showAdversarialExample(sr=FIXED_SAMPLE_RATE, target_class=1)"
   ]
  },
  {
   "cell_type": "code",
   "execution_count": 58,
   "metadata": {
    "ExecuteTime": {
     "end_time": "2020-06-09T11:13:10.386014Z",
     "start_time": "2020-06-09T11:13:10.360040Z"
    }
   },
   "outputs": [
    {
     "name": "stdout",
     "output_type": "stream",
     "text": [
      "Attack-Parameters:\t{'epsilon': 0.5, 'num_iter': 30}\n",
      "Early stopping: \tTrue (20)\n",
      "\n",
      "Successfully attacked:\t20\n",
      "Total attacked: \t40\n",
      "Total processed:\t44\n",
      "\n",
      "Success-Rate: \t\t0.5\n",
      "Perturbed Accurracy: \t0.45\n"
     ]
    }
   ],
   "source": [
    "pgd.report()"
   ]
  },
  {
   "cell_type": "markdown",
   "metadata": {
    "heading_collapsed": true
   },
   "source": [
    "## Volume attacks"
   ]
  },
  {
   "cell_type": "code",
   "execution_count": null,
   "metadata": {
    "ExecuteTime": {
     "end_time": "2020-06-10T15:35:10.330840Z",
     "start_time": "2020-06-10T15:34:46.775316Z"
    },
    "hidden": true
   },
   "outputs": [],
   "source": [
    "from attacks.volume import VolumeAttack\n",
    "\n",
    "valid_loader = DataLoader(audio_set_valA, batch_size=1)\n",
    "#valid_loader = DataLoader(emergency_set_val, batch_size=1)\n",
    "attack_parameters = {'epsilon': 0.1, 'num_iter': 10}\n",
    "\n",
    "vol = VolumeAttack(model, valid_loader, attack_parameters, early_stopping=3)\n",
    "vol.attack()"
   ]
  },
  {
   "cell_type": "code",
   "execution_count": 112,
   "metadata": {
    "ExecuteTime": {
     "end_time": "2020-06-09T11:51:45.595235Z",
     "start_time": "2020-06-09T11:51:45.571513Z"
    },
    "hidden": true
   },
   "outputs": [],
   "source": [
    "# vol.showAdversarialExample(target_class=1)"
   ]
  },
  {
   "cell_type": "code",
   "execution_count": 36,
   "metadata": {
    "ExecuteTime": {
     "end_time": "2020-06-10T15:30:49.495843Z",
     "start_time": "2020-06-10T15:30:49.296143Z"
    },
    "hidden": true
   },
   "outputs": [
    {
     "name": "stdout",
     "output_type": "stream",
     "text": [
      "Attack-Parameters:\t{'epsilon': 0.1, 'num_iter': 10}\n",
      "Early stopping: \tTrue (3)\n",
      "\n",
      "Successfully attacked:\t0\n",
      "Total attacked: \t1356\n",
      "Total processed:\t1687\n",
      "\n",
      "Success-Rate: \t\t0.0\n",
      "Perturbed Accurracy: \t0.8\n"
     ]
    }
   ],
   "source": [
    "vol.report()"
   ]
  },
  {
   "cell_type": "markdown",
   "metadata": {},
   "source": [
    "## Interpolation attack"
   ]
  },
  {
   "cell_type": "code",
   "execution_count": null,
   "metadata": {
    "ExecuteTime": {
     "end_time": "2020-06-10T15:35:24.220594Z",
     "start_time": "2020-06-10T15:35:23.974278Z"
    }
   },
   "outputs": [],
   "source": [
    "import librosa\n",
    "path_tum_sound = '/nfs/students/summer-term-2020/project-4/yan/tum.wav'\n",
    "tum_sound,sr = librosa.load(path_tum_sound, sr=48000)\n",
    "\n",
    "max_length = len(audio_set_valA[0][0])\n",
    "padding = int((max_length - len(tum_sound))/2)\n",
    "zero_padded_data = torch.zeros(max_length)\n",
    "zero_padded_data[padding:padding+tum_sound.shape[0]] = torch.from_numpy(tum_sound)\n",
    "tum_sound = zero_padded_data"
   ]
  },
  {
   "cell_type": "code",
   "execution_count": null,
   "metadata": {
    "ExecuteTime": {
     "end_time": "2020-06-09T12:31:29.814965Z",
     "start_time": "2020-06-09T12:31:27.065502Z"
    },
    "scrolled": true
   },
   "outputs": [],
   "source": [
    "from attacks.interpolation import InterpolationAttack\n",
    "\n",
    "valid_loader = DataLoader(audio_set_val, batch_size=1)\n",
    "attack_parameters = {'epsilon': 0.2, 'num_iter': 30, 'overlay_sound': tum_sound}\n",
    "\n",
    "ia = InterpolationAttack(model, valid_loader, attack_parameters, early_stopping=1)\n",
    "ia.attack()"
   ]
  },
  {
   "cell_type": "code",
   "execution_count": 298,
   "metadata": {
    "ExecuteTime": {
     "end_time": "2020-06-04T20:37:37.917890Z",
     "start_time": "2020-06-04T20:37:37.602498Z"
    }
   },
   "outputs": [],
   "source": [
    "# ia.showAdversarialExample(sr=FIXED_SAMPLE_RATE, target_class=1)"
   ]
  },
  {
   "cell_type": "code",
   "execution_count": 297,
   "metadata": {
    "ExecuteTime": {
     "end_time": "2020-06-04T20:36:31.960045Z",
     "start_time": "2020-06-04T20:36:31.901004Z"
    }
   },
   "outputs": [
    {
     "name": "stdout",
     "output_type": "stream",
     "text": [
      "Attack-Parameters:\t{'epsilon': 0.2, 'num_iter': 30, 'overlay_sound': tensor([0., 0., 0.,  ..., 0., 0., 0.])}\n",
      "Early stopping: \tTrue (1)\n",
      "\n",
      "Successfully attacked:\t1\n",
      "Total attacked: \t67\n",
      "Total processed:\t75\n",
      "\n",
      "Success-Rate: \t\t0.01\n",
      "Perturbed Accurracy: \t0.88\n"
     ]
    }
   ],
   "source": [
    "ia.report()"
   ]
  },
  {
   "cell_type": "markdown",
   "metadata": {},
   "source": [
    "## Time stretching attack"
   ]
  },
  {
   "cell_type": "code",
   "execution_count": null,
   "metadata": {
    "ExecuteTime": {
     "end_time": "2020-06-10T15:36:02.158721Z",
     "start_time": "2020-06-10T15:35:51.349302Z"
    }
   },
   "outputs": [],
   "source": [
    "from attacks.speed import TimeStretchAttack\n",
    "\n",
    "valid_loader = DataLoader(audio_set_val, batch_size=1)\n",
    "attack_parameters = {'num_iter': 30, 'lower': 0.1, 'upper': 0.5}\n",
    "\n",
    "tsa = TimeStretchAttack(model, valid_loader, attack_parameters, early_stopping=5)\n",
    "tsa.attack()"
   ]
  },
  {
   "cell_type": "code",
   "execution_count": null,
   "metadata": {
    "ExecuteTime": {
     "end_time": "2020-06-09T13:09:57.311625Z",
     "start_time": "2020-06-09T13:09:57.194780Z"
    }
   },
   "outputs": [],
   "source": [
    "tsa.showAdversarialExample(target_class=0)"
   ]
  },
  {
   "cell_type": "code",
   "execution_count": 170,
   "metadata": {
    "ExecuteTime": {
     "end_time": "2020-06-09T12:54:16.734791Z",
     "start_time": "2020-06-09T12:54:16.697351Z"
    }
   },
   "outputs": [
    {
     "name": "stdout",
     "output_type": "stream",
     "text": [
      "Attack-Parameters:\t{'num_iter': 30, 'lower': 0.1, 'upper': 1}\n",
      "Early stopping: \tTrue (20)\n",
      "\n",
      "Successfully attacked:\t16\n",
      "Total attacked: \t1483\n",
      "Total processed:\t1687\n",
      "\n",
      "Success-Rate: \t\t0.01\n",
      "Perturbed Accurracy: \t0.87\n"
     ]
    }
   ],
   "source": [
    "tsa.report()"
   ]
  },
  {
   "cell_type": "markdown",
   "metadata": {},
   "source": [
    "## Pitch attack"
   ]
  },
  {
   "cell_type": "code",
   "execution_count": null,
   "metadata": {
    "ExecuteTime": {
     "end_time": "2020-06-10T15:36:48.490408Z",
     "start_time": "2020-06-10T15:36:28.202554Z"
    },
    "scrolled": true
   },
   "outputs": [],
   "source": [
    "from attacks.pitch import PitchAttack\n",
    "\n",
    "valid_loader = DataLoader(audio_set_val, batch_size=1)\n",
    "attack_parameters = {'num_iter': 5, 'lower': 0, 'upper': 10}\n",
    "\n",
    "pa = PitchAttack(model, valid_loader, attack_parameters, early_stopping=10)\n",
    "pa.attack()"
   ]
  },
  {
   "cell_type": "code",
   "execution_count": 6,
   "metadata": {
    "ExecuteTime": {
     "end_time": "2020-06-10T14:38:12.263561Z",
     "start_time": "2020-06-10T14:38:12.085614Z"
    }
   },
   "outputs": [],
   "source": [
    "#pa.showAdversarialExample(target_class=0)"
   ]
  },
  {
   "cell_type": "code",
   "execution_count": 9,
   "metadata": {
    "ExecuteTime": {
     "end_time": "2020-06-09T20:10:37.277823Z",
     "start_time": "2020-06-09T20:10:36.588754Z"
    },
    "scrolled": true
   },
   "outputs": [
    {
     "name": "stdout",
     "output_type": "stream",
     "text": [
      "Attack-Parameters:\t{'num_iter': 5, 'lower': 0, 'upper': 10}\n",
      "Early stopping: \tTrue (10)\n",
      "\n",
      "Successfully attacked:\t10\n",
      "Total attacked: \t87\n",
      "Total processed:\t98\n",
      "\n",
      "Success-Rate: \t\t0.11\n",
      "Perturbed Accurracy: \t0.79\n"
     ]
    }
   ],
   "source": [
    "pa.report()"
   ]
  }
 ],
 "metadata": {
  "kernelspec": {
   "display_name": "Python 3",
   "language": "python",
   "name": "python3"
  },
  "language_info": {
   "codemirror_mode": {
    "name": "ipython",
    "version": 3
   },
   "file_extension": ".py",
   "mimetype": "text/x-python",
   "name": "python",
   "nbconvert_exporter": "python",
   "pygments_lexer": "ipython3",
   "version": "3.8.2"
  },
  "notify_time": "5"
 },
 "nbformat": 4,
 "nbformat_minor": 4
}
