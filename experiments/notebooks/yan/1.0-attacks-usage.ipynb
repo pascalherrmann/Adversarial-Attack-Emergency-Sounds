{
 "cells": [
  {
   "cell_type": "code",
   "execution_count": 9,
   "metadata": {
    "ExecuteTime": {
     "end_time": "2020-06-05T21:15:53.869101Z",
     "start_time": "2020-06-05T21:15:53.835508Z"
    }
   },
   "outputs": [
    {
     "name": "stdout",
     "output_type": "stream",
     "text": [
      "The autoreload extension is already loaded. To reload it, use:\n",
      "  %reload_ext autoreload\n"
     ]
    }
   ],
   "source": [
    "%load_ext autoreload\n",
    "%autoreload 2\n",
    "\n",
    "import os\n",
    "import sys\n",
    "module_path = os.path.abspath(os.path.join('../../../src/'))\n",
    "if module_path not in sys.path:\n",
    "    sys.path.append(module_path)"
   ]
  },
  {
   "cell_type": "markdown",
   "metadata": {},
   "source": [
    "# Load data"
   ]
  },
  {
   "cell_type": "code",
   "execution_count": 10,
   "metadata": {
    "ExecuteTime": {
     "end_time": "2020-06-05T21:15:55.176754Z",
     "start_time": "2020-06-05T21:15:55.153742Z"
    }
   },
   "outputs": [],
   "source": [
    "FIXED_SAMPLE_RATE = 48000"
   ]
  },
  {
   "cell_type": "code",
   "execution_count": 11,
   "metadata": {
    "ExecuteTime": {
     "end_time": "2020-06-05T21:16:24.047461Z",
     "start_time": "2020-06-05T21:15:57.167233Z"
    }
   },
   "outputs": [],
   "source": [
    "import pickle\n",
    "pickle_path = \"/nfs/students/summer-term-2020/project-4/data/dataset1/dataset_resampled/\"\n",
    "training = pickle.load(open(pickle_path + \"training.p\",\"rb\"))\n",
    "validation = pickle.load(open(pickle_path + \"validation.p\",\"rb\"))"
   ]
  },
  {
   "cell_type": "code",
   "execution_count": 12,
   "metadata": {
    "ExecuteTime": {
     "end_time": "2020-06-05T21:16:24.181330Z",
     "start_time": "2020-06-05T21:16:24.050972Z"
    }
   },
   "outputs": [
    {
     "name": "stdout",
     "output_type": "stream",
     "text": [
      "481489\n"
     ]
    }
   ],
   "source": [
    "max_length = 0\n",
    "\n",
    "for sample in training:\n",
    "    max_length = max(max_length, sample['data'][0].shape[0])\n",
    "\n",
    "for sample in validation:\n",
    "    max_length = max(max_length, sample['data'][0].shape[0])\n",
    "    \n",
    "print(max_length)"
   ]
  },
  {
   "cell_type": "code",
   "execution_count": 13,
   "metadata": {
    "ExecuteTime": {
     "end_time": "2020-06-05T21:16:24.220460Z",
     "start_time": "2020-06-05T21:16:24.188392Z"
    }
   },
   "outputs": [],
   "source": [
    "def prepareData(data):\n",
    "    zero_padded_data = torch.zeros(max_length)\n",
    "    zero_padded_data[:data.shape[0]] = torch.from_numpy(data)\n",
    "    return zero_padded_data"
   ]
  },
  {
   "cell_type": "code",
   "execution_count": 14,
   "metadata": {
    "ExecuteTime": {
     "end_time": "2020-06-05T21:16:54.635117Z",
     "start_time": "2020-06-05T21:16:24.226240Z"
    }
   },
   "outputs": [],
   "source": [
    "training_dataset = [(prepareData(sample['data'][0]), 1)\n",
    "                        if sample['binary_class']=='positive' else (prepareData(sample['data'][0]), 0) \n",
    "                        for sample in training]\n",
    "validation_dataset = [(prepareData(sample['data'][0]), 1)\n",
    "                        if sample['binary_class']=='positive' else (prepareData(sample['data'][0]), 0) \n",
    "                        for sample in validation]"
   ]
  },
  {
   "cell_type": "code",
   "execution_count": 7,
   "metadata": {
    "ExecuteTime": {
     "end_time": "2020-06-05T21:15:45.499507Z",
     "start_time": "2020-06-05T21:15:45.335626Z"
    }
   },
   "outputs": [],
   "source": [
    "from classification.models.crnn.model import AudioCRNN\n",
    "import torch \n",
    "\n",
    "res_path = '/nfs/students/summer-term-2020/project-4/data/models/crnn.pth' # Path of trained model\n",
    "checkpoint = torch.load(res_path)\n",
    "\n",
    "#model = AudioCRNN(checkpoint['classes'], checkpoint['config'])\n",
    "#model.load_state_dict(checkpoint['state_dict'])"
   ]
  },
  {
   "cell_type": "markdown",
   "metadata": {},
   "source": [
    "# Attacks"
   ]
  },
  {
   "cell_type": "code",
   "execution_count": 15,
   "metadata": {
    "ExecuteTime": {
     "end_time": "2020-06-05T21:16:55.602396Z",
     "start_time": "2020-06-05T21:16:54.677310Z"
    }
   },
   "outputs": [],
   "source": [
    "from classification.models.DeepRecursiveCNN import DeepRecursiveCNN\n",
    "\n",
    "model_state_dict_path = \"/nfs/students/summer-term-2020/project-4/yan/models/best_model_state_dict.pt\"\n",
    "model = DeepRecursiveCNN()\n",
    "model.load_state_dict(torch.load(model_state_dict_path))\n",
    "model = model.eval()"
   ]
  },
  {
   "cell_type": "markdown",
   "metadata": {},
   "source": [
    "## FGSM"
   ]
  },
  {
   "cell_type": "code",
   "execution_count": 31,
   "metadata": {
    "ExecuteTime": {
     "end_time": "2020-06-05T20:21:58.749431Z",
     "start_time": "2020-06-05T20:21:42.570590Z"
    }
   },
   "outputs": [
    {
     "name": "stderr",
     "output_type": "stream",
     "text": [
      "  3%|▎         | 53/1687 [00:08<04:15,  6.40it/s] "
     ]
    },
    {
     "name": "stdout",
     "output_type": "stream",
     "text": [
      "Early stopping\n"
     ]
    },
    {
     "name": "stderr",
     "output_type": "stream",
     "text": [
      "\n"
     ]
    }
   ],
   "source": [
    "from attacks.fgsm import FGSM\n",
    "\n",
    "valid_loader = torch.utils.data.DataLoader(validation_dataset, batch_size=1, shuffle=False)\n",
    "attack_parameters = {'epsilon': 0.2}\n",
    "\n",
    "fgsm = FGSM(model, valid_loader, attack_parameters, early_stopping=20)\n",
    "fgsm.attack()"
   ]
  },
  {
   "cell_type": "code",
   "execution_count": null,
   "metadata": {},
   "outputs": [],
   "source": [
    "# fgsm.showAdversarialExample(sr=FIXED_SAMPLE_RATE, target_class=1)"
   ]
  },
  {
   "cell_type": "code",
   "execution_count": 228,
   "metadata": {
    "ExecuteTime": {
     "end_time": "2020-06-04T19:56:30.255109Z",
     "start_time": "2020-06-04T19:56:30.111146Z"
    }
   },
   "outputs": [
    {
     "name": "stdout",
     "output_type": "stream",
     "text": [
      "Attack-Parameters:\t{'epsilon': 0.2}\n",
      "Early stopping: \tTrue (20)\n",
      "\n",
      "Successfully attacked:\t20\n",
      "Total attacked: \t49\n",
      "Total processed:\t54\n",
      "\n",
      "Success-Rate: \t\t0.41\n",
      "Perturbed Accurracy: \t0.54\n"
     ]
    }
   ],
   "source": [
    "fgsm.report()"
   ]
  },
  {
   "cell_type": "markdown",
   "metadata": {},
   "source": [
    "## PGD"
   ]
  },
  {
   "cell_type": "code",
   "execution_count": 221,
   "metadata": {
    "ExecuteTime": {
     "end_time": "2020-06-04T19:47:46.082401Z",
     "start_time": "2020-06-04T19:46:34.043637Z"
    }
   },
   "outputs": [
    {
     "name": "stderr",
     "output_type": "stream",
     "text": [
      "  2%|▏         | 40/1687 [01:09<47:23,  1.73s/it]"
     ]
    },
    {
     "name": "stdout",
     "output_type": "stream",
     "text": [
      "Early stopping\n"
     ]
    },
    {
     "name": "stderr",
     "output_type": "stream",
     "text": [
      "\n"
     ]
    }
   ],
   "source": [
    "from attacks.pgd import PGD\n",
    "\n",
    "valid_loader = torch.utils.data.DataLoader(validation_dataset, batch_size=1, shuffle=False)\n",
    "attack_parameters = {'epsilon': 0.5, 'num_iter': 30}\n",
    "\n",
    "pgd = PGD(model, valid_loader, attack_parameters, early_stopping=20)\n",
    "pgd.attack()"
   ]
  },
  {
   "cell_type": "code",
   "execution_count": null,
   "metadata": {},
   "outputs": [],
   "source": [
    "# pgd.showAdversarialExample(sr=FIXED_SAMPLE_RATE, target_class=1)"
   ]
  },
  {
   "cell_type": "code",
   "execution_count": 222,
   "metadata": {
    "ExecuteTime": {
     "end_time": "2020-06-04T19:48:07.908980Z",
     "start_time": "2020-06-04T19:48:07.457106Z"
    }
   },
   "outputs": [
    {
     "name": "stdout",
     "output_type": "stream",
     "text": [
      "Attack-Parameters:\t{'epsilon': 0.5, 'num_iter': 30}\n",
      "Early stopping: \tTrue (20)\n",
      "\n",
      "Successfully attacked:\t20\n",
      "Total attacked: \t37\n",
      "Total processed:\t41\n",
      "\n",
      "Success-Rate: \t\t0.54\n",
      "Perturbed Accurracy: \t0.41\n"
     ]
    }
   ],
   "source": [
    "pgd.report()"
   ]
  },
  {
   "cell_type": "markdown",
   "metadata": {},
   "source": [
    "## Volume attacks"
   ]
  },
  {
   "cell_type": "code",
   "execution_count": 287,
   "metadata": {
    "ExecuteTime": {
     "end_time": "2020-06-04T20:33:13.923892Z",
     "start_time": "2020-06-04T20:32:56.992883Z"
    }
   },
   "outputs": [
    {
     "name": "stderr",
     "output_type": "stream",
     "text": [
      "  0%|          | 7/1687 [00:14<58:05,  2.07s/it]"
     ]
    },
    {
     "name": "stdout",
     "output_type": "stream",
     "text": [
      "Early stopping\n"
     ]
    },
    {
     "name": "stderr",
     "output_type": "stream",
     "text": [
      "\n"
     ]
    }
   ],
   "source": [
    "from attacks.volume import VolumeAttack\n",
    "\n",
    "valid_loader = torch.utils.data.DataLoader(validation_dataset, batch_size=1, shuffle=False)\n",
    "attack_parameters = {'epsilon': 0.2, 'num_iter': 30}\n",
    "\n",
    "vol = VolumeAttack(model, valid_loader, attack_parameters, early_stopping=1)\n",
    "vol.attack()"
   ]
  },
  {
   "cell_type": "code",
   "execution_count": 282,
   "metadata": {
    "ExecuteTime": {
     "end_time": "2020-06-04T20:22:25.973061Z",
     "start_time": "2020-06-04T20:22:25.657473Z"
    }
   },
   "outputs": [],
   "source": [
    "# vol.showAdversarialExample(sr=FIXED_SAMPLE_RATE, target_class=1)"
   ]
  },
  {
   "cell_type": "code",
   "execution_count": 283,
   "metadata": {
    "ExecuteTime": {
     "end_time": "2020-06-04T20:22:30.868960Z",
     "start_time": "2020-06-04T20:22:30.818977Z"
    }
   },
   "outputs": [
    {
     "name": "stdout",
     "output_type": "stream",
     "text": [
      "Attack-Parameters:\t{'epsilon': 0.2, 'num_iter': 30}\n",
      "Early stopping: \tTrue (1)\n",
      "\n",
      "Successfully attacked:\t1\n",
      "Total attacked: \t8\n",
      "Total processed:\t8\n",
      "\n",
      "Success-Rate: \t\t0.12\n",
      "Perturbed Accurracy: \t0.88\n"
     ]
    }
   ],
   "source": [
    "vol.report()"
   ]
  },
  {
   "cell_type": "markdown",
   "metadata": {},
   "source": [
    "## Interpolation attack"
   ]
  },
  {
   "cell_type": "code",
   "execution_count": 284,
   "metadata": {
    "ExecuteTime": {
     "end_time": "2020-06-04T20:32:36.103205Z",
     "start_time": "2020-06-04T20:32:35.700443Z"
    }
   },
   "outputs": [],
   "source": [
    "path_tum_sound = '/nfs/students/summer-term-2020/project-4/yan/tum.wav'\n",
    "tum_sound,sr = librosa.load(path_tum_sound, sr=FIXED_SAMPLE_RATE)\n",
    "padding = int((max_length - len(tum_sound))/2)\n",
    "zero_padded_data = torch.zeros(max_length)\n",
    "zero_padded_data[padding:padding+tum_sound.shape[0]] = torch.from_numpy(tum_sound)\n",
    "tum_sound = zero_padded_data"
   ]
  },
  {
   "cell_type": "code",
   "execution_count": 295,
   "metadata": {
    "ExecuteTime": {
     "end_time": "2020-06-04T20:36:31.560915Z",
     "start_time": "2020-06-04T20:34:25.924385Z"
    }
   },
   "outputs": [
    {
     "name": "stderr",
     "output_type": "stream",
     "text": [
      "  4%|▍         | 74/1687 [02:04<45:03,  1.68s/it]"
     ]
    },
    {
     "name": "stdout",
     "output_type": "stream",
     "text": [
      "Early stopping\n"
     ]
    },
    {
     "name": "stderr",
     "output_type": "stream",
     "text": [
      "\n"
     ]
    }
   ],
   "source": [
    "from attacks.interpolation import InterpolationAttack\n",
    "\n",
    "valid_loader = torch.utils.data.DataLoader(validation_dataset, batch_size=1, shuffle=False)\n",
    "attack_parameters = {'epsilon': 0.2, 'num_iter': 30, 'overlay_sound': tum_sound}\n",
    "\n",
    "ia = InterpolationAttack(model, valid_loader, attack_parameters, early_stopping=1)\n",
    "ia.attack()"
   ]
  },
  {
   "cell_type": "code",
   "execution_count": 298,
   "metadata": {
    "ExecuteTime": {
     "end_time": "2020-06-04T20:37:37.917890Z",
     "start_time": "2020-06-04T20:37:37.602498Z"
    }
   },
   "outputs": [],
   "source": [
    "# ia.showAdversarialExample(sr=FIXED_SAMPLE_RATE, target_class=1)"
   ]
  },
  {
   "cell_type": "code",
   "execution_count": 297,
   "metadata": {
    "ExecuteTime": {
     "end_time": "2020-06-04T20:36:31.960045Z",
     "start_time": "2020-06-04T20:36:31.901004Z"
    }
   },
   "outputs": [
    {
     "name": "stdout",
     "output_type": "stream",
     "text": [
      "Attack-Parameters:\t{'epsilon': 0.2, 'num_iter': 30, 'overlay_sound': tensor([0., 0., 0.,  ..., 0., 0., 0.])}\n",
      "Early stopping: \tTrue (1)\n",
      "\n",
      "Successfully attacked:\t1\n",
      "Total attacked: \t67\n",
      "Total processed:\t75\n",
      "\n",
      "Success-Rate: \t\t0.01\n",
      "Perturbed Accurracy: \t0.88\n"
     ]
    }
   ],
   "source": [
    "ia.report()"
   ]
  },
  {
   "cell_type": "markdown",
   "metadata": {},
   "source": [
    "## Time stretching attack"
   ]
  },
  {
   "cell_type": "code",
   "execution_count": 332,
   "metadata": {
    "ExecuteTime": {
     "end_time": "2020-06-04T21:01:00.646376Z",
     "start_time": "2020-06-04T21:00:17.864261Z"
    }
   },
   "outputs": [
    {
     "name": "stderr",
     "output_type": "stream",
     "text": [
      "  0%|          | 7/1687 [00:40<2:42:50,  5.82s/it]"
     ]
    },
    {
     "name": "stdout",
     "output_type": "stream",
     "text": [
      "Early stopping\n"
     ]
    },
    {
     "name": "stderr",
     "output_type": "stream",
     "text": [
      "\n"
     ]
    }
   ],
   "source": [
    "from attacks.speed import TimeStretchAttack\n",
    "\n",
    "valid_loader = torch.utils.data.DataLoader(validation_dataset, batch_size=1, shuffle=False)\n",
    "attack_parameters = {'epsilon': 0.2, 'num_iter': 30}\n",
    "\n",
    "tsa = TimeStretchAttack(model, valid_loader, attack_parameters, early_stopping=1)\n",
    "tsa.attack()"
   ]
  },
  {
   "cell_type": "code",
   "execution_count": 334,
   "metadata": {
    "ExecuteTime": {
     "end_time": "2020-06-04T21:01:52.957059Z",
     "start_time": "2020-06-04T21:01:52.582872Z"
    }
   },
   "outputs": [],
   "source": [
    "# tsa.showAdversarialExample(sr=FIXED_SAMPLE_RATE, target_class=1)"
   ]
  },
  {
   "cell_type": "code",
   "execution_count": 335,
   "metadata": {
    "ExecuteTime": {
     "end_time": "2020-06-04T21:02:06.201818Z",
     "start_time": "2020-06-04T21:02:05.820610Z"
    }
   },
   "outputs": [
    {
     "name": "stdout",
     "output_type": "stream",
     "text": [
      "Attack-Parameters:\t{'epsilon': 0.2, 'num_iter': 30}\n",
      "Early stopping: \tTrue (1)\n",
      "\n",
      "Successfully attacked:\t1\n",
      "Total attacked: \t8\n",
      "Total processed:\t8\n",
      "\n",
      "Success-Rate: \t\t0.12\n",
      "Perturbed Accurracy: \t0.88\n"
     ]
    }
   ],
   "source": [
    "tsa.report()"
   ]
  },
  {
   "cell_type": "markdown",
   "metadata": {},
   "source": [
    "# Pitch attack"
   ]
  },
  {
   "cell_type": "code",
   "execution_count": null,
   "metadata": {
    "ExecuteTime": {
     "start_time": "2020-06-05T22:47:49.349Z"
    },
    "scrolled": true
   },
   "outputs": [
    {
     "name": "stderr",
     "output_type": "stream",
     "text": [
      "\r",
      "  0%|          | 0/1687 [00:00<?, ?it/s]"
     ]
    },
    {
     "name": "stdout",
     "output_type": "stream",
     "text": [
      "start\n",
      "done\n",
      "start\n",
      "done\n",
      "start\n",
      "done\n",
      "start\n",
      "done\n",
      "start\n"
     ]
    },
    {
     "name": "stderr",
     "output_type": "stream",
     "text": [
      "\r",
      "  0%|          | 1/1687 [02:53<81:09:01, 173.27s/it]"
     ]
    },
    {
     "name": "stdout",
     "output_type": "stream",
     "text": [
      "done\n",
      "start\n",
      "done\n",
      "start\n",
      "done\n",
      "start\n",
      "done\n",
      "start\n",
      "done\n",
      "start\n"
     ]
    },
    {
     "name": "stderr",
     "output_type": "stream",
     "text": [
      "\r",
      "  0%|          | 2/1687 [05:46<81:05:59, 173.27s/it]"
     ]
    },
    {
     "name": "stdout",
     "output_type": "stream",
     "text": [
      "done\n",
      "start\n",
      "done\n",
      "start\n",
      "done\n",
      "start\n",
      "done\n",
      "start\n",
      "done\n",
      "start\n"
     ]
    },
    {
     "name": "stderr",
     "output_type": "stream",
     "text": [
      "\r",
      "  0%|          | 3/1687 [08:41<81:16:26, 173.75s/it]"
     ]
    },
    {
     "name": "stdout",
     "output_type": "stream",
     "text": [
      "done\n",
      "start\n",
      "done\n",
      "start\n",
      "done\n",
      "start\n",
      "done\n",
      "start\n",
      "done\n",
      "start\n"
     ]
    },
    {
     "name": "stderr",
     "output_type": "stream",
     "text": [
      "\r",
      "  0%|          | 4/1687 [11:14<78:23:53, 167.70s/it]"
     ]
    },
    {
     "name": "stdout",
     "output_type": "stream",
     "text": [
      "done\n",
      "start\n",
      "done\n",
      "start\n",
      "done\n",
      "start\n",
      "done\n",
      "start\n",
      "done\n",
      "start\n"
     ]
    },
    {
     "name": "stderr",
     "output_type": "stream",
     "text": [
      "\r",
      "  0%|          | 5/1687 [13:14<71:39:23, 153.37s/it]"
     ]
    },
    {
     "name": "stdout",
     "output_type": "stream",
     "text": [
      "done\n",
      "start\n",
      "done\n",
      "start\n",
      "done\n",
      "start\n",
      "done\n",
      "start\n",
      "done\n",
      "start\n"
     ]
    },
    {
     "name": "stderr",
     "output_type": "stream",
     "text": [
      "\r",
      "  0%|          | 6/1687 [15:06<65:41:39, 140.69s/it]"
     ]
    },
    {
     "name": "stdout",
     "output_type": "stream",
     "text": [
      "done\n",
      "start\n",
      "done\n",
      "start\n",
      "done\n",
      "start\n",
      "done\n",
      "start\n",
      "done\n",
      "start\n"
     ]
    },
    {
     "name": "stderr",
     "output_type": "stream",
     "text": [
      "\r",
      "  0%|          | 7/1687 [16:44<59:44:52, 128.03s/it]"
     ]
    },
    {
     "name": "stdout",
     "output_type": "stream",
     "text": [
      "done\n",
      "start\n",
      "done\n",
      "start\n",
      "done\n",
      "start\n",
      "done\n",
      "start\n",
      "done\n",
      "start\n"
     ]
    },
    {
     "name": "stderr",
     "output_type": "stream",
     "text": [
      "\r",
      "  0%|          | 8/1687 [18:24<55:44:45, 119.53s/it]"
     ]
    },
    {
     "name": "stdout",
     "output_type": "stream",
     "text": [
      "done\n",
      "start\n",
      "done\n",
      "start\n",
      "done\n",
      "start\n",
      "done\n",
      "start\n",
      "done\n",
      "start\n"
     ]
    },
    {
     "name": "stderr",
     "output_type": "stream",
     "text": [
      "\r",
      "  1%|          | 9/1687 [19:56<51:57:18, 111.47s/it]"
     ]
    },
    {
     "name": "stdout",
     "output_type": "stream",
     "text": [
      "done\n",
      "start\n",
      "done\n",
      "start\n",
      "done\n",
      "start\n",
      "done\n",
      "start\n",
      "done\n",
      "start\n"
     ]
    }
   ],
   "source": [
    "from attacks.pitch import PitchAttack\n",
    "\n",
    "valid_loader = torch.utils.data.DataLoader(validation_dataset, batch_size=1, shuffle=False)\n",
    "attack_parameters = {'num_iter': 5, 'sr': FIXED_SAMPLE_RATE}\n",
    "\n",
    "pa = PitchAttack(model, valid_loader, attack_parameters, early_stopping=1)\n",
    "pa.attack()"
   ]
  }
 ],
 "metadata": {
  "kernelspec": {
   "display_name": "Python 3",
   "language": "python",
   "name": "python3"
  },
  "language_info": {
   "codemirror_mode": {
    "name": "ipython",
    "version": 3
   },
   "file_extension": ".py",
   "mimetype": "text/x-python",
   "name": "python",
   "nbconvert_exporter": "python",
   "pygments_lexer": "ipython3",
   "version": "3.8.2"
  },
  "notify_time": "5"
 },
 "nbformat": 4,
 "nbformat_minor": 4
}
