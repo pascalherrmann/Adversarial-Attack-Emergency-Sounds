{
 "cells": [
  {
   "cell_type": "code",
   "execution_count": 1,
   "metadata": {
    "ExecuteTime": {
     "end_time": "2020-06-08T22:18:51.644770Z",
     "start_time": "2020-06-08T22:18:44.503240Z"
    }
   },
   "outputs": [],
   "source": [
    "%load_ext autoreload\n",
    "%autoreload 2\n",
    "import torch\n",
    "\n",
    "import os\n",
    "import sys\n",
    "module_path = os.path.abspath(os.path.join('../../../src/'))\n",
    "if module_path not in sys.path:\n",
    "    sys.path.append(module_path)"
   ]
  },
  {
   "cell_type": "code",
   "execution_count": 2,
   "metadata": {
    "ExecuteTime": {
     "end_time": "2020-06-08T22:18:51.727684Z",
     "start_time": "2020-06-08T22:18:51.648930Z"
    }
   },
   "outputs": [],
   "source": [
    "FIXED_SAMPLE_RATE = 48000"
   ]
  },
  {
   "cell_type": "markdown",
   "metadata": {
    "heading_collapsed": true
   },
   "source": [
    "# Load data"
   ]
  },
  {
   "cell_type": "code",
   "execution_count": 3,
   "metadata": {
    "ExecuteTime": {
     "end_time": "2020-06-08T22:19:32.467798Z",
     "start_time": "2020-06-08T22:18:51.731794Z"
    },
    "hidden": true
   },
   "outputs": [],
   "source": [
    "import pickle\n",
    "pickle_path = \"/nfs/students/summer-term-2020/project-4/data/dataset1/dataset_resampled/\"\n",
    "training = pickle.load(open(pickle_path + \"training.p\",\"rb\"))\n",
    "validation = pickle.load(open(pickle_path + \"validation.p\",\"rb\"))"
   ]
  },
  {
   "cell_type": "code",
   "execution_count": 4,
   "metadata": {
    "ExecuteTime": {
     "end_time": "2020-06-08T22:19:32.615701Z",
     "start_time": "2020-06-08T22:19:32.472310Z"
    },
    "hidden": true
   },
   "outputs": [
    {
     "name": "stdout",
     "output_type": "stream",
     "text": [
      "481489\n"
     ]
    }
   ],
   "source": [
    "max_length = 0\n",
    "\n",
    "for sample in training:\n",
    "    max_length = max(max_length, sample['data'][0].shape[0])\n",
    "\n",
    "for sample in validation:\n",
    "    max_length = max(max_length, sample['data'][0].shape[0])\n",
    "    \n",
    "print(max_length)"
   ]
  },
  {
   "cell_type": "code",
   "execution_count": 5,
   "metadata": {
    "ExecuteTime": {
     "end_time": "2020-06-08T22:19:32.631695Z",
     "start_time": "2020-06-08T22:19:32.619299Z"
    },
    "hidden": true
   },
   "outputs": [],
   "source": [
    "def prepareData(data):\n",
    "    zero_padded_data = torch.zeros(max_length)\n",
    "    zero_padded_data[:data.shape[0]] = torch.from_numpy(data)\n",
    "    return zero_padded_data"
   ]
  },
  {
   "cell_type": "code",
   "execution_count": 6,
   "metadata": {
    "ExecuteTime": {
     "end_time": "2020-06-08T22:19:55.434156Z",
     "start_time": "2020-06-08T22:19:32.635547Z"
    },
    "hidden": true
   },
   "outputs": [],
   "source": [
    "training_dataset = [(prepareData(sample['data'][0]), 1)\n",
    "                        if sample['binary_class']=='positive' else (prepareData(sample['data'][0]), 0) \n",
    "                        for sample in training]\n",
    "validation_dataset = [(prepareData(sample['data'][0]), 1)\n",
    "                        if sample['binary_class']=='positive' else (prepareData(sample['data'][0]), 0) \n",
    "                        for sample in validation]"
   ]
  },
  {
   "cell_type": "markdown",
   "metadata": {},
   "source": [
    "# Attacks"
   ]
  },
  {
   "cell_type": "code",
   "execution_count": 40,
   "metadata": {
    "ExecuteTime": {
     "end_time": "2020-06-08T22:36:20.527603Z",
     "start_time": "2020-06-08T22:36:20.385514Z"
    }
   },
   "outputs": [],
   "source": [
    "from classification.models.crnn.model import AudioCRNN # this might change depending on import mechanism\n",
    "\n",
    "from datasets.audioset import Audioset\n",
    "from torchvision import transforms\n",
    "from torch.utils.data import DataLoader"
   ]
  },
  {
   "cell_type": "code",
   "execution_count": 13,
   "metadata": {
    "ExecuteTime": {
     "end_time": "2020-06-08T22:22:52.528495Z",
     "start_time": "2020-06-08T22:22:49.008183Z"
    }
   },
   "outputs": [],
   "source": [
    "audio_set_val = Audioset(split_mode='validation', fixed_padding=False)"
   ]
  },
  {
   "cell_type": "code",
   "execution_count": 11,
   "metadata": {
    "ExecuteTime": {
     "end_time": "2020-06-08T22:22:01.966258Z",
     "start_time": "2020-06-08T22:22:00.809175Z"
    }
   },
   "outputs": [],
   "source": [
    "res_path = '/nfs/students/summer-term-2020/project-4/data/models/crnn.pth'\n",
    "checkpoint = torch.load(res_path)\n",
    "\n",
    "model = AudioCRNN(checkpoint['classes'], checkpoint['config'])\n",
    "model.load_state_dict(checkpoint['state_dict'])\n",
    "model = model.cuda()\n",
    "model = model.eval()"
   ]
  },
  {
   "cell_type": "code",
   "execution_count": 7,
   "metadata": {
    "ExecuteTime": {
     "end_time": "2020-06-08T22:20:08.689318Z",
     "start_time": "2020-06-08T22:19:55.534584Z"
    }
   },
   "outputs": [],
   "source": [
    "from classification.models.DeepRecursiveCNN import DeepRecursiveCNN\n",
    "\n",
    "model_state_dict_path = \"/nfs/students/summer-term-2020/project-4/yan/models/best_model_state_dict.pt\"\n",
    "model = DeepRecursiveCNN()\n",
    "model.load_state_dict(torch.load(model_state_dict_path))\n",
    "model = model.eval()"
   ]
  },
  {
   "cell_type": "markdown",
   "metadata": {
    "heading_collapsed": true
   },
   "source": [
    "## FGSM"
   ]
  },
  {
   "cell_type": "code",
   "execution_count": 41,
   "metadata": {
    "ExecuteTime": {
     "end_time": "2020-06-08T22:36:23.394495Z",
     "start_time": "2020-06-08T22:36:23.368970Z"
    },
    "hidden": true
   },
   "outputs": [],
   "source": [
    "from attacks.attack import Attack\n",
    "import torch.nn.functional as F\n",
    "\n",
    "class FGSM(Attack):\n",
    "    \n",
    "    def attackSample(self, x, y, norm='inf', epsilon=0):\n",
    "        print(x)\n",
    "        x[0].requires_grad_()\n",
    "        \n",
    "        loss = F.nll_loss(self.model(x), y)\n",
    "        self.model.zero_grad()\n",
    "        loss.backward()\n",
    "\n",
    "        if norm == \"inf\":\n",
    "            x[0] = x[0] + epsilon * x[0].grad.data.sign()\n",
    "        else:\n",
    "            normed_grad = x.grad.data.norm(p=float(norm), dim=[2,3]).unsqueeze(2).unsqueeze(3)\n",
    "            x[0] = x[0] + epsilon * x.grad.data/normed_grad\n",
    "\n",
    "        # projection in case epsilon is too large\n",
    "        x[0] = x[0].clamp(-1, 1).detach()  \n",
    "        return x"
   ]
  },
  {
   "cell_type": "code",
   "execution_count": null,
   "metadata": {
    "ExecuteTime": {
     "end_time": "2020-06-08T22:39:15.168072Z",
     "start_time": "2020-06-08T22:39:13.811914Z"
    },
    "hidden": true,
    "scrolled": true
   },
   "outputs": [],
   "source": [
    "#from attacks.fgsm import FGSM\n",
    "\n",
    "#valid_loader = torch.utils.data.DataLoader(validation_dataset, batch_size=1, shuffle=False)\n",
    "valid_loader = DataLoader(audio_set_val, batch_size=1, collate_fn=audio_set_val.pad_seq)\n",
    "attack_parameters = {'epsilon': 0.2}\n",
    "\n",
    "fgsm = FGSM(model, valid_loader, attack_parameters, early_stopping=20)\n",
    "fgsm.attack()"
   ]
  },
  {
   "cell_type": "code",
   "execution_count": null,
   "metadata": {
    "hidden": true
   },
   "outputs": [],
   "source": [
    "# fgsm.showAdversarialExample(sr=FIXED_SAMPLE_RATE, target_class=1)"
   ]
  },
  {
   "cell_type": "code",
   "execution_count": 228,
   "metadata": {
    "ExecuteTime": {
     "end_time": "2020-06-04T19:56:30.255109Z",
     "start_time": "2020-06-04T19:56:30.111146Z"
    },
    "hidden": true
   },
   "outputs": [
    {
     "name": "stdout",
     "output_type": "stream",
     "text": [
      "Attack-Parameters:\t{'epsilon': 0.2}\n",
      "Early stopping: \tTrue (20)\n",
      "\n",
      "Successfully attacked:\t20\n",
      "Total attacked: \t49\n",
      "Total processed:\t54\n",
      "\n",
      "Success-Rate: \t\t0.41\n",
      "Perturbed Accurracy: \t0.54\n"
     ]
    }
   ],
   "source": [
    "fgsm.report()"
   ]
  },
  {
   "cell_type": "markdown",
   "metadata": {
    "heading_collapsed": true
   },
   "source": [
    "## PGD"
   ]
  },
  {
   "cell_type": "code",
   "execution_count": 221,
   "metadata": {
    "ExecuteTime": {
     "end_time": "2020-06-04T19:47:46.082401Z",
     "start_time": "2020-06-04T19:46:34.043637Z"
    },
    "hidden": true
   },
   "outputs": [
    {
     "name": "stderr",
     "output_type": "stream",
     "text": [
      "  2%|▏         | 40/1687 [01:09<47:23,  1.73s/it]"
     ]
    },
    {
     "name": "stdout",
     "output_type": "stream",
     "text": [
      "Early stopping\n"
     ]
    },
    {
     "name": "stderr",
     "output_type": "stream",
     "text": [
      "\n"
     ]
    }
   ],
   "source": [
    "from attacks.pgd import PGD\n",
    "\n",
    "valid_loader = torch.utils.data.DataLoader(validation_dataset, batch_size=1, shuffle=False)\n",
    "attack_parameters = {'epsilon': 0.5, 'num_iter': 30}\n",
    "\n",
    "pgd = PGD(model, valid_loader, attack_parameters, early_stopping=20)\n",
    "pgd.attack()"
   ]
  },
  {
   "cell_type": "code",
   "execution_count": null,
   "metadata": {
    "hidden": true
   },
   "outputs": [],
   "source": [
    "# pgd.showAdversarialExample(sr=FIXED_SAMPLE_RATE, target_class=1)"
   ]
  },
  {
   "cell_type": "code",
   "execution_count": 222,
   "metadata": {
    "ExecuteTime": {
     "end_time": "2020-06-04T19:48:07.908980Z",
     "start_time": "2020-06-04T19:48:07.457106Z"
    },
    "hidden": true
   },
   "outputs": [
    {
     "name": "stdout",
     "output_type": "stream",
     "text": [
      "Attack-Parameters:\t{'epsilon': 0.5, 'num_iter': 30}\n",
      "Early stopping: \tTrue (20)\n",
      "\n",
      "Successfully attacked:\t20\n",
      "Total attacked: \t37\n",
      "Total processed:\t41\n",
      "\n",
      "Success-Rate: \t\t0.54\n",
      "Perturbed Accurracy: \t0.41\n"
     ]
    }
   ],
   "source": [
    "pgd.report()"
   ]
  },
  {
   "cell_type": "markdown",
   "metadata": {
    "heading_collapsed": true
   },
   "source": [
    "## Volume attacks"
   ]
  },
  {
   "cell_type": "code",
   "execution_count": 287,
   "metadata": {
    "ExecuteTime": {
     "end_time": "2020-06-04T20:33:13.923892Z",
     "start_time": "2020-06-04T20:32:56.992883Z"
    },
    "hidden": true
   },
   "outputs": [
    {
     "name": "stderr",
     "output_type": "stream",
     "text": [
      "  0%|          | 7/1687 [00:14<58:05,  2.07s/it]"
     ]
    },
    {
     "name": "stdout",
     "output_type": "stream",
     "text": [
      "Early stopping\n"
     ]
    },
    {
     "name": "stderr",
     "output_type": "stream",
     "text": [
      "\n"
     ]
    }
   ],
   "source": [
    "from attacks.volume import VolumeAttack\n",
    "\n",
    "valid_loader = torch.utils.data.DataLoader(validation_dataset, batch_size=1, shuffle=False)\n",
    "attack_parameters = {'epsilon': 0.2, 'num_iter': 30}\n",
    "\n",
    "vol = VolumeAttack(model, valid_loader, attack_parameters, early_stopping=1)\n",
    "vol.attack()"
   ]
  },
  {
   "cell_type": "code",
   "execution_count": 282,
   "metadata": {
    "ExecuteTime": {
     "end_time": "2020-06-04T20:22:25.973061Z",
     "start_time": "2020-06-04T20:22:25.657473Z"
    },
    "hidden": true
   },
   "outputs": [],
   "source": [
    "# vol.showAdversarialExample(sr=FIXED_SAMPLE_RATE, target_class=1)"
   ]
  },
  {
   "cell_type": "code",
   "execution_count": 283,
   "metadata": {
    "ExecuteTime": {
     "end_time": "2020-06-04T20:22:30.868960Z",
     "start_time": "2020-06-04T20:22:30.818977Z"
    },
    "hidden": true
   },
   "outputs": [
    {
     "name": "stdout",
     "output_type": "stream",
     "text": [
      "Attack-Parameters:\t{'epsilon': 0.2, 'num_iter': 30}\n",
      "Early stopping: \tTrue (1)\n",
      "\n",
      "Successfully attacked:\t1\n",
      "Total attacked: \t8\n",
      "Total processed:\t8\n",
      "\n",
      "Success-Rate: \t\t0.12\n",
      "Perturbed Accurracy: \t0.88\n"
     ]
    }
   ],
   "source": [
    "vol.report()"
   ]
  },
  {
   "cell_type": "markdown",
   "metadata": {
    "heading_collapsed": true
   },
   "source": [
    "## Interpolation attack"
   ]
  },
  {
   "cell_type": "code",
   "execution_count": 284,
   "metadata": {
    "ExecuteTime": {
     "end_time": "2020-06-04T20:32:36.103205Z",
     "start_time": "2020-06-04T20:32:35.700443Z"
    },
    "hidden": true
   },
   "outputs": [],
   "source": [
    "path_tum_sound = '/nfs/students/summer-term-2020/project-4/yan/tum.wav'\n",
    "tum_sound,sr = librosa.load(path_tum_sound, sr=FIXED_SAMPLE_RATE)\n",
    "padding = int((max_length - len(tum_sound))/2)\n",
    "zero_padded_data = torch.zeros(max_length)\n",
    "zero_padded_data[padding:padding+tum_sound.shape[0]] = torch.from_numpy(tum_sound)\n",
    "tum_sound = zero_padded_data"
   ]
  },
  {
   "cell_type": "code",
   "execution_count": 295,
   "metadata": {
    "ExecuteTime": {
     "end_time": "2020-06-04T20:36:31.560915Z",
     "start_time": "2020-06-04T20:34:25.924385Z"
    },
    "hidden": true
   },
   "outputs": [
    {
     "name": "stderr",
     "output_type": "stream",
     "text": [
      "  4%|▍         | 74/1687 [02:04<45:03,  1.68s/it]"
     ]
    },
    {
     "name": "stdout",
     "output_type": "stream",
     "text": [
      "Early stopping\n"
     ]
    },
    {
     "name": "stderr",
     "output_type": "stream",
     "text": [
      "\n"
     ]
    }
   ],
   "source": [
    "from attacks.interpolation import InterpolationAttack\n",
    "\n",
    "valid_loader = torch.utils.data.DataLoader(validation_dataset, batch_size=1, shuffle=False)\n",
    "attack_parameters = {'epsilon': 0.2, 'num_iter': 30, 'overlay_sound': tum_sound}\n",
    "\n",
    "ia = InterpolationAttack(model, valid_loader, attack_parameters, early_stopping=1)\n",
    "ia.attack()"
   ]
  },
  {
   "cell_type": "code",
   "execution_count": 298,
   "metadata": {
    "ExecuteTime": {
     "end_time": "2020-06-04T20:37:37.917890Z",
     "start_time": "2020-06-04T20:37:37.602498Z"
    },
    "hidden": true
   },
   "outputs": [],
   "source": [
    "# ia.showAdversarialExample(sr=FIXED_SAMPLE_RATE, target_class=1)"
   ]
  },
  {
   "cell_type": "code",
   "execution_count": 297,
   "metadata": {
    "ExecuteTime": {
     "end_time": "2020-06-04T20:36:31.960045Z",
     "start_time": "2020-06-04T20:36:31.901004Z"
    },
    "hidden": true
   },
   "outputs": [
    {
     "name": "stdout",
     "output_type": "stream",
     "text": [
      "Attack-Parameters:\t{'epsilon': 0.2, 'num_iter': 30, 'overlay_sound': tensor([0., 0., 0.,  ..., 0., 0., 0.])}\n",
      "Early stopping: \tTrue (1)\n",
      "\n",
      "Successfully attacked:\t1\n",
      "Total attacked: \t67\n",
      "Total processed:\t75\n",
      "\n",
      "Success-Rate: \t\t0.01\n",
      "Perturbed Accurracy: \t0.88\n"
     ]
    }
   ],
   "source": [
    "ia.report()"
   ]
  },
  {
   "cell_type": "markdown",
   "metadata": {
    "heading_collapsed": true
   },
   "source": [
    "## Time stretching attack"
   ]
  },
  {
   "cell_type": "code",
   "execution_count": null,
   "metadata": {
    "ExecuteTime": {
     "start_time": "2020-06-08T10:51:46.805Z"
    },
    "hidden": true
   },
   "outputs": [
    {
     "name": "stderr",
     "output_type": "stream",
     "text": [
      "  8%|▊         | 130/1687 [32:15<7:14:06, 16.73s/it]"
     ]
    }
   ],
   "source": [
    "from attacks.speed import TimeStretchAttack\n",
    "\n",
    "valid_loader = torch.utils.data.DataLoader(validation_dataset, batch_size=1, shuffle=False)\n",
    "attack_parameters = {'num_iter': 30, 'lower': 0.5, 'upper': 2}\n",
    "\n",
    "tsa = TimeStretchAttack(model, valid_loader, attack_parameters, early_stopping=20)\n",
    "tsa.attack()"
   ]
  },
  {
   "cell_type": "code",
   "execution_count": null,
   "metadata": {
    "ExecuteTime": {
     "end_time": "2020-06-07T22:49:25.311078Z",
     "start_time": "2020-06-07T22:49:25.192975Z"
    },
    "hidden": true
   },
   "outputs": [],
   "source": [
    "tsa.showAdversarialExample(sr=FIXED_SAMPLE_RATE, target_class=1)"
   ]
  },
  {
   "cell_type": "code",
   "execution_count": 38,
   "metadata": {
    "ExecuteTime": {
     "end_time": "2020-06-07T22:49:18.863877Z",
     "start_time": "2020-06-07T22:49:18.725152Z"
    },
    "hidden": true
   },
   "outputs": [
    {
     "name": "stdout",
     "output_type": "stream",
     "text": [
      "Attack-Parameters:\t{'num_iter': 30, 'lower': 0.5, 'upper': 2}\n",
      "Early stopping: \tTrue (1)\n",
      "\n",
      "Successfully attacked:\t1\n",
      "Total attacked: \t8\n",
      "Total processed:\t8\n",
      "\n",
      "Success-Rate: \t\t0.12\n",
      "Perturbed Accurracy: \t0.88\n"
     ]
    }
   ],
   "source": [
    "tsa.report()"
   ]
  },
  {
   "cell_type": "markdown",
   "metadata": {},
   "source": [
    "## Pitch attack"
   ]
  },
  {
   "cell_type": "code",
   "execution_count": null,
   "metadata": {
    "ExecuteTime": {
     "end_time": "2020-06-05T23:22:00.830701Z",
     "start_time": "2020-06-05T23:20:24.081974Z"
    },
    "scrolled": true
   },
   "outputs": [],
   "source": [
    "from attacks.pitch import PitchAttack\n",
    "\n",
    "valid_loader = torch.utils.data.DataLoader(validation_dataset, batch_size=1, shuffle=False)\n",
    "attack_parameters = {'num_iter': 5, 'sr': FIXED_SAMPLE_RATE}\n",
    "\n",
    "pa = PitchAttack(model, valid_loader, attack_parameters, early_stopping=1)\n",
    "pa.attack()"
   ]
  },
  {
   "cell_type": "code",
   "execution_count": null,
   "metadata": {
    "ExecuteTime": {
     "end_time": "2020-06-05T23:13:05.795100Z",
     "start_time": "2020-06-05T23:13:05.472914Z"
    }
   },
   "outputs": [],
   "source": [
    "pa.showAdversarialExample(sr=FIXED_SAMPLE_RATE, target_class=1)"
   ]
  },
  {
   "cell_type": "code",
   "execution_count": 56,
   "metadata": {
    "ExecuteTime": {
     "end_time": "2020-06-05T23:12:50.991381Z",
     "start_time": "2020-06-05T23:12:50.861408Z"
    },
    "scrolled": true
   },
   "outputs": [
    {
     "name": "stdout",
     "output_type": "stream",
     "text": [
      "Attack-Parameters:\t{'num_iter': 5, 'sr': 48000}\n",
      "Early stopping: \tTrue (1)\n",
      "\n",
      "Successfully attacked:\t1\n",
      "Total attacked: \t10\n",
      "Total processed:\t10\n",
      "\n",
      "Success-Rate: \t\t0.1\n",
      "Perturbed Accurracy: \t0.9\n"
     ]
    }
   ],
   "source": [
    "pa.report()"
   ]
  }
 ],
 "metadata": {
  "kernelspec": {
   "display_name": "Python 3",
   "language": "python",
   "name": "python3"
  },
  "language_info": {
   "codemirror_mode": {
    "name": "ipython",
    "version": 3
   },
   "file_extension": ".py",
   "mimetype": "text/x-python",
   "name": "python",
   "nbconvert_exporter": "python",
   "pygments_lexer": "ipython3",
   "version": "3.8.2"
  },
  "notify_time": "5"
 },
 "nbformat": 4,
 "nbformat_minor": 4
}
