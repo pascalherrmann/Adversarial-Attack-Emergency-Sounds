{
 "cells": [
  {
   "cell_type": "code",
   "execution_count": 1,
   "metadata": {
    "ExecuteTime": {
     "end_time": "2020-06-11T21:54:31.712141Z",
     "start_time": "2020-06-11T21:54:31.091450Z"
    }
   },
   "outputs": [],
   "source": [
    "%load_ext autoreload\n",
    "%autoreload 2\n",
    "import torch\n",
    "\n",
    "import os\n",
    "import sys\n",
    "module_path = os.path.abspath(os.path.join('../../../src/'))\n",
    "if module_path not in sys.path:\n",
    "    sys.path.append(module_path)\n",
    "    \n",
    "device = 'cuda' if torch.cuda.is_available() else 'cpu'"
   ]
  },
  {
   "cell_type": "markdown",
   "metadata": {},
   "source": [
    "# Load models"
   ]
  },
  {
   "cell_type": "code",
   "execution_count": 12,
   "metadata": {
    "ExecuteTime": {
     "end_time": "2020-06-11T21:58:18.578154Z",
     "start_time": "2020-06-11T21:58:18.335199Z"
    }
   },
   "outputs": [],
   "source": [
    "from classification.models.crnn.model import AudioCRNN\n",
    "from classification.models.SpectrogramCNN import SpectrogramCNN\n",
    "from classification.models.DeepRecursiveCNN import DeepRecursiveCNN\n",
    "from classification.models.M5 import M5"
   ]
  },
  {
   "cell_type": "code",
   "execution_count": 13,
   "metadata": {
    "ExecuteTime": {
     "end_time": "2020-06-11T21:58:19.866112Z",
     "start_time": "2020-06-11T21:58:19.841260Z"
    }
   },
   "outputs": [],
   "source": [
    "models = {}"
   ]
  },
  {
   "cell_type": "code",
   "execution_count": 14,
   "metadata": {
    "ExecuteTime": {
     "end_time": "2020-06-11T21:58:21.317498Z",
     "start_time": "2020-06-11T21:58:21.260792Z"
    }
   },
   "outputs": [],
   "source": [
    "state_dict_path = '/nfs/students/summer-term-2020/project-4/data/models/SpectrogramBasedCNN.pt'\n",
    "\n",
    "model = SpectrogramCNN()\n",
    "model.load_state_dict(torch.load(state_dict_path))\n",
    "model = model.cuda()\n",
    "model = model.eval()\n",
    "\n",
    "models[model.__class__.__name__] = model"
   ]
  },
  {
   "cell_type": "code",
   "execution_count": 15,
   "metadata": {
    "ExecuteTime": {
     "end_time": "2020-06-11T21:58:22.907914Z",
     "start_time": "2020-06-11T21:58:22.709250Z"
    }
   },
   "outputs": [],
   "source": [
    "model_state_dict_path = \"/nfs/students/summer-term-2020/project-4/yan/models/best_model_state_dict.pt\"\n",
    "model = DeepRecursiveCNN()\n",
    "model.load_state_dict(torch.load(model_state_dict_path))\n",
    "model = model.eval()\n",
    "\n",
    "models[model.__class__.__name__] = model"
   ]
  },
  {
   "cell_type": "code",
   "execution_count": 16,
   "metadata": {
    "ExecuteTime": {
     "end_time": "2020-06-11T21:58:24.154250Z",
     "start_time": "2020-06-11T21:58:24.035835Z"
    }
   },
   "outputs": [],
   "source": [
    "res_path = '/nfs/students/summer-term-2020/project-4/data/models/crnn.pth'\n",
    "checkpoint = torch.load(res_path)\n",
    "model = AudioCRNN(checkpoint['classes'], checkpoint['config'])\n",
    "model.load_state_dict(checkpoint['state_dict'])\n",
    "model = model.eval().cuda()\n",
    "\n",
    "models[model.__class__.__name__] = model"
   ]
  },
  {
   "cell_type": "code",
   "execution_count": 17,
   "metadata": {
    "ExecuteTime": {
     "end_time": "2020-06-11T21:58:25.064491Z",
     "start_time": "2020-06-11T21:58:25.023233Z"
    }
   },
   "outputs": [],
   "source": [
    "loaded_dict = torch.load(\"/nfs/homedirs/herrmanp/project-4/experiments/notebooks/pascal/adv_totaly_hig_50epochs.pt\")\n",
    "model = M5(loaded_dict[\"hparams\"])\n",
    "model.load_state_dict(loaded_dict[\"state_dict\"])\n",
    "model = model.eval().cuda()\n",
    "\n",
    "models[model.__class__.__name__] = model"
   ]
  },
  {
   "cell_type": "markdown",
   "metadata": {},
   "source": [
    "# Load Data"
   ]
  },
  {
   "cell_type": "code",
   "execution_count": 18,
   "metadata": {
    "ExecuteTime": {
     "end_time": "2020-06-11T21:58:26.849406Z",
     "start_time": "2020-06-11T21:58:26.824469Z"
    }
   },
   "outputs": [],
   "source": [
    "from datasets.datahandler import DatasetHandler\n",
    "datasetHandler = DatasetHandler()"
   ]
  },
  {
   "cell_type": "code",
   "execution_count": 19,
   "metadata": {
    "ExecuteTime": {
     "end_time": "2020-06-11T21:58:35.725039Z",
     "start_time": "2020-06-11T21:58:28.308877Z"
    }
   },
   "outputs": [
    {
     "name": "stdout",
     "output_type": "stream",
     "text": [
      "Loading cached val data from /nfs/students/summer-term-2020/project-4/data/data_8k\n"
     ]
    }
   ],
   "source": [
    "for model_name in models:\n",
    "    #datasetHandler.load(models[model_name], 'training')\n",
    "    datasetHandler.load(models[model_name], 'validation')"
   ]
  },
  {
   "cell_type": "markdown",
   "metadata": {
    "heading_collapsed": true
   },
   "source": [
    "## FGSM"
   ]
  },
  {
   "cell_type": "code",
   "execution_count": 20,
   "metadata": {
    "ExecuteTime": {
     "end_time": "2020-06-11T21:59:46.644895Z",
     "start_time": "2020-06-11T21:58:38.083236Z"
    },
    "hidden": true,
    "scrolled": true
   },
   "outputs": [
    {
     "name": "stderr",
     "output_type": "stream",
     "text": [
      "100%|██████████| 563/563 [00:18<00:00, 30.99it/s]\n",
      "100%|██████████| 563/563 [00:17<00:00, 32.65it/s]\n",
      "100%|██████████| 563/563 [00:17<00:00, 32.55it/s]\n",
      "100%|██████████| 563/563 [00:05<00:00, 102.02it/s]\n"
     ]
    }
   ],
   "source": [
    "from attacks.pgd import ProjectedGradientDescent\n",
    "\n",
    "attack_parameters = {'epsilon': 0.001, 'num_iter': 1}\n",
    "attacks = {}\n",
    "\n",
    "for model_name in models:\n",
    "    valid_loader = models[model_name].getDataLoader('validation', batch_size=3)\n",
    "    fgsm = ProjectedGradientDescent(model, valid_loader, attack_parameters, save_samples=False)\n",
    "    fgsm.attack()\n",
    "    attacks[model_name] = fgsm\n",
    "    \n",
    "for model_name in attacks:\n",
    "    print(model_name)\n",
    "    print(attacks[model_name].report())\n",
    "    print()"
   ]
  },
  {
   "cell_type": "code",
   "execution_count": 21,
   "metadata": {
    "ExecuteTime": {
     "end_time": "2020-06-11T21:59:56.195713Z",
     "start_time": "2020-06-11T21:59:55.994680Z"
    },
    "hidden": true
   },
   "outputs": [
    {
     "name": "stdout",
     "output_type": "stream",
     "text": [
      "SpectrogramCNN\n",
      "Attack-Parameters:\t{'epsilon': 0.001, 'num_iter': 1}\n",
      "Early stopping: \tFalse (-1)\n",
      "\n",
      "Successfully attacked:\t23\n",
      "Total attacked: \t823\n",
      "Total processed:\t1687\n",
      "\n",
      "Success-Rate: \t\t0.03\n",
      "Perturbed Accurracy: \t0.47\n",
      "None\n",
      "\n",
      "DeepRecursiveCNN\n",
      "Attack-Parameters:\t{'epsilon': 0.001, 'num_iter': 1}\n",
      "Early stopping: \tFalse (-1)\n",
      "\n",
      "Successfully attacked:\t23\n",
      "Total attacked: \t823\n",
      "Total processed:\t1687\n",
      "\n",
      "Success-Rate: \t\t0.03\n",
      "Perturbed Accurracy: \t0.47\n",
      "None\n",
      "\n",
      "AudioCRNN\n",
      "Attack-Parameters:\t{'epsilon': 0.001, 'num_iter': 1}\n",
      "Early stopping: \tFalse (-1)\n",
      "\n",
      "Successfully attacked:\t23\n",
      "Total attacked: \t823\n",
      "Total processed:\t1687\n",
      "\n",
      "Success-Rate: \t\t0.03\n",
      "Perturbed Accurracy: \t0.47\n",
      "None\n",
      "\n",
      "M5\n",
      "Attack-Parameters:\t{'epsilon': 0.001, 'num_iter': 1}\n",
      "Early stopping: \tFalse (-1)\n",
      "\n",
      "Successfully attacked:\t35\n",
      "Total attacked: \t1356\n",
      "Total processed:\t1687\n",
      "\n",
      "Success-Rate: \t\t0.03\n",
      "Perturbed Accurracy: \t0.78\n",
      "None\n",
      "\n"
     ]
    }
   ],
   "source": [
    "for model_name in attacks:\n",
    "    print(model_name)\n",
    "    print(attacks[model_name].report())\n",
    "    print()"
   ]
  },
  {
   "cell_type": "markdown",
   "metadata": {
    "heading_collapsed": true
   },
   "source": [
    "## PGD [TODO: Refactor from here on]"
   ]
  },
  {
   "cell_type": "code",
   "execution_count": 14,
   "metadata": {
    "ExecuteTime": {
     "end_time": "2020-06-11T15:41:25.161262Z",
     "start_time": "2020-06-11T15:40:56.246497Z"
    },
    "hidden": true
   },
   "outputs": [
    {
     "name": "stderr",
     "output_type": "stream",
     "text": [
      " 35%|███▍      | 146/422 [00:28<00:53,  5.11it/s]"
     ]
    },
    {
     "name": "stdout",
     "output_type": "stream",
     "text": [
      "Early stopping\n"
     ]
    },
    {
     "name": "stderr",
     "output_type": "stream",
     "text": [
      "\n"
     ]
    }
   ],
   "source": [
    "from attacks.pgd import ProjectedGradientDescent\n",
    "\n",
    "#valid_loader = DataLoader(audio_set_val, batch_size=1)\n",
    "valid_loader = DataLoader(emergency_set_val, batch_size=4)\n",
    "attack_parameters = {'epsilon': 0.001, 'num_iter': 30, 'norm': 2}\n",
    "\n",
    "pgd = ProjectedGradientDescent(model, valid_loader, attack_parameters, early_stopping=2)\n",
    "pgd.attack()"
   ]
  },
  {
   "cell_type": "code",
   "execution_count": null,
   "metadata": {
    "hidden": true
   },
   "outputs": [],
   "source": [
    "# pgd.showAdversarialExample(sr=FIXED_SAMPLE_RATE, target_class=1)"
   ]
  },
  {
   "cell_type": "code",
   "execution_count": 15,
   "metadata": {
    "ExecuteTime": {
     "end_time": "2020-06-11T15:41:25.341996Z",
     "start_time": "2020-06-11T15:41:25.165224Z"
    },
    "hidden": true
   },
   "outputs": [
    {
     "name": "stdout",
     "output_type": "stream",
     "text": [
      "Attack-Parameters:\t{'epsilon': 0.001, 'num_iter': 30, 'norm': 2}\n",
      "Early stopping: \tTrue (2)\n",
      "\n",
      "Successfully attacked:\t2\n",
      "Total attacked: \t487\n",
      "Total processed:\t588\n",
      "\n",
      "Success-Rate: \t\t0.0\n",
      "Perturbed Accurracy: \t0.82\n"
     ]
    }
   ],
   "source": [
    "pgd.report()"
   ]
  },
  {
   "cell_type": "markdown",
   "metadata": {
    "heading_collapsed": true
   },
   "source": [
    "## Volume attacks"
   ]
  },
  {
   "cell_type": "code",
   "execution_count": null,
   "metadata": {
    "ExecuteTime": {
     "end_time": "2020-06-10T15:35:10.330840Z",
     "start_time": "2020-06-10T15:34:46.775316Z"
    },
    "hidden": true
   },
   "outputs": [],
   "source": [
    "from attacks.volume import VolumeAttack\n",
    "\n",
    "valid_loader = DataLoader(audio_set_valA, batch_size=1)\n",
    "#valid_loader = DataLoader(emergency_set_val, batch_size=1)\n",
    "attack_parameters = {'epsilon': 0.1, 'num_iter': 10}\n",
    "\n",
    "vol = VolumeAttack(model, valid_loader, attack_parameters, early_stopping=3)\n",
    "vol.attack()"
   ]
  },
  {
   "cell_type": "code",
   "execution_count": 112,
   "metadata": {
    "ExecuteTime": {
     "end_time": "2020-06-09T11:51:45.595235Z",
     "start_time": "2020-06-09T11:51:45.571513Z"
    },
    "hidden": true
   },
   "outputs": [],
   "source": [
    "# vol.showAdversarialExample(target_class=1)"
   ]
  },
  {
   "cell_type": "code",
   "execution_count": 36,
   "metadata": {
    "ExecuteTime": {
     "end_time": "2020-06-10T15:30:49.495843Z",
     "start_time": "2020-06-10T15:30:49.296143Z"
    },
    "hidden": true
   },
   "outputs": [
    {
     "name": "stdout",
     "output_type": "stream",
     "text": [
      "Attack-Parameters:\t{'epsilon': 0.1, 'num_iter': 10}\n",
      "Early stopping: \tTrue (3)\n",
      "\n",
      "Successfully attacked:\t0\n",
      "Total attacked: \t1356\n",
      "Total processed:\t1687\n",
      "\n",
      "Success-Rate: \t\t0.0\n",
      "Perturbed Accurracy: \t0.8\n"
     ]
    }
   ],
   "source": [
    "vol.report()"
   ]
  },
  {
   "cell_type": "markdown",
   "metadata": {
    "heading_collapsed": true
   },
   "source": [
    "## Interpolation attack"
   ]
  },
  {
   "cell_type": "code",
   "execution_count": null,
   "metadata": {
    "ExecuteTime": {
     "end_time": "2020-06-10T15:35:24.220594Z",
     "start_time": "2020-06-10T15:35:23.974278Z"
    },
    "hidden": true
   },
   "outputs": [],
   "source": [
    "import librosa\n",
    "path_tum_sound = '/nfs/students/summer-term-2020/project-4/yan/tum.wav'\n",
    "tum_sound,sr = librosa.load(path_tum_sound, sr=48000)\n",
    "\n",
    "max_length = len(audio_set_valA[0][0])\n",
    "padding = int((max_length - len(tum_sound))/2)\n",
    "zero_padded_data = torch.zeros(max_length)\n",
    "zero_padded_data[padding:padding+tum_sound.shape[0]] = torch.from_numpy(tum_sound)\n",
    "tum_sound = zero_padded_data"
   ]
  },
  {
   "cell_type": "code",
   "execution_count": null,
   "metadata": {
    "ExecuteTime": {
     "end_time": "2020-06-09T12:31:29.814965Z",
     "start_time": "2020-06-09T12:31:27.065502Z"
    },
    "hidden": true,
    "scrolled": true
   },
   "outputs": [],
   "source": [
    "from attacks.interpolation import InterpolationAttack\n",
    "\n",
    "valid_loader = DataLoader(audio_set_val, batch_size=1)\n",
    "attack_parameters = {'epsilon': 0.2, 'num_iter': 30, 'overlay_sound': tum_sound}\n",
    "\n",
    "ia = InterpolationAttack(model, valid_loader, attack_parameters, early_stopping=1)\n",
    "ia.attack()"
   ]
  },
  {
   "cell_type": "code",
   "execution_count": 298,
   "metadata": {
    "ExecuteTime": {
     "end_time": "2020-06-04T20:37:37.917890Z",
     "start_time": "2020-06-04T20:37:37.602498Z"
    },
    "hidden": true
   },
   "outputs": [],
   "source": [
    "# ia.showAdversarialExample(sr=FIXED_SAMPLE_RATE, target_class=1)"
   ]
  },
  {
   "cell_type": "code",
   "execution_count": 297,
   "metadata": {
    "ExecuteTime": {
     "end_time": "2020-06-04T20:36:31.960045Z",
     "start_time": "2020-06-04T20:36:31.901004Z"
    },
    "hidden": true
   },
   "outputs": [
    {
     "name": "stdout",
     "output_type": "stream",
     "text": [
      "Attack-Parameters:\t{'epsilon': 0.2, 'num_iter': 30, 'overlay_sound': tensor([0., 0., 0.,  ..., 0., 0., 0.])}\n",
      "Early stopping: \tTrue (1)\n",
      "\n",
      "Successfully attacked:\t1\n",
      "Total attacked: \t67\n",
      "Total processed:\t75\n",
      "\n",
      "Success-Rate: \t\t0.01\n",
      "Perturbed Accurracy: \t0.88\n"
     ]
    }
   ],
   "source": [
    "ia.report()"
   ]
  },
  {
   "cell_type": "markdown",
   "metadata": {
    "heading_collapsed": true
   },
   "source": [
    "## Time stretching attack"
   ]
  },
  {
   "cell_type": "code",
   "execution_count": null,
   "metadata": {
    "ExecuteTime": {
     "end_time": "2020-06-10T15:36:02.158721Z",
     "start_time": "2020-06-10T15:35:51.349302Z"
    },
    "hidden": true
   },
   "outputs": [],
   "source": [
    "from attacks.speed import TimeStretchAttack\n",
    "\n",
    "valid_loader = DataLoader(audio_set_val, batch_size=1)\n",
    "attack_parameters = {'num_iter': 30, 'lower': 0.1, 'upper': 0.5}\n",
    "\n",
    "tsa = TimeStretchAttack(model, valid_loader, attack_parameters, early_stopping=5)\n",
    "tsa.attack()"
   ]
  },
  {
   "cell_type": "code",
   "execution_count": null,
   "metadata": {
    "ExecuteTime": {
     "end_time": "2020-06-09T13:09:57.311625Z",
     "start_time": "2020-06-09T13:09:57.194780Z"
    },
    "hidden": true
   },
   "outputs": [],
   "source": [
    "tsa.showAdversarialExample(target_class=0)"
   ]
  },
  {
   "cell_type": "code",
   "execution_count": 170,
   "metadata": {
    "ExecuteTime": {
     "end_time": "2020-06-09T12:54:16.734791Z",
     "start_time": "2020-06-09T12:54:16.697351Z"
    },
    "hidden": true
   },
   "outputs": [
    {
     "name": "stdout",
     "output_type": "stream",
     "text": [
      "Attack-Parameters:\t{'num_iter': 30, 'lower': 0.1, 'upper': 1}\n",
      "Early stopping: \tTrue (20)\n",
      "\n",
      "Successfully attacked:\t16\n",
      "Total attacked: \t1483\n",
      "Total processed:\t1687\n",
      "\n",
      "Success-Rate: \t\t0.01\n",
      "Perturbed Accurracy: \t0.87\n"
     ]
    }
   ],
   "source": [
    "tsa.report()"
   ]
  },
  {
   "cell_type": "markdown",
   "metadata": {
    "heading_collapsed": true
   },
   "source": [
    "## Pitch attack"
   ]
  },
  {
   "cell_type": "code",
   "execution_count": null,
   "metadata": {
    "ExecuteTime": {
     "end_time": "2020-06-10T15:36:48.490408Z",
     "start_time": "2020-06-10T15:36:28.202554Z"
    },
    "hidden": true,
    "scrolled": true
   },
   "outputs": [],
   "source": [
    "from attacks.pitch import PitchAttack\n",
    "\n",
    "valid_loader = DataLoader(audio_set_val, batch_size=1)\n",
    "attack_parameters = {'num_iter': 5, 'lower': 0, 'upper': 10}\n",
    "\n",
    "pa = PitchAttack(model, valid_loader, attack_parameters, early_stopping=10)\n",
    "pa.attack()"
   ]
  },
  {
   "cell_type": "code",
   "execution_count": 6,
   "metadata": {
    "ExecuteTime": {
     "end_time": "2020-06-10T14:38:12.263561Z",
     "start_time": "2020-06-10T14:38:12.085614Z"
    },
    "hidden": true
   },
   "outputs": [],
   "source": [
    "#pa.showAdversarialExample(target_class=0)"
   ]
  },
  {
   "cell_type": "code",
   "execution_count": 9,
   "metadata": {
    "ExecuteTime": {
     "end_time": "2020-06-09T20:10:37.277823Z",
     "start_time": "2020-06-09T20:10:36.588754Z"
    },
    "hidden": true,
    "scrolled": true
   },
   "outputs": [
    {
     "name": "stdout",
     "output_type": "stream",
     "text": [
      "Attack-Parameters:\t{'num_iter': 5, 'lower': 0, 'upper': 10}\n",
      "Early stopping: \tTrue (10)\n",
      "\n",
      "Successfully attacked:\t10\n",
      "Total attacked: \t87\n",
      "Total processed:\t98\n",
      "\n",
      "Success-Rate: \t\t0.11\n",
      "Perturbed Accurracy: \t0.79\n"
     ]
    }
   ],
   "source": [
    "pa.report()"
   ]
  }
 ],
 "metadata": {
  "kernelspec": {
   "display_name": "Python 3",
   "language": "python",
   "name": "python3"
  },
  "language_info": {
   "codemirror_mode": {
    "name": "ipython",
    "version": 3
   },
   "file_extension": ".py",
   "mimetype": "text/x-python",
   "name": "python",
   "nbconvert_exporter": "python",
   "pygments_lexer": "ipython3",
   "version": "3.8.2"
  },
  "notify_time": "5"
 },
 "nbformat": 4,
 "nbformat_minor": 4
}
