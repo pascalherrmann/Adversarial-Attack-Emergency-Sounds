{
 "cells": [
  {
   "cell_type": "code",
   "execution_count": 23,
   "metadata": {
    "ExecuteTime": {
     "end_time": "2020-06-05T20:15:31.525326Z",
     "start_time": "2020-06-05T20:15:31.496730Z"
    }
   },
   "outputs": [
    {
     "name": "stdout",
     "output_type": "stream",
     "text": [
      "The autoreload extension is already loaded. To reload it, use:\n",
      "  %reload_ext autoreload\n"
     ]
    }
   ],
   "source": [
    "%load_ext autoreload\n",
    "%autoreload 2\n",
    "\n",
    "import os\n",
    "import sys\n",
    "module_path = os.path.abspath(os.path.join('../../../src/'))\n",
    "if module_path not in sys.path:\n",
    "    sys.path.append(module_path)"
   ]
  },
  {
   "cell_type": "markdown",
   "metadata": {},
   "source": [
    "# Load data"
   ]
  },
  {
   "cell_type": "code",
   "execution_count": 24,
   "metadata": {
    "ExecuteTime": {
     "end_time": "2020-06-05T20:15:33.404482Z",
     "start_time": "2020-06-05T20:15:33.382292Z"
    }
   },
   "outputs": [],
   "source": [
    "FIXED_SAMPLE_RATE = 48000"
   ]
  },
  {
   "cell_type": "code",
   "execution_count": null,
   "metadata": {
    "ExecuteTime": {
     "start_time": "2020-06-05T20:15:42.529Z"
    }
   },
   "outputs": [],
   "source": [
    "import pickle\n",
    "pickle_path = \"/nfs/students/summer-term-2020/project-4/data/dataset1/dataset_resampled/\"\n",
    "training = pickle.load(open(pickle_path + \"training.p\",\"rb\"))\n",
    "validation = pickle.load(open(pickle_path + \"validation.p\",\"rb\"))"
   ]
  },
  {
   "cell_type": "code",
   "execution_count": null,
   "metadata": {
    "ExecuteTime": {
     "start_time": "2020-06-05T20:15:44.469Z"
    }
   },
   "outputs": [],
   "source": [
    "max_length = 0\n",
    "\n",
    "for sample in training:\n",
    "    max_length = max(max_length, sample['data'][0].shape[0])\n",
    "\n",
    "for sample in validation:\n",
    "    max_length = max(max_length, sample['data'][0].shape[0])\n",
    "    \n",
    "print(max_length)"
   ]
  },
  {
   "cell_type": "code",
   "execution_count": null,
   "metadata": {
    "ExecuteTime": {
     "start_time": "2020-06-05T20:15:46.263Z"
    }
   },
   "outputs": [],
   "source": [
    "def prepareData(data):\n",
    "    zero_padded_data = torch.zeros(max_length)\n",
    "    zero_padded_data[:data.shape[0]] = torch.from_numpy(data)\n",
    "    return zero_padded_data"
   ]
  },
  {
   "cell_type": "code",
   "execution_count": null,
   "metadata": {
    "ExecuteTime": {
     "start_time": "2020-06-05T20:15:48.011Z"
    }
   },
   "outputs": [],
   "source": [
    "training_dataset = [(prepareData(sample['data'][0]), 1)\n",
    "                        if sample['binary_class']=='positive' else (prepareData(sample['data'][0]), 0) \n",
    "                        for sample in training]\n",
    "validation_dataset = [(prepareData(sample['data'][0]), 1)\n",
    "                        if sample['binary_class']=='positive' else (prepareData(sample['data'][0]), 0) \n",
    "                        for sample in validation]"
   ]
  },
  {
   "cell_type": "code",
   "execution_count": 21,
   "metadata": {
    "ExecuteTime": {
     "end_time": "2020-06-05T20:15:09.607307Z",
     "start_time": "2020-06-05T20:15:09.437091Z"
    },
    "scrolled": true
   },
   "outputs": [
    {
     "data": {
      "text/plain": [
       "_IncompatibleKeys(missing_keys=[], unexpected_keys=['net.convs.conv2d_0.weight', 'net.convs.conv2d_0.bias', 'net.convs.batchnorm2d_0.weight', 'net.convs.batchnorm2d_0.bias', 'net.convs.batchnorm2d_0.running_mean', 'net.convs.batchnorm2d_0.running_var', 'net.convs.batchnorm2d_0.num_batches_tracked', 'net.convs.conv2d_1.weight', 'net.convs.conv2d_1.bias', 'net.convs.batchnorm2d_1.weight', 'net.convs.batchnorm2d_1.bias', 'net.convs.batchnorm2d_1.running_mean', 'net.convs.batchnorm2d_1.running_var', 'net.convs.batchnorm2d_1.num_batches_tracked', 'net.convs.conv2d_2.weight', 'net.convs.conv2d_2.bias', 'net.convs.batchnorm2d_2.weight', 'net.convs.batchnorm2d_2.bias', 'net.convs.batchnorm2d_2.running_mean', 'net.convs.batchnorm2d_2.running_var', 'net.convs.batchnorm2d_2.num_batches_tracked', 'net.recur.weight_ih_l0', 'net.recur.weight_hh_l0', 'net.recur.bias_ih_l0', 'net.recur.bias_hh_l0', 'net.recur.weight_ih_l0_reverse', 'net.recur.weight_hh_l0_reverse', 'net.recur.bias_ih_l0_reverse', 'net.recur.bias_hh_l0_reverse', 'net.recur.weight_ih_l1', 'net.recur.weight_hh_l1', 'net.recur.bias_ih_l1', 'net.recur.bias_hh_l1', 'net.recur.weight_ih_l1_reverse', 'net.recur.weight_hh_l1_reverse', 'net.recur.bias_ih_l1_reverse', 'net.recur.bias_hh_l1_reverse', 'net.dense.batchnorm1d_0.weight', 'net.dense.batchnorm1d_0.bias', 'net.dense.batchnorm1d_0.running_mean', 'net.dense.batchnorm1d_0.running_var', 'net.dense.batchnorm1d_0.num_batches_tracked', 'net.dense.linear_0.weight', 'net.dense.linear_0.bias'])"
      ]
     },
     "execution_count": 21,
     "metadata": {},
     "output_type": "execute_result"
    }
   ],
   "source": [
    "from classification.models.crnn.model import AudioCRNN # this might change depending on import mechanism\n",
    "import torch\n",
    "\n",
    "res_path = '/nfs/students/summer-term-2020/project-4/data/models/crnn.pth' # Path of trained model\n",
    "checkpoint = torch.load(res_path)\n",
    "\n",
    "model = AudioCRNN(checkpoint['classes'], checkpoint['config'])\n",
    "model.load_state_dict(checkpoint['state_dict'],  strict=False)"
   ]
  },
  {
   "cell_type": "markdown",
   "metadata": {},
   "source": [
    "# Attacks"
   ]
  },
  {
   "cell_type": "code",
   "execution_count": 13,
   "metadata": {
    "ExecuteTime": {
     "end_time": "2020-06-05T19:56:54.611375Z",
     "start_time": "2020-06-05T19:56:54.461018Z"
    }
   },
   "outputs": [
    {
     "ename": "NameError",
     "evalue": "name 'torch' is not defined",
     "output_type": "error",
     "traceback": [
      "\u001b[0;31m---------------------------------------------------------------------------\u001b[0m",
      "\u001b[0;31mNameError\u001b[0m                                 Traceback (most recent call last)",
      "\u001b[0;32m<ipython-input-13-b0e4b8c9b97b>\u001b[0m in \u001b[0;36m<module>\u001b[0;34m\u001b[0m\n\u001b[1;32m      3\u001b[0m \u001b[0mmodel_state_dict_path\u001b[0m \u001b[0;34m=\u001b[0m \u001b[0;34m\"/nfs/students/summer-term-2020/project-4/yan/models/best_model_state_dict.pt\"\u001b[0m\u001b[0;34m\u001b[0m\u001b[0;34m\u001b[0m\u001b[0m\n\u001b[1;32m      4\u001b[0m \u001b[0mmodel\u001b[0m \u001b[0;34m=\u001b[0m \u001b[0mDeepRecursiveCNN\u001b[0m\u001b[0;34m(\u001b[0m\u001b[0;34m)\u001b[0m\u001b[0;34m\u001b[0m\u001b[0;34m\u001b[0m\u001b[0m\n\u001b[0;32m----> 5\u001b[0;31m \u001b[0mmodel\u001b[0m\u001b[0;34m.\u001b[0m\u001b[0mload_state_dict\u001b[0m\u001b[0;34m(\u001b[0m\u001b[0mtorch\u001b[0m\u001b[0;34m.\u001b[0m\u001b[0mload\u001b[0m\u001b[0;34m(\u001b[0m\u001b[0mmodel_state_dict_path\u001b[0m\u001b[0;34m)\u001b[0m\u001b[0;34m)\u001b[0m\u001b[0;34m\u001b[0m\u001b[0;34m\u001b[0m\u001b[0m\n\u001b[0m\u001b[1;32m      6\u001b[0m \u001b[0mmodel\u001b[0m \u001b[0;34m=\u001b[0m \u001b[0mmodel\u001b[0m\u001b[0;34m.\u001b[0m\u001b[0meval\u001b[0m\u001b[0;34m(\u001b[0m\u001b[0;34m)\u001b[0m\u001b[0;34m\u001b[0m\u001b[0;34m\u001b[0m\u001b[0m\n",
      "\u001b[0;31mNameError\u001b[0m: name 'torch' is not defined"
     ]
    }
   ],
   "source": [
    "from classification.models.DeepRecursiveCNN import DeepRecursiveCNN\n",
    "\n",
    "model_state_dict_path = \"/nfs/students/summer-term-2020/project-4/yan/models/best_model_state_dict.pt\"\n",
    "model = DeepRecursiveCNN()\n",
    "model.load_state_dict(torch.load(model_state_dict_path))\n",
    "model = model.eval()"
   ]
  },
  {
   "cell_type": "markdown",
   "metadata": {},
   "source": [
    "## FGSM"
   ]
  },
  {
   "cell_type": "code",
   "execution_count": 22,
   "metadata": {
    "ExecuteTime": {
     "end_time": "2020-06-05T20:15:26.381015Z",
     "start_time": "2020-06-05T20:15:26.331180Z"
    }
   },
   "outputs": [
    {
     "ename": "NameError",
     "evalue": "name 'validation_dataset' is not defined",
     "output_type": "error",
     "traceback": [
      "\u001b[0;31m---------------------------------------------------------------------------\u001b[0m",
      "\u001b[0;31mNameError\u001b[0m                                 Traceback (most recent call last)",
      "\u001b[0;32m<ipython-input-22-7350ba799947>\u001b[0m in \u001b[0;36m<module>\u001b[0;34m\u001b[0m\n\u001b[1;32m      1\u001b[0m \u001b[0;32mfrom\u001b[0m \u001b[0mattacks\u001b[0m\u001b[0;34m.\u001b[0m\u001b[0mfgsm\u001b[0m \u001b[0;32mimport\u001b[0m \u001b[0mFGSM\u001b[0m\u001b[0;34m\u001b[0m\u001b[0;34m\u001b[0m\u001b[0m\n\u001b[1;32m      2\u001b[0m \u001b[0;34m\u001b[0m\u001b[0m\n\u001b[0;32m----> 3\u001b[0;31m \u001b[0mvalid_loader\u001b[0m \u001b[0;34m=\u001b[0m \u001b[0mtorch\u001b[0m\u001b[0;34m.\u001b[0m\u001b[0mutils\u001b[0m\u001b[0;34m.\u001b[0m\u001b[0mdata\u001b[0m\u001b[0;34m.\u001b[0m\u001b[0mDataLoader\u001b[0m\u001b[0;34m(\u001b[0m\u001b[0mvalidation_dataset\u001b[0m\u001b[0;34m,\u001b[0m \u001b[0mbatch_size\u001b[0m\u001b[0;34m=\u001b[0m\u001b[0;36m1\u001b[0m\u001b[0;34m,\u001b[0m \u001b[0mshuffle\u001b[0m\u001b[0;34m=\u001b[0m\u001b[0;32mFalse\u001b[0m\u001b[0;34m)\u001b[0m\u001b[0;34m\u001b[0m\u001b[0;34m\u001b[0m\u001b[0m\n\u001b[0m\u001b[1;32m      4\u001b[0m \u001b[0mattack_parameters\u001b[0m \u001b[0;34m=\u001b[0m \u001b[0;34m{\u001b[0m\u001b[0;34m'epsilon'\u001b[0m\u001b[0;34m:\u001b[0m \u001b[0;36m0.2\u001b[0m\u001b[0;34m}\u001b[0m\u001b[0;34m\u001b[0m\u001b[0;34m\u001b[0m\u001b[0m\n\u001b[1;32m      5\u001b[0m \u001b[0;34m\u001b[0m\u001b[0m\n",
      "\u001b[0;31mNameError\u001b[0m: name 'validation_dataset' is not defined"
     ]
    }
   ],
   "source": [
    "from attacks.fgsm import FGSM\n",
    "\n",
    "valid_loader = torch.utils.data.DataLoader(validation_dataset, batch_size=1, shuffle=False)\n",
    "attack_parameters = {'epsilon': 0.2}\n",
    "\n",
    "fgsm = FGSM(model, valid_loader, attack_parameters, early_stopping=20)\n",
    "fgsm.attack()"
   ]
  },
  {
   "cell_type": "code",
   "execution_count": null,
   "metadata": {},
   "outputs": [],
   "source": [
    "# fgsm.showAdversarialExample(sr=FIXED_SAMPLE_RATE, target_class=1)"
   ]
  },
  {
   "cell_type": "code",
   "execution_count": 228,
   "metadata": {
    "ExecuteTime": {
     "end_time": "2020-06-04T19:56:30.255109Z",
     "start_time": "2020-06-04T19:56:30.111146Z"
    }
   },
   "outputs": [
    {
     "name": "stdout",
     "output_type": "stream",
     "text": [
      "Attack-Parameters:\t{'epsilon': 0.2}\n",
      "Early stopping: \tTrue (20)\n",
      "\n",
      "Successfully attacked:\t20\n",
      "Total attacked: \t49\n",
      "Total processed:\t54\n",
      "\n",
      "Success-Rate: \t\t0.41\n",
      "Perturbed Accurracy: \t0.54\n"
     ]
    }
   ],
   "source": [
    "fgsm.report()"
   ]
  },
  {
   "cell_type": "markdown",
   "metadata": {},
   "source": [
    "## PGD"
   ]
  },
  {
   "cell_type": "code",
   "execution_count": 221,
   "metadata": {
    "ExecuteTime": {
     "end_time": "2020-06-04T19:47:46.082401Z",
     "start_time": "2020-06-04T19:46:34.043637Z"
    }
   },
   "outputs": [
    {
     "name": "stderr",
     "output_type": "stream",
     "text": [
      "  2%|▏         | 40/1687 [01:09<47:23,  1.73s/it]"
     ]
    },
    {
     "name": "stdout",
     "output_type": "stream",
     "text": [
      "Early stopping\n"
     ]
    },
    {
     "name": "stderr",
     "output_type": "stream",
     "text": [
      "\n"
     ]
    }
   ],
   "source": [
    "from attacks.pgd import PGD\n",
    "\n",
    "valid_loader = torch.utils.data.DataLoader(validation_dataset, batch_size=1, shuffle=False)\n",
    "attack_parameters = {'epsilon': 0.5, 'num_iter': 30}\n",
    "\n",
    "pgd = PGD(model, valid_loader, attack_parameters, early_stopping=20)\n",
    "pgd.attack()"
   ]
  },
  {
   "cell_type": "code",
   "execution_count": null,
   "metadata": {},
   "outputs": [],
   "source": [
    "# pgd.showAdversarialExample(sr=FIXED_SAMPLE_RATE, target_class=1)"
   ]
  },
  {
   "cell_type": "code",
   "execution_count": 222,
   "metadata": {
    "ExecuteTime": {
     "end_time": "2020-06-04T19:48:07.908980Z",
     "start_time": "2020-06-04T19:48:07.457106Z"
    }
   },
   "outputs": [
    {
     "name": "stdout",
     "output_type": "stream",
     "text": [
      "Attack-Parameters:\t{'epsilon': 0.5, 'num_iter': 30}\n",
      "Early stopping: \tTrue (20)\n",
      "\n",
      "Successfully attacked:\t20\n",
      "Total attacked: \t37\n",
      "Total processed:\t41\n",
      "\n",
      "Success-Rate: \t\t0.54\n",
      "Perturbed Accurracy: \t0.41\n"
     ]
    }
   ],
   "source": [
    "pgd.report()"
   ]
  },
  {
   "cell_type": "markdown",
   "metadata": {},
   "source": [
    "## Volume attacks"
   ]
  },
  {
   "cell_type": "code",
   "execution_count": 287,
   "metadata": {
    "ExecuteTime": {
     "end_time": "2020-06-04T20:33:13.923892Z",
     "start_time": "2020-06-04T20:32:56.992883Z"
    }
   },
   "outputs": [
    {
     "name": "stderr",
     "output_type": "stream",
     "text": [
      "  0%|          | 7/1687 [00:14<58:05,  2.07s/it]"
     ]
    },
    {
     "name": "stdout",
     "output_type": "stream",
     "text": [
      "Early stopping\n"
     ]
    },
    {
     "name": "stderr",
     "output_type": "stream",
     "text": [
      "\n"
     ]
    }
   ],
   "source": [
    "from attacks.volume import VolumeAttack\n",
    "\n",
    "valid_loader = torch.utils.data.DataLoader(validation_dataset, batch_size=1, shuffle=False)\n",
    "attack_parameters = {'epsilon': 0.2, 'num_iter': 30}\n",
    "\n",
    "vol = VolumeAttack(model, valid_loader, attack_parameters, early_stopping=1)\n",
    "vol.attack()"
   ]
  },
  {
   "cell_type": "code",
   "execution_count": 282,
   "metadata": {
    "ExecuteTime": {
     "end_time": "2020-06-04T20:22:25.973061Z",
     "start_time": "2020-06-04T20:22:25.657473Z"
    }
   },
   "outputs": [],
   "source": [
    "# vol.showAdversarialExample(sr=FIXED_SAMPLE_RATE, target_class=1)"
   ]
  },
  {
   "cell_type": "code",
   "execution_count": 283,
   "metadata": {
    "ExecuteTime": {
     "end_time": "2020-06-04T20:22:30.868960Z",
     "start_time": "2020-06-04T20:22:30.818977Z"
    }
   },
   "outputs": [
    {
     "name": "stdout",
     "output_type": "stream",
     "text": [
      "Attack-Parameters:\t{'epsilon': 0.2, 'num_iter': 30}\n",
      "Early stopping: \tTrue (1)\n",
      "\n",
      "Successfully attacked:\t1\n",
      "Total attacked: \t8\n",
      "Total processed:\t8\n",
      "\n",
      "Success-Rate: \t\t0.12\n",
      "Perturbed Accurracy: \t0.88\n"
     ]
    }
   ],
   "source": [
    "vol.report()"
   ]
  },
  {
   "cell_type": "markdown",
   "metadata": {},
   "source": [
    "## Interpolation attack"
   ]
  },
  {
   "cell_type": "code",
   "execution_count": 284,
   "metadata": {
    "ExecuteTime": {
     "end_time": "2020-06-04T20:32:36.103205Z",
     "start_time": "2020-06-04T20:32:35.700443Z"
    }
   },
   "outputs": [],
   "source": [
    "path_tum_sound = '/nfs/students/summer-term-2020/project-4/yan/tum.wav'\n",
    "tum_sound,sr = librosa.load(path_tum_sound, sr=FIXED_SAMPLE_RATE)\n",
    "padding = int((max_length - len(tum_sound))/2)\n",
    "zero_padded_data = torch.zeros(max_length)\n",
    "zero_padded_data[padding:padding+tum_sound.shape[0]] = torch.from_numpy(tum_sound)\n",
    "tum_sound = zero_padded_data"
   ]
  },
  {
   "cell_type": "code",
   "execution_count": 295,
   "metadata": {
    "ExecuteTime": {
     "end_time": "2020-06-04T20:36:31.560915Z",
     "start_time": "2020-06-04T20:34:25.924385Z"
    }
   },
   "outputs": [
    {
     "name": "stderr",
     "output_type": "stream",
     "text": [
      "  4%|▍         | 74/1687 [02:04<45:03,  1.68s/it]"
     ]
    },
    {
     "name": "stdout",
     "output_type": "stream",
     "text": [
      "Early stopping\n"
     ]
    },
    {
     "name": "stderr",
     "output_type": "stream",
     "text": [
      "\n"
     ]
    }
   ],
   "source": [
    "from attacks.interpolation import InterpolationAttack\n",
    "\n",
    "valid_loader = torch.utils.data.DataLoader(validation_dataset, batch_size=1, shuffle=False)\n",
    "attack_parameters = {'epsilon': 0.2, 'num_iter': 30, 'overlay_sound': tum_sound}\n",
    "\n",
    "ia = InterpolationAttack(model, valid_loader, attack_parameters, early_stopping=1)\n",
    "ia.attack()"
   ]
  },
  {
   "cell_type": "code",
   "execution_count": 298,
   "metadata": {
    "ExecuteTime": {
     "end_time": "2020-06-04T20:37:37.917890Z",
     "start_time": "2020-06-04T20:37:37.602498Z"
    }
   },
   "outputs": [],
   "source": [
    "# ia.showAdversarialExample(sr=FIXED_SAMPLE_RATE, target_class=1)"
   ]
  },
  {
   "cell_type": "code",
   "execution_count": 297,
   "metadata": {
    "ExecuteTime": {
     "end_time": "2020-06-04T20:36:31.960045Z",
     "start_time": "2020-06-04T20:36:31.901004Z"
    }
   },
   "outputs": [
    {
     "name": "stdout",
     "output_type": "stream",
     "text": [
      "Attack-Parameters:\t{'epsilon': 0.2, 'num_iter': 30, 'overlay_sound': tensor([0., 0., 0.,  ..., 0., 0., 0.])}\n",
      "Early stopping: \tTrue (1)\n",
      "\n",
      "Successfully attacked:\t1\n",
      "Total attacked: \t67\n",
      "Total processed:\t75\n",
      "\n",
      "Success-Rate: \t\t0.01\n",
      "Perturbed Accurracy: \t0.88\n"
     ]
    }
   ],
   "source": [
    "ia.report()"
   ]
  },
  {
   "cell_type": "markdown",
   "metadata": {},
   "source": [
    "## Time stretching attack"
   ]
  },
  {
   "cell_type": "code",
   "execution_count": 332,
   "metadata": {
    "ExecuteTime": {
     "end_time": "2020-06-04T21:01:00.646376Z",
     "start_time": "2020-06-04T21:00:17.864261Z"
    }
   },
   "outputs": [
    {
     "name": "stderr",
     "output_type": "stream",
     "text": [
      "  0%|          | 7/1687 [00:40<2:42:50,  5.82s/it]"
     ]
    },
    {
     "name": "stdout",
     "output_type": "stream",
     "text": [
      "Early stopping\n"
     ]
    },
    {
     "name": "stderr",
     "output_type": "stream",
     "text": [
      "\n"
     ]
    }
   ],
   "source": [
    "from attacks.speed import TimeStretchAttack\n",
    "\n",
    "valid_loader = torch.utils.data.DataLoader(validation_dataset, batch_size=1, shuffle=False)\n",
    "attack_parameters = {'epsilon': 0.2, 'num_iter': 30}\n",
    "\n",
    "tsa = TimeStretchAttack(model, valid_loader, attack_parameters, early_stopping=1)\n",
    "tsa.attack()"
   ]
  },
  {
   "cell_type": "code",
   "execution_count": 334,
   "metadata": {
    "ExecuteTime": {
     "end_time": "2020-06-04T21:01:52.957059Z",
     "start_time": "2020-06-04T21:01:52.582872Z"
    }
   },
   "outputs": [],
   "source": [
    "# tsa.showAdversarialExample(sr=FIXED_SAMPLE_RATE, target_class=1)"
   ]
  },
  {
   "cell_type": "code",
   "execution_count": 335,
   "metadata": {
    "ExecuteTime": {
     "end_time": "2020-06-04T21:02:06.201818Z",
     "start_time": "2020-06-04T21:02:05.820610Z"
    }
   },
   "outputs": [
    {
     "name": "stdout",
     "output_type": "stream",
     "text": [
      "Attack-Parameters:\t{'epsilon': 0.2, 'num_iter': 30}\n",
      "Early stopping: \tTrue (1)\n",
      "\n",
      "Successfully attacked:\t1\n",
      "Total attacked: \t8\n",
      "Total processed:\t8\n",
      "\n",
      "Success-Rate: \t\t0.12\n",
      "Perturbed Accurracy: \t0.88\n"
     ]
    }
   ],
   "source": [
    "tsa.report()"
   ]
  }
 ],
 "metadata": {
  "kernelspec": {
   "display_name": "Python 3",
   "language": "python",
   "name": "python3"
  },
  "language_info": {
   "codemirror_mode": {
    "name": "ipython",
    "version": 3
   },
   "file_extension": ".py",
   "mimetype": "text/x-python",
   "name": "python",
   "nbconvert_exporter": "python",
   "pygments_lexer": "ipython3",
   "version": "3.8.2"
  },
  "notify_time": "5"
 },
 "nbformat": 4,
 "nbformat_minor": 4
}
