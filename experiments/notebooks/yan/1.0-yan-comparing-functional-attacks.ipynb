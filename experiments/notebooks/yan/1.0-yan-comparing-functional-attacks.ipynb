{
 "cells": [
  {
   "cell_type": "code",
   "execution_count": 1,
   "metadata": {
    "ExecuteTime": {
     "end_time": "2020-06-23T19:12:52.951502Z",
     "start_time": "2020-06-23T19:12:50.760659Z"
    }
   },
   "outputs": [],
   "source": [
    "%load_ext autoreload\n",
    "%autoreload 2\n",
    "import torch\n",
    "\n",
    "import os\n",
    "import sys\n",
    "module_path = os.path.abspath(os.path.join('../../../src/'))\n",
    "if module_path not in sys.path:\n",
    "    sys.path.append(module_path)\n",
    "    \n",
    "device = 'cuda' if torch.cuda.is_available() else 'cpu'"
   ]
  },
  {
   "cell_type": "markdown",
   "metadata": {},
   "source": [
    "# Load models"
   ]
  },
  {
   "cell_type": "code",
   "execution_count": 2,
   "metadata": {
    "ExecuteTime": {
     "end_time": "2020-06-23T19:13:06.100195Z",
     "start_time": "2020-06-23T19:12:52.956005Z"
    }
   },
   "outputs": [],
   "source": [
    "from classification.models.SpectrogramCNN import SpectrogramCNNPLModule\n",
    "\n",
    "state_dict_path = '/nfs/students/summer-term-2020/project-4/data/models/SpectrogramBasedCNN.pt'\n",
    "\n",
    "hparams = {\n",
    "    \"batch_size\": 5,\n",
    "    \"learning_rate\": 3e-4,\n",
    "    \"weight_decay\": 0.001,\n",
    "    \"lr_decay\": 0.95\n",
    "}\n",
    "\n",
    "model = SpectrogramCNNPLModule(hparams)\n",
    "model.model.load_state_dict(torch.load(state_dict_path))\n",
    "model = model.cuda()\n",
    "model = model.eval()"
   ]
  },
  {
   "cell_type": "markdown",
   "metadata": {},
   "source": [
    "# Load Data"
   ]
  },
  {
   "cell_type": "code",
   "execution_count": 3,
   "metadata": {
    "ExecuteTime": {
     "end_time": "2020-06-23T19:13:07.030587Z",
     "start_time": "2020-06-23T19:13:06.106750Z"
    }
   },
   "outputs": [],
   "source": [
    "from datasets.datasethandler import DatasetHandler\n",
    "datasetHandler = DatasetHandler()"
   ]
  },
  {
   "cell_type": "code",
   "execution_count": 4,
   "metadata": {
    "ExecuteTime": {
     "end_time": "2020-06-23T19:14:24.750614Z",
     "start_time": "2020-06-23T19:13:07.031689Z"
    }
   },
   "outputs": [
    {
     "name": "stdout",
     "output_type": "stream",
     "text": [
      "Load: /nfs/students/summer-term-2020/project-4/data/dataset1/dataset_resampled/validation.p\n",
      "Load: /nfs/students/summer-term-2020/project-4/data/dataset1/dataset_resampled/training.p\n"
     ]
    }
   ],
   "source": [
    "datasetHandler.load(model, 'validation')\n",
    "datasetHandler.load(model, 'training')"
   ]
  },
  {
   "cell_type": "markdown",
   "metadata": {},
   "source": [
    "# Attacks"
   ]
  },
  {
   "cell_type": "code",
   "execution_count": 72,
   "metadata": {
    "ExecuteTime": {
     "end_time": "2020-06-23T11:32:18.496206Z",
     "start_time": "2020-06-23T11:32:18.470716Z"
    }
   },
   "outputs": [],
   "source": [
    "epsilons = [0.0001, 0.0002, 0.0003, 0.0004, 0.0005]"
   ]
  },
  {
   "cell_type": "markdown",
   "metadata": {},
   "source": [
    "## Simple PGD"
   ]
  },
  {
   "cell_type": "code",
   "execution_count": 17,
   "metadata": {
    "ExecuteTime": {
     "end_time": "2020-06-23T20:38:52.466742Z",
     "start_time": "2020-06-23T20:37:22.414948Z"
    },
    "scrolled": true
   },
   "outputs": [
    {
     "name": "stderr",
     "output_type": "stream",
     "text": [
      "100%|██████████| 338/338 [01:00<00:00,  5.63it/s]\n"
     ]
    }
   ],
   "source": [
    "from attacks.pgd import ProjectedGradientDescent\n",
    "\n",
    "pgd_attacks = {}\n",
    "\n",
    "for eps in [0]:\n",
    "    attack_parameters = {'epsilon': eps, 'num_iter': 1, 'norm': 2}\n",
    "    pgd = ProjectedGradientDescent(model, model.val_dataloader(), attack_parameters, save_samples=False)\n",
    "    pgd.attack()\n",
    "    pgd_attacks[eps] = pgd"
   ]
  },
  {
   "cell_type": "code",
   "execution_count": 18,
   "metadata": {
    "ExecuteTime": {
     "end_time": "2020-06-23T20:39:11.581797Z",
     "start_time": "2020-06-23T20:39:11.408848Z"
    }
   },
   "outputs": [
    {
     "name": "stdout",
     "output_type": "stream",
     "text": [
      "Attack-Parameters:\t{'epsilon': 0, 'num_iter': 1, 'norm': 2}\n",
      "Early stopping: \tFalse (-1)\n",
      "\n",
      "Successfully attacked:\t652\n",
      "Total attacked: \t1483\n",
      "Total processed:\t1687\n",
      "\n",
      "Success-Rate: \t\t0.44\n",
      "Perturbed Accurracy: \t0.49\n",
      "\n"
     ]
    }
   ],
   "source": [
    "for eps in pgd_attacks:\n",
    "    pgd_attacks[eps].report()\n",
    "    print()"
   ]
  },
  {
   "cell_type": "code",
   "execution_count": 74,
   "metadata": {
    "ExecuteTime": {
     "end_time": "2020-06-23T12:12:47.103037Z",
     "start_time": "2020-06-23T12:12:46.903939Z"
    },
    "scrolled": true
   },
   "outputs": [
    {
     "name": "stdout",
     "output_type": "stream",
     "text": [
      "Attack-Parameters:\t{'epsilon': 0.0001, 'num_iter': 50}\n",
      "Early stopping: \tFalse (-1)\n",
      "\n",
      "Successfully attacked:\t244\n",
      "Total attacked: \t1483\n",
      "Total processed:\t1687\n",
      "\n",
      "Success-Rate: \t\t0.16\n",
      "Perturbed Accurracy: \t0.73\n",
      "\n",
      "Attack-Parameters:\t{'epsilon': 0.0002, 'num_iter': 50}\n",
      "Early stopping: \tFalse (-1)\n",
      "\n",
      "Successfully attacked:\t506\n",
      "Total attacked: \t1483\n",
      "Total processed:\t1687\n",
      "\n",
      "Success-Rate: \t\t0.34\n",
      "Perturbed Accurracy: \t0.58\n",
      "\n",
      "Attack-Parameters:\t{'epsilon': 0.0003, 'num_iter': 50}\n",
      "Early stopping: \tFalse (-1)\n",
      "\n",
      "Successfully attacked:\t600\n",
      "Total attacked: \t1483\n",
      "Total processed:\t1687\n",
      "\n",
      "Success-Rate: \t\t0.4\n",
      "Perturbed Accurracy: \t0.52\n",
      "\n",
      "Attack-Parameters:\t{'epsilon': 0.0004, 'num_iter': 50}\n",
      "Early stopping: \tFalse (-1)\n",
      "\n",
      "Successfully attacked:\t636\n",
      "Total attacked: \t1483\n",
      "Total processed:\t1687\n",
      "\n",
      "Success-Rate: \t\t0.43\n",
      "Perturbed Accurracy: \t0.5\n",
      "\n",
      "Attack-Parameters:\t{'epsilon': 0.0005, 'num_iter': 50}\n",
      "Early stopping: \tFalse (-1)\n",
      "\n",
      "Successfully attacked:\t666\n",
      "Total attacked: \t1483\n",
      "Total processed:\t1687\n",
      "\n",
      "Success-Rate: \t\t0.45\n",
      "Perturbed Accurracy: \t0.48\n",
      "\n"
     ]
    }
   ],
   "source": [
    "for eps in pgd_attacks:\n",
    "    pgd_attacks[eps].report()\n",
    "    print()"
   ]
  },
  {
   "cell_type": "markdown",
   "metadata": {
    "heading_collapsed": true
   },
   "source": [
    "## Functional Attack: PGD + Volume Attack"
   ]
  },
  {
   "cell_type": "code",
   "execution_count": 75,
   "metadata": {
    "ExecuteTime": {
     "end_time": "2020-06-23T12:55:12.742163Z",
     "start_time": "2020-06-23T12:12:47.107469Z"
    },
    "hidden": true
   },
   "outputs": [
    {
     "name": "stderr",
     "output_type": "stream",
     "text": [
      "100%|██████████| 338/338 [08:05<00:00,  1.44s/it]\n",
      "100%|██████████| 338/338 [08:25<00:00,  1.50s/it]\n",
      "100%|██████████| 338/338 [08:18<00:00,  1.47s/it]\n",
      "100%|██████████| 338/338 [08:25<00:00,  1.49s/it]\n",
      "100%|██████████| 338/338 [08:26<00:00,  1.50s/it]\n"
     ]
    }
   ],
   "source": [
    "from attacks.functionalVolume import FunctionalVolumeAttack\n",
    "\n",
    "functional_volume_attacks = {}\n",
    "\n",
    "for eps in epsilons:\n",
    "    attack_parameters = {'epsilonVolume': 0.1, 'epsilonPGD': eps, 'num_iter': 50}\n",
    "    fva = FunctionalVolumeAttack(model, model.val_dataloader(), attack_parameters, save_samples=True)\n",
    "    fva.attack()\n",
    "    functional_volume_attacks[eps] = fva"
   ]
  },
  {
   "cell_type": "code",
   "execution_count": 76,
   "metadata": {
    "ExecuteTime": {
     "end_time": "2020-06-23T12:55:13.130889Z",
     "start_time": "2020-06-23T12:55:12.761907Z"
    },
    "hidden": true,
    "scrolled": true
   },
   "outputs": [
    {
     "name": "stdout",
     "output_type": "stream",
     "text": [
      "0.0001\n",
      "Attack-Parameters:\t{'epsilonVolume': 0.1, 'epsilonPGD': 0.0001, 'num_iter': 50}\n",
      "Early stopping: \tFalse (-1)\n",
      "\n",
      "Successfully attacked:\t308\n",
      "Total attacked: \t1483\n",
      "Total processed:\t1687\n",
      "\n",
      "Success-Rate: \t\t0.21\n",
      "Perturbed Accurracy: \t0.7\n",
      "\n",
      "0.0002\n",
      "Attack-Parameters:\t{'epsilonVolume': 0.1, 'epsilonPGD': 0.0002, 'num_iter': 50}\n",
      "Early stopping: \tFalse (-1)\n",
      "\n",
      "Successfully attacked:\t553\n",
      "Total attacked: \t1483\n",
      "Total processed:\t1687\n",
      "\n",
      "Success-Rate: \t\t0.37\n",
      "Perturbed Accurracy: \t0.55\n",
      "\n",
      "0.0003\n",
      "Attack-Parameters:\t{'epsilonVolume': 0.1, 'epsilonPGD': 0.0003, 'num_iter': 50}\n",
      "Early stopping: \tFalse (-1)\n",
      "\n",
      "Successfully attacked:\t633\n",
      "Total attacked: \t1483\n",
      "Total processed:\t1687\n",
      "\n",
      "Success-Rate: \t\t0.43\n",
      "Perturbed Accurracy: \t0.5\n",
      "\n",
      "0.0004\n",
      "Attack-Parameters:\t{'epsilonVolume': 0.1, 'epsilonPGD': 0.0004, 'num_iter': 50}\n",
      "Early stopping: \tFalse (-1)\n",
      "\n",
      "Successfully attacked:\t664\n",
      "Total attacked: \t1483\n",
      "Total processed:\t1687\n",
      "\n",
      "Success-Rate: \t\t0.45\n",
      "Perturbed Accurracy: \t0.49\n",
      "\n",
      "0.0005\n",
      "Attack-Parameters:\t{'epsilonVolume': 0.1, 'epsilonPGD': 0.0005, 'num_iter': 50}\n",
      "Early stopping: \tFalse (-1)\n",
      "\n",
      "Successfully attacked:\t694\n",
      "Total attacked: \t1483\n",
      "Total processed:\t1687\n",
      "\n",
      "Success-Rate: \t\t0.47\n",
      "Perturbed Accurracy: \t0.47\n",
      "\n"
     ]
    }
   ],
   "source": [
    "for eps in functional_volume_attacks:\n",
    "    print(eps)\n",
    "    functional_volume_attacks[eps].report()\n",
    "    print()"
   ]
  },
  {
   "cell_type": "code",
   "execution_count": 102,
   "metadata": {
    "ExecuteTime": {
     "end_time": "2020-06-22T20:09:25.667482Z",
     "start_time": "2020-06-22T20:09:25.337861Z"
    },
    "hidden": true
   },
   "outputs": [],
   "source": [
    "# functional_attacks[0.0003].showAdversarialExample(target_class=1)"
   ]
  },
  {
   "cell_type": "markdown",
   "metadata": {
    "heading_collapsed": true
   },
   "source": [
    "## Functional Interpolation (imperceptible)"
   ]
  },
  {
   "cell_type": "code",
   "execution_count": 77,
   "metadata": {
    "ExecuteTime": {
     "end_time": "2020-06-23T12:55:13.214884Z",
     "start_time": "2020-06-23T12:55:13.135863Z"
    },
    "hidden": true
   },
   "outputs": [],
   "source": [
    "import random\n",
    "import IPython.display as ipd\n",
    "\n",
    "random_sample_index = random.sample(range(len(model.dataset['training'])), 1)[0]\n",
    "random_sample_index = 2464 # manually picked\n",
    "random_sample = model.dataset['training'].__getitem__(random_sample_index)"
   ]
  },
  {
   "cell_type": "code",
   "execution_count": 78,
   "metadata": {
    "ExecuteTime": {
     "end_time": "2020-06-23T13:38:22.460789Z",
     "start_time": "2020-06-23T12:55:13.219563Z"
    },
    "hidden": true
   },
   "outputs": [
    {
     "name": "stderr",
     "output_type": "stream",
     "text": [
      "100%|██████████| 338/338 [08:21<00:00,  1.49s/it]\n",
      "100%|██████████| 338/338 [08:29<00:00,  1.51s/it]\n",
      "100%|██████████| 338/338 [08:31<00:00,  1.51s/it]\n",
      "100%|██████████| 338/338 [08:33<00:00,  1.52s/it]\n",
      "100%|██████████| 338/338 [08:26<00:00,  1.50s/it]\n"
     ]
    }
   ],
   "source": [
    "from attacks.functionalInterpolation import FunctionalInterpolationAttack\n",
    "\n",
    "functional_interpolation_attacks_imperceptible = {}\n",
    "\n",
    "for eps in epsilons:\n",
    "    attack_parameters = {'overlay_sound': random_sample,\n",
    "                         'epsilonInterpolation': 0.1, 'epsilonNoise': eps, 'num_iter': 50, \n",
    "                         }\n",
    "    fva = FunctionalInterpolationAttack(model, model.val_dataloader(), attack_parameters, save_samples=True)\n",
    "    fva.attack()\n",
    "    functional_interpolation_attacks_imperceptible[eps] = fva"
   ]
  },
  {
   "cell_type": "code",
   "execution_count": 79,
   "metadata": {
    "ExecuteTime": {
     "end_time": "2020-06-23T13:38:23.015243Z",
     "start_time": "2020-06-23T13:38:22.486791Z"
    },
    "hidden": true,
    "scrolled": true
   },
   "outputs": [
    {
     "name": "stdout",
     "output_type": "stream",
     "text": [
      "Attack-Parameters:\t{'overlay_sound': {'audio': tensor([-0.0194, -0.0101, -0.0441,  ...,  0.0000,  0.0000,  0.0000]), 'sample_rate': 48000, 'label': 0}, 'epsilonInterpolation': 0.1, 'epsilonNoise': 0.0001, 'num_iter': 50}\n",
      "Early stopping: \tFalse (-1)\n",
      "\n",
      "Successfully attacked:\t506\n",
      "Total attacked: \t1483\n",
      "Total processed:\t1687\n",
      "\n",
      "Success-Rate: \t\t0.34\n",
      "Perturbed Accurracy: \t0.58\n",
      "\n",
      "Attack-Parameters:\t{'overlay_sound': {'audio': tensor([-0.0194, -0.0101, -0.0441,  ...,  0.0000,  0.0000,  0.0000]), 'sample_rate': 48000, 'label': 0}, 'epsilonInterpolation': 0.1, 'epsilonNoise': 0.0002, 'num_iter': 50}\n",
      "Early stopping: \tFalse (-1)\n",
      "\n",
      "Successfully attacked:\t908\n",
      "Total attacked: \t1483\n",
      "Total processed:\t1687\n",
      "\n",
      "Success-Rate: \t\t0.61\n",
      "Perturbed Accurracy: \t0.34\n",
      "\n",
      "Attack-Parameters:\t{'overlay_sound': {'audio': tensor([-0.0194, -0.0101, -0.0441,  ...,  0.0000,  0.0000,  0.0000]), 'sample_rate': 48000, 'label': 0}, 'epsilonInterpolation': 0.1, 'epsilonNoise': 0.0003, 'num_iter': 50}\n",
      "Early stopping: \tFalse (-1)\n",
      "\n",
      "Successfully attacked:\t978\n",
      "Total attacked: \t1483\n",
      "Total processed:\t1687\n",
      "\n",
      "Success-Rate: \t\t0.66\n",
      "Perturbed Accurracy: \t0.3\n",
      "\n",
      "Attack-Parameters:\t{'overlay_sound': {'audio': tensor([-0.0194, -0.0101, -0.0441,  ...,  0.0000,  0.0000,  0.0000]), 'sample_rate': 48000, 'label': 0}, 'epsilonInterpolation': 0.1, 'epsilonNoise': 0.0004, 'num_iter': 50}\n",
      "Early stopping: \tFalse (-1)\n",
      "\n",
      "Successfully attacked:\t990\n",
      "Total attacked: \t1483\n",
      "Total processed:\t1687\n",
      "\n",
      "Success-Rate: \t\t0.67\n",
      "Perturbed Accurracy: \t0.29\n",
      "\n",
      "Attack-Parameters:\t{'overlay_sound': {'audio': tensor([-0.0194, -0.0101, -0.0441,  ...,  0.0000,  0.0000,  0.0000]), 'sample_rate': 48000, 'label': 0}, 'epsilonInterpolation': 0.1, 'epsilonNoise': 0.0005, 'num_iter': 50}\n",
      "Early stopping: \tFalse (-1)\n",
      "\n",
      "Successfully attacked:\t997\n",
      "Total attacked: \t1483\n",
      "Total processed:\t1687\n",
      "\n",
      "Success-Rate: \t\t0.67\n",
      "Perturbed Accurracy: \t0.29\n",
      "\n"
     ]
    }
   ],
   "source": [
    "for eps in functional_interpolation_attacks_imperceptible:\n",
    "    functional_interpolation_attacks_imperceptible[eps].report()\n",
    "    print()"
   ]
  },
  {
   "cell_type": "code",
   "execution_count": 113,
   "metadata": {
    "ExecuteTime": {
     "end_time": "2020-06-23T14:51:10.285625Z",
     "start_time": "2020-06-23T14:51:10.247924Z"
    },
    "hidden": true
   },
   "outputs": [],
   "source": [
    "#ipd.display(ipd.Audio(random_sample['audio'], rate=random_sample['sample_rate']))\n",
    "#functional_interpolation_attacks_imperceptible[0.0001].showAdversarialExample(target_class=1)"
   ]
  },
  {
   "cell_type": "code",
   "execution_count": 112,
   "metadata": {
    "ExecuteTime": {
     "end_time": "2020-06-23T14:51:04.431765Z",
     "start_time": "2020-06-23T14:51:04.392970Z"
    },
    "hidden": true
   },
   "outputs": [],
   "source": [
    "#ipd.display(ipd.Audio(random_sample['audio'], rate=random_sample['sample_rate']))\n",
    "#functional_interpolation_attacks_imperceptible[0.0005].showAdversarialExample(target_class=1)"
   ]
  },
  {
   "cell_type": "markdown",
   "metadata": {
    "heading_collapsed": true
   },
   "source": [
    "## Functional Interpolation (hearable)"
   ]
  },
  {
   "cell_type": "code",
   "execution_count": 80,
   "metadata": {
    "ExecuteTime": {
     "end_time": "2020-06-23T13:38:23.069743Z",
     "start_time": "2020-06-23T13:38:23.023941Z"
    },
    "hidden": true
   },
   "outputs": [],
   "source": [
    "import random\n",
    "import IPython.display as ipd\n",
    "\n",
    "random_sample_index = random.sample(range(len(model.dataset['training'])), 1)[0]\n",
    "random_sample_index = 2464 # manually picked\n",
    "random_sample = model.dataset['training'].__getitem__(random_sample_index)"
   ]
  },
  {
   "cell_type": "code",
   "execution_count": 81,
   "metadata": {
    "ExecuteTime": {
     "end_time": "2020-06-23T14:21:48.634104Z",
     "start_time": "2020-06-23T13:38:23.075513Z"
    },
    "hidden": true
   },
   "outputs": [
    {
     "name": "stderr",
     "output_type": "stream",
     "text": [
      "100%|██████████| 338/338 [08:30<00:00,  1.51s/it]\n",
      "100%|██████████| 338/338 [08:22<00:00,  1.49s/it]\n",
      "100%|██████████| 338/338 [08:33<00:00,  1.52s/it]\n",
      "100%|██████████| 338/338 [08:28<00:00,  1.51s/it]\n",
      "100%|██████████| 338/338 [08:33<00:00,  1.52s/it]\n"
     ]
    }
   ],
   "source": [
    "from attacks.functionalInterpolation import FunctionalInterpolationAttack\n",
    "\n",
    "functional_interpolation_attacks = {}\n",
    "\n",
    "for eps in epsilons:\n",
    "    attack_parameters = {'overlay_sound': random_sample,\n",
    "                         'epsilonInterpolation': 0.1, 'epsilonNoise': eps, 'num_iter': 50, \n",
    "                         'upper2': 1,\n",
    "                         }\n",
    "    fva = FunctionalInterpolationAttack(model, model.val_dataloader(), attack_parameters, save_samples=True)\n",
    "    fva.attack()\n",
    "    functional_interpolation_attacks[eps] = fva"
   ]
  },
  {
   "cell_type": "code",
   "execution_count": 111,
   "metadata": {
    "ExecuteTime": {
     "end_time": "2020-06-23T14:50:55.920558Z",
     "start_time": "2020-06-23T14:50:55.881400Z"
    },
    "hidden": true
   },
   "outputs": [],
   "source": [
    "#ipd.display(ipd.Audio(random_sample['audio'], rate=random_sample['sample_rate']))\n",
    "#functional_interpolation_attacks[0.0001].showAdversarialExample(target_class=1)"
   ]
  },
  {
   "cell_type": "code",
   "execution_count": 110,
   "metadata": {
    "ExecuteTime": {
     "end_time": "2020-06-23T14:50:52.341521Z",
     "start_time": "2020-06-23T14:50:52.055470Z"
    },
    "hidden": true
   },
   "outputs": [],
   "source": [
    "#ipd.display(ipd.Audio(random_sample['audio'], rate=random_sample['sample_rate']))\n",
    "#functional_interpolation_attacks[0.0005].showAdversarialExample(target_class=1)"
   ]
  },
  {
   "cell_type": "code",
   "execution_count": 82,
   "metadata": {
    "ExecuteTime": {
     "end_time": "2020-06-23T14:21:49.115529Z",
     "start_time": "2020-06-23T14:21:48.652076Z"
    },
    "hidden": true,
    "scrolled": true
   },
   "outputs": [
    {
     "name": "stdout",
     "output_type": "stream",
     "text": [
      "Attack-Parameters:\t{'overlay_sound': {'audio': tensor([-0.0194, -0.0101, -0.0441,  ...,  0.0000,  0.0000,  0.0000]), 'sample_rate': 48000, 'label': 0}, 'epsilonInterpolation': 0.1, 'epsilonNoise': 0.0001, 'num_iter': 50, 'upper2': 1}\n",
      "Early stopping: \tFalse (-1)\n",
      "\n",
      "Successfully attacked:\t352\n",
      "Total attacked: \t1483\n",
      "Total processed:\t1687\n",
      "\n",
      "Success-Rate: \t\t0.24\n",
      "Perturbed Accurracy: \t0.67\n",
      "\n",
      "Attack-Parameters:\t{'overlay_sound': {'audio': tensor([-0.0194, -0.0101, -0.0441,  ...,  0.0000,  0.0000,  0.0000]), 'sample_rate': 48000, 'label': 0}, 'epsilonInterpolation': 0.1, 'epsilonNoise': 0.0002, 'num_iter': 50, 'upper2': 1}\n",
      "Early stopping: \tFalse (-1)\n",
      "\n",
      "Successfully attacked:\t709\n",
      "Total attacked: \t1483\n",
      "Total processed:\t1687\n",
      "\n",
      "Success-Rate: \t\t0.48\n",
      "Perturbed Accurracy: \t0.46\n",
      "\n",
      "Attack-Parameters:\t{'overlay_sound': {'audio': tensor([-0.0194, -0.0101, -0.0441,  ...,  0.0000,  0.0000,  0.0000]), 'sample_rate': 48000, 'label': 0}, 'epsilonInterpolation': 0.1, 'epsilonNoise': 0.0003, 'num_iter': 50, 'upper2': 1}\n",
      "Early stopping: \tFalse (-1)\n",
      "\n",
      "Successfully attacked:\t1065\n",
      "Total attacked: \t1483\n",
      "Total processed:\t1687\n",
      "\n",
      "Success-Rate: \t\t0.72\n",
      "Perturbed Accurracy: \t0.25\n",
      "\n",
      "Attack-Parameters:\t{'overlay_sound': {'audio': tensor([-0.0194, -0.0101, -0.0441,  ...,  0.0000,  0.0000,  0.0000]), 'sample_rate': 48000, 'label': 0}, 'epsilonInterpolation': 0.1, 'epsilonNoise': 0.0004, 'num_iter': 50, 'upper2': 1}\n",
      "Early stopping: \tFalse (-1)\n",
      "\n",
      "Successfully attacked:\t1159\n",
      "Total attacked: \t1483\n",
      "Total processed:\t1687\n",
      "\n",
      "Success-Rate: \t\t0.78\n",
      "Perturbed Accurracy: \t0.19\n",
      "\n",
      "Attack-Parameters:\t{'overlay_sound': {'audio': tensor([-0.0194, -0.0101, -0.0441,  ...,  0.0000,  0.0000,  0.0000]), 'sample_rate': 48000, 'label': 0}, 'epsilonInterpolation': 0.1, 'epsilonNoise': 0.0005, 'num_iter': 50, 'upper2': 1}\n",
      "Early stopping: \tFalse (-1)\n",
      "\n",
      "Successfully attacked:\t1220\n",
      "Total attacked: \t1483\n",
      "Total processed:\t1687\n",
      "\n",
      "Success-Rate: \t\t0.82\n",
      "Perturbed Accurracy: \t0.16\n",
      "\n"
     ]
    }
   ],
   "source": [
    "for eps in functional_interpolation_attacks:\n",
    "    functional_interpolation_attacks[eps].report()\n",
    "    print()"
   ]
  },
  {
   "cell_type": "markdown",
   "metadata": {
    "ExecuteTime": {
     "end_time": "2020-06-23T15:30:55.672501Z",
     "start_time": "2020-06-23T15:28:27.067Z"
    },
    "heading_collapsed": true
   },
   "source": [
    "## Functional Time-stretching Attacks"
   ]
  },
  {
   "cell_type": "code",
   "execution_count": 9,
   "metadata": {
    "ExecuteTime": {
     "end_time": "2020-06-23T19:52:57.623985Z",
     "start_time": "2020-06-23T19:35:20.190555Z"
    },
    "hidden": true,
    "scrolled": true
   },
   "outputs": [
    {
     "name": "stderr",
     "output_type": "stream",
     "text": [
      "100%|██████████| 338/338 [17:10<00:00,  3.05s/it]\n"
     ]
    }
   ],
   "source": [
    "from attacks.functionalSpeed import FunctionalTimeStretchAttack\n",
    "\n",
    "functional_time_stretching_attacks = {}\n",
    "\n",
    "for eps in epsilon:\n",
    "    attack_parameters = {'epsilon': eps, 'num_iter': 50, 'num_iter_stretch': 4}\n",
    "    fpg = FunctionalTimeStretchAttack(model, model.val_dataloader(), attack_parameters, save_samples=True)\n",
    "    fpg.attack()\n",
    "    functional_time_stretching_attacks[eps] = fpg"
   ]
  },
  {
   "cell_type": "code",
   "execution_count": 167,
   "metadata": {
    "ExecuteTime": {
     "end_time": "2020-06-23T19:04:21.297495Z",
     "start_time": "2020-06-23T19:04:20.360273Z"
    },
    "hidden": true,
    "scrolled": true
   },
   "outputs": [
    {
     "name": "stdout",
     "output_type": "stream",
     "text": [
      "Attack-Parameters:\t{'epsilon': 0.0001, 'num_iter': 50, 'num_iter_stretch': 4}\n",
      "Early stopping: \tFalse (-1)\n",
      "\n",
      "Successfully attacked:\t520\n",
      "Total attacked: \t1483\n",
      "Total processed:\t1687\n",
      "\n",
      "Success-Rate: \t\t0.35\n",
      "Perturbed Accurracy: \t0.57\n",
      "\n",
      "Attack-Parameters:\t{'epsilon': 0.0002, 'num_iter': 50, 'num_iter_stretch': 4}\n",
      "Early stopping: \tFalse (-1)\n",
      "\n",
      "Successfully attacked:\t930\n",
      "Total attacked: \t1483\n",
      "Total processed:\t1687\n",
      "\n",
      "Success-Rate: \t\t0.63\n",
      "Perturbed Accurracy: \t0.33\n",
      "\n",
      "Attack-Parameters:\t{'epsilon': 0.0003, 'num_iter': 50, 'num_iter_stretch': 4}\n",
      "Early stopping: \tFalse (-1)\n",
      "\n",
      "Successfully attacked:\t1021\n",
      "Total attacked: \t1483\n",
      "Total processed:\t1687\n",
      "\n",
      "Success-Rate: \t\t0.69\n",
      "Perturbed Accurracy: \t0.27\n",
      "\n",
      "Attack-Parameters:\t{'epsilon': 0.0004, 'num_iter': 50, 'num_iter_stretch': 4}\n",
      "Early stopping: \tFalse (-1)\n",
      "\n",
      "Successfully attacked:\t1034\n",
      "Total attacked: \t1483\n",
      "Total processed:\t1687\n",
      "\n",
      "Success-Rate: \t\t0.7\n",
      "Perturbed Accurracy: \t0.27\n",
      "\n",
      "Attack-Parameters:\t{'epsilon': 0.0005, 'num_iter': 50, 'num_iter_stretch': 4}\n",
      "Early stopping: \tFalse (-1)\n",
      "\n",
      "Successfully attacked:\t1046\n",
      "Total attacked: \t1483\n",
      "Total processed:\t1687\n",
      "\n",
      "Success-Rate: \t\t0.71\n",
      "Perturbed Accurracy: \t0.26\n",
      "\n"
     ]
    }
   ],
   "source": [
    "for eps in functional_time_stretching_attacks:\n",
    "    functional_time_stretching_attacks[eps].report()\n",
    "    print()"
   ]
  },
  {
   "cell_type": "code",
   "execution_count": 180,
   "metadata": {
    "ExecuteTime": {
     "end_time": "2020-06-23T19:06:14.804973Z",
     "start_time": "2020-06-23T19:06:14.742233Z"
    },
    "hidden": true
   },
   "outputs": [],
   "source": [
    "# functional_time_stretching_attacks[0.0005].showAdversarialExample(target_class=1)"
   ]
  },
  {
   "cell_type": "markdown",
   "metadata": {
    "heading_collapsed": true
   },
   "source": [
    "## Functional Pitch-Shifting Attacks"
   ]
  },
  {
   "cell_type": "code",
   "execution_count": 126,
   "metadata": {
    "ExecuteTime": {
     "end_time": "2020-06-23T15:30:55.667728Z",
     "start_time": "2020-06-23T15:27:19.591302Z"
    },
    "hidden": true,
    "scrolled": true
   },
   "outputs": [
    {
     "name": "stderr",
     "output_type": "stream",
     "text": [
      "  3%|▎         | 9/338 [03:29<2:07:21, 23.23s/it]\n"
     ]
    },
    {
     "ename": "KeyboardInterrupt",
     "evalue": "",
     "output_type": "error",
     "traceback": [
      "\u001b[0;31m---------------------------------------------------------------------------\u001b[0m",
      "\u001b[0;31mKeyboardInterrupt\u001b[0m                         Traceback (most recent call last)",
      "\u001b[0;32m<ipython-input-126-026aab243dab>\u001b[0m in \u001b[0;36m<module>\u001b[0;34m\u001b[0m\n\u001b[1;32m      6\u001b[0m     \u001b[0mattack_parameters\u001b[0m \u001b[0;34m=\u001b[0m \u001b[0;34m{\u001b[0m\u001b[0;34m'epsilon'\u001b[0m\u001b[0;34m:\u001b[0m \u001b[0meps\u001b[0m\u001b[0;34m,\u001b[0m \u001b[0;34m'num_iter'\u001b[0m\u001b[0;34m:\u001b[0m \u001b[0;36m50\u001b[0m\u001b[0;34m,\u001b[0m \u001b[0;34m'num_iter_stretch'\u001b[0m\u001b[0;34m:\u001b[0m \u001b[0;36m4\u001b[0m\u001b[0;34m}\u001b[0m\u001b[0;34m\u001b[0m\u001b[0;34m\u001b[0m\u001b[0m\n\u001b[1;32m      7\u001b[0m     \u001b[0mfpg\u001b[0m \u001b[0;34m=\u001b[0m \u001b[0mFunctionalPitchAttack\u001b[0m\u001b[0;34m(\u001b[0m\u001b[0mmodel\u001b[0m\u001b[0;34m,\u001b[0m \u001b[0mmodel\u001b[0m\u001b[0;34m.\u001b[0m\u001b[0mval_dataloader\u001b[0m\u001b[0;34m(\u001b[0m\u001b[0;34m)\u001b[0m\u001b[0;34m,\u001b[0m \u001b[0mattack_parameters\u001b[0m\u001b[0;34m,\u001b[0m \u001b[0msave_samples\u001b[0m\u001b[0;34m=\u001b[0m\u001b[0;32mFalse\u001b[0m\u001b[0;34m)\u001b[0m\u001b[0;34m\u001b[0m\u001b[0;34m\u001b[0m\u001b[0m\n\u001b[0;32m----> 8\u001b[0;31m     \u001b[0mfpg\u001b[0m\u001b[0;34m.\u001b[0m\u001b[0mattack\u001b[0m\u001b[0;34m(\u001b[0m\u001b[0;34m)\u001b[0m\u001b[0;34m\u001b[0m\u001b[0;34m\u001b[0m\u001b[0m\n\u001b[0m\u001b[1;32m      9\u001b[0m     \u001b[0mfunctional_pitch_shifting_attacks\u001b[0m\u001b[0;34m[\u001b[0m\u001b[0meps\u001b[0m\u001b[0;34m]\u001b[0m \u001b[0;34m=\u001b[0m \u001b[0mfpg\u001b[0m\u001b[0;34m\u001b[0m\u001b[0;34m\u001b[0m\u001b[0m\n",
      "\u001b[0;32m~/ml-lab-git/src/attacks/attack.py\u001b[0m in \u001b[0;36mattack\u001b[0;34m(self)\u001b[0m\n\u001b[1;32m     49\u001b[0m \u001b[0;34m\u001b[0m\u001b[0m\n\u001b[1;32m     50\u001b[0m             \u001b[0;31m# perform actual attack\u001b[0m\u001b[0;34m\u001b[0m\u001b[0;34m\u001b[0m\u001b[0;34m\u001b[0m\u001b[0m\n\u001b[0;32m---> 51\u001b[0;31m             \u001b[0mx_perturbed\u001b[0m \u001b[0;34m=\u001b[0m \u001b[0mself\u001b[0m\u001b[0;34m.\u001b[0m\u001b[0mattackSample\u001b[0m\u001b[0;34m(\u001b[0m\u001b[0mx_to_perturb\u001b[0m\u001b[0;34m,\u001b[0m \u001b[0my_true\u001b[0m\u001b[0;34m,\u001b[0m \u001b[0;34m**\u001b[0m\u001b[0mself\u001b[0m\u001b[0;34m.\u001b[0m\u001b[0mattack_parameters\u001b[0m\u001b[0;34m)\u001b[0m\u001b[0;34m\u001b[0m\u001b[0;34m\u001b[0m\u001b[0m\n\u001b[0m\u001b[1;32m     52\u001b[0m \u001b[0;34m\u001b[0m\u001b[0m\n\u001b[1;32m     53\u001b[0m             \u001b[0;31m# evaluate attack\u001b[0m\u001b[0;34m\u001b[0m\u001b[0;34m\u001b[0m\u001b[0;34m\u001b[0m\u001b[0m\n",
      "\u001b[0;32m~/ml-lab-git/src/attacks/functionalPitch.py\u001b[0m in \u001b[0;36mattackSample\u001b[0;34m(self, x, y, num_iter_stretch, lower_stretch, upper_stretch, epsilon, num_iter, norm, loss_fn, lower, upper)\u001b[0m\n\u001b[1;32m     15\u001b[0m \u001b[0;34m\u001b[0m\u001b[0m\n\u001b[1;32m     16\u001b[0m         \u001b[0mx\u001b[0m \u001b[0;34m=\u001b[0m \u001b[0mself\u001b[0m\u001b[0;34m.\u001b[0m\u001b[0mpitch_attack\u001b[0m\u001b[0;34m(\u001b[0m\u001b[0mx\u001b[0m\u001b[0;34m,\u001b[0m \u001b[0my\u001b[0m\u001b[0;34m,\u001b[0m \u001b[0mnum_iter_stretch\u001b[0m\u001b[0;34m,\u001b[0m \u001b[0mlower\u001b[0m\u001b[0;34m,\u001b[0m \u001b[0mupper\u001b[0m\u001b[0;34m)\u001b[0m\u001b[0;34m\u001b[0m\u001b[0;34m\u001b[0m\u001b[0m\n\u001b[0;32m---> 17\u001b[0;31m         \u001b[0mx\u001b[0m \u001b[0;34m=\u001b[0m \u001b[0mself\u001b[0m\u001b[0;34m.\u001b[0m\u001b[0mnoise_attack\u001b[0m\u001b[0;34m(\u001b[0m\u001b[0mx\u001b[0m\u001b[0;34m,\u001b[0m \u001b[0my\u001b[0m\u001b[0;34m,\u001b[0m \u001b[0mepsilon\u001b[0m\u001b[0;34m,\u001b[0m \u001b[0mnum_iter\u001b[0m\u001b[0;34m,\u001b[0m \u001b[0mnorm\u001b[0m\u001b[0;34m,\u001b[0m \u001b[0mloss_fn\u001b[0m\u001b[0;34m,\u001b[0m \u001b[0mlower\u001b[0m\u001b[0;34m,\u001b[0m \u001b[0mupper\u001b[0m\u001b[0;34m)\u001b[0m\u001b[0;34m\u001b[0m\u001b[0;34m\u001b[0m\u001b[0m\n\u001b[0m\u001b[1;32m     18\u001b[0m \u001b[0;34m\u001b[0m\u001b[0m\n\u001b[1;32m     19\u001b[0m         \u001b[0;32mreturn\u001b[0m \u001b[0mx\u001b[0m\u001b[0;34m\u001b[0m\u001b[0;34m\u001b[0m\u001b[0m\n",
      "\u001b[0;32m~/ml-lab-git/src/attacks/functionalPitch.py\u001b[0m in \u001b[0;36mnoise_attack\u001b[0;34m(self, x, y, epsilon, num_iter, norm, loss_fn, lower, upper)\u001b[0m\n\u001b[1;32m     36\u001b[0m             \u001b[0mloss\u001b[0m \u001b[0;34m=\u001b[0m \u001b[0mloss_fn\u001b[0m\u001b[0;34m(\u001b[0m\u001b[0mself\u001b[0m\u001b[0;34m.\u001b[0m\u001b[0mmodel\u001b[0m\u001b[0;34m(\u001b[0m\u001b[0mx\u001b[0m\u001b[0;34m)\u001b[0m\u001b[0;34m,\u001b[0m \u001b[0my\u001b[0m\u001b[0;34m)\u001b[0m\u001b[0;34m\u001b[0m\u001b[0;34m\u001b[0m\u001b[0m\n\u001b[1;32m     37\u001b[0m             \u001b[0mself\u001b[0m\u001b[0;34m.\u001b[0m\u001b[0mmodel\u001b[0m\u001b[0;34m.\u001b[0m\u001b[0mzero_grad\u001b[0m\u001b[0;34m(\u001b[0m\u001b[0;34m)\u001b[0m\u001b[0;34m\u001b[0m\u001b[0;34m\u001b[0m\u001b[0m\n\u001b[0;32m---> 38\u001b[0;31m             \u001b[0mloss\u001b[0m\u001b[0;34m.\u001b[0m\u001b[0mbackward\u001b[0m\u001b[0;34m(\u001b[0m\u001b[0;34m)\u001b[0m\u001b[0;34m\u001b[0m\u001b[0;34m\u001b[0m\u001b[0m\n\u001b[0m\u001b[1;32m     39\u001b[0m \u001b[0;34m\u001b[0m\u001b[0m\n\u001b[1;32m     40\u001b[0m             \u001b[0mx\u001b[0m\u001b[0;34m[\u001b[0m\u001b[0;34m'audio'\u001b[0m\u001b[0;34m]\u001b[0m \u001b[0;34m=\u001b[0m \u001b[0mtmp_audio\u001b[0m\u001b[0;34m\u001b[0m\u001b[0;34m\u001b[0m\u001b[0m\n",
      "\u001b[0;32m/nfs/students/summer-term-2020/project-4/yan/.conda/envs/cnn_project/lib/python3.8/site-packages/torch/tensor.py\u001b[0m in \u001b[0;36mbackward\u001b[0;34m(self, gradient, retain_graph, create_graph)\u001b[0m\n\u001b[1;32m    196\u001b[0m                 \u001b[0mproducts\u001b[0m\u001b[0;34m.\u001b[0m \u001b[0mDefaults\u001b[0m \u001b[0mto\u001b[0m\u001b[0;31m \u001b[0m\u001b[0;31m`\u001b[0m\u001b[0;31m`\u001b[0m\u001b[0;32mFalse\u001b[0m\u001b[0;31m`\u001b[0m\u001b[0;31m`\u001b[0m\u001b[0;34m.\u001b[0m\u001b[0;34m\u001b[0m\u001b[0;34m\u001b[0m\u001b[0m\n\u001b[1;32m    197\u001b[0m         \"\"\"\n\u001b[0;32m--> 198\u001b[0;31m         \u001b[0mtorch\u001b[0m\u001b[0;34m.\u001b[0m\u001b[0mautograd\u001b[0m\u001b[0;34m.\u001b[0m\u001b[0mbackward\u001b[0m\u001b[0;34m(\u001b[0m\u001b[0mself\u001b[0m\u001b[0;34m,\u001b[0m \u001b[0mgradient\u001b[0m\u001b[0;34m,\u001b[0m \u001b[0mretain_graph\u001b[0m\u001b[0;34m,\u001b[0m \u001b[0mcreate_graph\u001b[0m\u001b[0;34m)\u001b[0m\u001b[0;34m\u001b[0m\u001b[0;34m\u001b[0m\u001b[0m\n\u001b[0m\u001b[1;32m    199\u001b[0m \u001b[0;34m\u001b[0m\u001b[0m\n\u001b[1;32m    200\u001b[0m     \u001b[0;32mdef\u001b[0m \u001b[0mregister_hook\u001b[0m\u001b[0;34m(\u001b[0m\u001b[0mself\u001b[0m\u001b[0;34m,\u001b[0m \u001b[0mhook\u001b[0m\u001b[0;34m)\u001b[0m\u001b[0;34m:\u001b[0m\u001b[0;34m\u001b[0m\u001b[0;34m\u001b[0m\u001b[0m\n",
      "\u001b[0;32m/nfs/students/summer-term-2020/project-4/yan/.conda/envs/cnn_project/lib/python3.8/site-packages/torch/autograd/__init__.py\u001b[0m in \u001b[0;36mbackward\u001b[0;34m(tensors, grad_tensors, retain_graph, create_graph, grad_variables)\u001b[0m\n\u001b[1;32m     96\u001b[0m         \u001b[0mretain_graph\u001b[0m \u001b[0;34m=\u001b[0m \u001b[0mcreate_graph\u001b[0m\u001b[0;34m\u001b[0m\u001b[0;34m\u001b[0m\u001b[0m\n\u001b[1;32m     97\u001b[0m \u001b[0;34m\u001b[0m\u001b[0m\n\u001b[0;32m---> 98\u001b[0;31m     Variable._execution_engine.run_backward(\n\u001b[0m\u001b[1;32m     99\u001b[0m         \u001b[0mtensors\u001b[0m\u001b[0;34m,\u001b[0m \u001b[0mgrad_tensors\u001b[0m\u001b[0;34m,\u001b[0m \u001b[0mretain_graph\u001b[0m\u001b[0;34m,\u001b[0m \u001b[0mcreate_graph\u001b[0m\u001b[0;34m,\u001b[0m\u001b[0;34m\u001b[0m\u001b[0;34m\u001b[0m\u001b[0m\n\u001b[1;32m    100\u001b[0m         allow_unreachable=True)  # allow_unreachable flag\n",
      "\u001b[0;31mKeyboardInterrupt\u001b[0m: "
     ]
    }
   ],
   "source": [
    "from attacks.functionalPitch import FunctionalPitchAttack\n",
    "\n",
    "functional_pitch_shifting_attacks = {}\n",
    "\n",
    "for eps in [0.0005]:\n",
    "    attack_parameters = {'epsilon': eps, 'num_iter': 50, 'num_iter_stretch': 4}\n",
    "    fpg = FunctionalPitchAttack(model, model.val_dataloader(), attack_parameters, save_samples=False)\n",
    "    fpg.attack()\n",
    "    functional_pitch_shifting_attacks[eps] = fpg"
   ]
  },
  {
   "cell_type": "markdown",
   "metadata": {},
   "source": [
    "# Visualization"
   ]
  },
  {
   "cell_type": "code",
   "execution_count": 177,
   "metadata": {
    "ExecuteTime": {
     "end_time": "2020-06-23T19:05:32.401876Z",
     "start_time": "2020-06-23T19:05:32.272296Z"
    }
   },
   "outputs": [],
   "source": [
    "from utils.Visual import draw_plot \n",
    "\n",
    "y1 = {'data': [pgd_attacks[attack_id].getSuccessRate() for attack_id in pgd_attacks]}\n",
    "y1['color'] = 'b'\n",
    "y1['label'] = \"Adding noise\"\n",
    "\n",
    "y2 = {'data': [functional_volume_attacks[attack_id].getSuccessRate() for attack_id in functional_volume_attacks]}\n",
    "y2['color'] = 'r'\n",
    "y2['label'] = \"Adding noise + Changing Volume\"\n",
    "\n",
    "y3 = {'data': [functional_interpolation_attacks[attack_id].getSuccessRate() for attack_id in functional_interpolation_attacks]}\n",
    "y3['color'] = 'orange'\n",
    "y3['label'] = \"Adding noise + Changing Volume + Overlaying (perceptible)\"\n",
    "\n",
    "y4 = {'data': [functional_interpolation_attacks_imperceptible[attack_id].getSuccessRate() for attack_id in functional_interpolation_attacks_imperceptible]}\n",
    "y4['color'] = 'g'\n",
    "y4['label'] = \"Adding noise + Changing Volume + Overlaying (imperceptible)\"\n",
    "\n",
    "y5 = {'data': [functional_time_stretching_attacks[attack_id].getSuccessRate() for attack_id in functional_time_stretching_attacks]}\n",
    "y5['color'] = 'grey'\n",
    "y5['label'] = \"Adding noise + Time Stretching\""
   ]
  },
  {
   "cell_type": "code",
   "execution_count": 178,
   "metadata": {
    "ExecuteTime": {
     "end_time": "2020-06-23T19:05:34.461512Z",
     "start_time": "2020-06-23T19:05:33.610388Z"
    }
   },
   "outputs": [
    {
     "data": {
      "image/png": "[encoded data removed]",
      "text/plain": [
       "<Figure size 720x576 with 1 Axes>"
      ]
     },
     "metadata": {},
     "output_type": "display_data"
    }
   ],
   "source": [
    "draw_plot(epsilons, data = [y3, y5, y4, y2, y1 ], legend_x_offset=2.5, title=\"Functional Attacks\",\n",
    "          legend_title=\"Attack type\", x_label=\"epsilon_delta\", y_label=\"success rate\")"
   ]
  }
 ],
 "metadata": {
  "kernelspec": {
   "display_name": "Python 3",
   "language": "python",
   "name": "python3"
  },
  "language_info": {
   "codemirror_mode": {
    "name": "ipython",
    "version": 3
   },
   "file_extension": ".py",
   "mimetype": "text/x-python",
   "name": "python",
   "nbconvert_exporter": "python",
   "pygments_lexer": "ipython3",
   "version": "3.8.2"
  },
  "notify_time": "5"
 },
 "nbformat": 4,
 "nbformat_minor": 4
}
