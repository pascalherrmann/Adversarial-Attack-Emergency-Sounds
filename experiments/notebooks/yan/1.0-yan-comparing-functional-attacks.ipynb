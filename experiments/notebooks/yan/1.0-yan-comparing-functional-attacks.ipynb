{
 "cells": [
  {
   "cell_type": "code",
   "execution_count": 3,
   "metadata": {
    "ExecuteTime": {
     "end_time": "2020-06-23T10:50:08.532144Z",
     "start_time": "2020-06-23T10:50:08.354836Z"
    }
   },
   "outputs": [
    {
     "name": "stdout",
     "output_type": "stream",
     "text": [
      "The autoreload extension is already loaded. To reload it, use:\n",
      "  %reload_ext autoreload\n"
     ]
    }
   ],
   "source": [
    "%load_ext autoreload\n",
    "%autoreload 2\n",
    "import torch\n",
    "\n",
    "import os\n",
    "import sys\n",
    "module_path = os.path.abspath(os.path.join('../../../src/'))\n",
    "if module_path not in sys.path:\n",
    "    sys.path.append(module_path)\n",
    "    \n",
    "device = 'cuda' if torch.cuda.is_available() else 'cpu'"
   ]
  },
  {
   "cell_type": "markdown",
   "metadata": {},
   "source": [
    "# Load models"
   ]
  },
  {
   "cell_type": "code",
   "execution_count": 4,
   "metadata": {
    "ExecuteTime": {
     "end_time": "2020-06-23T10:50:13.459943Z",
     "start_time": "2020-06-23T10:50:13.402476Z"
    }
   },
   "outputs": [],
   "source": [
    "from classification.models.SpectrogramCNN import SpectrogramCNNPLModule\n",
    "\n",
    "state_dict_path = '/nfs/students/summer-term-2020/project-4/data/models/SpectrogramBasedCNN.pt'\n",
    "\n",
    "hparams = {\n",
    "    \"batch_size\": 5,\n",
    "    \"learning_rate\": 3e-4,\n",
    "    \"weight_decay\": 0.001,\n",
    "    \"lr_decay\": 0.95\n",
    "}\n",
    "\n",
    "model = SpectrogramCNNPLModule(hparams)\n",
    "model.model.load_state_dict(torch.load(state_dict_path))\n",
    "model = model.cuda()\n",
    "model = model.eval()"
   ]
  },
  {
   "cell_type": "markdown",
   "metadata": {},
   "source": [
    "# Load Data"
   ]
  },
  {
   "cell_type": "code",
   "execution_count": 5,
   "metadata": {
    "ExecuteTime": {
     "end_time": "2020-06-23T10:50:16.487599Z",
     "start_time": "2020-06-23T10:50:15.414728Z"
    }
   },
   "outputs": [],
   "source": [
    "from datasets.datasethandler import DatasetHandler\n",
    "datasetHandler = DatasetHandler()"
   ]
  },
  {
   "cell_type": "code",
   "execution_count": 10,
   "metadata": {
    "ExecuteTime": {
     "end_time": "2020-06-23T10:54:49.039243Z",
     "start_time": "2020-06-23T10:54:18.995170Z"
    }
   },
   "outputs": [
    {
     "name": "stdout",
     "output_type": "stream",
     "text": [
      "Load: /nfs/students/summer-term-2020/project-4/data/dataset1/dataset_resampled/training.p\n"
     ]
    }
   ],
   "source": [
    "datasetHandler.load(model, 'validation')\n",
    "datasetHandler.load(model, 'training')"
   ]
  },
  {
   "cell_type": "markdown",
   "metadata": {},
   "source": [
    "# Attacks"
   ]
  },
  {
   "cell_type": "code",
   "execution_count": 72,
   "metadata": {
    "ExecuteTime": {
     "end_time": "2020-06-23T11:32:18.496206Z",
     "start_time": "2020-06-23T11:32:18.470716Z"
    }
   },
   "outputs": [],
   "source": [
    "epsilons = [0.0001, 0.0002, 0.0003, 0.0004, 0.0005]"
   ]
  },
  {
   "cell_type": "markdown",
   "metadata": {},
   "source": [
    "## Simple PGD"
   ]
  },
  {
   "cell_type": "code",
   "execution_count": null,
   "metadata": {
    "ExecuteTime": {
     "start_time": "2020-06-23T11:32:20.268Z"
    },
    "scrolled": true
   },
   "outputs": [
    {
     "name": "stderr",
     "output_type": "stream",
     "text": [
      " 51%|█████     | 171/338 [04:13<03:56,  1.42s/it]"
     ]
    }
   ],
   "source": [
    "from attacks.pgd import ProjectedGradientDescent\n",
    "\n",
    "pgd_attacks = {}\n",
    "\n",
    "for eps in epsilons:\n",
    "    attack_parameters = {'epsilon': eps, 'num_iter': 50}\n",
    "    pgd = ProjectedGradientDescent(model, model.val_dataloader(), attack_parameters, save_samples=False)\n",
    "    pgd.attack()\n",
    "    pgd_attacks[eps] = pgd"
   ]
  },
  {
   "cell_type": "code",
   "execution_count": null,
   "metadata": {
    "ExecuteTime": {
     "start_time": "2020-06-23T11:32:22.398Z"
    },
    "scrolled": true
   },
   "outputs": [],
   "source": [
    "for eps in pgd_attacks:\n",
    "    pgd_attacks[eps].report()\n",
    "    print()"
   ]
  },
  {
   "cell_type": "markdown",
   "metadata": {},
   "source": [
    "## Functional Attack: PGD + Volume Attack"
   ]
  },
  {
   "cell_type": "code",
   "execution_count": null,
   "metadata": {
    "ExecuteTime": {
     "start_time": "2020-06-23T11:32:32.718Z"
    }
   },
   "outputs": [],
   "source": [
    "from attacks.functionalVolume import FunctionalVolumeAttack\n",
    "\n",
    "functional_volume_attacks = {}\n",
    "\n",
    "for eps in epsilons:\n",
    "    attack_parameters = {'epsilonVolume': 0.1, 'epsilonPGD': eps, 'num_iter': 50}\n",
    "    fva = FunctionalVolumeAttack(model, model.val_dataloader(), attack_parameters, save_samples=True)\n",
    "    fva.attack()\n",
    "    functional_volume_attacks[eps] = fva"
   ]
  },
  {
   "cell_type": "code",
   "execution_count": null,
   "metadata": {
    "ExecuteTime": {
     "start_time": "2020-06-23T11:32:39.497Z"
    },
    "scrolled": true
   },
   "outputs": [],
   "source": [
    "for eps in functional_volume_attacks:\n",
    "    print(eps)\n",
    "    functional_volume_attacks[eps].report()\n",
    "    print()"
   ]
  },
  {
   "cell_type": "code",
   "execution_count": 102,
   "metadata": {
    "ExecuteTime": {
     "end_time": "2020-06-22T20:09:25.667482Z",
     "start_time": "2020-06-22T20:09:25.337861Z"
    }
   },
   "outputs": [],
   "source": [
    "# functional_attacks[0.0003].showAdversarialExample(target_class=1)"
   ]
  },
  {
   "cell_type": "markdown",
   "metadata": {},
   "source": [
    "## Functional Interpolation (imperceptible)"
   ]
  },
  {
   "cell_type": "code",
   "execution_count": null,
   "metadata": {
    "ExecuteTime": {
     "start_time": "2020-06-23T11:32:43.842Z"
    }
   },
   "outputs": [],
   "source": [
    "import random\n",
    "import IPython.display as ipd\n",
    "\n",
    "random_sample_index = random.sample(range(len(model.dataset['training'])), 1)[0]\n",
    "random_sample_index = 2464 # manually picked\n",
    "random_sample = model.dataset['training'].__getitem__(random_sample_index)"
   ]
  },
  {
   "cell_type": "code",
   "execution_count": null,
   "metadata": {
    "ExecuteTime": {
     "start_time": "2020-06-23T11:34:34.795Z"
    }
   },
   "outputs": [],
   "source": [
    "from attacks.functionalInterpolation import FunctionalInterpolationAttack\n",
    "\n",
    "functional_interpolation_attacks_imperceptible = {}\n",
    "\n",
    "for eps in epsilons:\n",
    "    attack_parameters = {'overlay_sound': random_sample,\n",
    "                         'epsilonInterpolation': 0.1, 'epsilonNoise': eps, 'num_iter': 50, \n",
    "                         }\n",
    "    fva = FunctionalInterpolationAttack(model, model.val_dataloader(), attack_parameters, save_samples=True)\n",
    "    fva.attack()\n",
    "    functional_interpolation_attacks_imperceptible[eps] = fva"
   ]
  },
  {
   "cell_type": "code",
   "execution_count": null,
   "metadata": {
    "ExecuteTime": {
     "start_time": "2020-06-23T11:34:40.819Z"
    }
   },
   "outputs": [],
   "source": [
    "for eps in functional_interpolation_attacks_imperceptible:\n",
    "    functional_interpolation_attacks_imperceptible[eps].report()\n",
    "    print()"
   ]
  },
  {
   "cell_type": "markdown",
   "metadata": {},
   "source": [
    "## Functional Interpolation (hearable)"
   ]
  },
  {
   "cell_type": "code",
   "execution_count": null,
   "metadata": {
    "ExecuteTime": {
     "start_time": "2020-06-23T11:35:11.257Z"
    }
   },
   "outputs": [],
   "source": [
    "import random\n",
    "import IPython.display as ipd\n",
    "\n",
    "random_sample_index = random.sample(range(len(model.dataset['training'])), 1)[0]\n",
    "random_sample_index = 2464 # manually picked\n",
    "random_sample = model.dataset['training'].__getitem__(random_sample_index)"
   ]
  },
  {
   "cell_type": "code",
   "execution_count": null,
   "metadata": {
    "ExecuteTime": {
     "start_time": "2020-06-23T11:35:34.115Z"
    }
   },
   "outputs": [],
   "source": [
    "from attacks.functionalInterpolation import FunctionalInterpolationAttack\n",
    "\n",
    "functional_interpolation_attacks = {}\n",
    "\n",
    "for eps in epsilons:\n",
    "    attack_parameters = {'overlay_sound': random_sample,\n",
    "                         'epsilonInterpolation': 0.1, 'epsilonNoise': eps, 'num_iter': 50, \n",
    "                         'upper2': 1,\n",
    "                         }\n",
    "    fva = FunctionalInterpolationAttack(model, model.val_dataloader(), attack_parameters, save_samples=True)\n",
    "    fva.attack()\n",
    "    functional_interpolation_attacks[eps] = fva"
   ]
  },
  {
   "cell_type": "code",
   "execution_count": 70,
   "metadata": {
    "ExecuteTime": {
     "end_time": "2020-06-23T11:31:43.787961Z",
     "start_time": "2020-06-23T11:31:43.596747Z"
    }
   },
   "outputs": [],
   "source": [
    "#ipd.display(ipd.Audio(random_sample['audio'], rate=random_sample['sample_rate']))\n",
    "#functional_attacks[0.0005].showAdversarialExample(target_class=1)"
   ]
  },
  {
   "cell_type": "code",
   "execution_count": null,
   "metadata": {
    "ExecuteTime": {
     "start_time": "2020-06-23T11:35:38.637Z"
    }
   },
   "outputs": [],
   "source": [
    "for eps in functional_interpolation_attacks:\n",
    "    functional_interpolation_attacks[eps].report()\n",
    "    print()"
   ]
  },
  {
   "cell_type": "markdown",
   "metadata": {},
   "source": [
    "# Visualization"
   ]
  },
  {
   "cell_type": "code",
   "execution_count": 81,
   "metadata": {
    "ExecuteTime": {
     "end_time": "2020-06-22T19:36:23.491616Z",
     "start_time": "2020-06-22T19:36:23.451106Z"
    }
   },
   "outputs": [],
   "source": [
    "from utils.Visual import draw_plot \n",
    "\n",
    "y1 = {'data': [pgd_attacks[attack_id].getSuccessRate() for attack_id in pgd_attacks]}\n",
    "y1['color'] = 'b'\n",
    "y1['label'] = \"Adding noise\"\n",
    "\n",
    "y2 = {'data': [functional_attacks[attack_id].getSuccessRate() for attack_id in functional_attacks]}\n",
    "y2['color'] = 'r'\n",
    "y2['label'] = \"Adding noise + Changing Volume\""
   ]
  },
  {
   "cell_type": "code",
   "execution_count": 87,
   "metadata": {
    "ExecuteTime": {
     "end_time": "2020-06-22T19:42:22.952440Z",
     "start_time": "2020-06-22T19:42:22.696683Z"
    }
   },
   "outputs": [
    {
     "data": {
      "image/png": "[encoded data removed]",
      "text/plain": [
       "<Figure size 720x576 with 1 Axes>"
      ]
     },
     "metadata": {},
     "output_type": "display_data"
    }
   ],
   "source": [
    "draw_plot(epsilons, data = [y2, y1], legend_x_offset=1.9, title=\"PGD vs. Functional Attacks\",\n",
    "          legend_title=\"Attack type\", x_label=\"epsilon_delta\", y_label=\"success rate\")"
   ]
  }
 ],
 "metadata": {
  "kernelspec": {
   "display_name": "Python 3",
   "language": "python",
   "name": "python3"
  },
  "language_info": {
   "codemirror_mode": {
    "name": "ipython",
    "version": 3
   },
   "file_extension": ".py",
   "mimetype": "text/x-python",
   "name": "python",
   "nbconvert_exporter": "python",
   "pygments_lexer": "ipython3",
   "version": "3.8.2"
  },
  "notify_time": "5"
 },
 "nbformat": 4,
 "nbformat_minor": 4
}
