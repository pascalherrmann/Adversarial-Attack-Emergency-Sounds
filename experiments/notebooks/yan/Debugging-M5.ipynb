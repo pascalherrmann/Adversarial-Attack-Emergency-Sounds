{
 "cells": [
  {
   "cell_type": "code",
   "execution_count": 1,
   "metadata": {
    "ExecuteTime": {
     "end_time": "2020-07-09T17:06:17.792002Z",
     "start_time": "2020-07-09T17:06:17.353236Z"
    }
   },
   "outputs": [],
   "source": [
    "%load_ext autoreload\n",
    "%autoreload 2\n",
    "import torch\n",
    "\n",
    "import os\n",
    "import sys\n",
    "module_path = os.path.abspath(os.path.join('../../../src/'))\n",
    "if module_path not in sys.path:\n",
    "    sys.path.append(module_path)\n",
    "    \n",
    "device = 'cuda' if torch.cuda.is_available() else 'cpu'"
   ]
  },
  {
   "cell_type": "code",
   "execution_count": 2,
   "metadata": {
    "ExecuteTime": {
     "end_time": "2020-07-09T17:06:18.025097Z",
     "start_time": "2020-07-09T17:06:17.795926Z"
    }
   },
   "outputs": [],
   "source": [
    "from classification.models.M5 import M5PLModule"
   ]
  },
  {
   "cell_type": "code",
   "execution_count": 3,
   "metadata": {
    "ExecuteTime": {
     "end_time": "2020-07-09T17:06:19.622934Z",
     "start_time": "2020-07-09T17:06:18.029225Z"
    }
   },
   "outputs": [
    {
     "data": {
      "text/plain": [
       "<All keys matched successfully>"
      ]
     },
     "execution_count": 3,
     "metadata": {},
     "output_type": "execute_result"
    }
   ],
   "source": [
    "loaded_dict = torch.load(\"/nfs/students/summer-term-2020/project-4/SAVED_MODELS/M5/M5_vanilla.p\")\n",
    "hparams = loaded_dict[\"hparams\"]\n",
    "#hparams['batch_size'] = 30\n",
    "\n",
    "model = M5PLModule(hparams)\n",
    "model.model.load_state_dict(loaded_dict[\"state_dict\"])"
   ]
  },
  {
   "cell_type": "code",
   "execution_count": 4,
   "metadata": {
    "ExecuteTime": {
     "end_time": "2020-07-09T17:06:19.644818Z",
     "start_time": "2020-07-09T17:06:19.626848Z"
    }
   },
   "outputs": [],
   "source": [
    "from datasets.datasethandler import DatasetHandler\n",
    "datasetHandler = DatasetHandler()"
   ]
  },
  {
   "cell_type": "code",
   "execution_count": 5,
   "metadata": {
    "ExecuteTime": {
     "end_time": "2020-07-09T17:06:20.022893Z",
     "start_time": "2020-07-09T17:06:19.648732Z"
    }
   },
   "outputs": [
    {
     "name": "stdout",
     "output_type": "stream",
     "text": [
      "Loading cached validation data of dataset 0 from /nfs/students/summer-term-2020/project-4/data/dataset1/dataset_8k/\n"
     ]
    }
   ],
   "source": [
    "datasetHandler.load(model, 'validation')"
   ]
  },
  {
   "cell_type": "code",
   "execution_count": 6,
   "metadata": {
    "ExecuteTime": {
     "end_time": "2020-07-09T17:06:24.589053Z",
     "start_time": "2020-07-09T17:06:20.027097Z"
    }
   },
   "outputs": [
    {
     "name": "stderr",
     "output_type": "stream",
     "text": [
      "100%|██████████| 53/53 [00:03<00:00, 13.99it/s]\n"
     ]
    }
   ],
   "source": [
    "from attacks.pgd import ProjectedGradientDescent\n",
    "\n",
    "epsilons = [0.02]\n",
    "#epsilons = [0, 0.001, 0.002, 0.005, 0.01, 0.02, 0.05, 0.1, 0.2, 0.5]\n",
    "\n",
    "for eps in epsilons:\n",
    "    attack_parameters = {'epsilon': eps, 'num_iter': 1}\n",
    "    valid_loader = model.val_dataloader()\n",
    "    fgsm = ProjectedGradientDescent(model, valid_loader, attack_parameters, save_samples=False)\n",
    "    fgsm.attack(cudnn_RNN_backward_bug=False)"
   ]
  },
  {
   "cell_type": "code",
   "execution_count": 7,
   "metadata": {
    "ExecuteTime": {
     "end_time": "2020-07-09T17:06:24.617690Z",
     "start_time": "2020-07-09T17:06:24.593118Z"
    }
   },
   "outputs": [
    {
     "name": "stdout",
     "output_type": "stream",
     "text": [
      "Attack-Parameters:\t{'epsilon': 0.02, 'num_iter': 1}\n",
      "Early stopping: \tFalse (-1)\n",
      "\n",
      "Successfully attacked:\t1368\n",
      "Total attacked: \t1440\n",
      "Total processed:\t1687\n",
      "\n",
      "Success-Rate: \t\t0.95\n",
      "Perturbed Accurracy: \t0.04\n"
     ]
    },
    {
     "data": {
      "text/plain": [
       "{'success_rate': 0.95, 'acc': 0.04267931238885596}"
      ]
     },
     "execution_count": 7,
     "metadata": {},
     "output_type": "execute_result"
    }
   ],
   "source": [
    "fgsm.report()"
   ]
  }
 ],
 "metadata": {
  "kernelspec": {
   "display_name": "Python 3",
   "language": "python",
   "name": "python3"
  },
  "language_info": {
   "codemirror_mode": {
    "name": "ipython",
    "version": 3
   },
   "file_extension": ".py",
   "mimetype": "text/x-python",
   "name": "python",
   "nbconvert_exporter": "python",
   "pygments_lexer": "ipython3",
   "version": "3.8.2"
  }
 },
 "nbformat": 4,
 "nbformat_minor": 4
}
