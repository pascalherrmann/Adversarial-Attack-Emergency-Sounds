{
 "cells": [
  {
   "cell_type": "markdown",
   "metadata": {
    "heading_collapsed": true
   },
   "source": [
    "# Preamble"
   ]
  },
  {
   "cell_type": "code",
   "execution_count": 1,
   "metadata": {
    "ExecuteTime": {
     "end_time": "2020-07-05T17:37:11.964620Z",
     "start_time": "2020-07-05T17:37:07.508615Z"
    },
    "hidden": true
   },
   "outputs": [],
   "source": [
    "# json\n",
    "import json\n",
    "\n",
    "# Pytorch\n",
    "import torch\n",
    "import torch.nn as nn\n",
    "import torch.nn.functional as F\n",
    "import torch.optim as optim\n",
    "import torchaudio\n",
    "\n",
    "import matplotlib.pyplot as plt\n",
    "import librosa\n",
    "\n",
    "import librosa.display\n",
    "import IPython.display as ipd\n",
    "\n",
    "import numpy as np\n",
    "import pickle\n",
    "import random"
   ]
  },
  {
   "cell_type": "code",
   "execution_count": 2,
   "metadata": {
    "ExecuteTime": {
     "end_time": "2020-07-05T17:37:12.513290Z",
     "start_time": "2020-07-05T17:37:11.971117Z"
    },
    "hidden": true
   },
   "outputs": [],
   "source": [
    "import torch\n",
    "import librosa\n",
    "from torch_specinv import griffin_lim\n",
    "from torch_specinv.metrics import spectral_convergence as SC\n",
    "\n",
    "from __future__ import print_function\n",
    "import torch\n",
    "import torch.nn as nn\n",
    "import torch.nn.functional as F\n",
    "import torch.optim as optim\n",
    "from torchvision import datasets, transforms\n",
    "import numpy as np\n",
    "import matplotlib.pyplot as plt"
   ]
  },
  {
   "cell_type": "code",
   "execution_count": 3,
   "metadata": {
    "ExecuteTime": {
     "end_time": "2020-07-05T17:37:12.558064Z",
     "start_time": "2020-07-05T17:37:12.518624Z"
    },
    "hidden": true
   },
   "outputs": [],
   "source": [
    "%load_ext autoreload"
   ]
  },
  {
   "cell_type": "code",
   "execution_count": 4,
   "metadata": {
    "ExecuteTime": {
     "end_time": "2020-07-05T17:37:12.566992Z",
     "start_time": "2020-07-05T17:37:12.563231Z"
    },
    "hidden": true
   },
   "outputs": [],
   "source": [
    "from tqdm import tqdm\n",
    "from sklearn import metrics"
   ]
  },
  {
   "cell_type": "code",
   "execution_count": 5,
   "metadata": {
    "ExecuteTime": {
     "end_time": "2020-07-05T17:37:12.617224Z",
     "start_time": "2020-07-05T17:37:12.581779Z"
    },
    "hidden": true
   },
   "outputs": [
    {
     "name": "stdout",
     "output_type": "stream",
     "text": [
      "CUDA Available:  False\n"
     ]
    }
   ],
   "source": [
    "# Define what device we are using\n",
    "print(\"CUDA Available: \",torch.cuda.is_available())\n",
    "use_cuda=True\n",
    "device = torch.device(\"cuda\" if (use_cuda and torch.cuda.is_available()) else \"cpu\")"
   ]
  },
  {
   "cell_type": "code",
   "execution_count": 6,
   "metadata": {
    "ExecuteTime": {
     "end_time": "2020-07-05T17:37:12.628298Z",
     "start_time": "2020-07-05T17:37:12.622726Z"
    },
    "hidden": true
   },
   "outputs": [],
   "source": [
    "import os\n",
    "import sys\n",
    "module_path = os.path.abspath(os.path.join('../../../src/'))\n",
    "if module_path not in sys.path:\n",
    "    sys.path.append(module_path)"
   ]
  },
  {
   "cell_type": "markdown",
   "metadata": {},
   "source": [
    "# Load data"
   ]
  },
  {
   "cell_type": "code",
   "execution_count": 62,
   "metadata": {
    "ExecuteTime": {
     "end_time": "2020-07-05T17:58:45.204066Z",
     "start_time": "2020-07-05T17:58:45.199972Z"
    }
   },
   "outputs": [],
   "source": [
    "from datasets.datasethandler import DatasetHandler \n",
    "datasetHandler = DatasetHandler()"
   ]
  },
  {
   "cell_type": "markdown",
   "metadata": {
    "heading_collapsed": true
   },
   "source": [
    "# Validating"
   ]
  },
  {
   "cell_type": "code",
   "execution_count": 15,
   "metadata": {
    "ExecuteTime": {
     "end_time": "2020-07-05T17:37:53.745404Z",
     "start_time": "2020-07-05T17:37:53.737001Z"
    },
    "hidden": true
   },
   "outputs": [],
   "source": [
    "def reportScore(y_true, y_pred):\n",
    "    print(\"\\tAccuracy:\\t\" + str(metrics.accuracy_score(y_true,y_pred)))\n",
    "    print(\"\\tPrecision:\\t\" + str(metrics.precision_score(y_true,y_pred)))\n",
    "    print(\"\\tRecall:   \\t\" + str(metrics.recall_score(y_true,y_pred)))\n",
    "    print(\"\\tF1-score:\\t\" + str(metrics.f1_score(y_true,y_pred)))\n",
    "    #tn, fp, fn, tp = metrics.confusion_matrix(y_true,y_pred).ravel()"
   ]
  },
  {
   "cell_type": "code",
   "execution_count": 16,
   "metadata": {
    "ExecuteTime": {
     "end_time": "2020-07-05T17:37:54.525409Z",
     "start_time": "2020-07-05T17:37:54.516523Z"
    },
    "hidden": true
   },
   "outputs": [],
   "source": [
    "def validate(model):\n",
    "    valid_loader = model.get_dataloader(\"validation\", {'shuffle': False}) \n",
    "    \n",
    "    model.eval()\n",
    "\n",
    "    y_true = []\n",
    "    y_pred = []\n",
    "    with torch.no_grad():\n",
    "        for data in tqdm(valid_loader):\n",
    "            data = [item.cuda() for item in data] # move to gpu\n",
    "            inputs, labels = data[:2], data[-1]\n",
    "            outputs = model(inputs)\n",
    "\n",
    "            y_pred.append(torch.max(outputs.data, 1)[1].item())\n",
    "            y_true.append(labels.item())\n",
    "            \n",
    "    reportScore(y_true, y_pred)"
   ]
  },
  {
   "cell_type": "markdown",
   "metadata": {
    "heading_collapsed": true
   },
   "source": [
    "# Model definition"
   ]
  },
  {
   "cell_type": "markdown",
   "metadata": {
    "heading_collapsed": true,
    "hidden": true
   },
   "source": [
    "## Model config"
   ]
  },
  {
   "cell_type": "code",
   "execution_count": 17,
   "metadata": {
    "ExecuteTime": {
     "end_time": "2020-07-05T17:37:59.881928Z",
     "start_time": "2020-07-05T17:37:59.872879Z"
    },
    "hidden": true
   },
   "outputs": [],
   "source": [
    "cfg = {'name': 'Urban Testing',\n",
    " 'data': {'type': 'YanDataManager',\n",
    "  'path': '/nfs/students/summer-term-2020/project-4/data/dataset1/dataset_resampled',\n",
    "  'format': 'audio',\n",
    "  'loader': {'shuffle': True,\n",
    "   'batch_size': 24,\n",
    "   'num_workers': 4,\n",
    "   'drop_last': True}},\n",
    " 'transforms': {'type': 'AudioTransforms',\n",
    "  'args': {'channels': 'avg', 'noise': [0.3, 0.001], 'crop': [0.0, 0.25]}},\n",
    " 'optimizer': {'type': 'Adam',\n",
    "  'args': {'lr': 0.002, 'weight_decay': 0.01, 'amsgrad': True}},\n",
    " 'lr_scheduler': {'type': 'StepLR', 'args': {'step_size': 10, 'gamma': 0.5}},\n",
    " 'model': {'type': 'AudioCRNN'},\n",
    " 'train': {'loss': 'nll_loss',\n",
    "  'epochs': 100,\n",
    "  'save_dir': 'saved_cv/',\n",
    "  'save_p': 1,\n",
    "  'verbosity': 2,\n",
    "  'monitor': 'min val_loss',\n",
    "  'early_stop': 8,\n",
    "  'tbX': True},\n",
    " 'metrics': 'classification_metrics',\n",
    " 'net_mode': 'init',\n",
    " 'cfg': '[convs_module]\\n    [conv2d]\\n        out_channels=32\\n        kernel_size=3\\n        stride=1\\n        padding=valid\\n    [batchnorm2d]\\n    [elu]\\n    [maxpool2d]\\n        kernel_size=3\\n        stride=3\\n    [dropout]\\n        p=0.1\\n    \\n    REPEATx2\\n        [conv2d]\\n            out_channels=64\\n            kernel_size=3\\n            stride=1\\n            padding=valid\\n        [batchnorm2d]\\n        [elu]\\n        [maxpool2d]\\n            kernel_size=4\\n            stride=4\\n        [dropout]\\n            p=0.1\\n    END\\n\\n[moddims]\\n    permute=[2,1,0]\\n    collapse=[1,2]\\n\\n[recur_module]\\n    [lstm]\\n        hidden_size = 256\\n        num_layers = 2\\n        bidirectional=True\\n\\n[moddims]\\n    permute=[1]\\n\\n[dense_module]\\n    [dropout]\\n        p=0.2  \\n    [batchnorm1d]\\n    [linear]\\n        out_features = 2\\n'}"
   ]
  },
  {
   "cell_type": "markdown",
   "metadata": {
    "heading_collapsed": true,
    "hidden": true
   },
   "source": [
    "## Audio.py"
   ]
  },
  {
   "cell_type": "code",
   "execution_count": 18,
   "metadata": {
    "ExecuteTime": {
     "end_time": "2020-07-05T17:38:03.172016Z",
     "start_time": "2020-07-05T17:38:03.147766Z"
    },
    "hidden": true
   },
   "outputs": [],
   "source": [
    "# audio.py\n",
    "import numpy as np\n",
    "import torch\n",
    "import torch.nn as nn\n",
    "\n",
    "from torchaudio.transforms import Spectrogram, MelSpectrogram , ComplexNorm\n",
    "from torchaudio.transforms import TimeStretch, AmplitudeToDB \n",
    "from torch.distributions import Uniform\n",
    "\n",
    "def _num_stft_bins(lengths, fft_length, hop_length, pad):\n",
    "    return (lengths + 2 * pad - fft_length + hop_length) // hop_length\n",
    "\n",
    "class MelspectrogramStretch(MelSpectrogram):\n",
    "\n",
    "    def __init__(self, hop_length=None, \n",
    "                       sample_rate=48000, \n",
    "                       num_mels=128, \n",
    "                       fft_length=2048, \n",
    "                       norm='whiten', \n",
    "                       stretch_param=[0.4, 0.4]):\n",
    "\n",
    "        super(MelspectrogramStretch, self).__init__(sample_rate=sample_rate, \n",
    "                                                    n_fft=fft_length, \n",
    "                                                    hop_length=hop_length, \n",
    "                                                    n_mels=num_mels)\n",
    "\n",
    "        self.stft = Spectrogram(n_fft=self.n_fft, win_length=self.win_length,\n",
    "                                       hop_length=self.hop_length, pad=self.pad, \n",
    "                                       power=None, normalized=False)\n",
    "\n",
    "        # Augmentation\n",
    "        self.prob = stretch_param[0]\n",
    "        self.random_stretch = RandomTimeStretch(stretch_param[1], \n",
    "                                                self.hop_length, \n",
    "                                                self.n_fft//2+1, \n",
    "                                                fixed_rate=None)\n",
    "        \n",
    "        # Normalization (pot spec processing)\n",
    "        self.complex_norm = ComplexNorm(power=2.)\n",
    "        self.norm = SpecNormalization(norm)\n",
    "\n",
    "    def forward(self, x, lengths=None):\n",
    "        x = self.stft(x)\n",
    "\n",
    "        if lengths is not None:\n",
    "            lengths = _num_stft_bins(lengths, self.n_fft, self.hop_length, self.n_fft//2)\n",
    "            lengths = lengths.long()\n",
    "        \n",
    "        if torch.rand(1)[0] <= self.prob and self.training:\n",
    "            # Stretch spectrogram in time using Phase Vocoder\n",
    "            x, rate = self.random_stretch(x)\n",
    "            # Modify the rate accordingly\n",
    "            lengths = (lengths.float()/rate).long()+1\n",
    "        \n",
    "        x = self.complex_norm(x)\n",
    "        x = self.mel_scale(x)\n",
    "\n",
    "        # Normalize melspectrogram\n",
    "        x = self.norm(x)\n",
    "\n",
    "        if lengths is not None:\n",
    "            return x, lengths        \n",
    "        return x\n",
    "\n",
    "    def __repr__(self):\n",
    "        return self.__class__.__name__ + '()'\n",
    "\n",
    "\n",
    "class RandomTimeStretch(TimeStretch):\n",
    "\n",
    "    def __init__(self, max_perc, hop_length=None, n_freq=201, fixed_rate=None):\n",
    "\n",
    "        super(RandomTimeStretch, self).__init__(hop_length, n_freq, fixed_rate)\n",
    "        self._dist = Uniform(1.-max_perc, 1+max_perc)\n",
    "\n",
    "    def forward(self, x):\n",
    "        rate = self._dist.sample().item()\n",
    "        return super(RandomTimeStretch, self).forward(x, rate), rate\n",
    "\n",
    "\n",
    "class SpecNormalization(nn.Module):\n",
    "\n",
    "    def __init__(self, norm_type, top_db=80.0):\n",
    "\n",
    "        super(SpecNormalization, self).__init__()\n",
    "\n",
    "        if 'db' == norm_type:\n",
    "            self._norm = AmplitudeToDB(stype='power', top_db=top_db)\n",
    "        elif 'whiten' == norm_type:\n",
    "            self._norm = lambda x: self.z_transform(x)\n",
    "        else:\n",
    "            self._norm = lambda x: x\n",
    "        \n",
    "    \n",
    "    def z_transform(self, x):\n",
    "        # Independent mean, std per batch\n",
    "        non_batch_inds = [1, 2, 3]\n",
    "        mean = x.mean(non_batch_inds, keepdim=True)\n",
    "        std = x.std(non_batch_inds, keepdim=True)\n",
    "        x = (x - mean)/std \n",
    "        return x\n",
    "\n",
    "    def forward(self, x):\n",
    "        return self._norm(x)"
   ]
  },
  {
   "cell_type": "markdown",
   "metadata": {
    "heading_collapsed": true,
    "hidden": true
   },
   "source": [
    "## Model.py"
   ]
  },
  {
   "cell_type": "code",
   "execution_count": 19,
   "metadata": {
    "ExecuteTime": {
     "end_time": "2020-07-05T17:38:06.918662Z",
     "start_time": "2020-07-05T17:38:06.805954Z"
    },
    "hidden": true
   },
   "outputs": [],
   "source": [
    "# model.py\n",
    "import torch\n",
    "import torch.nn as nn\n",
    "import torch.nn.functional as F\n",
    "import logging\n",
    "import torch.nn as nn\n",
    "import numpy as np\n",
    "\n",
    "from torch.utils.data import DataLoader\n",
    "\n",
    "# F.max_pool2d needs kernel_size and stride. If only one argument is passed, \n",
    "# then kernel_size = stride\n",
    "\n",
    "from torchparse import parse_cfg\n",
    "\n",
    "# Architecture inspiration from: https://github.com/keunwoochoi/music-auto_tagging-keras\n",
    "class AudioCRNN(nn.Module):\n",
    "    def __init__(self, config={}, state_dict=None):\n",
    "        super(AudioCRNN, self).__init__()\n",
    "        self.datasets = {}\n",
    "        in_chan = 2 if config['transforms']['args']['channels'] == 'stereo' else 1\n",
    "\n",
    "        self.logger = logging.getLogger(self.__class__.__name__)\n",
    "        self.config = config\n",
    "        \n",
    "        self.classes = ['negative', 'positive']\n",
    "        self.lstm_units = 64\n",
    "        self.lstm_layers = 2\n",
    "        self.spec = MelspectrogramStretch(hop_length=None, \n",
    "                                num_mels=128, \n",
    "                                fft_length=2048, \n",
    "                                norm='whiten', \n",
    "                                stretch_param=[0.4, 0.4])\n",
    "        self.net = parse_cfg(config['cfg'], in_shape=[in_chan, self.spec.n_mels, 400])\n",
    "\n",
    "    def _many_to_one(self, t, lengths):\n",
    "        return t[torch.arange(t.size(0)), lengths - 1]\n",
    "\n",
    "    def modify_lengths(self, lengths):\n",
    "        def safe_param(elem):\n",
    "            return elem if isinstance(elem, int) else elem[0]\n",
    "        \n",
    "        for name, layer in self.net['convs'].named_children():\n",
    "            #if name.startswith(('conv2d','maxpool2d')):\n",
    "            if isinstance(layer, (nn.Conv2d, nn.MaxPool2d)):\n",
    "                p, k, s = map(safe_param, [layer.padding, layer.kernel_size,layer.stride]) \n",
    "                lengths = ((lengths + 2*p - k)//s + 1).long()\n",
    "\n",
    "        return torch.where(lengths > 0, lengths, torch.tensor(1, device=lengths.device))\n",
    "\n",
    "    def forward(self, batch):    \n",
    "        x, lengths= batch['audio'], batch['lengths'] # unpacking seqs, lengths and srs\n",
    "        # x-> (batch, time, channel)\n",
    "        x = x.unsqueeze(2) # add channel dim\n",
    "        # x-> (batch, channel, time)\n",
    "        xt = x.float().transpose(1,2)\n",
    "        # xt -> (batch, channel, freq, time)\n",
    "        xt, lengths = self.spec(xt, lengths)                \n",
    "\n",
    "        # (batch, channel, freq, time)\n",
    "        xt = self.net['convs'](xt)\n",
    "        lengths = self.modify_lengths(lengths)\n",
    "\n",
    "        # xt -> (batch, time, freq, channel)\n",
    "        x = xt.transpose(1, -1)\n",
    "\n",
    "        # xt -> (batch, time, channel*freq)\n",
    "        batch, time = x.size()[:2]\n",
    "        x = x.reshape(batch, time, -1)\n",
    "        x_pack = torch.nn.utils.rnn.pack_padded_sequence(x, lengths, batch_first=True)\n",
    "    \n",
    "        # x -> (batch, time, lstm_out)\n",
    "        x_pack, hidden = self.net['recur'](x_pack)\n",
    "        x, _ = torch.nn.utils.rnn.pad_packed_sequence(x_pack, batch_first=True)\n",
    "        \n",
    "        # (batch, lstm_out)\n",
    "        x = self._many_to_one(x, lengths)\n",
    "        # (batch, classes)\n",
    "        x = self.net['dense'](x)\n",
    "\n",
    "        x = F.log_softmax(x, dim=1)\n",
    "\n",
    "        return x\n",
    "\n",
    "    def predict(self, x):\n",
    "        with torch.no_grad():\n",
    "            out_raw = self.forward( x )\n",
    "            out = torch.exp(out_raw)\n",
    "            max_ind = out.argmax().item()        \n",
    "            return self.classes[max_ind], out[:,max_ind].item()"
   ]
  },
  {
   "cell_type": "code",
   "execution_count": 20,
   "metadata": {
    "ExecuteTime": {
     "end_time": "2020-07-05T17:38:08.083688Z",
     "start_time": "2020-07-05T17:38:08.074833Z"
    },
    "hidden": true
   },
   "outputs": [],
   "source": [
    "from classification.trainer.GeneralPLModule import GeneralPLModule\n",
    "\n",
    "class AudioCRNNPLModule(GeneralPLModule):\n",
    "\n",
    "    def __init__(self, hparams, config={}, state_dict=None):\n",
    "        super().__init__(hparams)\n",
    "        self.model = AudioCRNN(config, state_dict)\n",
    "        \n",
    "    def dataset_info(self):\n",
    "        dataset_type = {\"sample_rate\": 48000}\n",
    "        dataset_params = {\"fixed_padding\": True}\n",
    "        return dataset_type, dataset_params"
   ]
  },
  {
   "cell_type": "markdown",
   "metadata": {
    "heading_collapsed": true
   },
   "source": [
    "# Model Description"
   ]
  },
  {
   "cell_type": "code",
   "execution_count": 21,
   "metadata": {
    "ExecuteTime": {
     "end_time": "2020-07-05T17:38:12.674221Z",
     "start_time": "2020-07-05T17:38:12.631238Z"
    },
    "hidden": true
   },
   "outputs": [
    {
     "data": {
      "text/plain": [
       "AudioCRNN(\n",
       "  (spec): MelspectrogramStretch()\n",
       "  (net): ModuleDict(\n",
       "    (convs): Sequential(\n",
       "      (conv2d_0): Conv2d(1, 32, kernel_size=(3, 3), stride=(1, 1), padding=[0, 0])\n",
       "      (batchnorm2d_0): BatchNorm2d(32, eps=1e-05, momentum=0.1, affine=True, track_running_stats=True)\n",
       "      (elu_0): ELU(alpha=1.0)\n",
       "      (maxpool2d_0): MaxPool2d(kernel_size=3, stride=3, padding=0, dilation=1, ceil_mode=False)\n",
       "      (dropout_0): Dropout(p=0.1, inplace=False)\n",
       "      (conv2d_1): Conv2d(32, 64, kernel_size=(3, 3), stride=(1, 1), padding=[0, 0])\n",
       "      (batchnorm2d_1): BatchNorm2d(64, eps=1e-05, momentum=0.1, affine=True, track_running_stats=True)\n",
       "      (elu_1): ELU(alpha=1.0)\n",
       "      (maxpool2d_1): MaxPool2d(kernel_size=4, stride=4, padding=0, dilation=1, ceil_mode=False)\n",
       "      (dropout_1): Dropout(p=0.1, inplace=False)\n",
       "      (conv2d_2): Conv2d(64, 64, kernel_size=(3, 3), stride=(1, 1), padding=[0, 0])\n",
       "      (batchnorm2d_2): BatchNorm2d(64, eps=1e-05, momentum=0.1, affine=True, track_running_stats=True)\n",
       "      (elu_2): ELU(alpha=1.0)\n",
       "      (maxpool2d_2): MaxPool2d(kernel_size=4, stride=4, padding=0, dilation=1, ceil_mode=False)\n",
       "      (dropout_2): Dropout(p=0.1, inplace=False)\n",
       "    )\n",
       "    (recur): LSTM(128, 256, num_layers=2, bidirectional=True)\n",
       "    (dense): Sequential(\n",
       "      (dropout_3): Dropout(p=0.2, inplace=False)\n",
       "      (batchnorm1d_0): BatchNorm1d(512, eps=1e-05, momentum=0.1, affine=True, track_running_stats=True)\n",
       "      (linear_0): Linear(in_features=512, out_features=2, bias=True)\n",
       "    )\n",
       "  )\n",
       ")"
      ]
     },
     "execution_count": 21,
     "metadata": {},
     "output_type": "execute_result"
    }
   ],
   "source": [
    "AudioCRNN(config=cfg)"
   ]
  },
  {
   "cell_type": "markdown",
   "metadata": {},
   "source": [
    "# Training"
   ]
  },
  {
   "cell_type": "code",
   "execution_count": 64,
   "metadata": {
    "ExecuteTime": {
     "end_time": "2020-07-05T18:00:48.005900Z",
     "start_time": "2020-07-05T18:00:47.311165Z"
    },
    "scrolled": true
   },
   "outputs": [
    {
     "name": "stdout",
     "output_type": "stream",
     "text": [
      "{'audio': tensor([[ 0.2299,  0.2421,  0.2530,  ...,  0.0000,  0.0000,  0.0000],\n",
      "        [ 0.0000,  0.0000,  0.0000,  ...,  0.0000,  0.0000,  0.0000],\n",
      "        [ 0.0000,  0.0000,  0.0000,  ...,  0.0000,  0.0000,  0.0000],\n",
      "        ...,\n",
      "        [-0.0797, -0.0814, -0.0686,  ...,  0.0000,  0.0000,  0.0000],\n",
      "        [ 0.0000,  0.0000,  0.0000,  ...,  0.0000,  0.0000,  0.0000],\n",
      "        [ 0.2231,  0.2150,  0.2065,  ...,  0.0000,  0.0000,  0.0000]]), 'sample_rate': tensor([48000, 48000, 48000, 48000, 48000, 48000, 48000, 48000, 48000, 48000,\n",
      "        48000, 48000, 48000, 48000, 48000, 48000, 48000, 48000, 48000, 48000,\n",
      "        48000, 48000, 48000, 48000, 48000, 48000, 48000, 48000, 48000, 48000,\n",
      "        48000, 48000]), 'label': tensor([0, 1, 0, 0, 0, 0, 0, 1, 0, 1, 0, 0, 1, 0, 0, 0, 0, 0, 1, 0, 1, 0, 1, 1,\n",
      "        0, 0, 0, 1, 1, 1, 1, 0])}\n"
     ]
    },
    {
     "ename": "AttributeError",
     "evalue": "'str' object has no attribute 'cuda'",
     "output_type": "error",
     "traceback": [
      "\u001b[0;31m---------------------------------------------------------------------------\u001b[0m",
      "\u001b[0;31mAttributeError\u001b[0m                            Traceback (most recent call last)",
      "\u001b[0;32m<ipython-input-64-acb83cce5a9a>\u001b[0m in \u001b[0;36m<module>\u001b[0;34m\u001b[0m\n\u001b[1;32m     24\u001b[0m     \u001b[0;32mfor\u001b[0m \u001b[0mi\u001b[0m\u001b[0;34m,\u001b[0m \u001b[0mdata\u001b[0m \u001b[0;32min\u001b[0m \u001b[0menumerate\u001b[0m\u001b[0;34m(\u001b[0m\u001b[0mmodel\u001b[0m\u001b[0;34m.\u001b[0m\u001b[0mget_dataloader\u001b[0m\u001b[0;34m(\u001b[0m\u001b[0;34m\"training\"\u001b[0m\u001b[0;34m,\u001b[0m \u001b[0mbatch_size\u001b[0m\u001b[0;34m=\u001b[0m\u001b[0;36m32\u001b[0m\u001b[0;34m)\u001b[0m\u001b[0;34m)\u001b[0m\u001b[0;34m:\u001b[0m\u001b[0;34m\u001b[0m\u001b[0;34m\u001b[0m\u001b[0m\n\u001b[1;32m     25\u001b[0m         \u001b[0mprint\u001b[0m\u001b[0;34m(\u001b[0m\u001b[0mdata\u001b[0m\u001b[0;34m)\u001b[0m\u001b[0;34m\u001b[0m\u001b[0;34m\u001b[0m\u001b[0m\n\u001b[0;32m---> 26\u001b[0;31m         \u001b[0mdata\u001b[0m \u001b[0;34m=\u001b[0m \u001b[0;34m[\u001b[0m\u001b[0mitem\u001b[0m\u001b[0;34m.\u001b[0m\u001b[0mcuda\u001b[0m\u001b[0;34m(\u001b[0m\u001b[0;34m)\u001b[0m \u001b[0;32mfor\u001b[0m \u001b[0mitem\u001b[0m \u001b[0;32min\u001b[0m \u001b[0mdata\u001b[0m\u001b[0;34m]\u001b[0m \u001b[0;31m# move to gpu\u001b[0m\u001b[0;34m\u001b[0m\u001b[0;34m\u001b[0m\u001b[0m\n\u001b[0m\u001b[1;32m     27\u001b[0m         \u001b[0mx\u001b[0m\u001b[0;34m,\u001b[0m \u001b[0mlabels\u001b[0m \u001b[0;34m=\u001b[0m \u001b[0mdata\u001b[0m\u001b[0;34m[\u001b[0m\u001b[0;34m:\u001b[0m\u001b[0;36m2\u001b[0m\u001b[0;34m]\u001b[0m\u001b[0;34m,\u001b[0m \u001b[0mdata\u001b[0m\u001b[0;34m[\u001b[0m\u001b[0;34m-\u001b[0m\u001b[0;36m1\u001b[0m\u001b[0;34m]\u001b[0m\u001b[0;34m\u001b[0m\u001b[0;34m\u001b[0m\u001b[0m\n\u001b[1;32m     28\u001b[0m \u001b[0;34m\u001b[0m\u001b[0m\n",
      "\u001b[0;32m<ipython-input-64-acb83cce5a9a>\u001b[0m in \u001b[0;36m<listcomp>\u001b[0;34m(.0)\u001b[0m\n\u001b[1;32m     24\u001b[0m     \u001b[0;32mfor\u001b[0m \u001b[0mi\u001b[0m\u001b[0;34m,\u001b[0m \u001b[0mdata\u001b[0m \u001b[0;32min\u001b[0m \u001b[0menumerate\u001b[0m\u001b[0;34m(\u001b[0m\u001b[0mmodel\u001b[0m\u001b[0;34m.\u001b[0m\u001b[0mget_dataloader\u001b[0m\u001b[0;34m(\u001b[0m\u001b[0;34m\"training\"\u001b[0m\u001b[0;34m,\u001b[0m \u001b[0mbatch_size\u001b[0m\u001b[0;34m=\u001b[0m\u001b[0;36m32\u001b[0m\u001b[0;34m)\u001b[0m\u001b[0;34m)\u001b[0m\u001b[0;34m:\u001b[0m\u001b[0;34m\u001b[0m\u001b[0;34m\u001b[0m\u001b[0m\n\u001b[1;32m     25\u001b[0m         \u001b[0mprint\u001b[0m\u001b[0;34m(\u001b[0m\u001b[0mdata\u001b[0m\u001b[0;34m)\u001b[0m\u001b[0;34m\u001b[0m\u001b[0;34m\u001b[0m\u001b[0m\n\u001b[0;32m---> 26\u001b[0;31m         \u001b[0mdata\u001b[0m \u001b[0;34m=\u001b[0m \u001b[0;34m[\u001b[0m\u001b[0mitem\u001b[0m\u001b[0;34m.\u001b[0m\u001b[0mcuda\u001b[0m\u001b[0;34m(\u001b[0m\u001b[0;34m)\u001b[0m \u001b[0;32mfor\u001b[0m \u001b[0mitem\u001b[0m \u001b[0;32min\u001b[0m \u001b[0mdata\u001b[0m\u001b[0;34m]\u001b[0m \u001b[0;31m# move to gpu\u001b[0m\u001b[0;34m\u001b[0m\u001b[0;34m\u001b[0m\u001b[0m\n\u001b[0m\u001b[1;32m     27\u001b[0m         \u001b[0mx\u001b[0m\u001b[0;34m,\u001b[0m \u001b[0mlabels\u001b[0m \u001b[0;34m=\u001b[0m \u001b[0mdata\u001b[0m\u001b[0;34m[\u001b[0m\u001b[0;34m:\u001b[0m\u001b[0;36m2\u001b[0m\u001b[0;34m]\u001b[0m\u001b[0;34m,\u001b[0m \u001b[0mdata\u001b[0m\u001b[0;34m[\u001b[0m\u001b[0;34m-\u001b[0m\u001b[0;36m1\u001b[0m\u001b[0;34m]\u001b[0m\u001b[0;34m\u001b[0m\u001b[0;34m\u001b[0m\u001b[0m\n\u001b[1;32m     28\u001b[0m \u001b[0;34m\u001b[0m\u001b[0m\n",
      "\u001b[0;31mAttributeError\u001b[0m: 'str' object has no attribute 'cuda'"
     ]
    }
   ],
   "source": [
    "torch.cuda.empty_cache()\n",
    "\n",
    "hparams = {\n",
    "    \"batch_size\": 24,\n",
    "    \"learning_rate\": 0.002,\n",
    "    \"weight_decay\": 0.01,\n",
    "    \"lr_decay\": 0.95\n",
    "}\n",
    "\n",
    "model = AudioCRNNPLModule(hparams, config=cfg).to(device)\n",
    "model.float()\n",
    "\n",
    "datasetHandler.load(model, \"training\")\n",
    "datasetHandler.load(model, \"validation\")\n",
    "\n",
    "criterion = nn.CrossEntropyLoss()\n",
    "optimizer = optim.Adam(model.parameters(), lr=0.002)\n",
    "\n",
    "model.train()\n",
    "\n",
    "for epoch in range(5):  # loop over the dataset multiple times\n",
    "\n",
    "    running_loss = 0.0\n",
    "    for i, data in enumerate(model.get_dataloader(\"training\", batch_size=32)):\n",
    "        print(data)\n",
    "        data = [item.cuda() for item in data] # move to gpu\n",
    "        x, labels = data[:2], data[-1]\n",
    "        \n",
    "        # zero the parameter gradients\n",
    "        optimizer.zero_grad()\n",
    "\n",
    "        # forward + backward + optimize\n",
    "        outputs = model(x)\n",
    "\n",
    "        loss = criterion(outputs, labels)\n",
    "        loss.backward()\n",
    "        optimizer.step()\n",
    "        \n",
    "        # track statistics\n",
    "        running_loss += loss.item()\n",
    "    #print(outputs[:10])\n",
    "    \n",
    "    print('[%d] loss: %.3f' % (epoch + 1, running_loss / (i+1)))\n",
    "    validate(model)\n",
    "    \n",
    "print('Finished Training')\n",
    "\n",
    "print(\"Validate:\")\n",
    "validate(model)"
   ]
  },
  {
   "cell_type": "code",
   "execution_count": 139,
   "metadata": {
    "ExecuteTime": {
     "end_time": "2020-06-09T10:49:07.242604Z",
     "start_time": "2020-06-09T10:49:01.670957Z"
    }
   },
   "outputs": [
    {
     "name": "stderr",
     "output_type": "stream",
     "text": [
      "100%|██████████| 1687/1687 [00:05<00:00, 303.93it/s]"
     ]
    },
    {
     "name": "stdout",
     "output_type": "stream",
     "text": [
      "\tAccuracy:\t0.8790752815649081\n",
      "\tPrecision:\t0.8676122931442081\n",
      "\tRecall:   \t0.8886198547215496\n",
      "\tF1-score:\t0.8779904306220097\n"
     ]
    },
    {
     "name": "stderr",
     "output_type": "stream",
     "text": [
      "\n"
     ]
    }
   ],
   "source": [
    "validate(model)"
   ]
  },
  {
   "cell_type": "code",
   "execution_count": 140,
   "metadata": {
    "ExecuteTime": {
     "end_time": "2020-06-09T10:49:09.696476Z",
     "start_time": "2020-06-09T10:49:09.681666Z"
    }
   },
   "outputs": [],
   "source": [
    "#model_state_dict_path = \"/nfs/students/summer-term-2020/project-4/data/models/SpectrogramBasedCNN.pt\"\n",
    "#torch.save(model.state_dict(), model_state_dict_path)"
   ]
  },
  {
   "cell_type": "markdown",
   "metadata": {
    "heading_collapsed": true
   },
   "source": [
    "# Debugging dataset handler"
   ]
  },
  {
   "cell_type": "code",
   "execution_count": 57,
   "metadata": {
    "ExecuteTime": {
     "end_time": "2020-07-05T17:58:07.067834Z",
     "start_time": "2020-07-05T17:58:07.063802Z"
    },
    "hidden": true
   },
   "outputs": [],
   "source": [
    "datasetHandler = DatasetHandler()"
   ]
  },
  {
   "cell_type": "code",
   "execution_count": 58,
   "metadata": {
    "ExecuteTime": {
     "end_time": "2020-07-05T17:58:35.321040Z",
     "start_time": "2020-07-05T17:58:07.927458Z"
    },
    "hidden": true
   },
   "outputs": [
    {
     "name": "stdout",
     "output_type": "stream",
     "text": [
      "Loading cached training data of dataset 0 from /nfs/students/summer-term-2020/project-4/data/dataset1/dataset_8k/\n",
      "Loading cached validation data of dataset 0 from /nfs/students/summer-term-2020/project-4/data/dataset1/dataset_8k/\n",
      "Loading cached testing data of dataset 0 from /nfs/students/summer-term-2020/project-4/data/dataset1/dataset_8k/\n"
     ]
    }
   ],
   "source": [
    "from classification.models.M5 import M5PLModule\n",
    "\n",
    "hparams = {\n",
    "    \"batch_size\": 2,\n",
    "    \"learning_rate\": 0.001,\n",
    "    \"weight_decay\": 0,\n",
    "    \"lr_decay\": 1\n",
    "}\n",
    "\n",
    "model = M5PLModule(hparams)\n",
    "\n",
    "datasetHandler.load_datasets(model)"
   ]
  },
  {
   "cell_type": "code",
   "execution_count": 59,
   "metadata": {
    "ExecuteTime": {
     "end_time": "2020-07-05T17:58:36.550382Z",
     "start_time": "2020-07-05T17:58:35.332019Z"
    },
    "hidden": true
   },
   "outputs": [],
   "source": [
    "for x in model.get_dataloader(\"training\", batch_size=32):\n",
    "    pass"
   ]
  },
  {
   "cell_type": "code",
   "execution_count": 60,
   "metadata": {
    "ExecuteTime": {
     "end_time": "2020-07-05T17:58:36.881761Z",
     "start_time": "2020-07-05T17:58:36.555564Z"
    },
    "hidden": true
   },
   "outputs": [],
   "source": [
    "for x in model.get_dataloader(\"validation\", batch_size=32):\n",
    "    pass"
   ]
  },
  {
   "cell_type": "code",
   "execution_count": 61,
   "metadata": {
    "ExecuteTime": {
     "end_time": "2020-07-05T17:58:37.159016Z",
     "start_time": "2020-07-05T17:58:36.885979Z"
    },
    "hidden": true
   },
   "outputs": [],
   "source": [
    "for x in model.get_dataloader(\"testing\", batch_size=32):\n",
    "    pass"
   ]
  }
 ],
 "metadata": {
  "kernelspec": {
   "display_name": "Python 3",
   "language": "python",
   "name": "python3"
  },
  "language_info": {
   "codemirror_mode": {
    "name": "ipython",
    "version": 3
   },
   "file_extension": ".py",
   "mimetype": "text/x-python",
   "name": "python",
   "nbconvert_exporter": "python",
   "pygments_lexer": "ipython3",
   "version": "3.8.2"
  }
 },
 "nbformat": 4,
 "nbformat_minor": 4
}
