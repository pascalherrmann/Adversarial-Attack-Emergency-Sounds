{
 "cells": [
  {
   "cell_type": "markdown",
   "metadata": {},
   "source": [
    "# Preamble"
   ]
  },
  {
   "cell_type": "code",
   "execution_count": 1,
   "metadata": {
    "ExecuteTime": {
     "end_time": "2020-07-07T13:50:53.114721Z",
     "start_time": "2020-07-07T13:50:46.374314Z"
    }
   },
   "outputs": [],
   "source": [
    "# json\n",
    "import json\n",
    "\n",
    "# Pytorch\n",
    "import torch\n",
    "import torch.nn as nn\n",
    "import torch.nn.functional as F\n",
    "import torch.optim as optim\n",
    "import torchaudio\n",
    "\n",
    "import matplotlib.pyplot as plt\n",
    "import librosa\n",
    "\n",
    "import librosa.display\n",
    "import IPython.display as ipd\n",
    "\n",
    "import numpy as np\n",
    "import pickle\n",
    "import random"
   ]
  },
  {
   "cell_type": "code",
   "execution_count": 2,
   "metadata": {
    "ExecuteTime": {
     "end_time": "2020-07-07T13:50:53.707195Z",
     "start_time": "2020-07-07T13:50:53.119014Z"
    }
   },
   "outputs": [],
   "source": [
    "import torch\n",
    "import librosa\n",
    "from torch_specinv import griffin_lim\n",
    "from torch_specinv.metrics import spectral_convergence as SC\n",
    "\n",
    "from __future__ import print_function\n",
    "import torch\n",
    "import torch.nn as nn\n",
    "import torch.nn.functional as F\n",
    "import torch.optim as optim\n",
    "from torchvision import datasets, transforms\n",
    "import numpy as np\n",
    "import matplotlib.pyplot as plt"
   ]
  },
  {
   "cell_type": "code",
   "execution_count": 3,
   "metadata": {
    "ExecuteTime": {
     "end_time": "2020-07-07T13:50:53.783702Z",
     "start_time": "2020-07-07T13:50:53.711599Z"
    }
   },
   "outputs": [],
   "source": [
    "%load_ext autoreload"
   ]
  },
  {
   "cell_type": "code",
   "execution_count": 4,
   "metadata": {
    "ExecuteTime": {
     "end_time": "2020-07-07T13:50:53.790382Z",
     "start_time": "2020-07-07T13:50:53.786116Z"
    }
   },
   "outputs": [],
   "source": [
    "from tqdm import tqdm\n",
    "from sklearn import metrics"
   ]
  },
  {
   "cell_type": "code",
   "execution_count": 5,
   "metadata": {
    "ExecuteTime": {
     "end_time": "2020-07-07T13:50:53.808035Z",
     "start_time": "2020-07-07T13:50:53.794048Z"
    }
   },
   "outputs": [
    {
     "name": "stdout",
     "output_type": "stream",
     "text": [
      "CUDA Available:  True\n"
     ]
    }
   ],
   "source": [
    "# Define what device we are using\n",
    "print(\"CUDA Available: \",torch.cuda.is_available())\n",
    "use_cuda=True\n",
    "device = torch.device(\"cuda\" if (use_cuda and torch.cuda.is_available()) else \"cpu\")"
   ]
  },
  {
   "cell_type": "code",
   "execution_count": 6,
   "metadata": {
    "ExecuteTime": {
     "end_time": "2020-07-07T13:50:53.815821Z",
     "start_time": "2020-07-07T13:50:53.808945Z"
    }
   },
   "outputs": [],
   "source": [
    "import os\n",
    "import sys\n",
    "module_path = os.path.abspath(os.path.join('../../../src/'))\n",
    "if module_path not in sys.path:\n",
    "    sys.path.append(module_path)"
   ]
  },
  {
   "cell_type": "markdown",
   "metadata": {},
   "source": [
    "# Load data"
   ]
  },
  {
   "cell_type": "code",
   "execution_count": 7,
   "metadata": {
    "ExecuteTime": {
     "end_time": "2020-07-07T13:50:56.189677Z",
     "start_time": "2020-07-07T13:50:56.177738Z"
    }
   },
   "outputs": [],
   "source": [
    "from datasets.datasethandler import DatasetHandler \n",
    "datasetHandler = DatasetHandler()"
   ]
  },
  {
   "cell_type": "markdown",
   "metadata": {},
   "source": [
    "# Validating"
   ]
  },
  {
   "cell_type": "code",
   "execution_count": 8,
   "metadata": {
    "ExecuteTime": {
     "end_time": "2020-07-07T13:50:58.130627Z",
     "start_time": "2020-07-07T13:50:58.121654Z"
    }
   },
   "outputs": [],
   "source": [
    "def reportScore(y_true, y_pred):\n",
    "    print(\"\\tAccuracy:\\t\" + str(metrics.accuracy_score(y_true,y_pred)))\n",
    "    print(\"\\tPrecision:\\t\" + str(metrics.precision_score(y_true,y_pred)))\n",
    "    print(\"\\tRecall:   \\t\" + str(metrics.recall_score(y_true,y_pred)))\n",
    "    print(\"\\tF1-score:\\t\" + str(metrics.f1_score(y_true,y_pred)))\n",
    "    #tn, fp, fn, tp = metrics.confusion_matrix(y_true,y_pred).ravel()"
   ]
  },
  {
   "cell_type": "code",
   "execution_count": 14,
   "metadata": {
    "ExecuteTime": {
     "end_time": "2020-07-07T13:53:26.888759Z",
     "start_time": "2020-07-07T13:53:26.876363Z"
    }
   },
   "outputs": [],
   "source": [
    "def validate(model):\n",
    "    valid_loader = model.get_dataloader(\"validation\", shuffle=False) \n",
    "    model.eval()\n",
    "\n",
    "    y_true = []\n",
    "    y_pred = []\n",
    "    with torch.no_grad():\n",
    "        for data in tqdm(valid_loader):\n",
    "            data['audio'], data['label'] = data['audio'].to(device), data['label'].to(device)\n",
    "            outputs = model(data)\n",
    "\n",
    "            y_pred.append(torch.max(outputs.data, 1)[1].item())\n",
    "            y_true.append(data['label'].item())\n",
    "            \n",
    "    reportScore(y_true, y_pred)"
   ]
  },
  {
   "cell_type": "markdown",
   "metadata": {},
   "source": [
    "# Training"
   ]
  },
  {
   "cell_type": "code",
   "execution_count": 18,
   "metadata": {
    "ExecuteTime": {
     "end_time": "2020-07-07T13:50:00.695409Z",
     "start_time": "2020-07-07T13:50:00.675777Z"
    }
   },
   "outputs": [],
   "source": [
    "def test():\n",
    "    hparams = {\n",
    "        \"batch_size\": 24,\n",
    "        \"learning_rate\": 0.002,\n",
    "        \"weight_decay\": 0.01,\n",
    "        \"lr_decay\": 0.95\n",
    "    }\n",
    "\n",
    "    model = CRNNPLModule(hparams).to(device)\n",
    "    model.float()\n",
    "\n",
    "    datasetHandler.load(model, \"training\")\n",
    "    datasetHandler.load(model, \"validation\")\n",
    "\n",
    "    x = next(iter(model.get_dataloader(\"training\", batch_size=32)))\n",
    "    x['audio'] = x['audio'].to(device)\n",
    "    \n",
    "    return model(x)"
   ]
  },
  {
   "cell_type": "code",
   "execution_count": 20,
   "metadata": {
    "ExecuteTime": {
     "end_time": "2020-07-07T13:50:08.862567Z",
     "start_time": "2020-07-07T13:50:08.569988Z"
    }
   },
   "outputs": [],
   "source": [
    "from classification.models.CRNN import CRNNPLModule\n",
    "_ = test()"
   ]
  },
  {
   "cell_type": "code",
   "execution_count": 15,
   "metadata": {
    "ExecuteTime": {
     "end_time": "2020-07-07T13:58:53.349249Z",
     "start_time": "2020-07-07T13:53:29.943434Z"
    },
    "scrolled": true
   },
   "outputs": [
    {
     "name": "stderr",
     "output_type": "stream",
     "text": [
      "  2%|▏         | 26/1687 [00:00<00:06, 257.02it/s]"
     ]
    },
    {
     "name": "stdout",
     "output_type": "stream",
     "text": [
      "[1] loss: 0.440\n"
     ]
    },
    {
     "name": "stderr",
     "output_type": "stream",
     "text": [
      "100%|██████████| 1687/1687 [00:06<00:00, 253.62it/s]\n"
     ]
    },
    {
     "name": "stdout",
     "output_type": "stream",
     "text": [
      "\tAccuracy:\t0.8346176644931832\n",
      "\tPrecision:\t0.8762035763411279\n",
      "\tRecall:   \t0.7711864406779662\n",
      "\tF1-score:\t0.8203477141017386\n"
     ]
    },
    {
     "name": "stderr",
     "output_type": "stream",
     "text": [
      "  1%|▏         | 24/1687 [00:00<00:07, 231.28it/s]"
     ]
    },
    {
     "name": "stdout",
     "output_type": "stream",
     "text": [
      "[2] loss: 0.411\n"
     ]
    },
    {
     "name": "stderr",
     "output_type": "stream",
     "text": [
      "100%|██████████| 1687/1687 [00:07<00:00, 228.83it/s]\n"
     ]
    },
    {
     "name": "stdout",
     "output_type": "stream",
     "text": [
      "\tAccuracy:\t0.8494368701837581\n",
      "\tPrecision:\t0.8823529411764706\n",
      "\tRecall:   \t0.7990314769975787\n",
      "\tF1-score:\t0.8386277001270648\n"
     ]
    },
    {
     "name": "stderr",
     "output_type": "stream",
     "text": [
      "  2%|▏         | 26/1687 [00:00<00:06, 258.99it/s]"
     ]
    },
    {
     "name": "stdout",
     "output_type": "stream",
     "text": [
      "[3] loss: 0.383\n"
     ]
    },
    {
     "name": "stderr",
     "output_type": "stream",
     "text": [
      "100%|██████████| 1687/1687 [00:06<00:00, 253.65it/s]\n"
     ]
    },
    {
     "name": "stdout",
     "output_type": "stream",
     "text": [
      "\tAccuracy:\t0.8559573206876111\n",
      "\tPrecision:\t0.892328398384926\n",
      "\tRecall:   \t0.8026634382566586\n",
      "\tF1-score:\t0.8451242829827916\n"
     ]
    },
    {
     "name": "stderr",
     "output_type": "stream",
     "text": [
      "  2%|▏         | 26/1687 [00:00<00:06, 259.18it/s]"
     ]
    },
    {
     "name": "stdout",
     "output_type": "stream",
     "text": [
      "[4] loss: 0.362\n"
     ]
    },
    {
     "name": "stderr",
     "output_type": "stream",
     "text": [
      "100%|██████████| 1687/1687 [00:06<00:00, 253.40it/s]\n"
     ]
    },
    {
     "name": "stdout",
     "output_type": "stream",
     "text": [
      "\tAccuracy:\t0.8755186721991701\n",
      "\tPrecision:\t0.8640661938534279\n",
      "\tRecall:   \t0.8849878934624698\n",
      "\tF1-score:\t0.8744019138755981\n"
     ]
    },
    {
     "name": "stderr",
     "output_type": "stream",
     "text": [
      "  1%|          | 16/1687 [00:00<00:10, 159.48it/s]"
     ]
    },
    {
     "name": "stdout",
     "output_type": "stream",
     "text": [
      "[5] loss: 0.349\n"
     ]
    },
    {
     "name": "stderr",
     "output_type": "stream",
     "text": [
      "100%|██████████| 1687/1687 [00:07<00:00, 227.49it/s]\n"
     ]
    },
    {
     "name": "stdout",
     "output_type": "stream",
     "text": [
      "\tAccuracy:\t0.8707765263781861\n",
      "\tPrecision:\t0.8526682134570766\n",
      "\tRecall:   \t0.8898305084745762\n",
      "\tF1-score:\t0.8708530805687204\n"
     ]
    },
    {
     "name": "stderr",
     "output_type": "stream",
     "text": [
      "  2%|▏         | 26/1687 [00:00<00:06, 258.08it/s]"
     ]
    },
    {
     "name": "stdout",
     "output_type": "stream",
     "text": [
      "[6] loss: 0.339\n"
     ]
    },
    {
     "name": "stderr",
     "output_type": "stream",
     "text": [
      "100%|██████████| 1687/1687 [00:06<00:00, 253.30it/s]\n"
     ]
    },
    {
     "name": "stdout",
     "output_type": "stream",
     "text": [
      "\tAccuracy:\t0.8790752815649081\n",
      "\tPrecision:\t0.8616279069767442\n",
      "\tRecall:   \t0.8970944309927361\n",
      "\tF1-score:\t0.8790035587188612\n"
     ]
    },
    {
     "name": "stderr",
     "output_type": "stream",
     "text": [
      "  1%|▏         | 23/1687 [00:00<00:07, 229.01it/s]"
     ]
    },
    {
     "name": "stdout",
     "output_type": "stream",
     "text": [
      "[7] loss: 0.325\n"
     ]
    },
    {
     "name": "stderr",
     "output_type": "stream",
     "text": [
      "100%|██████████| 1687/1687 [00:07<00:00, 228.09it/s]\n"
     ]
    },
    {
     "name": "stdout",
     "output_type": "stream",
     "text": [
      "\tAccuracy:\t0.8737403675163011\n",
      "\tPrecision:\t0.8409343715239155\n",
      "\tRecall:   \t0.9152542372881356\n",
      "\tF1-score:\t0.8765217391304349\n"
     ]
    },
    {
     "name": "stderr",
     "output_type": "stream",
     "text": [
      "  2%|▏         | 26/1687 [00:00<00:06, 256.62it/s]"
     ]
    },
    {
     "name": "stdout",
     "output_type": "stream",
     "text": [
      "[8] loss: 0.317\n"
     ]
    },
    {
     "name": "stderr",
     "output_type": "stream",
     "text": [
      "100%|██████████| 1687/1687 [00:06<00:00, 252.44it/s]\n"
     ]
    },
    {
     "name": "stdout",
     "output_type": "stream",
     "text": [
      "\tAccuracy:\t0.8778897451096621\n",
      "\tPrecision:\t0.8452115812917594\n",
      "\tRecall:   \t0.9188861985472155\n",
      "\tF1-score:\t0.8805104408352667\n"
     ]
    },
    {
     "name": "stderr",
     "output_type": "stream",
     "text": [
      "  1%|▏         | 24/1687 [00:00<00:07, 233.20it/s]"
     ]
    },
    {
     "name": "stdout",
     "output_type": "stream",
     "text": [
      "[9] loss: 0.308\n"
     ]
    },
    {
     "name": "stderr",
     "output_type": "stream",
     "text": [
      "100%|██████████| 1687/1687 [00:07<00:00, 233.32it/s]\n"
     ]
    },
    {
     "name": "stdout",
     "output_type": "stream",
     "text": [
      "\tAccuracy:\t0.8790752815649081\n",
      "\tPrecision:\t0.8502252252252253\n",
      "\tRecall:   \t0.914043583535109\n",
      "\tF1-score:\t0.8809801633605602\n"
     ]
    },
    {
     "name": "stderr",
     "output_type": "stream",
     "text": [
      "  2%|▏         | 26/1687 [00:00<00:06, 258.76it/s]"
     ]
    },
    {
     "name": "stdout",
     "output_type": "stream",
     "text": [
      "[10] loss: 0.309\n"
     ]
    },
    {
     "name": "stderr",
     "output_type": "stream",
     "text": [
      "100%|██████████| 1687/1687 [00:06<00:00, 248.19it/s]\n"
     ]
    },
    {
     "name": "stdout",
     "output_type": "stream",
     "text": [
      "\tAccuracy:\t0.8956727919383521\n",
      "\tPrecision:\t0.8878281622911695\n",
      "\tRecall:   \t0.9007263922518159\n",
      "\tF1-score:\t0.8942307692307693\n"
     ]
    },
    {
     "name": "stderr",
     "output_type": "stream",
     "text": [
      "  2%|▏         | 26/1687 [00:00<00:06, 255.89it/s]"
     ]
    },
    {
     "name": "stdout",
     "output_type": "stream",
     "text": [
      "[11] loss: 0.301\n"
     ]
    },
    {
     "name": "stderr",
     "output_type": "stream",
     "text": [
      "100%|██████████| 1687/1687 [00:06<00:00, 253.74it/s]\n"
     ]
    },
    {
     "name": "stdout",
     "output_type": "stream",
     "text": [
      "\tAccuracy:\t0.8855957320687611\n",
      "\tPrecision:\t0.8625429553264605\n",
      "\tRecall:   \t0.9116222760290557\n",
      "\tF1-score:\t0.8864037669217187\n"
     ]
    },
    {
     "name": "stderr",
     "output_type": "stream",
     "text": [
      "  1%|▏         | 24/1687 [00:00<00:07, 233.42it/s]"
     ]
    },
    {
     "name": "stdout",
     "output_type": "stream",
     "text": [
      "[12] loss: 0.287\n"
     ]
    },
    {
     "name": "stderr",
     "output_type": "stream",
     "text": [
      "100%|██████████| 1687/1687 [00:07<00:00, 228.18it/s]\n",
      "  2%|▏         | 26/1687 [00:00<00:06, 257.15it/s]"
     ]
    },
    {
     "name": "stdout",
     "output_type": "stream",
     "text": [
      "\tAccuracy:\t0.890337877889745\n",
      "\tPrecision:\t0.8662857142857143\n",
      "\tRecall:   \t0.9176755447941889\n",
      "\tF1-score:\t0.8912404467960023\n",
      "Finished Training\n",
      "Validate:\n"
     ]
    },
    {
     "name": "stderr",
     "output_type": "stream",
     "text": [
      "100%|██████████| 1687/1687 [00:06<00:00, 252.34it/s]"
     ]
    },
    {
     "name": "stdout",
     "output_type": "stream",
     "text": [
      "\tAccuracy:\t0.890337877889745\n",
      "\tPrecision:\t0.8662857142857143\n",
      "\tRecall:   \t0.9176755447941889\n",
      "\tF1-score:\t0.8912404467960023\n"
     ]
    },
    {
     "name": "stderr",
     "output_type": "stream",
     "text": [
      "\n"
     ]
    }
   ],
   "source": [
    "from classification.models.CRNN import CRNNPLModule\n",
    "\n",
    "torch.cuda.empty_cache()\n",
    "\n",
    "hparams = {\n",
    "    \"batch_size\": 24,\n",
    "    \"learning_rate\": 0.002,\n",
    "    \"weight_decay\": 0.01,\n",
    "    \"lr_decay\": 0.95\n",
    "}\n",
    "\n",
    "model = CRNNPLModule(hparams).to(device)\n",
    "model.float()\n",
    "\n",
    "datasetHandler.load(model, \"training\")\n",
    "datasetHandler.load(model, \"validation\")\n",
    "\n",
    "criterion = nn.CrossEntropyLoss()\n",
    "optimizer = optim.Adam(model.parameters(), lr=hparams['learning_rate'])\n",
    "\n",
    "for epoch in range(12):  # loop over the dataset multiple times\n",
    "\n",
    "    running_loss = 0.0\n",
    "    for i, data in enumerate(model.get_dataloader(\"training\", batch_size=hparams['batch_size'])):\n",
    "        data['audio'], data['label'] = data['audio'].to(device), data['label'].to(device)\n",
    "        \n",
    "        model.train()\n",
    "        # zero the parameter gradients\n",
    "        optimizer.zero_grad()\n",
    "\n",
    "        # forward + backward + optimize\n",
    "        outputs = model(data)\n",
    "\n",
    "        loss = criterion(outputs, data['label'])\n",
    "        loss.backward()\n",
    "        optimizer.step()\n",
    "        \n",
    "        # track statistics\n",
    "        running_loss += loss.item()\n",
    "    #print(outputs[:10])\n",
    "    \n",
    "    print('[%d] loss: %.3f' % (epoch + 1, running_loss / (i+1)))\n",
    "    validate(model)\n",
    "    \n",
    "print('Finished Training')\n",
    "\n",
    "print(\"Validate:\")\n",
    "validate(model)"
   ]
  },
  {
   "cell_type": "code",
   "execution_count": null,
   "metadata": {
    "ExecuteTime": {
     "end_time": "2020-07-06T11:02:33.478213Z",
     "start_time": "2020-07-06T11:02:27.034830Z"
    }
   },
   "outputs": [],
   "source": [
    "validate(model)"
   ]
  },
  {
   "cell_type": "code",
   "execution_count": null,
   "metadata": {
    "ExecuteTime": {
     "end_time": "2020-07-06T09:34:27.443961Z",
     "start_time": "2020-07-06T09:29:52.573Z"
    }
   },
   "outputs": [],
   "source": [
    "#model_state_dict_path = \"/nfs/students/summer-term-2020/project-4/data/models/SpectrogramBasedCNN.pt\"\n",
    "#torch.save(model.state_dict(), model_state_dict_path)"
   ]
  },
  {
   "cell_type": "markdown",
   "metadata": {},
   "source": [
    "# Backprop"
   ]
  },
  {
   "cell_type": "code",
   "execution_count": null,
   "metadata": {
    "ExecuteTime": {
     "end_time": "2020-07-06T11:03:31.035948Z",
     "start_time": "2020-07-06T11:03:30.932375Z"
    }
   },
   "outputs": [],
   "source": [
    "x = next(iter(model.get_dataloader(\"training\", batch_size=32)))\n",
    "x, labels = x['audio'].to(device), x['label'].to(device)"
   ]
  },
  {
   "cell_type": "code",
   "execution_count": null,
   "metadata": {
    "ExecuteTime": {
     "end_time": "2020-07-06T11:03:32.182127Z",
     "start_time": "2020-07-06T11:03:31.803738Z"
    }
   },
   "outputs": [],
   "source": [
    "model.train()\n",
    "model.zero_grad()\n",
    "x.requires_grad_()\n",
    "\n",
    "outputs = model(x)\n",
    "\n",
    "loss = nn.CrossEntropyLoss()(outputs, labels)\n",
    "loss.backward()\n",
    "print(x.grad)"
   ]
  },
  {
   "cell_type": "code",
   "execution_count": null,
   "metadata": {
    "ExecuteTime": {
     "end_time": "2020-07-06T10:37:04.636091Z",
     "start_time": "2020-07-06T10:37:04.169670Z"
    }
   },
   "outputs": [],
   "source": [
    "x + 0.001 * x.grad"
   ]
  },
  {
   "cell_type": "code",
   "execution_count": null,
   "metadata": {
    "ExecuteTime": {
     "end_time": "2020-07-06T10:38:34.213255Z",
     "start_time": "2020-07-06T10:38:33.476764Z"
    }
   },
   "outputs": [],
   "source": [
    "grad = x.grad\n",
    "grad[grad!=grad] = 0"
   ]
  },
  {
   "cell_type": "code",
   "execution_count": 1,
   "metadata": {
    "ExecuteTime": {
     "end_time": "2020-07-06T14:00:34.239095Z",
     "start_time": "2020-07-06T14:00:27.766188Z"
    }
   },
   "outputs": [],
   "source": [
    "import torch"
   ]
  },
  {
   "cell_type": "markdown",
   "metadata": {},
   "source": [
    "# Debugging dataset handler"
   ]
  },
  {
   "cell_type": "code",
   "execution_count": 3,
   "metadata": {
    "ExecuteTime": {
     "end_time": "2020-07-06T14:00:47.081631Z",
     "start_time": "2020-07-06T14:00:47.048902Z"
    }
   },
   "outputs": [],
   "source": [
    "x = torch.load(\"/nfs/students/summer-term-2020/project-4/data/models/crnn.pth\")"
   ]
  },
  {
   "cell_type": "code",
   "execution_count": null,
   "metadata": {
    "ExecuteTime": {
     "end_time": "2020-07-06T09:34:27.447004Z",
     "start_time": "2020-07-06T09:29:52.580Z"
    }
   },
   "outputs": [],
   "source": [
    "datasetHandler = DatasetHandler()"
   ]
  },
  {
   "cell_type": "code",
   "execution_count": null,
   "metadata": {
    "ExecuteTime": {
     "end_time": "2020-07-06T09:34:27.450251Z",
     "start_time": "2020-07-06T09:29:52.585Z"
    }
   },
   "outputs": [],
   "source": [
    "from classification.models.M5 import M5PLModule\n",
    "\n",
    "hparams = {\n",
    "    \"batch_size\": 2,\n",
    "    \"learning_rate\": 0.001,\n",
    "    \"weight_decay\": 0,\n",
    "    \"lr_decay\": 1\n",
    "}\n",
    "\n",
    "model = M5PLModule(hparams)\n",
    "\n",
    "datasetHandler.load_datasets(model)"
   ]
  },
  {
   "cell_type": "code",
   "execution_count": null,
   "metadata": {
    "ExecuteTime": {
     "end_time": "2020-07-06T09:34:27.453583Z",
     "start_time": "2020-07-06T09:29:52.590Z"
    }
   },
   "outputs": [],
   "source": [
    "for x in model.get_dataloader(\"training\", batch_size=32):\n",
    "    pass"
   ]
  },
  {
   "cell_type": "code",
   "execution_count": null,
   "metadata": {
    "ExecuteTime": {
     "end_time": "2020-07-06T09:34:27.456766Z",
     "start_time": "2020-07-06T09:29:52.595Z"
    }
   },
   "outputs": [],
   "source": [
    "for x in model.get_dataloader(\"validation\", batch_size=32):\n",
    "    pass"
   ]
  },
  {
   "cell_type": "code",
   "execution_count": null,
   "metadata": {
    "ExecuteTime": {
     "end_time": "2020-07-06T09:34:27.459806Z",
     "start_time": "2020-07-06T09:29:52.600Z"
    }
   },
   "outputs": [],
   "source": [
    "for x in model.get_dataloader(\"testing\", batch_size=32):\n",
    "    pass"
   ]
  }
 ],
 "metadata": {
  "kernelspec": {
   "display_name": "Python 3",
   "language": "python",
   "name": "python3"
  },
  "language_info": {
   "codemirror_mode": {
    "name": "ipython",
    "version": 3
   },
   "file_extension": ".py",
   "mimetype": "text/x-python",
   "name": "python",
   "nbconvert_exporter": "python",
   "pygments_lexer": "ipython3",
   "version": "3.8.2"
  },
  "notify_time": "5"
 },
 "nbformat": 4,
 "nbformat_minor": 4
}
