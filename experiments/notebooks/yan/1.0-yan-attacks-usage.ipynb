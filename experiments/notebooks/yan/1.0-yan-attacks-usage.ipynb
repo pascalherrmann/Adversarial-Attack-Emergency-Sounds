{
 "cells": [
  {
   "cell_type": "code",
   "execution_count": 7,
   "metadata": {
    "ExecuteTime": {
     "end_time": "2020-06-24T08:19:04.550695Z",
     "start_time": "2020-06-24T08:19:04.478521Z"
    }
   },
   "outputs": [
    {
     "name": "stdout",
     "output_type": "stream",
     "text": [
      "The autoreload extension is already loaded. To reload it, use:\n",
      "  %reload_ext autoreload\n"
     ]
    }
   ],
   "source": [
    "%load_ext autoreload\n",
    "%autoreload 2\n",
    "import torch\n",
    "\n",
    "import os\n",
    "import sys\n",
    "module_path = os.path.abspath(os.path.join('../../../src/'))\n",
    "if module_path not in sys.path:\n",
    "    sys.path.append(module_path)\n",
    "    \n",
    "device = 'cuda' if torch.cuda.is_available() else 'cpu'"
   ]
  },
  {
   "cell_type": "markdown",
   "metadata": {},
   "source": [
    "# Load models"
   ]
  },
  {
   "cell_type": "code",
   "execution_count": 8,
   "metadata": {
    "ExecuteTime": {
     "end_time": "2020-06-24T08:19:06.367088Z",
     "start_time": "2020-06-24T08:19:06.343900Z"
    }
   },
   "outputs": [],
   "source": [
    "# from classification.models.crnn.model import AudioCRNNPLModule\n",
    "from classification.models.SpectrogramCNN import SpectrogramCNNPLModule\n",
    "from classification.models.DeepRecursiveCNN import DeepRecursiveCNNPLModule\n",
    "from classification.models.M5 import M5PLModule\n",
    "\n",
    "models = {}"
   ]
  },
  {
   "cell_type": "code",
   "execution_count": 9,
   "metadata": {
    "ExecuteTime": {
     "end_time": "2020-06-24T08:19:10.616476Z",
     "start_time": "2020-06-24T08:19:08.510678Z"
    }
   },
   "outputs": [],
   "source": [
    "state_dict_path = '/nfs/students/summer-term-2020/project-4/data/models/SpectrogramBasedCNN.pt'\n",
    "\n",
    "hparams = {\n",
    "    \"batch_size\": 5,\n",
    "    \"learning_rate\": 3e-4,\n",
    "    \"weight_decay\": 0.001,\n",
    "    \"lr_decay\": 0.95\n",
    "}\n",
    "\n",
    "model = SpectrogramCNNPLModule(hparams)\n",
    "model.model.load_state_dict(torch.load(state_dict_path))\n",
    "model = model.cuda()\n",
    "model = model.eval()\n",
    "\n",
    "models[model.__class__.__name__] = model"
   ]
  },
  {
   "cell_type": "code",
   "execution_count": 14,
   "metadata": {
    "ExecuteTime": {
     "end_time": "2020-06-24T08:20:08.099940Z",
     "start_time": "2020-06-24T08:20:08.002097Z"
    }
   },
   "outputs": [],
   "source": [
    "model_state_dict_path = \"/nfs/students/summer-term-2020/project-4/yan/models/best_model_state_dict.pt\"\n",
    "\n",
    "hparams = {\n",
    "    \"batch_size\": 2,\n",
    "    \"learning_rate\": 0.001,\n",
    "    \"weight_decay\": 0,\n",
    "    \"lr_decay\": 1\n",
    "}\n",
    "\n",
    "model = DeepRecursiveCNNPLModule(hparams)\n",
    "model.model.load_state_dict(torch.load(model_state_dict_path))\n",
    "model = model.eval()\n",
    "\n",
    "models[model.__class__.__name__] = model"
   ]
  },
  {
   "cell_type": "code",
   "execution_count": 15,
   "metadata": {
    "ExecuteTime": {
     "end_time": "2020-06-24T08:21:08.650521Z",
     "start_time": "2020-06-24T08:21:08.433961Z"
    }
   },
   "outputs": [
    {
     "name": "stdout",
     "output_type": "stream",
     "text": [
      "Saved model to \"/nfs/students/summer-term-2020/project-4/SAVED_MODELS/DeepRecursiveCNN/vanilla.p\"\n"
     ]
    }
   ],
   "source": [
    "model.save(\"/nfs/students/summer-term-2020/project-4/SAVED_MODELS/DeepRecursiveCNN/vanilla.p\")"
   ]
  },
  {
   "cell_type": "code",
   "execution_count": 6,
   "metadata": {
    "ExecuteTime": {
     "end_time": "2020-06-13T22:00:03.278770Z",
     "start_time": "2020-06-13T22:00:02.409583Z"
    }
   },
   "outputs": [],
   "source": [
    "res_path = '/nfs/students/summer-term-2020/project-4/data/models/crnn.pth'\n",
    "checkpoint = torch.load(res_path)\n",
    "model = AudioCRNN(checkpoint['classes'], checkpoint['config'])\n",
    "model.load_state_dict(checkpoint['state_dict'])\n",
    "model = model.eval().cuda()\n",
    "\n",
    "models[model.__class__.__name__] = model"
   ]
  },
  {
   "cell_type": "code",
   "execution_count": 5,
   "metadata": {
    "ExecuteTime": {
     "end_time": "2020-06-13T22:27:41.046168Z",
     "start_time": "2020-06-13T22:27:39.455975Z"
    }
   },
   "outputs": [],
   "source": [
    "loaded_dict = torch.load(\"/nfs/homedirs/herrmanp/project-4/experiments/notebooks/pascal/adv_totaly_hig_50epochs.pt\")\n",
    "model = M5(loaded_dict[\"hparams\"])\n",
    "model.load_state_dict(loaded_dict[\"state_dict\"])\n",
    "model = model.eval().cuda()\n",
    "\n",
    "models[model.__class__.__name__] = model"
   ]
  },
  {
   "cell_type": "code",
   "execution_count": 45,
   "metadata": {
    "ExecuteTime": {
     "end_time": "2020-06-21T10:15:05.838719Z",
     "start_time": "2020-06-21T10:15:05.813127Z"
    }
   },
   "outputs": [],
   "source": [
    "fast_model = {'SpectrogramCNNPLModule': models['SpectrogramCNNPLModule']}"
   ]
  },
  {
   "cell_type": "markdown",
   "metadata": {},
   "source": [
    "# Load Data"
   ]
  },
  {
   "cell_type": "code",
   "execution_count": 61,
   "metadata": {
    "ExecuteTime": {
     "end_time": "2020-06-22T18:31:57.917643Z",
     "start_time": "2020-06-22T18:31:56.224955Z"
    }
   },
   "outputs": [],
   "source": [
    "from datasets.datasethandler import DatasetHandler\n",
    "datasetHandler = DatasetHandler()"
   ]
  },
  {
   "cell_type": "code",
   "execution_count": 62,
   "metadata": {
    "ExecuteTime": {
     "end_time": "2020-06-22T18:32:33.272126Z",
     "start_time": "2020-06-22T18:31:57.918939Z"
    }
   },
   "outputs": [
    {
     "name": "stdout",
     "output_type": "stream",
     "text": [
      "Load: /nfs/students/summer-term-2020/project-4/data/dataset1/dataset_resampled/validation.p\n"
     ]
    }
   ],
   "source": [
    "for model_name in models:\n",
    "    #datasetHandler.load(models[model_name], 'training')\n",
    "    datasetHandler.load(models[model_name], 'validation')"
   ]
  },
  {
   "cell_type": "markdown",
   "metadata": {},
   "source": [
    "# Attacks"
   ]
  },
  {
   "cell_type": "markdown",
   "metadata": {
    "heading_collapsed": true
   },
   "source": [
    "## Functional Attacks"
   ]
  },
  {
   "cell_type": "code",
   "execution_count": 125,
   "metadata": {
    "ExecuteTime": {
     "end_time": "2020-06-21T11:05:14.455900Z",
     "start_time": "2020-06-21T11:03:26.288245Z"
    },
    "hidden": true
   },
   "outputs": [
    {
     "name": "stderr",
     "output_type": "stream",
     "text": [
      "100%|██████████| 338/338 [01:46<00:00,  3.16it/s]"
     ]
    },
    {
     "name": "stdout",
     "output_type": "stream",
     "text": [
      "SpectrogramCNNPLModule\n",
      "Attack-Parameters:\t{'epsilonVolume': 0.1, 'epsilonPGD': 0.001, 'num_iter': 10}\n",
      "Early stopping: \tFalse (-1)\n",
      "\n",
      "Successfully attacked:\t503\n",
      "Total attacked: \t1483\n",
      "Total processed:\t1687\n",
      "\n",
      "Success-Rate: \t\t0.34\n",
      "Perturbed Accurracy: \t0.58\n",
      "\n"
     ]
    },
    {
     "name": "stderr",
     "output_type": "stream",
     "text": [
      "\n"
     ]
    }
   ],
   "source": [
    "from attacks.functionalVolume import FunctionalVolumeAttack\n",
    "\n",
    "attack_parameters = {'epsilonVolume': 0.1, 'epsilonPGD': 0.001, 'num_iter': 10}\n",
    "attacks = {}\n",
    "\n",
    "for model_name in models:\n",
    "    valid_loader = models[model_name].val_dataloader()\n",
    "    fva = FunctionalVolumeAttack(model, valid_loader, attack_parameters, save_samples=True)\n",
    "    fva.attack()\n",
    "    attacks[model_name] = fva\n",
    "    \n",
    "for model_name in attacks:\n",
    "    print(model_name)\n",
    "    attacks[model_name].report()\n",
    "    print()"
   ]
  },
  {
   "cell_type": "markdown",
   "metadata": {
    "heading_collapsed": true
   },
   "source": [
    "## FGSM"
   ]
  },
  {
   "cell_type": "code",
   "execution_count": 93,
   "metadata": {
    "ExecuteTime": {
     "end_time": "2020-06-21T10:39:30.785654Z",
     "start_time": "2020-06-21T10:39:13.881000Z"
    },
    "hidden": true,
    "scrolled": true
   },
   "outputs": [
    {
     "name": "stderr",
     "output_type": "stream",
     "text": [
      "100%|██████████| 338/338 [00:14<00:00, 22.72it/s]"
     ]
    },
    {
     "name": "stdout",
     "output_type": "stream",
     "text": [
      "SpectrogramCNNPLModule\n",
      "Attack-Parameters:\t{'epsilon': 0.01, 'num_iter': 1}\n",
      "Early stopping: \tFalse (-1)\n",
      "\n",
      "Successfully attacked:\t164\n",
      "Total attacked: \t1483\n",
      "Total processed:\t1687\n",
      "\n",
      "Success-Rate: \t\t0.11\n",
      "Perturbed Accurracy: \t0.78\n",
      "{'success_rate': 0.11058664868509778, 'acc': 0.7818612922347362}\n",
      "\n"
     ]
    },
    {
     "name": "stderr",
     "output_type": "stream",
     "text": [
      "\n"
     ]
    }
   ],
   "source": [
    "from attacks.pgd import ProjectedGradientDescent\n",
    "\n",
    "attack_parameters = {'epsilon': 0.01, 'num_iter': 1}\n",
    "attacks = {}\n",
    "\n",
    "for model_name in models:\n",
    "    valid_loader = models[model_name].val_dataloader()\n",
    "    fgsm = ProjectedGradientDescent(model, valid_loader, attack_parameters, save_samples=True)\n",
    "    fgsm.attack()\n",
    "    attacks[model_name] = fgsm\n",
    "    \n",
    "for model_name in attacks:\n",
    "    print(model_name)\n",
    "    print(attacks[model_name].report())\n",
    "    print()"
   ]
  },
  {
   "cell_type": "markdown",
   "metadata": {
    "heading_collapsed": true
   },
   "source": [
    "## PGD "
   ]
  },
  {
   "cell_type": "code",
   "execution_count": 73,
   "metadata": {
    "ExecuteTime": {
     "end_time": "2020-06-22T18:56:37.158490Z",
     "start_time": "2020-06-22T18:51:49.902196Z"
    },
    "hidden": true
   },
   "outputs": [
    {
     "name": "stderr",
     "output_type": "stream",
     "text": [
      "100%|██████████| 338/338 [04:25<00:00,  1.27it/s]\n"
     ]
    },
    {
     "name": "stdout",
     "output_type": "stream",
     "text": [
      "SpectrogramCNNPLModule\n",
      "Attack-Parameters:\t{'epsilon': 0.0005, 'num_iter': 10}\n",
      "Early stopping: \tFalse (-1)\n",
      "\n",
      "Successfully attacked:\t229\n",
      "Total attacked: \t1483\n",
      "Total processed:\t1687\n",
      "\n",
      "Success-Rate: \t\t0.15\n",
      "Perturbed Accurracy: \t0.74\n",
      "\n"
     ]
    }
   ],
   "source": [
    "from attacks.pgd import ProjectedGradientDescent\n",
    "\n",
    "attack_parameters = {'epsilon': 0.0005, 'num_iter': 10}\n",
    "attacks = {}\n",
    "\n",
    "for model_name in models:\n",
    "    valid_loader = models[model_name].val_dataloader()\n",
    "    fgsm = ProjectedGradientDescent(model, valid_loader, attack_parameters, save_samples=True)\n",
    "    fgsm.attack()\n",
    "    attacks[model_name] = fgsm\n",
    "    \n",
    "for model_name in attacks:\n",
    "    print(model_name)\n",
    "    attacks[model_name].report()\n",
    "    print()"
   ]
  },
  {
   "cell_type": "code",
   "execution_count": 74,
   "metadata": {
    "ExecuteTime": {
     "end_time": "2020-06-22T18:56:37.508279Z",
     "start_time": "2020-06-22T18:56:37.166521Z"
    },
    "hidden": true
   },
   "outputs": [],
   "source": [
    "# attacks['SpectrogramCNNPLModule'].showAdversarialExample(target_class=1)"
   ]
  },
  {
   "cell_type": "markdown",
   "metadata": {
    "heading_collapsed": true
   },
   "source": [
    "## Volume attacks"
   ]
  },
  {
   "cell_type": "code",
   "execution_count": 116,
   "metadata": {
    "ExecuteTime": {
     "end_time": "2020-06-21T10:53:42.014071Z",
     "start_time": "2020-06-21T10:51:54.856389Z"
    },
    "hidden": true,
    "scrolled": true
   },
   "outputs": [
    {
     "name": "stderr",
     "output_type": "stream",
     "text": [
      "100%|██████████| 338/338 [01:43<00:00,  3.25it/s]"
     ]
    },
    {
     "name": "stdout",
     "output_type": "stream",
     "text": [
      "SpectrogramCNNPLModule\n",
      "Attack-Parameters:\t{'epsilon': 0.1, 'num_iter': 10}\n",
      "Early stopping: \tFalse (-1)\n",
      "\n",
      "Successfully attacked:\t5\n",
      "Total attacked: \t1483\n",
      "Total processed:\t1687\n",
      "\n",
      "Success-Rate: \t\t0.0\n",
      "Perturbed Accurracy: \t0.88\n",
      "\n"
     ]
    },
    {
     "name": "stderr",
     "output_type": "stream",
     "text": [
      "\n"
     ]
    }
   ],
   "source": [
    "from attacks.volume import VolumeAttack\n",
    "\n",
    "attack_parameters = {'epsilon': 0.1, 'num_iter': 10}\n",
    "attacks = {}\n",
    "\n",
    "for model_name in models:\n",
    "    valid_loader = models[model_name].val_dataloader()\n",
    "    attack = VolumeAttack(model, valid_loader, attack_parameters, save_samples=False)\n",
    "    attack.attack()\n",
    "    attacks[model_name] = attack\n",
    "    \n",
    "for model_name in attacks:\n",
    "    print(model_name)\n",
    "    attacks[model_name].report()\n",
    "    print()"
   ]
  },
  {
   "cell_type": "markdown",
   "metadata": {
    "heading_collapsed": true
   },
   "source": [
    "## Interpolation attack"
   ]
  },
  {
   "cell_type": "code",
   "execution_count": 60,
   "metadata": {
    "ExecuteTime": {
     "end_time": "2020-06-13T17:25:43.400298Z",
     "start_time": "2020-06-13T17:25:21.211845Z"
    },
    "hidden": true,
    "scrolled": true
   },
   "outputs": [
    {
     "name": "stderr",
     "output_type": "stream",
     "text": [
      "100%|██████████| 85/85 [00:21<00:00,  3.90it/s]\n"
     ]
    }
   ],
   "source": [
    "from attacks.interpolation import InterpolationAttack\n",
    "\n",
    "attacks = {}\n",
    "\n",
    "for model_name in fast_model:\n",
    "    valid_loader = models[model_name].getDataLoader('validation', batch_size=20)\n",
    "    test_sound = 0.2*next(iter(valid_loader))['audio'][0]\n",
    "    attack_parameters = {'epsilon': 0.2, 'num_iter': 10, 'overlay_sound': test_sound}\n",
    "    attack = InterpolationAttack(model, valid_loader, attack_parameters, save_samples=False)\n",
    "    attack.attack()\n",
    "    attacks[model_name] = attack"
   ]
  },
  {
   "cell_type": "code",
   "execution_count": 59,
   "metadata": {
    "ExecuteTime": {
     "end_time": "2020-06-13T17:25:05.473913Z",
     "start_time": "2020-06-13T17:25:05.446834Z"
    },
    "hidden": true
   },
   "outputs": [
    {
     "name": "stdout",
     "output_type": "stream",
     "text": [
      "M5\n",
      "Attack-Parameters:\t{'epsilon': 0.2, 'num_iter': 10, 'overlay_sound': tensor([-0.0449, -0.0255, -0.0231,  ..., -0.0050,  0.0054, -0.0017])}\n",
      "Early stopping: \tFalse (-1)\n",
      "\n",
      "Successfully attacked:\t7\n",
      "Total attacked: \t1356\n",
      "Total processed:\t1687\n",
      "\n",
      "Success-Rate: \t\t0.01\n",
      "Perturbed Accurracy: \t0.8\n",
      "\n"
     ]
    }
   ],
   "source": [
    "for model_name in attacks:\n",
    "    print(model_name)\n",
    "    attacks[model_name].report()\n",
    "    print()"
   ]
  },
  {
   "cell_type": "markdown",
   "metadata": {
    "heading_collapsed": true
   },
   "source": [
    "## Time stretching attack "
   ]
  },
  {
   "cell_type": "code",
   "execution_count": 61,
   "metadata": {
    "ExecuteTime": {
     "end_time": "2020-06-13T22:50:25.506605Z",
     "start_time": "2020-06-13T22:49:43.147888Z"
    },
    "hidden": true
   },
   "outputs": [
    {
     "name": "stderr",
     "output_type": "stream",
     "text": [
      "100%|██████████| 57/57 [00:42<00:00,  1.35it/s]\n"
     ]
    }
   ],
   "source": [
    "from attacks.speed import TimeStretchAttack\n",
    "\n",
    "attack_parameters = {'num_iter': 30, 'lower': 0.5, 'upper': 1.5}\n",
    "attacks = {}\n",
    "\n",
    "for model_name in fast_model:\n",
    "    valid_loader = models[model_name].getDataLoader('validation', batch_size=30)\n",
    "    attack = TimeStretchAttack(model, valid_loader, attack_parameters, early_stopping=10)\n",
    "    attack.attack()\n",
    "    attacks[model_name] = attack"
   ]
  },
  {
   "cell_type": "code",
   "execution_count": 65,
   "metadata": {
    "ExecuteTime": {
     "end_time": "2020-06-13T22:51:16.063073Z",
     "start_time": "2020-06-13T22:51:16.026281Z"
    },
    "hidden": true
   },
   "outputs": [],
   "source": [
    "# attacks['M5'].showAdversarialExample(target_class=1)"
   ]
  },
  {
   "cell_type": "code",
   "execution_count": 66,
   "metadata": {
    "ExecuteTime": {
     "end_time": "2020-06-13T22:51:18.084961Z",
     "start_time": "2020-06-13T22:51:18.044370Z"
    },
    "hidden": true
   },
   "outputs": [
    {
     "name": "stdout",
     "output_type": "stream",
     "text": [
      "M5\n",
      "Attack-Parameters:\t{'num_iter': 30, 'lower': 0.5, 'upper': 1.5}\n",
      "Early stopping: \tFalse (-1)\n",
      "\n",
      "Successfully attacked:\t108\n",
      "Total attacked: \t1356\n",
      "Total processed:\t1687\n",
      "\n",
      "Success-Rate: \t\t0.08\n",
      "Perturbed Accurracy: \t0.74\n",
      "\n"
     ]
    }
   ],
   "source": [
    "#tsa.showAdversarialExample(target_class=0)\n",
    "for model_name in attacks:\n",
    "    print(model_name)\n",
    "    attacks[model_name].report()\n",
    "    print()"
   ]
  },
  {
   "cell_type": "markdown",
   "metadata": {
    "heading_collapsed": true
   },
   "source": [
    "## Pitch attack"
   ]
  },
  {
   "cell_type": "code",
   "execution_count": 55,
   "metadata": {
    "ExecuteTime": {
     "end_time": "2020-06-13T22:46:30.875821Z",
     "start_time": "2020-06-13T22:46:11.053348Z"
    },
    "hidden": true,
    "scrolled": true
   },
   "outputs": [
    {
     "name": "stderr",
     "output_type": "stream",
     "text": [
      "  5%|▌         | 3/57 [00:19<05:52,  6.53s/it]"
     ]
    },
    {
     "name": "stdout",
     "output_type": "stream",
     "text": [
      "Early stopping\n"
     ]
    },
    {
     "name": "stderr",
     "output_type": "stream",
     "text": [
      "\n"
     ]
    }
   ],
   "source": [
    "from attacks.pitch import PitchAttack\n",
    "\n",
    "attack_parameters = {'num_iter': 5, 'lower': -1, 'upper': 5}\n",
    "attacks = {}\n",
    "\n",
    "for model_name in fast_model:\n",
    "    valid_loader = models[model_name].getDataLoader('validation', batch_size=30)\n",
    "    attack = PitchAttack(model, valid_loader, attack_parameters, early_stopping=10)\n",
    "    attack.attack()\n",
    "    attacks[model_name] = attack"
   ]
  },
  {
   "cell_type": "code",
   "execution_count": 58,
   "metadata": {
    "ExecuteTime": {
     "end_time": "2020-06-13T22:47:19.777822Z",
     "start_time": "2020-06-13T22:47:19.476692Z"
    },
    "hidden": true
   },
   "outputs": [],
   "source": [
    "#attacks['M5'].showAdversarialExample(target_class=1)"
   ]
  },
  {
   "cell_type": "code",
   "execution_count": 57,
   "metadata": {
    "ExecuteTime": {
     "end_time": "2020-06-13T22:46:40.865487Z",
     "start_time": "2020-06-13T22:46:40.821334Z"
    },
    "hidden": true,
    "scrolled": true
   },
   "outputs": [
    {
     "name": "stdout",
     "output_type": "stream",
     "text": [
      "Attack-Parameters:\t{'num_iter': 5, 'lower': -1, 'upper': 5}\n",
      "Early stopping: \tTrue (10)\n",
      "\n",
      "Successfully attacked:\t14\n",
      "Total attacked: \t95\n",
      "Total processed:\t120\n",
      "\n",
      "Success-Rate: \t\t0.15\n",
      "Perturbed Accurracy: \t0.68\n"
     ]
    },
    {
     "data": {
      "text/plain": [
       "{'success_rate': 0.14736842105263157, 'acc': 0.675}"
      ]
     },
     "execution_count": 57,
     "metadata": {},
     "output_type": "execute_result"
    }
   ],
   "source": [
    "attacks['M5'].report()"
   ]
  }
 ],
 "metadata": {
  "kernelspec": {
   "display_name": "Python 3",
   "language": "python",
   "name": "python3"
  },
  "language_info": {
   "codemirror_mode": {
    "name": "ipython",
    "version": 3
   },
   "file_extension": ".py",
   "mimetype": "text/x-python",
   "name": "python",
   "nbconvert_exporter": "python",
   "pygments_lexer": "ipython3",
   "version": "3.8.2"
  },
  "notify_time": "5"
 },
 "nbformat": 4,
 "nbformat_minor": 4
}
