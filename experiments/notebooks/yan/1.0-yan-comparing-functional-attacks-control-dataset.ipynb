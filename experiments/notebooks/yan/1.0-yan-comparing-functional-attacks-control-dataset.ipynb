{
 "cells": [
  {
   "cell_type": "code",
   "execution_count": 1,
   "metadata": {
    "ExecuteTime": {
     "end_time": "2020-07-16T16:39:29.920390Z",
     "start_time": "2020-07-16T16:39:24.794974Z"
    }
   },
   "outputs": [],
   "source": [
    "%load_ext autoreload\n",
    "%autoreload 2\n",
    "import torch\n",
    "\n",
    "import os\n",
    "import sys\n",
    "module_path = os.path.abspath(os.path.join('../../../src/'))\n",
    "if module_path not in sys.path:\n",
    "    sys.path.append(module_path)\n",
    "    \n",
    "device = 'cuda' if torch.cuda.is_available() else 'cpu'"
   ]
  },
  {
   "cell_type": "markdown",
   "metadata": {},
   "source": [
    "# Load models"
   ]
  },
  {
   "cell_type": "code",
   "execution_count": 2,
   "metadata": {
    "ExecuteTime": {
     "end_time": "2020-07-16T16:39:39.182581Z",
     "start_time": "2020-07-16T16:39:29.928174Z"
    }
   },
   "outputs": [],
   "source": [
    "from classification.models.SpectrogramCNN_8K_Dataset2 import SpectrogramCNN_8K_Dataset2_PLModule\n",
    "\n",
    "state_dict_path = \"/nfs/students/summer-term-2020/project-4/SAVED_MODELS/SpectrogramCNN_8K_Dataset2/optuna_spec8kd2_0.90.p\"\n",
    "\n",
    "state_dict = torch.load(state_dict_path)\n",
    "\n",
    "model = SpectrogramCNN_8K_Dataset2_PLModule(state_dict['hparams'])\n",
    "model.model.load_state_dict(state_dict['state_dict'])\n",
    "model = model.cuda()\n",
    "model = model.eval()"
   ]
  },
  {
   "cell_type": "markdown",
   "metadata": {},
   "source": [
    "# Load Data"
   ]
  },
  {
   "cell_type": "code",
   "execution_count": 3,
   "metadata": {
    "ExecuteTime": {
     "end_time": "2020-07-16T16:39:39.210088Z",
     "start_time": "2020-07-16T16:39:39.186759Z"
    }
   },
   "outputs": [],
   "source": [
    "from datasets.datasethandler import DatasetHandler\n",
    "datasetHandler = DatasetHandler()"
   ]
  },
  {
   "cell_type": "code",
   "execution_count": 4,
   "metadata": {
    "ExecuteTime": {
     "end_time": "2020-07-16T16:39:47.141783Z",
     "start_time": "2020-07-16T16:39:39.214263Z"
    }
   },
   "outputs": [
    {
     "name": "stdout",
     "output_type": "stream",
     "text": [
      "Loading cached validation data of dataset 1 from /nfs/students/summer-term-2020/project-4/data/dataset2/dataset_8k/\n",
      "Loading cached training data of dataset 1 from /nfs/students/summer-term-2020/project-4/data/dataset2/dataset_8k/\n"
     ]
    }
   ],
   "source": [
    "import config\n",
    "datasetHandler.load(model, 'validation', dataset_id=config.DATASET_CONTROL)\n",
    "datasetHandler.load(model, 'training', dataset_id=config.DATASET_CONTROL)"
   ]
  },
  {
   "cell_type": "markdown",
   "metadata": {},
   "source": [
    "# Attacks"
   ]
  },
  {
   "cell_type": "code",
   "execution_count": 9,
   "metadata": {
    "ExecuteTime": {
     "end_time": "2020-07-16T16:05:00.485709Z",
     "start_time": "2020-07-16T16:05:00.448847Z"
    }
   },
   "outputs": [],
   "source": [
    "epsilons = [0.0001, 0.0002, 0.0003, 0.0004, 0.0005]"
   ]
  },
  {
   "cell_type": "markdown",
   "metadata": {},
   "source": [
    "## Simple PGD"
   ]
  },
  {
   "cell_type": "code",
   "execution_count": 10,
   "metadata": {
    "ExecuteTime": {
     "end_time": "2020-07-16T16:15:39.007087Z",
     "start_time": "2020-07-16T16:05:01.332607Z"
    },
    "scrolled": true
   },
   "outputs": [
    {
     "name": "stderr",
     "output_type": "stream",
     "text": [
      "100%|██████████| 57/57 [02:10<00:00,  2.29s/it]"
     ]
    },
    {
     "name": "stdout",
     "output_type": "stream",
     "text": [
      "0.521395655036208\n"
     ]
    },
    {
     "name": "stderr",
     "output_type": "stream",
     "text": [
      "\n",
      "100%|██████████| 57/57 [02:04<00:00,  2.19s/it]"
     ]
    },
    {
     "name": "stdout",
     "output_type": "stream",
     "text": [
      "0.7254772876892692\n"
     ]
    },
    {
     "name": "stderr",
     "output_type": "stream",
     "text": [
      "\n",
      "100%|██████████| 57/57 [02:05<00:00,  2.19s/it]"
     ]
    },
    {
     "name": "stdout",
     "output_type": "stream",
     "text": [
      "0.8242264647794602\n"
     ]
    },
    {
     "name": "stderr",
     "output_type": "stream",
     "text": [
      "\n",
      "100%|██████████| 57/57 [02:05<00:00,  2.20s/it]"
     ]
    },
    {
     "name": "stdout",
     "output_type": "stream",
     "text": [
      "0.8894009216589862\n"
     ]
    },
    {
     "name": "stderr",
     "output_type": "stream",
     "text": [
      "\n",
      "100%|██████████| 57/57 [02:05<00:00,  2.20s/it]"
     ]
    },
    {
     "name": "stdout",
     "output_type": "stream",
     "text": [
      "0.9223173140223832\n"
     ]
    },
    {
     "name": "stderr",
     "output_type": "stream",
     "text": [
      "\n"
     ]
    }
   ],
   "source": [
    "from attacks.pgd import ProjectedGradientDescent\n",
    "\n",
    "pgd_attacks = {}\n",
    "\n",
    "for eps in epsilons:\n",
    "    attack_parameters = {'epsilon': eps, 'num_iter': 50}\n",
    "    pgd = ProjectedGradientDescent(model, model.val_dataloader(), attack_parameters, save_samples=False)\n",
    "    pgd.attack()\n",
    "    print(pgd.getSuccessRate())\n",
    "    pgd_attacks[eps] = pgd"
   ]
  },
  {
   "cell_type": "code",
   "execution_count": 11,
   "metadata": {
    "ExecuteTime": {
     "end_time": "2020-07-16T16:15:39.222292Z",
     "start_time": "2020-07-16T16:15:39.011204Z"
    },
    "scrolled": true
   },
   "outputs": [
    {
     "name": "stdout",
     "output_type": "stream",
     "text": [
      "Attack-Parameters:\t{'epsilon': 0.0001, 'num_iter': 50}\n",
      "Early stopping: \tFalse (-1)\n",
      "\n",
      "Successfully attacked:\t792\n",
      "Total attacked: \t1519\n",
      "Total processed:\t1687\n",
      "\n",
      "Success-Rate: \t\t0.52\n",
      "Perturbed Accurracy: \t0.43\n",
      "\n",
      "Attack-Parameters:\t{'epsilon': 0.0002, 'num_iter': 50}\n",
      "Early stopping: \tFalse (-1)\n",
      "\n",
      "Successfully attacked:\t1102\n",
      "Total attacked: \t1519\n",
      "Total processed:\t1687\n",
      "\n",
      "Success-Rate: \t\t0.73\n",
      "Perturbed Accurracy: \t0.25\n",
      "\n",
      "Attack-Parameters:\t{'epsilon': 0.0003, 'num_iter': 50}\n",
      "Early stopping: \tFalse (-1)\n",
      "\n",
      "Successfully attacked:\t1252\n",
      "Total attacked: \t1519\n",
      "Total processed:\t1687\n",
      "\n",
      "Success-Rate: \t\t0.82\n",
      "Perturbed Accurracy: \t0.16\n",
      "\n",
      "Attack-Parameters:\t{'epsilon': 0.0004, 'num_iter': 50}\n",
      "Early stopping: \tFalse (-1)\n",
      "\n",
      "Successfully attacked:\t1351\n",
      "Total attacked: \t1519\n",
      "Total processed:\t1687\n",
      "\n",
      "Success-Rate: \t\t0.89\n",
      "Perturbed Accurracy: \t0.1\n",
      "\n",
      "Attack-Parameters:\t{'epsilon': 0.0005, 'num_iter': 50}\n",
      "Early stopping: \tFalse (-1)\n",
      "\n",
      "Successfully attacked:\t1401\n",
      "Total attacked: \t1519\n",
      "Total processed:\t1687\n",
      "\n",
      "Success-Rate: \t\t0.92\n",
      "Perturbed Accurracy: \t0.07\n",
      "\n"
     ]
    }
   ],
   "source": [
    "for eps in pgd_attacks:\n",
    "    pgd_attacks[eps].report()\n",
    "    print()"
   ]
  },
  {
   "cell_type": "markdown",
   "metadata": {},
   "source": [
    "## Functional Attack: PGD + Volume Attack"
   ]
  },
  {
   "cell_type": "code",
   "execution_count": 12,
   "metadata": {
    "ExecuteTime": {
     "end_time": "2020-07-16T16:26:26.266436Z",
     "start_time": "2020-07-16T16:15:39.226118Z"
    }
   },
   "outputs": [
    {
     "name": "stderr",
     "output_type": "stream",
     "text": [
      "100%|██████████| 57/57 [02:07<00:00,  2.24s/it]\n",
      "100%|██████████| 57/57 [02:08<00:00,  2.25s/it]\n",
      "100%|██████████| 57/57 [02:08<00:00,  2.25s/it]\n",
      "100%|██████████| 57/57 [02:08<00:00,  2.26s/it]\n",
      "100%|██████████| 57/57 [02:08<00:00,  2.25s/it]\n"
     ]
    }
   ],
   "source": [
    "from attacks.functionalVolume import FunctionalVolumeAttack\n",
    "\n",
    "functional_volume_attacks = {}\n",
    "\n",
    "for eps in epsilons:\n",
    "    attack_parameters = {'epsilonVolume': 0.1, 'epsilonPGD': eps, 'num_iter': 50}\n",
    "    fva = FunctionalVolumeAttack(model, model.val_dataloader(), attack_parameters, save_samples=True)\n",
    "    fva.attack()\n",
    "    functional_volume_attacks[eps] = fva"
   ]
  },
  {
   "cell_type": "code",
   "execution_count": 13,
   "metadata": {
    "ExecuteTime": {
     "end_time": "2020-07-16T16:26:26.484472Z",
     "start_time": "2020-07-16T16:26:26.273050Z"
    },
    "scrolled": true
   },
   "outputs": [
    {
     "name": "stdout",
     "output_type": "stream",
     "text": [
      "0.0001\n",
      "Attack-Parameters:\t{'epsilonVolume': 0.1, 'epsilonPGD': 0.0001, 'num_iter': 50}\n",
      "Early stopping: \tFalse (-1)\n",
      "\n",
      "Successfully attacked:\t1185\n",
      "Total attacked: \t1519\n",
      "Total processed:\t1687\n",
      "\n",
      "Success-Rate: \t\t0.78\n",
      "Perturbed Accurracy: \t0.2\n",
      "\n",
      "0.0002\n",
      "Attack-Parameters:\t{'epsilonVolume': 0.1, 'epsilonPGD': 0.0002, 'num_iter': 50}\n",
      "Early stopping: \tFalse (-1)\n",
      "\n",
      "Successfully attacked:\t1368\n",
      "Total attacked: \t1519\n",
      "Total processed:\t1687\n",
      "\n",
      "Success-Rate: \t\t0.9\n",
      "Perturbed Accurracy: \t0.09\n",
      "\n",
      "0.0003\n",
      "Attack-Parameters:\t{'epsilonVolume': 0.1, 'epsilonPGD': 0.0003, 'num_iter': 50}\n",
      "Early stopping: \tFalse (-1)\n",
      "\n",
      "Successfully attacked:\t1438\n",
      "Total attacked: \t1519\n",
      "Total processed:\t1687\n",
      "\n",
      "Success-Rate: \t\t0.95\n",
      "Perturbed Accurracy: \t0.05\n",
      "\n",
      "0.0004\n",
      "Attack-Parameters:\t{'epsilonVolume': 0.1, 'epsilonPGD': 0.0004, 'num_iter': 50}\n",
      "Early stopping: \tFalse (-1)\n",
      "\n",
      "Successfully attacked:\t1478\n",
      "Total attacked: \t1519\n",
      "Total processed:\t1687\n",
      "\n",
      "Success-Rate: \t\t0.97\n",
      "Perturbed Accurracy: \t0.02\n",
      "\n",
      "0.0005\n",
      "Attack-Parameters:\t{'epsilonVolume': 0.1, 'epsilonPGD': 0.0005, 'num_iter': 50}\n",
      "Early stopping: \tFalse (-1)\n",
      "\n",
      "Successfully attacked:\t1492\n",
      "Total attacked: \t1519\n",
      "Total processed:\t1687\n",
      "\n",
      "Success-Rate: \t\t0.98\n",
      "Perturbed Accurracy: \t0.02\n",
      "\n"
     ]
    }
   ],
   "source": [
    "for eps in functional_volume_attacks:\n",
    "    print(eps)\n",
    "    functional_volume_attacks[eps].report()\n",
    "    print()"
   ]
  },
  {
   "cell_type": "code",
   "execution_count": 14,
   "metadata": {
    "ExecuteTime": {
     "end_time": "2020-07-16T16:26:26.503401Z",
     "start_time": "2020-07-16T16:26:26.488202Z"
    }
   },
   "outputs": [],
   "source": [
    "# functional_attacks[0.0003].showAdversarialExample(target_class=1)"
   ]
  },
  {
   "cell_type": "markdown",
   "metadata": {},
   "source": [
    "## Functional Interpolation (imperceptible)"
   ]
  },
  {
   "cell_type": "code",
   "execution_count": 15,
   "metadata": {
    "ExecuteTime": {
     "end_time": "2020-07-16T16:26:26.584756Z",
     "start_time": "2020-07-16T16:26:26.507100Z"
    }
   },
   "outputs": [],
   "source": [
    "import random\n",
    "import IPython.display as ipd\n",
    "\n",
    "random_sample_index = random.sample(range(len(model.dataset['training'])), 1)[0]\n",
    "random_sample_index = 2464 # manually picked\n",
    "random_sample = model.dataset['training'].__getitem__(random_sample_index)"
   ]
  },
  {
   "cell_type": "code",
   "execution_count": 24,
   "metadata": {
    "ExecuteTime": {
     "end_time": "2020-07-16T16:28:41.681596Z",
     "start_time": "2020-07-16T16:28:41.598524Z"
    }
   },
   "outputs": [
    {
     "data": {
      "text/plain": [
       "{'audio': tensor([-0.0330, -0.1363, -0.1582,  ...,  0.0000,  0.0000,  0.0000]),\n",
       " 'sample_rate': 8000,\n",
       " 'label': 0}"
      ]
     },
     "execution_count": 24,
     "metadata": {},
     "output_type": "execute_result"
    }
   ],
   "source": [
    "model.dataset['training'][random_sample_index]"
   ]
  },
  {
   "cell_type": "code",
   "execution_count": 16,
   "metadata": {
    "ExecuteTime": {
     "end_time": "2020-07-16T16:26:38.643120Z",
     "start_time": "2020-07-16T16:26:26.588454Z"
    }
   },
   "outputs": [
    {
     "name": "stderr",
     "output_type": "stream",
     "text": [
      "  7%|▋         | 4/57 [00:10<02:22,  2.69s/it]\n"
     ]
    },
    {
     "ename": "KeyboardInterrupt",
     "evalue": "",
     "output_type": "error",
     "traceback": [
      "\u001b[0;31m---------------------------------------------------------------------------\u001b[0m",
      "\u001b[0;31mKeyboardInterrupt\u001b[0m                         Traceback (most recent call last)",
      "\u001b[0;32m<ipython-input-16-5cadb4520a66>\u001b[0m in \u001b[0;36m<module>\u001b[0;34m\u001b[0m\n\u001b[1;32m      8\u001b[0m                          }\n\u001b[1;32m      9\u001b[0m     \u001b[0mfva\u001b[0m \u001b[0;34m=\u001b[0m \u001b[0mFunctionalInterpolationAttack\u001b[0m\u001b[0;34m(\u001b[0m\u001b[0mmodel\u001b[0m\u001b[0;34m,\u001b[0m \u001b[0mmodel\u001b[0m\u001b[0;34m.\u001b[0m\u001b[0mval_dataloader\u001b[0m\u001b[0;34m(\u001b[0m\u001b[0;34m)\u001b[0m\u001b[0;34m,\u001b[0m \u001b[0mattack_parameters\u001b[0m\u001b[0;34m,\u001b[0m \u001b[0msave_samples\u001b[0m\u001b[0;34m=\u001b[0m\u001b[0;32mTrue\u001b[0m\u001b[0;34m)\u001b[0m\u001b[0;34m\u001b[0m\u001b[0;34m\u001b[0m\u001b[0m\n\u001b[0;32m---> 10\u001b[0;31m     \u001b[0mfva\u001b[0m\u001b[0;34m.\u001b[0m\u001b[0mattack\u001b[0m\u001b[0;34m(\u001b[0m\u001b[0;34m)\u001b[0m\u001b[0;34m\u001b[0m\u001b[0;34m\u001b[0m\u001b[0m\n\u001b[0m\u001b[1;32m     11\u001b[0m     \u001b[0mfunctional_interpolation_attacks_imperceptible\u001b[0m\u001b[0;34m[\u001b[0m\u001b[0meps\u001b[0m\u001b[0;34m]\u001b[0m \u001b[0;34m=\u001b[0m \u001b[0mfva\u001b[0m\u001b[0;34m\u001b[0m\u001b[0;34m\u001b[0m\u001b[0m\n",
      "\u001b[0;32m~/ml-lab-git/src/attacks/attack.py\u001b[0m in \u001b[0;36mattack\u001b[0;34m(self, cudnn_RNN_backward_bug)\u001b[0m\n\u001b[1;32m     49\u001b[0m \u001b[0;34m\u001b[0m\u001b[0m\n\u001b[1;32m     50\u001b[0m             \u001b[0;31m# perform actual attack\u001b[0m\u001b[0;34m\u001b[0m\u001b[0;34m\u001b[0m\u001b[0;34m\u001b[0m\u001b[0m\n\u001b[0;32m---> 51\u001b[0;31m             \u001b[0mx_perturbed\u001b[0m \u001b[0;34m=\u001b[0m \u001b[0mself\u001b[0m\u001b[0;34m.\u001b[0m\u001b[0mattackSample\u001b[0m\u001b[0;34m(\u001b[0m\u001b[0mx_to_perturb\u001b[0m\u001b[0;34m,\u001b[0m \u001b[0my_true\u001b[0m\u001b[0;34m,\u001b[0m \u001b[0;34m**\u001b[0m\u001b[0mself\u001b[0m\u001b[0;34m.\u001b[0m\u001b[0mattack_parameters\u001b[0m\u001b[0;34m)\u001b[0m\u001b[0;34m\u001b[0m\u001b[0;34m\u001b[0m\u001b[0m\n\u001b[0m\u001b[1;32m     52\u001b[0m \u001b[0;34m\u001b[0m\u001b[0m\n\u001b[1;32m     53\u001b[0m             \u001b[0;31m# evaluate attack\u001b[0m\u001b[0;34m\u001b[0m\u001b[0;34m\u001b[0m\u001b[0;34m\u001b[0m\u001b[0m\n",
      "\u001b[0;32m~/ml-lab-git/src/attacks/functionalInterpolation.py\u001b[0m in \u001b[0;36mattackSample\u001b[0;34m(self, x, y, overlay_sound, epsilonInterpolation, epsilonNoise, num_iter, lower1, upper1, lower2, upper2, norm)\u001b[0m\n\u001b[1;32m     36\u001b[0m             \u001b[0mloss\u001b[0m \u001b[0;34m=\u001b[0m \u001b[0mF\u001b[0m\u001b[0;34m.\u001b[0m\u001b[0mnll_loss\u001b[0m\u001b[0;34m(\u001b[0m\u001b[0mself\u001b[0m\u001b[0;34m.\u001b[0m\u001b[0mmodel\u001b[0m\u001b[0;34m(\u001b[0m\u001b[0mx\u001b[0m\u001b[0;34m)\u001b[0m\u001b[0;34m,\u001b[0m \u001b[0my\u001b[0m\u001b[0;34m)\u001b[0m\u001b[0;34m\u001b[0m\u001b[0;34m\u001b[0m\u001b[0m\n\u001b[1;32m     37\u001b[0m             \u001b[0mself\u001b[0m\u001b[0;34m.\u001b[0m\u001b[0mmodel\u001b[0m\u001b[0;34m.\u001b[0m\u001b[0mzero_grad\u001b[0m\u001b[0;34m(\u001b[0m\u001b[0;34m)\u001b[0m\u001b[0;34m\u001b[0m\u001b[0;34m\u001b[0m\u001b[0m\n\u001b[0;32m---> 38\u001b[0;31m             \u001b[0mloss\u001b[0m\u001b[0;34m.\u001b[0m\u001b[0mbackward\u001b[0m\u001b[0;34m(\u001b[0m\u001b[0;34m)\u001b[0m\u001b[0;34m\u001b[0m\u001b[0;34m\u001b[0m\u001b[0m\n\u001b[0m\u001b[1;32m     39\u001b[0m \u001b[0;34m\u001b[0m\u001b[0m\n\u001b[1;32m     40\u001b[0m             \u001b[0;31m# otherwise we would get powers of a (a^num_iter)\u001b[0m\u001b[0;34m\u001b[0m\u001b[0;34m\u001b[0m\u001b[0;34m\u001b[0m\u001b[0m\n",
      "\u001b[0;32m/nfs/students/summer-term-2020/project-4/yan/.conda/envs/cnn_project/lib/python3.8/site-packages/torch/tensor.py\u001b[0m in \u001b[0;36mbackward\u001b[0;34m(self, gradient, retain_graph, create_graph)\u001b[0m\n\u001b[1;32m    196\u001b[0m                 \u001b[0mproducts\u001b[0m\u001b[0;34m.\u001b[0m \u001b[0mDefaults\u001b[0m \u001b[0mto\u001b[0m\u001b[0;31m \u001b[0m\u001b[0;31m`\u001b[0m\u001b[0;31m`\u001b[0m\u001b[0;32mFalse\u001b[0m\u001b[0;31m`\u001b[0m\u001b[0;31m`\u001b[0m\u001b[0;34m.\u001b[0m\u001b[0;34m\u001b[0m\u001b[0;34m\u001b[0m\u001b[0m\n\u001b[1;32m    197\u001b[0m         \"\"\"\n\u001b[0;32m--> 198\u001b[0;31m         \u001b[0mtorch\u001b[0m\u001b[0;34m.\u001b[0m\u001b[0mautograd\u001b[0m\u001b[0;34m.\u001b[0m\u001b[0mbackward\u001b[0m\u001b[0;34m(\u001b[0m\u001b[0mself\u001b[0m\u001b[0;34m,\u001b[0m \u001b[0mgradient\u001b[0m\u001b[0;34m,\u001b[0m \u001b[0mretain_graph\u001b[0m\u001b[0;34m,\u001b[0m \u001b[0mcreate_graph\u001b[0m\u001b[0;34m)\u001b[0m\u001b[0;34m\u001b[0m\u001b[0;34m\u001b[0m\u001b[0m\n\u001b[0m\u001b[1;32m    199\u001b[0m \u001b[0;34m\u001b[0m\u001b[0m\n\u001b[1;32m    200\u001b[0m     \u001b[0;32mdef\u001b[0m \u001b[0mregister_hook\u001b[0m\u001b[0;34m(\u001b[0m\u001b[0mself\u001b[0m\u001b[0;34m,\u001b[0m \u001b[0mhook\u001b[0m\u001b[0;34m)\u001b[0m\u001b[0;34m:\u001b[0m\u001b[0;34m\u001b[0m\u001b[0;34m\u001b[0m\u001b[0m\n",
      "\u001b[0;32m/nfs/students/summer-term-2020/project-4/yan/.conda/envs/cnn_project/lib/python3.8/site-packages/torch/autograd/__init__.py\u001b[0m in \u001b[0;36mbackward\u001b[0;34m(tensors, grad_tensors, retain_graph, create_graph, grad_variables)\u001b[0m\n\u001b[1;32m     96\u001b[0m         \u001b[0mretain_graph\u001b[0m \u001b[0;34m=\u001b[0m \u001b[0mcreate_graph\u001b[0m\u001b[0;34m\u001b[0m\u001b[0;34m\u001b[0m\u001b[0m\n\u001b[1;32m     97\u001b[0m \u001b[0;34m\u001b[0m\u001b[0m\n\u001b[0;32m---> 98\u001b[0;31m     Variable._execution_engine.run_backward(\n\u001b[0m\u001b[1;32m     99\u001b[0m         \u001b[0mtensors\u001b[0m\u001b[0;34m,\u001b[0m \u001b[0mgrad_tensors\u001b[0m\u001b[0;34m,\u001b[0m \u001b[0mretain_graph\u001b[0m\u001b[0;34m,\u001b[0m \u001b[0mcreate_graph\u001b[0m\u001b[0;34m,\u001b[0m\u001b[0;34m\u001b[0m\u001b[0;34m\u001b[0m\u001b[0m\n\u001b[1;32m    100\u001b[0m         allow_unreachable=True)  # allow_unreachable flag\n",
      "\u001b[0;31mKeyboardInterrupt\u001b[0m: "
     ]
    }
   ],
   "source": [
    "from attacks.functionalInterpolation import FunctionalInterpolationAttack\n",
    "\n",
    "functional_interpolation_attacks_imperceptible = {}\n",
    "\n",
    "for eps in epsilons:\n",
    "    attack_parameters = {'overlay_sound': random_sample,\n",
    "                         'epsilonInterpolation': 0.1, 'epsilonNoise': eps, 'num_iter': 50, \n",
    "                         }\n",
    "    fva = FunctionalInterpolationAttack(model, model.val_dataloader(), attack_parameters, save_samples=True)\n",
    "    fva.attack()\n",
    "    functional_interpolation_attacks_imperceptible[eps] = fva"
   ]
  },
  {
   "cell_type": "code",
   "execution_count": 16,
   "metadata": {
    "ExecuteTime": {
     "end_time": "2020-07-11T18:16:21.976639Z",
     "start_time": "2020-07-11T18:16:21.545450Z"
    },
    "scrolled": true
   },
   "outputs": [
    {
     "name": "stdout",
     "output_type": "stream",
     "text": [
      "Attack-Parameters:\t{'overlay_sound': {'audio': tensor([-0.0194, -0.0101, -0.0441,  ...,  0.0000,  0.0000,  0.0000]), 'sample_rate': 48000, 'label': 0}, 'epsilonInterpolation': 0.1, 'epsilonNoise': 0.0001, 'num_iter': 50}\n",
      "Early stopping: \tFalse (-1)\n",
      "\n",
      "Successfully attacked:\t506\n",
      "Total attacked: \t1483\n",
      "Total processed:\t1687\n",
      "\n",
      "Success-Rate: \t\t0.34\n",
      "Perturbed Accurracy: \t0.58\n",
      "\n",
      "Attack-Parameters:\t{'overlay_sound': {'audio': tensor([-0.0194, -0.0101, -0.0441,  ...,  0.0000,  0.0000,  0.0000]), 'sample_rate': 48000, 'label': 0}, 'epsilonInterpolation': 0.1, 'epsilonNoise': 0.0002, 'num_iter': 50}\n",
      "Early stopping: \tFalse (-1)\n",
      "\n",
      "Successfully attacked:\t908\n",
      "Total attacked: \t1483\n",
      "Total processed:\t1687\n",
      "\n",
      "Success-Rate: \t\t0.61\n",
      "Perturbed Accurracy: \t0.34\n",
      "\n",
      "Attack-Parameters:\t{'overlay_sound': {'audio': tensor([-0.0194, -0.0101, -0.0441,  ...,  0.0000,  0.0000,  0.0000]), 'sample_rate': 48000, 'label': 0}, 'epsilonInterpolation': 0.1, 'epsilonNoise': 0.0003, 'num_iter': 50}\n",
      "Early stopping: \tFalse (-1)\n",
      "\n",
      "Successfully attacked:\t978\n",
      "Total attacked: \t1483\n",
      "Total processed:\t1687\n",
      "\n",
      "Success-Rate: \t\t0.66\n",
      "Perturbed Accurracy: \t0.3\n",
      "\n",
      "Attack-Parameters:\t{'overlay_sound': {'audio': tensor([-0.0194, -0.0101, -0.0441,  ...,  0.0000,  0.0000,  0.0000]), 'sample_rate': 48000, 'label': 0}, 'epsilonInterpolation': 0.1, 'epsilonNoise': 0.0004, 'num_iter': 50}\n",
      "Early stopping: \tFalse (-1)\n",
      "\n",
      "Successfully attacked:\t990\n",
      "Total attacked: \t1483\n",
      "Total processed:\t1687\n",
      "\n",
      "Success-Rate: \t\t0.67\n",
      "Perturbed Accurracy: \t0.29\n",
      "\n",
      "Attack-Parameters:\t{'overlay_sound': {'audio': tensor([-0.0194, -0.0101, -0.0441,  ...,  0.0000,  0.0000,  0.0000]), 'sample_rate': 48000, 'label': 0}, 'epsilonInterpolation': 0.1, 'epsilonNoise': 0.0005, 'num_iter': 50}\n",
      "Early stopping: \tFalse (-1)\n",
      "\n",
      "Successfully attacked:\t997\n",
      "Total attacked: \t1483\n",
      "Total processed:\t1687\n",
      "\n",
      "Success-Rate: \t\t0.67\n",
      "Perturbed Accurracy: \t0.29\n",
      "\n"
     ]
    }
   ],
   "source": [
    "for eps in functional_interpolation_attacks_imperceptible:\n",
    "    functional_interpolation_attacks_imperceptible[eps].report()\n",
    "    print()"
   ]
  },
  {
   "cell_type": "code",
   "execution_count": 113,
   "metadata": {
    "ExecuteTime": {
     "end_time": "2020-06-23T14:51:10.285625Z",
     "start_time": "2020-06-23T14:51:10.247924Z"
    }
   },
   "outputs": [],
   "source": [
    "#ipd.display(ipd.Audio(random_sample['audio'], rate=random_sample['sample_rate']))\n",
    "#functional_interpolation_attacks_imperceptible[0.0001].showAdversarialExample(target_class=1)"
   ]
  },
  {
   "cell_type": "code",
   "execution_count": 112,
   "metadata": {
    "ExecuteTime": {
     "end_time": "2020-06-23T14:51:04.431765Z",
     "start_time": "2020-06-23T14:51:04.392970Z"
    }
   },
   "outputs": [],
   "source": [
    "#ipd.display(ipd.Audio(random_sample['audio'], rate=random_sample['sample_rate']))\n",
    "#functional_interpolation_attacks_imperceptible[0.0005].showAdversarialExample(target_class=1)"
   ]
  },
  {
   "cell_type": "markdown",
   "metadata": {
    "heading_collapsed": true
   },
   "source": [
    "## Functional Interpolation (hearable)"
   ]
  },
  {
   "cell_type": "code",
   "execution_count": 17,
   "metadata": {
    "ExecuteTime": {
     "end_time": "2020-07-11T18:16:22.011819Z",
     "start_time": "2020-07-11T18:16:21.980585Z"
    },
    "hidden": true
   },
   "outputs": [],
   "source": [
    "import random\n",
    "import IPython.display as ipd\n",
    "\n",
    "random_sample_index = random.sample(range(len(model.dataset['training'])), 1)[0]\n",
    "random_sample_index = 2464 # manually picked\n",
    "random_sample = model.dataset['training'].__getitem__(random_sample_index)"
   ]
  },
  {
   "cell_type": "code",
   "execution_count": 18,
   "metadata": {
    "ExecuteTime": {
     "end_time": "2020-07-11T19:00:44.071362Z",
     "start_time": "2020-07-11T18:16:22.015706Z"
    },
    "hidden": true
   },
   "outputs": [
    {
     "name": "stderr",
     "output_type": "stream",
     "text": [
      "100%|██████████| 338/338 [08:34<00:00,  1.52s/it]\n",
      "100%|██████████| 338/338 [08:41<00:00,  1.54s/it]\n",
      "100%|██████████| 338/338 [08:43<00:00,  1.55s/it]\n",
      "100%|██████████| 338/338 [08:51<00:00,  1.57s/it]\n",
      "100%|██████████| 338/338 [08:47<00:00,  1.56s/it]\n"
     ]
    }
   ],
   "source": [
    "from attacks.functionalInterpolation import FunctionalInterpolationAttack\n",
    "\n",
    "functional_interpolation_attacks = {}\n",
    "\n",
    "for eps in epsilons:\n",
    "    attack_parameters = {'overlay_sound': random_sample,\n",
    "                         'epsilonInterpolation': 0.1, 'epsilonNoise': eps, 'num_iter': 50, \n",
    "                         'upper2': 1,\n",
    "                         }\n",
    "    fva = FunctionalInterpolationAttack(model, model.val_dataloader(), attack_parameters, save_samples=True)\n",
    "    fva.attack()\n",
    "    functional_interpolation_attacks[eps] = fva"
   ]
  },
  {
   "cell_type": "code",
   "execution_count": 111,
   "metadata": {
    "ExecuteTime": {
     "end_time": "2020-06-23T14:50:55.920558Z",
     "start_time": "2020-06-23T14:50:55.881400Z"
    },
    "hidden": true
   },
   "outputs": [],
   "source": [
    "#ipd.display(ipd.Audio(random_sample['audio'], rate=random_sample['sample_rate']))\n",
    "#functional_interpolation_attacks[0.0001].showAdversarialExample(target_class=1)"
   ]
  },
  {
   "cell_type": "code",
   "execution_count": 110,
   "metadata": {
    "ExecuteTime": {
     "end_time": "2020-06-23T14:50:52.341521Z",
     "start_time": "2020-06-23T14:50:52.055470Z"
    },
    "hidden": true
   },
   "outputs": [],
   "source": [
    "#ipd.display(ipd.Audio(random_sample['audio'], rate=random_sample['sample_rate']))\n",
    "#functional_interpolation_attacks[0.0005].showAdversarialExample(target_class=1)"
   ]
  },
  {
   "cell_type": "code",
   "execution_count": null,
   "metadata": {
    "ExecuteTime": {
     "end_time": "2020-07-11T19:00:44.540712Z",
     "start_time": "2020-07-11T17:30:48.711Z"
    },
    "hidden": true,
    "scrolled": true
   },
   "outputs": [],
   "source": [
    "for eps in functional_interpolation_attacks:\n",
    "    functional_interpolation_attacks[eps].report()\n",
    "    print()"
   ]
  },
  {
   "cell_type": "markdown",
   "metadata": {
    "ExecuteTime": {
     "end_time": "2020-06-23T15:30:55.672501Z",
     "start_time": "2020-06-23T15:28:27.067Z"
    }
   },
   "source": [
    "## Functional Time-stretching Attacks"
   ]
  },
  {
   "cell_type": "code",
   "execution_count": 20,
   "metadata": {
    "ExecuteTime": {
     "end_time": "2020-07-11T19:49:45.668314Z",
     "start_time": "2020-07-11T19:04:26.528741Z"
    },
    "scrolled": true
   },
   "outputs": [
    {
     "name": "stderr",
     "output_type": "stream",
     "text": [
      "100%|██████████| 338/338 [08:43<00:00,  1.55s/it]\n",
      "100%|██████████| 338/338 [08:55<00:00,  1.58s/it]\n",
      "100%|██████████| 338/338 [08:57<00:00,  1.59s/it]\n",
      "100%|██████████| 338/338 [08:52<00:00,  1.57s/it]\n",
      "100%|██████████| 338/338 [08:56<00:00,  1.59s/it]\n"
     ]
    }
   ],
   "source": [
    "from attacks.functionalSpeed import FunctionalTimeStretchAttack\n",
    "\n",
    "functional_time_stretching_attacks = {}\n",
    "\n",
    "for eps in epsilons:\n",
    "    attack_parameters = {'epsilon': eps, 'num_iter': 50, 'num_iter_stretch': 4}\n",
    "    fpg = FunctionalTimeStretchAttack(model, model.val_dataloader(), attack_parameters, save_samples=True)\n",
    "    fpg.attack()\n",
    "    functional_time_stretching_attacks[eps] = fpg"
   ]
  },
  {
   "cell_type": "code",
   "execution_count": 21,
   "metadata": {
    "ExecuteTime": {
     "end_time": "2020-07-11T19:50:18.639039Z",
     "start_time": "2020-07-11T19:50:18.212530Z"
    },
    "scrolled": true
   },
   "outputs": [
    {
     "name": "stdout",
     "output_type": "stream",
     "text": [
      "Attack-Parameters:\t{'epsilon': 0.0001, 'num_iter': 50, 'num_iter_stretch': 4}\n",
      "Early stopping: \tFalse (-1)\n",
      "\n",
      "Successfully attacked:\t520\n",
      "Total attacked: \t1483\n",
      "Total processed:\t1687\n",
      "\n",
      "Success-Rate: \t\t0.35\n",
      "Perturbed Accurracy: \t0.57\n",
      "\n",
      "Attack-Parameters:\t{'epsilon': 0.0002, 'num_iter': 50, 'num_iter_stretch': 4}\n",
      "Early stopping: \tFalse (-1)\n",
      "\n",
      "Successfully attacked:\t930\n",
      "Total attacked: \t1483\n",
      "Total processed:\t1687\n",
      "\n",
      "Success-Rate: \t\t0.63\n",
      "Perturbed Accurracy: \t0.33\n",
      "\n",
      "Attack-Parameters:\t{'epsilon': 0.0003, 'num_iter': 50, 'num_iter_stretch': 4}\n",
      "Early stopping: \tFalse (-1)\n",
      "\n",
      "Successfully attacked:\t1021\n",
      "Total attacked: \t1483\n",
      "Total processed:\t1687\n",
      "\n",
      "Success-Rate: \t\t0.69\n",
      "Perturbed Accurracy: \t0.27\n",
      "\n",
      "Attack-Parameters:\t{'epsilon': 0.0004, 'num_iter': 50, 'num_iter_stretch': 4}\n",
      "Early stopping: \tFalse (-1)\n",
      "\n",
      "Successfully attacked:\t1034\n",
      "Total attacked: \t1483\n",
      "Total processed:\t1687\n",
      "\n",
      "Success-Rate: \t\t0.7\n",
      "Perturbed Accurracy: \t0.27\n",
      "\n",
      "Attack-Parameters:\t{'epsilon': 0.0005, 'num_iter': 50, 'num_iter_stretch': 4}\n",
      "Early stopping: \tFalse (-1)\n",
      "\n",
      "Successfully attacked:\t1046\n",
      "Total attacked: \t1483\n",
      "Total processed:\t1687\n",
      "\n",
      "Success-Rate: \t\t0.71\n",
      "Perturbed Accurracy: \t0.26\n",
      "\n"
     ]
    }
   ],
   "source": [
    "for eps in functional_time_stretching_attacks:\n",
    "    functional_time_stretching_attacks[eps].report()\n",
    "    print()"
   ]
  },
  {
   "cell_type": "code",
   "execution_count": 180,
   "metadata": {
    "ExecuteTime": {
     "end_time": "2020-06-23T19:06:14.804973Z",
     "start_time": "2020-06-23T19:06:14.742233Z"
    }
   },
   "outputs": [],
   "source": [
    "# functional_time_stretching_attacks[0.0005].showAdversarialExample(target_class=1)"
   ]
  },
  {
   "cell_type": "markdown",
   "metadata": {
    "heading_collapsed": true
   },
   "source": [
    "## Functional Pitch-Shifting Attacks"
   ]
  },
  {
   "cell_type": "code",
   "execution_count": 126,
   "metadata": {
    "ExecuteTime": {
     "end_time": "2020-06-23T15:30:55.667728Z",
     "start_time": "2020-06-23T15:27:19.591302Z"
    },
    "hidden": true,
    "scrolled": true
   },
   "outputs": [
    {
     "name": "stderr",
     "output_type": "stream",
     "text": [
      "  3%|▎         | 9/338 [03:29<2:07:21, 23.23s/it]\n"
     ]
    },
    {
     "ename": "KeyboardInterrupt",
     "evalue": "",
     "output_type": "error",
     "traceback": [
      "\u001b[0;31m---------------------------------------------------------------------------\u001b[0m",
      "\u001b[0;31mKeyboardInterrupt\u001b[0m                         Traceback (most recent call last)",
      "\u001b[0;32m<ipython-input-126-026aab243dab>\u001b[0m in \u001b[0;36m<module>\u001b[0;34m\u001b[0m\n\u001b[1;32m      6\u001b[0m     \u001b[0mattack_parameters\u001b[0m \u001b[0;34m=\u001b[0m \u001b[0;34m{\u001b[0m\u001b[0;34m'epsilon'\u001b[0m\u001b[0;34m:\u001b[0m \u001b[0meps\u001b[0m\u001b[0;34m,\u001b[0m \u001b[0;34m'num_iter'\u001b[0m\u001b[0;34m:\u001b[0m \u001b[0;36m50\u001b[0m\u001b[0;34m,\u001b[0m \u001b[0;34m'num_iter_stretch'\u001b[0m\u001b[0;34m:\u001b[0m \u001b[0;36m4\u001b[0m\u001b[0;34m}\u001b[0m\u001b[0;34m\u001b[0m\u001b[0;34m\u001b[0m\u001b[0m\n\u001b[1;32m      7\u001b[0m     \u001b[0mfpg\u001b[0m \u001b[0;34m=\u001b[0m \u001b[0mFunctionalPitchAttack\u001b[0m\u001b[0;34m(\u001b[0m\u001b[0mmodel\u001b[0m\u001b[0;34m,\u001b[0m \u001b[0mmodel\u001b[0m\u001b[0;34m.\u001b[0m\u001b[0mval_dataloader\u001b[0m\u001b[0;34m(\u001b[0m\u001b[0;34m)\u001b[0m\u001b[0;34m,\u001b[0m \u001b[0mattack_parameters\u001b[0m\u001b[0;34m,\u001b[0m \u001b[0msave_samples\u001b[0m\u001b[0;34m=\u001b[0m\u001b[0;32mFalse\u001b[0m\u001b[0;34m)\u001b[0m\u001b[0;34m\u001b[0m\u001b[0;34m\u001b[0m\u001b[0m\n\u001b[0;32m----> 8\u001b[0;31m     \u001b[0mfpg\u001b[0m\u001b[0;34m.\u001b[0m\u001b[0mattack\u001b[0m\u001b[0;34m(\u001b[0m\u001b[0;34m)\u001b[0m\u001b[0;34m\u001b[0m\u001b[0;34m\u001b[0m\u001b[0m\n\u001b[0m\u001b[1;32m      9\u001b[0m     \u001b[0mfunctional_pitch_shifting_attacks\u001b[0m\u001b[0;34m[\u001b[0m\u001b[0meps\u001b[0m\u001b[0;34m]\u001b[0m \u001b[0;34m=\u001b[0m \u001b[0mfpg\u001b[0m\u001b[0;34m\u001b[0m\u001b[0;34m\u001b[0m\u001b[0m\n",
      "\u001b[0;32m~/ml-lab-git/src/attacks/attack.py\u001b[0m in \u001b[0;36mattack\u001b[0;34m(self)\u001b[0m\n\u001b[1;32m     49\u001b[0m \u001b[0;34m\u001b[0m\u001b[0m\n\u001b[1;32m     50\u001b[0m             \u001b[0;31m# perform actual attack\u001b[0m\u001b[0;34m\u001b[0m\u001b[0;34m\u001b[0m\u001b[0;34m\u001b[0m\u001b[0m\n\u001b[0;32m---> 51\u001b[0;31m             \u001b[0mx_perturbed\u001b[0m \u001b[0;34m=\u001b[0m \u001b[0mself\u001b[0m\u001b[0;34m.\u001b[0m\u001b[0mattackSample\u001b[0m\u001b[0;34m(\u001b[0m\u001b[0mx_to_perturb\u001b[0m\u001b[0;34m,\u001b[0m \u001b[0my_true\u001b[0m\u001b[0;34m,\u001b[0m \u001b[0;34m**\u001b[0m\u001b[0mself\u001b[0m\u001b[0;34m.\u001b[0m\u001b[0mattack_parameters\u001b[0m\u001b[0;34m)\u001b[0m\u001b[0;34m\u001b[0m\u001b[0;34m\u001b[0m\u001b[0m\n\u001b[0m\u001b[1;32m     52\u001b[0m \u001b[0;34m\u001b[0m\u001b[0m\n\u001b[1;32m     53\u001b[0m             \u001b[0;31m# evaluate attack\u001b[0m\u001b[0;34m\u001b[0m\u001b[0;34m\u001b[0m\u001b[0;34m\u001b[0m\u001b[0m\n",
      "\u001b[0;32m~/ml-lab-git/src/attacks/functionalPitch.py\u001b[0m in \u001b[0;36mattackSample\u001b[0;34m(self, x, y, num_iter_stretch, lower_stretch, upper_stretch, epsilon, num_iter, norm, loss_fn, lower, upper)\u001b[0m\n\u001b[1;32m     15\u001b[0m \u001b[0;34m\u001b[0m\u001b[0m\n\u001b[1;32m     16\u001b[0m         \u001b[0mx\u001b[0m \u001b[0;34m=\u001b[0m \u001b[0mself\u001b[0m\u001b[0;34m.\u001b[0m\u001b[0mpitch_attack\u001b[0m\u001b[0;34m(\u001b[0m\u001b[0mx\u001b[0m\u001b[0;34m,\u001b[0m \u001b[0my\u001b[0m\u001b[0;34m,\u001b[0m \u001b[0mnum_iter_stretch\u001b[0m\u001b[0;34m,\u001b[0m \u001b[0mlower\u001b[0m\u001b[0;34m,\u001b[0m \u001b[0mupper\u001b[0m\u001b[0;34m)\u001b[0m\u001b[0;34m\u001b[0m\u001b[0;34m\u001b[0m\u001b[0m\n\u001b[0;32m---> 17\u001b[0;31m         \u001b[0mx\u001b[0m \u001b[0;34m=\u001b[0m \u001b[0mself\u001b[0m\u001b[0;34m.\u001b[0m\u001b[0mnoise_attack\u001b[0m\u001b[0;34m(\u001b[0m\u001b[0mx\u001b[0m\u001b[0;34m,\u001b[0m \u001b[0my\u001b[0m\u001b[0;34m,\u001b[0m \u001b[0mepsilon\u001b[0m\u001b[0;34m,\u001b[0m \u001b[0mnum_iter\u001b[0m\u001b[0;34m,\u001b[0m \u001b[0mnorm\u001b[0m\u001b[0;34m,\u001b[0m \u001b[0mloss_fn\u001b[0m\u001b[0;34m,\u001b[0m \u001b[0mlower\u001b[0m\u001b[0;34m,\u001b[0m \u001b[0mupper\u001b[0m\u001b[0;34m)\u001b[0m\u001b[0;34m\u001b[0m\u001b[0;34m\u001b[0m\u001b[0m\n\u001b[0m\u001b[1;32m     18\u001b[0m \u001b[0;34m\u001b[0m\u001b[0m\n\u001b[1;32m     19\u001b[0m         \u001b[0;32mreturn\u001b[0m \u001b[0mx\u001b[0m\u001b[0;34m\u001b[0m\u001b[0;34m\u001b[0m\u001b[0m\n",
      "\u001b[0;32m~/ml-lab-git/src/attacks/functionalPitch.py\u001b[0m in \u001b[0;36mnoise_attack\u001b[0;34m(self, x, y, epsilon, num_iter, norm, loss_fn, lower, upper)\u001b[0m\n\u001b[1;32m     36\u001b[0m             \u001b[0mloss\u001b[0m \u001b[0;34m=\u001b[0m \u001b[0mloss_fn\u001b[0m\u001b[0;34m(\u001b[0m\u001b[0mself\u001b[0m\u001b[0;34m.\u001b[0m\u001b[0mmodel\u001b[0m\u001b[0;34m(\u001b[0m\u001b[0mx\u001b[0m\u001b[0;34m)\u001b[0m\u001b[0;34m,\u001b[0m \u001b[0my\u001b[0m\u001b[0;34m)\u001b[0m\u001b[0;34m\u001b[0m\u001b[0;34m\u001b[0m\u001b[0m\n\u001b[1;32m     37\u001b[0m             \u001b[0mself\u001b[0m\u001b[0;34m.\u001b[0m\u001b[0mmodel\u001b[0m\u001b[0;34m.\u001b[0m\u001b[0mzero_grad\u001b[0m\u001b[0;34m(\u001b[0m\u001b[0;34m)\u001b[0m\u001b[0;34m\u001b[0m\u001b[0;34m\u001b[0m\u001b[0m\n\u001b[0;32m---> 38\u001b[0;31m             \u001b[0mloss\u001b[0m\u001b[0;34m.\u001b[0m\u001b[0mbackward\u001b[0m\u001b[0;34m(\u001b[0m\u001b[0;34m)\u001b[0m\u001b[0;34m\u001b[0m\u001b[0;34m\u001b[0m\u001b[0m\n\u001b[0m\u001b[1;32m     39\u001b[0m \u001b[0;34m\u001b[0m\u001b[0m\n\u001b[1;32m     40\u001b[0m             \u001b[0mx\u001b[0m\u001b[0;34m[\u001b[0m\u001b[0;34m'audio'\u001b[0m\u001b[0;34m]\u001b[0m \u001b[0;34m=\u001b[0m \u001b[0mtmp_audio\u001b[0m\u001b[0;34m\u001b[0m\u001b[0;34m\u001b[0m\u001b[0m\n",
      "\u001b[0;32m/nfs/students/summer-term-2020/project-4/yan/.conda/envs/cnn_project/lib/python3.8/site-packages/torch/tensor.py\u001b[0m in \u001b[0;36mbackward\u001b[0;34m(self, gradient, retain_graph, create_graph)\u001b[0m\n\u001b[1;32m    196\u001b[0m                 \u001b[0mproducts\u001b[0m\u001b[0;34m.\u001b[0m \u001b[0mDefaults\u001b[0m \u001b[0mto\u001b[0m\u001b[0;31m \u001b[0m\u001b[0;31m`\u001b[0m\u001b[0;31m`\u001b[0m\u001b[0;32mFalse\u001b[0m\u001b[0;31m`\u001b[0m\u001b[0;31m`\u001b[0m\u001b[0;34m.\u001b[0m\u001b[0;34m\u001b[0m\u001b[0;34m\u001b[0m\u001b[0m\n\u001b[1;32m    197\u001b[0m         \"\"\"\n\u001b[0;32m--> 198\u001b[0;31m         \u001b[0mtorch\u001b[0m\u001b[0;34m.\u001b[0m\u001b[0mautograd\u001b[0m\u001b[0;34m.\u001b[0m\u001b[0mbackward\u001b[0m\u001b[0;34m(\u001b[0m\u001b[0mself\u001b[0m\u001b[0;34m,\u001b[0m \u001b[0mgradient\u001b[0m\u001b[0;34m,\u001b[0m \u001b[0mretain_graph\u001b[0m\u001b[0;34m,\u001b[0m \u001b[0mcreate_graph\u001b[0m\u001b[0;34m)\u001b[0m\u001b[0;34m\u001b[0m\u001b[0;34m\u001b[0m\u001b[0m\n\u001b[0m\u001b[1;32m    199\u001b[0m \u001b[0;34m\u001b[0m\u001b[0m\n\u001b[1;32m    200\u001b[0m     \u001b[0;32mdef\u001b[0m \u001b[0mregister_hook\u001b[0m\u001b[0;34m(\u001b[0m\u001b[0mself\u001b[0m\u001b[0;34m,\u001b[0m \u001b[0mhook\u001b[0m\u001b[0;34m)\u001b[0m\u001b[0;34m:\u001b[0m\u001b[0;34m\u001b[0m\u001b[0;34m\u001b[0m\u001b[0m\n",
      "\u001b[0;32m/nfs/students/summer-term-2020/project-4/yan/.conda/envs/cnn_project/lib/python3.8/site-packages/torch/autograd/__init__.py\u001b[0m in \u001b[0;36mbackward\u001b[0;34m(tensors, grad_tensors, retain_graph, create_graph, grad_variables)\u001b[0m\n\u001b[1;32m     96\u001b[0m         \u001b[0mretain_graph\u001b[0m \u001b[0;34m=\u001b[0m \u001b[0mcreate_graph\u001b[0m\u001b[0;34m\u001b[0m\u001b[0;34m\u001b[0m\u001b[0m\n\u001b[1;32m     97\u001b[0m \u001b[0;34m\u001b[0m\u001b[0m\n\u001b[0;32m---> 98\u001b[0;31m     Variable._execution_engine.run_backward(\n\u001b[0m\u001b[1;32m     99\u001b[0m         \u001b[0mtensors\u001b[0m\u001b[0;34m,\u001b[0m \u001b[0mgrad_tensors\u001b[0m\u001b[0;34m,\u001b[0m \u001b[0mretain_graph\u001b[0m\u001b[0;34m,\u001b[0m \u001b[0mcreate_graph\u001b[0m\u001b[0;34m,\u001b[0m\u001b[0;34m\u001b[0m\u001b[0;34m\u001b[0m\u001b[0m\n\u001b[1;32m    100\u001b[0m         allow_unreachable=True)  # allow_unreachable flag\n",
      "\u001b[0;31mKeyboardInterrupt\u001b[0m: "
     ]
    }
   ],
   "source": [
    "from attacks.functionalPitch import FunctionalPitchAttack\n",
    "\n",
    "functional_pitch_shifting_attacks = {}\n",
    "\n",
    "for eps in [0.0005]:\n",
    "    attack_parameters = {'epsilon': eps, 'num_iter': 50, 'num_iter_stretch': 4}\n",
    "    fpg = FunctionalPitchAttack(model, model.val_dataloader(), attack_parameters, save_samples=False)\n",
    "    fpg.attack()\n",
    "    functional_pitch_shifting_attacks[eps] = fpg"
   ]
  },
  {
   "cell_type": "markdown",
   "metadata": {},
   "source": [
    "# Visualization"
   ]
  },
  {
   "cell_type": "code",
   "execution_count": 40,
   "metadata": {
    "ExecuteTime": {
     "end_time": "2020-07-11T20:11:21.398760Z",
     "start_time": "2020-07-11T20:11:21.335560Z"
    }
   },
   "outputs": [],
   "source": [
    "import seaborn as sns\n",
    "import matplotlib.pyplot as plt\n",
    "import numpy as np\n",
    "def draw_plot(x = [1,2,3], data = [{\"data\": [0.1, 0.33, 0.5], \"color\" : \"r\", \"label\": \"test\"}], x_label = \"x-axis\", y_label = \"y-axis\", title = \"Title\", save_path=None,legend_title=\"Legend\",legend_x_offset=1.3):\n",
    "    \n",
    "    sns.set()\n",
    "    sns.set_style(\"whitegrid\")\n",
    "    sns.set_context(\"poster\")\n",
    "    \n",
    "    # create an index for each tick position\n",
    "    xi = list(range(len(x)))\n",
    "\n",
    "    # create plot\n",
    "    f = plt.figure(figsize=(10,8))\n",
    "\n",
    "    # y-axis: \n",
    "    plt.ylim(0.,1)\n",
    "    plt.yticks(np.arange(0, 1.01, 0.1))\n",
    "\n",
    "    for d in data:\n",
    "        plt.plot(xi, d[\"data\"], marker='o', linestyle='-', color=d[\"color\"], label=d[\"label\"]) \n",
    "\n",
    "    plt.xlabel(x_label)\n",
    "    plt.ylabel(y_label) \n",
    "    plt.xticks(xi, x)\n",
    "    plt.title(title,fontsize=35)\n",
    "    plt.legend() \n",
    "    plt.xticks(xi)\n",
    "    leg = plt.legend(loc='center right', bbox_to_anchor=(legend_x_offset, 0.5), ncol=1, frameon=False, title=legend_title)\n",
    "    leg._legend_box.align = \"left\"\n",
    "    plt.show()"
   ]
  },
  {
   "cell_type": "code",
   "execution_count": 43,
   "metadata": {
    "ExecuteTime": {
     "end_time": "2020-07-11T20:12:06.146463Z",
     "start_time": "2020-07-11T20:12:05.846502Z"
    }
   },
   "outputs": [],
   "source": [
    "y1 = {'data': [pgd_attacks[attack_id].getSuccessRate() for attack_id in pgd_attacks]}\n",
    "y1['color'] = 'b'\n",
    "y1['label'] = \"Adding noise\"\n",
    "\n",
    "y2 = {'data': [functional_volume_attacks[attack_id].getSuccessRate() for attack_id in functional_volume_attacks]}\n",
    "y2['color'] = 'r'\n",
    "y2['label'] = \"Adding noise + Changing Volume\"\n",
    "\n",
    "y3 = {'data': [functional_interpolation_attacks[attack_id].getSuccessRate() for attack_id in functional_interpolation_attacks]}\n",
    "y3['color'] = 'orange'\n",
    "y3['label'] = \"Adding noise + Changing Volume + Overlaying (perceptible)\"\n",
    "\n",
    "y4 = {'data': [functional_interpolation_attacks_imperceptible[attack_id].getSuccessRate() for attack_id in functional_interpolation_attacks_imperceptible]}\n",
    "y4['color'] = 'g'\n",
    "y4['label'] = \"Adding noise + Changing Volume + Overlaying (imperceptible)\"\n",
    "\n",
    "y5 = {'data': [functional_time_stretching_attacks[attack_id].getSuccessRate() for attack_id in functional_time_stretching_attacks]}\n",
    "y5['color'] = 'grey'\n",
    "y5['label'] = \"Adding noise + Time Stretching\""
   ]
  },
  {
   "cell_type": "code",
   "execution_count": 46,
   "metadata": {
    "ExecuteTime": {
     "end_time": "2020-07-11T20:12:32.026511Z",
     "start_time": "2020-07-11T20:12:31.745904Z"
    }
   },
   "outputs": [
    {
     "data": {
      "image/png": "[encoded data removed]",
      "text/plain": [
       "<Figure size 720x576 with 1 Axes>"
      ]
     },
     "metadata": {},
     "output_type": "display_data"
    }
   ],
   "source": [
    "draw_plot(epsilons, data = [y3, y5, y4, y2, y1 ], legend_x_offset=2.5, title=\"Functional Attacks\",\n",
    "          legend_title=\"Attack type\", x_label=\"Epsilon\", y_label=\"Success rate\")"
   ]
  }
 ],
 "metadata": {
  "kernelspec": {
   "display_name": "Python 3",
   "language": "python",
   "name": "python3"
  },
  "language_info": {
   "codemirror_mode": {
    "name": "ipython",
    "version": 3
   },
   "file_extension": ".py",
   "mimetype": "text/x-python",
   "name": "python",
   "nbconvert_exporter": "python",
   "pygments_lexer": "ipython3",
   "version": "3.8.2"
  },
  "notify_time": "5"
 },
 "nbformat": 4,
 "nbformat_minor": 4
}
