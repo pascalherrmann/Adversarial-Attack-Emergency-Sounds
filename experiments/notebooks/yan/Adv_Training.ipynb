{
 "cells": [
  {
   "cell_type": "markdown",
   "metadata": {},
   "source": [
    "# Imports"
   ]
  },
  {
   "cell_type": "code",
   "execution_count": 2,
   "metadata": {
    "ExecuteTime": {
     "end_time": "2020-07-14T22:59:05.948408Z",
     "start_time": "2020-07-14T22:59:05.926685Z"
    }
   },
   "outputs": [],
   "source": [
    "%load_ext autoreload\n",
    "%autoreload 2\n",
    "\n",
    "import os\n",
    "import sys\n",
    "module_path = os.path.abspath(os.path.join('../../../src/'))\n",
    "if module_path not in sys.path:\n",
    "    sys.path.append(module_path)"
   ]
  },
  {
   "cell_type": "code",
   "execution_count": 3,
   "metadata": {
    "ExecuteTime": {
     "end_time": "2020-07-14T22:59:12.165399Z",
     "start_time": "2020-07-14T22:59:06.533657Z"
    }
   },
   "outputs": [],
   "source": [
    "import numpy as np\n",
    "import torch\n",
    "import time\n",
    "import pytorch_lightning as pl\n",
    "from pytorch_lightning import loggers\n",
    "import config\n",
    "from utils.Visual import draw_plot"
   ]
  },
  {
   "cell_type": "markdown",
   "metadata": {},
   "source": [
    "# Run Adversarial Training"
   ]
  },
  {
   "cell_type": "code",
   "execution_count": 4,
   "metadata": {
    "ExecuteTime": {
     "end_time": "2020-07-14T22:59:12.300053Z",
     "start_time": "2020-07-14T22:59:12.169193Z"
    }
   },
   "outputs": [
    {
     "name": "stdout",
     "output_type": "stream",
     "text": [
      "Loaded model 0024_EVAL_DATASET2\n"
     ]
    }
   ],
   "source": [
    "from utils.RobustnessExperiment import RobustnessExperiment, load_experiment\n",
    "from attacks.pgd import ProjectedGradientDescent\n",
    "\n",
    "exp_config = [{\n",
    "              \"attack_fn\": ProjectedGradientDescent, \n",
    "              \"attack_arg\": {\"norm\":[\"inf\"], \"epsilon\": [0, 0.001, 0.002, 0.005, 0.01, 0.02, 0.05, 0.1, 0.2]},\n",
    "              \"meta\": {\"key_result\":\"success_rate\", \"key_config\":\"epsilon\", \"title\":\"FGSM\"}\n",
    "             }]\n",
    "\n",
    "# uncomment this if you want to create a new experiment instead!\n",
    "## experiment = RobustnessExperiment(exp_config, title=\"EVAL_DATASET2\")\n",
    "experiment = load_experiment(exp_folder = \"0024_EVAL_DATASET2\")"
   ]
  },
  {
   "cell_type": "code",
   "execution_count": 5,
   "metadata": {
    "ExecuteTime": {
     "end_time": "2020-07-14T22:59:14.776260Z",
     "start_time": "2020-07-14T22:59:14.691583Z"
    }
   },
   "outputs": [],
   "source": [
    "from utils.TrainHelper import TrainHelper, get_all_models_data\n",
    "th = TrainHelper()"
   ]
  },
  {
   "cell_type": "code",
   "execution_count": 6,
   "metadata": {
    "ExecuteTime": {
     "end_time": "2020-07-14T22:59:20.699386Z",
     "start_time": "2020-07-14T22:59:15.681454Z"
    }
   },
   "outputs": [],
   "source": [
    "# define hyperparameters\n",
    "hparams = torch.load(\"/nfs/students/summer-term-2020/project-4/SAVED_MODELS/CRNN_8K_Dataset2/optuna_crnn8kd2_0.90.p\")['hparams']"
   ]
  },
  {
   "cell_type": "code",
   "execution_count": 7,
   "metadata": {
    "ExecuteTime": {
     "end_time": "2020-07-14T22:59:21.037086Z",
     "start_time": "2020-07-14T22:59:20.955032Z"
    }
   },
   "outputs": [
    {
     "data": {
      "text/plain": [
       "{'batch_size': 64,\n",
       " 'learning_rate': 0.0006944966354259878,\n",
       " 'p_dropout': 0.14566410995036227,\n",
       " 'lr_decay': 0.7701556821690759,\n",
       " 'n_hidden': 951,\n",
       " 'lstm_hidden_size': 951,\n",
       " 'weight_decay': 0.020086684067460947}"
      ]
     },
     "execution_count": 7,
     "metadata": {},
     "output_type": "execute_result"
    }
   ],
   "source": [
    "hparams"
   ]
  },
  {
   "cell_type": "code",
   "execution_count": 35,
   "metadata": {
    "ExecuteTime": {
     "end_time": "2020-07-15T08:25:34.730030Z",
     "start_time": "2020-07-15T08:25:34.430497Z"
    }
   },
   "outputs": [],
   "source": [
    "hparams[\"epochs\"] = 50"
   ]
  },
  {
   "cell_type": "code",
   "execution_count": 9,
   "metadata": {
    "ExecuteTime": {
     "end_time": "2020-07-14T23:00:02.981105Z",
     "start_time": "2020-07-14T23:00:02.837188Z"
    }
   },
   "outputs": [],
   "source": [
    "##############################################################################################################\n",
    "##############################################################################################################\n",
    "##############################################################################################################\n",
    "\n",
    "from attacks.pgd import ProjectedGradientDescent\n",
    "\n",
    "from classification.models.M5 import M5PLModule\n",
    "from classification.models.SpectrogramCNN import SpectrogramCNNPLModule\n",
    "from classification.models.CRNN import CRNNPLModule\n",
    "from classification.models.DeepRecursiveCNN import DeepRecursiveCNNPLModule\n",
    "from classification.models.SpectrogramCNN_8K_Dataset2 import SpectrogramCNN_8K_Dataset2_PLModule\n",
    "from classification.models.CRNN_8k_D2 import CRNN8k_D2_PLModule\n",
    "\n",
    "# define attack configs\n",
    "attack_configs = []\n",
    "for i in range(50):\n",
    "    epsilon = 0.1 + (i)/100\n",
    "    attack_configs.append(\n",
    "                      {\"ATTACK_CLASS\": ProjectedGradientDescent, \n",
    "                       \"ATTACK_ARGS\": {\"norm\":[\"inf\"], \n",
    "                                       \"epsilon\":[epsilon], \"num_iter\": [1]\n",
    "                                     },\n",
    "                       \"META\": {\"TITLE\": f\"L_inf_eps={epsilon}_iters=1\"}\n",
    "                       },\n",
    "    )"
   ]
  },
  {
   "cell_type": "code",
   "execution_count": 36,
   "metadata": {
    "ExecuteTime": {
     "end_time": "2020-07-15T08:25:37.559739Z",
     "start_time": "2020-07-15T08:25:37.517457Z"
    }
   },
   "outputs": [],
   "source": [
    "attack_configs = []\n",
    "attack_configs.extend([\n",
    "                      {\"ATTACK_CLASS\": ProjectedGradientDescent, \n",
    "                       \"ATTACK_ARGS\": {\"norm\":[\"inf\"], \n",
    "                                       \"epsilon\":[0.01], \"num_iter\": [2]\n",
    "                                     },\n",
    "                       \"META\": {\"TITLE\": f\"L_inf_eps={0.01}_iters=2\"}\n",
    "                       },\n",
    "                       {\"ATTACK_CLASS\": ProjectedGradientDescent, \n",
    "                       \"ATTACK_ARGS\": {\"norm\":[\"inf\"], \n",
    "                                       \"epsilon\":[0.02], \"num_iter\": [2]\n",
    "                                     },\n",
    "                       \"META\": {\"TITLE\": f\"L_inf_eps={0.02}_iters=2\"}\n",
    "                       },\n",
    "                       {\"ATTACK_CLASS\": ProjectedGradientDescent, \n",
    "                       \"ATTACK_ARGS\": {\"norm\":[\"inf\"], \n",
    "                                       \"epsilon\":[0.03], \"num_iter\": [2]\n",
    "                                     },\n",
    "                       \"META\": {\"TITLE\": f\"L_inf_eps={0.03}_iters=2\"}\n",
    "                       },\n",
    "                        {\"ATTACK_CLASS\": ProjectedGradientDescent, \n",
    "                       \"ATTACK_ARGS\": {\"norm\":[\"inf\"], \n",
    "                                       \"epsilon\":[0.05], \"num_iter\": [2]\n",
    "                                     },\n",
    "                       \"META\": {\"TITLE\": f\"L_inf_eps={0.05}_iters=2\"}\n",
    "                       }])"
   ]
  },
  {
   "cell_type": "code",
   "execution_count": 37,
   "metadata": {
    "ExecuteTime": {
     "end_time": "2020-07-15T09:28:45.241474Z",
     "start_time": "2020-07-15T08:25:39.235919Z"
    },
    "scrolled": true
   },
   "outputs": [
    {
     "name": "stderr",
     "output_type": "stream",
     "text": [
      "GPU available: True, used: True\n",
      "No environment variable for node rank defined. Set as 0.\n",
      "CUDA_VISIBLE_DEVICES: [0]\n",
      "/nfs/students/summer-term-2020/project-4/yan/.conda/envs/cnn_project/lib/python3.8/site-packages/pytorch_lightning/utilities/distributed.py:23: RuntimeWarning: You have defined a `val_dataloader()` and have defined a `validation_step()`, you may also want to define `validation_epoch_end()` for accumulating stats.\n",
      "  warnings.warn(*args, **kwargs)\n",
      "Set SLURM handle signals.\n",
      "\n",
      "   | Name                      | Type                  | Params\n",
      "----------------------------------------------------------------\n",
      "0  | model                     | CRNN8k_D2             | 5 M   \n",
      "1  | model.spec                | MelspectrogramStretch | 0     \n",
      "2  | model.spec.spectrogram    | Spectrogram           | 0     \n",
      "3  | model.spec.mel_scale      | MelScale              | 0     \n",
      "4  | model.spec.stft           | Spectrogram           | 0     \n",
      "5  | model.spec.random_stretch | RandomTimeStretch     | 0     \n",
      "6  | model.spec.complex_norm   | ComplexNorm           | 0     \n",
      "7  | model.spec.norm           | SpecNormalization     | 0     \n",
      "8  | model.convs               | Sequential            | 213 K \n",
      "9  | model.convs.0             | Conv2d                | 320   \n",
      "10 | model.convs.1             | BatchNorm2d           | 64    \n",
      "11 | model.convs.2             | ELU                   | 0     \n",
      "12 | model.convs.3             | Conv2d                | 9 K   \n",
      "13 | model.convs.4             | BatchNorm2d           | 64    \n",
      "14 | model.convs.5             | ELU                   | 0     \n",
      "15 | model.convs.6             | MaxPool2d             | 0     \n",
      "16 | model.convs.7             | Dropout               | 0     \n",
      "17 | model.convs.8             | Conv2d                | 18 K  \n",
      "18 | model.convs.9             | BatchNorm2d           | 128   \n",
      "19 | model.convs.10            | ELU                   | 0     \n",
      "20 | model.convs.11            | Conv2d                | 36 K  \n",
      "21 | model.convs.12            | BatchNorm2d           | 128   \n",
      "22 | model.convs.13            | ELU                   | 0     \n",
      "23 | model.convs.14            | MaxPool2d             | 0     \n",
      "24 | model.convs.15            | Dropout               | 0     \n",
      "25 | model.convs.16            | Conv2d                | 73 K  \n",
      "26 | model.convs.17            | BatchNorm2d           | 256   \n",
      "27 | model.convs.18            | ELU                   | 0     \n",
      "28 | model.convs.19            | MaxPool2d             | 0     \n",
      "29 | model.convs.20            | Dropout               | 0     \n",
      "30 | model.convs.21            | Conv2d                | 73 K  \n",
      "31 | model.convs.22            | BatchNorm2d           | 128   \n",
      "32 | model.convs.23            | ELU                   | 0     \n",
      "33 | model.convs.24            | MaxPool2d             | 0     \n",
      "34 | model.convs.25            | Dropout               | 0     \n",
      "35 | model.LSTMCell            | LSTMCell              | 4 M   \n",
      "36 | model.dense               | Sequential            | 3 K   \n",
      "37 | model.dense.0             | Dropout               | 0     \n",
      "38 | model.dense.1             | BatchNorm1d           | 1 K   \n",
      "39 | model.dense.2             | Linear                | 1 K   \n"
     ]
    },
    {
     "name": "stdout",
     "output_type": "stream",
     "text": [
      "loaded!\n",
      "============================================================\n",
      "Training Models with Attack ProjectedGradientDescent (1 of 4)\n",
      "============================================================\n",
      "------------------------------------------------------------\n",
      "Trainig model 1/1\n",
      "------------------------------------------------------------\n"
     ]
    },
    {
     "name": "stderr",
     "output_type": "stream",
     "text": [
      "/nfs/students/summer-term-2020/project-4/yan/.conda/envs/cnn_project/lib/python3.8/site-packages/pytorch_lightning/utilities/distributed.py:23: UserWarning: The dataloader, val dataloader 0, does not have many workers which may be a bottleneck. Consider increasing the value of the `num_workers` argument` in the `DataLoader` init to improve performance.\n",
      "  warnings.warn(*args, **kwargs)\n"
     ]
    },
    {
     "data": {
      "application/vnd.jupyter.widget-view+json": {
       "model_id": "",
       "version_major": 2,
       "version_minor": 0
      },
      "text/plain": [
       "HBox(children=(FloatProgress(value=1.0, bar_style='info', description='Validation sanity check', layout=Layout…"
      ]
     },
     "metadata": {},
     "output_type": "display_data"
    },
    {
     "name": "stdout",
     "output_type": "stream",
     "text": [
      "Val-Acc=0.03793716656787196\n"
     ]
    },
    {
     "name": "stderr",
     "output_type": "stream",
     "text": [
      "/nfs/students/summer-term-2020/project-4/yan/.conda/envs/cnn_project/lib/python3.8/site-packages/pytorch_lightning/utilities/distributed.py:23: UserWarning: The dataloader, train dataloader, does not have many workers which may be a bottleneck. Consider increasing the value of the `num_workers` argument` in the `DataLoader` init to improve performance.\n",
      "  warnings.warn(*args, **kwargs)\n"
     ]
    },
    {
     "data": {
      "application/vnd.jupyter.widget-view+json": {
       "model_id": "3aaa68608dc14015b78f1f90ca889708",
       "version_major": 2,
       "version_minor": 0
      },
      "text/plain": [
       "HBox(children=(FloatProgress(value=1.0, bar_style='info', description='Training', layout=Layout(flex='2'), max…"
      ]
     },
     "metadata": {},
     "output_type": "display_data"
    },
    {
     "data": {
      "application/vnd.jupyter.widget-view+json": {
       "model_id": "",
       "version_major": 2,
       "version_minor": 0
      },
      "text/plain": [
       "HBox(children=(FloatProgress(value=1.0, bar_style='info', description='Validating', layout=Layout(flex='2'), m…"
      ]
     },
     "metadata": {},
     "output_type": "display_data"
    },
    {
     "name": "stdout",
     "output_type": "stream",
     "text": [
      "Val-Acc=0.8109069353882632\n",
      "Train-Acc=0.6758893280632411\n"
     ]
    },
    {
     "data": {
      "application/vnd.jupyter.widget-view+json": {
       "model_id": "",
       "version_major": 2,
       "version_minor": 0
      },
      "text/plain": [
       "HBox(children=(FloatProgress(value=1.0, bar_style='info', description='Validating', layout=Layout(flex='2'), m…"
      ]
     },
     "metadata": {},
     "output_type": "display_data"
    },
    {
     "name": "stdout",
     "output_type": "stream",
     "text": [
      "Val-Acc=0.8482513337285121\n",
      "Train-Acc=0.708498023715415\n"
     ]
    },
    {
     "data": {
      "application/vnd.jupyter.widget-view+json": {
       "model_id": "",
       "version_major": 2,
       "version_minor": 0
      },
      "text/plain": [
       "HBox(children=(FloatProgress(value=1.0, bar_style='info', description='Validating', layout=Layout(flex='2'), m…"
      ]
     },
     "metadata": {},
     "output_type": "display_data"
    },
    {
     "name": "stdout",
     "output_type": "stream",
     "text": [
      "Val-Acc=0.8654416123295792\n",
      "Train-Acc=0.7237154150197629\n"
     ]
    },
    {
     "data": {
      "application/vnd.jupyter.widget-view+json": {
       "model_id": "",
       "version_major": 2,
       "version_minor": 0
      },
      "text/plain": [
       "HBox(children=(FloatProgress(value=1.0, bar_style='info', description='Validating', layout=Layout(flex='2'), m…"
      ]
     },
     "metadata": {},
     "output_type": "display_data"
    },
    {
     "name": "stdout",
     "output_type": "stream",
     "text": [
      "Val-Acc=0.8654416123295792\n",
      "Train-Acc=0.7268774703557312\n"
     ]
    },
    {
     "data": {
      "application/vnd.jupyter.widget-view+json": {
       "model_id": "",
       "version_major": 2,
       "version_minor": 0
      },
      "text/plain": [
       "HBox(children=(FloatProgress(value=1.0, bar_style='info', description='Validating', layout=Layout(flex='2'), m…"
      ]
     },
     "metadata": {},
     "output_type": "display_data"
    },
    {
     "name": "stdout",
     "output_type": "stream",
     "text": [
      "Val-Acc=0.8571428571428571\n",
      "Train-Acc=0.7361660079051383\n"
     ]
    },
    {
     "data": {
      "application/vnd.jupyter.widget-view+json": {
       "model_id": "",
       "version_major": 2,
       "version_minor": 0
      },
      "text/plain": [
       "HBox(children=(FloatProgress(value=1.0, bar_style='info', description='Validating', layout=Layout(flex='2'), m…"
      ]
     },
     "metadata": {},
     "output_type": "display_data"
    },
    {
     "name": "stdout",
     "output_type": "stream",
     "text": [
      "Val-Acc=0.8642560758743332\n",
      "Train-Acc=0.7472332015810277\n"
     ]
    },
    {
     "data": {
      "application/vnd.jupyter.widget-view+json": {
       "model_id": "",
       "version_major": 2,
       "version_minor": 0
      },
      "text/plain": [
       "HBox(children=(FloatProgress(value=1.0, bar_style='info', description='Validating', layout=Layout(flex='2'), m…"
      ]
     },
     "metadata": {},
     "output_type": "display_data"
    },
    {
     "name": "stdout",
     "output_type": "stream",
     "text": [
      "Val-Acc=0.8233550681683461\n",
      "Train-Acc=0.750197628458498\n"
     ]
    },
    {
     "data": {
      "application/vnd.jupyter.widget-view+json": {
       "model_id": "",
       "version_major": 2,
       "version_minor": 0
      },
      "text/plain": [
       "HBox(children=(FloatProgress(value=1.0, bar_style='info', description='Validating', layout=Layout(flex='2'), m…"
      ]
     },
     "metadata": {},
     "output_type": "display_data"
    },
    {
     "name": "stdout",
     "output_type": "stream",
     "text": [
      "Val-Acc=0.8761114404267931\n",
      "Train-Acc=0.7577075098814229\n"
     ]
    },
    {
     "data": {
      "application/vnd.jupyter.widget-view+json": {
       "model_id": "",
       "version_major": 2,
       "version_minor": 0
      },
      "text/plain": [
       "HBox(children=(FloatProgress(value=1.0, bar_style='info', description='Validating', layout=Layout(flex='2'), m…"
      ]
     },
     "metadata": {},
     "output_type": "display_data"
    },
    {
     "name": "stdout",
     "output_type": "stream",
     "text": [
      "Val-Acc=0.8749259039715471\n",
      "Train-Acc=0.758893280632411\n"
     ]
    },
    {
     "data": {
      "application/vnd.jupyter.widget-view+json": {
       "model_id": "",
       "version_major": 2,
       "version_minor": 0
      },
      "text/plain": [
       "HBox(children=(FloatProgress(value=1.0, bar_style='info', description='Validating', layout=Layout(flex='2'), m…"
      ]
     },
     "metadata": {},
     "output_type": "display_data"
    },
    {
     "name": "stdout",
     "output_type": "stream",
     "text": [
      "Val-Acc=0.8695909899229401\n",
      "Train-Acc=0.7652173913043478\n",
      "Saved model to \"/nfs/students/summer-term-2020/project-4/SAVED_MODELS/CRNN8k_D2/CRNN8k_D2_attack_L_inf_eps=0.01_iters=2_v52_epoch_10.p\"\n",
      "Saved checkpoint at epoch 10 at \"/nfs/students/summer-term-2020/project-4/SAVED_MODELS/CRNN8k_D2/CRNN8k_D2_attack_L_inf_eps=0.01_iters=2_v52_epoch_10.p\"\n"
     ]
    },
    {
     "data": {
      "application/vnd.jupyter.widget-view+json": {
       "model_id": "",
       "version_major": 2,
       "version_minor": 0
      },
      "text/plain": [
       "HBox(children=(FloatProgress(value=1.0, bar_style='info', description='Validating', layout=Layout(flex='2'), m…"
      ]
     },
     "metadata": {},
     "output_type": "display_data"
    },
    {
     "name": "stdout",
     "output_type": "stream",
     "text": [
      "Val-Acc=0.8826318909306461\n",
      "Train-Acc=0.7697628458498024\n"
     ]
    },
    {
     "data": {
      "application/vnd.jupyter.widget-view+json": {
       "model_id": "",
       "version_major": 2,
       "version_minor": 0
      },
      "text/plain": [
       "HBox(children=(FloatProgress(value=1.0, bar_style='info', description='Validating', layout=Layout(flex='2'), m…"
      ]
     },
     "metadata": {},
     "output_type": "display_data"
    },
    {
     "name": "stdout",
     "output_type": "stream",
     "text": [
      "Val-Acc=0.8820391227030231\n",
      "Train-Acc=0.7699604743083004\n"
     ]
    },
    {
     "data": {
      "application/vnd.jupyter.widget-view+json": {
       "model_id": "",
       "version_major": 2,
       "version_minor": 0
      },
      "text/plain": [
       "HBox(children=(FloatProgress(value=1.0, bar_style='info', description='Validating', layout=Layout(flex='2'), m…"
      ]
     },
     "metadata": {},
     "output_type": "display_data"
    },
    {
     "name": "stdout",
     "output_type": "stream",
     "text": [
      "Val-Acc=0.8802608180201541\n",
      "Train-Acc=0.7699604743083004\n"
     ]
    },
    {
     "data": {
      "application/vnd.jupyter.widget-view+json": {
       "model_id": "",
       "version_major": 2,
       "version_minor": 0
      },
      "text/plain": [
       "HBox(children=(FloatProgress(value=1.0, bar_style='info', description='Validating', layout=Layout(flex='2'), m…"
      ]
     },
     "metadata": {},
     "output_type": "display_data"
    },
    {
     "name": "stdout",
     "output_type": "stream",
     "text": [
      "Val-Acc=0.8755186721991701\n",
      "Train-Acc=0.7693675889328063\n"
     ]
    },
    {
     "data": {
      "application/vnd.jupyter.widget-view+json": {
       "model_id": "",
       "version_major": 2,
       "version_minor": 0
      },
      "text/plain": [
       "HBox(children=(FloatProgress(value=1.0, bar_style='info', description='Validating', layout=Layout(flex='2'), m…"
      ]
     },
     "metadata": {},
     "output_type": "display_data"
    },
    {
     "name": "stdout",
     "output_type": "stream",
     "text": [
      "Val-Acc=0.8731475992886781\n",
      "Train-Acc=0.7701581027667984\n"
     ]
    },
    {
     "data": {
      "application/vnd.jupyter.widget-view+json": {
       "model_id": "",
       "version_major": 2,
       "version_minor": 0
      },
      "text/plain": [
       "HBox(children=(FloatProgress(value=1.0, bar_style='info', description='Validating', layout=Layout(flex='2'), m…"
      ]
     },
     "metadata": {},
     "output_type": "display_data"
    },
    {
     "name": "stdout",
     "output_type": "stream",
     "text": [
      "Val-Acc=0.8577356253704801\n",
      "Train-Acc=0.7725296442687747\n"
     ]
    },
    {
     "data": {
      "application/vnd.jupyter.widget-view+json": {
       "model_id": "",
       "version_major": 2,
       "version_minor": 0
      },
      "text/plain": [
       "HBox(children=(FloatProgress(value=1.0, bar_style='info', description='Validating', layout=Layout(flex='2'), m…"
      ]
     },
     "metadata": {},
     "output_type": "display_data"
    },
    {
     "name": "stdout",
     "output_type": "stream",
     "text": [
      "Val-Acc=0.8826318909306461\n",
      "Train-Acc=0.7739130434782608\n"
     ]
    },
    {
     "data": {
      "application/vnd.jupyter.widget-view+json": {
       "model_id": "",
       "version_major": 2,
       "version_minor": 0
      },
      "text/plain": [
       "HBox(children=(FloatProgress(value=1.0, bar_style='info', description='Validating', layout=Layout(flex='2'), m…"
      ]
     },
     "metadata": {},
     "output_type": "display_data"
    },
    {
     "name": "stdout",
     "output_type": "stream",
     "text": [
      "Val-Acc=0.8790752815649081\n",
      "Train-Acc=0.7747035573122529\n"
     ]
    },
    {
     "data": {
      "application/vnd.jupyter.widget-view+json": {
       "model_id": "",
       "version_major": 2,
       "version_minor": 0
      },
      "text/plain": [
       "HBox(children=(FloatProgress(value=1.0, bar_style='info', description='Validating', layout=Layout(flex='2'), m…"
      ]
     },
     "metadata": {},
     "output_type": "display_data"
    },
    {
     "name": "stdout",
     "output_type": "stream",
     "text": [
      "Val-Acc=0.8784825133372851\n",
      "Train-Acc=0.7798418972332016\n"
     ]
    },
    {
     "data": {
      "application/vnd.jupyter.widget-view+json": {
       "model_id": "",
       "version_major": 2,
       "version_minor": 0
      },
      "text/plain": [
       "HBox(children=(FloatProgress(value=1.0, bar_style='info', description='Validating', layout=Layout(flex='2'), m…"
      ]
     },
     "metadata": {},
     "output_type": "display_data"
    },
    {
     "name": "stdout",
     "output_type": "stream",
     "text": [
      "Val-Acc=0.8873740367516301\n",
      "Train-Acc=0.7770750988142292\n",
      "Saved model to \"/nfs/students/summer-term-2020/project-4/SAVED_MODELS/CRNN8k_D2/CRNN8k_D2_attack_L_inf_eps=0.01_iters=2_v52_epoch_20.p\"\n",
      "Saved checkpoint at epoch 20 at \"/nfs/students/summer-term-2020/project-4/SAVED_MODELS/CRNN8k_D2/CRNN8k_D2_attack_L_inf_eps=0.01_iters=2_v52_epoch_20.p\"\n"
     ]
    },
    {
     "data": {
      "application/vnd.jupyter.widget-view+json": {
       "model_id": "",
       "version_major": 2,
       "version_minor": 0
      },
      "text/plain": [
       "HBox(children=(FloatProgress(value=1.0, bar_style='info', description='Validating', layout=Layout(flex='2'), m…"
      ]
     },
     "metadata": {},
     "output_type": "display_data"
    },
    {
     "name": "stdout",
     "output_type": "stream",
     "text": [
      "Val-Acc=0.8755186721991701\n",
      "Train-Acc=0.7707509881422925\n"
     ]
    },
    {
     "data": {
      "application/vnd.jupyter.widget-view+json": {
       "model_id": "",
       "version_major": 2,
       "version_minor": 0
      },
      "text/plain": [
       "HBox(children=(FloatProgress(value=1.0, bar_style='info', description='Validating', layout=Layout(flex='2'), m…"
      ]
     },
     "metadata": {},
     "output_type": "display_data"
    },
    {
     "name": "stdout",
     "output_type": "stream",
     "text": [
      "Val-Acc=0.8844101956135151\n",
      "Train-Acc=0.7766798418972332\n"
     ]
    },
    {
     "data": {
      "application/vnd.jupyter.widget-view+json": {
       "model_id": "",
       "version_major": 2,
       "version_minor": 0
      },
      "text/plain": [
       "HBox(children=(FloatProgress(value=1.0, bar_style='info', description='Validating', layout=Layout(flex='2'), m…"
      ]
     },
     "metadata": {},
     "output_type": "display_data"
    },
    {
     "name": "stdout",
     "output_type": "stream",
     "text": [
      "Val-Acc=0.8873740367516301\n",
      "Train-Acc=0.7689723320158103\n"
     ]
    },
    {
     "data": {
      "application/vnd.jupyter.widget-view+json": {
       "model_id": "",
       "version_major": 2,
       "version_minor": 0
      },
      "text/plain": [
       "HBox(children=(FloatProgress(value=1.0, bar_style='info', description='Validating', layout=Layout(flex='2'), m…"
      ]
     },
     "metadata": {},
     "output_type": "display_data"
    },
    {
     "name": "stdout",
     "output_type": "stream",
     "text": [
      "Val-Acc=0.8719620628334321\n",
      "Train-Acc=0.7733201581027668\n"
     ]
    },
    {
     "data": {
      "application/vnd.jupyter.widget-view+json": {
       "model_id": "",
       "version_major": 2,
       "version_minor": 0
      },
      "text/plain": [
       "HBox(children=(FloatProgress(value=1.0, bar_style='info', description='Validating', layout=Layout(flex='2'), m…"
      ]
     },
     "metadata": {},
     "output_type": "display_data"
    },
    {
     "name": "stdout",
     "output_type": "stream",
     "text": [
      "Val-Acc=0.8778897451096621\n",
      "Train-Acc=0.7747035573122529\n"
     ]
    },
    {
     "data": {
      "application/vnd.jupyter.widget-view+json": {
       "model_id": "",
       "version_major": 2,
       "version_minor": 0
      },
      "text/plain": [
       "HBox(children=(FloatProgress(value=1.0, bar_style='info', description='Validating', layout=Layout(flex='2'), m…"
      ]
     },
     "metadata": {},
     "output_type": "display_data"
    },
    {
     "name": "stdout",
     "output_type": "stream",
     "text": [
      "Val-Acc=0.8826318909306461\n",
      "Train-Acc=0.7770750988142292\n"
     ]
    },
    {
     "data": {
      "application/vnd.jupyter.widget-view+json": {
       "model_id": "",
       "version_major": 2,
       "version_minor": 0
      },
      "text/plain": [
       "HBox(children=(FloatProgress(value=1.0, bar_style='info', description='Validating', layout=Layout(flex='2'), m…"
      ]
     },
     "metadata": {},
     "output_type": "display_data"
    },
    {
     "name": "stdout",
     "output_type": "stream",
     "text": [
      "Val-Acc=0.8624777711914642\n",
      "Train-Acc=0.7766798418972332\n"
     ]
    },
    {
     "data": {
      "application/vnd.jupyter.widget-view+json": {
       "model_id": "",
       "version_major": 2,
       "version_minor": 0
      },
      "text/plain": [
       "HBox(children=(FloatProgress(value=1.0, bar_style='info', description='Validating', layout=Layout(flex='2'), m…"
      ]
     },
     "metadata": {},
     "output_type": "display_data"
    },
    {
     "name": "stdout",
     "output_type": "stream",
     "text": [
      "Val-Acc=0.8755186721991701\n",
      "Train-Acc=0.7747035573122529\n"
     ]
    },
    {
     "data": {
      "application/vnd.jupyter.widget-view+json": {
       "model_id": "",
       "version_major": 2,
       "version_minor": 0
      },
      "text/plain": [
       "HBox(children=(FloatProgress(value=1.0, bar_style='info', description='Validating', layout=Layout(flex='2'), m…"
      ]
     },
     "metadata": {},
     "output_type": "display_data"
    },
    {
     "name": "stdout",
     "output_type": "stream",
     "text": [
      "Val-Acc=0.8707765263781861\n",
      "Train-Acc=0.775098814229249\n"
     ]
    },
    {
     "data": {
      "application/vnd.jupyter.widget-view+json": {
       "model_id": "",
       "version_major": 2,
       "version_minor": 0
      },
      "text/plain": [
       "HBox(children=(FloatProgress(value=1.0, bar_style='info', description='Validating', layout=Layout(flex='2'), m…"
      ]
     },
     "metadata": {},
     "output_type": "display_data"
    },
    {
     "name": "stdout",
     "output_type": "stream",
     "text": [
      "Val-Acc=0.8749259039715471\n",
      "Train-Acc=0.7782608695652173\n",
      "Saved model to \"/nfs/students/summer-term-2020/project-4/SAVED_MODELS/CRNN8k_D2/CRNN8k_D2_attack_L_inf_eps=0.01_iters=2_v52_epoch_30.p\"\n",
      "Saved checkpoint at epoch 30 at \"/nfs/students/summer-term-2020/project-4/SAVED_MODELS/CRNN8k_D2/CRNN8k_D2_attack_L_inf_eps=0.01_iters=2_v52_epoch_30.p\"\n"
     ]
    },
    {
     "data": {
      "application/vnd.jupyter.widget-view+json": {
       "model_id": "",
       "version_major": 2,
       "version_minor": 0
      },
      "text/plain": [
       "HBox(children=(FloatProgress(value=1.0, bar_style='info', description='Validating', layout=Layout(flex='2'), m…"
      ]
     },
     "metadata": {},
     "output_type": "display_data"
    },
    {
     "name": "stdout",
     "output_type": "stream",
     "text": [
      "Val-Acc=0.8601066982809722\n",
      "Train-Acc=0.7810276679841898\n"
     ]
    },
    {
     "data": {
      "application/vnd.jupyter.widget-view+json": {
       "model_id": "",
       "version_major": 2,
       "version_minor": 0
      },
      "text/plain": [
       "HBox(children=(FloatProgress(value=1.0, bar_style='info', description='Validating', layout=Layout(flex='2'), m…"
      ]
     },
     "metadata": {},
     "output_type": "display_data"
    },
    {
     "name": "stdout",
     "output_type": "stream",
     "text": [
      "Val-Acc=0.8778897451096621\n",
      "Train-Acc=0.7778656126482213\n"
     ]
    },
    {
     "data": {
      "application/vnd.jupyter.widget-view+json": {
       "model_id": "",
       "version_major": 2,
       "version_minor": 0
      },
      "text/plain": [
       "HBox(children=(FloatProgress(value=1.0, bar_style='info', description='Validating', layout=Layout(flex='2'), m…"
      ]
     },
     "metadata": {},
     "output_type": "display_data"
    },
    {
     "name": "stdout",
     "output_type": "stream",
     "text": [
      "Val-Acc=0.8755186721991701\n",
      "Train-Acc=0.7741106719367589\n"
     ]
    },
    {
     "data": {
      "application/vnd.jupyter.widget-view+json": {
       "model_id": "",
       "version_major": 2,
       "version_minor": 0
      },
      "text/plain": [
       "HBox(children=(FloatProgress(value=1.0, bar_style='info', description='Validating', layout=Layout(flex='2'), m…"
      ]
     },
     "metadata": {},
     "output_type": "display_data"
    },
    {
     "name": "stdout",
     "output_type": "stream",
     "text": [
      "Val-Acc=0.8808535862477771\n",
      "Train-Acc=0.7715415019762846\n"
     ]
    },
    {
     "data": {
      "application/vnd.jupyter.widget-view+json": {
       "model_id": "",
       "version_major": 2,
       "version_minor": 0
      },
      "text/plain": [
       "HBox(children=(FloatProgress(value=1.0, bar_style='info', description='Validating', layout=Layout(flex='2'), m…"
      ]
     },
     "metadata": {},
     "output_type": "display_data"
    },
    {
     "name": "stdout",
     "output_type": "stream",
     "text": [
      "Val-Acc=0.8618850029638412\n",
      "Train-Acc=0.7776679841897233\n"
     ]
    },
    {
     "data": {
      "application/vnd.jupyter.widget-view+json": {
       "model_id": "",
       "version_major": 2,
       "version_minor": 0
      },
      "text/plain": [
       "HBox(children=(FloatProgress(value=1.0, bar_style='info', description='Validating', layout=Layout(flex='2'), m…"
      ]
     },
     "metadata": {},
     "output_type": "display_data"
    },
    {
     "name": "stdout",
     "output_type": "stream",
     "text": [
      "Val-Acc=0.8648488441019562\n",
      "Train-Acc=0.7776679841897233\n"
     ]
    },
    {
     "data": {
      "application/vnd.jupyter.widget-view+json": {
       "model_id": "",
       "version_major": 2,
       "version_minor": 0
      },
      "text/plain": [
       "HBox(children=(FloatProgress(value=1.0, bar_style='info', description='Validating', layout=Layout(flex='2'), m…"
      ]
     },
     "metadata": {},
     "output_type": "display_data"
    },
    {
     "name": "stdout",
     "output_type": "stream",
     "text": [
      "Val-Acc=0.8814463544754001\n",
      "Train-Acc=0.7784584980237154\n"
     ]
    },
    {
     "data": {
      "application/vnd.jupyter.widget-view+json": {
       "model_id": "",
       "version_major": 2,
       "version_minor": 0
      },
      "text/plain": [
       "HBox(children=(FloatProgress(value=1.0, bar_style='info', description='Validating', layout=Layout(flex='2'), m…"
      ]
     },
     "metadata": {},
     "output_type": "display_data"
    },
    {
     "name": "stdout",
     "output_type": "stream",
     "text": [
      "Val-Acc=0.8725548310610551\n",
      "Train-Acc=0.775691699604743\n"
     ]
    },
    {
     "data": {
      "application/vnd.jupyter.widget-view+json": {
       "model_id": "",
       "version_major": 2,
       "version_minor": 0
      },
      "text/plain": [
       "HBox(children=(FloatProgress(value=1.0, bar_style='info', description='Validating', layout=Layout(flex='2'), m…"
      ]
     },
     "metadata": {},
     "output_type": "display_data"
    },
    {
     "name": "stdout",
     "output_type": "stream",
     "text": [
      "Val-Acc=0.8814463544754001\n",
      "Train-Acc=0.7735177865612648\n"
     ]
    },
    {
     "data": {
      "application/vnd.jupyter.widget-view+json": {
       "model_id": "",
       "version_major": 2,
       "version_minor": 0
      },
      "text/plain": [
       "HBox(children=(FloatProgress(value=1.0, bar_style='info', description='Validating', layout=Layout(flex='2'), m…"
      ]
     },
     "metadata": {},
     "output_type": "display_data"
    },
    {
     "name": "stdout",
     "output_type": "stream",
     "text": [
      "Val-Acc=0.8755186721991701\n",
      "Train-Acc=0.7768774703557312\n",
      "Saved model to \"/nfs/students/summer-term-2020/project-4/SAVED_MODELS/CRNN8k_D2/CRNN8k_D2_attack_L_inf_eps=0.01_iters=2_v52_epoch_40.p\"\n",
      "Saved checkpoint at epoch 40 at \"/nfs/students/summer-term-2020/project-4/SAVED_MODELS/CRNN8k_D2/CRNN8k_D2_attack_L_inf_eps=0.01_iters=2_v52_epoch_40.p\"\n"
     ]
    },
    {
     "data": {
      "application/vnd.jupyter.widget-view+json": {
       "model_id": "",
       "version_major": 2,
       "version_minor": 0
      },
      "text/plain": [
       "HBox(children=(FloatProgress(value=1.0, bar_style='info', description='Validating', layout=Layout(flex='2'), m…"
      ]
     },
     "metadata": {},
     "output_type": "display_data"
    },
    {
     "name": "stdout",
     "output_type": "stream",
     "text": [
      "Val-Acc=0.8547717842323651\n",
      "Train-Acc=0.775296442687747\n"
     ]
    },
    {
     "data": {
      "application/vnd.jupyter.widget-view+json": {
       "model_id": "",
       "version_major": 2,
       "version_minor": 0
      },
      "text/plain": [
       "HBox(children=(FloatProgress(value=1.0, bar_style='info', description='Validating', layout=Layout(flex='2'), m…"
      ]
     },
     "metadata": {},
     "output_type": "display_data"
    },
    {
     "name": "stdout",
     "output_type": "stream",
     "text": [
      "Val-Acc=0.8571428571428571\n",
      "Train-Acc=0.7739130434782608\n"
     ]
    },
    {
     "data": {
      "application/vnd.jupyter.widget-view+json": {
       "model_id": "",
       "version_major": 2,
       "version_minor": 0
      },
      "text/plain": [
       "HBox(children=(FloatProgress(value=1.0, bar_style='info', description='Validating', layout=Layout(flex='2'), m…"
      ]
     },
     "metadata": {},
     "output_type": "display_data"
    },
    {
     "name": "stdout",
     "output_type": "stream",
     "text": [
      "Val-Acc=0.8784825133372851\n",
      "Train-Acc=0.775098814229249\n"
     ]
    },
    {
     "data": {
      "application/vnd.jupyter.widget-view+json": {
       "model_id": "",
       "version_major": 2,
       "version_minor": 0
      },
      "text/plain": [
       "HBox(children=(FloatProgress(value=1.0, bar_style='info', description='Validating', layout=Layout(flex='2'), m…"
      ]
     },
     "metadata": {},
     "output_type": "display_data"
    },
    {
     "name": "stdout",
     "output_type": "stream",
     "text": [
      "Val-Acc=0.8719620628334321\n",
      "Train-Acc=0.7800395256916997\n"
     ]
    },
    {
     "data": {
      "application/vnd.jupyter.widget-view+json": {
       "model_id": "",
       "version_major": 2,
       "version_minor": 0
      },
      "text/plain": [
       "HBox(children=(FloatProgress(value=1.0, bar_style='info', description='Validating', layout=Layout(flex='2'), m…"
      ]
     },
     "metadata": {},
     "output_type": "display_data"
    },
    {
     "name": "stdout",
     "output_type": "stream",
     "text": [
      "Val-Acc=0.8749259039715471\n",
      "Train-Acc=0.775296442687747\n"
     ]
    },
    {
     "data": {
      "application/vnd.jupyter.widget-view+json": {
       "model_id": "",
       "version_major": 2,
       "version_minor": 0
      },
      "text/plain": [
       "HBox(children=(FloatProgress(value=1.0, bar_style='info', description='Validating', layout=Layout(flex='2'), m…"
      ]
     },
     "metadata": {},
     "output_type": "display_data"
    },
    {
     "name": "stdout",
     "output_type": "stream",
     "text": [
      "Val-Acc=0.8861885002963841\n",
      "Train-Acc=0.7772727272727272\n"
     ]
    },
    {
     "data": {
      "application/vnd.jupyter.widget-view+json": {
       "model_id": "",
       "version_major": 2,
       "version_minor": 0
      },
      "text/plain": [
       "HBox(children=(FloatProgress(value=1.0, bar_style='info', description='Validating', layout=Layout(flex='2'), m…"
      ]
     },
     "metadata": {},
     "output_type": "display_data"
    },
    {
     "name": "stdout",
     "output_type": "stream",
     "text": [
      "Val-Acc=0.8737403675163011\n",
      "Train-Acc=0.7772727272727272\n"
     ]
    },
    {
     "data": {
      "application/vnd.jupyter.widget-view+json": {
       "model_id": "",
       "version_major": 2,
       "version_minor": 0
      },
      "text/plain": [
       "HBox(children=(FloatProgress(value=1.0, bar_style='info', description='Validating', layout=Layout(flex='2'), m…"
      ]
     },
     "metadata": {},
     "output_type": "display_data"
    },
    {
     "name": "stdout",
     "output_type": "stream",
     "text": [
      "Val-Acc=0.8761114404267931\n",
      "Train-Acc=0.7733201581027668\n"
     ]
    },
    {
     "data": {
      "application/vnd.jupyter.widget-view+json": {
       "model_id": "",
       "version_major": 2,
       "version_minor": 0
      },
      "text/plain": [
       "HBox(children=(FloatProgress(value=1.0, bar_style='info', description='Validating', layout=Layout(flex='2'), m…"
      ]
     },
     "metadata": {},
     "output_type": "display_data"
    },
    {
     "name": "stdout",
     "output_type": "stream",
     "text": [
      "Val-Acc=0.8695909899229401\n",
      "Train-Acc=0.7762845849802371\n"
     ]
    },
    {
     "data": {
      "application/vnd.jupyter.widget-view+json": {
       "model_id": "",
       "version_major": 2,
       "version_minor": 0
      },
      "text/plain": [
       "HBox(children=(FloatProgress(value=1.0, bar_style='info', description='Validating', layout=Layout(flex='2'), m…"
      ]
     },
     "metadata": {},
     "output_type": "display_data"
    },
    {
     "name": "stdout",
     "output_type": "stream",
     "text": [
      "Val-Acc=0.8796680497925311\n",
      "Train-Acc=0.774901185770751\n"
     ]
    },
    {
     "name": "stderr",
     "output_type": "stream",
     "text": [
      "GPU available: True, used: True\n",
      "No environment variable for node rank defined. Set as 0.\n",
      "CUDA_VISIBLE_DEVICES: [0]\n",
      "/nfs/students/summer-term-2020/project-4/yan/.conda/envs/cnn_project/lib/python3.8/site-packages/pytorch_lightning/utilities/distributed.py:23: RuntimeWarning: You have defined a `val_dataloader()` and have defined a `validation_step()`, you may also want to define `validation_epoch_end()` for accumulating stats.\n",
      "  warnings.warn(*args, **kwargs)\n",
      "Set SLURM handle signals.\n",
      "\n",
      "   | Name                      | Type                  | Params\n",
      "----------------------------------------------------------------\n",
      "0  | model                     | CRNN8k_D2             | 5 M   \n",
      "1  | model.spec                | MelspectrogramStretch | 0     \n",
      "2  | model.spec.spectrogram    | Spectrogram           | 0     \n",
      "3  | model.spec.mel_scale      | MelScale              | 0     \n",
      "4  | model.spec.stft           | Spectrogram           | 0     \n",
      "5  | model.spec.random_stretch | RandomTimeStretch     | 0     \n",
      "6  | model.spec.complex_norm   | ComplexNorm           | 0     \n",
      "7  | model.spec.norm           | SpecNormalization     | 0     \n",
      "8  | model.convs               | Sequential            | 213 K \n",
      "9  | model.convs.0             | Conv2d                | 320   \n",
      "10 | model.convs.1             | BatchNorm2d           | 64    \n",
      "11 | model.convs.2             | ELU                   | 0     \n",
      "12 | model.convs.3             | Conv2d                | 9 K   \n",
      "13 | model.convs.4             | BatchNorm2d           | 64    \n",
      "14 | model.convs.5             | ELU                   | 0     \n",
      "15 | model.convs.6             | MaxPool2d             | 0     \n",
      "16 | model.convs.7             | Dropout               | 0     \n",
      "17 | model.convs.8             | Conv2d                | 18 K  \n",
      "18 | model.convs.9             | BatchNorm2d           | 128   \n",
      "19 | model.convs.10            | ELU                   | 0     \n",
      "20 | model.convs.11            | Conv2d                | 36 K  \n",
      "21 | model.convs.12            | BatchNorm2d           | 128   \n",
      "22 | model.convs.13            | ELU                   | 0     \n",
      "23 | model.convs.14            | MaxPool2d             | 0     \n",
      "24 | model.convs.15            | Dropout               | 0     \n",
      "25 | model.convs.16            | Conv2d                | 73 K  \n",
      "26 | model.convs.17            | BatchNorm2d           | 256   \n",
      "27 | model.convs.18            | ELU                   | 0     \n",
      "28 | model.convs.19            | MaxPool2d             | 0     \n",
      "29 | model.convs.20            | Dropout               | 0     \n",
      "30 | model.convs.21            | Conv2d                | 73 K  \n",
      "31 | model.convs.22            | BatchNorm2d           | 128   \n",
      "32 | model.convs.23            | ELU                   | 0     \n",
      "33 | model.convs.24            | MaxPool2d             | 0     \n",
      "34 | model.convs.25            | Dropout               | 0     \n",
      "35 | model.LSTMCell            | LSTMCell              | 4 M   \n",
      "36 | model.dense               | Sequential            | 3 K   \n",
      "37 | model.dense.0             | Dropout               | 0     \n",
      "38 | model.dense.1             | BatchNorm1d           | 1 K   \n",
      "39 | model.dense.2             | Linear                | 1 K   \n"
     ]
    },
    {
     "name": "stdout",
     "output_type": "stream",
     "text": [
      "\n",
      "Saved model to \"/nfs/students/summer-term-2020/project-4/SAVED_MODELS/CRNN8k_D2/CRNN8k_D2_attack_L_inf_eps=0.01_iters=2_v52.p\"\n",
      "============================================================\n",
      "Training Models with Attack ProjectedGradientDescent (2 of 4)\n",
      "============================================================\n",
      "------------------------------------------------------------\n",
      "Trainig model 1/1\n",
      "------------------------------------------------------------\n"
     ]
    },
    {
     "name": "stderr",
     "output_type": "stream",
     "text": [
      "/nfs/students/summer-term-2020/project-4/yan/.conda/envs/cnn_project/lib/python3.8/site-packages/pytorch_lightning/utilities/distributed.py:23: UserWarning: The dataloader, val dataloader 0, does not have many workers which may be a bottleneck. Consider increasing the value of the `num_workers` argument` in the `DataLoader` init to improve performance.\n",
      "  warnings.warn(*args, **kwargs)\n"
     ]
    },
    {
     "data": {
      "application/vnd.jupyter.widget-view+json": {
       "model_id": "",
       "version_major": 2,
       "version_minor": 0
      },
      "text/plain": [
       "HBox(children=(FloatProgress(value=1.0, bar_style='info', description='Validation sanity check', layout=Layout…"
      ]
     },
     "metadata": {},
     "output_type": "display_data"
    },
    {
     "name": "stdout",
     "output_type": "stream",
     "text": [
      "Val-Acc=0.03793716656787196\n"
     ]
    },
    {
     "name": "stderr",
     "output_type": "stream",
     "text": [
      "/nfs/students/summer-term-2020/project-4/yan/.conda/envs/cnn_project/lib/python3.8/site-packages/pytorch_lightning/utilities/distributed.py:23: UserWarning: The dataloader, train dataloader, does not have many workers which may be a bottleneck. Consider increasing the value of the `num_workers` argument` in the `DataLoader` init to improve performance.\n",
      "  warnings.warn(*args, **kwargs)\n"
     ]
    },
    {
     "data": {
      "application/vnd.jupyter.widget-view+json": {
       "model_id": "6f34272fae0444e1be609846db6499c0",
       "version_major": 2,
       "version_minor": 0
      },
      "text/plain": [
       "HBox(children=(FloatProgress(value=1.0, bar_style='info', description='Training', layout=Layout(flex='2'), max…"
      ]
     },
     "metadata": {},
     "output_type": "display_data"
    },
    {
     "data": {
      "application/vnd.jupyter.widget-view+json": {
       "model_id": "",
       "version_major": 2,
       "version_minor": 0
      },
      "text/plain": [
       "HBox(children=(FloatProgress(value=1.0, bar_style='info', description='Validating', layout=Layout(flex='2'), m…"
      ]
     },
     "metadata": {},
     "output_type": "display_data"
    },
    {
     "name": "stdout",
     "output_type": "stream",
     "text": [
      "Val-Acc=0.8126852400711322\n",
      "Train-Acc=0.6065217391304348\n"
     ]
    },
    {
     "data": {
      "application/vnd.jupyter.widget-view+json": {
       "model_id": "",
       "version_major": 2,
       "version_minor": 0
      },
      "text/plain": [
       "HBox(children=(FloatProgress(value=1.0, bar_style='info', description='Validating', layout=Layout(flex='2'), m…"
      ]
     },
     "metadata": {},
     "output_type": "display_data"
    },
    {
     "name": "stdout",
     "output_type": "stream",
     "text": [
      "Val-Acc=0.8405453467694132\n",
      "Train-Acc=0.6146245059288538\n"
     ]
    },
    {
     "data": {
      "application/vnd.jupyter.widget-view+json": {
       "model_id": "",
       "version_major": 2,
       "version_minor": 0
      },
      "text/plain": [
       "HBox(children=(FloatProgress(value=1.0, bar_style='info', description='Validating', layout=Layout(flex='2'), m…"
      ]
     },
     "metadata": {},
     "output_type": "display_data"
    },
    {
     "name": "stdout",
     "output_type": "stream",
     "text": [
      "Val-Acc=0.8435091879075282\n",
      "Train-Acc=0.6211462450592885\n"
     ]
    },
    {
     "data": {
      "application/vnd.jupyter.widget-view+json": {
       "model_id": "",
       "version_major": 2,
       "version_minor": 0
      },
      "text/plain": [
       "HBox(children=(FloatProgress(value=1.0, bar_style='info', description='Validating', layout=Layout(flex='2'), m…"
      ]
     },
     "metadata": {},
     "output_type": "display_data"
    },
    {
     "name": "stdout",
     "output_type": "stream",
     "text": [
      "Val-Acc=0.8512151748666271\n",
      "Train-Acc=0.6324110671936759\n"
     ]
    },
    {
     "data": {
      "application/vnd.jupyter.widget-view+json": {
       "model_id": "",
       "version_major": 2,
       "version_minor": 0
      },
      "text/plain": [
       "HBox(children=(FloatProgress(value=1.0, bar_style='info', description='Validating', layout=Layout(flex='2'), m…"
      ]
     },
     "metadata": {},
     "output_type": "display_data"
    },
    {
     "name": "stdout",
     "output_type": "stream",
     "text": [
      "Val-Acc=0.8476585655008891\n",
      "Train-Acc=0.6474308300395257\n"
     ]
    },
    {
     "data": {
      "application/vnd.jupyter.widget-view+json": {
       "model_id": "",
       "version_major": 2,
       "version_minor": 0
      },
      "text/plain": [
       "HBox(children=(FloatProgress(value=1.0, bar_style='info', description='Validating', layout=Layout(flex='2'), m…"
      ]
     },
     "metadata": {},
     "output_type": "display_data"
    },
    {
     "name": "stdout",
     "output_type": "stream",
     "text": [
      "Val-Acc=0.8441019561351512\n",
      "Train-Acc=0.6470355731225297\n"
     ]
    },
    {
     "data": {
      "application/vnd.jupyter.widget-view+json": {
       "model_id": "",
       "version_major": 2,
       "version_minor": 0
      },
      "text/plain": [
       "HBox(children=(FloatProgress(value=1.0, bar_style='info', description='Validating', layout=Layout(flex='2'), m…"
      ]
     },
     "metadata": {},
     "output_type": "display_data"
    },
    {
     "name": "stdout",
     "output_type": "stream",
     "text": [
      "Val-Acc=0.8535862477771191\n",
      "Train-Acc=0.6563241106719367\n"
     ]
    },
    {
     "data": {
      "application/vnd.jupyter.widget-view+json": {
       "model_id": "",
       "version_major": 2,
       "version_minor": 0
      },
      "text/plain": [
       "HBox(children=(FloatProgress(value=1.0, bar_style='info', description='Validating', layout=Layout(flex='2'), m…"
      ]
     },
     "metadata": {},
     "output_type": "display_data"
    },
    {
     "name": "stdout",
     "output_type": "stream",
     "text": [
      "Val-Acc=0.8725548310610551\n",
      "Train-Acc=0.6711462450592885\n"
     ]
    },
    {
     "data": {
      "application/vnd.jupyter.widget-view+json": {
       "model_id": "",
       "version_major": 2,
       "version_minor": 0
      },
      "text/plain": [
       "HBox(children=(FloatProgress(value=1.0, bar_style='info', description='Validating', layout=Layout(flex='2'), m…"
      ]
     },
     "metadata": {},
     "output_type": "display_data"
    },
    {
     "name": "stdout",
     "output_type": "stream",
     "text": [
      "Val-Acc=0.8512151748666271\n",
      "Train-Acc=0.6709486166007905\n"
     ]
    },
    {
     "data": {
      "application/vnd.jupyter.widget-view+json": {
       "model_id": "",
       "version_major": 2,
       "version_minor": 0
      },
      "text/plain": [
       "HBox(children=(FloatProgress(value=1.0, bar_style='info', description='Validating', layout=Layout(flex='2'), m…"
      ]
     },
     "metadata": {},
     "output_type": "display_data"
    },
    {
     "name": "stdout",
     "output_type": "stream",
     "text": [
      "Val-Acc=0.8737403675163011\n",
      "Train-Acc=0.6806324110671936\n",
      "Saved model to \"/nfs/students/summer-term-2020/project-4/SAVED_MODELS/CRNN8k_D2/CRNN8k_D2_attack_L_inf_eps=0.02_iters=2_v53_epoch_10.p\"\n",
      "Saved checkpoint at epoch 10 at \"/nfs/students/summer-term-2020/project-4/SAVED_MODELS/CRNN8k_D2/CRNN8k_D2_attack_L_inf_eps=0.02_iters=2_v53_epoch_10.p\"\n"
     ]
    },
    {
     "data": {
      "application/vnd.jupyter.widget-view+json": {
       "model_id": "",
       "version_major": 2,
       "version_minor": 0
      },
      "text/plain": [
       "HBox(children=(FloatProgress(value=1.0, bar_style='info', description='Validating', layout=Layout(flex='2'), m…"
      ]
     },
     "metadata": {},
     "output_type": "display_data"
    },
    {
     "name": "stdout",
     "output_type": "stream",
     "text": [
      "Val-Acc=0.8666271487848252\n",
      "Train-Acc=0.682806324110672\n"
     ]
    },
    {
     "data": {
      "application/vnd.jupyter.widget-view+json": {
       "model_id": "",
       "version_major": 2,
       "version_minor": 0
      },
      "text/plain": [
       "HBox(children=(FloatProgress(value=1.0, bar_style='info', description='Validating', layout=Layout(flex='2'), m…"
      ]
     },
     "metadata": {},
     "output_type": "display_data"
    },
    {
     "name": "stdout",
     "output_type": "stream",
     "text": [
      "Val-Acc=0.8719620628334321\n",
      "Train-Acc=0.6855731225296443\n"
     ]
    },
    {
     "data": {
      "application/vnd.jupyter.widget-view+json": {
       "model_id": "",
       "version_major": 2,
       "version_minor": 0
      },
      "text/plain": [
       "HBox(children=(FloatProgress(value=1.0, bar_style='info', description='Validating', layout=Layout(flex='2'), m…"
      ]
     },
     "metadata": {},
     "output_type": "display_data"
    },
    {
     "name": "stdout",
     "output_type": "stream",
     "text": [
      "Val-Acc=0.8660343805572022\n",
      "Train-Acc=0.6790513833992095\n"
     ]
    },
    {
     "data": {
      "application/vnd.jupyter.widget-view+json": {
       "model_id": "",
       "version_major": 2,
       "version_minor": 0
      },
      "text/plain": [
       "HBox(children=(FloatProgress(value=1.0, bar_style='info', description='Validating', layout=Layout(flex='2'), m…"
      ]
     },
     "metadata": {},
     "output_type": "display_data"
    },
    {
     "name": "stdout",
     "output_type": "stream",
     "text": [
      "Val-Acc=0.8755186721991701\n",
      "Train-Acc=0.6940711462450593\n"
     ]
    },
    {
     "data": {
      "application/vnd.jupyter.widget-view+json": {
       "model_id": "",
       "version_major": 2,
       "version_minor": 0
      },
      "text/plain": [
       "HBox(children=(FloatProgress(value=1.0, bar_style='info', description='Validating', layout=Layout(flex='2'), m…"
      ]
     },
     "metadata": {},
     "output_type": "display_data"
    },
    {
     "name": "stdout",
     "output_type": "stream",
     "text": [
      "Val-Acc=0.8719620628334321\n",
      "Train-Acc=0.6905138339920949\n"
     ]
    },
    {
     "data": {
      "application/vnd.jupyter.widget-view+json": {
       "model_id": "",
       "version_major": 2,
       "version_minor": 0
      },
      "text/plain": [
       "HBox(children=(FloatProgress(value=1.0, bar_style='info', description='Validating', layout=Layout(flex='2'), m…"
      ]
     },
     "metadata": {},
     "output_type": "display_data"
    },
    {
     "name": "stdout",
     "output_type": "stream",
     "text": [
      "Val-Acc=0.8784825133372851\n",
      "Train-Acc=0.6944664031620553\n"
     ]
    },
    {
     "data": {
      "application/vnd.jupyter.widget-view+json": {
       "model_id": "",
       "version_major": 2,
       "version_minor": 0
      },
      "text/plain": [
       "HBox(children=(FloatProgress(value=1.0, bar_style='info', description='Validating', layout=Layout(flex='2'), m…"
      ]
     },
     "metadata": {},
     "output_type": "display_data"
    },
    {
     "name": "stdout",
     "output_type": "stream",
     "text": [
      "Val-Acc=0.8761114404267931\n",
      "Train-Acc=0.6958498023715415\n"
     ]
    },
    {
     "data": {
      "application/vnd.jupyter.widget-view+json": {
       "model_id": "",
       "version_major": 2,
       "version_minor": 0
      },
      "text/plain": [
       "HBox(children=(FloatProgress(value=1.0, bar_style='info', description='Validating', layout=Layout(flex='2'), m…"
      ]
     },
     "metadata": {},
     "output_type": "display_data"
    },
    {
     "name": "stdout",
     "output_type": "stream",
     "text": [
      "Val-Acc=0.8630705394190872\n",
      "Train-Acc=0.6944664031620553\n"
     ]
    },
    {
     "data": {
      "application/vnd.jupyter.widget-view+json": {
       "model_id": "",
       "version_major": 2,
       "version_minor": 0
      },
      "text/plain": [
       "HBox(children=(FloatProgress(value=1.0, bar_style='info', description='Validating', layout=Layout(flex='2'), m…"
      ]
     },
     "metadata": {},
     "output_type": "display_data"
    },
    {
     "name": "stdout",
     "output_type": "stream",
     "text": [
      "Val-Acc=0.8565500889152341\n",
      "Train-Acc=0.7009881422924901\n"
     ]
    },
    {
     "data": {
      "application/vnd.jupyter.widget-view+json": {
       "model_id": "",
       "version_major": 2,
       "version_minor": 0
      },
      "text/plain": [
       "HBox(children=(FloatProgress(value=1.0, bar_style='info', description='Validating', layout=Layout(flex='2'), m…"
      ]
     },
     "metadata": {},
     "output_type": "display_data"
    },
    {
     "name": "stdout",
     "output_type": "stream",
     "text": [
      "Val-Acc=0.8749259039715471\n",
      "Train-Acc=0.6936758893280632\n",
      "Saved model to \"/nfs/students/summer-term-2020/project-4/SAVED_MODELS/CRNN8k_D2/CRNN8k_D2_attack_L_inf_eps=0.02_iters=2_v53_epoch_20.p\"\n",
      "Saved checkpoint at epoch 20 at \"/nfs/students/summer-term-2020/project-4/SAVED_MODELS/CRNN8k_D2/CRNN8k_D2_attack_L_inf_eps=0.02_iters=2_v53_epoch_20.p\"\n"
     ]
    },
    {
     "data": {
      "application/vnd.jupyter.widget-view+json": {
       "model_id": "",
       "version_major": 2,
       "version_minor": 0
      },
      "text/plain": [
       "HBox(children=(FloatProgress(value=1.0, bar_style='info', description='Validating', layout=Layout(flex='2'), m…"
      ]
     },
     "metadata": {},
     "output_type": "display_data"
    },
    {
     "name": "stdout",
     "output_type": "stream",
     "text": [
      "Val-Acc=0.8790752815649081\n",
      "Train-Acc=0.7\n"
     ]
    },
    {
     "data": {
      "application/vnd.jupyter.widget-view+json": {
       "model_id": "",
       "version_major": 2,
       "version_minor": 0
      },
      "text/plain": [
       "HBox(children=(FloatProgress(value=1.0, bar_style='info', description='Validating', layout=Layout(flex='2'), m…"
      ]
     },
     "metadata": {},
     "output_type": "display_data"
    },
    {
     "name": "stdout",
     "output_type": "stream",
     "text": [
      "Val-Acc=0.8778897451096621\n",
      "Train-Acc=0.6934782608695652\n"
     ]
    },
    {
     "data": {
      "application/vnd.jupyter.widget-view+json": {
       "model_id": "",
       "version_major": 2,
       "version_minor": 0
      },
      "text/plain": [
       "HBox(children=(FloatProgress(value=1.0, bar_style='info', description='Validating', layout=Layout(flex='2'), m…"
      ]
     },
     "metadata": {},
     "output_type": "display_data"
    },
    {
     "name": "stdout",
     "output_type": "stream",
     "text": [
      "Val-Acc=0.8476585655008891\n",
      "Train-Acc=0.7047430830039526\n"
     ]
    },
    {
     "data": {
      "application/vnd.jupyter.widget-view+json": {
       "model_id": "",
       "version_major": 2,
       "version_minor": 0
      },
      "text/plain": [
       "HBox(children=(FloatProgress(value=1.0, bar_style='info', description='Validating', layout=Layout(flex='2'), m…"
      ]
     },
     "metadata": {},
     "output_type": "display_data"
    },
    {
     "name": "stdout",
     "output_type": "stream",
     "text": [
      "Val-Acc=0.8731475992886781\n",
      "Train-Acc=0.6986166007905138\n"
     ]
    },
    {
     "data": {
      "application/vnd.jupyter.widget-view+json": {
       "model_id": "",
       "version_major": 2,
       "version_minor": 0
      },
      "text/plain": [
       "HBox(children=(FloatProgress(value=1.0, bar_style='info', description='Validating', layout=Layout(flex='2'), m…"
      ]
     },
     "metadata": {},
     "output_type": "display_data"
    },
    {
     "name": "stdout",
     "output_type": "stream",
     "text": [
      "Val-Acc=0.8737403675163011\n",
      "Train-Acc=0.6978260869565217\n"
     ]
    },
    {
     "data": {
      "application/vnd.jupyter.widget-view+json": {
       "model_id": "",
       "version_major": 2,
       "version_minor": 0
      },
      "text/plain": [
       "HBox(children=(FloatProgress(value=1.0, bar_style='info', description='Validating', layout=Layout(flex='2'), m…"
      ]
     },
     "metadata": {},
     "output_type": "display_data"
    },
    {
     "name": "stdout",
     "output_type": "stream",
     "text": [
      "Val-Acc=0.8743331357439241\n",
      "Train-Acc=0.6972332015810276\n"
     ]
    },
    {
     "data": {
      "application/vnd.jupyter.widget-view+json": {
       "model_id": "",
       "version_major": 2,
       "version_minor": 0
      },
      "text/plain": [
       "HBox(children=(FloatProgress(value=1.0, bar_style='info', description='Validating', layout=Layout(flex='2'), m…"
      ]
     },
     "metadata": {},
     "output_type": "display_data"
    },
    {
     "name": "stdout",
     "output_type": "stream",
     "text": [
      "Val-Acc=0.8684054534676942\n",
      "Train-Acc=0.6986166007905138\n"
     ]
    },
    {
     "data": {
      "application/vnd.jupyter.widget-view+json": {
       "model_id": "",
       "version_major": 2,
       "version_minor": 0
      },
      "text/plain": [
       "HBox(children=(FloatProgress(value=1.0, bar_style='info', description='Validating', layout=Layout(flex='2'), m…"
      ]
     },
     "metadata": {},
     "output_type": "display_data"
    },
    {
     "name": "stdout",
     "output_type": "stream",
     "text": [
      "Val-Acc=0.8707765263781861\n",
      "Train-Acc=0.6978260869565217\n"
     ]
    },
    {
     "data": {
      "application/vnd.jupyter.widget-view+json": {
       "model_id": "",
       "version_major": 2,
       "version_minor": 0
      },
      "text/plain": [
       "HBox(children=(FloatProgress(value=1.0, bar_style='info', description='Validating', layout=Layout(flex='2'), m…"
      ]
     },
     "metadata": {},
     "output_type": "display_data"
    },
    {
     "name": "stdout",
     "output_type": "stream",
     "text": [
      "Val-Acc=0.8535862477771191\n",
      "Train-Acc=0.6992094861660079\n"
     ]
    },
    {
     "data": {
      "application/vnd.jupyter.widget-view+json": {
       "model_id": "",
       "version_major": 2,
       "version_minor": 0
      },
      "text/plain": [
       "HBox(children=(FloatProgress(value=1.0, bar_style='info', description='Validating', layout=Layout(flex='2'), m…"
      ]
     },
     "metadata": {},
     "output_type": "display_data"
    },
    {
     "name": "stdout",
     "output_type": "stream",
     "text": [
      "Val-Acc=0.8701837581505631\n",
      "Train-Acc=0.6994071146245059\n",
      "Saved model to \"/nfs/students/summer-term-2020/project-4/SAVED_MODELS/CRNN8k_D2/CRNN8k_D2_attack_L_inf_eps=0.02_iters=2_v53_epoch_30.p\"\n",
      "Saved checkpoint at epoch 30 at \"/nfs/students/summer-term-2020/project-4/SAVED_MODELS/CRNN8k_D2/CRNN8k_D2_attack_L_inf_eps=0.02_iters=2_v53_epoch_30.p\"\n"
     ]
    },
    {
     "data": {
      "application/vnd.jupyter.widget-view+json": {
       "model_id": "",
       "version_major": 2,
       "version_minor": 0
      },
      "text/plain": [
       "HBox(children=(FloatProgress(value=1.0, bar_style='info', description='Validating', layout=Layout(flex='2'), m…"
      ]
     },
     "metadata": {},
     "output_type": "display_data"
    },
    {
     "name": "stdout",
     "output_type": "stream",
     "text": [
      "Val-Acc=0.8772969768820391\n",
      "Train-Acc=0.7027667984189724\n"
     ]
    },
    {
     "data": {
      "application/vnd.jupyter.widget-view+json": {
       "model_id": "",
       "version_major": 2,
       "version_minor": 0
      },
      "text/plain": [
       "HBox(children=(FloatProgress(value=1.0, bar_style='info', description='Validating', layout=Layout(flex='2'), m…"
      ]
     },
     "metadata": {},
     "output_type": "display_data"
    },
    {
     "name": "stdout",
     "output_type": "stream",
     "text": [
      "Val-Acc=0.8743331357439241\n",
      "Train-Acc=0.6944664031620553\n"
     ]
    },
    {
     "data": {
      "application/vnd.jupyter.widget-view+json": {
       "model_id": "",
       "version_major": 2,
       "version_minor": 0
      },
      "text/plain": [
       "HBox(children=(FloatProgress(value=1.0, bar_style='info', description='Validating', layout=Layout(flex='2'), m…"
      ]
     },
     "metadata": {},
     "output_type": "display_data"
    },
    {
     "name": "stdout",
     "output_type": "stream",
     "text": [
      "Val-Acc=0.8790752815649081\n",
      "Train-Acc=0.7017786561264822\n"
     ]
    },
    {
     "data": {
      "application/vnd.jupyter.widget-view+json": {
       "model_id": "",
       "version_major": 2,
       "version_minor": 0
      },
      "text/plain": [
       "HBox(children=(FloatProgress(value=1.0, bar_style='info', description='Validating', layout=Layout(flex='2'), m…"
      ]
     },
     "metadata": {},
     "output_type": "display_data"
    },
    {
     "name": "stdout",
     "output_type": "stream",
     "text": [
      "Val-Acc=0.8725548310610551\n",
      "Train-Acc=0.7013833992094861\n"
     ]
    },
    {
     "data": {
      "application/vnd.jupyter.widget-view+json": {
       "model_id": "",
       "version_major": 2,
       "version_minor": 0
      },
      "text/plain": [
       "HBox(children=(FloatProgress(value=1.0, bar_style='info', description='Validating', layout=Layout(flex='2'), m…"
      ]
     },
     "metadata": {},
     "output_type": "display_data"
    },
    {
     "name": "stdout",
     "output_type": "stream",
     "text": [
      "Val-Acc=0.8767042086544161\n",
      "Train-Acc=0.7025691699604744\n"
     ]
    },
    {
     "data": {
      "application/vnd.jupyter.widget-view+json": {
       "model_id": "",
       "version_major": 2,
       "version_minor": 0
      },
      "text/plain": [
       "HBox(children=(FloatProgress(value=1.0, bar_style='info', description='Validating', layout=Layout(flex='2'), m…"
      ]
     },
     "metadata": {},
     "output_type": "display_data"
    },
    {
     "name": "stdout",
     "output_type": "stream",
     "text": [
      "Val-Acc=0.8636633076467102\n",
      "Train-Acc=0.700197628458498\n"
     ]
    },
    {
     "data": {
      "application/vnd.jupyter.widget-view+json": {
       "model_id": "",
       "version_major": 2,
       "version_minor": 0
      },
      "text/plain": [
       "HBox(children=(FloatProgress(value=1.0, bar_style='info', description='Validating', layout=Layout(flex='2'), m…"
      ]
     },
     "metadata": {},
     "output_type": "display_data"
    },
    {
     "name": "stdout",
     "output_type": "stream",
     "text": [
      "Val-Acc=0.8559573206876111\n",
      "Train-Acc=0.7017786561264822\n"
     ]
    },
    {
     "data": {
      "application/vnd.jupyter.widget-view+json": {
       "model_id": "",
       "version_major": 2,
       "version_minor": 0
      },
      "text/plain": [
       "HBox(children=(FloatProgress(value=1.0, bar_style='info', description='Validating', layout=Layout(flex='2'), m…"
      ]
     },
     "metadata": {},
     "output_type": "display_data"
    },
    {
     "name": "stdout",
     "output_type": "stream",
     "text": [
      "Val-Acc=0.8749259039715471\n",
      "Train-Acc=0.6996047430830039\n"
     ]
    },
    {
     "data": {
      "application/vnd.jupyter.widget-view+json": {
       "model_id": "",
       "version_major": 2,
       "version_minor": 0
      },
      "text/plain": [
       "HBox(children=(FloatProgress(value=1.0, bar_style='info', description='Validating', layout=Layout(flex='2'), m…"
      ]
     },
     "metadata": {},
     "output_type": "display_data"
    },
    {
     "name": "stdout",
     "output_type": "stream",
     "text": [
      "Val-Acc=0.8814463544754001\n",
      "Train-Acc=0.700197628458498\n"
     ]
    },
    {
     "data": {
      "application/vnd.jupyter.widget-view+json": {
       "model_id": "",
       "version_major": 2,
       "version_minor": 0
      },
      "text/plain": [
       "HBox(children=(FloatProgress(value=1.0, bar_style='info', description='Validating', layout=Layout(flex='2'), m…"
      ]
     },
     "metadata": {},
     "output_type": "display_data"
    },
    {
     "name": "stdout",
     "output_type": "stream",
     "text": [
      "Val-Acc=0.8547717842323651\n",
      "Train-Acc=0.700197628458498\n",
      "Saved model to \"/nfs/students/summer-term-2020/project-4/SAVED_MODELS/CRNN8k_D2/CRNN8k_D2_attack_L_inf_eps=0.02_iters=2_v53_epoch_40.p\"\n",
      "Saved checkpoint at epoch 40 at \"/nfs/students/summer-term-2020/project-4/SAVED_MODELS/CRNN8k_D2/CRNN8k_D2_attack_L_inf_eps=0.02_iters=2_v53_epoch_40.p\"\n"
     ]
    },
    {
     "data": {
      "application/vnd.jupyter.widget-view+json": {
       "model_id": "",
       "version_major": 2,
       "version_minor": 0
      },
      "text/plain": [
       "HBox(children=(FloatProgress(value=1.0, bar_style='info', description='Validating', layout=Layout(flex='2'), m…"
      ]
     },
     "metadata": {},
     "output_type": "display_data"
    },
    {
     "name": "stdout",
     "output_type": "stream",
     "text": [
      "Val-Acc=0.8684054534676942\n",
      "Train-Acc=0.7073122529644269\n"
     ]
    },
    {
     "data": {
      "application/vnd.jupyter.widget-view+json": {
       "model_id": "",
       "version_major": 2,
       "version_minor": 0
      },
      "text/plain": [
       "HBox(children=(FloatProgress(value=1.0, bar_style='info', description='Validating', layout=Layout(flex='2'), m…"
      ]
     },
     "metadata": {},
     "output_type": "display_data"
    },
    {
     "name": "stdout",
     "output_type": "stream",
     "text": [
      "Val-Acc=0.8601066982809722\n",
      "Train-Acc=0.7043478260869566\n"
     ]
    },
    {
     "data": {
      "application/vnd.jupyter.widget-view+json": {
       "model_id": "",
       "version_major": 2,
       "version_minor": 0
      },
      "text/plain": [
       "HBox(children=(FloatProgress(value=1.0, bar_style='info', description='Validating', layout=Layout(flex='2'), m…"
      ]
     },
     "metadata": {},
     "output_type": "display_data"
    },
    {
     "name": "stdout",
     "output_type": "stream",
     "text": [
      "Val-Acc=0.8707765263781861\n",
      "Train-Acc=0.7073122529644269\n"
     ]
    },
    {
     "data": {
      "application/vnd.jupyter.widget-view+json": {
       "model_id": "",
       "version_major": 2,
       "version_minor": 0
      },
      "text/plain": [
       "HBox(children=(FloatProgress(value=1.0, bar_style='info', description='Validating', layout=Layout(flex='2'), m…"
      ]
     },
     "metadata": {},
     "output_type": "display_data"
    },
    {
     "name": "stdout",
     "output_type": "stream",
     "text": [
      "Val-Acc=0.8772969768820391\n",
      "Train-Acc=0.7037549407114625\n"
     ]
    },
    {
     "data": {
      "application/vnd.jupyter.widget-view+json": {
       "model_id": "",
       "version_major": 2,
       "version_minor": 0
      },
      "text/plain": [
       "HBox(children=(FloatProgress(value=1.0, bar_style='info', description='Validating', layout=Layout(flex='2'), m…"
      ]
     },
     "metadata": {},
     "output_type": "display_data"
    },
    {
     "name": "stdout",
     "output_type": "stream",
     "text": [
      "Val-Acc=0.8672199170124482\n",
      "Train-Acc=0.7053359683794467\n"
     ]
    },
    {
     "data": {
      "application/vnd.jupyter.widget-view+json": {
       "model_id": "",
       "version_major": 2,
       "version_minor": 0
      },
      "text/plain": [
       "HBox(children=(FloatProgress(value=1.0, bar_style='info', description='Validating', layout=Layout(flex='2'), m…"
      ]
     },
     "metadata": {},
     "output_type": "display_data"
    },
    {
     "name": "stdout",
     "output_type": "stream",
     "text": [
      "Val-Acc=0.8624777711914642\n",
      "Train-Acc=0.700395256916996\n"
     ]
    },
    {
     "data": {
      "application/vnd.jupyter.widget-view+json": {
       "model_id": "",
       "version_major": 2,
       "version_minor": 0
      },
      "text/plain": [
       "HBox(children=(FloatProgress(value=1.0, bar_style='info', description='Validating', layout=Layout(flex='2'), m…"
      ]
     },
     "metadata": {},
     "output_type": "display_data"
    },
    {
     "name": "stdout",
     "output_type": "stream",
     "text": [
      "Val-Acc=0.8565500889152341\n",
      "Train-Acc=0.6992094861660079\n"
     ]
    },
    {
     "data": {
      "application/vnd.jupyter.widget-view+json": {
       "model_id": "",
       "version_major": 2,
       "version_minor": 0
      },
      "text/plain": [
       "HBox(children=(FloatProgress(value=1.0, bar_style='info', description='Validating', layout=Layout(flex='2'), m…"
      ]
     },
     "metadata": {},
     "output_type": "display_data"
    },
    {
     "name": "stdout",
     "output_type": "stream",
     "text": [
      "Val-Acc=0.8743331357439241\n",
      "Train-Acc=0.7045454545454546\n"
     ]
    },
    {
     "data": {
      "application/vnd.jupyter.widget-view+json": {
       "model_id": "",
       "version_major": 2,
       "version_minor": 0
      },
      "text/plain": [
       "HBox(children=(FloatProgress(value=1.0, bar_style='info', description='Validating', layout=Layout(flex='2'), m…"
      ]
     },
     "metadata": {},
     "output_type": "display_data"
    },
    {
     "name": "stdout",
     "output_type": "stream",
     "text": [
      "Val-Acc=0.8725548310610551\n",
      "Train-Acc=0.6954545454545454\n"
     ]
    },
    {
     "data": {
      "application/vnd.jupyter.widget-view+json": {
       "model_id": "",
       "version_major": 2,
       "version_minor": 0
      },
      "text/plain": [
       "HBox(children=(FloatProgress(value=1.0, bar_style='info', description='Validating', layout=Layout(flex='2'), m…"
      ]
     },
     "metadata": {},
     "output_type": "display_data"
    },
    {
     "name": "stdout",
     "output_type": "stream",
     "text": [
      "Val-Acc=0.8689982216953172\n",
      "Train-Acc=0.7041501976284585\n",
      "\n"
     ]
    },
    {
     "name": "stderr",
     "output_type": "stream",
     "text": [
      "GPU available: True, used: True\n",
      "No environment variable for node rank defined. Set as 0.\n",
      "CUDA_VISIBLE_DEVICES: [0]\n",
      "/nfs/students/summer-term-2020/project-4/yan/.conda/envs/cnn_project/lib/python3.8/site-packages/pytorch_lightning/utilities/distributed.py:23: RuntimeWarning: You have defined a `val_dataloader()` and have defined a `validation_step()`, you may also want to define `validation_epoch_end()` for accumulating stats.\n",
      "  warnings.warn(*args, **kwargs)\n",
      "Set SLURM handle signals.\n",
      "\n",
      "   | Name                      | Type                  | Params\n",
      "----------------------------------------------------------------\n",
      "0  | model                     | CRNN8k_D2             | 5 M   \n",
      "1  | model.spec                | MelspectrogramStretch | 0     \n",
      "2  | model.spec.spectrogram    | Spectrogram           | 0     \n",
      "3  | model.spec.mel_scale      | MelScale              | 0     \n",
      "4  | model.spec.stft           | Spectrogram           | 0     \n",
      "5  | model.spec.random_stretch | RandomTimeStretch     | 0     \n",
      "6  | model.spec.complex_norm   | ComplexNorm           | 0     \n",
      "7  | model.spec.norm           | SpecNormalization     | 0     \n",
      "8  | model.convs               | Sequential            | 213 K \n",
      "9  | model.convs.0             | Conv2d                | 320   \n",
      "10 | model.convs.1             | BatchNorm2d           | 64    \n",
      "11 | model.convs.2             | ELU                   | 0     \n",
      "12 | model.convs.3             | Conv2d                | 9 K   \n",
      "13 | model.convs.4             | BatchNorm2d           | 64    \n",
      "14 | model.convs.5             | ELU                   | 0     \n",
      "15 | model.convs.6             | MaxPool2d             | 0     \n",
      "16 | model.convs.7             | Dropout               | 0     \n",
      "17 | model.convs.8             | Conv2d                | 18 K  \n",
      "18 | model.convs.9             | BatchNorm2d           | 128   \n",
      "19 | model.convs.10            | ELU                   | 0     \n",
      "20 | model.convs.11            | Conv2d                | 36 K  \n",
      "21 | model.convs.12            | BatchNorm2d           | 128   \n",
      "22 | model.convs.13            | ELU                   | 0     \n",
      "23 | model.convs.14            | MaxPool2d             | 0     \n",
      "24 | model.convs.15            | Dropout               | 0     \n",
      "25 | model.convs.16            | Conv2d                | 73 K  \n",
      "26 | model.convs.17            | BatchNorm2d           | 256   \n",
      "27 | model.convs.18            | ELU                   | 0     \n",
      "28 | model.convs.19            | MaxPool2d             | 0     \n",
      "29 | model.convs.20            | Dropout               | 0     \n",
      "30 | model.convs.21            | Conv2d                | 73 K  \n",
      "31 | model.convs.22            | BatchNorm2d           | 128   \n",
      "32 | model.convs.23            | ELU                   | 0     \n",
      "33 | model.convs.24            | MaxPool2d             | 0     \n",
      "34 | model.convs.25            | Dropout               | 0     \n",
      "35 | model.LSTMCell            | LSTMCell              | 4 M   \n",
      "36 | model.dense               | Sequential            | 3 K   \n",
      "37 | model.dense.0             | Dropout               | 0     \n",
      "38 | model.dense.1             | BatchNorm1d           | 1 K   \n",
      "39 | model.dense.2             | Linear                | 1 K   \n"
     ]
    },
    {
     "name": "stdout",
     "output_type": "stream",
     "text": [
      "Saved model to \"/nfs/students/summer-term-2020/project-4/SAVED_MODELS/CRNN8k_D2/CRNN8k_D2_attack_L_inf_eps=0.02_iters=2_v53.p\"\n",
      "============================================================\n",
      "Training Models with Attack ProjectedGradientDescent (3 of 4)\n",
      "============================================================\n",
      "------------------------------------------------------------\n",
      "Trainig model 1/1\n",
      "------------------------------------------------------------\n"
     ]
    },
    {
     "name": "stderr",
     "output_type": "stream",
     "text": [
      "/nfs/students/summer-term-2020/project-4/yan/.conda/envs/cnn_project/lib/python3.8/site-packages/pytorch_lightning/utilities/distributed.py:23: UserWarning: The dataloader, val dataloader 0, does not have many workers which may be a bottleneck. Consider increasing the value of the `num_workers` argument` in the `DataLoader` init to improve performance.\n",
      "  warnings.warn(*args, **kwargs)\n"
     ]
    },
    {
     "data": {
      "application/vnd.jupyter.widget-view+json": {
       "model_id": "",
       "version_major": 2,
       "version_minor": 0
      },
      "text/plain": [
       "HBox(children=(FloatProgress(value=1.0, bar_style='info', description='Validation sanity check', layout=Layout…"
      ]
     },
     "metadata": {},
     "output_type": "display_data"
    },
    {
     "name": "stdout",
     "output_type": "stream",
     "text": [
      "Val-Acc=0.03793716656787196\n"
     ]
    },
    {
     "name": "stderr",
     "output_type": "stream",
     "text": [
      "/nfs/students/summer-term-2020/project-4/yan/.conda/envs/cnn_project/lib/python3.8/site-packages/pytorch_lightning/utilities/distributed.py:23: UserWarning: The dataloader, train dataloader, does not have many workers which may be a bottleneck. Consider increasing the value of the `num_workers` argument` in the `DataLoader` init to improve performance.\n",
      "  warnings.warn(*args, **kwargs)\n"
     ]
    },
    {
     "data": {
      "application/vnd.jupyter.widget-view+json": {
       "model_id": "051d0cc828424a5d98dd00207ae4b0d5",
       "version_major": 2,
       "version_minor": 0
      },
      "text/plain": [
       "HBox(children=(FloatProgress(value=1.0, bar_style='info', description='Training', layout=Layout(flex='2'), max…"
      ]
     },
     "metadata": {},
     "output_type": "display_data"
    },
    {
     "data": {
      "application/vnd.jupyter.widget-view+json": {
       "model_id": "",
       "version_major": 2,
       "version_minor": 0
      },
      "text/plain": [
       "HBox(children=(FloatProgress(value=1.0, bar_style='info', description='Validating', layout=Layout(flex='2'), m…"
      ]
     },
     "metadata": {},
     "output_type": "display_data"
    },
    {
     "name": "stdout",
     "output_type": "stream",
     "text": [
      "Val-Acc=0.8126852400711322\n",
      "Train-Acc=0.5288537549407115\n"
     ]
    },
    {
     "data": {
      "application/vnd.jupyter.widget-view+json": {
       "model_id": "",
       "version_major": 2,
       "version_minor": 0
      },
      "text/plain": [
       "HBox(children=(FloatProgress(value=1.0, bar_style='info', description='Validating', layout=Layout(flex='2'), m…"
      ]
     },
     "metadata": {},
     "output_type": "display_data"
    },
    {
     "name": "stdout",
     "output_type": "stream",
     "text": [
      "Val-Acc=0.8239478363959691\n",
      "Train-Acc=0.5537549407114625\n"
     ]
    },
    {
     "data": {
      "application/vnd.jupyter.widget-view+json": {
       "model_id": "",
       "version_major": 2,
       "version_minor": 0
      },
      "text/plain": [
       "HBox(children=(FloatProgress(value=1.0, bar_style='info', description='Validating', layout=Layout(flex='2'), m…"
      ]
     },
     "metadata": {},
     "output_type": "display_data"
    },
    {
     "name": "stdout",
     "output_type": "stream",
     "text": [
      "Val-Acc=0.8446947243627742\n",
      "Train-Acc=0.558695652173913\n"
     ]
    },
    {
     "data": {
      "application/vnd.jupyter.widget-view+json": {
       "model_id": "",
       "version_major": 2,
       "version_minor": 0
      },
      "text/plain": [
       "HBox(children=(FloatProgress(value=1.0, bar_style='info', description='Validating', layout=Layout(flex='2'), m…"
      ]
     },
     "metadata": {},
     "output_type": "display_data"
    },
    {
     "name": "stdout",
     "output_type": "stream",
     "text": [
      "Val-Acc=0.8269116775340841\n",
      "Train-Acc=0.5521739130434783\n"
     ]
    },
    {
     "data": {
      "application/vnd.jupyter.widget-view+json": {
       "model_id": "",
       "version_major": 2,
       "version_minor": 0
      },
      "text/plain": [
       "HBox(children=(FloatProgress(value=1.0, bar_style='info', description='Validating', layout=Layout(flex='2'), m…"
      ]
     },
     "metadata": {},
     "output_type": "display_data"
    },
    {
     "name": "stdout",
     "output_type": "stream",
     "text": [
      "Val-Acc=0.8375815056312982\n",
      "Train-Acc=0.5610671936758893\n"
     ]
    },
    {
     "data": {
      "application/vnd.jupyter.widget-view+json": {
       "model_id": "",
       "version_major": 2,
       "version_minor": 0
      },
      "text/plain": [
       "HBox(children=(FloatProgress(value=1.0, bar_style='info', description='Validating', layout=Layout(flex='2'), m…"
      ]
     },
     "metadata": {},
     "output_type": "display_data"
    },
    {
     "name": "stdout",
     "output_type": "stream",
     "text": [
      "Val-Acc=0.8393598103141672\n",
      "Train-Acc=0.5707509881422925\n"
     ]
    },
    {
     "data": {
      "application/vnd.jupyter.widget-view+json": {
       "model_id": "",
       "version_major": 2,
       "version_minor": 0
      },
      "text/plain": [
       "HBox(children=(FloatProgress(value=1.0, bar_style='info', description='Validating', layout=Layout(flex='2'), m…"
      ]
     },
     "metadata": {},
     "output_type": "display_data"
    },
    {
     "name": "stdout",
     "output_type": "stream",
     "text": [
      "Val-Acc=0.8103141671606402\n",
      "Train-Acc=0.5731225296442688\n"
     ]
    },
    {
     "data": {
      "application/vnd.jupyter.widget-view+json": {
       "model_id": "",
       "version_major": 2,
       "version_minor": 0
      },
      "text/plain": [
       "HBox(children=(FloatProgress(value=1.0, bar_style='info', description='Validating', layout=Layout(flex='2'), m…"
      ]
     },
     "metadata": {},
     "output_type": "display_data"
    },
    {
     "name": "stdout",
     "output_type": "stream",
     "text": [
      "Val-Acc=0.8393598103141672\n",
      "Train-Acc=0.5922924901185771\n"
     ]
    },
    {
     "data": {
      "application/vnd.jupyter.widget-view+json": {
       "model_id": "",
       "version_major": 2,
       "version_minor": 0
      },
      "text/plain": [
       "HBox(children=(FloatProgress(value=1.0, bar_style='info', description='Validating', layout=Layout(flex='2'), m…"
      ]
     },
     "metadata": {},
     "output_type": "display_data"
    },
    {
     "name": "stdout",
     "output_type": "stream",
     "text": [
      "Val-Acc=0.8310610551274452\n",
      "Train-Acc=0.5982213438735178\n"
     ]
    },
    {
     "data": {
      "application/vnd.jupyter.widget-view+json": {
       "model_id": "",
       "version_major": 2,
       "version_minor": 0
      },
      "text/plain": [
       "HBox(children=(FloatProgress(value=1.0, bar_style='info', description='Validating', layout=Layout(flex='2'), m…"
      ]
     },
     "metadata": {},
     "output_type": "display_data"
    },
    {
     "name": "stdout",
     "output_type": "stream",
     "text": [
      "Val-Acc=0.8612922347362182\n",
      "Train-Acc=0.6102766798418973\n",
      "Saved model to \"/nfs/students/summer-term-2020/project-4/SAVED_MODELS/CRNN8k_D2/CRNN8k_D2_attack_L_inf_eps=0.03_iters=2_v54_epoch_10.p\"\n",
      "Saved checkpoint at epoch 10 at \"/nfs/students/summer-term-2020/project-4/SAVED_MODELS/CRNN8k_D2/CRNN8k_D2_attack_L_inf_eps=0.03_iters=2_v54_epoch_10.p\"\n"
     ]
    },
    {
     "data": {
      "application/vnd.jupyter.widget-view+json": {
       "model_id": "",
       "version_major": 2,
       "version_minor": 0
      },
      "text/plain": [
       "HBox(children=(FloatProgress(value=1.0, bar_style='info', description='Validating', layout=Layout(flex='2'), m…"
      ]
     },
     "metadata": {},
     "output_type": "display_data"
    },
    {
     "name": "stdout",
     "output_type": "stream",
     "text": [
      "Val-Acc=0.8541790160047421\n",
      "Train-Acc=0.6181818181818182\n"
     ]
    },
    {
     "data": {
      "application/vnd.jupyter.widget-view+json": {
       "model_id": "",
       "version_major": 2,
       "version_minor": 0
      },
      "text/plain": [
       "HBox(children=(FloatProgress(value=1.0, bar_style='info', description='Validating', layout=Layout(flex='2'), m…"
      ]
     },
     "metadata": {},
     "output_type": "display_data"
    },
    {
     "name": "stdout",
     "output_type": "stream",
     "text": [
      "Val-Acc=0.8737403675163011\n",
      "Train-Acc=0.6249011857707509\n"
     ]
    },
    {
     "data": {
      "application/vnd.jupyter.widget-view+json": {
       "model_id": "",
       "version_major": 2,
       "version_minor": 0
      },
      "text/plain": [
       "HBox(children=(FloatProgress(value=1.0, bar_style='info', description='Validating', layout=Layout(flex='2'), m…"
      ]
     },
     "metadata": {},
     "output_type": "display_data"
    },
    {
     "name": "stdout",
     "output_type": "stream",
     "text": [
      "Val-Acc=0.8375815056312982\n",
      "Train-Acc=0.6298418972332016\n"
     ]
    },
    {
     "data": {
      "application/vnd.jupyter.widget-view+json": {
       "model_id": "",
       "version_major": 2,
       "version_minor": 0
      },
      "text/plain": [
       "HBox(children=(FloatProgress(value=1.0, bar_style='info', description='Validating', layout=Layout(flex='2'), m…"
      ]
     },
     "metadata": {},
     "output_type": "display_data"
    },
    {
     "name": "stdout",
     "output_type": "stream",
     "text": [
      "Val-Acc=0.8358032009484292\n",
      "Train-Acc=0.6229249011857707\n"
     ]
    },
    {
     "data": {
      "application/vnd.jupyter.widget-view+json": {
       "model_id": "",
       "version_major": 2,
       "version_minor": 0
      },
      "text/plain": [
       "HBox(children=(FloatProgress(value=1.0, bar_style='info', description='Validating', layout=Layout(flex='2'), m…"
      ]
     },
     "metadata": {},
     "output_type": "display_data"
    },
    {
     "name": "stdout",
     "output_type": "stream",
     "text": [
      "Val-Acc=0.8488441019561351\n",
      "Train-Acc=0.6274703557312253\n"
     ]
    },
    {
     "data": {
      "application/vnd.jupyter.widget-view+json": {
       "model_id": "",
       "version_major": 2,
       "version_minor": 0
      },
      "text/plain": [
       "HBox(children=(FloatProgress(value=1.0, bar_style='info', description='Validating', layout=Layout(flex='2'), m…"
      ]
     },
     "metadata": {},
     "output_type": "display_data"
    },
    {
     "name": "stdout",
     "output_type": "stream",
     "text": [
      "Val-Acc=0.8630705394190872\n",
      "Train-Acc=0.6393280632411067\n"
     ]
    },
    {
     "data": {
      "application/vnd.jupyter.widget-view+json": {
       "model_id": "",
       "version_major": 2,
       "version_minor": 0
      },
      "text/plain": [
       "HBox(children=(FloatProgress(value=1.0, bar_style='info', description='Validating', layout=Layout(flex='2'), m…"
      ]
     },
     "metadata": {},
     "output_type": "display_data"
    },
    {
     "name": "stdout",
     "output_type": "stream",
     "text": [
      "Val-Acc=0.8606994665085952\n",
      "Train-Acc=0.649802371541502\n"
     ]
    },
    {
     "data": {
      "application/vnd.jupyter.widget-view+json": {
       "model_id": "",
       "version_major": 2,
       "version_minor": 0
      },
      "text/plain": [
       "HBox(children=(FloatProgress(value=1.0, bar_style='info', description='Validating', layout=Layout(flex='2'), m…"
      ]
     },
     "metadata": {},
     "output_type": "display_data"
    },
    {
     "name": "stdout",
     "output_type": "stream",
     "text": [
      "Val-Acc=0.8654416123295792\n",
      "Train-Acc=0.6456521739130435\n"
     ]
    },
    {
     "data": {
      "application/vnd.jupyter.widget-view+json": {
       "model_id": "",
       "version_major": 2,
       "version_minor": 0
      },
      "text/plain": [
       "HBox(children=(FloatProgress(value=1.0, bar_style='info', description='Validating', layout=Layout(flex='2'), m…"
      ]
     },
     "metadata": {},
     "output_type": "display_data"
    },
    {
     "name": "stdout",
     "output_type": "stream",
     "text": [
      "Val-Acc=0.8725548310610551\n",
      "Train-Acc=0.6523715415019763\n"
     ]
    },
    {
     "data": {
      "application/vnd.jupyter.widget-view+json": {
       "model_id": "",
       "version_major": 2,
       "version_minor": 0
      },
      "text/plain": [
       "HBox(children=(FloatProgress(value=1.0, bar_style='info', description='Validating', layout=Layout(flex='2'), m…"
      ]
     },
     "metadata": {},
     "output_type": "display_data"
    },
    {
     "name": "stdout",
     "output_type": "stream",
     "text": [
      "Val-Acc=0.8541790160047421\n",
      "Train-Acc=0.649604743083004\n",
      "Saved model to \"/nfs/students/summer-term-2020/project-4/SAVED_MODELS/CRNN8k_D2/CRNN8k_D2_attack_L_inf_eps=0.03_iters=2_v54_epoch_20.p\"\n",
      "Saved checkpoint at epoch 20 at \"/nfs/students/summer-term-2020/project-4/SAVED_MODELS/CRNN8k_D2/CRNN8k_D2_attack_L_inf_eps=0.03_iters=2_v54_epoch_20.p\"\n"
     ]
    },
    {
     "data": {
      "application/vnd.jupyter.widget-view+json": {
       "model_id": "",
       "version_major": 2,
       "version_minor": 0
      },
      "text/plain": [
       "HBox(children=(FloatProgress(value=1.0, bar_style='info', description='Validating', layout=Layout(flex='2'), m…"
      ]
     },
     "metadata": {},
     "output_type": "display_data"
    },
    {
     "name": "stdout",
     "output_type": "stream",
     "text": [
      "Val-Acc=0.8559573206876111\n",
      "Train-Acc=0.6365612648221344\n"
     ]
    },
    {
     "data": {
      "application/vnd.jupyter.widget-view+json": {
       "model_id": "",
       "version_major": 2,
       "version_minor": 0
      },
      "text/plain": [
       "HBox(children=(FloatProgress(value=1.0, bar_style='info', description='Validating', layout=Layout(flex='2'), m…"
      ]
     },
     "metadata": {},
     "output_type": "display_data"
    },
    {
     "name": "stdout",
     "output_type": "stream",
     "text": [
      "Val-Acc=0.8666271487848252\n",
      "Train-Acc=0.6484189723320158\n"
     ]
    },
    {
     "data": {
      "application/vnd.jupyter.widget-view+json": {
       "model_id": "",
       "version_major": 2,
       "version_minor": 0
      },
      "text/plain": [
       "HBox(children=(FloatProgress(value=1.0, bar_style='info', description='Validating', layout=Layout(flex='2'), m…"
      ]
     },
     "metadata": {},
     "output_type": "display_data"
    },
    {
     "name": "stdout",
     "output_type": "stream",
     "text": [
      "Val-Acc=0.8636633076467102\n",
      "Train-Acc=0.65\n"
     ]
    },
    {
     "data": {
      "application/vnd.jupyter.widget-view+json": {
       "model_id": "",
       "version_major": 2,
       "version_minor": 0
      },
      "text/plain": [
       "HBox(children=(FloatProgress(value=1.0, bar_style='info', description='Validating', layout=Layout(flex='2'), m…"
      ]
     },
     "metadata": {},
     "output_type": "display_data"
    },
    {
     "name": "stdout",
     "output_type": "stream",
     "text": [
      "Val-Acc=0.8595139300533492\n",
      "Train-Acc=0.6476284584980238\n"
     ]
    },
    {
     "data": {
      "application/vnd.jupyter.widget-view+json": {
       "model_id": "",
       "version_major": 2,
       "version_minor": 0
      },
      "text/plain": [
       "HBox(children=(FloatProgress(value=1.0, bar_style='info', description='Validating', layout=Layout(flex='2'), m…"
      ]
     },
     "metadata": {},
     "output_type": "display_data"
    },
    {
     "name": "stdout",
     "output_type": "stream",
     "text": [
      "Val-Acc=0.8547717842323651\n",
      "Train-Acc=0.6539525691699605\n"
     ]
    },
    {
     "data": {
      "application/vnd.jupyter.widget-view+json": {
       "model_id": "",
       "version_major": 2,
       "version_minor": 0
      },
      "text/plain": [
       "HBox(children=(FloatProgress(value=1.0, bar_style='info', description='Validating', layout=Layout(flex='2'), m…"
      ]
     },
     "metadata": {},
     "output_type": "display_data"
    },
    {
     "name": "stdout",
     "output_type": "stream",
     "text": [
      "Val-Acc=0.8660343805572022\n",
      "Train-Acc=0.65\n"
     ]
    },
    {
     "data": {
      "application/vnd.jupyter.widget-view+json": {
       "model_id": "",
       "version_major": 2,
       "version_minor": 0
      },
      "text/plain": [
       "HBox(children=(FloatProgress(value=1.0, bar_style='info', description='Validating', layout=Layout(flex='2'), m…"
      ]
     },
     "metadata": {},
     "output_type": "display_data"
    },
    {
     "name": "stdout",
     "output_type": "stream",
     "text": [
      "Val-Acc=0.8713692946058091\n",
      "Train-Acc=0.6511857707509882\n"
     ]
    },
    {
     "data": {
      "application/vnd.jupyter.widget-view+json": {
       "model_id": "",
       "version_major": 2,
       "version_minor": 0
      },
      "text/plain": [
       "HBox(children=(FloatProgress(value=1.0, bar_style='info', description='Validating', layout=Layout(flex='2'), m…"
      ]
     },
     "metadata": {},
     "output_type": "display_data"
    },
    {
     "name": "stdout",
     "output_type": "stream",
     "text": [
      "Val-Acc=0.8565500889152341\n",
      "Train-Acc=0.6454545454545455\n"
     ]
    },
    {
     "data": {
      "application/vnd.jupyter.widget-view+json": {
       "model_id": "",
       "version_major": 2,
       "version_minor": 0
      },
      "text/plain": [
       "HBox(children=(FloatProgress(value=1.0, bar_style='info', description='Validating', layout=Layout(flex='2'), m…"
      ]
     },
     "metadata": {},
     "output_type": "display_data"
    },
    {
     "name": "stdout",
     "output_type": "stream",
     "text": [
      "Val-Acc=0.8636633076467102\n",
      "Train-Acc=0.6545454545454545\n"
     ]
    },
    {
     "data": {
      "application/vnd.jupyter.widget-view+json": {
       "model_id": "",
       "version_major": 2,
       "version_minor": 0
      },
      "text/plain": [
       "HBox(children=(FloatProgress(value=1.0, bar_style='info', description='Validating', layout=Layout(flex='2'), m…"
      ]
     },
     "metadata": {},
     "output_type": "display_data"
    },
    {
     "name": "stdout",
     "output_type": "stream",
     "text": [
      "Val-Acc=0.8512151748666271\n",
      "Train-Acc=0.6515810276679842\n",
      "Saved model to \"/nfs/students/summer-term-2020/project-4/SAVED_MODELS/CRNN8k_D2/CRNN8k_D2_attack_L_inf_eps=0.03_iters=2_v54_epoch_30.p\"\n",
      "Saved checkpoint at epoch 30 at \"/nfs/students/summer-term-2020/project-4/SAVED_MODELS/CRNN8k_D2/CRNN8k_D2_attack_L_inf_eps=0.03_iters=2_v54_epoch_30.p\"\n"
     ]
    },
    {
     "data": {
      "application/vnd.jupyter.widget-view+json": {
       "model_id": "",
       "version_major": 2,
       "version_minor": 0
      },
      "text/plain": [
       "HBox(children=(FloatProgress(value=1.0, bar_style='info', description='Validating', layout=Layout(flex='2'), m…"
      ]
     },
     "metadata": {},
     "output_type": "display_data"
    },
    {
     "name": "stdout",
     "output_type": "stream",
     "text": [
      "Val-Acc=0.8761114404267931\n",
      "Train-Acc=0.6490118577075099\n"
     ]
    },
    {
     "data": {
      "application/vnd.jupyter.widget-view+json": {
       "model_id": "",
       "version_major": 2,
       "version_minor": 0
      },
      "text/plain": [
       "HBox(children=(FloatProgress(value=1.0, bar_style='info', description='Validating', layout=Layout(flex='2'), m…"
      ]
     },
     "metadata": {},
     "output_type": "display_data"
    },
    {
     "name": "stdout",
     "output_type": "stream",
     "text": [
      "Val-Acc=0.8654416123295792\n",
      "Train-Acc=0.6492094861660079\n"
     ]
    },
    {
     "data": {
      "application/vnd.jupyter.widget-view+json": {
       "model_id": "",
       "version_major": 2,
       "version_minor": 0
      },
      "text/plain": [
       "HBox(children=(FloatProgress(value=1.0, bar_style='info', description='Validating', layout=Layout(flex='2'), m…"
      ]
     },
     "metadata": {},
     "output_type": "display_data"
    },
    {
     "name": "stdout",
     "output_type": "stream",
     "text": [
      "Val-Acc=0.8725548310610551\n",
      "Train-Acc=0.6480237154150198\n"
     ]
    },
    {
     "data": {
      "application/vnd.jupyter.widget-view+json": {
       "model_id": "",
       "version_major": 2,
       "version_minor": 0
      },
      "text/plain": [
       "HBox(children=(FloatProgress(value=1.0, bar_style='info', description='Validating', layout=Layout(flex='2'), m…"
      ]
     },
     "metadata": {},
     "output_type": "display_data"
    },
    {
     "name": "stdout",
     "output_type": "stream",
     "text": [
      "Val-Acc=0.8731475992886781\n",
      "Train-Acc=0.6446640316205534\n"
     ]
    },
    {
     "data": {
      "application/vnd.jupyter.widget-view+json": {
       "model_id": "",
       "version_major": 2,
       "version_minor": 0
      },
      "text/plain": [
       "HBox(children=(FloatProgress(value=1.0, bar_style='info', description='Validating', layout=Layout(flex='2'), m…"
      ]
     },
     "metadata": {},
     "output_type": "display_data"
    },
    {
     "name": "stdout",
     "output_type": "stream",
     "text": [
      "Val-Acc=0.8684054534676942\n",
      "Train-Acc=0.6474308300395257\n"
     ]
    },
    {
     "data": {
      "application/vnd.jupyter.widget-view+json": {
       "model_id": "",
       "version_major": 2,
       "version_minor": 0
      },
      "text/plain": [
       "HBox(children=(FloatProgress(value=1.0, bar_style='info', description='Validating', layout=Layout(flex='2'), m…"
      ]
     },
     "metadata": {},
     "output_type": "display_data"
    },
    {
     "name": "stdout",
     "output_type": "stream",
     "text": [
      "Val-Acc=0.8346176644931832\n",
      "Train-Acc=0.6535573122529644\n"
     ]
    },
    {
     "data": {
      "application/vnd.jupyter.widget-view+json": {
       "model_id": "",
       "version_major": 2,
       "version_minor": 0
      },
      "text/plain": [
       "HBox(children=(FloatProgress(value=1.0, bar_style='info', description='Validating', layout=Layout(flex='2'), m…"
      ]
     },
     "metadata": {},
     "output_type": "display_data"
    },
    {
     "name": "stdout",
     "output_type": "stream",
     "text": [
      "Val-Acc=0.8749259039715471\n",
      "Train-Acc=0.6480237154150198\n"
     ]
    },
    {
     "data": {
      "application/vnd.jupyter.widget-view+json": {
       "model_id": "",
       "version_major": 2,
       "version_minor": 0
      },
      "text/plain": [
       "HBox(children=(FloatProgress(value=1.0, bar_style='info', description='Validating', layout=Layout(flex='2'), m…"
      ]
     },
     "metadata": {},
     "output_type": "display_data"
    },
    {
     "name": "stdout",
     "output_type": "stream",
     "text": [
      "Val-Acc=0.8684054534676942\n",
      "Train-Acc=0.6411067193675889\n"
     ]
    },
    {
     "data": {
      "application/vnd.jupyter.widget-view+json": {
       "model_id": "",
       "version_major": 2,
       "version_minor": 0
      },
      "text/plain": [
       "HBox(children=(FloatProgress(value=1.0, bar_style='info', description='Validating', layout=Layout(flex='2'), m…"
      ]
     },
     "metadata": {},
     "output_type": "display_data"
    },
    {
     "name": "stdout",
     "output_type": "stream",
     "text": [
      "Val-Acc=0.8719620628334321\n",
      "Train-Acc=0.6472332015810277\n"
     ]
    },
    {
     "data": {
      "application/vnd.jupyter.widget-view+json": {
       "model_id": "",
       "version_major": 2,
       "version_minor": 0
      },
      "text/plain": [
       "HBox(children=(FloatProgress(value=1.0, bar_style='info', description='Validating', layout=Layout(flex='2'), m…"
      ]
     },
     "metadata": {},
     "output_type": "display_data"
    },
    {
     "name": "stdout",
     "output_type": "stream",
     "text": [
      "Val-Acc=0.8470657972732661\n",
      "Train-Acc=0.649802371541502\n",
      "Saved model to \"/nfs/students/summer-term-2020/project-4/SAVED_MODELS/CRNN8k_D2/CRNN8k_D2_attack_L_inf_eps=0.03_iters=2_v54_epoch_40.p\"\n",
      "Saved checkpoint at epoch 40 at \"/nfs/students/summer-term-2020/project-4/SAVED_MODELS/CRNN8k_D2/CRNN8k_D2_attack_L_inf_eps=0.03_iters=2_v54_epoch_40.p\"\n"
     ]
    },
    {
     "data": {
      "application/vnd.jupyter.widget-view+json": {
       "model_id": "",
       "version_major": 2,
       "version_minor": 0
      },
      "text/plain": [
       "HBox(children=(FloatProgress(value=1.0, bar_style='info', description='Validating', layout=Layout(flex='2'), m…"
      ]
     },
     "metadata": {},
     "output_type": "display_data"
    },
    {
     "name": "stdout",
     "output_type": "stream",
     "text": [
      "Val-Acc=0.8624777711914642\n",
      "Train-Acc=0.6480237154150198\n"
     ]
    },
    {
     "data": {
      "application/vnd.jupyter.widget-view+json": {
       "model_id": "",
       "version_major": 2,
       "version_minor": 0
      },
      "text/plain": [
       "HBox(children=(FloatProgress(value=1.0, bar_style='info', description='Validating', layout=Layout(flex='2'), m…"
      ]
     },
     "metadata": {},
     "output_type": "display_data"
    },
    {
     "name": "stdout",
     "output_type": "stream",
     "text": [
      "Val-Acc=0.8689982216953172\n",
      "Train-Acc=0.6565217391304348\n"
     ]
    },
    {
     "data": {
      "application/vnd.jupyter.widget-view+json": {
       "model_id": "",
       "version_major": 2,
       "version_minor": 0
      },
      "text/plain": [
       "HBox(children=(FloatProgress(value=1.0, bar_style='info', description='Validating', layout=Layout(flex='2'), m…"
      ]
     },
     "metadata": {},
     "output_type": "display_data"
    },
    {
     "name": "stdout",
     "output_type": "stream",
     "text": [
      "Val-Acc=0.8512151748666271\n",
      "Train-Acc=0.6470355731225297\n"
     ]
    },
    {
     "data": {
      "application/vnd.jupyter.widget-view+json": {
       "model_id": "",
       "version_major": 2,
       "version_minor": 0
      },
      "text/plain": [
       "HBox(children=(FloatProgress(value=1.0, bar_style='info', description='Validating', layout=Layout(flex='2'), m…"
      ]
     },
     "metadata": {},
     "output_type": "display_data"
    },
    {
     "name": "stdout",
     "output_type": "stream",
     "text": [
      "Val-Acc=0.8482513337285121\n",
      "Train-Acc=0.6529644268774704\n"
     ]
    },
    {
     "data": {
      "application/vnd.jupyter.widget-view+json": {
       "model_id": "",
       "version_major": 2,
       "version_minor": 0
      },
      "text/plain": [
       "HBox(children=(FloatProgress(value=1.0, bar_style='info', description='Validating', layout=Layout(flex='2'), m…"
      ]
     },
     "metadata": {},
     "output_type": "display_data"
    },
    {
     "name": "stdout",
     "output_type": "stream",
     "text": [
      "Val-Acc=0.8743331357439241\n",
      "Train-Acc=0.6444664031620554\n"
     ]
    },
    {
     "data": {
      "application/vnd.jupyter.widget-view+json": {
       "model_id": "",
       "version_major": 2,
       "version_minor": 0
      },
      "text/plain": [
       "HBox(children=(FloatProgress(value=1.0, bar_style='info', description='Validating', layout=Layout(flex='2'), m…"
      ]
     },
     "metadata": {},
     "output_type": "display_data"
    },
    {
     "name": "stdout",
     "output_type": "stream",
     "text": [
      "Val-Acc=0.8458802608180201\n",
      "Train-Acc=0.6470355731225297\n"
     ]
    },
    {
     "data": {
      "application/vnd.jupyter.widget-view+json": {
       "model_id": "",
       "version_major": 2,
       "version_minor": 0
      },
      "text/plain": [
       "HBox(children=(FloatProgress(value=1.0, bar_style='info', description='Validating', layout=Layout(flex='2'), m…"
      ]
     },
     "metadata": {},
     "output_type": "display_data"
    },
    {
     "name": "stdout",
     "output_type": "stream",
     "text": [
      "Val-Acc=0.8654416123295792\n",
      "Train-Acc=0.6438735177865612\n"
     ]
    },
    {
     "data": {
      "application/vnd.jupyter.widget-view+json": {
       "model_id": "",
       "version_major": 2,
       "version_minor": 0
      },
      "text/plain": [
       "HBox(children=(FloatProgress(value=1.0, bar_style='info', description='Validating', layout=Layout(flex='2'), m…"
      ]
     },
     "metadata": {},
     "output_type": "display_data"
    },
    {
     "name": "stdout",
     "output_type": "stream",
     "text": [
      "Val-Acc=0.8441019561351512\n",
      "Train-Acc=0.6448616600790514\n"
     ]
    },
    {
     "data": {
      "application/vnd.jupyter.widget-view+json": {
       "model_id": "",
       "version_major": 2,
       "version_minor": 0
      },
      "text/plain": [
       "HBox(children=(FloatProgress(value=1.0, bar_style='info', description='Validating', layout=Layout(flex='2'), m…"
      ]
     },
     "metadata": {},
     "output_type": "display_data"
    },
    {
     "name": "stdout",
     "output_type": "stream",
     "text": [
      "Val-Acc=0.8642560758743332\n",
      "Train-Acc=0.6486166007905139\n"
     ]
    },
    {
     "data": {
      "application/vnd.jupyter.widget-view+json": {
       "model_id": "",
       "version_major": 2,
       "version_minor": 0
      },
      "text/plain": [
       "HBox(children=(FloatProgress(value=1.0, bar_style='info', description='Validating', layout=Layout(flex='2'), m…"
      ]
     },
     "metadata": {},
     "output_type": "display_data"
    },
    {
     "name": "stdout",
     "output_type": "stream",
     "text": [
      "Val-Acc=0.8429164196799052\n",
      "Train-Acc=0.6470355731225297\n"
     ]
    },
    {
     "name": "stderr",
     "output_type": "stream",
     "text": [
      "GPU available: True, used: True\n",
      "No environment variable for node rank defined. Set as 0.\n",
      "CUDA_VISIBLE_DEVICES: [0]\n",
      "/nfs/students/summer-term-2020/project-4/yan/.conda/envs/cnn_project/lib/python3.8/site-packages/pytorch_lightning/utilities/distributed.py:23: RuntimeWarning: You have defined a `val_dataloader()` and have defined a `validation_step()`, you may also want to define `validation_epoch_end()` for accumulating stats.\n",
      "  warnings.warn(*args, **kwargs)\n",
      "Set SLURM handle signals.\n",
      "\n",
      "   | Name                      | Type                  | Params\n",
      "----------------------------------------------------------------\n",
      "0  | model                     | CRNN8k_D2             | 5 M   \n",
      "1  | model.spec                | MelspectrogramStretch | 0     \n",
      "2  | model.spec.spectrogram    | Spectrogram           | 0     \n",
      "3  | model.spec.mel_scale      | MelScale              | 0     \n",
      "4  | model.spec.stft           | Spectrogram           | 0     \n",
      "5  | model.spec.random_stretch | RandomTimeStretch     | 0     \n",
      "6  | model.spec.complex_norm   | ComplexNorm           | 0     \n",
      "7  | model.spec.norm           | SpecNormalization     | 0     \n",
      "8  | model.convs               | Sequential            | 213 K \n",
      "9  | model.convs.0             | Conv2d                | 320   \n",
      "10 | model.convs.1             | BatchNorm2d           | 64    \n",
      "11 | model.convs.2             | ELU                   | 0     \n",
      "12 | model.convs.3             | Conv2d                | 9 K   \n",
      "13 | model.convs.4             | BatchNorm2d           | 64    \n",
      "14 | model.convs.5             | ELU                   | 0     \n",
      "15 | model.convs.6             | MaxPool2d             | 0     \n",
      "16 | model.convs.7             | Dropout               | 0     \n",
      "17 | model.convs.8             | Conv2d                | 18 K  \n",
      "18 | model.convs.9             | BatchNorm2d           | 128   \n",
      "19 | model.convs.10            | ELU                   | 0     \n",
      "20 | model.convs.11            | Conv2d                | 36 K  \n",
      "21 | model.convs.12            | BatchNorm2d           | 128   \n",
      "22 | model.convs.13            | ELU                   | 0     \n",
      "23 | model.convs.14            | MaxPool2d             | 0     \n",
      "24 | model.convs.15            | Dropout               | 0     \n",
      "25 | model.convs.16            | Conv2d                | 73 K  \n",
      "26 | model.convs.17            | BatchNorm2d           | 256   \n",
      "27 | model.convs.18            | ELU                   | 0     \n",
      "28 | model.convs.19            | MaxPool2d             | 0     \n",
      "29 | model.convs.20            | Dropout               | 0     \n",
      "30 | model.convs.21            | Conv2d                | 73 K  \n",
      "31 | model.convs.22            | BatchNorm2d           | 128   \n",
      "32 | model.convs.23            | ELU                   | 0     \n",
      "33 | model.convs.24            | MaxPool2d             | 0     \n",
      "34 | model.convs.25            | Dropout               | 0     \n",
      "35 | model.LSTMCell            | LSTMCell              | 4 M   \n",
      "36 | model.dense               | Sequential            | 3 K   \n",
      "37 | model.dense.0             | Dropout               | 0     \n",
      "38 | model.dense.1             | BatchNorm1d           | 1 K   \n",
      "39 | model.dense.2             | Linear                | 1 K   \n"
     ]
    },
    {
     "name": "stdout",
     "output_type": "stream",
     "text": [
      "\n",
      "Saved model to \"/nfs/students/summer-term-2020/project-4/SAVED_MODELS/CRNN8k_D2/CRNN8k_D2_attack_L_inf_eps=0.03_iters=2_v54.p\"\n",
      "============================================================\n",
      "Training Models with Attack ProjectedGradientDescent (4 of 4)\n",
      "============================================================\n",
      "------------------------------------------------------------\n",
      "Trainig model 1/1\n",
      "------------------------------------------------------------\n"
     ]
    },
    {
     "name": "stderr",
     "output_type": "stream",
     "text": [
      "/nfs/students/summer-term-2020/project-4/yan/.conda/envs/cnn_project/lib/python3.8/site-packages/pytorch_lightning/utilities/distributed.py:23: UserWarning: The dataloader, val dataloader 0, does not have many workers which may be a bottleneck. Consider increasing the value of the `num_workers` argument` in the `DataLoader` init to improve performance.\n",
      "  warnings.warn(*args, **kwargs)\n"
     ]
    },
    {
     "data": {
      "application/vnd.jupyter.widget-view+json": {
       "model_id": "",
       "version_major": 2,
       "version_minor": 0
      },
      "text/plain": [
       "HBox(children=(FloatProgress(value=1.0, bar_style='info', description='Validation sanity check', layout=Layout…"
      ]
     },
     "metadata": {},
     "output_type": "display_data"
    },
    {
     "name": "stdout",
     "output_type": "stream",
     "text": [
      "Val-Acc=0.03852993479549496\n"
     ]
    },
    {
     "name": "stderr",
     "output_type": "stream",
     "text": [
      "/nfs/students/summer-term-2020/project-4/yan/.conda/envs/cnn_project/lib/python3.8/site-packages/pytorch_lightning/utilities/distributed.py:23: UserWarning: The dataloader, train dataloader, does not have many workers which may be a bottleneck. Consider increasing the value of the `num_workers` argument` in the `DataLoader` init to improve performance.\n",
      "  warnings.warn(*args, **kwargs)\n"
     ]
    },
    {
     "data": {
      "application/vnd.jupyter.widget-view+json": {
       "model_id": "10b97a89d9a24c95a5bae9676ba393ff",
       "version_major": 2,
       "version_minor": 0
      },
      "text/plain": [
       "HBox(children=(FloatProgress(value=1.0, bar_style='info', description='Training', layout=Layout(flex='2'), max…"
      ]
     },
     "metadata": {},
     "output_type": "display_data"
    },
    {
     "data": {
      "application/vnd.jupyter.widget-view+json": {
       "model_id": "",
       "version_major": 2,
       "version_minor": 0
      },
      "text/plain": [
       "HBox(children=(FloatProgress(value=1.0, bar_style='info', description='Validating', layout=Layout(flex='2'), m…"
      ]
     },
     "metadata": {},
     "output_type": "display_data"
    },
    {
     "name": "stdout",
     "output_type": "stream",
     "text": [
      "Val-Acc=0.8097213989330172\n",
      "Train-Acc=0.4490118577075099\n"
     ]
    },
    {
     "data": {
      "application/vnd.jupyter.widget-view+json": {
       "model_id": "",
       "version_major": 2,
       "version_minor": 0
      },
      "text/plain": [
       "HBox(children=(FloatProgress(value=1.0, bar_style='info', description='Validating', layout=Layout(flex='2'), m…"
      ]
     },
     "metadata": {},
     "output_type": "display_data"
    },
    {
     "name": "stdout",
     "output_type": "stream",
     "text": [
      "Val-Acc=0.8334321280379372\n",
      "Train-Acc=0.43399209486166007\n"
     ]
    },
    {
     "data": {
      "application/vnd.jupyter.widget-view+json": {
       "model_id": "",
       "version_major": 2,
       "version_minor": 0
      },
      "text/plain": [
       "HBox(children=(FloatProgress(value=1.0, bar_style='info', description='Validating', layout=Layout(flex='2'), m…"
      ]
     },
     "metadata": {},
     "output_type": "display_data"
    },
    {
     "name": "stdout",
     "output_type": "stream",
     "text": [
      "Val-Acc=0.8067575577949022\n",
      "Train-Acc=0.45118577075098815\n"
     ]
    },
    {
     "data": {
      "application/vnd.jupyter.widget-view+json": {
       "model_id": "",
       "version_major": 2,
       "version_minor": 0
      },
      "text/plain": [
       "HBox(children=(FloatProgress(value=1.0, bar_style='info', description='Validating', layout=Layout(flex='2'), m…"
      ]
     },
     "metadata": {},
     "output_type": "display_data"
    },
    {
     "name": "stdout",
     "output_type": "stream",
     "text": [
      "Val-Acc=0.8334321280379372\n",
      "Train-Acc=0.45948616600790515\n"
     ]
    },
    {
     "data": {
      "application/vnd.jupyter.widget-view+json": {
       "model_id": "",
       "version_major": 2,
       "version_minor": 0
      },
      "text/plain": [
       "HBox(children=(FloatProgress(value=1.0, bar_style='info', description='Validating', layout=Layout(flex='2'), m…"
      ]
     },
     "metadata": {},
     "output_type": "display_data"
    },
    {
     "name": "stdout",
     "output_type": "stream",
     "text": [
      "Val-Acc=0.8441019561351512\n",
      "Train-Acc=0.4824110671936759\n"
     ]
    },
    {
     "data": {
      "application/vnd.jupyter.widget-view+json": {
       "model_id": "",
       "version_major": 2,
       "version_minor": 0
      },
      "text/plain": [
       "HBox(children=(FloatProgress(value=1.0, bar_style='info', description='Validating', layout=Layout(flex='2'), m…"
      ]
     },
     "metadata": {},
     "output_type": "display_data"
    },
    {
     "name": "stdout",
     "output_type": "stream",
     "text": [
      "Val-Acc=0.8233550681683461\n",
      "Train-Acc=0.4849802371541502\n"
     ]
    },
    {
     "data": {
      "application/vnd.jupyter.widget-view+json": {
       "model_id": "",
       "version_major": 2,
       "version_minor": 0
      },
      "text/plain": [
       "HBox(children=(FloatProgress(value=1.0, bar_style='info', description='Validating', layout=Layout(flex='2'), m…"
      ]
     },
     "metadata": {},
     "output_type": "display_data"
    },
    {
     "name": "stdout",
     "output_type": "stream",
     "text": [
      "Val-Acc=0.8512151748666271\n",
      "Train-Acc=0.4984189723320158\n"
     ]
    },
    {
     "data": {
      "application/vnd.jupyter.widget-view+json": {
       "model_id": "",
       "version_major": 2,
       "version_minor": 0
      },
      "text/plain": [
       "HBox(children=(FloatProgress(value=1.0, bar_style='info', description='Validating', layout=Layout(flex='2'), m…"
      ]
     },
     "metadata": {},
     "output_type": "display_data"
    },
    {
     "name": "stdout",
     "output_type": "stream",
     "text": [
      "Val-Acc=0.8464730290456431\n",
      "Train-Acc=0.49703557312252966\n"
     ]
    },
    {
     "data": {
      "application/vnd.jupyter.widget-view+json": {
       "model_id": "",
       "version_major": 2,
       "version_minor": 0
      },
      "text/plain": [
       "HBox(children=(FloatProgress(value=1.0, bar_style='info', description='Validating', layout=Layout(flex='2'), m…"
      ]
     },
     "metadata": {},
     "output_type": "display_data"
    },
    {
     "name": "stdout",
     "output_type": "stream",
     "text": [
      "Val-Acc=0.8120924718435092\n",
      "Train-Acc=0.5092885375494071\n"
     ]
    },
    {
     "data": {
      "application/vnd.jupyter.widget-view+json": {
       "model_id": "",
       "version_major": 2,
       "version_minor": 0
      },
      "text/plain": [
       "HBox(children=(FloatProgress(value=1.0, bar_style='info', description='Validating', layout=Layout(flex='2'), m…"
      ]
     },
     "metadata": {},
     "output_type": "display_data"
    },
    {
     "name": "stdout",
     "output_type": "stream",
     "text": [
      "Val-Acc=0.8589211618257261\n",
      "Train-Acc=0.5179841897233202\n",
      "Saved model to \"/nfs/students/summer-term-2020/project-4/SAVED_MODELS/CRNN8k_D2/CRNN8k_D2_attack_L_inf_eps=0.05_iters=2_v55_epoch_10.p\"\n",
      "Saved checkpoint at epoch 10 at \"/nfs/students/summer-term-2020/project-4/SAVED_MODELS/CRNN8k_D2/CRNN8k_D2_attack_L_inf_eps=0.05_iters=2_v55_epoch_10.p\"\n"
     ]
    },
    {
     "data": {
      "application/vnd.jupyter.widget-view+json": {
       "model_id": "",
       "version_major": 2,
       "version_minor": 0
      },
      "text/plain": [
       "HBox(children=(FloatProgress(value=1.0, bar_style='info', description='Validating', layout=Layout(flex='2'), m…"
      ]
     },
     "metadata": {},
     "output_type": "display_data"
    },
    {
     "name": "stdout",
     "output_type": "stream",
     "text": [
      "Val-Acc=0.8446947243627742\n",
      "Train-Acc=0.5296442687747036\n"
     ]
    },
    {
     "data": {
      "application/vnd.jupyter.widget-view+json": {
       "model_id": "",
       "version_major": 2,
       "version_minor": 0
      },
      "text/plain": [
       "HBox(children=(FloatProgress(value=1.0, bar_style='info', description='Validating', layout=Layout(flex='2'), m…"
      ]
     },
     "metadata": {},
     "output_type": "display_data"
    },
    {
     "name": "stdout",
     "output_type": "stream",
     "text": [
      "Val-Acc=0.8583283935981031\n",
      "Train-Acc=0.5391304347826087\n"
     ]
    },
    {
     "data": {
      "application/vnd.jupyter.widget-view+json": {
       "model_id": "",
       "version_major": 2,
       "version_minor": 0
      },
      "text/plain": [
       "HBox(children=(FloatProgress(value=1.0, bar_style='info', description='Validating', layout=Layout(flex='2'), m…"
      ]
     },
     "metadata": {},
     "output_type": "display_data"
    },
    {
     "name": "stdout",
     "output_type": "stream",
     "text": [
      "Val-Acc=0.8630705394190872\n",
      "Train-Acc=0.5612648221343873\n"
     ]
    },
    {
     "data": {
      "application/vnd.jupyter.widget-view+json": {
       "model_id": "",
       "version_major": 2,
       "version_minor": 0
      },
      "text/plain": [
       "HBox(children=(FloatProgress(value=1.0, bar_style='info', description='Validating', layout=Layout(flex='2'), m…"
      ]
     },
     "metadata": {},
     "output_type": "display_data"
    },
    {
     "name": "stdout",
     "output_type": "stream",
     "text": [
      "Val-Acc=0.8452874925903971\n",
      "Train-Acc=0.5697628458498024\n"
     ]
    },
    {
     "data": {
      "application/vnd.jupyter.widget-view+json": {
       "model_id": "",
       "version_major": 2,
       "version_minor": 0
      },
      "text/plain": [
       "HBox(children=(FloatProgress(value=1.0, bar_style='info', description='Validating', layout=Layout(flex='2'), m…"
      ]
     },
     "metadata": {},
     "output_type": "display_data"
    },
    {
     "name": "stdout",
     "output_type": "stream",
     "text": [
      "Val-Acc=0.8369887374036752\n",
      "Train-Acc=0.5814229249011857\n"
     ]
    },
    {
     "data": {
      "application/vnd.jupyter.widget-view+json": {
       "model_id": "",
       "version_major": 2,
       "version_minor": 0
      },
      "text/plain": [
       "HBox(children=(FloatProgress(value=1.0, bar_style='info', description='Validating', layout=Layout(flex='2'), m…"
      ]
     },
     "metadata": {},
     "output_type": "display_data"
    },
    {
     "name": "stdout",
     "output_type": "stream",
     "text": [
      "Val-Acc=0.8304682868998222\n",
      "Train-Acc=0.5883399209486166\n"
     ]
    },
    {
     "data": {
      "application/vnd.jupyter.widget-view+json": {
       "model_id": "",
       "version_major": 2,
       "version_minor": 0
      },
      "text/plain": [
       "HBox(children=(FloatProgress(value=1.0, bar_style='info', description='Validating', layout=Layout(flex='2'), m…"
      ]
     },
     "metadata": {},
     "output_type": "display_data"
    },
    {
     "name": "stdout",
     "output_type": "stream",
     "text": [
      "Val-Acc=0.8624777711914642\n",
      "Train-Acc=0.5800395256916996\n"
     ]
    },
    {
     "data": {
      "application/vnd.jupyter.widget-view+json": {
       "model_id": "",
       "version_major": 2,
       "version_minor": 0
      },
      "text/plain": [
       "HBox(children=(FloatProgress(value=1.0, bar_style='info', description='Validating', layout=Layout(flex='2'), m…"
      ]
     },
     "metadata": {},
     "output_type": "display_data"
    },
    {
     "name": "stdout",
     "output_type": "stream",
     "text": [
      "Val-Acc=0.8553645524599881\n",
      "Train-Acc=0.5992094861660079\n"
     ]
    },
    {
     "data": {
      "application/vnd.jupyter.widget-view+json": {
       "model_id": "",
       "version_major": 2,
       "version_minor": 0
      },
      "text/plain": [
       "HBox(children=(FloatProgress(value=1.0, bar_style='info', description='Validating', layout=Layout(flex='2'), m…"
      ]
     },
     "metadata": {},
     "output_type": "display_data"
    },
    {
     "name": "stdout",
     "output_type": "stream",
     "text": [
      "Val-Acc=0.8506224066390041\n",
      "Train-Acc=0.5883399209486166\n"
     ]
    },
    {
     "data": {
      "application/vnd.jupyter.widget-view+json": {
       "model_id": "",
       "version_major": 2,
       "version_minor": 0
      },
      "text/plain": [
       "HBox(children=(FloatProgress(value=1.0, bar_style='info', description='Validating', layout=Layout(flex='2'), m…"
      ]
     },
     "metadata": {},
     "output_type": "display_data"
    },
    {
     "name": "stdout",
     "output_type": "stream",
     "text": [
      "Val-Acc=0.8358032009484292\n",
      "Train-Acc=0.5982213438735178\n",
      "Saved model to \"/nfs/students/summer-term-2020/project-4/SAVED_MODELS/CRNN8k_D2/CRNN8k_D2_attack_L_inf_eps=0.05_iters=2_v55_epoch_20.p\"\n",
      "Saved checkpoint at epoch 20 at \"/nfs/students/summer-term-2020/project-4/SAVED_MODELS/CRNN8k_D2/CRNN8k_D2_attack_L_inf_eps=0.05_iters=2_v55_epoch_20.p\"\n"
     ]
    },
    {
     "data": {
      "application/vnd.jupyter.widget-view+json": {
       "model_id": "",
       "version_major": 2,
       "version_minor": 0
      },
      "text/plain": [
       "HBox(children=(FloatProgress(value=1.0, bar_style='info', description='Validating', layout=Layout(flex='2'), m…"
      ]
     },
     "metadata": {},
     "output_type": "display_data"
    },
    {
     "name": "stdout",
     "output_type": "stream",
     "text": [
      "Val-Acc=0.8494368701837581\n",
      "Train-Acc=0.5940711462450593\n"
     ]
    },
    {
     "data": {
      "application/vnd.jupyter.widget-view+json": {
       "model_id": "",
       "version_major": 2,
       "version_minor": 0
      },
      "text/plain": [
       "HBox(children=(FloatProgress(value=1.0, bar_style='info', description='Validating', layout=Layout(flex='2'), m…"
      ]
     },
     "metadata": {},
     "output_type": "display_data"
    },
    {
     "name": "stdout",
     "output_type": "stream",
     "text": [
      "Val-Acc=0.8672199170124482\n",
      "Train-Acc=0.5936758893280633\n"
     ]
    },
    {
     "data": {
      "application/vnd.jupyter.widget-view+json": {
       "model_id": "",
       "version_major": 2,
       "version_minor": 0
      },
      "text/plain": [
       "HBox(children=(FloatProgress(value=1.0, bar_style='info', description='Validating', layout=Layout(flex='2'), m…"
      ]
     },
     "metadata": {},
     "output_type": "display_data"
    },
    {
     "name": "stdout",
     "output_type": "stream",
     "text": [
      "Val-Acc=0.8227622999407231\n",
      "Train-Acc=0.6017786561264822\n"
     ]
    },
    {
     "data": {
      "application/vnd.jupyter.widget-view+json": {
       "model_id": "",
       "version_major": 2,
       "version_minor": 0
      },
      "text/plain": [
       "HBox(children=(FloatProgress(value=1.0, bar_style='info', description='Validating', layout=Layout(flex='2'), m…"
      ]
     },
     "metadata": {},
     "output_type": "display_data"
    },
    {
     "name": "stdout",
     "output_type": "stream",
     "text": [
      "Val-Acc=0.8689982216953172\n",
      "Train-Acc=0.5924901185770751\n"
     ]
    },
    {
     "data": {
      "application/vnd.jupyter.widget-view+json": {
       "model_id": "",
       "version_major": 2,
       "version_minor": 0
      },
      "text/plain": [
       "HBox(children=(FloatProgress(value=1.0, bar_style='info', description='Validating', layout=Layout(flex='2'), m…"
      ]
     },
     "metadata": {},
     "output_type": "display_data"
    },
    {
     "name": "stdout",
     "output_type": "stream",
     "text": [
      "Val-Acc=0.8559573206876111\n",
      "Train-Acc=0.6025691699604743\n"
     ]
    },
    {
     "data": {
      "application/vnd.jupyter.widget-view+json": {
       "model_id": "",
       "version_major": 2,
       "version_minor": 0
      },
      "text/plain": [
       "HBox(children=(FloatProgress(value=1.0, bar_style='info', description='Validating', layout=Layout(flex='2'), m…"
      ]
     },
     "metadata": {},
     "output_type": "display_data"
    },
    {
     "name": "stdout",
     "output_type": "stream",
     "text": [
      "Val-Acc=0.8707765263781861\n",
      "Train-Acc=0.591699604743083\n"
     ]
    },
    {
     "data": {
      "application/vnd.jupyter.widget-view+json": {
       "model_id": "",
       "version_major": 2,
       "version_minor": 0
      },
      "text/plain": [
       "HBox(children=(FloatProgress(value=1.0, bar_style='info', description='Validating', layout=Layout(flex='2'), m…"
      ]
     },
     "metadata": {},
     "output_type": "display_data"
    },
    {
     "name": "stdout",
     "output_type": "stream",
     "text": [
      "Val-Acc=0.8441019561351512\n",
      "Train-Acc=0.6037549407114624\n"
     ]
    },
    {
     "data": {
      "application/vnd.jupyter.widget-view+json": {
       "model_id": "",
       "version_major": 2,
       "version_minor": 0
      },
      "text/plain": [
       "HBox(children=(FloatProgress(value=1.0, bar_style='info', description='Validating', layout=Layout(flex='2'), m…"
      ]
     },
     "metadata": {},
     "output_type": "display_data"
    },
    {
     "name": "stdout",
     "output_type": "stream",
     "text": [
      "Val-Acc=0.8630705394190872\n",
      "Train-Acc=0.5843873517786561\n"
     ]
    },
    {
     "data": {
      "application/vnd.jupyter.widget-view+json": {
       "model_id": "",
       "version_major": 2,
       "version_minor": 0
      },
      "text/plain": [
       "HBox(children=(FloatProgress(value=1.0, bar_style='info', description='Validating', layout=Layout(flex='2'), m…"
      ]
     },
     "metadata": {},
     "output_type": "display_data"
    },
    {
     "name": "stdout",
     "output_type": "stream",
     "text": [
      "Val-Acc=0.8642560758743332\n",
      "Train-Acc=0.5982213438735178\n"
     ]
    },
    {
     "data": {
      "application/vnd.jupyter.widget-view+json": {
       "model_id": "",
       "version_major": 2,
       "version_minor": 0
      },
      "text/plain": [
       "HBox(children=(FloatProgress(value=1.0, bar_style='info', description='Validating', layout=Layout(flex='2'), m…"
      ]
     },
     "metadata": {},
     "output_type": "display_data"
    },
    {
     "name": "stdout",
     "output_type": "stream",
     "text": [
      "Val-Acc=0.8547717842323651\n",
      "Train-Acc=0.591699604743083\n",
      "Saved model to \"/nfs/students/summer-term-2020/project-4/SAVED_MODELS/CRNN8k_D2/CRNN8k_D2_attack_L_inf_eps=0.05_iters=2_v55_epoch_30.p\"\n",
      "Saved checkpoint at epoch 30 at \"/nfs/students/summer-term-2020/project-4/SAVED_MODELS/CRNN8k_D2/CRNN8k_D2_attack_L_inf_eps=0.05_iters=2_v55_epoch_30.p\"\n"
     ]
    },
    {
     "data": {
      "application/vnd.jupyter.widget-view+json": {
       "model_id": "",
       "version_major": 2,
       "version_minor": 0
      },
      "text/plain": [
       "HBox(children=(FloatProgress(value=1.0, bar_style='info', description='Validating', layout=Layout(flex='2'), m…"
      ]
     },
     "metadata": {},
     "output_type": "display_data"
    },
    {
     "name": "stdout",
     "output_type": "stream",
     "text": [
      "Val-Acc=0.8547717842323651\n",
      "Train-Acc=0.5968379446640316\n"
     ]
    },
    {
     "data": {
      "application/vnd.jupyter.widget-view+json": {
       "model_id": "",
       "version_major": 2,
       "version_minor": 0
      },
      "text/plain": [
       "HBox(children=(FloatProgress(value=1.0, bar_style='info', description='Validating', layout=Layout(flex='2'), m…"
      ]
     },
     "metadata": {},
     "output_type": "display_data"
    },
    {
     "name": "stdout",
     "output_type": "stream",
     "text": [
      "Val-Acc=0.8601066982809722\n",
      "Train-Acc=0.5980237154150198\n"
     ]
    },
    {
     "data": {
      "application/vnd.jupyter.widget-view+json": {
       "model_id": "",
       "version_major": 2,
       "version_minor": 0
      },
      "text/plain": [
       "HBox(children=(FloatProgress(value=1.0, bar_style='info', description='Validating', layout=Layout(flex='2'), m…"
      ]
     },
     "metadata": {},
     "output_type": "display_data"
    },
    {
     "name": "stdout",
     "output_type": "stream",
     "text": [
      "Val-Acc=0.8648488441019562\n",
      "Train-Acc=0.599802371541502\n"
     ]
    },
    {
     "data": {
      "application/vnd.jupyter.widget-view+json": {
       "model_id": "",
       "version_major": 2,
       "version_minor": 0
      },
      "text/plain": [
       "HBox(children=(FloatProgress(value=1.0, bar_style='info', description='Validating', layout=Layout(flex='2'), m…"
      ]
     },
     "metadata": {},
     "output_type": "display_data"
    },
    {
     "name": "stdout",
     "output_type": "stream",
     "text": [
      "Val-Acc=0.8464730290456431\n",
      "Train-Acc=0.5861660079051383\n"
     ]
    },
    {
     "data": {
      "application/vnd.jupyter.widget-view+json": {
       "model_id": "",
       "version_major": 2,
       "version_minor": 0
      },
      "text/plain": [
       "HBox(children=(FloatProgress(value=1.0, bar_style='info', description='Validating', layout=Layout(flex='2'), m…"
      ]
     },
     "metadata": {},
     "output_type": "display_data"
    },
    {
     "name": "stdout",
     "output_type": "stream",
     "text": [
      "Val-Acc=0.8452874925903971\n",
      "Train-Acc=0.6013833992094861\n"
     ]
    },
    {
     "data": {
      "application/vnd.jupyter.widget-view+json": {
       "model_id": "",
       "version_major": 2,
       "version_minor": 0
      },
      "text/plain": [
       "HBox(children=(FloatProgress(value=1.0, bar_style='info', description='Validating', layout=Layout(flex='2'), m…"
      ]
     },
     "metadata": {},
     "output_type": "display_data"
    },
    {
     "name": "stdout",
     "output_type": "stream",
     "text": [
      "Val-Acc=0.8684054534676942\n",
      "Train-Acc=0.5986166007905138\n"
     ]
    },
    {
     "data": {
      "application/vnd.jupyter.widget-view+json": {
       "model_id": "",
       "version_major": 2,
       "version_minor": 0
      },
      "text/plain": [
       "HBox(children=(FloatProgress(value=1.0, bar_style='info', description='Validating', layout=Layout(flex='2'), m…"
      ]
     },
     "metadata": {},
     "output_type": "display_data"
    },
    {
     "name": "stdout",
     "output_type": "stream",
     "text": [
      "Val-Acc=0.8399525785417902\n",
      "Train-Acc=0.6027667984189723\n"
     ]
    },
    {
     "data": {
      "application/vnd.jupyter.widget-view+json": {
       "model_id": "",
       "version_major": 2,
       "version_minor": 0
      },
      "text/plain": [
       "HBox(children=(FloatProgress(value=1.0, bar_style='info', description='Validating', layout=Layout(flex='2'), m…"
      ]
     },
     "metadata": {},
     "output_type": "display_data"
    },
    {
     "name": "stdout",
     "output_type": "stream",
     "text": [
      "Val-Acc=0.8423236514522822\n",
      "Train-Acc=0.5988142292490118\n"
     ]
    },
    {
     "data": {
      "application/vnd.jupyter.widget-view+json": {
       "model_id": "",
       "version_major": 2,
       "version_minor": 0
      },
      "text/plain": [
       "HBox(children=(FloatProgress(value=1.0, bar_style='info', description='Validating', layout=Layout(flex='2'), m…"
      ]
     },
     "metadata": {},
     "output_type": "display_data"
    },
    {
     "name": "stdout",
     "output_type": "stream",
     "text": [
      "Val-Acc=0.8577356253704801\n",
      "Train-Acc=0.5893280632411068\n"
     ]
    },
    {
     "data": {
      "application/vnd.jupyter.widget-view+json": {
       "model_id": "",
       "version_major": 2,
       "version_minor": 0
      },
      "text/plain": [
       "HBox(children=(FloatProgress(value=1.0, bar_style='info', description='Validating', layout=Layout(flex='2'), m…"
      ]
     },
     "metadata": {},
     "output_type": "display_data"
    },
    {
     "name": "stdout",
     "output_type": "stream",
     "text": [
      "Val-Acc=0.8446947243627742\n",
      "Train-Acc=0.6067193675889329\n",
      "Saved model to \"/nfs/students/summer-term-2020/project-4/SAVED_MODELS/CRNN8k_D2/CRNN8k_D2_attack_L_inf_eps=0.05_iters=2_v55_epoch_40.p\"\n",
      "Saved checkpoint at epoch 40 at \"/nfs/students/summer-term-2020/project-4/SAVED_MODELS/CRNN8k_D2/CRNN8k_D2_attack_L_inf_eps=0.05_iters=2_v55_epoch_40.p\"\n"
     ]
    },
    {
     "data": {
      "application/vnd.jupyter.widget-view+json": {
       "model_id": "",
       "version_major": 2,
       "version_minor": 0
      },
      "text/plain": [
       "HBox(children=(FloatProgress(value=1.0, bar_style='info', description='Validating', layout=Layout(flex='2'), m…"
      ]
     },
     "metadata": {},
     "output_type": "display_data"
    },
    {
     "name": "stdout",
     "output_type": "stream",
     "text": [
      "Val-Acc=0.8672199170124482\n",
      "Train-Acc=0.5936758893280633\n"
     ]
    },
    {
     "data": {
      "application/vnd.jupyter.widget-view+json": {
       "model_id": "",
       "version_major": 2,
       "version_minor": 0
      },
      "text/plain": [
       "HBox(children=(FloatProgress(value=1.0, bar_style='info', description='Validating', layout=Layout(flex='2'), m…"
      ]
     },
     "metadata": {},
     "output_type": "display_data"
    },
    {
     "name": "stdout",
     "output_type": "stream",
     "text": [
      "Val-Acc=0.8233550681683461\n",
      "Train-Acc=0.5909090909090909\n"
     ]
    },
    {
     "data": {
      "application/vnd.jupyter.widget-view+json": {
       "model_id": "",
       "version_major": 2,
       "version_minor": 0
      },
      "text/plain": [
       "HBox(children=(FloatProgress(value=1.0, bar_style='info', description='Validating', layout=Layout(flex='2'), m…"
      ]
     },
     "metadata": {},
     "output_type": "display_data"
    },
    {
     "name": "stdout",
     "output_type": "stream",
     "text": [
      "Val-Acc=0.8719620628334321\n",
      "Train-Acc=0.6009881422924901\n"
     ]
    },
    {
     "data": {
      "application/vnd.jupyter.widget-view+json": {
       "model_id": "",
       "version_major": 2,
       "version_minor": 0
      },
      "text/plain": [
       "HBox(children=(FloatProgress(value=1.0, bar_style='info', description='Validating', layout=Layout(flex='2'), m…"
      ]
     },
     "metadata": {},
     "output_type": "display_data"
    },
    {
     "name": "stdout",
     "output_type": "stream",
     "text": [
      "Val-Acc=0.8476585655008891\n",
      "Train-Acc=0.5922924901185771\n"
     ]
    },
    {
     "data": {
      "application/vnd.jupyter.widget-view+json": {
       "model_id": "",
       "version_major": 2,
       "version_minor": 0
      },
      "text/plain": [
       "HBox(children=(FloatProgress(value=1.0, bar_style='info', description='Validating', layout=Layout(flex='2'), m…"
      ]
     },
     "metadata": {},
     "output_type": "display_data"
    },
    {
     "name": "stdout",
     "output_type": "stream",
     "text": [
      "Val-Acc=0.8636633076467102\n",
      "Train-Acc=0.5962450592885375\n"
     ]
    },
    {
     "data": {
      "application/vnd.jupyter.widget-view+json": {
       "model_id": "",
       "version_major": 2,
       "version_minor": 0
      },
      "text/plain": [
       "HBox(children=(FloatProgress(value=1.0, bar_style='info', description='Validating', layout=Layout(flex='2'), m…"
      ]
     },
     "metadata": {},
     "output_type": "display_data"
    },
    {
     "name": "stdout",
     "output_type": "stream",
     "text": [
      "Val-Acc=0.8660343805572022\n",
      "Train-Acc=0.5948616600790514\n"
     ]
    },
    {
     "data": {
      "application/vnd.jupyter.widget-view+json": {
       "model_id": "",
       "version_major": 2,
       "version_minor": 0
      },
      "text/plain": [
       "HBox(children=(FloatProgress(value=1.0, bar_style='info', description='Validating', layout=Layout(flex='2'), m…"
      ]
     },
     "metadata": {},
     "output_type": "display_data"
    },
    {
     "name": "stdout",
     "output_type": "stream",
     "text": [
      "Val-Acc=0.8636633076467102\n",
      "Train-Acc=0.5942687747035573\n"
     ]
    },
    {
     "data": {
      "application/vnd.jupyter.widget-view+json": {
       "model_id": "",
       "version_major": 2,
       "version_minor": 0
      },
      "text/plain": [
       "HBox(children=(FloatProgress(value=1.0, bar_style='info', description='Validating', layout=Layout(flex='2'), m…"
      ]
     },
     "metadata": {},
     "output_type": "display_data"
    },
    {
     "name": "stdout",
     "output_type": "stream",
     "text": [
      "Val-Acc=0.8482513337285121\n",
      "Train-Acc=0.5928853754940712\n"
     ]
    },
    {
     "data": {
      "application/vnd.jupyter.widget-view+json": {
       "model_id": "",
       "version_major": 2,
       "version_minor": 0
      },
      "text/plain": [
       "HBox(children=(FloatProgress(value=1.0, bar_style='info', description='Validating', layout=Layout(flex='2'), m…"
      ]
     },
     "metadata": {},
     "output_type": "display_data"
    },
    {
     "name": "stdout",
     "output_type": "stream",
     "text": [
      "Val-Acc=0.8583283935981031\n",
      "Train-Acc=0.5930830039525692\n"
     ]
    },
    {
     "data": {
      "application/vnd.jupyter.widget-view+json": {
       "model_id": "",
       "version_major": 2,
       "version_minor": 0
      },
      "text/plain": [
       "HBox(children=(FloatProgress(value=1.0, bar_style='info', description='Validating', layout=Layout(flex='2'), m…"
      ]
     },
     "metadata": {},
     "output_type": "display_data"
    },
    {
     "name": "stdout",
     "output_type": "stream",
     "text": [
      "Val-Acc=0.8595139300533492\n",
      "Train-Acc=0.5956521739130435\n",
      "\n",
      "Saved model to \"/nfs/students/summer-term-2020/project-4/SAVED_MODELS/CRNN8k_D2/CRNN8k_D2_attack_L_inf_eps=0.05_iters=2_v55.p\"\n",
      "============================================================\n",
      "Trained Models:\n",
      "============================================================\n",
      "['/nfs/students/summer-term-2020/project-4/SAVED_MODELS/CRNN8k_D2/CRNN8k_D2_attack_L_inf_eps=0.01_iters=2_v52.p', '/nfs/students/summer-term-2020/project-4/SAVED_MODELS/CRNN8k_D2/CRNN8k_D2_attack_L_inf_eps=0.02_iters=2_v53.p', '/nfs/students/summer-term-2020/project-4/SAVED_MODELS/CRNN8k_D2/CRNN8k_D2_attack_L_inf_eps=0.03_iters=2_v54.p', '/nfs/students/summer-term-2020/project-4/SAVED_MODELS/CRNN8k_D2/CRNN8k_D2_attack_L_inf_eps=0.05_iters=2_v55.p']\n"
     ]
    }
   ],
   "source": [
    "models = th.run(CRNN8k_D2_PLModule, hparams, attack_configs, save_epochs = [10,20,30,40], dataset_id=config.DATASET_CONTROL)\n",
    "##############################################################################################################\n",
    "##############################################################################################################\n",
    "##############################################################################################################"
   ]
  },
  {
   "cell_type": "markdown",
   "metadata": {},
   "source": [
    "# Create Plots"
   ]
  },
  {
   "cell_type": "code",
   "execution_count": 10,
   "metadata": {
    "ExecuteTime": {
     "end_time": "2020-07-14T23:00:21.556972Z",
     "start_time": "2020-07-14T23:00:21.337691Z"
    }
   },
   "outputs": [],
   "source": [
    "#import os\n",
    "#directory = \"/nfs/students/summer-term-2020/project-4/SAVED_MODELS/SpectrogramCNN_8K_Dataset2/\"\n",
    "#for filename in os.listdir(directory):\n",
    "#    experiment.run(directory + filename, SpectrogramCNN_8K_Dataset2_PLModule, dataset_id=config.DATASET_CONTROL)"
   ]
  },
  {
   "cell_type": "code",
   "execution_count": null,
   "metadata": {
    "ExecuteTime": {
     "start_time": "2020-07-14T23:03:46.443Z"
    }
   },
   "outputs": [],
   "source": [
    "#from utils.RobustnessExperiment import RobustnessExperiment, load_experiment\n",
    "#experiment = load_experiment(exp_folder = \"0024_EVAL_DATASET2\")\n",
    "\n",
    "#state_dict_path = \"/nfs/students/summer-term-2020/project-4/SAVED_MODELS/CRNN_8K_Dataset2/optuna_crnn8kd2_0.90.p\"\n",
    "#experiment.run(state_dict_path, CRNN8k_D2_PLModule, dataset_id=config.DATASET_CONTROL)"
   ]
  },
  {
   "cell_type": "code",
   "execution_count": 38,
   "metadata": {
    "ExecuteTime": {
     "end_time": "2020-07-15T09:30:18.539195Z",
     "start_time": "2020-07-15T09:28:45.245556Z"
    },
    "scrolled": true
   },
   "outputs": [
    {
     "name": "stdout",
     "output_type": "stream",
     "text": [
      "Loaded model 0024_EVAL_DATASET2\n",
      "Loading cached training data of dataset 1 from /nfs/students/summer-term-2020/project-4/data/dataset2/dataset_8k/\n",
      "Loading cached validation data of dataset 1 from /nfs/students/summer-term-2020/project-4/data/dataset2/dataset_8k/\n"
     ]
    },
    {
     "name": "stderr",
     "output_type": "stream",
     "text": [
      "\r",
      "  0%|          | 0/9 [00:00<?, ?it/s]"
     ]
    },
    {
     "name": "stdout",
     "output_type": "stream",
     "text": [
      "\n",
      "\n",
      "============================================================\n",
      "Running experiment on model CRNN8k_D2_attack_L_inf_eps=0.01_iters=2_v52.p\n",
      "============================================================\n",
      "Created Dir '/nfs/students/summer-term-2020/project-4/EXPERIMENTS/0024_EVAL_DATASET2/CRNN8k_D2_attack_L_inf_eps=0.01_iters=2_v52.p'\n",
      "\n",
      "Perform Attack #1/1: FGSM\n"
     ]
    },
    {
     "name": "stderr",
     "output_type": "stream",
     "text": [
      "100%|██████████| 27/27 [00:00<00:00, 37.75it/s]\n",
      "100%|██████████| 27/27 [00:01<00:00, 16.94it/s]\n",
      "100%|██████████| 27/27 [00:01<00:00, 16.97it/s]\n",
      "100%|██████████| 27/27 [00:01<00:00, 16.94it/s]\n",
      "100%|██████████| 27/27 [00:01<00:00, 16.92it/s]\n",
      "100%|██████████| 27/27 [00:01<00:00, 16.91it/s]\n",
      "100%|██████████| 27/27 [00:01<00:00, 16.83it/s]\n",
      "100%|██████████| 27/27 [00:01<00:00, 16.87it/s]\n",
      "100%|██████████| 27/27 [00:01<00:00, 16.40it/s]\n",
      "100%|██████████| 9/9 [00:21<00:00,  2.39s/it]\n"
     ]
    },
    {
     "data": {
      "image/png": "[encoded data removed]",
      "text/plain": [
       "<Figure size 864x576 with 1 Axes>"
      ]
     },
     "metadata": {},
     "output_type": "display_data"
    },
    {
     "name": "stdout",
     "output_type": "stream",
     "text": [
      "Backup created at \"/nfs/students/summer-term-2020/project-4/EXPERIMENTS/0024_EVAL_DATASET2/backup.pickle\"\n",
      "Loading cached training data of dataset 1 from /nfs/students/summer-term-2020/project-4/data/dataset2/dataset_8k/\n",
      "Loading cached validation data of dataset 1 from /nfs/students/summer-term-2020/project-4/data/dataset2/dataset_8k/\n"
     ]
    },
    {
     "name": "stderr",
     "output_type": "stream",
     "text": [
      "\r",
      "  0%|          | 0/9 [00:00<?, ?it/s]"
     ]
    },
    {
     "name": "stdout",
     "output_type": "stream",
     "text": [
      "\n",
      "\n",
      "============================================================\n",
      "Running experiment on model CRNN8k_D2_attack_L_inf_eps=0.02_iters=2_v53.p\n",
      "============================================================\n",
      "Created Dir '/nfs/students/summer-term-2020/project-4/EXPERIMENTS/0024_EVAL_DATASET2/CRNN8k_D2_attack_L_inf_eps=0.02_iters=2_v53.p'\n",
      "\n",
      "Perform Attack #1/1: FGSM\n"
     ]
    },
    {
     "name": "stderr",
     "output_type": "stream",
     "text": [
      "100%|██████████| 27/27 [00:00<00:00, 38.38it/s]\n",
      "100%|██████████| 27/27 [00:01<00:00, 17.00it/s]\n",
      "100%|██████████| 27/27 [00:01<00:00, 17.01it/s]\n",
      "100%|██████████| 27/27 [00:01<00:00, 17.01it/s]\n",
      "100%|██████████| 27/27 [00:01<00:00, 16.98it/s]\n",
      "100%|██████████| 27/27 [00:01<00:00, 17.13it/s]\n",
      "100%|██████████| 27/27 [00:01<00:00, 17.15it/s]\n",
      "100%|██████████| 27/27 [00:01<00:00, 17.15it/s]\n",
      "100%|██████████| 27/27 [00:01<00:00, 16.42it/s]\n",
      "100%|██████████| 9/9 [00:21<00:00,  2.35s/it]\n"
     ]
    },
    {
     "data": {
      "image/png": "[encoded data removed]",
      "text/plain": [
       "<Figure size 864x576 with 1 Axes>"
      ]
     },
     "metadata": {},
     "output_type": "display_data"
    },
    {
     "name": "stdout",
     "output_type": "stream",
     "text": [
      "Backup created at \"/nfs/students/summer-term-2020/project-4/EXPERIMENTS/0024_EVAL_DATASET2/backup.pickle\"\n",
      "Loading cached training data of dataset 1 from /nfs/students/summer-term-2020/project-4/data/dataset2/dataset_8k/\n",
      "Loading cached validation data of dataset 1 from /nfs/students/summer-term-2020/project-4/data/dataset2/dataset_8k/\n"
     ]
    },
    {
     "name": "stderr",
     "output_type": "stream",
     "text": [
      "\r",
      "  0%|          | 0/9 [00:00<?, ?it/s]"
     ]
    },
    {
     "name": "stdout",
     "output_type": "stream",
     "text": [
      "\n",
      "\n",
      "============================================================\n",
      "Running experiment on model CRNN8k_D2_attack_L_inf_eps=0.03_iters=2_v54.p\n",
      "============================================================\n",
      "Created Dir '/nfs/students/summer-term-2020/project-4/EXPERIMENTS/0024_EVAL_DATASET2/CRNN8k_D2_attack_L_inf_eps=0.03_iters=2_v54.p'\n",
      "\n",
      "Perform Attack #1/1: FGSM\n"
     ]
    },
    {
     "name": "stderr",
     "output_type": "stream",
     "text": [
      "100%|██████████| 27/27 [00:00<00:00, 38.36it/s]\n",
      "100%|██████████| 27/27 [00:01<00:00, 16.59it/s]\n",
      "100%|██████████| 27/27 [00:01<00:00, 17.37it/s]\n",
      "100%|██████████| 27/27 [00:01<00:00, 17.36it/s]\n",
      "100%|██████████| 27/27 [00:01<00:00, 17.35it/s]\n",
      "100%|██████████| 27/27 [00:01<00:00, 17.46it/s]\n",
      "100%|██████████| 27/27 [00:01<00:00, 17.47it/s]\n",
      "100%|██████████| 27/27 [00:01<00:00, 17.43it/s]\n",
      "100%|██████████| 27/27 [00:01<00:00, 16.87it/s]\n",
      "100%|██████████| 9/9 [00:21<00:00,  2.37s/it]\n"
     ]
    },
    {
     "data": {
      "image/png": "[encoded data removed]",
      "text/plain": [
       "<Figure size 864x576 with 1 Axes>"
      ]
     },
     "metadata": {},
     "output_type": "display_data"
    },
    {
     "name": "stdout",
     "output_type": "stream",
     "text": [
      "Backup created at \"/nfs/students/summer-term-2020/project-4/EXPERIMENTS/0024_EVAL_DATASET2/backup.pickle\"\n",
      "Loading cached training data of dataset 1 from /nfs/students/summer-term-2020/project-4/data/dataset2/dataset_8k/\n",
      "Loading cached validation data of dataset 1 from /nfs/students/summer-term-2020/project-4/data/dataset2/dataset_8k/\n"
     ]
    },
    {
     "name": "stderr",
     "output_type": "stream",
     "text": [
      "\r",
      "  0%|          | 0/9 [00:00<?, ?it/s]"
     ]
    },
    {
     "name": "stdout",
     "output_type": "stream",
     "text": [
      "\n",
      "\n",
      "============================================================\n",
      "Running experiment on model CRNN8k_D2_attack_L_inf_eps=0.05_iters=2_v55.p\n",
      "============================================================\n",
      "Created Dir '/nfs/students/summer-term-2020/project-4/EXPERIMENTS/0024_EVAL_DATASET2/CRNN8k_D2_attack_L_inf_eps=0.05_iters=2_v55.p'\n",
      "\n",
      "Perform Attack #1/1: FGSM\n"
     ]
    },
    {
     "name": "stderr",
     "output_type": "stream",
     "text": [
      "100%|██████████| 27/27 [00:00<00:00, 38.61it/s]\n",
      "100%|██████████| 27/27 [00:01<00:00, 17.12it/s]\n",
      "100%|██████████| 27/27 [00:01<00:00, 17.15it/s]\n",
      "100%|██████████| 27/27 [00:01<00:00, 17.16it/s]\n",
      "100%|██████████| 27/27 [00:01<00:00, 17.17it/s]\n",
      "100%|██████████| 27/27 [00:01<00:00, 17.25it/s]\n",
      "100%|██████████| 27/27 [00:01<00:00, 17.23it/s]\n",
      "100%|██████████| 27/27 [00:01<00:00, 17.25it/s]\n",
      "100%|██████████| 27/27 [00:01<00:00, 16.68it/s]\n",
      "100%|██████████| 9/9 [00:21<00:00,  2.37s/it]\n"
     ]
    },
    {
     "data": {
      "image/png": "[encoded data removed]",
      "text/plain": [
       "<Figure size 864x576 with 1 Axes>"
      ]
     },
     "metadata": {},
     "output_type": "display_data"
    },
    {
     "name": "stdout",
     "output_type": "stream",
     "text": [
      "Backup created at \"/nfs/students/summer-term-2020/project-4/EXPERIMENTS/0024_EVAL_DATASET2/backup.pickle\"\n"
     ]
    }
   ],
   "source": [
    "from utils.RobustnessExperiment import RobustnessExperiment, load_experiment\n",
    "experiment = load_experiment(exp_folder = \"0024_EVAL_DATASET2\")\n",
    "\n",
    "for m in models:\n",
    "    experiment.run(m, CRNN8k_D2_PLModule, dataset_id=config.DATASET_CONTROL)"
   ]
  },
  {
   "cell_type": "code",
   "execution_count": 39,
   "metadata": {
    "ExecuteTime": {
     "end_time": "2020-07-15T09:30:22.366583Z",
     "start_time": "2020-07-15T09:30:22.080876Z"
    },
    "scrolled": true
   },
   "outputs": [
    {
     "name": "stdout",
     "output_type": "stream",
     "text": [
      "\n",
      "Attack = FGSM:\n",
      "[(7.161825726141079, 'CRNN8k_D2_attack_L_inf_eps=0.05_iters=2_v55.p'), (7.134558387670421, 'CRNN8k_D2_attack_L_inf_eps=0.02_iters=2_v53.p'), (6.967990515708358, 'CRNN8k_D2_attack_L_inf_eps=0.01_iters=2_v52.p'), (6.882039122703023, 'CRNN8k_D2_attack_L_inf_eps=0.03_iters=2_v54.p'), (6.7178423236514515, 'SpectrogramCNN_8K_Dataset2_attack_L_inf_eps=0.13_iters=1_v3.p'), (6.6917605216360405, 'SpectrogramCNN_8K_Dataset2_attack_L_inf_eps=0.13_iters=1_v3_epoch_10.p'), (6.679312388855958, 'SpectrogramCNN_8K_Dataset2_attack_L_inf_eps=0.1_iters=1_v0.p'), (6.566686425607587, 'SpectrogramCNN_8K_Dataset2_attack_L_inf_eps=0.21000000000000002_iters=1_v11.p'), (6.541197391819799, 'SpectrogramCNN_8K_Dataset2_attack_L_inf_eps=0.14_iters=1_v4_epoch_10.p'), (6.525192649673977, 'SpectrogramCNN_8K_Dataset2_attack_L_inf_eps=0.12000000000000001_iters=1_v2.p'), (6.517486662714878, 'SpectrogramCNN_8K_Dataset2_attack_L_inf_eps=0.11_iters=1_v1_epoch_10.p'), (6.49199762892709, 'SpectrogramCNN_8K_Dataset2_attack_L_inf_eps=0.11_iters=1_v1.p'), (6.476585655008892, 'SpectrogramCNN_8K_Dataset2_attack_L_inf_eps=0.12000000000000001_iters=1_v2_epoch_10.p'), (6.42679312388856, 'SpectrogramCNN_8K_Dataset2_attack_L_inf_eps=0.1_iters=1_v0_epoch_10.p'), (6.386484884410196, 'SpectrogramCNN_8K_Dataset2_attack_L_inf_eps=0.37_iters=1_v27_epoch_10.p'), (6.362774155305275, 'SpectrogramCNN_8K_Dataset2_attack_L_inf_eps=0.17_iters=1_v7_epoch_10.p'), (6.35210432720806, 'SpectrogramCNN_8K_Dataset2_attack_L_inf_eps=0.22_iters=1_v12.p'), (6.332542975696503, 'SpectrogramCNN_8K_Dataset2_attack_L_inf_eps=0.2_iters=1_v10_epoch_10.p'), (6.327208061647896, 'SpectrogramCNN_8K_Dataset2_attack_L_inf_eps=0.15000000000000002_iters=1_v5.p'), (6.3254297569650255, 'SpectrogramCNN_8K_Dataset2_attack_L_inf_eps=0.19_iters=1_v9.p'), (6.285121517486662, 'SpectrogramCNN_8K_Dataset2_attack_L_inf_eps=0.32_iters=1_v22.p'), (6.283343212803793, 'SpectrogramCNN_8K_Dataset2_attack_L_inf_eps=0.18_iters=1_v8_epoch_10.p'), (6.256075874333136, 'SpectrogramCNN_8K_Dataset2_attack_L_inf_eps=0.27_iters=1_v17_epoch_10.p'), (6.231772377000594, 'SpectrogramCNN_8K_Dataset2_attack_L_inf_eps=0.14_iters=1_v4.p'), (6.196799051570836, 'SpectrogramCNN_8K_Dataset2_attack_L_inf_eps=0.17_iters=1_v7.p'), (6.171310017783047, 'SpectrogramCNN_8K_Dataset2_attack_L_inf_eps=0.33_iters=1_v23.p'), (6.169531713100178, 'SpectrogramCNN_8K_Dataset2_attack_L_inf_eps=0.21000000000000002_iters=1_v11_epoch_10.p'), (6.161232957913455, 'SpectrogramCNN_8K_Dataset2_attack_L_inf_eps=0.27_iters=1_v17.p'), (6.160640189685833, 'SpectrogramCNN_8K_Dataset2_attack_L_inf_eps=0.2_iters=1_v10.p'), (6.129816241849437, 'SpectrogramCNN_8K_Dataset2_attack_L_inf_eps=0.26_iters=1_v16_epoch_10.p'), (6.111440426793124, 'SpectrogramCNN_8K_Dataset2_attack_L_inf_eps=0.26_iters=1_v16.p'), (6.1078838174273855, 'SpectrogramCNN_8K_Dataset2_attack_L_inf_eps=0.16_iters=1_v6.p'), (6.0954356846473035, 'SpectrogramCNN_8K_Dataset2_attack_L_inf_eps=0.23_iters=1_v13_epoch_10.p'), (6.08891523414345, 'SpectrogramCNN_8K_Dataset2_attack_L_inf_eps=0.19_iters=1_v9_epoch_10.p'), (6.0865441612329585, 'SpectrogramCNN_8K_Dataset2_attack_L_inf_eps=0.22_iters=1_v12_epoch_10.p'), (6.048606994665086, 'SpectrogramCNN_8K_Dataset2_attack_L_inf_eps=0.37_iters=1_v27.p'), (6.017190278601068, 'SpectrogramCNN_8K_Dataset2_attack_L_inf_eps=0.29000000000000004_iters=1_v19_epoch_10.p'), (5.995257854179016, 'SpectrogramCNN_8K_Dataset2_attack_L_inf_eps=0.36_iters=1_v26_epoch_10.p'), (5.976882039122703, 'SpectrogramCNN_8K_Dataset2_attack_L_inf_eps=0.15000000000000002_iters=1_v5_epoch_10.p'), (5.9021932424422054, 'SpectrogramCNN_8K_Dataset2_attack_L_inf_eps=0.30000000000000004_iters=1_v20_epoch_10.p'), (5.870776526378186, 'SpectrogramCNN_8K_Dataset2_attack_L_inf_eps=0.42000000000000004_iters=1_v32_epoch_10.p'), (5.855364552459988, 'SpectrogramCNN_8K_Dataset2_attack_L_inf_eps=0.23_iters=1_v13.p'), (5.828689982216953, 'SpectrogramCNN_8K_Dataset2_attack_L_inf_eps=0.38_iters=1_v28_epoch_10.p'), (5.825133372851215, 'SpectrogramCNN_8K_Dataset2_attack_L_inf_eps=0.33_iters=1_v23_epoch_10.p'), (5.800829875518673, 'SpectrogramCNN_8K_Dataset2_attack_L_inf_eps=0.31_iters=1_v21_epoch_10.p'), (5.775340841730883, 'SpectrogramCNN_8K_Dataset2_attack_L_inf_eps=0.39_iters=1_v29.p'), (5.767042086544161, 'SpectrogramCNN_8K_Dataset2_attack_L_inf_eps=0.48_iters=1_v38_epoch_10.p'), (5.762299940723177, 'SpectrogramCNN_8K_Dataset2_attack_L_inf_eps=0.25_iters=1_v15_epoch_10.p'), (5.750444576170718, 'CRNN8k_D2_attack_L_inf_eps=0.35_iters=1_v25.p'), (5.708358032009484, 'CRNN8k_D2_attack_L_inf_eps=0.24000000000000002_iters=1_v14.p'), (5.706579727326616, 'CRNN8k_D2_attack_L_inf_eps=0.23_iters=1_v13.p'), (5.7042086544161235, 'SpectrogramCNN_8K_Dataset2_attack_L_inf_eps=0.32_iters=1_v22_epoch_10.p'), (5.6959098992294015, 'SpectrogramCNN_8K_Dataset2_attack_L_inf_eps=0.36_iters=1_v26.p'), (5.69176052163604, 'SpectrogramCNN_8K_Dataset2_attack_L_inf_eps=0.30000000000000004_iters=1_v20.p'), (5.678126852400711, 'SpectrogramCNN_8K_Dataset2_attack_L_inf_eps=0.31_iters=1_v21.p'), (5.671606401896859, 'SpectrogramCNN_8K_Dataset2_attack_L_inf_eps=0.25_iters=1_v15.p'), (5.655601659751039, 'CRNN8k_D2_attack_L_inf_eps=0.53_iters=1_v43.p'), (5.646117368109071, 'CRNN8k_D2_attack_L_inf_eps=0.42000000000000004_iters=1_v32.p'), (5.642560758743332, 'SpectrogramCNN_8K_Dataset2_attack_L_inf_eps=0.28_iters=1_v18.p'), (5.635447540011857, 'CRNN8k_D2_attack_L_inf_eps=0.28_iters=1_v18.p'), (5.627148784825135, 'CRNN8k_D2_attack_L_inf_eps=0.55_iters=1_v45.p'), (5.620035566093659, 'CRNN8k_D2_attack_L_inf_eps=0.32_iters=1_v22.p'), (5.615293420272674, 'CRNN8k_D2_attack_L_inf_eps=0.38_iters=1_v28.p'), (5.61055127445169, 'CRNN8k_D2_attack_L_inf_eps=0.2_iters=1_v10.p'), (5.608180201541198, 'CRNN8k_D2_attack_L_inf_eps=0.22_iters=1_v12.p'), (5.607587433313576, 'CRNN8k_D2_attack_L_inf_eps=0.57_iters=1_v47.p'), (5.605809128630707, 'CRNN8k_D2_attack_L_inf_eps=0.44000000000000006_iters=1_v34.p'), (5.588026081802017, 'CRNN8k_D2_attack_L_inf_eps=0.49_iters=1_v39.p'), (5.57083580320095, 'CRNN8k_D2_attack_L_inf_eps=0.48_iters=1_v38.p'), (5.570835803200949, 'CRNN8k_D2_attack_L_inf_eps=0.36_iters=1_v26.p'), (5.570243034973326, 'SpectrogramCNN_8K_Dataset2_attack_L_inf_eps=0.41000000000000003_iters=1_v31.p'), (5.558387670420865, 'SpectrogramCNN_8K_Dataset2_attack_L_inf_eps=0.4_iters=1_v30_epoch_10.p'), (5.554238292827504, 'SpectrogramCNN_8K_Dataset2_attack_L_inf_eps=0.33999999999999997_iters=1_v24_epoch_10.p'), (5.550088915234144, 'CRNN8k_D2_attack_L_inf_eps=0.15000000000000002_iters=1_v5.p'), (5.532898636633077, 'CRNN8k_D2_attack_L_inf_eps=0.51_iters=1_v41.p'), (5.528156490812093, 'CRNN8k_D2_attack_L_inf_eps=0.5_iters=1_v40.p'), (5.522821576763487, 'CRNN8k_D2_attack_L_inf_eps=0.58_iters=1_v48.p'), (5.522821576763485, 'CRNN8k_D2_attack_L_inf_eps=0.31_iters=1_v21.p'), (5.5192649673977465, 'CRNN8k_D2_attack_L_inf_eps=0.47_iters=1_v37.p'), (5.515708358032009, 'SpectrogramCNN_8K_Dataset2_attack_L_inf_eps=0.59_iters=1_v49_epoch_10.p'), (5.513337285121518, 'CRNN8k_D2_attack_L_inf_eps=0.56_iters=1_v46.p'), (5.5115589804386484, 'SpectrogramCNN_8K_Dataset2_attack_L_inf_eps=0.38_iters=1_v28.p'), (5.496739774748074, 'CRNN8k_D2_attack_L_inf_eps=0.41000000000000003_iters=1_v31.p'), (5.492590397154713, 'CRNN8k_D2_attack_L_inf_eps=0.18_iters=1_v8.p'), (5.489626556016598, 'CRNN8k_D2_attack_L_inf_eps=0.4_iters=1_v30.p'), (5.48606994665086, 'CRNN8k_D2_attack_L_inf_eps=0.19_iters=1_v9.p'), (5.484884410195615, 'CRNN8k_D2_attack_L_inf_eps=0.52_iters=1_v42.p'), (5.470657972732662, 'SpectrogramCNN_8K_Dataset2_attack_L_inf_eps=0.41000000000000003_iters=1_v31_epoch_10.p'), (5.4682868998221705, 'CRNN8k_D2_attack_L_inf_eps=0.44999999999999996_iters=1_v35.p'), (5.4682868998221705, 'CRNN8k_D2_attack_L_inf_eps=0.25_iters=1_v15.p'), (5.4647302904564325, 'CRNN8k_D2_attack_L_inf_eps=0.59_iters=1_v49.p'), (5.459988144635449, 'CRNN8k_D2_attack_L_inf_eps=0.16_iters=1_v6.p'), (5.458209839952578, 'CRNN8k_D2_attack_L_inf_eps=0.43000000000000005_iters=1_v33.p'), (5.455245998814464, 'SpectrogramCNN_8K_Dataset2_attack_L_inf_eps=0.18_iters=1_v8.p'), (5.452874925903972, 'CRNN8k_D2_attack_L_inf_eps=0.45999999999999996_iters=1_v36.p'), (5.451096621221104, 'CRNN8k_D2_attack_L_inf_eps=0.37_iters=1_v27.p'), (5.448725548310612, 'CRNN8k_D2_attack_L_inf_eps=0.33999999999999997_iters=1_v24.p'), (5.439834024896267, 'CRNN8k_D2_attack_L_inf_eps=0.39_iters=1_v29.p'), (5.433313574392413, 'SpectrogramCNN_8K_Dataset2_attack_L_inf_eps=0.29000000000000004_iters=1_v19.p'), (5.427385892116182, 'CRNN8k_D2_attack_L_inf_eps=0.54_iters=1_v44.p')]\n"
     ]
    }
   ],
   "source": [
    "experiment.show_best_models(best_n=100, metric=\"acc\")"
   ]
  },
  {
   "cell_type": "code",
   "execution_count": 53,
   "metadata": {
    "ExecuteTime": {
     "end_time": "2020-07-15T16:10:30.054259Z",
     "start_time": "2020-07-15T16:10:29.511309Z"
    }
   },
   "outputs": [
    {
     "data": {
      "image/png": "[encoded data removed]",
      "text/plain": [
       "<Figure size 864x576 with 1 Axes>"
      ]
     },
     "metadata": {},
     "output_type": "display_data"
    }
   ],
   "source": [
    "experiment.compare(config_key = \"epsilon\", results_key = \"acc\", \n",
    "                   models=[\n",
    "                        #(\"optuna_spec8kd2_0.90.p\", \"SpectrogramCNN\"),\n",
    "                        (\"SpectrogramCNN_8K_Dataset2_attack_L_inf_eps=0.13_iters=1_v3.p\", \"SpectrogramCNN\"),\n",
    "                        #(\"optuna_crnn8kd2_0.90.p\", \"CRNN\"),\n",
    "                        (\"CRNN8k_D2_attack_L_inf_eps=0.05_iters=2_v55.p\", \"CRNN\")\n",
    "                         ])"
   ]
  }
 ],
 "metadata": {
  "kernelspec": {
   "display_name": "Python 3",
   "language": "python",
   "name": "python3"
  },
  "language_info": {
   "codemirror_mode": {
    "name": "ipython",
    "version": 3
   },
   "file_extension": ".py",
   "mimetype": "text/x-python",
   "name": "python",
   "nbconvert_exporter": "python",
   "pygments_lexer": "ipython3",
   "version": "3.8.2"
  },
  "notify_time": "5"
 },
 "nbformat": 4,
 "nbformat_minor": 4
}
