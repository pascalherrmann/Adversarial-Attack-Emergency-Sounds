{
 "cells": [
  {
   "cell_type": "code",
   "execution_count": 1,
   "metadata": {
    "ExecuteTime": {
     "end_time": "2020-07-07T15:38:52.537284Z",
     "start_time": "2020-07-07T15:38:51.739620Z"
    }
   },
   "outputs": [],
   "source": [
    "%load_ext autoreload\n",
    "%autoreload 2\n",
    "import torch\n",
    "\n",
    "import os\n",
    "import sys\n",
    "module_path = os.path.abspath(os.path.join('../../../src/'))\n",
    "if module_path not in sys.path:\n",
    "    sys.path.append(module_path)\n",
    "    \n",
    "device = 'cuda' if torch.cuda.is_available() else 'cpu'"
   ]
  },
  {
   "cell_type": "markdown",
   "metadata": {},
   "source": [
    "# Load models"
   ]
  },
  {
   "cell_type": "code",
   "execution_count": 2,
   "metadata": {
    "ExecuteTime": {
     "end_time": "2020-07-07T15:38:53.163583Z",
     "start_time": "2020-07-07T15:38:52.541411Z"
    }
   },
   "outputs": [],
   "source": [
    "from classification.models.M5 import M5PLModule\n",
    "from classification.models.CRNN import CRNNPLModule\n",
    "from classification.models.SpectrogramCNN import SpectrogramCNNPLModule\n",
    "from classification.models.DeepRecursiveCNN import DeepRecursiveCNNPLModule\n",
    "\n",
    "models = {}"
   ]
  },
  {
   "cell_type": "code",
   "execution_count": 3,
   "metadata": {
    "ExecuteTime": {
     "end_time": "2020-07-07T15:38:55.357407Z",
     "start_time": "2020-07-07T15:38:53.168055Z"
    }
   },
   "outputs": [],
   "source": [
    "loaded_dict = torch.load(\"/nfs/students/summer-term-2020/project-4/SAVED_MODELS/M5/M5_vanilla.p\")\n",
    "hparams = loaded_dict[\"hparams\"]\n",
    "hparams['batch_size'] = 30\n",
    "\n",
    "model = M5PLModule(hparams)\n",
    "model.model.load_state_dict(loaded_dict[\"state_dict\"])\n",
    "model = model.eval().cuda()\n",
    "\n",
    "models[model.__class__.__name__] = model"
   ]
  },
  {
   "cell_type": "code",
   "execution_count": 4,
   "metadata": {
    "ExecuteTime": {
     "end_time": "2020-07-07T15:38:55.393260Z",
     "start_time": "2020-07-07T15:38:55.361724Z"
    }
   },
   "outputs": [],
   "source": [
    "state_dict_path = '/nfs/students/summer-term-2020/project-4/SAVED_MODELS/SpectrogramCNN/optuna_90.5.p'\n",
    "loaded_dict = torch.load(state_dict_path)\n",
    "loaded_dict['hparams']['batch_size'] = 5\n",
    "model = SpectrogramCNNPLModule(loaded_dict['hparams'])\n",
    "model.model.load_state_dict(loaded_dict['state_dict'])\n",
    "model = model.cuda()\n",
    "model = model.eval()\n",
    "\n",
    "models[model.__class__.__name__] = model"
   ]
  },
  {
   "cell_type": "code",
   "execution_count": 5,
   "metadata": {
    "ExecuteTime": {
     "end_time": "2020-07-07T15:38:55.461533Z",
     "start_time": "2020-07-07T15:38:55.397151Z"
    }
   },
   "outputs": [],
   "source": [
    "model_state_dict_path = \"/nfs/students/summer-term-2020/project-4/yan/models/best_model_state_dict.pt\"\n",
    "\n",
    "hparams = {\n",
    "    \"batch_size\": 2,\n",
    "    \"learning_rate\": 0.001,\n",
    "    \"weight_decay\": 0,\n",
    "    \"lr_decay\": 1\n",
    "}\n",
    "\n",
    "model = DeepRecursiveCNNPLModule(hparams)\n",
    "model.model.load_state_dict(torch.load(model_state_dict_path))\n",
    "model = model.eval()\n",
    "\n",
    "models[model.__class__.__name__] = model"
   ]
  },
  {
   "cell_type": "code",
   "execution_count": 6,
   "metadata": {
    "ExecuteTime": {
     "end_time": "2020-07-07T15:38:55.740673Z",
     "start_time": "2020-07-07T15:38:55.465542Z"
    }
   },
   "outputs": [],
   "source": [
    "state_dict_path = '/nfs/students/summer-term-2020/project-4/SAVED_MODELS/CRNN/vanilla0.886.p'\n",
    "\n",
    "loaded_dict = torch.load(state_dict_path)\n",
    "\n",
    "model = CRNNPLModule(loaded_dict['hparams'])\n",
    "model.model.load_state_dict(loaded_dict['state_dict'])\n",
    "model = model.eval().cuda()\n",
    "\n",
    "models[model.__class__.__name__] = model"
   ]
  },
  {
   "cell_type": "code",
   "execution_count": 45,
   "metadata": {
    "ExecuteTime": {
     "end_time": "2020-06-21T10:15:05.838719Z",
     "start_time": "2020-06-21T10:15:05.813127Z"
    }
   },
   "outputs": [],
   "source": [
    "fast_model = {'SpectrogramCNNPLModule': models['SpectrogramCNNPLModule']}"
   ]
  },
  {
   "cell_type": "markdown",
   "metadata": {},
   "source": [
    "# Load Data"
   ]
  },
  {
   "cell_type": "code",
   "execution_count": 7,
   "metadata": {
    "ExecuteTime": {
     "end_time": "2020-07-07T15:38:55.770237Z",
     "start_time": "2020-07-07T15:38:55.752084Z"
    }
   },
   "outputs": [],
   "source": [
    "from datasets.datasethandler import DatasetHandler\n",
    "datasetHandler = DatasetHandler()"
   ]
  },
  {
   "cell_type": "code",
   "execution_count": 8,
   "metadata": {
    "ExecuteTime": {
     "end_time": "2020-07-07T15:39:00.766237Z",
     "start_time": "2020-07-07T15:38:55.774025Z"
    }
   },
   "outputs": [
    {
     "name": "stdout",
     "output_type": "stream",
     "text": [
      "Loading cached validation data of dataset 0 from /nfs/students/summer-term-2020/project-4/data/dataset1/dataset_8k/\n",
      "Loading cached validation data of dataset 0 from /nfs/students/summer-term-2020/project-4/data/dataset1/dataset_48k/\n"
     ]
    }
   ],
   "source": [
    "for model_name in models:\n",
    "    #datasetHandler.load(models[model_name], 'training')\n",
    "    datasetHandler.load(models[model_name], 'validation')\n",
    "    #datasetHandler.load(models[model_name], 'testing')"
   ]
  },
  {
   "cell_type": "markdown",
   "metadata": {},
   "source": [
    "# Attacks"
   ]
  },
  {
   "cell_type": "markdown",
   "metadata": {
    "heading_collapsed": true
   },
   "source": [
    "## Functional Attacks"
   ]
  },
  {
   "cell_type": "code",
   "execution_count": 125,
   "metadata": {
    "ExecuteTime": {
     "end_time": "2020-06-21T11:05:14.455900Z",
     "start_time": "2020-06-21T11:03:26.288245Z"
    },
    "hidden": true
   },
   "outputs": [
    {
     "name": "stderr",
     "output_type": "stream",
     "text": [
      "100%|██████████| 338/338 [01:46<00:00,  3.16it/s]"
     ]
    },
    {
     "name": "stdout",
     "output_type": "stream",
     "text": [
      "SpectrogramCNNPLModule\n",
      "Attack-Parameters:\t{'epsilonVolume': 0.1, 'epsilonPGD': 0.001, 'num_iter': 10}\n",
      "Early stopping: \tFalse (-1)\n",
      "\n",
      "Successfully attacked:\t503\n",
      "Total attacked: \t1483\n",
      "Total processed:\t1687\n",
      "\n",
      "Success-Rate: \t\t0.34\n",
      "Perturbed Accurracy: \t0.58\n",
      "\n"
     ]
    },
    {
     "name": "stderr",
     "output_type": "stream",
     "text": [
      "\n"
     ]
    }
   ],
   "source": [
    "from attacks.functionalVolume import FunctionalVolumeAttack\n",
    "\n",
    "attack_parameters = {'epsilonVolume': 0.1, 'epsilonPGD': 0.001, 'num_iter': 10}\n",
    "attacks = {}\n",
    "\n",
    "for model_name in models:\n",
    "    valid_loader = models[model_name].val_dataloader()\n",
    "    fva = FunctionalVolumeAttack(model, valid_loader, attack_parameters, save_samples=True)\n",
    "    fva.attack()\n",
    "    attacks[model_name] = fva\n",
    "    \n",
    "for model_name in attacks:\n",
    "    print(model_name)\n",
    "    attacks[model_name].report()\n",
    "    print()"
   ]
  },
  {
   "cell_type": "markdown",
   "metadata": {},
   "source": [
    "## FGSM"
   ]
  },
  {
   "cell_type": "code",
   "execution_count": 9,
   "metadata": {
    "ExecuteTime": {
     "end_time": "2020-07-07T16:19:02.780203Z",
     "start_time": "2020-07-07T15:39:00.770497Z"
    },
    "scrolled": true
   },
   "outputs": [
    {
     "name": "stdout",
     "output_type": "stream",
     "text": [
      "M5PLModule\n"
     ]
    },
    {
     "name": "stderr",
     "output_type": "stream",
     "text": [
      "100%|██████████| 57/57 [00:01<00:00, 35.70it/s]\n",
      "100%|██████████| 57/57 [00:03<00:00, 14.56it/s]\n",
      "100%|██████████| 57/57 [00:04<00:00, 14.06it/s]\n",
      "100%|██████████| 57/57 [00:04<00:00, 13.17it/s]\n",
      "100%|██████████| 57/57 [00:04<00:00, 12.86it/s]\n",
      "100%|██████████| 57/57 [00:04<00:00, 12.72it/s]\n",
      "100%|██████████| 57/57 [00:04<00:00, 12.70it/s]\n",
      "100%|██████████| 57/57 [00:04<00:00, 12.68it/s]\n",
      "100%|██████████| 57/57 [00:04<00:00, 12.77it/s]\n",
      "100%|██████████| 57/57 [00:04<00:00, 13.27it/s]\n"
     ]
    },
    {
     "name": "stdout",
     "output_type": "stream",
     "text": [
      "SpectrogramCNNPLModule\n"
     ]
    },
    {
     "name": "stderr",
     "output_type": "stream",
     "text": [
      "100%|██████████| 338/338 [00:05<00:00, 62.22it/s]\n",
      "100%|██████████| 338/338 [00:18<00:00, 18.07it/s]\n",
      "100%|██████████| 338/338 [00:19<00:00, 17.67it/s]\n",
      "100%|██████████| 338/338 [00:27<00:00, 12.35it/s]\n",
      "100%|██████████| 338/338 [00:40<00:00,  8.30it/s]\n",
      "100%|██████████| 338/338 [00:48<00:00,  6.97it/s]\n",
      "100%|██████████| 338/338 [00:47<00:00,  7.12it/s]\n",
      "100%|██████████| 338/338 [00:40<00:00,  8.36it/s]\n",
      "100%|██████████| 338/338 [00:36<00:00,  9.14it/s]\n",
      "100%|██████████| 338/338 [00:44<00:00,  7.57it/s]\n"
     ]
    },
    {
     "name": "stdout",
     "output_type": "stream",
     "text": [
      "DeepRecursiveCNNPLModule\n"
     ]
    },
    {
     "name": "stderr",
     "output_type": "stream",
     "text": [
      "100%|██████████| 844/844 [01:24<00:00,  9.97it/s]\n",
      "100%|██████████| 844/844 [02:54<00:00,  4.83it/s]\n",
      "100%|██████████| 844/844 [02:34<00:00,  5.45it/s]\n",
      "100%|██████████| 844/844 [02:50<00:00,  4.96it/s]\n",
      "100%|██████████| 844/844 [02:47<00:00,  5.05it/s]\n",
      "100%|██████████| 844/844 [02:49<00:00,  4.99it/s]\n",
      "100%|██████████| 844/844 [02:54<00:00,  4.84it/s]\n",
      "100%|██████████| 844/844 [02:59<00:00,  4.71it/s]\n",
      "100%|██████████| 844/844 [02:58<00:00,  4.72it/s]\n",
      "100%|██████████| 844/844 [03:02<00:00,  4.63it/s]\n"
     ]
    },
    {
     "name": "stdout",
     "output_type": "stream",
     "text": [
      "CRNNPLModule\n"
     ]
    },
    {
     "name": "stderr",
     "output_type": "stream",
     "text": [
      "100%|██████████| 71/71 [00:02<00:00, 26.21it/s]\n",
      "100%|██████████| 71/71 [00:08<00:00,  8.66it/s]\n",
      "100%|██████████| 71/71 [00:08<00:00,  8.67it/s]\n",
      "100%|██████████| 71/71 [00:08<00:00,  8.29it/s]\n",
      "100%|██████████| 71/71 [00:20<00:00,  3.46it/s]\n",
      "100%|██████████| 71/71 [00:23<00:00,  3.00it/s]\n",
      "100%|██████████| 71/71 [00:18<00:00,  3.83it/s]\n",
      "100%|██████████| 71/71 [00:34<00:00,  2.04it/s]\n",
      "100%|██████████| 71/71 [00:22<00:00,  3.11it/s]\n",
      "100%|██████████| 71/71 [00:33<00:00,  2.12it/s]\n"
     ]
    }
   ],
   "source": [
    "from attacks.pgd import ProjectedGradientDescent\n",
    "\n",
    "epsilons = [0, 0.001, 0.002, 0.005, 0.01, 0.02, 0.05, 0.1, 0.2, 0.5]\n",
    "\n",
    "attacks = {}\n",
    "for model_name in models:\n",
    "    print(model_name)\n",
    "    \n",
    "    for eps in epsilons:\n",
    "        attack_parameters = {'epsilon': eps, 'num_iter': 1}\n",
    "        valid_loader = models[model_name].val_dataloader()\n",
    "        fgsm = ProjectedGradientDescent(models[model_name], valid_loader, attack_parameters, save_samples=True)\n",
    "        fgsm.attack(cudnn_RNN_backward_bug=True)\n",
    "        attacks.setdefault(model_name, []).append(fgsm)"
   ]
  },
  {
   "cell_type": "code",
   "execution_count": 12,
   "metadata": {
    "ExecuteTime": {
     "end_time": "2020-07-07T16:33:24.856707Z",
     "start_time": "2020-07-07T16:33:24.063025Z"
    },
    "scrolled": true
   },
   "outputs": [
    {
     "name": "stdout",
     "output_type": "stream",
     "text": [
      "M5PLModule\n",
      "Attack-Parameters:\t{'epsilon': 0.005, 'num_iter': 1}\n",
      "Early stopping: \tFalse (-1)\n",
      "\n",
      "Successfully attacked:\t795\n",
      "Total attacked: \t1420\n",
      "Total processed:\t1687\n",
      "\n",
      "Success-Rate: \t\t0.56\n",
      "Perturbed Accurracy: \t0.37\n",
      "{'success_rate': 0.5598591549295775, 'acc': 0.37048014226437465}\n",
      "\n",
      "SpectrogramCNNPLModule\n",
      "Attack-Parameters:\t{'epsilon': 0.005, 'num_iter': 1}\n",
      "Early stopping: \tFalse (-1)\n",
      "\n",
      "Successfully attacked:\t529\n",
      "Total attacked: \t1520\n",
      "Total processed:\t1687\n",
      "\n",
      "Success-Rate: \t\t0.35\n",
      "Perturbed Accurracy: \t0.59\n",
      "{'success_rate': 0.3480263157894737, 'acc': 0.5874333135743924}\n",
      "\n",
      "DeepRecursiveCNNPLModule\n",
      "Attack-Parameters:\t{'epsilon': 0.005, 'num_iter': 1}\n",
      "Early stopping: \tFalse (-1)\n",
      "\n",
      "Successfully attacked:\t253\n",
      "Total attacked: \t1422\n",
      "Total processed:\t1687\n",
      "\n",
      "Success-Rate: \t\t0.18\n",
      "Perturbed Accurracy: \t0.69\n",
      "{'success_rate': 0.1779184247538678, 'acc': 0.6929460580912863}\n",
      "\n",
      "CRNNPLModule\n",
      "Attack-Parameters:\t{'epsilon': 0.005, 'num_iter': 1}\n",
      "Early stopping: \tFalse (-1)\n",
      "\n",
      "Successfully attacked:\t83\n",
      "Total attacked: \t1478\n",
      "Total processed:\t1687\n",
      "\n",
      "Success-Rate: \t\t0.06\n",
      "Perturbed Accurracy: \t0.83\n",
      "{'success_rate': 0.05615696887686062, 'acc': 0.8269116775340841}\n",
      "\n"
     ]
    }
   ],
   "source": [
    "for model_name in attacks:\n",
    "    print(model_name)\n",
    "    print(attacks[model_name][3].report())\n",
    "    print()"
   ]
  },
  {
   "cell_type": "code",
   "execution_count": 13,
   "metadata": {
    "ExecuteTime": {
     "end_time": "2020-07-07T17:03:44.315708Z",
     "start_time": "2020-07-07T17:03:32.069126Z"
    }
   },
   "outputs": [],
   "source": [
    "from utils.Visual import draw_plot "
   ]
  },
  {
   "cell_type": "code",
   "execution_count": 52,
   "metadata": {
    "ExecuteTime": {
     "end_time": "2020-07-07T17:42:40.020754Z",
     "start_time": "2020-07-07T17:42:39.966436Z"
    }
   },
   "outputs": [],
   "source": [
    "#colors = ['r', 'b', 'grey', 'g']\n",
    "y = []\n",
    "for i in range(len(attacks)):\n",
    "    model_name = list(attacks.keys())[i]\n",
    "    y_i = {'data': [attack.getAccuracy() for attack in attacks[model_name]]}\n",
    "    #y_i['color'] = colors[i]\n",
    "    y_i['label'] = model_name[:-8]\n",
    "    if y_i['label'] == 'M5':\n",
    "        y_i['label'] = \"FullyConvolutional\"\n",
    "    y.append(y_i)"
   ]
  },
  {
   "cell_type": "code",
   "execution_count": 60,
   "metadata": {
    "ExecuteTime": {
     "end_time": "2020-07-07T17:45:33.678710Z",
     "start_time": "2020-07-07T17:45:32.937841Z"
    }
   },
   "outputs": [
    {
     "data": {
      "image/png": "[encoded data removed]",
      "text/plain": [
       "<Figure size 864x576 with 1 Axes>"
      ]
     },
     "metadata": {},
     "output_type": "display_data"
    }
   ],
   "source": [
    "draw_plot(epsilons, data = y, legend_x_offset=1.5, title=\"FGSM\",\n",
    "          legend_title=\"Model\", x_label=\"epsilon\", y_label=\"Accuracy\")"
   ]
  },
  {
   "cell_type": "markdown",
   "metadata": {
    "heading_collapsed": true
   },
   "source": [
    "## PGD "
   ]
  },
  {
   "cell_type": "code",
   "execution_count": 73,
   "metadata": {
    "ExecuteTime": {
     "end_time": "2020-06-22T18:56:37.158490Z",
     "start_time": "2020-06-22T18:51:49.902196Z"
    },
    "hidden": true
   },
   "outputs": [
    {
     "name": "stderr",
     "output_type": "stream",
     "text": [
      "100%|██████████| 338/338 [04:25<00:00,  1.27it/s]\n"
     ]
    },
    {
     "name": "stdout",
     "output_type": "stream",
     "text": [
      "SpectrogramCNNPLModule\n",
      "Attack-Parameters:\t{'epsilon': 0.0005, 'num_iter': 10}\n",
      "Early stopping: \tFalse (-1)\n",
      "\n",
      "Successfully attacked:\t229\n",
      "Total attacked: \t1483\n",
      "Total processed:\t1687\n",
      "\n",
      "Success-Rate: \t\t0.15\n",
      "Perturbed Accurracy: \t0.74\n",
      "\n"
     ]
    }
   ],
   "source": [
    "from attacks.pgd import ProjectedGradientDescent\n",
    "\n",
    "attack_parameters = {'epsilon': 0.0005, 'num_iter': 10}\n",
    "attacks = {}\n",
    "\n",
    "for model_name in models:\n",
    "    valid_loader = models[model_name].val_dataloader()\n",
    "    fgsm = ProjectedGradientDescent(model, valid_loader, attack_parameters, save_samples=True)\n",
    "    fgsm.attack()\n",
    "    attacks[model_name] = fgsm\n",
    "    \n",
    "for model_name in attacks:\n",
    "    print(model_name)\n",
    "    attacks[model_name].report()\n",
    "    print()"
   ]
  },
  {
   "cell_type": "code",
   "execution_count": 74,
   "metadata": {
    "ExecuteTime": {
     "end_time": "2020-06-22T18:56:37.508279Z",
     "start_time": "2020-06-22T18:56:37.166521Z"
    },
    "hidden": true
   },
   "outputs": [],
   "source": [
    "# attacks['SpectrogramCNNPLModule'].showAdversarialExample(target_class=1)"
   ]
  },
  {
   "cell_type": "markdown",
   "metadata": {
    "heading_collapsed": true
   },
   "source": [
    "## Volume attacks"
   ]
  },
  {
   "cell_type": "code",
   "execution_count": 116,
   "metadata": {
    "ExecuteTime": {
     "end_time": "2020-06-21T10:53:42.014071Z",
     "start_time": "2020-06-21T10:51:54.856389Z"
    },
    "hidden": true,
    "scrolled": true
   },
   "outputs": [
    {
     "name": "stderr",
     "output_type": "stream",
     "text": [
      "100%|██████████| 338/338 [01:43<00:00,  3.25it/s]"
     ]
    },
    {
     "name": "stdout",
     "output_type": "stream",
     "text": [
      "SpectrogramCNNPLModule\n",
      "Attack-Parameters:\t{'epsilon': 0.1, 'num_iter': 10}\n",
      "Early stopping: \tFalse (-1)\n",
      "\n",
      "Successfully attacked:\t5\n",
      "Total attacked: \t1483\n",
      "Total processed:\t1687\n",
      "\n",
      "Success-Rate: \t\t0.0\n",
      "Perturbed Accurracy: \t0.88\n",
      "\n"
     ]
    },
    {
     "name": "stderr",
     "output_type": "stream",
     "text": [
      "\n"
     ]
    }
   ],
   "source": [
    "from attacks.volume import VolumeAttack\n",
    "\n",
    "attack_parameters = {'epsilon': 0.1, 'num_iter': 10}\n",
    "attacks = {}\n",
    "\n",
    "for model_name in models:\n",
    "    valid_loader = models[model_name].val_dataloader()\n",
    "    attack = VolumeAttack(model, valid_loader, attack_parameters, save_samples=False)\n",
    "    attack.attack()\n",
    "    attacks[model_name] = attack\n",
    "    \n",
    "for model_name in attacks:\n",
    "    print(model_name)\n",
    "    attacks[model_name].report()\n",
    "    print()"
   ]
  },
  {
   "cell_type": "markdown",
   "metadata": {
    "heading_collapsed": true
   },
   "source": [
    "## Interpolation attack"
   ]
  },
  {
   "cell_type": "code",
   "execution_count": 60,
   "metadata": {
    "ExecuteTime": {
     "end_time": "2020-06-13T17:25:43.400298Z",
     "start_time": "2020-06-13T17:25:21.211845Z"
    },
    "hidden": true,
    "scrolled": true
   },
   "outputs": [
    {
     "name": "stderr",
     "output_type": "stream",
     "text": [
      "100%|██████████| 85/85 [00:21<00:00,  3.90it/s]\n"
     ]
    }
   ],
   "source": [
    "from attacks.interpolation import InterpolationAttack\n",
    "\n",
    "attacks = {}\n",
    "\n",
    "for model_name in fast_model:\n",
    "    valid_loader = models[model_name].getDataLoader('validation', batch_size=20)\n",
    "    test_sound = 0.2*next(iter(valid_loader))['audio'][0]\n",
    "    attack_parameters = {'epsilon': 0.2, 'num_iter': 10, 'overlay_sound': test_sound}\n",
    "    attack = InterpolationAttack(model, valid_loader, attack_parameters, save_samples=False)\n",
    "    attack.attack()\n",
    "    attacks[model_name] = attack"
   ]
  },
  {
   "cell_type": "code",
   "execution_count": 59,
   "metadata": {
    "ExecuteTime": {
     "end_time": "2020-06-13T17:25:05.473913Z",
     "start_time": "2020-06-13T17:25:05.446834Z"
    },
    "hidden": true
   },
   "outputs": [
    {
     "name": "stdout",
     "output_type": "stream",
     "text": [
      "M5\n",
      "Attack-Parameters:\t{'epsilon': 0.2, 'num_iter': 10, 'overlay_sound': tensor([-0.0449, -0.0255, -0.0231,  ..., -0.0050,  0.0054, -0.0017])}\n",
      "Early stopping: \tFalse (-1)\n",
      "\n",
      "Successfully attacked:\t7\n",
      "Total attacked: \t1356\n",
      "Total processed:\t1687\n",
      "\n",
      "Success-Rate: \t\t0.01\n",
      "Perturbed Accurracy: \t0.8\n",
      "\n"
     ]
    }
   ],
   "source": [
    "for model_name in attacks:\n",
    "    print(model_name)\n",
    "    attacks[model_name].report()\n",
    "    print()"
   ]
  },
  {
   "cell_type": "markdown",
   "metadata": {
    "heading_collapsed": true
   },
   "source": [
    "## Time stretching attack "
   ]
  },
  {
   "cell_type": "code",
   "execution_count": 61,
   "metadata": {
    "ExecuteTime": {
     "end_time": "2020-06-13T22:50:25.506605Z",
     "start_time": "2020-06-13T22:49:43.147888Z"
    },
    "hidden": true
   },
   "outputs": [
    {
     "name": "stderr",
     "output_type": "stream",
     "text": [
      "100%|██████████| 57/57 [00:42<00:00,  1.35it/s]\n"
     ]
    }
   ],
   "source": [
    "from attacks.speed import TimeStretchAttack\n",
    "\n",
    "attack_parameters = {'num_iter': 30, 'lower': 0.5, 'upper': 1.5}\n",
    "attacks = {}\n",
    "\n",
    "for model_name in fast_model:\n",
    "    valid_loader = models[model_name].getDataLoader('validation', batch_size=30)\n",
    "    attack = TimeStretchAttack(model, valid_loader, attack_parameters, early_stopping=10)\n",
    "    attack.attack()\n",
    "    attacks[model_name] = attack"
   ]
  },
  {
   "cell_type": "code",
   "execution_count": 65,
   "metadata": {
    "ExecuteTime": {
     "end_time": "2020-06-13T22:51:16.063073Z",
     "start_time": "2020-06-13T22:51:16.026281Z"
    },
    "hidden": true
   },
   "outputs": [],
   "source": [
    "# attacks['M5'].showAdversarialExample(target_class=1)"
   ]
  },
  {
   "cell_type": "code",
   "execution_count": 66,
   "metadata": {
    "ExecuteTime": {
     "end_time": "2020-06-13T22:51:18.084961Z",
     "start_time": "2020-06-13T22:51:18.044370Z"
    },
    "hidden": true
   },
   "outputs": [
    {
     "name": "stdout",
     "output_type": "stream",
     "text": [
      "M5\n",
      "Attack-Parameters:\t{'num_iter': 30, 'lower': 0.5, 'upper': 1.5}\n",
      "Early stopping: \tFalse (-1)\n",
      "\n",
      "Successfully attacked:\t108\n",
      "Total attacked: \t1356\n",
      "Total processed:\t1687\n",
      "\n",
      "Success-Rate: \t\t0.08\n",
      "Perturbed Accurracy: \t0.74\n",
      "\n"
     ]
    }
   ],
   "source": [
    "#tsa.showAdversarialExample(target_class=0)\n",
    "for model_name in attacks:\n",
    "    print(model_name)\n",
    "    attacks[model_name].report()\n",
    "    print()"
   ]
  },
  {
   "cell_type": "markdown",
   "metadata": {
    "heading_collapsed": true
   },
   "source": [
    "## Pitch attack"
   ]
  },
  {
   "cell_type": "code",
   "execution_count": 55,
   "metadata": {
    "ExecuteTime": {
     "end_time": "2020-06-13T22:46:30.875821Z",
     "start_time": "2020-06-13T22:46:11.053348Z"
    },
    "hidden": true,
    "scrolled": true
   },
   "outputs": [
    {
     "name": "stderr",
     "output_type": "stream",
     "text": [
      "  5%|▌         | 3/57 [00:19<05:52,  6.53s/it]"
     ]
    },
    {
     "name": "stdout",
     "output_type": "stream",
     "text": [
      "Early stopping\n"
     ]
    },
    {
     "name": "stderr",
     "output_type": "stream",
     "text": [
      "\n"
     ]
    }
   ],
   "source": [
    "from attacks.pitch import PitchAttack\n",
    "\n",
    "attack_parameters = {'num_iter': 5, 'lower': -1, 'upper': 5}\n",
    "attacks = {}\n",
    "\n",
    "for model_name in fast_model:\n",
    "    valid_loader = models[model_name].getDataLoader('validation', batch_size=30)\n",
    "    attack = PitchAttack(model, valid_loader, attack_parameters, early_stopping=10)\n",
    "    attack.attack()\n",
    "    attacks[model_name] = attack"
   ]
  },
  {
   "cell_type": "code",
   "execution_count": 58,
   "metadata": {
    "ExecuteTime": {
     "end_time": "2020-06-13T22:47:19.777822Z",
     "start_time": "2020-06-13T22:47:19.476692Z"
    },
    "hidden": true
   },
   "outputs": [],
   "source": [
    "#attacks['M5'].showAdversarialExample(target_class=1)"
   ]
  },
  {
   "cell_type": "code",
   "execution_count": 57,
   "metadata": {
    "ExecuteTime": {
     "end_time": "2020-06-13T22:46:40.865487Z",
     "start_time": "2020-06-13T22:46:40.821334Z"
    },
    "hidden": true,
    "scrolled": true
   },
   "outputs": [
    {
     "name": "stdout",
     "output_type": "stream",
     "text": [
      "Attack-Parameters:\t{'num_iter': 5, 'lower': -1, 'upper': 5}\n",
      "Early stopping: \tTrue (10)\n",
      "\n",
      "Successfully attacked:\t14\n",
      "Total attacked: \t95\n",
      "Total processed:\t120\n",
      "\n",
      "Success-Rate: \t\t0.15\n",
      "Perturbed Accurracy: \t0.68\n"
     ]
    },
    {
     "data": {
      "text/plain": [
       "{'success_rate': 0.14736842105263157, 'acc': 0.675}"
      ]
     },
     "execution_count": 57,
     "metadata": {},
     "output_type": "execute_result"
    }
   ],
   "source": [
    "attacks['M5'].report()"
   ]
  }
 ],
 "metadata": {
  "kernelspec": {
   "display_name": "Python 3",
   "language": "python",
   "name": "python3"
  },
  "language_info": {
   "codemirror_mode": {
    "name": "ipython",
    "version": 3
   },
   "file_extension": ".py",
   "mimetype": "text/x-python",
   "name": "python",
   "nbconvert_exporter": "python",
   "pygments_lexer": "ipython3",
   "version": "3.8.2"
  },
  "notify_time": "5"
 },
 "nbformat": 4,
 "nbformat_minor": 4
}
