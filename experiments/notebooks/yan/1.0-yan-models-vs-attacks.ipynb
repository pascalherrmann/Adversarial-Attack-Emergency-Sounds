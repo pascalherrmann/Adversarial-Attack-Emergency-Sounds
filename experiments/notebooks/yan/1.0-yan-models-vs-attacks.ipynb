{
 "cells": [
  {
   "cell_type": "code",
   "execution_count": 1,
   "metadata": {
    "ExecuteTime": {
     "end_time": "2020-07-09T17:43:56.010123Z",
     "start_time": "2020-07-09T17:43:55.544597Z"
    }
   },
   "outputs": [],
   "source": [
    "%load_ext autoreload\n",
    "%autoreload 2\n",
    "import torch\n",
    "\n",
    "import os\n",
    "import sys\n",
    "module_path = os.path.abspath(os.path.join('../../../src/'))\n",
    "if module_path not in sys.path:\n",
    "    sys.path.append(module_path)\n",
    "    \n",
    "device = 'cuda' if torch.cuda.is_available() else 'cpu'"
   ]
  },
  {
   "cell_type": "markdown",
   "metadata": {},
   "source": [
    "# Load models"
   ]
  },
  {
   "cell_type": "code",
   "execution_count": 2,
   "metadata": {
    "ExecuteTime": {
     "end_time": "2020-07-09T17:43:56.256685Z",
     "start_time": "2020-07-09T17:43:56.021863Z"
    }
   },
   "outputs": [],
   "source": [
    "from classification.models.M5 import M5PLModule\n",
    "#from classification.models.CRNN import CRNNPLModule\n",
    "from classification.models.SpectrogramCNN import SpectrogramCNNPLModule\n",
    "from classification.models.DeepRecursiveCNN import DeepRecursiveCNNPLModule\n",
    "\n",
    "models = {}"
   ]
  },
  {
   "cell_type": "code",
   "execution_count": 3,
   "metadata": {
    "ExecuteTime": {
     "end_time": "2020-07-09T17:43:59.491807Z",
     "start_time": "2020-07-09T17:43:57.912546Z"
    }
   },
   "outputs": [],
   "source": [
    "loaded_dict = torch.load(\"/nfs/students/summer-term-2020/project-4/SAVED_MODELS/M5/M5_vanilla.p\")\n",
    "hparams = loaded_dict[\"hparams\"]\n",
    "hparams['batch_size'] = 30\n",
    "\n",
    "model = M5PLModule(hparams)\n",
    "model.model.load_state_dict(loaded_dict[\"state_dict\"])\n",
    "model = model.eval().cuda()\n",
    "\n",
    "models[model.__class__.__name__] = model"
   ]
  },
  {
   "cell_type": "code",
   "execution_count": 4,
   "metadata": {
    "ExecuteTime": {
     "end_time": "2020-07-09T17:43:59.525779Z",
     "start_time": "2020-07-09T17:43:59.495902Z"
    }
   },
   "outputs": [],
   "source": [
    "state_dict_path = '/nfs/students/summer-term-2020/project-4/SAVED_MODELS/SpectrogramCNN/optuna_90.5.p'\n",
    "loaded_dict = torch.load(state_dict_path)\n",
    "loaded_dict['hparams']['batch_size'] = 5\n",
    "model = SpectrogramCNNPLModule(loaded_dict['hparams'])\n",
    "model.model.load_state_dict(loaded_dict['state_dict'])\n",
    "model = model.cuda()\n",
    "model = model.eval()\n",
    "\n",
    "models[model.__class__.__name__] = model"
   ]
  },
  {
   "cell_type": "code",
   "execution_count": 5,
   "metadata": {
    "ExecuteTime": {
     "end_time": "2020-07-09T17:43:59.572729Z",
     "start_time": "2020-07-09T17:43:59.529427Z"
    }
   },
   "outputs": [],
   "source": [
    "model_state_dict_path = \"/nfs/students/summer-term-2020/project-4/yan/models/best_model_state_dict.pt\"\n",
    "\n",
    "hparams = {\n",
    "    \"batch_size\": 2,\n",
    "    \"learning_rate\": 0.001,\n",
    "    \"weight_decay\": 0,\n",
    "    \"lr_decay\": 1\n",
    "}\n",
    "\n",
    "model = DeepRecursiveCNNPLModule(hparams)\n",
    "model.model.load_state_dict(torch.load(model_state_dict_path))\n",
    "model = model.eval()\n",
    "\n",
    "models[model.__class__.__name__] = model"
   ]
  },
  {
   "cell_type": "code",
   "execution_count": 6,
   "metadata": {
    "ExecuteTime": {
     "end_time": "2020-07-09T17:44:01.371192Z",
     "start_time": "2020-07-09T17:44:01.338964Z"
    }
   },
   "outputs": [
    {
     "data": {
      "text/plain": [
       "\"\\nstate_dict_path = '/nfs/students/summer-term-2020/project-4/SAVED_MODELS/CRNN/vanilla0.886.p'\\n\\nloaded_dict = torch.load(state_dict_path)\\n\\nmodel = CRNNPLModule(loaded_dict['hparams'])\\nmodel.model.load_state_dict(loaded_dict['state_dict'])\\nmodel = model.eval().cuda()\\n\\nmodels[model.__class__.__name__] = model\\n\""
      ]
     },
     "execution_count": 6,
     "metadata": {},
     "output_type": "execute_result"
    }
   ],
   "source": [
    "'''\n",
    "state_dict_path = '/nfs/students/summer-term-2020/project-4/SAVED_MODELS/CRNN/vanilla0.886.p'\n",
    "\n",
    "loaded_dict = torch.load(state_dict_path)\n",
    "\n",
    "model = CRNNPLModule(loaded_dict['hparams'])\n",
    "model.model.load_state_dict(loaded_dict['state_dict'])\n",
    "model = model.eval().cuda()\n",
    "\n",
    "models[model.__class__.__name__] = model\n",
    "'''"
   ]
  },
  {
   "cell_type": "code",
   "execution_count": 7,
   "metadata": {
    "ExecuteTime": {
     "end_time": "2020-07-09T17:43:31.565534Z",
     "start_time": "2020-07-09T17:43:31.551066Z"
    }
   },
   "outputs": [],
   "source": [
    "fast_model = {'SpectrogramCNNPLModule': models['SpectrogramCNNPLModule']}"
   ]
  },
  {
   "cell_type": "markdown",
   "metadata": {},
   "source": [
    "# Load Data"
   ]
  },
  {
   "cell_type": "code",
   "execution_count": 8,
   "metadata": {
    "ExecuteTime": {
     "end_time": "2020-07-09T17:44:11.979672Z",
     "start_time": "2020-07-09T17:44:11.899401Z"
    }
   },
   "outputs": [],
   "source": [
    "from datasets.datasethandler import DatasetHandler\n",
    "datasetHandler = DatasetHandler()"
   ]
  },
  {
   "cell_type": "code",
   "execution_count": 9,
   "metadata": {
    "ExecuteTime": {
     "end_time": "2020-07-09T17:44:14.758420Z",
     "start_time": "2020-07-09T17:44:12.614142Z"
    }
   },
   "outputs": [
    {
     "name": "stdout",
     "output_type": "stream",
     "text": [
      "Loading cached validation data of dataset 0 from /nfs/students/summer-term-2020/project-4/data/dataset1/dataset_8k/\n",
      "Loading cached validation data of dataset 0 from /nfs/students/summer-term-2020/project-4/data/dataset1/dataset_48k/\n"
     ]
    }
   ],
   "source": [
    "for model_name in models:\n",
    "    #datasetHandler.load(models[model_name], 'training')\n",
    "    datasetHandler.load(models[model_name], 'validation')\n",
    "    #datasetHandler.load(models[model_name], 'testing')"
   ]
  },
  {
   "cell_type": "markdown",
   "metadata": {},
   "source": [
    "# Attacks"
   ]
  },
  {
   "cell_type": "markdown",
   "metadata": {
    "heading_collapsed": true
   },
   "source": [
    "## Functional Attacks"
   ]
  },
  {
   "cell_type": "code",
   "execution_count": null,
   "metadata": {
    "ExecuteTime": {
     "start_time": "2020-07-09T17:43:29.203Z"
    },
    "hidden": true
   },
   "outputs": [
    {
     "name": "stderr",
     "output_type": "stream",
     "text": [
      " 19%|█▉        | 11/57 [00:12<00:52,  1.14s/it]"
     ]
    }
   ],
   "source": [
    "from attacks.functionalVolume import FunctionalVolumeAttack\n",
    "\n",
    "attack_parameters = {'epsilonVolume': 0.1, 'epsilonPGD': 0.001, 'num_iter': 10}\n",
    "attacks = {}\n",
    "\n",
    "for model_name in models:\n",
    "    valid_loader = models[model_name].val_dataloader()\n",
    "    fva = FunctionalVolumeAttack(model, valid_loader, attack_parameters, save_samples=True)\n",
    "    fva.attack()\n",
    "    attacks[model_name] = fva\n",
    "    \n",
    "for model_name in attacks:\n",
    "    print(model_name)\n",
    "    attacks[model_name].report()\n",
    "    print()"
   ]
  },
  {
   "cell_type": "markdown",
   "metadata": {},
   "source": [
    "## FGSM"
   ]
  },
  {
   "cell_type": "code",
   "execution_count": 10,
   "metadata": {
    "ExecuteTime": {
     "end_time": "2020-07-09T17:47:21.980636Z",
     "start_time": "2020-07-09T17:44:21.377372Z"
    },
    "scrolled": true
   },
   "outputs": [
    {
     "name": "stderr",
     "output_type": "stream",
     "text": [
      "100%|██████████| 57/57 [00:04<00:00, 12.13it/s]\n",
      "100%|██████████| 338/338 [00:17<00:00, 19.24it/s]\n",
      "100%|██████████| 844/844 [02:28<00:00,  5.70it/s]\n"
     ]
    }
   ],
   "source": [
    "from attacks.pgd import ProjectedGradientDescent\n",
    "\n",
    "epsilons = [0.02]\n",
    "#epsilons = [0, 0.001, 0.002, 0.005, 0.01, 0.02, 0.05, 0.1, 0.2, 0.5]\n",
    "\n",
    "attacks = {}\n",
    "for model_name in models:\n",
    "    for eps in epsilons:\n",
    "        attack_parameters = {'epsilon': eps, 'num_iter': 1}\n",
    "        valid_loader = models[model_name].val_dataloader()\n",
    "        fgsm = ProjectedGradientDescent(models[model_name], valid_loader, attack_parameters, save_samples=True)\n",
    "        #fgsm.attack(cudnn_RNN_backward_bug=True)\n",
    "        fgsm.attack(cudnn_RNN_backward_bug=False)\n",
    "        attacks.setdefault(model_name, []).append(fgsm)"
   ]
  },
  {
   "cell_type": "code",
   "execution_count": 16,
   "metadata": {
    "ExecuteTime": {
     "end_time": "2020-07-09T17:50:20.060799Z",
     "start_time": "2020-07-09T17:50:20.028505Z"
    },
    "scrolled": true
   },
   "outputs": [
    {
     "name": "stdout",
     "output_type": "stream",
     "text": [
      "M5PLModule\n",
      "Attack-Parameters:\t{'epsilon': 0.02, 'num_iter': 1}\n",
      "Early stopping: \tFalse (-1)\n",
      "\n",
      "Successfully attacked:\t1368\n",
      "Total attacked: \t1440\n",
      "Total processed:\t1687\n",
      "\n",
      "Success-Rate: \t\t0.95\n",
      "Perturbed Accurracy: \t0.04\n",
      "{'success_rate': 0.95, 'acc': 0.04267931238885596}\n",
      "\n",
      "SpectrogramCNNPLModule\n",
      "Attack-Parameters:\t{'epsilon': 0.02, 'num_iter': 1}\n",
      "Early stopping: \tFalse (-1)\n",
      "\n",
      "Successfully attacked:\t884\n",
      "Total attacked: \t1524\n",
      "Total processed:\t1687\n",
      "\n",
      "Success-Rate: \t\t0.58\n",
      "Perturbed Accurracy: \t0.38\n",
      "{'success_rate': 0.5800524934383202, 'acc': 0.3793716656787196}\n",
      "\n",
      "DeepRecursiveCNNPLModule\n",
      "Attack-Parameters:\t{'epsilon': 0.02, 'num_iter': 1}\n",
      "Early stopping: \tFalse (-1)\n",
      "\n",
      "Successfully attacked:\t777\n",
      "Total attacked: \t1503\n",
      "Total processed:\t1687\n",
      "\n",
      "Success-Rate: \t\t0.52\n",
      "Perturbed Accurracy: \t0.43\n",
      "{'success_rate': 0.5169660678642715, 'acc': 0.4303497332542976}\n",
      "\n"
     ]
    }
   ],
   "source": [
    "for model_name in attacks:\n",
    "    print(model_name)\n",
    "    print(attacks[model_name][0].report())\n",
    "    print()"
   ]
  },
  {
   "cell_type": "code",
   "execution_count": 17,
   "metadata": {
    "ExecuteTime": {
     "end_time": "2020-07-09T17:50:37.549792Z",
     "start_time": "2020-07-09T17:50:27.313976Z"
    }
   },
   "outputs": [],
   "source": [
    "from utils.Visual import draw_plot "
   ]
  },
  {
   "cell_type": "code",
   "execution_count": 18,
   "metadata": {
    "ExecuteTime": {
     "end_time": "2020-07-09T17:50:37.666379Z",
     "start_time": "2020-07-09T17:50:37.554087Z"
    }
   },
   "outputs": [],
   "source": [
    "#colors = ['r', 'b', 'grey', 'g']\n",
    "y = []\n",
    "for i in range(len(attacks)):\n",
    "    model_name = list(attacks.keys())[i]\n",
    "    y_i = {'data': [attack.getAccuracy() for attack in attacks[model_name]]}\n",
    "    #y_i['color'] = colors[i]\n",
    "    y_i['label'] = model_name[:-8]\n",
    "    if y_i['label'] == 'M5':\n",
    "        y_i['label'] = \"FullyConvolutional\"\n",
    "    y.append(y_i)"
   ]
  },
  {
   "cell_type": "code",
   "execution_count": 21,
   "metadata": {
    "ExecuteTime": {
     "end_time": "2020-07-09T17:50:51.677721Z",
     "start_time": "2020-07-09T17:50:51.639103Z"
    }
   },
   "outputs": [
    {
     "data": {
      "text/plain": [
       "[{'data': [0.04267931238885596], 'label': 'FullyConvolutional', 'color': 'r'},\n",
       " {'data': [0.3793716656787196], 'label': 'SpectrogramCNN', 'color': 'g'},\n",
       " {'data': [0.4303497332542976],\n",
       "  'label': 'DeepRecursiveCNN',\n",
       "  'color': 'darkorange'}]"
      ]
     },
     "execution_count": 21,
     "metadata": {},
     "output_type": "execute_result"
    }
   ],
   "source": [
    "y"
   ]
  },
  {
   "cell_type": "code",
   "execution_count": 22,
   "metadata": {
    "ExecuteTime": {
     "end_time": "2020-07-09T17:51:13.932768Z",
     "start_time": "2020-07-09T17:51:13.360760Z"
    }
   },
   "outputs": [
    {
     "data": {
      "image/png": "[encoded data removed]",
      "text/plain": [
       "<Figure size 864x576 with 1 Axes>"
      ]
     },
     "metadata": {},
     "output_type": "display_data"
    }
   ],
   "source": [
    "#y[0]['color'], y[1]['color'], y[2]['color'], y[3]['color'] = 'r', 'g', 'darkorange', 'b'\n",
    "y[0]['color'], y[1]['color'], y[2]['color'] = 'r', 'g', 'darkorange'\n",
    "draw_plot(epsilons, data = reversed(y), legend_x_offset=1.5, title=\"FGSM\",\n",
    "          legend_title=\"Model\", x_label=\"Epsilon\", y_label=\"Accuracy\", context=\"poster\")"
   ]
  }
 ],
 "metadata": {
  "kernelspec": {
   "display_name": "Python 3",
   "language": "python",
   "name": "python3"
  },
  "language_info": {
   "codemirror_mode": {
    "name": "ipython",
    "version": 3
   },
   "file_extension": ".py",
   "mimetype": "text/x-python",
   "name": "python",
   "nbconvert_exporter": "python",
   "pygments_lexer": "ipython3",
   "version": "3.8.2"
  },
  "notify_time": "5"
 },
 "nbformat": 4,
 "nbformat_minor": 4
}
