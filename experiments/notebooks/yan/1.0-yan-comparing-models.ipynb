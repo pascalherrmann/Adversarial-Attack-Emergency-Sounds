{
 "cells": [
  {
   "cell_type": "code",
   "execution_count": 3,
   "metadata": {
    "ExecuteTime": {
     "end_time": "2020-07-11T16:03:52.203300Z",
     "start_time": "2020-07-11T16:03:52.071903Z"
    }
   },
   "outputs": [
    {
     "name": "stdout",
     "output_type": "stream",
     "text": [
      "The autoreload extension is already loaded. To reload it, use:\n",
      "  %reload_ext autoreload\n"
     ]
    }
   ],
   "source": [
    "%load_ext autoreload\n",
    "%autoreload 2\n",
    "import torch\n",
    "\n",
    "import os\n",
    "import sys\n",
    "module_path = os.path.abspath(os.path.join('../../../src/'))\n",
    "if module_path not in sys.path:\n",
    "    sys.path.append(module_path)"
   ]
  },
  {
   "cell_type": "code",
   "execution_count": 4,
   "metadata": {
    "ExecuteTime": {
     "end_time": "2020-07-11T16:03:53.185264Z",
     "start_time": "2020-07-11T16:03:53.153881Z"
    }
   },
   "outputs": [
    {
     "ename": "NameError",
     "evalue": "name 'Audioset' is not defined",
     "output_type": "error",
     "traceback": [
      "\u001b[0;31m---------------------------------------------------------------------------\u001b[0m",
      "\u001b[0;31mNameError\u001b[0m                                 Traceback (most recent call last)",
      "\u001b[0;32m<ipython-input-4-3f7f35db5fdf>\u001b[0m in \u001b[0;36m<module>\u001b[0;34m\u001b[0m\n\u001b[1;32m      3\u001b[0m \u001b[0;32mfrom\u001b[0m \u001b[0mdatasets\u001b[0m\u001b[0;34m.\u001b[0m\u001b[0mEmergencyDataset\u001b[0m \u001b[0;32mimport\u001b[0m \u001b[0mEmergencyDataset\u001b[0m\u001b[0;34m\u001b[0m\u001b[0;34m\u001b[0m\u001b[0m\n\u001b[1;32m      4\u001b[0m \u001b[0;34m\u001b[0m\u001b[0m\n\u001b[0;32m----> 5\u001b[0;31m \u001b[0maudio_set_val\u001b[0m \u001b[0;34m=\u001b[0m \u001b[0mAudioset\u001b[0m\u001b[0;34m(\u001b[0m\u001b[0msplit_mode\u001b[0m\u001b[0;34m=\u001b[0m\u001b[0;34m'validation'\u001b[0m\u001b[0;34m,\u001b[0m \u001b[0mfixed_padding\u001b[0m\u001b[0;34m=\u001b[0m\u001b[0;32mTrue\u001b[0m\u001b[0;34m)\u001b[0m\u001b[0;34m\u001b[0m\u001b[0;34m\u001b[0m\u001b[0m\n\u001b[0m\u001b[1;32m      6\u001b[0m \u001b[0memergency_set_val\u001b[0m \u001b[0;34m=\u001b[0m \u001b[0mEmergencyDataset\u001b[0m\u001b[0;34m(\u001b[0m\u001b[0;34m'val'\u001b[0m\u001b[0;34m)\u001b[0m\u001b[0;34m\u001b[0m\u001b[0;34m\u001b[0m\u001b[0m\n",
      "\u001b[0;31mNameError\u001b[0m: name 'Audioset' is not defined"
     ]
    }
   ],
   "source": [
    "from torchvision import transforms\n",
    "from torch.utils.data import DataLoader\n",
    "from datasets.EmergencyDataset import EmergencyDataset\n",
    "\n",
    "audio_set_val = Audioset(split_mode='validation', fixed_padding=True)\n",
    "emergency_set_val = EmergencyDataset('val')"
   ]
  },
  {
   "cell_type": "code",
   "execution_count": 16,
   "metadata": {
    "ExecuteTime": {
     "end_time": "2020-06-09T19:15:26.601446Z",
     "start_time": "2020-06-09T19:15:26.353524Z"
    }
   },
   "outputs": [],
   "source": [
    "from classification.models.M5 import M5\n",
    "loaded_dict = torch.load(\"/nfs/homedirs/herrmanp/project-4/experiments/notebooks/pascal/adv_totaly_hig_50epochs.pt\")\n",
    "model = M5(loaded_dict[\"hparams\"])\n",
    "model.load_state_dict(loaded_dict[\"state_dict\"])\n",
    "model.cuda()"
   ]
  },
  {
   "cell_type": "code",
   "execution_count": 19,
   "metadata": {
    "ExecuteTime": {
     "end_time": "2020-06-09T19:22:02.867140Z",
     "start_time": "2020-06-09T19:22:02.361329Z"
    }
   },
   "outputs": [],
   "source": [
    "from classification.models.SpectrogramCNN import SpectrogramCNN\n",
    "\n",
    "state_dict_path = '/nfs/students/summer-term-2020/project-4/data/models/SpectrogramBasedCNN.pt'\n",
    "\n",
    "model = SpectrogramCNN()\n",
    "model.load_state_dict(torch.load(state_dict_path))\n",
    "model = model.cuda()\n",
    "model = model.eval()"
   ]
  },
  {
   "cell_type": "markdown",
   "metadata": {},
   "source": [
    "## Exhaustive experiment"
   ]
  },
  {
   "cell_type": "code",
   "execution_count": 21,
   "metadata": {
    "ExecuteTime": {
     "end_time": "2020-06-09T20:19:08.530843Z",
     "start_time": "2020-06-09T19:22:15.993298Z"
    },
    "scrolled": true
   },
   "outputs": [
    {
     "name": "stderr",
     "output_type": "stream",
     "text": [
      "\r",
      "  0%|          | 0/100 [00:00<?, ?it/s]"
     ]
    },
    {
     "name": "stdout",
     "output_type": "stream",
     "text": [
      "Iterations: 100\n"
     ]
    },
    {
     "name": "stderr",
     "output_type": "stream",
     "text": [
      "100%|██████████| 1687/1687 [00:20<00:00, 82.07it/s]\n",
      "100%|██████████| 1687/1687 [00:21<00:00, 80.00it/s]\n",
      "100%|██████████| 1687/1687 [00:20<00:00, 81.46it/s]\n",
      "100%|██████████| 1687/1687 [00:21<00:00, 79.72it/s]\n",
      "100%|██████████| 1687/1687 [00:21<00:00, 76.97it/s]\n",
      "100%|██████████| 1687/1687 [00:21<00:00, 77.47it/s]\n",
      "100%|██████████| 1687/1687 [00:21<00:00, 79.49it/s]\n",
      "100%|██████████| 1687/1687 [00:21<00:00, 78.43it/s]\n",
      "100%|██████████| 1687/1687 [00:21<00:00, 77.81it/s]\n",
      "100%|██████████| 1687/1687 [00:20<00:00, 81.11it/s]\n",
      "100%|██████████| 1687/1687 [00:21<00:00, 78.81it/s]\n",
      "100%|██████████| 1687/1687 [00:21<00:00, 76.95it/s]\n",
      "100%|██████████| 1687/1687 [00:21<00:00, 80.21it/s]\n",
      "100%|██████████| 1687/1687 [00:22<00:00, 74.71it/s]\n",
      "100%|██████████| 1687/1687 [00:22<00:00, 76.67it/s]\n",
      "100%|██████████| 1687/1687 [00:21<00:00, 77.58it/s]\n",
      "100%|██████████| 1687/1687 [00:21<00:00, 77.11it/s]\n",
      "100%|██████████| 1687/1687 [00:22<00:00, 76.09it/s]\n",
      "100%|██████████| 1687/1687 [00:21<00:00, 77.99it/s]\n",
      "100%|██████████| 1687/1687 [00:21<00:00, 78.12it/s]\n",
      "100%|██████████| 1687/1687 [00:22<00:00, 76.53it/s]\n",
      "100%|██████████| 1687/1687 [00:23<00:00, 73.25it/s]\n",
      "100%|██████████| 1687/1687 [00:21<00:00, 77.10it/s]\n",
      "100%|██████████| 1687/1687 [00:22<00:00, 75.35it/s]\n",
      "100%|██████████| 1687/1687 [00:23<00:00, 72.15it/s]\n",
      "100%|██████████| 1687/1687 [00:21<00:00, 77.75it/s]\n",
      "100%|██████████| 1687/1687 [00:21<00:00, 76.89it/s]\n",
      "100%|██████████| 1687/1687 [00:22<00:00, 73.86it/s]\n",
      "100%|██████████| 1687/1687 [00:37<00:00, 44.97it/s]\n",
      "100%|██████████| 1687/1687 [00:43<00:00, 38.43it/s]\n",
      "100%|██████████| 1687/1687 [00:42<00:00, 39.79it/s]\n",
      "100%|██████████| 1687/1687 [00:40<00:00, 41.94it/s]\n",
      "100%|██████████| 1687/1687 [00:39<00:00, 42.90it/s]\n",
      "100%|██████████| 1687/1687 [00:40<00:00, 41.62it/s]\n",
      "100%|██████████| 1687/1687 [00:41<00:00, 40.24it/s]\n",
      "100%|██████████| 1687/1687 [00:40<00:00, 41.85it/s]\n",
      "100%|██████████| 1687/1687 [00:39<00:00, 43.09it/s]\n",
      "100%|██████████| 1687/1687 [00:38<00:00, 44.09it/s]\n",
      "100%|██████████| 1687/1687 [00:39<00:00, 42.90it/s]\n",
      "100%|██████████| 1687/1687 [00:43<00:00, 38.83it/s]\n",
      "100%|██████████| 1687/1687 [00:43<00:00, 38.89it/s]\n",
      "100%|██████████| 1687/1687 [00:40<00:00, 41.16it/s]\n",
      "100%|██████████| 1687/1687 [00:38<00:00, 43.59it/s]\n",
      "100%|██████████| 1687/1687 [00:39<00:00, 43.06it/s]\n",
      "100%|██████████| 1687/1687 [00:24<00:00, 67.78it/s]\n",
      "100%|██████████| 1687/1687 [00:22<00:00, 73.60it/s]\n",
      "100%|██████████| 1687/1687 [00:23<00:00, 72.73it/s]\n",
      "100%|██████████| 1687/1687 [00:26<00:00, 64.38it/s]\n",
      "100%|██████████| 1687/1687 [00:21<00:00, 77.30it/s]\n",
      "100%|██████████| 1687/1687 [00:22<00:00, 76.04it/s]\n",
      "100%|██████████| 1687/1687 [00:22<00:00, 73.46it/s]\n",
      "100%|██████████| 1687/1687 [00:24<00:00, 69.65it/s]\n",
      "100%|██████████| 1687/1687 [00:22<00:00, 75.80it/s]\n",
      "100%|██████████| 1687/1687 [00:21<00:00, 77.10it/s]\n",
      "100%|██████████| 1687/1687 [00:22<00:00, 76.67it/s]\n",
      "100%|██████████| 1687/1687 [00:24<00:00, 68.02it/s]\n",
      "100%|██████████| 1687/1687 [00:24<00:00, 68.25it/s]\n",
      "100%|██████████| 1687/1687 [00:23<00:00, 71.45it/s]\n",
      "100%|██████████| 1687/1687 [00:23<00:00, 70.30it/s]\n",
      "100%|██████████| 1687/1687 [00:22<00:00, 75.90it/s]\n",
      "100%|██████████| 1687/1687 [00:24<00:00, 69.40it/s]\n",
      "100%|██████████| 1687/1687 [00:23<00:00, 70.91it/s]\n",
      "100%|██████████| 1687/1687 [00:22<00:00, 73.54it/s]\n",
      "100%|██████████| 1687/1687 [00:24<00:00, 69.42it/s]\n",
      "100%|██████████| 1687/1687 [00:22<00:00, 74.95it/s]\n",
      "100%|██████████| 1687/1687 [00:25<00:00, 66.64it/s]\n",
      "100%|██████████| 1687/1687 [00:22<00:00, 73.78it/s]\n",
      "100%|██████████| 1687/1687 [00:23<00:00, 71.89it/s]\n",
      "100%|██████████| 1687/1687 [00:25<00:00, 67.07it/s]\n",
      "100%|██████████| 1687/1687 [00:23<00:00, 73.03it/s]\n",
      "100%|██████████| 1687/1687 [00:23<00:00, 70.61it/s]\n",
      "100%|██████████| 1687/1687 [00:23<00:00, 72.71it/s]\n",
      "100%|██████████| 1687/1687 [00:25<00:00, 65.78it/s]\n",
      "100%|██████████| 1687/1687 [00:27<00:00, 60.52it/s]\n",
      "100%|██████████| 1687/1687 [00:22<00:00, 76.20it/s]\n",
      "100%|██████████| 1687/1687 [00:22<00:00, 74.79it/s]\n",
      "100%|██████████| 1687/1687 [00:24<00:00, 69.24it/s]\n",
      "100%|██████████| 1687/1687 [00:24<00:00, 68.87it/s]\n",
      "100%|██████████| 1687/1687 [00:22<00:00, 74.74it/s]\n",
      "100%|██████████| 1687/1687 [00:25<00:00, 66.53it/s]\n",
      "100%|██████████| 1687/1687 [00:23<00:00, 72.80it/s]\n",
      "100%|██████████| 1687/1687 [00:21<00:00, 77.25it/s]\n",
      "100%|██████████| 1687/1687 [00:21<00:00, 76.96it/s]\n",
      "100%|██████████| 1687/1687 [00:24<00:00, 69.24it/s]\n",
      "100%|██████████| 1687/1687 [00:24<00:00, 69.95it/s]\n",
      "100%|██████████| 1687/1687 [00:24<00:00, 68.26it/s]\n",
      "100%|██████████| 1687/1687 [00:24<00:00, 70.06it/s]\n",
      "100%|██████████| 1687/1687 [00:21<00:00, 76.92it/s]\n",
      "100%|██████████| 1687/1687 [00:21<00:00, 77.14it/s]\n",
      "100%|██████████| 1687/1687 [00:23<00:00, 72.84it/s]\n",
      "100%|██████████| 1687/1687 [00:25<00:00, 67.08it/s]\n",
      "100%|██████████| 1687/1687 [00:23<00:00, 71.41it/s]\n",
      "100%|██████████| 1687/1687 [00:25<00:00, 66.27it/s]\n",
      "100%|██████████| 1687/1687 [00:24<00:00, 69.64it/s]\n",
      "100%|██████████| 1687/1687 [00:24<00:00, 69.02it/s]\n",
      "100%|██████████| 1687/1687 [00:23<00:00, 72.27it/s]\n",
      "100%|██████████| 1687/1687 [00:23<00:00, 72.27it/s]\n",
      "100%|██████████| 1687/1687 [00:22<00:00, 74.27it/s]\n",
      "100%|██████████| 1687/1687 [00:26<00:00, 64.67it/s]\n",
      "100%|██████████| 1687/1687 [00:25<00:00, 66.51it/s]\n",
      "100%|██████████| 100/100 [56:52<00:00, 34.12s/it]\n"
     ]
    }
   ],
   "source": [
    "from attacks.fgsm import FGSM\n",
    "from tqdm import tqdm\n",
    "\n",
    "a = 0\n",
    "b = 2\n",
    "step_size = 0.02\n",
    "print(f\"Iterations: {len(torch.arange(a, b, step_size))}\")\n",
    "\n",
    "attacks = []\n",
    "\n",
    "for eps in tqdm(torch.arange(a, b, step_size)):\n",
    "    valid_loader = DataLoader(audio_set_val, batch_size=1)\n",
    "    attack_parameters = {'epsilon': eps}\n",
    "\n",
    "    fgsm = FGSM(model, valid_loader, attack_parameters)\n",
    "    fgsm.attack()\n",
    "    attacks.append(fgsm)"
   ]
  },
  {
   "cell_type": "code",
   "execution_count": 23,
   "metadata": {
    "ExecuteTime": {
     "end_time": "2020-06-09T20:28:07.008871Z",
     "start_time": "2020-06-09T20:28:06.415047Z"
    }
   },
   "outputs": [],
   "source": [
    "from utils.Visual import drawPlot"
   ]
  },
  {
   "cell_type": "code",
   "execution_count": null,
   "metadata": {
    "ExecuteTime": {
     "start_time": "2020-06-09T20:54:52.427Z"
    }
   },
   "outputs": [
    {
     "name": "stderr",
     "output_type": "stream",
     "text": [
      "/nfs/students/summer-term-2020/project-4/yan/.conda/envs/cnn_project/lib/python3.8/site-packages/torch/storage.py:34: FutureWarning: pickle support for Storage will be removed in 1.5. Use `torch.save` instead\n",
      "  warnings.warn(\"pickle support for Storage will be removed in 1.5. Use `torch.save` instead\", FutureWarning)\n"
     ]
    }
   ],
   "source": [
    "import pickle\n",
    "save_path = \"/nfs/students/summer-term-2020/project-4/data/attacks/spectrogramCNNmodelFGSMattack.p\"\n",
    "pickle.dump(attacks, open( save_path, \"wb\" ) )"
   ]
  },
  {
   "cell_type": "code",
   "execution_count": 25,
   "metadata": {
    "ExecuteTime": {
     "end_time": "2020-06-09T20:28:32.995211Z",
     "start_time": "2020-06-09T20:28:31.956903Z"
    }
   },
   "outputs": [
    {
     "data": {
      "image/png": "[encoded data removed]",
      "text/plain": [
       "<Figure size 1008x576 with 1 Axes>"
      ]
     },
     "metadata": {
      "needs_background": "light"
     },
     "output_type": "display_data"
    }
   ],
   "source": [
    "import numpy as np\n",
    "\n",
    "spacing = [round(x,2) for x in np.arange(a, b, step_size)]\n",
    "successRates = []\n",
    "\n",
    "for attack in attacks:\n",
    "    successRates.append(attack.getSuccessRate())\n",
    "    \n",
    "drawPlot(spacing, [{\"data\": successRates, 'color': 'r', 'label': 'SpectrogramCNN'}])"
   ]
  }
 ],
 "metadata": {
  "kernelspec": {
   "display_name": "Python 3",
   "language": "python",
   "name": "python3"
  },
  "language_info": {
   "codemirror_mode": {
    "name": "ipython",
    "version": 3
   },
   "file_extension": ".py",
   "mimetype": "text/x-python",
   "name": "python",
   "nbconvert_exporter": "python",
   "pygments_lexer": "ipython3",
   "version": "3.8.2"
  }
 },
 "nbformat": 4,
 "nbformat_minor": 4
}
