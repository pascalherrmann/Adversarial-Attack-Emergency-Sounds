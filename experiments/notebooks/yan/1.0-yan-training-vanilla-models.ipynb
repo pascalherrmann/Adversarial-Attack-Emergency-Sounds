{
 "cells": [
  {
   "cell_type": "code",
   "execution_count": 1,
   "metadata": {
    "ExecuteTime": {
     "end_time": "2020-07-06T14:18:34.689385Z",
     "start_time": "2020-07-06T14:18:34.665238Z"
    }
   },
   "outputs": [],
   "source": [
    "%load_ext autoreload\n",
    "%autoreload 2\n",
    "\n",
    "import os\n",
    "import sys\n",
    "module_path = os.path.abspath(os.path.join('../../../src/'))\n",
    "if module_path not in sys.path:\n",
    "    sys.path.append(module_path)"
   ]
  },
  {
   "cell_type": "code",
   "execution_count": 2,
   "metadata": {
    "ExecuteTime": {
     "end_time": "2020-07-06T14:18:42.069997Z",
     "start_time": "2020-07-06T14:18:34.693383Z"
    }
   },
   "outputs": [],
   "source": [
    "from datasets.datasethandler import DatasetHandler\n",
    "datasetHandler = DatasetHandler()"
   ]
  },
  {
   "cell_type": "code",
   "execution_count": 3,
   "metadata": {
    "ExecuteTime": {
     "end_time": "2020-07-06T14:18:48.972942Z",
     "start_time": "2020-07-06T14:18:42.075705Z"
    }
   },
   "outputs": [],
   "source": [
    "import torch\n",
    "import config\n",
    "import pytorch_lightning as pl\n",
    "from classification.models.SpectrogramCNN import SpectrogramCNNPLModule\n",
    "from classification.models.DeepRecursiveCNN import DeepRecursiveCNNPLModule\n",
    "from classification.models.CRNN import AudioCRNNPLModule"
   ]
  },
  {
   "cell_type": "code",
   "execution_count": 4,
   "metadata": {
    "ExecuteTime": {
     "end_time": "2020-07-06T14:18:48.995563Z",
     "start_time": "2020-07-06T14:18:48.976937Z"
    }
   },
   "outputs": [],
   "source": [
    "from pytorch_lightning.callbacks import Callback\n",
    "\n",
    "class SaveCallback(Callback): \n",
    "    def __init__(self, model_name):\n",
    "        super().__init__()\n",
    "        self.model_name = model_name\n",
    "        self.best_val_acc = None\n",
    "\n",
    "    def on_epoch_end(self, trainer, pl_module):\n",
    "        if not self.best_val_acc or pl_module.val_results_history[-1][\"val_acc\"] > self.best_val_acc:\n",
    "            print(\"new best val acc\", pl_module.val_results_history[-1][\"val_acc\"])\n",
    "            self.best_val_acc = pl_module.val_results_history[-1][\"val_acc\"]\n",
    "            save_path = self.model_name + str(self.best_val_acc) + \"best.p\"\n",
    "            pl_module.save(save_path)\n",
    "            print(\"Saved checkpoint at epoch {} at \\\"{}\\\"\".format((trainer.current_epoch + 1), save_path))\n",
    "            \n",
    "cb = SaveCallback(\"new_best_\")"
   ]
  },
  {
   "cell_type": "code",
   "execution_count": null,
   "metadata": {
    "ExecuteTime": {
     "start_time": "2020-07-06T14:24:01.342Z"
    },
    "scrolled": true
   },
   "outputs": [
    {
     "name": "stderr",
     "output_type": "stream",
     "text": [
      "GPU available: True, used: True\n",
      "No environment variable for node rank defined. Set as 0.\n",
      "CUDA_VISIBLE_DEVICES: [0]\n",
      "Set SLURM handle signals.\n",
      "\n",
      "   | Name                          | Type                  | Params\n",
      "--------------------------------------------------------------------\n",
      "0  | model                         | AudioCRNN             | 255 K \n",
      "1  | model.spec                    | MelspectrogramStretch | 0     \n",
      "2  | model.spec.spectrogram        | Spectrogram           | 0     \n",
      "3  | model.spec.mel_scale          | MelScale              | 0     \n",
      "4  | model.spec.stft               | Spectrogram           | 0     \n",
      "5  | model.spec.random_stretch     | RandomTimeStretch     | 0     \n",
      "6  | model.spec.complex_norm       | ComplexNorm           | 0     \n",
      "7  | model.spec.norm               | SpecNormalization     | 0     \n",
      "8  | model.net                     | ModuleDict            | 255 K \n",
      "9  | model.net.convs               | Sequential            | 56 K  \n",
      "10 | model.net.convs.conv2d_0      | Conv2d                | 320   \n",
      "11 | model.net.convs.batchnorm2d_0 | BatchNorm2d           | 64    \n",
      "12 | model.net.convs.elu_0         | ELU                   | 0     \n",
      "13 | model.net.convs.maxpool2d_0   | MaxPool2d             | 0     \n",
      "14 | model.net.convs.dropout_0     | Dropout               | 0     \n",
      "15 | model.net.convs.conv2d_1      | Conv2d                | 18 K  \n",
      "16 | model.net.convs.batchnorm2d_1 | BatchNorm2d           | 128   \n",
      "17 | model.net.convs.elu_1         | ELU                   | 0     \n",
      "18 | model.net.convs.maxpool2d_1   | MaxPool2d             | 0     \n",
      "19 | model.net.convs.dropout_1     | Dropout               | 0     \n",
      "20 | model.net.convs.conv2d_2      | Conv2d                | 36 K  \n",
      "21 | model.net.convs.batchnorm2d_2 | BatchNorm2d           | 128   \n",
      "22 | model.net.convs.elu_2         | ELU                   | 0     \n",
      "23 | model.net.convs.maxpool2d_2   | MaxPool2d             | 0     \n",
      "24 | model.net.convs.dropout_2     | Dropout               | 0     \n",
      "25 | model.net.recur               | LSTM                  | 198 K \n",
      "26 | model.net.dense               | Sequential            | 514   \n",
      "27 | model.net.dense.dropout_3     | Dropout               | 0     \n",
      "28 | model.net.dense.batchnorm1d_0 | BatchNorm1d           | 256   \n",
      "29 | model.net.dense.linear_0      | Linear                | 258   \n"
     ]
    },
    {
     "data": {
      "application/vnd.jupyter.widget-view+json": {
       "model_id": "",
       "version_major": 2,
       "version_minor": 0
      },
      "text/plain": [
       "HBox(children=(FloatProgress(value=1.0, bar_style='info', description='Validation sanity check', layout=Layout…"
      ]
     },
     "metadata": {},
     "output_type": "display_data"
    },
    {
     "name": "stdout",
     "output_type": "stream",
     "text": [
      "Val-Acc=0.018375815056312982\n"
     ]
    },
    {
     "data": {
      "application/vnd.jupyter.widget-view+json": {
       "model_id": "1fc8e56028564a95b7123e3269bfde12",
       "version_major": 2,
       "version_minor": 0
      },
      "text/plain": [
       "HBox(children=(FloatProgress(value=1.0, bar_style='info', description='Training', layout=Layout(flex='2'), max…"
      ]
     },
     "metadata": {},
     "output_type": "display_data"
    }
   ],
   "source": [
    "hparams = {\n",
    "    \"batch_size\": 32,\n",
    "    \"learning_rate\": 0.002,\n",
    "    \"weight_decay\": 0.01,\n",
    "    \"lr_decay\": 1\n",
    "}\n",
    "\n",
    "model = AudioCRNNPLModule(hparams)\n",
    "model.prepare_data()\n",
    "datasetHandler.load(model, 'training')\n",
    "datasetHandler.load(model, 'validation')\n",
    "\n",
    "trainer = pl.Trainer(\n",
    "    max_epochs=30,\n",
    "    #logger= loggers.TensorBoardLogger(config.LOG_DIR, name=type(model)._name_),\n",
    "    gpus=1 if torch.cuda.is_available() else None,\n",
    "    callbacks=[cb]\n",
    ")\n",
    "\n",
    "trainer.fit(model)"
   ]
  },
  {
   "cell_type": "code",
   "execution_count": 6,
   "metadata": {
    "ExecuteTime": {
     "end_time": "2020-07-06T14:23:49.297071Z",
     "start_time": "2020-07-06T14:23:48.914189Z"
    }
   },
   "outputs": [],
   "source": [
    "# model.save(\"/nfs/students/summer-term-2020/project-4/SAVED_MODELS/SpectrogramCNN/vanilla.p\")"
   ]
  }
 ],
 "metadata": {
  "kernelspec": {
   "display_name": "Python 3",
   "language": "python",
   "name": "python3"
  },
  "language_info": {
   "codemirror_mode": {
    "name": "ipython",
    "version": 3
   },
   "file_extension": ".py",
   "mimetype": "text/x-python",
   "name": "python",
   "nbconvert_exporter": "python",
   "pygments_lexer": "ipython3",
   "version": "3.8.2"
  }
 },
 "nbformat": 4,
 "nbformat_minor": 4
}
