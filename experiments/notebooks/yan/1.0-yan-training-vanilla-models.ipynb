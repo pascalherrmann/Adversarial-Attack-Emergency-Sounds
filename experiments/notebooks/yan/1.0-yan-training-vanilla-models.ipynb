{
 "cells": [
  {
   "cell_type": "code",
   "execution_count": 1,
   "metadata": {
    "ExecuteTime": {
     "end_time": "2020-07-21T09:22:05.648474Z",
     "start_time": "2020-07-21T09:22:05.625835Z"
    }
   },
   "outputs": [],
   "source": [
    "%load_ext autoreload\n",
    "%autoreload 2\n",
    "\n",
    "import os\n",
    "import sys\n",
    "module_path = os.path.abspath(os.path.join('../../../src/'))\n",
    "if module_path not in sys.path:\n",
    "    sys.path.append(module_path)"
   ]
  },
  {
   "cell_type": "code",
   "execution_count": 2,
   "metadata": {
    "ExecuteTime": {
     "end_time": "2020-07-21T09:22:06.233645Z",
     "start_time": "2020-07-21T09:22:05.651982Z"
    }
   },
   "outputs": [],
   "source": [
    "import config\n",
    "from datasets.datasethandler import DatasetHandler\n",
    "datasetHandler = DatasetHandler()"
   ]
  },
  {
   "cell_type": "code",
   "execution_count": 3,
   "metadata": {
    "ExecuteTime": {
     "end_time": "2020-07-21T09:22:06.657316Z",
     "start_time": "2020-07-21T09:22:06.237884Z"
    }
   },
   "outputs": [],
   "source": [
    "import torch\n",
    "import pytorch_lightning as pl\n",
    "from classification.models.SpectrogramCNN import SpectrogramCNNPLModule\n",
    "from classification.models.DeepRecursiveCNN import DeepRecursiveCNNPLModule\n",
    "from classification.models.CRNN import CRNNPLModule\n",
    "\n",
    "from classification.models.SpectrogramCNN_8K import SpectrogramCNN_8KPLModule\n",
    "from classification.models.AblationModel import AblationModelPLModule"
   ]
  },
  {
   "cell_type": "code",
   "execution_count": 13,
   "metadata": {
    "ExecuteTime": {
     "end_time": "2020-07-21T10:18:45.083747Z",
     "start_time": "2020-07-21T10:18:45.051957Z"
    }
   },
   "outputs": [],
   "source": [
    "from pytorch_lightning.callbacks import Callback\n",
    "import os\n",
    "\n",
    "class SaveCallback(Callback): \n",
    "    def __init__(self, model_name):\n",
    "        super().__init__()\n",
    "        self.model_name = model_name\n",
    "        self.best_val_acc = None\n",
    "\n",
    "    def on_epoch_end(self, trainer, pl_module):\n",
    "        if not self.best_val_acc or pl_module.val_results_history[-1][\"val_acc\"] > self.best_val_acc:\n",
    "            print(\"new best val acc\", pl_module.val_results_history[-1][\"val_acc\"])\n",
    "            self.best_val_acc = pl_module.val_results_history[-1][\"val_acc\"]\n",
    "            hparam_info = str({'random_time_stretch': pl_module.hparams['random_time_stretch'],\n",
    "                           'mel_scale': pl_module.hparams['mel_scale'],\n",
    "                           'normalize_spectrogram': pl_module.hparams['normalize_spectrogram']}).replace(\" \", \"_\")\n",
    "            try:\n",
    "                os.mkdir(\"best_models/\" + hparam_info + \"/\")\n",
    "            except:\n",
    "                print(\"folder exists already\")\n",
    "                \n",
    "            save_path = \"best_models/\" + hparam_info + \"/\" + self.model_name + str(self.best_val_acc) + \".p\"\n",
    "            pl_module.save(save_path)\n",
    "            print(\"Saved checkpoint at epoch {} at \\\"{}\\\"\".format((trainer.current_epoch + 1), save_path))"
   ]
  },
  {
   "cell_type": "code",
   "execution_count": null,
   "metadata": {
    "ExecuteTime": {
     "start_time": "2020-07-21T10:18:45.352Z"
    },
    "scrolled": true
   },
   "outputs": [
    {
     "name": "stderr",
     "output_type": "stream",
     "text": [
      "GPU available: True, used: True\n",
      "INFO:lightning:GPU available: True, used: True\n",
      "No environment variable for node rank defined. Set as 0.\n",
      "WARNING:lightning:No environment variable for node rank defined. Set as 0.\n",
      "CUDA_VISIBLE_DEVICES: [0]\n",
      "INFO:lightning:CUDA_VISIBLE_DEVICES: [0]\n",
      "Set SLURM handle signals.\n",
      "INFO:lightning:Set SLURM handle signals.\n",
      "\n",
      "   | Name                 | Type              | Params\n",
      "-------------------------------------------------------\n",
      "0  | model                | AblationModel     | 182 K \n",
      "1  | model.convs          | Sequential        | 114 K \n",
      "2  | model.convs.0        | BatchNorm2d       | 2     \n",
      "3  | model.convs.1        | Conv2d            | 1 K   \n",
      "4  | model.convs.2        | BatchNorm2d       | 20    \n",
      "5  | model.convs.3        | PReLU             | 1     \n",
      "6  | model.convs.4        | MaxPool2d         | 0     \n",
      "7  | model.convs.5        | Dropout           | 0     \n",
      "8  | model.convs.6        | Conv2d            | 20 K  \n",
      "9  | model.convs.7        | BatchNorm2d       | 40    \n",
      "10 | model.convs.8        | PReLU             | 1     \n",
      "11 | model.convs.9        | MaxPool2d         | 0     \n",
      "12 | model.convs.10       | Dropout           | 0     \n",
      "13 | model.convs.11       | Conv2d            | 80 K  \n",
      "14 | model.convs.12       | BatchNorm2d       | 80    \n",
      "15 | model.convs.13       | PReLU             | 1     \n",
      "16 | model.convs.14       | MaxPool2d         | 0     \n",
      "17 | model.convs.15       | Dropout           | 0     \n",
      "18 | model.convs.16       | Conv2d            | 12 K  \n",
      "19 | model.convs.17       | BatchNorm2d       | 160   \n",
      "20 | model.convs.18       | PReLU             | 1     \n",
      "21 | model.convs.19       | MaxPool2d         | 0     \n",
      "22 | model.convs.20       | Dropout           | 0     \n",
      "23 | model.dense          | Sequential        | 68 K  \n",
      "24 | model.dense.0        | Linear            | 66 K  \n",
      "25 | model.dense.1        | PReLU             | 1     \n",
      "26 | model.dense.2        | Dropout           | 0     \n",
      "27 | model.dense.3        | Linear            | 1 K   \n",
      "28 | model.random_stretch | RandomTimeStretch | 0     \n",
      "29 | model.complex_norm   | ComplexNorm       | 0     \n",
      "30 | model.norm           | SpecNormalization | 0     \n",
      "INFO:lightning:\n",
      "   | Name                 | Type              | Params\n",
      "-------------------------------------------------------\n",
      "0  | model                | AblationModel     | 182 K \n",
      "1  | model.convs          | Sequential        | 114 K \n",
      "2  | model.convs.0        | BatchNorm2d       | 2     \n",
      "3  | model.convs.1        | Conv2d            | 1 K   \n",
      "4  | model.convs.2        | BatchNorm2d       | 20    \n",
      "5  | model.convs.3        | PReLU             | 1     \n",
      "6  | model.convs.4        | MaxPool2d         | 0     \n",
      "7  | model.convs.5        | Dropout           | 0     \n",
      "8  | model.convs.6        | Conv2d            | 20 K  \n",
      "9  | model.convs.7        | BatchNorm2d       | 40    \n",
      "10 | model.convs.8        | PReLU             | 1     \n",
      "11 | model.convs.9        | MaxPool2d         | 0     \n",
      "12 | model.convs.10       | Dropout           | 0     \n",
      "13 | model.convs.11       | Conv2d            | 80 K  \n",
      "14 | model.convs.12       | BatchNorm2d       | 80    \n",
      "15 | model.convs.13       | PReLU             | 1     \n",
      "16 | model.convs.14       | MaxPool2d         | 0     \n",
      "17 | model.convs.15       | Dropout           | 0     \n",
      "18 | model.convs.16       | Conv2d            | 12 K  \n",
      "19 | model.convs.17       | BatchNorm2d       | 160   \n",
      "20 | model.convs.18       | PReLU             | 1     \n",
      "21 | model.convs.19       | MaxPool2d         | 0     \n",
      "22 | model.convs.20       | Dropout           | 0     \n",
      "23 | model.dense          | Sequential        | 68 K  \n",
      "24 | model.dense.0        | Linear            | 66 K  \n",
      "25 | model.dense.1        | PReLU             | 1     \n",
      "26 | model.dense.2        | Dropout           | 0     \n",
      "27 | model.dense.3        | Linear            | 1 K   \n",
      "28 | model.random_stretch | RandomTimeStretch | 0     \n",
      "29 | model.complex_norm   | ComplexNorm       | 0     \n",
      "30 | model.norm           | SpecNormalization | 0     \n"
     ]
    },
    {
     "data": {
      "application/vnd.jupyter.widget-view+json": {
       "model_id": "",
       "version_major": 2,
       "version_minor": 0
      },
      "text/plain": [
       "HBox(children=(FloatProgress(value=1.0, bar_style='info', description='Validation sanity check', layout=Layout…"
      ]
     },
     "metadata": {},
     "output_type": "display_data"
    },
    {
     "name": "stdout",
     "output_type": "stream",
     "text": [
      "Val-Acc=0.018375815056312982\n"
     ]
    },
    {
     "data": {
      "application/vnd.jupyter.widget-view+json": {
       "model_id": "2a78c54cf80840f1ae5e5c734396aad6",
       "version_major": 2,
       "version_minor": 0
      },
      "text/plain": [
       "HBox(children=(FloatProgress(value=1.0, bar_style='info', description='Training', layout=Layout(flex='2'), max…"
      ]
     },
     "metadata": {},
     "output_type": "display_data"
    },
    {
     "data": {
      "application/vnd.jupyter.widget-view+json": {
       "model_id": "",
       "version_major": 2,
       "version_minor": 0
      },
      "text/plain": [
       "HBox(children=(FloatProgress(value=1.0, bar_style='info', description='Validating', layout=Layout(flex='2'), m…"
      ]
     },
     "metadata": {},
     "output_type": "display_data"
    },
    {
     "name": "stdout",
     "output_type": "stream",
     "text": [
      "Val-Acc=0.8002371072910492\n",
      "Train-Acc=0.816798418972332\n",
      "new best val acc 0.8002371072910492\n",
      "Saved model to \"best_models/{'random_time_stretch':_True,_'mel_scale':_True,_'normalize_spectrogram':_True}/ablation_0.8002371072910492.p\"\n",
      "Saved checkpoint at epoch 1 at \"best_models/{'random_time_stretch':_True,_'mel_scale':_True,_'normalize_spectrogram':_True}/ablation_0.8002371072910492.p\"\n"
     ]
    },
    {
     "data": {
      "application/vnd.jupyter.widget-view+json": {
       "model_id": "",
       "version_major": 2,
       "version_minor": 0
      },
      "text/plain": [
       "HBox(children=(FloatProgress(value=1.0, bar_style='info', description='Validating', layout=Layout(flex='2'), m…"
      ]
     },
     "metadata": {},
     "output_type": "display_data"
    },
    {
     "name": "stdout",
     "output_type": "stream",
     "text": [
      "Val-Acc=0.8026081802015412\n",
      "Train-Acc=0.8424901185770751\n",
      "new best val acc 0.8026081802015412\n",
      "folder exists already\n",
      "Saved model to \"best_models/{'random_time_stretch':_True,_'mel_scale':_True,_'normalize_spectrogram':_True}/ablation_0.8026081802015412.p\"\n",
      "Saved checkpoint at epoch 2 at \"best_models/{'random_time_stretch':_True,_'mel_scale':_True,_'normalize_spectrogram':_True}/ablation_0.8026081802015412.p\"\n"
     ]
    },
    {
     "data": {
      "application/vnd.jupyter.widget-view+json": {
       "model_id": "",
       "version_major": 2,
       "version_minor": 0
      },
      "text/plain": [
       "HBox(children=(FloatProgress(value=1.0, bar_style='info', description='Validating', layout=Layout(flex='2'), m…"
      ]
     },
     "metadata": {},
     "output_type": "display_data"
    },
    {
     "name": "stdout",
     "output_type": "stream",
     "text": [
      "Val-Acc=0.8280972139893301\n",
      "Train-Acc=0.8557312252964426\n",
      "new best val acc 0.8280972139893301\n",
      "folder exists already\n",
      "Saved model to \"best_models/{'random_time_stretch':_True,_'mel_scale':_True,_'normalize_spectrogram':_True}/ablation_0.8280972139893301.p\"\n",
      "Saved checkpoint at epoch 3 at \"best_models/{'random_time_stretch':_True,_'mel_scale':_True,_'normalize_spectrogram':_True}/ablation_0.8280972139893301.p\"\n"
     ]
    },
    {
     "data": {
      "application/vnd.jupyter.widget-view+json": {
       "model_id": "",
       "version_major": 2,
       "version_minor": 0
      },
      "text/plain": [
       "HBox(children=(FloatProgress(value=1.0, bar_style='info', description='Validating', layout=Layout(flex='2'), m…"
      ]
     },
     "metadata": {},
     "output_type": "display_data"
    },
    {
     "name": "stdout",
     "output_type": "stream",
     "text": [
      "Val-Acc=0.8535862477771191\n",
      "Train-Acc=0.8588932806324111\n",
      "new best val acc 0.8535862477771191\n",
      "folder exists already\n",
      "Saved model to \"best_models/{'random_time_stretch':_True,_'mel_scale':_True,_'normalize_spectrogram':_True}/ablation_0.8535862477771191.p\"\n",
      "Saved checkpoint at epoch 4 at \"best_models/{'random_time_stretch':_True,_'mel_scale':_True,_'normalize_spectrogram':_True}/ablation_0.8535862477771191.p\"\n"
     ]
    },
    {
     "data": {
      "application/vnd.jupyter.widget-view+json": {
       "model_id": "",
       "version_major": 2,
       "version_minor": 0
      },
      "text/plain": [
       "HBox(children=(FloatProgress(value=1.0, bar_style='info', description='Validating', layout=Layout(flex='2'), m…"
      ]
     },
     "metadata": {},
     "output_type": "display_data"
    },
    {
     "name": "stdout",
     "output_type": "stream",
     "text": [
      "Val-Acc=0.8636633076467102\n",
      "Train-Acc=0.8658102766798419\n",
      "new best val acc 0.8636633076467102\n",
      "folder exists already\n",
      "Saved model to \"best_models/{'random_time_stretch':_True,_'mel_scale':_True,_'normalize_spectrogram':_True}/ablation_0.8636633076467102.p\"\n",
      "Saved checkpoint at epoch 5 at \"best_models/{'random_time_stretch':_True,_'mel_scale':_True,_'normalize_spectrogram':_True}/ablation_0.8636633076467102.p\"\n"
     ]
    },
    {
     "data": {
      "application/vnd.jupyter.widget-view+json": {
       "model_id": "",
       "version_major": 2,
       "version_minor": 0
      },
      "text/plain": [
       "HBox(children=(FloatProgress(value=1.0, bar_style='info', description='Validating', layout=Layout(flex='2'), m…"
      ]
     },
     "metadata": {},
     "output_type": "display_data"
    },
    {
     "name": "stdout",
     "output_type": "stream",
     "text": [
      "Val-Acc=0.8725548310610551\n",
      "Train-Acc=0.8709486166007905\n",
      "new best val acc 0.8725548310610551\n",
      "folder exists already\n",
      "Saved model to \"best_models/{'random_time_stretch':_True,_'mel_scale':_True,_'normalize_spectrogram':_True}/ablation_0.8725548310610551.p\"\n",
      "Saved checkpoint at epoch 6 at \"best_models/{'random_time_stretch':_True,_'mel_scale':_True,_'normalize_spectrogram':_True}/ablation_0.8725548310610551.p\"\n"
     ]
    },
    {
     "data": {
      "application/vnd.jupyter.widget-view+json": {
       "model_id": "",
       "version_major": 2,
       "version_minor": 0
      },
      "text/plain": [
       "HBox(children=(FloatProgress(value=1.0, bar_style='info', description='Validating', layout=Layout(flex='2'), m…"
      ]
     },
     "metadata": {},
     "output_type": "display_data"
    },
    {
     "name": "stdout",
     "output_type": "stream",
     "text": [
      "Val-Acc=0.8719620628334321\n",
      "Train-Acc=0.8768774703557313\n"
     ]
    },
    {
     "data": {
      "application/vnd.jupyter.widget-view+json": {
       "model_id": "",
       "version_major": 2,
       "version_minor": 0
      },
      "text/plain": [
       "HBox(children=(FloatProgress(value=1.0, bar_style='info', description='Validating', layout=Layout(flex='2'), m…"
      ]
     },
     "metadata": {},
     "output_type": "display_data"
    },
    {
     "name": "stdout",
     "output_type": "stream",
     "text": [
      "Val-Acc=0.8701837581505631\n",
      "Train-Acc=0.8778656126482214\n"
     ]
    },
    {
     "data": {
      "application/vnd.jupyter.widget-view+json": {
       "model_id": "",
       "version_major": 2,
       "version_minor": 0
      },
      "text/plain": [
       "HBox(children=(FloatProgress(value=1.0, bar_style='info', description='Validating', layout=Layout(flex='2'), m…"
      ]
     },
     "metadata": {},
     "output_type": "display_data"
    },
    {
     "name": "stdout",
     "output_type": "stream",
     "text": [
      "Val-Acc=0.8802608180201541\n",
      "Train-Acc=0.8766798418972332\n",
      "new best val acc 0.8802608180201541\n",
      "folder exists already\n",
      "Saved model to \"best_models/{'random_time_stretch':_True,_'mel_scale':_True,_'normalize_spectrogram':_True}/ablation_0.8802608180201541.p\"\n",
      "Saved checkpoint at epoch 9 at \"best_models/{'random_time_stretch':_True,_'mel_scale':_True,_'normalize_spectrogram':_True}/ablation_0.8802608180201541.p\"\n"
     ]
    },
    {
     "data": {
      "application/vnd.jupyter.widget-view+json": {
       "model_id": "",
       "version_major": 2,
       "version_minor": 0
      },
      "text/plain": [
       "HBox(children=(FloatProgress(value=1.0, bar_style='info', description='Validating', layout=Layout(flex='2'), m…"
      ]
     },
     "metadata": {},
     "output_type": "display_data"
    },
    {
     "name": "stdout",
     "output_type": "stream",
     "text": [
      "Val-Acc=0.8808535862477771\n",
      "Train-Acc=0.8780632411067194\n",
      "new best val acc 0.8808535862477771\n",
      "folder exists already\n",
      "Saved model to \"best_models/{'random_time_stretch':_True,_'mel_scale':_True,_'normalize_spectrogram':_True}/ablation_0.8808535862477771.p\"\n",
      "Saved checkpoint at epoch 10 at \"best_models/{'random_time_stretch':_True,_'mel_scale':_True,_'normalize_spectrogram':_True}/ablation_0.8808535862477771.p\"\n"
     ]
    },
    {
     "data": {
      "application/vnd.jupyter.widget-view+json": {
       "model_id": "",
       "version_major": 2,
       "version_minor": 0
      },
      "text/plain": [
       "HBox(children=(FloatProgress(value=1.0, bar_style='info', description='Validating', layout=Layout(flex='2'), m…"
      ]
     },
     "metadata": {},
     "output_type": "display_data"
    },
    {
     "name": "stdout",
     "output_type": "stream",
     "text": [
      "Val-Acc=0.8891523414344991\n",
      "Train-Acc=0.8826086956521739\n",
      "new best val acc 0.8891523414344991\n",
      "folder exists already\n",
      "Saved model to \"best_models/{'random_time_stretch':_True,_'mel_scale':_True,_'normalize_spectrogram':_True}/ablation_0.8891523414344991.p\"\n",
      "Saved checkpoint at epoch 11 at \"best_models/{'random_time_stretch':_True,_'mel_scale':_True,_'normalize_spectrogram':_True}/ablation_0.8891523414344991.p\"\n"
     ]
    },
    {
     "data": {
      "application/vnd.jupyter.widget-view+json": {
       "model_id": "",
       "version_major": 2,
       "version_minor": 0
      },
      "text/plain": [
       "HBox(children=(FloatProgress(value=1.0, bar_style='info', description='Validating', layout=Layout(flex='2'), m…"
      ]
     },
     "metadata": {},
     "output_type": "display_data"
    },
    {
     "name": "stdout",
     "output_type": "stream",
     "text": [
      "Val-Acc=0.8802608180201541\n",
      "Train-Acc=0.8869565217391304\n"
     ]
    },
    {
     "data": {
      "application/vnd.jupyter.widget-view+json": {
       "model_id": "",
       "version_major": 2,
       "version_minor": 0
      },
      "text/plain": [
       "HBox(children=(FloatProgress(value=1.0, bar_style='info', description='Validating', layout=Layout(flex='2'), m…"
      ]
     },
     "metadata": {},
     "output_type": "display_data"
    },
    {
     "name": "stdout",
     "output_type": "stream",
     "text": [
      "Val-Acc=0.8844101956135151\n",
      "Train-Acc=0.8879446640316205\n"
     ]
    },
    {
     "data": {
      "application/vnd.jupyter.widget-view+json": {
       "model_id": "",
       "version_major": 2,
       "version_minor": 0
      },
      "text/plain": [
       "HBox(children=(FloatProgress(value=1.0, bar_style='info', description='Validating', layout=Layout(flex='2'), m…"
      ]
     },
     "metadata": {},
     "output_type": "display_data"
    },
    {
     "name": "stdout",
     "output_type": "stream",
     "text": [
      "Val-Acc=0.890337877889745\n",
      "Train-Acc=0.8913043478260869\n",
      "new best val acc 0.890337877889745\n",
      "folder exists already\n",
      "Saved model to \"best_models/{'random_time_stretch':_True,_'mel_scale':_True,_'normalize_spectrogram':_True}/ablation_0.890337877889745.p\"\n",
      "Saved checkpoint at epoch 14 at \"best_models/{'random_time_stretch':_True,_'mel_scale':_True,_'normalize_spectrogram':_True}/ablation_0.890337877889745.p\"\n"
     ]
    },
    {
     "data": {
      "application/vnd.jupyter.widget-view+json": {
       "model_id": "",
       "version_major": 2,
       "version_minor": 0
      },
      "text/plain": [
       "HBox(children=(FloatProgress(value=1.0, bar_style='info', description='Validating', layout=Layout(flex='2'), m…"
      ]
     },
     "metadata": {},
     "output_type": "display_data"
    },
    {
     "name": "stdout",
     "output_type": "stream",
     "text": [
      "Val-Acc=0.8944872554831061\n",
      "Train-Acc=0.8915019762845849\n",
      "new best val acc 0.8944872554831061\n",
      "folder exists already\n",
      "Saved model to \"best_models/{'random_time_stretch':_True,_'mel_scale':_True,_'normalize_spectrogram':_True}/ablation_0.8944872554831061.p\"\n",
      "Saved checkpoint at epoch 15 at \"best_models/{'random_time_stretch':_True,_'mel_scale':_True,_'normalize_spectrogram':_True}/ablation_0.8944872554831061.p\"\n"
     ]
    },
    {
     "data": {
      "application/vnd.jupyter.widget-view+json": {
       "model_id": "",
       "version_major": 2,
       "version_minor": 0
      },
      "text/plain": [
       "HBox(children=(FloatProgress(value=1.0, bar_style='info', description='Validating', layout=Layout(flex='2'), m…"
      ]
     },
     "metadata": {},
     "output_type": "display_data"
    },
    {
     "name": "stdout",
     "output_type": "stream",
     "text": [
      "Val-Acc=0.8909306461173682\n",
      "Train-Acc=0.900197628458498\n"
     ]
    },
    {
     "data": {
      "application/vnd.jupyter.widget-view+json": {
       "model_id": "",
       "version_major": 2,
       "version_minor": 0
      },
      "text/plain": [
       "HBox(children=(FloatProgress(value=1.0, bar_style='info', description='Validating', layout=Layout(flex='2'), m…"
      ]
     },
     "metadata": {},
     "output_type": "display_data"
    },
    {
     "name": "stdout",
     "output_type": "stream",
     "text": [
      "Val-Acc=0.8944872554831061\n",
      "Train-Acc=0.8944664031620554\n"
     ]
    },
    {
     "data": {
      "application/vnd.jupyter.widget-view+json": {
       "model_id": "",
       "version_major": 2,
       "version_minor": 0
      },
      "text/plain": [
       "HBox(children=(FloatProgress(value=1.0, bar_style='info', description='Validating', layout=Layout(flex='2'), m…"
      ]
     },
     "metadata": {},
     "output_type": "display_data"
    },
    {
     "name": "stdout",
     "output_type": "stream",
     "text": [
      "Val-Acc=0.8885595732068761\n",
      "Train-Acc=0.8962450592885376\n"
     ]
    },
    {
     "data": {
      "application/vnd.jupyter.widget-view+json": {
       "model_id": "",
       "version_major": 2,
       "version_minor": 0
      },
      "text/plain": [
       "HBox(children=(FloatProgress(value=1.0, bar_style='info', description='Validating', layout=Layout(flex='2'), m…"
      ]
     },
     "metadata": {},
     "output_type": "display_data"
    },
    {
     "name": "stdout",
     "output_type": "stream",
     "text": [
      "Val-Acc=0.8672199170124482\n",
      "Train-Acc=0.8946640316205534\n"
     ]
    },
    {
     "data": {
      "application/vnd.jupyter.widget-view+json": {
       "model_id": "",
       "version_major": 2,
       "version_minor": 0
      },
      "text/plain": [
       "HBox(children=(FloatProgress(value=1.0, bar_style='info', description='Validating', layout=Layout(flex='2'), m…"
      ]
     },
     "metadata": {},
     "output_type": "display_data"
    },
    {
     "name": "stdout",
     "output_type": "stream",
     "text": [
      "Val-Acc=0.8844101956135151\n",
      "Train-Acc=0.8982213438735178\n"
     ]
    },
    {
     "data": {
      "application/vnd.jupyter.widget-view+json": {
       "model_id": "",
       "version_major": 2,
       "version_minor": 0
      },
      "text/plain": [
       "HBox(children=(FloatProgress(value=1.0, bar_style='info', description='Validating', layout=Layout(flex='2'), m…"
      ]
     },
     "metadata": {},
     "output_type": "display_data"
    },
    {
     "name": "stdout",
     "output_type": "stream",
     "text": [
      "Val-Acc=0.9004149377593361\n",
      "Train-Acc=0.8982213438735178\n",
      "new best val acc 0.9004149377593361\n",
      "folder exists already\n",
      "Saved model to \"best_models/{'random_time_stretch':_True,_'mel_scale':_True,_'normalize_spectrogram':_True}/ablation_0.9004149377593361.p\"\n",
      "Saved checkpoint at epoch 21 at \"best_models/{'random_time_stretch':_True,_'mel_scale':_True,_'normalize_spectrogram':_True}/ablation_0.9004149377593361.p\"\n"
     ]
    },
    {
     "data": {
      "application/vnd.jupyter.widget-view+json": {
       "model_id": "",
       "version_major": 2,
       "version_minor": 0
      },
      "text/plain": [
       "HBox(children=(FloatProgress(value=1.0, bar_style='info', description='Validating', layout=Layout(flex='2'), m…"
      ]
     },
     "metadata": {},
     "output_type": "display_data"
    },
    {
     "name": "stdout",
     "output_type": "stream",
     "text": [
      "Val-Acc=0.9033787788974511\n",
      "Train-Acc=0.899407114624506\n",
      "new best val acc 0.9033787788974511\n",
      "folder exists already\n",
      "Saved model to \"best_models/{'random_time_stretch':_True,_'mel_scale':_True,_'normalize_spectrogram':_True}/ablation_0.9033787788974511.p\"\n",
      "Saved checkpoint at epoch 22 at \"best_models/{'random_time_stretch':_True,_'mel_scale':_True,_'normalize_spectrogram':_True}/ablation_0.9033787788974511.p\"\n"
     ]
    },
    {
     "data": {
      "application/vnd.jupyter.widget-view+json": {
       "model_id": "",
       "version_major": 2,
       "version_minor": 0
      },
      "text/plain": [
       "HBox(children=(FloatProgress(value=1.0, bar_style='info', description='Validating', layout=Layout(flex='2'), m…"
      ]
     },
     "metadata": {},
     "output_type": "display_data"
    },
    {
     "name": "stdout",
     "output_type": "stream",
     "text": [
      "Val-Acc=0.8962655601659751\n",
      "Train-Acc=0.9047430830039526\n"
     ]
    },
    {
     "data": {
      "application/vnd.jupyter.widget-view+json": {
       "model_id": "",
       "version_major": 2,
       "version_minor": 0
      },
      "text/plain": [
       "HBox(children=(FloatProgress(value=1.0, bar_style='info', description='Validating', layout=Layout(flex='2'), m…"
      ]
     },
     "metadata": {},
     "output_type": "display_data"
    },
    {
     "name": "stdout",
     "output_type": "stream",
     "text": [
      "Val-Acc=0.8826318909306461\n",
      "Train-Acc=0.9043478260869565\n"
     ]
    },
    {
     "data": {
      "application/vnd.jupyter.widget-view+json": {
       "model_id": "",
       "version_major": 2,
       "version_minor": 0
      },
      "text/plain": [
       "HBox(children=(FloatProgress(value=1.0, bar_style='info', description='Validating', layout=Layout(flex='2'), m…"
      ]
     },
     "metadata": {},
     "output_type": "display_data"
    },
    {
     "name": "stdout",
     "output_type": "stream",
     "text": [
      "Val-Acc=0.9027860106698281\n",
      "Train-Acc=0.9067193675889328\n"
     ]
    },
    {
     "data": {
      "application/vnd.jupyter.widget-view+json": {
       "model_id": "",
       "version_major": 2,
       "version_minor": 0
      },
      "text/plain": [
       "HBox(children=(FloatProgress(value=1.0, bar_style='info', description='Validating', layout=Layout(flex='2'), m…"
      ]
     },
     "metadata": {},
     "output_type": "display_data"
    },
    {
     "name": "stdout",
     "output_type": "stream",
     "text": [
      "Val-Acc=0.8909306461173682\n",
      "Train-Acc=0.908893280632411\n"
     ]
    },
    {
     "data": {
      "application/vnd.jupyter.widget-view+json": {
       "model_id": "",
       "version_major": 2,
       "version_minor": 0
      },
      "text/plain": [
       "HBox(children=(FloatProgress(value=1.0, bar_style='info', description='Validating', layout=Layout(flex='2'), m…"
      ]
     },
     "metadata": {},
     "output_type": "display_data"
    },
    {
     "name": "stdout",
     "output_type": "stream",
     "text": [
      "Val-Acc=0.8938944872554832\n",
      "Train-Acc=0.908300395256917\n"
     ]
    },
    {
     "data": {
      "application/vnd.jupyter.widget-view+json": {
       "model_id": "",
       "version_major": 2,
       "version_minor": 0
      },
      "text/plain": [
       "HBox(children=(FloatProgress(value=1.0, bar_style='info', description='Validating', layout=Layout(flex='2'), m…"
      ]
     },
     "metadata": {},
     "output_type": "display_data"
    },
    {
     "name": "stdout",
     "output_type": "stream",
     "text": [
      "Val-Acc=0.9039715471250741\n",
      "Train-Acc=0.9128458498023715\n",
      "new best val acc 0.9039715471250741\n",
      "folder exists already\n",
      "Saved model to \"best_models/{'random_time_stretch':_True,_'mel_scale':_True,_'normalize_spectrogram':_True}/ablation_0.9039715471250741.p\"\n",
      "Saved checkpoint at epoch 28 at \"best_models/{'random_time_stretch':_True,_'mel_scale':_True,_'normalize_spectrogram':_True}/ablation_0.9039715471250741.p\"\n"
     ]
    },
    {
     "data": {
      "application/vnd.jupyter.widget-view+json": {
       "model_id": "",
       "version_major": 2,
       "version_minor": 0
      },
      "text/plain": [
       "HBox(children=(FloatProgress(value=1.0, bar_style='info', description='Validating', layout=Layout(flex='2'), m…"
      ]
     },
     "metadata": {},
     "output_type": "display_data"
    },
    {
     "name": "stdout",
     "output_type": "stream",
     "text": [
      "Val-Acc=0.9039715471250741\n",
      "Train-Acc=0.9118577075098814\n"
     ]
    },
    {
     "data": {
      "application/vnd.jupyter.widget-view+json": {
       "model_id": "",
       "version_major": 2,
       "version_minor": 0
      },
      "text/plain": [
       "HBox(children=(FloatProgress(value=1.0, bar_style='info', description='Validating', layout=Layout(flex='2'), m…"
      ]
     },
     "metadata": {},
     "output_type": "display_data"
    },
    {
     "name": "stdout",
     "output_type": "stream",
     "text": [
      "Val-Acc=0.8767042086544161\n",
      "Train-Acc=0.9106719367588932\n"
     ]
    },
    {
     "data": {
      "application/vnd.jupyter.widget-view+json": {
       "model_id": "",
       "version_major": 2,
       "version_minor": 0
      },
      "text/plain": [
       "HBox(children=(FloatProgress(value=1.0, bar_style='info', description='Validating', layout=Layout(flex='2'), m…"
      ]
     },
     "metadata": {},
     "output_type": "display_data"
    },
    {
     "name": "stdout",
     "output_type": "stream",
     "text": [
      "Val-Acc=0.9075281564908121\n",
      "Train-Acc=0.9171936758893281\n",
      "new best val acc 0.9075281564908121\n",
      "folder exists already\n",
      "Saved model to \"best_models/{'random_time_stretch':_True,_'mel_scale':_True,_'normalize_spectrogram':_True}/ablation_0.9075281564908121.p\"\n",
      "Saved checkpoint at epoch 31 at \"best_models/{'random_time_stretch':_True,_'mel_scale':_True,_'normalize_spectrogram':_True}/ablation_0.9075281564908121.p\"\n"
     ]
    },
    {
     "data": {
      "application/vnd.jupyter.widget-view+json": {
       "model_id": "",
       "version_major": 2,
       "version_minor": 0
      },
      "text/plain": [
       "HBox(children=(FloatProgress(value=1.0, bar_style='info', description='Validating', layout=Layout(flex='2'), m…"
      ]
     },
     "metadata": {},
     "output_type": "display_data"
    },
    {
     "name": "stdout",
     "output_type": "stream",
     "text": [
      "Val-Acc=0.8980438648488441\n",
      "Train-Acc=0.9156126482213439\n"
     ]
    },
    {
     "data": {
      "application/vnd.jupyter.widget-view+json": {
       "model_id": "",
       "version_major": 2,
       "version_minor": 0
      },
      "text/plain": [
       "HBox(children=(FloatProgress(value=1.0, bar_style='info', description='Validating', layout=Layout(flex='2'), m…"
      ]
     },
     "metadata": {},
     "output_type": "display_data"
    },
    {
     "name": "stdout",
     "output_type": "stream",
     "text": [
      "Val-Acc=0.9027860106698281\n",
      "Train-Acc=0.916403162055336\n"
     ]
    },
    {
     "data": {
      "application/vnd.jupyter.widget-view+json": {
       "model_id": "",
       "version_major": 2,
       "version_minor": 0
      },
      "text/plain": [
       "HBox(children=(FloatProgress(value=1.0, bar_style='info', description='Validating', layout=Layout(flex='2'), m…"
      ]
     },
     "metadata": {},
     "output_type": "display_data"
    },
    {
     "name": "stdout",
     "output_type": "stream",
     "text": [
      "Val-Acc=0.9081209247184351\n",
      "Train-Acc=0.9183794466403162\n",
      "new best val acc 0.9081209247184351\n",
      "folder exists already\n",
      "Saved model to \"best_models/{'random_time_stretch':_True,_'mel_scale':_True,_'normalize_spectrogram':_True}/ablation_0.9081209247184351.p\"\n",
      "Saved checkpoint at epoch 34 at \"best_models/{'random_time_stretch':_True,_'mel_scale':_True,_'normalize_spectrogram':_True}/ablation_0.9081209247184351.p\"\n"
     ]
    },
    {
     "data": {
      "application/vnd.jupyter.widget-view+json": {
       "model_id": "",
       "version_major": 2,
       "version_minor": 0
      },
      "text/plain": [
       "HBox(children=(FloatProgress(value=1.0, bar_style='info', description='Validating', layout=Layout(flex='2'), m…"
      ]
     },
     "metadata": {},
     "output_type": "display_data"
    },
    {
     "name": "stdout",
     "output_type": "stream",
     "text": [
      "Val-Acc=0.9045643153526971\n",
      "Train-Acc=0.9191699604743083\n"
     ]
    },
    {
     "data": {
      "application/vnd.jupyter.widget-view+json": {
       "model_id": "",
       "version_major": 2,
       "version_minor": 0
      },
      "text/plain": [
       "HBox(children=(FloatProgress(value=1.0, bar_style='info', description='Validating', layout=Layout(flex='2'), m…"
      ]
     },
     "metadata": {},
     "output_type": "display_data"
    },
    {
     "name": "stdout",
     "output_type": "stream",
     "text": [
      "Val-Acc=0.9069353882631891\n",
      "Train-Acc=0.9211462450592885\n"
     ]
    },
    {
     "data": {
      "application/vnd.jupyter.widget-view+json": {
       "model_id": "",
       "version_major": 2,
       "version_minor": 0
      },
      "text/plain": [
       "HBox(children=(FloatProgress(value=1.0, bar_style='info', description='Validating', layout=Layout(flex='2'), m…"
      ]
     },
     "metadata": {},
     "output_type": "display_data"
    },
    {
     "name": "stdout",
     "output_type": "stream",
     "text": [
      "Val-Acc=0.9039715471250741\n",
      "Train-Acc=0.9203557312252965\n"
     ]
    },
    {
     "data": {
      "application/vnd.jupyter.widget-view+json": {
       "model_id": "",
       "version_major": 2,
       "version_minor": 0
      },
      "text/plain": [
       "HBox(children=(FloatProgress(value=1.0, bar_style='info', description='Validating', layout=Layout(flex='2'), m…"
      ]
     },
     "metadata": {},
     "output_type": "display_data"
    },
    {
     "name": "stdout",
     "output_type": "stream",
     "text": [
      "Val-Acc=0.9063426200355661\n",
      "Train-Acc=0.9191699604743083\n"
     ]
    },
    {
     "data": {
      "application/vnd.jupyter.widget-view+json": {
       "model_id": "",
       "version_major": 2,
       "version_minor": 0
      },
      "text/plain": [
       "HBox(children=(FloatProgress(value=1.0, bar_style='info', description='Validating', layout=Layout(flex='2'), m…"
      ]
     },
     "metadata": {},
     "output_type": "display_data"
    },
    {
     "name": "stdout",
     "output_type": "stream",
     "text": [
      "Val-Acc=0.9075281564908121\n",
      "Train-Acc=0.9213438735177866\n"
     ]
    },
    {
     "data": {
      "application/vnd.jupyter.widget-view+json": {
       "model_id": "",
       "version_major": 2,
       "version_minor": 0
      },
      "text/plain": [
       "HBox(children=(FloatProgress(value=1.0, bar_style='info', description='Validating', layout=Layout(flex='2'), m…"
      ]
     },
     "metadata": {},
     "output_type": "display_data"
    },
    {
     "name": "stdout",
     "output_type": "stream",
     "text": [
      "Val-Acc=0.9045643153526971\n",
      "Train-Acc=0.9217391304347826\n"
     ]
    },
    {
     "data": {
      "application/vnd.jupyter.widget-view+json": {
       "model_id": "",
       "version_major": 2,
       "version_minor": 0
      },
      "text/plain": [
       "HBox(children=(FloatProgress(value=1.0, bar_style='info', description='Validating', layout=Layout(flex='2'), m…"
      ]
     },
     "metadata": {},
     "output_type": "display_data"
    },
    {
     "name": "stdout",
     "output_type": "stream",
     "text": [
      "Val-Acc=0.9063426200355661\n",
      "Train-Acc=0.9219367588932806\n"
     ]
    },
    {
     "data": {
      "application/vnd.jupyter.widget-view+json": {
       "model_id": "",
       "version_major": 2,
       "version_minor": 0
      },
      "text/plain": [
       "HBox(children=(FloatProgress(value=1.0, bar_style='info', description='Validating', layout=Layout(flex='2'), m…"
      ]
     },
     "metadata": {},
     "output_type": "display_data"
    },
    {
     "name": "stdout",
     "output_type": "stream",
     "text": [
      "Val-Acc=0.9075281564908121\n",
      "Train-Acc=0.9227272727272727\n"
     ]
    },
    {
     "data": {
      "application/vnd.jupyter.widget-view+json": {
       "model_id": "",
       "version_major": 2,
       "version_minor": 0
      },
      "text/plain": [
       "HBox(children=(FloatProgress(value=1.0, bar_style='info', description='Validating', layout=Layout(flex='2'), m…"
      ]
     },
     "metadata": {},
     "output_type": "display_data"
    },
    {
     "name": "stdout",
     "output_type": "stream",
     "text": [
      "Val-Acc=0.9098992294013041\n",
      "Train-Acc=0.9268774703557312\n",
      "new best val acc 0.9098992294013041\n",
      "folder exists already\n",
      "Saved model to \"best_models/{'random_time_stretch':_True,_'mel_scale':_True,_'normalize_spectrogram':_True}/ablation_0.9098992294013041.p\"\n",
      "Saved checkpoint at epoch 43 at \"best_models/{'random_time_stretch':_True,_'mel_scale':_True,_'normalize_spectrogram':_True}/ablation_0.9098992294013041.p\"\n"
     ]
    },
    {
     "data": {
      "application/vnd.jupyter.widget-view+json": {
       "model_id": "",
       "version_major": 2,
       "version_minor": 0
      },
      "text/plain": [
       "HBox(children=(FloatProgress(value=1.0, bar_style='info', description='Validating', layout=Layout(flex='2'), m…"
      ]
     },
     "metadata": {},
     "output_type": "display_data"
    },
    {
     "name": "stdout",
     "output_type": "stream",
     "text": [
      "Val-Acc=0.8980438648488441\n",
      "Train-Acc=0.9260869565217391\n"
     ]
    },
    {
     "data": {
      "application/vnd.jupyter.widget-view+json": {
       "model_id": "",
       "version_major": 2,
       "version_minor": 0
      },
      "text/plain": [
       "HBox(children=(FloatProgress(value=1.0, bar_style='info', description='Validating', layout=Layout(flex='2'), m…"
      ]
     },
     "metadata": {},
     "output_type": "display_data"
    },
    {
     "name": "stdout",
     "output_type": "stream",
     "text": [
      "Val-Acc=0.9081209247184351\n",
      "Train-Acc=0.9221343873517787\n"
     ]
    },
    {
     "data": {
      "application/vnd.jupyter.widget-view+json": {
       "model_id": "",
       "version_major": 2,
       "version_minor": 0
      },
      "text/plain": [
       "HBox(children=(FloatProgress(value=1.0, bar_style='info', description='Validating', layout=Layout(flex='2'), m…"
      ]
     },
     "metadata": {},
     "output_type": "display_data"
    },
    {
     "name": "stdout",
     "output_type": "stream",
     "text": [
      "Val-Acc=0.9110847658565501\n",
      "Train-Acc=0.925296442687747\n",
      "new best val acc 0.9110847658565501\n",
      "folder exists already\n",
      "Saved model to \"best_models/{'random_time_stretch':_True,_'mel_scale':_True,_'normalize_spectrogram':_True}/ablation_0.9110847658565501.p\"\n",
      "Saved checkpoint at epoch 46 at \"best_models/{'random_time_stretch':_True,_'mel_scale':_True,_'normalize_spectrogram':_True}/ablation_0.9110847658565501.p\"\n"
     ]
    },
    {
     "data": {
      "application/vnd.jupyter.widget-view+json": {
       "model_id": "",
       "version_major": 2,
       "version_minor": 0
      },
      "text/plain": [
       "HBox(children=(FloatProgress(value=1.0, bar_style='info', description='Validating', layout=Layout(flex='2'), m…"
      ]
     },
     "metadata": {},
     "output_type": "display_data"
    },
    {
     "name": "stdout",
     "output_type": "stream",
     "text": [
      "Val-Acc=0.9016004742145821\n",
      "Train-Acc=0.9270750988142292\n"
     ]
    },
    {
     "data": {
      "application/vnd.jupyter.widget-view+json": {
       "model_id": "",
       "version_major": 2,
       "version_minor": 0
      },
      "text/plain": [
       "HBox(children=(FloatProgress(value=1.0, bar_style='info', description='Validating', layout=Layout(flex='2'), m…"
      ]
     },
     "metadata": {},
     "output_type": "display_data"
    },
    {
     "name": "stdout",
     "output_type": "stream",
     "text": [
      "Val-Acc=0.9075281564908121\n",
      "Train-Acc=0.9270750988142292\n"
     ]
    },
    {
     "data": {
      "application/vnd.jupyter.widget-view+json": {
       "model_id": "",
       "version_major": 2,
       "version_minor": 0
      },
      "text/plain": [
       "HBox(children=(FloatProgress(value=1.0, bar_style='info', description='Validating', layout=Layout(flex='2'), m…"
      ]
     },
     "metadata": {},
     "output_type": "display_data"
    },
    {
     "name": "stdout",
     "output_type": "stream",
     "text": [
      "Val-Acc=0.9098992294013041\n",
      "Train-Acc=0.9256916996047431\n"
     ]
    },
    {
     "data": {
      "application/vnd.jupyter.widget-view+json": {
       "model_id": "",
       "version_major": 2,
       "version_minor": 0
      },
      "text/plain": [
       "HBox(children=(FloatProgress(value=1.0, bar_style='info', description='Validating', layout=Layout(flex='2'), m…"
      ]
     },
     "metadata": {},
     "output_type": "display_data"
    },
    {
     "name": "stderr",
     "output_type": "stream",
     "text": [
      "GPU available: True, used: True\n",
      "INFO:lightning:GPU available: True, used: True\n",
      "No environment variable for node rank defined. Set as 0.\n",
      "WARNING:lightning:No environment variable for node rank defined. Set as 0.\n",
      "CUDA_VISIBLE_DEVICES: [0]\n",
      "INFO:lightning:CUDA_VISIBLE_DEVICES: [0]\n",
      "Set SLURM handle signals.\n",
      "INFO:lightning:Set SLURM handle signals.\n",
      "\n",
      "   | Name                 | Type              | Params\n",
      "-------------------------------------------------------\n",
      "0  | model                | AblationModel     | 182 K \n",
      "1  | model.convs          | Sequential        | 114 K \n",
      "2  | model.convs.0        | BatchNorm2d       | 2     \n",
      "3  | model.convs.1        | Conv2d            | 1 K   \n",
      "4  | model.convs.2        | BatchNorm2d       | 20    \n",
      "5  | model.convs.3        | PReLU             | 1     \n",
      "6  | model.convs.4        | MaxPool2d         | 0     \n",
      "7  | model.convs.5        | Dropout           | 0     \n",
      "8  | model.convs.6        | Conv2d            | 20 K  \n",
      "9  | model.convs.7        | BatchNorm2d       | 40    \n",
      "10 | model.convs.8        | PReLU             | 1     \n",
      "11 | model.convs.9        | MaxPool2d         | 0     \n",
      "12 | model.convs.10       | Dropout           | 0     \n",
      "13 | model.convs.11       | Conv2d            | 80 K  \n",
      "14 | model.convs.12       | BatchNorm2d       | 80    \n",
      "15 | model.convs.13       | PReLU             | 1     \n",
      "16 | model.convs.14       | MaxPool2d         | 0     \n",
      "17 | model.convs.15       | Dropout           | 0     \n",
      "18 | model.convs.16       | Conv2d            | 12 K  \n",
      "19 | model.convs.17       | BatchNorm2d       | 160   \n",
      "20 | model.convs.18       | PReLU             | 1     \n",
      "21 | model.convs.19       | MaxPool2d         | 0     \n",
      "22 | model.convs.20       | Dropout           | 0     \n",
      "23 | model.dense          | Sequential        | 68 K  \n",
      "24 | model.dense.0        | Linear            | 66 K  \n",
      "25 | model.dense.1        | PReLU             | 1     \n",
      "26 | model.dense.2        | Dropout           | 0     \n",
      "27 | model.dense.3        | Linear            | 1 K   \n",
      "28 | model.random_stretch | RandomTimeStretch | 0     \n",
      "29 | model.complex_norm   | ComplexNorm       | 0     \n",
      "30 | model.norm           | SpecNormalization | 0     \n",
      "INFO:lightning:\n",
      "   | Name                 | Type              | Params\n",
      "-------------------------------------------------------\n",
      "0  | model                | AblationModel     | 182 K \n",
      "1  | model.convs          | Sequential        | 114 K \n",
      "2  | model.convs.0        | BatchNorm2d       | 2     \n",
      "3  | model.convs.1        | Conv2d            | 1 K   \n",
      "4  | model.convs.2        | BatchNorm2d       | 20    \n",
      "5  | model.convs.3        | PReLU             | 1     \n",
      "6  | model.convs.4        | MaxPool2d         | 0     \n",
      "7  | model.convs.5        | Dropout           | 0     \n",
      "8  | model.convs.6        | Conv2d            | 20 K  \n",
      "9  | model.convs.7        | BatchNorm2d       | 40    \n",
      "10 | model.convs.8        | PReLU             | 1     \n",
      "11 | model.convs.9        | MaxPool2d         | 0     \n",
      "12 | model.convs.10       | Dropout           | 0     \n",
      "13 | model.convs.11       | Conv2d            | 80 K  \n",
      "14 | model.convs.12       | BatchNorm2d       | 80    \n",
      "15 | model.convs.13       | PReLU             | 1     \n",
      "16 | model.convs.14       | MaxPool2d         | 0     \n",
      "17 | model.convs.15       | Dropout           | 0     \n",
      "18 | model.convs.16       | Conv2d            | 12 K  \n",
      "19 | model.convs.17       | BatchNorm2d       | 160   \n",
      "20 | model.convs.18       | PReLU             | 1     \n",
      "21 | model.convs.19       | MaxPool2d         | 0     \n",
      "22 | model.convs.20       | Dropout           | 0     \n",
      "23 | model.dense          | Sequential        | 68 K  \n",
      "24 | model.dense.0        | Linear            | 66 K  \n",
      "25 | model.dense.1        | PReLU             | 1     \n",
      "26 | model.dense.2        | Dropout           | 0     \n",
      "27 | model.dense.3        | Linear            | 1 K   \n",
      "28 | model.random_stretch | RandomTimeStretch | 0     \n",
      "29 | model.complex_norm   | ComplexNorm       | 0     \n",
      "30 | model.norm           | SpecNormalization | 0     \n"
     ]
    },
    {
     "name": "stdout",
     "output_type": "stream",
     "text": [
      "Val-Acc=0.9069353882631891\n",
      "Train-Acc=0.9268774703557312\n",
      "\n"
     ]
    },
    {
     "data": {
      "application/vnd.jupyter.widget-view+json": {
       "model_id": "",
       "version_major": 2,
       "version_minor": 0
      },
      "text/plain": [
       "HBox(children=(FloatProgress(value=1.0, bar_style='info', description='Validation sanity check', layout=Layout…"
      ]
     },
     "metadata": {},
     "output_type": "display_data"
    },
    {
     "name": "stdout",
     "output_type": "stream",
     "text": [
      "Val-Acc=0.01956135151155898\n"
     ]
    },
    {
     "data": {
      "application/vnd.jupyter.widget-view+json": {
       "model_id": "a624b8641ca94c8a9778259794bb85b9",
       "version_major": 2,
       "version_minor": 0
      },
      "text/plain": [
       "HBox(children=(FloatProgress(value=1.0, bar_style='info', description='Training', layout=Layout(flex='2'), max…"
      ]
     },
     "metadata": {},
     "output_type": "display_data"
    },
    {
     "data": {
      "application/vnd.jupyter.widget-view+json": {
       "model_id": "",
       "version_major": 2,
       "version_minor": 0
      },
      "text/plain": [
       "HBox(children=(FloatProgress(value=1.0, bar_style='info', description='Validating', layout=Layout(flex='2'), m…"
      ]
     },
     "metadata": {},
     "output_type": "display_data"
    },
    {
     "name": "stdout",
     "output_type": "stream",
     "text": [
      "Val-Acc=0.7996443390634262\n",
      "Train-Acc=0.7405138339920949\n",
      "new best val acc 0.7996443390634262\n",
      "Saved model to \"best_models/{'random_time_stretch':_True,_'mel_scale':_True,_'normalize_spectrogram':_False}/ablation_0.7996443390634262.p\"\n",
      "Saved checkpoint at epoch 1 at \"best_models/{'random_time_stretch':_True,_'mel_scale':_True,_'normalize_spectrogram':_False}/ablation_0.7996443390634262.p\"\n"
     ]
    },
    {
     "data": {
      "application/vnd.jupyter.widget-view+json": {
       "model_id": "",
       "version_major": 2,
       "version_minor": 0
      },
      "text/plain": [
       "HBox(children=(FloatProgress(value=1.0, bar_style='info', description='Validating', layout=Layout(flex='2'), m…"
      ]
     },
     "metadata": {},
     "output_type": "display_data"
    },
    {
     "name": "stdout",
     "output_type": "stream",
     "text": [
      "Val-Acc=0.7338470657972732\n",
      "Train-Acc=0.7980237154150197\n"
     ]
    },
    {
     "data": {
      "application/vnd.jupyter.widget-view+json": {
       "model_id": "",
       "version_major": 2,
       "version_minor": 0
      },
      "text/plain": [
       "HBox(children=(FloatProgress(value=1.0, bar_style='info', description='Validating', layout=Layout(flex='2'), m…"
      ]
     },
     "metadata": {},
     "output_type": "display_data"
    },
    {
     "name": "stdout",
     "output_type": "stream",
     "text": [
      "Val-Acc=0.8150563129816242\n",
      "Train-Acc=0.808695652173913\n",
      "new best val acc 0.8150563129816242\n",
      "folder exists already\n",
      "Saved model to \"best_models/{'random_time_stretch':_True,_'mel_scale':_True,_'normalize_spectrogram':_False}/ablation_0.8150563129816242.p\"\n",
      "Saved checkpoint at epoch 3 at \"best_models/{'random_time_stretch':_True,_'mel_scale':_True,_'normalize_spectrogram':_False}/ablation_0.8150563129816242.p\"\n"
     ]
    },
    {
     "data": {
      "application/vnd.jupyter.widget-view+json": {
       "model_id": "",
       "version_major": 2,
       "version_minor": 0
      },
      "text/plain": [
       "HBox(children=(FloatProgress(value=1.0, bar_style='info', description='Validating', layout=Layout(flex='2'), m…"
      ]
     },
     "metadata": {},
     "output_type": "display_data"
    },
    {
     "name": "stdout",
     "output_type": "stream",
     "text": [
      "Val-Acc=0.8120924718435092\n",
      "Train-Acc=0.8203557312252965\n"
     ]
    },
    {
     "data": {
      "application/vnd.jupyter.widget-view+json": {
       "model_id": "",
       "version_major": 2,
       "version_minor": 0
      },
      "text/plain": [
       "HBox(children=(FloatProgress(value=1.0, bar_style='info', description='Validating', layout=Layout(flex='2'), m…"
      ]
     },
     "metadata": {},
     "output_type": "display_data"
    },
    {
     "name": "stdout",
     "output_type": "stream",
     "text": [
      "Val-Acc=0.8209839952578541\n",
      "Train-Acc=0.8288537549407115\n",
      "new best val acc 0.8209839952578541\n",
      "folder exists already\n",
      "Saved model to \"best_models/{'random_time_stretch':_True,_'mel_scale':_True,_'normalize_spectrogram':_False}/ablation_0.8209839952578541.p\"\n",
      "Saved checkpoint at epoch 5 at \"best_models/{'random_time_stretch':_True,_'mel_scale':_True,_'normalize_spectrogram':_False}/ablation_0.8209839952578541.p\"\n"
     ]
    },
    {
     "data": {
      "application/vnd.jupyter.widget-view+json": {
       "model_id": "",
       "version_major": 2,
       "version_minor": 0
      },
      "text/plain": [
       "HBox(children=(FloatProgress(value=1.0, bar_style='info', description='Validating', layout=Layout(flex='2'), m…"
      ]
     },
     "metadata": {},
     "output_type": "display_data"
    },
    {
     "name": "stdout",
     "output_type": "stream",
     "text": [
      "Val-Acc=0.8292827504445762\n",
      "Train-Acc=0.8290513833992095\n",
      "new best val acc 0.8292827504445762\n",
      "folder exists already\n",
      "Saved model to \"best_models/{'random_time_stretch':_True,_'mel_scale':_True,_'normalize_spectrogram':_False}/ablation_0.8292827504445762.p\"\n",
      "Saved checkpoint at epoch 6 at \"best_models/{'random_time_stretch':_True,_'mel_scale':_True,_'normalize_spectrogram':_False}/ablation_0.8292827504445762.p\"\n"
     ]
    },
    {
     "data": {
      "application/vnd.jupyter.widget-view+json": {
       "model_id": "",
       "version_major": 2,
       "version_minor": 0
      },
      "text/plain": [
       "HBox(children=(FloatProgress(value=1.0, bar_style='info', description='Validating', layout=Layout(flex='2'), m…"
      ]
     },
     "metadata": {},
     "output_type": "display_data"
    },
    {
     "name": "stdout",
     "output_type": "stream",
     "text": [
      "Val-Acc=0.8233550681683461\n",
      "Train-Acc=0.8365612648221344\n"
     ]
    },
    {
     "data": {
      "application/vnd.jupyter.widget-view+json": {
       "model_id": "",
       "version_major": 2,
       "version_minor": 0
      },
      "text/plain": [
       "HBox(children=(FloatProgress(value=1.0, bar_style='info', description='Validating', layout=Layout(flex='2'), m…"
      ]
     },
     "metadata": {},
     "output_type": "display_data"
    },
    {
     "name": "stdout",
     "output_type": "stream",
     "text": [
      "Val-Acc=0.8263189093064611\n",
      "Train-Acc=0.8395256916996048\n"
     ]
    },
    {
     "data": {
      "application/vnd.jupyter.widget-view+json": {
       "model_id": "",
       "version_major": 2,
       "version_minor": 0
      },
      "text/plain": [
       "HBox(children=(FloatProgress(value=1.0, bar_style='info', description='Validating', layout=Layout(flex='2'), m…"
      ]
     },
     "metadata": {},
     "output_type": "display_data"
    },
    {
     "name": "stdout",
     "output_type": "stream",
     "text": [
      "Val-Acc=0.8387670420865442\n",
      "Train-Acc=0.8367588932806325\n",
      "new best val acc 0.8387670420865442\n",
      "folder exists already\n",
      "Saved model to \"best_models/{'random_time_stretch':_True,_'mel_scale':_True,_'normalize_spectrogram':_False}/ablation_0.8387670420865442.p\"\n",
      "Saved checkpoint at epoch 9 at \"best_models/{'random_time_stretch':_True,_'mel_scale':_True,_'normalize_spectrogram':_False}/ablation_0.8387670420865442.p\"\n"
     ]
    },
    {
     "data": {
      "application/vnd.jupyter.widget-view+json": {
       "model_id": "",
       "version_major": 2,
       "version_minor": 0
      },
      "text/plain": [
       "HBox(children=(FloatProgress(value=1.0, bar_style='info', description='Validating', layout=Layout(flex='2'), m…"
      ]
     },
     "metadata": {},
     "output_type": "display_data"
    },
    {
     "name": "stdout",
     "output_type": "stream",
     "text": [
      "Val-Acc=0.8417308832246592\n",
      "Train-Acc=0.841106719367589\n",
      "new best val acc 0.8417308832246592\n",
      "folder exists already\n",
      "Saved model to \"best_models/{'random_time_stretch':_True,_'mel_scale':_True,_'normalize_spectrogram':_False}/ablation_0.8417308832246592.p\"\n",
      "Saved checkpoint at epoch 10 at \"best_models/{'random_time_stretch':_True,_'mel_scale':_True,_'normalize_spectrogram':_False}/ablation_0.8417308832246592.p\"\n"
     ]
    },
    {
     "data": {
      "application/vnd.jupyter.widget-view+json": {
       "model_id": "",
       "version_major": 2,
       "version_minor": 0
      },
      "text/plain": [
       "HBox(children=(FloatProgress(value=1.0, bar_style='info', description='Validating', layout=Layout(flex='2'), m…"
      ]
     },
     "metadata": {},
     "output_type": "display_data"
    },
    {
     "name": "stdout",
     "output_type": "stream",
     "text": [
      "Val-Acc=0.8334321280379372\n",
      "Train-Acc=0.8466403162055336\n"
     ]
    },
    {
     "data": {
      "application/vnd.jupyter.widget-view+json": {
       "model_id": "",
       "version_major": 2,
       "version_minor": 0
      },
      "text/plain": [
       "HBox(children=(FloatProgress(value=1.0, bar_style='info', description='Validating', layout=Layout(flex='2'), m…"
      ]
     },
     "metadata": {},
     "output_type": "display_data"
    },
    {
     "name": "stdout",
     "output_type": "stream",
     "text": [
      "Val-Acc=0.8352104327208062\n",
      "Train-Acc=0.8452569169960474\n"
     ]
    },
    {
     "data": {
      "application/vnd.jupyter.widget-view+json": {
       "model_id": "",
       "version_major": 2,
       "version_minor": 0
      },
      "text/plain": [
       "HBox(children=(FloatProgress(value=1.0, bar_style='info', description='Validating', layout=Layout(flex='2'), m…"
      ]
     },
     "metadata": {},
     "output_type": "display_data"
    },
    {
     "name": "stdout",
     "output_type": "stream",
     "text": [
      "Val-Acc=0.8435091879075282\n",
      "Train-Acc=0.8517786561264822\n",
      "new best val acc 0.8435091879075282\n",
      "folder exists already\n",
      "Saved model to \"best_models/{'random_time_stretch':_True,_'mel_scale':_True,_'normalize_spectrogram':_False}/ablation_0.8435091879075282.p\"\n",
      "Saved checkpoint at epoch 13 at \"best_models/{'random_time_stretch':_True,_'mel_scale':_True,_'normalize_spectrogram':_False}/ablation_0.8435091879075282.p\"\n"
     ]
    },
    {
     "data": {
      "application/vnd.jupyter.widget-view+json": {
       "model_id": "",
       "version_major": 2,
       "version_minor": 0
      },
      "text/plain": [
       "HBox(children=(FloatProgress(value=1.0, bar_style='info', description='Validating', layout=Layout(flex='2'), m…"
      ]
     },
     "metadata": {},
     "output_type": "display_data"
    },
    {
     "name": "stdout",
     "output_type": "stream",
     "text": [
      "Val-Acc=0.8387670420865442\n",
      "Train-Acc=0.8531620553359683\n"
     ]
    },
    {
     "data": {
      "application/vnd.jupyter.widget-view+json": {
       "model_id": "",
       "version_major": 2,
       "version_minor": 0
      },
      "text/plain": [
       "HBox(children=(FloatProgress(value=1.0, bar_style='info', description='Validating', layout=Layout(flex='2'), m…"
      ]
     },
     "metadata": {},
     "output_type": "display_data"
    },
    {
     "name": "stdout",
     "output_type": "stream",
     "text": [
      "Val-Acc=0.8203912270302312\n",
      "Train-Acc=0.8553359683794466\n"
     ]
    },
    {
     "data": {
      "application/vnd.jupyter.widget-view+json": {
       "model_id": "",
       "version_major": 2,
       "version_minor": 0
      },
      "text/plain": [
       "HBox(children=(FloatProgress(value=1.0, bar_style='info', description='Validating', layout=Layout(flex='2'), m…"
      ]
     },
     "metadata": {},
     "output_type": "display_data"
    },
    {
     "name": "stdout",
     "output_type": "stream",
     "text": [
      "Val-Acc=0.8601066982809722\n",
      "Train-Acc=0.8541501976284585\n",
      "new best val acc 0.8601066982809722\n",
      "folder exists already\n",
      "Saved model to \"best_models/{'random_time_stretch':_True,_'mel_scale':_True,_'normalize_spectrogram':_False}/ablation_0.8601066982809722.p\"\n",
      "Saved checkpoint at epoch 16 at \"best_models/{'random_time_stretch':_True,_'mel_scale':_True,_'normalize_spectrogram':_False}/ablation_0.8601066982809722.p\"\n"
     ]
    },
    {
     "data": {
      "application/vnd.jupyter.widget-view+json": {
       "model_id": "",
       "version_major": 2,
       "version_minor": 0
      },
      "text/plain": [
       "HBox(children=(FloatProgress(value=1.0, bar_style='info', description='Validating', layout=Layout(flex='2'), m…"
      ]
     },
     "metadata": {},
     "output_type": "display_data"
    },
    {
     "name": "stdout",
     "output_type": "stream",
     "text": [
      "Val-Acc=0.8464730290456431\n",
      "Train-Acc=0.8521739130434782\n"
     ]
    },
    {
     "data": {
      "application/vnd.jupyter.widget-view+json": {
       "model_id": "",
       "version_major": 2,
       "version_minor": 0
      },
      "text/plain": [
       "HBox(children=(FloatProgress(value=1.0, bar_style='info', description='Validating', layout=Layout(flex='2'), m…"
      ]
     },
     "metadata": {},
     "output_type": "display_data"
    },
    {
     "name": "stdout",
     "output_type": "stream",
     "text": [
      "Val-Acc=0.8452874925903971\n",
      "Train-Acc=0.8584980237154151\n"
     ]
    },
    {
     "data": {
      "application/vnd.jupyter.widget-view+json": {
       "model_id": "",
       "version_major": 2,
       "version_minor": 0
      },
      "text/plain": [
       "HBox(children=(FloatProgress(value=1.0, bar_style='info', description='Validating', layout=Layout(flex='2'), m…"
      ]
     },
     "metadata": {},
     "output_type": "display_data"
    },
    {
     "name": "stdout",
     "output_type": "stream",
     "text": [
      "Val-Acc=0.8310610551274452\n",
      "Train-Acc=0.8614624505928854\n"
     ]
    },
    {
     "data": {
      "application/vnd.jupyter.widget-view+json": {
       "model_id": "",
       "version_major": 2,
       "version_minor": 0
      },
      "text/plain": [
       "HBox(children=(FloatProgress(value=1.0, bar_style='info', description='Validating', layout=Layout(flex='2'), m…"
      ]
     },
     "metadata": {},
     "output_type": "display_data"
    },
    {
     "name": "stdout",
     "output_type": "stream",
     "text": [
      "Val-Acc=0.8358032009484292\n",
      "Train-Acc=0.8624505928853755\n"
     ]
    },
    {
     "data": {
      "application/vnd.jupyter.widget-view+json": {
       "model_id": "",
       "version_major": 2,
       "version_minor": 0
      },
      "text/plain": [
       "HBox(children=(FloatProgress(value=1.0, bar_style='info', description='Validating', layout=Layout(flex='2'), m…"
      ]
     },
     "metadata": {},
     "output_type": "display_data"
    },
    {
     "name": "stdout",
     "output_type": "stream",
     "text": [
      "Val-Acc=0.8363959691760522\n",
      "Train-Acc=0.8644268774703557\n"
     ]
    },
    {
     "data": {
      "application/vnd.jupyter.widget-view+json": {
       "model_id": "",
       "version_major": 2,
       "version_minor": 0
      },
      "text/plain": [
       "HBox(children=(FloatProgress(value=1.0, bar_style='info', description='Validating', layout=Layout(flex='2'), m…"
      ]
     },
     "metadata": {},
     "output_type": "display_data"
    },
    {
     "name": "stdout",
     "output_type": "stream",
     "text": [
      "Val-Acc=0.8316538233550682\n",
      "Train-Acc=0.8650197628458498\n"
     ]
    },
    {
     "data": {
      "application/vnd.jupyter.widget-view+json": {
       "model_id": "",
       "version_major": 2,
       "version_minor": 0
      },
      "text/plain": [
       "HBox(children=(FloatProgress(value=1.0, bar_style='info', description='Validating', layout=Layout(flex='2'), m…"
      ]
     },
     "metadata": {},
     "output_type": "display_data"
    },
    {
     "name": "stdout",
     "output_type": "stream",
     "text": [
      "Val-Acc=0.8589211618257261\n",
      "Train-Acc=0.8662055335968379\n"
     ]
    },
    {
     "data": {
      "application/vnd.jupyter.widget-view+json": {
       "model_id": "",
       "version_major": 2,
       "version_minor": 0
      },
      "text/plain": [
       "HBox(children=(FloatProgress(value=1.0, bar_style='info', description='Validating', layout=Layout(flex='2'), m…"
      ]
     },
     "metadata": {},
     "output_type": "display_data"
    },
    {
     "name": "stdout",
     "output_type": "stream",
     "text": [
      "Val-Acc=0.8393598103141672\n",
      "Train-Acc=0.8677865612648221\n"
     ]
    },
    {
     "data": {
      "application/vnd.jupyter.widget-view+json": {
       "model_id": "",
       "version_major": 2,
       "version_minor": 0
      },
      "text/plain": [
       "HBox(children=(FloatProgress(value=1.0, bar_style='info', description='Validating', layout=Layout(flex='2'), m…"
      ]
     },
     "metadata": {},
     "output_type": "display_data"
    },
    {
     "name": "stdout",
     "output_type": "stream",
     "text": [
      "Val-Acc=0.8393598103141672\n",
      "Train-Acc=0.8695652173913043\n"
     ]
    },
    {
     "data": {
      "application/vnd.jupyter.widget-view+json": {
       "model_id": "",
       "version_major": 2,
       "version_minor": 0
      },
      "text/plain": [
       "HBox(children=(FloatProgress(value=1.0, bar_style='info', description='Validating', layout=Layout(flex='2'), m…"
      ]
     },
     "metadata": {},
     "output_type": "display_data"
    },
    {
     "name": "stdout",
     "output_type": "stream",
     "text": [
      "Val-Acc=0.8689982216953172\n",
      "Train-Acc=0.8681818181818182\n",
      "new best val acc 0.8689982216953172\n",
      "folder exists already\n",
      "Saved model to \"best_models/{'random_time_stretch':_True,_'mel_scale':_True,_'normalize_spectrogram':_False}/ablation_0.8689982216953172.p\"\n",
      "Saved checkpoint at epoch 26 at \"best_models/{'random_time_stretch':_True,_'mel_scale':_True,_'normalize_spectrogram':_False}/ablation_0.8689982216953172.p\"\n"
     ]
    },
    {
     "data": {
      "application/vnd.jupyter.widget-view+json": {
       "model_id": "",
       "version_major": 2,
       "version_minor": 0
      },
      "text/plain": [
       "HBox(children=(FloatProgress(value=1.0, bar_style='info', description='Validating', layout=Layout(flex='2'), m…"
      ]
     },
     "metadata": {},
     "output_type": "display_data"
    },
    {
     "name": "stdout",
     "output_type": "stream",
     "text": [
      "Val-Acc=0.8452874925903971\n",
      "Train-Acc=0.8739130434782608\n"
     ]
    },
    {
     "data": {
      "application/vnd.jupyter.widget-view+json": {
       "model_id": "",
       "version_major": 2,
       "version_minor": 0
      },
      "text/plain": [
       "HBox(children=(FloatProgress(value=1.0, bar_style='info', description='Validating', layout=Layout(flex='2'), m…"
      ]
     },
     "metadata": {},
     "output_type": "display_data"
    },
    {
     "name": "stdout",
     "output_type": "stream",
     "text": [
      "Val-Acc=0.8269116775340841\n",
      "Train-Acc=0.8729249011857707\n"
     ]
    },
    {
     "data": {
      "application/vnd.jupyter.widget-view+json": {
       "model_id": "",
       "version_major": 2,
       "version_minor": 0
      },
      "text/plain": [
       "HBox(children=(FloatProgress(value=1.0, bar_style='info', description='Validating', layout=Layout(flex='2'), m…"
      ]
     },
     "metadata": {},
     "output_type": "display_data"
    },
    {
     "name": "stdout",
     "output_type": "stream",
     "text": [
      "Val-Acc=0.8387670420865442\n",
      "Train-Acc=0.8749011857707509\n"
     ]
    },
    {
     "data": {
      "application/vnd.jupyter.widget-view+json": {
       "model_id": "",
       "version_major": 2,
       "version_minor": 0
      },
      "text/plain": [
       "HBox(children=(FloatProgress(value=1.0, bar_style='info', description='Validating', layout=Layout(flex='2'), m…"
      ]
     },
     "metadata": {},
     "output_type": "display_data"
    },
    {
     "name": "stdout",
     "output_type": "stream",
     "text": [
      "Val-Acc=0.8446947243627742\n",
      "Train-Acc=0.8713438735177865\n"
     ]
    },
    {
     "data": {
      "application/vnd.jupyter.widget-view+json": {
       "model_id": "",
       "version_major": 2,
       "version_minor": 0
      },
      "text/plain": [
       "HBox(children=(FloatProgress(value=1.0, bar_style='info', description='Validating', layout=Layout(flex='2'), m…"
      ]
     },
     "metadata": {},
     "output_type": "display_data"
    },
    {
     "name": "stdout",
     "output_type": "stream",
     "text": [
      "Val-Acc=0.8500296384113811\n",
      "Train-Acc=0.8774703557312253\n"
     ]
    },
    {
     "data": {
      "application/vnd.jupyter.widget-view+json": {
       "model_id": "",
       "version_major": 2,
       "version_minor": 0
      },
      "text/plain": [
       "HBox(children=(FloatProgress(value=1.0, bar_style='info', description='Validating', layout=Layout(flex='2'), m…"
      ]
     },
     "metadata": {},
     "output_type": "display_data"
    },
    {
     "name": "stdout",
     "output_type": "stream",
     "text": [
      "Val-Acc=0.8464730290456431\n",
      "Train-Acc=0.8745059288537549\n"
     ]
    },
    {
     "data": {
      "application/vnd.jupyter.widget-view+json": {
       "model_id": "",
       "version_major": 2,
       "version_minor": 0
      },
      "text/plain": [
       "HBox(children=(FloatProgress(value=1.0, bar_style='info', description='Validating', layout=Layout(flex='2'), m…"
      ]
     },
     "metadata": {},
     "output_type": "display_data"
    },
    {
     "name": "stdout",
     "output_type": "stream",
     "text": [
      "Val-Acc=0.8630705394190872\n",
      "Train-Acc=0.8770750988142293\n"
     ]
    },
    {
     "data": {
      "application/vnd.jupyter.widget-view+json": {
       "model_id": "",
       "version_major": 2,
       "version_minor": 0
      },
      "text/plain": [
       "HBox(children=(FloatProgress(value=1.0, bar_style='info', description='Validating', layout=Layout(flex='2'), m…"
      ]
     },
     "metadata": {},
     "output_type": "display_data"
    },
    {
     "name": "stdout",
     "output_type": "stream",
     "text": [
      "Val-Acc=0.8358032009484292\n",
      "Train-Acc=0.8766798418972332\n"
     ]
    },
    {
     "data": {
      "application/vnd.jupyter.widget-view+json": {
       "model_id": "",
       "version_major": 2,
       "version_minor": 0
      },
      "text/plain": [
       "HBox(children=(FloatProgress(value=1.0, bar_style='info', description='Validating', layout=Layout(flex='2'), m…"
      ]
     },
     "metadata": {},
     "output_type": "display_data"
    },
    {
     "name": "stdout",
     "output_type": "stream",
     "text": [
      "Val-Acc=0.8654416123295792\n",
      "Train-Acc=0.8780632411067194\n"
     ]
    },
    {
     "data": {
      "application/vnd.jupyter.widget-view+json": {
       "model_id": "",
       "version_major": 2,
       "version_minor": 0
      },
      "text/plain": [
       "HBox(children=(FloatProgress(value=1.0, bar_style='info', description='Validating', layout=Layout(flex='2'), m…"
      ]
     },
     "metadata": {},
     "output_type": "display_data"
    },
    {
     "name": "stdout",
     "output_type": "stream",
     "text": [
      "Val-Acc=0.8612922347362182\n",
      "Train-Acc=0.8808300395256917\n"
     ]
    },
    {
     "data": {
      "application/vnd.jupyter.widget-view+json": {
       "model_id": "",
       "version_major": 2,
       "version_minor": 0
      },
      "text/plain": [
       "HBox(children=(FloatProgress(value=1.0, bar_style='info', description='Validating', layout=Layout(flex='2'), m…"
      ]
     },
     "metadata": {},
     "output_type": "display_data"
    },
    {
     "name": "stdout",
     "output_type": "stream",
     "text": [
      "Val-Acc=0.8648488441019562\n",
      "Train-Acc=0.8784584980237155\n"
     ]
    },
    {
     "data": {
      "application/vnd.jupyter.widget-view+json": {
       "model_id": "",
       "version_major": 2,
       "version_minor": 0
      },
      "text/plain": [
       "HBox(children=(FloatProgress(value=1.0, bar_style='info', description='Validating', layout=Layout(flex='2'), m…"
      ]
     },
     "metadata": {},
     "output_type": "display_data"
    },
    {
     "name": "stdout",
     "output_type": "stream",
     "text": [
      "Val-Acc=0.8500296384113811\n",
      "Train-Acc=0.8766798418972332\n"
     ]
    }
   ],
   "source": [
    "import itertools\n",
    "\n",
    "for combination in list(itertools.product([True,False], repeat=3)):\n",
    "    \n",
    "    hparams = {'batch_size': 32,\n",
    "     'learning_rate': 0.001130722521874597,\n",
    "     'p_dropout': 0.2126022956703681,\n",
    "     'lr_decay': 0.9254289926146729,\n",
    "     'n_hidden': 823,\n",
    "     'weight_decay': 0.0011007407642843825,\n",
    "     'random_time_stretch': combination[0],\n",
    "     'mel_scale': combination[1],\n",
    "     'normalize_spectrogram': combination[2]}\n",
    "\n",
    "    model = AblationModelPLModule(hparams)\n",
    "    model.prepare_data()\n",
    "    datasetHandler.load(model, 'training')#, dataset_id=config.DATASET_CONTROL)\n",
    "    datasetHandler.load(model, 'validation')#, dataset_id=config.DATASET_CONTROL)\n",
    "\n",
    "    cb = SaveCallback(\"ablation_\")\n",
    "    trainer = pl.Trainer(\n",
    "        max_epochs=50,\n",
    "        #logger= loggers.TensorBoardLogger(config.LOG_DIR, name=type(model)._name_),\n",
    "        gpus=1 if torch.cuda.is_available() else None,\n",
    "        callbacks=[cb]\n",
    "    )\n",
    "\n",
    "    trainer.fit(model)"
   ]
  },
  {
   "cell_type": "code",
   "execution_count": null,
   "metadata": {
    "ExecuteTime": {
     "end_time": "2020-07-21T10:13:04.189713Z",
     "start_time": "2020-07-21T09:22:05.651Z"
    }
   },
   "outputs": [],
   "source": [
    "# model.save(\"/nfs/students/summer-term-2020/project-4/SAVED_MODELS/SpectrogramCNN/vanilla.p\")"
   ]
  }
 ],
 "metadata": {
  "kernelspec": {
   "display_name": "Python 3",
   "language": "python",
   "name": "python3"
  }
 },
 "nbformat": 4,
 "nbformat_minor": 4
}
