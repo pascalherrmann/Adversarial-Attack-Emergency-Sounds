{
 "cells": [
  {
   "cell_type": "code",
   "execution_count": 1,
   "metadata": {
    "ExecuteTime": {
     "end_time": "2020-07-08T00:17:44.346981Z",
     "start_time": "2020-07-08T00:17:44.262690Z"
    }
   },
   "outputs": [],
   "source": [
    "%load_ext autoreload\n",
    "%autoreload 2\n",
    "\n",
    "import os\n",
    "import sys\n",
    "module_path = os.path.abspath(os.path.join('../../../src/'))\n",
    "if module_path not in sys.path:\n",
    "    sys.path.append(module_path)"
   ]
  },
  {
   "cell_type": "code",
   "execution_count": 2,
   "metadata": {
    "ExecuteTime": {
     "end_time": "2020-07-08T00:17:48.474251Z",
     "start_time": "2020-07-08T00:17:45.414257Z"
    }
   },
   "outputs": [],
   "source": [
    "from datasets.datasethandler import DatasetHandler\n",
    "datasetHandler = DatasetHandler()"
   ]
  },
  {
   "cell_type": "code",
   "execution_count": 3,
   "metadata": {
    "ExecuteTime": {
     "end_time": "2020-07-08T00:17:51.061107Z",
     "start_time": "2020-07-08T00:17:48.478917Z"
    }
   },
   "outputs": [],
   "source": [
    "import torch\n",
    "import config\n",
    "import pytorch_lightning as pl\n",
    "from classification.models.SpectrogramCNN import SpectrogramCNNPLModule\n",
    "from classification.models.DeepRecursiveCNN import DeepRecursiveCNNPLModule\n",
    "from classification.models.CRNN import CRNNPLModule"
   ]
  },
  {
   "cell_type": "code",
   "execution_count": 4,
   "metadata": {
    "ExecuteTime": {
     "end_time": "2020-07-08T00:17:51.084963Z",
     "start_time": "2020-07-08T00:17:51.065731Z"
    }
   },
   "outputs": [],
   "source": [
    "from pytorch_lightning.callbacks import Callback\n",
    "\n",
    "class SaveCallback(Callback): \n",
    "    def __init__(self, model_name):\n",
    "        super().__init__()\n",
    "        self.model_name = model_name\n",
    "        self.best_val_acc = None\n",
    "\n",
    "    def on_epoch_end(self, trainer, pl_module):\n",
    "        if not self.best_val_acc or pl_module.val_results_history[-1][\"val_acc\"] > self.best_val_acc:\n",
    "            print(\"new best val acc\", pl_module.val_results_history[-1][\"val_acc\"])\n",
    "            self.best_val_acc = pl_module.val_results_history[-1][\"val_acc\"]\n",
    "            save_path = self.model_name + str(self.best_val_acc) + \"best.p\"\n",
    "            pl_module.save(save_path)\n",
    "            print(\"Saved checkpoint at epoch {} at \\\"{}\\\"\".format((trainer.current_epoch + 1), save_path))\n",
    "            \n",
    "cb = SaveCallback(\"new_best_\")"
   ]
  },
  {
   "cell_type": "code",
   "execution_count": 5,
   "metadata": {
    "ExecuteTime": {
     "end_time": "2020-07-08T00:27:18.581111Z",
     "start_time": "2020-07-08T00:17:54.490417Z"
    },
    "scrolled": true
   },
   "outputs": [
    {
     "name": "stdout",
     "output_type": "stream",
     "text": [
      "Loading cached training data of dataset 0 from /nfs/students/summer-term-2020/project-4/data/dataset1/dataset_48k/\n",
      "Loading cached validation data of dataset 0 from /nfs/students/summer-term-2020/project-4/data/dataset1/dataset_48k/\n"
     ]
    },
    {
     "name": "stderr",
     "output_type": "stream",
     "text": [
      "GPU available: True, used: True\n",
      "No environment variable for node rank defined. Set as 0.\n",
      "CUDA_VISIBLE_DEVICES: [0]\n",
      "/nfs/students/summer-term-2020/project-4/yan/.conda/envs/cnn_project/lib/python3.8/site-packages/pytorch_lightning/utilities/distributed.py:23: RuntimeWarning: You have defined a `val_dataloader()` and have defined a `validation_step()`, you may also want to define `validation_epoch_end()` for accumulating stats.\n",
      "  warnings.warn(*args, **kwargs)\n",
      "Set SLURM handle signals.\n",
      "\n",
      "   | Name                          | Type                  | Params\n",
      "--------------------------------------------------------------------\n",
      "0  | model                         | CRNN                  | 255 K \n",
      "1  | model.spec                    | MelspectrogramStretch | 0     \n",
      "2  | model.spec.spectrogram        | Spectrogram           | 0     \n",
      "3  | model.spec.mel_scale          | MelScale              | 0     \n",
      "4  | model.spec.stft               | Spectrogram           | 0     \n",
      "5  | model.spec.random_stretch     | RandomTimeStretch     | 0     \n",
      "6  | model.spec.complex_norm       | ComplexNorm           | 0     \n",
      "7  | model.spec.norm               | SpecNormalization     | 0     \n",
      "8  | model.net                     | ModuleDict            | 255 K \n",
      "9  | model.net.convs               | Sequential            | 56 K  \n",
      "10 | model.net.convs.conv2d_0      | Conv2d                | 320   \n",
      "11 | model.net.convs.batchnorm2d_0 | BatchNorm2d           | 64    \n",
      "12 | model.net.convs.elu_0         | ELU                   | 0     \n",
      "13 | model.net.convs.maxpool2d_0   | MaxPool2d             | 0     \n",
      "14 | model.net.convs.dropout_0     | Dropout               | 0     \n",
      "15 | model.net.convs.conv2d_1      | Conv2d                | 18 K  \n",
      "16 | model.net.convs.batchnorm2d_1 | BatchNorm2d           | 128   \n",
      "17 | model.net.convs.elu_1         | ELU                   | 0     \n",
      "18 | model.net.convs.maxpool2d_1   | MaxPool2d             | 0     \n",
      "19 | model.net.convs.dropout_1     | Dropout               | 0     \n",
      "20 | model.net.convs.conv2d_2      | Conv2d                | 36 K  \n",
      "21 | model.net.convs.batchnorm2d_2 | BatchNorm2d           | 128   \n",
      "22 | model.net.convs.elu_2         | ELU                   | 0     \n",
      "23 | model.net.convs.maxpool2d_2   | MaxPool2d             | 0     \n",
      "24 | model.net.convs.dropout_2     | Dropout               | 0     \n",
      "25 | model.net.recur               | LSTM                  | 198 K \n",
      "26 | model.net.dense               | Sequential            | 514   \n",
      "27 | model.net.dense.dropout_3     | Dropout               | 0     \n",
      "28 | model.net.dense.batchnorm1d_0 | BatchNorm1d           | 256   \n",
      "29 | model.net.dense.linear_0      | Linear                | 258   \n",
      "/nfs/students/summer-term-2020/project-4/yan/.conda/envs/cnn_project/lib/python3.8/site-packages/pytorch_lightning/utilities/distributed.py:23: UserWarning: Checkpoint directory /nfs/homedirs/scholten/ml-lab-git/experiments/notebooks/yan/lightning_logs/version_5478226/checkpoints exists and is not empty with save_top_k != 0.All files in this directory will be deleted when a checkpoint is saved!\n",
      "  warnings.warn(*args, **kwargs)\n",
      "/nfs/students/summer-term-2020/project-4/yan/.conda/envs/cnn_project/lib/python3.8/site-packages/pytorch_lightning/utilities/distributed.py:23: UserWarning: The dataloader, val dataloader 0, does not have many workers which may be a bottleneck. Consider increasing the value of the `num_workers` argument` in the `DataLoader` init to improve performance.\n",
      "  warnings.warn(*args, **kwargs)\n"
     ]
    },
    {
     "data": {
      "application/vnd.jupyter.widget-view+json": {
       "model_id": "",
       "version_major": 2,
       "version_minor": 0
      },
      "text/plain": [
       "HBox(children=(FloatProgress(value=1.0, bar_style='info', description='Validation sanity check', layout=Layout…"
      ]
     },
     "metadata": {},
     "output_type": "display_data"
    },
    {
     "name": "stdout",
     "output_type": "stream",
     "text": [
      "Val-Acc=0.00889152341434499\n"
     ]
    },
    {
     "name": "stderr",
     "output_type": "stream",
     "text": [
      "/nfs/students/summer-term-2020/project-4/yan/.conda/envs/cnn_project/lib/python3.8/site-packages/pytorch_lightning/utilities/distributed.py:23: UserWarning: The dataloader, train dataloader, does not have many workers which may be a bottleneck. Consider increasing the value of the `num_workers` argument` in the `DataLoader` init to improve performance.\n",
      "  warnings.warn(*args, **kwargs)\n"
     ]
    },
    {
     "data": {
      "application/vnd.jupyter.widget-view+json": {
       "model_id": "4bef12375dc84c0b8b63cbec263edf64",
       "version_major": 2,
       "version_minor": 0
      },
      "text/plain": [
       "HBox(children=(FloatProgress(value=1.0, bar_style='info', description='Training', layout=Layout(flex='2'), max…"
      ]
     },
     "metadata": {},
     "output_type": "display_data"
    },
    {
     "data": {
      "application/vnd.jupyter.widget-view+json": {
       "model_id": "",
       "version_major": 2,
       "version_minor": 0
      },
      "text/plain": [
       "HBox(children=(FloatProgress(value=1.0, bar_style='info', description='Validating', layout=Layout(flex='2'), m…"
      ]
     },
     "metadata": {},
     "output_type": "display_data"
    },
    {
     "name": "stdout",
     "output_type": "stream",
     "text": [
      "Val-Acc=0.8393598103141672\n",
      "Train-Acc=0.807905138339921\n",
      "new best val acc 0.8393598103141672\n",
      "Saved model to \"new_best_0.8393598103141672best.p\"\n",
      "Saved checkpoint at epoch 1 at \"new_best_0.8393598103141672best.p\"\n"
     ]
    },
    {
     "data": {
      "application/vnd.jupyter.widget-view+json": {
       "model_id": "",
       "version_major": 2,
       "version_minor": 0
      },
      "text/plain": [
       "HBox(children=(FloatProgress(value=1.0, bar_style='info', description='Validating', layout=Layout(flex='2'), m…"
      ]
     },
     "metadata": {},
     "output_type": "display_data"
    },
    {
     "name": "stdout",
     "output_type": "stream",
     "text": [
      "Val-Acc=0.8435091879075282\n",
      "Train-Acc=0.8320158102766798\n",
      "new best val acc 0.8435091879075282\n",
      "Saved model to \"new_best_0.8435091879075282best.p\"\n",
      "Saved checkpoint at epoch 2 at \"new_best_0.8435091879075282best.p\"\n"
     ]
    },
    {
     "data": {
      "application/vnd.jupyter.widget-view+json": {
       "model_id": "",
       "version_major": 2,
       "version_minor": 0
      },
      "text/plain": [
       "HBox(children=(FloatProgress(value=1.0, bar_style='info', description='Validating', layout=Layout(flex='2'), m…"
      ]
     },
     "metadata": {},
     "output_type": "display_data"
    },
    {
     "name": "stdout",
     "output_type": "stream",
     "text": [
      "Val-Acc=0.8524007113218731\n",
      "Train-Acc=0.8254940711462451\n",
      "new best val acc 0.8524007113218731\n",
      "Saved model to \"new_best_0.8524007113218731best.p\"\n",
      "Saved checkpoint at epoch 3 at \"new_best_0.8524007113218731best.p\"\n"
     ]
    },
    {
     "data": {
      "application/vnd.jupyter.widget-view+json": {
       "model_id": "",
       "version_major": 2,
       "version_minor": 0
      },
      "text/plain": [
       "HBox(children=(FloatProgress(value=1.0, bar_style='info', description='Validating', layout=Layout(flex='2'), m…"
      ]
     },
     "metadata": {},
     "output_type": "display_data"
    },
    {
     "name": "stdout",
     "output_type": "stream",
     "text": [
      "Val-Acc=0.8251333728512151\n",
      "Train-Acc=0.8365612648221344\n"
     ]
    },
    {
     "data": {
      "application/vnd.jupyter.widget-view+json": {
       "model_id": "",
       "version_major": 2,
       "version_minor": 0
      },
      "text/plain": [
       "HBox(children=(FloatProgress(value=1.0, bar_style='info', description='Validating', layout=Layout(flex='2'), m…"
      ]
     },
     "metadata": {},
     "output_type": "display_data"
    },
    {
     "name": "stdout",
     "output_type": "stream",
     "text": [
      "Val-Acc=0.8186129223473622\n",
      "Train-Acc=0.8375494071146246\n"
     ]
    },
    {
     "data": {
      "application/vnd.jupyter.widget-view+json": {
       "model_id": "",
       "version_major": 2,
       "version_minor": 0
      },
      "text/plain": [
       "HBox(children=(FloatProgress(value=1.0, bar_style='info', description='Validating', layout=Layout(flex='2'), m…"
      ]
     },
     "metadata": {},
     "output_type": "display_data"
    },
    {
     "name": "stdout",
     "output_type": "stream",
     "text": [
      "Val-Acc=0.8435091879075282\n",
      "Train-Acc=0.8365612648221344\n"
     ]
    },
    {
     "data": {
      "application/vnd.jupyter.widget-view+json": {
       "model_id": "",
       "version_major": 2,
       "version_minor": 0
      },
      "text/plain": [
       "HBox(children=(FloatProgress(value=1.0, bar_style='info', description='Validating', layout=Layout(flex='2'), m…"
      ]
     },
     "metadata": {},
     "output_type": "display_data"
    },
    {
     "name": "stdout",
     "output_type": "stream",
     "text": [
      "Val-Acc=0.8595139300533492\n",
      "Train-Acc=0.8436758893280633\n",
      "new best val acc 0.8595139300533492\n",
      "Saved model to \"new_best_0.8595139300533492best.p\"\n",
      "Saved checkpoint at epoch 7 at \"new_best_0.8595139300533492best.p\"\n"
     ]
    },
    {
     "data": {
      "application/vnd.jupyter.widget-view+json": {
       "model_id": "",
       "version_major": 2,
       "version_minor": 0
      },
      "text/plain": [
       "HBox(children=(FloatProgress(value=1.0, bar_style='info', description='Validating', layout=Layout(flex='2'), m…"
      ]
     },
     "metadata": {},
     "output_type": "display_data"
    },
    {
     "name": "stdout",
     "output_type": "stream",
     "text": [
      "Val-Acc=0.8120924718435092\n",
      "Train-Acc=0.8472332015810277\n"
     ]
    },
    {
     "data": {
      "application/vnd.jupyter.widget-view+json": {
       "model_id": "",
       "version_major": 2,
       "version_minor": 0
      },
      "text/plain": [
       "HBox(children=(FloatProgress(value=1.0, bar_style='info', description='Validating', layout=Layout(flex='2'), m…"
      ]
     },
     "metadata": {},
     "output_type": "display_data"
    },
    {
     "name": "stdout",
     "output_type": "stream",
     "text": [
      "Val-Acc=0.8524007113218731\n",
      "Train-Acc=0.8436758893280633\n"
     ]
    },
    {
     "data": {
      "application/vnd.jupyter.widget-view+json": {
       "model_id": "",
       "version_major": 2,
       "version_minor": 0
      },
      "text/plain": [
       "HBox(children=(FloatProgress(value=1.0, bar_style='info', description='Validating', layout=Layout(flex='2'), m…"
      ]
     },
     "metadata": {},
     "output_type": "display_data"
    },
    {
     "name": "stdout",
     "output_type": "stream",
     "text": [
      "Val-Acc=0.8411381149970362\n",
      "Train-Acc=0.8432806324110672\n"
     ]
    },
    {
     "data": {
      "application/vnd.jupyter.widget-view+json": {
       "model_id": "",
       "version_major": 2,
       "version_minor": 0
      },
      "text/plain": [
       "HBox(children=(FloatProgress(value=1.0, bar_style='info', description='Validating', layout=Layout(flex='2'), m…"
      ]
     },
     "metadata": {},
     "output_type": "display_data"
    },
    {
     "name": "stdout",
     "output_type": "stream",
     "text": [
      "Val-Acc=0.8446947243627742\n",
      "Train-Acc=0.8488142292490118\n"
     ]
    },
    {
     "data": {
      "application/vnd.jupyter.widget-view+json": {
       "model_id": "",
       "version_major": 2,
       "version_minor": 0
      },
      "text/plain": [
       "HBox(children=(FloatProgress(value=1.0, bar_style='info', description='Validating', layout=Layout(flex='2'), m…"
      ]
     },
     "metadata": {},
     "output_type": "display_data"
    },
    {
     "name": "stdout",
     "output_type": "stream",
     "text": [
      "Val-Acc=0.8192056905749852\n",
      "Train-Acc=0.8529644268774703\n"
     ]
    },
    {
     "data": {
      "application/vnd.jupyter.widget-view+json": {
       "model_id": "",
       "version_major": 2,
       "version_minor": 0
      },
      "text/plain": [
       "HBox(children=(FloatProgress(value=1.0, bar_style='info', description='Validating', layout=Layout(flex='2'), m…"
      ]
     },
     "metadata": {},
     "output_type": "display_data"
    },
    {
     "name": "stdout",
     "output_type": "stream",
     "text": [
      "Val-Acc=0.8672199170124482\n",
      "Train-Acc=0.8571146245059289\n",
      "new best val acc 0.8672199170124482\n",
      "Saved model to \"new_best_0.8672199170124482best.p\"\n",
      "Saved checkpoint at epoch 13 at \"new_best_0.8672199170124482best.p\"\n"
     ]
    },
    {
     "data": {
      "application/vnd.jupyter.widget-view+json": {
       "model_id": "",
       "version_major": 2,
       "version_minor": 0
      },
      "text/plain": [
       "HBox(children=(FloatProgress(value=1.0, bar_style='info', description='Validating', layout=Layout(flex='2'), m…"
      ]
     },
     "metadata": {},
     "output_type": "display_data"
    },
    {
     "name": "stdout",
     "output_type": "stream",
     "text": [
      "Val-Acc=0.8707765263781861\n",
      "Train-Acc=0.8660079051383399\n",
      "new best val acc 0.8707765263781861\n",
      "Saved model to \"new_best_0.8707765263781861best.p\"\n",
      "Saved checkpoint at epoch 14 at \"new_best_0.8707765263781861best.p\"\n"
     ]
    },
    {
     "data": {
      "application/vnd.jupyter.widget-view+json": {
       "model_id": "",
       "version_major": 2,
       "version_minor": 0
      },
      "text/plain": [
       "HBox(children=(FloatProgress(value=1.0, bar_style='info', description='Validating', layout=Layout(flex='2'), m…"
      ]
     },
     "metadata": {},
     "output_type": "display_data"
    },
    {
     "name": "stdout",
     "output_type": "stream",
     "text": [
      "Val-Acc=0.8369887374036752\n",
      "Train-Acc=0.8598814229249012\n"
     ]
    },
    {
     "data": {
      "application/vnd.jupyter.widget-view+json": {
       "model_id": "",
       "version_major": 2,
       "version_minor": 0
      },
      "text/plain": [
       "HBox(children=(FloatProgress(value=1.0, bar_style='info', description='Validating', layout=Layout(flex='2'), m…"
      ]
     },
     "metadata": {},
     "output_type": "display_data"
    },
    {
     "name": "stdout",
     "output_type": "stream",
     "text": [
      "Val-Acc=0.8761114404267931\n",
      "Train-Acc=0.8588932806324111\n",
      "new best val acc 0.8761114404267931\n",
      "Saved model to \"new_best_0.8761114404267931best.p\"\n",
      "Saved checkpoint at epoch 16 at \"new_best_0.8761114404267931best.p\"\n"
     ]
    },
    {
     "name": "stderr",
     "output_type": "stream",
     "text": [
      "Detected KeyboardInterrupt, attempting graceful shutdown...\n"
     ]
    },
    {
     "name": "stdout",
     "output_type": "stream",
     "text": [
      "\n"
     ]
    },
    {
     "data": {
      "text/plain": [
       "1"
      ]
     },
     "execution_count": 5,
     "metadata": {},
     "output_type": "execute_result"
    }
   ],
   "source": [
    "hparams = {\n",
    "    \"batch_size\": 24,\n",
    "    \"learning_rate\": 0.002,\n",
    "    \"weight_decay\": 0.01,\n",
    "    \"lr_decay\": 1\n",
    "}\n",
    "\n",
    "model = CRNNPLModule(hparams)\n",
    "model.prepare_data()\n",
    "datasetHandler.load(model, 'training')\n",
    "datasetHandler.load(model, 'validation')\n",
    "\n",
    "trainer = pl.Trainer(\n",
    "    max_epochs=20,\n",
    "    #logger= loggers.TensorBoardLogger(config.LOG_DIR, name=type(model)._name_),\n",
    "    gpus=1 if torch.cuda.is_available() else None,\n",
    "    callbacks=[cb]\n",
    ")\n",
    "\n",
    "trainer.fit(model)"
   ]
  },
  {
   "cell_type": "code",
   "execution_count": 6,
   "metadata": {
    "ExecuteTime": {
     "end_time": "2020-07-06T14:35:09.134372Z",
     "start_time": "2020-07-06T14:35:08.848687Z"
    }
   },
   "outputs": [],
   "source": [
    "# model.save(\"/nfs/students/summer-term-2020/project-4/SAVED_MODELS/SpectrogramCNN/vanilla.p\")"
   ]
  }
 ],
 "metadata": {
  "kernelspec": {
   "display_name": "Python 3",
   "language": "python",
   "name": "python3"
  },
  "language_info": {
   "codemirror_mode": {
    "name": "ipython",
    "version": 3
   },
   "file_extension": ".py",
   "mimetype": "text/x-python",
   "name": "python",
   "nbconvert_exporter": "python",
   "pygments_lexer": "ipython3",
   "version": "3.8.2"
  }
 },
 "nbformat": 4,
 "nbformat_minor": 4
}
