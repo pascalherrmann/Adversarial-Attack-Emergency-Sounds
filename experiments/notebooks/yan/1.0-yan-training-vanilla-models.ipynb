{
 "cells": [
  {
   "cell_type": "code",
   "execution_count": 1,
   "metadata": {
    "ExecuteTime": {
     "end_time": "2020-07-09T23:30:55.756653Z",
     "start_time": "2020-07-09T23:30:55.735367Z"
    }
   },
   "outputs": [],
   "source": [
    "%load_ext autoreload\n",
    "%autoreload 2\n",
    "\n",
    "import os\n",
    "import sys\n",
    "module_path = os.path.abspath(os.path.join('../../../src/'))\n",
    "if module_path not in sys.path:\n",
    "    sys.path.append(module_path)"
   ]
  },
  {
   "cell_type": "code",
   "execution_count": 2,
   "metadata": {
    "ExecuteTime": {
     "end_time": "2020-07-09T23:31:01.338563Z",
     "start_time": "2020-07-09T23:30:56.023928Z"
    }
   },
   "outputs": [],
   "source": [
    "from datasets.datasethandler import DatasetHandler\n",
    "datasetHandler = DatasetHandler()"
   ]
  },
  {
   "cell_type": "code",
   "execution_count": 3,
   "metadata": {
    "ExecuteTime": {
     "end_time": "2020-07-09T23:31:03.995124Z",
     "start_time": "2020-07-09T23:31:01.342879Z"
    }
   },
   "outputs": [],
   "source": [
    "import torch\n",
    "import config\n",
    "import pytorch_lightning as pl\n",
    "from classification.models.SpectrogramCNN import SpectrogramCNNPLModule\n",
    "from classification.models.DeepRecursiveCNN import DeepRecursiveCNNPLModule\n",
    "from classification.models.CRNN import CRNNPLModule"
   ]
  },
  {
   "cell_type": "code",
   "execution_count": 4,
   "metadata": {
    "ExecuteTime": {
     "end_time": "2020-07-09T23:31:04.018459Z",
     "start_time": "2020-07-09T23:31:03.999282Z"
    }
   },
   "outputs": [],
   "source": [
    "from pytorch_lightning.callbacks import Callback\n",
    "\n",
    "class SaveCallback(Callback): \n",
    "    def __init__(self, model_name):\n",
    "        super().__init__()\n",
    "        self.model_name = model_name\n",
    "        self.best_val_acc = None\n",
    "\n",
    "    def on_epoch_end(self, trainer, pl_module):\n",
    "        if not self.best_val_acc or pl_module.val_results_history[-1][\"val_acc\"] > self.best_val_acc:\n",
    "            print(\"new best val acc\", pl_module.val_results_history[-1][\"val_acc\"])\n",
    "            self.best_val_acc = pl_module.val_results_history[-1][\"val_acc\"]\n",
    "            save_path = self.model_name + str(self.best_val_acc) + \"best.p\"\n",
    "            pl_module.save(save_path)\n",
    "            print(\"Saved checkpoint at epoch {} at \\\"{}\\\"\".format((trainer.current_epoch + 1), save_path))\n",
    "            \n",
    "cb = SaveCallback(\"new_best_\")"
   ]
  },
  {
   "cell_type": "code",
   "execution_count": null,
   "metadata": {
    "ExecuteTime": {
     "start_time": "2020-07-09T23:30:59.208Z"
    },
    "scrolled": true
   },
   "outputs": [
    {
     "name": "stdout",
     "output_type": "stream",
     "text": [
      "Loading cached training data of dataset 0 from /nfs/students/summer-term-2020/project-4/data/dataset1/dataset_48k/\n",
      "Loading cached validation data of dataset 0 from /nfs/students/summer-term-2020/project-4/data/dataset1/dataset_48k/\n"
     ]
    },
    {
     "name": "stderr",
     "output_type": "stream",
     "text": [
      "GPU available: True, used: True\n",
      "No environment variable for node rank defined. Set as 0.\n",
      "CUDA_VISIBLE_DEVICES: [0]\n",
      "/nfs/students/summer-term-2020/project-4/yan/.conda/envs/cnn_project/lib/python3.8/site-packages/pytorch_lightning/utilities/distributed.py:23: RuntimeWarning: You have defined a `val_dataloader()` and have defined a `validation_step()`, you may also want to define `validation_epoch_end()` for accumulating stats.\n",
      "  warnings.warn(*args, **kwargs)\n",
      "Set SLURM handle signals.\n",
      "\n",
      "   | Name                      | Type                  | Params\n",
      "----------------------------------------------------------------\n",
      "0  | model                     | CRNN                  | 304 K \n",
      "1  | model.spec                | MelspectrogramStretch | 0     \n",
      "2  | model.spec.spectrogram    | Spectrogram           | 0     \n",
      "3  | model.spec.mel_scale      | MelScale              | 0     \n",
      "4  | model.spec.stft           | Spectrogram           | 0     \n",
      "5  | model.spec.random_stretch | RandomTimeStretch     | 0     \n",
      "6  | model.spec.complex_norm   | ComplexNorm           | 0     \n",
      "7  | model.spec.norm           | SpecNormalization     | 0     \n",
      "8  | model.convs               | Sequential            | 56 K  \n",
      "9  | model.convs.0             | Conv2d                | 320   \n",
      "10 | model.convs.1             | BatchNorm2d           | 64    \n",
      "11 | model.convs.2             | ELU                   | 0     \n",
      "12 | model.convs.3             | MaxPool2d             | 0     \n",
      "13 | model.convs.4             | Dropout               | 0     \n",
      "14 | model.convs.5             | Conv2d                | 18 K  \n",
      "15 | model.convs.6             | BatchNorm2d           | 128   \n",
      "16 | model.convs.7             | ELU                   | 0     \n",
      "17 | model.convs.8             | MaxPool2d             | 0     \n",
      "18 | model.convs.9             | Dropout               | 0     \n",
      "19 | model.convs.10            | Conv2d                | 36 K  \n",
      "20 | model.convs.11            | BatchNorm2d           | 128   \n",
      "21 | model.convs.12            | ELU                   | 0     \n",
      "22 | model.convs.13            | MaxPool2d             | 0     \n",
      "23 | model.convs.14            | Dropout               | 0     \n",
      "24 | model.recur               | LSTM                  | 198 K \n",
      "25 | model.LSTMCell            | LSTMCell              | 49 K  \n",
      "26 | model.dense               | Sequential            | 258   \n",
      "27 | model.dense.0             | Dropout               | 0     \n",
      "28 | model.dense.1             | BatchNorm1d           | 128   \n",
      "29 | model.dense.2             | Linear                | 130   \n",
      "/nfs/students/summer-term-2020/project-4/yan/.conda/envs/cnn_project/lib/python3.8/site-packages/pytorch_lightning/utilities/distributed.py:23: UserWarning: Checkpoint directory /nfs/homedirs/scholten/ml-lab-git/experiments/notebooks/yan/lightning_logs/version_5483558/checkpoints exists and is not empty with save_top_k != 0.All files in this directory will be deleted when a checkpoint is saved!\n",
      "  warnings.warn(*args, **kwargs)\n",
      "/nfs/students/summer-term-2020/project-4/yan/.conda/envs/cnn_project/lib/python3.8/site-packages/pytorch_lightning/utilities/distributed.py:23: UserWarning: The dataloader, val dataloader 0, does not have many workers which may be a bottleneck. Consider increasing the value of the `num_workers` argument` in the `DataLoader` init to improve performance.\n",
      "  warnings.warn(*args, **kwargs)\n"
     ]
    },
    {
     "data": {
      "application/vnd.jupyter.widget-view+json": {
       "model_id": "",
       "version_major": 2,
       "version_minor": 0
      },
      "text/plain": [
       "HBox(children=(FloatProgress(value=1.0, bar_style='info', description='Validation sanity check', layout=Layout…"
      ]
     },
     "metadata": {},
     "output_type": "display_data"
    },
    {
     "name": "stdout",
     "output_type": "stream",
     "text": [
      "Val-Acc=0.016597510373443983\n"
     ]
    },
    {
     "name": "stderr",
     "output_type": "stream",
     "text": [
      "/nfs/students/summer-term-2020/project-4/yan/.conda/envs/cnn_project/lib/python3.8/site-packages/pytorch_lightning/utilities/distributed.py:23: UserWarning: The dataloader, train dataloader, does not have many workers which may be a bottleneck. Consider increasing the value of the `num_workers` argument` in the `DataLoader` init to improve performance.\n",
      "  warnings.warn(*args, **kwargs)\n"
     ]
    },
    {
     "data": {
      "application/vnd.jupyter.widget-view+json": {
       "model_id": "b1c4b91897584457b22c09a0708d83ab",
       "version_major": 2,
       "version_minor": 0
      },
      "text/plain": [
       "HBox(children=(FloatProgress(value=1.0, bar_style='info', description='Training', layout=Layout(flex='2'), max…"
      ]
     },
     "metadata": {},
     "output_type": "display_data"
    },
    {
     "data": {
      "application/vnd.jupyter.widget-view+json": {
       "model_id": "",
       "version_major": 2,
       "version_minor": 0
      },
      "text/plain": [
       "HBox(children=(FloatProgress(value=1.0, bar_style='info', description='Validating', layout=Layout(flex='2'), m…"
      ]
     },
     "metadata": {},
     "output_type": "display_data"
    },
    {
     "name": "stdout",
     "output_type": "stream",
     "text": [
      "Val-Acc=0.8500296384113811\n",
      "Train-Acc=0.808300395256917\n",
      "new best val acc 0.8500296384113811\n",
      "Saved model to \"new_best_0.8500296384113811best.p\"\n",
      "Saved checkpoint at epoch 1 at \"new_best_0.8500296384113811best.p\"\n"
     ]
    },
    {
     "data": {
      "application/vnd.jupyter.widget-view+json": {
       "model_id": "",
       "version_major": 2,
       "version_minor": 0
      },
      "text/plain": [
       "HBox(children=(FloatProgress(value=1.0, bar_style='info', description='Validating', layout=Layout(flex='2'), m…"
      ]
     },
     "metadata": {},
     "output_type": "display_data"
    },
    {
     "name": "stdout",
     "output_type": "stream",
     "text": [
      "Val-Acc=0.8322465915826912\n",
      "Train-Acc=0.8280632411067194\n"
     ]
    },
    {
     "data": {
      "application/vnd.jupyter.widget-view+json": {
       "model_id": "",
       "version_major": 2,
       "version_minor": 0
      },
      "text/plain": [
       "HBox(children=(FloatProgress(value=1.0, bar_style='info', description='Validating', layout=Layout(flex='2'), m…"
      ]
     },
     "metadata": {},
     "output_type": "display_data"
    },
    {
     "name": "stdout",
     "output_type": "stream",
     "text": [
      "Val-Acc=0.8310610551274452\n",
      "Train-Acc=0.8314229249011857\n"
     ]
    },
    {
     "data": {
      "application/vnd.jupyter.widget-view+json": {
       "model_id": "",
       "version_major": 2,
       "version_minor": 0
      },
      "text/plain": [
       "HBox(children=(FloatProgress(value=1.0, bar_style='info', description='Validating', layout=Layout(flex='2'), m…"
      ]
     },
     "metadata": {},
     "output_type": "display_data"
    },
    {
     "name": "stdout",
     "output_type": "stream",
     "text": [
      "Val-Acc=0.8476585655008891\n",
      "Train-Acc=0.8381422924901186\n"
     ]
    },
    {
     "data": {
      "application/vnd.jupyter.widget-view+json": {
       "model_id": "",
       "version_major": 2,
       "version_minor": 0
      },
      "text/plain": [
       "HBox(children=(FloatProgress(value=1.0, bar_style='info', description='Validating', layout=Layout(flex='2'), m…"
      ]
     },
     "metadata": {},
     "output_type": "display_data"
    },
    {
     "name": "stdout",
     "output_type": "stream",
     "text": [
      "Val-Acc=0.8322465915826912\n",
      "Train-Acc=0.8310276679841897\n"
     ]
    },
    {
     "data": {
      "application/vnd.jupyter.widget-view+json": {
       "model_id": "",
       "version_major": 2,
       "version_minor": 0
      },
      "text/plain": [
       "HBox(children=(FloatProgress(value=1.0, bar_style='info', description='Validating', layout=Layout(flex='2'), m…"
      ]
     },
     "metadata": {},
     "output_type": "display_data"
    },
    {
     "name": "stdout",
     "output_type": "stream",
     "text": [
      "Val-Acc=0.8524007113218731\n",
      "Train-Acc=0.8407114624505929\n",
      "new best val acc 0.8524007113218731\n",
      "Saved model to \"new_best_0.8524007113218731best.p\"\n",
      "Saved checkpoint at epoch 6 at \"new_best_0.8524007113218731best.p\"\n"
     ]
    },
    {
     "data": {
      "application/vnd.jupyter.widget-view+json": {
       "model_id": "",
       "version_major": 2,
       "version_minor": 0
      },
      "text/plain": [
       "HBox(children=(FloatProgress(value=1.0, bar_style='info', description='Validating', layout=Layout(flex='2'), m…"
      ]
     },
     "metadata": {},
     "output_type": "display_data"
    },
    {
     "name": "stdout",
     "output_type": "stream",
     "text": [
      "Val-Acc=0.7919383521043272\n",
      "Train-Acc=0.8440711462450593\n"
     ]
    },
    {
     "data": {
      "application/vnd.jupyter.widget-view+json": {
       "model_id": "",
       "version_major": 2,
       "version_minor": 0
      },
      "text/plain": [
       "HBox(children=(FloatProgress(value=1.0, bar_style='info', description='Validating', layout=Layout(flex='2'), m…"
      ]
     },
     "metadata": {},
     "output_type": "display_data"
    },
    {
     "name": "stdout",
     "output_type": "stream",
     "text": [
      "Val-Acc=0.8150563129816242\n",
      "Train-Acc=0.8478260869565217\n"
     ]
    },
    {
     "data": {
      "application/vnd.jupyter.widget-view+json": {
       "model_id": "",
       "version_major": 2,
       "version_minor": 0
      },
      "text/plain": [
       "HBox(children=(FloatProgress(value=1.0, bar_style='info', description='Validating', layout=Layout(flex='2'), m…"
      ]
     },
     "metadata": {},
     "output_type": "display_data"
    },
    {
     "name": "stdout",
     "output_type": "stream",
     "text": [
      "Val-Acc=0.8239478363959691\n",
      "Train-Acc=0.849802371541502\n"
     ]
    },
    {
     "data": {
      "application/vnd.jupyter.widget-view+json": {
       "model_id": "",
       "version_major": 2,
       "version_minor": 0
      },
      "text/plain": [
       "HBox(children=(FloatProgress(value=1.0, bar_style='info', description='Validating', layout=Layout(flex='2'), m…"
      ]
     },
     "metadata": {},
     "output_type": "display_data"
    },
    {
     "name": "stdout",
     "output_type": "stream",
     "text": [
      "Val-Acc=0.8749259039715471\n",
      "Train-Acc=0.8490118577075099\n",
      "new best val acc 0.8749259039715471\n",
      "Saved model to \"new_best_0.8749259039715471best.p\"\n",
      "Saved checkpoint at epoch 10 at \"new_best_0.8749259039715471best.p\"\n"
     ]
    },
    {
     "data": {
      "application/vnd.jupyter.widget-view+json": {
       "model_id": "",
       "version_major": 2,
       "version_minor": 0
      },
      "text/plain": [
       "HBox(children=(FloatProgress(value=1.0, bar_style='info', description='Validating', layout=Layout(flex='2'), m…"
      ]
     },
     "metadata": {},
     "output_type": "display_data"
    },
    {
     "name": "stdout",
     "output_type": "stream",
     "text": [
      "Val-Acc=0.8684054534676942\n",
      "Train-Acc=0.8452569169960474\n"
     ]
    },
    {
     "data": {
      "application/vnd.jupyter.widget-view+json": {
       "model_id": "68668e7ef3ec49c68469e2b414d3ddb3",
       "version_major": 2,
       "version_minor": 0
      },
      "text/plain": [
       "HBox(children=(FloatProgress(value=1.0, bar_style='info', description='Validating', layout=Layout(flex='2'), m…"
      ]
     },
     "metadata": {},
     "output_type": "display_data"
    }
   ],
   "source": [
    "hparams = {\n",
    "    \"batch_size\": 24,\n",
    "    \"learning_rate\": 0.002,\n",
    "    \"weight_decay\": 0.01,\n",
    "    \"lr_decay\": 1\n",
    "}\n",
    "\n",
    "model = CRNNPLModule(hparams)\n",
    "model.prepare_data()\n",
    "datasetHandler.load(model, 'training')\n",
    "datasetHandler.load(model, 'validation')\n",
    "\n",
    "trainer = pl.Trainer(\n",
    "    max_epochs=20,\n",
    "    #logger= loggers.TensorBoardLogger(config.LOG_DIR, name=type(model)._name_),\n",
    "    gpus=1 if torch.cuda.is_available() else None,\n",
    "    callbacks=[cb]\n",
    ")\n",
    "\n",
    "trainer.fit(model)"
   ]
  },
  {
   "cell_type": "code",
   "execution_count": 6,
   "metadata": {
    "ExecuteTime": {
     "end_time": "2020-07-09T21:58:45.178852Z",
     "start_time": "2020-07-09T21:58:45.019206Z"
    }
   },
   "outputs": [],
   "source": [
    "# model.save(\"/nfs/students/summer-term-2020/project-4/SAVED_MODELS/SpectrogramCNN/vanilla.p\")"
   ]
  }
 ],
 "metadata": {
  "kernelspec": {
   "display_name": "Python 3",
   "language": "python",
   "name": "python3"
  },
  "language_info": {
   "codemirror_mode": {
    "name": "ipython",
    "version": 3
   },
   "file_extension": ".py",
   "mimetype": "text/x-python",
   "name": "python",
   "nbconvert_exporter": "python",
   "pygments_lexer": "ipython3",
   "version": "3.8.2"
  }
 },
 "nbformat": 4,
 "nbformat_minor": 4
}
