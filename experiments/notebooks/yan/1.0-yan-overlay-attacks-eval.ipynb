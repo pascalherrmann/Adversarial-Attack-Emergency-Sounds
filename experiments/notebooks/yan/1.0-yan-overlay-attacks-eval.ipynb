{
 "cells": [
  {
   "cell_type": "code",
   "execution_count": 22,
   "metadata": {
    "ExecuteTime": {
     "end_time": "2020-07-07T20:31:58.102618Z",
     "start_time": "2020-07-07T20:31:57.919900Z"
    }
   },
   "outputs": [
    {
     "name": "stdout",
     "output_type": "stream",
     "text": [
      "The autoreload extension is already loaded. To reload it, use:\n",
      "  %reload_ext autoreload\n"
     ]
    }
   ],
   "source": [
    "%load_ext autoreload\n",
    "%autoreload 2\n",
    "import torch\n",
    "\n",
    "import os\n",
    "import sys\n",
    "import IPython.display as ipd\n",
    "module_path = os.path.abspath(os.path.join('../../../src/'))\n",
    "if module_path not in sys.path:\n",
    "    sys.path.append(module_path)\n",
    "    \n",
    "device = 'cuda' if torch.cuda.is_available() else 'cpu'"
   ]
  },
  {
   "cell_type": "markdown",
   "metadata": {},
   "source": [
    "# Load models"
   ]
  },
  {
   "cell_type": "code",
   "execution_count": 3,
   "metadata": {
    "ExecuteTime": {
     "end_time": "2020-07-07T20:13:09.954729Z",
     "start_time": "2020-07-07T20:13:09.363237Z"
    }
   },
   "outputs": [],
   "source": [
    "from classification.models.SpectrogramCNN import SpectrogramCNNPLModule\n",
    "\n",
    "state_dict_path = '/nfs/students/summer-term-2020/project-4/SAVED_MODELS/SpectrogramCNN/optuna_90.5.p'\n",
    "loaded_dict = torch.load(state_dict_path)\n",
    "loaded_dict['hparams']['batch_size'] = 5\n",
    "model = SpectrogramCNNPLModule(loaded_dict['hparams'])\n",
    "model.model.load_state_dict(loaded_dict['state_dict'])\n",
    "model = model.cuda()\n",
    "model = model.eval()"
   ]
  },
  {
   "cell_type": "markdown",
   "metadata": {},
   "source": [
    "# Load Data"
   ]
  },
  {
   "cell_type": "code",
   "execution_count": 5,
   "metadata": {
    "ExecuteTime": {
     "end_time": "2020-07-07T20:13:24.222809Z",
     "start_time": "2020-07-07T20:13:24.199960Z"
    }
   },
   "outputs": [],
   "source": [
    "from datasets.datasethandler import DatasetHandler\n",
    "datasetHandler = DatasetHandler()"
   ]
  },
  {
   "cell_type": "code",
   "execution_count": 6,
   "metadata": {
    "ExecuteTime": {
     "end_time": "2020-07-07T20:14:05.115806Z",
     "start_time": "2020-07-07T20:13:24.879603Z"
    }
   },
   "outputs": [
    {
     "name": "stdout",
     "output_type": "stream",
     "text": [
      "Loading cached validation data of dataset 0 from /nfs/students/summer-term-2020/project-4/data/dataset1/dataset_48k/\n"
     ]
    }
   ],
   "source": [
    "datasetHandler.load(model, 'validation')"
   ]
  },
  {
   "cell_type": "markdown",
   "metadata": {},
   "source": [
    "# Load Overlay data"
   ]
  },
  {
   "cell_type": "code",
   "execution_count": 10,
   "metadata": {
    "ExecuteTime": {
     "end_time": "2020-07-07T20:15:23.601225Z",
     "start_time": "2020-07-07T20:15:23.580963Z"
    }
   },
   "outputs": [],
   "source": [
    "import pickle"
   ]
  },
  {
   "cell_type": "code",
   "execution_count": 14,
   "metadata": {
    "ExecuteTime": {
     "end_time": "2020-07-07T20:17:58.456560Z",
     "start_time": "2020-07-07T20:17:57.620871Z"
    }
   },
   "outputs": [],
   "source": [
    "overlay_data_path = \"/nfs/students/summer-term-2020/project-4/data/interpolation_data/data_48k/interpolation_data_downsampled.p\"\n",
    "overlay_data = pickle.load(open(overlay_data_path, \"rb\"))"
   ]
  },
  {
   "cell_type": "code",
   "execution_count": 18,
   "metadata": {
    "ExecuteTime": {
     "end_time": "2020-07-07T20:18:46.459896Z",
     "start_time": "2020-07-07T20:18:46.294954Z"
    }
   },
   "outputs": [],
   "source": [
    "classes = set([data['category'] for data in overlay_data])"
   ]
  },
  {
   "cell_type": "code",
   "execution_count": 19,
   "metadata": {
    "ExecuteTime": {
     "end_time": "2020-07-07T20:20:47.431579Z",
     "start_time": "2020-07-07T20:20:47.263957Z"
    }
   },
   "outputs": [],
   "source": [
    "overlay_dataset = {}\n",
    "for data in overlay_data:\n",
    "    overlay_dataset.setdefault(data['category'], []).append(data)"
   ]
  },
  {
   "cell_type": "code",
   "execution_count": 43,
   "metadata": {
    "ExecuteTime": {
     "end_time": "2020-07-07T20:45:07.969262Z",
     "start_time": "2020-07-07T20:45:07.934585Z"
    }
   },
   "outputs": [],
   "source": [
    "del overlay_dataset['Alarm']\n",
    "classes.remove(\"Alarm\")"
   ]
  },
  {
   "cell_type": "markdown",
   "metadata": {},
   "source": [
    "# Attacks"
   ]
  },
  {
   "cell_type": "code",
   "execution_count": 47,
   "metadata": {
    "ExecuteTime": {
     "end_time": "2020-07-07T20:46:08.082942Z",
     "start_time": "2020-07-07T20:46:07.916443Z"
    }
   },
   "outputs": [],
   "source": [
    "fixed_epsilon = 0.002"
   ]
  },
  {
   "cell_type": "markdown",
   "metadata": {},
   "source": [
    "## Functional Interpolation (perceptible)"
   ]
  },
  {
   "cell_type": "code",
   "execution_count": null,
   "metadata": {
    "ExecuteTime": {
     "start_time": "2020-07-07T21:00:16.649Z"
    },
    "scrolled": true
   },
   "outputs": [
    {
     "name": "stderr",
     "output_type": "stream",
     "text": [
      "100%|██████████| 338/338 [00:16<00:00, 20.89it/s]\n",
      "100%|██████████| 338/338 [00:16<00:00, 20.84it/s]\n",
      "100%|██████████| 338/338 [00:16<00:00, 20.80it/s]\n",
      "100%|██████████| 338/338 [00:16<00:00, 20.31it/s]\n",
      "100%|██████████| 338/338 [00:16<00:00, 20.27it/s]\n",
      "100%|██████████| 338/338 [00:16<00:00, 20.75it/s]\n",
      "100%|██████████| 338/338 [00:16<00:00, 20.70it/s]\n",
      "100%|██████████| 338/338 [00:16<00:00, 20.59it/s]\n",
      "100%|██████████| 338/338 [00:16<00:00, 20.62it/s]\n",
      "100%|██████████| 338/338 [00:16<00:00, 20.61it/s]\n",
      "100%|██████████| 338/338 [00:16<00:00, 20.57it/s]\n",
      "100%|██████████| 338/338 [00:16<00:00, 20.46it/s]\n",
      "100%|██████████| 338/338 [00:16<00:00, 20.55it/s]\n",
      "100%|██████████| 338/338 [00:16<00:00, 20.41it/s]\n",
      "100%|██████████| 338/338 [00:16<00:00, 20.59it/s]\n",
      "100%|██████████| 338/338 [00:16<00:00, 20.60it/s]\n",
      "100%|██████████| 338/338 [00:16<00:00, 20.56it/s]\n",
      "100%|██████████| 338/338 [00:16<00:00, 20.61it/s]\n",
      "100%|██████████| 338/338 [00:16<00:00, 20.62it/s]\n",
      "100%|██████████| 338/338 [00:16<00:00, 20.57it/s]\n",
      "100%|██████████| 338/338 [00:16<00:00, 20.61it/s]\n",
      "100%|██████████| 338/338 [00:16<00:00, 20.60it/s]\n",
      "100%|██████████| 338/338 [00:16<00:00, 20.56it/s]\n",
      "100%|██████████| 338/338 [00:16<00:00, 20.63it/s]\n",
      "100%|██████████| 338/338 [00:16<00:00, 20.61it/s]\n",
      "100%|██████████| 338/338 [00:16<00:00, 20.58it/s]\n",
      "100%|██████████| 338/338 [00:16<00:00, 20.62it/s]\n",
      "100%|██████████| 338/338 [00:16<00:00, 20.61it/s]\n",
      "100%|██████████| 338/338 [00:16<00:00, 20.55it/s]\n",
      "100%|██████████| 338/338 [00:16<00:00, 20.61it/s]\n",
      "100%|██████████| 338/338 [00:16<00:00, 20.59it/s]\n",
      "100%|██████████| 338/338 [00:16<00:00, 20.58it/s]\n",
      "100%|██████████| 338/338 [00:16<00:00, 20.59it/s]\n",
      "100%|██████████| 338/338 [00:16<00:00, 20.62it/s]\n",
      "100%|██████████| 338/338 [00:16<00:00, 20.55it/s]\n",
      "100%|██████████| 338/338 [00:16<00:00, 20.60it/s]\n",
      "100%|██████████| 338/338 [00:16<00:00, 20.60it/s]\n",
      "100%|██████████| 338/338 [00:16<00:00, 20.57it/s]\n",
      "100%|██████████| 338/338 [00:16<00:00, 20.56it/s]\n",
      "100%|██████████| 338/338 [00:16<00:00, 20.60it/s]\n",
      "100%|██████████| 338/338 [00:16<00:00, 20.53it/s]\n",
      "100%|██████████| 338/338 [00:16<00:00, 20.63it/s]\n",
      "100%|██████████| 338/338 [00:16<00:00, 20.62it/s]\n",
      "100%|██████████| 338/338 [00:16<00:00, 20.57it/s]\n",
      "100%|██████████| 338/338 [00:16<00:00, 20.61it/s]\n",
      "100%|██████████| 338/338 [00:16<00:00, 20.62it/s]\n",
      "100%|██████████| 338/338 [00:16<00:00, 20.57it/s]\n",
      "100%|██████████| 338/338 [00:16<00:00, 20.62it/s]\n",
      "100%|██████████| 338/338 [00:16<00:00, 20.63it/s]\n",
      "100%|██████████| 338/338 [00:16<00:00, 20.57it/s]\n",
      "100%|██████████| 338/338 [00:16<00:00, 20.61it/s]\n",
      "100%|██████████| 338/338 [00:16<00:00, 20.62it/s]\n",
      "100%|██████████| 338/338 [00:16<00:00, 20.57it/s]\n",
      "100%|██████████| 338/338 [00:16<00:00, 20.63it/s]\n",
      "100%|██████████| 338/338 [00:16<00:00, 20.61it/s]\n",
      "100%|██████████| 338/338 [00:16<00:00, 20.57it/s]\n",
      "100%|██████████| 338/338 [00:16<00:00, 20.61it/s]\n",
      "100%|██████████| 338/338 [00:16<00:00, 20.61it/s]\n",
      "100%|██████████| 338/338 [00:16<00:00, 20.55it/s]\n",
      "100%|██████████| 338/338 [00:16<00:00, 20.61it/s]\n",
      "100%|██████████| 338/338 [00:16<00:00, 20.49it/s]\n",
      "100%|██████████| 338/338 [00:16<00:00, 20.56it/s]\n",
      "100%|██████████| 338/338 [00:16<00:00, 20.61it/s]\n",
      "100%|██████████| 338/338 [00:16<00:00, 20.49it/s]\n",
      "100%|██████████| 338/338 [00:16<00:00, 20.53it/s]\n",
      "100%|██████████| 338/338 [00:16<00:00, 20.52it/s]\n",
      "100%|██████████| 338/338 [00:16<00:00, 20.62it/s]\n",
      "100%|██████████| 338/338 [00:16<00:00, 20.55it/s]\n",
      "100%|██████████| 338/338 [00:16<00:00, 20.61it/s]\n",
      "100%|██████████| 338/338 [00:16<00:00, 20.61it/s]\n",
      "100%|██████████| 338/338 [00:16<00:00, 20.58it/s]\n",
      "100%|██████████| 338/338 [00:16<00:00, 20.61it/s]\n",
      "100%|██████████| 338/338 [00:16<00:00, 20.60it/s]\n",
      "100%|██████████| 338/338 [00:16<00:00, 20.47it/s]\n",
      "100%|██████████| 338/338 [00:16<00:00, 20.43it/s]\n",
      "100%|██████████| 338/338 [00:16<00:00, 20.61it/s]\n",
      "100%|██████████| 338/338 [00:16<00:00, 20.55it/s]\n",
      "100%|██████████| 338/338 [00:16<00:00, 20.60it/s]\n",
      "100%|██████████| 338/338 [00:16<00:00, 20.58it/s]\n",
      "100%|██████████| 338/338 [00:16<00:00, 20.54it/s]\n",
      "100%|██████████| 338/338 [00:16<00:00, 20.59it/s]\n",
      "100%|██████████| 338/338 [00:16<00:00, 20.60it/s]\n",
      "100%|██████████| 338/338 [00:16<00:00, 20.37it/s]\n",
      "100%|██████████| 338/338 [00:16<00:00, 20.61it/s]\n",
      "100%|██████████| 338/338 [00:16<00:00, 20.59it/s]\n",
      "100%|██████████| 338/338 [00:16<00:00, 20.57it/s]\n",
      "100%|██████████| 338/338 [00:16<00:00, 20.59it/s]\n",
      "100%|██████████| 338/338 [00:16<00:00, 20.50it/s]\n",
      "100%|██████████| 338/338 [00:16<00:00, 20.58it/s]\n",
      "100%|██████████| 338/338 [00:16<00:00, 20.59it/s]\n",
      "100%|██████████| 338/338 [00:16<00:00, 20.61it/s]\n",
      "100%|██████████| 338/338 [00:16<00:00, 20.57it/s]\n",
      "100%|██████████| 338/338 [00:16<00:00, 20.62it/s]\n",
      "100%|██████████| 338/338 [00:16<00:00, 20.62it/s]\n",
      "100%|██████████| 338/338 [00:16<00:00, 20.58it/s]\n",
      "100%|██████████| 338/338 [00:16<00:00, 20.40it/s]\n",
      "100%|██████████| 338/338 [00:16<00:00, 20.51it/s]\n",
      "100%|██████████| 338/338 [00:16<00:00, 20.14it/s]\n",
      "100%|██████████| 338/338 [00:16<00:00, 20.51it/s]\n",
      "100%|██████████| 338/338 [00:16<00:00, 20.38it/s]\n",
      "100%|██████████| 338/338 [00:16<00:00, 20.17it/s]\n",
      "100%|██████████| 338/338 [00:16<00:00, 20.60it/s]\n",
      "100%|██████████| 338/338 [00:16<00:00, 20.62it/s]\n",
      "100%|██████████| 338/338 [00:16<00:00, 20.59it/s]\n",
      "100%|██████████| 338/338 [00:16<00:00, 20.62it/s]\n",
      "100%|██████████| 338/338 [00:16<00:00, 20.60it/s]\n",
      "100%|██████████| 338/338 [00:16<00:00, 20.58it/s]\n",
      "100%|██████████| 338/338 [00:16<00:00, 20.61it/s]\n",
      "100%|██████████| 338/338 [00:16<00:00, 20.62it/s]\n",
      "100%|██████████| 338/338 [00:16<00:00, 20.18it/s]\n",
      "100%|██████████| 338/338 [00:16<00:00, 20.63it/s]\n",
      "100%|██████████| 338/338 [00:16<00:00, 20.61it/s]\n",
      "100%|██████████| 338/338 [00:16<00:00, 20.58it/s]\n",
      "100%|██████████| 338/338 [00:16<00:00, 20.60it/s]\n",
      "100%|██████████| 338/338 [00:16<00:00, 20.62it/s]\n",
      "100%|██████████| 338/338 [00:16<00:00, 20.55it/s]\n",
      "100%|██████████| 338/338 [00:16<00:00, 20.63it/s]\n",
      "100%|██████████| 338/338 [00:16<00:00, 20.62it/s]\n",
      "100%|██████████| 338/338 [00:16<00:00, 20.56it/s]\n",
      "100%|██████████| 338/338 [00:16<00:00, 20.61it/s]\n",
      "100%|██████████| 338/338 [00:16<00:00, 20.62it/s]\n",
      "100%|██████████| 338/338 [00:16<00:00, 20.57it/s]\n",
      "100%|██████████| 338/338 [00:16<00:00, 20.62it/s]\n",
      "100%|██████████| 338/338 [00:16<00:00, 20.61it/s]\n",
      "100%|██████████| 338/338 [00:16<00:00, 20.57it/s]\n",
      "100%|██████████| 338/338 [00:16<00:00, 20.61it/s]\n",
      "100%|██████████| 338/338 [00:16<00:00, 20.61it/s]\n",
      "100%|██████████| 338/338 [00:16<00:00, 20.57it/s]\n",
      "100%|██████████| 338/338 [00:16<00:00, 20.62it/s]\n",
      "100%|██████████| 338/338 [00:16<00:00, 20.62it/s]\n",
      "100%|██████████| 338/338 [00:16<00:00, 20.59it/s]\n",
      "100%|██████████| 338/338 [00:16<00:00, 20.62it/s]\n",
      "100%|██████████| 338/338 [00:16<00:00, 20.62it/s]\n",
      "100%|██████████| 338/338 [00:16<00:00, 20.56it/s]\n",
      "100%|██████████| 338/338 [00:16<00:00, 20.63it/s]\n",
      "100%|██████████| 338/338 [00:16<00:00, 20.61it/s]\n",
      "100%|██████████| 338/338 [00:16<00:00, 20.57it/s]\n",
      "100%|██████████| 338/338 [00:16<00:00, 20.61it/s]\n",
      "100%|██████████| 338/338 [00:16<00:00, 20.63it/s]\n",
      "100%|██████████| 338/338 [00:16<00:00, 20.56it/s]\n",
      "100%|██████████| 338/338 [00:16<00:00, 20.63it/s]\n",
      "100%|██████████| 338/338 [00:16<00:00, 20.62it/s]\n",
      "100%|██████████| 338/338 [00:16<00:00, 20.55it/s]\n",
      "100%|██████████| 338/338 [00:16<00:00, 20.62it/s]\n",
      "100%|██████████| 338/338 [00:16<00:00, 20.62it/s]\n",
      "100%|██████████| 338/338 [00:16<00:00, 20.55it/s]\n",
      "100%|██████████| 338/338 [00:16<00:00, 20.62it/s]\n",
      "100%|██████████| 338/338 [00:16<00:00, 20.59it/s]\n",
      "100%|██████████| 338/338 [00:16<00:00, 20.57it/s]\n",
      "100%|██████████| 338/338 [00:16<00:00, 20.62it/s]\n",
      "100%|██████████| 338/338 [00:16<00:00, 20.62it/s]\n",
      "100%|██████████| 338/338 [00:16<00:00, 20.56it/s]\n",
      "100%|██████████| 338/338 [00:16<00:00, 20.62it/s]\n",
      "100%|██████████| 338/338 [00:16<00:00, 20.60it/s]\n",
      "100%|██████████| 338/338 [00:16<00:00, 20.57it/s]\n",
      "100%|██████████| 338/338 [00:16<00:00, 20.62it/s]\n",
      "100%|██████████| 338/338 [00:16<00:00, 20.62it/s]\n",
      "100%|██████████| 338/338 [00:16<00:00, 20.58it/s]\n",
      "100%|██████████| 338/338 [00:16<00:00, 20.61it/s]\n",
      "100%|██████████| 338/338 [00:16<00:00, 20.61it/s]\n",
      "100%|██████████| 338/338 [00:16<00:00, 20.56it/s]\n",
      "100%|██████████| 338/338 [00:16<00:00, 20.62it/s]\n",
      "100%|██████████| 338/338 [00:16<00:00, 20.62it/s]\n"
     ]
    },
    {
     "name": "stderr",
     "output_type": "stream",
     "text": [
      "100%|██████████| 338/338 [00:16<00:00, 20.57it/s]\n",
      "100%|██████████| 338/338 [00:16<00:00, 20.62it/s]\n",
      "100%|██████████| 338/338 [00:16<00:00, 20.60it/s]\n",
      "100%|██████████| 338/338 [00:16<00:00, 20.56it/s]\n",
      "100%|██████████| 338/338 [00:16<00:00, 20.62it/s]\n",
      "100%|██████████| 338/338 [00:16<00:00, 20.62it/s]\n",
      "100%|██████████| 338/338 [00:16<00:00, 20.60it/s]\n",
      "100%|██████████| 338/338 [00:16<00:00, 20.58it/s]"
     ]
    }
   ],
   "source": [
    "from attacks.functionalInterpolation import FunctionalInterpolationAttack\n",
    "import torch.nn.functional as F\n",
    "\n",
    "attack_results = {}\n",
    "\n",
    "for overlay_class in classes:\n",
    "    \n",
    "    overlay_success_rate = 0 \n",
    "    for overlay_sample in overlay_dataset[overlay_class]:\n",
    "        overlay_sample = {'audio': torch.tensor(overlay_sample['data'][0])}\n",
    "        audio = overlay_sample['audio']\n",
    "        overlay_sample['audio'] = F.pad(audio, (0, 481489 - len(audio)), mode='constant', value=0)\n",
    "        \n",
    "        attack_parameters = {'overlay_sound': overlay_sample,\n",
    "                         'epsilonInterpolation': 0.1, 'epsilonNoise': fixed_epsilon, 'num_iter': 1, 'upper2': 1,\n",
    "                         }\n",
    "        fva = FunctionalInterpolationAttack(model, model.val_dataloader(), attack_parameters, save_samples=False)\n",
    "        fva.attack()\n",
    "        overlay_success_rate += fva.getSuccessRate()\n",
    "        \n",
    "    overlay_success_rate /= len(overlay_dataset[overlay_class]) # /= 100\n",
    "    attack_results[overlay_class] = overlay_success_rate"
   ]
  },
  {
   "cell_type": "code",
   "execution_count": 69,
   "metadata": {
    "ExecuteTime": {
     "end_time": "2020-07-07T21:00:09.444829Z",
     "start_time": "2020-07-07T21:00:09.415048Z"
    }
   },
   "outputs": [
    {
     "data": {
      "text/plain": [
       "{'Animal': 0.006292650918635171,\n",
       " 'Motor vehicle (road)': 0.007053805774278216,\n",
       " 'Music': 0.006148293963254593,\n",
       " 'Natural sounds': 0.005354330708661418,\n",
       " 'Human voice': 0.004435695538057743}"
      ]
     },
     "execution_count": 69,
     "metadata": {},
     "output_type": "execute_result"
    }
   ],
   "source": [
    "attack_results"
   ]
  },
  {
   "cell_type": "markdown",
   "metadata": {},
   "source": [
    "# Visualization"
   ]
  },
  {
   "cell_type": "code",
   "execution_count": null,
   "metadata": {},
   "outputs": [],
   "source": [
    "import pandas as pd\n",
    "import seaborn as sns\n",
    "import matplotlib.pyplot as plt\n",
    "import re"
   ]
  },
  {
   "cell_type": "code",
   "execution_count": null,
   "metadata": {},
   "outputs": [],
   "source": [
    "result = attack_results\n",
    "result = {re.sub(r\" ?\\([^)]+\\)\", \"\", entry): [result[entry]*100] for entry in sorted(result, key = lambda x: result[x], reverse=True)}"
   ]
  },
  {
   "cell_type": "code",
   "execution_count": null,
   "metadata": {},
   "outputs": [],
   "source": [
    "df = pd.DataFrame.from_dict(result)\n",
    "\n",
    "sns.set()\n",
    "sns.set_style(\"whitegrid\")\n",
    "sns.set_context(\"poster\")\n",
    "\n",
    "f = plt.figure(figsize=(15,10))\n",
    "plt.ylabel(\"average success rate\")\n",
    "ax = sns.barplot(data=df)"
   ]
  }
 ],
 "metadata": {
  "kernelspec": {
   "display_name": "Python 3",
   "language": "python",
   "name": "python3"
  },
  "language_info": {
   "codemirror_mode": {
    "name": "ipython",
    "version": 3
   },
   "file_extension": ".py",
   "mimetype": "text/x-python",
   "name": "python",
   "nbconvert_exporter": "python",
   "pygments_lexer": "ipython3",
   "version": "3.8.2"
  },
  "notify_time": "5"
 },
 "nbformat": 4,
 "nbformat_minor": 4
}
