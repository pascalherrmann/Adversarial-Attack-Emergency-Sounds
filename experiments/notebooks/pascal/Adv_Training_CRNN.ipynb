{
 "cells": [
  {
   "cell_type": "markdown",
   "metadata": {},
   "source": [
    "# Imports"
   ]
  },
  {
   "cell_type": "code",
   "execution_count": null,
   "metadata": {},
   "outputs": [],
   "source": [
    "%load_ext autoreload\n",
    "%autoreload 2\n",
    "\n",
    "import os\n",
    "import sys\n",
    "module_path = os.path.abspath(os.path.join('../../../src/'))\n",
    "if module_path not in sys.path:\n",
    "    sys.path.append(module_path)"
   ]
  },
  {
   "cell_type": "code",
   "execution_count": null,
   "metadata": {},
   "outputs": [],
   "source": [
    "import numpy as np\n",
    "import torch\n",
    "import time\n",
    "import pytorch_lightning as pl\n",
    "from pytorch_lightning import loggers\n",
    "import config\n",
    "from utils.Visual import draw_plot"
   ]
  },
  {
   "cell_type": "markdown",
   "metadata": {},
   "source": [
    "# Run Adversarial Training"
   ]
  },
  {
   "cell_type": "code",
   "execution_count": null,
   "metadata": {},
   "outputs": [],
   "source": [
    "##############################################################################################################\n",
    "##############################################################################################################\n",
    "##############################################################################################################\n",
    "from utils.TrainHelper import TrainHelper, get_all_models_data\n",
    "from attacks.pgd import ProjectedGradientDescent\n",
    "\n",
    "from classification.models.M5 import M5PLModule\n",
    "from classification.models.SpectrogramCNN import SpectrogramCNNPLModule\n",
    "from classification.models.CRNN import CRNNPLModule\n",
    "\n",
    "# define hyperparameters\n",
    "hparams = {\n",
    "    \"batch_size\": 32,\n",
    "    \"learning_rate\": 0.0004749297226922354,\n",
    "    \"weight_decay\": 0.052296466392772335,\n",
    "    \"lr_decay\": 0.8398465348833402,\n",
    "    \"epochs\": 20\n",
    "}\n",
    "\n",
    "# define attack configs\n",
    "attack_configs = [\n",
    "                  {\"ATTACK_CLASS\": ProjectedGradientDescent, \n",
    "                   \"ATTACK_ARGS\": {\"norm\":[\"inf\"], \n",
    "                                   \"epsilon\":[0.1], \"num_iter\": [1]\n",
    "                                 },\n",
    "                   \"META\": {\"TITLE\": \"L_inf_eps=0.1_iters=1\"}\n",
    "                   },\n",
    "                  {\"ATTACK_CLASS\": ProjectedGradientDescent, \n",
    "                   \"ATTACK_ARGS\": {\"norm\":[\"inf\"], \n",
    "                                   \"epsilon\":[0.2], \"num_iter\": [1]\n",
    "                                 },\n",
    "                   \"META\": {\"TITLE\": \"L_inf_eps=0.2_iters=1\"}\n",
    "                   },\n",
    "                  {\"ATTACK_CLASS\": ProjectedGradientDescent, \n",
    "                   \"ATTACK_ARGS\": {\"norm\":[\"inf\"], \n",
    "                                   \"epsilon\":[0.3], \"num_iter\": [1]\n",
    "                                 },\n",
    "                   \"META\": {\"TITLE\": \"L_inf_eps=0.3_iters=1\"}\n",
    "                   },\n",
    "                  {\"ATTACK_CLASS\": ProjectedGradientDescent, \n",
    "                   \"ATTACK_ARGS\": {\"norm\":[\"inf\"], \n",
    "                                   \"epsilon\":[0.05], \"num_iter\": [2]\n",
    "                                 },\n",
    "                   \"META\": {\"TITLE\": \"L_inf_eps=0.05_iters=2\"}\n",
    "                   },\n",
    "                  {\"ATTACK_CLASS\": ProjectedGradientDescent, \n",
    "                   \"ATTACK_ARGS\": {\"norm\":[\"inf\"], \n",
    "                                   \"epsilon\":[0.07], \"num_iter\": [2]\n",
    "                                 },\n",
    "                   \"META\": {\"TITLE\": \"L_inf_eps=0.07_iters=2\"}\n",
    "                   },\n",
    "                  {\"ATTACK_CLASS\": ProjectedGradientDescent, \n",
    "                   \"ATTACK_ARGS\": {\"norm\":[\"inf\"], \n",
    "                                   \"epsilon\":[0.03], \"num_iter\": [2]\n",
    "                                 },\n",
    "                   \"META\": {\"TITLE\": \"L_inf_eps=0.03_iters=2\"}\n",
    "                   },\n",
    "                  {\"ATTACK_CLASS\": ProjectedGradientDescent, \n",
    "                   \"ATTACK_ARGS\": {\"norm\":[\"inf\"], \n",
    "                                   \"epsilon\":[0.05], \"num_iter\": [3]\n",
    "                                 },\n",
    "                   \"META\": {\"TITLE\": \"L_inf_eps=0.05_iters=3\"}\n",
    "                   },\n",
    "                  ]\n",
    "\n",
    "th = TrainHelper()\n",
    "models = th.run(CRNNPLModule, hparams, attack_configs, save_epochs = [100])\n",
    "##############################################################################################################\n",
    "##############################################################################################################\n",
    "##############################################################################################################"
   ]
  },
  {
   "cell_type": "markdown",
   "metadata": {},
   "source": [
    "# Create Plots"
   ]
  },
  {
   "cell_type": "code",
   "execution_count": null,
   "metadata": {},
   "outputs": [],
   "source": [
    "from utils.RobustnessExperiment import RobustnessExperiment, load_experiment\n",
    "experiment = load_experiment(exp_folder = \"0015_Evaluation_Final\")\n",
    "for m in models:\n",
    "    experiment.run(m, CRNNPLModule)"
   ]
  }
 ],
 "metadata": {
  "kernelspec": {
   "display_name": "Python 3",
   "language": "python",
   "name": "python3"
  },
  "language_info": {
   "codemirror_mode": {
    "name": "ipython",
    "version": 3
   },
   "file_extension": ".py",
   "mimetype": "text/x-python",
   "name": "python",
   "nbconvert_exporter": "python",
   "pygments_lexer": "ipython3",
   "version": "3.8.2"
  }
 },
 "nbformat": 4,
 "nbformat_minor": 4
}
