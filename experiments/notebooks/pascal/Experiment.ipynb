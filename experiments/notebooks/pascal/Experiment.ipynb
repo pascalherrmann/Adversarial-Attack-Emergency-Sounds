{
 "cells": [
  {
   "cell_type": "markdown",
   "metadata": {},
   "source": [
    "# Experiments\n",
    "\n",
    "Here we showcase 3 types of experiments:\n",
    "\n",
    "* **Hyperparameter optimization** for training of a model (*using Optuna*) **[not ready yet]**\n",
    "\n",
    "* **Adversarial Training** of a model for different hyperparameters\n",
    "\n",
    "* Evaluation of **Adversarial Attacks**\n",
    "\n",
    "\n",
    "Preconditions:\n",
    "\n",
    "* you need a ***PL-Module*** that specifies your model class and dataset!"
   ]
  },
  {
   "cell_type": "markdown",
   "metadata": {},
   "source": [
    "# Training of a Model\n",
    "\n",
    "* define your hyperparameters in `hparams`\n",
    "* create your instance of `PLModule`\n",
    "* define a trainer (e.g., define max epochs, ...)\n",
    "* fit your model!"
   ]
  },
  {
   "cell_type": "code",
   "execution_count": 89,
   "metadata": {},
   "outputs": [
    {
     "name": "stdout",
     "output_type": "stream",
     "text": [
      "0.7172495554238293\n"
     ]
    }
   ],
   "source": [
    "print(model.val_results_history[-1][\"val_acc\"])"
   ]
  },
  {
   "cell_type": "markdown",
   "metadata": {},
   "source": [
    "# II: Adversarial Training\n",
    "\n",
    "* same as normal training, but call **`model.setAttack`** \n",
    "\n",
    "\n",
    "Today:\n",
    "\n",
    "* source this out as another experiment class, e.g. AdversarialTrainingExperiment\n",
    "* pass folder name to initialization\n",
    "* save: hparams, attack_args, attack_class, train_params\n",
    "* "
   ]
  },
  {
   "cell_type": "code",
   "execution_count": null,
   "metadata": {},
   "outputs": [],
   "source": [
    "from utils.TrainHelper import TrainHelper, get_all_models_data, get_model_info\n",
    "\n",
    "list(get_all_models_data()[\"M5\"].keys())\n",
    "\n",
    "sorted([ (m[\"final_val_acc\"], m[\"path\"]) for m in get_all_models_data()[\"M5\"].values()])[-5:]\n",
    "\n",
    "#print(get_model_info(\"M5_attack_ProjectedGradientDescent_v3\"))"
   ]
  },
  {
   "cell_type": "markdown",
   "metadata": {},
   "source": [
    "# III: Robustness Evaluation"
   ]
  },
  {
   "cell_type": "markdown",
   "metadata": {},
   "source": [
    "Running a single attack:"
   ]
  },
  {
   "cell_type": "code",
   "execution_count": 1,
   "metadata": {},
   "outputs": [
    {
     "ename": "ModuleNotFoundError",
     "evalue": "No module named 'attacks'",
     "output_type": "error",
     "traceback": [
      "\u001b[0;31m---------------------------------------------------------------------------\u001b[0m",
      "\u001b[0;31mModuleNotFoundError\u001b[0m                       Traceback (most recent call last)",
      "\u001b[0;32m<ipython-input-1-54e82884df63>\u001b[0m in \u001b[0;36m<module>\u001b[0;34m\u001b[0m\n\u001b[0;32m----> 1\u001b[0;31m \u001b[0;32mfrom\u001b[0m \u001b[0mattacks\u001b[0m\u001b[0;34m.\u001b[0m\u001b[0mpgd\u001b[0m \u001b[0;32mimport\u001b[0m \u001b[0mProjectedGradientDescent\u001b[0m\u001b[0;34m\u001b[0m\u001b[0;34m\u001b[0m\u001b[0m\n\u001b[0m\u001b[1;32m      2\u001b[0m \u001b[0mattack\u001b[0m \u001b[0;34m=\u001b[0m \u001b[0mProjectedGradientDescent\u001b[0m\u001b[0;34m(\u001b[0m\u001b[0mmodel\u001b[0m\u001b[0;34m.\u001b[0m\u001b[0mmodel\u001b[0m\u001b[0;34m,\u001b[0m \u001b[0mmodel\u001b[0m\u001b[0;34m.\u001b[0m\u001b[0mtrain_dataloader\u001b[0m\u001b[0;34m(\u001b[0m\u001b[0;34m)\u001b[0m\u001b[0;34m,\u001b[0m \u001b[0;34m{\u001b[0m\u001b[0;34m\"norm\"\u001b[0m\u001b[0;34m:\u001b[0m\u001b[0;34m\"inf\"\u001b[0m\u001b[0;34m,\u001b[0m \u001b[0;34m\"epsilon\"\u001b[0m\u001b[0;34m:\u001b[0m \u001b[0;36m10.\u001b[0m\u001b[0;34m}\u001b[0m\u001b[0;34m,\u001b[0m \u001b[0mearly_stopping\u001b[0m\u001b[0;34m=\u001b[0m\u001b[0;36m10\u001b[0m\u001b[0;34m,\u001b[0m \u001b[0mdevice\u001b[0m\u001b[0;34m=\u001b[0m\u001b[0;34m'cuda'\u001b[0m\u001b[0;34m,\u001b[0m \u001b[0msave_samples\u001b[0m\u001b[0;34m=\u001b[0m\u001b[0;32mFalse\u001b[0m\u001b[0;34m)\u001b[0m\u001b[0;34m\u001b[0m\u001b[0;34m\u001b[0m\u001b[0m\n\u001b[1;32m      3\u001b[0m \u001b[0mattack\u001b[0m\u001b[0;34m.\u001b[0m\u001b[0mattack\u001b[0m\u001b[0;34m(\u001b[0m\u001b[0;34m)\u001b[0m\u001b[0;34m\u001b[0m\u001b[0;34m\u001b[0m\u001b[0m\n\u001b[1;32m      4\u001b[0m \u001b[0mattack\u001b[0m\u001b[0;34m.\u001b[0m\u001b[0mreport\u001b[0m\u001b[0;34m(\u001b[0m \u001b[0;34m)\u001b[0m\u001b[0;34m\u001b[0m\u001b[0;34m\u001b[0m\u001b[0m\n",
      "\u001b[0;31mModuleNotFoundError\u001b[0m: No module named 'attacks'"
     ]
    }
   ],
   "source": [
    "from attacks.pgd import ProjectedGradientDescent\n",
    "attack = ProjectedGradientDescent(model.model, model.train_dataloader(), {\"norm\":\"inf\", \"epsilon\": 10.}, early_stopping=10, device='cuda', save_samples=False)\n",
    "attack.attack()\n",
    "attack.report( )"
   ]
  },
  {
   "cell_type": "markdown",
   "metadata": {},
   "source": [
    "### Documentation\n",
    "* you define an experiment: an object of class `utils.RobustnessExperiment`.\n",
    "    * pass a title & description for the experiment (optional)\n",
    "    * pass different attacks + a list of configs, e.g.    \n",
    "    \n",
    "```python\n",
    "\n",
    "exp_config = [           \n",
    "              {\n",
    "               \"attack_fn\": fast_gradient_attack, \n",
    "               \"attack_arg\": {\"norm\":[\"inf\"], \"epsilon\": [0, 0.01, 0.02, 0.05, 0.1, 0.2, 0.5, 1]},\n",
    "               \"meta\": {\"key_result\":\"acc\", \"key_config\":\"epsilon\", \"title\":\"FGSM\"}\n",
    "              }\n",
    "            ]\n",
    "```\n",
    "\n",
    "* all values in `attack_arg` must be in brackets. The attack will the be run for all of the values in each of the lists\n",
    "\n",
    "* you then can **run** the experiment by passing a **model**\n",
    "* the following will happen:\n",
    "    * initializing of the experiment creates a folder in the dir specified in config, named ID_title. Also a pickle file will be saved to the directory.\n",
    "    * if you run an attack:\n",
    "        * a sub-folder in that directory will be created for the model.\n",
    "        * all attacks will be ran\n",
    "        * for every attack, a plot will be created\n",
    "        * one json (i.e. one for each model) will be saved to the directory\n",
    "        * also some samples are stored for each attack.\n",
    "        \n",
    "        \n",
    "Workflow:\n",
    "\n",
    "* prepare experiment config and use it to initalize experiment\n",
    "* then add as many models you like\n",
    "* best: run this not in notebook but as slurm job"
   ]
  }
 ],
 "metadata": {
  "kernelspec": {
   "display_name": "Python 3",
   "language": "python",
   "name": "python3"
  },
  "language_info": {
   "codemirror_mode": {
    "name": "ipython",
    "version": 3
   },
   "file_extension": ".py",
   "mimetype": "text/x-python",
   "name": "python",
   "nbconvert_exporter": "python",
   "pygments_lexer": "ipython3",
   "version": "3.8.2"
  }
 },
 "nbformat": 4,
 "nbformat_minor": 4
}
