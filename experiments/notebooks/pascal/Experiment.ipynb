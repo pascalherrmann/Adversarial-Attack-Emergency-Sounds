{
 "cells": [
  {
   "cell_type": "code",
   "execution_count": 1,
   "metadata": {},
   "outputs": [],
   "source": [
    "%load_ext autoreload\n",
    "%autoreload 2\n",
    "\n",
    "import os\n",
    "import sys\n",
    "module_path = os.path.abspath(os.path.join('../../../src/'))\n",
    "if module_path not in sys.path:\n",
    "    sys.path.append(module_path)"
   ]
  },
  {
   "cell_type": "markdown",
   "metadata": {},
   "source": [
    "# Experiments\n",
    "\n",
    "Here we showcase 3 types of experiments:\n",
    "\n",
    "* **Hyperparameter optimization** for training of a model (*using Optuna*) **[not ready yet]**\n",
    "\n",
    "* **Adversarial Training** of a model for different hyperparameters\n",
    "\n",
    "* Evaluation of **Adversarial Attacks**\n",
    "\n",
    "\n",
    "Preconditions:\n",
    "\n",
    "* you need a ***PL-Module*** that specifies your model class and dataset!"
   ]
  },
  {
   "cell_type": "markdown",
   "metadata": {},
   "source": [
    "# Training of a Model\n",
    "\n",
    "* define your hyperparameters in `hparams`\n",
    "* create your instance of `PLModule`\n",
    "* define a trainer (e.g., define max epochs, ...)\n",
    "* fit your model!"
   ]
  },
  {
   "cell_type": "code",
   "execution_count": 2,
   "metadata": {},
   "outputs": [],
   "source": [
    "import numpy as np\n",
    "import torch\n",
    "import time\n",
    "import pytorch_lightning as pl\n",
    "from pytorch_lightning import loggers\n",
    "import config"
   ]
  },
  {
   "cell_type": "code",
   "execution_count": 3,
   "metadata": {},
   "outputs": [
    {
     "name": "stdout",
     "output_type": "stream",
     "text": [
      "Loading cached train data from /nfs/students/summer-term-2020/project-4/data/data_8k\n",
      "Loading cached val data from /nfs/students/summer-term-2020/project-4/data/data_8k\n"
     ]
    }
   ],
   "source": [
    "from classification.models.M5 import M5, M5PLModule\n",
    "\n",
    "hparams = {\n",
    "    \"batch_size\": 64,\n",
    "    \"learning_rate\": 3e-4,\n",
    "    \"weight_decay\": 0.001,\n",
    "    \"lr_decay\": 0.95\n",
    "}\n",
    "\n",
    "model = M5PLModule(hparams)\n",
    "model.prepare_data()"
   ]
  },
  {
   "cell_type": "code",
   "execution_count": 4,
   "metadata": {},
   "outputs": [
    {
     "name": "stderr",
     "output_type": "stream",
     "text": [
      "GPU available: True, used: True\n",
      "No environment variable for node rank defined. Set as 0.\n",
      "CUDA_VISIBLE_DEVICES: [0]\n",
      "/nfs/homedirs/herrmanp/miniconda3/envs/ml/lib/python3.8/site-packages/pytorch_lightning/utilities/distributed.py:23: RuntimeWarning: You have defined a `val_dataloader()` and have defined a `validation_step()`, you may also want to define `validation_epoch_end()` for accumulating stats.\n",
      "  warnings.warn(*args, **kwargs)\n"
     ]
    },
    {
     "name": "stdout",
     "output_type": "stream",
     "text": [
      "Loading cached train data from /nfs/students/summer-term-2020/project-4/data/data_8k\n",
      "Loading cached val data from /nfs/students/summer-term-2020/project-4/data/data_8k\n"
     ]
    },
    {
     "name": "stderr",
     "output_type": "stream",
     "text": [
      "Set SLURM handle signals.\n",
      "\n",
      "   | Name           | Type         | Params\n",
      "--------------------------------------------\n",
      "0  | model          | M5           | 555 K \n",
      "1  | model.model    | Sequential   | 555 K \n",
      "2  | model.model.0  | Conv1d       | 10 K  \n",
      "3  | model.model.1  | BatchNorm1d  | 256   \n",
      "4  | model.model.2  | MaxPool1d    | 0     \n",
      "5  | model.model.3  | Dropout      | 0     \n",
      "6  | model.model.4  | Conv1d       | 49 K  \n",
      "7  | model.model.5  | BatchNorm1d  | 256   \n",
      "8  | model.model.6  | MaxPool1d    | 0     \n",
      "9  | model.model.7  | Dropout      | 0     \n",
      "10 | model.model.8  | Conv1d       | 98 K  \n",
      "11 | model.model.9  | BatchNorm1d  | 512   \n",
      "12 | model.model.10 | MaxPool1d    | 0     \n",
      "13 | model.model.11 | Dropout      | 0     \n",
      "14 | model.model.12 | Conv1d       | 393 K \n",
      "15 | model.model.13 | BatchNorm1d  | 1 K   \n",
      "16 | model.model.14 | MaxPool1d    | 0     \n",
      "17 | model.model.15 | AvgPool1d    | 0     \n",
      "18 | model.model.16 | PermuteLayer | 0     \n",
      "19 | model.model.17 | Linear       | 1 K   \n",
      "/nfs/homedirs/herrmanp/miniconda3/envs/ml/lib/python3.8/site-packages/pytorch_lightning/utilities/distributed.py:23: UserWarning: The dataloader, val dataloader 0, does not have many workers which may be a bottleneck. Consider increasing the value of the `num_workers` argument` in the `DataLoader` init to improve performance.\n",
      "  warnings.warn(*args, **kwargs)\n"
     ]
    },
    {
     "data": {
      "application/vnd.jupyter.widget-view+json": {
       "model_id": "",
       "version_major": 2,
       "version_minor": 0
      },
      "text/plain": [
       "HBox(children=(FloatProgress(value=1.0, bar_style='info', description='Validation sanity check', layout=Layout…"
      ]
     },
     "metadata": {},
     "output_type": "display_data"
    },
    {
     "name": "stdout",
     "output_type": "stream",
     "text": [
      "Val-Acc=0.03793716656787196\n"
     ]
    },
    {
     "name": "stderr",
     "output_type": "stream",
     "text": [
      "/nfs/homedirs/herrmanp/miniconda3/envs/ml/lib/python3.8/site-packages/pytorch_lightning/utilities/distributed.py:23: UserWarning: The dataloader, train dataloader, does not have many workers which may be a bottleneck. Consider increasing the value of the `num_workers` argument` in the `DataLoader` init to improve performance.\n",
      "  warnings.warn(*args, **kwargs)\n"
     ]
    },
    {
     "data": {
      "application/vnd.jupyter.widget-view+json": {
       "model_id": "db0654d3ceec40a9ad37d9d87bf3c96e",
       "version_major": 2,
       "version_minor": 0
      },
      "text/plain": [
       "HBox(children=(FloatProgress(value=1.0, bar_style='info', description='Training', layout=Layout(flex='2'), max…"
      ]
     },
     "metadata": {},
     "output_type": "display_data"
    },
    {
     "data": {
      "application/vnd.jupyter.widget-view+json": {
       "model_id": "",
       "version_major": 2,
       "version_minor": 0
      },
      "text/plain": [
       "HBox(children=(FloatProgress(value=1.0, bar_style='info', description='Validating', layout=Layout(flex='2'), m…"
      ]
     },
     "metadata": {},
     "output_type": "display_data"
    },
    {
     "name": "stdout",
     "output_type": "stream",
     "text": [
      "Val-Acc=0.7860106698280972\n",
      "\n",
      "Saved model to \"./1592058171.p\"\n"
     ]
    }
   ],
   "source": [
    "trainer = pl.Trainer(\n",
    "    max_epochs = 1,\n",
    "    logger = loggers.TensorBoardLogger(config.LOG_DIR, name=\"M5\"),\n",
    "    gpus = 1 if torch.cuda.is_available() else None,\n",
    "    log_gpu_memory = 'all'\n",
    ")\n",
    "\n",
    "trainer.fit(model)\n",
    "model.save(\"./\" + str(int(time.time())) + \".p\")"
   ]
  },
  {
   "cell_type": "markdown",
   "metadata": {},
   "source": [
    "# II: Adversarial Training\n",
    "\n",
    "* same as normal training, but call **`model.setAttack`** "
   ]
  },
  {
   "cell_type": "code",
   "execution_count": 5,
   "metadata": {},
   "outputs": [
    {
     "name": "stdout",
     "output_type": "stream",
     "text": [
      "Loading cached train data from /nfs/students/summer-term-2020/project-4/data/data_8k\n",
      "Loading cached val data from /nfs/students/summer-term-2020/project-4/data/data_8k\n"
     ]
    },
    {
     "name": "stderr",
     "output_type": "stream",
     "text": [
      "GPU available: True, used: True\n",
      "No environment variable for node rank defined. Set as 0.\n",
      "CUDA_VISIBLE_DEVICES: [0]\n",
      "/nfs/homedirs/herrmanp/miniconda3/envs/ml/lib/python3.8/site-packages/pytorch_lightning/utilities/distributed.py:23: RuntimeWarning: You have defined a `val_dataloader()` and have defined a `validation_step()`, you may also want to define `validation_epoch_end()` for accumulating stats.\n",
      "  warnings.warn(*args, **kwargs)\n"
     ]
    },
    {
     "name": "stdout",
     "output_type": "stream",
     "text": [
      "Loading cached train data from /nfs/students/summer-term-2020/project-4/data/data_8k\n",
      "Loading cached val data from /nfs/students/summer-term-2020/project-4/data/data_8k\n"
     ]
    },
    {
     "name": "stderr",
     "output_type": "stream",
     "text": [
      "Set SLURM handle signals.\n",
      "\n",
      "   | Name           | Type         | Params\n",
      "--------------------------------------------\n",
      "0  | model          | M5           | 555 K \n",
      "1  | model.model    | Sequential   | 555 K \n",
      "2  | model.model.0  | Conv1d       | 10 K  \n",
      "3  | model.model.1  | BatchNorm1d  | 256   \n",
      "4  | model.model.2  | MaxPool1d    | 0     \n",
      "5  | model.model.3  | Dropout      | 0     \n",
      "6  | model.model.4  | Conv1d       | 49 K  \n",
      "7  | model.model.5  | BatchNorm1d  | 256   \n",
      "8  | model.model.6  | MaxPool1d    | 0     \n",
      "9  | model.model.7  | Dropout      | 0     \n",
      "10 | model.model.8  | Conv1d       | 98 K  \n",
      "11 | model.model.9  | BatchNorm1d  | 512   \n",
      "12 | model.model.10 | MaxPool1d    | 0     \n",
      "13 | model.model.11 | Dropout      | 0     \n",
      "14 | model.model.12 | Conv1d       | 393 K \n",
      "15 | model.model.13 | BatchNorm1d  | 1 K   \n",
      "16 | model.model.14 | MaxPool1d    | 0     \n",
      "17 | model.model.15 | AvgPool1d    | 0     \n",
      "18 | model.model.16 | PermuteLayer | 0     \n",
      "19 | model.model.17 | Linear       | 1 K   \n",
      "/nfs/homedirs/herrmanp/miniconda3/envs/ml/lib/python3.8/site-packages/pytorch_lightning/utilities/distributed.py:23: UserWarning: The dataloader, val dataloader 0, does not have many workers which may be a bottleneck. Consider increasing the value of the `num_workers` argument` in the `DataLoader` init to improve performance.\n",
      "  warnings.warn(*args, **kwargs)\n"
     ]
    },
    {
     "data": {
      "application/vnd.jupyter.widget-view+json": {
       "model_id": "",
       "version_major": 2,
       "version_minor": 0
      },
      "text/plain": [
       "HBox(children=(FloatProgress(value=1.0, bar_style='info', description='Validation sanity check', layout=Layout…"
      ]
     },
     "metadata": {},
     "output_type": "display_data"
    },
    {
     "name": "stderr",
     "output_type": "stream",
     "text": [
      "/nfs/homedirs/herrmanp/miniconda3/envs/ml/lib/python3.8/site-packages/pytorch_lightning/utilities/distributed.py:23: UserWarning: The dataloader, train dataloader, does not have many workers which may be a bottleneck. Consider increasing the value of the `num_workers` argument` in the `DataLoader` init to improve performance.\n",
      "  warnings.warn(*args, **kwargs)\n"
     ]
    },
    {
     "name": "stdout",
     "output_type": "stream",
     "text": [
      "Val-Acc=0.03971547125074096\n"
     ]
    },
    {
     "data": {
      "application/vnd.jupyter.widget-view+json": {
       "model_id": "343a0d0223da42638dcb509d9b7d5576",
       "version_major": 2,
       "version_minor": 0
      },
      "text/plain": [
       "HBox(children=(FloatProgress(value=1.0, bar_style='info', description='Training', layout=Layout(flex='2'), max…"
      ]
     },
     "metadata": {},
     "output_type": "display_data"
    },
    {
     "data": {
      "application/vnd.jupyter.widget-view+json": {
       "model_id": "",
       "version_major": 2,
       "version_minor": 0
      },
      "text/plain": [
       "HBox(children=(FloatProgress(value=1.0, bar_style='info', description='Validating', layout=Layout(flex='2'), m…"
      ]
     },
     "metadata": {},
     "output_type": "display_data"
    },
    {
     "name": "stdout",
     "output_type": "stream",
     "text": [
      "Val-Acc=0.7474807350326023\n"
     ]
    },
    {
     "name": "stderr",
     "output_type": "stream",
     "text": [
      "Detected KeyboardInterrupt, attempting graceful shutdown...\n"
     ]
    },
    {
     "name": "stdout",
     "output_type": "stream",
     "text": [
      "\n",
      "Saved model to \"./adv_training_results/trial#0_l2_adv.p\"\n"
     ]
    }
   ],
   "source": [
    "from attacks.pgd import ProjectedGradientDescent \n",
    "\n",
    "attack_args = [{\"norm\": \"inf\", \"epsilon\": {\"SAMPLING_MODE\": \"log\", \"l\": 1e-4, \"u\": 0.1 } },\n",
    "                {\"norm\": \"inf\", \"epsilon\": {\"SAMPLING_MODE\": \"log\", \"l\": 1e-4, \"u\": 0.2 } },\n",
    "                {\"norm\": \"inf\", \"epsilon\": {\"SAMPLING_MODE\": \"log\", \"l\": 1e-4, \"u\": 0.5 } },\n",
    "                {\"norm\": \"inf\", \"epsilon\": {\"SAMPLING_MODE\": \"log\", \"l\": 0.1, \"u\": 0.2 } },\n",
    "                {\"norm\": \"inf\", \"epsilon\": {\"SAMPLING_MODE\": \"log\", \"l\": 0.1, \"u\": 0.5 } },\n",
    "                {\"norm\": \"inf\", \"epsilon\": 0.1 },\n",
    "                {\"norm\": \"inf\", \"epsilon\": 0.2 },\n",
    "                {\"norm\": \"inf\", \"epsilon\": 0.5 },\n",
    "\n",
    "                {\"norm\": \"1\", \"epsilon\": {\"SAMPLING_MODE\": \"log\", \"l\": 1, \"u\": 5000 } },\n",
    "                {\"norm\": \"1\", \"epsilon\": {\"SAMPLING_MODE\": \"log\", \"l\": 1, \"u\": 10000 } },\n",
    "                {\"norm\": \"1\", \"epsilon\": {\"SAMPLING_MODE\": \"log\", \"l\": 1, \"u\": 20000 } },\n",
    "                {\"norm\": \"1\", \"epsilon\": {\"SAMPLING_MODE\": \"log\", \"l\": 5000, \"u\": 10000 } },\n",
    "                {\"norm\": \"1\", \"epsilon\": {\"SAMPLING_MODE\": \"log\", \"l\": 5000, \"u\": 20000 } },\n",
    "                {\"norm\": \"1\", \"epsilon\": 5000 },\n",
    "                {\"norm\": \"1\", \"epsilon\": 10000 },\n",
    "                {\"norm\": \"1\", \"epsilon\": 20000 },\n",
    "              \n",
    "                {\"norm\": \"2\", \"epsilon\": {\"SAMPLING_MODE\": \"log\", \"l\": 0.001, \"u\": 20 } },\n",
    "                {\"norm\": \"2\", \"epsilon\": {\"SAMPLING_MODE\": \"log\", \"l\": 0.001, \"u\": 50 } },\n",
    "                {\"norm\": \"2\", \"epsilon\": {\"SAMPLING_MODE\": \"log\", \"l\": 0.001, \"u\": 100 } },\n",
    "                {\"norm\": \"2\", \"epsilon\": {\"SAMPLING_MODE\": \"log\", \"l\": 10, \"u\": 50 } },\n",
    "                {\"norm\": \"2\", \"epsilon\": {\"SAMPLING_MODE\": \"log\", \"l\": 20, \"u\": 100 } },\n",
    "                {\"norm\": \"2\", \"epsilon\": 20 },\n",
    "                {\"norm\": \"2\", \"epsilon\": 50 },\n",
    "                {\"norm\": \"2\", \"epsilon\": 100 }]\n",
    "              \n",
    "\n",
    "prefix = str(int(time.time()))\n",
    "\n",
    "\n",
    "def adv_train(attack_args):\n",
    "    for i in range(len(attack_args)):\n",
    "        model = M5PLModule(hparams)\n",
    "        model.prepare_data()\n",
    "        model.setAttack(ProjectedGradientDescent, attack_args[i])\n",
    "        \n",
    "        prefix = \"trial#{}_l{}\".format(i, attack_args[i][\"norm\"])\n",
    "\n",
    "        trainer = pl.Trainer(\n",
    "            max_epochs=50,\n",
    "            logger= loggers.TensorBoardLogger(config.LOG_DIR, name=\"M5\"),\n",
    "            gpus=1 if torch.cuda.is_available() else None,\n",
    "            log_gpu_memory='all'\n",
    "        )\n",
    "        trainer.fit(model)\n",
    "        model.save(\"./adv_training_results/\" + prefix + \"_adv.p\")\n",
    "\n",
    "adv_train(attack_args)"
   ]
  },
  {
   "cell_type": "markdown",
   "metadata": {},
   "source": [
    "# III: Robustness Evaluation"
   ]
  },
  {
   "cell_type": "markdown",
   "metadata": {},
   "source": [
    "Running a single attack:"
   ]
  },
  {
   "cell_type": "code",
   "execution_count": null,
   "metadata": {},
   "outputs": [],
   "source": [
    "from attacks.pgd import ProjectedGradientDescent\n",
    "attack = ProjectedGradientDescent(model.model, model.train_dataloader(), {\"norm\":\"inf\", \"epsilon\": 10.}, early_stopping=-1, device='cuda', save_samples=False)\n",
    "attack.attack()\n",
    "attack.report( )"
   ]
  },
  {
   "cell_type": "markdown",
   "metadata": {},
   "source": [
    "### Documentation\n",
    "* you define an experiment: an object of class `utils.RobustnessExperiment`.\n",
    "    * pass a title & description for the experiment (optional)\n",
    "    * pass different attacks + a list of configs, e.g.    \n",
    "    \n",
    "```python\n",
    "\n",
    "exp_config = [           \n",
    "              {\n",
    "               \"attack_fn\": fast_gradient_attack, \n",
    "               \"attack_arg\": {\"norm\":[\"inf\"], \"epsilon\": [0, 0.01, 0.02, 0.05, 0.1, 0.2, 0.5, 1]},\n",
    "               \"meta\": {\"key_result\":\"acc\", \"key_config\":\"epsilon\", \"title\":\"FGSM\"}\n",
    "              }\n",
    "            ]\n",
    "```\n",
    "\n",
    "* all values in `attack_arg` must be in brackets. The attack will the be run for all of the values in each of the lists\n",
    "\n",
    "* you then can **run** the experiment by passing a **model**\n",
    "* the following will happen:\n",
    "    * initializing of the experiment creates a folder in the dir specified in config, named ID_title. Also a pickle file will be saved to the directory.\n",
    "    * if you run an attack:\n",
    "        * a sub-folder in that directory will be created for the model.\n",
    "        * all attacks will be ran\n",
    "        * for every attack, a plot will be created\n",
    "        * one json (i.e. one for each model) will be saved to the directory\n",
    "        * also some samples are stored for each attack.\n",
    "        \n",
    "        \n",
    "Workflow:\n",
    "\n",
    "* prepare experiment config and use it to initalize experiment\n",
    "* then add as many models you like\n",
    "* best: run this not in notebook but as slurm job"
   ]
  },
  {
   "cell_type": "code",
   "execution_count": 6,
   "metadata": {
    "scrolled": true
   },
   "outputs": [
    {
     "name": "stderr",
     "output_type": "stream",
     "text": [
      "/nfs/homedirs/herrmanp/miniconda3/envs/ml/lib/python3.8/site-packages/librosa/util/decorators.py:9: NumbaDeprecationWarning: An import was requested from a module that has moved location.\n",
      "Import requested from: 'numba.decorators', please update to use 'numba.core.decorators' or pin to Numba version 0.48.0. This alias will not be present in Numba version 0.50.0.\n",
      "  from numba.decorators import jit as optional_jit\n",
      "/nfs/homedirs/herrmanp/miniconda3/envs/ml/lib/python3.8/site-packages/librosa/util/decorators.py:9: NumbaDeprecationWarning: An import was requested from a module that has moved location.\n",
      "Import of 'jit' requested from: 'numba.decorators', please update to use 'numba.core.decorators' or pin to Numba version 0.48.0. This alias will not be present in Numba version 0.50.0.\n",
      "  from numba.decorators import jit as optional_jit\n"
     ]
    },
    {
     "name": "stdout",
     "output_type": "stream",
     "text": [
      "Created Dir '/nfs/students/summer-term-2020/project-4/experiments/0006_Test'\n",
      "Loading cached train data from /nfs/students/summer-term-2020/project-4/data/data_8k\n",
      "Loading cached val data from /nfs/students/summer-term-2020/project-4/data/data_8k\n"
     ]
    },
    {
     "name": "stderr",
     "output_type": "stream",
     "text": [
      "\r",
      "  0%|          | 0/4 [00:00<?, ?it/s]"
     ]
    },
    {
     "name": "stdout",
     "output_type": "stream",
     "text": [
      "Perform Attack #1/3: FGSM\n"
     ]
    },
    {
     "name": "stderr",
     "output_type": "stream",
     "text": [
      "100%|██████████| 27/27 [00:04<00:00,  6.22it/s]\n",
      " 25%|██▌       | 1/4 [00:07<00:22,  7.35s/it]"
     ]
    },
    {
     "name": "stdout",
     "output_type": "stream",
     "text": [
      "Attack-Parameters:\t{'norm': 'inf', 'epsilon': 0}\n",
      "Early stopping: \tFalse (-1)\n",
      "\n",
      "Successfully attacked:\t0\n",
      "Total attacked: \t1427\n",
      "Total processed:\t1687\n",
      "\n",
      "Success-Rate: \t\t0.0\n",
      "Perturbed Accurracy: \t0.85\n"
     ]
    },
    {
     "name": "stderr",
     "output_type": "stream",
     "text": [
      "100%|██████████| 27/27 [00:03<00:00,  7.31it/s]\n",
      " 50%|█████     | 2/4 [00:12<00:13,  6.74s/it]"
     ]
    },
    {
     "name": "stdout",
     "output_type": "stream",
     "text": [
      "Attack-Parameters:\t{'norm': 'inf', 'epsilon': 0.0001}\n",
      "Early stopping: \tFalse (-1)\n",
      "\n",
      "Successfully attacked:\t6\n",
      "Total attacked: \t1427\n",
      "Total processed:\t1687\n",
      "\n",
      "Success-Rate: \t\t0.0\n",
      "Perturbed Accurracy: \t0.84\n"
     ]
    },
    {
     "name": "stderr",
     "output_type": "stream",
     "text": [
      "100%|██████████| 27/27 [00:05<00:00,  5.05it/s]\n",
      " 75%|███████▌  | 3/4 [00:20<00:07,  7.13s/it]"
     ]
    },
    {
     "name": "stdout",
     "output_type": "stream",
     "text": [
      "Attack-Parameters:\t{'norm': 'inf', 'epsilon': 0.0002}\n",
      "Early stopping: \tFalse (-1)\n",
      "\n",
      "Successfully attacked:\t19\n",
      "Total attacked: \t1427\n",
      "Total processed:\t1687\n",
      "\n",
      "Success-Rate: \t\t0.01\n",
      "Perturbed Accurracy: \t0.83\n"
     ]
    },
    {
     "name": "stderr",
     "output_type": "stream",
     "text": [
      "100%|██████████| 27/27 [00:03<00:00,  7.29it/s]\n",
      "100%|██████████| 4/4 [00:24<00:00,  6.17s/it]\n"
     ]
    },
    {
     "name": "stdout",
     "output_type": "stream",
     "text": [
      "Attack-Parameters:\t{'norm': 'inf', 'epsilon': 0.0005}\n",
      "Early stopping: \tFalse (-1)\n",
      "\n",
      "Successfully attacked:\t30\n",
      "Total attacked: \t1427\n",
      "Total processed:\t1687\n",
      "\n",
      "Success-Rate: \t\t0.02\n",
      "Perturbed Accurracy: \t0.83\n"
     ]
    },
    {
     "data": {
      "image/png": "[encoded data removed]",
      "text/plain": [
       "<Figure size 1008x576 with 1 Axes>"
      ]
     },
     "metadata": {
      "needs_background": "light"
     },
     "output_type": "display_data"
    },
    {
     "name": "stderr",
     "output_type": "stream",
     "text": [
      "  0%|          | 0/27 [00:00<?, ?it/s]"
     ]
    },
    {
     "name": "stdout",
     "output_type": "stream",
     "text": [
      "Perform Attack #2/3: FGA L2\n"
     ]
    },
    {
     "name": "stderr",
     "output_type": "stream",
     "text": [
      "100%|██████████| 27/27 [00:03<00:00,  7.30it/s]\n",
      "  0%|          | 0/27 [00:00<?, ?it/s]86s/it]"
     ]
    },
    {
     "name": "stdout",
     "output_type": "stream",
     "text": [
      "Attack-Parameters:\t{'norm': '2', 'epsilon': 0}\n",
      "Early stopping: \tFalse (-1)\n",
      "\n",
      "Successfully attacked:\t0\n",
      "Total attacked: \t1427\n",
      "Total processed:\t1687\n",
      "\n",
      "Success-Rate: \t\t0.0\n",
      "Perturbed Accurracy: \t0.85\n"
     ]
    },
    {
     "name": "stderr",
     "output_type": "stream",
     "text": [
      "100%|██████████| 27/27 [00:03<00:00,  7.31it/s]\n",
      "  0%|          | 0/27 [00:00<?, ?it/s]87s/it]"
     ]
    },
    {
     "name": "stdout",
     "output_type": "stream",
     "text": [
      "Attack-Parameters:\t{'norm': '2', 'epsilon': 1}\n",
      "Early stopping: \tFalse (-1)\n",
      "\n",
      "Successfully attacked:\t282\n",
      "Total attacked: \t1427\n",
      "Total processed:\t1687\n",
      "\n",
      "Success-Rate: \t\t0.2\n",
      "Perturbed Accurracy: \t0.68\n"
     ]
    },
    {
     "name": "stderr",
     "output_type": "stream",
     "text": [
      "100%|██████████| 27/27 [00:03<00:00,  7.31it/s]\n",
      " 50%|█████     | 3/6 [00:11<00:11,  3.86s/it]"
     ]
    },
    {
     "name": "stdout",
     "output_type": "stream",
     "text": [
      "Attack-Parameters:\t{'norm': '2', 'epsilon': 2}\n",
      "Early stopping: \tFalse (-1)\n",
      "\n",
      "Successfully attacked:\t565\n",
      "Total attacked: \t1427\n",
      "Total processed:\t1687\n",
      "\n",
      "Success-Rate: \t\t0.4\n",
      "Perturbed Accurracy: \t0.51\n"
     ]
    },
    {
     "name": "stderr",
     "output_type": "stream",
     "text": [
      "100%|██████████| 27/27 [00:03<00:00,  7.30it/s]\n",
      " 67%|██████▋   | 4/6 [00:15<00:07,  3.91s/it]"
     ]
    },
    {
     "name": "stdout",
     "output_type": "stream",
     "text": [
      "Attack-Parameters:\t{'norm': '2', 'epsilon': 5}\n",
      "Early stopping: \tFalse (-1)\n",
      "\n",
      "Successfully attacked:\t990\n",
      "Total attacked: \t1427\n",
      "Total processed:\t1687\n",
      "\n",
      "Success-Rate: \t\t0.69\n",
      "Perturbed Accurracy: \t0.26\n"
     ]
    },
    {
     "name": "stderr",
     "output_type": "stream",
     "text": [
      "100%|██████████| 27/27 [00:03<00:00,  7.28it/s]\n",
      " 83%|████████▎ | 5/6 [00:19<00:03,  3.96s/it]"
     ]
    },
    {
     "name": "stdout",
     "output_type": "stream",
     "text": [
      "Attack-Parameters:\t{'norm': '2', 'epsilon': 10}\n",
      "Early stopping: \tFalse (-1)\n",
      "\n",
      "Successfully attacked:\t1211\n",
      "Total attacked: \t1427\n",
      "Total processed:\t1687\n",
      "\n",
      "Success-Rate: \t\t0.85\n",
      "Perturbed Accurracy: \t0.13\n"
     ]
    },
    {
     "name": "stderr",
     "output_type": "stream",
     "text": [
      "100%|██████████| 27/27 [00:03<00:00,  7.29it/s]\n",
      "100%|██████████| 6/6 [00:23<00:00,  3.95s/it]"
     ]
    },
    {
     "name": "stdout",
     "output_type": "stream",
     "text": [
      "Attack-Parameters:\t{'norm': '2', 'epsilon': 20}\n",
      "Early stopping: \tFalse (-1)\n",
      "\n",
      "Successfully attacked:\t1334\n",
      "Total attacked: \t1427\n",
      "Total processed:\t1687\n",
      "\n",
      "Success-Rate: \t\t0.93\n",
      "Perturbed Accurracy: \t0.06\n"
     ]
    },
    {
     "name": "stderr",
     "output_type": "stream",
     "text": [
      "\n"
     ]
    },
    {
     "data": {
      "image/png": "[encoded data removed]",
      "text/plain": [
       "<Figure size 1008x576 with 1 Axes>"
      ]
     },
     "metadata": {
      "needs_background": "light"
     },
     "output_type": "display_data"
    },
    {
     "name": "stderr",
     "output_type": "stream",
     "text": [
      "  0%|          | 0/27 [00:00<?, ?it/s]"
     ]
    },
    {
     "name": "stdout",
     "output_type": "stream",
     "text": [
      "Perform Attack #3/3: FGA L1\n"
     ]
    },
    {
     "name": "stderr",
     "output_type": "stream",
     "text": [
      "100%|██████████| 27/27 [00:03<00:00,  7.29it/s]\n",
      " 17%|█▋        | 1/6 [00:03<00:19,  3.84s/it]"
     ]
    },
    {
     "name": "stdout",
     "output_type": "stream",
     "text": [
      "Attack-Parameters:\t{'norm': '1', 'epsilon': 2000}\n",
      "Early stopping: \tFalse (-1)\n",
      "\n",
      "Successfully attacked:\t1198\n",
      "Total attacked: \t1427\n",
      "Total processed:\t1687\n",
      "\n",
      "Success-Rate: \t\t0.84\n",
      "Perturbed Accurracy: \t0.14\n"
     ]
    },
    {
     "name": "stderr",
     "output_type": "stream",
     "text": [
      "100%|██████████| 27/27 [00:03<00:00,  7.27it/s]\n",
      "  0%|          | 0/27 [00:00<?, ?it/s]87s/it]"
     ]
    },
    {
     "name": "stdout",
     "output_type": "stream",
     "text": [
      "Attack-Parameters:\t{'norm': '1', 'epsilon': 5000}\n",
      "Early stopping: \tFalse (-1)\n",
      "\n",
      "Successfully attacked:\t1357\n",
      "Total attacked: \t1427\n",
      "Total processed:\t1687\n",
      "\n",
      "Success-Rate: \t\t0.95\n",
      "Perturbed Accurracy: \t0.04\n"
     ]
    },
    {
     "name": "stderr",
     "output_type": "stream",
     "text": [
      "100%|██████████| 27/27 [00:03<00:00,  7.26it/s]\n",
      " 50%|█████     | 3/6 [00:11<00:11,  3.88s/it]"
     ]
    },
    {
     "name": "stdout",
     "output_type": "stream",
     "text": [
      "Attack-Parameters:\t{'norm': '1', 'epsilon': 10000.0}\n",
      "Early stopping: \tFalse (-1)\n",
      "\n",
      "Successfully attacked:\t1345\n",
      "Total attacked: \t1427\n",
      "Total processed:\t1687\n",
      "\n",
      "Success-Rate: \t\t0.94\n",
      "Perturbed Accurracy: \t0.05\n"
     ]
    },
    {
     "name": "stderr",
     "output_type": "stream",
     "text": [
      "100%|██████████| 27/27 [00:03<00:00,  7.27it/s]\n",
      "  0%|          | 0/27 [00:00<?, ?it/s]92s/it]"
     ]
    },
    {
     "name": "stdout",
     "output_type": "stream",
     "text": [
      "Attack-Parameters:\t{'norm': '1', 'epsilon': 20000.0}\n",
      "Early stopping: \tFalse (-1)\n",
      "\n",
      "Successfully attacked:\t1289\n",
      "Total attacked: \t1427\n",
      "Total processed:\t1687\n",
      "\n",
      "Success-Rate: \t\t0.9\n",
      "Perturbed Accurracy: \t0.08\n"
     ]
    },
    {
     "name": "stderr",
     "output_type": "stream",
     "text": [
      "100%|██████████| 27/27 [00:03<00:00,  7.26it/s]\n",
      " 83%|████████▎ | 5/6 [00:19<00:03,  3.91s/it]"
     ]
    },
    {
     "name": "stdout",
     "output_type": "stream",
     "text": [
      "Attack-Parameters:\t{'norm': '1', 'epsilon': 50000.0}\n",
      "Early stopping: \tFalse (-1)\n",
      "\n",
      "Successfully attacked:\t1398\n",
      "Total attacked: \t1427\n",
      "Total processed:\t1687\n",
      "\n",
      "Success-Rate: \t\t0.98\n",
      "Perturbed Accurracy: \t0.02\n"
     ]
    },
    {
     "name": "stderr",
     "output_type": "stream",
     "text": [
      "100%|██████████| 27/27 [00:03<00:00,  7.26it/s]\n",
      "100%|██████████| 6/6 [00:23<00:00,  3.92s/it]"
     ]
    },
    {
     "name": "stdout",
     "output_type": "stream",
     "text": [
      "Attack-Parameters:\t{'norm': '1', 'epsilon': 100000.0}\n",
      "Early stopping: \tFalse (-1)\n",
      "\n",
      "Successfully attacked:\t1408\n",
      "Total attacked: \t1427\n",
      "Total processed:\t1687\n",
      "\n",
      "Success-Rate: \t\t0.99\n",
      "Perturbed Accurracy: \t0.01\n"
     ]
    },
    {
     "name": "stderr",
     "output_type": "stream",
     "text": [
      "\n"
     ]
    },
    {
     "data": {
      "image/png": "[encoded data removed]",
      "text/plain": [
       "<Figure size 1008x576 with 1 Axes>"
      ]
     },
     "metadata": {
      "needs_background": "light"
     },
     "output_type": "display_data"
    },
    {
     "name": "stdout",
     "output_type": "stream",
     "text": [
      "Loading cached train data from /nfs/students/summer-term-2020/project-4/data/data_8k\n",
      "Loading cached val data from /nfs/students/summer-term-2020/project-4/data/data_8k\n"
     ]
    },
    {
     "name": "stderr",
     "output_type": "stream",
     "text": [
      "\r",
      "  0%|          | 0/4 [00:00<?, ?it/s]"
     ]
    },
    {
     "name": "stdout",
     "output_type": "stream",
     "text": [
      "Perform Attack #1/3: FGSM\n"
     ]
    },
    {
     "name": "stderr",
     "output_type": "stream",
     "text": [
      "100%|██████████| 27/27 [00:03<00:00,  7.39it/s]\n",
      "  0%|          | 0/27 [00:00<?, ?it/s]92s/it]"
     ]
    },
    {
     "name": "stdout",
     "output_type": "stream",
     "text": [
      "Attack-Parameters:\t{'norm': 'inf', 'epsilon': 0}\n",
      "Early stopping: \tFalse (-1)\n",
      "\n",
      "Successfully attacked:\t0\n",
      "Total attacked: \t1390\n",
      "Total processed:\t1687\n",
      "\n",
      "Success-Rate: \t\t0.0\n",
      "Perturbed Accurracy: \t0.82\n"
     ]
    },
    {
     "name": "stderr",
     "output_type": "stream",
     "text": [
      "100%|██████████| 27/27 [00:03<00:00,  7.42it/s]\n",
      " 50%|█████     | 2/4 [00:07<00:07,  3.89s/it]"
     ]
    },
    {
     "name": "stdout",
     "output_type": "stream",
     "text": [
      "Attack-Parameters:\t{'norm': 'inf', 'epsilon': 0.0001}\n",
      "Early stopping: \tFalse (-1)\n",
      "\n",
      "Successfully attacked:\t0\n",
      "Total attacked: \t1390\n",
      "Total processed:\t1687\n",
      "\n",
      "Success-Rate: \t\t0.0\n",
      "Perturbed Accurracy: \t0.82\n"
     ]
    },
    {
     "name": "stderr",
     "output_type": "stream",
     "text": [
      "100%|██████████| 27/27 [00:03<00:00,  7.29it/s]\n",
      " 75%|███████▌  | 3/4 [00:11<00:03,  3.92s/it]"
     ]
    },
    {
     "name": "stdout",
     "output_type": "stream",
     "text": [
      "Attack-Parameters:\t{'norm': 'inf', 'epsilon': 0.0002}\n",
      "Early stopping: \tFalse (-1)\n",
      "\n",
      "Successfully attacked:\t0\n",
      "Total attacked: \t1390\n",
      "Total processed:\t1687\n",
      "\n",
      "Success-Rate: \t\t0.0\n",
      "Perturbed Accurracy: \t0.82\n"
     ]
    },
    {
     "name": "stderr",
     "output_type": "stream",
     "text": [
      "100%|██████████| 27/27 [00:03<00:00,  7.31it/s]\n",
      "100%|██████████| 4/4 [00:15<00:00,  3.91s/it]\n"
     ]
    },
    {
     "name": "stdout",
     "output_type": "stream",
     "text": [
      "Attack-Parameters:\t{'norm': 'inf', 'epsilon': 0.0005}\n",
      "Early stopping: \tFalse (-1)\n",
      "\n",
      "Successfully attacked:\t2\n",
      "Total attacked: \t1390\n",
      "Total processed:\t1687\n",
      "\n",
      "Success-Rate: \t\t0.0\n",
      "Perturbed Accurracy: \t0.82\n"
     ]
    },
    {
     "data": {
      "image/png": "[encoded data removed]",
      "text/plain": [
       "<Figure size 1008x576 with 1 Axes>"
      ]
     },
     "metadata": {
      "needs_background": "light"
     },
     "output_type": "display_data"
    },
    {
     "name": "stderr",
     "output_type": "stream",
     "text": [
      "\r",
      "  0%|          | 0/6 [00:00<?, ?it/s]"
     ]
    },
    {
     "name": "stdout",
     "output_type": "stream",
     "text": [
      "Perform Attack #2/3: FGA L2\n"
     ]
    },
    {
     "name": "stderr",
     "output_type": "stream",
     "text": [
      "100%|██████████| 27/27 [00:03<00:00,  7.39it/s]\n",
      "  0%|          | 0/27 [00:00<?, ?it/s]84s/it]"
     ]
    },
    {
     "name": "stdout",
     "output_type": "stream",
     "text": [
      "Attack-Parameters:\t{'norm': '2', 'epsilon': 0}\n",
      "Early stopping: \tFalse (-1)\n",
      "\n",
      "Successfully attacked:\t0\n",
      "Total attacked: \t1390\n",
      "Total processed:\t1687\n",
      "\n",
      "Success-Rate: \t\t0.0\n",
      "Perturbed Accurracy: \t0.82\n"
     ]
    },
    {
     "name": "stderr",
     "output_type": "stream",
     "text": [
      "100%|██████████| 27/27 [00:03<00:00,  7.40it/s]\n",
      "  0%|          | 0/27 [00:00<?, ?it/s]83s/it]"
     ]
    },
    {
     "name": "stdout",
     "output_type": "stream",
     "text": [
      "Attack-Parameters:\t{'norm': '2', 'epsilon': 1}\n",
      "Early stopping: \tFalse (-1)\n",
      "\n",
      "Successfully attacked:\t30\n",
      "Total attacked: \t1390\n",
      "Total processed:\t1687\n",
      "\n",
      "Success-Rate: \t\t0.02\n",
      "Perturbed Accurracy: \t0.81\n"
     ]
    },
    {
     "name": "stderr",
     "output_type": "stream",
     "text": [
      "100%|██████████| 27/27 [00:03<00:00,  7.39it/s]\n",
      "  0%|          | 0/27 [00:00<?, ?it/s]82s/it]"
     ]
    },
    {
     "name": "stdout",
     "output_type": "stream",
     "text": [
      "Attack-Parameters:\t{'norm': '2', 'epsilon': 2}\n",
      "Early stopping: \tFalse (-1)\n",
      "\n",
      "Successfully attacked:\t54\n",
      "Total attacked: \t1390\n",
      "Total processed:\t1687\n",
      "\n",
      "Success-Rate: \t\t0.04\n",
      "Perturbed Accurracy: \t0.79\n"
     ]
    },
    {
     "name": "stderr",
     "output_type": "stream",
     "text": [
      "100%|██████████| 27/27 [00:03<00:00,  7.37it/s]\n",
      "  0%|          | 0/27 [00:00<?, ?it/s]83s/it]"
     ]
    },
    {
     "name": "stdout",
     "output_type": "stream",
     "text": [
      "Attack-Parameters:\t{'norm': '2', 'epsilon': 5}\n",
      "Early stopping: \tFalse (-1)\n",
      "\n",
      "Successfully attacked:\t118\n",
      "Total attacked: \t1390\n",
      "Total processed:\t1687\n",
      "\n",
      "Success-Rate: \t\t0.08\n",
      "Perturbed Accurracy: \t0.75\n"
     ]
    },
    {
     "name": "stderr",
     "output_type": "stream",
     "text": [
      "100%|██████████| 27/27 [00:03<00:00,  7.39it/s]\n",
      "  0%|          | 0/27 [00:00<?, ?it/s]82s/it]"
     ]
    },
    {
     "name": "stdout",
     "output_type": "stream",
     "text": [
      "Attack-Parameters:\t{'norm': '2', 'epsilon': 10}\n",
      "Early stopping: \tFalse (-1)\n",
      "\n",
      "Successfully attacked:\t222\n",
      "Total attacked: \t1390\n",
      "Total processed:\t1687\n",
      "\n",
      "Success-Rate: \t\t0.16\n",
      "Perturbed Accurracy: \t0.69\n"
     ]
    },
    {
     "name": "stderr",
     "output_type": "stream",
     "text": [
      "100%|██████████| 27/27 [00:03<00:00,  7.38it/s]\n",
      "100%|██████████| 6/6 [00:22<00:00,  3.81s/it]\n"
     ]
    },
    {
     "name": "stdout",
     "output_type": "stream",
     "text": [
      "Attack-Parameters:\t{'norm': '2', 'epsilon': 20}\n",
      "Early stopping: \tFalse (-1)\n",
      "\n",
      "Successfully attacked:\t427\n",
      "Total attacked: \t1390\n",
      "Total processed:\t1687\n",
      "\n",
      "Success-Rate: \t\t0.31\n",
      "Perturbed Accurracy: \t0.57\n"
     ]
    },
    {
     "data": {
      "image/png": "[encoded data removed]",
      "text/plain": [
       "<Figure size 1008x576 with 1 Axes>"
      ]
     },
     "metadata": {
      "needs_background": "light"
     },
     "output_type": "display_data"
    },
    {
     "name": "stderr",
     "output_type": "stream",
     "text": [
      "\r",
      "  0%|          | 0/6 [00:00<?, ?it/s]"
     ]
    },
    {
     "name": "stdout",
     "output_type": "stream",
     "text": [
      "Perform Attack #3/3: FGA L1\n"
     ]
    },
    {
     "name": "stderr",
     "output_type": "stream",
     "text": [
      "100%|██████████| 27/27 [00:03<00:00,  7.38it/s]\n",
      "  0%|          | 0/27 [00:00<?, ?it/s]79s/it]"
     ]
    },
    {
     "name": "stdout",
     "output_type": "stream",
     "text": [
      "Attack-Parameters:\t{'norm': '1', 'epsilon': 2000}\n",
      "Early stopping: \tFalse (-1)\n",
      "\n",
      "Successfully attacked:\t210\n",
      "Total attacked: \t1390\n",
      "Total processed:\t1687\n",
      "\n",
      "Success-Rate: \t\t0.15\n",
      "Perturbed Accurracy: \t0.7\n"
     ]
    },
    {
     "name": "stderr",
     "output_type": "stream",
     "text": [
      "100%|██████████| 27/27 [00:03<00:00,  7.37it/s]\n",
      "  0%|          | 0/27 [00:00<?, ?it/s]79s/it]"
     ]
    },
    {
     "name": "stdout",
     "output_type": "stream",
     "text": [
      "Attack-Parameters:\t{'norm': '1', 'epsilon': 5000}\n",
      "Early stopping: \tFalse (-1)\n",
      "\n",
      "Successfully attacked:\t503\n",
      "Total attacked: \t1390\n",
      "Total processed:\t1687\n",
      "\n",
      "Success-Rate: \t\t0.36\n",
      "Perturbed Accurracy: \t0.53\n"
     ]
    },
    {
     "name": "stderr",
     "output_type": "stream",
     "text": [
      "100%|██████████| 27/27 [00:03<00:00,  7.37it/s]\n",
      "  0%|          | 0/27 [00:00<?, ?it/s]79s/it]"
     ]
    },
    {
     "name": "stdout",
     "output_type": "stream",
     "text": [
      "Attack-Parameters:\t{'norm': '1', 'epsilon': 10000.0}\n",
      "Early stopping: \tFalse (-1)\n",
      "\n",
      "Successfully attacked:\t901\n",
      "Total attacked: \t1390\n",
      "Total processed:\t1687\n",
      "\n",
      "Success-Rate: \t\t0.65\n",
      "Perturbed Accurracy: \t0.29\n"
     ]
    },
    {
     "name": "stderr",
     "output_type": "stream",
     "text": [
      "100%|██████████| 27/27 [00:03<00:00,  7.33it/s]\n",
      "  0%|          | 0/27 [00:00<?, ?it/s]80s/it]"
     ]
    },
    {
     "name": "stdout",
     "output_type": "stream",
     "text": [
      "Attack-Parameters:\t{'norm': '1', 'epsilon': 20000.0}\n",
      "Early stopping: \tFalse (-1)\n",
      "\n",
      "Successfully attacked:\t975\n",
      "Total attacked: \t1390\n",
      "Total processed:\t1687\n",
      "\n",
      "Success-Rate: \t\t0.7\n",
      "Perturbed Accurracy: \t0.25\n"
     ]
    },
    {
     "name": "stderr",
     "output_type": "stream",
     "text": [
      "100%|██████████| 27/27 [00:03<00:00,  7.36it/s]\n",
      "  0%|          | 0/27 [00:00<?, ?it/s]82s/it]"
     ]
    },
    {
     "name": "stdout",
     "output_type": "stream",
     "text": [
      "Attack-Parameters:\t{'norm': '1', 'epsilon': 50000.0}\n",
      "Early stopping: \tFalse (-1)\n",
      "\n",
      "Successfully attacked:\t775\n",
      "Total attacked: \t1390\n",
      "Total processed:\t1687\n",
      "\n",
      "Success-Rate: \t\t0.56\n",
      "Perturbed Accurracy: \t0.36\n"
     ]
    },
    {
     "name": "stderr",
     "output_type": "stream",
     "text": [
      "100%|██████████| 27/27 [00:03<00:00,  7.35it/s]\n",
      "100%|██████████| 6/6 [00:22<00:00,  3.82s/it]\n"
     ]
    },
    {
     "name": "stdout",
     "output_type": "stream",
     "text": [
      "Attack-Parameters:\t{'norm': '1', 'epsilon': 100000.0}\n",
      "Early stopping: \tFalse (-1)\n",
      "\n",
      "Successfully attacked:\t773\n",
      "Total attacked: \t1390\n",
      "Total processed:\t1687\n",
      "\n",
      "Success-Rate: \t\t0.56\n",
      "Perturbed Accurracy: \t0.37\n"
     ]
    },
    {
     "data": {
      "image/png": "[encoded data removed]",
      "text/plain": [
       "<Figure size 1008x576 with 1 Axes>"
      ]
     },
     "metadata": {
      "needs_background": "light"
     },
     "output_type": "display_data"
    }
   ],
   "source": [
    "from utils.RobustnessExperiment import RobustnessExperiment\n",
    "from attacks.FGA_Batch import fast_gradient_attack\n",
    "from attacks.pgd import ProjectedGradientDescent\n",
    "\n",
    "exp_config = [{\n",
    "              \"attack_fn\": ProjectedGradientDescent, \n",
    "              \"attack_arg\": {\"norm\":[\"inf\"], \"epsilon\": [0, 0.0001, 0.0002, 0.0005, 0.01, 0.02, 0.05, 0.1, 0.2, 0.5, 1, 10]},\n",
    "              \"meta\": {\"key_result\":\"success_rate\", \"key_config\":\"epsilon\", \"title\":\"FGSM\"}\n",
    "             },\n",
    "            {\n",
    "            \"attack_fn\": ProjectedGradientDescent, \n",
    "            \"attack_arg\": {\"norm\":[\"2\"], \"epsilon\": [0, 1, 2, 5, 10, 20, 50, 100, 200, 500, 1000]},\n",
    "            \"meta\": {\"key_result\":\"success_rate\", \"key_config\":\"epsilon\", \"title\":\"FGA L2\"}\n",
    "            },\n",
    "            {\n",
    "            \"attack_fn\": ProjectedGradientDescent, \n",
    "            \"attack_arg\": {\"norm\":[\"1\"], \"epsilon\": [100, 200, 500, 1000, 2000, 5000, 1e4, 2e4, 5e4, 1e5]},\n",
    "            \"meta\": {\"key_result\":\"success_rate\", \"key_config\":\"epsilon\", \"title\":\"FGA L1\"}\n",
    "            }]\n",
    "\n",
    "experiment = RobustnessExperiment(exp_config, title=\"ProjectedGD L1+L2+FGSM\")\n",
    "experiment.run(\"./1592000682.p\", M5PLModule) #20 epochs normal training with hparams above\n",
    "experiment.run(\"./1592000852_adv.p\", M5PLModule) #5 epochs adv training with hparams above\n",
    "experiment.run(\"./1592007017_adv.p\", M5PLModule) #20 epochs '' L2, 15 fixed\n",
    "experiment.run(\"./1592008146_adv.p\", M5PLModule) #50 epochs '' \n",
    "experiment.run(\"./1592010563_adv.p\", M5PLModule) # 50 epochs, L1, 5000 fixed"
   ]
  },
  {
   "cell_type": "code",
   "execution_count": 8,
   "metadata": {
    "scrolled": true
   },
   "outputs": [
    {
     "data": {
      "image/png": "[encoded data removed]",
      "text/plain": [
       "<Figure size 1008x576 with 1 Axes>"
      ]
     },
     "metadata": {
      "needs_background": "light"
     },
     "output_type": "display_data"
    },
    {
     "data": {
      "image/png": "[encoded data removed]",
      "text/plain": [
       "<Figure size 1008x576 with 1 Axes>"
      ]
     },
     "metadata": {
      "needs_background": "light"
     },
     "output_type": "display_data"
    },
    {
     "data": {
      "image/png": "[encoded data removed]",
      "text/plain": [
       "<Figure size 1008x576 with 1 Axes>"
      ]
     },
     "metadata": {
      "needs_background": "light"
     },
     "output_type": "display_data"
    }
   ],
   "source": [
    "from utils.Visual import drawPlot\n",
    "\n",
    "config_key = \"epsilon\"\n",
    "results_key = \"success_rate\"\n",
    "\n",
    "for i, attack in enumerate(experiment.all_results.keys()):\n",
    "    xs = [ res[config_key] for res in experiment.all_results[attack][\"CONFIGS\"]] \n",
    "    vis_objects = []\n",
    "    for m, model in enumerate(list(experiment.all_results[attack].keys())[1:]):\n",
    "        ys = [ res[results_key] for res in experiment.all_results[attack][model]]\n",
    "        vis_object = {\"data\": ys, \"color\" : \"rbgycmk\"[m], \"label\": model}\n",
    "        vis_objects.append(vis_object)\n",
    "\n",
    "    drawPlot(x = xs, data = vis_objects, x_label = config_key, y_label = results_key, \n",
    "             title = attack, \n",
    "             save_path = os.path.join(experiment.dir, \"plot_comparison_{}.pdf\".format(attack)))\n",
    "\n"
   ]
  },
  {
   "cell_type": "code",
   "execution_count": 10,
   "metadata": {},
   "outputs": [
    {
     "data": {
      "text/plain": [
       "{'FGSM': {'CONFIGS': [{'norm': 'inf', 'epsilon': 0},\n",
       "   {'norm': 'inf', 'epsilon': 0.0001},\n",
       "   {'norm': 'inf', 'epsilon': 0.0002},\n",
       "   {'norm': 'inf', 'epsilon': 0.0005}],\n",
       "  '1592000682.p': [{'success_rate': 0.0, 'acc': 0.8458802608180201},\n",
       "   {'success_rate': 0.004204625087596356, 'acc': 0.8423236514522822},\n",
       "   {'success_rate': 0.013314646110721794, 'acc': 0.8346176644931832},\n",
       "   {'success_rate': 0.02102312543798178, 'acc': 0.8280972139893301}],\n",
       "  '1592010563_adv.p': [{'success_rate': 0.0, 'acc': 0.8239478363959691},\n",
       "   {'success_rate': 0.0, 'acc': 0.8239478363959691},\n",
       "   {'success_rate': 0.0, 'acc': 0.8239478363959691},\n",
       "   {'success_rate': 0.0014388489208633094, 'acc': 0.8227622999407231}]},\n",
       " 'FGA L2': {'CONFIGS': [{'norm': '2', 'epsilon': 0},\n",
       "   {'norm': '2', 'epsilon': 1},\n",
       "   {'norm': '2', 'epsilon': 2},\n",
       "   {'norm': '2', 'epsilon': 5},\n",
       "   {'norm': '2', 'epsilon': 10},\n",
       "   {'norm': '2', 'epsilon': 20}],\n",
       "  '1592000682.p': [{'success_rate': 0.0, 'acc': 0.8458802608180201},\n",
       "   {'success_rate': 0.19761737911702873, 'acc': 0.6787196206283344},\n",
       "   {'success_rate': 0.3959355290819902, 'acc': 0.5109662122110255},\n",
       "   {'success_rate': 0.6937631394533987, 'acc': 0.25903971547125076},\n",
       "   {'success_rate': 0.8486334968465312, 'acc': 0.12803793716656786},\n",
       "   {'success_rate': 0.9348283111422565, 'acc': 0.05512744516893894}],\n",
       "  '1592010563_adv.p': [{'success_rate': 0.0, 'acc': 0.8239478363959691},\n",
       "   {'success_rate': 0.02158273381294964, 'acc': 0.8061647895672792},\n",
       "   {'success_rate': 0.03884892086330935, 'acc': 0.7919383521043272},\n",
       "   {'success_rate': 0.08489208633093526, 'acc': 0.7540011855364552},\n",
       "   {'success_rate': 0.15971223021582734, 'acc': 0.6923532898636633},\n",
       "   {'success_rate': 0.30719424460431655, 'acc': 0.5708358032009484}]},\n",
       " 'FGA L1': {'CONFIGS': [{'norm': '1', 'epsilon': 2000},\n",
       "   {'norm': '1', 'epsilon': 5000},\n",
       "   {'norm': '1', 'epsilon': 10000.0},\n",
       "   {'norm': '1', 'epsilon': 20000.0},\n",
       "   {'norm': '1', 'epsilon': 50000.0},\n",
       "   {'norm': '1', 'epsilon': 100000.0}],\n",
       "  '1592000682.p': [{'success_rate': 0.8395234758234057,\n",
       "    'acc': 0.13574392412566685},\n",
       "   {'success_rate': 0.9509460406447092, 'acc': 0.04149377593360996},\n",
       "   {'success_rate': 0.9425367904695164, 'acc': 0.04860699466508595},\n",
       "   {'success_rate': 0.9032936229852838, 'acc': 0.08180201541197392},\n",
       "   {'success_rate': 0.979677645409951, 'acc': 0.017190278601066984},\n",
       "   {'success_rate': 0.9866853538892782, 'acc': 0.011262596324836989}],\n",
       "  '1592010563_adv.p': [{'success_rate': 0.1510791366906475,\n",
       "    'acc': 0.6994665085951393},\n",
       "   {'success_rate': 0.3618705035971223, 'acc': 0.5257854179016005},\n",
       "   {'success_rate': 0.6482014388489209, 'acc': 0.28986366330764674},\n",
       "   {'success_rate': 0.7014388489208633, 'acc': 0.24599881446354474},\n",
       "   {'success_rate': 0.5575539568345323, 'acc': 0.3645524599881446},\n",
       "   {'success_rate': 0.556115107913669, 'acc': 0.3657379964433906}]}}"
      ]
     },
     "execution_count": 10,
     "metadata": {},
     "output_type": "execute_result"
    }
   ],
   "source": [
    "experiment.all_results"
   ]
  },
  {
   "cell_type": "markdown",
   "metadata": {},
   "source": [
    "# ToDo\n",
    "\n",
    "* adv training:\n",
    "    * save training config for each model\n",
    "\n",
    "* only run experiments have not been conducted yet\n",
    "* load experiments\n",
    "\n",
    "* compute sum or integral of curve, evaluation of large list of models\n",
    "* provide nickname for each model\n",
    "* adv training:\n",
    "    * sample different epochs. / do checkpoints\n",
    "    * optuna: what we optimize is the accuracy on FIXED (0.001, ...) epsilon set!!!\n",
    "\n"
   ]
  },
  {
   "cell_type": "code",
   "execution_count": null,
   "metadata": {},
   "outputs": [],
   "source": [
    "experiment.run(\"./adv_training_results/trial#1_linf_adv.p\", M5PLModule)"
   ]
  },
  {
   "cell_type": "markdown",
   "metadata": {},
   "source": []
  }
 ],
 "metadata": {
  "kernelspec": {
   "display_name": "Python 3",
   "language": "python",
   "name": "python3"
  },
  "language_info": {
   "codemirror_mode": {
    "name": "ipython",
    "version": 3
   },
   "file_extension": ".py",
   "mimetype": "text/x-python",
   "name": "python",
   "nbconvert_exporter": "python",
   "pygments_lexer": "ipython3",
   "version": "3.8.2"
  }
 },
 "nbformat": 4,
 "nbformat_minor": 4
}
