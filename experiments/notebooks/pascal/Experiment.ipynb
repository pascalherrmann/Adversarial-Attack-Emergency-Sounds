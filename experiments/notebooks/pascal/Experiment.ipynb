{
 "cells": [
  {
   "cell_type": "code",
   "execution_count": 1,
   "metadata": {},
   "outputs": [],
   "source": [
    "%load_ext autoreload\n",
    "%autoreload 2\n",
    "\n",
    "import os\n",
    "import sys\n",
    "module_path = os.path.abspath(os.path.join('../../../src/'))\n",
    "if module_path not in sys.path:\n",
    "    sys.path.append(module_path)"
   ]
  },
  {
   "cell_type": "markdown",
   "metadata": {},
   "source": [
    "# Experiments\n",
    "\n",
    "Here we showcase 3 types of experiments:\n",
    "\n",
    "* **Hyperparameter optimization** for training of a model (*using Optuna*) **[not ready yet]**\n",
    "\n",
    "* **Adversarial Training** of a model for different hyperparameters\n",
    "\n",
    "* Evaluation of **Adversarial Attacks**\n",
    "\n",
    "\n",
    "Preconditions:\n",
    "\n",
    "* you need a ***PL-Module*** that specifies your model class and dataset!"
   ]
  },
  {
   "cell_type": "markdown",
   "metadata": {},
   "source": [
    "# Training of a Model\n",
    "\n",
    "* define your hyperparameters in `hparams`\n",
    "* create your instance of `PLModule`\n",
    "* define a trainer (e.g., define max epochs, ...)\n",
    "* fit your model!"
   ]
  },
  {
   "cell_type": "code",
   "execution_count": 2,
   "metadata": {},
   "outputs": [],
   "source": [
    "import numpy as np\n",
    "import torch\n",
    "import pytorch_lightning as pl\n",
    "from pytorch_lightning import loggers\n",
    "import config"
   ]
  },
  {
   "cell_type": "code",
   "execution_count": 3,
   "metadata": {},
   "outputs": [
    {
     "name": "stdout",
     "output_type": "stream",
     "text": [
      "Loading cached train data from /nfs/students/summer-term-2020/project-4/data/data_8k\n",
      "Loading cached val data from /nfs/students/summer-term-2020/project-4/data/data_8k\n"
     ]
    }
   ],
   "source": [
    "from classification.models.M5 import M5, M5PLModule\n",
    "\n",
    "hparams = {\n",
    "    \"batch_size\": 64,\n",
    "    \"learning_rate\": 3e-4,\n",
    "    \"weight_decay\": 0.001,\n",
    "    \"lr_decay\": 0.95\n",
    "}\n",
    "\n",
    "model = M5PLModule(hparams)\n",
    "model.prepare_data()"
   ]
  },
  {
   "cell_type": "code",
   "execution_count": 4,
   "metadata": {},
   "outputs": [
    {
     "name": "stderr",
     "output_type": "stream",
     "text": [
      "GPU available: True, used: True\n",
      "No environment variable for node rank defined. Set as 0.\n",
      "CUDA_VISIBLE_DEVICES: [0]\n",
      "/nfs/homedirs/herrmanp/miniconda3/envs/ml/lib/python3.8/site-packages/pytorch_lightning/utilities/distributed.py:23: RuntimeWarning: You have defined a `val_dataloader()` and have defined a `validation_step()`, you may also want to define `validation_epoch_end()` for accumulating stats.\n",
      "  warnings.warn(*args, **kwargs)\n"
     ]
    },
    {
     "name": "stdout",
     "output_type": "stream",
     "text": [
      "Loading cached train data from /nfs/students/summer-term-2020/project-4/data/data_8k\n",
      "Loading cached val data from /nfs/students/summer-term-2020/project-4/data/data_8k\n"
     ]
    },
    {
     "name": "stderr",
     "output_type": "stream",
     "text": [
      "Set SLURM handle signals.\n",
      "\n",
      "   | Name           | Type         | Params\n",
      "--------------------------------------------\n",
      "0  | model          | M5           | 555 K \n",
      "1  | model.model    | Sequential   | 555 K \n",
      "2  | model.model.0  | Conv1d       | 10 K  \n",
      "3  | model.model.1  | BatchNorm1d  | 256   \n",
      "4  | model.model.2  | MaxPool1d    | 0     \n",
      "5  | model.model.3  | Dropout      | 0     \n",
      "6  | model.model.4  | Conv1d       | 49 K  \n",
      "7  | model.model.5  | BatchNorm1d  | 256   \n",
      "8  | model.model.6  | MaxPool1d    | 0     \n",
      "9  | model.model.7  | Dropout      | 0     \n",
      "10 | model.model.8  | Conv1d       | 98 K  \n",
      "11 | model.model.9  | BatchNorm1d  | 512   \n",
      "12 | model.model.10 | MaxPool1d    | 0     \n",
      "13 | model.model.11 | Dropout      | 0     \n",
      "14 | model.model.12 | Conv1d       | 393 K \n",
      "15 | model.model.13 | BatchNorm1d  | 1 K   \n",
      "16 | model.model.14 | MaxPool1d    | 0     \n",
      "17 | model.model.15 | AvgPool1d    | 0     \n",
      "18 | model.model.16 | PermuteLayer | 0     \n",
      "19 | model.model.17 | Linear       | 1 K   \n",
      "/nfs/homedirs/herrmanp/miniconda3/envs/ml/lib/python3.8/site-packages/pytorch_lightning/utilities/distributed.py:23: UserWarning: The dataloader, val dataloader 0, does not have many workers which may be a bottleneck. Consider increasing the value of the `num_workers` argument` in the `DataLoader` init to improve performance.\n",
      "  warnings.warn(*args, **kwargs)\n"
     ]
    },
    {
     "data": {
      "application/vnd.jupyter.widget-view+json": {
       "model_id": "",
       "version_major": 2,
       "version_minor": 0
      },
      "text/plain": [
       "HBox(children=(FloatProgress(value=1.0, bar_style='info', description='Validation sanity check', layout=Layout…"
      ]
     },
     "metadata": {},
     "output_type": "display_data"
    },
    {
     "name": "stdout",
     "output_type": "stream",
     "text": [
      "Val-Acc=0.03793716656787196\n"
     ]
    },
    {
     "name": "stderr",
     "output_type": "stream",
     "text": [
      "/nfs/homedirs/herrmanp/miniconda3/envs/ml/lib/python3.8/site-packages/pytorch_lightning/utilities/distributed.py:23: UserWarning: The dataloader, train dataloader, does not have many workers which may be a bottleneck. Consider increasing the value of the `num_workers` argument` in the `DataLoader` init to improve performance.\n",
      "  warnings.warn(*args, **kwargs)\n"
     ]
    },
    {
     "data": {
      "application/vnd.jupyter.widget-view+json": {
       "model_id": "e9325fddbe5449d19aebd2bdf8446185",
       "version_major": 2,
       "version_minor": 0
      },
      "text/plain": [
       "HBox(children=(FloatProgress(value=1.0, bar_style='info', description='Training', layout=Layout(flex='2'), max…"
      ]
     },
     "metadata": {},
     "output_type": "display_data"
    },
    {
     "data": {
      "application/vnd.jupyter.widget-view+json": {
       "model_id": "",
       "version_major": 2,
       "version_minor": 0
      },
      "text/plain": [
       "HBox(children=(FloatProgress(value=1.0, bar_style='info', description='Validating', layout=Layout(flex='2'), m…"
      ]
     },
     "metadata": {},
     "output_type": "display_data"
    },
    {
     "name": "stdout",
     "output_type": "stream",
     "text": [
      "Val-Acc=0.8174273858921162\n"
     ]
    },
    {
     "data": {
      "application/vnd.jupyter.widget-view+json": {
       "model_id": "",
       "version_major": 2,
       "version_minor": 0
      },
      "text/plain": [
       "HBox(children=(FloatProgress(value=1.0, bar_style='info', description='Validating', layout=Layout(flex='2'), m…"
      ]
     },
     "metadata": {},
     "output_type": "display_data"
    },
    {
     "name": "stdout",
     "output_type": "stream",
     "text": [
      "Val-Acc=0.8156490812092472\n",
      "\n"
     ]
    },
    {
     "data": {
      "text/plain": [
       "1"
      ]
     },
     "execution_count": 4,
     "metadata": {},
     "output_type": "execute_result"
    }
   ],
   "source": [
    "trainer = pl.Trainer(\n",
    "    max_epochs = 2,\n",
    "    logger = loggers.TensorBoardLogger(config.LOG_DIR, name=\"M5\"),\n",
    "    gpus = 1 if torch.cuda.is_available() else None,\n",
    "    log_gpu_memory = 'all'\n",
    ")\n",
    "\n",
    "trainer.fit(model)"
   ]
  },
  {
   "cell_type": "markdown",
   "metadata": {},
   "source": [
    "# II: Adversarial Training\n",
    "\n",
    "* same as normal training, but call **`model.setAttack`** "
   ]
  },
  {
   "cell_type": "code",
   "execution_count": 5,
   "metadata": {},
   "outputs": [
    {
     "name": "stdout",
     "output_type": "stream",
     "text": [
      "Loading cached train data from /nfs/students/summer-term-2020/project-4/data/data_8k\n",
      "Loading cached val data from /nfs/students/summer-term-2020/project-4/data/data_8k\n"
     ]
    },
    {
     "name": "stderr",
     "output_type": "stream",
     "text": [
      "GPU available: True, used: True\n",
      "No environment variable for node rank defined. Set as 0.\n",
      "CUDA_VISIBLE_DEVICES: [0]\n",
      "/nfs/homedirs/herrmanp/miniconda3/envs/ml/lib/python3.8/site-packages/pytorch_lightning/utilities/distributed.py:23: RuntimeWarning: You have defined a `val_dataloader()` and have defined a `validation_step()`, you may also want to define `validation_epoch_end()` for accumulating stats.\n",
      "  warnings.warn(*args, **kwargs)\n"
     ]
    },
    {
     "name": "stdout",
     "output_type": "stream",
     "text": [
      "Loading cached train data from /nfs/students/summer-term-2020/project-4/data/data_8k\n",
      "Loading cached val data from /nfs/students/summer-term-2020/project-4/data/data_8k\n"
     ]
    },
    {
     "name": "stderr",
     "output_type": "stream",
     "text": [
      "Set SLURM handle signals.\n",
      "\n",
      "   | Name           | Type         | Params\n",
      "--------------------------------------------\n",
      "0  | model          | M5           | 555 K \n",
      "1  | model.model    | Sequential   | 555 K \n",
      "2  | model.model.0  | Conv1d       | 10 K  \n",
      "3  | model.model.1  | BatchNorm1d  | 256   \n",
      "4  | model.model.2  | MaxPool1d    | 0     \n",
      "5  | model.model.3  | Dropout      | 0     \n",
      "6  | model.model.4  | Conv1d       | 49 K  \n",
      "7  | model.model.5  | BatchNorm1d  | 256   \n",
      "8  | model.model.6  | MaxPool1d    | 0     \n",
      "9  | model.model.7  | Dropout      | 0     \n",
      "10 | model.model.8  | Conv1d       | 98 K  \n",
      "11 | model.model.9  | BatchNorm1d  | 512   \n",
      "12 | model.model.10 | MaxPool1d    | 0     \n",
      "13 | model.model.11 | Dropout      | 0     \n",
      "14 | model.model.12 | Conv1d       | 393 K \n",
      "15 | model.model.13 | BatchNorm1d  | 1 K   \n",
      "16 | model.model.14 | MaxPool1d    | 0     \n",
      "17 | model.model.15 | AvgPool1d    | 0     \n",
      "18 | model.model.16 | PermuteLayer | 0     \n",
      "19 | model.model.17 | Linear       | 1 K   \n",
      "/nfs/homedirs/herrmanp/miniconda3/envs/ml/lib/python3.8/site-packages/pytorch_lightning/utilities/distributed.py:23: UserWarning: The dataloader, val dataloader 0, does not have many workers which may be a bottleneck. Consider increasing the value of the `num_workers` argument` in the `DataLoader` init to improve performance.\n",
      "  warnings.warn(*args, **kwargs)\n"
     ]
    },
    {
     "data": {
      "application/vnd.jupyter.widget-view+json": {
       "model_id": "",
       "version_major": 2,
       "version_minor": 0
      },
      "text/plain": [
       "HBox(children=(FloatProgress(value=1.0, bar_style='info', description='Validation sanity check', layout=Layout…"
      ]
     },
     "metadata": {},
     "output_type": "display_data"
    },
    {
     "name": "stdout",
     "output_type": "stream",
     "text": [
      "Val-Acc=0.03793716656787196\n"
     ]
    },
    {
     "name": "stderr",
     "output_type": "stream",
     "text": [
      "/nfs/homedirs/herrmanp/miniconda3/envs/ml/lib/python3.8/site-packages/pytorch_lightning/utilities/distributed.py:23: UserWarning: The dataloader, train dataloader, does not have many workers which may be a bottleneck. Consider increasing the value of the `num_workers` argument` in the `DataLoader` init to improve performance.\n",
      "  warnings.warn(*args, **kwargs)\n"
     ]
    },
    {
     "data": {
      "application/vnd.jupyter.widget-view+json": {
       "model_id": "3971cddf639e4495bb6fdde61023da8d",
       "version_major": 2,
       "version_minor": 0
      },
      "text/plain": [
       "HBox(children=(FloatProgress(value=1.0, bar_style='info', description='Training', layout=Layout(flex='2'), max…"
      ]
     },
     "metadata": {},
     "output_type": "display_data"
    },
    {
     "data": {
      "application/vnd.jupyter.widget-view+json": {
       "model_id": "",
       "version_major": 2,
       "version_minor": 0
      },
      "text/plain": [
       "HBox(children=(FloatProgress(value=1.0, bar_style='info', description='Validating', layout=Layout(flex='2'), m…"
      ]
     },
     "metadata": {},
     "output_type": "display_data"
    },
    {
     "name": "stdout",
     "output_type": "stream",
     "text": [
      "Val-Acc=0.8085358624777712\n"
     ]
    },
    {
     "data": {
      "application/vnd.jupyter.widget-view+json": {
       "model_id": "",
       "version_major": 2,
       "version_minor": 0
      },
      "text/plain": [
       "HBox(children=(FloatProgress(value=1.0, bar_style='info', description='Validating', layout=Layout(flex='2'), m…"
      ]
     },
     "metadata": {},
     "output_type": "display_data"
    },
    {
     "name": "stdout",
     "output_type": "stream",
     "text": [
      "Val-Acc=0.8026081802015412\n"
     ]
    },
    {
     "data": {
      "application/vnd.jupyter.widget-view+json": {
       "model_id": "",
       "version_major": 2,
       "version_minor": 0
      },
      "text/plain": [
       "HBox(children=(FloatProgress(value=1.0, bar_style='info', description='Validating', layout=Layout(flex='2'), m…"
      ]
     },
     "metadata": {},
     "output_type": "display_data"
    },
    {
     "name": "stdout",
     "output_type": "stream",
     "text": [
      "Val-Acc=0.8032009484291642\n",
      "\n"
     ]
    }
   ],
   "source": [
    "from attacks.pgd import ProjectedGradientDescent\n",
    "\n",
    "attack_args = [{\"norm\": \"2\", \"epsilon\": 15}]\n",
    "\n",
    "def adv_train(attack_args):\n",
    "    for i in range(len(attack_args)):\n",
    "        model = M5PLModule(hparams)\n",
    "        model.prepare_data()\n",
    "        model.setAttack(ProjectedGradientDescent, attack_args[i])\n",
    "\n",
    "        trainer = pl.Trainer(\n",
    "            max_epochs=3,\n",
    "            logger= loggers.TensorBoardLogger(config.LOG_DIR, name=\"M5\"),\n",
    "            gpus=1 if torch.cuda.is_available() else None,\n",
    "            log_gpu_memory='all'\n",
    "        )\n",
    "        trainer.fit(model)\n",
    "\n",
    "        torch.save( {\"state_dict\": model.model.state_dict(), \"hparams\": model.hparams, \"attack_args\": attack_args[i]}, \"2first_search_{}.pt\".format(i))\n",
    "\n",
    "\n",
    "adv_train(attack_args)"
   ]
  },
  {
   "cell_type": "markdown",
   "metadata": {},
   "source": [
    "# III: Robustness Evaluation"
   ]
  },
  {
   "cell_type": "markdown",
   "metadata": {},
   "source": [
    "Running a single attack:"
   ]
  },
  {
   "cell_type": "code",
   "execution_count": 6,
   "metadata": {},
   "outputs": [
    {
     "name": "stderr",
     "output_type": "stream",
     "text": [
      "100%|██████████| 80/80 [00:11<00:00,  7.26it/s]\n"
     ]
    },
    {
     "name": "stdout",
     "output_type": "stream",
     "text": [
      "Attack-Parameters:\t{'norm': 'inf', 'epsilon': 10.0}\n",
      "Early stopping: \tFalse (-1)\n",
      "\n",
      "Successfully attacked:\t4096\n",
      "Total attacked: \t4096\n",
      "Total processed:\t5060\n",
      "\n",
      "Success-Rate: \t\t1.0\n",
      "Perturbed Accurracy: \t0.0\n"
     ]
    },
    {
     "data": {
      "text/plain": [
       "{'success_rate': 1.0}"
      ]
     },
     "execution_count": 6,
     "metadata": {},
     "output_type": "execute_result"
    }
   ],
   "source": [
    "from attacks.pgd import ProjectedGradientDescent\n",
    "attack = ProjectedGradientDescent(model.model, model.train_dataloader(), {\"norm\":\"inf\", \"epsilon\": 10.}, early_stopping=-1, device='cuda', save_samples=False)\n",
    "attack.attack()\n",
    "attack.report( )"
   ]
  },
  {
   "cell_type": "markdown",
   "metadata": {},
   "source": [
    "### Documentation\n",
    "* you define an experiment: an object of class `utils.RobustnessExperiment`.\n",
    "    * pass a title & description for the experiment (optional)\n",
    "    * pass different attacks + a list of configs, e.g.    \n",
    "    \n",
    "```python\n",
    "\n",
    "exp_config = [           \n",
    "              {\n",
    "               \"attack_fn\": fast_gradient_attack, \n",
    "               \"attack_arg\": {\"norm\":[\"inf\"], \"epsilon\": [0, 0.01, 0.02, 0.05, 0.1, 0.2, 0.5, 1]},\n",
    "               \"meta\": {\"key_result\":\"acc\", \"key_config\":\"epsilon\", \"title\":\"FGSM\"}\n",
    "              }\n",
    "            ]\n",
    "```\n",
    "\n",
    "* all values in `attack_arg` must be in brackets. The attack will the be run for all of the values in each of the lists\n",
    "\n",
    "* you then can **run** the experiment by passing a **model**\n",
    "* the following will happen:\n",
    "    * initializing of the experiment creates a folder in the dir specified in config, named ID_title. Also a pickle file will be saved to the directory.\n",
    "    * if you run an attack:\n",
    "        * a sub-folder in that directory will be created for the model.\n",
    "        * all attacks will be ran\n",
    "        * for every attack, a plot will be created\n",
    "        * one json (i.e. one for each model) will be saved to the directory\n",
    "        * also some samples are stored for each attack."
   ]
  },
  {
   "cell_type": "code",
   "execution_count": 7,
   "metadata": {
    "scrolled": false
   },
   "outputs": [
    {
     "name": "stderr",
     "output_type": "stream",
     "text": [
      "/nfs/homedirs/herrmanp/miniconda3/envs/ml/lib/python3.8/site-packages/librosa/util/decorators.py:9: NumbaDeprecationWarning: An import was requested from a module that has moved location.\n",
      "Import requested from: 'numba.decorators', please update to use 'numba.core.decorators' or pin to Numba version 0.48.0. This alias will not be present in Numba version 0.50.0.\n",
      "  from numba.decorators import jit as optional_jit\n",
      "/nfs/homedirs/herrmanp/miniconda3/envs/ml/lib/python3.8/site-packages/librosa/util/decorators.py:9: NumbaDeprecationWarning: An import was requested from a module that has moved location.\n",
      "Import of 'jit' requested from: 'numba.decorators', please update to use 'numba.core.decorators' or pin to Numba version 0.48.0. This alias will not be present in Numba version 0.50.0.\n",
      "  from numba.decorators import jit as optional_jit\n"
     ]
    },
    {
     "name": "stdout",
     "output_type": "stream",
     "text": [
      "Created Dir '/nfs/students/summer-term-2020/project-4/experiments/0036_Test'\n",
      "Loading cached train data from /nfs/students/summer-term-2020/project-4/data/data_8k\n",
      "Loading cached val data from /nfs/students/summer-term-2020/project-4/data/data_8k\n"
     ]
    },
    {
     "name": "stderr",
     "output_type": "stream",
     "text": [
      "\r",
      "  0%|          | 0/12 [00:00<?, ?it/s]"
     ]
    },
    {
     "name": "stdout",
     "output_type": "stream",
     "text": [
      "Created Dir '/nfs/students/summer-term-2020/project-4/experiments/0036_Test/adv_totaly_hig_50epochs.pt'\n",
      "Perform Attack #1/3: FGSM\n"
     ]
    },
    {
     "name": "stderr",
     "output_type": "stream",
     "text": [
      "100%|██████████| 27/27 [00:03<00:00,  7.37it/s]\n",
      "  8%|▊         | 1/12 [00:08<01:32,  8.41s/it]"
     ]
    },
    {
     "name": "stdout",
     "output_type": "stream",
     "text": [
      "Attack-Parameters:\t{'norm': 'inf', 'epsilon': 0}\n",
      "Early stopping: \tFalse (-1)\n",
      "\n",
      "Successfully attacked:\t0\n",
      "Total attacked: \t1356\n",
      "Total processed:\t1687\n",
      "\n",
      "Success-Rate: \t\t0.0\n",
      "Perturbed Accurracy: \t0.8\n"
     ]
    },
    {
     "name": "stderr",
     "output_type": "stream",
     "text": [
      "100%|██████████| 27/27 [00:03<00:00,  7.50it/s]\n",
      " 17%|█▋        | 2/12 [00:12<01:10,  7.07s/it]"
     ]
    },
    {
     "name": "stdout",
     "output_type": "stream",
     "text": [
      "Attack-Parameters:\t{'norm': 'inf', 'epsilon': 0.0001}\n",
      "Early stopping: \tFalse (-1)\n",
      "\n",
      "Successfully attacked:\t4\n",
      "Total attacked: \t1356\n",
      "Total processed:\t1687\n",
      "\n",
      "Success-Rate: \t\t0.0\n",
      "Perturbed Accurracy: \t0.8\n"
     ]
    },
    {
     "name": "stderr",
     "output_type": "stream",
     "text": [
      "100%|██████████| 27/27 [00:03<00:00,  7.34it/s]\n",
      "  0%|          | 0/27 [00:00<?, ?it/s].57s/it]"
     ]
    },
    {
     "name": "stdout",
     "output_type": "stream",
     "text": [
      "Attack-Parameters:\t{'norm': 'inf', 'epsilon': 0.0002}\n",
      "Early stopping: \tFalse (-1)\n",
      "\n",
      "Successfully attacked:\t7\n",
      "Total attacked: \t1356\n",
      "Total processed:\t1687\n",
      "\n",
      "Success-Rate: \t\t0.01\n",
      "Perturbed Accurracy: \t0.8\n"
     ]
    },
    {
     "name": "stderr",
     "output_type": "stream",
     "text": [
      "100%|██████████| 27/27 [00:03<00:00,  7.50it/s]\n",
      "  0%|          | 0/27 [00:00<?, ?it/s].42s/it]"
     ]
    },
    {
     "name": "stdout",
     "output_type": "stream",
     "text": [
      "Attack-Parameters:\t{'norm': 'inf', 'epsilon': 0.0005}\n",
      "Early stopping: \tFalse (-1)\n",
      "\n",
      "Successfully attacked:\t18\n",
      "Total attacked: \t1356\n",
      "Total processed:\t1687\n",
      "\n",
      "Success-Rate: \t\t0.01\n",
      "Perturbed Accurracy: \t0.79\n"
     ]
    },
    {
     "name": "stderr",
     "output_type": "stream",
     "text": [
      "100%|██████████| 27/27 [00:03<00:00,  7.49it/s]\n",
      " 42%|████▏     | 5/12 [00:28<00:39,  5.61s/it]"
     ]
    },
    {
     "name": "stdout",
     "output_type": "stream",
     "text": [
      "Attack-Parameters:\t{'norm': 'inf', 'epsilon': 0.01}\n",
      "Early stopping: \tFalse (-1)\n",
      "\n",
      "Successfully attacked:\t232\n",
      "Total attacked: \t1356\n",
      "Total processed:\t1687\n",
      "\n",
      "Success-Rate: \t\t0.17\n",
      "Perturbed Accurracy: \t0.67\n"
     ]
    },
    {
     "name": "stderr",
     "output_type": "stream",
     "text": [
      "100%|██████████| 27/27 [00:03<00:00,  7.48it/s]\n",
      " 50%|█████     | 6/12 [00:32<00:30,  5.09s/it]"
     ]
    },
    {
     "name": "stdout",
     "output_type": "stream",
     "text": [
      "Attack-Parameters:\t{'norm': 'inf', 'epsilon': 0.02}\n",
      "Early stopping: \tFalse (-1)\n",
      "\n",
      "Successfully attacked:\t368\n",
      "Total attacked: \t1356\n",
      "Total processed:\t1687\n",
      "\n",
      "Success-Rate: \t\t0.27\n",
      "Perturbed Accurracy: \t0.59\n"
     ]
    },
    {
     "name": "stderr",
     "output_type": "stream",
     "text": [
      "100%|██████████| 27/27 [00:03<00:00,  7.47it/s]\n",
      " 58%|█████▊    | 7/12 [00:36<00:23,  4.75s/it]"
     ]
    },
    {
     "name": "stdout",
     "output_type": "stream",
     "text": [
      "Attack-Parameters:\t{'norm': 'inf', 'epsilon': 0.05}\n",
      "Early stopping: \tFalse (-1)\n",
      "\n",
      "Successfully attacked:\t546\n",
      "Total attacked: \t1356\n",
      "Total processed:\t1687\n",
      "\n",
      "Success-Rate: \t\t0.4\n",
      "Perturbed Accurracy: \t0.48\n"
     ]
    },
    {
     "name": "stderr",
     "output_type": "stream",
     "text": [
      "100%|██████████| 27/27 [00:03<00:00,  7.38it/s]\n",
      " 67%|██████▋   | 8/12 [00:40<00:18,  4.52s/it]"
     ]
    },
    {
     "name": "stdout",
     "output_type": "stream",
     "text": [
      "Attack-Parameters:\t{'norm': 'inf', 'epsilon': 0.1}\n",
      "Early stopping: \tFalse (-1)\n",
      "\n",
      "Successfully attacked:\t661\n",
      "Total attacked: \t1356\n",
      "Total processed:\t1687\n",
      "\n",
      "Success-Rate: \t\t0.49\n",
      "Perturbed Accurracy: \t0.41\n"
     ]
    },
    {
     "name": "stderr",
     "output_type": "stream",
     "text": [
      "100%|██████████| 27/27 [00:03<00:00,  7.46it/s]\n",
      "  0%|          | 0/27 [00:00<?, ?it/s].33s/it]"
     ]
    },
    {
     "name": "stdout",
     "output_type": "stream",
     "text": [
      "Attack-Parameters:\t{'norm': 'inf', 'epsilon': 0.2}\n",
      "Early stopping: \tFalse (-1)\n",
      "\n",
      "Successfully attacked:\t817\n",
      "Total attacked: \t1356\n",
      "Total processed:\t1687\n",
      "\n",
      "Success-Rate: \t\t0.6\n",
      "Perturbed Accurracy: \t0.32\n"
     ]
    },
    {
     "name": "stderr",
     "output_type": "stream",
     "text": [
      "100%|██████████| 27/27 [00:03<00:00,  7.45it/s]\n",
      "  0%|          | 0/27 [00:00<?, ?it/s]4.16s/it]"
     ]
    },
    {
     "name": "stdout",
     "output_type": "stream",
     "text": [
      "Attack-Parameters:\t{'norm': 'inf', 'epsilon': 0.5}\n",
      "Early stopping: \tFalse (-1)\n",
      "\n",
      "Successfully attacked:\t1022\n",
      "Total attacked: \t1356\n",
      "Total processed:\t1687\n",
      "\n",
      "Success-Rate: \t\t0.75\n",
      "Perturbed Accurracy: \t0.2\n"
     ]
    },
    {
     "name": "stderr",
     "output_type": "stream",
     "text": [
      "100%|██████████| 27/27 [00:03<00:00,  7.45it/s]\n",
      " 92%|█████████▏| 11/12 [00:51<00:04,  4.04s/it]"
     ]
    },
    {
     "name": "stdout",
     "output_type": "stream",
     "text": [
      "Attack-Parameters:\t{'norm': 'inf', 'epsilon': 1}\n",
      "Early stopping: \tFalse (-1)\n",
      "\n",
      "Successfully attacked:\t793\n",
      "Total attacked: \t1356\n",
      "Total processed:\t1687\n",
      "\n",
      "Success-Rate: \t\t0.58\n",
      "Perturbed Accurracy: \t0.33\n"
     ]
    },
    {
     "name": "stderr",
     "output_type": "stream",
     "text": [
      "100%|██████████| 27/27 [00:03<00:00,  7.45it/s]\n",
      "100%|██████████| 12/12 [00:55<00:00,  4.64s/it]\n"
     ]
    },
    {
     "name": "stdout",
     "output_type": "stream",
     "text": [
      "Attack-Parameters:\t{'norm': 'inf', 'epsilon': 10}\n",
      "Early stopping: \tFalse (-1)\n",
      "\n",
      "Successfully attacked:\t688\n",
      "Total attacked: \t1356\n",
      "Total processed:\t1687\n",
      "\n",
      "Success-Rate: \t\t0.51\n",
      "Perturbed Accurracy: \t0.4\n"
     ]
    },
    {
     "data": {
      "image/png": "[encoded data removed]",
      "text/plain": [
       "<Figure size 1008x576 with 1 Axes>"
      ]
     },
     "metadata": {
      "needs_background": "light"
     },
     "output_type": "display_data"
    },
    {
     "name": "stderr",
     "output_type": "stream",
     "text": [
      "\r",
      "  0%|          | 0/11 [00:00<?, ?it/s]"
     ]
    },
    {
     "name": "stdout",
     "output_type": "stream",
     "text": [
      "Perform Attack #2/3: FGA L2\n"
     ]
    },
    {
     "name": "stderr",
     "output_type": "stream",
     "text": [
      "100%|██████████| 27/27 [00:03<00:00,  7.43it/s]\n",
      "  9%|▉         | 1/11 [00:03<00:39,  3.94s/it]"
     ]
    },
    {
     "name": "stdout",
     "output_type": "stream",
     "text": [
      "Attack-Parameters:\t{'norm': '2', 'epsilon': 0}\n",
      "Early stopping: \tFalse (-1)\n",
      "\n",
      "Successfully attacked:\t0\n",
      "Total attacked: \t1356\n",
      "Total processed:\t1687\n",
      "\n",
      "Success-Rate: \t\t0.0\n",
      "Perturbed Accurracy: \t0.8\n"
     ]
    },
    {
     "name": "stderr",
     "output_type": "stream",
     "text": [
      "100%|██████████| 27/27 [00:03<00:00,  7.43it/s]\n",
      "  0%|          | 0/27 [00:00<?, ?it/s].92s/it]"
     ]
    },
    {
     "name": "stdout",
     "output_type": "stream",
     "text": [
      "Attack-Parameters:\t{'norm': '2', 'epsilon': 1}\n",
      "Early stopping: \tFalse (-1)\n",
      "\n",
      "Successfully attacked:\t120\n",
      "Total attacked: \t1356\n",
      "Total processed:\t1687\n",
      "\n",
      "Success-Rate: \t\t0.09\n",
      "Perturbed Accurracy: \t0.73\n"
     ]
    },
    {
     "name": "stderr",
     "output_type": "stream",
     "text": [
      "100%|██████████| 27/27 [00:03<00:00,  7.42it/s]\n",
      " 27%|██▋       | 3/11 [00:11<00:30,  3.87s/it]"
     ]
    },
    {
     "name": "stdout",
     "output_type": "stream",
     "text": [
      "Attack-Parameters:\t{'norm': '2', 'epsilon': 2}\n",
      "Early stopping: \tFalse (-1)\n",
      "\n",
      "Successfully attacked:\t220\n",
      "Total attacked: \t1356\n",
      "Total processed:\t1687\n",
      "\n",
      "Success-Rate: \t\t0.16\n",
      "Perturbed Accurracy: \t0.67\n"
     ]
    },
    {
     "name": "stderr",
     "output_type": "stream",
     "text": [
      "100%|██████████| 27/27 [00:03<00:00,  7.41it/s]\n",
      "  0%|          | 0/27 [00:00<?, ?it/s].91s/it]"
     ]
    },
    {
     "name": "stdout",
     "output_type": "stream",
     "text": [
      "Attack-Parameters:\t{'norm': '2', 'epsilon': 5}\n",
      "Early stopping: \tFalse (-1)\n",
      "\n",
      "Successfully attacked:\t407\n",
      "Total attacked: \t1356\n",
      "Total processed:\t1687\n",
      "\n",
      "Success-Rate: \t\t0.3\n",
      "Perturbed Accurracy: \t0.56\n"
     ]
    },
    {
     "name": "stderr",
     "output_type": "stream",
     "text": [
      "100%|██████████| 27/27 [00:03<00:00,  7.41it/s]\n",
      " 45%|████▌     | 5/11 [00:19<00:23,  3.88s/it]"
     ]
    },
    {
     "name": "stdout",
     "output_type": "stream",
     "text": [
      "Attack-Parameters:\t{'norm': '2', 'epsilon': 10}\n",
      "Early stopping: \tFalse (-1)\n",
      "\n",
      "Successfully attacked:\t570\n",
      "Total attacked: \t1356\n",
      "Total processed:\t1687\n",
      "\n",
      "Success-Rate: \t\t0.42\n",
      "Perturbed Accurracy: \t0.47\n"
     ]
    },
    {
     "name": "stderr",
     "output_type": "stream",
     "text": [
      "100%|██████████| 27/27 [00:03<00:00,  7.41it/s]\n",
      "  0%|          | 0/27 [00:00<?, ?it/s].90s/it]"
     ]
    },
    {
     "name": "stdout",
     "output_type": "stream",
     "text": [
      "Attack-Parameters:\t{'norm': '2', 'epsilon': 20}\n",
      "Early stopping: \tFalse (-1)\n",
      "\n",
      "Successfully attacked:\t717\n",
      "Total attacked: \t1356\n",
      "Total processed:\t1687\n",
      "\n",
      "Success-Rate: \t\t0.53\n",
      "Perturbed Accurracy: \t0.38\n"
     ]
    },
    {
     "name": "stderr",
     "output_type": "stream",
     "text": [
      "100%|██████████| 27/27 [00:03<00:00,  7.39it/s]\n",
      "  0%|          | 0/27 [00:00<?, ?it/s].86s/it]"
     ]
    },
    {
     "name": "stdout",
     "output_type": "stream",
     "text": [
      "Attack-Parameters:\t{'norm': '2', 'epsilon': 50}\n",
      "Early stopping: \tFalse (-1)\n",
      "\n",
      "Successfully attacked:\t933\n",
      "Total attacked: \t1356\n",
      "Total processed:\t1687\n",
      "\n",
      "Success-Rate: \t\t0.69\n",
      "Perturbed Accurracy: \t0.25\n"
     ]
    },
    {
     "name": "stderr",
     "output_type": "stream",
     "text": [
      "100%|██████████| 27/27 [00:03<00:00,  7.38it/s]\n",
      "  0%|          | 0/27 [00:00<?, ?it/s].85s/it]"
     ]
    },
    {
     "name": "stdout",
     "output_type": "stream",
     "text": [
      "Attack-Parameters:\t{'norm': '2', 'epsilon': 100}\n",
      "Early stopping: \tFalse (-1)\n",
      "\n",
      "Successfully attacked:\t1108\n",
      "Total attacked: \t1356\n",
      "Total processed:\t1687\n",
      "\n",
      "Success-Rate: \t\t0.82\n",
      "Perturbed Accurracy: \t0.15\n"
     ]
    },
    {
     "name": "stderr",
     "output_type": "stream",
     "text": [
      "100%|██████████| 27/27 [00:03<00:00,  7.39it/s]\n",
      "  0%|          | 0/27 [00:00<?, ?it/s].84s/it]"
     ]
    },
    {
     "name": "stdout",
     "output_type": "stream",
     "text": [
      "Attack-Parameters:\t{'norm': '2', 'epsilon': 200}\n",
      "Early stopping: \tFalse (-1)\n",
      "\n",
      "Successfully attacked:\t1161\n",
      "Total attacked: \t1356\n",
      "Total processed:\t1687\n",
      "\n",
      "Success-Rate: \t\t0.86\n",
      "Perturbed Accurracy: \t0.12\n"
     ]
    },
    {
     "name": "stderr",
     "output_type": "stream",
     "text": [
      "100%|██████████| 27/27 [00:03<00:00,  7.38it/s]\n",
      "  0%|          | 0/27 [00:00<?, ?it/s]3.82s/it]"
     ]
    },
    {
     "name": "stdout",
     "output_type": "stream",
     "text": [
      "Attack-Parameters:\t{'norm': '2', 'epsilon': 500}\n",
      "Early stopping: \tFalse (-1)\n",
      "\n",
      "Successfully attacked:\t830\n",
      "Total attacked: \t1356\n",
      "Total processed:\t1687\n",
      "\n",
      "Success-Rate: \t\t0.61\n",
      "Perturbed Accurracy: \t0.31\n"
     ]
    },
    {
     "name": "stderr",
     "output_type": "stream",
     "text": [
      "100%|██████████| 27/27 [00:03<00:00,  7.38it/s]\n",
      "100%|██████████| 11/11 [00:42<00:00,  3.85s/it]\n"
     ]
    },
    {
     "name": "stdout",
     "output_type": "stream",
     "text": [
      "Attack-Parameters:\t{'norm': '2', 'epsilon': 1000}\n",
      "Early stopping: \tFalse (-1)\n",
      "\n",
      "Successfully attacked:\t709\n",
      "Total attacked: \t1356\n",
      "Total processed:\t1687\n",
      "\n",
      "Success-Rate: \t\t0.52\n",
      "Perturbed Accurracy: \t0.38\n"
     ]
    },
    {
     "data": {
      "image/png": "[encoded data removed]",
      "text/plain": [
       "<Figure size 1008x576 with 1 Axes>"
      ]
     },
     "metadata": {
      "needs_background": "light"
     },
     "output_type": "display_data"
    },
    {
     "name": "stderr",
     "output_type": "stream",
     "text": [
      "\r",
      "  0%|          | 0/10 [00:00<?, ?it/s]"
     ]
    },
    {
     "name": "stdout",
     "output_type": "stream",
     "text": [
      "Perform Attack #3/3: FGA L1\n"
     ]
    },
    {
     "name": "stderr",
     "output_type": "stream",
     "text": [
      "100%|██████████| 27/27 [00:03<00:00,  7.30it/s]\n",
      " 10%|█         | 1/10 [00:03<00:35,  3.97s/it]"
     ]
    },
    {
     "name": "stdout",
     "output_type": "stream",
     "text": [
      "Attack-Parameters:\t{'norm': '1', 'epsilon': 100}\n",
      "Early stopping: \tFalse (-1)\n",
      "\n",
      "Successfully attacked:\t65\n",
      "Total attacked: \t1356\n",
      "Total processed:\t1687\n",
      "\n",
      "Success-Rate: \t\t0.05\n",
      "Perturbed Accurracy: \t0.77\n"
     ]
    },
    {
     "name": "stderr",
     "output_type": "stream",
     "text": [
      "100%|██████████| 27/27 [00:03<00:00,  7.25it/s]\n",
      "  0%|          | 0/27 [00:00<?, ?it/s].99s/it]"
     ]
    },
    {
     "name": "stdout",
     "output_type": "stream",
     "text": [
      "Attack-Parameters:\t{'norm': '1', 'epsilon': 200}\n",
      "Early stopping: \tFalse (-1)\n",
      "\n",
      "Successfully attacked:\t111\n",
      "Total attacked: \t1356\n",
      "Total processed:\t1687\n",
      "\n",
      "Success-Rate: \t\t0.08\n",
      "Perturbed Accurracy: \t0.74\n"
     ]
    },
    {
     "name": "stderr",
     "output_type": "stream",
     "text": [
      "100%|██████████| 27/27 [00:03<00:00,  7.37it/s]\n",
      " 30%|███       | 3/10 [00:11<00:27,  3.94s/it]"
     ]
    },
    {
     "name": "stdout",
     "output_type": "stream",
     "text": [
      "Attack-Parameters:\t{'norm': '1', 'epsilon': 500}\n",
      "Early stopping: \tFalse (-1)\n",
      "\n",
      "Successfully attacked:\t240\n",
      "Total attacked: \t1356\n",
      "Total processed:\t1687\n",
      "\n",
      "Success-Rate: \t\t0.18\n",
      "Perturbed Accurracy: \t0.66\n"
     ]
    },
    {
     "name": "stderr",
     "output_type": "stream",
     "text": [
      "100%|██████████| 27/27 [00:03<00:00,  7.32it/s]\n",
      " 40%|████      | 4/10 [00:15<00:23,  3.97s/it]"
     ]
    },
    {
     "name": "stdout",
     "output_type": "stream",
     "text": [
      "Attack-Parameters:\t{'norm': '1', 'epsilon': 1000}\n",
      "Early stopping: \tFalse (-1)\n",
      "\n",
      "Successfully attacked:\t391\n",
      "Total attacked: \t1356\n",
      "Total processed:\t1687\n",
      "\n",
      "Success-Rate: \t\t0.29\n",
      "Perturbed Accurracy: \t0.57\n"
     ]
    },
    {
     "name": "stderr",
     "output_type": "stream",
     "text": [
      "100%|██████████| 27/27 [00:03<00:00,  7.33it/s]\n",
      "  0%|          | 0/27 [00:00<?, ?it/s].98s/it]"
     ]
    },
    {
     "name": "stdout",
     "output_type": "stream",
     "text": [
      "Attack-Parameters:\t{'norm': '1', 'epsilon': 2000}\n",
      "Early stopping: \tFalse (-1)\n",
      "\n",
      "Successfully attacked:\t543\n",
      "Total attacked: \t1356\n",
      "Total processed:\t1687\n",
      "\n",
      "Success-Rate: \t\t0.4\n",
      "Perturbed Accurracy: \t0.48\n"
     ]
    },
    {
     "name": "stderr",
     "output_type": "stream",
     "text": [
      "100%|██████████| 27/27 [00:03<00:00,  7.16it/s]\n",
      "  0%|          | 0/27 [00:00<?, ?it/s].98s/it]"
     ]
    },
    {
     "name": "stdout",
     "output_type": "stream",
     "text": [
      "Attack-Parameters:\t{'norm': '1', 'epsilon': 5000}\n",
      "Early stopping: \tFalse (-1)\n",
      "\n",
      "Successfully attacked:\t752\n",
      "Total attacked: \t1356\n",
      "Total processed:\t1687\n",
      "\n",
      "Success-Rate: \t\t0.55\n",
      "Perturbed Accurracy: \t0.36\n"
     ]
    },
    {
     "name": "stderr",
     "output_type": "stream",
     "text": [
      "100%|██████████| 27/27 [00:03<00:00,  7.29it/s]\n",
      "  0%|          | 0/27 [00:00<?, ?it/s].94s/it]"
     ]
    },
    {
     "name": "stdout",
     "output_type": "stream",
     "text": [
      "Attack-Parameters:\t{'norm': '1', 'epsilon': 10000.0}\n",
      "Early stopping: \tFalse (-1)\n",
      "\n",
      "Successfully attacked:\t914\n",
      "Total attacked: \t1356\n",
      "Total processed:\t1687\n",
      "\n",
      "Success-Rate: \t\t0.67\n",
      "Perturbed Accurracy: \t0.26\n"
     ]
    },
    {
     "name": "stderr",
     "output_type": "stream",
     "text": [
      "100%|██████████| 27/27 [00:03<00:00,  7.14it/s]\n",
      " 80%|████████  | 8/10 [00:31<00:07,  3.95s/it]"
     ]
    },
    {
     "name": "stdout",
     "output_type": "stream",
     "text": [
      "Attack-Parameters:\t{'norm': '1', 'epsilon': 20000.0}\n",
      "Early stopping: \tFalse (-1)\n",
      "\n",
      "Successfully attacked:\t1090\n",
      "Total attacked: \t1356\n",
      "Total processed:\t1687\n",
      "\n",
      "Success-Rate: \t\t0.8\n",
      "Perturbed Accurracy: \t0.16\n"
     ]
    },
    {
     "name": "stderr",
     "output_type": "stream",
     "text": [
      "100%|██████████| 27/27 [00:03<00:00,  7.16it/s]\n",
      " 90%|█████████ | 9/10 [00:35<00:03,  3.99s/it]"
     ]
    },
    {
     "name": "stdout",
     "output_type": "stream",
     "text": [
      "Attack-Parameters:\t{'norm': '1', 'epsilon': 50000.0}\n",
      "Early stopping: \tFalse (-1)\n",
      "\n",
      "Successfully attacked:\t1147\n",
      "Total attacked: \t1356\n",
      "Total processed:\t1687\n",
      "\n",
      "Success-Rate: \t\t0.85\n",
      "Perturbed Accurracy: \t0.12\n"
     ]
    },
    {
     "name": "stderr",
     "output_type": "stream",
     "text": [
      "100%|██████████| 27/27 [00:03<00:00,  7.21it/s]\n",
      "100%|██████████| 10/10 [00:39<00:00,  3.98s/it]"
     ]
    },
    {
     "name": "stdout",
     "output_type": "stream",
     "text": [
      "Attack-Parameters:\t{'norm': '1', 'epsilon': 100000.0}\n",
      "Early stopping: \tFalse (-1)\n",
      "\n",
      "Successfully attacked:\t874\n",
      "Total attacked: \t1356\n",
      "Total processed:\t1687\n",
      "\n",
      "Success-Rate: \t\t0.64\n",
      "Perturbed Accurracy: \t0.29\n"
     ]
    },
    {
     "name": "stderr",
     "output_type": "stream",
     "text": [
      "\n"
     ]
    },
    {
     "data": {
      "image/png": "[encoded data removed]",
      "text/plain": [
       "<Figure size 1008x576 with 1 Axes>"
      ]
     },
     "metadata": {
      "needs_background": "light"
     },
     "output_type": "display_data"
    }
   ],
   "source": [
    "from utils.RobustnessExperiment import RobustnessExperiment\n",
    "from attacks.FGA_Batch import fast_gradient_attack\n",
    "from attacks.pgd import ProjectedGradientDescent\n",
    "\n",
    "exp_config = [{\n",
    "              \"attack_fn\": ProjectedGradientDescent, \n",
    "              \"attack_arg\": {\"norm\":[\"inf\"], \"epsilon\": [0, 0.0001, 0.0002, 0.0005, 0.01, 0.02, 0.05, 0.1, 0.2, 0.5, 1, 10]},\n",
    "              \"meta\": {\"key_result\":\"success_rate\", \"key_config\":\"epsilon\", \"title\":\"FGSM\"}\n",
    "             },\n",
    "            {\n",
    "            \"attack_fn\": ProjectedGradientDescent, \n",
    "            \"attack_arg\": {\"norm\":[\"2\"], \"epsilon\": [0, 1, 2, 5, 10, 20, 50, 100, 200, 500, 1000]},\n",
    "            \"meta\": {\"key_result\":\"success_rate\", \"key_config\":\"epsilon\", \"title\":\"FGA L2\"}\n",
    "            },\n",
    "            {\n",
    "            \"attack_fn\": ProjectedGradientDescent, \n",
    "            \"attack_arg\": {\"norm\":[\"1\"], \"epsilon\": [100, 200, 500, 1000, 2000, 5000, 1e4, 2e4, 5e4, 1e5]},\n",
    "            \"meta\": {\"key_result\":\"success_rate\", \"key_config\":\"epsilon\", \"title\":\"FGA L1\"}\n",
    "            }]\n",
    "\n",
    "\n",
    "experiment = RobustnessExperiment(exp_config, title=\"Test\")\n",
    "experiment.run(\"/nfs/homedirs/herrmanp/project-4/experiments/notebooks/pascal/adv_totaly_hig_50epochs.pt\", M5PLModule)"
   ]
  }
 ],
 "metadata": {
  "kernelspec": {
   "display_name": "Python 3",
   "language": "python",
   "name": "python3"
  },
  "language_info": {
   "codemirror_mode": {
    "name": "ipython",
    "version": 3
   },
   "file_extension": ".py",
   "mimetype": "text/x-python",
   "name": "python",
   "nbconvert_exporter": "python",
   "pygments_lexer": "ipython3",
   "version": "3.8.2"
  }
 },
 "nbformat": 4,
 "nbformat_minor": 4
}
