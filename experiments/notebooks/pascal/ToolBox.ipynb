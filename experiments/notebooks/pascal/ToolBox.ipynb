{
 "cells": [
  {
   "cell_type": "markdown",
   "metadata": {},
   "source": [
    "# IBM Robustness Toolbox\n",
    "\n",
    "* More Infos: https://github.com/sgxcj777/Adversarial-testing-toolbox-with-CLEVER\n",
    "\n",
    "* PLAN: Morgen das hier noch schöner machen (ordentlich alle funktionen, sodass alles läuft, committen).\n",
    "    * checken, dass playground noch geht\n",
    "    * hyperparam search\n",
    "* und dann bis Sonntag: mehrere Attacks & defenses probieren.\n",
    "* -> dann haben wir mehrere Attacks, mehrere Training-Mechanismen. Ist dann doch top!!!\n",
    "\n",
    "* dann: v.a. Training & Evaluation anwenden.\n",
    "\n",
    "\n",
    "\n",
    "\n",
    "\n",
    "### More Frameworks\n",
    "* Foolbox: 1.5K -> aber eher nur attacks...\n",
    "* TF-Cleverhans: 4.6K\n",
    "* IBM ART: 1.6K"
   ]
  },
  {
   "cell_type": "code",
   "execution_count": 1,
   "metadata": {},
   "outputs": [],
   "source": [
    "%load_ext autoreload\n",
    "%autoreload 2\n",
    "\n",
    "import os\n",
    "import sys\n",
    "module_path = os.path.abspath(os.path.join('../../../src/'))\n",
    "if module_path not in sys.path:\n",
    "    sys.path.append(module_path)"
   ]
  },
  {
   "cell_type": "code",
   "execution_count": 2,
   "metadata": {},
   "outputs": [],
   "source": [
    "sys.path.append(\"/nfs/homedirs/herrmanp/clevertest/adversarial-robustness-toolbox\")\n",
    "import art"
   ]
  },
  {
   "cell_type": "code",
   "execution_count": 4,
   "metadata": {},
   "outputs": [
    {
     "name": "stderr",
     "output_type": "stream",
     "text": [
      "/nfs/homedirs/herrmanp/miniconda3/envs/ml/lib/python3.8/site-packages/librosa/util/decorators.py:9: NumbaDeprecationWarning: An import was requested from a module that has moved location.\n",
      "Import requested from: 'numba.decorators', please update to use 'numba.core.decorators' or pin to Numba version 0.48.0. This alias will not be present in Numba version 0.50.0.\n",
      "  from numba.decorators import jit as optional_jit\n",
      "/nfs/homedirs/herrmanp/miniconda3/envs/ml/lib/python3.8/site-packages/librosa/util/decorators.py:9: NumbaDeprecationWarning: An import was requested from a module that has moved location.\n",
      "Import of 'jit' requested from: 'numba.decorators', please update to use 'numba.core.decorators' or pin to Numba version 0.48.0. This alias will not be present in Numba version 0.50.0.\n",
      "  from numba.decorators import jit as optional_jit\n"
     ]
    }
   ],
   "source": [
    "import numpy as np\n",
    "import torch\n",
    "import pytorch_lightning as pl\n",
    "from pytorch_lightning import loggers\n",
    "import config\n",
    "\n",
    "\n",
    "from classification.models.M5 import M5, M5PLModule\n",
    "from classification.models.SpectrogramCNN import SpectrogramCNNPLModule\n",
    "\n",
    "from utils.RobustnessExperiment import load_module\n",
    "from utils.Visual import show_audio, show_spectogram, show_waveplot"
   ]
  },
  {
   "cell_type": "code",
   "execution_count": 5,
   "metadata": {},
   "outputs": [],
   "source": [
    "from datasets.datasethandler import DatasetHandler\n",
    "datasetHandler = DatasetHandler()"
   ]
  },
  {
   "cell_type": "code",
   "execution_count": 24,
   "metadata": {},
   "outputs": [
    {
     "name": "stdout",
     "output_type": "stream",
     "text": [
      "Accuracy: \t0.84\n",
      "Precision: \t0.89\n",
      "Recall: \t0.77\n",
      "F1-Score: \t0.83\n",
      "\n",
      "VAL-ACC: 1424/1687 (84.41019561351511%)\n",
      "\n",
      "P-Rate: \t0.42\n"
     ]
    },
    {
     "data": {
      "text/plain": [
       "{'tp': array(638),\n",
       " 'fp': array(75),\n",
       " 'tn': array(786),\n",
       " 'fn': array(188),\n",
       " 'correct': array(1424),\n",
       " 'n': 1687,\n",
       " 'acc': 0.8441019561351512,\n",
       " 'prec': 0.8948106591865358,\n",
       " 'rec': 0.7723970944309927,\n",
       " 'f1': 0.8291098115659519,\n",
       " 'attack_args': None,\n",
       " 'p_rate': 0.4226437462951986}"
      ]
     },
     "execution_count": 24,
     "metadata": {},
     "output_type": "execute_result"
    }
   ],
   "source": [
    "#model = load_module(\"/nfs/students/summer-term-2020/project-4/SAVED_MODELS/SpectrogramCNN/optuna_90.5.p\", SpectrogramCNNPLModule)\n",
    "#model = load_module(\"/nfs/students/summer-term-2020/project-4/SAVED_MODELS/M5/M5_vanilla.p\", M5PLModule)\n",
    "model = load_module(\"/nfs/homedirs/herrmanp/shortcut/SAVED_MODELS/M5/vanilla_model.p\", M5PLModule)\n",
    "model.prepare_data()\n",
    "datasetHandler.load(model, 'training')\n",
    "datasetHandler.load(model, 'validation')\n",
    "model.cuda()\n",
    "model.report()"
   ]
  },
  {
   "cell_type": "code",
   "execution_count": 8,
   "metadata": {},
   "outputs": [],
   "source": [
    "x_test = model.val_dataloader().dataset[0:100]\n",
    "x_test = []\n",
    "y_test = []\n",
    "for i in range(100):\n",
    "    x_test.append(model.val_dataloader().dataset[i][\"audio\"])\n",
    "    y_test.append(model.val_dataloader().dataset[i][\"label\"])\n",
    "\n"
   ]
  },
  {
   "cell_type": "code",
   "execution_count": 9,
   "metadata": {},
   "outputs": [],
   "source": [
    "import torch.nn.functional as F\n",
    "\n",
    "def cross_entropy_one_hot(inp, target):\n",
    "    _, labels = target.max(dim=1)\n",
    "    return F.cross_entropy(inp, labels)\n",
    "\n",
    "opt = torch.optim.Adam(model.model.parameters(), lr = 1e-4)\n",
    "\n",
    "from art.estimators.classification.pytorch import PyTorchClassifier\n",
    "modelX = PyTorchClassifier(model =  model.model,\n",
    "        loss = cross_entropy_one_hot,\n",
    "        input_shape = (1, 8000),\n",
    "        nb_classes = 2,\n",
    "        channels_first = True,\n",
    "        optimizer = opt)"
   ]
  },
  {
   "cell_type": "code",
   "execution_count": 28,
   "metadata": {},
   "outputs": [
    {
     "name": "stderr",
     "output_type": "stream",
     "text": [
      "CLEVER untargeted: 100%|██████████| 1/1 [00:01<00:00,  1.61s/it]\n",
      "CLEVER untargeted:   0%|          | 0/1 [00:00<?, ?it/s]"
     ]
    },
    {
     "name": "stdout",
     "output_type": "stream",
     "text": [
      "0.008684896680564111\n"
     ]
    },
    {
     "name": "stderr",
     "output_type": "stream",
     "text": [
      "CLEVER untargeted: 100%|██████████| 1/1 [00:01<00:00,  1.56s/it]\n",
      "CLEVER untargeted:   0%|          | 0/1 [00:00<?, ?it/s]"
     ]
    },
    {
     "name": "stdout",
     "output_type": "stream",
     "text": [
      "0.022867354281745536\n"
     ]
    },
    {
     "name": "stderr",
     "output_type": "stream",
     "text": [
      "CLEVER untargeted: 100%|██████████| 1/1 [00:01<00:00,  1.55s/it]\n",
      "CLEVER untargeted:   0%|          | 0/1 [00:00<?, ?it/s]"
     ]
    },
    {
     "name": "stdout",
     "output_type": "stream",
     "text": [
      "0.005852239885552802\n"
     ]
    },
    {
     "name": "stderr",
     "output_type": "stream",
     "text": [
      "CLEVER untargeted: 100%|██████████| 1/1 [00:01<00:00,  1.55s/it]\n",
      "CLEVER untargeted:   0%|          | 0/1 [00:00<?, ?it/s]"
     ]
    },
    {
     "name": "stdout",
     "output_type": "stream",
     "text": [
      "0.0068931003582101994\n"
     ]
    },
    {
     "name": "stderr",
     "output_type": "stream",
     "text": [
      "CLEVER untargeted: 100%|██████████| 1/1 [00:01<00:00,  1.53s/it]\n",
      "CLEVER untargeted:   0%|          | 0/1 [00:00<?, ?it/s]"
     ]
    },
    {
     "name": "stdout",
     "output_type": "stream",
     "text": [
      "0.02377983539686139\n"
     ]
    },
    {
     "name": "stderr",
     "output_type": "stream",
     "text": [
      "CLEVER untargeted: 100%|██████████| 1/1 [00:01<00:00,  1.55s/it]\n",
      "CLEVER untargeted:   0%|          | 0/1 [00:00<?, ?it/s]"
     ]
    },
    {
     "name": "stdout",
     "output_type": "stream",
     "text": [
      "0.03907150023310249\n"
     ]
    },
    {
     "name": "stderr",
     "output_type": "stream",
     "text": [
      "CLEVER untargeted: 100%|██████████| 1/1 [00:01<00:00,  1.56s/it]\n",
      "CLEVER untargeted:   0%|          | 0/1 [00:00<?, ?it/s]"
     ]
    },
    {
     "name": "stdout",
     "output_type": "stream",
     "text": [
      "0.028851599249674217\n"
     ]
    },
    {
     "name": "stderr",
     "output_type": "stream",
     "text": [
      "CLEVER untargeted: 100%|██████████| 1/1 [00:01<00:00,  1.54s/it]\n",
      "CLEVER untargeted:   0%|          | 0/1 [00:00<?, ?it/s]"
     ]
    },
    {
     "name": "stdout",
     "output_type": "stream",
     "text": [
      "0.018434056837202693\n"
     ]
    },
    {
     "name": "stderr",
     "output_type": "stream",
     "text": [
      "CLEVER untargeted: 100%|██████████| 1/1 [00:01<00:00,  1.56s/it]\n",
      "CLEVER untargeted:   0%|          | 0/1 [00:00<?, ?it/s]"
     ]
    },
    {
     "name": "stdout",
     "output_type": "stream",
     "text": [
      "0.022491356462704885\n"
     ]
    },
    {
     "name": "stderr",
     "output_type": "stream",
     "text": [
      "CLEVER untargeted: 100%|██████████| 1/1 [00:01<00:00,  1.55s/it]"
     ]
    },
    {
     "name": "stdout",
     "output_type": "stream",
     "text": [
      "0.008857220808815404\n",
      "AVG OVER 10 SAMPLES: 0.01857831601944337\n"
     ]
    },
    {
     "name": "stderr",
     "output_type": "stream",
     "text": [
      "\n"
     ]
    }
   ],
   "source": [
    "scores = []\n",
    "for i in range(10):\n",
    "    x = model.val_dataloader().dataset[i][\"audio\"].numpy()\n",
    "    out = art.metrics.clever_u(classifier = modelX, x = x, nb_batches = 50, batch_size = 5, radius = 1, norm = np.inf, c_init = 1.0, pool_factor = 100)\n",
    "    print(out)\n",
    "    scores.append(out)\n",
    "print(\"AVG OVER 10 SAMPLES: {}\".format(sum(scores)/10))"
   ]
  },
  {
   "cell_type": "code",
   "execution_count": 11,
   "metadata": {},
   "outputs": [
    {
     "name": "stdout",
     "output_type": "stream",
     "text": [
      "(100, 80000)\n"
     ]
    }
   ],
   "source": [
    "x_test_arr = [t.numpy() for t in x_test]\n",
    "y_test_arr = [t for t in y_test]\n",
    "\n",
    "\n",
    "total = np.vstack(x_test_arr)\n",
    "totaly = np.array(y_test_arr)\n",
    "print(total.shape)\n",
    "\n",
    "b = np.zeros((totaly.size, totaly.max()+1))\n",
    "b[np.arange(totaly.size),totaly] = 1\n",
    "\n"
   ]
  },
  {
   "cell_type": "code",
   "execution_count": 27,
   "metadata": {},
   "outputs": [],
   "source": [
    "from art.attacks.evasion import ProjectedGradientDescentPyTorch"
   ]
  },
  {
   "cell_type": "code",
   "execution_count": 25,
   "metadata": {},
   "outputs": [],
   "source": [
    "pgd = ProjectedGradientDescentPyTorch(modelX, norm = np.inf, eps=0.1, eps_step=0.1, max_iter=3, num_random_init=20)\n",
    "x_test_pgd = pgd.generate(total.astype(np.double))\n",
    "\n",
    "\n"
   ]
  },
  {
   "cell_type": "code",
   "execution_count": 26,
   "metadata": {},
   "outputs": [
    {
     "name": "stderr",
     "output_type": "stream",
     "text": [
      "Precompute adv samples: 100%|██████████| 1/1 [00:00<00:00, 6452.78it/s]\n",
      "Adversarial training epochs: 100%|██████████| 20/20 [05:01<00:00, 15.06s/it]\n"
     ]
    }
   ],
   "source": [
    "from art.defences.trainer import AdversarialTrainer\n",
    "adv_trainer = AdversarialTrainer(modelX, attacks=pgd, ratio=1.)\n",
    "adv_trainer.fit(total.astype(np.float), y=totaly.astype(np.float))"
   ]
  },
  {
   "cell_type": "code",
   "execution_count": null,
   "metadata": {},
   "outputs": [],
   "source": []
  }
 ],
 "metadata": {
  "kernelspec": {
   "display_name": "Python 3",
   "language": "python",
   "name": "python3"
  },
  "language_info": {
   "codemirror_mode": {
    "name": "ipython",
    "version": 3
   },
   "file_extension": ".py",
   "mimetype": "text/x-python",
   "name": "python",
   "nbconvert_exporter": "python",
   "pygments_lexer": "ipython3",
   "version": "3.8.2"
  }
 },
 "nbformat": 4,
 "nbformat_minor": 4
}
