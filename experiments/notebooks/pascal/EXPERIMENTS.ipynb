{
 "cells": [
  {
   "cell_type": "code",
   "execution_count": null,
   "metadata": {},
   "outputs": [],
   "source": [
    "%load_ext autoreload\n",
    "%autoreload 2\n",
    "\n",
    "import os\n",
    "import sys\n",
    "module_path = os.path.abspath(os.path.join('../../../src/'))\n",
    "if module_path not in sys.path:\n",
    "    sys.path.append(module_path)"
   ]
  },
  {
   "cell_type": "markdown",
   "metadata": {},
   "source": [
    "# Experiments"
   ]
  },
  {
   "cell_type": "markdown",
   "metadata": {},
   "source": [
    "#### Imports"
   ]
  },
  {
   "cell_type": "code",
   "execution_count": null,
   "metadata": {},
   "outputs": [],
   "source": [
    "import numpy as np\n",
    "import torch\n",
    "import time\n",
    "import pytorch_lightning as pl\n",
    "from pytorch_lightning import loggers\n",
    "import config\n",
    "from utils.Visual import draw_plot"
   ]
  },
  {
   "cell_type": "markdown",
   "metadata": {},
   "source": [
    "# 1. Hyperparameter Tuning"
   ]
  },
  {
   "cell_type": "markdown",
   "metadata": {},
   "source": [
    "*see coresponding notebook!*"
   ]
  },
  {
   "cell_type": "markdown",
   "metadata": {},
   "source": [
    "# 2. Adversarial Training"
   ]
  },
  {
   "cell_type": "code",
   "execution_count": null,
   "metadata": {
    "scrolled": true
   },
   "outputs": [],
   "source": [
    "##############################################################################################################\n",
    "##############################################################################################################\n",
    "##############################################################################################################\n",
    "from utils.TrainHelper import TrainHelper, get_all_models_data\n",
    "from attacks.pgd import ProjectedGradientDescent\n",
    "from classification.models.M5 import M5PLModule\n",
    "\n",
    "# define hyperparameters\n",
    "hparams = {\n",
    "    \"batch_size\": 64,\n",
    "    \"learning_rate\": 3e-4,\n",
    "    \"weight_decay\": 0.001,\n",
    "    \"lr_decay\": 0.95,\n",
    "    \"epochs\": 20\n",
    "}\n",
    "\n",
    "# define attack configs\n",
    "attack_configs = [\n",
    "                  {\"ATTACK_CLASS\": ProjectedGradientDescent, \n",
    "                   \"ATTACK_ARGS\": {\"norm\":[\"inf\"], \n",
    "                                   \"epsilon\":[0.05], \"num_iter\": [2]\n",
    "                                 },\n",
    "                   \"META\": {\"TITLE\": \"L_inf_eps=0.05_iters=2\"}\n",
    "                   },\n",
    "                  {\"ATTACK_CLASS\": ProjectedGradientDescent, \n",
    "                   \"ATTACK_ARGS\": {\"norm\":[\"inf\"], \n",
    "                                   \"epsilon\":[0.05], \"num_iter\": [3]\n",
    "                                 },\n",
    "                   \"META\": {\"TITLE\": \"L_inf_eps=0.05_iters=3\"}\n",
    "                   },\n",
    "                  ]\n",
    "\n",
    "th = TrainHelper()\n",
    "for dec in  [0.1, 1, 5]:\n",
    "    hparams[\"weight_decay\"] = dec\n",
    "    th.run(M5PLModule, hparams, attack_configs, save_epochs = [100])\n",
    "##############################################################################################################\n",
    "##############################################################################################################\n",
    "##############################################################################################################"
   ]
  },
  {
   "cell_type": "code",
   "execution_count": null,
   "metadata": {
    "scrolled": true
   },
   "outputs": [],
   "source": [
    "##############################################################################################################\n",
    "##############################################################################################################\n",
    "##############################################################################################################\n",
    "from utils.TrainHelper import TrainHelper, get_all_models_data\n",
    "from attacks.pgd import ProjectedGradientDescent\n",
    "from classification.models.M5 import M5PLModule\n",
    "\n",
    "# define hyperparameters\n",
    "hparams = {\n",
    "    \"batch_size\": 64,\n",
    "    \"learning_rate\": 3e-4,\n",
    "    \"weight_decay\": 0.1,\n",
    "    \"lr_decay\": 0.95,\n",
    "    \"epochs\": 30\n",
    "}\n",
    "\n",
    "# define attack configs\n",
    "attack_configs = [\n",
    "                  {\"ATTACK_CLASS\": ProjectedGradientDescent, \n",
    "                   \"ATTACK_ARGS\": {\"norm\":[\"inf\"], \n",
    "                                   \"epsilon\":[0.1], \"num_iter\": [1]\n",
    "                                 },\n",
    "                   \"META\": {\"TITLE\": \"L_inf_eps=0.1_iters=1\"}\n",
    "                   },\n",
    "                  {\"ATTACK_CLASS\": ProjectedGradientDescent, \n",
    "                   \"ATTACK_ARGS\": {\"norm\":[\"inf\"], \n",
    "                                   \"epsilon\":[0.1], \"num_iter\": [2]\n",
    "                                 },\n",
    "                   \"META\": {\"TITLE\": \"L_inf_eps=0.1_iters=2\"}\n",
    "                   },\n",
    "                  {\"ATTACK_CLASS\": ProjectedGradientDescent, \n",
    "                   \"ATTACK_ARGS\": {\"norm\":[\"inf\"], \n",
    "                                   \"epsilon\":[0.1], \"num_iter\": [3]\n",
    "                                 },\n",
    "                   \"META\": {\"TITLE\": \"L_inf_eps=0.1_iters=3\"}\n",
    "                   },\n",
    "                  {\"ATTACK_CLASS\": ProjectedGradientDescent, \n",
    "                   \"ATTACK_ARGS\": {\"norm\":[\"inf\"], \n",
    "                                   \"epsilon\":[0.1], \"num_iter\": [4]\n",
    "                                 },\n",
    "                   \"META\": {\"TITLE\": \"L_inf_eps=0.1_iters=4\"}\n",
    "                   },\n",
    "                  {\"ATTACK_CLASS\": ProjectedGradientDescent, \n",
    "                   \"ATTACK_ARGS\": {\"norm\":[\"inf\"], \n",
    "                                   \"epsilon\":[0.05], \"num_iter\": [1]\n",
    "                                 },\n",
    "                   \"META\": {\"TITLE\": \"L_inf_eps=0.05_iters=4\"}\n",
    "                   },\n",
    "                      {\"ATTACK_CLASS\": ProjectedGradientDescent, \n",
    "                   \"ATTACK_ARGS\": {\"norm\":[\"inf\"], \n",
    "                                   \"epsilon\":[0.03], \"num_iter\": [5]\n",
    "                                 },\n",
    "                   \"META\": {\"TITLE\": \"L_inf_eps=0.03_iters=5\"}\n",
    "                   },\n",
    "                  ]\n",
    "\n",
    "th = TrainHelper()\n",
    "models = th.run(M5PLModule, hparams, attack_configs, save_epochs = [100])\n",
    "##############################################################################################################\n",
    "##############################################################################################################\n",
    "##############################################################################################################"
   ]
  },
  {
   "cell_type": "code",
   "execution_count": null,
   "metadata": {},
   "outputs": [],
   "source": [
    "from utils.TrainHelper import TrainHelper, get_all_models_data, get_model_info\n",
    "\n",
    "list(get_all_models_data()[\"M5\"].keys())\n",
    "\n",
    "sorted([ (m[\"final_val_acc\"], m[\"path\"]) for m in get_all_models_data()[\"M5\"].values()])[-5:]"
   ]
  },
  {
   "cell_type": "code",
   "execution_count": null,
   "metadata": {},
   "outputs": [],
   "source": [
    "print(get_model_info(\"M5_attack_ProjectedGradientDescent_v88.p\"))"
   ]
  },
  {
   "cell_type": "code",
   "execution_count": null,
   "metadata": {},
   "outputs": [],
   "source": [
    "sorted([ m[\"path\"] for m in get_all_models_data()[\"M5\"].values()])[-5:]"
   ]
  },
  {
   "cell_type": "markdown",
   "metadata": {},
   "source": [
    "# 3. Robustness Comparison"
   ]
  },
  {
   "cell_type": "code",
   "execution_count": null,
   "metadata": {},
   "outputs": [],
   "source": [
    "##############################################################################################################\n",
    "##############################################################################################################\n",
    "##############################################################################################################\n",
    "\n",
    "from utils.RobustnessExperiment import RobustnessExperiment, load_experiment\n",
    "from attacks.FGA_Batch import fast_gradient_attack\n",
    "from attacks.pgd import ProjectedGradientDescent\n",
    "from classification.models.M5 import M5PLModule\n",
    "from classification.models.SpectrogramCNN import SpectrogramCNNPLModule\n",
    "\n",
    "\n",
    "\n",
    "exp_config = [{\n",
    "              \"attack_fn\": ProjectedGradientDescent, \n",
    "              \"attack_arg\": {\"norm\":[\"inf\"], \"epsilon\": [0, 0.0001, 0.0002, 0.0005, 0.01, 0.02, 0.05, 0.1, 0.2, 0.5, 1]},\n",
    "              \"meta\": {\"key_result\":\"success_rate\", \"key_config\":\"epsilon\", \"title\":\"FGSM\"}\n",
    "             },\n",
    "            {\n",
    "            \"attack_fn\": ProjectedGradientDescent, \n",
    "            \"attack_arg\": {\"norm\":[\"2\"], \"epsilon\": [0, 1, 2, 5, 10, 20, 50, 100, 200, 500, 1000]},\n",
    "            \"meta\": {\"key_result\":\"success_rate\", \"key_config\":\"epsilon\", \"title\":\"FGA L2\"}\n",
    "            },\n",
    "            {\n",
    "            \"attack_fn\": ProjectedGradientDescent, \n",
    "            \"attack_arg\": {\"norm\":[\"1\"], \"epsilon\": [100, 200, 500, 1000, 2000, 5000, 1e4, 2e4, 5e4, 1e5]},\n",
    "            \"meta\": {\"key_result\":\"success_rate\", \"key_config\":\"epsilon\", \"title\":\"FGA L1\"}\n",
    "            }]\n",
    "\n",
    "# uncomment this if you want to create a new experiment instead!\n",
    "#experiment = RobustnessExperiment(exp_config, title=\"EVALUATION_STANDARD\")\n",
    "experiment = load_experiment(exp_folder = \"0001_EVALUATION_STANDARD\")\n",
    "\n",
    "for m in models:\n",
    "    experiment.run(m, M5PLModule)\n",
    "##############################################################################################################\n",
    "##############################################################################################################\n",
    "##############################################################################################################"
   ]
  },
  {
   "cell_type": "markdown",
   "metadata": {},
   "source": [
    "# Further Analyzis"
   ]
  },
  {
   "cell_type": "markdown",
   "metadata": {},
   "source": [
    "### Show all evaluated models"
   ]
  },
  {
   "cell_type": "code",
   "execution_count": null,
   "metadata": {},
   "outputs": [],
   "source": [
    "(experiment.show_evaluated_models())"
   ]
  },
  {
   "cell_type": "markdown",
   "metadata": {},
   "source": [
    "### Which Model performs best on Robustness-Evaluation?"
   ]
  },
  {
   "cell_type": "code",
   "execution_count": null,
   "metadata": {},
   "outputs": [],
   "source": [
    "experiment.show_best_models(metric = \"success_rate\", best_n=5, limit_eps=8)"
   ]
  },
  {
   "cell_type": "markdown",
   "metadata": {},
   "source": [
    "### Print info of best model"
   ]
  },
  {
   "cell_type": "code",
   "execution_count": null,
   "metadata": {},
   "outputs": [],
   "source": [
    "from utils.TrainHelper import TrainHelper, get_all_models_data\n",
    "\n",
    "get_all_models_data()[\"M5\"][\"M5_attack_L_INF_e0.3_REGULARIZATION_TUNING_v158.p\"]"
   ]
  },
  {
   "cell_type": "markdown",
   "metadata": {},
   "source": [
    "### Compare"
   ]
  },
  {
   "cell_type": "code",
   "execution_count": null,
   "metadata": {},
   "outputs": [],
   "source": [
    "experiment.compare(config_key = \"epsilon\", results_key = \"success_rate\", models=['M5_attack_L_INF_e0.3_REGULARIZATION_TUNING_v151.p',\n",
    "                                                                                 \"M5_attack_L_inf, eps=sample_u_0.01_0.3_v150.p\",\n",
    "                                                                                 \"M5_attack_try_regularization_v94.p\",\n",
    "                                                                        'M5_attack_num_iters_v99.p'\n",
    "                                                                                ])"
   ]
  },
  {
   "cell_type": "code",
   "execution_count": null,
   "metadata": {},
   "outputs": [],
   "source": [
    "experiment.compare(config_key = \"epsilon\", results_key = \"success_rate\", models=['1592000682.p',\n",
    "                                                                                 \"M5_attack_ProjectedGradientDescent_v69_epoch_10.p\",\n",
    "                                                                                 \"M5_attack_ProjectedGradientDescent_v69_epoch_20.p\",\n",
    "                                                                                 \"M5_attack_ProjectedGradientDescent_v69_epoch_30.p\",\n",
    "                                                                                 \"M5_attack_ProjectedGradientDescent_v69_epoch_40.p\",\n",
    "                                                                                 \"M5_attack_ProjectedGradientDescent_v69.p\",\n",
    "                                                                                 \"M5_attack_ProjectedGradientDescent_v89.p\"\n",
    "\n",
    "                                                                                ])"
   ]
  },
  {
   "cell_type": "code",
   "execution_count": null,
   "metadata": {},
   "outputs": [],
   "source": []
  }
 ],
 "metadata": {
  "kernelspec": {
   "display_name": "Python 3",
   "language": "python",
   "name": "python3"
  },
  "language_info": {
   "codemirror_mode": {
    "name": "ipython",
    "version": 3
   },
   "file_extension": ".py",
   "mimetype": "text/x-python",
   "name": "python",
   "nbconvert_exporter": "python",
   "pygments_lexer": "ipython3",
   "version": "3.8.2"
  }
 },
 "nbformat": 4,
 "nbformat_minor": 4
}
