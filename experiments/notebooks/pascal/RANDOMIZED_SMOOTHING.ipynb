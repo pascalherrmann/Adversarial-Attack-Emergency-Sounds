{
 "cells": [
  {
   "cell_type": "code",
   "execution_count": 8,
   "metadata": {},
   "outputs": [],
   "source": [
    "import torch\n",
    "from classification.models.SpectrogramCNN import SpectrogramCNNPLModule\n",
    "\n",
    "state_dict_path = '/nfs/students/summer-term-2020/project-4/data/models/SpectrogramBasedCNN.pt'\n",
    "\n",
    "hparams = {\n",
    "\t\"batch_size\": 5,\n",
    "\t\"learning_rate\": 3e-4,\n",
    "\t\"weight_decay\": 0.001,\n",
    "\t\"lr_decay\": 0.95\n",
    "}\n",
    "\n",
    "model = SpectrogramCNNPLModule(hparams)\n",
    "model.model.load_state_dict(torch.load(state_dict_path))\n",
    "model = model.cuda()\n",
    "model = model.eval()"
   ]
  },
  {
   "cell_type": "code",
   "execution_count": 2,
   "metadata": {},
   "outputs": [],
   "source": [
    "%load_ext autoreload\n",
    "%autoreload 2\n",
    "\n",
    "import os\n",
    "import sys\n",
    "module_path = os.path.abspath(os.path.join('../../../src/'))\n",
    "if module_path not in sys.path:\n",
    "    sys.path.append(module_path)\n",
    "    \n",
    "[1, 48000]\n",
    "[100, 48000]\n",
    "[100, 1, 48000]"
   ]
  },
  {
   "cell_type": "code",
   "execution_count": 4,
   "metadata": {},
   "outputs": [],
   "source": [
    "from classification.models.M5 import M5, M5PLModule\n",
    "from classification.models.SpectrogramCNN import SpectrogramCNNPLModule\n",
    "\n",
    "\n",
    "model_tuples  = [(\"/nfs/students/summer-term-2020/project-4/SAVED_MODELS/SpectrogramCNN/SpectrogramCNN_attack_L_2, eps=5_v2.p\", SpectrogramCNNPLModule),\n",
    "                (\"/nfs/students/summer-term-2020/project-4/SAVED_MODELS/M5/vanilla_smoothed.p\", M5PLModule),\n",
    "                (\"/nfs/students/summer-term-2020/project-4/SAVED_MODELS/M5/vanilla_model.p\", M5PLModule),\n",
    "                (\"/nfs/students/summer-term-2020/project-4/SAVED_MODELS/M5/vanilla_adv_linf_1e-1_model.p\", M5PLModule)]\n",
    "\n"
   ]
  },
  {
   "cell_type": "code",
   "execution_count": 6,
   "metadata": {},
   "outputs": [
    {
     "name": "stdout",
     "output_type": "stream",
     "text": [
      "data-subset: 10\n",
      "Alpha 0.05\n",
      "Sigma 0.5\n",
      "num_samples_1 100\n",
      "num_samples_2 1000\n",
      "Load: /nfs/students/summer-term-2020/project-4/data/dataset1/dataset_resampled/training.p\n",
      "Load: /nfs/students/summer-term-2020/project-4/data/dataset1/dataset_resampled/validation.p\n"
     ]
    },
    {
     "data": {
      "application/vnd.jupyter.widget-view+json": {
       "model_id": "cc8a0fc4f35e4dd8bd8849b1f481f12c",
       "version_major": 2,
       "version_minor": 0
      },
      "text/plain": [
       "HBox(children=(FloatProgress(value=0.0, max=10.0), HTML(value='')))"
      ]
     },
     "metadata": {},
     "output_type": "display_data"
    },
    {
     "name": "stdout",
     "output_type": "stream",
     "text": [
      "\n",
      "\n",
      "============================================================\n",
      " SpectrogramCNN_attack_L_2, eps=5_v2.p\n",
      "avg_radius 0.5497478246688843\n",
      "correct_certified 4\n",
      "Loading cached train data from /nfs/students/summer-term-2020/project-4/data/data_8k\n",
      "Loading cached val data from /nfs/students/summer-term-2020/project-4/data/data_8k\n"
     ]
    },
    {
     "data": {
      "application/vnd.jupyter.widget-view+json": {
       "model_id": "f48e653423d549228c64a0d90a4fb00f",
       "version_major": 2,
       "version_minor": 0
      },
      "text/plain": [
       "HBox(children=(FloatProgress(value=0.0, max=10.0), HTML(value='')))"
      ]
     },
     "metadata": {},
     "output_type": "display_data"
    },
    {
     "name": "stdout",
     "output_type": "stream",
     "text": [
      "\n",
      "\n",
      "============================================================\n",
      " vanilla_smoothed.p\n",
      "avg_radius 1.0994956493377686\n",
      "correct_certified 8\n"
     ]
    },
    {
     "data": {
      "application/vnd.jupyter.widget-view+json": {
       "model_id": "7466cb776f364992922380e73c81b442",
       "version_major": 2,
       "version_minor": 0
      },
      "text/plain": [
       "HBox(children=(FloatProgress(value=0.0, max=10.0), HTML(value='')))"
      ]
     },
     "metadata": {},
     "output_type": "display_data"
    },
    {
     "name": "stdout",
     "output_type": "stream",
     "text": [
      "\n",
      "\n",
      "============================================================\n",
      " vanilla_model.p\n",
      "avg_radius 0.5497478246688843\n",
      "correct_certified 4\n"
     ]
    },
    {
     "data": {
      "application/vnd.jupyter.widget-view+json": {
       "model_id": "c3e875632ccc4813b61e58bd2d3f853e",
       "version_major": 2,
       "version_minor": 0
      },
      "text/plain": [
       "HBox(children=(FloatProgress(value=0.0, max=10.0), HTML(value='')))"
      ]
     },
     "metadata": {},
     "output_type": "display_data"
    },
    {
     "name": "stdout",
     "output_type": "stream",
     "text": [
      "\n",
      "\n",
      "============================================================\n",
      " vanilla_adv_linf_1e-1_model.p\n",
      "avg_radius 0.8246216773986816\n",
      "correct_certified 6\n"
     ]
    }
   ],
   "source": [
    "from attacks.cert.smoothing import evaluate_randomized_smoothing\n",
    "evaluate_randomized_smoothing(model_tuples, alpha=0.05, subset=10)"
   ]
  }
 ],
 "metadata": {
  "kernelspec": {
   "display_name": "Python 3",
   "language": "python",
   "name": "python3"
  },
  "language_info": {
   "codemirror_mode": {
    "name": "ipython",
    "version": 3
   },
   "file_extension": ".py",
   "mimetype": "text/x-python",
   "name": "python",
   "nbconvert_exporter": "python",
   "pygments_lexer": "ipython3",
   "version": "3.8.2"
  }
 },
 "nbformat": 4,
 "nbformat_minor": 4
}
