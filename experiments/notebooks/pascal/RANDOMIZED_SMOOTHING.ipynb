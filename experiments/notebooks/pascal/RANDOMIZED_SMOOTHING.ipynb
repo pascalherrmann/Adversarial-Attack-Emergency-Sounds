{
 "cells": [
  {
   "cell_type": "code",
   "execution_count": 1,
   "metadata": {},
   "outputs": [],
   "source": [
    "%load_ext autoreload\n",
    "%autoreload 2\n",
    "\n",
    "import os\n",
    "import sys\n",
    "module_path = os.path.abspath(os.path.join('../../../src/'))\n",
    "if module_path not in sys.path:\n",
    "    sys.path.append(module_path)"
   ]
  },
  {
   "cell_type": "code",
   "execution_count": 3,
   "metadata": {},
   "outputs": [],
   "source": [
    "from classification.models.M5 import M5, M5PLModule\n",
    "model_tuples  = [(\"/nfs/students/summer-term-2020/project-4/SAVED_MODELS/M5/vanilla_smoothed20.p\", M5PLModule),\n",
    "                (\"/nfs/students/summer-term-2020/project-4/SAVED_MODELS/M5/vanilla_smoothed.p\", M5PLModule),\n",
    "                (\"/nfs/students/summer-term-2020/project-4/SAVED_MODELS/M5/vanilla_model.p\", M5PLModule),\n",
    "                (\"/nfs/students/summer-term-2020/project-4/SAVED_MODELS/M5/vanilla_adv_linf_1e-1_model.p\", M5PLModule)]\n",
    "\n"
   ]
  },
  {
   "cell_type": "code",
   "execution_count": 5,
   "metadata": {},
   "outputs": [
    {
     "name": "stdout",
     "output_type": "stream",
     "text": [
      "data-subset: 10\n",
      "Alpha 0.05\n",
      "Sigma 0.5\n",
      "num_samples_1 100\n",
      "num_samples_2 1000\n",
      "Loading cached train data from /nfs/students/summer-term-2020/project-4/data/data_8k\n",
      "Loading cached val data from /nfs/students/summer-term-2020/project-4/data/data_8k\n"
     ]
    },
    {
     "data": {
      "application/vnd.jupyter.widget-view+json": {
       "model_id": "2ff9b1cc33e744c6a30ca4ab27a9d1d5",
       "version_major": 2,
       "version_minor": 0
      },
      "text/plain": [
       "HBox(children=(FloatProgress(value=0.0, max=10.0), HTML(value='')))"
      ]
     },
     "metadata": {},
     "output_type": "display_data"
    },
    {
     "name": "stdout",
     "output_type": "stream",
     "text": [
      "\n",
      "\n",
      "============================================================\n",
      " vanilla_smoothed20.p\n",
      "avg_radius 1.0994956493377686\n",
      "correct_certified 8\n"
     ]
    },
    {
     "data": {
      "application/vnd.jupyter.widget-view+json": {
       "model_id": "356cc5ac3e1c4309a087dbc728666467",
       "version_major": 2,
       "version_minor": 0
      },
      "text/plain": [
       "HBox(children=(FloatProgress(value=0.0, max=10.0), HTML(value='')))"
      ]
     },
     "metadata": {},
     "output_type": "display_data"
    },
    {
     "name": "stdout",
     "output_type": "stream",
     "text": [
      "\n",
      "\n",
      "============================================================\n",
      " vanilla_smoothed.p\n",
      "avg_radius 1.0994956493377686\n",
      "correct_certified 8\n"
     ]
    },
    {
     "data": {
      "application/vnd.jupyter.widget-view+json": {
       "model_id": "0dc42e3927d54ca5bad97f9d55e577ff",
       "version_major": 2,
       "version_minor": 0
      },
      "text/plain": [
       "HBox(children=(FloatProgress(value=0.0, max=10.0), HTML(value='')))"
      ]
     },
     "metadata": {},
     "output_type": "display_data"
    },
    {
     "name": "stdout",
     "output_type": "stream",
     "text": [
      "\n",
      "\n",
      "============================================================\n",
      " vanilla_model.p\n",
      "avg_radius 0.5497478246688843\n",
      "correct_certified 4\n"
     ]
    },
    {
     "data": {
      "application/vnd.jupyter.widget-view+json": {
       "model_id": "7150118354c04ce1987158f115ea21d8",
       "version_major": 2,
       "version_minor": 0
      },
      "text/plain": [
       "HBox(children=(FloatProgress(value=0.0, max=10.0), HTML(value='')))"
      ]
     },
     "metadata": {},
     "output_type": "display_data"
    },
    {
     "name": "stdout",
     "output_type": "stream",
     "text": [
      "\n",
      "\n",
      "============================================================\n",
      " vanilla_adv_linf_1e-1_model.p\n",
      "avg_radius 0.8246216773986816\n",
      "correct_certified 6\n"
     ]
    }
   ],
   "source": [
    "from attacks.cert.smoothing import evaluate_randomized_smoothing\n",
    "evaluate_randomized_smoothing(model_tuples, alpha=0.05, subset=10)"
   ]
  }
 ],
 "metadata": {
  "kernelspec": {
   "display_name": "Python 3",
   "language": "python",
   "name": "python3"
  },
  "language_info": {
   "codemirror_mode": {
    "name": "ipython",
    "version": 3
   },
   "file_extension": ".py",
   "mimetype": "text/x-python",
   "name": "python",
   "nbconvert_exporter": "python",
   "pygments_lexer": "ipython3",
   "version": "3.8.2"
  }
 },
 "nbformat": 4,
 "nbformat_minor": 4
}
