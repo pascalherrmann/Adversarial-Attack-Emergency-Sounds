{
 "cells": [
  {
   "cell_type": "code",
   "execution_count": 2,
   "metadata": {},
   "outputs": [
    {
     "name": "stdout",
     "output_type": "stream",
     "text": [
      "The autoreload extension is already loaded. To reload it, use:\n",
      "  %reload_ext autoreload\n"
     ]
    }
   ],
   "source": [
    "%load_ext autoreload\n",
    "%autoreload 2\n",
    "\n",
    "import os\n",
    "import sys\n",
    "module_path = os.path.abspath(os.path.join('../../../src/'))\n",
    "if module_path not in sys.path:\n",
    "    sys.path.append(module_path)"
   ]
  },
  {
   "cell_type": "code",
   "execution_count": 3,
   "metadata": {},
   "outputs": [
    {
     "name": "stderr",
     "output_type": "stream",
     "text": [
      "/nfs/homedirs/herrmanp/miniconda3/envs/ml/lib/python3.8/site-packages/librosa/util/decorators.py:9: NumbaDeprecationWarning: An import was requested from a module that has moved location.\n",
      "Import requested from: 'numba.decorators', please update to use 'numba.core.decorators' or pin to Numba version 0.48.0. This alias will not be present in Numba version 0.50.0.\n",
      "  from numba.decorators import jit as optional_jit\n",
      "/nfs/homedirs/herrmanp/miniconda3/envs/ml/lib/python3.8/site-packages/librosa/util/decorators.py:9: NumbaDeprecationWarning: An import was requested from a module that has moved location.\n",
      "Import of 'jit' requested from: 'numba.decorators', please update to use 'numba.core.decorators' or pin to Numba version 0.48.0. This alias will not be present in Numba version 0.50.0.\n",
      "  from numba.decorators import jit as optional_jit\n"
     ]
    }
   ],
   "source": [
    "import numpy as np\n",
    "import torch\n",
    "import time\n",
    "import pytorch_lightning as pl\n",
    "from pytorch_lightning import loggers\n",
    "import config\n",
    "from utils.Visual import draw_plot"
   ]
  },
  {
   "cell_type": "code",
   "execution_count": 4,
   "metadata": {},
   "outputs": [
    {
     "name": "stdout",
     "output_type": "stream",
     "text": [
      "loaded!\n",
      "============================================================\n",
      "Training Models with Attack ProjectedGradientDescent (1 of 1)\n",
      "============================================================\n",
      "------------------------------------------------------------\n",
      "Trainig model 1/1\n",
      "------------------------------------------------------------\n",
      "Load: /nfs/students/summer-term-2020/project-4/data/dataset1/dataset_resampled/training.p\n",
      "Load: /nfs/students/summer-term-2020/project-4/data/dataset1/dataset_resampled/validation.p\n"
     ]
    },
    {
     "name": "stderr",
     "output_type": "stream",
     "text": [
      "GPU available: True, used: True\n",
      "No environment variable for node rank defined. Set as 0.\n",
      "CUDA_VISIBLE_DEVICES: [0]\n",
      "/nfs/homedirs/herrmanp/miniconda3/envs/ml/lib/python3.8/site-packages/pytorch_lightning/utilities/distributed.py:23: RuntimeWarning: You have defined a `val_dataloader()` and have defined a `validation_step()`, you may also want to define `validation_epoch_end()` for accumulating stats.\n",
      "  warnings.warn(*args, **kwargs)\n",
      "Set SLURM handle signals.\n",
      "\n",
      "   | Name        | Type             | Params\n",
      "---------------------------------------------\n",
      "0  | model       | DeepRecursiveCNN | 2 M   \n",
      "1  | model.bn0   | BatchNorm1d      | 2     \n",
      "2  | model.conv1 | Conv1d           | 10 K  \n",
      "3  | model.bn1   | BatchNorm1d      | 256   \n",
      "4  | model.pool1 | MaxPool1d        | 0     \n",
      "5  | model.drop1 | Dropout          | 0     \n",
      "6  | model.conv2 | Conv1d           | 98 K  \n",
      "7  | model.bn2   | BatchNorm1d      | 512   \n",
      "8  | model.pool2 | MaxPool1d        | 0     \n",
      "9  | model.conv3 | Conv1d           | 393 K \n",
      "10 | model.bn3   | BatchNorm1d      | 1 K   \n",
      "11 | model.pool3 | MaxPool1d        | 0     \n",
      "12 | model.conv4 | Conv1d           | 1 M   \n",
      "13 | model.bn4   | BatchNorm1d      | 2 K   \n",
      "14 | model.pool4 | MaxPool1d        | 0     \n",
      "15 | model.fc1   | Linear           | 102 K \n",
      "16 | model.fcN   | Linear           | 1 K   \n",
      "/nfs/homedirs/herrmanp/miniconda3/envs/ml/lib/python3.8/site-packages/pytorch_lightning/utilities/distributed.py:23: UserWarning: The dataloader, val dataloader 0, does not have many workers which may be a bottleneck. Consider increasing the value of the `num_workers` argument` in the `DataLoader` init to improve performance.\n",
      "  warnings.warn(*args, **kwargs)\n"
     ]
    },
    {
     "data": {
      "application/vnd.jupyter.widget-view+json": {
       "model_id": "",
       "version_major": 2,
       "version_minor": 0
      },
      "text/plain": [
       "HBox(children=(FloatProgress(value=1.0, bar_style='info', description='Validation sanity check', layout=Layout…"
      ]
     },
     "metadata": {},
     "output_type": "display_data"
    },
    {
     "name": "stdout",
     "output_type": "stream",
     "text": [
      "Val-Acc=0.005927682276229994\n"
     ]
    },
    {
     "name": "stderr",
     "output_type": "stream",
     "text": [
      "/nfs/homedirs/herrmanp/miniconda3/envs/ml/lib/python3.8/site-packages/pytorch_lightning/utilities/distributed.py:23: UserWarning: The dataloader, train dataloader, does not have many workers which may be a bottleneck. Consider increasing the value of the `num_workers` argument` in the `DataLoader` init to improve performance.\n",
      "  warnings.warn(*args, **kwargs)\n"
     ]
    },
    {
     "data": {
      "application/vnd.jupyter.widget-view+json": {
       "model_id": "a26f70d503634210bafbe158cb9e4641",
       "version_major": 2,
       "version_minor": 0
      },
      "text/plain": [
       "HBox(children=(FloatProgress(value=1.0, bar_style='info', description='Training', layout=Layout(flex='2'), max…"
      ]
     },
     "metadata": {},
     "output_type": "display_data"
    },
    {
     "data": {
      "application/vnd.jupyter.widget-view+json": {
       "model_id": "",
       "version_major": 2,
       "version_minor": 0
      },
      "text/plain": [
       "HBox(children=(FloatProgress(value=1.0, bar_style='info', description='Validating', layout=Layout(flex='2'), m…"
      ]
     },
     "metadata": {},
     "output_type": "display_data"
    },
    {
     "name": "stdout",
     "output_type": "stream",
     "text": [
      "Val-Acc=0.7830468286899822\n"
     ]
    },
    {
     "data": {
      "application/vnd.jupyter.widget-view+json": {
       "model_id": "",
       "version_major": 2,
       "version_minor": 0
      },
      "text/plain": [
       "HBox(children=(FloatProgress(value=1.0, bar_style='info', description='Validating', layout=Layout(flex='2'), m…"
      ]
     },
     "metadata": {},
     "output_type": "display_data"
    },
    {
     "name": "stdout",
     "output_type": "stream",
     "text": [
      "Val-Acc=0.7101363366923533\n",
      "\n",
      "Saved model to \"/nfs/students/summer-term-2020/project-4/SAVED_MODELS/DeepRecursiveCNN/DeepRecursiveCNN_attack_L_2, eps=5_v1.p\"\n",
      "============================================================\n",
      "Trained Models:\n",
      "============================================================\n",
      "['/nfs/students/summer-term-2020/project-4/SAVED_MODELS/DeepRecursiveCNN/DeepRecursiveCNN_attack_L_2, eps=5_v1.p']\n"
     ]
    }
   ],
   "source": [
    "##############################################################################################################\n",
    "##############################################################################################################\n",
    "##############################################################################################################\n",
    "from utils.TrainHelper import TrainHelper, get_all_models_data\n",
    "from attacks.pgd import ProjectedGradientDescent\n",
    "from classification.models.M5 import M5PLModule\n",
    "from classification.models.SpectrogramCNN import SpectrogramCNNPLModule\n",
    "from classification.models.DeepRecursiveCNN import DeepRecursiveCNNPLModule\n",
    "\n",
    "# define hyperparameters\n",
    "hparams = {\n",
    "    \"batch_size\": 8,\n",
    "    \"learning_rate\": 3e-4,\n",
    "    \"weight_decay\": 0.1,\n",
    "    \"lr_decay\": 0.95,\n",
    "    \"epochs\": 2\n",
    "}\n",
    "\n",
    "# define attack configs\n",
    "attack_configs = [\n",
    "                  {\"ATTACK_CLASS\": ProjectedGradientDescent, \n",
    "                   \"ATTACK_ARGS\": {\"norm\":[\"inf\"], \n",
    "                                   \"epsilon\":[ 0.01\n",
    "                                     ], \"num_iter\": [1]\n",
    "                                 },\n",
    "                   \"META\": {\"TITLE\": \"L_2, eps=5\"}\n",
    "                   }\n",
    "                  ]\n",
    "\n",
    "th = TrainHelper()\n",
    "th.run(DeepRecursiveCNNPLModule, hparams, attack_configs, save_epochs = [100])\n",
    "##############################################################################################################\n",
    "##############################################################################################################\n",
    "##############################################################################################################"
   ]
  }
 ],
 "metadata": {
  "kernelspec": {
   "display_name": "Python 3",
   "language": "python",
   "name": "python3"
  },
  "language_info": {
   "codemirror_mode": {
    "name": "ipython",
    "version": 3
   },
   "file_extension": ".py",
   "mimetype": "text/x-python",
   "name": "python",
   "nbconvert_exporter": "python",
   "pygments_lexer": "ipython3",
   "version": "3.8.2"
  }
 },
 "nbformat": 4,
 "nbformat_minor": 4
}
