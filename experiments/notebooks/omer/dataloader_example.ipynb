{
 "cells": [
  {
   "cell_type": "code",
   "execution_count": 55,
   "metadata": {
    "ExecuteTime": {
     "end_time": "2020-06-09T09:14:00.660748Z",
     "start_time": "2020-06-09T09:13:59.672167Z"
    }
   },
   "outputs": [
    {
     "name": "stdout",
     "output_type": "stream",
     "text": [
      "The autoreload extension is already loaded. To reload it, use:\n",
      "  %reload_ext autoreload\n"
     ]
    }
   ],
   "source": [
    "import os\n",
    "import sys\n",
    "module_path = os.path.abspath(os.path.join('../../../src/'))\n",
    "if module_path not in sys.path:\n",
    "    sys.path.append(module_path)\n",
    "    \n",
    "from classification.models.crnn.model import AudioCRNN # this might change depending on import mechanism\n",
    "\n",
    "import torch\n",
    "from datasets.audioset import Audioset\n",
    "from torchvision import transforms\n",
    "from torch.utils.data import DataLoader\n",
    "\n",
    "%load_ext autoreload\n",
    "%autoreload 2"
   ]
  },
  {
   "cell_type": "code",
   "execution_count": 56,
   "metadata": {
    "ExecuteTime": {
     "end_time": "2020-06-09T09:14:01.598302Z",
     "start_time": "2020-06-09T09:14:01.566417Z"
    }
   },
   "outputs": [],
   "source": [
    "device = 'cuda' if torch.cuda.is_available() else 'cpu'"
   ]
  },
  {
   "cell_type": "markdown",
   "metadata": {},
   "source": [
    "## CRNN\n",
    "\n",
    "Zero pads input to max length in batch. Required for Pytorch RNN's.\n",
    "\n",
    "Note that `fixed_padding=False` is given to Audioset instance and `collate_fn=audio_set_val.pad_seq` is given to Dataloader."
   ]
  },
  {
   "cell_type": "code",
   "execution_count": null,
   "metadata": {},
   "outputs": [],
   "source": [
    "# audio_set_tr = Audioset(split_mode='training', transforms=dataset_transforms)\n",
    "# audio_set_val = Audioset(split_mode='validation', transforms=dataset_transforms)\n",
    "audio_set_val = Audioset(split_mode='validation', fixed_padding=False)\n",
    "# tr_loader = DataLoader(audio_set_tr, batch_size=32)"
   ]
  },
  {
   "cell_type": "code",
   "execution_count": null,
   "metadata": {},
   "outputs": [],
   "source": [
    "val_loader = DataLoader(audio_set_val, batch_size=2, collate_fn=audio_set_val.pad_seq)"
   ]
  },
  {
   "cell_type": "code",
   "execution_count": null,
   "metadata": {},
   "outputs": [],
   "source": [
    "res_path = '/nfs/students/summer-term-2020/project-4/data/models/crnn.pth'\n",
    "checkpoint = torch.load(res_path)\n",
    "\n",
    "model = AudioCRNN(checkpoint['classes'], checkpoint['config'])\n",
    "model.load_state_dict(checkpoint['state_dict'])\n",
    "model = model.to(device) \n",
    "model.eval()"
   ]
  },
  {
   "cell_type": "code",
   "execution_count": null,
   "metadata": {},
   "outputs": [],
   "source": [
    "for i, data in enumerate(val_loader):\n",
    "    data = {k:v.to(device) for k,v in data.items()}\n",
    "    batch = {\n",
    "        'audio': data['audio'],\n",
    "        'lengths': data['lengths']\n",
    "    }\n",
    "    print(model(batch))\n",
    "    break"
   ]
  },
  {
   "cell_type": "markdown",
   "metadata": {},
   "source": [
    "## RecursiveCNN\n",
    "\n",
    "Zero pads input to max length of dataset.\n",
    "\n",
    "Note that `fixed_padding=True` is given to Audioset instance."
   ]
  },
  {
   "cell_type": "code",
   "execution_count": null,
   "metadata": {},
   "outputs": [],
   "source": [
    "audio_set_val = Audioset(split_mode='validation', fixed_padding=True)\n",
    "val_loader = DataLoader(audio_set_val, batch_size=1)"
   ]
  },
  {
   "cell_type": "code",
   "execution_count": null,
   "metadata": {},
   "outputs": [],
   "source": [
    "from classification.models.DeepRecursiveCNN import DeepRecursiveCNN\n",
    "\n",
    "model_state_dict_path = \"/nfs/students/summer-term-2020/project-4/data/models/DeepRecursiveCNN.pt\"\n",
    "model = DeepRecursiveCNN()\n",
    "model.load_state_dict(torch.load(model_state_dict_path))\n",
    "model = model.eval()\n",
    "model = model.to(device) "
   ]
  },
  {
   "cell_type": "code",
   "execution_count": null,
   "metadata": {},
   "outputs": [],
   "source": [
    "for i, data in enumerate(val_loader):\n",
    "    data = {k:v.to(device) for k,v in data.items()}\n",
    "    batch = {\n",
    "        'audio': data['audio']\n",
    "    }\n",
    "    print(model(batch))\n",
    "    break"
   ]
  },
  {
   "cell_type": "code",
   "execution_count": null,
   "metadata": {},
   "outputs": [],
   "source": []
  }
 ],
 "metadata": {
  "kernelspec": {
   "display_name": "Python 3",
   "language": "python",
   "name": "python3"
  },
  "language_info": {
   "codemirror_mode": {
    "name": "ipython",
    "version": 3
   },
   "file_extension": ".py",
   "mimetype": "text/x-python",
   "name": "python",
   "nbconvert_exporter": "python",
   "pygments_lexer": "ipython3",
   "version": "3.7.7"
  }
 },
 "nbformat": 4,
 "nbformat_minor": 4
}
