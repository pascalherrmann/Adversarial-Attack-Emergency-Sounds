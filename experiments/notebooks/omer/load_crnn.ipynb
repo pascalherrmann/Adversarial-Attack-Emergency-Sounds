{
 "cells": [
  {
   "cell_type": "code",
   "execution_count": 1,
   "metadata": {
    "ExecuteTime": {
     "end_time": "2020-07-03T09:42:53.909917Z",
     "start_time": "2020-07-03T09:42:53.904019Z"
    }
   },
   "outputs": [],
   "source": [
    "import os\n",
    "import sys\n",
    "module_path = os.path.abspath(os.path.join('../../../src/'))\n",
    "if module_path not in sys.path:\n",
    "    sys.path.append(module_path)"
   ]
  },
  {
   "cell_type": "code",
   "execution_count": 2,
   "metadata": {
    "ExecuteTime": {
     "end_time": "2020-07-03T09:42:55.264580Z",
     "start_time": "2020-07-03T09:42:54.639191Z"
    }
   },
   "outputs": [],
   "source": [
    "from classification.models.crnn.model import AudioCRNN # this might change depending on import mechanism\n",
    "import torch"
   ]
  },
  {
   "cell_type": "code",
   "execution_count": 3,
   "metadata": {
    "ExecuteTime": {
     "end_time": "2020-07-03T09:43:09.279255Z",
     "start_time": "2020-07-03T09:42:59.632815Z"
    }
   },
   "outputs": [],
   "source": [
    "res_path = '/nfs/students/summer-term-2020/project-4/data/models/crnn.pth'\n",
    "checkpoint = torch.load(res_path)\n",
    "\n",
    "#model = AudioCRNN(checkpoint['classes'], checkpoint['config'])\n",
    "#model.load_state_dict(checkpoint['state_dict'])"
   ]
  },
  {
   "cell_type": "code",
   "execution_count": 5,
   "metadata": {},
   "outputs": [
    {
     "data": {
      "text/plain": [
       "'1.5.0'"
      ]
     },
     "execution_count": 5,
     "metadata": {},
     "output_type": "execute_result"
    }
   ],
   "source": [
    "torch.__version__"
   ]
  },
  {
   "cell_type": "code",
   "execution_count": null,
   "metadata": {},
   "outputs": [],
   "source": []
  }
 ],
 "metadata": {
  "kernelspec": {
   "display_name": "Python 3",
   "language": "python",
   "name": "python3"
  },
  "language_info": {
   "codemirror_mode": {
    "name": "ipython",
    "version": 3
   },
   "file_extension": ".py",
   "mimetype": "text/x-python",
   "name": "python",
   "nbconvert_exporter": "python",
   "pygments_lexer": "ipython3",
   "version": "3.8.2"
  }
 },
 "nbformat": 4,
 "nbformat_minor": 4
}
